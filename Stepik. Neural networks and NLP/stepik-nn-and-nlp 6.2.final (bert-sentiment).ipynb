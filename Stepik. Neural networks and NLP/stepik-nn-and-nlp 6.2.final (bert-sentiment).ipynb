{
 "cells": [
  {
   "cell_type": "code",
   "execution_count": 1,
   "id": "aaabcd89",
   "metadata": {
    "execution": {
     "iopub.execute_input": "2022-04-22T12:47:05.494673Z",
     "iopub.status.busy": "2022-04-22T12:47:05.493793Z",
     "iopub.status.idle": "2022-04-22T12:47:05.497049Z",
     "shell.execute_reply": "2022-04-22T12:47:05.497469Z",
     "shell.execute_reply.started": "2022-04-21T07:12:15.938773Z"
    },
    "papermill": {
     "duration": 0.052903,
     "end_time": "2022-04-22T12:47:05.497687",
     "exception": false,
     "start_time": "2022-04-22T12:47:05.444784",
     "status": "completed"
    },
    "tags": []
   },
   "outputs": [],
   "source": [
    "# This Python 3 environment comes with many helpful analytics libraries installed\n",
    "# It is defined by the kaggle/python Docker image: https://github.com/kaggle/docker-python\n",
    "# For example, here's several helpful packages to load\n",
    "\n",
    "import numpy as np # linear algebra\n",
    "import pandas as pd # data processing, CSV file I/O (e.g. pd.read_csv)\n",
    "\n",
    "# Input data files are available in the read-only \"../input/\" directory\n",
    "# For example, running this (by clicking run or pressing Shift+Enter) will list all files under the input directory\n",
    "\n",
    "import os\n",
    "for dirname, _, filenames in os.walk('/kaggle/input'):\n",
    "    for filename in filenames:\n",
    "        print(os.path.join(dirname, filename))\n",
    "\n",
    "# You can write up to 20GB to the current directory (/kaggle/working/) that gets preserved as output when you create a version using \"Save & Run All\" \n",
    "# You can also write temporary files to /kaggle/temp/, but they won't be saved outside of the current session"
   ]
  },
  {
   "cell_type": "raw",
   "id": "b3571e8d",
   "metadata": {
    "papermill": {
     "duration": 0.03673,
     "end_time": "2022-04-22T12:47:05.573417",
     "exception": false,
     "start_time": "2022-04-22T12:47:05.536687",
     "status": "completed"
    },
    "tags": []
   },
   "source": [
    "Исходное задание.\n",
    "\n",
    "В качестве домашнего задания мы предлагаем Вам попробовать дообучить BERT на более традиционном датасете - коллекции отзывов на фильмы (IMDB Dataset of 50K Movie Reviews).\n",
    "\n",
    "На первый взгляд, задание кажется очень простым: Вам нужно перезапустить код семинара, подав на дообучение другие данные. После выполнения этого несложного упражнения, ответьте на вопросы:\n",
    "1. Удалось ли достичь такого же accuracy (98\\%) при использовании IMDB датасета?\n",
    "2. Удалось ли получить хорошее качество классификации всего за одну эпоху?\n",
    "3. Подумайте, в чем может быть причина различий в дообучении одной и той же модели на разных датасетах\n",
    "    - Внимательно изучите датасет с русскими твитами. В чем его особенности? Нет ли явных паттернов или ключевых слов, которые однозначно определяют сентимент твита?\n",
    "    - Попробуйте удалить пунктуацию из датасета с русскими твитами и перезапустите дообучение модели. Изменилось ли итоговое качество работы модели? Почему?"
   ]
  },
  {
   "cell_type": "raw",
   "id": "d96dd542",
   "metadata": {
    "papermill": {
     "duration": 0.036702,
     "end_time": "2022-04-22T12:47:05.648695",
     "exception": false,
     "start_time": "2022-04-22T12:47:05.611993",
     "status": "completed"
    },
    "tags": []
   },
   "source": [
    "Итоговое задание для меня:\n",
    "    + Запустить и сохранить через Save Version текущую версию ноутбука (с твитами), без использования импортов из dlnlputils\n",
    "    - Понять код семинара, где нужно добавить дополнительные комментарии\n",
    "        - разобраться с вопросами из комментариев, в особенности про саму выбранную модель берт, является ли они мультиязычной или нет и т.п.\n",
    "    - Запустить BERT на более традиционном датасете - коллекции отзывов на фильмы (IMDB Dataset of 50K Movie Reviews)\n",
    "    - Ответить на вопросы:\n",
    "        - Удалось ли достичь такого же accuracy (98%) при использовании IMDB датасета?\n",
    "        - Удалось ли получить хорошее качество классификации всего за одну эпоху?\n",
    "        - Подумайте, в чем может быть причина различий в дообучении одной и той же модели на разных датасетах\n",
    "            + Внимательно изучите датасет с русскими твитами. В чем его особенности? Нет ли явных паттернов или ключевых слов, \n",
    "              которые однозначно определяют сентимент твита? = огромный процент (>90%) позитивных спайлов в позитивных твитах и негативных в негативных \n",
    "            - Попробуйте удалить пунктуацию из датасета с русскими твитами и перезапустите дообучение модели. Изменилось ли итоговое качество работы модели? Почему?"
   ]
  },
  {
   "cell_type": "markdown",
   "id": "5acad32c",
   "metadata": {
    "id": "jNKaJz5j_ylj",
    "papermill": {
     "duration": 0.03682,
     "end_time": "2022-04-22T12:47:05.722520",
     "exception": false,
     "start_time": "2022-04-22T12:47:05.685700",
     "status": "completed"
    },
    "tags": []
   },
   "source": [
    "# Определение эмоциональной окраски твитов с помощью BERT"
   ]
  },
  {
   "cell_type": "code",
   "execution_count": 2,
   "id": "17733f1d",
   "metadata": {
    "execution": {
     "iopub.execute_input": "2022-04-22T12:47:05.801662Z",
     "iopub.status.busy": "2022-04-22T12:47:05.801095Z",
     "iopub.status.idle": "2022-04-22T12:47:05.804465Z",
     "shell.execute_reply": "2022-04-22T12:47:05.804009Z",
     "shell.execute_reply.started": "2022-04-21T07:12:15.994016Z"
    },
    "papermill": {
     "duration": 0.044843,
     "end_time": "2022-04-22T12:47:05.804646",
     "exception": false,
     "start_time": "2022-04-22T12:47:05.759803",
     "status": "completed"
    },
    "tags": []
   },
   "outputs": [],
   "source": [
    "# Если Вы запускаете ноутбук на colab или kaggle,\n",
    "# выполните следующие строчки, чтобы подгрузить библиотеку dlnlputils:\n",
    "\n",
    "# !git clone https://github.com/Samsung-IT-Academy/stepik-dl-nlp.git && pip install -r stepik-dl-nlp/requirements.txt\n",
    "# import sys; sys.path.append('./stepik-dl-nlp')"
   ]
  },
  {
   "cell_type": "markdown",
   "id": "4dab3b8b",
   "metadata": {
    "id": "RX_ZDhicpHkV",
    "papermill": {
     "duration": 0.037036,
     "end_time": "2022-04-22T12:47:05.878633",
     "exception": false,
     "start_time": "2022-04-22T12:47:05.841597",
     "status": "completed"
    },
    "tags": []
   },
   "source": [
    "## Установка библиотек"
   ]
  },
  {
   "cell_type": "code",
   "execution_count": 3,
   "id": "d53b3d5e",
   "metadata": {
    "execution": {
     "iopub.execute_input": "2022-04-22T12:47:05.961869Z",
     "iopub.status.busy": "2022-04-22T12:47:05.961019Z",
     "iopub.status.idle": "2022-04-22T12:47:16.547516Z",
     "shell.execute_reply": "2022-04-22T12:47:16.546614Z",
     "shell.execute_reply.started": "2022-04-21T07:12:16.03718Z"
    },
    "id": "0NmMdkZO8R6q",
    "outputId": "1cc59bfa-1dbb-4540-cb22-196f399f62af",
    "papermill": {
     "duration": 10.632049,
     "end_time": "2022-04-22T12:47:16.547658",
     "exception": false,
     "start_time": "2022-04-22T12:47:05.915609",
     "status": "completed"
    },
    "tags": []
   },
   "outputs": [
    {
     "name": "stdout",
     "output_type": "stream",
     "text": [
      "Collecting pytorch-transformers\r\n",
      "  Downloading pytorch_transformers-1.2.0-py3-none-any.whl (176 kB)\r\n",
      "     |████████████████████████████████| 176 kB 291 kB/s            \r\n",
      "\u001b[?25hRequirement already satisfied: regex in /opt/conda/lib/python3.7/site-packages (from pytorch-transformers) (2021.11.10)\r\n",
      "Requirement already satisfied: sentencepiece in /opt/conda/lib/python3.7/site-packages (from pytorch-transformers) (0.1.96)\r\n",
      "Requirement already satisfied: requests in /opt/conda/lib/python3.7/site-packages (from pytorch-transformers) (2.26.0)\r\n",
      "Requirement already satisfied: tqdm in /opt/conda/lib/python3.7/site-packages (from pytorch-transformers) (4.62.3)\r\n",
      "Requirement already satisfied: boto3 in /opt/conda/lib/python3.7/site-packages (from pytorch-transformers) (1.21.20)\r\n",
      "Requirement already satisfied: torch>=1.0.0 in /opt/conda/lib/python3.7/site-packages (from pytorch-transformers) (1.9.1)\r\n",
      "Requirement already satisfied: sacremoses in /opt/conda/lib/python3.7/site-packages (from pytorch-transformers) (0.0.49)\r\n",
      "Requirement already satisfied: numpy in /opt/conda/lib/python3.7/site-packages (from pytorch-transformers) (1.20.3)\r\n",
      "Requirement already satisfied: typing-extensions in /opt/conda/lib/python3.7/site-packages (from torch>=1.0.0->pytorch-transformers) (4.1.1)\r\n",
      "Requirement already satisfied: s3transfer<0.6.0,>=0.5.0 in /opt/conda/lib/python3.7/site-packages (from boto3->pytorch-transformers) (0.5.2)\r\n",
      "Requirement already satisfied: jmespath<1.0.0,>=0.7.1 in /opt/conda/lib/python3.7/site-packages (from boto3->pytorch-transformers) (0.10.0)\r\n",
      "Requirement already satisfied: botocore<1.25.0,>=1.24.20 in /opt/conda/lib/python3.7/site-packages (from boto3->pytorch-transformers) (1.24.20)\r\n",
      "Requirement already satisfied: charset-normalizer~=2.0.0 in /opt/conda/lib/python3.7/site-packages (from requests->pytorch-transformers) (2.0.9)\r\n",
      "Requirement already satisfied: idna<4,>=2.5 in /opt/conda/lib/python3.7/site-packages (from requests->pytorch-transformers) (3.1)\r\n",
      "Requirement already satisfied: urllib3<1.27,>=1.21.1 in /opt/conda/lib/python3.7/site-packages (from requests->pytorch-transformers) (1.26.7)\r\n",
      "Requirement already satisfied: certifi>=2017.4.17 in /opt/conda/lib/python3.7/site-packages (from requests->pytorch-transformers) (2021.10.8)\r\n",
      "Requirement already satisfied: click in /opt/conda/lib/python3.7/site-packages (from sacremoses->pytorch-transformers) (8.0.3)\r\n",
      "Requirement already satisfied: joblib in /opt/conda/lib/python3.7/site-packages (from sacremoses->pytorch-transformers) (1.1.0)\r\n",
      "Requirement already satisfied: six in /opt/conda/lib/python3.7/site-packages (from sacremoses->pytorch-transformers) (1.16.0)\r\n",
      "Requirement already satisfied: python-dateutil<3.0.0,>=2.1 in /opt/conda/lib/python3.7/site-packages (from botocore<1.25.0,>=1.24.20->boto3->pytorch-transformers) (2.8.2)\r\n",
      "Requirement already satisfied: importlib-metadata in /opt/conda/lib/python3.7/site-packages (from click->sacremoses->pytorch-transformers) (4.11.3)\r\n",
      "Requirement already satisfied: zipp>=0.5 in /opt/conda/lib/python3.7/site-packages (from importlib-metadata->click->sacremoses->pytorch-transformers) (3.6.0)\r\n",
      "Installing collected packages: pytorch-transformers\r\n",
      "Successfully installed pytorch-transformers-1.2.0\r\n",
      "\u001b[33mWARNING: Running pip as the 'root' user can result in broken permissions and conflicting behaviour with the system package manager. It is recommended to use a virtual environment instead: https://pip.pypa.io/warnings/venv\u001b[0m\r\n"
     ]
    }
   ],
   "source": [
    "!pip install pytorch-transformers"
   ]
  },
  {
   "cell_type": "code",
   "execution_count": 4,
   "id": "b3266019",
   "metadata": {
    "execution": {
     "iopub.execute_input": "2022-04-22T12:47:16.638186Z",
     "iopub.status.busy": "2022-04-22T12:47:16.637412Z",
     "iopub.status.idle": "2022-04-22T12:47:23.578657Z",
     "shell.execute_reply": "2022-04-22T12:47:23.578158Z",
     "shell.execute_reply.started": "2022-04-22T12:11:34.408346Z"
    },
    "id": "Ok002ceNB8E7",
    "outputId": "06ef90d2-7518-4209-da66-1dd45c357c78",
    "papermill": {
     "duration": 6.988414,
     "end_time": "2022-04-22T12:47:23.578791",
     "exception": false,
     "start_time": "2022-04-22T12:47:16.590377",
     "status": "completed"
    },
    "tags": []
   },
   "outputs": [],
   "source": [
    "import torch\n",
    "from torch.utils.data import TensorDataset, DataLoader, RandomSampler, SequentialSampler\n",
    "from keras.preprocessing.sequence import pad_sequences\n",
    "from sklearn.model_selection import train_test_split\n",
    "from pytorch_transformers import BertTokenizer, BertConfig\n",
    "from pytorch_transformers import AdamW, BertForSequenceClassification\n",
    "from tqdm import tqdm, trange\n",
    "import pandas as pd\n",
    "import io\n",
    "import numpy as np\n",
    "from sklearn.metrics import accuracy_score\n",
    "import matplotlib.pyplot as plt"
   ]
  },
  {
   "cell_type": "code",
   "execution_count": 5,
   "id": "5fa859aa",
   "metadata": {
    "execution": {
     "iopub.execute_input": "2022-04-22T12:47:23.730941Z",
     "iopub.status.busy": "2022-04-22T12:47:23.730220Z",
     "iopub.status.idle": "2022-04-22T12:47:23.733391Z",
     "shell.execute_reply": "2022-04-22T12:47:23.733804Z",
     "shell.execute_reply.started": "2022-04-21T07:12:57.24598Z"
    },
    "id": "oYsV4H8fCpZ-",
    "outputId": "b8812c8e-3149-475f-b4c0-262160485c39",
    "papermill": {
     "duration": 0.11395,
     "end_time": "2022-04-22T12:47:23.733944",
     "exception": false,
     "start_time": "2022-04-22T12:47:23.619994",
     "status": "completed"
    },
    "tags": []
   },
   "outputs": [
    {
     "name": "stdout",
     "output_type": "stream",
     "text": [
      "Tesla P100-PCIE-16GB\n"
     ]
    }
   ],
   "source": [
    "device = torch.device(\"cuda\" if torch.cuda.is_available() else \"cpu\")\n",
    "if device.type == 'cpu':\n",
    "    print('cpu')\n",
    "else:\n",
    "    n_gpu = torch.cuda.device_count()\n",
    "    print(torch.cuda.get_device_name(0))"
   ]
  },
  {
   "cell_type": "markdown",
   "id": "46b6a28b",
   "metadata": {
    "id": "guw6ZNtaswKc",
    "papermill": {
     "duration": 0.041881,
     "end_time": "2022-04-22T12:47:23.818186",
     "exception": false,
     "start_time": "2022-04-22T12:47:23.776305",
     "status": "completed"
    },
    "tags": []
   },
   "source": [
    "## Загрузка данных\n"
   ]
  },
  {
   "cell_type": "markdown",
   "id": "177963d6",
   "metadata": {
    "papermill": {
     "duration": 0.041074,
     "end_time": "2022-04-22T12:47:23.900356",
     "exception": false,
     "start_time": "2022-04-22T12:47:23.859282",
     "status": "completed"
    },
    "tags": []
   },
   "source": [
    "Мы выбрали необычный датасет с разметкой сентимента русскоязычных твитов (подробнее про него в [статье](http://www.swsys.ru/index.php?page=article&id=3962&lang=)). В корпусе, который мы использовали 114,911 положительных и 111,923 отрицательных записей. Загрузить его можно [тут](https://study.mokoron.com/)."
   ]
  },
  {
   "cell_type": "code",
   "execution_count": 6,
   "id": "4cb4ed8d",
   "metadata": {
    "execution": {
     "iopub.execute_input": "2022-04-22T12:47:23.997720Z",
     "iopub.status.busy": "2022-04-22T12:47:23.986202Z",
     "iopub.status.idle": "2022-04-22T12:47:33.056763Z",
     "shell.execute_reply": "2022-04-22T12:47:33.056217Z",
     "shell.execute_reply.started": "2022-04-22T12:44:59.208994Z"
    },
    "papermill": {
     "duration": 9.115241,
     "end_time": "2022-04-22T12:47:33.056907",
     "exception": false,
     "start_time": "2022-04-22T12:47:23.941666",
     "status": "completed"
    },
    "tags": []
   },
   "outputs": [
    {
     "name": "stdout",
     "output_type": "stream",
     "text": [
      "  % Total    % Received % Xferd  Average Speed   Time    Time     Time  Current\r\n",
      "                                 Dload  Upload   Total   Spent    Left  Speed\r\n",
      "100 25.0M  100 25.0M    0     0  10.6M      0  0:00:02  0:00:02 --:--:-- 10.6M\r\n",
      "  % Total    % Received % Xferd  Average Speed   Time    Time     Time  Current\r\n",
      "                                 Dload  Upload   Total   Spent    Left  Speed\r\n",
      "100 23.3M  100 23.3M    0     0  10.1M      0  0:00:02  0:00:02 --:--:-- 10.1M\r\n"
     ]
    }
   ],
   "source": [
    "import pandas as pd\n",
    "\n",
    "!mkdir ./stepik-dl-nlp/\n",
    "!mkdir ./stepik-dl-nlp/datasets/\n",
    "!mkdir ./stepik-dl-nlp/datasets/bert_sentiment_analysis/\n",
    "\n",
    "!curl \"https://raw.githubusercontent.com/Samsung-IT-Academy/stepik-dl-nlp/master/datasets/bert_sentiment_analysis/positive.csv\" \\\n",
    "    -o ./stepik-dl-nlp/datasets/bert_sentiment_analysis/positive.csv\n",
    "!curl \"https://raw.githubusercontent.com/Samsung-IT-Academy/stepik-dl-nlp/master/datasets/bert_sentiment_analysis/negative.csv\" \\\n",
    "    -o ./stepik-dl-nlp/datasets/bert_sentiment_analysis/negative.csv\n",
    "\n",
    "# Если Вы запускаете ноутбук на colab или kaggle, добавьте в начало пути ./stepik-dl-nlp\n",
    "pos_texts = pd.read_csv('./stepik-dl-nlp/datasets/bert_sentiment_analysis/positive.csv', encoding='utf8', sep=';', header=None)\n",
    "neg_texts = pd.read_csv('./stepik-dl-nlp/datasets/bert_sentiment_analysis/negative.csv', encoding='utf8', sep=';', header=None)"
   ]
  },
  {
   "cell_type": "code",
   "execution_count": 7,
   "id": "dcbce411",
   "metadata": {
    "execution": {
     "iopub.execute_input": "2022-04-22T12:47:33.192353Z",
     "iopub.status.busy": "2022-04-22T12:47:33.182291Z",
     "iopub.status.idle": "2022-04-22T12:47:34.972263Z",
     "shell.execute_reply": "2022-04-22T12:47:34.971385Z",
     "shell.execute_reply.started": "2022-04-22T12:45:06.667051Z"
    },
    "papermill": {
     "duration": 1.870357,
     "end_time": "2022-04-22T12:47:34.972426",
     "exception": false,
     "start_time": "2022-04-22T12:47:33.102069",
     "status": "completed"
    },
    "tags": []
   },
   "outputs": [],
   "source": [
    "#Попробуйте удалить пунктуацию из датасета с русскими твитами и перезапустите дообучение модели. Изменилось ли итоговое качество работы модели? Почему?\n",
    "import re\n",
    "pos_texts[3] = pd.Series([re.sub(r':D|D:|[^\\w\\s]', '', line) for line in list(pos_texts[3])])\n",
    "neg_texts[3] = pd.Series([re.sub(r':D|D:|[^\\w\\s]', '', line) for line in list(neg_texts[3])])"
   ]
  },
  {
   "cell_type": "code",
   "execution_count": 8,
   "id": "5dea97b9",
   "metadata": {
    "execution": {
     "iopub.execute_input": "2022-04-22T12:47:35.063268Z",
     "iopub.status.busy": "2022-04-22T12:47:35.062499Z",
     "iopub.status.idle": "2022-04-22T12:47:35.085839Z",
     "shell.execute_reply": "2022-04-22T12:47:35.085105Z",
     "shell.execute_reply.started": "2022-04-22T12:45:08.729319Z"
    },
    "papermill": {
     "duration": 0.069332,
     "end_time": "2022-04-22T12:47:35.085952",
     "exception": false,
     "start_time": "2022-04-22T12:47:35.016620",
     "status": "completed"
    },
    "scrolled": true,
    "tags": []
   },
   "outputs": [
    {
     "data": {
      "text/html": [
       "<div>\n",
       "<style scoped>\n",
       "    .dataframe tbody tr th:only-of-type {\n",
       "        vertical-align: middle;\n",
       "    }\n",
       "\n",
       "    .dataframe tbody tr th {\n",
       "        vertical-align: top;\n",
       "    }\n",
       "\n",
       "    .dataframe thead th {\n",
       "        text-align: right;\n",
       "    }\n",
       "</style>\n",
       "<table border=\"1\" class=\"dataframe\">\n",
       "  <thead>\n",
       "    <tr style=\"text-align: right;\">\n",
       "      <th></th>\n",
       "      <th>0</th>\n",
       "      <th>1</th>\n",
       "      <th>2</th>\n",
       "      <th>3</th>\n",
       "      <th>4</th>\n",
       "      <th>5</th>\n",
       "      <th>6</th>\n",
       "      <th>7</th>\n",
       "      <th>8</th>\n",
       "      <th>9</th>\n",
       "      <th>10</th>\n",
       "      <th>11</th>\n",
       "    </tr>\n",
       "  </thead>\n",
       "  <tbody>\n",
       "    <tr>\n",
       "      <th>103799</th>\n",
       "      <td>411115031041159169</td>\n",
       "      <td>1386852436</td>\n",
       "      <td>moqacykaryqa</td>\n",
       "      <td>Пойду я спать снедаемая грустными думами и ком...</td>\n",
       "      <td>1</td>\n",
       "      <td>0</td>\n",
       "      <td>0</td>\n",
       "      <td>0</td>\n",
       "      <td>872</td>\n",
       "      <td>224</td>\n",
       "      <td>250</td>\n",
       "      <td>0</td>\n",
       "    </tr>\n",
       "    <tr>\n",
       "      <th>47245</th>\n",
       "      <td>410005806546157568</td>\n",
       "      <td>1386587976</td>\n",
       "      <td>knowlesjeff96</td>\n",
       "      <td>RT Cibrenco katyalukinova nastasorokina shramk...</td>\n",
       "      <td>1</td>\n",
       "      <td>0</td>\n",
       "      <td>3</td>\n",
       "      <td>0</td>\n",
       "      <td>161</td>\n",
       "      <td>303</td>\n",
       "      <td>296</td>\n",
       "      <td>0</td>\n",
       "    </tr>\n",
       "    <tr>\n",
       "      <th>33941</th>\n",
       "      <td>409762184408072192</td>\n",
       "      <td>1386529892</td>\n",
       "      <td>gorohova99</td>\n",
       "      <td>три вещи которые обязательно возьмешь в поход ...</td>\n",
       "      <td>1</td>\n",
       "      <td>0</td>\n",
       "      <td>0</td>\n",
       "      <td>0</td>\n",
       "      <td>5265</td>\n",
       "      <td>24</td>\n",
       "      <td>22</td>\n",
       "      <td>1</td>\n",
       "    </tr>\n",
       "    <tr>\n",
       "      <th>92669</th>\n",
       "      <td>410863523518881792</td>\n",
       "      <td>1386792472</td>\n",
       "      <td>Karishel_98</td>\n",
       "      <td>NikRomantika за правду спасибо не говарятне за...</td>\n",
       "      <td>1</td>\n",
       "      <td>0</td>\n",
       "      <td>0</td>\n",
       "      <td>0</td>\n",
       "      <td>660</td>\n",
       "      <td>67</td>\n",
       "      <td>69</td>\n",
       "      <td>0</td>\n",
       "    </tr>\n",
       "    <tr>\n",
       "      <th>83007</th>\n",
       "      <td>410771525680123904</td>\n",
       "      <td>1386770538</td>\n",
       "      <td>UriyLubimov</td>\n",
       "      <td>Думаю опять начать засорять вашу ленту в твитт...</td>\n",
       "      <td>1</td>\n",
       "      <td>0</td>\n",
       "      <td>0</td>\n",
       "      <td>0</td>\n",
       "      <td>2914</td>\n",
       "      <td>58</td>\n",
       "      <td>44</td>\n",
       "      <td>0</td>\n",
       "    </tr>\n",
       "  </tbody>\n",
       "</table>\n",
       "</div>"
      ],
      "text/plain": [
       "                        0           1              2   \\\n",
       "103799  411115031041159169  1386852436   moqacykaryqa   \n",
       "47245   410005806546157568  1386587976  knowlesjeff96   \n",
       "33941   409762184408072192  1386529892     gorohova99   \n",
       "92669   410863523518881792  1386792472    Karishel_98   \n",
       "83007   410771525680123904  1386770538    UriyLubimov   \n",
       "\n",
       "                                                       3   4   5   6   7   \\\n",
       "103799  Пойду я спать снедаемая грустными думами и ком...   1   0   0   0   \n",
       "47245   RT Cibrenco katyalukinova nastasorokina shramk...   1   0   3   0   \n",
       "33941   три вещи которые обязательно возьмешь в поход ...   1   0   0   0   \n",
       "92669   NikRomantika за правду спасибо не говарятне за...   1   0   0   0   \n",
       "83007   Думаю опять начать засорять вашу ленту в твитт...   1   0   0   0   \n",
       "\n",
       "          8    9    10  11  \n",
       "103799   872  224  250   0  \n",
       "47245    161  303  296   0  \n",
       "33941   5265   24   22   1  \n",
       "92669    660   67   69   0  \n",
       "83007   2914   58   44   0  "
      ]
     },
     "execution_count": 8,
     "metadata": {},
     "output_type": "execute_result"
    }
   ],
   "source": [
    "pos_texts.sample(5)"
   ]
  },
  {
   "cell_type": "code",
   "execution_count": 9,
   "id": "fdd52b07",
   "metadata": {
    "execution": {
     "iopub.execute_input": "2022-04-22T12:47:35.252999Z",
     "iopub.status.busy": "2022-04-22T12:47:35.227404Z",
     "iopub.status.idle": "2022-04-22T12:47:35.710958Z",
     "shell.execute_reply": "2022-04-22T12:47:35.710490Z",
     "shell.execute_reply.started": "2022-04-21T07:13:04.49298Z"
    },
    "papermill": {
     "duration": 0.580171,
     "end_time": "2022-04-22T12:47:35.711085",
     "exception": false,
     "start_time": "2022-04-22T12:47:35.130914",
     "status": "completed"
    },
    "tags": []
   },
   "outputs": [],
   "source": [
    "sentences = np.concatenate([pos_texts[3].values, neg_texts[3].values])\n",
    "\n",
    "sentences = [\"[CLS] \" + sentence + \" [SEP]\" for sentence in sentences]\n",
    "labels = [[1] for _ in range(pos_texts.shape[0])] + [[0] for _ in range(neg_texts.shape[0])]\n"
   ]
  },
  {
   "cell_type": "code",
   "execution_count": 10,
   "id": "d54a41bf",
   "metadata": {
    "execution": {
     "iopub.execute_input": "2022-04-22T12:47:35.810615Z",
     "iopub.status.busy": "2022-04-22T12:47:35.809798Z",
     "iopub.status.idle": "2022-04-22T12:47:35.812774Z",
     "shell.execute_reply": "2022-04-22T12:47:35.812332Z",
     "shell.execute_reply.started": "2022-04-21T07:13:05.104319Z"
    },
    "papermill": {
     "duration": 0.056608,
     "end_time": "2022-04-22T12:47:35.812891",
     "exception": false,
     "start_time": "2022-04-22T12:47:35.756283",
     "status": "completed"
    },
    "tags": []
   },
   "outputs": [],
   "source": [
    "assert len(sentences) == len(labels) == pos_texts.shape[0] + neg_texts.shape[0]"
   ]
  },
  {
   "cell_type": "code",
   "execution_count": 11,
   "id": "0bdd4dc3",
   "metadata": {
    "execution": {
     "iopub.execute_input": "2022-04-22T12:47:35.906323Z",
     "iopub.status.busy": "2022-04-22T12:47:35.905377Z",
     "iopub.status.idle": "2022-04-22T12:47:35.909171Z",
     "shell.execute_reply": "2022-04-22T12:47:35.909606Z",
     "shell.execute_reply.started": "2022-04-21T07:13:05.110594Z"
    },
    "papermill": {
     "duration": 0.052238,
     "end_time": "2022-04-22T12:47:35.909743",
     "exception": false,
     "start_time": "2022-04-22T12:47:35.857505",
     "status": "completed"
    },
    "tags": []
   },
   "outputs": [
    {
     "name": "stdout",
     "output_type": "stream",
     "text": [
      "[CLS] Дим ты помогаешь мне я тебе все взаимно все правильно [SEP]\n"
     ]
    }
   ],
   "source": [
    "print(sentences[1000])"
   ]
  },
  {
   "cell_type": "code",
   "execution_count": 12,
   "id": "f7cf84df",
   "metadata": {
    "execution": {
     "iopub.execute_input": "2022-04-22T12:47:36.004701Z",
     "iopub.status.busy": "2022-04-22T12:47:36.003964Z",
     "iopub.status.idle": "2022-04-22T12:47:36.145529Z",
     "shell.execute_reply": "2022-04-22T12:47:36.145957Z",
     "shell.execute_reply.started": "2022-04-21T07:13:05.127459Z"
    },
    "papermill": {
     "duration": 0.191566,
     "end_time": "2022-04-22T12:47:36.146117",
     "exception": false,
     "start_time": "2022-04-22T12:47:35.954551",
     "status": "completed"
    },
    "tags": []
   },
   "outputs": [],
   "source": [
    "from sklearn.model_selection import train_test_split\n",
    "\n",
    "train_sentences, test_sentences, train_gt, test_gt = train_test_split(sentences, labels, test_size=0.3)"
   ]
  },
  {
   "cell_type": "code",
   "execution_count": 13,
   "id": "837f4f67",
   "metadata": {
    "execution": {
     "iopub.execute_input": "2022-04-22T12:47:36.241682Z",
     "iopub.status.busy": "2022-04-22T12:47:36.240903Z",
     "iopub.status.idle": "2022-04-22T12:47:36.244019Z",
     "shell.execute_reply": "2022-04-22T12:47:36.244600Z",
     "shell.execute_reply.started": "2022-04-21T07:13:05.300005Z"
    },
    "papermill": {
     "duration": 0.052906,
     "end_time": "2022-04-22T12:47:36.244781",
     "exception": false,
     "start_time": "2022-04-22T12:47:36.191875",
     "status": "completed"
    },
    "tags": []
   },
   "outputs": [
    {
     "name": "stdout",
     "output_type": "stream",
     "text": [
      "158783 68051\n"
     ]
    }
   ],
   "source": [
    "print(len(train_gt), len(test_gt))"
   ]
  },
  {
   "cell_type": "markdown",
   "id": "83e7ec0c",
   "metadata": {
    "id": "ex5O1eV-Pfct",
    "papermill": {
     "duration": 0.045392,
     "end_time": "2022-04-22T12:47:36.336826",
     "exception": false,
     "start_time": "2022-04-22T12:47:36.291434",
     "status": "completed"
    },
    "tags": []
   },
   "source": [
    "## Inputs"
   ]
  },
  {
   "cell_type": "code",
   "execution_count": 14,
   "id": "e9d80570",
   "metadata": {
    "execution": {
     "iopub.execute_input": "2022-04-22T12:47:36.432068Z",
     "iopub.status.busy": "2022-04-22T12:47:36.431273Z",
     "iopub.status.idle": "2022-04-22T12:49:12.882175Z",
     "shell.execute_reply": "2022-04-22T12:49:12.882650Z",
     "shell.execute_reply.started": "2022-04-21T07:13:05.306686Z"
    },
    "id": "Z474sSC6oe7A",
    "outputId": "fbaa8fd8-bccd-4feb-ce52-beba5d293cfa",
    "papermill": {
     "duration": 96.500972,
     "end_time": "2022-04-22T12:49:12.882806",
     "exception": false,
     "start_time": "2022-04-22T12:47:36.381834",
     "status": "completed"
    },
    "tags": []
   },
   "outputs": [
    {
     "name": "stderr",
     "output_type": "stream",
     "text": [
      "100%|██████████| 231508/231508 [00:00<00:00, 320782.46B/s]\n"
     ]
    },
    {
     "name": "stdout",
     "output_type": "stream",
     "text": [
      "['[CLS]', 'vest', '##i', '_', 'k', '##ps', '##s', 'э', '##т', '##о', 'с', '##л', '##о', '##ж', '##н', '##о', 'и', 'д', '##о', '##л', '##г', '##о', '##а', 'у', 'м', '##е', '##н', '##я', 'е', '##щ', '##е', 'и', 'г', '##л', '##у', '##п', '##о', '##н', '##у', '##д', '##н', '##о', 'и', 'н', '##а', '##и', '##в', '##н', '##о', 'п', '##о', '##л', '##у', '##ч', '##и', '##т', '##с', '##я', '[SEP]']\n"
     ]
    }
   ],
   "source": [
    "from pytorch_transformers import BertTokenizer, BertConfig\n",
    "\n",
    "\n",
    "tokenizer = BertTokenizer.from_pretrained('bert-base-uncased', do_lower_case=True)\n",
    "\n",
    "tokenized_texts = [tokenizer.tokenize(sent) for sent in train_sentences]\n",
    "print (tokenized_texts[0])"
   ]
  },
  {
   "cell_type": "markdown",
   "id": "9ff6d198",
   "metadata": {
    "id": "87_kXUeT2-br",
    "papermill": {
     "duration": 0.04796,
     "end_time": "2022-04-22T12:49:12.978413",
     "exception": false,
     "start_time": "2022-04-22T12:49:12.930453",
     "status": "completed"
    },
    "tags": []
   },
   "source": [
    "BERTу нужно предоставить специальный формат входных данных.\n",
    "\n",
    "\n",
    "- **input ids**: последовательность чисел, отождествляющих каждый токен с его номером в словаре.\n",
    "- **labels**: вектор из нулей и единиц. В нашем случае нули обозначают негативную эмоциональную окраску, единицы - положительную.\n",
    "- **segment mask**: (необязательно) последовательность нулей и единиц, которая показывает, состоит ли входной текст из одного или двух предложений. Для случая одного предложения получится вектор из одних нулей. Для двух: <length_of_sent_1> нулей и <length_of_sent_2> единиц.\n",
    "- **attention mask**: (необязательно) последовательность нулей и единиц, где единицы обозначают токены предложения, нули - паддинг."
   ]
  },
  {
   "cell_type": "code",
   "execution_count": 15,
   "id": "1e7a24b8",
   "metadata": {
    "execution": {
     "iopub.execute_input": "2022-04-22T12:49:13.095568Z",
     "iopub.status.busy": "2022-04-22T12:49:13.094796Z",
     "iopub.status.idle": "2022-04-22T12:49:34.970917Z",
     "shell.execute_reply": "2022-04-22T12:49:34.970395Z"
    },
    "id": "Cp9BPRd1tMIo",
    "papermill": {
     "duration": 21.944578,
     "end_time": "2022-04-22T12:49:34.971058",
     "exception": false,
     "start_time": "2022-04-22T12:49:13.026480",
     "status": "completed"
    },
    "tags": []
   },
   "outputs": [],
   "source": [
    "input_ids = [tokenizer.convert_tokens_to_ids(x) for x in tokenized_texts]\n",
    "input_ids = pad_sequences(\n",
    "    input_ids,\n",
    "    maxlen=100,\n",
    "    dtype=\"long\",\n",
    "    truncating=\"post\",\n",
    "    padding=\"post\"\n",
    ")\n",
    "attention_masks = [[float(i>0) for i in seq] for seq in input_ids]"
   ]
  },
  {
   "cell_type": "code",
   "execution_count": 16,
   "id": "54cf1bd9",
   "metadata": {
    "execution": {
     "iopub.execute_input": "2022-04-22T12:49:35.077458Z",
     "iopub.status.busy": "2022-04-22T12:49:35.076422Z",
     "iopub.status.idle": "2022-04-22T12:49:35.275173Z",
     "shell.execute_reply": "2022-04-22T12:49:35.275674Z"
    },
    "id": "aFbE-UHvsb7-",
    "papermill": {
     "duration": 0.255785,
     "end_time": "2022-04-22T12:49:35.275837",
     "exception": false,
     "start_time": "2022-04-22T12:49:35.020052",
     "status": "completed"
    },
    "tags": []
   },
   "outputs": [],
   "source": [
    "train_inputs, validation_inputs, train_labels, validation_labels = train_test_split(\n",
    "    input_ids, train_gt, \n",
    "    random_state=42,\n",
    "    test_size=0.1\n",
    ")\n",
    "\n",
    "train_masks, validation_masks, _, _ = train_test_split(\n",
    "    attention_masks,\n",
    "    input_ids,\n",
    "    random_state=42,\n",
    "    test_size=0.1\n",
    ")"
   ]
  },
  {
   "cell_type": "code",
   "execution_count": 17,
   "id": "c378ca52",
   "metadata": {
    "execution": {
     "iopub.execute_input": "2022-04-22T12:49:35.377912Z",
     "iopub.status.busy": "2022-04-22T12:49:35.377316Z",
     "iopub.status.idle": "2022-04-22T12:49:36.820025Z",
     "shell.execute_reply": "2022-04-22T12:49:36.819525Z"
    },
    "id": "jw5K2A5Ko1RF",
    "papermill": {
     "duration": 1.495633,
     "end_time": "2022-04-22T12:49:36.820144",
     "exception": false,
     "start_time": "2022-04-22T12:49:35.324511",
     "status": "completed"
    },
    "tags": []
   },
   "outputs": [],
   "source": [
    "train_inputs = torch.tensor(train_inputs)\n",
    "train_labels = torch.tensor(train_labels)\n",
    "train_masks = torch.tensor(train_masks)"
   ]
  },
  {
   "cell_type": "code",
   "execution_count": 18,
   "id": "8f27dcbe",
   "metadata": {
    "execution": {
     "iopub.execute_input": "2022-04-22T12:49:36.921629Z",
     "iopub.status.busy": "2022-04-22T12:49:36.920707Z",
     "iopub.status.idle": "2022-04-22T12:49:37.083555Z",
     "shell.execute_reply": "2022-04-22T12:49:37.082829Z"
    },
    "papermill": {
     "duration": 0.214702,
     "end_time": "2022-04-22T12:49:37.083689",
     "exception": false,
     "start_time": "2022-04-22T12:49:36.868987",
     "status": "completed"
    },
    "tags": []
   },
   "outputs": [],
   "source": [
    "validation_inputs = torch.tensor(validation_inputs)\n",
    "validation_labels = torch.tensor(validation_labels)\n",
    "validation_masks = torch.tensor(validation_masks)"
   ]
  },
  {
   "cell_type": "code",
   "execution_count": 19,
   "id": "d95ff837",
   "metadata": {
    "execution": {
     "iopub.execute_input": "2022-04-22T12:49:37.190256Z",
     "iopub.status.busy": "2022-04-22T12:49:37.189674Z",
     "iopub.status.idle": "2022-04-22T12:49:37.203796Z",
     "shell.execute_reply": "2022-04-22T12:49:37.203348Z"
    },
    "papermill": {
     "duration": 0.07046,
     "end_time": "2022-04-22T12:49:37.203904",
     "exception": false,
     "start_time": "2022-04-22T12:49:37.133444",
     "status": "completed"
    },
    "tags": []
   },
   "outputs": [
    {
     "data": {
      "text/plain": [
       "tensor([[0],\n",
       "        [0],\n",
       "        [0],\n",
       "        ...,\n",
       "        [0],\n",
       "        [0],\n",
       "        [0]])"
      ]
     },
     "execution_count": 19,
     "metadata": {},
     "output_type": "execute_result"
    }
   ],
   "source": [
    "train_labels"
   ]
  },
  {
   "cell_type": "code",
   "execution_count": 20,
   "id": "3d09ae0f",
   "metadata": {
    "execution": {
     "iopub.execute_input": "2022-04-22T12:49:37.305957Z",
     "iopub.status.busy": "2022-04-22T12:49:37.305075Z",
     "iopub.status.idle": "2022-04-22T12:49:37.307560Z",
     "shell.execute_reply": "2022-04-22T12:49:37.307135Z"
    },
    "id": "GEgLpFVlo1Z-",
    "papermill": {
     "duration": 0.055132,
     "end_time": "2022-04-22T12:49:37.307678",
     "exception": false,
     "start_time": "2022-04-22T12:49:37.252546",
     "status": "completed"
    },
    "tags": []
   },
   "outputs": [],
   "source": [
    "train_data = TensorDataset(train_inputs, train_masks, train_labels)\n",
    "train_dataloader = DataLoader(\n",
    "    train_data,\n",
    "    sampler=RandomSampler(train_data),\n",
    "    batch_size=32\n",
    ")"
   ]
  },
  {
   "cell_type": "code",
   "execution_count": 21,
   "id": "b8299499",
   "metadata": {
    "execution": {
     "iopub.execute_input": "2022-04-22T12:49:37.409785Z",
     "iopub.status.busy": "2022-04-22T12:49:37.408988Z",
     "iopub.status.idle": "2022-04-22T12:49:37.410934Z",
     "shell.execute_reply": "2022-04-22T12:49:37.411322Z"
    },
    "papermill": {
     "duration": 0.055183,
     "end_time": "2022-04-22T12:49:37.411478",
     "exception": false,
     "start_time": "2022-04-22T12:49:37.356295",
     "status": "completed"
    },
    "tags": []
   },
   "outputs": [],
   "source": [
    "validation_data = TensorDataset(validation_inputs, validation_masks, validation_labels)\n",
    "validation_dataloader = DataLoader(\n",
    "    validation_data,\n",
    "    sampler=SequentialSampler(validation_data),\n",
    "    batch_size=32\n",
    ")"
   ]
  },
  {
   "cell_type": "markdown",
   "id": "0141e8b0",
   "metadata": {
    "id": "pNl8khAhPYju",
    "papermill": {
     "duration": 0.048376,
     "end_time": "2022-04-22T12:49:37.508656",
     "exception": false,
     "start_time": "2022-04-22T12:49:37.460280",
     "status": "completed"
    },
    "tags": []
   },
   "source": [
    "## Обучение модели"
   ]
  },
  {
   "cell_type": "markdown",
   "id": "2e8755d3",
   "metadata": {
    "papermill": {
     "duration": 0.04846,
     "end_time": "2022-04-22T12:49:37.605460",
     "exception": false,
     "start_time": "2022-04-22T12:49:37.557000",
     "status": "completed"
    },
    "tags": []
   },
   "source": [
    "Загружаем [BertForSequenceClassification](https://github.com/huggingface/pytorch-pretrained-BERT/blob/master/pytorch_pretrained_bert/modeling.py#L1129):"
   ]
  },
  {
   "cell_type": "code",
   "execution_count": 22,
   "id": "bc0b52e1",
   "metadata": {
    "execution": {
     "iopub.execute_input": "2022-04-22T12:49:37.706875Z",
     "iopub.status.busy": "2022-04-22T12:49:37.706124Z",
     "iopub.status.idle": "2022-04-22T12:49:37.708031Z",
     "shell.execute_reply": "2022-04-22T12:49:37.708465Z"
    },
    "papermill": {
     "duration": 0.054763,
     "end_time": "2022-04-22T12:49:37.708601",
     "exception": false,
     "start_time": "2022-04-22T12:49:37.653838",
     "status": "completed"
    },
    "tags": []
   },
   "outputs": [],
   "source": [
    "from pytorch_transformers import AdamW, BertForSequenceClassification"
   ]
  },
  {
   "cell_type": "markdown",
   "id": "3c0314a3",
   "metadata": {
    "papermill": {
     "duration": 0.048526,
     "end_time": "2022-04-22T12:49:37.805785",
     "exception": false,
     "start_time": "2022-04-22T12:49:37.757259",
     "status": "completed"
    },
    "tags": []
   },
   "source": [
    "Аналогичные модели есть и для других задач:"
   ]
  },
  {
   "cell_type": "code",
   "execution_count": 23,
   "id": "f26f5098",
   "metadata": {
    "execution": {
     "iopub.execute_input": "2022-04-22T12:49:37.909863Z",
     "iopub.status.busy": "2022-04-22T12:49:37.908221Z",
     "iopub.status.idle": "2022-04-22T12:49:37.910453Z",
     "shell.execute_reply": "2022-04-22T12:49:37.910865Z"
    },
    "papermill": {
     "duration": 0.056397,
     "end_time": "2022-04-22T12:49:37.910990",
     "exception": false,
     "start_time": "2022-04-22T12:49:37.854593",
     "status": "completed"
    },
    "tags": []
   },
   "outputs": [],
   "source": [
    "from pytorch_transformers import BertForQuestionAnswering, BertForTokenClassification"
   ]
  },
  {
   "cell_type": "code",
   "execution_count": 24,
   "id": "dfa8226f",
   "metadata": {
    "execution": {
     "iopub.execute_input": "2022-04-22T12:49:38.016243Z",
     "iopub.status.busy": "2022-04-22T12:49:38.015755Z",
     "iopub.status.idle": "2022-04-22T12:50:29.727920Z",
     "shell.execute_reply": "2022-04-22T12:50:29.728407Z"
    },
    "id": "gFsCTp_mporB",
    "outputId": "dd067229-1925-4b37-f517-0c14e25420d1",
    "papermill": {
     "duration": 51.768818,
     "end_time": "2022-04-22T12:50:29.728563",
     "exception": false,
     "start_time": "2022-04-22T12:49:37.959745",
     "status": "completed"
    },
    "tags": []
   },
   "outputs": [
    {
     "name": "stderr",
     "output_type": "stream",
     "text": [
      "100%|██████████| 433/433 [00:00<00:00, 168269.59B/s]\n",
      "100%|██████████| 440473133/440473133 [00:39<00:00, 11110204.12B/s]\n"
     ]
    },
    {
     "data": {
      "text/plain": [
       "BertForSequenceClassification(\n",
       "  (bert): BertModel(\n",
       "    (embeddings): BertEmbeddings(\n",
       "      (word_embeddings): Embedding(30522, 768, padding_idx=0)\n",
       "      (position_embeddings): Embedding(512, 768)\n",
       "      (token_type_embeddings): Embedding(2, 768)\n",
       "      (LayerNorm): LayerNorm((768,), eps=1e-12, elementwise_affine=True)\n",
       "      (dropout): Dropout(p=0.1, inplace=False)\n",
       "    )\n",
       "    (encoder): BertEncoder(\n",
       "      (layer): ModuleList(\n",
       "        (0): BertLayer(\n",
       "          (attention): BertAttention(\n",
       "            (self): BertSelfAttention(\n",
       "              (query): Linear(in_features=768, out_features=768, bias=True)\n",
       "              (key): Linear(in_features=768, out_features=768, bias=True)\n",
       "              (value): Linear(in_features=768, out_features=768, bias=True)\n",
       "              (dropout): Dropout(p=0.1, inplace=False)\n",
       "            )\n",
       "            (output): BertSelfOutput(\n",
       "              (dense): Linear(in_features=768, out_features=768, bias=True)\n",
       "              (LayerNorm): LayerNorm((768,), eps=1e-12, elementwise_affine=True)\n",
       "              (dropout): Dropout(p=0.1, inplace=False)\n",
       "            )\n",
       "          )\n",
       "          (intermediate): BertIntermediate(\n",
       "            (dense): Linear(in_features=768, out_features=3072, bias=True)\n",
       "          )\n",
       "          (output): BertOutput(\n",
       "            (dense): Linear(in_features=3072, out_features=768, bias=True)\n",
       "            (LayerNorm): LayerNorm((768,), eps=1e-12, elementwise_affine=True)\n",
       "            (dropout): Dropout(p=0.1, inplace=False)\n",
       "          )\n",
       "        )\n",
       "        (1): BertLayer(\n",
       "          (attention): BertAttention(\n",
       "            (self): BertSelfAttention(\n",
       "              (query): Linear(in_features=768, out_features=768, bias=True)\n",
       "              (key): Linear(in_features=768, out_features=768, bias=True)\n",
       "              (value): Linear(in_features=768, out_features=768, bias=True)\n",
       "              (dropout): Dropout(p=0.1, inplace=False)\n",
       "            )\n",
       "            (output): BertSelfOutput(\n",
       "              (dense): Linear(in_features=768, out_features=768, bias=True)\n",
       "              (LayerNorm): LayerNorm((768,), eps=1e-12, elementwise_affine=True)\n",
       "              (dropout): Dropout(p=0.1, inplace=False)\n",
       "            )\n",
       "          )\n",
       "          (intermediate): BertIntermediate(\n",
       "            (dense): Linear(in_features=768, out_features=3072, bias=True)\n",
       "          )\n",
       "          (output): BertOutput(\n",
       "            (dense): Linear(in_features=3072, out_features=768, bias=True)\n",
       "            (LayerNorm): LayerNorm((768,), eps=1e-12, elementwise_affine=True)\n",
       "            (dropout): Dropout(p=0.1, inplace=False)\n",
       "          )\n",
       "        )\n",
       "        (2): BertLayer(\n",
       "          (attention): BertAttention(\n",
       "            (self): BertSelfAttention(\n",
       "              (query): Linear(in_features=768, out_features=768, bias=True)\n",
       "              (key): Linear(in_features=768, out_features=768, bias=True)\n",
       "              (value): Linear(in_features=768, out_features=768, bias=True)\n",
       "              (dropout): Dropout(p=0.1, inplace=False)\n",
       "            )\n",
       "            (output): BertSelfOutput(\n",
       "              (dense): Linear(in_features=768, out_features=768, bias=True)\n",
       "              (LayerNorm): LayerNorm((768,), eps=1e-12, elementwise_affine=True)\n",
       "              (dropout): Dropout(p=0.1, inplace=False)\n",
       "            )\n",
       "          )\n",
       "          (intermediate): BertIntermediate(\n",
       "            (dense): Linear(in_features=768, out_features=3072, bias=True)\n",
       "          )\n",
       "          (output): BertOutput(\n",
       "            (dense): Linear(in_features=3072, out_features=768, bias=True)\n",
       "            (LayerNorm): LayerNorm((768,), eps=1e-12, elementwise_affine=True)\n",
       "            (dropout): Dropout(p=0.1, inplace=False)\n",
       "          )\n",
       "        )\n",
       "        (3): BertLayer(\n",
       "          (attention): BertAttention(\n",
       "            (self): BertSelfAttention(\n",
       "              (query): Linear(in_features=768, out_features=768, bias=True)\n",
       "              (key): Linear(in_features=768, out_features=768, bias=True)\n",
       "              (value): Linear(in_features=768, out_features=768, bias=True)\n",
       "              (dropout): Dropout(p=0.1, inplace=False)\n",
       "            )\n",
       "            (output): BertSelfOutput(\n",
       "              (dense): Linear(in_features=768, out_features=768, bias=True)\n",
       "              (LayerNorm): LayerNorm((768,), eps=1e-12, elementwise_affine=True)\n",
       "              (dropout): Dropout(p=0.1, inplace=False)\n",
       "            )\n",
       "          )\n",
       "          (intermediate): BertIntermediate(\n",
       "            (dense): Linear(in_features=768, out_features=3072, bias=True)\n",
       "          )\n",
       "          (output): BertOutput(\n",
       "            (dense): Linear(in_features=3072, out_features=768, bias=True)\n",
       "            (LayerNorm): LayerNorm((768,), eps=1e-12, elementwise_affine=True)\n",
       "            (dropout): Dropout(p=0.1, inplace=False)\n",
       "          )\n",
       "        )\n",
       "        (4): BertLayer(\n",
       "          (attention): BertAttention(\n",
       "            (self): BertSelfAttention(\n",
       "              (query): Linear(in_features=768, out_features=768, bias=True)\n",
       "              (key): Linear(in_features=768, out_features=768, bias=True)\n",
       "              (value): Linear(in_features=768, out_features=768, bias=True)\n",
       "              (dropout): Dropout(p=0.1, inplace=False)\n",
       "            )\n",
       "            (output): BertSelfOutput(\n",
       "              (dense): Linear(in_features=768, out_features=768, bias=True)\n",
       "              (LayerNorm): LayerNorm((768,), eps=1e-12, elementwise_affine=True)\n",
       "              (dropout): Dropout(p=0.1, inplace=False)\n",
       "            )\n",
       "          )\n",
       "          (intermediate): BertIntermediate(\n",
       "            (dense): Linear(in_features=768, out_features=3072, bias=True)\n",
       "          )\n",
       "          (output): BertOutput(\n",
       "            (dense): Linear(in_features=3072, out_features=768, bias=True)\n",
       "            (LayerNorm): LayerNorm((768,), eps=1e-12, elementwise_affine=True)\n",
       "            (dropout): Dropout(p=0.1, inplace=False)\n",
       "          )\n",
       "        )\n",
       "        (5): BertLayer(\n",
       "          (attention): BertAttention(\n",
       "            (self): BertSelfAttention(\n",
       "              (query): Linear(in_features=768, out_features=768, bias=True)\n",
       "              (key): Linear(in_features=768, out_features=768, bias=True)\n",
       "              (value): Linear(in_features=768, out_features=768, bias=True)\n",
       "              (dropout): Dropout(p=0.1, inplace=False)\n",
       "            )\n",
       "            (output): BertSelfOutput(\n",
       "              (dense): Linear(in_features=768, out_features=768, bias=True)\n",
       "              (LayerNorm): LayerNorm((768,), eps=1e-12, elementwise_affine=True)\n",
       "              (dropout): Dropout(p=0.1, inplace=False)\n",
       "            )\n",
       "          )\n",
       "          (intermediate): BertIntermediate(\n",
       "            (dense): Linear(in_features=768, out_features=3072, bias=True)\n",
       "          )\n",
       "          (output): BertOutput(\n",
       "            (dense): Linear(in_features=3072, out_features=768, bias=True)\n",
       "            (LayerNorm): LayerNorm((768,), eps=1e-12, elementwise_affine=True)\n",
       "            (dropout): Dropout(p=0.1, inplace=False)\n",
       "          )\n",
       "        )\n",
       "        (6): BertLayer(\n",
       "          (attention): BertAttention(\n",
       "            (self): BertSelfAttention(\n",
       "              (query): Linear(in_features=768, out_features=768, bias=True)\n",
       "              (key): Linear(in_features=768, out_features=768, bias=True)\n",
       "              (value): Linear(in_features=768, out_features=768, bias=True)\n",
       "              (dropout): Dropout(p=0.1, inplace=False)\n",
       "            )\n",
       "            (output): BertSelfOutput(\n",
       "              (dense): Linear(in_features=768, out_features=768, bias=True)\n",
       "              (LayerNorm): LayerNorm((768,), eps=1e-12, elementwise_affine=True)\n",
       "              (dropout): Dropout(p=0.1, inplace=False)\n",
       "            )\n",
       "          )\n",
       "          (intermediate): BertIntermediate(\n",
       "            (dense): Linear(in_features=768, out_features=3072, bias=True)\n",
       "          )\n",
       "          (output): BertOutput(\n",
       "            (dense): Linear(in_features=3072, out_features=768, bias=True)\n",
       "            (LayerNorm): LayerNorm((768,), eps=1e-12, elementwise_affine=True)\n",
       "            (dropout): Dropout(p=0.1, inplace=False)\n",
       "          )\n",
       "        )\n",
       "        (7): BertLayer(\n",
       "          (attention): BertAttention(\n",
       "            (self): BertSelfAttention(\n",
       "              (query): Linear(in_features=768, out_features=768, bias=True)\n",
       "              (key): Linear(in_features=768, out_features=768, bias=True)\n",
       "              (value): Linear(in_features=768, out_features=768, bias=True)\n",
       "              (dropout): Dropout(p=0.1, inplace=False)\n",
       "            )\n",
       "            (output): BertSelfOutput(\n",
       "              (dense): Linear(in_features=768, out_features=768, bias=True)\n",
       "              (LayerNorm): LayerNorm((768,), eps=1e-12, elementwise_affine=True)\n",
       "              (dropout): Dropout(p=0.1, inplace=False)\n",
       "            )\n",
       "          )\n",
       "          (intermediate): BertIntermediate(\n",
       "            (dense): Linear(in_features=768, out_features=3072, bias=True)\n",
       "          )\n",
       "          (output): BertOutput(\n",
       "            (dense): Linear(in_features=3072, out_features=768, bias=True)\n",
       "            (LayerNorm): LayerNorm((768,), eps=1e-12, elementwise_affine=True)\n",
       "            (dropout): Dropout(p=0.1, inplace=False)\n",
       "          )\n",
       "        )\n",
       "        (8): BertLayer(\n",
       "          (attention): BertAttention(\n",
       "            (self): BertSelfAttention(\n",
       "              (query): Linear(in_features=768, out_features=768, bias=True)\n",
       "              (key): Linear(in_features=768, out_features=768, bias=True)\n",
       "              (value): Linear(in_features=768, out_features=768, bias=True)\n",
       "              (dropout): Dropout(p=0.1, inplace=False)\n",
       "            )\n",
       "            (output): BertSelfOutput(\n",
       "              (dense): Linear(in_features=768, out_features=768, bias=True)\n",
       "              (LayerNorm): LayerNorm((768,), eps=1e-12, elementwise_affine=True)\n",
       "              (dropout): Dropout(p=0.1, inplace=False)\n",
       "            )\n",
       "          )\n",
       "          (intermediate): BertIntermediate(\n",
       "            (dense): Linear(in_features=768, out_features=3072, bias=True)\n",
       "          )\n",
       "          (output): BertOutput(\n",
       "            (dense): Linear(in_features=3072, out_features=768, bias=True)\n",
       "            (LayerNorm): LayerNorm((768,), eps=1e-12, elementwise_affine=True)\n",
       "            (dropout): Dropout(p=0.1, inplace=False)\n",
       "          )\n",
       "        )\n",
       "        (9): BertLayer(\n",
       "          (attention): BertAttention(\n",
       "            (self): BertSelfAttention(\n",
       "              (query): Linear(in_features=768, out_features=768, bias=True)\n",
       "              (key): Linear(in_features=768, out_features=768, bias=True)\n",
       "              (value): Linear(in_features=768, out_features=768, bias=True)\n",
       "              (dropout): Dropout(p=0.1, inplace=False)\n",
       "            )\n",
       "            (output): BertSelfOutput(\n",
       "              (dense): Linear(in_features=768, out_features=768, bias=True)\n",
       "              (LayerNorm): LayerNorm((768,), eps=1e-12, elementwise_affine=True)\n",
       "              (dropout): Dropout(p=0.1, inplace=False)\n",
       "            )\n",
       "          )\n",
       "          (intermediate): BertIntermediate(\n",
       "            (dense): Linear(in_features=768, out_features=3072, bias=True)\n",
       "          )\n",
       "          (output): BertOutput(\n",
       "            (dense): Linear(in_features=3072, out_features=768, bias=True)\n",
       "            (LayerNorm): LayerNorm((768,), eps=1e-12, elementwise_affine=True)\n",
       "            (dropout): Dropout(p=0.1, inplace=False)\n",
       "          )\n",
       "        )\n",
       "        (10): BertLayer(\n",
       "          (attention): BertAttention(\n",
       "            (self): BertSelfAttention(\n",
       "              (query): Linear(in_features=768, out_features=768, bias=True)\n",
       "              (key): Linear(in_features=768, out_features=768, bias=True)\n",
       "              (value): Linear(in_features=768, out_features=768, bias=True)\n",
       "              (dropout): Dropout(p=0.1, inplace=False)\n",
       "            )\n",
       "            (output): BertSelfOutput(\n",
       "              (dense): Linear(in_features=768, out_features=768, bias=True)\n",
       "              (LayerNorm): LayerNorm((768,), eps=1e-12, elementwise_affine=True)\n",
       "              (dropout): Dropout(p=0.1, inplace=False)\n",
       "            )\n",
       "          )\n",
       "          (intermediate): BertIntermediate(\n",
       "            (dense): Linear(in_features=768, out_features=3072, bias=True)\n",
       "          )\n",
       "          (output): BertOutput(\n",
       "            (dense): Linear(in_features=3072, out_features=768, bias=True)\n",
       "            (LayerNorm): LayerNorm((768,), eps=1e-12, elementwise_affine=True)\n",
       "            (dropout): Dropout(p=0.1, inplace=False)\n",
       "          )\n",
       "        )\n",
       "        (11): BertLayer(\n",
       "          (attention): BertAttention(\n",
       "            (self): BertSelfAttention(\n",
       "              (query): Linear(in_features=768, out_features=768, bias=True)\n",
       "              (key): Linear(in_features=768, out_features=768, bias=True)\n",
       "              (value): Linear(in_features=768, out_features=768, bias=True)\n",
       "              (dropout): Dropout(p=0.1, inplace=False)\n",
       "            )\n",
       "            (output): BertSelfOutput(\n",
       "              (dense): Linear(in_features=768, out_features=768, bias=True)\n",
       "              (LayerNorm): LayerNorm((768,), eps=1e-12, elementwise_affine=True)\n",
       "              (dropout): Dropout(p=0.1, inplace=False)\n",
       "            )\n",
       "          )\n",
       "          (intermediate): BertIntermediate(\n",
       "            (dense): Linear(in_features=768, out_features=3072, bias=True)\n",
       "          )\n",
       "          (output): BertOutput(\n",
       "            (dense): Linear(in_features=3072, out_features=768, bias=True)\n",
       "            (LayerNorm): LayerNorm((768,), eps=1e-12, elementwise_affine=True)\n",
       "            (dropout): Dropout(p=0.1, inplace=False)\n",
       "          )\n",
       "        )\n",
       "      )\n",
       "    )\n",
       "    (pooler): BertPooler(\n",
       "      (dense): Linear(in_features=768, out_features=768, bias=True)\n",
       "      (activation): Tanh()\n",
       "    )\n",
       "  )\n",
       "  (dropout): Dropout(p=0.1, inplace=False)\n",
       "  (classifier): Linear(in_features=768, out_features=2, bias=True)\n",
       ")"
      ]
     },
     "execution_count": 24,
     "metadata": {},
     "output_type": "execute_result"
    }
   ],
   "source": [
    "model = BertForSequenceClassification.from_pretrained(\"bert-base-uncased\", num_labels=2)\n",
    "model.cuda()"
   ]
  },
  {
   "cell_type": "code",
   "execution_count": 25,
   "id": "775fc286",
   "metadata": {
    "execution": {
     "iopub.execute_input": "2022-04-22T12:50:29.975970Z",
     "iopub.status.busy": "2022-04-22T12:50:29.970267Z",
     "iopub.status.idle": "2022-04-22T12:50:29.978454Z",
     "shell.execute_reply": "2022-04-22T12:50:29.977971Z"
    },
    "id": "QxSMw0FrptiL",
    "papermill": {
     "duration": 0.131335,
     "end_time": "2022-04-22T12:50:29.978592",
     "exception": false,
     "start_time": "2022-04-22T12:50:29.847257",
     "status": "completed"
    },
    "tags": []
   },
   "outputs": [],
   "source": [
    "param_optimizer = list(model.named_parameters())\n",
    "no_decay = ['bias', 'gamma', 'beta']\n",
    "optimizer_grouped_parameters = [\n",
    "    {'params': [p for n, p in param_optimizer if not any(nd in n for nd in no_decay)],\n",
    "     'weight_decay_rate': 0.01},\n",
    "    {'params': [p for n, p in param_optimizer if any(nd in n for nd in no_decay)],\n",
    "     'weight_decay_rate': 0.0}\n",
    "]\n",
    "\n",
    "optimizer = AdamW(optimizer_grouped_parameters, lr=2e-5)\n",
    "\n"
   ]
  },
  {
   "cell_type": "code",
   "execution_count": 26,
   "id": "ee276b7f",
   "metadata": {
    "execution": {
     "iopub.execute_input": "2022-04-22T12:50:30.259240Z",
     "iopub.status.busy": "2022-04-22T12:50:30.258625Z",
     "iopub.status.idle": "2022-04-22T13:31:08.870534Z",
     "shell.execute_reply": "2022-04-22T13:31:08.870996Z"
    },
    "id": "6J-FYdx6nFE_",
    "outputId": "8e388ad1-f9db-4c7b-d080-6c0a0e964610",
    "papermill": {
     "duration": 2438.757008,
     "end_time": "2022-04-22T13:31:08.871157",
     "exception": false,
     "start_time": "2022-04-22T12:50:30.114149",
     "status": "completed"
    },
    "tags": []
   },
   "outputs": [
    {
     "data": {
      "image/png": "[encoded data removed]",
      "text/plain": [
       "<Figure size 432x288 with 1 Axes>"
      ]
     },
     "metadata": {
      "needs_background": "light"
     },
     "output_type": "display_data"
    },
    {
     "name": "stdout",
     "output_type": "stream",
     "text": [
      "Loss на обучающей выборке: 0.56662\n",
      "Процент правильных предсказаний на валидационной выборке: 74.02%\n"
     ]
    }
   ],
   "source": [
    "from IPython.display import clear_output\n",
    "\n",
    "# Будем сохранять loss во время обучения\n",
    "# и рисовать график в режиме реального времени\n",
    "train_loss_set = []\n",
    "train_loss = 0\n",
    "\n",
    "\n",
    "# Обучение\n",
    "# Переводим модель в training mode\n",
    "model.train()\n",
    "\n",
    "\n",
    "for step, batch in enumerate(train_dataloader):\n",
    "    # добавляем батч для вычисления на GPU\n",
    "    batch = tuple(t.to(device) for t in batch)\n",
    "    # Распаковываем данные из dataloader\n",
    "    b_input_ids, b_input_mask, b_labels = batch\n",
    "    \n",
    "    # если не сделать .zero_grad(), градиенты будут накапливаться\n",
    "    optimizer.zero_grad()\n",
    "    \n",
    "    # Forward pass\n",
    "    loss = model(b_input_ids, token_type_ids=None, attention_mask=b_input_mask, labels=b_labels)\n",
    "\n",
    "    train_loss_set.append(loss[0].item())  \n",
    "    \n",
    "    # Backward pass\n",
    "    loss[0].backward()\n",
    "    \n",
    "    # Обновляем параметры и делаем шаг используя посчитанные градиенты\n",
    "    optimizer.step()\n",
    "\n",
    "    # Обновляем loss\n",
    "    train_loss += loss[0].item()\n",
    "    \n",
    "    # Рисуем график\n",
    "    clear_output(True)\n",
    "    plt.plot(train_loss_set)\n",
    "    plt.title(\"Training loss\")\n",
    "    plt.xlabel(\"Batch\")\n",
    "    plt.ylabel(\"Loss\")\n",
    "    plt.show()\n",
    "    \n",
    "print(\"Loss на обучающей выборке: {0:.5f}\".format(train_loss / len(train_dataloader)))\n",
    "\n",
    "\n",
    "# Валидация\n",
    "# Переводим модель в evaluation mode\n",
    "model.eval()\n",
    "\n",
    "valid_preds, valid_labels = [], []\n",
    "\n",
    "for batch in validation_dataloader:   \n",
    "    # добавляем батч для вычисления на GPU\n",
    "    batch = tuple(t.to(device) for t in batch)\n",
    "    \n",
    "    # Распаковываем данные из dataloader\n",
    "    b_input_ids, b_input_mask, b_labels = batch\n",
    "    \n",
    "    # При использовании .no_grad() модель не будет считать и хранить градиенты.\n",
    "    # Это ускорит процесс предсказания меток для валидационных данных.\n",
    "    with torch.no_grad():\n",
    "        logits = model(b_input_ids, token_type_ids=None, attention_mask=b_input_mask)\n",
    "\n",
    "    # Перемещаем logits и метки классов на CPU для дальнейшей работы\n",
    "    logits = logits[0].detach().cpu().numpy()\n",
    "    label_ids = b_labels.to('cpu').numpy()\n",
    "    \n",
    "    batch_preds = np.argmax(logits, axis=1)\n",
    "    batch_labels = np.concatenate(label_ids)     \n",
    "    valid_preds.extend(batch_preds)\n",
    "    valid_labels.extend(batch_labels)\n",
    "\n",
    "print(\"Процент правильных предсказаний на валидационной выборке: {0:.2f}%\".format(\n",
    "    accuracy_score(valid_labels, valid_preds) * 100\n",
    "))"
   ]
  },
  {
   "cell_type": "code",
   "execution_count": 27,
   "id": "8695f89d",
   "metadata": {
    "execution": {
     "iopub.execute_input": "2022-04-22T13:31:09.154666Z",
     "iopub.status.busy": "2022-04-22T13:31:09.153781Z",
     "iopub.status.idle": "2022-04-22T13:31:09.163731Z",
     "shell.execute_reply": "2022-04-22T13:31:09.163210Z"
    },
    "papermill": {
     "duration": 0.154538,
     "end_time": "2022-04-22T13:31:09.163849",
     "exception": false,
     "start_time": "2022-04-22T13:31:09.009311",
     "status": "completed"
    },
    "tags": []
   },
   "outputs": [
    {
     "name": "stdout",
     "output_type": "stream",
     "text": [
      "Процент правильных предсказаний на валидационной выборке: 74.02%\n"
     ]
    }
   ],
   "source": [
    "print(\"Процент правильных предсказаний на валидационной выборке: {0:.2f}%\".format(\n",
    "    accuracy_score(valid_labels, valid_preds) * 100\n",
    "))"
   ]
  },
  {
   "cell_type": "markdown",
   "id": "2797339a",
   "metadata": {
    "id": "mkyubuJSOzg3",
    "papermill": {
     "duration": 0.136632,
     "end_time": "2022-04-22T13:31:09.436507",
     "exception": false,
     "start_time": "2022-04-22T13:31:09.299875",
     "status": "completed"
    },
    "tags": []
   },
   "source": [
    "# Оценка качества на отложенной выборке"
   ]
  },
  {
   "cell_type": "code",
   "execution_count": 28,
   "id": "e9c7babc",
   "metadata": {
    "execution": {
     "iopub.execute_input": "2022-04-22T13:31:09.742241Z",
     "iopub.status.busy": "2022-04-22T13:31:09.732135Z",
     "iopub.status.idle": "2022-04-22T13:31:54.614125Z",
     "shell.execute_reply": "2022-04-22T13:31:54.613207Z"
    },
    "id": "mAN0LZBOOPVh",
    "papermill": {
     "duration": 45.04158,
     "end_time": "2022-04-22T13:31:54.614274",
     "exception": false,
     "start_time": "2022-04-22T13:31:09.572694",
     "status": "completed"
    },
    "tags": []
   },
   "outputs": [],
   "source": [
    "tokenized_texts = [tokenizer.tokenize(sent) for sent in test_sentences]\n",
    "input_ids = [tokenizer.convert_tokens_to_ids(x) for x in tokenized_texts]\n",
    "\n",
    "input_ids = pad_sequences(\n",
    "    input_ids,\n",
    "    maxlen=100,\n",
    "    dtype=\"long\",\n",
    "    truncating=\"post\",\n",
    "    padding=\"post\"\n",
    ")"
   ]
  },
  {
   "cell_type": "code",
   "execution_count": 29,
   "id": "9790a086",
   "metadata": {
    "execution": {
     "iopub.execute_input": "2022-04-22T13:31:54.902357Z",
     "iopub.status.busy": "2022-04-22T13:31:54.892101Z",
     "iopub.status.idle": "2022-04-22T13:32:00.592476Z",
     "shell.execute_reply": "2022-04-22T13:32:00.592902Z"
    },
    "papermill": {
     "duration": 5.856428,
     "end_time": "2022-04-22T13:32:00.593063",
     "exception": false,
     "start_time": "2022-04-22T13:31:54.736635",
     "status": "completed"
    },
    "tags": []
   },
   "outputs": [],
   "source": [
    "attention_masks = [[float(i>0) for i in seq] for seq in input_ids]\n",
    "\n",
    "prediction_inputs = torch.tensor(input_ids)\n",
    "prediction_masks = torch.tensor(attention_masks)\n",
    "prediction_labels = torch.tensor(test_gt)\n",
    "\n",
    "prediction_data = TensorDataset(\n",
    "    prediction_inputs,\n",
    "    prediction_masks,\n",
    "    prediction_labels\n",
    ")\n",
    "\n",
    "prediction_dataloader = DataLoader(\n",
    "    prediction_data, \n",
    "    sampler=SequentialSampler(prediction_data),\n",
    "    batch_size=32\n",
    ")"
   ]
  },
  {
   "cell_type": "code",
   "execution_count": 30,
   "id": "4a61d5dc",
   "metadata": {
    "execution": {
     "iopub.execute_input": "2022-04-22T13:32:00.845616Z",
     "iopub.status.busy": "2022-04-22T13:32:00.844732Z",
     "iopub.status.idle": "2022-04-22T13:35:46.871790Z",
     "shell.execute_reply": "2022-04-22T13:35:46.870872Z"
    },
    "id": "Hba10sXR7Xi6",
    "papermill": {
     "duration": 226.156531,
     "end_time": "2022-04-22T13:35:46.871939",
     "exception": false,
     "start_time": "2022-04-22T13:32:00.715408",
     "status": "completed"
    },
    "tags": []
   },
   "outputs": [],
   "source": [
    "model.eval()\n",
    "test_preds, test_labels = [], []\n",
    "\n",
    "for batch in prediction_dataloader:\n",
    "    # добавляем батч для вычисления на GPU\n",
    "    batch = tuple(t.to(device) for t in batch)\n",
    "    \n",
    "    # Распаковываем данные из dataloader\n",
    "    b_input_ids, b_input_mask, b_labels = batch\n",
    "    \n",
    "    # При использовании .no_grad() модель не будет считать и хранить градиенты.\n",
    "    # Это ускорит процесс предсказания меток для тестовых данных.\n",
    "    with torch.no_grad():\n",
    "        logits = model(b_input_ids, token_type_ids=None, attention_mask=b_input_mask)\n",
    "\n",
    "    # Перемещаем logits и метки классов на CPU для дальнейшей работы\n",
    "    logits = logits[0].detach().cpu().numpy()\n",
    "    label_ids = b_labels.to('cpu').numpy()\n",
    "\n",
    "    # Сохраняем предсказанные классы и ground truth\n",
    "    batch_preds = np.argmax(logits, axis=1)\n",
    "    batch_labels = np.concatenate(label_ids)  \n",
    "    test_preds.extend(batch_preds)\n",
    "    test_labels.extend(batch_labels)"
   ]
  },
  {
   "cell_type": "code",
   "execution_count": 31,
   "id": "8a0ad417",
   "metadata": {
    "execution": {
     "iopub.execute_input": "2022-04-22T13:35:47.131145Z",
     "iopub.status.busy": "2022-04-22T13:35:47.130331Z",
     "iopub.status.idle": "2022-04-22T13:35:47.153572Z",
     "shell.execute_reply": "2022-04-22T13:35:47.154145Z"
    },
    "papermill": {
     "duration": 0.159104,
     "end_time": "2022-04-22T13:35:47.154325",
     "exception": false,
     "start_time": "2022-04-22T13:35:46.995221",
     "status": "completed"
    },
    "tags": []
   },
   "outputs": [
    {
     "name": "stdout",
     "output_type": "stream",
     "text": [
      "Процент правильных предсказаний на отложенной выборке составил: 74.18%\n"
     ]
    }
   ],
   "source": [
    "acc_score = accuracy_score(test_labels, test_preds)\n",
    "print('Процент правильных предсказаний на отложенной выборке составил: {0:.2f}%'.format(\n",
    "    acc_score*100\n",
    "))"
   ]
  },
  {
   "cell_type": "code",
   "execution_count": 32,
   "id": "66e0b57b",
   "metadata": {
    "execution": {
     "iopub.execute_input": "2022-04-22T13:35:47.599189Z",
     "iopub.status.busy": "2022-04-22T13:35:47.598490Z",
     "iopub.status.idle": "2022-04-22T13:35:47.601599Z",
     "shell.execute_reply": "2022-04-22T13:35:47.601994Z"
    },
    "papermill": {
     "duration": 0.324015,
     "end_time": "2022-04-22T13:35:47.602133",
     "exception": false,
     "start_time": "2022-04-22T13:35:47.278118",
     "status": "completed"
    },
    "tags": []
   },
   "outputs": [
    {
     "name": "stdout",
     "output_type": "stream",
     "text": [
      "Неправильных предсказаний: 17569/68051\n"
     ]
    }
   ],
   "source": [
    "print('Неправильных предсказаний: {0}/{1}'.format(\n",
    "    sum(np.array(test_labels) != np.array(test_preds)),\n",
    "    len(test_labels)\n",
    "))"
   ]
  },
  {
   "cell_type": "markdown",
   "id": "e74bcbdb",
   "metadata": {
    "papermill": {
     "duration": 0.134752,
     "end_time": "2022-04-22T13:35:47.859290",
     "exception": false,
     "start_time": "2022-04-22T13:35:47.724538",
     "status": "completed"
    },
    "tags": []
   },
   "source": [
    "### Задание. Внимательно изучите датасет с русскими твитами. В чем его особенности? Нет ли явных паттернов или ключевых слов, которые однозначно определяют сентимент твита?"
   ]
  },
  {
   "cell_type": "code",
   "execution_count": 33,
   "id": "496632f6",
   "metadata": {
    "execution": {
     "iopub.execute_input": "2022-04-22T13:35:48.167543Z",
     "iopub.status.busy": "2022-04-22T13:35:48.166542Z",
     "iopub.status.idle": "2022-04-22T13:35:48.173825Z",
     "shell.execute_reply": "2022-04-22T13:35:48.173315Z",
     "shell.execute_reply.started": "2022-04-22T12:19:55.778035Z"
    },
    "papermill": {
     "duration": 0.173779,
     "end_time": "2022-04-22T13:35:48.173955",
     "exception": false,
     "start_time": "2022-04-22T13:35:48.000176",
     "status": "completed"
    },
    "tags": []
   },
   "outputs": [
    {
     "data": {
      "text/plain": [
       "['first_timee хоть я и школота но поверь у нас то же самое  общество профилирующий предмет типа',\n",
       " 'Да всетаки он немного похож на него Но мой мальчик все равно лучше',\n",
       " 'RT KatiaCheh Ну ты идиотка я испугалась за тебя',\n",
       " 'RT digger2912 Кто то в углу сидит и погибает от голода а мы ещё 2 порции взяли хотя уже и так жрать не хотим D httptcoGqG6iuE2',\n",
       " 'irina_dyshkant Вот что значит страшилка \\nНо блинпосмотрев все частиу тебя создастся ощущениечто авторы курили чтото ',\n",
       " 'ну любишь или нет  Я не знаю кто ты бля httptcobrf9eNg1U6',\n",
       " 'RT SpoonLamer Ох900  ну это конечно же twinkleAYO  Чтобы у нее было много друзей ведь она такая мимими lt3',\n",
       " 'RT veregijytaqo У тебя есть ухажёр Нет  мои уши не кто не жрёт ',\n",
       " 'Поприветствуем моего нового читателя Alexey1789 ',\n",
       " 'Теперь у меня есть частичка Сиднея  Sydney SydneyOperaHouse httptcoagnto3CZEi']"
      ]
     },
     "execution_count": 33,
     "metadata": {},
     "output_type": "execute_result"
    }
   ],
   "source": [
    "list(pos_texts[3])[:10]"
   ]
  },
  {
   "cell_type": "code",
   "execution_count": 34,
   "id": "8367e5ee",
   "metadata": {
    "execution": {
     "iopub.execute_input": "2022-04-22T13:35:48.493095Z",
     "iopub.status.busy": "2022-04-22T13:35:48.492410Z",
     "iopub.status.idle": "2022-04-22T13:35:48.495103Z",
     "shell.execute_reply": "2022-04-22T13:35:48.495515Z",
     "shell.execute_reply.started": "2022-04-22T12:19:22.719403Z"
    },
    "papermill": {
     "duration": 0.18425,
     "end_time": "2022-04-22T13:35:48.495655",
     "exception": false,
     "start_time": "2022-04-22T13:35:48.311405",
     "status": "completed"
    },
    "tags": []
   },
   "outputs": [
    {
     "data": {
      "text/plain": [
       "0.0"
      ]
     },
     "execution_count": 34,
     "metadata": {},
     "output_type": "execute_result"
    }
   ],
   "source": [
    "len([line for line in list(pos_texts[3]) if (\")\" in line) or \":D\" in line])/len(list(pos_texts[3]))"
   ]
  },
  {
   "cell_type": "code",
   "execution_count": 35,
   "id": "9f549fe7",
   "metadata": {
    "execution": {
     "iopub.execute_input": "2022-04-22T13:35:48.767863Z",
     "iopub.status.busy": "2022-04-22T13:35:48.767048Z",
     "iopub.status.idle": "2022-04-22T13:35:48.770182Z",
     "shell.execute_reply": "2022-04-22T13:35:48.770594Z"
    },
    "papermill": {
     "duration": 0.151225,
     "end_time": "2022-04-22T13:35:48.770728",
     "exception": false,
     "start_time": "2022-04-22T13:35:48.619503",
     "status": "completed"
    },
    "tags": []
   },
   "outputs": [
    {
     "data": {
      "text/plain": [
       "['на работе был полный пиддес  и так каждое закрытие месяца я же свихнусь так ',\n",
       " 'Коллеги сидят рубятся в Urban terror а я изза долбанной винды не могу ',\n",
       " 'elina_4post как говорят обещаного три года ждут',\n",
       " 'Желаю хорошего полёта и удачной посадкия буду очень сильно скучать httptcojCLNzVNv3S',\n",
       " 'Обновил за какимто лешим surf теперь не работает простоплеер ',\n",
       " 'Котёнка вчера носик разбила плакала и расстраивалась ',\n",
       " 'juliamayko O_nika55 and_Possum Зашли а то он опять затихарился я прямо физически страдаю когда он долго молчит',\n",
       " 'а вообще я не болею   я не выздоравливаю ',\n",
       " 'я микрофраза  учимся срать кирпичами в режиме ampquotнонстопampquot niwoqisipapy',\n",
       " 'я хочу с тобой помириться  но сука я гордая и никогда этого не сделаю ',\n",
       " 'DNO_OKEANA_A3A3 MOE_MOPE_A3A3 тебя ебет какие у меня фоткия про твои молчуи вообще ты хоть знаешь как ТП то выглядят',\n",
       " 'Блин начали сниться сны Не когда почти не снились  А теперь можно сказать каждый день такое  Мне это не нравиться ',\n",
       " 'realVold На твоем месте я бы сначала телек купил бы',\n",
       " 'faraonbgr111 плохо боишься значит ты где В мск бгр',\n",
       " 'А я хотела электромобиль \\nhttptcovgs9JeUPHz',\n",
       " 'Скоро увижу твои зеленые глаза в последний раз',\n",
       " 'Вот это да докатилсяпооранжевел патриот Чо деется  RT SapelSV Бабки объединят КПРФ и Навального httptcokyJk4A79kv',\n",
       " 'Ну уже 1225 ночииии а я ничего не сделалаллалалалалалалвцмдэмппдпктцдкиицкп',\n",
       " '190299der я очень радано ты им разобьешь сердца\\nМне их  жалко епт\\nмне оч жалко Влада\\nА всех остальных нет\\n',\n",
       " 'Сегодня какойто нехороший день у меня  Телефон наушники не опознает у блога както умудрился шаблон сломать да еще',\n",
       " 'думаюна моем веку почта россии не поднимется со дна ',\n",
       " 'Мне одному   напоминает дом2 Путин делает реалитишоу O_o',\n",
       " 'ебааааа сейчас модуль будет по региональной экономике ',\n",
       " 'kordalona_mars оооууу ты меня анфолловил чувак',\n",
       " 'вот так я встречаю зиму httptcoFjivXAGcR9',\n",
       " 'Kyo_oppa ну вот туда медведь прикреплялся',\n",
       " 'чорт хотела сходить в кино  придется любоваться фильмом в уг качестве на компе',\n",
       " 'RT arinaaaaonskul Так плохо я себя не чувствовала давно  ',\n",
       " 'Как понизить температуру ноута Снаружи 30 так что он постоянно раскалённый ',\n",
       " 'Anastasia_pain думаешь упаду со стула ',\n",
       " 'Deniska_perm да нет но условия будут более спартанские ',\n",
       " 'Хотела маме сделать сюрприз как всегда все навернулось',\n",
       " 'я блин сутками его жду а он с друзьями общаться с которыми ежедневно видится ',\n",
       " 'Annya_Nik YankaMurygina Так и думал \\nНе судьба походу попасть к мастерам',\n",
       " 'RT davidmsk У берегов КостаРики водятся 1600 видов рыб А на берег выходят черепахи весом до 500 кг Но я не видел  httptco9ixMBH',\n",
       " 'lisi_Ca maybe_reg49_27 One_ENCLAVE LyudaLa самая смешная из лисичек  тибетская Это не фотошоп httptcokDDYZartwl о_О',\n",
       " 'Потеряла креапления от борда Как так Я же их не снимала',\n",
       " 'RT Ksenyamalischev Устала от семинара',\n",
       " 'Опять простылаВсе гуляюткатаюттусуюта яЧто за невезение',\n",
       " '1libertad первые деньги пойдут на красные мокасины потом на ремень гермес потом на приору а потом уже можно умереть ',\n",
       " 'volkova_v Мясорубка пожирает деньги налогоплательщиков ',\n",
       " '_rakka_ brovo4ka а я не переношу соционику это самый адовый бред что я видел и все как один помешались',\n",
       " 'Пора делать уроки учить Лермонтова  httptcoCShrNmfFCL',\n",
       " 'Romashka_Vera блин он наверно уже не действителен уже сама хочу там заказ сделать а скидки нет',\n",
       " 'Я так хотела побыстрее попробывать сырный супчто обожгла весь языки вообще ни чего не чувствую',\n",
       " 'Внезапно настало лето Дома из обоих кранов течёт холодная вода ',\n",
       " 'natahin_ кто из СМИ первее  на того и ссылка в поисковике ',\n",
       " 'the_anechnaya babooshkina блин а мне халвы захотелось',\n",
       " 'only_069 ДА \\nВОСПАЛЕНИЕ ЛЕГКИХ\\nЯ ПОЧТИ 2 НЕДЕЛИ В БОЛЬНИЦЕ ЛЕЖАЛА  И В ТВИ ТОЖ НИ ЗАХОДИЛА',\n",
       " 'Каждое его смскак доза\\nЧто вообще со мной происходить ']"
      ]
     },
     "execution_count": 35,
     "metadata": {},
     "output_type": "execute_result"
    }
   ],
   "source": [
    "list(neg_texts[3])[:50]"
   ]
  },
  {
   "cell_type": "code",
   "execution_count": 36,
   "id": "f4492a46",
   "metadata": {
    "execution": {
     "iopub.execute_input": "2022-04-22T13:35:49.056443Z",
     "iopub.status.busy": "2022-04-22T13:35:49.022226Z",
     "iopub.status.idle": "2022-04-22T13:35:49.086465Z",
     "shell.execute_reply": "2022-04-22T13:35:49.085991Z",
     "shell.execute_reply.started": "2022-04-22T12:21:04.588014Z"
    },
    "papermill": {
     "duration": 0.192854,
     "end_time": "2022-04-22T13:35:49.086584",
     "exception": false,
     "start_time": "2022-04-22T13:35:48.893730",
     "status": "completed"
    },
    "tags": []
   },
   "outputs": [
    {
     "data": {
      "text/plain": [
       "0.0"
      ]
     },
     "execution_count": 36,
     "metadata": {},
     "output_type": "execute_result"
    }
   ],
   "source": [
    "len([line for line in list(neg_texts[3]) if (\"(\" in line) or \"D:\" in line])/len(list(pos_texts[3]))"
   ]
  },
  {
   "cell_type": "markdown",
   "id": "1a686b2e",
   "metadata": {
    "papermill": {
     "duration": 0.124322,
     "end_time": "2022-04-22T13:35:49.335197",
     "exception": false,
     "start_time": "2022-04-22T13:35:49.210875",
     "status": "completed"
    },
    "tags": []
   },
   "source": [
    "### Задание. Попробуйте удалить пунктуацию из датасета с русскими твитами и перезапустите дообучение модели. Изменилось ли итоговое качество работы модели? Почему?"
   ]
  },
  {
   "cell_type": "code",
   "execution_count": 37,
   "id": "8e4d3364",
   "metadata": {
    "execution": {
     "iopub.execute_input": "2022-04-22T13:35:49.630959Z",
     "iopub.status.busy": "2022-04-22T13:35:49.626227Z",
     "iopub.status.idle": "2022-04-22T13:35:50.649929Z",
     "shell.execute_reply": "2022-04-22T13:35:50.649075Z",
     "shell.execute_reply.started": "2022-04-22T12:32:44.499759Z"
    },
    "papermill": {
     "duration": 1.18575,
     "end_time": "2022-04-22T13:35:50.650066",
     "exception": false,
     "start_time": "2022-04-22T13:35:49.464316",
     "status": "completed"
    },
    "tags": []
   },
   "outputs": [],
   "source": [
    "import re\n",
    "pos_texts = [re.sub(r':D|D:|[^\\w\\s]', '', line) for line in list(pos_texts[3])]\n",
    "neg_texts = [re.sub(r':D|D:|[^\\w\\s]', '', line) for line in list(neg_texts[3])]"
   ]
  },
  {
   "cell_type": "markdown",
   "id": "3e4e07a7",
   "metadata": {
    "papermill": {
     "duration": 0.12496,
     "end_time": "2022-04-22T13:35:50.900758",
     "exception": false,
     "start_time": "2022-04-22T13:35:50.775798",
     "status": "completed"
    },
    "tags": []
   },
   "source": [
    "### Домашнее задание"
   ]
  },
  {
   "cell_type": "markdown",
   "id": "13bc2696",
   "metadata": {
    "papermill": {
     "duration": 0.124735,
     "end_time": "2022-04-22T13:35:51.149313",
     "exception": false,
     "start_time": "2022-04-22T13:35:51.024578",
     "status": "completed"
    },
    "tags": []
   },
   "source": [
    "Скачайте датасет с отзывами на фильмы. Например, используйте датасет [IMDB Dataset of 50K Movie Reviews](https://www.kaggle.com/lakshmi25npathi/imdb-dataset-of-50k-movie-reviews). "
   ]
  },
  {
   "cell_type": "raw",
   "id": "87217acb",
   "metadata": {
    "papermill": {
     "duration": 0.128429,
     "end_time": "2022-04-22T13:35:51.401382",
     "exception": false,
     "start_time": "2022-04-22T13:35:51.272953",
     "status": "completed"
    },
    "tags": []
   },
   "source": [
    "import pandas as pd\n",
    "\n",
    "dataset = pd.read_csv('datasets/bert_sentiment_analysis/homework/IMDB_Dataset.csv')"
   ]
  },
  {
   "cell_type": "raw",
   "id": "c8ec731d",
   "metadata": {
    "papermill": {
     "duration": 0.124047,
     "end_time": "2022-04-22T13:35:51.651708",
     "exception": false,
     "start_time": "2022-04-22T13:35:51.527661",
     "status": "completed"
    },
    "tags": []
   },
   "source": [
    "dataset.head()"
   ]
  },
  {
   "cell_type": "code",
   "execution_count": null,
   "id": "2c6e31e1",
   "metadata": {
    "papermill": {
     "duration": 0.134558,
     "end_time": "2022-04-22T13:35:51.910590",
     "exception": false,
     "start_time": "2022-04-22T13:35:51.776032",
     "status": "completed"
    },
    "tags": []
   },
   "outputs": [],
   "source": []
  }
 ],
 "metadata": {
  "kernelspec": {
   "display_name": "Python 3",
   "language": "python",
   "name": "python3"
  },
  "language_info": {
   "codemirror_mode": {
    "name": "ipython",
    "version": 3
   },
   "file_extension": ".py",
   "mimetype": "text/x-python",
   "name": "python",
   "nbconvert_exporter": "python",
   "pygments_lexer": "ipython3",
   "version": "3.7.12"
  },
  "papermill": {
   "default_parameters": {},
   "duration": 2937.759237,
   "end_time": "2022-04-22T13:35:55.067753",
   "environment_variables": {},
   "exception": null,
   "input_path": "__notebook__.ipynb",
   "output_path": "__notebook__.ipynb",
   "parameters": {},
   "start_time": "2022-04-22T12:46:57.308516",
   "version": "2.3.3"
  }
 },
 "nbformat": 4,
 "nbformat_minor": 5
}
