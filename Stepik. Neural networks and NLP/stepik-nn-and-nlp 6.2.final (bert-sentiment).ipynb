{
 "cells": [
  {
   "cell_type": "code",
   "execution_count": 1,
   "id": "fc607f98",
   "metadata": {
    "execution": {
     "iopub.execute_input": "2022-04-22T16:41:36.628332Z",
     "iopub.status.busy": "2022-04-22T16:41:36.626821Z",
     "iopub.status.idle": "2022-04-22T16:41:36.643708Z",
     "shell.execute_reply": "2022-04-22T16:41:36.643163Z",
     "shell.execute_reply.started": "2022-04-22T16:36:59.148557Z"
    },
    "papermill": {
     "duration": 0.066183,
     "end_time": "2022-04-22T16:41:36.643839",
     "exception": false,
     "start_time": "2022-04-22T16:41:36.577656",
     "status": "completed"
    },
    "tags": []
   },
   "outputs": [
    {
     "name": "stdout",
     "output_type": "stream",
     "text": [
      "/kaggle/input/imdb-dataset-of-50k-movie-reviews/IMDB Dataset.csv\n"
     ]
    }
   ],
   "source": [
    "# This Python 3 environment comes with many helpful analytics libraries installed\n",
    "# It is defined by the kaggle/python Docker image: https://github.com/kaggle/docker-python\n",
    "# For example, here's several helpful packages to load\n",
    "\n",
    "import numpy as np # linear algebra\n",
    "import pandas as pd # data processing, CSV file I/O (e.g. pd.read_csv)\n",
    "\n",
    "# Input data files are available in the read-only \"../input/\" directory\n",
    "# For example, running this (by clicking run or pressing Shift+Enter) will list all files under the input directory\n",
    "\n",
    "import os\n",
    "for dirname, _, filenames in os.walk('/kaggle/input'):\n",
    "    for filename in filenames:\n",
    "        print(os.path.join(dirname, filename))\n",
    "\n",
    "# You can write up to 20GB to the current directory (/kaggle/working/) that gets preserved as output when you create a version using \"Save & Run All\" \n",
    "# You can also write temporary files to /kaggle/temp/, but they won't be saved outside of the current session"
   ]
  },
  {
   "cell_type": "raw",
   "id": "178d9c0e",
   "metadata": {
    "papermill": {
     "duration": 0.043728,
     "end_time": "2022-04-22T16:41:36.735538",
     "exception": false,
     "start_time": "2022-04-22T16:41:36.691810",
     "status": "completed"
    },
    "tags": []
   },
   "source": [
    "Исходное задание.\n",
    "\n",
    "В качестве домашнего задания мы предлагаем Вам попробовать дообучить BERT на более традиционном датасете - коллекции отзывов на фильмы (IMDB Dataset of 50K Movie Reviews).\n",
    "\n",
    "На первый взгляд, задание кажется очень простым: Вам нужно перезапустить код семинара, подав на дообучение другие данные. После выполнения этого несложного упражнения, ответьте на вопросы:\n",
    "1. Удалось ли достичь такого же accuracy (98\\%) при использовании IMDB датасета?\n",
    "2. Удалось ли получить хорошее качество классификации всего за одну эпоху?\n",
    "3. Подумайте, в чем может быть причина различий в дообучении одной и той же модели на разных датасетах\n",
    "    - Внимательно изучите датасет с русскими твитами. В чем его особенности? Нет ли явных паттернов или ключевых слов, которые однозначно определяют сентимент твита?\n",
    "    - Попробуйте удалить пунктуацию из датасета с русскими твитами и перезапустите дообучение модели. Изменилось ли итоговое качество работы модели? Почему?"
   ]
  },
  {
   "cell_type": "raw",
   "id": "4881688b",
   "metadata": {
    "papermill": {
     "duration": 0.043525,
     "end_time": "2022-04-22T16:41:36.822611",
     "exception": false,
     "start_time": "2022-04-22T16:41:36.779086",
     "status": "completed"
    },
    "tags": []
   },
   "source": [
    "Итоговое задание для меня:\n",
    "    + Запустить и сохранить через Save Version текущую версию ноутбука (с твитами), без использования импортов из dlnlputils\n",
    "    - Понять код семинара, где нужно добавить дополнительные комментарии\n",
    "        - разобраться с вопросами из комментариев, в особенности про саму выбранную модель берт, является ли они мультиязычной \n",
    "          или нет и т.п.\n",
    "    - Запустить BERT на более традиционном датасете - коллекции отзывов на фильмы (IMDB Dataset of 50K Movie Reviews)\n",
    "    - Ответить на вопросы:\n",
    "        - Удалось ли достичь такого же accuracy (98%) при использовании IMDB датасета?\n",
    "        - Удалось ли получить хорошее качество классификации всего за одну эпоху?\n",
    "        - Подумайте, в чем может быть причина различий в дообучении одной и той же модели на разных датасетах\n",
    "            + Внимательно изучите датасет с русскими твитами. В чем его особенности? Нет ли явных паттернов или ключевых слов, \n",
    "              которые однозначно определяют сентимент твита? = огромный процент (>90%) позитивных спайлов в позитивных твитах \n",
    "              и негативных в негативных \n",
    "            - Попробуйте удалить пунктуацию из датасета с русскими твитами и перезапустите дообучение модели. Изменилось ли \n",
    "              итоговое качество работы модели? Почему? = 74%, очень возможно потому что модель английская, имеет смысл \n",
    "              попробовать мультиязычную или русскоязычную модель"
   ]
  },
  {
   "cell_type": "markdown",
   "id": "ce8f2dd9",
   "metadata": {
    "id": "jNKaJz5j_ylj",
    "papermill": {
     "duration": 0.043443,
     "end_time": "2022-04-22T16:41:36.912130",
     "exception": false,
     "start_time": "2022-04-22T16:41:36.868687",
     "status": "completed"
    },
    "tags": []
   },
   "source": [
    "# Определение эмоциональной окраски твитов с помощью BERT"
   ]
  },
  {
   "cell_type": "code",
   "execution_count": 2,
   "id": "bcdb44e9",
   "metadata": {
    "execution": {
     "iopub.execute_input": "2022-04-22T16:41:37.004147Z",
     "iopub.status.busy": "2022-04-22T16:41:37.003366Z",
     "iopub.status.idle": "2022-04-22T16:41:37.005292Z",
     "shell.execute_reply": "2022-04-22T16:41:37.005728Z",
     "shell.execute_reply.started": "2022-04-22T16:36:59.188510Z"
    },
    "papermill": {
     "duration": 0.050003,
     "end_time": "2022-04-22T16:41:37.005855",
     "exception": false,
     "start_time": "2022-04-22T16:41:36.955852",
     "status": "completed"
    },
    "tags": []
   },
   "outputs": [],
   "source": [
    "# Если Вы запускаете ноутбук на colab или kaggle,\n",
    "# выполните следующие строчки, чтобы подгрузить библиотеку dlnlputils:\n",
    "\n",
    "# !git clone https://github.com/Samsung-IT-Academy/stepik-dl-nlp.git && pip install -r stepik-dl-nlp/requirements.txt\n",
    "# import sys; sys.path.append('./stepik-dl-nlp')"
   ]
  },
  {
   "cell_type": "markdown",
   "id": "cdb01e1b",
   "metadata": {
    "id": "RX_ZDhicpHkV",
    "papermill": {
     "duration": 0.047832,
     "end_time": "2022-04-22T16:41:37.097266",
     "exception": false,
     "start_time": "2022-04-22T16:41:37.049434",
     "status": "completed"
    },
    "tags": []
   },
   "source": [
    "## Установка библиотек"
   ]
  },
  {
   "cell_type": "code",
   "execution_count": 3,
   "id": "b536595f",
   "metadata": {
    "execution": {
     "iopub.execute_input": "2022-04-22T16:41:37.199154Z",
     "iopub.status.busy": "2022-04-22T16:41:37.198293Z",
     "iopub.status.idle": "2022-04-22T16:41:46.360815Z",
     "shell.execute_reply": "2022-04-22T16:41:46.360316Z",
     "shell.execute_reply.started": "2022-04-22T16:36:59.193970Z"
    },
    "id": "0NmMdkZO8R6q",
    "outputId": "1cc59bfa-1dbb-4540-cb22-196f399f62af",
    "papermill": {
     "duration": 9.216453,
     "end_time": "2022-04-22T16:41:46.360954",
     "exception": false,
     "start_time": "2022-04-22T16:41:37.144501",
     "status": "completed"
    },
    "tags": []
   },
   "outputs": [
    {
     "name": "stdout",
     "output_type": "stream",
     "text": [
      "Collecting pytorch-transformers\r\n",
      "  Downloading pytorch_transformers-1.2.0-py3-none-any.whl (176 kB)\r\n",
      "     |████████████████████████████████| 176 kB 5.0 MB/s            \r\n",
      "\u001b[?25hRequirement already satisfied: sentencepiece in /opt/conda/lib/python3.7/site-packages (from pytorch-transformers) (0.1.96)\r\n",
      "Requirement already satisfied: regex in /opt/conda/lib/python3.7/site-packages (from pytorch-transformers) (2021.11.10)\r\n",
      "Requirement already satisfied: sacremoses in /opt/conda/lib/python3.7/site-packages (from pytorch-transformers) (0.0.49)\r\n",
      "Requirement already satisfied: boto3 in /opt/conda/lib/python3.7/site-packages (from pytorch-transformers) (1.21.20)\r\n",
      "Requirement already satisfied: requests in /opt/conda/lib/python3.7/site-packages (from pytorch-transformers) (2.26.0)\r\n",
      "Requirement already satisfied: tqdm in /opt/conda/lib/python3.7/site-packages (from pytorch-transformers) (4.62.3)\r\n",
      "Requirement already satisfied: torch>=1.0.0 in /opt/conda/lib/python3.7/site-packages (from pytorch-transformers) (1.9.1)\r\n",
      "Requirement already satisfied: numpy in /opt/conda/lib/python3.7/site-packages (from pytorch-transformers) (1.20.3)\r\n",
      "Requirement already satisfied: typing-extensions in /opt/conda/lib/python3.7/site-packages (from torch>=1.0.0->pytorch-transformers) (4.1.1)\r\n",
      "Requirement already satisfied: botocore<1.25.0,>=1.24.20 in /opt/conda/lib/python3.7/site-packages (from boto3->pytorch-transformers) (1.24.20)\r\n",
      "Requirement already satisfied: s3transfer<0.6.0,>=0.5.0 in /opt/conda/lib/python3.7/site-packages (from boto3->pytorch-transformers) (0.5.2)\r\n",
      "Requirement already satisfied: jmespath<1.0.0,>=0.7.1 in /opt/conda/lib/python3.7/site-packages (from boto3->pytorch-transformers) (0.10.0)\r\n",
      "Requirement already satisfied: certifi>=2017.4.17 in /opt/conda/lib/python3.7/site-packages (from requests->pytorch-transformers) (2021.10.8)\r\n",
      "Requirement already satisfied: urllib3<1.27,>=1.21.1 in /opt/conda/lib/python3.7/site-packages (from requests->pytorch-transformers) (1.26.7)\r\n",
      "Requirement already satisfied: idna<4,>=2.5 in /opt/conda/lib/python3.7/site-packages (from requests->pytorch-transformers) (3.1)\r\n",
      "Requirement already satisfied: charset-normalizer~=2.0.0 in /opt/conda/lib/python3.7/site-packages (from requests->pytorch-transformers) (2.0.9)\r\n",
      "Requirement already satisfied: joblib in /opt/conda/lib/python3.7/site-packages (from sacremoses->pytorch-transformers) (1.1.0)\r\n",
      "Requirement already satisfied: six in /opt/conda/lib/python3.7/site-packages (from sacremoses->pytorch-transformers) (1.16.0)\r\n",
      "Requirement already satisfied: click in /opt/conda/lib/python3.7/site-packages (from sacremoses->pytorch-transformers) (8.0.3)\r\n",
      "Requirement already satisfied: python-dateutil<3.0.0,>=2.1 in /opt/conda/lib/python3.7/site-packages (from botocore<1.25.0,>=1.24.20->boto3->pytorch-transformers) (2.8.2)\r\n",
      "Requirement already satisfied: importlib-metadata in /opt/conda/lib/python3.7/site-packages (from click->sacremoses->pytorch-transformers) (4.11.3)\r\n",
      "Requirement already satisfied: zipp>=0.5 in /opt/conda/lib/python3.7/site-packages (from importlib-metadata->click->sacremoses->pytorch-transformers) (3.6.0)\r\n",
      "Installing collected packages: pytorch-transformers\r\n",
      "Successfully installed pytorch-transformers-1.2.0\r\n",
      "\u001b[33mWARNING: Running pip as the 'root' user can result in broken permissions and conflicting behaviour with the system package manager. It is recommended to use a virtual environment instead: https://pip.pypa.io/warnings/venv\u001b[0m\r\n"
     ]
    }
   ],
   "source": [
    "!pip install pytorch-transformers"
   ]
  },
  {
   "cell_type": "code",
   "execution_count": 4,
   "id": "d645c42a",
   "metadata": {
    "execution": {
     "iopub.execute_input": "2022-04-22T16:41:46.464136Z",
     "iopub.status.busy": "2022-04-22T16:41:46.463336Z",
     "iopub.status.idle": "2022-04-22T16:41:53.202055Z",
     "shell.execute_reply": "2022-04-22T16:41:53.201164Z",
     "shell.execute_reply.started": "2022-04-22T16:37:11.021192Z"
    },
    "id": "Ok002ceNB8E7",
    "outputId": "06ef90d2-7518-4209-da66-1dd45c357c78",
    "papermill": {
     "duration": 6.792982,
     "end_time": "2022-04-22T16:41:53.202195",
     "exception": false,
     "start_time": "2022-04-22T16:41:46.409213",
     "status": "completed"
    },
    "tags": []
   },
   "outputs": [],
   "source": [
    "import torch\n",
    "from torch.utils.data import TensorDataset, DataLoader, RandomSampler, SequentialSampler\n",
    "from keras.preprocessing.sequence import pad_sequences\n",
    "from sklearn.model_selection import train_test_split\n",
    "from pytorch_transformers import BertTokenizer, BertConfig\n",
    "from pytorch_transformers import AdamW, BertForSequenceClassification\n",
    "from tqdm import tqdm, trange\n",
    "import pandas as pd\n",
    "import io\n",
    "import numpy as np\n",
    "from sklearn.metrics import accuracy_score\n",
    "import matplotlib.pyplot as plt"
   ]
  },
  {
   "cell_type": "code",
   "execution_count": 5,
   "id": "7028453f",
   "metadata": {
    "execution": {
     "iopub.execute_input": "2022-04-22T16:41:53.369237Z",
     "iopub.status.busy": "2022-04-22T16:41:53.363943Z",
     "iopub.status.idle": "2022-04-22T16:41:53.372858Z",
     "shell.execute_reply": "2022-04-22T16:41:53.373263Z",
     "shell.execute_reply.started": "2022-04-22T16:37:19.709871Z"
    },
    "id": "oYsV4H8fCpZ-",
    "outputId": "b8812c8e-3149-475f-b4c0-262160485c39",
    "papermill": {
     "duration": 0.12371,
     "end_time": "2022-04-22T16:41:53.373409",
     "exception": false,
     "start_time": "2022-04-22T16:41:53.249699",
     "status": "completed"
    },
    "tags": []
   },
   "outputs": [
    {
     "name": "stdout",
     "output_type": "stream",
     "text": [
      "Tesla P100-PCIE-16GB\n"
     ]
    }
   ],
   "source": [
    "device = torch.device(\"cuda\" if torch.cuda.is_available() else \"cpu\")\n",
    "if device.type == 'cpu':\n",
    "    print('cpu')\n",
    "else:\n",
    "    n_gpu = torch.cuda.device_count()\n",
    "    print(torch.cuda.get_device_name(0))"
   ]
  },
  {
   "cell_type": "markdown",
   "id": "b2c45e7a",
   "metadata": {
    "id": "guw6ZNtaswKc",
    "papermill": {
     "duration": 0.047276,
     "end_time": "2022-04-22T16:41:53.468200",
     "exception": false,
     "start_time": "2022-04-22T16:41:53.420924",
     "status": "completed"
    },
    "tags": []
   },
   "source": [
    "## Загрузка данных\n"
   ]
  },
  {
   "cell_type": "markdown",
   "id": "d14e845d",
   "metadata": {
    "papermill": {
     "duration": 0.046785,
     "end_time": "2022-04-22T16:41:53.563023",
     "exception": false,
     "start_time": "2022-04-22T16:41:53.516238",
     "status": "completed"
    },
    "tags": []
   },
   "source": [
    "Мы выбрали необычный датасет с разметкой сентимента русскоязычных твитов (подробнее про него в [статье](http://www.swsys.ru/index.php?page=article&id=3962&lang=)). В корпусе, который мы использовали 114,911 положительных и 111,923 отрицательных записей. Загрузить его можно [тут](https://study.mokoron.com/)."
   ]
  },
  {
   "cell_type": "code",
   "execution_count": 6,
   "id": "df96c830",
   "metadata": {
    "execution": {
     "iopub.execute_input": "2022-04-22T16:41:53.679413Z",
     "iopub.status.busy": "2022-04-22T16:41:53.672040Z",
     "iopub.status.idle": "2022-04-22T16:41:59.303148Z",
     "shell.execute_reply": "2022-04-22T16:41:59.302565Z",
     "shell.execute_reply.started": "2022-04-22T16:37:19.721241Z"
    },
    "papermill": {
     "duration": 5.69274,
     "end_time": "2022-04-22T16:41:59.303273",
     "exception": false,
     "start_time": "2022-04-22T16:41:53.610533",
     "status": "completed"
    },
    "tags": []
   },
   "outputs": [
    {
     "name": "stdout",
     "output_type": "stream",
     "text": [
      "  % Total    % Received % Xferd  Average Speed   Time    Time     Time  Current\r\n",
      "                                 Dload  Upload   Total   Spent    Left  Speed\r\n",
      "100 25.0M  100 25.0M    0     0  36.7M      0 --:--:-- --:--:-- --:--:-- 36.7M\r\n",
      "  % Total    % Received % Xferd  Average Speed   Time    Time     Time  Current\r\n",
      "                                 Dload  Upload   Total   Spent    Left  Speed\r\n",
      "100 23.3M  100 23.3M    0     0  42.7M      0 --:--:-- --:--:-- --:--:-- 42.7M\r\n"
     ]
    }
   ],
   "source": [
    "import pandas as pd\n",
    "\n",
    "!mkdir ./stepik-dl-nlp/\n",
    "!mkdir ./stepik-dl-nlp/datasets/\n",
    "!mkdir ./stepik-dl-nlp/datasets/bert_sentiment_analysis/\n",
    "\n",
    "!curl \"https://raw.githubusercontent.com/Samsung-IT-Academy/stepik-dl-nlp/master/datasets/bert_sentiment_analysis/positive.csv\" \\\n",
    "    -o ./stepik-dl-nlp/datasets/bert_sentiment_analysis/positive.csv\n",
    "!curl \"https://raw.githubusercontent.com/Samsung-IT-Academy/stepik-dl-nlp/master/datasets/bert_sentiment_analysis/negative.csv\" \\\n",
    "    -o ./stepik-dl-nlp/datasets/bert_sentiment_analysis/negative.csv\n",
    "\n",
    "# Если Вы запускаете ноутбук на colab или kaggle, добавьте в начало пути ./stepik-dl-nlp\n",
    "pos_texts = pd.read_csv('./stepik-dl-nlp/datasets/bert_sentiment_analysis/positive.csv', encoding='utf8', sep=';', header=None)\n",
    "neg_texts = pd.read_csv('./stepik-dl-nlp/datasets/bert_sentiment_analysis/negative.csv', encoding='utf8', sep=';', header=None)"
   ]
  },
  {
   "cell_type": "code",
   "execution_count": 7,
   "id": "208537bb",
   "metadata": {
    "execution": {
     "iopub.execute_input": "2022-04-22T16:41:59.442268Z",
     "iopub.status.busy": "2022-04-22T16:41:59.406103Z",
     "iopub.status.idle": "2022-04-22T16:42:01.397606Z",
     "shell.execute_reply": "2022-04-22T16:42:01.397108Z",
     "shell.execute_reply.started": "2022-04-22T16:37:27.092968Z"
    },
    "papermill": {
     "duration": 2.045259,
     "end_time": "2022-04-22T16:42:01.397745",
     "exception": false,
     "start_time": "2022-04-22T16:41:59.352486",
     "status": "completed"
    },
    "tags": []
   },
   "outputs": [],
   "source": [
    "#Попробуйте удалить пунктуацию из датасета с русскими твитами и перезапустите дообучение модели. Изменилось ли итоговое качество работы модели? Почему?\n",
    "import re\n",
    "pos_texts[3] = pd.Series([re.sub(r':D|D:|[^\\w\\s]', '', line) for line in list(pos_texts[3])])\n",
    "neg_texts[3] = pd.Series([re.sub(r':D|D:|[^\\w\\s]', '', line) for line in list(neg_texts[3])])"
   ]
  },
  {
   "cell_type": "code",
   "execution_count": 8,
   "id": "e5a18dab",
   "metadata": {
    "execution": {
     "iopub.execute_input": "2022-04-22T16:42:01.501641Z",
     "iopub.status.busy": "2022-04-22T16:42:01.501113Z",
     "iopub.status.idle": "2022-04-22T16:42:01.519125Z",
     "shell.execute_reply": "2022-04-22T16:42:01.519511Z",
     "shell.execute_reply.started": "2022-04-22T16:37:27.099852Z"
    },
    "papermill": {
     "duration": 0.073327,
     "end_time": "2022-04-22T16:42:01.519666",
     "exception": false,
     "start_time": "2022-04-22T16:42:01.446339",
     "status": "completed"
    },
    "scrolled": true,
    "tags": []
   },
   "outputs": [
    {
     "data": {
      "text/html": [
       "<div>\n",
       "<style scoped>\n",
       "    .dataframe tbody tr th:only-of-type {\n",
       "        vertical-align: middle;\n",
       "    }\n",
       "\n",
       "    .dataframe tbody tr th {\n",
       "        vertical-align: top;\n",
       "    }\n",
       "\n",
       "    .dataframe thead th {\n",
       "        text-align: right;\n",
       "    }\n",
       "</style>\n",
       "<table border=\"1\" class=\"dataframe\">\n",
       "  <thead>\n",
       "    <tr style=\"text-align: right;\">\n",
       "      <th></th>\n",
       "      <th>0</th>\n",
       "      <th>1</th>\n",
       "      <th>2</th>\n",
       "      <th>3</th>\n",
       "      <th>4</th>\n",
       "      <th>5</th>\n",
       "      <th>6</th>\n",
       "      <th>7</th>\n",
       "      <th>8</th>\n",
       "      <th>9</th>\n",
       "      <th>10</th>\n",
       "      <th>11</th>\n",
       "    </tr>\n",
       "  </thead>\n",
       "  <tbody>\n",
       "    <tr>\n",
       "      <th>72219</th>\n",
       "      <td>410482270152052736</td>\n",
       "      <td>1386701574</td>\n",
       "      <td>splashdota</td>\n",
       "      <td>Shaaarip хотеть на туалете не сидеть\\nахаа я ф...</td>\n",
       "      <td>1</td>\n",
       "      <td>0</td>\n",
       "      <td>0</td>\n",
       "      <td>0</td>\n",
       "      <td>46</td>\n",
       "      <td>7</td>\n",
       "      <td>40</td>\n",
       "      <td>0</td>\n",
       "    </tr>\n",
       "    <tr>\n",
       "      <th>54287</th>\n",
       "      <td>410072853510242304</td>\n",
       "      <td>1386603961</td>\n",
       "      <td>Pavel_Ars</td>\n",
       "      <td>Кто придумает мне занятие  я придумаю как вас ...</td>\n",
       "      <td>1</td>\n",
       "      <td>0</td>\n",
       "      <td>0</td>\n",
       "      <td>0</td>\n",
       "      <td>2028</td>\n",
       "      <td>93</td>\n",
       "      <td>105</td>\n",
       "      <td>0</td>\n",
       "    </tr>\n",
       "    <tr>\n",
       "      <th>74803</th>\n",
       "      <td>410639187332055040</td>\n",
       "      <td>1386738986</td>\n",
       "      <td>commfort_chat</td>\n",
       "      <td>В одной из школ КомсомольсканаАмуре  httptcos4...</td>\n",
       "      <td>1</td>\n",
       "      <td>0</td>\n",
       "      <td>0</td>\n",
       "      <td>0</td>\n",
       "      <td>6349</td>\n",
       "      <td>47</td>\n",
       "      <td>2</td>\n",
       "      <td>1</td>\n",
       "    </tr>\n",
       "    <tr>\n",
       "      <th>95291</th>\n",
       "      <td>411011683168305152</td>\n",
       "      <td>1386827796</td>\n",
       "      <td>ericyellow</td>\n",
       "      <td>Сходил на циркулярный душ  наставил себе синяк...</td>\n",
       "      <td>1</td>\n",
       "      <td>0</td>\n",
       "      <td>0</td>\n",
       "      <td>0</td>\n",
       "      <td>3978</td>\n",
       "      <td>156</td>\n",
       "      <td>58</td>\n",
       "      <td>0</td>\n",
       "    </tr>\n",
       "    <tr>\n",
       "      <th>88509</th>\n",
       "      <td>410823201443180544</td>\n",
       "      <td>1386782858</td>\n",
       "      <td>shalnoi_news</td>\n",
       "      <td>Nuclear_Boomb дай ближним тогда не грусти все ...</td>\n",
       "      <td>1</td>\n",
       "      <td>0</td>\n",
       "      <td>0</td>\n",
       "      <td>0</td>\n",
       "      <td>14084</td>\n",
       "      <td>137</td>\n",
       "      <td>128</td>\n",
       "      <td>3</td>\n",
       "    </tr>\n",
       "  </tbody>\n",
       "</table>\n",
       "</div>"
      ],
      "text/plain": [
       "                       0           1              2   \\\n",
       "72219  410482270152052736  1386701574     splashdota   \n",
       "54287  410072853510242304  1386603961      Pavel_Ars   \n",
       "74803  410639187332055040  1386738986  commfort_chat   \n",
       "95291  411011683168305152  1386827796     ericyellow   \n",
       "88509  410823201443180544  1386782858   shalnoi_news   \n",
       "\n",
       "                                                      3   4   5   6   7   \\\n",
       "72219  Shaaarip хотеть на туалете не сидеть\\nахаа я ф...   1   0   0   0   \n",
       "54287  Кто придумает мне занятие  я придумаю как вас ...   1   0   0   0   \n",
       "74803  В одной из школ КомсомольсканаАмуре  httptcos4...   1   0   0   0   \n",
       "95291  Сходил на циркулярный душ  наставил себе синяк...   1   0   0   0   \n",
       "88509  Nuclear_Boomb дай ближним тогда не грусти все ...   1   0   0   0   \n",
       "\n",
       "          8    9    10  11  \n",
       "72219     46    7   40   0  \n",
       "54287   2028   93  105   0  \n",
       "74803   6349   47    2   1  \n",
       "95291   3978  156   58   0  \n",
       "88509  14084  137  128   3  "
      ]
     },
     "execution_count": 8,
     "metadata": {},
     "output_type": "execute_result"
    }
   ],
   "source": [
    "pos_texts.sample(5)"
   ]
  },
  {
   "cell_type": "code",
   "execution_count": 9,
   "id": "5009944d",
   "metadata": {
    "execution": {
     "iopub.execute_input": "2022-04-22T16:42:01.636748Z",
     "iopub.status.busy": "2022-04-22T16:42:01.627351Z",
     "iopub.status.idle": "2022-04-22T16:42:02.127866Z",
     "shell.execute_reply": "2022-04-22T16:42:02.126912Z",
     "shell.execute_reply.started": "2022-04-22T16:37:27.143401Z"
    },
    "papermill": {
     "duration": 0.559723,
     "end_time": "2022-04-22T16:42:02.128018",
     "exception": false,
     "start_time": "2022-04-22T16:42:01.568295",
     "status": "completed"
    },
    "tags": []
   },
   "outputs": [],
   "source": [
    "sentences = np.concatenate([pos_texts[3].values, neg_texts[3].values])\n",
    "\n",
    "sentences = [\"[CLS] \" + sentence + \" [SEP]\" for sentence in sentences]\n",
    "labels = [[1] for _ in range(pos_texts.shape[0])] + [[0] for _ in range(neg_texts.shape[0])]\n"
   ]
  },
  {
   "cell_type": "code",
   "execution_count": 10,
   "id": "94da459f",
   "metadata": {
    "execution": {
     "iopub.execute_input": "2022-04-22T16:42:02.234340Z",
     "iopub.status.busy": "2022-04-22T16:42:02.233606Z",
     "iopub.status.idle": "2022-04-22T16:42:02.235812Z",
     "shell.execute_reply": "2022-04-22T16:42:02.236217Z",
     "shell.execute_reply.started": "2022-04-22T16:37:27.798753Z"
    },
    "papermill": {
     "duration": 0.058586,
     "end_time": "2022-04-22T16:42:02.236344",
     "exception": false,
     "start_time": "2022-04-22T16:42:02.177758",
     "status": "completed"
    },
    "tags": []
   },
   "outputs": [],
   "source": [
    "assert len(sentences) == len(labels) == pos_texts.shape[0] + neg_texts.shape[0]"
   ]
  },
  {
   "cell_type": "code",
   "execution_count": 11,
   "id": "7a2218d1",
   "metadata": {
    "execution": {
     "iopub.execute_input": "2022-04-22T16:42:02.337213Z",
     "iopub.status.busy": "2022-04-22T16:42:02.336368Z",
     "iopub.status.idle": "2022-04-22T16:42:02.339827Z",
     "shell.execute_reply": "2022-04-22T16:42:02.340385Z",
     "shell.execute_reply.started": "2022-04-22T16:37:27.805773Z"
    },
    "papermill": {
     "duration": 0.055637,
     "end_time": "2022-04-22T16:42:02.340564",
     "exception": false,
     "start_time": "2022-04-22T16:42:02.284927",
     "status": "completed"
    },
    "tags": []
   },
   "outputs": [
    {
     "name": "stdout",
     "output_type": "stream",
     "text": [
      "[CLS] Дим ты помогаешь мне я тебе все взаимно все правильно [SEP]\n"
     ]
    }
   ],
   "source": [
    "print(sentences[1000])"
   ]
  },
  {
   "cell_type": "code",
   "execution_count": 12,
   "id": "eba57841",
   "metadata": {
    "execution": {
     "iopub.execute_input": "2022-04-22T16:42:02.443918Z",
     "iopub.status.busy": "2022-04-22T16:42:02.443244Z",
     "iopub.status.idle": "2022-04-22T16:42:02.572994Z",
     "shell.execute_reply": "2022-04-22T16:42:02.572500Z",
     "shell.execute_reply.started": "2022-04-22T16:37:27.823058Z"
    },
    "papermill": {
     "duration": 0.18244,
     "end_time": "2022-04-22T16:42:02.573107",
     "exception": false,
     "start_time": "2022-04-22T16:42:02.390667",
     "status": "completed"
    },
    "tags": []
   },
   "outputs": [],
   "source": [
    "from sklearn.model_selection import train_test_split\n",
    "\n",
    "train_sentences, test_sentences, train_gt, test_gt = train_test_split(sentences, labels, test_size=0.3)"
   ]
  },
  {
   "cell_type": "code",
   "execution_count": 13,
   "id": "39b0adb8",
   "metadata": {
    "execution": {
     "iopub.execute_input": "2022-04-22T16:42:02.676373Z",
     "iopub.status.busy": "2022-04-22T16:42:02.675800Z",
     "iopub.status.idle": "2022-04-22T16:42:02.678594Z",
     "shell.execute_reply": "2022-04-22T16:42:02.679002Z",
     "shell.execute_reply.started": "2022-04-22T16:37:28.074085Z"
    },
    "papermill": {
     "duration": 0.056665,
     "end_time": "2022-04-22T16:42:02.679123",
     "exception": false,
     "start_time": "2022-04-22T16:42:02.622458",
     "status": "completed"
    },
    "tags": []
   },
   "outputs": [
    {
     "name": "stdout",
     "output_type": "stream",
     "text": [
      "158783 68051\n"
     ]
    }
   ],
   "source": [
    "print(len(train_gt), len(test_gt))"
   ]
  },
  {
   "cell_type": "markdown",
   "id": "eff745d5",
   "metadata": {
    "id": "ex5O1eV-Pfct",
    "papermill": {
     "duration": 0.049156,
     "end_time": "2022-04-22T16:42:02.777305",
     "exception": false,
     "start_time": "2022-04-22T16:42:02.728149",
     "status": "completed"
    },
    "tags": []
   },
   "source": [
    "## Inputs"
   ]
  },
  {
   "cell_type": "code",
   "execution_count": 14,
   "id": "d7d10f7a",
   "metadata": {
    "execution": {
     "iopub.execute_input": "2022-04-22T16:42:02.881414Z",
     "iopub.status.busy": "2022-04-22T16:42:02.880459Z",
     "iopub.status.idle": "2022-04-22T16:43:21.357923Z",
     "shell.execute_reply": "2022-04-22T16:43:21.358486Z",
     "shell.execute_reply.started": "2022-04-22T16:37:28.082170Z"
    },
    "id": "Z474sSC6oe7A",
    "outputId": "fbaa8fd8-bccd-4feb-ce52-beba5d293cfa",
    "papermill": {
     "duration": 78.532321,
     "end_time": "2022-04-22T16:43:21.358688",
     "exception": false,
     "start_time": "2022-04-22T16:42:02.826367",
     "status": "completed"
    },
    "tags": []
   },
   "outputs": [
    {
     "name": "stderr",
     "output_type": "stream",
     "text": [
      "100%|██████████| 871891/871891 [00:00<00:00, 7592915.53B/s]\n"
     ]
    },
    {
     "name": "stdout",
     "output_type": "stream",
     "text": [
      "['[CLS]', 'пер', '##еп', '##иска', 'с', 'хор', '##ош', '##им', 'человеком', 'и', 'гор', '##яч', '##ии', 'ко', '##фе', 'в', 'к', '##ру', '##жке', 'просто', 'ра', '##и', '[SEP]']\n"
     ]
    }
   ],
   "source": [
    "from pytorch_transformers import BertTokenizer, BertConfig\n",
    "\n",
    "# Подробное описание модели https://huggingface.co/bert-base-uncased\n",
    "# Pretrained model on English language using a masked language modeling (MLM) \n",
    "# objective. It was introduced in this paper and first released in this repository. \n",
    "# This model is uncased: it does not make a difference between english and English.\n",
    "# Особое внимание на то, что модель обучена только на английском, и для данной \n",
    "# задачи имело бы смысл применять русскоязычную модель, т.е. текущая скорей всего \n",
    "# показывает хорошие результаты только за счет высокой роли смайлов в сообщении\n",
    "#tokenizer = BertTokenizer.from_pretrained('bert-base-uncased', do_lower_case=True)\n",
    "tokenizer = BertTokenizer.from_pretrained('bert-base-multilingual-uncased', do_lower_case=True)\n",
    "\n",
    "tokenized_texts = [tokenizer.tokenize(sent) for sent in train_sentences]\n",
    "print (tokenized_texts[0])"
   ]
  },
  {
   "cell_type": "markdown",
   "id": "5da7a9e9",
   "metadata": {
    "id": "87_kXUeT2-br",
    "papermill": {
     "duration": 0.050586,
     "end_time": "2022-04-22T16:43:21.461127",
     "exception": false,
     "start_time": "2022-04-22T16:43:21.410541",
     "status": "completed"
    },
    "tags": []
   },
   "source": [
    "BERTу нужно предоставить специальный формат входных данных.\n",
    "\n",
    "\n",
    "- **input ids**: последовательность чисел, отождествляющих каждый токен с его номером в словаре.\n",
    "- **labels**: вектор из нулей и единиц. В нашем случае нули обозначают негативную эмоциональную окраску, единицы - положительную.\n",
    "- **segment mask**: (необязательно) последовательность нулей и единиц, которая показывает, состоит ли входной текст из одного или двух предложений. Для случая одного предложения получится вектор из одних нулей. Для двух: <length_of_sent_1> нулей и <length_of_sent_2> единиц.\n",
    "- **attention mask**: (необязательно) последовательность нулей и единиц, где единицы обозначают токены предложения, нули - паддинг."
   ]
  },
  {
   "cell_type": "code",
   "execution_count": 15,
   "id": "98cea903",
   "metadata": {
    "execution": {
     "iopub.execute_input": "2022-04-22T16:43:21.613684Z",
     "iopub.status.busy": "2022-04-22T16:43:21.598270Z",
     "iopub.status.idle": "2022-04-22T16:43:37.726338Z",
     "shell.execute_reply": "2022-04-22T16:43:37.725871Z",
     "shell.execute_reply.started": "2022-04-22T16:39:06.498606Z"
    },
    "id": "Cp9BPRd1tMIo",
    "papermill": {
     "duration": 16.214368,
     "end_time": "2022-04-22T16:43:37.726472",
     "exception": false,
     "start_time": "2022-04-22T16:43:21.512104",
     "status": "completed"
    },
    "tags": []
   },
   "outputs": [],
   "source": [
    "input_ids = [tokenizer.convert_tokens_to_ids(x) for x in tokenized_texts]\n",
    "input_ids = pad_sequences(\n",
    "    input_ids,\n",
    "    maxlen=100,\n",
    "    dtype=\"long\",\n",
    "    truncating=\"post\",\n",
    "    padding=\"post\"\n",
    ")\n",
    "attention_masks = [[float(i>0) for i in seq] for seq in input_ids]"
   ]
  },
  {
   "cell_type": "code",
   "execution_count": 16,
   "id": "e410469b",
   "metadata": {
    "execution": {
     "iopub.execute_input": "2022-04-22T16:43:37.835727Z",
     "iopub.status.busy": "2022-04-22T16:43:37.834990Z",
     "iopub.status.idle": "2022-04-22T16:43:38.037418Z",
     "shell.execute_reply": "2022-04-22T16:43:38.036934Z",
     "shell.execute_reply.started": "2022-04-22T16:39:28.239336Z"
    },
    "id": "aFbE-UHvsb7-",
    "papermill": {
     "duration": 0.258777,
     "end_time": "2022-04-22T16:43:38.037562",
     "exception": false,
     "start_time": "2022-04-22T16:43:37.778785",
     "status": "completed"
    },
    "tags": []
   },
   "outputs": [],
   "source": [
    "train_inputs, validation_inputs, train_labels, validation_labels = train_test_split(\n",
    "    input_ids, train_gt, \n",
    "    random_state=42,\n",
    "    test_size=0.1\n",
    ")\n",
    "\n",
    "train_masks, validation_masks, _, _ = train_test_split(\n",
    "    attention_masks,\n",
    "    input_ids,\n",
    "    random_state=42,\n",
    "    test_size=0.1\n",
    ")"
   ]
  },
  {
   "cell_type": "code",
   "execution_count": 17,
   "id": "be4d6c3c",
   "metadata": {
    "execution": {
     "iopub.execute_input": "2022-04-22T16:43:38.152196Z",
     "iopub.status.busy": "2022-04-22T16:43:38.151617Z",
     "iopub.status.idle": "2022-04-22T16:43:39.732517Z",
     "shell.execute_reply": "2022-04-22T16:43:39.732055Z",
     "shell.execute_reply.started": "2022-04-22T16:39:28.618433Z"
    },
    "id": "jw5K2A5Ko1RF",
    "papermill": {
     "duration": 1.639632,
     "end_time": "2022-04-22T16:43:39.732672",
     "exception": false,
     "start_time": "2022-04-22T16:43:38.093040",
     "status": "completed"
    },
    "tags": []
   },
   "outputs": [],
   "source": [
    "train_inputs = torch.tensor(train_inputs)\n",
    "train_labels = torch.tensor(train_labels)\n",
    "train_masks = torch.tensor(train_masks)"
   ]
  },
  {
   "cell_type": "code",
   "execution_count": 18,
   "id": "ae9de019",
   "metadata": {
    "execution": {
     "iopub.execute_input": "2022-04-22T16:43:39.840401Z",
     "iopub.status.busy": "2022-04-22T16:43:39.839500Z",
     "iopub.status.idle": "2022-04-22T16:43:39.996984Z",
     "shell.execute_reply": "2022-04-22T16:43:39.996442Z",
     "shell.execute_reply.started": "2022-04-22T16:39:30.381270Z"
    },
    "papermill": {
     "duration": 0.21287,
     "end_time": "2022-04-22T16:43:39.997112",
     "exception": false,
     "start_time": "2022-04-22T16:43:39.784242",
     "status": "completed"
    },
    "tags": []
   },
   "outputs": [],
   "source": [
    "validation_inputs = torch.tensor(validation_inputs)\n",
    "validation_labels = torch.tensor(validation_labels)\n",
    "validation_masks = torch.tensor(validation_masks)"
   ]
  },
  {
   "cell_type": "code",
   "execution_count": 19,
   "id": "66bea690",
   "metadata": {
    "execution": {
     "iopub.execute_input": "2022-04-22T16:43:40.109653Z",
     "iopub.status.busy": "2022-04-22T16:43:40.109032Z",
     "iopub.status.idle": "2022-04-22T16:43:40.123977Z",
     "shell.execute_reply": "2022-04-22T16:43:40.124382Z",
     "shell.execute_reply.started": "2022-04-22T16:39:30.587113Z"
    },
    "papermill": {
     "duration": 0.075819,
     "end_time": "2022-04-22T16:43:40.124511",
     "exception": false,
     "start_time": "2022-04-22T16:43:40.048692",
     "status": "completed"
    },
    "tags": []
   },
   "outputs": [
    {
     "data": {
      "text/plain": [
       "tensor([[0],\n",
       "        [0],\n",
       "        [0],\n",
       "        ...,\n",
       "        [1],\n",
       "        [1],\n",
       "        [1]])"
      ]
     },
     "execution_count": 19,
     "metadata": {},
     "output_type": "execute_result"
    }
   ],
   "source": [
    "train_labels"
   ]
  },
  {
   "cell_type": "code",
   "execution_count": 20,
   "id": "38bed5d6",
   "metadata": {
    "execution": {
     "iopub.execute_input": "2022-04-22T16:43:40.231800Z",
     "iopub.status.busy": "2022-04-22T16:43:40.231164Z",
     "iopub.status.idle": "2022-04-22T16:43:40.233435Z",
     "shell.execute_reply": "2022-04-22T16:43:40.233829Z",
     "shell.execute_reply.started": "2022-04-22T16:39:30.623784Z"
    },
    "id": "GEgLpFVlo1Z-",
    "papermill": {
     "duration": 0.057524,
     "end_time": "2022-04-22T16:43:40.233954",
     "exception": false,
     "start_time": "2022-04-22T16:43:40.176430",
     "status": "completed"
    },
    "tags": []
   },
   "outputs": [],
   "source": [
    "train_data = TensorDataset(train_inputs, train_masks, train_labels)\n",
    "train_dataloader = DataLoader(\n",
    "    train_data,\n",
    "    sampler=RandomSampler(train_data),\n",
    "    batch_size=32\n",
    ")"
   ]
  },
  {
   "cell_type": "code",
   "execution_count": 21,
   "id": "cb24291f",
   "metadata": {
    "execution": {
     "iopub.execute_input": "2022-04-22T16:43:40.341494Z",
     "iopub.status.busy": "2022-04-22T16:43:40.339974Z",
     "iopub.status.idle": "2022-04-22T16:43:40.342075Z",
     "shell.execute_reply": "2022-04-22T16:43:40.342465Z",
     "shell.execute_reply.started": "2022-04-22T16:39:30.631826Z"
    },
    "papermill": {
     "duration": 0.057687,
     "end_time": "2022-04-22T16:43:40.342609",
     "exception": false,
     "start_time": "2022-04-22T16:43:40.284922",
     "status": "completed"
    },
    "tags": []
   },
   "outputs": [],
   "source": [
    "validation_data = TensorDataset(validation_inputs, validation_masks, validation_labels)\n",
    "validation_dataloader = DataLoader(\n",
    "    validation_data,\n",
    "    sampler=SequentialSampler(validation_data),\n",
    "    batch_size=32\n",
    ")"
   ]
  },
  {
   "cell_type": "markdown",
   "id": "348bc3dd",
   "metadata": {
    "id": "pNl8khAhPYju",
    "papermill": {
     "duration": 0.051131,
     "end_time": "2022-04-22T16:43:40.444374",
     "exception": false,
     "start_time": "2022-04-22T16:43:40.393243",
     "status": "completed"
    },
    "tags": []
   },
   "source": [
    "## Обучение модели"
   ]
  },
  {
   "cell_type": "markdown",
   "id": "935d76ca",
   "metadata": {
    "papermill": {
     "duration": 0.050696,
     "end_time": "2022-04-22T16:43:40.546332",
     "exception": false,
     "start_time": "2022-04-22T16:43:40.495636",
     "status": "completed"
    },
    "tags": []
   },
   "source": [
    "Загружаем [BertForSequenceClassification](https://github.com/huggingface/pytorch-pretrained-BERT/blob/master/pytorch_pretrained_bert/modeling.py#L1129):"
   ]
  },
  {
   "cell_type": "code",
   "execution_count": 22,
   "id": "4baa4668",
   "metadata": {
    "execution": {
     "iopub.execute_input": "2022-04-22T16:43:40.652184Z",
     "iopub.status.busy": "2022-04-22T16:43:40.651470Z",
     "iopub.status.idle": "2022-04-22T16:43:40.653459Z",
     "shell.execute_reply": "2022-04-22T16:43:40.653833Z",
     "shell.execute_reply.started": "2022-04-22T16:39:30.644355Z"
    },
    "papermill": {
     "duration": 0.05677,
     "end_time": "2022-04-22T16:43:40.653953",
     "exception": false,
     "start_time": "2022-04-22T16:43:40.597183",
     "status": "completed"
    },
    "tags": []
   },
   "outputs": [],
   "source": [
    "from pytorch_transformers import AdamW, BertForSequenceClassification"
   ]
  },
  {
   "cell_type": "markdown",
   "id": "e88c4569",
   "metadata": {
    "papermill": {
     "duration": 0.050855,
     "end_time": "2022-04-22T16:43:40.755441",
     "exception": false,
     "start_time": "2022-04-22T16:43:40.704586",
     "status": "completed"
    },
    "tags": []
   },
   "source": [
    "Аналогичные модели есть и для других задач:"
   ]
  },
  {
   "cell_type": "code",
   "execution_count": 23,
   "id": "c2f33d2e",
   "metadata": {
    "execution": {
     "iopub.execute_input": "2022-04-22T16:43:40.861314Z",
     "iopub.status.busy": "2022-04-22T16:43:40.860522Z",
     "iopub.status.idle": "2022-04-22T16:43:40.863015Z",
     "shell.execute_reply": "2022-04-22T16:43:40.862619Z",
     "shell.execute_reply.started": "2022-04-22T16:39:30.656804Z"
    },
    "papermill": {
     "duration": 0.05692,
     "end_time": "2022-04-22T16:43:40.863118",
     "exception": false,
     "start_time": "2022-04-22T16:43:40.806198",
     "status": "completed"
    },
    "tags": []
   },
   "outputs": [],
   "source": [
    "from pytorch_transformers import BertForQuestionAnswering, BertForTokenClassification"
   ]
  },
  {
   "cell_type": "code",
   "execution_count": 24,
   "id": "32b2932f",
   "metadata": {
    "execution": {
     "iopub.execute_input": "2022-04-22T16:43:40.972447Z",
     "iopub.status.busy": "2022-04-22T16:43:40.971952Z",
     "iopub.status.idle": "2022-04-22T16:44:05.511917Z",
     "shell.execute_reply": "2022-04-22T16:44:05.512355Z",
     "shell.execute_reply.started": "2022-04-22T16:39:30.671610Z"
    },
    "id": "gFsCTp_mporB",
    "outputId": "dd067229-1925-4b37-f517-0c14e25420d1",
    "papermill": {
     "duration": 24.598235,
     "end_time": "2022-04-22T16:44:05.512515",
     "exception": false,
     "start_time": "2022-04-22T16:43:40.914280",
     "status": "completed"
    },
    "tags": []
   },
   "outputs": [
    {
     "name": "stderr",
     "output_type": "stream",
     "text": [
      "100%|██████████| 625/625 [00:00<00:00, 514411.30B/s]\n",
      "100%|██████████| 672271273/672271273 [00:13<00:00, 48240032.75B/s]\n"
     ]
    },
    {
     "data": {
      "text/plain": [
       "BertForSequenceClassification(\n",
       "  (bert): BertModel(\n",
       "    (embeddings): BertEmbeddings(\n",
       "      (word_embeddings): Embedding(105879, 768, padding_idx=0)\n",
       "      (position_embeddings): Embedding(512, 768)\n",
       "      (token_type_embeddings): Embedding(2, 768)\n",
       "      (LayerNorm): LayerNorm((768,), eps=1e-12, elementwise_affine=True)\n",
       "      (dropout): Dropout(p=0.1, inplace=False)\n",
       "    )\n",
       "    (encoder): BertEncoder(\n",
       "      (layer): ModuleList(\n",
       "        (0): BertLayer(\n",
       "          (attention): BertAttention(\n",
       "            (self): BertSelfAttention(\n",
       "              (query): Linear(in_features=768, out_features=768, bias=True)\n",
       "              (key): Linear(in_features=768, out_features=768, bias=True)\n",
       "              (value): Linear(in_features=768, out_features=768, bias=True)\n",
       "              (dropout): Dropout(p=0.1, inplace=False)\n",
       "            )\n",
       "            (output): BertSelfOutput(\n",
       "              (dense): Linear(in_features=768, out_features=768, bias=True)\n",
       "              (LayerNorm): LayerNorm((768,), eps=1e-12, elementwise_affine=True)\n",
       "              (dropout): Dropout(p=0.1, inplace=False)\n",
       "            )\n",
       "          )\n",
       "          (intermediate): BertIntermediate(\n",
       "            (dense): Linear(in_features=768, out_features=3072, bias=True)\n",
       "          )\n",
       "          (output): BertOutput(\n",
       "            (dense): Linear(in_features=3072, out_features=768, bias=True)\n",
       "            (LayerNorm): LayerNorm((768,), eps=1e-12, elementwise_affine=True)\n",
       "            (dropout): Dropout(p=0.1, inplace=False)\n",
       "          )\n",
       "        )\n",
       "        (1): BertLayer(\n",
       "          (attention): BertAttention(\n",
       "            (self): BertSelfAttention(\n",
       "              (query): Linear(in_features=768, out_features=768, bias=True)\n",
       "              (key): Linear(in_features=768, out_features=768, bias=True)\n",
       "              (value): Linear(in_features=768, out_features=768, bias=True)\n",
       "              (dropout): Dropout(p=0.1, inplace=False)\n",
       "            )\n",
       "            (output): BertSelfOutput(\n",
       "              (dense): Linear(in_features=768, out_features=768, bias=True)\n",
       "              (LayerNorm): LayerNorm((768,), eps=1e-12, elementwise_affine=True)\n",
       "              (dropout): Dropout(p=0.1, inplace=False)\n",
       "            )\n",
       "          )\n",
       "          (intermediate): BertIntermediate(\n",
       "            (dense): Linear(in_features=768, out_features=3072, bias=True)\n",
       "          )\n",
       "          (output): BertOutput(\n",
       "            (dense): Linear(in_features=3072, out_features=768, bias=True)\n",
       "            (LayerNorm): LayerNorm((768,), eps=1e-12, elementwise_affine=True)\n",
       "            (dropout): Dropout(p=0.1, inplace=False)\n",
       "          )\n",
       "        )\n",
       "        (2): BertLayer(\n",
       "          (attention): BertAttention(\n",
       "            (self): BertSelfAttention(\n",
       "              (query): Linear(in_features=768, out_features=768, bias=True)\n",
       "              (key): Linear(in_features=768, out_features=768, bias=True)\n",
       "              (value): Linear(in_features=768, out_features=768, bias=True)\n",
       "              (dropout): Dropout(p=0.1, inplace=False)\n",
       "            )\n",
       "            (output): BertSelfOutput(\n",
       "              (dense): Linear(in_features=768, out_features=768, bias=True)\n",
       "              (LayerNorm): LayerNorm((768,), eps=1e-12, elementwise_affine=True)\n",
       "              (dropout): Dropout(p=0.1, inplace=False)\n",
       "            )\n",
       "          )\n",
       "          (intermediate): BertIntermediate(\n",
       "            (dense): Linear(in_features=768, out_features=3072, bias=True)\n",
       "          )\n",
       "          (output): BertOutput(\n",
       "            (dense): Linear(in_features=3072, out_features=768, bias=True)\n",
       "            (LayerNorm): LayerNorm((768,), eps=1e-12, elementwise_affine=True)\n",
       "            (dropout): Dropout(p=0.1, inplace=False)\n",
       "          )\n",
       "        )\n",
       "        (3): BertLayer(\n",
       "          (attention): BertAttention(\n",
       "            (self): BertSelfAttention(\n",
       "              (query): Linear(in_features=768, out_features=768, bias=True)\n",
       "              (key): Linear(in_features=768, out_features=768, bias=True)\n",
       "              (value): Linear(in_features=768, out_features=768, bias=True)\n",
       "              (dropout): Dropout(p=0.1, inplace=False)\n",
       "            )\n",
       "            (output): BertSelfOutput(\n",
       "              (dense): Linear(in_features=768, out_features=768, bias=True)\n",
       "              (LayerNorm): LayerNorm((768,), eps=1e-12, elementwise_affine=True)\n",
       "              (dropout): Dropout(p=0.1, inplace=False)\n",
       "            )\n",
       "          )\n",
       "          (intermediate): BertIntermediate(\n",
       "            (dense): Linear(in_features=768, out_features=3072, bias=True)\n",
       "          )\n",
       "          (output): BertOutput(\n",
       "            (dense): Linear(in_features=3072, out_features=768, bias=True)\n",
       "            (LayerNorm): LayerNorm((768,), eps=1e-12, elementwise_affine=True)\n",
       "            (dropout): Dropout(p=0.1, inplace=False)\n",
       "          )\n",
       "        )\n",
       "        (4): BertLayer(\n",
       "          (attention): BertAttention(\n",
       "            (self): BertSelfAttention(\n",
       "              (query): Linear(in_features=768, out_features=768, bias=True)\n",
       "              (key): Linear(in_features=768, out_features=768, bias=True)\n",
       "              (value): Linear(in_features=768, out_features=768, bias=True)\n",
       "              (dropout): Dropout(p=0.1, inplace=False)\n",
       "            )\n",
       "            (output): BertSelfOutput(\n",
       "              (dense): Linear(in_features=768, out_features=768, bias=True)\n",
       "              (LayerNorm): LayerNorm((768,), eps=1e-12, elementwise_affine=True)\n",
       "              (dropout): Dropout(p=0.1, inplace=False)\n",
       "            )\n",
       "          )\n",
       "          (intermediate): BertIntermediate(\n",
       "            (dense): Linear(in_features=768, out_features=3072, bias=True)\n",
       "          )\n",
       "          (output): BertOutput(\n",
       "            (dense): Linear(in_features=3072, out_features=768, bias=True)\n",
       "            (LayerNorm): LayerNorm((768,), eps=1e-12, elementwise_affine=True)\n",
       "            (dropout): Dropout(p=0.1, inplace=False)\n",
       "          )\n",
       "        )\n",
       "        (5): BertLayer(\n",
       "          (attention): BertAttention(\n",
       "            (self): BertSelfAttention(\n",
       "              (query): Linear(in_features=768, out_features=768, bias=True)\n",
       "              (key): Linear(in_features=768, out_features=768, bias=True)\n",
       "              (value): Linear(in_features=768, out_features=768, bias=True)\n",
       "              (dropout): Dropout(p=0.1, inplace=False)\n",
       "            )\n",
       "            (output): BertSelfOutput(\n",
       "              (dense): Linear(in_features=768, out_features=768, bias=True)\n",
       "              (LayerNorm): LayerNorm((768,), eps=1e-12, elementwise_affine=True)\n",
       "              (dropout): Dropout(p=0.1, inplace=False)\n",
       "            )\n",
       "          )\n",
       "          (intermediate): BertIntermediate(\n",
       "            (dense): Linear(in_features=768, out_features=3072, bias=True)\n",
       "          )\n",
       "          (output): BertOutput(\n",
       "            (dense): Linear(in_features=3072, out_features=768, bias=True)\n",
       "            (LayerNorm): LayerNorm((768,), eps=1e-12, elementwise_affine=True)\n",
       "            (dropout): Dropout(p=0.1, inplace=False)\n",
       "          )\n",
       "        )\n",
       "        (6): BertLayer(\n",
       "          (attention): BertAttention(\n",
       "            (self): BertSelfAttention(\n",
       "              (query): Linear(in_features=768, out_features=768, bias=True)\n",
       "              (key): Linear(in_features=768, out_features=768, bias=True)\n",
       "              (value): Linear(in_features=768, out_features=768, bias=True)\n",
       "              (dropout): Dropout(p=0.1, inplace=False)\n",
       "            )\n",
       "            (output): BertSelfOutput(\n",
       "              (dense): Linear(in_features=768, out_features=768, bias=True)\n",
       "              (LayerNorm): LayerNorm((768,), eps=1e-12, elementwise_affine=True)\n",
       "              (dropout): Dropout(p=0.1, inplace=False)\n",
       "            )\n",
       "          )\n",
       "          (intermediate): BertIntermediate(\n",
       "            (dense): Linear(in_features=768, out_features=3072, bias=True)\n",
       "          )\n",
       "          (output): BertOutput(\n",
       "            (dense): Linear(in_features=3072, out_features=768, bias=True)\n",
       "            (LayerNorm): LayerNorm((768,), eps=1e-12, elementwise_affine=True)\n",
       "            (dropout): Dropout(p=0.1, inplace=False)\n",
       "          )\n",
       "        )\n",
       "        (7): BertLayer(\n",
       "          (attention): BertAttention(\n",
       "            (self): BertSelfAttention(\n",
       "              (query): Linear(in_features=768, out_features=768, bias=True)\n",
       "              (key): Linear(in_features=768, out_features=768, bias=True)\n",
       "              (value): Linear(in_features=768, out_features=768, bias=True)\n",
       "              (dropout): Dropout(p=0.1, inplace=False)\n",
       "            )\n",
       "            (output): BertSelfOutput(\n",
       "              (dense): Linear(in_features=768, out_features=768, bias=True)\n",
       "              (LayerNorm): LayerNorm((768,), eps=1e-12, elementwise_affine=True)\n",
       "              (dropout): Dropout(p=0.1, inplace=False)\n",
       "            )\n",
       "          )\n",
       "          (intermediate): BertIntermediate(\n",
       "            (dense): Linear(in_features=768, out_features=3072, bias=True)\n",
       "          )\n",
       "          (output): BertOutput(\n",
       "            (dense): Linear(in_features=3072, out_features=768, bias=True)\n",
       "            (LayerNorm): LayerNorm((768,), eps=1e-12, elementwise_affine=True)\n",
       "            (dropout): Dropout(p=0.1, inplace=False)\n",
       "          )\n",
       "        )\n",
       "        (8): BertLayer(\n",
       "          (attention): BertAttention(\n",
       "            (self): BertSelfAttention(\n",
       "              (query): Linear(in_features=768, out_features=768, bias=True)\n",
       "              (key): Linear(in_features=768, out_features=768, bias=True)\n",
       "              (value): Linear(in_features=768, out_features=768, bias=True)\n",
       "              (dropout): Dropout(p=0.1, inplace=False)\n",
       "            )\n",
       "            (output): BertSelfOutput(\n",
       "              (dense): Linear(in_features=768, out_features=768, bias=True)\n",
       "              (LayerNorm): LayerNorm((768,), eps=1e-12, elementwise_affine=True)\n",
       "              (dropout): Dropout(p=0.1, inplace=False)\n",
       "            )\n",
       "          )\n",
       "          (intermediate): BertIntermediate(\n",
       "            (dense): Linear(in_features=768, out_features=3072, bias=True)\n",
       "          )\n",
       "          (output): BertOutput(\n",
       "            (dense): Linear(in_features=3072, out_features=768, bias=True)\n",
       "            (LayerNorm): LayerNorm((768,), eps=1e-12, elementwise_affine=True)\n",
       "            (dropout): Dropout(p=0.1, inplace=False)\n",
       "          )\n",
       "        )\n",
       "        (9): BertLayer(\n",
       "          (attention): BertAttention(\n",
       "            (self): BertSelfAttention(\n",
       "              (query): Linear(in_features=768, out_features=768, bias=True)\n",
       "              (key): Linear(in_features=768, out_features=768, bias=True)\n",
       "              (value): Linear(in_features=768, out_features=768, bias=True)\n",
       "              (dropout): Dropout(p=0.1, inplace=False)\n",
       "            )\n",
       "            (output): BertSelfOutput(\n",
       "              (dense): Linear(in_features=768, out_features=768, bias=True)\n",
       "              (LayerNorm): LayerNorm((768,), eps=1e-12, elementwise_affine=True)\n",
       "              (dropout): Dropout(p=0.1, inplace=False)\n",
       "            )\n",
       "          )\n",
       "          (intermediate): BertIntermediate(\n",
       "            (dense): Linear(in_features=768, out_features=3072, bias=True)\n",
       "          )\n",
       "          (output): BertOutput(\n",
       "            (dense): Linear(in_features=3072, out_features=768, bias=True)\n",
       "            (LayerNorm): LayerNorm((768,), eps=1e-12, elementwise_affine=True)\n",
       "            (dropout): Dropout(p=0.1, inplace=False)\n",
       "          )\n",
       "        )\n",
       "        (10): BertLayer(\n",
       "          (attention): BertAttention(\n",
       "            (self): BertSelfAttention(\n",
       "              (query): Linear(in_features=768, out_features=768, bias=True)\n",
       "              (key): Linear(in_features=768, out_features=768, bias=True)\n",
       "              (value): Linear(in_features=768, out_features=768, bias=True)\n",
       "              (dropout): Dropout(p=0.1, inplace=False)\n",
       "            )\n",
       "            (output): BertSelfOutput(\n",
       "              (dense): Linear(in_features=768, out_features=768, bias=True)\n",
       "              (LayerNorm): LayerNorm((768,), eps=1e-12, elementwise_affine=True)\n",
       "              (dropout): Dropout(p=0.1, inplace=False)\n",
       "            )\n",
       "          )\n",
       "          (intermediate): BertIntermediate(\n",
       "            (dense): Linear(in_features=768, out_features=3072, bias=True)\n",
       "          )\n",
       "          (output): BertOutput(\n",
       "            (dense): Linear(in_features=3072, out_features=768, bias=True)\n",
       "            (LayerNorm): LayerNorm((768,), eps=1e-12, elementwise_affine=True)\n",
       "            (dropout): Dropout(p=0.1, inplace=False)\n",
       "          )\n",
       "        )\n",
       "        (11): BertLayer(\n",
       "          (attention): BertAttention(\n",
       "            (self): BertSelfAttention(\n",
       "              (query): Linear(in_features=768, out_features=768, bias=True)\n",
       "              (key): Linear(in_features=768, out_features=768, bias=True)\n",
       "              (value): Linear(in_features=768, out_features=768, bias=True)\n",
       "              (dropout): Dropout(p=0.1, inplace=False)\n",
       "            )\n",
       "            (output): BertSelfOutput(\n",
       "              (dense): Linear(in_features=768, out_features=768, bias=True)\n",
       "              (LayerNorm): LayerNorm((768,), eps=1e-12, elementwise_affine=True)\n",
       "              (dropout): Dropout(p=0.1, inplace=False)\n",
       "            )\n",
       "          )\n",
       "          (intermediate): BertIntermediate(\n",
       "            (dense): Linear(in_features=768, out_features=3072, bias=True)\n",
       "          )\n",
       "          (output): BertOutput(\n",
       "            (dense): Linear(in_features=3072, out_features=768, bias=True)\n",
       "            (LayerNorm): LayerNorm((768,), eps=1e-12, elementwise_affine=True)\n",
       "            (dropout): Dropout(p=0.1, inplace=False)\n",
       "          )\n",
       "        )\n",
       "      )\n",
       "    )\n",
       "    (pooler): BertPooler(\n",
       "      (dense): Linear(in_features=768, out_features=768, bias=True)\n",
       "      (activation): Tanh()\n",
       "    )\n",
       "  )\n",
       "  (dropout): Dropout(p=0.1, inplace=False)\n",
       "  (classifier): Linear(in_features=768, out_features=2, bias=True)\n",
       ")"
      ]
     },
     "execution_count": 24,
     "metadata": {},
     "output_type": "execute_result"
    }
   ],
   "source": [
    "# model = BertForSequenceClassification.from_pretrained(\"bert-base-uncased\", num_labels=2)\n",
    "model = BertForSequenceClassification.from_pretrained(\"bert-base-multilingual-uncased\", num_labels=2)\n",
    "model.cuda()"
   ]
  },
  {
   "cell_type": "code",
   "execution_count": 25,
   "id": "171fa3fe",
   "metadata": {
    "execution": {
     "iopub.execute_input": "2022-04-22T16:44:05.739652Z",
     "iopub.status.busy": "2022-04-22T16:44:05.738713Z",
     "iopub.status.idle": "2022-04-22T16:44:05.741432Z",
     "shell.execute_reply": "2022-04-22T16:44:05.740875Z",
     "shell.execute_reply.started": "2022-04-22T16:39:42.957934Z"
    },
    "id": "QxSMw0FrptiL",
    "papermill": {
     "duration": 0.121108,
     "end_time": "2022-04-22T16:44:05.741569",
     "exception": false,
     "start_time": "2022-04-22T16:44:05.620461",
     "status": "completed"
    },
    "tags": []
   },
   "outputs": [],
   "source": [
    "param_optimizer = list(model.named_parameters())\n",
    "no_decay = ['bias', 'gamma', 'beta']\n",
    "optimizer_grouped_parameters = [\n",
    "    {'params': [p for n, p in param_optimizer if not any(nd in n for nd in no_decay)],\n",
    "     'weight_decay_rate': 0.01},\n",
    "    {'params': [p for n, p in param_optimizer if any(nd in n for nd in no_decay)],\n",
    "     'weight_decay_rate': 0.0}\n",
    "]\n",
    "\n",
    "optimizer = AdamW(optimizer_grouped_parameters, lr=2e-5)\n",
    "\n"
   ]
  },
  {
   "cell_type": "code",
   "execution_count": 26,
   "id": "dbc3716b",
   "metadata": {
    "execution": {
     "iopub.execute_input": "2022-04-22T16:44:05.973819Z",
     "iopub.status.busy": "2022-04-22T16:44:05.972093Z",
     "iopub.status.idle": "2022-04-22T17:25:09.840109Z",
     "shell.execute_reply": "2022-04-22T17:25:09.840574Z",
     "shell.execute_reply.started": "2022-04-22T16:39:42.960797Z"
    },
    "id": "6J-FYdx6nFE_",
    "outputId": "8e388ad1-f9db-4c7b-d080-6c0a0e964610",
    "papermill": {
     "duration": 2463.989116,
     "end_time": "2022-04-22T17:25:09.840739",
     "exception": false,
     "start_time": "2022-04-22T16:44:05.851623",
     "status": "completed"
    },
    "tags": []
   },
   "outputs": [
    {
     "data": {
      "image/png": "[encoded data removed]",
      "text/plain": [
       "<Figure size 432x288 with 1 Axes>"
      ]
     },
     "metadata": {
      "needs_background": "light"
     },
     "output_type": "display_data"
    },
    {
     "name": "stdout",
     "output_type": "stream",
     "text": [
      "Loss на обучающей выборке: 0.49902\n",
      "Процент правильных предсказаний на валидационной выборке: 78.74%\n"
     ]
    }
   ],
   "source": [
    "from IPython.display import clear_output\n",
    "\n",
    "# Будем сохранять loss во время обучения\n",
    "# и рисовать график в режиме реального времени\n",
    "train_loss_set = []\n",
    "train_loss = 0\n",
    "\n",
    "\n",
    "# Обучение\n",
    "# Переводим модель в training mode\n",
    "model.train()\n",
    "\n",
    "\n",
    "for step, batch in enumerate(train_dataloader):\n",
    "    # добавляем батч для вычисления на GPU\n",
    "    batch = tuple(t.to(device) for t in batch)\n",
    "    # Распаковываем данные из dataloader\n",
    "    b_input_ids, b_input_mask, b_labels = batch\n",
    "    \n",
    "    # если не сделать .zero_grad(), градиенты будут накапливаться\n",
    "    optimizer.zero_grad()\n",
    "    \n",
    "    # Forward pass\n",
    "    loss = model(b_input_ids, token_type_ids=None, attention_mask=b_input_mask, labels=b_labels)\n",
    "\n",
    "    train_loss_set.append(loss[0].item())  \n",
    "    \n",
    "    # Backward pass\n",
    "    loss[0].backward()\n",
    "    \n",
    "    # Обновляем параметры и делаем шаг используя посчитанные градиенты\n",
    "    optimizer.step()\n",
    "\n",
    "    # Обновляем loss\n",
    "    train_loss += loss[0].item()\n",
    "    \n",
    "    # Рисуем график\n",
    "    clear_output(True)\n",
    "    plt.plot(train_loss_set)\n",
    "    plt.title(\"Training loss\")\n",
    "    plt.xlabel(\"Batch\")\n",
    "    plt.ylabel(\"Loss\")\n",
    "    plt.show()\n",
    "    \n",
    "print(\"Loss на обучающей выборке: {0:.5f}\".format(train_loss / len(train_dataloader)))\n",
    "\n",
    "\n",
    "# Валидация\n",
    "# Переводим модель в evaluation mode\n",
    "model.eval()\n",
    "\n",
    "valid_preds, valid_labels = [], []\n",
    "\n",
    "for batch in validation_dataloader:   \n",
    "    # добавляем батч для вычисления на GPU\n",
    "    batch = tuple(t.to(device) for t in batch)\n",
    "    \n",
    "    # Распаковываем данные из dataloader\n",
    "    b_input_ids, b_input_mask, b_labels = batch\n",
    "    \n",
    "    # При использовании .no_grad() модель не будет считать и хранить градиенты.\n",
    "    # Это ускорит процесс предсказания меток для валидационных данных.\n",
    "    with torch.no_grad():\n",
    "        logits = model(b_input_ids, token_type_ids=None, attention_mask=b_input_mask)\n",
    "\n",
    "    # Перемещаем logits и метки классов на CPU для дальнейшей работы\n",
    "    logits = logits[0].detach().cpu().numpy()\n",
    "    label_ids = b_labels.to('cpu').numpy()\n",
    "    \n",
    "    batch_preds = np.argmax(logits, axis=1)\n",
    "    batch_labels = np.concatenate(label_ids)     \n",
    "    valid_preds.extend(batch_preds)\n",
    "    valid_labels.extend(batch_labels)\n",
    "\n",
    "print(\"Процент правильных предсказаний на валидационной выборке: {0:.2f}%\".format(\n",
    "    accuracy_score(valid_labels, valid_preds) * 100\n",
    "))"
   ]
  },
  {
   "cell_type": "code",
   "execution_count": 27,
   "id": "d5753de8",
   "metadata": {
    "execution": {
     "iopub.execute_input": "2022-04-22T17:25:10.041721Z",
     "iopub.status.busy": "2022-04-22T17:25:10.040932Z",
     "iopub.status.idle": "2022-04-22T17:25:10.049786Z",
     "shell.execute_reply": "2022-04-22T17:25:10.049350Z",
     "shell.execute_reply.started": "2022-04-22T16:39:42.963185Z"
    },
    "papermill": {
     "duration": 0.112458,
     "end_time": "2022-04-22T17:25:10.049906",
     "exception": false,
     "start_time": "2022-04-22T17:25:09.937448",
     "status": "completed"
    },
    "tags": []
   },
   "outputs": [
    {
     "name": "stdout",
     "output_type": "stream",
     "text": [
      "Процент правильных предсказаний на валидационной выборке: 78.74%\n"
     ]
    }
   ],
   "source": [
    "print(\"Процент правильных предсказаний на валидационной выборке: {0:.2f}%\".format(\n",
    "    accuracy_score(valid_labels, valid_preds) * 100\n",
    "))"
   ]
  },
  {
   "cell_type": "markdown",
   "id": "f657d05d",
   "metadata": {
    "id": "mkyubuJSOzg3",
    "papermill": {
     "duration": 0.096554,
     "end_time": "2022-04-22T17:25:10.242912",
     "exception": false,
     "start_time": "2022-04-22T17:25:10.146358",
     "status": "completed"
    },
    "tags": []
   },
   "source": [
    "# Оценка качества на отложенной выборке"
   ]
  },
  {
   "cell_type": "code",
   "execution_count": 28,
   "id": "47032839",
   "metadata": {
    "execution": {
     "iopub.execute_input": "2022-04-22T17:25:10.458297Z",
     "iopub.status.busy": "2022-04-22T17:25:10.448025Z",
     "iopub.status.idle": "2022-04-22T17:25:46.600648Z",
     "shell.execute_reply": "2022-04-22T17:25:46.599684Z",
     "shell.execute_reply.started": "2022-04-22T16:39:42.965527Z"
    },
    "id": "mAN0LZBOOPVh",
    "papermill": {
     "duration": 36.261576,
     "end_time": "2022-04-22T17:25:46.600803",
     "exception": false,
     "start_time": "2022-04-22T17:25:10.339227",
     "status": "completed"
    },
    "tags": []
   },
   "outputs": [],
   "source": [
    "tokenized_texts = [tokenizer.tokenize(sent) for sent in test_sentences]\n",
    "input_ids = [tokenizer.convert_tokens_to_ids(x) for x in tokenized_texts]\n",
    "\n",
    "input_ids = pad_sequences(\n",
    "    input_ids,\n",
    "    maxlen=100,\n",
    "    dtype=\"long\",\n",
    "    truncating=\"post\",\n",
    "    padding=\"post\"\n",
    ")"
   ]
  },
  {
   "cell_type": "code",
   "execution_count": 29,
   "id": "979f90d3",
   "metadata": {
    "execution": {
     "iopub.execute_input": "2022-04-22T17:25:46.826658Z",
     "iopub.status.busy": "2022-04-22T17:25:46.811309Z",
     "iopub.status.idle": "2022-04-22T17:25:52.347347Z",
     "shell.execute_reply": "2022-04-22T17:25:52.346858Z",
     "shell.execute_reply.started": "2022-04-22T16:39:42.967511Z"
    },
    "papermill": {
     "duration": 5.649712,
     "end_time": "2022-04-22T17:25:52.347479",
     "exception": false,
     "start_time": "2022-04-22T17:25:46.697767",
     "status": "completed"
    },
    "tags": []
   },
   "outputs": [],
   "source": [
    "attention_masks = [[float(i>0) for i in seq] for seq in input_ids]\n",
    "\n",
    "prediction_inputs = torch.tensor(input_ids)\n",
    "prediction_masks = torch.tensor(attention_masks)\n",
    "prediction_labels = torch.tensor(test_gt)\n",
    "\n",
    "prediction_data = TensorDataset(\n",
    "    prediction_inputs,\n",
    "    prediction_masks,\n",
    "    prediction_labels\n",
    ")\n",
    "\n",
    "prediction_dataloader = DataLoader(\n",
    "    prediction_data, \n",
    "    sampler=SequentialSampler(prediction_data),\n",
    "    batch_size=32\n",
    ")"
   ]
  },
  {
   "cell_type": "code",
   "execution_count": 30,
   "id": "c47298df",
   "metadata": {
    "execution": {
     "iopub.execute_input": "2022-04-22T17:25:52.548267Z",
     "iopub.status.busy": "2022-04-22T17:25:52.547429Z",
     "iopub.status.idle": "2022-04-22T17:29:38.465407Z",
     "shell.execute_reply": "2022-04-22T17:29:38.464912Z",
     "shell.execute_reply.started": "2022-04-22T16:39:42.969672Z"
    },
    "id": "Hba10sXR7Xi6",
    "papermill": {
     "duration": 226.022021,
     "end_time": "2022-04-22T17:29:38.465547",
     "exception": false,
     "start_time": "2022-04-22T17:25:52.443526",
     "status": "completed"
    },
    "tags": []
   },
   "outputs": [],
   "source": [
    "model.eval()\n",
    "test_preds, test_labels = [], []\n",
    "\n",
    "for batch in prediction_dataloader:\n",
    "    # добавляем батч для вычисления на GPU\n",
    "    batch = tuple(t.to(device) for t in batch)\n",
    "    \n",
    "    # Распаковываем данные из dataloader\n",
    "    b_input_ids, b_input_mask, b_labels = batch\n",
    "    \n",
    "    # При использовании .no_grad() модель не будет считать и хранить градиенты.\n",
    "    # Это ускорит процесс предсказания меток для тестовых данных.\n",
    "    with torch.no_grad():\n",
    "        logits = model(b_input_ids, token_type_ids=None, attention_mask=b_input_mask)\n",
    "\n",
    "    # Перемещаем logits и метки классов на CPU для дальнейшей работы\n",
    "    logits = logits[0].detach().cpu().numpy()\n",
    "    label_ids = b_labels.to('cpu').numpy()\n",
    "\n",
    "    # Сохраняем предсказанные классы и ground truth\n",
    "    batch_preds = np.argmax(logits, axis=1)\n",
    "    batch_labels = np.concatenate(label_ids)  \n",
    "    test_preds.extend(batch_preds)\n",
    "    test_labels.extend(batch_labels)"
   ]
  },
  {
   "cell_type": "code",
   "execution_count": 31,
   "id": "3e8a414f",
   "metadata": {
    "execution": {
     "iopub.execute_input": "2022-04-22T17:29:38.679719Z",
     "iopub.status.busy": "2022-04-22T17:29:38.678920Z",
     "iopub.status.idle": "2022-04-22T17:29:38.703051Z",
     "shell.execute_reply": "2022-04-22T17:29:38.702612Z",
     "shell.execute_reply.started": "2022-04-22T16:39:42.972194Z"
    },
    "papermill": {
     "duration": 0.140671,
     "end_time": "2022-04-22T17:29:38.703160",
     "exception": false,
     "start_time": "2022-04-22T17:29:38.562489",
     "status": "completed"
    },
    "tags": []
   },
   "outputs": [
    {
     "name": "stdout",
     "output_type": "stream",
     "text": [
      "Процент правильных предсказаний на отложенной выборке составил: 78.31%\n"
     ]
    }
   ],
   "source": [
    "acc_score = accuracy_score(test_labels, test_preds)\n",
    "print('Процент правильных предсказаний на отложенной выборке составил: {0:.2f}%'.format(\n",
    "    acc_score*100\n",
    "))"
   ]
  },
  {
   "cell_type": "code",
   "execution_count": 32,
   "id": "e3d3e7bc",
   "metadata": {
    "execution": {
     "iopub.execute_input": "2022-04-22T17:29:39.092305Z",
     "iopub.status.busy": "2022-04-22T17:29:39.090544Z",
     "iopub.status.idle": "2022-04-22T17:29:39.094585Z",
     "shell.execute_reply": "2022-04-22T17:29:39.094045Z",
     "shell.execute_reply.started": "2022-04-22T16:39:42.974330Z"
    },
    "papermill": {
     "duration": 0.294764,
     "end_time": "2022-04-22T17:29:39.094707",
     "exception": false,
     "start_time": "2022-04-22T17:29:38.799943",
     "status": "completed"
    },
    "tags": []
   },
   "outputs": [
    {
     "name": "stdout",
     "output_type": "stream",
     "text": [
      "Неправильных предсказаний: 14757/68051\n"
     ]
    }
   ],
   "source": [
    "print('Неправильных предсказаний: {0}/{1}'.format(\n",
    "    sum(np.array(test_labels) != np.array(test_preds)),\n",
    "    len(test_labels)\n",
    "))"
   ]
  },
  {
   "cell_type": "markdown",
   "id": "8544105e",
   "metadata": {
    "papermill": {
     "duration": 0.096672,
     "end_time": "2022-04-22T17:29:39.296151",
     "exception": false,
     "start_time": "2022-04-22T17:29:39.199479",
     "status": "completed"
    },
    "tags": []
   },
   "source": [
    "### Задание. Внимательно изучите датасет с русскими твитами. В чем его особенности? Нет ли явных паттернов или ключевых слов, которые однозначно определяют сентимент твита?"
   ]
  },
  {
   "cell_type": "code",
   "execution_count": 33,
   "id": "58069a4f",
   "metadata": {
    "execution": {
     "iopub.execute_input": "2022-04-22T17:29:39.516008Z",
     "iopub.status.busy": "2022-04-22T17:29:39.515363Z",
     "iopub.status.idle": "2022-04-22T17:29:39.518142Z",
     "shell.execute_reply": "2022-04-22T17:29:39.518543Z",
     "shell.execute_reply.started": "2022-04-22T16:39:42.976815Z"
    },
    "papermill": {
     "duration": 0.125356,
     "end_time": "2022-04-22T17:29:39.518690",
     "exception": false,
     "start_time": "2022-04-22T17:29:39.393334",
     "status": "completed"
    },
    "tags": []
   },
   "outputs": [
    {
     "data": {
      "text/plain": [
       "['first_timee хоть я и школота но поверь у нас то же самое  общество профилирующий предмет типа',\n",
       " 'Да всетаки он немного похож на него Но мой мальчик все равно лучше',\n",
       " 'RT KatiaCheh Ну ты идиотка я испугалась за тебя',\n",
       " 'RT digger2912 Кто то в углу сидит и погибает от голода а мы ещё 2 порции взяли хотя уже и так жрать не хотим D httptcoGqG6iuE2',\n",
       " 'irina_dyshkant Вот что значит страшилка \\nНо блинпосмотрев все частиу тебя создастся ощущениечто авторы курили чтото ',\n",
       " 'ну любишь или нет  Я не знаю кто ты бля httptcobrf9eNg1U6',\n",
       " 'RT SpoonLamer Ох900  ну это конечно же twinkleAYO  Чтобы у нее было много друзей ведь она такая мимими lt3',\n",
       " 'RT veregijytaqo У тебя есть ухажёр Нет  мои уши не кто не жрёт ',\n",
       " 'Поприветствуем моего нового читателя Alexey1789 ',\n",
       " 'Теперь у меня есть частичка Сиднея  Sydney SydneyOperaHouse httptcoagnto3CZEi']"
      ]
     },
     "execution_count": 33,
     "metadata": {},
     "output_type": "execute_result"
    }
   ],
   "source": [
    "list(pos_texts[3])[:10]"
   ]
  },
  {
   "cell_type": "code",
   "execution_count": 34,
   "id": "fee31d8d",
   "metadata": {
    "execution": {
     "iopub.execute_input": "2022-04-22T17:29:39.773659Z",
     "iopub.status.busy": "2022-04-22T17:29:39.772932Z",
     "iopub.status.idle": "2022-04-22T17:29:39.775670Z",
     "shell.execute_reply": "2022-04-22T17:29:39.776081Z",
     "shell.execute_reply.started": "2022-04-22T16:39:42.978366Z"
    },
    "papermill": {
     "duration": 0.159141,
     "end_time": "2022-04-22T17:29:39.776213",
     "exception": false,
     "start_time": "2022-04-22T17:29:39.617072",
     "status": "completed"
    },
    "tags": []
   },
   "outputs": [
    {
     "data": {
      "text/plain": [
       "0.0"
      ]
     },
     "execution_count": 34,
     "metadata": {},
     "output_type": "execute_result"
    }
   ],
   "source": [
    "len([line for line in list(pos_texts[3]) if (\")\" in line) or \":D\" in line])/len(list(pos_texts[3]))"
   ]
  },
  {
   "cell_type": "code",
   "execution_count": 35,
   "id": "6da585de",
   "metadata": {
    "execution": {
     "iopub.execute_input": "2022-04-22T17:29:39.973434Z",
     "iopub.status.busy": "2022-04-22T17:29:39.972660Z",
     "iopub.status.idle": "2022-04-22T17:29:39.997993Z",
     "shell.execute_reply": "2022-04-22T17:29:39.998368Z",
     "shell.execute_reply.started": "2022-04-22T16:39:42.980485Z"
    },
    "papermill": {
     "duration": 0.125351,
     "end_time": "2022-04-22T17:29:39.998502",
     "exception": false,
     "start_time": "2022-04-22T17:29:39.873151",
     "status": "completed"
    },
    "tags": []
   },
   "outputs": [
    {
     "data": {
      "text/plain": [
       "['на работе был полный пиддес  и так каждое закрытие месяца я же свихнусь так ',\n",
       " 'Коллеги сидят рубятся в Urban terror а я изза долбанной винды не могу ',\n",
       " 'elina_4post как говорят обещаного три года ждут',\n",
       " 'Желаю хорошего полёта и удачной посадкия буду очень сильно скучать httptcojCLNzVNv3S',\n",
       " 'Обновил за какимто лешим surf теперь не работает простоплеер ',\n",
       " 'Котёнка вчера носик разбила плакала и расстраивалась ',\n",
       " 'juliamayko O_nika55 and_Possum Зашли а то он опять затихарился я прямо физически страдаю когда он долго молчит',\n",
       " 'а вообще я не болею   я не выздоравливаю ',\n",
       " 'я микрофраза  учимся срать кирпичами в режиме ampquotнонстопampquot niwoqisipapy',\n",
       " 'я хочу с тобой помириться  но сука я гордая и никогда этого не сделаю ',\n",
       " 'DNO_OKEANA_A3A3 MOE_MOPE_A3A3 тебя ебет какие у меня фоткия про твои молчуи вообще ты хоть знаешь как ТП то выглядят',\n",
       " 'Блин начали сниться сны Не когда почти не снились  А теперь можно сказать каждый день такое  Мне это не нравиться ',\n",
       " 'realVold На твоем месте я бы сначала телек купил бы',\n",
       " 'faraonbgr111 плохо боишься значит ты где В мск бгр',\n",
       " 'А я хотела электромобиль \\nhttptcovgs9JeUPHz',\n",
       " 'Скоро увижу твои зеленые глаза в последний раз',\n",
       " 'Вот это да докатилсяпооранжевел патриот Чо деется  RT SapelSV Бабки объединят КПРФ и Навального httptcokyJk4A79kv',\n",
       " 'Ну уже 1225 ночииии а я ничего не сделалаллалалалалалалвцмдэмппдпктцдкиицкп',\n",
       " '190299der я очень радано ты им разобьешь сердца\\nМне их  жалко епт\\nмне оч жалко Влада\\nА всех остальных нет\\n',\n",
       " 'Сегодня какойто нехороший день у меня  Телефон наушники не опознает у блога както умудрился шаблон сломать да еще',\n",
       " 'думаюна моем веку почта россии не поднимется со дна ',\n",
       " 'Мне одному   напоминает дом2 Путин делает реалитишоу O_o',\n",
       " 'ебааааа сейчас модуль будет по региональной экономике ',\n",
       " 'kordalona_mars оооууу ты меня анфолловил чувак',\n",
       " 'вот так я встречаю зиму httptcoFjivXAGcR9',\n",
       " 'Kyo_oppa ну вот туда медведь прикреплялся',\n",
       " 'чорт хотела сходить в кино  придется любоваться фильмом в уг качестве на компе',\n",
       " 'RT arinaaaaonskul Так плохо я себя не чувствовала давно  ',\n",
       " 'Как понизить температуру ноута Снаружи 30 так что он постоянно раскалённый ',\n",
       " 'Anastasia_pain думаешь упаду со стула ',\n",
       " 'Deniska_perm да нет но условия будут более спартанские ',\n",
       " 'Хотела маме сделать сюрприз как всегда все навернулось',\n",
       " 'я блин сутками его жду а он с друзьями общаться с которыми ежедневно видится ',\n",
       " 'Annya_Nik YankaMurygina Так и думал \\nНе судьба походу попасть к мастерам',\n",
       " 'RT davidmsk У берегов КостаРики водятся 1600 видов рыб А на берег выходят черепахи весом до 500 кг Но я не видел  httptco9ixMBH',\n",
       " 'lisi_Ca maybe_reg49_27 One_ENCLAVE LyudaLa самая смешная из лисичек  тибетская Это не фотошоп httptcokDDYZartwl о_О',\n",
       " 'Потеряла креапления от борда Как так Я же их не снимала',\n",
       " 'RT Ksenyamalischev Устала от семинара',\n",
       " 'Опять простылаВсе гуляюткатаюттусуюта яЧто за невезение',\n",
       " '1libertad первые деньги пойдут на красные мокасины потом на ремень гермес потом на приору а потом уже можно умереть ',\n",
       " 'volkova_v Мясорубка пожирает деньги налогоплательщиков ',\n",
       " '_rakka_ brovo4ka а я не переношу соционику это самый адовый бред что я видел и все как один помешались',\n",
       " 'Пора делать уроки учить Лермонтова  httptcoCShrNmfFCL',\n",
       " 'Romashka_Vera блин он наверно уже не действителен уже сама хочу там заказ сделать а скидки нет',\n",
       " 'Я так хотела побыстрее попробывать сырный супчто обожгла весь языки вообще ни чего не чувствую',\n",
       " 'Внезапно настало лето Дома из обоих кранов течёт холодная вода ',\n",
       " 'natahin_ кто из СМИ первее  на того и ссылка в поисковике ',\n",
       " 'the_anechnaya babooshkina блин а мне халвы захотелось',\n",
       " 'only_069 ДА \\nВОСПАЛЕНИЕ ЛЕГКИХ\\nЯ ПОЧТИ 2 НЕДЕЛИ В БОЛЬНИЦЕ ЛЕЖАЛА  И В ТВИ ТОЖ НИ ЗАХОДИЛА',\n",
       " 'Каждое его смскак доза\\nЧто вообще со мной происходить ']"
      ]
     },
     "execution_count": 35,
     "metadata": {},
     "output_type": "execute_result"
    }
   ],
   "source": [
    "list(neg_texts[3])[:50]"
   ]
  },
  {
   "cell_type": "code",
   "execution_count": 36,
   "id": "2c49b827",
   "metadata": {
    "execution": {
     "iopub.execute_input": "2022-04-22T17:29:40.300589Z",
     "iopub.status.busy": "2022-04-22T17:29:40.254078Z",
     "iopub.status.idle": "2022-04-22T17:29:40.351055Z",
     "shell.execute_reply": "2022-04-22T17:29:40.351946Z",
     "shell.execute_reply.started": "2022-04-22T16:39:42.982551Z"
    },
    "papermill": {
     "duration": 0.247466,
     "end_time": "2022-04-22T17:29:40.352187",
     "exception": false,
     "start_time": "2022-04-22T17:29:40.104721",
     "status": "completed"
    },
    "tags": []
   },
   "outputs": [
    {
     "data": {
      "text/plain": [
       "0.0"
      ]
     },
     "execution_count": 36,
     "metadata": {},
     "output_type": "execute_result"
    }
   ],
   "source": [
    "len([line for line in list(neg_texts[3]) if (\"(\" in line) or \"D:\" in line])/len(list(pos_texts[3]))"
   ]
  },
  {
   "cell_type": "markdown",
   "id": "58205b2b",
   "metadata": {
    "papermill": {
     "duration": 0.170448,
     "end_time": "2022-04-22T17:29:40.702811",
     "exception": false,
     "start_time": "2022-04-22T17:29:40.532363",
     "status": "completed"
    },
    "tags": []
   },
   "source": [
    "### Задание. Попробуйте удалить пунктуацию из датасета с русскими твитами и перезапустите дообучение модели. Изменилось ли итоговое качество работы модели? Почему?"
   ]
  },
  {
   "cell_type": "code",
   "execution_count": 37,
   "id": "0825bb11",
   "metadata": {
    "execution": {
     "iopub.execute_input": "2022-04-22T17:29:40.913537Z",
     "iopub.status.busy": "2022-04-22T17:29:40.912780Z",
     "iopub.status.idle": "2022-04-22T17:29:40.915415Z",
     "shell.execute_reply": "2022-04-22T17:29:40.914967Z",
     "shell.execute_reply.started": "2022-04-22T16:39:42.984763Z"
    },
    "papermill": {
     "duration": 0.104457,
     "end_time": "2022-04-22T17:29:40.915520",
     "exception": false,
     "start_time": "2022-04-22T17:29:40.811063",
     "status": "completed"
    },
    "tags": []
   },
   "outputs": [],
   "source": [
    "# import re\n",
    "# pos_texts[3] = pd.Series([re.sub(r':D|D:|[^\\w\\s]', '', line) for line in list(pos_texts[3])])\n",
    "# neg_texts[3] = pd.Series([re.sub(r':D|D:|[^\\w\\s]', '', line) for line in list(neg_texts[3])])"
   ]
  },
  {
   "cell_type": "markdown",
   "id": "9def7370",
   "metadata": {
    "papermill": {
     "duration": 0.100816,
     "end_time": "2022-04-22T17:29:41.114824",
     "exception": false,
     "start_time": "2022-04-22T17:29:41.014008",
     "status": "completed"
    },
    "tags": []
   },
   "source": [
    "### Домашнее задание"
   ]
  },
  {
   "cell_type": "markdown",
   "id": "1b3bc4a1",
   "metadata": {
    "papermill": {
     "duration": 0.098594,
     "end_time": "2022-04-22T17:29:41.313751",
     "exception": false,
     "start_time": "2022-04-22T17:29:41.215157",
     "status": "completed"
    },
    "tags": []
   },
   "source": [
    "Скачайте датасет с отзывами на фильмы. Например, используйте датасет [IMDB Dataset of 50K Movie Reviews](https://www.kaggle.com/lakshmi25npathi/imdb-dataset-of-50k-movie-reviews). "
   ]
  },
  {
   "cell_type": "code",
   "execution_count": 38,
   "id": "c7339242",
   "metadata": {
    "execution": {
     "iopub.execute_input": "2022-04-22T17:29:41.520562Z",
     "iopub.status.busy": "2022-04-22T17:29:41.520010Z",
     "iopub.status.idle": "2022-04-22T17:29:42.811446Z",
     "shell.execute_reply": "2022-04-22T17:29:42.810517Z",
     "shell.execute_reply.started": "2022-04-22T16:39:42.986676Z"
    },
    "papermill": {
     "duration": 1.394039,
     "end_time": "2022-04-22T17:29:42.811609",
     "exception": false,
     "start_time": "2022-04-22T17:29:41.417570",
     "status": "completed"
    },
    "tags": []
   },
   "outputs": [],
   "source": [
    "import pandas as pd\n",
    "\n",
    "#dataset = pd.read_csv('datasets/bert_sentiment_analysis/homework/IMDB_Dataset.csv')\n",
    "dataset = pd.read_csv('/kaggle/input/imdb-dataset-of-50k-movie-reviews/IMDB Dataset.csv')"
   ]
  },
  {
   "cell_type": "code",
   "execution_count": 39,
   "id": "23573a42",
   "metadata": {
    "execution": {
     "iopub.execute_input": "2022-04-22T17:29:43.017915Z",
     "iopub.status.busy": "2022-04-22T17:29:43.017191Z",
     "iopub.status.idle": "2022-04-22T17:29:43.020231Z",
     "shell.execute_reply": "2022-04-22T17:29:43.020647Z",
     "shell.execute_reply.started": "2022-04-22T16:39:42.988715Z"
    },
    "papermill": {
     "duration": 0.109809,
     "end_time": "2022-04-22T17:29:43.020884",
     "exception": false,
     "start_time": "2022-04-22T17:29:42.911075",
     "status": "completed"
    },
    "tags": []
   },
   "outputs": [
    {
     "data": {
      "text/html": [
       "<div>\n",
       "<style scoped>\n",
       "    .dataframe tbody tr th:only-of-type {\n",
       "        vertical-align: middle;\n",
       "    }\n",
       "\n",
       "    .dataframe tbody tr th {\n",
       "        vertical-align: top;\n",
       "    }\n",
       "\n",
       "    .dataframe thead th {\n",
       "        text-align: right;\n",
       "    }\n",
       "</style>\n",
       "<table border=\"1\" class=\"dataframe\">\n",
       "  <thead>\n",
       "    <tr style=\"text-align: right;\">\n",
       "      <th></th>\n",
       "      <th>review</th>\n",
       "      <th>sentiment</th>\n",
       "    </tr>\n",
       "  </thead>\n",
       "  <tbody>\n",
       "    <tr>\n",
       "      <th>0</th>\n",
       "      <td>One of the other reviewers has mentioned that ...</td>\n",
       "      <td>positive</td>\n",
       "    </tr>\n",
       "    <tr>\n",
       "      <th>1</th>\n",
       "      <td>A wonderful little production. &lt;br /&gt;&lt;br /&gt;The...</td>\n",
       "      <td>positive</td>\n",
       "    </tr>\n",
       "    <tr>\n",
       "      <th>2</th>\n",
       "      <td>I thought this was a wonderful way to spend ti...</td>\n",
       "      <td>positive</td>\n",
       "    </tr>\n",
       "    <tr>\n",
       "      <th>3</th>\n",
       "      <td>Basically there's a family where a little boy ...</td>\n",
       "      <td>negative</td>\n",
       "    </tr>\n",
       "    <tr>\n",
       "      <th>4</th>\n",
       "      <td>Petter Mattei's \"Love in the Time of Money\" is...</td>\n",
       "      <td>positive</td>\n",
       "    </tr>\n",
       "  </tbody>\n",
       "</table>\n",
       "</div>"
      ],
      "text/plain": [
       "                                              review sentiment\n",
       "0  One of the other reviewers has mentioned that ...  positive\n",
       "1  A wonderful little production. <br /><br />The...  positive\n",
       "2  I thought this was a wonderful way to spend ti...  positive\n",
       "3  Basically there's a family where a little boy ...  negative\n",
       "4  Petter Mattei's \"Love in the Time of Money\" is...  positive"
      ]
     },
     "execution_count": 39,
     "metadata": {},
     "output_type": "execute_result"
    }
   ],
   "source": [
    "dataset.head()"
   ]
  },
  {
   "cell_type": "code",
   "execution_count": 40,
   "id": "66651cb2",
   "metadata": {
    "execution": {
     "iopub.execute_input": "2022-04-22T17:29:43.233386Z",
     "iopub.status.busy": "2022-04-22T17:29:43.232868Z",
     "iopub.status.idle": "2022-04-22T17:29:43.236525Z",
     "shell.execute_reply": "2022-04-22T17:29:43.236108Z",
     "shell.execute_reply.started": "2022-04-22T16:39:42.990821Z"
    },
    "papermill": {
     "duration": 0.11577,
     "end_time": "2022-04-22T17:29:43.236659",
     "exception": false,
     "start_time": "2022-04-22T17:29:43.120889",
     "status": "completed"
    },
    "tags": []
   },
   "outputs": [
    {
     "data": {
      "text/plain": [
       "positive    25000\n",
       "negative    25000\n",
       "Name: sentiment, dtype: int64"
      ]
     },
     "execution_count": 40,
     "metadata": {},
     "output_type": "execute_result"
    }
   ],
   "source": [
    "dataset.sentiment.value_counts()"
   ]
  },
  {
   "cell_type": "code",
   "execution_count": 41,
   "id": "4e97df47",
   "metadata": {
    "execution": {
     "iopub.execute_input": "2022-04-22T17:29:43.478089Z",
     "iopub.status.busy": "2022-04-22T17:29:43.477393Z",
     "iopub.status.idle": "2022-04-22T17:29:43.782267Z",
     "shell.execute_reply": "2022-04-22T17:29:43.781796Z",
     "shell.execute_reply.started": "2022-04-22T16:39:42.993023Z"
    },
    "papermill": {
     "duration": 0.445295,
     "end_time": "2022-04-22T17:29:43.782390",
     "exception": false,
     "start_time": "2022-04-22T17:29:43.337095",
     "status": "completed"
    },
    "tags": []
   },
   "outputs": [
    {
     "data": {
      "text/plain": [
       "<AxesSubplot:>"
      ]
     },
     "execution_count": 41,
     "metadata": {},
     "output_type": "execute_result"
    },
    {
     "data": {
      "image/png": "[encoded data removed]",
      "text/plain": [
       "<Figure size 432x288 with 1 Axes>"
      ]
     },
     "metadata": {
      "needs_background": "light"
     },
     "output_type": "display_data"
    }
   ],
   "source": [
    "dataset.review.str.len().hist(bins=50)"
   ]
  },
  {
   "cell_type": "code",
   "execution_count": 42,
   "id": "b7f8a0b1",
   "metadata": {
    "execution": {
     "iopub.execute_input": "2022-04-22T17:29:44.029760Z",
     "iopub.status.busy": "2022-04-22T17:29:44.003419Z",
     "iopub.status.idle": "2022-04-22T17:29:44.040162Z",
     "shell.execute_reply": "2022-04-22T17:29:44.040628Z",
     "shell.execute_reply.started": "2022-04-22T16:39:42.997730Z"
    },
    "papermill": {
     "duration": 0.157089,
     "end_time": "2022-04-22T17:29:44.040787",
     "exception": false,
     "start_time": "2022-04-22T17:29:43.883698",
     "status": "completed"
    },
    "tags": []
   },
   "outputs": [
    {
     "data": {
      "text/plain": [
       "count    50000.000000\n",
       "mean      1309.431020\n",
       "std        989.728014\n",
       "min         32.000000\n",
       "25%        699.000000\n",
       "50%        970.000000\n",
       "75%       1590.250000\n",
       "max      13704.000000\n",
       "Name: review, dtype: float64"
      ]
     },
     "execution_count": 42,
     "metadata": {},
     "output_type": "execute_result"
    }
   ],
   "source": [
    "dataset.review.str.len().describe()"
   ]
  },
  {
   "cell_type": "code",
   "execution_count": 43,
   "id": "c55c75e2",
   "metadata": {
    "execution": {
     "iopub.execute_input": "2022-04-22T17:29:44.254439Z",
     "iopub.status.busy": "2022-04-22T17:29:44.253494Z",
     "iopub.status.idle": "2022-04-22T17:29:44.257122Z",
     "shell.execute_reply": "2022-04-22T17:29:44.257483Z",
     "shell.execute_reply.started": "2022-04-22T16:39:42.999944Z"
    },
    "papermill": {
     "duration": 0.110759,
     "end_time": "2022-04-22T17:29:44.257634",
     "exception": false,
     "start_time": "2022-04-22T17:29:44.146875",
     "status": "completed"
    },
    "tags": []
   },
   "outputs": [
    {
     "name": "stdout",
     "output_type": "stream",
     "text": [
      "Now all the kids and teenagers of Springwood, Ohio are all dead expect for one teenager (Shon Greenblatt) is still alive. Freddy (Robert Englund) is letting him go and the teenager doesn't have much of a memory, when he's arriving in a new town. When a tough female psychologist (Lisa Zane) tries to break though the new patient. She's finds out, where he's from. She brings him along to Springwood to spark some memories but three teens (Lezlie Deane, Breckin Meyer and Ricky Dean Logan), who unexpected came for the ride. Once they arrived in Springwood, the psychologist has some memory that she did lived in that town before as a child. While Freddy knows the true secret of her true identity.<br /><br />Directed by Rachel Talalay (Ghost in the Machine, Tank Girl) made a grim but somewhat oddly different sequel with some visual style and funny moments for this horror/fantasy/thriller. Yaphet Kotto (Alien) has a supporting role as a Psychologist expert on dreams. This has some ingenious visual effects (Not everyone will love the climax, especially in 3-D) and some good style in its storytelling. This one did out gross some of the film's series at the box office.<br /><br />DVD has an strong anamorphic widescreen (1.85:1) transfer (also in Pan & Scan) and an strong-Dolby Digital 5.1 Surround Sound. DVD has the original theatrical trailer, Jump to a Nightmare opinion and Cast & Crew information. The \"Elm Street\" Series Box Set, the eighth disc has interviews with the the cast & crew of this sixth film. The sixth film is also in 3-D for the film climax but you could watch it at 2-D also. This is the last of the \"Elm Street\" films until Wes Craven resurrected Freddy into a different, darker style in \"New Nightmare\" and the silly but surprisingly enjoyable spin-off horror film \"Freddy Vs Jason\". Watch for Robert Shaye (Co-Owner and Co-CEO of \"New Line Cinema\"), Roseanne Barr, Tom Arnold, Johnny Depp and Alice Cooper in amusing cameos. Written by Michael De Luca (John Carpenter's In the Mouth of Madness). From a story by the director. (*** ½/*****).\n",
      "\n",
      "Out of any category, this is one demented and over the edge film, even in todays standards. Filmed entirely in crap-o-rama, this film will blow your mind (and something else too!)<br /><br />The amount of hilarious bad taste and sleaze is astonishing. The dialog is breathtakingly fast and campy. You'll either love or hate this film, but give it go. I've seen it 4 times and absolutely love it. Divine is in the quest for being the filthiest person alive, but so are her rivals too in this obscene and disgusting (but funny) and stylish little film. <br /><br />Divine was phenomenal, and \"she\" will always be missed greatly. Edith Massey does the unforgettable performance as the \"egglady\" and don't forget the energetic Mink Stole!<br /><br />Über crazy s**t! <br /><br />Recommended also for you sick little puppies;<br /><br />Female Trouble <br /><br />Desperate Living <br /><br />Polyester\n",
      "\n",
      "Great \"documentary\" of how scientist's believed dinosaurs behaved, captured with some of the most spectacular CGI since \"Jurassic Park\". Done completely seriously, like a prehistoric episode of \"Nation Geographic\". Grabs your attention from the first frame and never lets go. My favorite part was when the Diplodocus fights off the Allosauros.<br /><br />10 stars. This is what science is all about.\n"
     ]
    }
   ],
   "source": [
    "print(\"\\n\\n\".join(list(dataset.review.sample(3))))"
   ]
  },
  {
   "cell_type": "code",
   "execution_count": null,
   "id": "c8dc8ac9",
   "metadata": {
    "papermill": {
     "duration": 0.102127,
     "end_time": "2022-04-22T17:29:44.461332",
     "exception": false,
     "start_time": "2022-04-22T17:29:44.359205",
     "status": "completed"
    },
    "tags": []
   },
   "outputs": [],
   "source": []
  }
 ],
 "metadata": {
  "kernelspec": {
   "display_name": "Python 3",
   "language": "python",
   "name": "python3"
  },
  "language_info": {
   "codemirror_mode": {
    "name": "ipython",
    "version": 3
   },
   "file_extension": ".py",
   "mimetype": "text/x-python",
   "name": "python",
   "nbconvert_exporter": "python",
   "pygments_lexer": "ipython3",
   "version": "3.7.12"
  },
  "papermill": {
   "default_parameters": {},
   "duration": 2899.546846,
   "end_time": "2022-04-22T17:29:48.070755",
   "environment_variables": {},
   "exception": null,
   "input_path": "__notebook__.ipynb",
   "output_path": "__notebook__.ipynb",
   "parameters": {},
   "start_time": "2022-04-22T16:41:28.523909",
   "version": "2.3.3"
  }
 },
 "nbformat": 4,
 "nbformat_minor": 5
}
