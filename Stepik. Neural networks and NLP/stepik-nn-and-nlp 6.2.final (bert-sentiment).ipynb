{
 "cells": [
  {
   "cell_type": "code",
   "execution_count": 1,
   "id": "378f63d9",
   "metadata": {
    "execution": {
     "iopub.execute_input": "2022-04-27T05:19:07.254501Z",
     "iopub.status.busy": "2022-04-27T05:19:07.252919Z",
     "iopub.status.idle": "2022-04-27T05:19:07.273124Z",
     "shell.execute_reply": "2022-04-27T05:19:07.273610Z",
     "shell.execute_reply.started": "2022-04-26T12:50:51.424719Z"
    },
    "papermill": {
     "duration": 0.091559,
     "end_time": "2022-04-27T05:19:07.273853",
     "exception": false,
     "start_time": "2022-04-27T05:19:07.182294",
     "status": "completed"
    },
    "tags": []
   },
   "outputs": [
    {
     "name": "stdout",
     "output_type": "stream",
     "text": [
      "/kaggle/input/imdb-dataset-of-50k-movie-reviews/IMDB Dataset.csv\n"
     ]
    }
   ],
   "source": [
    "# This Python 3 environment comes with many helpful analytics libraries installed\n",
    "# It is defined by the kaggle/python Docker image: https://github.com/kaggle/docker-python\n",
    "# For example, here's several helpful packages to load\n",
    "\n",
    "import numpy as np # linear algebra\n",
    "import pandas as pd # data processing, CSV file I/O (e.g. pd.read_csv)\n",
    "\n",
    "# Input data files are available in the read-only \"../input/\" directory\n",
    "# For example, running this (by clicking run or pressing Shift+Enter) will list all files under the input directory\n",
    "\n",
    "import os\n",
    "for dirname, _, filenames in os.walk('/kaggle/input'):\n",
    "    for filename in filenames:\n",
    "        print(os.path.join(dirname, filename))\n",
    "\n",
    "# You can write up to 20GB to the current directory (/kaggle/working/) that gets preserved as output when you create a version using \"Save & Run All\" \n",
    "# You can also write temporary files to /kaggle/temp/, but they won't be saved outside of the current session"
   ]
  },
  {
   "cell_type": "raw",
   "id": "0971d846",
   "metadata": {
    "papermill": {
     "duration": 0.06167,
     "end_time": "2022-04-27T05:19:07.400557",
     "exception": false,
     "start_time": "2022-04-27T05:19:07.338887",
     "status": "completed"
    },
    "tags": []
   },
   "source": [
    "Исходное задание.\n",
    "\n",
    "В качестве домашнего задания мы предлагаем Вам попробовать дообучить BERT на более традиционном датасете - коллекции отзывов на фильмы (IMDB Dataset of 50K Movie Reviews).\n",
    "\n",
    "На первый взгляд, задание кажется очень простым: Вам нужно перезапустить код семинара, подав на дообучение другие данные. После выполнения этого несложного упражнения, ответьте на вопросы:\n",
    "1. Удалось ли достичь такого же accuracy (98\\%) при использовании IMDB датасета?\n",
    "2. Удалось ли получить хорошее качество классификации всего за одну эпоху?\n",
    "3. Подумайте, в чем может быть причина различий в дообучении одной и той же модели на разных датасетах\n",
    "    - Внимательно изучите датасет с русскими твитами. В чем его особенности? Нет ли явных паттернов или ключевых слов, которые однозначно определяют сентимент твита?\n",
    "    - Попробуйте удалить пунктуацию из датасета с русскими твитами и перезапустите дообучение модели. Изменилось ли итоговое качество работы модели? Почему?"
   ]
  },
  {
   "cell_type": "raw",
   "id": "efe9cdff",
   "metadata": {
    "papermill": {
     "duration": 0.060434,
     "end_time": "2022-04-27T05:19:07.526964",
     "exception": false,
     "start_time": "2022-04-27T05:19:07.466530",
     "status": "completed"
    },
    "tags": []
   },
   "source": [
    "Итоговое задание для меня:\n",
    "    + Запустить и сохранить через Save Version текущую версию ноутбука (с твитами), без использования импортов из dlnlputils\n",
    "    + Понять код семинара, где нужно добавить дополнительные комментарии\n",
    "        + разобраться с вопросами из комментариев, в особенности про саму выбранную модель берт, является ли они мультиязычной \n",
    "          или нет и т.п.\n",
    "    - Запустить BERT на более традиционном датасете - коллекции отзывов на фильмы (IMDB Dataset of 50K Movie Reviews)\n",
    "    - Ответить на вопросы:\n",
    "        - Удалось ли достичь такого же accuracy (98%) при использовании IMDB датасета?\n",
    "        - Удалось ли получить хорошее качество классификации всего за одну эпоху?\n",
    "        + Подумайте, в чем может быть причина различий в дообучении одной и той же модели на разных датасетах\n",
    "            + Внимательно изучите датасет с русскими твитами. В чем его особенности? Нет ли явных паттернов или ключевых слов, \n",
    "              которые однозначно определяют сентимент твита? = огромный процент (>90%) позитивных спайлов в позитивных твитах \n",
    "              и негативных в негативных \n",
    "            + Попробуйте удалить пунктуацию из датасета с русскими твитами и перезапустите дообучение модели. Изменилось ли \n",
    "              итоговое качество работы модели? Почему? = 74%, очень возможно потому что модель английская, имеет смысл \n",
    "              попробовать мультиязычную или русскоязычную модель (попробовал мультиязычную bert-base-multilingual-uncased,\n",
    "              результат улучшился = 78.31%)"
   ]
  },
  {
   "cell_type": "markdown",
   "id": "55e47517",
   "metadata": {
    "id": "jNKaJz5j_ylj",
    "papermill": {
     "duration": 0.059569,
     "end_time": "2022-04-27T05:19:07.646291",
     "exception": false,
     "start_time": "2022-04-27T05:19:07.586722",
     "status": "completed"
    },
    "tags": []
   },
   "source": [
    "# Определение эмоциональной окраски твитов с помощью BERT"
   ]
  },
  {
   "cell_type": "code",
   "execution_count": 2,
   "id": "d59bcdf8",
   "metadata": {
    "execution": {
     "iopub.execute_input": "2022-04-27T05:19:07.772192Z",
     "iopub.status.busy": "2022-04-27T05:19:07.771273Z",
     "iopub.status.idle": "2022-04-27T05:19:07.773504Z",
     "shell.execute_reply": "2022-04-27T05:19:07.772984Z",
     "shell.execute_reply.started": "2022-04-26T12:50:51.44858Z"
    },
    "papermill": {
     "duration": 0.067281,
     "end_time": "2022-04-27T05:19:07.773617",
     "exception": false,
     "start_time": "2022-04-27T05:19:07.706336",
     "status": "completed"
    },
    "tags": []
   },
   "outputs": [],
   "source": [
    "# Если Вы запускаете ноутбук на colab или kaggle,\n",
    "# выполните следующие строчки, чтобы подгрузить библиотеку dlnlputils:\n",
    "\n",
    "# !git clone https://github.com/Samsung-IT-Academy/stepik-dl-nlp.git && pip install -r stepik-dl-nlp/requirements.txt\n",
    "# import sys; sys.path.append('./stepik-dl-nlp')"
   ]
  },
  {
   "cell_type": "markdown",
   "id": "aa60a027",
   "metadata": {
    "id": "RX_ZDhicpHkV",
    "papermill": {
     "duration": 0.059064,
     "end_time": "2022-04-27T05:19:07.893188",
     "exception": false,
     "start_time": "2022-04-27T05:19:07.834124",
     "status": "completed"
    },
    "tags": []
   },
   "source": [
    "## Установка библиотек"
   ]
  },
  {
   "cell_type": "code",
   "execution_count": 3,
   "id": "92b03055",
   "metadata": {
    "execution": {
     "iopub.execute_input": "2022-04-27T05:19:08.016953Z",
     "iopub.status.busy": "2022-04-27T05:19:08.016147Z",
     "iopub.status.idle": "2022-04-27T05:19:19.149954Z",
     "shell.execute_reply": "2022-04-27T05:19:19.149239Z",
     "shell.execute_reply.started": "2022-04-26T12:50:51.454598Z"
    },
    "id": "0NmMdkZO8R6q",
    "outputId": "1cc59bfa-1dbb-4540-cb22-196f399f62af",
    "papermill": {
     "duration": 11.198467,
     "end_time": "2022-04-27T05:19:19.150114",
     "exception": false,
     "start_time": "2022-04-27T05:19:07.951647",
     "status": "completed"
    },
    "tags": []
   },
   "outputs": [
    {
     "name": "stdout",
     "output_type": "stream",
     "text": [
      "Collecting pytorch-transformers\r\n",
      "  Downloading pytorch_transformers-1.2.0-py3-none-any.whl (176 kB)\r\n",
      "     |████████████████████████████████| 176 kB 260 kB/s            \r\n",
      "\u001b[?25hRequirement already satisfied: tqdm in /opt/conda/lib/python3.7/site-packages (from pytorch-transformers) (4.62.3)\r\n",
      "Requirement already satisfied: requests in /opt/conda/lib/python3.7/site-packages (from pytorch-transformers) (2.26.0)\r\n",
      "Requirement already satisfied: numpy in /opt/conda/lib/python3.7/site-packages (from pytorch-transformers) (1.20.3)\r\n",
      "Requirement already satisfied: sacremoses in /opt/conda/lib/python3.7/site-packages (from pytorch-transformers) (0.0.49)\r\n",
      "Requirement already satisfied: torch>=1.0.0 in /opt/conda/lib/python3.7/site-packages (from pytorch-transformers) (1.9.1)\r\n",
      "Requirement already satisfied: boto3 in /opt/conda/lib/python3.7/site-packages (from pytorch-transformers) (1.21.20)\r\n",
      "Requirement already satisfied: sentencepiece in /opt/conda/lib/python3.7/site-packages (from pytorch-transformers) (0.1.96)\r\n",
      "Requirement already satisfied: regex in /opt/conda/lib/python3.7/site-packages (from pytorch-transformers) (2021.11.10)\r\n",
      "Requirement already satisfied: typing-extensions in /opt/conda/lib/python3.7/site-packages (from torch>=1.0.0->pytorch-transformers) (4.1.1)\r\n",
      "Requirement already satisfied: botocore<1.25.0,>=1.24.20 in /opt/conda/lib/python3.7/site-packages (from boto3->pytorch-transformers) (1.24.20)\r\n",
      "Requirement already satisfied: s3transfer<0.6.0,>=0.5.0 in /opt/conda/lib/python3.7/site-packages (from boto3->pytorch-transformers) (0.5.2)\r\n",
      "Requirement already satisfied: jmespath<1.0.0,>=0.7.1 in /opt/conda/lib/python3.7/site-packages (from boto3->pytorch-transformers) (0.10.0)\r\n",
      "Requirement already satisfied: certifi>=2017.4.17 in /opt/conda/lib/python3.7/site-packages (from requests->pytorch-transformers) (2021.10.8)\r\n",
      "Requirement already satisfied: charset-normalizer~=2.0.0 in /opt/conda/lib/python3.7/site-packages (from requests->pytorch-transformers) (2.0.9)\r\n",
      "Requirement already satisfied: idna<4,>=2.5 in /opt/conda/lib/python3.7/site-packages (from requests->pytorch-transformers) (3.1)\r\n",
      "Requirement already satisfied: urllib3<1.27,>=1.21.1 in /opt/conda/lib/python3.7/site-packages (from requests->pytorch-transformers) (1.26.7)\r\n",
      "Requirement already satisfied: joblib in /opt/conda/lib/python3.7/site-packages (from sacremoses->pytorch-transformers) (1.1.0)\r\n",
      "Requirement already satisfied: six in /opt/conda/lib/python3.7/site-packages (from sacremoses->pytorch-transformers) (1.16.0)\r\n",
      "Requirement already satisfied: click in /opt/conda/lib/python3.7/site-packages (from sacremoses->pytorch-transformers) (8.0.3)\r\n",
      "Requirement already satisfied: python-dateutil<3.0.0,>=2.1 in /opt/conda/lib/python3.7/site-packages (from botocore<1.25.0,>=1.24.20->boto3->pytorch-transformers) (2.8.2)\r\n",
      "Requirement already satisfied: importlib-metadata in /opt/conda/lib/python3.7/site-packages (from click->sacremoses->pytorch-transformers) (4.11.3)\r\n",
      "Requirement already satisfied: zipp>=0.5 in /opt/conda/lib/python3.7/site-packages (from importlib-metadata->click->sacremoses->pytorch-transformers) (3.6.0)\r\n",
      "Installing collected packages: pytorch-transformers\r\n",
      "Successfully installed pytorch-transformers-1.2.0\r\n",
      "\u001b[33mWARNING: Running pip as the 'root' user can result in broken permissions and conflicting behaviour with the system package manager. It is recommended to use a virtual environment instead: https://pip.pypa.io/warnings/venv\u001b[0m\r\n"
     ]
    }
   ],
   "source": [
    "!pip install pytorch-transformers"
   ]
  },
  {
   "cell_type": "code",
   "execution_count": 4,
   "id": "95c27f63",
   "metadata": {
    "execution": {
     "iopub.execute_input": "2022-04-27T05:19:19.284391Z",
     "iopub.status.busy": "2022-04-27T05:19:19.283593Z",
     "iopub.status.idle": "2022-04-27T05:19:25.833318Z",
     "shell.execute_reply": "2022-04-27T05:19:25.832815Z",
     "shell.execute_reply.started": "2022-04-26T12:50:58.893577Z"
    },
    "id": "Ok002ceNB8E7",
    "outputId": "06ef90d2-7518-4209-da66-1dd45c357c78",
    "papermill": {
     "duration": 6.619685,
     "end_time": "2022-04-27T05:19:25.833461",
     "exception": false,
     "start_time": "2022-04-27T05:19:19.213776",
     "status": "completed"
    },
    "tags": []
   },
   "outputs": [],
   "source": [
    "import torch\n",
    "from torch.utils.data import TensorDataset, DataLoader, RandomSampler, SequentialSampler\n",
    "from keras.preprocessing.sequence import pad_sequences\n",
    "from sklearn.model_selection import train_test_split\n",
    "from pytorch_transformers import BertTokenizer, BertConfig\n",
    "from pytorch_transformers import AdamW, BertForSequenceClassification\n",
    "from tqdm import tqdm, trange\n",
    "import pandas as pd\n",
    "import io\n",
    "import numpy as np\n",
    "from sklearn.metrics import accuracy_score\n",
    "import matplotlib.pyplot as plt"
   ]
  },
  {
   "cell_type": "code",
   "execution_count": 5,
   "id": "d07ec6c8",
   "metadata": {
    "execution": {
     "iopub.execute_input": "2022-04-27T05:19:26.032395Z",
     "iopub.status.busy": "2022-04-27T05:19:26.031815Z",
     "iopub.status.idle": "2022-04-27T05:19:26.036344Z",
     "shell.execute_reply": "2022-04-27T05:19:26.035878Z",
     "shell.execute_reply.started": "2022-04-26T12:51:01.350023Z"
    },
    "id": "oYsV4H8fCpZ-",
    "outputId": "b8812c8e-3149-475f-b4c0-262160485c39",
    "papermill": {
     "duration": 0.13651,
     "end_time": "2022-04-27T05:19:26.036490",
     "exception": false,
     "start_time": "2022-04-27T05:19:25.899980",
     "status": "completed"
    },
    "tags": []
   },
   "outputs": [
    {
     "name": "stdout",
     "output_type": "stream",
     "text": [
      "Tesla P100-PCIE-16GB\n"
     ]
    }
   ],
   "source": [
    "device = torch.device(\"cuda\" if torch.cuda.is_available() else \"cpu\")\n",
    "if device.type == 'cpu':\n",
    "    print('cpu')\n",
    "else:\n",
    "    n_gpu = torch.cuda.device_count()\n",
    "    print(torch.cuda.get_device_name(0))"
   ]
  },
  {
   "cell_type": "markdown",
   "id": "ef2d1be3",
   "metadata": {
    "id": "guw6ZNtaswKc",
    "papermill": {
     "duration": 0.065456,
     "end_time": "2022-04-27T05:19:26.166427",
     "exception": false,
     "start_time": "2022-04-27T05:19:26.100971",
     "status": "completed"
    },
    "tags": []
   },
   "source": [
    "## Загрузка данных\n"
   ]
  },
  {
   "cell_type": "markdown",
   "id": "6d120517",
   "metadata": {
    "papermill": {
     "duration": 0.066589,
     "end_time": "2022-04-27T05:19:26.299636",
     "exception": false,
     "start_time": "2022-04-27T05:19:26.233047",
     "status": "completed"
    },
    "tags": []
   },
   "source": [
    "Мы выбрали необычный датасет с разметкой сентимента русскоязычных твитов (подробнее про него в [статье](http://www.swsys.ru/index.php?page=article&id=3962&lang=)). В корпусе, который мы использовали 114,911 положительных и 111,923 отрицательных записей. Загрузить его можно [тут](https://study.mokoron.com/)."
   ]
  },
  {
   "cell_type": "raw",
   "id": "eda2cf02",
   "metadata": {
    "execution": {
     "iopub.execute_input": "2022-04-26T08:16:46.245927Z",
     "iopub.status.busy": "2022-04-26T08:16:46.245727Z",
     "iopub.status.idle": "2022-04-26T08:16:52.742897Z",
     "shell.execute_reply": "2022-04-26T08:16:52.741905Z",
     "shell.execute_reply.started": "2022-04-26T08:16:46.245903Z"
    },
    "papermill": {
     "duration": 0.065437,
     "end_time": "2022-04-27T05:19:26.431024",
     "exception": false,
     "start_time": "2022-04-27T05:19:26.365587",
     "status": "completed"
    },
    "tags": []
   },
   "source": [
    "import pandas as pd\n",
    "\n",
    "!mkdir ./stepik-dl-nlp/\n",
    "!mkdir ./stepik-dl-nlp/datasets/\n",
    "!mkdir ./stepik-dl-nlp/datasets/bert_sentiment_analysis/\n",
    "\n",
    "!curl \"https://raw.githubusercontent.com/Samsung-IT-Academy/stepik-dl-nlp/master/datasets/bert_sentiment_analysis/positive.csv\" \\\n",
    "    -o ./stepik-dl-nlp/datasets/bert_sentiment_analysis/positive.csv\n",
    "!curl \"https://raw.githubusercontent.com/Samsung-IT-Academy/stepik-dl-nlp/master/datasets/bert_sentiment_analysis/negative.csv\" \\\n",
    "    -o ./stepik-dl-nlp/datasets/bert_sentiment_analysis/negative.csv\n",
    "\n",
    "# Если Вы запускаете ноутбук на colab или kaggle, добавьте в начало пути ./stepik-dl-nlp\n",
    "pos_texts = pd.read_csv('./stepik-dl-nlp/datasets/bert_sentiment_analysis/positive.csv', encoding='utf8', sep=';', header=None)\n",
    "neg_texts = pd.read_csv('./stepik-dl-nlp/datasets/bert_sentiment_analysis/negative.csv', encoding='utf8', sep=';', header=None)"
   ]
  },
  {
   "cell_type": "raw",
   "id": "469e0739",
   "metadata": {
    "execution": {
     "iopub.execute_input": "2022-04-26T08:16:52.744841Z",
     "iopub.status.busy": "2022-04-26T08:16:52.744604Z",
     "iopub.status.idle": "2022-04-26T08:16:52.749897Z",
     "shell.execute_reply": "2022-04-26T08:16:52.748453Z",
     "shell.execute_reply.started": "2022-04-26T08:16:52.744813Z"
    },
    "papermill": {
     "duration": 0.066136,
     "end_time": "2022-04-27T05:19:26.563721",
     "exception": false,
     "start_time": "2022-04-27T05:19:26.497585",
     "status": "completed"
    },
    "tags": []
   },
   "source": [
    "# #Попробуйте удалить пунктуацию из датасета с русскими твитами и перезапустите дообучение модели. Изменилось ли итоговое качество работы модели? Почему?\n",
    "# import re\n",
    "# pos_texts[3] = pd.Series([re.sub(r':D|D:|[^\\w\\s]', '', line) for line in list(pos_texts[3])])\n",
    "# neg_texts[3] = pd.Series([re.sub(r':D|D:|[^\\w\\s]', '', line) for line in list(neg_texts[3])])"
   ]
  },
  {
   "cell_type": "raw",
   "id": "2d48ec4c",
   "metadata": {
    "execution": {
     "iopub.execute_input": "2022-04-26T08:16:52.751686Z",
     "iopub.status.busy": "2022-04-26T08:16:52.751457Z",
     "iopub.status.idle": "2022-04-26T08:16:52.784049Z",
     "shell.execute_reply": "2022-04-26T08:16:52.783187Z",
     "shell.execute_reply.started": "2022-04-26T08:16:52.751661Z"
    },
    "papermill": {
     "duration": 0.063212,
     "end_time": "2022-04-27T05:19:26.691210",
     "exception": false,
     "start_time": "2022-04-27T05:19:26.627998",
     "status": "completed"
    },
    "tags": []
   },
   "source": [
    "pos_texts.sample(5)"
   ]
  },
  {
   "cell_type": "raw",
   "id": "b2a44077",
   "metadata": {
    "execution": {
     "iopub.execute_input": "2022-04-26T08:16:52.786906Z",
     "iopub.status.busy": "2022-04-26T08:16:52.786119Z",
     "iopub.status.idle": "2022-04-26T08:16:53.391114Z",
     "shell.execute_reply": "2022-04-26T08:16:53.390312Z",
     "shell.execute_reply.started": "2022-04-26T08:16:52.786855Z"
    },
    "papermill": {
     "duration": 0.064029,
     "end_time": "2022-04-27T05:19:26.820789",
     "exception": false,
     "start_time": "2022-04-27T05:19:26.756760",
     "status": "completed"
    },
    "tags": []
   },
   "source": [
    "sentences = np.concatenate([pos_texts[3].values, neg_texts[3].values])\n",
    "\n",
    "sentences = [\"[CLS] \" + sentence + \" [SEP]\" for sentence in sentences]\n",
    "labels = [[1] for _ in range(pos_texts.shape[0])] + [[0] for _ in range(neg_texts.shape[0])]"
   ]
  },
  {
   "cell_type": "raw",
   "id": "f9296ed8",
   "metadata": {
    "execution": {
     "iopub.execute_input": "2022-04-26T08:16:53.393226Z",
     "iopub.status.busy": "2022-04-26T08:16:53.392318Z",
     "iopub.status.idle": "2022-04-26T08:16:53.396852Z",
     "shell.execute_reply": "2022-04-26T08:16:53.396296Z",
     "shell.execute_reply.started": "2022-04-26T08:16:53.39319Z"
    },
    "papermill": {
     "duration": 0.070655,
     "end_time": "2022-04-27T05:19:26.957981",
     "exception": false,
     "start_time": "2022-04-27T05:19:26.887326",
     "status": "completed"
    },
    "tags": []
   },
   "source": [
    "assert len(sentences) == len(labels) == pos_texts.shape[0] + neg_texts.shape[0]"
   ]
  },
  {
   "cell_type": "raw",
   "id": "2b257baa",
   "metadata": {
    "execution": {
     "iopub.execute_input": "2022-04-26T08:16:53.397868Z",
     "iopub.status.busy": "2022-04-26T08:16:53.397654Z",
     "iopub.status.idle": "2022-04-26T08:16:53.431802Z",
     "shell.execute_reply": "2022-04-26T08:16:53.430799Z",
     "shell.execute_reply.started": "2022-04-26T08:16:53.397843Z"
    },
    "papermill": {
     "duration": 0.070392,
     "end_time": "2022-04-27T05:19:27.098953",
     "exception": false,
     "start_time": "2022-04-27T05:19:27.028561",
     "status": "completed"
    },
    "tags": []
   },
   "source": [
    "print(sentences[1000])"
   ]
  },
  {
   "cell_type": "raw",
   "id": "4f8cf25f",
   "metadata": {
    "execution": {
     "iopub.execute_input": "2022-04-26T08:16:53.434912Z",
     "iopub.status.busy": "2022-04-26T08:16:53.43459Z",
     "iopub.status.idle": "2022-04-26T08:16:53.579032Z",
     "shell.execute_reply": "2022-04-26T08:16:53.578151Z",
     "shell.execute_reply.started": "2022-04-26T08:16:53.434872Z"
    },
    "papermill": {
     "duration": 0.067462,
     "end_time": "2022-04-27T05:19:27.236158",
     "exception": false,
     "start_time": "2022-04-27T05:19:27.168696",
     "status": "completed"
    },
    "tags": []
   },
   "source": [
    "from sklearn.model_selection import train_test_split\n",
    "\n",
    "train_sentences, test_sentences, train_gt, test_gt = train_test_split(sentences, labels, test_size=0.3)"
   ]
  },
  {
   "cell_type": "raw",
   "id": "b2f48c89",
   "metadata": {
    "execution": {
     "iopub.execute_input": "2022-04-22T16:37:28.074114Z",
     "iopub.status.busy": "2022-04-22T16:37:28.073859Z",
     "iopub.status.idle": "2022-04-22T16:37:28.080391Z",
     "shell.execute_reply": "2022-04-22T16:37:28.079179Z",
     "shell.execute_reply.started": "2022-04-22T16:37:28.074085Z"
    },
    "papermill": {
     "duration": 0.068367,
     "end_time": "2022-04-27T05:19:27.372094",
     "exception": false,
     "start_time": "2022-04-27T05:19:27.303727",
     "status": "completed"
    },
    "tags": []
   },
   "source": [
    "print(len(train_gt), len(test_gt))"
   ]
  },
  {
   "cell_type": "markdown",
   "id": "fe6550f7",
   "metadata": {
    "id": "ex5O1eV-Pfct",
    "papermill": {
     "duration": 0.068329,
     "end_time": "2022-04-27T05:19:27.510870",
     "exception": false,
     "start_time": "2022-04-27T05:19:27.442541",
     "status": "completed"
    },
    "tags": []
   },
   "source": [
    "## Inputs"
   ]
  },
  {
   "cell_type": "raw",
   "id": "1a6fc16d",
   "metadata": {
    "execution": {
     "iopub.execute_input": "2022-04-22T16:37:28.082199Z",
     "iopub.status.busy": "2022-04-22T16:37:28.08195Z",
     "iopub.status.idle": "2022-04-22T16:39:06.497088Z",
     "shell.execute_reply": "2022-04-22T16:39:06.495796Z",
     "shell.execute_reply.started": "2022-04-22T16:37:28.08217Z"
    },
    "id": "Z474sSC6oe7A",
    "outputId": "fbaa8fd8-bccd-4feb-ce52-beba5d293cfa",
    "papermill": {
     "duration": 0.066322,
     "end_time": "2022-04-27T05:19:27.645981",
     "exception": false,
     "start_time": "2022-04-27T05:19:27.579659",
     "status": "completed"
    },
    "tags": []
   },
   "source": [
    "from pytorch_transformers import BertTokenizer, BertConfig\n",
    "\n",
    "# Подробное описание модели https://huggingface.co/bert-base-uncased\n",
    "# Pretrained model on English language using a masked language modeling (MLM) \n",
    "# objective. It was introduced in this paper and first released in this repository. \n",
    "# This model is uncased: it does not make a difference between english and English.\n",
    "# Особое внимание на то, что модель обучена только на английском, и для данной \n",
    "# задачи имело бы смысл применять русскоязычную модель, т.е. текущая скорей всего \n",
    "# показывает хорошие результаты только за счет высокой роли смайлов в сообщении\n",
    "tokenizer = BertTokenizer.from_pretrained('bert-base-uncased', do_lower_case=True)\n",
    "#tokenizer = BertTokenizer.from_pretrained('bert-base-multilingual-uncased', do_lower_case=True)\n",
    "\n",
    "tokenized_texts = [tokenizer.tokenize(sent) for sent in train_sentences]\n",
    "print(train_sentences[0])\n",
    "print(tokenized_texts[0])"
   ]
  },
  {
   "cell_type": "raw",
   "id": "fdb4645a",
   "metadata": {
    "id": "87_kXUeT2-br",
    "papermill": {
     "duration": 0.065889,
     "end_time": "2022-04-27T05:19:27.778198",
     "exception": false,
     "start_time": "2022-04-27T05:19:27.712309",
     "status": "completed"
    },
    "tags": []
   },
   "source": [
    "BERTу нужно предоставить специальный формат входных данных.\n",
    "\n",
    "\n",
    "- **input ids**: последовательность чисел, отождествляющих каждый токен с его номером в словаре.\n",
    "- **labels**: вектор из нулей и единиц. В нашем случае нули обозначают негативную эмоциональную окраску, единицы - положительную.\n",
    "- **segment mask**: (необязательно) последовательность нулей и единиц, которая показывает, состоит ли входной текст из одного или двух предложений. Для случая одного предложения получится вектор из одних нулей. Для двух: <length_of_sent_1> нулей и <length_of_sent_2> единиц.\n",
    "- **attention mask**: (необязательно) последовательность нулей и единиц, где единицы обозначают токены предложения, нули - паддинг."
   ]
  },
  {
   "cell_type": "raw",
   "id": "3ad05207",
   "metadata": {
    "execution": {
     "iopub.execute_input": "2022-04-22T16:39:06.498652Z",
     "iopub.status.busy": "2022-04-22T16:39:06.498413Z",
     "iopub.status.idle": "2022-04-22T16:39:28.237168Z",
     "shell.execute_reply": "2022-04-22T16:39:28.235968Z",
     "shell.execute_reply.started": "2022-04-22T16:39:06.498606Z"
    },
    "id": "Cp9BPRd1tMIo",
    "papermill": {
     "duration": 0.063832,
     "end_time": "2022-04-27T05:19:27.906339",
     "exception": false,
     "start_time": "2022-04-27T05:19:27.842507",
     "status": "completed"
    },
    "tags": []
   },
   "source": [
    "MAX_LEN = 100\n",
    "\n",
    "input_ids = [tokenizer.convert_tokens_to_ids(x) for x in tokenized_texts]\n",
    "input_ids = pad_sequences(\n",
    "    input_ids,\n",
    "    maxlen=MAX_LEN,\n",
    "    dtype=\"long\",\n",
    "    truncating=\"post\",\n",
    "    padding=\"post\"\n",
    ")\n",
    "attention_masks = [[float(i>0) for i in seq] for seq in input_ids]"
   ]
  },
  {
   "cell_type": "raw",
   "id": "6456055a",
   "metadata": {
    "execution": {
     "iopub.execute_input": "2022-04-22T16:39:28.239372Z",
     "iopub.status.busy": "2022-04-22T16:39:28.2391Z",
     "iopub.status.idle": "2022-04-22T16:39:28.616826Z",
     "shell.execute_reply": "2022-04-22T16:39:28.61585Z",
     "shell.execute_reply.started": "2022-04-22T16:39:28.239336Z"
    },
    "id": "aFbE-UHvsb7-",
    "papermill": {
     "duration": 0.064038,
     "end_time": "2022-04-27T05:19:28.034154",
     "exception": false,
     "start_time": "2022-04-27T05:19:27.970116",
     "status": "completed"
    },
    "tags": []
   },
   "source": [
    "train_inputs, validation_inputs, train_labels, validation_labels = train_test_split(\n",
    "    input_ids, train_gt, \n",
    "    random_state=42,\n",
    "    test_size=0.1\n",
    ")\n",
    "\n",
    "train_masks, validation_masks, _, _ = train_test_split(\n",
    "    attention_masks,\n",
    "    input_ids,\n",
    "    random_state=42,\n",
    "    test_size=0.1\n",
    ")"
   ]
  },
  {
   "cell_type": "raw",
   "id": "abe13aaa",
   "metadata": {
    "execution": {
     "iopub.execute_input": "2022-04-22T16:39:28.618462Z",
     "iopub.status.busy": "2022-04-22T16:39:28.618221Z",
     "iopub.status.idle": "2022-04-22T16:39:30.379625Z",
     "shell.execute_reply": "2022-04-22T16:39:30.378508Z",
     "shell.execute_reply.started": "2022-04-22T16:39:28.618433Z"
    },
    "id": "jw5K2A5Ko1RF",
    "papermill": {
     "duration": 0.065834,
     "end_time": "2022-04-27T05:19:28.162997",
     "exception": false,
     "start_time": "2022-04-27T05:19:28.097163",
     "status": "completed"
    },
    "tags": []
   },
   "source": [
    "train_inputs = torch.tensor(train_inputs)\n",
    "train_labels = torch.tensor(train_labels)\n",
    "train_masks = torch.tensor(train_masks)"
   ]
  },
  {
   "cell_type": "raw",
   "id": "8c8bd2b5",
   "metadata": {
    "execution": {
     "iopub.execute_input": "2022-04-22T16:39:30.381302Z",
     "iopub.status.busy": "2022-04-22T16:39:30.38101Z",
     "iopub.status.idle": "2022-04-22T16:39:30.585352Z",
     "shell.execute_reply": "2022-04-22T16:39:30.584187Z",
     "shell.execute_reply.started": "2022-04-22T16:39:30.38127Z"
    },
    "papermill": {
     "duration": 0.062814,
     "end_time": "2022-04-27T05:19:28.288850",
     "exception": false,
     "start_time": "2022-04-27T05:19:28.226036",
     "status": "completed"
    },
    "tags": []
   },
   "source": [
    "validation_inputs = torch.tensor(validation_inputs)\n",
    "validation_labels = torch.tensor(validation_labels)\n",
    "validation_masks = torch.tensor(validation_masks)"
   ]
  },
  {
   "cell_type": "raw",
   "id": "503b0621",
   "metadata": {
    "execution": {
     "iopub.execute_input": "2022-04-22T16:39:30.587142Z",
     "iopub.status.busy": "2022-04-22T16:39:30.586909Z",
     "iopub.status.idle": "2022-04-22T16:39:30.621544Z",
     "shell.execute_reply": "2022-04-22T16:39:30.620706Z",
     "shell.execute_reply.started": "2022-04-22T16:39:30.587113Z"
    },
    "papermill": {
     "duration": 0.063391,
     "end_time": "2022-04-27T05:19:28.415035",
     "exception": false,
     "start_time": "2022-04-27T05:19:28.351644",
     "status": "completed"
    },
    "tags": []
   },
   "source": [
    "train_labels"
   ]
  },
  {
   "cell_type": "raw",
   "id": "8a1201d4",
   "metadata": {
    "execution": {
     "iopub.execute_input": "2022-04-22T16:39:30.623829Z",
     "iopub.status.busy": "2022-04-22T16:39:30.62326Z",
     "iopub.status.idle": "2022-04-22T16:39:30.629682Z",
     "shell.execute_reply": "2022-04-22T16:39:30.629033Z",
     "shell.execute_reply.started": "2022-04-22T16:39:30.623784Z"
    },
    "id": "GEgLpFVlo1Z-",
    "papermill": {
     "duration": 0.064056,
     "end_time": "2022-04-27T05:19:28.542933",
     "exception": false,
     "start_time": "2022-04-27T05:19:28.478877",
     "status": "completed"
    },
    "tags": []
   },
   "source": [
    "train_data = TensorDataset(train_inputs, train_masks, train_labels)\n",
    "train_dataloader = DataLoader(\n",
    "    train_data,\n",
    "    sampler=RandomSampler(train_data),\n",
    "    batch_size=32\n",
    ")"
   ]
  },
  {
   "cell_type": "raw",
   "id": "a5ebc90e",
   "metadata": {
    "execution": {
     "iopub.execute_input": "2022-04-22T16:39:30.631871Z",
     "iopub.status.busy": "2022-04-22T16:39:30.631127Z",
     "iopub.status.idle": "2022-04-22T16:39:30.642258Z",
     "shell.execute_reply": "2022-04-22T16:39:30.641659Z",
     "shell.execute_reply.started": "2022-04-22T16:39:30.631826Z"
    },
    "papermill": {
     "duration": 0.082935,
     "end_time": "2022-04-27T05:19:28.691629",
     "exception": false,
     "start_time": "2022-04-27T05:19:28.608694",
     "status": "completed"
    },
    "tags": []
   },
   "source": [
    "validation_data = TensorDataset(validation_inputs, validation_masks, validation_labels)\n",
    "validation_dataloader = DataLoader(\n",
    "    validation_data,\n",
    "    sampler=SequentialSampler(validation_data),\n",
    "    batch_size=32\n",
    ")"
   ]
  },
  {
   "cell_type": "markdown",
   "id": "15234a62",
   "metadata": {
    "id": "pNl8khAhPYju",
    "papermill": {
     "duration": 0.063603,
     "end_time": "2022-04-27T05:19:28.819034",
     "exception": false,
     "start_time": "2022-04-27T05:19:28.755431",
     "status": "completed"
    },
    "tags": []
   },
   "source": [
    "## Обучение модели"
   ]
  },
  {
   "cell_type": "markdown",
   "id": "d2c17c0f",
   "metadata": {
    "papermill": {
     "duration": 0.063709,
     "end_time": "2022-04-27T05:19:28.947152",
     "exception": false,
     "start_time": "2022-04-27T05:19:28.883443",
     "status": "completed"
    },
    "tags": []
   },
   "source": [
    "Загружаем [BertForSequenceClassification](https://github.com/huggingface/pytorch-pretrained-BERT/blob/master/pytorch_pretrained_bert/modeling.py#L1129):"
   ]
  },
  {
   "cell_type": "raw",
   "id": "c31ff390",
   "metadata": {
    "execution": {
     "iopub.execute_input": "2022-04-22T16:39:30.644396Z",
     "iopub.status.busy": "2022-04-22T16:39:30.643862Z",
     "iopub.status.idle": "2022-04-22T16:39:30.653883Z",
     "shell.execute_reply": "2022-04-22T16:39:30.653155Z",
     "shell.execute_reply.started": "2022-04-22T16:39:30.644355Z"
    },
    "papermill": {
     "duration": 0.062176,
     "end_time": "2022-04-27T05:19:29.072024",
     "exception": false,
     "start_time": "2022-04-27T05:19:29.009848",
     "status": "completed"
    },
    "tags": []
   },
   "source": [
    "from pytorch_transformers import AdamW, BertForSequenceClassification"
   ]
  },
  {
   "cell_type": "markdown",
   "id": "0546d9d0",
   "metadata": {
    "papermill": {
     "duration": 0.064543,
     "end_time": "2022-04-27T05:19:29.199356",
     "exception": false,
     "start_time": "2022-04-27T05:19:29.134813",
     "status": "completed"
    },
    "tags": []
   },
   "source": [
    "Аналогичные модели есть и для других задач:"
   ]
  },
  {
   "cell_type": "raw",
   "id": "1ce1b8a7",
   "metadata": {
    "execution": {
     "iopub.execute_input": "2022-04-22T16:39:30.656849Z",
     "iopub.status.busy": "2022-04-22T16:39:30.6551Z",
     "iopub.status.idle": "2022-04-22T16:39:30.667601Z",
     "shell.execute_reply": "2022-04-22T16:39:30.666648Z",
     "shell.execute_reply.started": "2022-04-22T16:39:30.656804Z"
    },
    "papermill": {
     "duration": 0.063282,
     "end_time": "2022-04-27T05:19:29.326265",
     "exception": false,
     "start_time": "2022-04-27T05:19:29.262983",
     "status": "completed"
    },
    "tags": []
   },
   "source": [
    "from pytorch_transformers import BertForQuestionAnswering, BertForTokenClassification"
   ]
  },
  {
   "cell_type": "raw",
   "id": "0adaa882",
   "metadata": {
    "execution": {
     "iopub.execute_input": "2022-04-22T16:39:30.67167Z",
     "iopub.status.busy": "2022-04-22T16:39:30.671195Z",
     "iopub.status.idle": "2022-04-22T16:39:42.955581Z",
     "shell.execute_reply": "2022-04-22T16:39:42.936939Z",
     "shell.execute_reply.started": "2022-04-22T16:39:30.67161Z"
    },
    "id": "gFsCTp_mporB",
    "outputId": "dd067229-1925-4b37-f517-0c14e25420d1",
    "papermill": {
     "duration": 0.06906,
     "end_time": "2022-04-27T05:19:29.458561",
     "exception": false,
     "start_time": "2022-04-27T05:19:29.389501",
     "status": "completed"
    },
    "tags": []
   },
   "source": [
    "model = BertForSequenceClassification.from_pretrained(\"bert-base-uncased\", num_labels=2)\n",
    "# model = BertForSequenceClassification.from_pretrained(\"bert-base-multilingual-uncased\", num_labels=2)\n",
    "model.cuda()"
   ]
  },
  {
   "cell_type": "raw",
   "id": "b07b8a0c",
   "metadata": {
    "execution": {
     "iopub.status.busy": "2022-04-22T16:39:42.957607Z",
     "iopub.status.idle": "2022-04-22T16:39:42.958248Z",
     "shell.execute_reply": "2022-04-22T16:39:42.957964Z",
     "shell.execute_reply.started": "2022-04-22T16:39:42.957934Z"
    },
    "id": "QxSMw0FrptiL",
    "papermill": {
     "duration": 0.068259,
     "end_time": "2022-04-27T05:19:29.597192",
     "exception": false,
     "start_time": "2022-04-27T05:19:29.528933",
     "status": "completed"
    },
    "tags": []
   },
   "source": [
    "param_optimizer = list(model.named_parameters())\n",
    "no_decay = ['bias', 'gamma', 'beta']\n",
    "optimizer_grouped_parameters = [\n",
    "    {'params': [p for n, p in param_optimizer if not any(nd in n for nd in no_decay)],\n",
    "     'weight_decay_rate': 0.01},\n",
    "    {'params': [p for n, p in param_optimizer if any(nd in n for nd in no_decay)],\n",
    "     'weight_decay_rate': 0.0}\n",
    "]\n",
    "\n",
    "optimizer = AdamW(optimizer_grouped_parameters, lr=2e-5)\n",
    "\n"
   ]
  },
  {
   "cell_type": "raw",
   "id": "2ba305bb",
   "metadata": {
    "execution": {
     "iopub.status.busy": "2022-04-22T16:39:42.960535Z",
     "iopub.status.idle": "2022-04-22T16:39:42.961097Z",
     "shell.execute_reply": "2022-04-22T16:39:42.960826Z",
     "shell.execute_reply.started": "2022-04-22T16:39:42.960797Z"
    },
    "id": "6J-FYdx6nFE_",
    "outputId": "8e388ad1-f9db-4c7b-d080-6c0a0e964610",
    "papermill": {
     "duration": 0.0667,
     "end_time": "2022-04-27T05:19:29.731878",
     "exception": false,
     "start_time": "2022-04-27T05:19:29.665178",
     "status": "completed"
    },
    "tags": []
   },
   "source": [
    "from IPython.display import clear_output\n",
    "\n",
    "# Будем сохранять loss во время обучения\n",
    "# и рисовать график в режиме реального времени\n",
    "train_loss_set = []\n",
    "train_loss = 0\n",
    "\n",
    "\n",
    "# Обучение\n",
    "# Переводим модель в training mode\n",
    "model.train()\n",
    "\n",
    "\n",
    "for step, batch in enumerate(train_dataloader):\n",
    "    # добавляем батч для вычисления на GPU\n",
    "    batch = tuple(t.to(device) for t in batch)\n",
    "    # Распаковываем данные из dataloader\n",
    "    b_input_ids, b_input_mask, b_labels = batch\n",
    "    \n",
    "    # если не сделать .zero_grad(), градиенты будут накапливаться\n",
    "    optimizer.zero_grad()\n",
    "    \n",
    "    # Forward pass\n",
    "    loss = model(b_input_ids, token_type_ids=None, attention_mask=b_input_mask, labels=b_labels)\n",
    "\n",
    "    train_loss_set.append(loss[0].item())  \n",
    "    \n",
    "    # Backward pass\n",
    "    loss[0].backward()\n",
    "    \n",
    "    # Обновляем параметры и делаем шаг используя посчитанные градиенты\n",
    "    optimizer.step()\n",
    "\n",
    "    # Обновляем loss\n",
    "    train_loss += loss[0].item()\n",
    "    \n",
    "    # Рисуем график\n",
    "    clear_output(True)\n",
    "    plt.plot(train_loss_set)\n",
    "    plt.title(\"Training loss\")\n",
    "    plt.xlabel(\"Batch\")\n",
    "    plt.ylabel(\"Loss\")\n",
    "    plt.show()\n",
    "    \n",
    "print(\"Loss на обучающей выборке: {0:.5f}\".format(train_loss / len(train_dataloader)))\n",
    "\n",
    "\n",
    "# Валидация\n",
    "# Переводим модель в evaluation mode\n",
    "model.eval()\n",
    "\n",
    "valid_preds, valid_labels = [], []\n",
    "\n",
    "for batch in validation_dataloader:   \n",
    "    # добавляем батч для вычисления на GPU\n",
    "    batch = tuple(t.to(device) for t in batch)\n",
    "    \n",
    "    # Распаковываем данные из dataloader\n",
    "    b_input_ids, b_input_mask, b_labels = batch\n",
    "    \n",
    "    # При использовании .no_grad() модель не будет считать и хранить градиенты.\n",
    "    # Это ускорит процесс предсказания меток для валидационных данных.\n",
    "    with torch.no_grad():\n",
    "        logits = model(b_input_ids, token_type_ids=None, attention_mask=b_input_mask)\n",
    "\n",
    "    # Перемещаем logits и метки классов на CPU для дальнейшей работы\n",
    "    logits = logits[0].detach().cpu().numpy()\n",
    "    label_ids = b_labels.to('cpu').numpy()\n",
    "    \n",
    "    batch_preds = np.argmax(logits, axis=1)\n",
    "    batch_labels = np.concatenate(label_ids)     \n",
    "    valid_preds.extend(batch_preds)\n",
    "    valid_labels.extend(batch_labels)\n",
    "\n",
    "print(\"Процент правильных предсказаний на валидационной выборке: {0:.2f}%\".format(\n",
    "    accuracy_score(valid_labels, valid_preds) * 100\n",
    "))"
   ]
  },
  {
   "cell_type": "raw",
   "id": "621849cb",
   "metadata": {
    "execution": {
     "iopub.status.busy": "2022-04-22T16:39:42.962954Z",
     "iopub.status.idle": "2022-04-22T16:39:42.963445Z",
     "shell.execute_reply": "2022-04-22T16:39:42.963211Z",
     "shell.execute_reply.started": "2022-04-22T16:39:42.963185Z"
    },
    "papermill": {
     "duration": 0.063386,
     "end_time": "2022-04-27T05:19:29.859237",
     "exception": false,
     "start_time": "2022-04-27T05:19:29.795851",
     "status": "completed"
    },
    "tags": []
   },
   "source": [
    "print(\"Процент правильных предсказаний на валидационной выборке: {0:.2f}%\".format(\n",
    "    accuracy_score(valid_labels, valid_preds) * 100\n",
    "))"
   ]
  },
  {
   "cell_type": "markdown",
   "id": "ae04d204",
   "metadata": {
    "id": "mkyubuJSOzg3",
    "papermill": {
     "duration": 0.064105,
     "end_time": "2022-04-27T05:19:29.989426",
     "exception": false,
     "start_time": "2022-04-27T05:19:29.925321",
     "status": "completed"
    },
    "tags": []
   },
   "source": [
    "# Оценка качества на отложенной выборке"
   ]
  },
  {
   "cell_type": "raw",
   "id": "37b6ad5b",
   "metadata": {
    "execution": {
     "iopub.status.busy": "2022-04-22T16:39:42.965313Z",
     "iopub.status.idle": "2022-04-22T16:39:42.965804Z",
     "shell.execute_reply": "2022-04-22T16:39:42.965553Z",
     "shell.execute_reply.started": "2022-04-22T16:39:42.965527Z"
    },
    "id": "mAN0LZBOOPVh",
    "papermill": {
     "duration": 0.06206,
     "end_time": "2022-04-27T05:19:30.115313",
     "exception": false,
     "start_time": "2022-04-27T05:19:30.053253",
     "status": "completed"
    },
    "tags": []
   },
   "source": [
    "tokenized_texts = [tokenizer.tokenize(sent) for sent in test_sentences]\n",
    "input_ids = [tokenizer.convert_tokens_to_ids(x) for x in tokenized_texts]\n",
    "\n",
    "input_ids = pad_sequences(\n",
    "    input_ids,\n",
    "    maxlen=100,\n",
    "    dtype=\"long\",\n",
    "    truncating=\"post\",\n",
    "    padding=\"post\"\n",
    ")"
   ]
  },
  {
   "cell_type": "raw",
   "id": "c40811a3",
   "metadata": {
    "execution": {
     "iopub.status.busy": "2022-04-22T16:39:42.967301Z",
     "iopub.status.idle": "2022-04-22T16:39:42.967788Z",
     "shell.execute_reply": "2022-04-22T16:39:42.967537Z",
     "shell.execute_reply.started": "2022-04-22T16:39:42.967511Z"
    },
    "papermill": {
     "duration": 0.063214,
     "end_time": "2022-04-27T05:19:30.242494",
     "exception": false,
     "start_time": "2022-04-27T05:19:30.179280",
     "status": "completed"
    },
    "tags": []
   },
   "source": [
    "attention_masks = [[float(i>0) for i in seq] for seq in input_ids]\n",
    "\n",
    "prediction_inputs = torch.tensor(input_ids)\n",
    "prediction_masks = torch.tensor(attention_masks)\n",
    "prediction_labels = torch.tensor(test_gt)\n",
    "\n",
    "prediction_data = TensorDataset(\n",
    "    prediction_inputs,\n",
    "    prediction_masks,\n",
    "    prediction_labels\n",
    ")\n",
    "\n",
    "prediction_dataloader = DataLoader(\n",
    "    prediction_data, \n",
    "    sampler=SequentialSampler(prediction_data),\n",
    "    batch_size=32\n",
    ")"
   ]
  },
  {
   "cell_type": "raw",
   "id": "c1963b10",
   "metadata": {
    "execution": {
     "iopub.status.busy": "2022-04-22T16:39:42.969447Z",
     "iopub.status.idle": "2022-04-22T16:39:42.969927Z",
     "shell.execute_reply": "2022-04-22T16:39:42.969696Z",
     "shell.execute_reply.started": "2022-04-22T16:39:42.969672Z"
    },
    "id": "Hba10sXR7Xi6",
    "papermill": {
     "duration": 0.06209,
     "end_time": "2022-04-27T05:19:30.367163",
     "exception": false,
     "start_time": "2022-04-27T05:19:30.305073",
     "status": "completed"
    },
    "tags": []
   },
   "source": [
    "model.eval()\n",
    "test_preds, test_labels = [], []\n",
    "\n",
    "for batch in prediction_dataloader:\n",
    "    # добавляем батч для вычисления на GPU\n",
    "    batch = tuple(t.to(device) for t in batch)\n",
    "    \n",
    "    # Распаковываем данные из dataloader\n",
    "    b_input_ids, b_input_mask, b_labels = batch\n",
    "    \n",
    "    # При использовании .no_grad() модель не будет считать и хранить градиенты.\n",
    "    # Это ускорит процесс предсказания меток для тестовых данных.\n",
    "    with torch.no_grad():\n",
    "        logits = model(b_input_ids, token_type_ids=None, attention_mask=b_input_mask)\n",
    "\n",
    "    # Перемещаем logits и метки классов на CPU для дальнейшей работы\n",
    "    logits = logits[0].detach().cpu().numpy()\n",
    "    label_ids = b_labels.to('cpu').numpy()\n",
    "\n",
    "    # Сохраняем предсказанные классы и ground truth\n",
    "    batch_preds = np.argmax(logits, axis=1)\n",
    "    batch_labels = np.concatenate(label_ids)  \n",
    "    test_preds.extend(batch_preds)\n",
    "    test_labels.extend(batch_labels)"
   ]
  },
  {
   "cell_type": "raw",
   "id": "513eb9aa",
   "metadata": {
    "execution": {
     "iopub.status.busy": "2022-04-22T16:39:42.971953Z",
     "iopub.status.idle": "2022-04-22T16:39:42.972479Z",
     "shell.execute_reply": "2022-04-22T16:39:42.97222Z",
     "shell.execute_reply.started": "2022-04-22T16:39:42.972194Z"
    },
    "papermill": {
     "duration": 0.067722,
     "end_time": "2022-04-27T05:19:30.500995",
     "exception": false,
     "start_time": "2022-04-27T05:19:30.433273",
     "status": "completed"
    },
    "tags": []
   },
   "source": [
    "acc_score = accuracy_score(test_labels, test_preds)\n",
    "print('Процент правильных предсказаний на отложенной выборке составил: {0:.2f}%'.format(\n",
    "    acc_score*100\n",
    "))"
   ]
  },
  {
   "cell_type": "raw",
   "id": "256d1db8",
   "metadata": {
    "execution": {
     "iopub.status.busy": "2022-04-22T16:39:42.974133Z",
     "iopub.status.idle": "2022-04-22T16:39:42.974593Z",
     "shell.execute_reply": "2022-04-22T16:39:42.974353Z",
     "shell.execute_reply.started": "2022-04-22T16:39:42.97433Z"
    },
    "papermill": {
     "duration": 0.069812,
     "end_time": "2022-04-27T05:19:30.639445",
     "exception": false,
     "start_time": "2022-04-27T05:19:30.569633",
     "status": "completed"
    },
    "tags": []
   },
   "source": [
    "print('Неправильных предсказаний: {0}/{1}'.format(\n",
    "    sum(np.array(test_labels) != np.array(test_preds)),\n",
    "    len(test_labels)\n",
    "))"
   ]
  },
  {
   "cell_type": "markdown",
   "id": "ca832072",
   "metadata": {
    "papermill": {
     "duration": 0.064096,
     "end_time": "2022-04-27T05:19:30.767657",
     "exception": false,
     "start_time": "2022-04-27T05:19:30.703561",
     "status": "completed"
    },
    "tags": []
   },
   "source": [
    "### Задание. Внимательно изучите датасет с русскими твитами. В чем его особенности? Нет ли явных паттернов или ключевых слов, которые однозначно определяют сентимент твита?"
   ]
  },
  {
   "cell_type": "raw",
   "id": "7ed459fd",
   "metadata": {
    "execution": {
     "iopub.status.busy": "2022-04-22T16:39:42.976584Z",
     "iopub.status.idle": "2022-04-22T16:39:42.977054Z",
     "shell.execute_reply": "2022-04-22T16:39:42.976839Z",
     "shell.execute_reply.started": "2022-04-22T16:39:42.976815Z"
    },
    "papermill": {
     "duration": 0.062756,
     "end_time": "2022-04-27T05:19:30.895331",
     "exception": false,
     "start_time": "2022-04-27T05:19:30.832575",
     "status": "completed"
    },
    "tags": []
   },
   "source": [
    "list(pos_texts[3])[:10]"
   ]
  },
  {
   "cell_type": "raw",
   "id": "65917032",
   "metadata": {
    "execution": {
     "iopub.status.busy": "2022-04-22T16:39:42.978153Z",
     "iopub.status.idle": "2022-04-22T16:39:42.97864Z",
     "shell.execute_reply": "2022-04-22T16:39:42.978391Z",
     "shell.execute_reply.started": "2022-04-22T16:39:42.978366Z"
    },
    "papermill": {
     "duration": 0.06767,
     "end_time": "2022-04-27T05:19:31.028395",
     "exception": false,
     "start_time": "2022-04-27T05:19:30.960725",
     "status": "completed"
    },
    "tags": []
   },
   "source": [
    "len([line for line in list(pos_texts[3]) if (\")\" in line) or \":D\" in line])/len(list(pos_texts[3]))"
   ]
  },
  {
   "cell_type": "raw",
   "id": "536bcdaa",
   "metadata": {
    "execution": {
     "iopub.status.busy": "2022-04-22T16:39:42.98026Z",
     "iopub.status.idle": "2022-04-22T16:39:42.980763Z",
     "shell.execute_reply": "2022-04-22T16:39:42.980509Z",
     "shell.execute_reply.started": "2022-04-22T16:39:42.980485Z"
    },
    "papermill": {
     "duration": 0.063102,
     "end_time": "2022-04-27T05:19:31.155446",
     "exception": false,
     "start_time": "2022-04-27T05:19:31.092344",
     "status": "completed"
    },
    "tags": []
   },
   "source": [
    "list(neg_texts[3])[:50]"
   ]
  },
  {
   "cell_type": "raw",
   "id": "1310bb5a",
   "metadata": {
    "execution": {
     "iopub.status.busy": "2022-04-22T16:39:42.982332Z",
     "iopub.status.idle": "2022-04-22T16:39:42.982821Z",
     "shell.execute_reply": "2022-04-22T16:39:42.982575Z",
     "shell.execute_reply.started": "2022-04-22T16:39:42.982551Z"
    },
    "papermill": {
     "duration": 0.064883,
     "end_time": "2022-04-27T05:19:31.286689",
     "exception": false,
     "start_time": "2022-04-27T05:19:31.221806",
     "status": "completed"
    },
    "tags": []
   },
   "source": [
    "len([line for line in list(neg_texts[3]) if (\"(\" in line) or \"D:\" in line])/len(list(pos_texts[3]))"
   ]
  },
  {
   "cell_type": "markdown",
   "id": "3d243533",
   "metadata": {
    "papermill": {
     "duration": 0.06432,
     "end_time": "2022-04-27T05:19:31.417408",
     "exception": false,
     "start_time": "2022-04-27T05:19:31.353088",
     "status": "completed"
    },
    "tags": []
   },
   "source": [
    "### Задание. Попробуйте удалить пунктуацию из датасета с русскими твитами и перезапустите дообучение модели. Изменилось ли итоговое качество работы модели? Почему?"
   ]
  },
  {
   "cell_type": "code",
   "execution_count": 6,
   "id": "35707624",
   "metadata": {
    "execution": {
     "iopub.execute_input": "2022-04-27T05:19:31.552201Z",
     "iopub.status.busy": "2022-04-27T05:19:31.551294Z",
     "iopub.status.idle": "2022-04-27T05:19:31.553489Z",
     "shell.execute_reply": "2022-04-27T05:19:31.553085Z",
     "shell.execute_reply.started": "2022-04-26T12:51:01.390257Z"
    },
    "papermill": {
     "duration": 0.070648,
     "end_time": "2022-04-27T05:19:31.553613",
     "exception": false,
     "start_time": "2022-04-27T05:19:31.482965",
     "status": "completed"
    },
    "tags": []
   },
   "outputs": [],
   "source": [
    "# import re\n",
    "# pos_texts[3] = pd.Series([re.sub(r':D|D:|[^\\w\\s]', '', line) for line in list(pos_texts[3])])\n",
    "# neg_texts[3] = pd.Series([re.sub(r':D|D:|[^\\w\\s]', '', line) for line in list(neg_texts[3])])"
   ]
  },
  {
   "cell_type": "markdown",
   "id": "f73afa42",
   "metadata": {
    "papermill": {
     "duration": 0.067944,
     "end_time": "2022-04-27T05:19:31.688570",
     "exception": false,
     "start_time": "2022-04-27T05:19:31.620626",
     "status": "completed"
    },
    "tags": []
   },
   "source": [
    "### Домашнее задание IMDB Dataset of 50K Movie Reviews"
   ]
  },
  {
   "cell_type": "markdown",
   "id": "60fe4399",
   "metadata": {
    "papermill": {
     "duration": 0.064087,
     "end_time": "2022-04-27T05:19:31.818593",
     "exception": false,
     "start_time": "2022-04-27T05:19:31.754506",
     "status": "completed"
    },
    "tags": []
   },
   "source": [
    "Скачайте датасет с отзывами на фильмы. Например, используйте датасет [IMDB Dataset of 50K Movie Reviews](https://www.kaggle.com/lakshmi25npathi/imdb-dataset-of-50k-movie-reviews). "
   ]
  },
  {
   "cell_type": "code",
   "execution_count": 7,
   "id": "9801ab40",
   "metadata": {
    "execution": {
     "iopub.execute_input": "2022-04-27T05:19:31.952350Z",
     "iopub.status.busy": "2022-04-27T05:19:31.951783Z",
     "iopub.status.idle": "2022-04-27T05:19:33.720383Z",
     "shell.execute_reply": "2022-04-27T05:19:33.719706Z",
     "shell.execute_reply.started": "2022-04-26T12:51:01.404846Z"
    },
    "papermill": {
     "duration": 1.837517,
     "end_time": "2022-04-27T05:19:33.720537",
     "exception": false,
     "start_time": "2022-04-27T05:19:31.883020",
     "status": "completed"
    },
    "tags": []
   },
   "outputs": [],
   "source": [
    "import pandas as pd\n",
    "\n",
    "#dataset = pd.read_csv('datasets/bert_sentiment_analysis/homework/IMDB_Dataset.csv')\n",
    "dataset = pd.read_csv('/kaggle/input/imdb-dataset-of-50k-movie-reviews/IMDB Dataset.csv')"
   ]
  },
  {
   "cell_type": "code",
   "execution_count": 8,
   "id": "fe576b16",
   "metadata": {
    "execution": {
     "iopub.execute_input": "2022-04-27T05:19:33.862407Z",
     "iopub.status.busy": "2022-04-27T05:19:33.861633Z",
     "iopub.status.idle": "2022-04-27T05:19:33.872883Z",
     "shell.execute_reply": "2022-04-27T05:19:33.873302Z",
     "shell.execute_reply.started": "2022-04-26T12:51:02.009155Z"
    },
    "papermill": {
     "duration": 0.086159,
     "end_time": "2022-04-27T05:19:33.873446",
     "exception": false,
     "start_time": "2022-04-27T05:19:33.787287",
     "status": "completed"
    },
    "tags": []
   },
   "outputs": [
    {
     "data": {
      "text/html": [
       "<div>\n",
       "<style scoped>\n",
       "    .dataframe tbody tr th:only-of-type {\n",
       "        vertical-align: middle;\n",
       "    }\n",
       "\n",
       "    .dataframe tbody tr th {\n",
       "        vertical-align: top;\n",
       "    }\n",
       "\n",
       "    .dataframe thead th {\n",
       "        text-align: right;\n",
       "    }\n",
       "</style>\n",
       "<table border=\"1\" class=\"dataframe\">\n",
       "  <thead>\n",
       "    <tr style=\"text-align: right;\">\n",
       "      <th></th>\n",
       "      <th>review</th>\n",
       "      <th>sentiment</th>\n",
       "    </tr>\n",
       "  </thead>\n",
       "  <tbody>\n",
       "    <tr>\n",
       "      <th>0</th>\n",
       "      <td>One of the other reviewers has mentioned that ...</td>\n",
       "      <td>positive</td>\n",
       "    </tr>\n",
       "    <tr>\n",
       "      <th>1</th>\n",
       "      <td>A wonderful little production. &lt;br /&gt;&lt;br /&gt;The...</td>\n",
       "      <td>positive</td>\n",
       "    </tr>\n",
       "    <tr>\n",
       "      <th>2</th>\n",
       "      <td>I thought this was a wonderful way to spend ti...</td>\n",
       "      <td>positive</td>\n",
       "    </tr>\n",
       "    <tr>\n",
       "      <th>3</th>\n",
       "      <td>Basically there's a family where a little boy ...</td>\n",
       "      <td>negative</td>\n",
       "    </tr>\n",
       "    <tr>\n",
       "      <th>4</th>\n",
       "      <td>Petter Mattei's \"Love in the Time of Money\" is...</td>\n",
       "      <td>positive</td>\n",
       "    </tr>\n",
       "  </tbody>\n",
       "</table>\n",
       "</div>"
      ],
      "text/plain": [
       "                                              review sentiment\n",
       "0  One of the other reviewers has mentioned that ...  positive\n",
       "1  A wonderful little production. <br /><br />The...  positive\n",
       "2  I thought this was a wonderful way to spend ti...  positive\n",
       "3  Basically there's a family where a little boy ...  negative\n",
       "4  Petter Mattei's \"Love in the Time of Money\" is...  positive"
      ]
     },
     "execution_count": 8,
     "metadata": {},
     "output_type": "execute_result"
    }
   ],
   "source": [
    "dataset.head()"
   ]
  },
  {
   "cell_type": "code",
   "execution_count": 9,
   "id": "4da67404",
   "metadata": {
    "execution": {
     "iopub.execute_input": "2022-04-27T05:19:34.025243Z",
     "iopub.status.busy": "2022-04-27T05:19:34.024659Z",
     "iopub.status.idle": "2022-04-27T05:19:34.029686Z",
     "shell.execute_reply": "2022-04-27T05:19:34.029212Z",
     "shell.execute_reply.started": "2022-04-26T12:51:02.02609Z"
    },
    "papermill": {
     "duration": 0.088324,
     "end_time": "2022-04-27T05:19:34.029816",
     "exception": false,
     "start_time": "2022-04-27T05:19:33.941492",
     "status": "completed"
    },
    "tags": []
   },
   "outputs": [
    {
     "data": {
      "text/plain": [
       "positive    25000\n",
       "negative    25000\n",
       "Name: sentiment, dtype: int64"
      ]
     },
     "execution_count": 9,
     "metadata": {},
     "output_type": "execute_result"
    }
   ],
   "source": [
    "dataset.sentiment.value_counts()"
   ]
  },
  {
   "cell_type": "code",
   "execution_count": 10,
   "id": "ec32b03e",
   "metadata": {
    "execution": {
     "iopub.execute_input": "2022-04-27T05:19:34.209420Z",
     "iopub.status.busy": "2022-04-27T05:19:34.173385Z",
     "iopub.status.idle": "2022-04-27T05:19:34.555245Z",
     "shell.execute_reply": "2022-04-27T05:19:34.554765Z",
     "shell.execute_reply.started": "2022-04-26T12:51:02.042835Z"
    },
    "papermill": {
     "duration": 0.461093,
     "end_time": "2022-04-27T05:19:34.555381",
     "exception": false,
     "start_time": "2022-04-27T05:19:34.094288",
     "status": "completed"
    },
    "tags": []
   },
   "outputs": [
    {
     "data": {
      "text/plain": [
       "<AxesSubplot:>"
      ]
     },
     "execution_count": 10,
     "metadata": {},
     "output_type": "execute_result"
    },
    {
     "data": {
      "image/png": "[encoded data removed]",
      "text/plain": [
       "<Figure size 432x288 with 1 Axes>"
      ]
     },
     "metadata": {
      "needs_background": "light"
     },
     "output_type": "display_data"
    }
   ],
   "source": [
    "dataset.review.str.len().hist(bins=50)"
   ]
  },
  {
   "cell_type": "code",
   "execution_count": 11,
   "id": "4e757a73",
   "metadata": {
    "execution": {
     "iopub.execute_input": "2022-04-27T05:19:34.714874Z",
     "iopub.status.busy": "2022-04-27T05:19:34.705459Z",
     "iopub.status.idle": "2022-04-27T05:19:34.744340Z",
     "shell.execute_reply": "2022-04-27T05:19:34.744880Z",
     "shell.execute_reply.started": "2022-04-26T12:51:02.415767Z"
    },
    "papermill": {
     "duration": 0.121512,
     "end_time": "2022-04-27T05:19:34.745052",
     "exception": false,
     "start_time": "2022-04-27T05:19:34.623540",
     "status": "completed"
    },
    "tags": []
   },
   "outputs": [
    {
     "data": {
      "text/plain": [
       "count    50000.000000\n",
       "mean      1309.431020\n",
       "std        989.728014\n",
       "min         32.000000\n",
       "25%        699.000000\n",
       "50%        970.000000\n",
       "75%       1590.250000\n",
       "max      13704.000000\n",
       "Name: review, dtype: float64"
      ]
     },
     "execution_count": 11,
     "metadata": {},
     "output_type": "execute_result"
    }
   ],
   "source": [
    "dataset.review.str.len().describe()"
   ]
  },
  {
   "cell_type": "code",
   "execution_count": 12,
   "id": "636265c5",
   "metadata": {
    "execution": {
     "iopub.execute_input": "2022-04-27T05:19:34.897142Z",
     "iopub.status.busy": "2022-04-27T05:19:34.896452Z",
     "iopub.status.idle": "2022-04-27T05:19:34.900118Z",
     "shell.execute_reply": "2022-04-27T05:19:34.900551Z",
     "shell.execute_reply.started": "2022-04-26T12:51:02.464762Z"
    },
    "papermill": {
     "duration": 0.081927,
     "end_time": "2022-04-27T05:19:34.900688",
     "exception": false,
     "start_time": "2022-04-27T05:19:34.818761",
     "status": "completed"
    },
    "tags": []
   },
   "outputs": [
    {
     "name": "stdout",
     "output_type": "stream",
     "text": [
      "I just got it and it is a great movie!! i loved it! Although Jane Brightons voice n the beginning is so annoying because of her braces she don't open her freaking mouth...but ya have to watch it cause its a great movie!! the things he says in here are so funny and extremely cute!! and I'm sure Aaron would probably say some of the things in real life cause i don't know, it just seems that way!! ha ha there is a part in tha movie that is really funny...its wen Jane's little sister meets him...but i cant tell ya what happens cause ill just have to let u see for your self!! i went to go see Aaron n concert and it was so much fun!! n he smelled so good ha ha...i still cant believe i got to meet him!!! i have pictures if anyone wants to see them!! Steph\n",
      "\n",
      "This has been one of the best vampire movies that I have seen in a long time. It was very seductive and alluring, I liked that it did not have the usual gore and carnage that comes along with most vampire movies. The music was excellent. It would be great if there was a sequel.\n",
      "\n",
      "Many people have commented that this movie was nowhere near as good as the first. Well, maybe it isn't - to you. However, how does your child react to it? Well, mine loved it more than the first.<br /><br />Disney movies of the past can sometimes be a little harsh for little kids. (For example - Bambi's mother getting shot.) This movie was really great for my sensitive little girl who likes humor and happy endings.<br /><br />If you want to be snobby about what should be Disney's standards based on the past - skip this movie. <br /><br />If you have a sweet little girl or soft-hearted little boy you really want to please, buy this movie and treat your small children. This film is great as a bedtime movie for happy dreams instead of nightmares. I'm happy with a movie that pleases my kid & doesn't need to impress the parents all the time.\n"
     ]
    }
   ],
   "source": [
    "print(\"\\n\\n\".join(list(dataset.review.sample(3))))"
   ]
  },
  {
   "cell_type": "code",
   "execution_count": 13,
   "id": "409ab6ab",
   "metadata": {
    "execution": {
     "iopub.execute_input": "2022-04-27T05:19:35.096768Z",
     "iopub.status.busy": "2022-04-27T05:19:35.092729Z",
     "iopub.status.idle": "2022-04-27T05:19:35.136763Z",
     "shell.execute_reply": "2022-04-27T05:19:35.136222Z",
     "shell.execute_reply.started": "2022-04-26T12:51:02.480225Z"
    },
    "papermill": {
     "duration": 0.162528,
     "end_time": "2022-04-27T05:19:35.136902",
     "exception": false,
     "start_time": "2022-04-27T05:19:34.974374",
     "status": "completed"
    },
    "tags": []
   },
   "outputs": [],
   "source": [
    "sentences = list(dataset.review)\n",
    "sentences = [\"[CLS] \" + sentence + \" [SEP]\" for sentence in sentences]\n",
    "\n",
    "labels = list(dataset.sentiment.map({'positive': 1, 'negative': 0}))"
   ]
  },
  {
   "cell_type": "code",
   "execution_count": 14,
   "id": "be8dc452",
   "metadata": {
    "execution": {
     "iopub.execute_input": "2022-04-27T05:19:35.280935Z",
     "iopub.status.busy": "2022-04-27T05:19:35.280194Z",
     "iopub.status.idle": "2022-04-27T05:19:35.284181Z",
     "shell.execute_reply": "2022-04-27T05:19:35.284580Z",
     "shell.execute_reply.started": "2022-04-26T12:51:02.569003Z"
    },
    "papermill": {
     "duration": 0.079302,
     "end_time": "2022-04-27T05:19:35.284731",
     "exception": false,
     "start_time": "2022-04-27T05:19:35.205429",
     "status": "completed"
    },
    "tags": []
   },
   "outputs": [
    {
     "data": {
      "text/html": [
       "<div>\n",
       "<style scoped>\n",
       "    .dataframe tbody tr th:only-of-type {\n",
       "        vertical-align: middle;\n",
       "    }\n",
       "\n",
       "    .dataframe tbody tr th {\n",
       "        vertical-align: top;\n",
       "    }\n",
       "\n",
       "    .dataframe thead th {\n",
       "        text-align: right;\n",
       "    }\n",
       "</style>\n",
       "<table border=\"1\" class=\"dataframe\">\n",
       "  <thead>\n",
       "    <tr style=\"text-align: right;\">\n",
       "      <th></th>\n",
       "      <th>review</th>\n",
       "      <th>sentiment</th>\n",
       "    </tr>\n",
       "  </thead>\n",
       "  <tbody>\n",
       "    <tr>\n",
       "      <th>3</th>\n",
       "      <td>Basically there's a family where a little boy ...</td>\n",
       "      <td>negative</td>\n",
       "    </tr>\n",
       "    <tr>\n",
       "      <th>4</th>\n",
       "      <td>Petter Mattei's \"Love in the Time of Money\" is...</td>\n",
       "      <td>positive</td>\n",
       "    </tr>\n",
       "  </tbody>\n",
       "</table>\n",
       "</div>"
      ],
      "text/plain": [
       "                                              review sentiment\n",
       "3  Basically there's a family where a little boy ...  negative\n",
       "4  Petter Mattei's \"Love in the Time of Money\" is...  positive"
      ]
     },
     "execution_count": 14,
     "metadata": {},
     "output_type": "execute_result"
    }
   ],
   "source": [
    "dataset[3:5]"
   ]
  },
  {
   "cell_type": "code",
   "execution_count": 15,
   "id": "7ec78468",
   "metadata": {
    "execution": {
     "iopub.execute_input": "2022-04-27T05:19:35.427055Z",
     "iopub.status.busy": "2022-04-27T05:19:35.426386Z",
     "iopub.status.idle": "2022-04-27T05:19:35.429379Z",
     "shell.execute_reply": "2022-04-27T05:19:35.429829Z",
     "shell.execute_reply.started": "2022-04-26T12:51:02.582934Z"
    },
    "papermill": {
     "duration": 0.077637,
     "end_time": "2022-04-27T05:19:35.429967",
     "exception": false,
     "start_time": "2022-04-27T05:19:35.352330",
     "status": "completed"
    },
    "tags": []
   },
   "outputs": [
    {
     "data": {
      "text/plain": [
       "[(\"[CLS] Basically there's a family where a little boy (Jake) thinks there's a zombie in his closet & his parents are fighting all the time.<br /><br />This movie is slower than a soap opera... and suddenly, Jake decides to become Rambo and kill the zombie.<br /><br />OK, first of all when you're going to make a film you must Decide if its a thriller or a drama! As a drama the movie is watchable. Parents are divorcing & arguing like in real life. And then we have Jake with his closet which totally ruins all the film! I expected to see a BOOGEYMAN similar movie, and instead i watched a drama with some meaningless thriller spots.<br /><br />3 out of 10 just for the well playing parents & descent dialogs. As for the shots with Jake: just ignore them. [SEP]\",\n",
       "  0),\n",
       " ('[CLS] Petter Mattei\\'s \"Love in the Time of Money\" is a visually stunning film to watch. Mr. Mattei offers us a vivid portrait about human relations. This is a movie that seems to be telling us what money, power and success do to people in the different situations we encounter. <br /><br />This being a variation on the Arthur Schnitzler\\'s play about the same theme, the director transfers the action to the present time New York where all these different characters meet and connect. Each one is connected in one way, or another to the next person, but no one seems to know the previous point of contact. Stylishly, the film has a sophisticated luxurious look. We are taken to see how these people live and the world they live in their own habitat.<br /><br />The only thing one gets out of all these souls in the picture is the different stages of loneliness each one inhabits. A big city is not exactly the best place in which human relations find sincere fulfillment, as one discerns is the case with most of the people we encounter.<br /><br />The acting is good under Mr. Mattei\\'s direction. Steve Buscemi, Rosario Dawson, Carol Kane, Michael Imperioli, Adrian Grenier, and the rest of the talented cast, make these characters come alive.<br /><br />We wish Mr. Mattei good luck and await anxiously for his next work. [SEP]',\n",
       "  1)]"
      ]
     },
     "execution_count": 15,
     "metadata": {},
     "output_type": "execute_result"
    }
   ],
   "source": [
    "list(zip(*(sentences[3:5], labels[3:5])))"
   ]
  },
  {
   "cell_type": "code",
   "execution_count": 16,
   "id": "91ef043a",
   "metadata": {
    "execution": {
     "iopub.execute_input": "2022-04-27T05:19:35.572295Z",
     "iopub.status.busy": "2022-04-27T05:19:35.571537Z",
     "iopub.status.idle": "2022-04-27T05:19:35.598265Z",
     "shell.execute_reply": "2022-04-27T05:19:35.597743Z",
     "shell.execute_reply.started": "2022-04-26T12:51:02.595099Z"
    },
    "papermill": {
     "duration": 0.099464,
     "end_time": "2022-04-27T05:19:35.598396",
     "exception": false,
     "start_time": "2022-04-27T05:19:35.498932",
     "status": "completed"
    },
    "tags": []
   },
   "outputs": [],
   "source": [
    "from sklearn.model_selection import train_test_split\n",
    "\n",
    "train_sentences, test_sentences, train_gt, test_gt = train_test_split(sentences, labels, shuffle=True, random_state=42, test_size=0.3)"
   ]
  },
  {
   "cell_type": "code",
   "execution_count": 17,
   "id": "a3a2e679",
   "metadata": {
    "execution": {
     "iopub.execute_input": "2022-04-27T05:19:35.742923Z",
     "iopub.status.busy": "2022-04-27T05:19:35.742266Z",
     "iopub.status.idle": "2022-04-27T05:19:35.745646Z",
     "shell.execute_reply": "2022-04-27T05:19:35.746067Z",
     "shell.execute_reply.started": "2022-04-26T12:51:02.629039Z"
    },
    "papermill": {
     "duration": 0.077009,
     "end_time": "2022-04-27T05:19:35.746207",
     "exception": false,
     "start_time": "2022-04-27T05:19:35.669198",
     "status": "completed"
    },
    "tags": []
   },
   "outputs": [
    {
     "name": "stdout",
     "output_type": "stream",
     "text": [
      "35000 15000\n"
     ]
    }
   ],
   "source": [
    "print(len(train_gt), len(test_gt))"
   ]
  },
  {
   "cell_type": "markdown",
   "id": "72301799",
   "metadata": {
    "id": "ex5O1eV-Pfct",
    "papermill": {
     "duration": 0.068407,
     "end_time": "2022-04-27T05:19:35.883680",
     "exception": false,
     "start_time": "2022-04-27T05:19:35.815273",
     "status": "completed"
    },
    "tags": []
   },
   "source": [
    "## Inputs"
   ]
  },
  {
   "cell_type": "code",
   "execution_count": 18,
   "id": "0af82be6",
   "metadata": {
    "execution": {
     "iopub.execute_input": "2022-04-27T05:19:36.028710Z",
     "iopub.status.busy": "2022-04-27T05:19:36.027748Z",
     "iopub.status.idle": "2022-04-27T05:23:07.212612Z",
     "shell.execute_reply": "2022-04-27T05:23:07.213117Z",
     "shell.execute_reply.started": "2022-04-26T12:51:02.637416Z"
    },
    "id": "Z474sSC6oe7A",
    "outputId": "fbaa8fd8-bccd-4feb-ce52-beba5d293cfa",
    "papermill": {
     "duration": 211.260991,
     "end_time": "2022-04-27T05:23:07.213295",
     "exception": false,
     "start_time": "2022-04-27T05:19:35.952304",
     "status": "completed"
    },
    "tags": []
   },
   "outputs": [
    {
     "name": "stderr",
     "output_type": "stream",
     "text": [
      "100%|██████████| 231508/231508 [00:00<00:00, 291408.10B/s]\n"
     ]
    },
    {
     "name": "stdout",
     "output_type": "stream",
     "text": [
      "[CLS] As much as I love trains, I couldn't stomach this movie. The premise that one could steal a locomotive and \"drive\" from Arkansas to Chicago without hitting another train along the way has to be right up there on the Impossible Plot lines hit board. Imagine two disgruntled NASA employees stealing the \"crawler\" that totes the shuttles to and fro and driving it to New York and you get the idea.<br /><br />Having said all that, it's a nice try. Wilford Brimely is at his Quaker Oats best, and Levon Helm turns a good performance as his dimwitted but well-meaning sidekick. Bob Balaban is suitably wormy as the Corporate Guy, and the \"little guy takes on Goliath\" story gets another airing. [SEP]\n",
      "['[CLS]', 'as', 'much', 'as', 'i', 'love', 'trains', ',', 'i', 'couldn', \"'\", 't', 'stomach', 'this', 'movie', '.', 'the', 'premise', 'that', 'one', 'could', 'steal', 'a', 'locomotive', 'and', '\"', 'drive', '\"', 'from', 'arkansas', 'to', 'chicago', 'without', 'hitting', 'another', 'train', 'along', 'the', 'way', 'has', 'to', 'be', 'right', 'up', 'there', 'on', 'the', 'impossible', 'plot', 'lines', 'hit', 'board', '.', 'imagine', 'two', 'di', '##sg', '##run', '##tled', 'nasa', 'employees', 'stealing', 'the', '\"', 'crawl', '##er', '\"', 'that', 'to', '##tes', 'the', 'shuttle', '##s', 'to', 'and', 'fr', '##o', 'and', 'driving', 'it', 'to', 'new', 'york', 'and', 'you', 'get', 'the', 'idea', '.', '<', 'br', '/', '>', '<', 'br', '/', '>', 'having', 'said', 'all', 'that', ',', 'it', \"'\", 's', 'a', 'nice', 'try', '.', 'wil', '##ford', 'br', '##ime', '##ly', 'is', 'at', 'his', 'quaker', 'o', '##ats', 'best', ',', 'and', 'lev', '##on', 'helm', 'turns', 'a', 'good', 'performance', 'as', 'his', 'dim', '##wi', '##tted', 'but', 'well', '-', 'meaning', 'sidekick', '.', 'bob', 'bala', '##ban', 'is', 'suit', '##ably', 'worm', '##y', 'as', 'the', 'corporate', 'guy', ',', 'and', 'the', '\"', 'little', 'guy', 'takes', 'on', 'go', '##lia', '##th', '\"', 'story', 'gets', 'another', 'airing', '.', '[SEP]']\n"
     ]
    }
   ],
   "source": [
    "from pytorch_transformers import BertTokenizer, BertConfig\n",
    "\n",
    "# Подробное описание модели https://huggingface.co/bert-base-uncased\n",
    "tokenizer = BertTokenizer.from_pretrained('bert-base-uncased', do_lower_case=True)\n",
    "#tokenizer = BertTokenizer.from_pretrained('bert-base-multilingual-uncased', do_lower_case=True)\n",
    "\n",
    "tokenized_texts = [tokenizer.tokenize(sent) for sent in train_sentences]\n",
    "print(train_sentences[0])\n",
    "print(tokenized_texts[0])"
   ]
  },
  {
   "cell_type": "code",
   "execution_count": 19,
   "id": "eff5017b",
   "metadata": {
    "execution": {
     "iopub.execute_input": "2022-04-27T05:23:07.380744Z",
     "iopub.status.busy": "2022-04-27T05:23:07.379780Z",
     "iopub.status.idle": "2022-04-27T05:23:07.731869Z",
     "shell.execute_reply": "2022-04-27T05:23:07.732270Z",
     "shell.execute_reply.started": "2022-04-26T12:54:16.958165Z"
    },
    "papermill": {
     "duration": 0.446904,
     "end_time": "2022-04-27T05:23:07.732426",
     "exception": false,
     "start_time": "2022-04-27T05:23:07.285522",
     "status": "completed"
    },
    "tags": []
   },
   "outputs": [
    {
     "data": {
      "text/plain": [
       "<AxesSubplot:>"
      ]
     },
     "execution_count": 19,
     "metadata": {},
     "output_type": "execute_result"
    },
    {
     "data": {
      "image/png": "[encoded data removed]",
      "text/plain": [
       "<Figure size 432x288 with 1 Axes>"
      ]
     },
     "metadata": {
      "needs_background": "light"
     },
     "output_type": "display_data"
    }
   ],
   "source": [
    "#only for quick analyze\n",
    "series_tokenized_texts = pd.Series(tokenized_texts)\n",
    "series_tokenized_texts.map(len).hist(bins=50)"
   ]
  },
  {
   "cell_type": "code",
   "execution_count": 20,
   "id": "498937c9",
   "metadata": {
    "execution": {
     "iopub.execute_input": "2022-04-27T05:23:07.904373Z",
     "iopub.status.busy": "2022-04-27T05:23:07.903374Z",
     "iopub.status.idle": "2022-04-27T05:23:07.913516Z",
     "shell.execute_reply": "2022-04-27T05:23:07.913008Z",
     "shell.execute_reply.started": "2022-04-26T12:54:17.285618Z"
    },
    "papermill": {
     "duration": 0.106142,
     "end_time": "2022-04-27T05:23:07.913668",
     "exception": false,
     "start_time": "2022-04-27T05:23:07.807526",
     "status": "completed"
    },
    "tags": []
   },
   "outputs": [
    {
     "data": {
      "text/plain": [
       "count    35000.000000\n",
       "mean       309.736229\n",
       "std        231.378177\n",
       "min         10.000000\n",
       "25%        166.000000\n",
       "50%        231.000000\n",
       "75%        377.000000\n",
       "max       3127.000000\n",
       "dtype: float64"
      ]
     },
     "execution_count": 20,
     "metadata": {},
     "output_type": "execute_result"
    }
   ],
   "source": [
    "series_tokenized_texts.map(len).describe()"
   ]
  },
  {
   "cell_type": "markdown",
   "id": "97d724d3",
   "metadata": {
    "id": "87_kXUeT2-br",
    "papermill": {
     "duration": 0.074786,
     "end_time": "2022-04-27T05:23:08.071791",
     "exception": false,
     "start_time": "2022-04-27T05:23:07.997005",
     "status": "completed"
    },
    "tags": []
   },
   "source": [
    "BERTу нужно предоставить специальный формат входных данных.\n",
    "\n",
    "\n",
    "- **input ids**: последовательность чисел, отождествляющих каждый токен с его номером в словаре.\n",
    "- **labels**: вектор из нулей и единиц. В нашем случае нули обозначают негативную эмоциональную окраску, единицы - положительную.\n",
    "- **segment mask**: (необязательно) последовательность нулей и единиц, которая показывает, состоит ли входной текст из одного или двух предложений. Для случая одного предложения получится вектор из одних нулей. Для двух: <length_of_sent_1> нулей и <length_of_sent_2> единиц.\n",
    "- **attention mask**: (необязательно) последовательность нулей и единиц, где единицы обозначают токены предложения, нули - паддинг."
   ]
  },
  {
   "cell_type": "code",
   "execution_count": 21,
   "id": "634fe30a",
   "metadata": {
    "execution": {
     "iopub.execute_input": "2022-04-27T05:23:08.403016Z",
     "iopub.status.busy": "2022-04-27T05:23:08.220427Z",
     "iopub.status.idle": "2022-04-27T05:23:32.375230Z",
     "shell.execute_reply": "2022-04-27T05:23:32.374702Z",
     "shell.execute_reply.started": "2022-04-26T12:54:17.313216Z"
    },
    "id": "Cp9BPRd1tMIo",
    "papermill": {
     "duration": 24.230307,
     "end_time": "2022-04-27T05:23:32.375384",
     "exception": false,
     "start_time": "2022-04-27T05:23:08.145077",
     "status": "completed"
    },
    "tags": []
   },
   "outputs": [],
   "source": [
    "MAX_LEN = 500\n",
    "\n",
    "# padding: String, 'pre' or 'post' (optional, defaults to 'pre'):\n",
    "#         pad either before or after each sequence.\n",
    "# truncating: String, 'pre' or 'post' (optional, defaults to 'pre'):\n",
    "#        remove values from sequences larger than `maxlen`, either \n",
    "#        at the beginning or at the end of the sequences.\n",
    "\n",
    "# возможно сентимент отзыва больше раскрывается в конце, а не в начале, \n",
    "# как следствие, может быть лучше задавать 'pre'\n",
    "TRUNC_PAD_TYPE = \"pre\" #'pre' or 'post'\n",
    "\n",
    "input_ids = [tokenizer.convert_tokens_to_ids(x) for x in tokenized_texts]\n",
    "input_ids = pad_sequences(\n",
    "    input_ids,\n",
    "    maxlen=MAX_LEN,\n",
    "    dtype=\"long\",\n",
    "    truncating=TRUNC_PAD_TYPE,\n",
    "    padding=TRUNC_PAD_TYPE\n",
    ")\n",
    "attention_masks = [[float(i>0) for i in seq] for seq in input_ids]"
   ]
  },
  {
   "cell_type": "code",
   "execution_count": 22,
   "id": "d5eede8a",
   "metadata": {
    "execution": {
     "iopub.execute_input": "2022-04-27T05:23:32.530507Z",
     "iopub.status.busy": "2022-04-27T05:23:32.529900Z",
     "iopub.status.idle": "2022-04-27T05:23:32.645761Z",
     "shell.execute_reply": "2022-04-27T05:23:32.645183Z",
     "shell.execute_reply.started": "2022-04-26T12:54:40.405402Z"
    },
    "id": "aFbE-UHvsb7-",
    "papermill": {
     "duration": 0.195391,
     "end_time": "2022-04-27T05:23:32.645899",
     "exception": false,
     "start_time": "2022-04-27T05:23:32.450508",
     "status": "completed"
    },
    "tags": []
   },
   "outputs": [],
   "source": [
    "train_inputs, validation_inputs, train_labels, validation_labels = train_test_split(\n",
    "    input_ids, train_gt, \n",
    "    random_state=42,\n",
    "    test_size=0.1\n",
    ")\n",
    "\n",
    "train_masks, validation_masks, _, _ = train_test_split(\n",
    "    attention_masks,\n",
    "    input_ids,\n",
    "    random_state=42,\n",
    "    test_size=0.1\n",
    ")"
   ]
  },
  {
   "cell_type": "code",
   "execution_count": 23,
   "id": "f32eaf01",
   "metadata": {
    "execution": {
     "iopub.execute_input": "2022-04-27T05:23:32.808181Z",
     "iopub.status.busy": "2022-04-27T05:23:32.807568Z",
     "iopub.status.idle": "2022-04-27T05:23:34.188744Z",
     "shell.execute_reply": "2022-04-27T05:23:34.187699Z",
     "shell.execute_reply.started": "2022-04-26T12:54:40.526708Z"
    },
    "id": "jw5K2A5Ko1RF",
    "papermill": {
     "duration": 1.464842,
     "end_time": "2022-04-27T05:23:34.188904",
     "exception": false,
     "start_time": "2022-04-27T05:23:32.724062",
     "status": "completed"
    },
    "tags": []
   },
   "outputs": [],
   "source": [
    "train_inputs = torch.tensor(train_inputs)\n",
    "train_labels = torch.tensor(train_labels)\n",
    "train_masks = torch.tensor(train_masks)"
   ]
  },
  {
   "cell_type": "code",
   "execution_count": 24,
   "id": "edf47e7b",
   "metadata": {
    "execution": {
     "iopub.execute_input": "2022-04-27T05:23:34.351380Z",
     "iopub.status.busy": "2022-04-27T05:23:34.350368Z",
     "iopub.status.idle": "2022-04-27T05:23:34.531852Z",
     "shell.execute_reply": "2022-04-27T05:23:34.524867Z",
     "shell.execute_reply.started": "2022-04-26T12:54:41.773194Z"
    },
    "papermill": {
     "duration": 0.264989,
     "end_time": "2022-04-27T05:23:34.532042",
     "exception": false,
     "start_time": "2022-04-27T05:23:34.267053",
     "status": "completed"
    },
    "tags": []
   },
   "outputs": [],
   "source": [
    "validation_inputs = torch.tensor(validation_inputs)\n",
    "validation_labels = torch.tensor(validation_labels)\n",
    "validation_masks = torch.tensor(validation_masks)"
   ]
  },
  {
   "cell_type": "code",
   "execution_count": 25,
   "id": "e4c0d248",
   "metadata": {
    "execution": {
     "iopub.execute_input": "2022-04-27T05:23:34.838235Z",
     "iopub.status.busy": "2022-04-27T05:23:34.837037Z",
     "iopub.status.idle": "2022-04-27T05:23:34.853065Z",
     "shell.execute_reply": "2022-04-27T05:23:34.853864Z",
     "shell.execute_reply.started": "2022-04-26T12:54:41.918318Z"
    },
    "papermill": {
     "duration": 0.190758,
     "end_time": "2022-04-27T05:23:34.854131",
     "exception": false,
     "start_time": "2022-04-27T05:23:34.663373",
     "status": "completed"
    },
    "tags": []
   },
   "outputs": [
    {
     "data": {
      "text/plain": [
       "tensor([0, 0, 0,  ..., 0, 1, 1])"
      ]
     },
     "execution_count": 25,
     "metadata": {},
     "output_type": "execute_result"
    }
   ],
   "source": [
    "train_labels"
   ]
  },
  {
   "cell_type": "code",
   "execution_count": 26,
   "id": "0fecb53f",
   "metadata": {
    "execution": {
     "iopub.execute_input": "2022-04-27T05:23:35.218201Z",
     "iopub.status.busy": "2022-04-27T05:23:35.216548Z",
     "iopub.status.idle": "2022-04-27T05:23:35.220219Z",
     "shell.execute_reply": "2022-04-27T05:23:35.219204Z",
     "shell.execute_reply.started": "2022-04-26T12:54:41.927833Z"
    },
    "id": "GEgLpFVlo1Z-",
    "papermill": {
     "duration": 0.222578,
     "end_time": "2022-04-27T05:23:35.220418",
     "exception": false,
     "start_time": "2022-04-27T05:23:34.997840",
     "status": "completed"
    },
    "tags": []
   },
   "outputs": [],
   "source": [
    "BATCH_SIZE = 10\n",
    "\n",
    "train_data = TensorDataset(train_inputs, train_masks, train_labels)\n",
    "train_dataloader = DataLoader(\n",
    "    train_data,\n",
    "    sampler=RandomSampler(train_data),\n",
    "    batch_size=BATCH_SIZE\n",
    ")"
   ]
  },
  {
   "cell_type": "code",
   "execution_count": 27,
   "id": "5141b4f2",
   "metadata": {
    "execution": {
     "iopub.execute_input": "2022-04-27T05:23:35.841605Z",
     "iopub.status.busy": "2022-04-27T05:23:35.840381Z",
     "iopub.status.idle": "2022-04-27T05:23:35.845313Z",
     "shell.execute_reply": "2022-04-27T05:23:35.842461Z",
     "shell.execute_reply.started": "2022-04-26T12:54:41.936388Z"
    },
    "papermill": {
     "duration": 0.367437,
     "end_time": "2022-04-27T05:23:35.845510",
     "exception": false,
     "start_time": "2022-04-27T05:23:35.478073",
     "status": "completed"
    },
    "tags": []
   },
   "outputs": [],
   "source": [
    "validation_data = TensorDataset(validation_inputs, validation_masks, validation_labels)\n",
    "validation_dataloader = DataLoader(\n",
    "    validation_data,\n",
    "    sampler=SequentialSampler(validation_data),\n",
    "    batch_size=BATCH_SIZE*3\n",
    ")"
   ]
  },
  {
   "cell_type": "markdown",
   "id": "400e2bfa",
   "metadata": {
    "id": "pNl8khAhPYju",
    "papermill": {
     "duration": 0.118935,
     "end_time": "2022-04-27T05:23:36.104018",
     "exception": false,
     "start_time": "2022-04-27T05:23:35.985083",
     "status": "completed"
    },
    "tags": []
   },
   "source": [
    "## Обучение модели"
   ]
  },
  {
   "cell_type": "markdown",
   "id": "36d3492e",
   "metadata": {
    "papermill": {
     "duration": 0.074041,
     "end_time": "2022-04-27T05:23:36.253596",
     "exception": false,
     "start_time": "2022-04-27T05:23:36.179555",
     "status": "completed"
    },
    "tags": []
   },
   "source": [
    "Загружаем [BertForSequenceClassification](https://github.com/huggingface/pytorch-pretrained-BERT/blob/master/pytorch_pretrained_bert/modeling.py#L1129):"
   ]
  },
  {
   "cell_type": "code",
   "execution_count": 28,
   "id": "821e6c06",
   "metadata": {
    "execution": {
     "iopub.execute_input": "2022-04-27T05:23:36.408719Z",
     "iopub.status.busy": "2022-04-27T05:23:36.407102Z",
     "iopub.status.idle": "2022-04-27T05:23:36.409284Z",
     "shell.execute_reply": "2022-04-27T05:23:36.409705Z",
     "shell.execute_reply.started": "2022-04-26T12:54:41.946349Z"
    },
    "papermill": {
     "duration": 0.082786,
     "end_time": "2022-04-27T05:23:36.409845",
     "exception": false,
     "start_time": "2022-04-27T05:23:36.327059",
     "status": "completed"
    },
    "tags": []
   },
   "outputs": [],
   "source": [
    "from pytorch_transformers import AdamW, BertForSequenceClassification"
   ]
  },
  {
   "cell_type": "markdown",
   "id": "e1a60bcf",
   "metadata": {
    "papermill": {
     "duration": 0.072719,
     "end_time": "2022-04-27T05:23:36.555053",
     "exception": false,
     "start_time": "2022-04-27T05:23:36.482334",
     "status": "completed"
    },
    "tags": []
   },
   "source": [
    "Аналогичные модели есть и для других задач:"
   ]
  },
  {
   "cell_type": "code",
   "execution_count": 29,
   "id": "430ae714",
   "metadata": {
    "execution": {
     "iopub.execute_input": "2022-04-27T05:23:36.709549Z",
     "iopub.status.busy": "2022-04-27T05:23:36.708569Z",
     "iopub.status.idle": "2022-04-27T05:23:36.710912Z",
     "shell.execute_reply": "2022-04-27T05:23:36.710350Z",
     "shell.execute_reply.started": "2022-04-26T12:54:41.956147Z"
    },
    "papermill": {
     "duration": 0.081883,
     "end_time": "2022-04-27T05:23:36.711038",
     "exception": false,
     "start_time": "2022-04-27T05:23:36.629155",
     "status": "completed"
    },
    "tags": []
   },
   "outputs": [],
   "source": [
    "from pytorch_transformers import BertForQuestionAnswering, BertForTokenClassification"
   ]
  },
  {
   "cell_type": "code",
   "execution_count": 30,
   "id": "62734d37",
   "metadata": {
    "execution": {
     "iopub.execute_input": "2022-04-27T05:23:36.872846Z",
     "iopub.status.busy": "2022-04-27T05:23:36.872176Z",
     "iopub.status.idle": "2022-04-27T05:24:27.036435Z",
     "shell.execute_reply": "2022-04-27T05:24:27.036887Z",
     "shell.execute_reply.started": "2022-04-26T12:54:41.964741Z"
    },
    "id": "gFsCTp_mporB",
    "outputId": "dd067229-1925-4b37-f517-0c14e25420d1",
    "papermill": {
     "duration": 50.248485,
     "end_time": "2022-04-27T05:24:27.037051",
     "exception": false,
     "start_time": "2022-04-27T05:23:36.788566",
     "status": "completed"
    },
    "tags": []
   },
   "outputs": [
    {
     "name": "stderr",
     "output_type": "stream",
     "text": [
      "100%|██████████| 433/433 [00:00<00:00, 152590.63B/s]\n",
      "100%|██████████| 440473133/440473133 [00:37<00:00, 11763409.88B/s]\n"
     ]
    },
    {
     "data": {
      "text/plain": [
       "BertForSequenceClassification(\n",
       "  (bert): BertModel(\n",
       "    (embeddings): BertEmbeddings(\n",
       "      (word_embeddings): Embedding(30522, 768, padding_idx=0)\n",
       "      (position_embeddings): Embedding(512, 768)\n",
       "      (token_type_embeddings): Embedding(2, 768)\n",
       "      (LayerNorm): LayerNorm((768,), eps=1e-12, elementwise_affine=True)\n",
       "      (dropout): Dropout(p=0.1, inplace=False)\n",
       "    )\n",
       "    (encoder): BertEncoder(\n",
       "      (layer): ModuleList(\n",
       "        (0): BertLayer(\n",
       "          (attention): BertAttention(\n",
       "            (self): BertSelfAttention(\n",
       "              (query): Linear(in_features=768, out_features=768, bias=True)\n",
       "              (key): Linear(in_features=768, out_features=768, bias=True)\n",
       "              (value): Linear(in_features=768, out_features=768, bias=True)\n",
       "              (dropout): Dropout(p=0.1, inplace=False)\n",
       "            )\n",
       "            (output): BertSelfOutput(\n",
       "              (dense): Linear(in_features=768, out_features=768, bias=True)\n",
       "              (LayerNorm): LayerNorm((768,), eps=1e-12, elementwise_affine=True)\n",
       "              (dropout): Dropout(p=0.1, inplace=False)\n",
       "            )\n",
       "          )\n",
       "          (intermediate): BertIntermediate(\n",
       "            (dense): Linear(in_features=768, out_features=3072, bias=True)\n",
       "          )\n",
       "          (output): BertOutput(\n",
       "            (dense): Linear(in_features=3072, out_features=768, bias=True)\n",
       "            (LayerNorm): LayerNorm((768,), eps=1e-12, elementwise_affine=True)\n",
       "            (dropout): Dropout(p=0.1, inplace=False)\n",
       "          )\n",
       "        )\n",
       "        (1): BertLayer(\n",
       "          (attention): BertAttention(\n",
       "            (self): BertSelfAttention(\n",
       "              (query): Linear(in_features=768, out_features=768, bias=True)\n",
       "              (key): Linear(in_features=768, out_features=768, bias=True)\n",
       "              (value): Linear(in_features=768, out_features=768, bias=True)\n",
       "              (dropout): Dropout(p=0.1, inplace=False)\n",
       "            )\n",
       "            (output): BertSelfOutput(\n",
       "              (dense): Linear(in_features=768, out_features=768, bias=True)\n",
       "              (LayerNorm): LayerNorm((768,), eps=1e-12, elementwise_affine=True)\n",
       "              (dropout): Dropout(p=0.1, inplace=False)\n",
       "            )\n",
       "          )\n",
       "          (intermediate): BertIntermediate(\n",
       "            (dense): Linear(in_features=768, out_features=3072, bias=True)\n",
       "          )\n",
       "          (output): BertOutput(\n",
       "            (dense): Linear(in_features=3072, out_features=768, bias=True)\n",
       "            (LayerNorm): LayerNorm((768,), eps=1e-12, elementwise_affine=True)\n",
       "            (dropout): Dropout(p=0.1, inplace=False)\n",
       "          )\n",
       "        )\n",
       "        (2): BertLayer(\n",
       "          (attention): BertAttention(\n",
       "            (self): BertSelfAttention(\n",
       "              (query): Linear(in_features=768, out_features=768, bias=True)\n",
       "              (key): Linear(in_features=768, out_features=768, bias=True)\n",
       "              (value): Linear(in_features=768, out_features=768, bias=True)\n",
       "              (dropout): Dropout(p=0.1, inplace=False)\n",
       "            )\n",
       "            (output): BertSelfOutput(\n",
       "              (dense): Linear(in_features=768, out_features=768, bias=True)\n",
       "              (LayerNorm): LayerNorm((768,), eps=1e-12, elementwise_affine=True)\n",
       "              (dropout): Dropout(p=0.1, inplace=False)\n",
       "            )\n",
       "          )\n",
       "          (intermediate): BertIntermediate(\n",
       "            (dense): Linear(in_features=768, out_features=3072, bias=True)\n",
       "          )\n",
       "          (output): BertOutput(\n",
       "            (dense): Linear(in_features=3072, out_features=768, bias=True)\n",
       "            (LayerNorm): LayerNorm((768,), eps=1e-12, elementwise_affine=True)\n",
       "            (dropout): Dropout(p=0.1, inplace=False)\n",
       "          )\n",
       "        )\n",
       "        (3): BertLayer(\n",
       "          (attention): BertAttention(\n",
       "            (self): BertSelfAttention(\n",
       "              (query): Linear(in_features=768, out_features=768, bias=True)\n",
       "              (key): Linear(in_features=768, out_features=768, bias=True)\n",
       "              (value): Linear(in_features=768, out_features=768, bias=True)\n",
       "              (dropout): Dropout(p=0.1, inplace=False)\n",
       "            )\n",
       "            (output): BertSelfOutput(\n",
       "              (dense): Linear(in_features=768, out_features=768, bias=True)\n",
       "              (LayerNorm): LayerNorm((768,), eps=1e-12, elementwise_affine=True)\n",
       "              (dropout): Dropout(p=0.1, inplace=False)\n",
       "            )\n",
       "          )\n",
       "          (intermediate): BertIntermediate(\n",
       "            (dense): Linear(in_features=768, out_features=3072, bias=True)\n",
       "          )\n",
       "          (output): BertOutput(\n",
       "            (dense): Linear(in_features=3072, out_features=768, bias=True)\n",
       "            (LayerNorm): LayerNorm((768,), eps=1e-12, elementwise_affine=True)\n",
       "            (dropout): Dropout(p=0.1, inplace=False)\n",
       "          )\n",
       "        )\n",
       "        (4): BertLayer(\n",
       "          (attention): BertAttention(\n",
       "            (self): BertSelfAttention(\n",
       "              (query): Linear(in_features=768, out_features=768, bias=True)\n",
       "              (key): Linear(in_features=768, out_features=768, bias=True)\n",
       "              (value): Linear(in_features=768, out_features=768, bias=True)\n",
       "              (dropout): Dropout(p=0.1, inplace=False)\n",
       "            )\n",
       "            (output): BertSelfOutput(\n",
       "              (dense): Linear(in_features=768, out_features=768, bias=True)\n",
       "              (LayerNorm): LayerNorm((768,), eps=1e-12, elementwise_affine=True)\n",
       "              (dropout): Dropout(p=0.1, inplace=False)\n",
       "            )\n",
       "          )\n",
       "          (intermediate): BertIntermediate(\n",
       "            (dense): Linear(in_features=768, out_features=3072, bias=True)\n",
       "          )\n",
       "          (output): BertOutput(\n",
       "            (dense): Linear(in_features=3072, out_features=768, bias=True)\n",
       "            (LayerNorm): LayerNorm((768,), eps=1e-12, elementwise_affine=True)\n",
       "            (dropout): Dropout(p=0.1, inplace=False)\n",
       "          )\n",
       "        )\n",
       "        (5): BertLayer(\n",
       "          (attention): BertAttention(\n",
       "            (self): BertSelfAttention(\n",
       "              (query): Linear(in_features=768, out_features=768, bias=True)\n",
       "              (key): Linear(in_features=768, out_features=768, bias=True)\n",
       "              (value): Linear(in_features=768, out_features=768, bias=True)\n",
       "              (dropout): Dropout(p=0.1, inplace=False)\n",
       "            )\n",
       "            (output): BertSelfOutput(\n",
       "              (dense): Linear(in_features=768, out_features=768, bias=True)\n",
       "              (LayerNorm): LayerNorm((768,), eps=1e-12, elementwise_affine=True)\n",
       "              (dropout): Dropout(p=0.1, inplace=False)\n",
       "            )\n",
       "          )\n",
       "          (intermediate): BertIntermediate(\n",
       "            (dense): Linear(in_features=768, out_features=3072, bias=True)\n",
       "          )\n",
       "          (output): BertOutput(\n",
       "            (dense): Linear(in_features=3072, out_features=768, bias=True)\n",
       "            (LayerNorm): LayerNorm((768,), eps=1e-12, elementwise_affine=True)\n",
       "            (dropout): Dropout(p=0.1, inplace=False)\n",
       "          )\n",
       "        )\n",
       "        (6): BertLayer(\n",
       "          (attention): BertAttention(\n",
       "            (self): BertSelfAttention(\n",
       "              (query): Linear(in_features=768, out_features=768, bias=True)\n",
       "              (key): Linear(in_features=768, out_features=768, bias=True)\n",
       "              (value): Linear(in_features=768, out_features=768, bias=True)\n",
       "              (dropout): Dropout(p=0.1, inplace=False)\n",
       "            )\n",
       "            (output): BertSelfOutput(\n",
       "              (dense): Linear(in_features=768, out_features=768, bias=True)\n",
       "              (LayerNorm): LayerNorm((768,), eps=1e-12, elementwise_affine=True)\n",
       "              (dropout): Dropout(p=0.1, inplace=False)\n",
       "            )\n",
       "          )\n",
       "          (intermediate): BertIntermediate(\n",
       "            (dense): Linear(in_features=768, out_features=3072, bias=True)\n",
       "          )\n",
       "          (output): BertOutput(\n",
       "            (dense): Linear(in_features=3072, out_features=768, bias=True)\n",
       "            (LayerNorm): LayerNorm((768,), eps=1e-12, elementwise_affine=True)\n",
       "            (dropout): Dropout(p=0.1, inplace=False)\n",
       "          )\n",
       "        )\n",
       "        (7): BertLayer(\n",
       "          (attention): BertAttention(\n",
       "            (self): BertSelfAttention(\n",
       "              (query): Linear(in_features=768, out_features=768, bias=True)\n",
       "              (key): Linear(in_features=768, out_features=768, bias=True)\n",
       "              (value): Linear(in_features=768, out_features=768, bias=True)\n",
       "              (dropout): Dropout(p=0.1, inplace=False)\n",
       "            )\n",
       "            (output): BertSelfOutput(\n",
       "              (dense): Linear(in_features=768, out_features=768, bias=True)\n",
       "              (LayerNorm): LayerNorm((768,), eps=1e-12, elementwise_affine=True)\n",
       "              (dropout): Dropout(p=0.1, inplace=False)\n",
       "            )\n",
       "          )\n",
       "          (intermediate): BertIntermediate(\n",
       "            (dense): Linear(in_features=768, out_features=3072, bias=True)\n",
       "          )\n",
       "          (output): BertOutput(\n",
       "            (dense): Linear(in_features=3072, out_features=768, bias=True)\n",
       "            (LayerNorm): LayerNorm((768,), eps=1e-12, elementwise_affine=True)\n",
       "            (dropout): Dropout(p=0.1, inplace=False)\n",
       "          )\n",
       "        )\n",
       "        (8): BertLayer(\n",
       "          (attention): BertAttention(\n",
       "            (self): BertSelfAttention(\n",
       "              (query): Linear(in_features=768, out_features=768, bias=True)\n",
       "              (key): Linear(in_features=768, out_features=768, bias=True)\n",
       "              (value): Linear(in_features=768, out_features=768, bias=True)\n",
       "              (dropout): Dropout(p=0.1, inplace=False)\n",
       "            )\n",
       "            (output): BertSelfOutput(\n",
       "              (dense): Linear(in_features=768, out_features=768, bias=True)\n",
       "              (LayerNorm): LayerNorm((768,), eps=1e-12, elementwise_affine=True)\n",
       "              (dropout): Dropout(p=0.1, inplace=False)\n",
       "            )\n",
       "          )\n",
       "          (intermediate): BertIntermediate(\n",
       "            (dense): Linear(in_features=768, out_features=3072, bias=True)\n",
       "          )\n",
       "          (output): BertOutput(\n",
       "            (dense): Linear(in_features=3072, out_features=768, bias=True)\n",
       "            (LayerNorm): LayerNorm((768,), eps=1e-12, elementwise_affine=True)\n",
       "            (dropout): Dropout(p=0.1, inplace=False)\n",
       "          )\n",
       "        )\n",
       "        (9): BertLayer(\n",
       "          (attention): BertAttention(\n",
       "            (self): BertSelfAttention(\n",
       "              (query): Linear(in_features=768, out_features=768, bias=True)\n",
       "              (key): Linear(in_features=768, out_features=768, bias=True)\n",
       "              (value): Linear(in_features=768, out_features=768, bias=True)\n",
       "              (dropout): Dropout(p=0.1, inplace=False)\n",
       "            )\n",
       "            (output): BertSelfOutput(\n",
       "              (dense): Linear(in_features=768, out_features=768, bias=True)\n",
       "              (LayerNorm): LayerNorm((768,), eps=1e-12, elementwise_affine=True)\n",
       "              (dropout): Dropout(p=0.1, inplace=False)\n",
       "            )\n",
       "          )\n",
       "          (intermediate): BertIntermediate(\n",
       "            (dense): Linear(in_features=768, out_features=3072, bias=True)\n",
       "          )\n",
       "          (output): BertOutput(\n",
       "            (dense): Linear(in_features=3072, out_features=768, bias=True)\n",
       "            (LayerNorm): LayerNorm((768,), eps=1e-12, elementwise_affine=True)\n",
       "            (dropout): Dropout(p=0.1, inplace=False)\n",
       "          )\n",
       "        )\n",
       "        (10): BertLayer(\n",
       "          (attention): BertAttention(\n",
       "            (self): BertSelfAttention(\n",
       "              (query): Linear(in_features=768, out_features=768, bias=True)\n",
       "              (key): Linear(in_features=768, out_features=768, bias=True)\n",
       "              (value): Linear(in_features=768, out_features=768, bias=True)\n",
       "              (dropout): Dropout(p=0.1, inplace=False)\n",
       "            )\n",
       "            (output): BertSelfOutput(\n",
       "              (dense): Linear(in_features=768, out_features=768, bias=True)\n",
       "              (LayerNorm): LayerNorm((768,), eps=1e-12, elementwise_affine=True)\n",
       "              (dropout): Dropout(p=0.1, inplace=False)\n",
       "            )\n",
       "          )\n",
       "          (intermediate): BertIntermediate(\n",
       "            (dense): Linear(in_features=768, out_features=3072, bias=True)\n",
       "          )\n",
       "          (output): BertOutput(\n",
       "            (dense): Linear(in_features=3072, out_features=768, bias=True)\n",
       "            (LayerNorm): LayerNorm((768,), eps=1e-12, elementwise_affine=True)\n",
       "            (dropout): Dropout(p=0.1, inplace=False)\n",
       "          )\n",
       "        )\n",
       "        (11): BertLayer(\n",
       "          (attention): BertAttention(\n",
       "            (self): BertSelfAttention(\n",
       "              (query): Linear(in_features=768, out_features=768, bias=True)\n",
       "              (key): Linear(in_features=768, out_features=768, bias=True)\n",
       "              (value): Linear(in_features=768, out_features=768, bias=True)\n",
       "              (dropout): Dropout(p=0.1, inplace=False)\n",
       "            )\n",
       "            (output): BertSelfOutput(\n",
       "              (dense): Linear(in_features=768, out_features=768, bias=True)\n",
       "              (LayerNorm): LayerNorm((768,), eps=1e-12, elementwise_affine=True)\n",
       "              (dropout): Dropout(p=0.1, inplace=False)\n",
       "            )\n",
       "          )\n",
       "          (intermediate): BertIntermediate(\n",
       "            (dense): Linear(in_features=768, out_features=3072, bias=True)\n",
       "          )\n",
       "          (output): BertOutput(\n",
       "            (dense): Linear(in_features=3072, out_features=768, bias=True)\n",
       "            (LayerNorm): LayerNorm((768,), eps=1e-12, elementwise_affine=True)\n",
       "            (dropout): Dropout(p=0.1, inplace=False)\n",
       "          )\n",
       "        )\n",
       "      )\n",
       "    )\n",
       "    (pooler): BertPooler(\n",
       "      (dense): Linear(in_features=768, out_features=768, bias=True)\n",
       "      (activation): Tanh()\n",
       "    )\n",
       "  )\n",
       "  (dropout): Dropout(p=0.1, inplace=False)\n",
       "  (classifier): Linear(in_features=768, out_features=2, bias=True)\n",
       ")"
      ]
     },
     "execution_count": 30,
     "metadata": {},
     "output_type": "execute_result"
    }
   ],
   "source": [
    "model = BertForSequenceClassification.from_pretrained(\"bert-base-uncased\", num_labels=2)\n",
    "# model = BertForSequenceClassification.from_pretrained(\"bert-base-multilingual-uncased\", num_labels=2)\n",
    "model.cuda()"
   ]
  },
  {
   "cell_type": "code",
   "execution_count": 31,
   "id": "14607604",
   "metadata": {
    "execution": {
     "iopub.execute_input": "2022-04-27T05:24:27.314221Z",
     "iopub.status.busy": "2022-04-27T05:24:27.313298Z",
     "iopub.status.idle": "2022-04-27T05:24:27.315963Z",
     "shell.execute_reply": "2022-04-27T05:24:27.315491Z",
     "shell.execute_reply.started": "2022-04-26T12:54:48.174866Z"
    },
    "id": "QxSMw0FrptiL",
    "papermill": {
     "duration": 0.145473,
     "end_time": "2022-04-27T05:24:27.316089",
     "exception": false,
     "start_time": "2022-04-27T05:24:27.170616",
     "status": "completed"
    },
    "tags": []
   },
   "outputs": [],
   "source": [
    "param_optimizer = list(model.named_parameters())\n",
    "no_decay = ['bias', 'gamma', 'beta']\n",
    "optimizer_grouped_parameters = [\n",
    "    {'params': [p for n, p in param_optimizer if not any(nd in n for nd in no_decay)],\n",
    "     'weight_decay_rate': 0.01},\n",
    "    {'params': [p for n, p in param_optimizer if any(nd in n for nd in no_decay)],\n",
    "     'weight_decay_rate': 0.0}\n",
    "]\n",
    "\n",
    "optimizer = AdamW(optimizer_grouped_parameters, lr=2e-5)\n",
    "\n"
   ]
  },
  {
   "cell_type": "code",
   "execution_count": 32,
   "id": "4c726467",
   "metadata": {
    "execution": {
     "iopub.execute_input": "2022-04-27T05:24:27.605191Z",
     "iopub.status.busy": "2022-04-27T05:24:27.604463Z",
     "iopub.status.idle": "2022-04-27T06:07:06.731297Z",
     "shell.execute_reply": "2022-04-27T06:07:06.730800Z",
     "shell.execute_reply.started": "2022-04-26T12:54:48.185573Z"
    },
    "id": "6J-FYdx6nFE_",
    "outputId": "8e388ad1-f9db-4c7b-d080-6c0a0e964610",
    "papermill": {
     "duration": 2559.274683,
     "end_time": "2022-04-27T06:07:06.731424",
     "exception": false,
     "start_time": "2022-04-27T05:24:27.456741",
     "status": "completed"
    },
    "tags": []
   },
   "outputs": [
    {
     "data": {
      "image/png": "[encoded data removed]",
      "text/plain": [
       "<Figure size 432x288 with 1 Axes>"
      ]
     },
     "metadata": {
      "needs_background": "light"
     },
     "output_type": "display_data"
    },
    {
     "name": "stdout",
     "output_type": "stream",
     "text": [
      "Loss на обучающей выборке: 0.22169\n"
     ]
    }
   ],
   "source": [
    "from IPython.display import clear_output\n",
    "\n",
    "# Будем сохранять loss во время обучения\n",
    "# и рисовать график в режиме реального времени\n",
    "train_loss_set = []\n",
    "train_loss = 0\n",
    "\n",
    "\n",
    "# Обучение\n",
    "# Переводим модель в training mode\n",
    "model.train()\n",
    "\n",
    "\n",
    "for step, batch in enumerate(train_dataloader):\n",
    "    # добавляем батч для вычисления на GPU\n",
    "    batch = tuple(t.to(device) for t in batch)\n",
    "    # Распаковываем данные из dataloader\n",
    "    b_input_ids, b_input_mask, b_labels = batch\n",
    "    \n",
    "    # если не сделать .zero_grad(), градиенты будут накапливаться\n",
    "    optimizer.zero_grad()\n",
    "    \n",
    "    # Forward pass\n",
    "    loss = model(b_input_ids, token_type_ids=None, attention_mask=b_input_mask, labels=b_labels)\n",
    "\n",
    "    train_loss_set.append(loss[0].item())  \n",
    "    \n",
    "    # Backward pass\n",
    "    loss[0].backward()\n",
    "    \n",
    "    # Обновляем параметры и делаем шаг используя посчитанные градиенты\n",
    "    optimizer.step()\n",
    "\n",
    "    # Обновляем loss\n",
    "    train_loss += loss[0].item()\n",
    "    \n",
    "    # Рисуем график\n",
    "    clear_output(True)\n",
    "    plt.plot(train_loss_set)\n",
    "    plt.title(\"Training loss\")\n",
    "    plt.xlabel(\"Batch\")\n",
    "    plt.ylabel(\"Loss\")\n",
    "    plt.show()\n",
    "    \n",
    "    \n",
    "print(\"Loss на обучающей выборке: {0:.5f}\".format(train_loss / len(train_dataloader)))"
   ]
  },
  {
   "cell_type": "code",
   "execution_count": 33,
   "id": "8ffd9a22",
   "metadata": {
    "execution": {
     "iopub.execute_input": "2022-04-27T06:07:07.014151Z",
     "iopub.status.busy": "2022-04-27T06:07:07.013136Z",
     "iopub.status.idle": "2022-04-27T06:08:10.796899Z",
     "shell.execute_reply": "2022-04-27T06:08:10.797599Z",
     "shell.execute_reply.started": "2022-04-26T12:54:57.668953Z"
    },
    "id": "6J-FYdx6nFE_",
    "outputId": "8e388ad1-f9db-4c7b-d080-6c0a0e964610",
    "papermill": {
     "duration": 63.929839,
     "end_time": "2022-04-27T06:08:10.797812",
     "exception": false,
     "start_time": "2022-04-27T06:07:06.867973",
     "status": "completed"
    },
    "tags": []
   },
   "outputs": [
    {
     "name": "stdout",
     "output_type": "stream",
     "text": [
      "Процент правильных предсказаний на валидационной выборке: 94.34%\n"
     ]
    }
   ],
   "source": [
    "# Валидация\n",
    "# Переводим модель в evaluation mode\n",
    "model.eval()\n",
    "\n",
    "valid_preds, valid_labels = [], []\n",
    "\n",
    "for batch in validation_dataloader:   \n",
    "    # добавляем батч для вычисления на GPU\n",
    "    batch = tuple(t.to(device) for t in batch)\n",
    "    \n",
    "    # Распаковываем данные из dataloader\n",
    "    b_input_ids, b_input_mask, b_labels = batch\n",
    "    \n",
    "    # При использовании .no_grad() модель не будет считать и хранить градиенты.\n",
    "    # Это ускорит процесс предсказания меток для валидационных данных.\n",
    "    with torch.no_grad():\n",
    "        logits = model(b_input_ids, token_type_ids=None, attention_mask=b_input_mask)\n",
    "\n",
    "    # Перемещаем logits и метки классов на CPU для дальнейшей работы\n",
    "    logits = logits[0].detach().cpu().numpy()\n",
    "    label_ids = b_labels.to('cpu').numpy()\n",
    "    \n",
    "    batch_preds = np.argmax(logits, axis=1)\n",
    "    # изначально было np.concatenate(label_ids), но по какой то причина на этом датасете\n",
    "    # такой вариант не работает, т.к. мы получаем плоский тензор, в итоге заменил на \n",
    "    # конструкцию ниже (хотя на само деле непонятно как работало раньше)\n",
    "    batch_labels = np.concatenate([label_ids] if label_ids.ndim == 1 else label_ids)\n",
    "    valid_preds.extend(batch_preds)\n",
    "    valid_labels.extend(batch_labels)\n",
    "\n",
    "print(\"Процент правильных предсказаний на валидационной выборке: {0:.2f}%\".format(\n",
    "    accuracy_score(valid_labels, valid_preds) * 100\n",
    "))"
   ]
  },
  {
   "cell_type": "code",
   "execution_count": 34,
   "id": "5c1cf1e7",
   "metadata": {
    "execution": {
     "iopub.execute_input": "2022-04-27T06:08:11.091090Z",
     "iopub.status.busy": "2022-04-27T06:08:11.088851Z",
     "iopub.status.idle": "2022-04-27T06:08:11.097430Z",
     "shell.execute_reply": "2022-04-27T06:08:11.096803Z",
     "shell.execute_reply.started": "2022-04-26T12:54:57.887197Z"
    },
    "papermill": {
     "duration": 0.156124,
     "end_time": "2022-04-27T06:08:11.097621",
     "exception": false,
     "start_time": "2022-04-27T06:08:10.941497",
     "status": "completed"
    },
    "tags": []
   },
   "outputs": [
    {
     "name": "stdout",
     "output_type": "stream",
     "text": [
      "Процент правильных предсказаний на валидационной выборке: 94.34%\n"
     ]
    }
   ],
   "source": [
    "print(\"Процент правильных предсказаний на валидационной выборке: {0:.2f}%\".format(\n",
    "    accuracy_score(valid_labels, valid_preds) * 100\n",
    "))"
   ]
  },
  {
   "cell_type": "markdown",
   "id": "c459fce6",
   "metadata": {
    "id": "mkyubuJSOzg3",
    "papermill": {
     "duration": 0.147808,
     "end_time": "2022-04-27T06:08:11.387588",
     "exception": false,
     "start_time": "2022-04-27T06:08:11.239780",
     "status": "completed"
    },
    "tags": []
   },
   "source": [
    "# Оценка качества на отложенной выборке"
   ]
  },
  {
   "cell_type": "code",
   "execution_count": 35,
   "id": "0cb6492c",
   "metadata": {
    "execution": {
     "iopub.execute_input": "2022-04-27T06:08:11.696877Z",
     "iopub.status.busy": "2022-04-27T06:08:11.686646Z",
     "iopub.status.idle": "2022-04-27T06:09:44.575060Z",
     "shell.execute_reply": "2022-04-27T06:09:44.574219Z",
     "shell.execute_reply.started": "2022-04-26T12:54:57.896259Z"
    },
    "id": "mAN0LZBOOPVh",
    "papermill": {
     "duration": 93.049264,
     "end_time": "2022-04-27T06:09:44.575217",
     "exception": false,
     "start_time": "2022-04-27T06:08:11.525953",
     "status": "completed"
    },
    "tags": []
   },
   "outputs": [],
   "source": [
    "tokenized_texts = [tokenizer.tokenize(sent) for sent in test_sentences]\n",
    "input_ids = [tokenizer.convert_tokens_to_ids(x) for x in tokenized_texts]\n",
    "\n",
    "input_ids = pad_sequences(\n",
    "    input_ids,\n",
    "    maxlen=MAX_LEN,\n",
    "    dtype=\"long\",\n",
    "    truncating=TRUNC_PAD_TYPE,\n",
    "    padding=TRUNC_PAD_TYPE\n",
    ")"
   ]
  },
  {
   "cell_type": "code",
   "execution_count": 36,
   "id": "94c6c6e3",
   "metadata": {
    "execution": {
     "iopub.execute_input": "2022-04-27T06:09:44.868467Z",
     "iopub.status.busy": "2022-04-27T06:09:44.867703Z",
     "iopub.status.idle": "2022-04-27T06:09:51.799818Z",
     "shell.execute_reply": "2022-04-27T06:09:51.799276Z",
     "shell.execute_reply.started": "2022-04-26T12:57:36.885556Z"
    },
    "papermill": {
     "duration": 7.081789,
     "end_time": "2022-04-27T06:09:51.799964",
     "exception": false,
     "start_time": "2022-04-27T06:09:44.718175",
     "status": "completed"
    },
    "tags": []
   },
   "outputs": [],
   "source": [
    "attention_masks = [[float(i>0) for i in seq] for seq in input_ids]\n",
    "\n",
    "prediction_inputs = torch.tensor(input_ids)\n",
    "prediction_masks = torch.tensor(attention_masks)\n",
    "prediction_labels = torch.tensor(test_gt)\n",
    "\n",
    "prediction_data = TensorDataset(\n",
    "    prediction_inputs,\n",
    "    prediction_masks,\n",
    "    prediction_labels\n",
    ")\n",
    "\n",
    "prediction_dataloader = DataLoader(\n",
    "    prediction_data, \n",
    "    sampler=SequentialSampler(prediction_data),\n",
    "    batch_size=BATCH_SIZE*3\n",
    ")"
   ]
  },
  {
   "cell_type": "code",
   "execution_count": 37,
   "id": "5dd12164",
   "metadata": {
    "execution": {
     "iopub.execute_input": "2022-04-27T06:09:52.099649Z",
     "iopub.status.busy": "2022-04-27T06:09:52.098798Z",
     "iopub.status.idle": "2022-04-27T06:14:25.018359Z",
     "shell.execute_reply": "2022-04-27T06:14:25.017325Z"
    },
    "id": "Hba10sXR7Xi6",
    "papermill": {
     "duration": 273.066878,
     "end_time": "2022-04-27T06:14:25.018535",
     "exception": false,
     "start_time": "2022-04-27T06:09:51.951657",
     "status": "completed"
    },
    "tags": []
   },
   "outputs": [],
   "source": [
    "model.eval()\n",
    "test_preds, test_labels = [], []\n",
    "\n",
    "for batch in prediction_dataloader:\n",
    "    # добавляем батч для вычисления на GPU\n",
    "    batch = tuple(t.to(device) for t in batch)\n",
    "    \n",
    "    # Распаковываем данные из dataloader\n",
    "    b_input_ids, b_input_mask, b_labels = batch\n",
    "    \n",
    "    # При использовании .no_grad() модель не будет считать и хранить градиенты.\n",
    "    # Это ускорит процесс предсказания меток для тестовых данных.\n",
    "    with torch.no_grad():\n",
    "        logits = model(b_input_ids, token_type_ids=None, attention_mask=b_input_mask)\n",
    "\n",
    "    # Перемещаем logits и метки классов на CPU для дальнейшей работы\n",
    "    logits = logits[0].detach().cpu().numpy()\n",
    "    label_ids = b_labels.to('cpu').numpy()\n",
    "\n",
    "    # Сохраняем предсказанные классы и ground truth\n",
    "    batch_preds = np.argmax(logits, axis=1)\n",
    "    batch_labels = np.concatenate([label_ids] if label_ids.ndim == 1 else label_ids)  \n",
    "    test_preds.extend(batch_preds)\n",
    "    test_labels.extend(batch_labels)"
   ]
  },
  {
   "cell_type": "code",
   "execution_count": 38,
   "id": "89abe065",
   "metadata": {
    "execution": {
     "iopub.execute_input": "2022-04-27T06:14:25.305423Z",
     "iopub.status.busy": "2022-04-27T06:14:25.304621Z",
     "iopub.status.idle": "2022-04-27T06:14:25.312084Z",
     "shell.execute_reply": "2022-04-27T06:14:25.311428Z",
     "shell.execute_reply.started": "2022-04-26T12:56:32.884961Z"
    },
    "papermill": {
     "duration": 0.154892,
     "end_time": "2022-04-27T06:14:25.312233",
     "exception": false,
     "start_time": "2022-04-27T06:14:25.157341",
     "status": "completed"
    },
    "tags": []
   },
   "outputs": [
    {
     "name": "stdout",
     "output_type": "stream",
     "text": [
      "Процент правильных предсказаний на отложенной выборке составил: 93.93%\n"
     ]
    }
   ],
   "source": [
    "acc_score = accuracy_score(test_labels, test_preds)\n",
    "print('Процент правильных предсказаний на отложенной выборке составил: {0:.2f}%'.format(\n",
    "    acc_score*100\n",
    "))"
   ]
  },
  {
   "cell_type": "code",
   "execution_count": 39,
   "id": "f9bf1717",
   "metadata": {
    "execution": {
     "iopub.execute_input": "2022-04-27T06:14:25.646560Z",
     "iopub.status.busy": "2022-04-27T06:14:25.645966Z",
     "iopub.status.idle": "2022-04-27T06:14:25.649397Z",
     "shell.execute_reply": "2022-04-27T06:14:25.649827Z",
     "shell.execute_reply.started": "2022-04-26T12:56:32.886867Z"
    },
    "papermill": {
     "duration": 0.191118,
     "end_time": "2022-04-27T06:14:25.649971",
     "exception": false,
     "start_time": "2022-04-27T06:14:25.458853",
     "status": "completed"
    },
    "tags": []
   },
   "outputs": [
    {
     "name": "stdout",
     "output_type": "stream",
     "text": [
      "Неправильных предсказаний: 911/15000\n"
     ]
    }
   ],
   "source": [
    "print('Неправильных предсказаний: {0}/{1}'.format(\n",
    "    sum(np.array(test_labels) != np.array(test_preds)),\n",
    "    len(test_labels)\n",
    "))"
   ]
  },
  {
   "cell_type": "code",
   "execution_count": null,
   "id": "8107430d",
   "metadata": {
    "papermill": {
     "duration": 0.148912,
     "end_time": "2022-04-27T06:14:25.936462",
     "exception": false,
     "start_time": "2022-04-27T06:14:25.787550",
     "status": "completed"
    },
    "tags": []
   },
   "outputs": [],
   "source": []
  }
 ],
 "metadata": {
  "kernelspec": {
   "display_name": "Python 3",
   "language": "python",
   "name": "python3"
  },
  "language_info": {
   "codemirror_mode": {
    "name": "ipython",
    "version": 3
   },
   "file_extension": ".py",
   "mimetype": "text/x-python",
   "name": "python",
   "nbconvert_exporter": "python",
   "pygments_lexer": "ipython3",
   "version": "3.7.12"
  },
  "papermill": {
   "default_parameters": {},
   "duration": 3331.200349,
   "end_time": "2022-04-27T06:14:29.831962",
   "environment_variables": {},
   "exception": null,
   "input_path": "__notebook__.ipynb",
   "output_path": "__notebook__.ipynb",
   "parameters": {},
   "start_time": "2022-04-27T05:18:58.631613",
   "version": "2.3.3"
  }
 },
 "nbformat": 4,
 "nbformat_minor": 5
}
