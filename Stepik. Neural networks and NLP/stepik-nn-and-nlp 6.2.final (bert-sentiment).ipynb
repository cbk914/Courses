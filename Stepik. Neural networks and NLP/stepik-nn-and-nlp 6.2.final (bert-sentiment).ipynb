{
 "cells": [
  {
   "cell_type": "code",
   "execution_count": 1,
   "id": "2a1955e4",
   "metadata": {
    "execution": {
     "iopub.execute_input": "2022-04-21T07:16:45.161147Z",
     "iopub.status.busy": "2022-04-21T07:16:45.160225Z",
     "iopub.status.idle": "2022-04-21T07:16:45.163569Z",
     "shell.execute_reply": "2022-04-21T07:16:45.163940Z",
     "shell.execute_reply.started": "2022-04-21T07:12:15.938773Z"
    },
    "papermill": {
     "duration": 0.049467,
     "end_time": "2022-04-21T07:16:45.164219",
     "exception": false,
     "start_time": "2022-04-21T07:16:45.114752",
     "status": "completed"
    },
    "tags": []
   },
   "outputs": [],
   "source": [
    "# This Python 3 environment comes with many helpful analytics libraries installed\n",
    "# It is defined by the kaggle/python Docker image: https://github.com/kaggle/docker-python\n",
    "# For example, here's several helpful packages to load\n",
    "\n",
    "import numpy as np # linear algebra\n",
    "import pandas as pd # data processing, CSV file I/O (e.g. pd.read_csv)\n",
    "\n",
    "# Input data files are available in the read-only \"../input/\" directory\n",
    "# For example, running this (by clicking run or pressing Shift+Enter) will list all files under the input directory\n",
    "\n",
    "import os\n",
    "for dirname, _, filenames in os.walk('/kaggle/input'):\n",
    "    for filename in filenames:\n",
    "        print(os.path.join(dirname, filename))\n",
    "\n",
    "# You can write up to 20GB to the current directory (/kaggle/working/) that gets preserved as output when you create a version using \"Save & Run All\" \n",
    "# You can also write temporary files to /kaggle/temp/, but they won't be saved outside of the current session"
   ]
  },
  {
   "cell_type": "raw",
   "id": "ce5a7dc2",
   "metadata": {
    "papermill": {
     "duration": 0.031488,
     "end_time": "2022-04-21T07:16:45.230364",
     "exception": false,
     "start_time": "2022-04-21T07:16:45.198876",
     "status": "completed"
    },
    "tags": []
   },
   "source": [
    "Исходное задание.\n",
    "\n",
    "В качестве домашнего задания мы предлагаем Вам попробовать дообучить BERT на более традиционном датасете - коллекции отзывов на фильмы (IMDB Dataset of 50K Movie Reviews).\n",
    "\n",
    "На первый взгляд, задание кажется очень простым: Вам нужно перезапустить код семинара, подав на дообучение другие данные. После выполнения этого несложного упражнения, ответьте на вопросы:\n",
    "1. Удалось ли достичь такого же accuracy (98\\%) при использовании IMDB датасета?\n",
    "2. Удалось ли получить хорошее качество классификации всего за одну эпоху?\n",
    "3. Подумайте, в чем может быть причина различий в дообучении одной и той же модели на разных датасетах\n",
    "    - Внимательно изучите датасет с русскими твитами. В чем его особенности? Нет ли явных паттернов или ключевых слов, которые однозначно определяют сентимент твита?\n",
    "    - Попробуйте удалить пунктуацию из датасета с русскими твитами и перезапустите дообучение модели. Изменилось ли итоговое качество работы модели? Почему?"
   ]
  },
  {
   "cell_type": "raw",
   "id": "3fce88d3",
   "metadata": {
    "papermill": {
     "duration": 0.031429,
     "end_time": "2022-04-21T07:16:45.293358",
     "exception": false,
     "start_time": "2022-04-21T07:16:45.261929",
     "status": "completed"
    },
    "tags": []
   },
   "source": [
    "Итоговое задание для меня:\n",
    "    - Запустить и сохранить через Save Version текущую версию ноутбука (с твитами), без использования импортов из dlnlputils\n",
    "    - Зонять код семинара, где нужно добавить дополнительные комментарии\n",
    "        - разобраться с вопросами из комментариев, в особенности про саму выбранную модель берт, является ли они мультиязычной или нет и т.п.\n",
    "    - Запустить BERT на более традиционном датасете - коллекции отзывов на фильмы (IMDB Dataset of 50K Movie Reviews)\n",
    "    - Ответить на вопросы:\n",
    "        - Удалось ли достичь такого же accuracy (98%) при использовании IMDB датасета?\n",
    "        - Удалось ли получить хорошее качество классификации всего за одну эпоху?\n",
    "        - Подумайте, в чем может быть причина различий в дообучении одной и той же модели на разных датасетах\n",
    "            - Внимательно изучите датасет с русскими твитами. В чем его особенности? Нет ли явных паттернов или ключевых слов, которые однозначно определяют сентимент твита?\n",
    "            - Попробуйте удалить пунктуацию из датасета с русскими твитами и перезапустите дообучение модели. Изменилось ли итоговое качество работы модели? Почему?"
   ]
  },
  {
   "cell_type": "markdown",
   "id": "3157c89d",
   "metadata": {
    "id": "jNKaJz5j_ylj",
    "papermill": {
     "duration": 0.050448,
     "end_time": "2022-04-21T07:16:45.389362",
     "exception": false,
     "start_time": "2022-04-21T07:16:45.338914",
     "status": "completed"
    },
    "tags": []
   },
   "source": [
    "# Определение эмоциональной окраски твитов с помощью BERT"
   ]
  },
  {
   "cell_type": "code",
   "execution_count": 2,
   "id": "be744944",
   "metadata": {
    "execution": {
     "iopub.execute_input": "2022-04-21T07:16:45.458522Z",
     "iopub.status.busy": "2022-04-21T07:16:45.457738Z",
     "iopub.status.idle": "2022-04-21T07:16:45.460101Z",
     "shell.execute_reply": "2022-04-21T07:16:45.459693Z",
     "shell.execute_reply.started": "2022-04-21T07:12:15.994016Z"
    },
    "papermill": {
     "duration": 0.037613,
     "end_time": "2022-04-21T07:16:45.460219",
     "exception": false,
     "start_time": "2022-04-21T07:16:45.422606",
     "status": "completed"
    },
    "tags": []
   },
   "outputs": [],
   "source": [
    "# Если Вы запускаете ноутбук на colab или kaggle,\n",
    "# выполните следующие строчки, чтобы подгрузить библиотеку dlnlputils:\n",
    "\n",
    "# !git clone https://github.com/Samsung-IT-Academy/stepik-dl-nlp.git && pip install -r stepik-dl-nlp/requirements.txt\n",
    "# import sys; sys.path.append('./stepik-dl-nlp')"
   ]
  },
  {
   "cell_type": "markdown",
   "id": "8e864cf3",
   "metadata": {
    "id": "RX_ZDhicpHkV",
    "papermill": {
     "duration": 0.031421,
     "end_time": "2022-04-21T07:16:45.523266",
     "exception": false,
     "start_time": "2022-04-21T07:16:45.491845",
     "status": "completed"
    },
    "tags": []
   },
   "source": [
    "## Установка библиотек"
   ]
  },
  {
   "cell_type": "code",
   "execution_count": 3,
   "id": "f0350064",
   "metadata": {
    "execution": {
     "iopub.execute_input": "2022-04-21T07:16:45.591263Z",
     "iopub.status.busy": "2022-04-21T07:16:45.590466Z",
     "iopub.status.idle": "2022-04-21T07:16:55.679654Z",
     "shell.execute_reply": "2022-04-21T07:16:55.678877Z",
     "shell.execute_reply.started": "2022-04-21T07:12:16.037180Z"
    },
    "id": "0NmMdkZO8R6q",
    "outputId": "1cc59bfa-1dbb-4540-cb22-196f399f62af",
    "papermill": {
     "duration": 10.124831,
     "end_time": "2022-04-21T07:16:55.679780",
     "exception": false,
     "start_time": "2022-04-21T07:16:45.554949",
     "status": "completed"
    },
    "tags": []
   },
   "outputs": [
    {
     "name": "stdout",
     "output_type": "stream",
     "text": [
      "Collecting pytorch-transformers\r\n",
      "  Downloading pytorch_transformers-1.2.0-py3-none-any.whl (176 kB)\r\n",
      "     |████████████████████████████████| 176 kB 518 kB/s            \r\n",
      "\u001b[?25hRequirement already satisfied: requests in /opt/conda/lib/python3.7/site-packages (from pytorch-transformers) (2.26.0)\r\n",
      "Requirement already satisfied: sentencepiece in /opt/conda/lib/python3.7/site-packages (from pytorch-transformers) (0.1.96)\r\n",
      "Requirement already satisfied: torch>=1.0.0 in /opt/conda/lib/python3.7/site-packages (from pytorch-transformers) (1.9.1)\r\n",
      "Requirement already satisfied: regex in /opt/conda/lib/python3.7/site-packages (from pytorch-transformers) (2021.11.10)\r\n",
      "Requirement already satisfied: numpy in /opt/conda/lib/python3.7/site-packages (from pytorch-transformers) (1.20.3)\r\n",
      "Requirement already satisfied: sacremoses in /opt/conda/lib/python3.7/site-packages (from pytorch-transformers) (0.0.49)\r\n",
      "Requirement already satisfied: tqdm in /opt/conda/lib/python3.7/site-packages (from pytorch-transformers) (4.62.3)\r\n",
      "Requirement already satisfied: boto3 in /opt/conda/lib/python3.7/site-packages (from pytorch-transformers) (1.21.20)\r\n",
      "Requirement already satisfied: typing-extensions in /opt/conda/lib/python3.7/site-packages (from torch>=1.0.0->pytorch-transformers) (4.1.1)\r\n",
      "Requirement already satisfied: jmespath<1.0.0,>=0.7.1 in /opt/conda/lib/python3.7/site-packages (from boto3->pytorch-transformers) (0.10.0)\r\n",
      "Requirement already satisfied: s3transfer<0.6.0,>=0.5.0 in /opt/conda/lib/python3.7/site-packages (from boto3->pytorch-transformers) (0.5.2)\r\n",
      "Requirement already satisfied: botocore<1.25.0,>=1.24.20 in /opt/conda/lib/python3.7/site-packages (from boto3->pytorch-transformers) (1.24.20)\r\n",
      "Requirement already satisfied: certifi>=2017.4.17 in /opt/conda/lib/python3.7/site-packages (from requests->pytorch-transformers) (2021.10.8)\r\n",
      "Requirement already satisfied: idna<4,>=2.5 in /opt/conda/lib/python3.7/site-packages (from requests->pytorch-transformers) (3.1)\r\n",
      "Requirement already satisfied: urllib3<1.27,>=1.21.1 in /opt/conda/lib/python3.7/site-packages (from requests->pytorch-transformers) (1.26.7)\r\n",
      "Requirement already satisfied: charset-normalizer~=2.0.0 in /opt/conda/lib/python3.7/site-packages (from requests->pytorch-transformers) (2.0.9)\r\n",
      "Requirement already satisfied: six in /opt/conda/lib/python3.7/site-packages (from sacremoses->pytorch-transformers) (1.16.0)\r\n",
      "Requirement already satisfied: click in /opt/conda/lib/python3.7/site-packages (from sacremoses->pytorch-transformers) (8.0.3)\r\n",
      "Requirement already satisfied: joblib in /opt/conda/lib/python3.7/site-packages (from sacremoses->pytorch-transformers) (1.1.0)\r\n",
      "Requirement already satisfied: python-dateutil<3.0.0,>=2.1 in /opt/conda/lib/python3.7/site-packages (from botocore<1.25.0,>=1.24.20->boto3->pytorch-transformers) (2.8.2)\r\n",
      "Requirement already satisfied: importlib-metadata in /opt/conda/lib/python3.7/site-packages (from click->sacremoses->pytorch-transformers) (4.11.3)\r\n",
      "Requirement already satisfied: zipp>=0.5 in /opt/conda/lib/python3.7/site-packages (from importlib-metadata->click->sacremoses->pytorch-transformers) (3.6.0)\r\n",
      "Installing collected packages: pytorch-transformers\r\n",
      "Successfully installed pytorch-transformers-1.2.0\r\n",
      "\u001b[33mWARNING: Running pip as the 'root' user can result in broken permissions and conflicting behaviour with the system package manager. It is recommended to use a virtual environment instead: https://pip.pypa.io/warnings/venv\u001b[0m\r\n"
     ]
    }
   ],
   "source": [
    "!pip install pytorch-transformers"
   ]
  },
  {
   "cell_type": "code",
   "execution_count": 4,
   "id": "dc960e11",
   "metadata": {
    "execution": {
     "iopub.execute_input": "2022-04-21T07:16:55.757541Z",
     "iopub.status.busy": "2022-04-21T07:16:55.756770Z",
     "iopub.status.idle": "2022-04-21T07:17:03.077587Z",
     "shell.execute_reply": "2022-04-21T07:17:03.077034Z",
     "shell.execute_reply.started": "2022-04-21T07:12:57.188148Z"
    },
    "id": "Ok002ceNB8E7",
    "outputId": "06ef90d2-7518-4209-da66-1dd45c357c78",
    "papermill": {
     "duration": 7.361988,
     "end_time": "2022-04-21T07:17:03.077724",
     "exception": false,
     "start_time": "2022-04-21T07:16:55.715736",
     "status": "completed"
    },
    "tags": []
   },
   "outputs": [],
   "source": [
    "import torch\n",
    "from torch.utils.data import TensorDataset, DataLoader, RandomSampler, SequentialSampler\n",
    "from keras.preprocessing.sequence import pad_sequences\n",
    "from sklearn.model_selection import train_test_split\n",
    "from pytorch_transformers import BertTokenizer, BertConfig\n",
    "from pytorch_transformers import AdamW, BertForSequenceClassification\n",
    "from tqdm import tqdm, trange\n",
    "import pandas as pd\n",
    "import io\n",
    "import numpy as np\n",
    "from sklearn.metrics import accuracy_score\n",
    "import matplotlib.pyplot as plt"
   ]
  },
  {
   "cell_type": "code",
   "execution_count": 5,
   "id": "a3a9099c",
   "metadata": {
    "execution": {
     "iopub.execute_input": "2022-04-21T07:17:03.220513Z",
     "iopub.status.busy": "2022-04-21T07:17:03.219807Z",
     "iopub.status.idle": "2022-04-21T07:17:03.223225Z",
     "shell.execute_reply": "2022-04-21T07:17:03.223793Z",
     "shell.execute_reply.started": "2022-04-21T07:12:57.245980Z"
    },
    "id": "oYsV4H8fCpZ-",
    "outputId": "b8812c8e-3149-475f-b4c0-262160485c39",
    "papermill": {
     "duration": 0.11118,
     "end_time": "2022-04-21T07:17:03.223973",
     "exception": false,
     "start_time": "2022-04-21T07:17:03.112793",
     "status": "completed"
    },
    "tags": []
   },
   "outputs": [
    {
     "name": "stdout",
     "output_type": "stream",
     "text": [
      "Tesla P100-PCIE-16GB\n"
     ]
    }
   ],
   "source": [
    "device = torch.device(\"cuda\" if torch.cuda.is_available() else \"cpu\")\n",
    "if device.type == 'cpu':\n",
    "    print('cpu')\n",
    "else:\n",
    "    n_gpu = torch.cuda.device_count()\n",
    "    print(torch.cuda.get_device_name(0))"
   ]
  },
  {
   "cell_type": "markdown",
   "id": "2bac1ff1",
   "metadata": {
    "id": "guw6ZNtaswKc",
    "papermill": {
     "duration": 0.035222,
     "end_time": "2022-04-21T07:17:03.295380",
     "exception": false,
     "start_time": "2022-04-21T07:17:03.260158",
     "status": "completed"
    },
    "tags": []
   },
   "source": [
    "## Загрузка данных\n"
   ]
  },
  {
   "cell_type": "markdown",
   "id": "1d623241",
   "metadata": {
    "papermill": {
     "duration": 0.035135,
     "end_time": "2022-04-21T07:17:03.365569",
     "exception": false,
     "start_time": "2022-04-21T07:17:03.330434",
     "status": "completed"
    },
    "tags": []
   },
   "source": [
    "Мы выбрали необычный датасет с разметкой сентимента русскоязычных твитов (подробнее про него в [статье](http://www.swsys.ru/index.php?page=article&id=3962&lang=)). В корпусе, который мы использовали 114,911 положительных и 111,923 отрицательных записей. Загрузить его можно [тут](https://study.mokoron.com/)."
   ]
  },
  {
   "cell_type": "code",
   "execution_count": 6,
   "id": "fd39469f",
   "metadata": {
    "execution": {
     "iopub.execute_input": "2022-04-21T07:17:03.451689Z",
     "iopub.status.busy": "2022-04-21T07:17:03.450904Z",
     "iopub.status.idle": "2022-04-21T07:17:11.224970Z",
     "shell.execute_reply": "2022-04-21T07:17:11.224463Z",
     "shell.execute_reply.started": "2022-04-21T07:12:57.288514Z"
    },
    "papermill": {
     "duration": 7.824297,
     "end_time": "2022-04-21T07:17:11.225114",
     "exception": false,
     "start_time": "2022-04-21T07:17:03.400817",
     "status": "completed"
    },
    "tags": []
   },
   "outputs": [
    {
     "name": "stdout",
     "output_type": "stream",
     "text": [
      "  % Total    % Received % Xferd  Average Speed   Time    Time     Time  Current\r\n",
      "                                 Dload  Upload   Total   Spent    Left  Speed\r\n",
      "100 25.0M  100 25.0M    0     0  15.0M      0  0:00:01  0:00:01 --:--:-- 15.0M\r\n",
      "  % Total    % Received % Xferd  Average Speed   Time    Time     Time  Current\r\n",
      "                                 Dload  Upload   Total   Spent    Left  Speed\r\n",
      "100 23.3M  100 23.3M    0     0  13.3M      0  0:00:01  0:00:01 --:--:-- 13.3M\r\n"
     ]
    }
   ],
   "source": [
    "import pandas as pd\n",
    "\n",
    "!mkdir ./stepik-dl-nlp/\n",
    "!mkdir ./stepik-dl-nlp/datasets/\n",
    "!mkdir ./stepik-dl-nlp/datasets/bert_sentiment_analysis/\n",
    "\n",
    "!curl \"https://raw.githubusercontent.com/Samsung-IT-Academy/stepik-dl-nlp/master/datasets/bert_sentiment_analysis/positive.csv\" \\\n",
    "    -o ./stepik-dl-nlp/datasets/bert_sentiment_analysis/positive.csv\n",
    "!curl \"https://raw.githubusercontent.com/Samsung-IT-Academy/stepik-dl-nlp/master/datasets/bert_sentiment_analysis/negative.csv\" \\\n",
    "    -o ./stepik-dl-nlp/datasets/bert_sentiment_analysis/negative.csv\n",
    "\n",
    "# Если Вы запускаете ноутбук на colab или kaggle, добавьте в начало пути ./stepik-dl-nlp\n",
    "pos_texts = pd.read_csv('./stepik-dl-nlp/datasets/bert_sentiment_analysis/positive.csv', encoding='utf8', sep=';', header=None)\n",
    "neg_texts = pd.read_csv('./stepik-dl-nlp/datasets/bert_sentiment_analysis/negative.csv', encoding='utf8', sep=';', header=None)"
   ]
  },
  {
   "cell_type": "code",
   "execution_count": 7,
   "id": "a07efc77",
   "metadata": {
    "execution": {
     "iopub.execute_input": "2022-04-21T07:17:11.315303Z",
     "iopub.status.busy": "2022-04-21T07:17:11.314565Z",
     "iopub.status.idle": "2022-04-21T07:17:11.332438Z",
     "shell.execute_reply": "2022-04-21T07:17:11.331999Z",
     "shell.execute_reply.started": "2022-04-21T07:13:04.458496Z"
    },
    "papermill": {
     "duration": 0.06933,
     "end_time": "2022-04-21T07:17:11.332555",
     "exception": false,
     "start_time": "2022-04-21T07:17:11.263225",
     "status": "completed"
    },
    "scrolled": true,
    "tags": []
   },
   "outputs": [
    {
     "data": {
      "text/html": [
       "<div>\n",
       "<style scoped>\n",
       "    .dataframe tbody tr th:only-of-type {\n",
       "        vertical-align: middle;\n",
       "    }\n",
       "\n",
       "    .dataframe tbody tr th {\n",
       "        vertical-align: top;\n",
       "    }\n",
       "\n",
       "    .dataframe thead th {\n",
       "        text-align: right;\n",
       "    }\n",
       "</style>\n",
       "<table border=\"1\" class=\"dataframe\">\n",
       "  <thead>\n",
       "    <tr style=\"text-align: right;\">\n",
       "      <th></th>\n",
       "      <th>0</th>\n",
       "      <th>1</th>\n",
       "      <th>2</th>\n",
       "      <th>3</th>\n",
       "      <th>4</th>\n",
       "      <th>5</th>\n",
       "      <th>6</th>\n",
       "      <th>7</th>\n",
       "      <th>8</th>\n",
       "      <th>9</th>\n",
       "      <th>10</th>\n",
       "      <th>11</th>\n",
       "    </tr>\n",
       "  </thead>\n",
       "  <tbody>\n",
       "    <tr>\n",
       "      <th>39793</th>\n",
       "      <td>409901829020209152</td>\n",
       "      <td>1386563186</td>\n",
       "      <td>MAPC_OXYEHEH</td>\n",
       "      <td>@kiriusha69 пффф а почему бы и нет с: ЛУИ ВСЕ ...</td>\n",
       "      <td>1</td>\n",
       "      <td>0</td>\n",
       "      <td>0</td>\n",
       "      <td>0</td>\n",
       "      <td>676</td>\n",
       "      <td>118</td>\n",
       "      <td>105</td>\n",
       "      <td>0</td>\n",
       "    </tr>\n",
       "    <tr>\n",
       "      <th>67830</th>\n",
       "      <td>410396636796305408</td>\n",
       "      <td>1386681157</td>\n",
       "      <td>Rizkooo_Nasty</td>\n",
       "      <td>потом в нашими красавцами играли с Андреем роз...</td>\n",
       "      <td>1</td>\n",
       "      <td>0</td>\n",
       "      <td>0</td>\n",
       "      <td>0</td>\n",
       "      <td>3038</td>\n",
       "      <td>25</td>\n",
       "      <td>22</td>\n",
       "      <td>0</td>\n",
       "    </tr>\n",
       "    <tr>\n",
       "      <th>18499</th>\n",
       "      <td>409381473184395264</td>\n",
       "      <td>1386439123</td>\n",
       "      <td>hoku2</td>\n",
       "      <td>RT @Creative_Link: Иван Царевич и Серый Волк -...</td>\n",
       "      <td>1</td>\n",
       "      <td>0</td>\n",
       "      <td>286</td>\n",
       "      <td>0</td>\n",
       "      <td>28</td>\n",
       "      <td>2</td>\n",
       "      <td>243</td>\n",
       "      <td>0</td>\n",
       "    </tr>\n",
       "    <tr>\n",
       "      <th>57473</th>\n",
       "      <td>410123861829505024</td>\n",
       "      <td>1386616123</td>\n",
       "      <td>LittleSpiceM</td>\n",
       "      <td>одногруппница сказала, что я  в последнее врем...</td>\n",
       "      <td>1</td>\n",
       "      <td>0</td>\n",
       "      <td>0</td>\n",
       "      <td>0</td>\n",
       "      <td>29346</td>\n",
       "      <td>202</td>\n",
       "      <td>255</td>\n",
       "      <td>7</td>\n",
       "    </tr>\n",
       "    <tr>\n",
       "      <th>31403</th>\n",
       "      <td>409655278393892864</td>\n",
       "      <td>1386504404</td>\n",
       "      <td>Premiera25</td>\n",
       "      <td>RT @PetrovaJenya: 15jane Женя модэль!))) http:...</td>\n",
       "      <td>1</td>\n",
       "      <td>0</td>\n",
       "      <td>1</td>\n",
       "      <td>0</td>\n",
       "      <td>10825</td>\n",
       "      <td>133</td>\n",
       "      <td>32</td>\n",
       "      <td>0</td>\n",
       "    </tr>\n",
       "  </tbody>\n",
       "</table>\n",
       "</div>"
      ],
      "text/plain": [
       "                       0           1              2   \\\n",
       "39793  409901829020209152  1386563186   MAPC_OXYEHEH   \n",
       "67830  410396636796305408  1386681157  Rizkooo_Nasty   \n",
       "18499  409381473184395264  1386439123          hoku2   \n",
       "57473  410123861829505024  1386616123   LittleSpiceM   \n",
       "31403  409655278393892864  1386504404     Premiera25   \n",
       "\n",
       "                                                      3   4   5    6   7   \\\n",
       "39793  @kiriusha69 пффф а почему бы и нет с: ЛУИ ВСЕ ...   1   0    0   0   \n",
       "67830  потом в нашими красавцами играли с Андреем роз...   1   0    0   0   \n",
       "18499  RT @Creative_Link: Иван Царевич и Серый Волк -...   1   0  286   0   \n",
       "57473  одногруппница сказала, что я  в последнее врем...   1   0    0   0   \n",
       "31403  RT @PetrovaJenya: 15jane Женя модэль!))) http:...   1   0    1   0   \n",
       "\n",
       "          8    9    10  11  \n",
       "39793    676  118  105   0  \n",
       "67830   3038   25   22   0  \n",
       "18499     28    2  243   0  \n",
       "57473  29346  202  255   7  \n",
       "31403  10825  133   32   0  "
      ]
     },
     "execution_count": 7,
     "metadata": {},
     "output_type": "execute_result"
    }
   ],
   "source": [
    "pos_texts.sample(5)"
   ]
  },
  {
   "cell_type": "code",
   "execution_count": 8,
   "id": "7a6f6099",
   "metadata": {
    "execution": {
     "iopub.execute_input": "2022-04-21T07:17:11.414927Z",
     "iopub.status.busy": "2022-04-21T07:17:11.413970Z",
     "iopub.status.idle": "2022-04-21T07:17:11.912282Z",
     "shell.execute_reply": "2022-04-21T07:17:11.911782Z",
     "shell.execute_reply.started": "2022-04-21T07:13:04.492980Z"
    },
    "papermill": {
     "duration": 0.54192,
     "end_time": "2022-04-21T07:17:11.912427",
     "exception": false,
     "start_time": "2022-04-21T07:17:11.370507",
     "status": "completed"
    },
    "tags": []
   },
   "outputs": [],
   "source": [
    "sentences = np.concatenate([pos_texts[3].values, neg_texts[3].values])\n",
    "\n",
    "sentences = [\"[CLS] \" + sentence + \" [SEP]\" for sentence in sentences]\n",
    "labels = [[1] for _ in range(pos_texts.shape[0])] + [[0] for _ in range(neg_texts.shape[0])]\n"
   ]
  },
  {
   "cell_type": "code",
   "execution_count": 9,
   "id": "fe68ce13",
   "metadata": {
    "execution": {
     "iopub.execute_input": "2022-04-21T07:17:11.998359Z",
     "iopub.status.busy": "2022-04-21T07:17:11.997490Z",
     "iopub.status.idle": "2022-04-21T07:17:11.999298Z",
     "shell.execute_reply": "2022-04-21T07:17:11.999785Z",
     "shell.execute_reply.started": "2022-04-21T07:13:05.104319Z"
    },
    "papermill": {
     "duration": 0.048659,
     "end_time": "2022-04-21T07:17:11.999928",
     "exception": false,
     "start_time": "2022-04-21T07:17:11.951269",
     "status": "completed"
    },
    "tags": []
   },
   "outputs": [],
   "source": [
    "assert len(sentences) == len(labels) == pos_texts.shape[0] + neg_texts.shape[0]"
   ]
  },
  {
   "cell_type": "code",
   "execution_count": 10,
   "id": "6af4bf57",
   "metadata": {
    "execution": {
     "iopub.execute_input": "2022-04-21T07:17:12.081738Z",
     "iopub.status.busy": "2022-04-21T07:17:12.081018Z",
     "iopub.status.idle": "2022-04-21T07:17:12.084156Z",
     "shell.execute_reply": "2022-04-21T07:17:12.084729Z",
     "shell.execute_reply.started": "2022-04-21T07:13:05.110594Z"
    },
    "papermill": {
     "duration": 0.045613,
     "end_time": "2022-04-21T07:17:12.084894",
     "exception": false,
     "start_time": "2022-04-21T07:17:12.039281",
     "status": "completed"
    },
    "tags": []
   },
   "outputs": [
    {
     "name": "stdout",
     "output_type": "stream",
     "text": [
      "[CLS] Дим, ты помогаешь мне, я тебе, все взаимно, все правильно) [SEP]\n"
     ]
    }
   ],
   "source": [
    "print(sentences[1000])"
   ]
  },
  {
   "cell_type": "code",
   "execution_count": 11,
   "id": "4e53d429",
   "metadata": {
    "execution": {
     "iopub.execute_input": "2022-04-21T07:17:12.170568Z",
     "iopub.status.busy": "2022-04-21T07:17:12.169859Z",
     "iopub.status.idle": "2022-04-21T07:17:12.291807Z",
     "shell.execute_reply": "2022-04-21T07:17:12.291393Z",
     "shell.execute_reply.started": "2022-04-21T07:13:05.127459Z"
    },
    "papermill": {
     "duration": 0.168011,
     "end_time": "2022-04-21T07:17:12.291921",
     "exception": false,
     "start_time": "2022-04-21T07:17:12.123910",
     "status": "completed"
    },
    "tags": []
   },
   "outputs": [],
   "source": [
    "from sklearn.model_selection import train_test_split\n",
    "\n",
    "train_sentences, test_sentences, train_gt, test_gt = train_test_split(sentences, labels, test_size=0.3)"
   ]
  },
  {
   "cell_type": "code",
   "execution_count": 12,
   "id": "87808587",
   "metadata": {
    "execution": {
     "iopub.execute_input": "2022-04-21T07:17:12.373132Z",
     "iopub.status.busy": "2022-04-21T07:17:12.372519Z",
     "iopub.status.idle": "2022-04-21T07:17:12.375321Z",
     "shell.execute_reply": "2022-04-21T07:17:12.375722Z",
     "shell.execute_reply.started": "2022-04-21T07:13:05.300005Z"
    },
    "papermill": {
     "duration": 0.045463,
     "end_time": "2022-04-21T07:17:12.375841",
     "exception": false,
     "start_time": "2022-04-21T07:17:12.330378",
     "status": "completed"
    },
    "tags": []
   },
   "outputs": [
    {
     "name": "stdout",
     "output_type": "stream",
     "text": [
      "158783 68051\n"
     ]
    }
   ],
   "source": [
    "print(len(train_gt), len(test_gt))"
   ]
  },
  {
   "cell_type": "markdown",
   "id": "d62f23f1",
   "metadata": {
    "id": "ex5O1eV-Pfct",
    "papermill": {
     "duration": 0.038456,
     "end_time": "2022-04-21T07:17:12.453257",
     "exception": false,
     "start_time": "2022-04-21T07:17:12.414801",
     "status": "completed"
    },
    "tags": []
   },
   "source": [
    "## Inputs"
   ]
  },
  {
   "cell_type": "code",
   "execution_count": 13,
   "id": "1e4db82c",
   "metadata": {
    "execution": {
     "iopub.execute_input": "2022-04-21T07:17:12.534969Z",
     "iopub.status.busy": "2022-04-21T07:17:12.534206Z",
     "iopub.status.idle": "2022-04-21T07:18:53.832344Z",
     "shell.execute_reply": "2022-04-21T07:18:53.832791Z",
     "shell.execute_reply.started": "2022-04-21T07:13:05.306686Z"
    },
    "id": "Z474sSC6oe7A",
    "outputId": "fbaa8fd8-bccd-4feb-ce52-beba5d293cfa",
    "papermill": {
     "duration": 101.341062,
     "end_time": "2022-04-21T07:18:53.832949",
     "exception": false,
     "start_time": "2022-04-21T07:17:12.491887",
     "status": "completed"
    },
    "tags": []
   },
   "outputs": [
    {
     "name": "stderr",
     "output_type": "stream",
     "text": [
      "100%|██████████| 231508/231508 [00:00<00:00, 684165.53B/s]\n"
     ]
    },
    {
     "name": "stdout",
     "output_type": "stream",
     "text": [
      "['[CLS]', 'rt', '@', 'annie', '##pl', '##astic', '##ine', ':', '@', 'eliza', '##vet', '##a', '_', 'ku', '##ko', 'к', '##а', '##к', 'б', '##у', '##д', '##т', '##о', 'н', '##а', 'е', '##л', '##к', '##е', 'п', '##и', '##ц', '##ц', '##а', 'в', '##и', '##с', '##и', '##т', ')', 'н', '##я', '##м', '##н', '##я', '##м', ')', '[SEP]']\n"
     ]
    }
   ],
   "source": [
    "from pytorch_transformers import BertTokenizer, BertConfig\n",
    "\n",
    "\n",
    "tokenizer = BertTokenizer.from_pretrained('bert-base-uncased', do_lower_case=True)\n",
    "\n",
    "tokenized_texts = [tokenizer.tokenize(sent) for sent in train_sentences]\n",
    "print (tokenized_texts[0])"
   ]
  },
  {
   "cell_type": "markdown",
   "id": "dd9c35f1",
   "metadata": {
    "id": "87_kXUeT2-br",
    "papermill": {
     "duration": 0.040499,
     "end_time": "2022-04-21T07:18:53.914616",
     "exception": false,
     "start_time": "2022-04-21T07:18:53.874117",
     "status": "completed"
    },
    "tags": []
   },
   "source": [
    "BERTу нужно предоставить специальный формат входных данных.\n",
    "\n",
    "\n",
    "- **input ids**: последовательность чисел, отождествляющих каждый токен с его номером в словаре.\n",
    "- **labels**: вектор из нулей и единиц. В нашем случае нули обозначают негативную эмоциональную окраску, единицы - положительную.\n",
    "- **segment mask**: (необязательно) последовательность нулей и единиц, которая показывает, состоит ли входной текст из одного или двух предложений. Для случая одного предложения получится вектор из одних нулей. Для двух: <length_of_sent_1> нулей и <length_of_sent_2> единиц.\n",
    "- **attention mask**: (необязательно) последовательность нулей и единиц, где единицы обозначают токены предложения, нули - паддинг."
   ]
  },
  {
   "cell_type": "code",
   "execution_count": 14,
   "id": "9f0b5710",
   "metadata": {
    "execution": {
     "iopub.execute_input": "2022-04-21T07:18:54.058973Z",
     "iopub.status.busy": "2022-04-21T07:18:54.033632Z",
     "iopub.status.idle": "2022-04-21T07:19:17.007245Z",
     "shell.execute_reply": "2022-04-21T07:19:17.006325Z"
    },
    "id": "Cp9BPRd1tMIo",
    "papermill": {
     "duration": 23.051481,
     "end_time": "2022-04-21T07:19:17.007386",
     "exception": false,
     "start_time": "2022-04-21T07:18:53.955905",
     "status": "completed"
    },
    "tags": []
   },
   "outputs": [],
   "source": [
    "input_ids = [tokenizer.convert_tokens_to_ids(x) for x in tokenized_texts]\n",
    "input_ids = pad_sequences(\n",
    "    input_ids,\n",
    "    maxlen=100,\n",
    "    dtype=\"long\",\n",
    "    truncating=\"post\",\n",
    "    padding=\"post\"\n",
    ")\n",
    "attention_masks = [[float(i>0) for i in seq] for seq in input_ids]"
   ]
  },
  {
   "cell_type": "code",
   "execution_count": 15,
   "id": "1793874e",
   "metadata": {
    "execution": {
     "iopub.execute_input": "2022-04-21T07:19:17.095902Z",
     "iopub.status.busy": "2022-04-21T07:19:17.095136Z",
     "iopub.status.idle": "2022-04-21T07:19:17.299105Z",
     "shell.execute_reply": "2022-04-21T07:19:17.298518Z"
    },
    "id": "aFbE-UHvsb7-",
    "papermill": {
     "duration": 0.250277,
     "end_time": "2022-04-21T07:19:17.299243",
     "exception": false,
     "start_time": "2022-04-21T07:19:17.048966",
     "status": "completed"
    },
    "tags": []
   },
   "outputs": [],
   "source": [
    "train_inputs, validation_inputs, train_labels, validation_labels = train_test_split(\n",
    "    input_ids, train_gt, \n",
    "    random_state=42,\n",
    "    test_size=0.1\n",
    ")\n",
    "\n",
    "train_masks, validation_masks, _, _ = train_test_split(\n",
    "    attention_masks,\n",
    "    input_ids,\n",
    "    random_state=42,\n",
    "    test_size=0.1\n",
    ")"
   ]
  },
  {
   "cell_type": "code",
   "execution_count": 16,
   "id": "b456f497",
   "metadata": {
    "execution": {
     "iopub.execute_input": "2022-04-21T07:19:17.389025Z",
     "iopub.status.busy": "2022-04-21T07:19:17.388434Z",
     "iopub.status.idle": "2022-04-21T07:19:18.819979Z",
     "shell.execute_reply": "2022-04-21T07:19:18.819514Z"
    },
    "id": "jw5K2A5Ko1RF",
    "papermill": {
     "duration": 1.479204,
     "end_time": "2022-04-21T07:19:18.820137",
     "exception": false,
     "start_time": "2022-04-21T07:19:17.340933",
     "status": "completed"
    },
    "tags": []
   },
   "outputs": [],
   "source": [
    "train_inputs = torch.tensor(train_inputs)\n",
    "train_labels = torch.tensor(train_labels)\n",
    "train_masks = torch.tensor(train_masks)"
   ]
  },
  {
   "cell_type": "code",
   "execution_count": 17,
   "id": "2be389a1",
   "metadata": {
    "execution": {
     "iopub.execute_input": "2022-04-21T07:19:18.909635Z",
     "iopub.status.busy": "2022-04-21T07:19:18.908696Z",
     "iopub.status.idle": "2022-04-21T07:19:19.070058Z",
     "shell.execute_reply": "2022-04-21T07:19:19.069570Z"
    },
    "papermill": {
     "duration": 0.208201,
     "end_time": "2022-04-21T07:19:19.070226",
     "exception": false,
     "start_time": "2022-04-21T07:19:18.862025",
     "status": "completed"
    },
    "tags": []
   },
   "outputs": [],
   "source": [
    "validation_inputs = torch.tensor(validation_inputs)\n",
    "validation_labels = torch.tensor(validation_labels)\n",
    "validation_masks = torch.tensor(validation_masks)"
   ]
  },
  {
   "cell_type": "code",
   "execution_count": 18,
   "id": "4b5e8353",
   "metadata": {
    "execution": {
     "iopub.execute_input": "2022-04-21T07:19:19.164974Z",
     "iopub.status.busy": "2022-04-21T07:19:19.164442Z",
     "iopub.status.idle": "2022-04-21T07:19:19.179714Z",
     "shell.execute_reply": "2022-04-21T07:19:19.180094Z"
    },
    "papermill": {
     "duration": 0.068436,
     "end_time": "2022-04-21T07:19:19.180232",
     "exception": false,
     "start_time": "2022-04-21T07:19:19.111796",
     "status": "completed"
    },
    "tags": []
   },
   "outputs": [
    {
     "data": {
      "text/plain": [
       "tensor([[1],\n",
       "        [0],\n",
       "        [1],\n",
       "        ...,\n",
       "        [1],\n",
       "        [1],\n",
       "        [1]])"
      ]
     },
     "execution_count": 18,
     "metadata": {},
     "output_type": "execute_result"
    }
   ],
   "source": [
    "train_labels"
   ]
  },
  {
   "cell_type": "code",
   "execution_count": 19,
   "id": "b9848e24",
   "metadata": {
    "execution": {
     "iopub.execute_input": "2022-04-21T07:19:19.268323Z",
     "iopub.status.busy": "2022-04-21T07:19:19.267571Z",
     "iopub.status.idle": "2022-04-21T07:19:19.269527Z",
     "shell.execute_reply": "2022-04-21T07:19:19.269951Z"
    },
    "id": "GEgLpFVlo1Z-",
    "papermill": {
     "duration": 0.048393,
     "end_time": "2022-04-21T07:19:19.270071",
     "exception": false,
     "start_time": "2022-04-21T07:19:19.221678",
     "status": "completed"
    },
    "tags": []
   },
   "outputs": [],
   "source": [
    "train_data = TensorDataset(train_inputs, train_masks, train_labels)\n",
    "train_dataloader = DataLoader(\n",
    "    train_data,\n",
    "    sampler=RandomSampler(train_data),\n",
    "    batch_size=32\n",
    ")"
   ]
  },
  {
   "cell_type": "code",
   "execution_count": 20,
   "id": "ee28cebe",
   "metadata": {
    "execution": {
     "iopub.execute_input": "2022-04-21T07:19:19.357406Z",
     "iopub.status.busy": "2022-04-21T07:19:19.355308Z",
     "iopub.status.idle": "2022-04-21T07:19:19.359884Z",
     "shell.execute_reply": "2022-04-21T07:19:19.359503Z"
    },
    "papermill": {
     "duration": 0.048527,
     "end_time": "2022-04-21T07:19:19.359987",
     "exception": false,
     "start_time": "2022-04-21T07:19:19.311460",
     "status": "completed"
    },
    "tags": []
   },
   "outputs": [],
   "source": [
    "validation_data = TensorDataset(validation_inputs, validation_masks, validation_labels)\n",
    "validation_dataloader = DataLoader(\n",
    "    validation_data,\n",
    "    sampler=SequentialSampler(validation_data),\n",
    "    batch_size=32\n",
    ")"
   ]
  },
  {
   "cell_type": "markdown",
   "id": "0bc5452c",
   "metadata": {
    "id": "pNl8khAhPYju",
    "papermill": {
     "duration": 0.042166,
     "end_time": "2022-04-21T07:19:19.444587",
     "exception": false,
     "start_time": "2022-04-21T07:19:19.402421",
     "status": "completed"
    },
    "tags": []
   },
   "source": [
    "## Обучение модели"
   ]
  },
  {
   "cell_type": "markdown",
   "id": "410f4056",
   "metadata": {
    "papermill": {
     "duration": 0.041931,
     "end_time": "2022-04-21T07:19:19.529641",
     "exception": false,
     "start_time": "2022-04-21T07:19:19.487710",
     "status": "completed"
    },
    "tags": []
   },
   "source": [
    "Загружаем [BertForSequenceClassification](https://github.com/huggingface/pytorch-pretrained-BERT/blob/master/pytorch_pretrained_bert/modeling.py#L1129):"
   ]
  },
  {
   "cell_type": "code",
   "execution_count": 21,
   "id": "fa143a31",
   "metadata": {
    "execution": {
     "iopub.execute_input": "2022-04-21T07:19:19.617911Z",
     "iopub.status.busy": "2022-04-21T07:19:19.617139Z",
     "iopub.status.idle": "2022-04-21T07:19:19.619932Z",
     "shell.execute_reply": "2022-04-21T07:19:19.619537Z"
    },
    "papermill": {
     "duration": 0.048541,
     "end_time": "2022-04-21T07:19:19.620039",
     "exception": false,
     "start_time": "2022-04-21T07:19:19.571498",
     "status": "completed"
    },
    "tags": []
   },
   "outputs": [],
   "source": [
    "from pytorch_transformers import AdamW, BertForSequenceClassification"
   ]
  },
  {
   "cell_type": "markdown",
   "id": "c9519402",
   "metadata": {
    "papermill": {
     "duration": 0.041837,
     "end_time": "2022-04-21T07:19:19.704280",
     "exception": false,
     "start_time": "2022-04-21T07:19:19.662443",
     "status": "completed"
    },
    "tags": []
   },
   "source": [
    "Аналогичные модели есть и для других задач:"
   ]
  },
  {
   "cell_type": "code",
   "execution_count": 22,
   "id": "d3441478",
   "metadata": {
    "execution": {
     "iopub.execute_input": "2022-04-21T07:19:19.792838Z",
     "iopub.status.busy": "2022-04-21T07:19:19.792036Z",
     "iopub.status.idle": "2022-04-21T07:19:19.794444Z",
     "shell.execute_reply": "2022-04-21T07:19:19.793881Z"
    },
    "papermill": {
     "duration": 0.048223,
     "end_time": "2022-04-21T07:19:19.794550",
     "exception": false,
     "start_time": "2022-04-21T07:19:19.746327",
     "status": "completed"
    },
    "tags": []
   },
   "outputs": [],
   "source": [
    "from pytorch_transformers import BertForQuestionAnswering, BertForTokenClassification"
   ]
  },
  {
   "cell_type": "code",
   "execution_count": 23,
   "id": "a301b291",
   "metadata": {
    "execution": {
     "iopub.execute_input": "2022-04-21T07:19:19.886806Z",
     "iopub.status.busy": "2022-04-21T07:19:19.886311Z",
     "iopub.status.idle": "2022-04-21T07:19:46.112025Z",
     "shell.execute_reply": "2022-04-21T07:19:46.115026Z"
    },
    "id": "gFsCTp_mporB",
    "outputId": "dd067229-1925-4b37-f517-0c14e25420d1",
    "papermill": {
     "duration": 26.2781,
     "end_time": "2022-04-21T07:19:46.115260",
     "exception": false,
     "start_time": "2022-04-21T07:19:19.837160",
     "status": "completed"
    },
    "tags": []
   },
   "outputs": [
    {
     "name": "stderr",
     "output_type": "stream",
     "text": [
      "100%|██████████| 433/433 [00:00<00:00, 163541.97B/s]\n",
      "100%|██████████| 440473133/440473133 [00:16<00:00, 26963080.60B/s]\n"
     ]
    },
    {
     "data": {
      "text/plain": [
       "BertForSequenceClassification(\n",
       "  (bert): BertModel(\n",
       "    (embeddings): BertEmbeddings(\n",
       "      (word_embeddings): Embedding(30522, 768, padding_idx=0)\n",
       "      (position_embeddings): Embedding(512, 768)\n",
       "      (token_type_embeddings): Embedding(2, 768)\n",
       "      (LayerNorm): LayerNorm((768,), eps=1e-12, elementwise_affine=True)\n",
       "      (dropout): Dropout(p=0.1, inplace=False)\n",
       "    )\n",
       "    (encoder): BertEncoder(\n",
       "      (layer): ModuleList(\n",
       "        (0): BertLayer(\n",
       "          (attention): BertAttention(\n",
       "            (self): BertSelfAttention(\n",
       "              (query): Linear(in_features=768, out_features=768, bias=True)\n",
       "              (key): Linear(in_features=768, out_features=768, bias=True)\n",
       "              (value): Linear(in_features=768, out_features=768, bias=True)\n",
       "              (dropout): Dropout(p=0.1, inplace=False)\n",
       "            )\n",
       "            (output): BertSelfOutput(\n",
       "              (dense): Linear(in_features=768, out_features=768, bias=True)\n",
       "              (LayerNorm): LayerNorm((768,), eps=1e-12, elementwise_affine=True)\n",
       "              (dropout): Dropout(p=0.1, inplace=False)\n",
       "            )\n",
       "          )\n",
       "          (intermediate): BertIntermediate(\n",
       "            (dense): Linear(in_features=768, out_features=3072, bias=True)\n",
       "          )\n",
       "          (output): BertOutput(\n",
       "            (dense): Linear(in_features=3072, out_features=768, bias=True)\n",
       "            (LayerNorm): LayerNorm((768,), eps=1e-12, elementwise_affine=True)\n",
       "            (dropout): Dropout(p=0.1, inplace=False)\n",
       "          )\n",
       "        )\n",
       "        (1): BertLayer(\n",
       "          (attention): BertAttention(\n",
       "            (self): BertSelfAttention(\n",
       "              (query): Linear(in_features=768, out_features=768, bias=True)\n",
       "              (key): Linear(in_features=768, out_features=768, bias=True)\n",
       "              (value): Linear(in_features=768, out_features=768, bias=True)\n",
       "              (dropout): Dropout(p=0.1, inplace=False)\n",
       "            )\n",
       "            (output): BertSelfOutput(\n",
       "              (dense): Linear(in_features=768, out_features=768, bias=True)\n",
       "              (LayerNorm): LayerNorm((768,), eps=1e-12, elementwise_affine=True)\n",
       "              (dropout): Dropout(p=0.1, inplace=False)\n",
       "            )\n",
       "          )\n",
       "          (intermediate): BertIntermediate(\n",
       "            (dense): Linear(in_features=768, out_features=3072, bias=True)\n",
       "          )\n",
       "          (output): BertOutput(\n",
       "            (dense): Linear(in_features=3072, out_features=768, bias=True)\n",
       "            (LayerNorm): LayerNorm((768,), eps=1e-12, elementwise_affine=True)\n",
       "            (dropout): Dropout(p=0.1, inplace=False)\n",
       "          )\n",
       "        )\n",
       "        (2): BertLayer(\n",
       "          (attention): BertAttention(\n",
       "            (self): BertSelfAttention(\n",
       "              (query): Linear(in_features=768, out_features=768, bias=True)\n",
       "              (key): Linear(in_features=768, out_features=768, bias=True)\n",
       "              (value): Linear(in_features=768, out_features=768, bias=True)\n",
       "              (dropout): Dropout(p=0.1, inplace=False)\n",
       "            )\n",
       "            (output): BertSelfOutput(\n",
       "              (dense): Linear(in_features=768, out_features=768, bias=True)\n",
       "              (LayerNorm): LayerNorm((768,), eps=1e-12, elementwise_affine=True)\n",
       "              (dropout): Dropout(p=0.1, inplace=False)\n",
       "            )\n",
       "          )\n",
       "          (intermediate): BertIntermediate(\n",
       "            (dense): Linear(in_features=768, out_features=3072, bias=True)\n",
       "          )\n",
       "          (output): BertOutput(\n",
       "            (dense): Linear(in_features=3072, out_features=768, bias=True)\n",
       "            (LayerNorm): LayerNorm((768,), eps=1e-12, elementwise_affine=True)\n",
       "            (dropout): Dropout(p=0.1, inplace=False)\n",
       "          )\n",
       "        )\n",
       "        (3): BertLayer(\n",
       "          (attention): BertAttention(\n",
       "            (self): BertSelfAttention(\n",
       "              (query): Linear(in_features=768, out_features=768, bias=True)\n",
       "              (key): Linear(in_features=768, out_features=768, bias=True)\n",
       "              (value): Linear(in_features=768, out_features=768, bias=True)\n",
       "              (dropout): Dropout(p=0.1, inplace=False)\n",
       "            )\n",
       "            (output): BertSelfOutput(\n",
       "              (dense): Linear(in_features=768, out_features=768, bias=True)\n",
       "              (LayerNorm): LayerNorm((768,), eps=1e-12, elementwise_affine=True)\n",
       "              (dropout): Dropout(p=0.1, inplace=False)\n",
       "            )\n",
       "          )\n",
       "          (intermediate): BertIntermediate(\n",
       "            (dense): Linear(in_features=768, out_features=3072, bias=True)\n",
       "          )\n",
       "          (output): BertOutput(\n",
       "            (dense): Linear(in_features=3072, out_features=768, bias=True)\n",
       "            (LayerNorm): LayerNorm((768,), eps=1e-12, elementwise_affine=True)\n",
       "            (dropout): Dropout(p=0.1, inplace=False)\n",
       "          )\n",
       "        )\n",
       "        (4): BertLayer(\n",
       "          (attention): BertAttention(\n",
       "            (self): BertSelfAttention(\n",
       "              (query): Linear(in_features=768, out_features=768, bias=True)\n",
       "              (key): Linear(in_features=768, out_features=768, bias=True)\n",
       "              (value): Linear(in_features=768, out_features=768, bias=True)\n",
       "              (dropout): Dropout(p=0.1, inplace=False)\n",
       "            )\n",
       "            (output): BertSelfOutput(\n",
       "              (dense): Linear(in_features=768, out_features=768, bias=True)\n",
       "              (LayerNorm): LayerNorm((768,), eps=1e-12, elementwise_affine=True)\n",
       "              (dropout): Dropout(p=0.1, inplace=False)\n",
       "            )\n",
       "          )\n",
       "          (intermediate): BertIntermediate(\n",
       "            (dense): Linear(in_features=768, out_features=3072, bias=True)\n",
       "          )\n",
       "          (output): BertOutput(\n",
       "            (dense): Linear(in_features=3072, out_features=768, bias=True)\n",
       "            (LayerNorm): LayerNorm((768,), eps=1e-12, elementwise_affine=True)\n",
       "            (dropout): Dropout(p=0.1, inplace=False)\n",
       "          )\n",
       "        )\n",
       "        (5): BertLayer(\n",
       "          (attention): BertAttention(\n",
       "            (self): BertSelfAttention(\n",
       "              (query): Linear(in_features=768, out_features=768, bias=True)\n",
       "              (key): Linear(in_features=768, out_features=768, bias=True)\n",
       "              (value): Linear(in_features=768, out_features=768, bias=True)\n",
       "              (dropout): Dropout(p=0.1, inplace=False)\n",
       "            )\n",
       "            (output): BertSelfOutput(\n",
       "              (dense): Linear(in_features=768, out_features=768, bias=True)\n",
       "              (LayerNorm): LayerNorm((768,), eps=1e-12, elementwise_affine=True)\n",
       "              (dropout): Dropout(p=0.1, inplace=False)\n",
       "            )\n",
       "          )\n",
       "          (intermediate): BertIntermediate(\n",
       "            (dense): Linear(in_features=768, out_features=3072, bias=True)\n",
       "          )\n",
       "          (output): BertOutput(\n",
       "            (dense): Linear(in_features=3072, out_features=768, bias=True)\n",
       "            (LayerNorm): LayerNorm((768,), eps=1e-12, elementwise_affine=True)\n",
       "            (dropout): Dropout(p=0.1, inplace=False)\n",
       "          )\n",
       "        )\n",
       "        (6): BertLayer(\n",
       "          (attention): BertAttention(\n",
       "            (self): BertSelfAttention(\n",
       "              (query): Linear(in_features=768, out_features=768, bias=True)\n",
       "              (key): Linear(in_features=768, out_features=768, bias=True)\n",
       "              (value): Linear(in_features=768, out_features=768, bias=True)\n",
       "              (dropout): Dropout(p=0.1, inplace=False)\n",
       "            )\n",
       "            (output): BertSelfOutput(\n",
       "              (dense): Linear(in_features=768, out_features=768, bias=True)\n",
       "              (LayerNorm): LayerNorm((768,), eps=1e-12, elementwise_affine=True)\n",
       "              (dropout): Dropout(p=0.1, inplace=False)\n",
       "            )\n",
       "          )\n",
       "          (intermediate): BertIntermediate(\n",
       "            (dense): Linear(in_features=768, out_features=3072, bias=True)\n",
       "          )\n",
       "          (output): BertOutput(\n",
       "            (dense): Linear(in_features=3072, out_features=768, bias=True)\n",
       "            (LayerNorm): LayerNorm((768,), eps=1e-12, elementwise_affine=True)\n",
       "            (dropout): Dropout(p=0.1, inplace=False)\n",
       "          )\n",
       "        )\n",
       "        (7): BertLayer(\n",
       "          (attention): BertAttention(\n",
       "            (self): BertSelfAttention(\n",
       "              (query): Linear(in_features=768, out_features=768, bias=True)\n",
       "              (key): Linear(in_features=768, out_features=768, bias=True)\n",
       "              (value): Linear(in_features=768, out_features=768, bias=True)\n",
       "              (dropout): Dropout(p=0.1, inplace=False)\n",
       "            )\n",
       "            (output): BertSelfOutput(\n",
       "              (dense): Linear(in_features=768, out_features=768, bias=True)\n",
       "              (LayerNorm): LayerNorm((768,), eps=1e-12, elementwise_affine=True)\n",
       "              (dropout): Dropout(p=0.1, inplace=False)\n",
       "            )\n",
       "          )\n",
       "          (intermediate): BertIntermediate(\n",
       "            (dense): Linear(in_features=768, out_features=3072, bias=True)\n",
       "          )\n",
       "          (output): BertOutput(\n",
       "            (dense): Linear(in_features=3072, out_features=768, bias=True)\n",
       "            (LayerNorm): LayerNorm((768,), eps=1e-12, elementwise_affine=True)\n",
       "            (dropout): Dropout(p=0.1, inplace=False)\n",
       "          )\n",
       "        )\n",
       "        (8): BertLayer(\n",
       "          (attention): BertAttention(\n",
       "            (self): BertSelfAttention(\n",
       "              (query): Linear(in_features=768, out_features=768, bias=True)\n",
       "              (key): Linear(in_features=768, out_features=768, bias=True)\n",
       "              (value): Linear(in_features=768, out_features=768, bias=True)\n",
       "              (dropout): Dropout(p=0.1, inplace=False)\n",
       "            )\n",
       "            (output): BertSelfOutput(\n",
       "              (dense): Linear(in_features=768, out_features=768, bias=True)\n",
       "              (LayerNorm): LayerNorm((768,), eps=1e-12, elementwise_affine=True)\n",
       "              (dropout): Dropout(p=0.1, inplace=False)\n",
       "            )\n",
       "          )\n",
       "          (intermediate): BertIntermediate(\n",
       "            (dense): Linear(in_features=768, out_features=3072, bias=True)\n",
       "          )\n",
       "          (output): BertOutput(\n",
       "            (dense): Linear(in_features=3072, out_features=768, bias=True)\n",
       "            (LayerNorm): LayerNorm((768,), eps=1e-12, elementwise_affine=True)\n",
       "            (dropout): Dropout(p=0.1, inplace=False)\n",
       "          )\n",
       "        )\n",
       "        (9): BertLayer(\n",
       "          (attention): BertAttention(\n",
       "            (self): BertSelfAttention(\n",
       "              (query): Linear(in_features=768, out_features=768, bias=True)\n",
       "              (key): Linear(in_features=768, out_features=768, bias=True)\n",
       "              (value): Linear(in_features=768, out_features=768, bias=True)\n",
       "              (dropout): Dropout(p=0.1, inplace=False)\n",
       "            )\n",
       "            (output): BertSelfOutput(\n",
       "              (dense): Linear(in_features=768, out_features=768, bias=True)\n",
       "              (LayerNorm): LayerNorm((768,), eps=1e-12, elementwise_affine=True)\n",
       "              (dropout): Dropout(p=0.1, inplace=False)\n",
       "            )\n",
       "          )\n",
       "          (intermediate): BertIntermediate(\n",
       "            (dense): Linear(in_features=768, out_features=3072, bias=True)\n",
       "          )\n",
       "          (output): BertOutput(\n",
       "            (dense): Linear(in_features=3072, out_features=768, bias=True)\n",
       "            (LayerNorm): LayerNorm((768,), eps=1e-12, elementwise_affine=True)\n",
       "            (dropout): Dropout(p=0.1, inplace=False)\n",
       "          )\n",
       "        )\n",
       "        (10): BertLayer(\n",
       "          (attention): BertAttention(\n",
       "            (self): BertSelfAttention(\n",
       "              (query): Linear(in_features=768, out_features=768, bias=True)\n",
       "              (key): Linear(in_features=768, out_features=768, bias=True)\n",
       "              (value): Linear(in_features=768, out_features=768, bias=True)\n",
       "              (dropout): Dropout(p=0.1, inplace=False)\n",
       "            )\n",
       "            (output): BertSelfOutput(\n",
       "              (dense): Linear(in_features=768, out_features=768, bias=True)\n",
       "              (LayerNorm): LayerNorm((768,), eps=1e-12, elementwise_affine=True)\n",
       "              (dropout): Dropout(p=0.1, inplace=False)\n",
       "            )\n",
       "          )\n",
       "          (intermediate): BertIntermediate(\n",
       "            (dense): Linear(in_features=768, out_features=3072, bias=True)\n",
       "          )\n",
       "          (output): BertOutput(\n",
       "            (dense): Linear(in_features=3072, out_features=768, bias=True)\n",
       "            (LayerNorm): LayerNorm((768,), eps=1e-12, elementwise_affine=True)\n",
       "            (dropout): Dropout(p=0.1, inplace=False)\n",
       "          )\n",
       "        )\n",
       "        (11): BertLayer(\n",
       "          (attention): BertAttention(\n",
       "            (self): BertSelfAttention(\n",
       "              (query): Linear(in_features=768, out_features=768, bias=True)\n",
       "              (key): Linear(in_features=768, out_features=768, bias=True)\n",
       "              (value): Linear(in_features=768, out_features=768, bias=True)\n",
       "              (dropout): Dropout(p=0.1, inplace=False)\n",
       "            )\n",
       "            (output): BertSelfOutput(\n",
       "              (dense): Linear(in_features=768, out_features=768, bias=True)\n",
       "              (LayerNorm): LayerNorm((768,), eps=1e-12, elementwise_affine=True)\n",
       "              (dropout): Dropout(p=0.1, inplace=False)\n",
       "            )\n",
       "          )\n",
       "          (intermediate): BertIntermediate(\n",
       "            (dense): Linear(in_features=768, out_features=3072, bias=True)\n",
       "          )\n",
       "          (output): BertOutput(\n",
       "            (dense): Linear(in_features=3072, out_features=768, bias=True)\n",
       "            (LayerNorm): LayerNorm((768,), eps=1e-12, elementwise_affine=True)\n",
       "            (dropout): Dropout(p=0.1, inplace=False)\n",
       "          )\n",
       "        )\n",
       "      )\n",
       "    )\n",
       "    (pooler): BertPooler(\n",
       "      (dense): Linear(in_features=768, out_features=768, bias=True)\n",
       "      (activation): Tanh()\n",
       "    )\n",
       "  )\n",
       "  (dropout): Dropout(p=0.1, inplace=False)\n",
       "  (classifier): Linear(in_features=768, out_features=2, bias=True)\n",
       ")"
      ]
     },
     "execution_count": 23,
     "metadata": {},
     "output_type": "execute_result"
    }
   ],
   "source": [
    "model = BertForSequenceClassification.from_pretrained(\"bert-base-uncased\", num_labels=2)\n",
    "model.cuda()"
   ]
  },
  {
   "cell_type": "code",
   "execution_count": 24,
   "id": "90c4bef4",
   "metadata": {
    "execution": {
     "iopub.execute_input": "2022-04-21T07:19:46.399983Z",
     "iopub.status.busy": "2022-04-21T07:19:46.399061Z",
     "iopub.status.idle": "2022-04-21T07:19:46.400824Z",
     "shell.execute_reply": "2022-04-21T07:19:46.401290Z"
    },
    "id": "QxSMw0FrptiL",
    "papermill": {
     "duration": 0.134375,
     "end_time": "2022-04-21T07:19:46.401424",
     "exception": false,
     "start_time": "2022-04-21T07:19:46.267049",
     "status": "completed"
    },
    "tags": []
   },
   "outputs": [],
   "source": [
    "param_optimizer = list(model.named_parameters())\n",
    "no_decay = ['bias', 'gamma', 'beta']\n",
    "optimizer_grouped_parameters = [\n",
    "    {'params': [p for n, p in param_optimizer if not any(nd in n for nd in no_decay)],\n",
    "     'weight_decay_rate': 0.01},\n",
    "    {'params': [p for n, p in param_optimizer if any(nd in n for nd in no_decay)],\n",
    "     'weight_decay_rate': 0.0}\n",
    "]\n",
    "\n",
    "optimizer = AdamW(optimizer_grouped_parameters, lr=2e-5)\n",
    "\n"
   ]
  },
  {
   "cell_type": "code",
   "execution_count": 25,
   "id": "0361f3a5",
   "metadata": {
    "execution": {
     "iopub.execute_input": "2022-04-21T07:19:46.591209Z",
     "iopub.status.busy": "2022-04-21T07:19:46.590592Z",
     "iopub.status.idle": "2022-04-21T08:00:08.547323Z",
     "shell.execute_reply": "2022-04-21T08:00:08.548010Z"
    },
    "id": "6J-FYdx6nFE_",
    "outputId": "8e388ad1-f9db-4c7b-d080-6c0a0e964610",
    "papermill": {
     "duration": 2422.057766,
     "end_time": "2022-04-21T08:00:08.548242",
     "exception": false,
     "start_time": "2022-04-21T07:19:46.490476",
     "status": "completed"
    },
    "tags": []
   },
   "outputs": [
    {
     "data": {
      "image/png": "[encoded data removed]",
      "text/plain": [
       "<Figure size 432x288 with 1 Axes>"
      ]
     },
     "metadata": {
      "needs_background": "light"
     },
     "output_type": "display_data"
    },
    {
     "name": "stdout",
     "output_type": "stream",
     "text": [
      "Loss на обучающей выборке: 0.03790\n",
      "Процент правильных предсказаний на валидационной выборке: 98.09%\n"
     ]
    }
   ],
   "source": [
    "from IPython.display import clear_output\n",
    "\n",
    "# Будем сохранять loss во время обучения\n",
    "# и рисовать график в режиме реального времени\n",
    "train_loss_set = []\n",
    "train_loss = 0\n",
    "\n",
    "\n",
    "# Обучение\n",
    "# Переводим модель в training mode\n",
    "model.train()\n",
    "\n",
    "\n",
    "for step, batch in enumerate(train_dataloader):\n",
    "    # добавляем батч для вычисления на GPU\n",
    "    batch = tuple(t.to(device) for t in batch)\n",
    "    # Распаковываем данные из dataloader\n",
    "    b_input_ids, b_input_mask, b_labels = batch\n",
    "    \n",
    "    # если не сделать .zero_grad(), градиенты будут накапливаться\n",
    "    optimizer.zero_grad()\n",
    "    \n",
    "    # Forward pass\n",
    "    loss = model(b_input_ids, token_type_ids=None, attention_mask=b_input_mask, labels=b_labels)\n",
    "\n",
    "    train_loss_set.append(loss[0].item())  \n",
    "    \n",
    "    # Backward pass\n",
    "    loss[0].backward()\n",
    "    \n",
    "    # Обновляем параметры и делаем шаг используя посчитанные градиенты\n",
    "    optimizer.step()\n",
    "\n",
    "    # Обновляем loss\n",
    "    train_loss += loss[0].item()\n",
    "    \n",
    "    # Рисуем график\n",
    "    clear_output(True)\n",
    "    plt.plot(train_loss_set)\n",
    "    plt.title(\"Training loss\")\n",
    "    plt.xlabel(\"Batch\")\n",
    "    plt.ylabel(\"Loss\")\n",
    "    plt.show()\n",
    "    \n",
    "print(\"Loss на обучающей выборке: {0:.5f}\".format(train_loss / len(train_dataloader)))\n",
    "\n",
    "\n",
    "# Валидация\n",
    "# Переводим модель в evaluation mode\n",
    "model.eval()\n",
    "\n",
    "valid_preds, valid_labels = [], []\n",
    "\n",
    "for batch in validation_dataloader:   \n",
    "    # добавляем батч для вычисления на GPU\n",
    "    batch = tuple(t.to(device) for t in batch)\n",
    "    \n",
    "    # Распаковываем данные из dataloader\n",
    "    b_input_ids, b_input_mask, b_labels = batch\n",
    "    \n",
    "    # При использовании .no_grad() модель не будет считать и хранить градиенты.\n",
    "    # Это ускорит процесс предсказания меток для валидационных данных.\n",
    "    with torch.no_grad():\n",
    "        logits = model(b_input_ids, token_type_ids=None, attention_mask=b_input_mask)\n",
    "\n",
    "    # Перемещаем logits и метки классов на CPU для дальнейшей работы\n",
    "    logits = logits[0].detach().cpu().numpy()\n",
    "    label_ids = b_labels.to('cpu').numpy()\n",
    "    \n",
    "    batch_preds = np.argmax(logits, axis=1)\n",
    "    batch_labels = np.concatenate(label_ids)     \n",
    "    valid_preds.extend(batch_preds)\n",
    "    valid_labels.extend(batch_labels)\n",
    "\n",
    "print(\"Процент правильных предсказаний на валидационной выборке: {0:.2f}%\".format(\n",
    "    accuracy_score(valid_labels, valid_preds) * 100\n",
    "))"
   ]
  },
  {
   "cell_type": "code",
   "execution_count": 26,
   "id": "eafcd63a",
   "metadata": {
    "execution": {
     "iopub.execute_input": "2022-04-21T08:00:08.736562Z",
     "iopub.status.busy": "2022-04-21T08:00:08.735780Z",
     "iopub.status.idle": "2022-04-21T08:00:08.747591Z",
     "shell.execute_reply": "2022-04-21T08:00:08.746972Z"
    },
    "papermill": {
     "duration": 0.107187,
     "end_time": "2022-04-21T08:00:08.747758",
     "exception": false,
     "start_time": "2022-04-21T08:00:08.640571",
     "status": "completed"
    },
    "tags": []
   },
   "outputs": [
    {
     "name": "stdout",
     "output_type": "stream",
     "text": [
      "Процент правильных предсказаний на валидационной выборке: 98.09%\n"
     ]
    }
   ],
   "source": [
    "print(\"Процент правильных предсказаний на валидационной выборке: {0:.2f}%\".format(\n",
    "    accuracy_score(valid_labels, valid_preds) * 100\n",
    "))"
   ]
  },
  {
   "cell_type": "markdown",
   "id": "f9478f96",
   "metadata": {
    "id": "mkyubuJSOzg3",
    "papermill": {
     "duration": 0.0913,
     "end_time": "2022-04-21T08:00:08.931990",
     "exception": false,
     "start_time": "2022-04-21T08:00:08.840690",
     "status": "completed"
    },
    "tags": []
   },
   "source": [
    "# Оценка качества на отложенной выборке"
   ]
  },
  {
   "cell_type": "code",
   "execution_count": 27,
   "id": "d77f7fd9",
   "metadata": {
    "execution": {
     "iopub.execute_input": "2022-04-21T08:00:09.135122Z",
     "iopub.status.busy": "2022-04-21T08:00:09.134519Z",
     "iopub.status.idle": "2022-04-21T08:00:56.300524Z",
     "shell.execute_reply": "2022-04-21T08:00:56.299933Z"
    },
    "id": "mAN0LZBOOPVh",
    "papermill": {
     "duration": 47.276737,
     "end_time": "2022-04-21T08:00:56.300678",
     "exception": false,
     "start_time": "2022-04-21T08:00:09.023941",
     "status": "completed"
    },
    "tags": []
   },
   "outputs": [],
   "source": [
    "tokenized_texts = [tokenizer.tokenize(sent) for sent in test_sentences]\n",
    "input_ids = [tokenizer.convert_tokens_to_ids(x) for x in tokenized_texts]\n",
    "\n",
    "input_ids = pad_sequences(\n",
    "    input_ids,\n",
    "    maxlen=100,\n",
    "    dtype=\"long\",\n",
    "    truncating=\"post\",\n",
    "    padding=\"post\"\n",
    ")"
   ]
  },
  {
   "cell_type": "code",
   "execution_count": 28,
   "id": "2d13de2b",
   "metadata": {
    "execution": {
     "iopub.execute_input": "2022-04-21T08:00:56.562015Z",
     "iopub.status.busy": "2022-04-21T08:00:56.531394Z",
     "iopub.status.idle": "2022-04-21T08:01:02.240891Z",
     "shell.execute_reply": "2022-04-21T08:01:02.239959Z"
    },
    "papermill": {
     "duration": 5.847437,
     "end_time": "2022-04-21T08:01:02.241044",
     "exception": false,
     "start_time": "2022-04-21T08:00:56.393607",
     "status": "completed"
    },
    "tags": []
   },
   "outputs": [],
   "source": [
    "attention_masks = [[float(i>0) for i in seq] for seq in input_ids]\n",
    "\n",
    "prediction_inputs = torch.tensor(input_ids)\n",
    "prediction_masks = torch.tensor(attention_masks)\n",
    "prediction_labels = torch.tensor(test_gt)\n",
    "\n",
    "prediction_data = TensorDataset(\n",
    "    prediction_inputs,\n",
    "    prediction_masks,\n",
    "    prediction_labels\n",
    ")\n",
    "\n",
    "prediction_dataloader = DataLoader(\n",
    "    prediction_data, \n",
    "    sampler=SequentialSampler(prediction_data),\n",
    "    batch_size=32\n",
    ")"
   ]
  },
  {
   "cell_type": "code",
   "execution_count": 29,
   "id": "274b78c6",
   "metadata": {
    "execution": {
     "iopub.execute_input": "2022-04-21T08:01:02.434694Z",
     "iopub.status.busy": "2022-04-21T08:01:02.434118Z",
     "iopub.status.idle": "2022-04-21T08:04:47.749672Z",
     "shell.execute_reply": "2022-04-21T08:04:47.749109Z"
    },
    "id": "Hba10sXR7Xi6",
    "papermill": {
     "duration": 225.415132,
     "end_time": "2022-04-21T08:04:47.749822",
     "exception": false,
     "start_time": "2022-04-21T08:01:02.334690",
     "status": "completed"
    },
    "tags": []
   },
   "outputs": [],
   "source": [
    "model.eval()\n",
    "test_preds, test_labels = [], []\n",
    "\n",
    "for batch in prediction_dataloader:\n",
    "    # добавляем батч для вычисления на GPU\n",
    "    batch = tuple(t.to(device) for t in batch)\n",
    "    \n",
    "    # Распаковываем данные из dataloader\n",
    "    b_input_ids, b_input_mask, b_labels = batch\n",
    "    \n",
    "    # При использовании .no_grad() модель не будет считать и хранить градиенты.\n",
    "    # Это ускорит процесс предсказания меток для тестовых данных.\n",
    "    with torch.no_grad():\n",
    "        logits = model(b_input_ids, token_type_ids=None, attention_mask=b_input_mask)\n",
    "\n",
    "    # Перемещаем logits и метки классов на CPU для дальнейшей работы\n",
    "    logits = logits[0].detach().cpu().numpy()\n",
    "    label_ids = b_labels.to('cpu').numpy()\n",
    "\n",
    "    # Сохраняем предсказанные классы и ground truth\n",
    "    batch_preds = np.argmax(logits, axis=1)\n",
    "    batch_labels = np.concatenate(label_ids)  \n",
    "    test_preds.extend(batch_preds)\n",
    "    test_labels.extend(batch_labels)"
   ]
  },
  {
   "cell_type": "code",
   "execution_count": 30,
   "id": "5e7ee289",
   "metadata": {
    "execution": {
     "iopub.execute_input": "2022-04-21T08:04:47.945782Z",
     "iopub.status.busy": "2022-04-21T08:04:47.944980Z",
     "iopub.status.idle": "2022-04-21T08:04:47.968807Z",
     "shell.execute_reply": "2022-04-21T08:04:47.968378Z"
    },
    "papermill": {
     "duration": 0.126979,
     "end_time": "2022-04-21T08:04:47.968923",
     "exception": false,
     "start_time": "2022-04-21T08:04:47.841944",
     "status": "completed"
    },
    "tags": []
   },
   "outputs": [
    {
     "name": "stdout",
     "output_type": "stream",
     "text": [
      "Процент правильных предсказаний на отложенной выборке составил: 98.14%\n"
     ]
    }
   ],
   "source": [
    "acc_score = accuracy_score(test_labels, test_preds)\n",
    "print('Процент правильных предсказаний на отложенной выборке составил: {0:.2f}%'.format(\n",
    "    acc_score*100\n",
    "))"
   ]
  },
  {
   "cell_type": "code",
   "execution_count": 31,
   "id": "cffe2a15",
   "metadata": {
    "execution": {
     "iopub.execute_input": "2022-04-21T08:04:48.163021Z",
     "iopub.status.busy": "2022-04-21T08:04:48.162232Z",
     "iopub.status.idle": "2022-04-21T08:04:48.464953Z",
     "shell.execute_reply": "2022-04-21T08:04:48.464413Z"
    },
    "papermill": {
     "duration": 0.403397,
     "end_time": "2022-04-21T08:04:48.465239",
     "exception": true,
     "start_time": "2022-04-21T08:04:48.061842",
     "status": "failed"
    },
    "tags": []
   },
   "outputs": [
    {
     "ename": "TypeError",
     "evalue": "'bool' object is not iterable",
     "output_type": "error",
     "traceback": [
      "\u001b[0;31m---------------------------------------------------------------------------\u001b[0m",
      "\u001b[0;31mTypeError\u001b[0m                                 Traceback (most recent call last)",
      "\u001b[0;32m/tmp/ipykernel_23/24497934.py\u001b[0m in \u001b[0;36m<module>\u001b[0;34m\u001b[0m\n\u001b[1;32m      1\u001b[0m print('Неправильных предсказаний: {0}/{1}'.format(\n\u001b[0;32m----> 2\u001b[0;31m     \u001b[0msum\u001b[0m\u001b[0;34m(\u001b[0m\u001b[0mtest_labels\u001b[0m \u001b[0;34m!=\u001b[0m \u001b[0mtest_preds\u001b[0m\u001b[0;34m)\u001b[0m\u001b[0;34m,\u001b[0m\u001b[0;34m\u001b[0m\u001b[0;34m\u001b[0m\u001b[0m\n\u001b[0m\u001b[1;32m      3\u001b[0m     \u001b[0mlen\u001b[0m\u001b[0;34m(\u001b[0m\u001b[0mtest_labels\u001b[0m\u001b[0;34m)\u001b[0m\u001b[0;34m\u001b[0m\u001b[0;34m\u001b[0m\u001b[0m\n\u001b[1;32m      4\u001b[0m ))\n",
      "\u001b[0;31mTypeError\u001b[0m: 'bool' object is not iterable"
     ]
    }
   ],
   "source": [
    "print('Неправильных предсказаний: {0}/{1}'.format(\n",
    "    sum(test_labels != test_preds),\n",
    "    len(test_labels)\n",
    "))"
   ]
  },
  {
   "cell_type": "markdown",
   "id": "c09fbc1a",
   "metadata": {
    "papermill": {
     "duration": null,
     "end_time": null,
     "exception": null,
     "start_time": null,
     "status": "pending"
    },
    "tags": []
   },
   "source": [
    "### Домашнее задание"
   ]
  },
  {
   "cell_type": "markdown",
   "id": "855767ee",
   "metadata": {
    "papermill": {
     "duration": null,
     "end_time": null,
     "exception": null,
     "start_time": null,
     "status": "pending"
    },
    "tags": []
   },
   "source": [
    "Скачайте датасет с отзывами на фильмы. Например, используйте датасет [IMDB Dataset of 50K Movie Reviews](https://www.kaggle.com/lakshmi25npathi/imdb-dataset-of-50k-movie-reviews). "
   ]
  },
  {
   "cell_type": "raw",
   "id": "9b0e2e8c",
   "metadata": {
    "papermill": {
     "duration": null,
     "end_time": null,
     "exception": null,
     "start_time": null,
     "status": "pending"
    },
    "tags": []
   },
   "source": [
    "import pandas as pd\n",
    "\n",
    "dataset = pd.read_csv('datasets/bert_sentiment_analysis/homework/IMDB_Dataset.csv')"
   ]
  },
  {
   "cell_type": "raw",
   "id": "e4e35442",
   "metadata": {
    "papermill": {
     "duration": null,
     "end_time": null,
     "exception": null,
     "start_time": null,
     "status": "pending"
    },
    "tags": []
   },
   "source": [
    "dataset.head()"
   ]
  },
  {
   "cell_type": "code",
   "execution_count": null,
   "id": "97f1221e",
   "metadata": {
    "papermill": {
     "duration": null,
     "end_time": null,
     "exception": null,
     "start_time": null,
     "status": "pending"
    },
    "tags": []
   },
   "outputs": [],
   "source": []
  }
 ],
 "metadata": {
  "kernelspec": {
   "display_name": "Python 3",
   "language": "python",
   "name": "python3"
  },
  "language_info": {
   "codemirror_mode": {
    "name": "ipython",
    "version": 3
   },
   "file_extension": ".py",
   "mimetype": "text/x-python",
   "name": "python",
   "nbconvert_exporter": "python",
   "pygments_lexer": "ipython3",
   "version": "3.7.12"
  },
  "papermill": {
   "default_parameters": {},
   "duration": 2894.643458,
   "end_time": "2022-04-21T08:04:51.589711",
   "environment_variables": {},
   "exception": true,
   "input_path": "__notebook__.ipynb",
   "output_path": "__notebook__.ipynb",
   "parameters": {},
   "start_time": "2022-04-21T07:16:36.946253",
   "version": "2.3.3"
  }
 },
 "nbformat": 4,
 "nbformat_minor": 5
}
