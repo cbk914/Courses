{
 "cells": [
  {
   "cell_type": "code",
   "execution_count": 1,
   "id": "6c3fbd17",
   "metadata": {
    "execution": {
     "iopub.execute_input": "2022-04-26T13:00:38.171553Z",
     "iopub.status.busy": "2022-04-26T13:00:38.170820Z",
     "iopub.status.idle": "2022-04-26T13:00:38.180858Z",
     "shell.execute_reply": "2022-04-26T13:00:38.181447Z",
     "shell.execute_reply.started": "2022-04-26T12:50:51.424719Z"
    },
    "papermill": {
     "duration": 0.080166,
     "end_time": "2022-04-26T13:00:38.181722",
     "exception": false,
     "start_time": "2022-04-26T13:00:38.101556",
     "status": "completed"
    },
    "tags": []
   },
   "outputs": [
    {
     "name": "stdout",
     "output_type": "stream",
     "text": [
      "/kaggle/input/imdb-dataset-of-50k-movie-reviews/IMDB Dataset.csv\n"
     ]
    }
   ],
   "source": [
    "# This Python 3 environment comes with many helpful analytics libraries installed\n",
    "# It is defined by the kaggle/python Docker image: https://github.com/kaggle/docker-python\n",
    "# For example, here's several helpful packages to load\n",
    "\n",
    "import numpy as np # linear algebra\n",
    "import pandas as pd # data processing, CSV file I/O (e.g. pd.read_csv)\n",
    "\n",
    "# Input data files are available in the read-only \"../input/\" directory\n",
    "# For example, running this (by clicking run or pressing Shift+Enter) will list all files under the input directory\n",
    "\n",
    "import os\n",
    "for dirname, _, filenames in os.walk('/kaggle/input'):\n",
    "    for filename in filenames:\n",
    "        print(os.path.join(dirname, filename))\n",
    "\n",
    "# You can write up to 20GB to the current directory (/kaggle/working/) that gets preserved as output when you create a version using \"Save & Run All\" \n",
    "# You can also write temporary files to /kaggle/temp/, but they won't be saved outside of the current session"
   ]
  },
  {
   "cell_type": "raw",
   "id": "32045b74",
   "metadata": {
    "papermill": {
     "duration": 0.056728,
     "end_time": "2022-04-26T13:00:38.296850",
     "exception": false,
     "start_time": "2022-04-26T13:00:38.240122",
     "status": "completed"
    },
    "tags": []
   },
   "source": [
    "Исходное задание.\n",
    "\n",
    "В качестве домашнего задания мы предлагаем Вам попробовать дообучить BERT на более традиционном датасете - коллекции отзывов на фильмы (IMDB Dataset of 50K Movie Reviews).\n",
    "\n",
    "На первый взгляд, задание кажется очень простым: Вам нужно перезапустить код семинара, подав на дообучение другие данные. После выполнения этого несложного упражнения, ответьте на вопросы:\n",
    "1. Удалось ли достичь такого же accuracy (98\\%) при использовании IMDB датасета?\n",
    "2. Удалось ли получить хорошее качество классификации всего за одну эпоху?\n",
    "3. Подумайте, в чем может быть причина различий в дообучении одной и той же модели на разных датасетах\n",
    "    - Внимательно изучите датасет с русскими твитами. В чем его особенности? Нет ли явных паттернов или ключевых слов, которые однозначно определяют сентимент твита?\n",
    "    - Попробуйте удалить пунктуацию из датасета с русскими твитами и перезапустите дообучение модели. Изменилось ли итоговое качество работы модели? Почему?"
   ]
  },
  {
   "cell_type": "raw",
   "id": "3274dfbb",
   "metadata": {
    "papermill": {
     "duration": 0.056825,
     "end_time": "2022-04-26T13:00:38.411137",
     "exception": false,
     "start_time": "2022-04-26T13:00:38.354312",
     "status": "completed"
    },
    "tags": []
   },
   "source": [
    "Итоговое задание для меня:\n",
    "    + Запустить и сохранить через Save Version текущую версию ноутбука (с твитами), без использования импортов из dlnlputils\n",
    "    + Понять код семинара, где нужно добавить дополнительные комментарии\n",
    "        + разобраться с вопросами из комментариев, в особенности про саму выбранную модель берт, является ли они мультиязычной \n",
    "          или нет и т.п.\n",
    "    - Запустить BERT на более традиционном датасете - коллекции отзывов на фильмы (IMDB Dataset of 50K Movie Reviews)\n",
    "    - Ответить на вопросы:\n",
    "        - Удалось ли достичь такого же accuracy (98%) при использовании IMDB датасета?\n",
    "        - Удалось ли получить хорошее качество классификации всего за одну эпоху?\n",
    "        + Подумайте, в чем может быть причина различий в дообучении одной и той же модели на разных датасетах\n",
    "            + Внимательно изучите датасет с русскими твитами. В чем его особенности? Нет ли явных паттернов или ключевых слов, \n",
    "              которые однозначно определяют сентимент твита? = огромный процент (>90%) позитивных спайлов в позитивных твитах \n",
    "              и негативных в негативных \n",
    "            + Попробуйте удалить пунктуацию из датасета с русскими твитами и перезапустите дообучение модели. Изменилось ли \n",
    "              итоговое качество работы модели? Почему? = 74%, очень возможно потому что модель английская, имеет смысл \n",
    "              попробовать мультиязычную или русскоязычную модель (попробовал мультиязычную bert-base-multilingual-uncased,\n",
    "              результат улучшился = 78.31%)"
   ]
  },
  {
   "cell_type": "markdown",
   "id": "4899ef93",
   "metadata": {
    "id": "jNKaJz5j_ylj",
    "papermill": {
     "duration": 0.057074,
     "end_time": "2022-04-26T13:00:38.525658",
     "exception": false,
     "start_time": "2022-04-26T13:00:38.468584",
     "status": "completed"
    },
    "tags": []
   },
   "source": [
    "# Определение эмоциональной окраски твитов с помощью BERT"
   ]
  },
  {
   "cell_type": "code",
   "execution_count": 2,
   "id": "86fab7ae",
   "metadata": {
    "execution": {
     "iopub.execute_input": "2022-04-26T13:00:38.644887Z",
     "iopub.status.busy": "2022-04-26T13:00:38.643299Z",
     "iopub.status.idle": "2022-04-26T13:00:38.645483Z",
     "shell.execute_reply": "2022-04-26T13:00:38.645905Z",
     "shell.execute_reply.started": "2022-04-26T12:50:51.448580Z"
    },
    "papermill": {
     "duration": 0.063527,
     "end_time": "2022-04-26T13:00:38.646034",
     "exception": false,
     "start_time": "2022-04-26T13:00:38.582507",
     "status": "completed"
    },
    "tags": []
   },
   "outputs": [],
   "source": [
    "# Если Вы запускаете ноутбук на colab или kaggle,\n",
    "# выполните следующие строчки, чтобы подгрузить библиотеку dlnlputils:\n",
    "\n",
    "# !git clone https://github.com/Samsung-IT-Academy/stepik-dl-nlp.git && pip install -r stepik-dl-nlp/requirements.txt\n",
    "# import sys; sys.path.append('./stepik-dl-nlp')"
   ]
  },
  {
   "cell_type": "markdown",
   "id": "475fe60c",
   "metadata": {
    "id": "RX_ZDhicpHkV",
    "papermill": {
     "duration": 0.056573,
     "end_time": "2022-04-26T13:00:38.759826",
     "exception": false,
     "start_time": "2022-04-26T13:00:38.703253",
     "status": "completed"
    },
    "tags": []
   },
   "source": [
    "## Установка библиотек"
   ]
  },
  {
   "cell_type": "code",
   "execution_count": 3,
   "id": "f83d6d3b",
   "metadata": {
    "execution": {
     "iopub.execute_input": "2022-04-26T13:00:38.878570Z",
     "iopub.status.busy": "2022-04-26T13:00:38.877815Z",
     "iopub.status.idle": "2022-04-26T13:00:49.575461Z",
     "shell.execute_reply": "2022-04-26T13:00:49.574954Z",
     "shell.execute_reply.started": "2022-04-26T12:50:51.454598Z"
    },
    "id": "0NmMdkZO8R6q",
    "outputId": "1cc59bfa-1dbb-4540-cb22-196f399f62af",
    "papermill": {
     "duration": 10.758974,
     "end_time": "2022-04-26T13:00:49.575603",
     "exception": false,
     "start_time": "2022-04-26T13:00:38.816629",
     "status": "completed"
    },
    "tags": []
   },
   "outputs": [
    {
     "name": "stdout",
     "output_type": "stream",
     "text": [
      "Collecting pytorch-transformers\r\n",
      "  Downloading pytorch_transformers-1.2.0-py3-none-any.whl (176 kB)\r\n",
      "     |████████████████████████████████| 176 kB 287 kB/s            \r\n",
      "\u001b[?25hRequirement already satisfied: requests in /opt/conda/lib/python3.7/site-packages (from pytorch-transformers) (2.26.0)\r\n",
      "Requirement already satisfied: boto3 in /opt/conda/lib/python3.7/site-packages (from pytorch-transformers) (1.21.20)\r\n",
      "Requirement already satisfied: sacremoses in /opt/conda/lib/python3.7/site-packages (from pytorch-transformers) (0.0.49)\r\n",
      "Requirement already satisfied: regex in /opt/conda/lib/python3.7/site-packages (from pytorch-transformers) (2021.11.10)\r\n",
      "Requirement already satisfied: sentencepiece in /opt/conda/lib/python3.7/site-packages (from pytorch-transformers) (0.1.96)\r\n",
      "Requirement already satisfied: tqdm in /opt/conda/lib/python3.7/site-packages (from pytorch-transformers) (4.62.3)\r\n",
      "Requirement already satisfied: numpy in /opt/conda/lib/python3.7/site-packages (from pytorch-transformers) (1.20.3)\r\n",
      "Requirement already satisfied: torch>=1.0.0 in /opt/conda/lib/python3.7/site-packages (from pytorch-transformers) (1.9.1)\r\n",
      "Requirement already satisfied: typing-extensions in /opt/conda/lib/python3.7/site-packages (from torch>=1.0.0->pytorch-transformers) (4.1.1)\r\n",
      "Requirement already satisfied: s3transfer<0.6.0,>=0.5.0 in /opt/conda/lib/python3.7/site-packages (from boto3->pytorch-transformers) (0.5.2)\r\n",
      "Requirement already satisfied: botocore<1.25.0,>=1.24.20 in /opt/conda/lib/python3.7/site-packages (from boto3->pytorch-transformers) (1.24.20)\r\n",
      "Requirement already satisfied: jmespath<1.0.0,>=0.7.1 in /opt/conda/lib/python3.7/site-packages (from boto3->pytorch-transformers) (0.10.0)\r\n",
      "Requirement already satisfied: urllib3<1.27,>=1.21.1 in /opt/conda/lib/python3.7/site-packages (from requests->pytorch-transformers) (1.26.7)\r\n",
      "Requirement already satisfied: idna<4,>=2.5 in /opt/conda/lib/python3.7/site-packages (from requests->pytorch-transformers) (3.1)\r\n",
      "Requirement already satisfied: certifi>=2017.4.17 in /opt/conda/lib/python3.7/site-packages (from requests->pytorch-transformers) (2021.10.8)\r\n",
      "Requirement already satisfied: charset-normalizer~=2.0.0 in /opt/conda/lib/python3.7/site-packages (from requests->pytorch-transformers) (2.0.9)\r\n",
      "Requirement already satisfied: joblib in /opt/conda/lib/python3.7/site-packages (from sacremoses->pytorch-transformers) (1.1.0)\r\n",
      "Requirement already satisfied: click in /opt/conda/lib/python3.7/site-packages (from sacremoses->pytorch-transformers) (8.0.3)\r\n",
      "Requirement already satisfied: six in /opt/conda/lib/python3.7/site-packages (from sacremoses->pytorch-transformers) (1.16.0)\r\n",
      "Requirement already satisfied: python-dateutil<3.0.0,>=2.1 in /opt/conda/lib/python3.7/site-packages (from botocore<1.25.0,>=1.24.20->boto3->pytorch-transformers) (2.8.2)\r\n",
      "Requirement already satisfied: importlib-metadata in /opt/conda/lib/python3.7/site-packages (from click->sacremoses->pytorch-transformers) (4.11.3)\r\n",
      "Requirement already satisfied: zipp>=0.5 in /opt/conda/lib/python3.7/site-packages (from importlib-metadata->click->sacremoses->pytorch-transformers) (3.6.0)\r\n",
      "Installing collected packages: pytorch-transformers\r\n",
      "Successfully installed pytorch-transformers-1.2.0\r\n",
      "\u001b[33mWARNING: Running pip as the 'root' user can result in broken permissions and conflicting behaviour with the system package manager. It is recommended to use a virtual environment instead: https://pip.pypa.io/warnings/venv\u001b[0m\r\n"
     ]
    }
   ],
   "source": [
    "!pip install pytorch-transformers"
   ]
  },
  {
   "cell_type": "code",
   "execution_count": 4,
   "id": "ffef98cc",
   "metadata": {
    "execution": {
     "iopub.execute_input": "2022-04-26T13:00:49.704196Z",
     "iopub.status.busy": "2022-04-26T13:00:49.703358Z",
     "iopub.status.idle": "2022-04-26T13:00:56.325535Z",
     "shell.execute_reply": "2022-04-26T13:00:56.325009Z",
     "shell.execute_reply.started": "2022-04-26T12:50:58.893577Z"
    },
    "id": "Ok002ceNB8E7",
    "outputId": "06ef90d2-7518-4209-da66-1dd45c357c78",
    "papermill": {
     "duration": 6.689223,
     "end_time": "2022-04-26T13:00:56.325682",
     "exception": false,
     "start_time": "2022-04-26T13:00:49.636459",
     "status": "completed"
    },
    "tags": []
   },
   "outputs": [],
   "source": [
    "import torch\n",
    "from torch.utils.data import TensorDataset, DataLoader, RandomSampler, SequentialSampler\n",
    "from keras.preprocessing.sequence import pad_sequences\n",
    "from sklearn.model_selection import train_test_split\n",
    "from pytorch_transformers import BertTokenizer, BertConfig\n",
    "from pytorch_transformers import AdamW, BertForSequenceClassification\n",
    "from tqdm import tqdm, trange\n",
    "import pandas as pd\n",
    "import io\n",
    "import numpy as np\n",
    "from sklearn.metrics import accuracy_score\n",
    "import matplotlib.pyplot as plt"
   ]
  },
  {
   "cell_type": "code",
   "execution_count": 5,
   "id": "baa2e07e",
   "metadata": {
    "execution": {
     "iopub.execute_input": "2022-04-26T13:00:56.526109Z",
     "iopub.status.busy": "2022-04-26T13:00:56.521921Z",
     "iopub.status.idle": "2022-04-26T13:00:56.529847Z",
     "shell.execute_reply": "2022-04-26T13:00:56.530224Z",
     "shell.execute_reply.started": "2022-04-26T12:51:01.350023Z"
    },
    "id": "oYsV4H8fCpZ-",
    "outputId": "b8812c8e-3149-475f-b4c0-262160485c39",
    "papermill": {
     "duration": 0.134338,
     "end_time": "2022-04-26T13:00:56.530371",
     "exception": false,
     "start_time": "2022-04-26T13:00:56.396033",
     "status": "completed"
    },
    "tags": []
   },
   "outputs": [
    {
     "name": "stdout",
     "output_type": "stream",
     "text": [
      "Tesla P100-PCIE-16GB\n"
     ]
    }
   ],
   "source": [
    "device = torch.device(\"cuda\" if torch.cuda.is_available() else \"cpu\")\n",
    "if device.type == 'cpu':\n",
    "    print('cpu')\n",
    "else:\n",
    "    n_gpu = torch.cuda.device_count()\n",
    "    print(torch.cuda.get_device_name(0))"
   ]
  },
  {
   "cell_type": "markdown",
   "id": "a8e97ebf",
   "metadata": {
    "id": "guw6ZNtaswKc",
    "papermill": {
     "duration": 0.06055,
     "end_time": "2022-04-26T13:00:56.652599",
     "exception": false,
     "start_time": "2022-04-26T13:00:56.592049",
     "status": "completed"
    },
    "tags": []
   },
   "source": [
    "## Загрузка данных\n"
   ]
  },
  {
   "cell_type": "markdown",
   "id": "3a97c467",
   "metadata": {
    "papermill": {
     "duration": 0.060478,
     "end_time": "2022-04-26T13:00:56.773850",
     "exception": false,
     "start_time": "2022-04-26T13:00:56.713372",
     "status": "completed"
    },
    "tags": []
   },
   "source": [
    "Мы выбрали необычный датасет с разметкой сентимента русскоязычных твитов (подробнее про него в [статье](http://www.swsys.ru/index.php?page=article&id=3962&lang=)). В корпусе, который мы использовали 114,911 положительных и 111,923 отрицательных записей. Загрузить его можно [тут](https://study.mokoron.com/)."
   ]
  },
  {
   "cell_type": "raw",
   "id": "186efbc8",
   "metadata": {
    "execution": {
     "iopub.execute_input": "2022-04-26T08:16:46.245927Z",
     "iopub.status.busy": "2022-04-26T08:16:46.245727Z",
     "iopub.status.idle": "2022-04-26T08:16:52.742897Z",
     "shell.execute_reply": "2022-04-26T08:16:52.741905Z",
     "shell.execute_reply.started": "2022-04-26T08:16:46.245903Z"
    },
    "papermill": {
     "duration": 0.060859,
     "end_time": "2022-04-26T13:00:56.897041",
     "exception": false,
     "start_time": "2022-04-26T13:00:56.836182",
     "status": "completed"
    },
    "tags": []
   },
   "source": [
    "import pandas as pd\n",
    "\n",
    "!mkdir ./stepik-dl-nlp/\n",
    "!mkdir ./stepik-dl-nlp/datasets/\n",
    "!mkdir ./stepik-dl-nlp/datasets/bert_sentiment_analysis/\n",
    "\n",
    "!curl \"https://raw.githubusercontent.com/Samsung-IT-Academy/stepik-dl-nlp/master/datasets/bert_sentiment_analysis/positive.csv\" \\\n",
    "    -o ./stepik-dl-nlp/datasets/bert_sentiment_analysis/positive.csv\n",
    "!curl \"https://raw.githubusercontent.com/Samsung-IT-Academy/stepik-dl-nlp/master/datasets/bert_sentiment_analysis/negative.csv\" \\\n",
    "    -o ./stepik-dl-nlp/datasets/bert_sentiment_analysis/negative.csv\n",
    "\n",
    "# Если Вы запускаете ноутбук на colab или kaggle, добавьте в начало пути ./stepik-dl-nlp\n",
    "pos_texts = pd.read_csv('./stepik-dl-nlp/datasets/bert_sentiment_analysis/positive.csv', encoding='utf8', sep=';', header=None)\n",
    "neg_texts = pd.read_csv('./stepik-dl-nlp/datasets/bert_sentiment_analysis/negative.csv', encoding='utf8', sep=';', header=None)"
   ]
  },
  {
   "cell_type": "raw",
   "id": "64f50edf",
   "metadata": {
    "execution": {
     "iopub.execute_input": "2022-04-26T08:16:52.744841Z",
     "iopub.status.busy": "2022-04-26T08:16:52.744604Z",
     "iopub.status.idle": "2022-04-26T08:16:52.749897Z",
     "shell.execute_reply": "2022-04-26T08:16:52.748453Z",
     "shell.execute_reply.started": "2022-04-26T08:16:52.744813Z"
    },
    "papermill": {
     "duration": 0.061018,
     "end_time": "2022-04-26T13:00:57.018884",
     "exception": false,
     "start_time": "2022-04-26T13:00:56.957866",
     "status": "completed"
    },
    "tags": []
   },
   "source": [
    "# #Попробуйте удалить пунктуацию из датасета с русскими твитами и перезапустите дообучение модели. Изменилось ли итоговое качество работы модели? Почему?\n",
    "# import re\n",
    "# pos_texts[3] = pd.Series([re.sub(r':D|D:|[^\\w\\s]', '', line) for line in list(pos_texts[3])])\n",
    "# neg_texts[3] = pd.Series([re.sub(r':D|D:|[^\\w\\s]', '', line) for line in list(neg_texts[3])])"
   ]
  },
  {
   "cell_type": "raw",
   "id": "6d88f489",
   "metadata": {
    "execution": {
     "iopub.execute_input": "2022-04-26T08:16:52.751686Z",
     "iopub.status.busy": "2022-04-26T08:16:52.751457Z",
     "iopub.status.idle": "2022-04-26T08:16:52.784049Z",
     "shell.execute_reply": "2022-04-26T08:16:52.783187Z",
     "shell.execute_reply.started": "2022-04-26T08:16:52.751661Z"
    },
    "papermill": {
     "duration": 0.060351,
     "end_time": "2022-04-26T13:00:57.140935",
     "exception": false,
     "start_time": "2022-04-26T13:00:57.080584",
     "status": "completed"
    },
    "tags": []
   },
   "source": [
    "pos_texts.sample(5)"
   ]
  },
  {
   "cell_type": "raw",
   "id": "be320223",
   "metadata": {
    "execution": {
     "iopub.execute_input": "2022-04-26T08:16:52.786906Z",
     "iopub.status.busy": "2022-04-26T08:16:52.786119Z",
     "iopub.status.idle": "2022-04-26T08:16:53.391114Z",
     "shell.execute_reply": "2022-04-26T08:16:53.390312Z",
     "shell.execute_reply.started": "2022-04-26T08:16:52.786855Z"
    },
    "papermill": {
     "duration": 0.060326,
     "end_time": "2022-04-26T13:00:57.261995",
     "exception": false,
     "start_time": "2022-04-26T13:00:57.201669",
     "status": "completed"
    },
    "tags": []
   },
   "source": [
    "sentences = np.concatenate([pos_texts[3].values, neg_texts[3].values])\n",
    "\n",
    "sentences = [\"[CLS] \" + sentence + \" [SEP]\" for sentence in sentences]\n",
    "labels = [[1] for _ in range(pos_texts.shape[0])] + [[0] for _ in range(neg_texts.shape[0])]"
   ]
  },
  {
   "cell_type": "raw",
   "id": "86909b19",
   "metadata": {
    "execution": {
     "iopub.execute_input": "2022-04-26T08:16:53.393226Z",
     "iopub.status.busy": "2022-04-26T08:16:53.392318Z",
     "iopub.status.idle": "2022-04-26T08:16:53.396852Z",
     "shell.execute_reply": "2022-04-26T08:16:53.396296Z",
     "shell.execute_reply.started": "2022-04-26T08:16:53.393190Z"
    },
    "papermill": {
     "duration": 0.064574,
     "end_time": "2022-04-26T13:00:57.391109",
     "exception": false,
     "start_time": "2022-04-26T13:00:57.326535",
     "status": "completed"
    },
    "tags": []
   },
   "source": [
    "assert len(sentences) == len(labels) == pos_texts.shape[0] + neg_texts.shape[0]"
   ]
  },
  {
   "cell_type": "raw",
   "id": "619b863f",
   "metadata": {
    "execution": {
     "iopub.execute_input": "2022-04-26T08:16:53.397868Z",
     "iopub.status.busy": "2022-04-26T08:16:53.397654Z",
     "iopub.status.idle": "2022-04-26T08:16:53.431802Z",
     "shell.execute_reply": "2022-04-26T08:16:53.430799Z",
     "shell.execute_reply.started": "2022-04-26T08:16:53.397843Z"
    },
    "papermill": {
     "duration": 0.060441,
     "end_time": "2022-04-26T13:00:57.513484",
     "exception": false,
     "start_time": "2022-04-26T13:00:57.453043",
     "status": "completed"
    },
    "tags": []
   },
   "source": [
    "print(sentences[1000])"
   ]
  },
  {
   "cell_type": "raw",
   "id": "001529b0",
   "metadata": {
    "execution": {
     "iopub.execute_input": "2022-04-26T08:16:53.434912Z",
     "iopub.status.busy": "2022-04-26T08:16:53.434590Z",
     "iopub.status.idle": "2022-04-26T08:16:53.579032Z",
     "shell.execute_reply": "2022-04-26T08:16:53.578151Z",
     "shell.execute_reply.started": "2022-04-26T08:16:53.434872Z"
    },
    "papermill": {
     "duration": 0.06051,
     "end_time": "2022-04-26T13:00:57.635846",
     "exception": false,
     "start_time": "2022-04-26T13:00:57.575336",
     "status": "completed"
    },
    "tags": []
   },
   "source": [
    "from sklearn.model_selection import train_test_split\n",
    "\n",
    "train_sentences, test_sentences, train_gt, test_gt = train_test_split(sentences, labels, test_size=0.3)"
   ]
  },
  {
   "cell_type": "raw",
   "id": "0afb8bd7",
   "metadata": {
    "execution": {
     "iopub.execute_input": "2022-04-22T16:37:28.074114Z",
     "iopub.status.busy": "2022-04-22T16:37:28.073859Z",
     "iopub.status.idle": "2022-04-22T16:37:28.080391Z",
     "shell.execute_reply": "2022-04-22T16:37:28.079179Z",
     "shell.execute_reply.started": "2022-04-22T16:37:28.074085Z"
    },
    "papermill": {
     "duration": 0.060531,
     "end_time": "2022-04-26T13:00:57.757120",
     "exception": false,
     "start_time": "2022-04-26T13:00:57.696589",
     "status": "completed"
    },
    "tags": []
   },
   "source": [
    "print(len(train_gt), len(test_gt))"
   ]
  },
  {
   "cell_type": "markdown",
   "id": "6b4d0954",
   "metadata": {
    "id": "ex5O1eV-Pfct",
    "papermill": {
     "duration": 0.060883,
     "end_time": "2022-04-26T13:00:57.878819",
     "exception": false,
     "start_time": "2022-04-26T13:00:57.817936",
     "status": "completed"
    },
    "tags": []
   },
   "source": [
    "## Inputs"
   ]
  },
  {
   "cell_type": "raw",
   "id": "563f18bd",
   "metadata": {
    "execution": {
     "iopub.execute_input": "2022-04-22T16:37:28.082199Z",
     "iopub.status.busy": "2022-04-22T16:37:28.08195Z",
     "iopub.status.idle": "2022-04-22T16:39:06.497088Z",
     "shell.execute_reply": "2022-04-22T16:39:06.495796Z",
     "shell.execute_reply.started": "2022-04-22T16:37:28.08217Z"
    },
    "id": "Z474sSC6oe7A",
    "outputId": "fbaa8fd8-bccd-4feb-ce52-beba5d293cfa",
    "papermill": {
     "duration": 0.060767,
     "end_time": "2022-04-26T13:00:58.000378",
     "exception": false,
     "start_time": "2022-04-26T13:00:57.939611",
     "status": "completed"
    },
    "tags": []
   },
   "source": [
    "from pytorch_transformers import BertTokenizer, BertConfig\n",
    "\n",
    "# Подробное описание модели https://huggingface.co/bert-base-uncased\n",
    "# Pretrained model on English language using a masked language modeling (MLM) \n",
    "# objective. It was introduced in this paper and first released in this repository. \n",
    "# This model is uncased: it does not make a difference between english and English.\n",
    "# Особое внимание на то, что модель обучена только на английском, и для данной \n",
    "# задачи имело бы смысл применять русскоязычную модель, т.е. текущая скорей всего \n",
    "# показывает хорошие результаты только за счет высокой роли смайлов в сообщении\n",
    "tokenizer = BertTokenizer.from_pretrained('bert-base-uncased', do_lower_case=True)\n",
    "#tokenizer = BertTokenizer.from_pretrained('bert-base-multilingual-uncased', do_lower_case=True)\n",
    "\n",
    "tokenized_texts = [tokenizer.tokenize(sent) for sent in train_sentences]\n",
    "print(train_sentences[0])\n",
    "print(tokenized_texts[0])"
   ]
  },
  {
   "cell_type": "raw",
   "id": "a8ea6a07",
   "metadata": {
    "id": "87_kXUeT2-br",
    "papermill": {
     "duration": 0.069065,
     "end_time": "2022-04-26T13:00:58.132079",
     "exception": false,
     "start_time": "2022-04-26T13:00:58.063014",
     "status": "completed"
    },
    "tags": []
   },
   "source": [
    "BERTу нужно предоставить специальный формат входных данных.\n",
    "\n",
    "\n",
    "- **input ids**: последовательность чисел, отождествляющих каждый токен с его номером в словаре.\n",
    "- **labels**: вектор из нулей и единиц. В нашем случае нули обозначают негативную эмоциональную окраску, единицы - положительную.\n",
    "- **segment mask**: (необязательно) последовательность нулей и единиц, которая показывает, состоит ли входной текст из одного или двух предложений. Для случая одного предложения получится вектор из одних нулей. Для двух: <length_of_sent_1> нулей и <length_of_sent_2> единиц.\n",
    "- **attention mask**: (необязательно) последовательность нулей и единиц, где единицы обозначают токены предложения, нули - паддинг."
   ]
  },
  {
   "cell_type": "raw",
   "id": "0faa5497",
   "metadata": {
    "execution": {
     "iopub.execute_input": "2022-04-22T16:39:06.498652Z",
     "iopub.status.busy": "2022-04-22T16:39:06.498413Z",
     "iopub.status.idle": "2022-04-22T16:39:28.237168Z",
     "shell.execute_reply": "2022-04-22T16:39:28.235968Z",
     "shell.execute_reply.started": "2022-04-22T16:39:06.498606Z"
    },
    "id": "Cp9BPRd1tMIo",
    "papermill": {
     "duration": 0.069167,
     "end_time": "2022-04-26T13:00:58.270355",
     "exception": false,
     "start_time": "2022-04-26T13:00:58.201188",
     "status": "completed"
    },
    "tags": []
   },
   "source": [
    "MAX_LEN = 100\n",
    "\n",
    "input_ids = [tokenizer.convert_tokens_to_ids(x) for x in tokenized_texts]\n",
    "input_ids = pad_sequences(\n",
    "    input_ids,\n",
    "    maxlen=MAX_LEN,\n",
    "    dtype=\"long\",\n",
    "    truncating=\"post\",\n",
    "    padding=\"post\"\n",
    ")\n",
    "attention_masks = [[float(i>0) for i in seq] for seq in input_ids]"
   ]
  },
  {
   "cell_type": "raw",
   "id": "3ed0a756",
   "metadata": {
    "execution": {
     "iopub.execute_input": "2022-04-22T16:39:28.239372Z",
     "iopub.status.busy": "2022-04-22T16:39:28.2391Z",
     "iopub.status.idle": "2022-04-22T16:39:28.616826Z",
     "shell.execute_reply": "2022-04-22T16:39:28.61585Z",
     "shell.execute_reply.started": "2022-04-22T16:39:28.239336Z"
    },
    "id": "aFbE-UHvsb7-",
    "papermill": {
     "duration": 0.065519,
     "end_time": "2022-04-26T13:00:58.404114",
     "exception": false,
     "start_time": "2022-04-26T13:00:58.338595",
     "status": "completed"
    },
    "tags": []
   },
   "source": [
    "train_inputs, validation_inputs, train_labels, validation_labels = train_test_split(\n",
    "    input_ids, train_gt, \n",
    "    random_state=42,\n",
    "    test_size=0.1\n",
    ")\n",
    "\n",
    "train_masks, validation_masks, _, _ = train_test_split(\n",
    "    attention_masks,\n",
    "    input_ids,\n",
    "    random_state=42,\n",
    "    test_size=0.1\n",
    ")"
   ]
  },
  {
   "cell_type": "raw",
   "id": "baae9728",
   "metadata": {
    "execution": {
     "iopub.execute_input": "2022-04-22T16:39:28.618462Z",
     "iopub.status.busy": "2022-04-22T16:39:28.618221Z",
     "iopub.status.idle": "2022-04-22T16:39:30.379625Z",
     "shell.execute_reply": "2022-04-22T16:39:30.378508Z",
     "shell.execute_reply.started": "2022-04-22T16:39:28.618433Z"
    },
    "id": "jw5K2A5Ko1RF",
    "papermill": {
     "duration": 0.062218,
     "end_time": "2022-04-26T13:00:58.527855",
     "exception": false,
     "start_time": "2022-04-26T13:00:58.465637",
     "status": "completed"
    },
    "tags": []
   },
   "source": [
    "train_inputs = torch.tensor(train_inputs)\n",
    "train_labels = torch.tensor(train_labels)\n",
    "train_masks = torch.tensor(train_masks)"
   ]
  },
  {
   "cell_type": "raw",
   "id": "bf909471",
   "metadata": {
    "execution": {
     "iopub.execute_input": "2022-04-22T16:39:30.381302Z",
     "iopub.status.busy": "2022-04-22T16:39:30.38101Z",
     "iopub.status.idle": "2022-04-22T16:39:30.585352Z",
     "shell.execute_reply": "2022-04-22T16:39:30.584187Z",
     "shell.execute_reply.started": "2022-04-22T16:39:30.38127Z"
    },
    "papermill": {
     "duration": 0.060593,
     "end_time": "2022-04-26T13:00:58.650868",
     "exception": false,
     "start_time": "2022-04-26T13:00:58.590275",
     "status": "completed"
    },
    "tags": []
   },
   "source": [
    "validation_inputs = torch.tensor(validation_inputs)\n",
    "validation_labels = torch.tensor(validation_labels)\n",
    "validation_masks = torch.tensor(validation_masks)"
   ]
  },
  {
   "cell_type": "raw",
   "id": "c41fb933",
   "metadata": {
    "execution": {
     "iopub.execute_input": "2022-04-22T16:39:30.587142Z",
     "iopub.status.busy": "2022-04-22T16:39:30.586909Z",
     "iopub.status.idle": "2022-04-22T16:39:30.621544Z",
     "shell.execute_reply": "2022-04-22T16:39:30.620706Z",
     "shell.execute_reply.started": "2022-04-22T16:39:30.587113Z"
    },
    "papermill": {
     "duration": 0.060267,
     "end_time": "2022-04-26T13:00:58.771969",
     "exception": false,
     "start_time": "2022-04-26T13:00:58.711702",
     "status": "completed"
    },
    "tags": []
   },
   "source": [
    "train_labels"
   ]
  },
  {
   "cell_type": "raw",
   "id": "c1c14148",
   "metadata": {
    "execution": {
     "iopub.execute_input": "2022-04-22T16:39:30.623829Z",
     "iopub.status.busy": "2022-04-22T16:39:30.62326Z",
     "iopub.status.idle": "2022-04-22T16:39:30.629682Z",
     "shell.execute_reply": "2022-04-22T16:39:30.629033Z",
     "shell.execute_reply.started": "2022-04-22T16:39:30.623784Z"
    },
    "id": "GEgLpFVlo1Z-",
    "papermill": {
     "duration": 0.06122,
     "end_time": "2022-04-26T13:00:58.894082",
     "exception": false,
     "start_time": "2022-04-26T13:00:58.832862",
     "status": "completed"
    },
    "tags": []
   },
   "source": [
    "train_data = TensorDataset(train_inputs, train_masks, train_labels)\n",
    "train_dataloader = DataLoader(\n",
    "    train_data,\n",
    "    sampler=RandomSampler(train_data),\n",
    "    batch_size=32\n",
    ")"
   ]
  },
  {
   "cell_type": "raw",
   "id": "66e7e946",
   "metadata": {
    "execution": {
     "iopub.execute_input": "2022-04-22T16:39:30.631871Z",
     "iopub.status.busy": "2022-04-22T16:39:30.631127Z",
     "iopub.status.idle": "2022-04-22T16:39:30.642258Z",
     "shell.execute_reply": "2022-04-22T16:39:30.641659Z",
     "shell.execute_reply.started": "2022-04-22T16:39:30.631826Z"
    },
    "papermill": {
     "duration": 0.06111,
     "end_time": "2022-04-26T13:00:59.016111",
     "exception": false,
     "start_time": "2022-04-26T13:00:58.955001",
     "status": "completed"
    },
    "tags": []
   },
   "source": [
    "validation_data = TensorDataset(validation_inputs, validation_masks, validation_labels)\n",
    "validation_dataloader = DataLoader(\n",
    "    validation_data,\n",
    "    sampler=SequentialSampler(validation_data),\n",
    "    batch_size=32\n",
    ")"
   ]
  },
  {
   "cell_type": "markdown",
   "id": "26ef1a86",
   "metadata": {
    "id": "pNl8khAhPYju",
    "papermill": {
     "duration": 0.060364,
     "end_time": "2022-04-26T13:00:59.138074",
     "exception": false,
     "start_time": "2022-04-26T13:00:59.077710",
     "status": "completed"
    },
    "tags": []
   },
   "source": [
    "## Обучение модели"
   ]
  },
  {
   "cell_type": "markdown",
   "id": "5e6de73c",
   "metadata": {
    "papermill": {
     "duration": 0.060447,
     "end_time": "2022-04-26T13:00:59.259166",
     "exception": false,
     "start_time": "2022-04-26T13:00:59.198719",
     "status": "completed"
    },
    "tags": []
   },
   "source": [
    "Загружаем [BertForSequenceClassification](https://github.com/huggingface/pytorch-pretrained-BERT/blob/master/pytorch_pretrained_bert/modeling.py#L1129):"
   ]
  },
  {
   "cell_type": "raw",
   "id": "ce6956b6",
   "metadata": {
    "execution": {
     "iopub.execute_input": "2022-04-22T16:39:30.644396Z",
     "iopub.status.busy": "2022-04-22T16:39:30.643862Z",
     "iopub.status.idle": "2022-04-22T16:39:30.653883Z",
     "shell.execute_reply": "2022-04-22T16:39:30.653155Z",
     "shell.execute_reply.started": "2022-04-22T16:39:30.644355Z"
    },
    "papermill": {
     "duration": 0.060613,
     "end_time": "2022-04-26T13:00:59.389206",
     "exception": false,
     "start_time": "2022-04-26T13:00:59.328593",
     "status": "completed"
    },
    "tags": []
   },
   "source": [
    "from pytorch_transformers import AdamW, BertForSequenceClassification"
   ]
  },
  {
   "cell_type": "markdown",
   "id": "7ba54334",
   "metadata": {
    "papermill": {
     "duration": 0.060895,
     "end_time": "2022-04-26T13:00:59.511363",
     "exception": false,
     "start_time": "2022-04-26T13:00:59.450468",
     "status": "completed"
    },
    "tags": []
   },
   "source": [
    "Аналогичные модели есть и для других задач:"
   ]
  },
  {
   "cell_type": "raw",
   "id": "de45f2fa",
   "metadata": {
    "execution": {
     "iopub.execute_input": "2022-04-22T16:39:30.656849Z",
     "iopub.status.busy": "2022-04-22T16:39:30.6551Z",
     "iopub.status.idle": "2022-04-22T16:39:30.667601Z",
     "shell.execute_reply": "2022-04-22T16:39:30.666648Z",
     "shell.execute_reply.started": "2022-04-22T16:39:30.656804Z"
    },
    "papermill": {
     "duration": 0.06168,
     "end_time": "2022-04-26T13:00:59.634661",
     "exception": false,
     "start_time": "2022-04-26T13:00:59.572981",
     "status": "completed"
    },
    "tags": []
   },
   "source": [
    "from pytorch_transformers import BertForQuestionAnswering, BertForTokenClassification"
   ]
  },
  {
   "cell_type": "raw",
   "id": "5d4b383a",
   "metadata": {
    "execution": {
     "iopub.execute_input": "2022-04-22T16:39:30.67167Z",
     "iopub.status.busy": "2022-04-22T16:39:30.671195Z",
     "iopub.status.idle": "2022-04-22T16:39:42.955581Z",
     "shell.execute_reply": "2022-04-22T16:39:42.936939Z",
     "shell.execute_reply.started": "2022-04-22T16:39:30.67161Z"
    },
    "id": "gFsCTp_mporB",
    "outputId": "dd067229-1925-4b37-f517-0c14e25420d1",
    "papermill": {
     "duration": 0.060724,
     "end_time": "2022-04-26T13:00:59.756245",
     "exception": false,
     "start_time": "2022-04-26T13:00:59.695521",
     "status": "completed"
    },
    "tags": []
   },
   "source": [
    "model = BertForSequenceClassification.from_pretrained(\"bert-base-uncased\", num_labels=2)\n",
    "# model = BertForSequenceClassification.from_pretrained(\"bert-base-multilingual-uncased\", num_labels=2)\n",
    "model.cuda()"
   ]
  },
  {
   "cell_type": "raw",
   "id": "9f1a86a8",
   "metadata": {
    "execution": {
     "iopub.status.busy": "2022-04-22T16:39:42.957607Z",
     "iopub.status.idle": "2022-04-22T16:39:42.958248Z",
     "shell.execute_reply": "2022-04-22T16:39:42.957964Z",
     "shell.execute_reply.started": "2022-04-22T16:39:42.957934Z"
    },
    "id": "QxSMw0FrptiL",
    "papermill": {
     "duration": 0.060663,
     "end_time": "2022-04-26T13:00:59.878262",
     "exception": false,
     "start_time": "2022-04-26T13:00:59.817599",
     "status": "completed"
    },
    "tags": []
   },
   "source": [
    "param_optimizer = list(model.named_parameters())\n",
    "no_decay = ['bias', 'gamma', 'beta']\n",
    "optimizer_grouped_parameters = [\n",
    "    {'params': [p for n, p in param_optimizer if not any(nd in n for nd in no_decay)],\n",
    "     'weight_decay_rate': 0.01},\n",
    "    {'params': [p for n, p in param_optimizer if any(nd in n for nd in no_decay)],\n",
    "     'weight_decay_rate': 0.0}\n",
    "]\n",
    "\n",
    "optimizer = AdamW(optimizer_grouped_parameters, lr=2e-5)\n",
    "\n"
   ]
  },
  {
   "cell_type": "raw",
   "id": "d0a6b68d",
   "metadata": {
    "execution": {
     "iopub.status.busy": "2022-04-22T16:39:42.960535Z",
     "iopub.status.idle": "2022-04-22T16:39:42.961097Z",
     "shell.execute_reply": "2022-04-22T16:39:42.960826Z",
     "shell.execute_reply.started": "2022-04-22T16:39:42.960797Z"
    },
    "id": "6J-FYdx6nFE_",
    "outputId": "8e388ad1-f9db-4c7b-d080-6c0a0e964610",
    "papermill": {
     "duration": 0.060649,
     "end_time": "2022-04-26T13:01:00.000213",
     "exception": false,
     "start_time": "2022-04-26T13:00:59.939564",
     "status": "completed"
    },
    "tags": []
   },
   "source": [
    "from IPython.display import clear_output\n",
    "\n",
    "# Будем сохранять loss во время обучения\n",
    "# и рисовать график в режиме реального времени\n",
    "train_loss_set = []\n",
    "train_loss = 0\n",
    "\n",
    "\n",
    "# Обучение\n",
    "# Переводим модель в training mode\n",
    "model.train()\n",
    "\n",
    "\n",
    "for step, batch in enumerate(train_dataloader):\n",
    "    # добавляем батч для вычисления на GPU\n",
    "    batch = tuple(t.to(device) for t in batch)\n",
    "    # Распаковываем данные из dataloader\n",
    "    b_input_ids, b_input_mask, b_labels = batch\n",
    "    \n",
    "    # если не сделать .zero_grad(), градиенты будут накапливаться\n",
    "    optimizer.zero_grad()\n",
    "    \n",
    "    # Forward pass\n",
    "    loss = model(b_input_ids, token_type_ids=None, attention_mask=b_input_mask, labels=b_labels)\n",
    "\n",
    "    train_loss_set.append(loss[0].item())  \n",
    "    \n",
    "    # Backward pass\n",
    "    loss[0].backward()\n",
    "    \n",
    "    # Обновляем параметры и делаем шаг используя посчитанные градиенты\n",
    "    optimizer.step()\n",
    "\n",
    "    # Обновляем loss\n",
    "    train_loss += loss[0].item()\n",
    "    \n",
    "    # Рисуем график\n",
    "    clear_output(True)\n",
    "    plt.plot(train_loss_set)\n",
    "    plt.title(\"Training loss\")\n",
    "    plt.xlabel(\"Batch\")\n",
    "    plt.ylabel(\"Loss\")\n",
    "    plt.show()\n",
    "    \n",
    "print(\"Loss на обучающей выборке: {0:.5f}\".format(train_loss / len(train_dataloader)))\n",
    "\n",
    "\n",
    "# Валидация\n",
    "# Переводим модель в evaluation mode\n",
    "model.eval()\n",
    "\n",
    "valid_preds, valid_labels = [], []\n",
    "\n",
    "for batch in validation_dataloader:   \n",
    "    # добавляем батч для вычисления на GPU\n",
    "    batch = tuple(t.to(device) for t in batch)\n",
    "    \n",
    "    # Распаковываем данные из dataloader\n",
    "    b_input_ids, b_input_mask, b_labels = batch\n",
    "    \n",
    "    # При использовании .no_grad() модель не будет считать и хранить градиенты.\n",
    "    # Это ускорит процесс предсказания меток для валидационных данных.\n",
    "    with torch.no_grad():\n",
    "        logits = model(b_input_ids, token_type_ids=None, attention_mask=b_input_mask)\n",
    "\n",
    "    # Перемещаем logits и метки классов на CPU для дальнейшей работы\n",
    "    logits = logits[0].detach().cpu().numpy()\n",
    "    label_ids = b_labels.to('cpu').numpy()\n",
    "    \n",
    "    batch_preds = np.argmax(logits, axis=1)\n",
    "    batch_labels = np.concatenate(label_ids)     \n",
    "    valid_preds.extend(batch_preds)\n",
    "    valid_labels.extend(batch_labels)\n",
    "\n",
    "print(\"Процент правильных предсказаний на валидационной выборке: {0:.2f}%\".format(\n",
    "    accuracy_score(valid_labels, valid_preds) * 100\n",
    "))"
   ]
  },
  {
   "cell_type": "raw",
   "id": "b1c34d17",
   "metadata": {
    "execution": {
     "iopub.status.busy": "2022-04-22T16:39:42.962954Z",
     "iopub.status.idle": "2022-04-22T16:39:42.963445Z",
     "shell.execute_reply": "2022-04-22T16:39:42.963211Z",
     "shell.execute_reply.started": "2022-04-22T16:39:42.963185Z"
    },
    "papermill": {
     "duration": 0.061637,
     "end_time": "2022-04-26T13:01:00.124335",
     "exception": false,
     "start_time": "2022-04-26T13:01:00.062698",
     "status": "completed"
    },
    "tags": []
   },
   "source": [
    "print(\"Процент правильных предсказаний на валидационной выборке: {0:.2f}%\".format(\n",
    "    accuracy_score(valid_labels, valid_preds) * 100\n",
    "))"
   ]
  },
  {
   "cell_type": "markdown",
   "id": "3554b9ca",
   "metadata": {
    "id": "mkyubuJSOzg3",
    "papermill": {
     "duration": 0.060557,
     "end_time": "2022-04-26T13:01:00.245553",
     "exception": false,
     "start_time": "2022-04-26T13:01:00.184996",
     "status": "completed"
    },
    "tags": []
   },
   "source": [
    "# Оценка качества на отложенной выборке"
   ]
  },
  {
   "cell_type": "raw",
   "id": "7ef56ca8",
   "metadata": {
    "execution": {
     "iopub.status.busy": "2022-04-22T16:39:42.965313Z",
     "iopub.status.idle": "2022-04-22T16:39:42.965804Z",
     "shell.execute_reply": "2022-04-22T16:39:42.965553Z",
     "shell.execute_reply.started": "2022-04-22T16:39:42.965527Z"
    },
    "id": "mAN0LZBOOPVh",
    "papermill": {
     "duration": 0.060886,
     "end_time": "2022-04-26T13:01:00.368705",
     "exception": false,
     "start_time": "2022-04-26T13:01:00.307819",
     "status": "completed"
    },
    "tags": []
   },
   "source": [
    "tokenized_texts = [tokenizer.tokenize(sent) for sent in test_sentences]\n",
    "input_ids = [tokenizer.convert_tokens_to_ids(x) for x in tokenized_texts]\n",
    "\n",
    "input_ids = pad_sequences(\n",
    "    input_ids,\n",
    "    maxlen=100,\n",
    "    dtype=\"long\",\n",
    "    truncating=\"post\",\n",
    "    padding=\"post\"\n",
    ")"
   ]
  },
  {
   "cell_type": "raw",
   "id": "5bd8f5ad",
   "metadata": {
    "execution": {
     "iopub.status.busy": "2022-04-22T16:39:42.967301Z",
     "iopub.status.idle": "2022-04-22T16:39:42.967788Z",
     "shell.execute_reply": "2022-04-22T16:39:42.967537Z",
     "shell.execute_reply.started": "2022-04-22T16:39:42.967511Z"
    },
    "papermill": {
     "duration": 0.060374,
     "end_time": "2022-04-26T13:01:00.490202",
     "exception": false,
     "start_time": "2022-04-26T13:01:00.429828",
     "status": "completed"
    },
    "tags": []
   },
   "source": [
    "attention_masks = [[float(i>0) for i in seq] for seq in input_ids]\n",
    "\n",
    "prediction_inputs = torch.tensor(input_ids)\n",
    "prediction_masks = torch.tensor(attention_masks)\n",
    "prediction_labels = torch.tensor(test_gt)\n",
    "\n",
    "prediction_data = TensorDataset(\n",
    "    prediction_inputs,\n",
    "    prediction_masks,\n",
    "    prediction_labels\n",
    ")\n",
    "\n",
    "prediction_dataloader = DataLoader(\n",
    "    prediction_data, \n",
    "    sampler=SequentialSampler(prediction_data),\n",
    "    batch_size=32\n",
    ")"
   ]
  },
  {
   "cell_type": "raw",
   "id": "9901a3fd",
   "metadata": {
    "execution": {
     "iopub.status.busy": "2022-04-22T16:39:42.969447Z",
     "iopub.status.idle": "2022-04-22T16:39:42.969927Z",
     "shell.execute_reply": "2022-04-22T16:39:42.969696Z",
     "shell.execute_reply.started": "2022-04-22T16:39:42.969672Z"
    },
    "id": "Hba10sXR7Xi6",
    "papermill": {
     "duration": 0.061655,
     "end_time": "2022-04-26T13:01:00.612614",
     "exception": false,
     "start_time": "2022-04-26T13:01:00.550959",
     "status": "completed"
    },
    "tags": []
   },
   "source": [
    "model.eval()\n",
    "test_preds, test_labels = [], []\n",
    "\n",
    "for batch in prediction_dataloader:\n",
    "    # добавляем батч для вычисления на GPU\n",
    "    batch = tuple(t.to(device) for t in batch)\n",
    "    \n",
    "    # Распаковываем данные из dataloader\n",
    "    b_input_ids, b_input_mask, b_labels = batch\n",
    "    \n",
    "    # При использовании .no_grad() модель не будет считать и хранить градиенты.\n",
    "    # Это ускорит процесс предсказания меток для тестовых данных.\n",
    "    with torch.no_grad():\n",
    "        logits = model(b_input_ids, token_type_ids=None, attention_mask=b_input_mask)\n",
    "\n",
    "    # Перемещаем logits и метки классов на CPU для дальнейшей работы\n",
    "    logits = logits[0].detach().cpu().numpy()\n",
    "    label_ids = b_labels.to('cpu').numpy()\n",
    "\n",
    "    # Сохраняем предсказанные классы и ground truth\n",
    "    batch_preds = np.argmax(logits, axis=1)\n",
    "    batch_labels = np.concatenate(label_ids)  \n",
    "    test_preds.extend(batch_preds)\n",
    "    test_labels.extend(batch_labels)"
   ]
  },
  {
   "cell_type": "raw",
   "id": "6a91b003",
   "metadata": {
    "execution": {
     "iopub.status.busy": "2022-04-22T16:39:42.971953Z",
     "iopub.status.idle": "2022-04-22T16:39:42.972479Z",
     "shell.execute_reply": "2022-04-22T16:39:42.97222Z",
     "shell.execute_reply.started": "2022-04-22T16:39:42.972194Z"
    },
    "papermill": {
     "duration": 0.060504,
     "end_time": "2022-04-26T13:01:00.734267",
     "exception": false,
     "start_time": "2022-04-26T13:01:00.673763",
     "status": "completed"
    },
    "tags": []
   },
   "source": [
    "acc_score = accuracy_score(test_labels, test_preds)\n",
    "print('Процент правильных предсказаний на отложенной выборке составил: {0:.2f}%'.format(\n",
    "    acc_score*100\n",
    "))"
   ]
  },
  {
   "cell_type": "raw",
   "id": "b3095628",
   "metadata": {
    "execution": {
     "iopub.status.busy": "2022-04-22T16:39:42.974133Z",
     "iopub.status.idle": "2022-04-22T16:39:42.974593Z",
     "shell.execute_reply": "2022-04-22T16:39:42.974353Z",
     "shell.execute_reply.started": "2022-04-22T16:39:42.97433Z"
    },
    "papermill": {
     "duration": 0.060827,
     "end_time": "2022-04-26T13:01:00.855911",
     "exception": false,
     "start_time": "2022-04-26T13:01:00.795084",
     "status": "completed"
    },
    "tags": []
   },
   "source": [
    "print('Неправильных предсказаний: {0}/{1}'.format(\n",
    "    sum(np.array(test_labels) != np.array(test_preds)),\n",
    "    len(test_labels)\n",
    "))"
   ]
  },
  {
   "cell_type": "markdown",
   "id": "e919feb3",
   "metadata": {
    "papermill": {
     "duration": 0.061402,
     "end_time": "2022-04-26T13:01:00.978519",
     "exception": false,
     "start_time": "2022-04-26T13:01:00.917117",
     "status": "completed"
    },
    "tags": []
   },
   "source": [
    "### Задание. Внимательно изучите датасет с русскими твитами. В чем его особенности? Нет ли явных паттернов или ключевых слов, которые однозначно определяют сентимент твита?"
   ]
  },
  {
   "cell_type": "raw",
   "id": "5b7b5dcc",
   "metadata": {
    "execution": {
     "iopub.status.busy": "2022-04-22T16:39:42.976584Z",
     "iopub.status.idle": "2022-04-22T16:39:42.977054Z",
     "shell.execute_reply": "2022-04-22T16:39:42.976839Z",
     "shell.execute_reply.started": "2022-04-22T16:39:42.976815Z"
    },
    "papermill": {
     "duration": 0.061447,
     "end_time": "2022-04-26T13:01:01.101140",
     "exception": false,
     "start_time": "2022-04-26T13:01:01.039693",
     "status": "completed"
    },
    "tags": []
   },
   "source": [
    "list(pos_texts[3])[:10]"
   ]
  },
  {
   "cell_type": "raw",
   "id": "f2a23865",
   "metadata": {
    "execution": {
     "iopub.status.busy": "2022-04-22T16:39:42.978153Z",
     "iopub.status.idle": "2022-04-22T16:39:42.97864Z",
     "shell.execute_reply": "2022-04-22T16:39:42.978391Z",
     "shell.execute_reply.started": "2022-04-22T16:39:42.978366Z"
    },
    "papermill": {
     "duration": 0.061405,
     "end_time": "2022-04-26T13:01:01.223430",
     "exception": false,
     "start_time": "2022-04-26T13:01:01.162025",
     "status": "completed"
    },
    "tags": []
   },
   "source": [
    "len([line for line in list(pos_texts[3]) if (\")\" in line) or \":D\" in line])/len(list(pos_texts[3]))"
   ]
  },
  {
   "cell_type": "raw",
   "id": "746accd9",
   "metadata": {
    "execution": {
     "iopub.status.busy": "2022-04-22T16:39:42.98026Z",
     "iopub.status.idle": "2022-04-22T16:39:42.980763Z",
     "shell.execute_reply": "2022-04-22T16:39:42.980509Z",
     "shell.execute_reply.started": "2022-04-22T16:39:42.980485Z"
    },
    "papermill": {
     "duration": 0.061217,
     "end_time": "2022-04-26T13:01:01.345533",
     "exception": false,
     "start_time": "2022-04-26T13:01:01.284316",
     "status": "completed"
    },
    "tags": []
   },
   "source": [
    "list(neg_texts[3])[:50]"
   ]
  },
  {
   "cell_type": "raw",
   "id": "0495286f",
   "metadata": {
    "execution": {
     "iopub.status.busy": "2022-04-22T16:39:42.982332Z",
     "iopub.status.idle": "2022-04-22T16:39:42.982821Z",
     "shell.execute_reply": "2022-04-22T16:39:42.982575Z",
     "shell.execute_reply.started": "2022-04-22T16:39:42.982551Z"
    },
    "papermill": {
     "duration": 0.063359,
     "end_time": "2022-04-26T13:01:01.470313",
     "exception": false,
     "start_time": "2022-04-26T13:01:01.406954",
     "status": "completed"
    },
    "tags": []
   },
   "source": [
    "len([line for line in list(neg_texts[3]) if (\"(\" in line) or \"D:\" in line])/len(list(pos_texts[3]))"
   ]
  },
  {
   "cell_type": "markdown",
   "id": "020182db",
   "metadata": {
    "papermill": {
     "duration": 0.061221,
     "end_time": "2022-04-26T13:01:01.592740",
     "exception": false,
     "start_time": "2022-04-26T13:01:01.531519",
     "status": "completed"
    },
    "tags": []
   },
   "source": [
    "### Задание. Попробуйте удалить пунктуацию из датасета с русскими твитами и перезапустите дообучение модели. Изменилось ли итоговое качество работы модели? Почему?"
   ]
  },
  {
   "cell_type": "code",
   "execution_count": 6,
   "id": "3a55b378",
   "metadata": {
    "execution": {
     "iopub.execute_input": "2022-04-26T13:01:01.720597Z",
     "iopub.status.busy": "2022-04-26T13:01:01.719000Z",
     "iopub.status.idle": "2022-04-26T13:01:01.721166Z",
     "shell.execute_reply": "2022-04-26T13:01:01.721600Z",
     "shell.execute_reply.started": "2022-04-26T12:51:01.390257Z"
    },
    "papermill": {
     "duration": 0.067151,
     "end_time": "2022-04-26T13:01:01.721732",
     "exception": false,
     "start_time": "2022-04-26T13:01:01.654581",
     "status": "completed"
    },
    "tags": []
   },
   "outputs": [],
   "source": [
    "# import re\n",
    "# pos_texts[3] = pd.Series([re.sub(r':D|D:|[^\\w\\s]', '', line) for line in list(pos_texts[3])])\n",
    "# neg_texts[3] = pd.Series([re.sub(r':D|D:|[^\\w\\s]', '', line) for line in list(neg_texts[3])])"
   ]
  },
  {
   "cell_type": "markdown",
   "id": "624531b3",
   "metadata": {
    "papermill": {
     "duration": 0.062812,
     "end_time": "2022-04-26T13:01:01.845151",
     "exception": false,
     "start_time": "2022-04-26T13:01:01.782339",
     "status": "completed"
    },
    "tags": []
   },
   "source": [
    "### Домашнее задание IMDB Dataset of 50K Movie Reviews"
   ]
  },
  {
   "cell_type": "markdown",
   "id": "d4e44459",
   "metadata": {
    "papermill": {
     "duration": 0.060615,
     "end_time": "2022-04-26T13:01:01.968497",
     "exception": false,
     "start_time": "2022-04-26T13:01:01.907882",
     "status": "completed"
    },
    "tags": []
   },
   "source": [
    "Скачайте датасет с отзывами на фильмы. Например, используйте датасет [IMDB Dataset of 50K Movie Reviews](https://www.kaggle.com/lakshmi25npathi/imdb-dataset-of-50k-movie-reviews). "
   ]
  },
  {
   "cell_type": "code",
   "execution_count": 7,
   "id": "84317ede",
   "metadata": {
    "execution": {
     "iopub.execute_input": "2022-04-26T13:01:02.095733Z",
     "iopub.status.busy": "2022-04-26T13:01:02.095195Z",
     "iopub.status.idle": "2022-04-26T13:01:03.428160Z",
     "shell.execute_reply": "2022-04-26T13:01:03.427340Z",
     "shell.execute_reply.started": "2022-04-26T12:51:01.404846Z"
    },
    "papermill": {
     "duration": 1.398719,
     "end_time": "2022-04-26T13:01:03.428353",
     "exception": false,
     "start_time": "2022-04-26T13:01:02.029634",
     "status": "completed"
    },
    "tags": []
   },
   "outputs": [],
   "source": [
    "import pandas as pd\n",
    "\n",
    "#dataset = pd.read_csv('datasets/bert_sentiment_analysis/homework/IMDB_Dataset.csv')\n",
    "dataset = pd.read_csv('/kaggle/input/imdb-dataset-of-50k-movie-reviews/IMDB Dataset.csv')"
   ]
  },
  {
   "cell_type": "code",
   "execution_count": 8,
   "id": "18ad5f90",
   "metadata": {
    "execution": {
     "iopub.execute_input": "2022-04-26T13:01:03.653883Z",
     "iopub.status.busy": "2022-04-26T13:01:03.653197Z",
     "iopub.status.idle": "2022-04-26T13:01:03.670339Z",
     "shell.execute_reply": "2022-04-26T13:01:03.669321Z",
     "shell.execute_reply.started": "2022-04-26T12:51:02.009155Z"
    },
    "papermill": {
     "duration": 0.130004,
     "end_time": "2022-04-26T13:01:03.670509",
     "exception": false,
     "start_time": "2022-04-26T13:01:03.540505",
     "status": "completed"
    },
    "tags": []
   },
   "outputs": [
    {
     "data": {
      "text/html": [
       "<div>\n",
       "<style scoped>\n",
       "    .dataframe tbody tr th:only-of-type {\n",
       "        vertical-align: middle;\n",
       "    }\n",
       "\n",
       "    .dataframe tbody tr th {\n",
       "        vertical-align: top;\n",
       "    }\n",
       "\n",
       "    .dataframe thead th {\n",
       "        text-align: right;\n",
       "    }\n",
       "</style>\n",
       "<table border=\"1\" class=\"dataframe\">\n",
       "  <thead>\n",
       "    <tr style=\"text-align: right;\">\n",
       "      <th></th>\n",
       "      <th>review</th>\n",
       "      <th>sentiment</th>\n",
       "    </tr>\n",
       "  </thead>\n",
       "  <tbody>\n",
       "    <tr>\n",
       "      <th>0</th>\n",
       "      <td>One of the other reviewers has mentioned that ...</td>\n",
       "      <td>positive</td>\n",
       "    </tr>\n",
       "    <tr>\n",
       "      <th>1</th>\n",
       "      <td>A wonderful little production. &lt;br /&gt;&lt;br /&gt;The...</td>\n",
       "      <td>positive</td>\n",
       "    </tr>\n",
       "    <tr>\n",
       "      <th>2</th>\n",
       "      <td>I thought this was a wonderful way to spend ti...</td>\n",
       "      <td>positive</td>\n",
       "    </tr>\n",
       "    <tr>\n",
       "      <th>3</th>\n",
       "      <td>Basically there's a family where a little boy ...</td>\n",
       "      <td>negative</td>\n",
       "    </tr>\n",
       "    <tr>\n",
       "      <th>4</th>\n",
       "      <td>Petter Mattei's \"Love in the Time of Money\" is...</td>\n",
       "      <td>positive</td>\n",
       "    </tr>\n",
       "  </tbody>\n",
       "</table>\n",
       "</div>"
      ],
      "text/plain": [
       "                                              review sentiment\n",
       "0  One of the other reviewers has mentioned that ...  positive\n",
       "1  A wonderful little production. <br /><br />The...  positive\n",
       "2  I thought this was a wonderful way to spend ti...  positive\n",
       "3  Basically there's a family where a little boy ...  negative\n",
       "4  Petter Mattei's \"Love in the Time of Money\" is...  positive"
      ]
     },
     "execution_count": 8,
     "metadata": {},
     "output_type": "execute_result"
    }
   ],
   "source": [
    "dataset.head()"
   ]
  },
  {
   "cell_type": "code",
   "execution_count": 9,
   "id": "01db378f",
   "metadata": {
    "execution": {
     "iopub.execute_input": "2022-04-26T13:01:03.886869Z",
     "iopub.status.busy": "2022-04-26T13:01:03.886103Z",
     "iopub.status.idle": "2022-04-26T13:01:03.890329Z",
     "shell.execute_reply": "2022-04-26T13:01:03.889911Z",
     "shell.execute_reply.started": "2022-04-26T12:51:02.026090Z"
    },
    "papermill": {
     "duration": 0.11244,
     "end_time": "2022-04-26T13:01:03.890460",
     "exception": false,
     "start_time": "2022-04-26T13:01:03.778020",
     "status": "completed"
    },
    "tags": []
   },
   "outputs": [
    {
     "data": {
      "text/plain": [
       "positive    25000\n",
       "negative    25000\n",
       "Name: sentiment, dtype: int64"
      ]
     },
     "execution_count": 9,
     "metadata": {},
     "output_type": "execute_result"
    }
   ],
   "source": [
    "dataset.sentiment.value_counts()"
   ]
  },
  {
   "cell_type": "code",
   "execution_count": 10,
   "id": "2863dee2",
   "metadata": {
    "execution": {
     "iopub.execute_input": "2022-04-26T13:01:04.029066Z",
     "iopub.status.busy": "2022-04-26T13:01:04.028361Z",
     "iopub.status.idle": "2022-04-26T13:01:04.389331Z",
     "shell.execute_reply": "2022-04-26T13:01:04.388887Z",
     "shell.execute_reply.started": "2022-04-26T12:51:02.042835Z"
    },
    "papermill": {
     "duration": 0.43722,
     "end_time": "2022-04-26T13:01:04.389469",
     "exception": false,
     "start_time": "2022-04-26T13:01:03.952249",
     "status": "completed"
    },
    "tags": []
   },
   "outputs": [
    {
     "data": {
      "text/plain": [
       "<AxesSubplot:>"
      ]
     },
     "execution_count": 10,
     "metadata": {},
     "output_type": "execute_result"
    },
    {
     "data": {
      "image/png": "[encoded data removed]",
      "text/plain": [
       "<Figure size 432x288 with 1 Axes>"
      ]
     },
     "metadata": {
      "needs_background": "light"
     },
     "output_type": "display_data"
    }
   ],
   "source": [
    "dataset.review.str.len().hist(bins=50)"
   ]
  },
  {
   "cell_type": "code",
   "execution_count": 11,
   "id": "72ac913e",
   "metadata": {
    "execution": {
     "iopub.execute_input": "2022-04-26T13:01:04.528365Z",
     "iopub.status.busy": "2022-04-26T13:01:04.527639Z",
     "iopub.status.idle": "2022-04-26T13:01:04.562372Z",
     "shell.execute_reply": "2022-04-26T13:01:04.562813Z",
     "shell.execute_reply.started": "2022-04-26T12:51:02.415767Z"
    },
    "papermill": {
     "duration": 0.109469,
     "end_time": "2022-04-26T13:01:04.562956",
     "exception": false,
     "start_time": "2022-04-26T13:01:04.453487",
     "status": "completed"
    },
    "tags": []
   },
   "outputs": [
    {
     "data": {
      "text/plain": [
       "count    50000.000000\n",
       "mean      1309.431020\n",
       "std        989.728014\n",
       "min         32.000000\n",
       "25%        699.000000\n",
       "50%        970.000000\n",
       "75%       1590.250000\n",
       "max      13704.000000\n",
       "Name: review, dtype: float64"
      ]
     },
     "execution_count": 11,
     "metadata": {},
     "output_type": "execute_result"
    }
   ],
   "source": [
    "dataset.review.str.len().describe()"
   ]
  },
  {
   "cell_type": "code",
   "execution_count": 12,
   "id": "60663a90",
   "metadata": {
    "execution": {
     "iopub.execute_input": "2022-04-26T13:01:04.697438Z",
     "iopub.status.busy": "2022-04-26T13:01:04.696787Z",
     "iopub.status.idle": "2022-04-26T13:01:04.699654Z",
     "shell.execute_reply": "2022-04-26T13:01:04.700073Z",
     "shell.execute_reply.started": "2022-04-26T12:51:02.464762Z"
    },
    "papermill": {
     "duration": 0.07312,
     "end_time": "2022-04-26T13:01:04.700198",
     "exception": false,
     "start_time": "2022-04-26T13:01:04.627078",
     "status": "completed"
    },
    "tags": []
   },
   "outputs": [
    {
     "name": "stdout",
     "output_type": "stream",
     "text": [
      "This game is very addictive, I kept playing it for hours straight until late at night but also the fact that you can't save a game when you are in space contributed to this, at times I just HAD to play on in order not to loose any game data.<br /><br />So yes, \"Freelancer\" is addictive but also quite flawed. Also for instance, something that extremely bothered me was that you couldn't skip any of the cut scene's with as a result that at times you had to watch the same few minute cut scene time after time. A great opportunity for me to multitask to check my e-mail or have a chat with my friends and more things like that, while I had to wait for the cut scene to be over.<br /><br />The story starts of promising but the further you get the more ridiculous it all gets. Also the game also ends quite abrupt, at least it did so for me. It is quite obvious that they are hinting at a upcoming sequel. I don't know if a sequel is in the works at the moment but I am sure that most likely I will pick one up once it will be released.<br /><br />The gameplay is very easy! Even for those who are not familiar with flight games. To put it boldly, every fool can play this game. Yes, some levels are quite hard and require lots of effort. It took me about 1-2 weeks for me to finish this game which might be a bit too short. But thank God for the multi-player option! It allows you to keep playing short missions, just like the single player game once you have completed it by the way.<br /><br />Even though lot's of mission are the same, it just simply stays cool to be in the middle of the at times massive dogfights.<br /><br />The graphics are good but just not anything revolutionary or anything.<br /><br />Addictive game but beware of its flaws.<br /><br />7/10\n",
      "\n",
      "Once in a while you get amazed over how BAD a film can be, and how in the world anybody could raise money to make this kind of crap. There is absolutely No talent included in this film - from a crappy script, to a crappy story to crappy acting. Amazing...\n",
      "\n",
      "i saw switching goals ..twice....and always the same feeling...you see the Olsen twins make same movie....they like play different sports and then fall in love to boys..OK now about the movie....first off all such little boys and girls don't play on such big goals...2.football does not play on time outs...3.if the game is at its end the referee gives some overtime (a minute or more)...and the finish is so foreseen....i think that this movie is bad because of the lack of football knowledgement....if it were done by European producers it would be better..and also the mane actors aren't the wright choice...they suffer from lack of authentic..OK they played some seasons in full house but that doesn't make them big stars....you have got to show your talent....and that is what is missing in the Olsen twins\n"
     ]
    }
   ],
   "source": [
    "print(\"\\n\\n\".join(list(dataset.review.sample(3))))"
   ]
  },
  {
   "cell_type": "code",
   "execution_count": 13,
   "id": "92c73cea",
   "metadata": {
    "execution": {
     "iopub.execute_input": "2022-04-26T13:01:04.843085Z",
     "iopub.status.busy": "2022-04-26T13:01:04.842204Z",
     "iopub.status.idle": "2022-04-26T13:01:04.915227Z",
     "shell.execute_reply": "2022-04-26T13:01:04.915711Z",
     "shell.execute_reply.started": "2022-04-26T12:51:02.480225Z"
    },
    "papermill": {
     "duration": 0.152198,
     "end_time": "2022-04-26T13:01:04.915870",
     "exception": false,
     "start_time": "2022-04-26T13:01:04.763672",
     "status": "completed"
    },
    "tags": []
   },
   "outputs": [],
   "source": [
    "sentences = list(dataset.review)\n",
    "sentences = [\"[CLS] \" + sentence + \" [SEP]\" for sentence in sentences]\n",
    "\n",
    "labels = list(dataset.sentiment.map({'positive': 1, 'negative': 0}))"
   ]
  },
  {
   "cell_type": "code",
   "execution_count": 14,
   "id": "222052b2",
   "metadata": {
    "execution": {
     "iopub.execute_input": "2022-04-26T13:01:05.053161Z",
     "iopub.status.busy": "2022-04-26T13:01:05.052579Z",
     "iopub.status.idle": "2022-04-26T13:01:05.055277Z",
     "shell.execute_reply": "2022-04-26T13:01:05.055683Z",
     "shell.execute_reply.started": "2022-04-26T12:51:02.569003Z"
    },
    "papermill": {
     "duration": 0.074779,
     "end_time": "2022-04-26T13:01:05.055814",
     "exception": false,
     "start_time": "2022-04-26T13:01:04.981035",
     "status": "completed"
    },
    "tags": []
   },
   "outputs": [
    {
     "data": {
      "text/html": [
       "<div>\n",
       "<style scoped>\n",
       "    .dataframe tbody tr th:only-of-type {\n",
       "        vertical-align: middle;\n",
       "    }\n",
       "\n",
       "    .dataframe tbody tr th {\n",
       "        vertical-align: top;\n",
       "    }\n",
       "\n",
       "    .dataframe thead th {\n",
       "        text-align: right;\n",
       "    }\n",
       "</style>\n",
       "<table border=\"1\" class=\"dataframe\">\n",
       "  <thead>\n",
       "    <tr style=\"text-align: right;\">\n",
       "      <th></th>\n",
       "      <th>review</th>\n",
       "      <th>sentiment</th>\n",
       "    </tr>\n",
       "  </thead>\n",
       "  <tbody>\n",
       "    <tr>\n",
       "      <th>3</th>\n",
       "      <td>Basically there's a family where a little boy ...</td>\n",
       "      <td>negative</td>\n",
       "    </tr>\n",
       "    <tr>\n",
       "      <th>4</th>\n",
       "      <td>Petter Mattei's \"Love in the Time of Money\" is...</td>\n",
       "      <td>positive</td>\n",
       "    </tr>\n",
       "  </tbody>\n",
       "</table>\n",
       "</div>"
      ],
      "text/plain": [
       "                                              review sentiment\n",
       "3  Basically there's a family where a little boy ...  negative\n",
       "4  Petter Mattei's \"Love in the Time of Money\" is...  positive"
      ]
     },
     "execution_count": 14,
     "metadata": {},
     "output_type": "execute_result"
    }
   ],
   "source": [
    "dataset[3:5]"
   ]
  },
  {
   "cell_type": "code",
   "execution_count": 15,
   "id": "481e9800",
   "metadata": {
    "execution": {
     "iopub.execute_input": "2022-04-26T13:01:05.189548Z",
     "iopub.status.busy": "2022-04-26T13:01:05.189009Z",
     "iopub.status.idle": "2022-04-26T13:01:05.194475Z",
     "shell.execute_reply": "2022-04-26T13:01:05.194045Z",
     "shell.execute_reply.started": "2022-04-26T12:51:02.582934Z"
    },
    "papermill": {
     "duration": 0.074661,
     "end_time": "2022-04-26T13:01:05.194591",
     "exception": false,
     "start_time": "2022-04-26T13:01:05.119930",
     "status": "completed"
    },
    "tags": []
   },
   "outputs": [
    {
     "data": {
      "text/plain": [
       "[(\"[CLS] Basically there's a family where a little boy (Jake) thinks there's a zombie in his closet & his parents are fighting all the time.<br /><br />This movie is slower than a soap opera... and suddenly, Jake decides to become Rambo and kill the zombie.<br /><br />OK, first of all when you're going to make a film you must Decide if its a thriller or a drama! As a drama the movie is watchable. Parents are divorcing & arguing like in real life. And then we have Jake with his closet which totally ruins all the film! I expected to see a BOOGEYMAN similar movie, and instead i watched a drama with some meaningless thriller spots.<br /><br />3 out of 10 just for the well playing parents & descent dialogs. As for the shots with Jake: just ignore them. [SEP]\",\n",
       "  0),\n",
       " ('[CLS] Petter Mattei\\'s \"Love in the Time of Money\" is a visually stunning film to watch. Mr. Mattei offers us a vivid portrait about human relations. This is a movie that seems to be telling us what money, power and success do to people in the different situations we encounter. <br /><br />This being a variation on the Arthur Schnitzler\\'s play about the same theme, the director transfers the action to the present time New York where all these different characters meet and connect. Each one is connected in one way, or another to the next person, but no one seems to know the previous point of contact. Stylishly, the film has a sophisticated luxurious look. We are taken to see how these people live and the world they live in their own habitat.<br /><br />The only thing one gets out of all these souls in the picture is the different stages of loneliness each one inhabits. A big city is not exactly the best place in which human relations find sincere fulfillment, as one discerns is the case with most of the people we encounter.<br /><br />The acting is good under Mr. Mattei\\'s direction. Steve Buscemi, Rosario Dawson, Carol Kane, Michael Imperioli, Adrian Grenier, and the rest of the talented cast, make these characters come alive.<br /><br />We wish Mr. Mattei good luck and await anxiously for his next work. [SEP]',\n",
       "  1)]"
      ]
     },
     "execution_count": 15,
     "metadata": {},
     "output_type": "execute_result"
    }
   ],
   "source": [
    "list(zip(*(sentences[3:5], labels[3:5])))"
   ]
  },
  {
   "cell_type": "code",
   "execution_count": 16,
   "id": "7958ede3",
   "metadata": {
    "execution": {
     "iopub.execute_input": "2022-04-26T13:01:05.327731Z",
     "iopub.status.busy": "2022-04-26T13:01:05.326980Z",
     "iopub.status.idle": "2022-04-26T13:01:05.352349Z",
     "shell.execute_reply": "2022-04-26T13:01:05.352761Z",
     "shell.execute_reply.started": "2022-04-26T12:51:02.595099Z"
    },
    "papermill": {
     "duration": 0.094046,
     "end_time": "2022-04-26T13:01:05.352901",
     "exception": false,
     "start_time": "2022-04-26T13:01:05.258855",
     "status": "completed"
    },
    "tags": []
   },
   "outputs": [],
   "source": [
    "from sklearn.model_selection import train_test_split\n",
    "\n",
    "train_sentences, test_sentences, train_gt, test_gt = train_test_split(sentences, labels, shuffle=True, random_state=42, test_size=0.3)"
   ]
  },
  {
   "cell_type": "code",
   "execution_count": 17,
   "id": "ec3e60f2",
   "metadata": {
    "execution": {
     "iopub.execute_input": "2022-04-26T13:01:05.487557Z",
     "iopub.status.busy": "2022-04-26T13:01:05.486970Z",
     "iopub.status.idle": "2022-04-26T13:01:05.491664Z",
     "shell.execute_reply": "2022-04-26T13:01:05.492228Z",
     "shell.execute_reply.started": "2022-04-26T12:51:02.629039Z"
    },
    "papermill": {
     "duration": 0.073435,
     "end_time": "2022-04-26T13:01:05.492397",
     "exception": false,
     "start_time": "2022-04-26T13:01:05.418962",
     "status": "completed"
    },
    "tags": []
   },
   "outputs": [
    {
     "name": "stdout",
     "output_type": "stream",
     "text": [
      "35000 15000\n"
     ]
    }
   ],
   "source": [
    "print(len(train_gt), len(test_gt))"
   ]
  },
  {
   "cell_type": "markdown",
   "id": "5588a833",
   "metadata": {
    "id": "ex5O1eV-Pfct",
    "papermill": {
     "duration": 0.065287,
     "end_time": "2022-04-26T13:01:05.623185",
     "exception": false,
     "start_time": "2022-04-26T13:01:05.557898",
     "status": "completed"
    },
    "tags": []
   },
   "source": [
    "## Inputs"
   ]
  },
  {
   "cell_type": "code",
   "execution_count": 18,
   "id": "98cc9936",
   "metadata": {
    "execution": {
     "iopub.execute_input": "2022-04-26T13:01:05.759445Z",
     "iopub.status.busy": "2022-04-26T13:01:05.758559Z",
     "iopub.status.idle": "2022-04-26T13:04:26.825304Z",
     "shell.execute_reply": "2022-04-26T13:04:26.825961Z",
     "shell.execute_reply.started": "2022-04-26T12:51:02.637416Z"
    },
    "id": "Z474sSC6oe7A",
    "outputId": "fbaa8fd8-bccd-4feb-ce52-beba5d293cfa",
    "papermill": {
     "duration": 201.137129,
     "end_time": "2022-04-26T13:04:26.826163",
     "exception": false,
     "start_time": "2022-04-26T13:01:05.689034",
     "status": "completed"
    },
    "tags": []
   },
   "outputs": [
    {
     "name": "stderr",
     "output_type": "stream",
     "text": [
      "100%|██████████| 231508/231508 [00:00<00:00, 320431.65B/s]\n"
     ]
    },
    {
     "name": "stdout",
     "output_type": "stream",
     "text": [
      "[CLS] As much as I love trains, I couldn't stomach this movie. The premise that one could steal a locomotive and \"drive\" from Arkansas to Chicago without hitting another train along the way has to be right up there on the Impossible Plot lines hit board. Imagine two disgruntled NASA employees stealing the \"crawler\" that totes the shuttles to and fro and driving it to New York and you get the idea.<br /><br />Having said all that, it's a nice try. Wilford Brimely is at his Quaker Oats best, and Levon Helm turns a good performance as his dimwitted but well-meaning sidekick. Bob Balaban is suitably wormy as the Corporate Guy, and the \"little guy takes on Goliath\" story gets another airing. [SEP]\n",
      "['[CLS]', 'as', 'much', 'as', 'i', 'love', 'trains', ',', 'i', 'couldn', \"'\", 't', 'stomach', 'this', 'movie', '.', 'the', 'premise', 'that', 'one', 'could', 'steal', 'a', 'locomotive', 'and', '\"', 'drive', '\"', 'from', 'arkansas', 'to', 'chicago', 'without', 'hitting', 'another', 'train', 'along', 'the', 'way', 'has', 'to', 'be', 'right', 'up', 'there', 'on', 'the', 'impossible', 'plot', 'lines', 'hit', 'board', '.', 'imagine', 'two', 'di', '##sg', '##run', '##tled', 'nasa', 'employees', 'stealing', 'the', '\"', 'crawl', '##er', '\"', 'that', 'to', '##tes', 'the', 'shuttle', '##s', 'to', 'and', 'fr', '##o', 'and', 'driving', 'it', 'to', 'new', 'york', 'and', 'you', 'get', 'the', 'idea', '.', '<', 'br', '/', '>', '<', 'br', '/', '>', 'having', 'said', 'all', 'that', ',', 'it', \"'\", 's', 'a', 'nice', 'try', '.', 'wil', '##ford', 'br', '##ime', '##ly', 'is', 'at', 'his', 'quaker', 'o', '##ats', 'best', ',', 'and', 'lev', '##on', 'helm', 'turns', 'a', 'good', 'performance', 'as', 'his', 'dim', '##wi', '##tted', 'but', 'well', '-', 'meaning', 'sidekick', '.', 'bob', 'bala', '##ban', 'is', 'suit', '##ably', 'worm', '##y', 'as', 'the', 'corporate', 'guy', ',', 'and', 'the', '\"', 'little', 'guy', 'takes', 'on', 'go', '##lia', '##th', '\"', 'story', 'gets', 'another', 'airing', '.', '[SEP]']\n"
     ]
    }
   ],
   "source": [
    "from pytorch_transformers import BertTokenizer, BertConfig\n",
    "\n",
    "# Подробное описание модели https://huggingface.co/bert-base-uncased\n",
    "tokenizer = BertTokenizer.from_pretrained('bert-base-uncased', do_lower_case=True)\n",
    "#tokenizer = BertTokenizer.from_pretrained('bert-base-multilingual-uncased', do_lower_case=True)\n",
    "\n",
    "tokenized_texts = [tokenizer.tokenize(sent) for sent in train_sentences]\n",
    "print(train_sentences[0])\n",
    "print(tokenized_texts[0])"
   ]
  },
  {
   "cell_type": "code",
   "execution_count": 19,
   "id": "20b722ef",
   "metadata": {
    "execution": {
     "iopub.execute_input": "2022-04-26T13:04:26.968386Z",
     "iopub.status.busy": "2022-04-26T13:04:26.967672Z",
     "iopub.status.idle": "2022-04-26T13:04:27.302863Z",
     "shell.execute_reply": "2022-04-26T13:04:27.302333Z",
     "shell.execute_reply.started": "2022-04-26T12:54:16.958165Z"
    },
    "papermill": {
     "duration": 0.407385,
     "end_time": "2022-04-26T13:04:27.303000",
     "exception": false,
     "start_time": "2022-04-26T13:04:26.895615",
     "status": "completed"
    },
    "tags": []
   },
   "outputs": [
    {
     "data": {
      "text/plain": [
       "<AxesSubplot:>"
      ]
     },
     "execution_count": 19,
     "metadata": {},
     "output_type": "execute_result"
    },
    {
     "data": {
      "image/png": "[encoded data removed]",
      "text/plain": [
       "<Figure size 432x288 with 1 Axes>"
      ]
     },
     "metadata": {
      "needs_background": "light"
     },
     "output_type": "display_data"
    }
   ],
   "source": [
    "#only for quick analyze\n",
    "series_tokenized_texts = pd.Series(tokenized_texts)\n",
    "series_tokenized_texts.map(len).hist(bins=50)"
   ]
  },
  {
   "cell_type": "code",
   "execution_count": 20,
   "id": "502dc938",
   "metadata": {
    "execution": {
     "iopub.execute_input": "2022-04-26T13:04:27.448551Z",
     "iopub.status.busy": "2022-04-26T13:04:27.447715Z",
     "iopub.status.idle": "2022-04-26T13:04:27.470376Z",
     "shell.execute_reply": "2022-04-26T13:04:27.470819Z",
     "shell.execute_reply.started": "2022-04-26T12:54:17.285618Z"
    },
    "papermill": {
     "duration": 0.095952,
     "end_time": "2022-04-26T13:04:27.470960",
     "exception": false,
     "start_time": "2022-04-26T13:04:27.375008",
     "status": "completed"
    },
    "tags": []
   },
   "outputs": [
    {
     "data": {
      "text/plain": [
       "count    35000.000000\n",
       "mean       309.736229\n",
       "std        231.378177\n",
       "min         10.000000\n",
       "25%        166.000000\n",
       "50%        231.000000\n",
       "75%        377.000000\n",
       "max       3127.000000\n",
       "dtype: float64"
      ]
     },
     "execution_count": 20,
     "metadata": {},
     "output_type": "execute_result"
    }
   ],
   "source": [
    "series_tokenized_texts.map(len).describe()"
   ]
  },
  {
   "cell_type": "markdown",
   "id": "cb1ed9ea",
   "metadata": {
    "id": "87_kXUeT2-br",
    "papermill": {
     "duration": 0.068211,
     "end_time": "2022-04-26T13:04:27.608342",
     "exception": false,
     "start_time": "2022-04-26T13:04:27.540131",
     "status": "completed"
    },
    "tags": []
   },
   "source": [
    "BERTу нужно предоставить специальный формат входных данных.\n",
    "\n",
    "\n",
    "- **input ids**: последовательность чисел, отождествляющих каждый токен с его номером в словаре.\n",
    "- **labels**: вектор из нулей и единиц. В нашем случае нули обозначают негативную эмоциональную окраску, единицы - положительную.\n",
    "- **segment mask**: (необязательно) последовательность нулей и единиц, которая показывает, состоит ли входной текст из одного или двух предложений. Для случая одного предложения получится вектор из одних нулей. Для двух: <length_of_sent_1> нулей и <length_of_sent_2> единиц.\n",
    "- **attention mask**: (необязательно) последовательность нулей и единиц, где единицы обозначают токены предложения, нули - паддинг."
   ]
  },
  {
   "cell_type": "code",
   "execution_count": 21,
   "id": "aed40fa1",
   "metadata": {
    "execution": {
     "iopub.execute_input": "2022-04-26T13:04:27.922397Z",
     "iopub.status.busy": "2022-04-26T13:04:27.759669Z",
     "iopub.status.idle": "2022-04-26T13:04:50.876338Z",
     "shell.execute_reply": "2022-04-26T13:04:50.875852Z",
     "shell.execute_reply.started": "2022-04-26T12:54:17.313216Z"
    },
    "id": "Cp9BPRd1tMIo",
    "papermill": {
     "duration": 23.198486,
     "end_time": "2022-04-26T13:04:50.876500",
     "exception": false,
     "start_time": "2022-04-26T13:04:27.678014",
     "status": "completed"
    },
    "tags": []
   },
   "outputs": [],
   "source": [
    "MAX_LEN = 500\n",
    "\n",
    "# padding: String, 'pre' or 'post' (optional, defaults to 'pre'):\n",
    "#         pad either before or after each sequence.\n",
    "# truncating: String, 'pre' or 'post' (optional, defaults to 'pre'):\n",
    "#        remove values from sequences larger than `maxlen`, either \n",
    "#        at the beginning or at the end of the sequences.\n",
    "\n",
    "# возможно сентимент отзыва больше раскрывается в конце, а не в начале, \n",
    "# как следствие, может быть лучше задавать 'pre'\n",
    "TRUNC_PAD_TYPE = \"post\"\n",
    "\n",
    "input_ids = [tokenizer.convert_tokens_to_ids(x) for x in tokenized_texts]\n",
    "input_ids = pad_sequences(\n",
    "    input_ids,\n",
    "    maxlen=MAX_LEN,\n",
    "    dtype=\"long\",\n",
    "    truncating=TRUNC_PAD_TYPE,\n",
    "    padding=TRUNC_PAD_TYPE\n",
    ")\n",
    "attention_masks = [[float(i>0) for i in seq] for seq in input_ids]"
   ]
  },
  {
   "cell_type": "code",
   "execution_count": 22,
   "id": "f2c752f1",
   "metadata": {
    "execution": {
     "iopub.execute_input": "2022-04-26T13:04:51.020179Z",
     "iopub.status.busy": "2022-04-26T13:04:51.019415Z",
     "iopub.status.idle": "2022-04-26T13:04:51.129625Z",
     "shell.execute_reply": "2022-04-26T13:04:51.129113Z",
     "shell.execute_reply.started": "2022-04-26T12:54:40.405402Z"
    },
    "id": "aFbE-UHvsb7-",
    "papermill": {
     "duration": 0.183572,
     "end_time": "2022-04-26T13:04:51.129779",
     "exception": false,
     "start_time": "2022-04-26T13:04:50.946207",
     "status": "completed"
    },
    "tags": []
   },
   "outputs": [],
   "source": [
    "train_inputs, validation_inputs, train_labels, validation_labels = train_test_split(\n",
    "    input_ids, train_gt, \n",
    "    random_state=42,\n",
    "    test_size=0.1\n",
    ")\n",
    "\n",
    "train_masks, validation_masks, _, _ = train_test_split(\n",
    "    attention_masks,\n",
    "    input_ids,\n",
    "    random_state=42,\n",
    "    test_size=0.1\n",
    ")"
   ]
  },
  {
   "cell_type": "code",
   "execution_count": 23,
   "id": "56ddcbaa",
   "metadata": {
    "execution": {
     "iopub.execute_input": "2022-04-26T13:04:51.272568Z",
     "iopub.status.busy": "2022-04-26T13:04:51.271917Z",
     "iopub.status.idle": "2022-04-26T13:04:52.519254Z",
     "shell.execute_reply": "2022-04-26T13:04:52.518378Z",
     "shell.execute_reply.started": "2022-04-26T12:54:40.526708Z"
    },
    "id": "jw5K2A5Ko1RF",
    "papermill": {
     "duration": 1.321215,
     "end_time": "2022-04-26T13:04:52.519393",
     "exception": false,
     "start_time": "2022-04-26T13:04:51.198178",
     "status": "completed"
    },
    "tags": []
   },
   "outputs": [],
   "source": [
    "train_inputs = torch.tensor(train_inputs)\n",
    "train_labels = torch.tensor(train_labels)\n",
    "train_masks = torch.tensor(train_masks)"
   ]
  },
  {
   "cell_type": "code",
   "execution_count": 24,
   "id": "36f67e1e",
   "metadata": {
    "execution": {
     "iopub.execute_input": "2022-04-26T13:04:52.666263Z",
     "iopub.status.busy": "2022-04-26T13:04:52.665318Z",
     "iopub.status.idle": "2022-04-26T13:04:52.805045Z",
     "shell.execute_reply": "2022-04-26T13:04:52.804564Z",
     "shell.execute_reply.started": "2022-04-26T12:54:41.773194Z"
    },
    "papermill": {
     "duration": 0.216048,
     "end_time": "2022-04-26T13:04:52.805163",
     "exception": false,
     "start_time": "2022-04-26T13:04:52.589115",
     "status": "completed"
    },
    "tags": []
   },
   "outputs": [],
   "source": [
    "validation_inputs = torch.tensor(validation_inputs)\n",
    "validation_labels = torch.tensor(validation_labels)\n",
    "validation_masks = torch.tensor(validation_masks)"
   ]
  },
  {
   "cell_type": "code",
   "execution_count": 25,
   "id": "565d74af",
   "metadata": {
    "execution": {
     "iopub.execute_input": "2022-04-26T13:04:52.954146Z",
     "iopub.status.busy": "2022-04-26T13:04:52.953407Z",
     "iopub.status.idle": "2022-04-26T13:04:52.969626Z",
     "shell.execute_reply": "2022-04-26T13:04:52.969106Z",
     "shell.execute_reply.started": "2022-04-26T12:54:41.918318Z"
    },
    "papermill": {
     "duration": 0.094619,
     "end_time": "2022-04-26T13:04:52.969743",
     "exception": false,
     "start_time": "2022-04-26T13:04:52.875124",
     "status": "completed"
    },
    "tags": []
   },
   "outputs": [
    {
     "data": {
      "text/plain": [
       "tensor([0, 0, 0,  ..., 0, 1, 1])"
      ]
     },
     "execution_count": 25,
     "metadata": {},
     "output_type": "execute_result"
    }
   ],
   "source": [
    "train_labels"
   ]
  },
  {
   "cell_type": "code",
   "execution_count": 26,
   "id": "08607f65",
   "metadata": {
    "execution": {
     "iopub.execute_input": "2022-04-26T13:04:53.113046Z",
     "iopub.status.busy": "2022-04-26T13:04:53.112270Z",
     "iopub.status.idle": "2022-04-26T13:04:53.114292Z",
     "shell.execute_reply": "2022-04-26T13:04:53.114691Z",
     "shell.execute_reply.started": "2022-04-26T12:54:41.927833Z"
    },
    "id": "GEgLpFVlo1Z-",
    "papermill": {
     "duration": 0.076049,
     "end_time": "2022-04-26T13:04:53.114833",
     "exception": false,
     "start_time": "2022-04-26T13:04:53.038784",
     "status": "completed"
    },
    "tags": []
   },
   "outputs": [],
   "source": [
    "BATCH_SIZE = 10\n",
    "\n",
    "train_data = TensorDataset(train_inputs, train_masks, train_labels)\n",
    "train_dataloader = DataLoader(\n",
    "    train_data,\n",
    "    sampler=RandomSampler(train_data),\n",
    "    batch_size=BATCH_SIZE\n",
    ")"
   ]
  },
  {
   "cell_type": "code",
   "execution_count": 27,
   "id": "0fe0f44b",
   "metadata": {
    "execution": {
     "iopub.execute_input": "2022-04-26T13:04:53.254266Z",
     "iopub.status.busy": "2022-04-26T13:04:53.253512Z",
     "iopub.status.idle": "2022-04-26T13:04:53.258195Z",
     "shell.execute_reply": "2022-04-26T13:04:53.257804Z",
     "shell.execute_reply.started": "2022-04-26T12:54:41.936388Z"
    },
    "papermill": {
     "duration": 0.075398,
     "end_time": "2022-04-26T13:04:53.258301",
     "exception": false,
     "start_time": "2022-04-26T13:04:53.182903",
     "status": "completed"
    },
    "tags": []
   },
   "outputs": [],
   "source": [
    "validation_data = TensorDataset(validation_inputs, validation_masks, validation_labels)\n",
    "validation_dataloader = DataLoader(\n",
    "    validation_data,\n",
    "    sampler=SequentialSampler(validation_data),\n",
    "    batch_size=BATCH_SIZE*3\n",
    ")"
   ]
  },
  {
   "cell_type": "markdown",
   "id": "3bf8a26c",
   "metadata": {
    "id": "pNl8khAhPYju",
    "papermill": {
     "duration": 0.06864,
     "end_time": "2022-04-26T13:04:53.401776",
     "exception": false,
     "start_time": "2022-04-26T13:04:53.333136",
     "status": "completed"
    },
    "tags": []
   },
   "source": [
    "## Обучение модели"
   ]
  },
  {
   "cell_type": "markdown",
   "id": "b4c08245",
   "metadata": {
    "papermill": {
     "duration": 0.068522,
     "end_time": "2022-04-26T13:04:53.539579",
     "exception": false,
     "start_time": "2022-04-26T13:04:53.471057",
     "status": "completed"
    },
    "tags": []
   },
   "source": [
    "Загружаем [BertForSequenceClassification](https://github.com/huggingface/pytorch-pretrained-BERT/blob/master/pytorch_pretrained_bert/modeling.py#L1129):"
   ]
  },
  {
   "cell_type": "code",
   "execution_count": 28,
   "id": "031f4706",
   "metadata": {
    "execution": {
     "iopub.execute_input": "2022-04-26T13:04:53.681624Z",
     "iopub.status.busy": "2022-04-26T13:04:53.680977Z",
     "iopub.status.idle": "2022-04-26T13:04:53.683533Z",
     "shell.execute_reply": "2022-04-26T13:04:53.683112Z",
     "shell.execute_reply.started": "2022-04-26T12:54:41.946349Z"
    },
    "papermill": {
     "duration": 0.075182,
     "end_time": "2022-04-26T13:04:53.683647",
     "exception": false,
     "start_time": "2022-04-26T13:04:53.608465",
     "status": "completed"
    },
    "tags": []
   },
   "outputs": [],
   "source": [
    "from pytorch_transformers import AdamW, BertForSequenceClassification"
   ]
  },
  {
   "cell_type": "markdown",
   "id": "e447c588",
   "metadata": {
    "papermill": {
     "duration": 0.069451,
     "end_time": "2022-04-26T13:04:53.821402",
     "exception": false,
     "start_time": "2022-04-26T13:04:53.751951",
     "status": "completed"
    },
    "tags": []
   },
   "source": [
    "Аналогичные модели есть и для других задач:"
   ]
  },
  {
   "cell_type": "code",
   "execution_count": 29,
   "id": "92a3ca8a",
   "metadata": {
    "execution": {
     "iopub.execute_input": "2022-04-26T13:04:53.965116Z",
     "iopub.status.busy": "2022-04-26T13:04:53.964247Z",
     "iopub.status.idle": "2022-04-26T13:04:53.966069Z",
     "shell.execute_reply": "2022-04-26T13:04:53.966526Z",
     "shell.execute_reply.started": "2022-04-26T12:54:41.956147Z"
    },
    "papermill": {
     "duration": 0.076804,
     "end_time": "2022-04-26T13:04:53.966660",
     "exception": false,
     "start_time": "2022-04-26T13:04:53.889856",
     "status": "completed"
    },
    "tags": []
   },
   "outputs": [],
   "source": [
    "from pytorch_transformers import BertForQuestionAnswering, BertForTokenClassification"
   ]
  },
  {
   "cell_type": "code",
   "execution_count": 30,
   "id": "dcac20cd",
   "metadata": {
    "execution": {
     "iopub.execute_input": "2022-04-26T13:04:54.109373Z",
     "iopub.status.busy": "2022-04-26T13:04:54.108325Z",
     "iopub.status.idle": "2022-04-26T13:05:42.514577Z",
     "shell.execute_reply": "2022-04-26T13:05:42.515180Z",
     "shell.execute_reply.started": "2022-04-26T12:54:41.964741Z"
    },
    "id": "gFsCTp_mporB",
    "outputId": "dd067229-1925-4b37-f517-0c14e25420d1",
    "papermill": {
     "duration": 48.479878,
     "end_time": "2022-04-26T13:05:42.515386",
     "exception": false,
     "start_time": "2022-04-26T13:04:54.035508",
     "status": "completed"
    },
    "tags": []
   },
   "outputs": [
    {
     "name": "stderr",
     "output_type": "stream",
     "text": [
      "100%|██████████| 433/433 [00:00<00:00, 158089.63B/s]\n",
      "100%|██████████| 440473133/440473133 [00:36<00:00, 12080897.20B/s]\n"
     ]
    },
    {
     "data": {
      "text/plain": [
       "BertForSequenceClassification(\n",
       "  (bert): BertModel(\n",
       "    (embeddings): BertEmbeddings(\n",
       "      (word_embeddings): Embedding(30522, 768, padding_idx=0)\n",
       "      (position_embeddings): Embedding(512, 768)\n",
       "      (token_type_embeddings): Embedding(2, 768)\n",
       "      (LayerNorm): LayerNorm((768,), eps=1e-12, elementwise_affine=True)\n",
       "      (dropout): Dropout(p=0.1, inplace=False)\n",
       "    )\n",
       "    (encoder): BertEncoder(\n",
       "      (layer): ModuleList(\n",
       "        (0): BertLayer(\n",
       "          (attention): BertAttention(\n",
       "            (self): BertSelfAttention(\n",
       "              (query): Linear(in_features=768, out_features=768, bias=True)\n",
       "              (key): Linear(in_features=768, out_features=768, bias=True)\n",
       "              (value): Linear(in_features=768, out_features=768, bias=True)\n",
       "              (dropout): Dropout(p=0.1, inplace=False)\n",
       "            )\n",
       "            (output): BertSelfOutput(\n",
       "              (dense): Linear(in_features=768, out_features=768, bias=True)\n",
       "              (LayerNorm): LayerNorm((768,), eps=1e-12, elementwise_affine=True)\n",
       "              (dropout): Dropout(p=0.1, inplace=False)\n",
       "            )\n",
       "          )\n",
       "          (intermediate): BertIntermediate(\n",
       "            (dense): Linear(in_features=768, out_features=3072, bias=True)\n",
       "          )\n",
       "          (output): BertOutput(\n",
       "            (dense): Linear(in_features=3072, out_features=768, bias=True)\n",
       "            (LayerNorm): LayerNorm((768,), eps=1e-12, elementwise_affine=True)\n",
       "            (dropout): Dropout(p=0.1, inplace=False)\n",
       "          )\n",
       "        )\n",
       "        (1): BertLayer(\n",
       "          (attention): BertAttention(\n",
       "            (self): BertSelfAttention(\n",
       "              (query): Linear(in_features=768, out_features=768, bias=True)\n",
       "              (key): Linear(in_features=768, out_features=768, bias=True)\n",
       "              (value): Linear(in_features=768, out_features=768, bias=True)\n",
       "              (dropout): Dropout(p=0.1, inplace=False)\n",
       "            )\n",
       "            (output): BertSelfOutput(\n",
       "              (dense): Linear(in_features=768, out_features=768, bias=True)\n",
       "              (LayerNorm): LayerNorm((768,), eps=1e-12, elementwise_affine=True)\n",
       "              (dropout): Dropout(p=0.1, inplace=False)\n",
       "            )\n",
       "          )\n",
       "          (intermediate): BertIntermediate(\n",
       "            (dense): Linear(in_features=768, out_features=3072, bias=True)\n",
       "          )\n",
       "          (output): BertOutput(\n",
       "            (dense): Linear(in_features=3072, out_features=768, bias=True)\n",
       "            (LayerNorm): LayerNorm((768,), eps=1e-12, elementwise_affine=True)\n",
       "            (dropout): Dropout(p=0.1, inplace=False)\n",
       "          )\n",
       "        )\n",
       "        (2): BertLayer(\n",
       "          (attention): BertAttention(\n",
       "            (self): BertSelfAttention(\n",
       "              (query): Linear(in_features=768, out_features=768, bias=True)\n",
       "              (key): Linear(in_features=768, out_features=768, bias=True)\n",
       "              (value): Linear(in_features=768, out_features=768, bias=True)\n",
       "              (dropout): Dropout(p=0.1, inplace=False)\n",
       "            )\n",
       "            (output): BertSelfOutput(\n",
       "              (dense): Linear(in_features=768, out_features=768, bias=True)\n",
       "              (LayerNorm): LayerNorm((768,), eps=1e-12, elementwise_affine=True)\n",
       "              (dropout): Dropout(p=0.1, inplace=False)\n",
       "            )\n",
       "          )\n",
       "          (intermediate): BertIntermediate(\n",
       "            (dense): Linear(in_features=768, out_features=3072, bias=True)\n",
       "          )\n",
       "          (output): BertOutput(\n",
       "            (dense): Linear(in_features=3072, out_features=768, bias=True)\n",
       "            (LayerNorm): LayerNorm((768,), eps=1e-12, elementwise_affine=True)\n",
       "            (dropout): Dropout(p=0.1, inplace=False)\n",
       "          )\n",
       "        )\n",
       "        (3): BertLayer(\n",
       "          (attention): BertAttention(\n",
       "            (self): BertSelfAttention(\n",
       "              (query): Linear(in_features=768, out_features=768, bias=True)\n",
       "              (key): Linear(in_features=768, out_features=768, bias=True)\n",
       "              (value): Linear(in_features=768, out_features=768, bias=True)\n",
       "              (dropout): Dropout(p=0.1, inplace=False)\n",
       "            )\n",
       "            (output): BertSelfOutput(\n",
       "              (dense): Linear(in_features=768, out_features=768, bias=True)\n",
       "              (LayerNorm): LayerNorm((768,), eps=1e-12, elementwise_affine=True)\n",
       "              (dropout): Dropout(p=0.1, inplace=False)\n",
       "            )\n",
       "          )\n",
       "          (intermediate): BertIntermediate(\n",
       "            (dense): Linear(in_features=768, out_features=3072, bias=True)\n",
       "          )\n",
       "          (output): BertOutput(\n",
       "            (dense): Linear(in_features=3072, out_features=768, bias=True)\n",
       "            (LayerNorm): LayerNorm((768,), eps=1e-12, elementwise_affine=True)\n",
       "            (dropout): Dropout(p=0.1, inplace=False)\n",
       "          )\n",
       "        )\n",
       "        (4): BertLayer(\n",
       "          (attention): BertAttention(\n",
       "            (self): BertSelfAttention(\n",
       "              (query): Linear(in_features=768, out_features=768, bias=True)\n",
       "              (key): Linear(in_features=768, out_features=768, bias=True)\n",
       "              (value): Linear(in_features=768, out_features=768, bias=True)\n",
       "              (dropout): Dropout(p=0.1, inplace=False)\n",
       "            )\n",
       "            (output): BertSelfOutput(\n",
       "              (dense): Linear(in_features=768, out_features=768, bias=True)\n",
       "              (LayerNorm): LayerNorm((768,), eps=1e-12, elementwise_affine=True)\n",
       "              (dropout): Dropout(p=0.1, inplace=False)\n",
       "            )\n",
       "          )\n",
       "          (intermediate): BertIntermediate(\n",
       "            (dense): Linear(in_features=768, out_features=3072, bias=True)\n",
       "          )\n",
       "          (output): BertOutput(\n",
       "            (dense): Linear(in_features=3072, out_features=768, bias=True)\n",
       "            (LayerNorm): LayerNorm((768,), eps=1e-12, elementwise_affine=True)\n",
       "            (dropout): Dropout(p=0.1, inplace=False)\n",
       "          )\n",
       "        )\n",
       "        (5): BertLayer(\n",
       "          (attention): BertAttention(\n",
       "            (self): BertSelfAttention(\n",
       "              (query): Linear(in_features=768, out_features=768, bias=True)\n",
       "              (key): Linear(in_features=768, out_features=768, bias=True)\n",
       "              (value): Linear(in_features=768, out_features=768, bias=True)\n",
       "              (dropout): Dropout(p=0.1, inplace=False)\n",
       "            )\n",
       "            (output): BertSelfOutput(\n",
       "              (dense): Linear(in_features=768, out_features=768, bias=True)\n",
       "              (LayerNorm): LayerNorm((768,), eps=1e-12, elementwise_affine=True)\n",
       "              (dropout): Dropout(p=0.1, inplace=False)\n",
       "            )\n",
       "          )\n",
       "          (intermediate): BertIntermediate(\n",
       "            (dense): Linear(in_features=768, out_features=3072, bias=True)\n",
       "          )\n",
       "          (output): BertOutput(\n",
       "            (dense): Linear(in_features=3072, out_features=768, bias=True)\n",
       "            (LayerNorm): LayerNorm((768,), eps=1e-12, elementwise_affine=True)\n",
       "            (dropout): Dropout(p=0.1, inplace=False)\n",
       "          )\n",
       "        )\n",
       "        (6): BertLayer(\n",
       "          (attention): BertAttention(\n",
       "            (self): BertSelfAttention(\n",
       "              (query): Linear(in_features=768, out_features=768, bias=True)\n",
       "              (key): Linear(in_features=768, out_features=768, bias=True)\n",
       "              (value): Linear(in_features=768, out_features=768, bias=True)\n",
       "              (dropout): Dropout(p=0.1, inplace=False)\n",
       "            )\n",
       "            (output): BertSelfOutput(\n",
       "              (dense): Linear(in_features=768, out_features=768, bias=True)\n",
       "              (LayerNorm): LayerNorm((768,), eps=1e-12, elementwise_affine=True)\n",
       "              (dropout): Dropout(p=0.1, inplace=False)\n",
       "            )\n",
       "          )\n",
       "          (intermediate): BertIntermediate(\n",
       "            (dense): Linear(in_features=768, out_features=3072, bias=True)\n",
       "          )\n",
       "          (output): BertOutput(\n",
       "            (dense): Linear(in_features=3072, out_features=768, bias=True)\n",
       "            (LayerNorm): LayerNorm((768,), eps=1e-12, elementwise_affine=True)\n",
       "            (dropout): Dropout(p=0.1, inplace=False)\n",
       "          )\n",
       "        )\n",
       "        (7): BertLayer(\n",
       "          (attention): BertAttention(\n",
       "            (self): BertSelfAttention(\n",
       "              (query): Linear(in_features=768, out_features=768, bias=True)\n",
       "              (key): Linear(in_features=768, out_features=768, bias=True)\n",
       "              (value): Linear(in_features=768, out_features=768, bias=True)\n",
       "              (dropout): Dropout(p=0.1, inplace=False)\n",
       "            )\n",
       "            (output): BertSelfOutput(\n",
       "              (dense): Linear(in_features=768, out_features=768, bias=True)\n",
       "              (LayerNorm): LayerNorm((768,), eps=1e-12, elementwise_affine=True)\n",
       "              (dropout): Dropout(p=0.1, inplace=False)\n",
       "            )\n",
       "          )\n",
       "          (intermediate): BertIntermediate(\n",
       "            (dense): Linear(in_features=768, out_features=3072, bias=True)\n",
       "          )\n",
       "          (output): BertOutput(\n",
       "            (dense): Linear(in_features=3072, out_features=768, bias=True)\n",
       "            (LayerNorm): LayerNorm((768,), eps=1e-12, elementwise_affine=True)\n",
       "            (dropout): Dropout(p=0.1, inplace=False)\n",
       "          )\n",
       "        )\n",
       "        (8): BertLayer(\n",
       "          (attention): BertAttention(\n",
       "            (self): BertSelfAttention(\n",
       "              (query): Linear(in_features=768, out_features=768, bias=True)\n",
       "              (key): Linear(in_features=768, out_features=768, bias=True)\n",
       "              (value): Linear(in_features=768, out_features=768, bias=True)\n",
       "              (dropout): Dropout(p=0.1, inplace=False)\n",
       "            )\n",
       "            (output): BertSelfOutput(\n",
       "              (dense): Linear(in_features=768, out_features=768, bias=True)\n",
       "              (LayerNorm): LayerNorm((768,), eps=1e-12, elementwise_affine=True)\n",
       "              (dropout): Dropout(p=0.1, inplace=False)\n",
       "            )\n",
       "          )\n",
       "          (intermediate): BertIntermediate(\n",
       "            (dense): Linear(in_features=768, out_features=3072, bias=True)\n",
       "          )\n",
       "          (output): BertOutput(\n",
       "            (dense): Linear(in_features=3072, out_features=768, bias=True)\n",
       "            (LayerNorm): LayerNorm((768,), eps=1e-12, elementwise_affine=True)\n",
       "            (dropout): Dropout(p=0.1, inplace=False)\n",
       "          )\n",
       "        )\n",
       "        (9): BertLayer(\n",
       "          (attention): BertAttention(\n",
       "            (self): BertSelfAttention(\n",
       "              (query): Linear(in_features=768, out_features=768, bias=True)\n",
       "              (key): Linear(in_features=768, out_features=768, bias=True)\n",
       "              (value): Linear(in_features=768, out_features=768, bias=True)\n",
       "              (dropout): Dropout(p=0.1, inplace=False)\n",
       "            )\n",
       "            (output): BertSelfOutput(\n",
       "              (dense): Linear(in_features=768, out_features=768, bias=True)\n",
       "              (LayerNorm): LayerNorm((768,), eps=1e-12, elementwise_affine=True)\n",
       "              (dropout): Dropout(p=0.1, inplace=False)\n",
       "            )\n",
       "          )\n",
       "          (intermediate): BertIntermediate(\n",
       "            (dense): Linear(in_features=768, out_features=3072, bias=True)\n",
       "          )\n",
       "          (output): BertOutput(\n",
       "            (dense): Linear(in_features=3072, out_features=768, bias=True)\n",
       "            (LayerNorm): LayerNorm((768,), eps=1e-12, elementwise_affine=True)\n",
       "            (dropout): Dropout(p=0.1, inplace=False)\n",
       "          )\n",
       "        )\n",
       "        (10): BertLayer(\n",
       "          (attention): BertAttention(\n",
       "            (self): BertSelfAttention(\n",
       "              (query): Linear(in_features=768, out_features=768, bias=True)\n",
       "              (key): Linear(in_features=768, out_features=768, bias=True)\n",
       "              (value): Linear(in_features=768, out_features=768, bias=True)\n",
       "              (dropout): Dropout(p=0.1, inplace=False)\n",
       "            )\n",
       "            (output): BertSelfOutput(\n",
       "              (dense): Linear(in_features=768, out_features=768, bias=True)\n",
       "              (LayerNorm): LayerNorm((768,), eps=1e-12, elementwise_affine=True)\n",
       "              (dropout): Dropout(p=0.1, inplace=False)\n",
       "            )\n",
       "          )\n",
       "          (intermediate): BertIntermediate(\n",
       "            (dense): Linear(in_features=768, out_features=3072, bias=True)\n",
       "          )\n",
       "          (output): BertOutput(\n",
       "            (dense): Linear(in_features=3072, out_features=768, bias=True)\n",
       "            (LayerNorm): LayerNorm((768,), eps=1e-12, elementwise_affine=True)\n",
       "            (dropout): Dropout(p=0.1, inplace=False)\n",
       "          )\n",
       "        )\n",
       "        (11): BertLayer(\n",
       "          (attention): BertAttention(\n",
       "            (self): BertSelfAttention(\n",
       "              (query): Linear(in_features=768, out_features=768, bias=True)\n",
       "              (key): Linear(in_features=768, out_features=768, bias=True)\n",
       "              (value): Linear(in_features=768, out_features=768, bias=True)\n",
       "              (dropout): Dropout(p=0.1, inplace=False)\n",
       "            )\n",
       "            (output): BertSelfOutput(\n",
       "              (dense): Linear(in_features=768, out_features=768, bias=True)\n",
       "              (LayerNorm): LayerNorm((768,), eps=1e-12, elementwise_affine=True)\n",
       "              (dropout): Dropout(p=0.1, inplace=False)\n",
       "            )\n",
       "          )\n",
       "          (intermediate): BertIntermediate(\n",
       "            (dense): Linear(in_features=768, out_features=3072, bias=True)\n",
       "          )\n",
       "          (output): BertOutput(\n",
       "            (dense): Linear(in_features=3072, out_features=768, bias=True)\n",
       "            (LayerNorm): LayerNorm((768,), eps=1e-12, elementwise_affine=True)\n",
       "            (dropout): Dropout(p=0.1, inplace=False)\n",
       "          )\n",
       "        )\n",
       "      )\n",
       "    )\n",
       "    (pooler): BertPooler(\n",
       "      (dense): Linear(in_features=768, out_features=768, bias=True)\n",
       "      (activation): Tanh()\n",
       "    )\n",
       "  )\n",
       "  (dropout): Dropout(p=0.1, inplace=False)\n",
       "  (classifier): Linear(in_features=768, out_features=2, bias=True)\n",
       ")"
      ]
     },
     "execution_count": 30,
     "metadata": {},
     "output_type": "execute_result"
    }
   ],
   "source": [
    "model = BertForSequenceClassification.from_pretrained(\"bert-base-uncased\", num_labels=2)\n",
    "# model = BertForSequenceClassification.from_pretrained(\"bert-base-multilingual-uncased\", num_labels=2)\n",
    "model.cuda()"
   ]
  },
  {
   "cell_type": "code",
   "execution_count": 31,
   "id": "1a7248f2",
   "metadata": {
    "execution": {
     "iopub.execute_input": "2022-04-26T13:05:42.804672Z",
     "iopub.status.busy": "2022-04-26T13:05:42.803799Z",
     "iopub.status.idle": "2022-04-26T13:05:42.805494Z",
     "shell.execute_reply": "2022-04-26T13:05:42.805906Z",
     "shell.execute_reply.started": "2022-04-26T12:54:48.174866Z"
    },
    "id": "QxSMw0FrptiL",
    "papermill": {
     "duration": 0.149157,
     "end_time": "2022-04-26T13:05:42.806038",
     "exception": false,
     "start_time": "2022-04-26T13:05:42.656881",
     "status": "completed"
    },
    "tags": []
   },
   "outputs": [],
   "source": [
    "param_optimizer = list(model.named_parameters())\n",
    "no_decay = ['bias', 'gamma', 'beta']\n",
    "optimizer_grouped_parameters = [\n",
    "    {'params': [p for n, p in param_optimizer if not any(nd in n for nd in no_decay)],\n",
    "     'weight_decay_rate': 0.01},\n",
    "    {'params': [p for n, p in param_optimizer if any(nd in n for nd in no_decay)],\n",
    "     'weight_decay_rate': 0.0}\n",
    "]\n",
    "\n",
    "optimizer = AdamW(optimizer_grouped_parameters, lr=2e-5)\n",
    "\n"
   ]
  },
  {
   "cell_type": "code",
   "execution_count": 32,
   "id": "190ac7bd",
   "metadata": {
    "execution": {
     "iopub.execute_input": "2022-04-26T13:05:43.087691Z",
     "iopub.status.busy": "2022-04-26T13:05:43.086981Z",
     "iopub.status.idle": "2022-04-26T13:47:30.906224Z",
     "shell.execute_reply": "2022-04-26T13:47:30.905614Z",
     "shell.execute_reply.started": "2022-04-26T12:54:48.185573Z"
    },
    "id": "6J-FYdx6nFE_",
    "outputId": "8e388ad1-f9db-4c7b-d080-6c0a0e964610",
    "papermill": {
     "duration": 2507.964824,
     "end_time": "2022-04-26T13:47:30.906382",
     "exception": false,
     "start_time": "2022-04-26T13:05:42.941558",
     "status": "completed"
    },
    "tags": []
   },
   "outputs": [
    {
     "data": {
      "image/png": "[encoded data removed]",
      "text/plain": [
       "<Figure size 432x288 with 1 Axes>"
      ]
     },
     "metadata": {
      "needs_background": "light"
     },
     "output_type": "display_data"
    },
    {
     "name": "stdout",
     "output_type": "stream",
     "text": [
      "Loss на обучающей выборке: 0.22756\n"
     ]
    }
   ],
   "source": [
    "from IPython.display import clear_output\n",
    "\n",
    "# Будем сохранять loss во время обучения\n",
    "# и рисовать график в режиме реального времени\n",
    "train_loss_set = []\n",
    "train_loss = 0\n",
    "\n",
    "\n",
    "# Обучение\n",
    "# Переводим модель в training mode\n",
    "model.train()\n",
    "\n",
    "\n",
    "for step, batch in enumerate(train_dataloader):\n",
    "    # добавляем батч для вычисления на GPU\n",
    "    batch = tuple(t.to(device) for t in batch)\n",
    "    # Распаковываем данные из dataloader\n",
    "    b_input_ids, b_input_mask, b_labels = batch\n",
    "    \n",
    "    # если не сделать .zero_grad(), градиенты будут накапливаться\n",
    "    optimizer.zero_grad()\n",
    "    \n",
    "    # Forward pass\n",
    "    loss = model(b_input_ids, token_type_ids=None, attention_mask=b_input_mask, labels=b_labels)\n",
    "\n",
    "    train_loss_set.append(loss[0].item())  \n",
    "    \n",
    "    # Backward pass\n",
    "    loss[0].backward()\n",
    "    \n",
    "    # Обновляем параметры и делаем шаг используя посчитанные градиенты\n",
    "    optimizer.step()\n",
    "\n",
    "    # Обновляем loss\n",
    "    train_loss += loss[0].item()\n",
    "    \n",
    "    # Рисуем график\n",
    "    clear_output(True)\n",
    "    plt.plot(train_loss_set)\n",
    "    plt.title(\"Training loss\")\n",
    "    plt.xlabel(\"Batch\")\n",
    "    plt.ylabel(\"Loss\")\n",
    "    plt.show()\n",
    "    \n",
    "    \n",
    "print(\"Loss на обучающей выборке: {0:.5f}\".format(train_loss / len(train_dataloader)))"
   ]
  },
  {
   "cell_type": "code",
   "execution_count": 33,
   "id": "f2f2650f",
   "metadata": {
    "execution": {
     "iopub.execute_input": "2022-04-26T13:47:31.191875Z",
     "iopub.status.busy": "2022-04-26T13:47:31.190879Z",
     "iopub.status.idle": "2022-04-26T13:48:35.011207Z",
     "shell.execute_reply": "2022-04-26T13:48:35.011862Z",
     "shell.execute_reply.started": "2022-04-26T12:54:57.668953Z"
    },
    "id": "6J-FYdx6nFE_",
    "outputId": "8e388ad1-f9db-4c7b-d080-6c0a0e964610",
    "papermill": {
     "duration": 63.966925,
     "end_time": "2022-04-26T13:48:35.012054",
     "exception": false,
     "start_time": "2022-04-26T13:47:31.045129",
     "status": "completed"
    },
    "tags": []
   },
   "outputs": [
    {
     "name": "stdout",
     "output_type": "stream",
     "text": [
      "Процент правильных предсказаний на валидационной выборке: 92.06%\n"
     ]
    }
   ],
   "source": [
    "# Валидация\n",
    "# Переводим модель в evaluation mode\n",
    "model.eval()\n",
    "\n",
    "valid_preds, valid_labels = [], []\n",
    "\n",
    "for batch in validation_dataloader:   \n",
    "    # добавляем батч для вычисления на GPU\n",
    "    batch = tuple(t.to(device) for t in batch)\n",
    "    \n",
    "    # Распаковываем данные из dataloader\n",
    "    b_input_ids, b_input_mask, b_labels = batch\n",
    "    \n",
    "    # При использовании .no_grad() модель не будет считать и хранить градиенты.\n",
    "    # Это ускорит процесс предсказания меток для валидационных данных.\n",
    "    with torch.no_grad():\n",
    "        logits = model(b_input_ids, token_type_ids=None, attention_mask=b_input_mask)\n",
    "\n",
    "    # Перемещаем logits и метки классов на CPU для дальнейшей работы\n",
    "    logits = logits[0].detach().cpu().numpy()\n",
    "    label_ids = b_labels.to('cpu').numpy()\n",
    "    \n",
    "    batch_preds = np.argmax(logits, axis=1)\n",
    "    # изначально было np.concatenate(label_ids), но по какой то причина на этом датасете\n",
    "    # такой вариант не работает, т.к. мы получаем плоский тензор, в итоге заменил на \n",
    "    # конструкцию ниже (хотя на само деле непонятно как работало раньше)\n",
    "    batch_labels = np.concatenate([label_ids] if label_ids.ndim == 1 else label_ids)\n",
    "    valid_preds.extend(batch_preds)\n",
    "    valid_labels.extend(batch_labels)\n",
    "\n",
    "print(\"Процент правильных предсказаний на валидационной выборке: {0:.2f}%\".format(\n",
    "    accuracy_score(valid_labels, valid_preds) * 100\n",
    "))"
   ]
  },
  {
   "cell_type": "code",
   "execution_count": 34,
   "id": "d39e0a82",
   "metadata": {
    "execution": {
     "iopub.execute_input": "2022-04-26T13:48:35.299352Z",
     "iopub.status.busy": "2022-04-26T13:48:35.298465Z",
     "iopub.status.idle": "2022-04-26T13:48:35.304529Z",
     "shell.execute_reply": "2022-04-26T13:48:35.304030Z",
     "shell.execute_reply.started": "2022-04-26T12:54:57.887197Z"
    },
    "papermill": {
     "duration": 0.151196,
     "end_time": "2022-04-26T13:48:35.304653",
     "exception": false,
     "start_time": "2022-04-26T13:48:35.153457",
     "status": "completed"
    },
    "tags": []
   },
   "outputs": [
    {
     "name": "stdout",
     "output_type": "stream",
     "text": [
      "Процент правильных предсказаний на валидационной выборке: 92.06%\n"
     ]
    }
   ],
   "source": [
    "print(\"Процент правильных предсказаний на валидационной выборке: {0:.2f}%\".format(\n",
    "    accuracy_score(valid_labels, valid_preds) * 100\n",
    "))"
   ]
  },
  {
   "cell_type": "markdown",
   "id": "054d5e08",
   "metadata": {
    "id": "mkyubuJSOzg3",
    "papermill": {
     "duration": 0.136959,
     "end_time": "2022-04-26T13:48:35.584298",
     "exception": false,
     "start_time": "2022-04-26T13:48:35.447339",
     "status": "completed"
    },
    "tags": []
   },
   "source": [
    "# Оценка качества на отложенной выборке"
   ]
  },
  {
   "cell_type": "code",
   "execution_count": 35,
   "id": "15732670",
   "metadata": {
    "execution": {
     "iopub.execute_input": "2022-04-26T13:48:35.894141Z",
     "iopub.status.busy": "2022-04-26T13:48:35.884002Z",
     "iopub.status.idle": "2022-04-26T13:50:04.066362Z",
     "shell.execute_reply": "2022-04-26T13:50:04.067040Z",
     "shell.execute_reply.started": "2022-04-26T12:54:57.896259Z"
    },
    "id": "mAN0LZBOOPVh",
    "papermill": {
     "duration": 88.347576,
     "end_time": "2022-04-26T13:50:04.067243",
     "exception": false,
     "start_time": "2022-04-26T13:48:35.719667",
     "status": "completed"
    },
    "tags": []
   },
   "outputs": [],
   "source": [
    "tokenized_texts = [tokenizer.tokenize(sent) for sent in test_sentences]\n",
    "input_ids = [tokenizer.convert_tokens_to_ids(x) for x in tokenized_texts]\n",
    "\n",
    "input_ids = pad_sequences(\n",
    "    input_ids,\n",
    "    maxlen=MAX_LEN,\n",
    "    dtype=\"long\",\n",
    "    truncating=TRUNC_PAD_TYPE,\n",
    "    padding=TRUNC_PAD_TYPE\n",
    ")"
   ]
  },
  {
   "cell_type": "code",
   "execution_count": 36,
   "id": "87ec9a43",
   "metadata": {
    "execution": {
     "iopub.execute_input": "2022-04-26T13:50:04.377825Z",
     "iopub.status.busy": "2022-04-26T13:50:04.357484Z",
     "iopub.status.idle": "2022-04-26T13:50:10.841759Z",
     "shell.execute_reply": "2022-04-26T13:50:10.840892Z",
     "shell.execute_reply.started": "2022-04-26T12:57:36.885556Z"
    },
    "papermill": {
     "duration": 6.638131,
     "end_time": "2022-04-26T13:50:10.841900",
     "exception": false,
     "start_time": "2022-04-26T13:50:04.203769",
     "status": "completed"
    },
    "tags": []
   },
   "outputs": [],
   "source": [
    "attention_masks = [[float(i>0) for i in seq] for seq in input_ids]\n",
    "\n",
    "prediction_inputs = torch.tensor(input_ids)\n",
    "prediction_masks = torch.tensor(attention_masks)\n",
    "prediction_labels = torch.tensor(test_gt)\n",
    "\n",
    "prediction_data = TensorDataset(\n",
    "    prediction_inputs,\n",
    "    prediction_masks,\n",
    "    prediction_labels\n",
    ")\n",
    "\n",
    "prediction_dataloader = DataLoader(\n",
    "    prediction_data, \n",
    "    sampler=SequentialSampler(prediction_data),\n",
    "    batch_size=BATCH_SIZE*3\n",
    ")"
   ]
  },
  {
   "cell_type": "code",
   "execution_count": 37,
   "id": "05e38531",
   "metadata": {
    "execution": {
     "iopub.execute_input": "2022-04-26T13:50:11.124645Z",
     "iopub.status.busy": "2022-04-26T13:50:11.123852Z",
     "iopub.status.idle": "2022-04-26T13:54:44.124982Z",
     "shell.execute_reply": "2022-04-26T13:54:44.124518Z"
    },
    "id": "Hba10sXR7Xi6",
    "papermill": {
     "duration": 273.147199,
     "end_time": "2022-04-26T13:54:44.125117",
     "exception": false,
     "start_time": "2022-04-26T13:50:10.977918",
     "status": "completed"
    },
    "tags": []
   },
   "outputs": [],
   "source": [
    "model.eval()\n",
    "test_preds, test_labels = [], []\n",
    "\n",
    "for batch in prediction_dataloader:\n",
    "    # добавляем батч для вычисления на GPU\n",
    "    batch = tuple(t.to(device) for t in batch)\n",
    "    \n",
    "    # Распаковываем данные из dataloader\n",
    "    b_input_ids, b_input_mask, b_labels = batch\n",
    "    \n",
    "    # При использовании .no_grad() модель не будет считать и хранить градиенты.\n",
    "    # Это ускорит процесс предсказания меток для тестовых данных.\n",
    "    with torch.no_grad():\n",
    "        logits = model(b_input_ids, token_type_ids=None, attention_mask=b_input_mask)\n",
    "\n",
    "    # Перемещаем logits и метки классов на CPU для дальнейшей работы\n",
    "    logits = logits[0].detach().cpu().numpy()\n",
    "    label_ids = b_labels.to('cpu').numpy()\n",
    "\n",
    "    # Сохраняем предсказанные классы и ground truth\n",
    "    batch_preds = np.argmax(logits, axis=1)\n",
    "    batch_labels = np.concatenate([label_ids] if label_ids.ndim == 1 else label_ids)  \n",
    "    test_preds.extend(batch_preds)\n",
    "    test_labels.extend(batch_labels)"
   ]
  },
  {
   "cell_type": "code",
   "execution_count": 38,
   "id": "1f488acf",
   "metadata": {
    "execution": {
     "iopub.execute_input": "2022-04-26T13:54:44.404928Z",
     "iopub.status.busy": "2022-04-26T13:54:44.404144Z",
     "iopub.status.idle": "2022-04-26T13:54:44.412788Z",
     "shell.execute_reply": "2022-04-26T13:54:44.412355Z",
     "shell.execute_reply.started": "2022-04-26T12:56:32.884961Z"
    },
    "papermill": {
     "duration": 0.151181,
     "end_time": "2022-04-26T13:54:44.412908",
     "exception": false,
     "start_time": "2022-04-26T13:54:44.261727",
     "status": "completed"
    },
    "tags": []
   },
   "outputs": [
    {
     "name": "stdout",
     "output_type": "stream",
     "text": [
      "Процент правильных предсказаний на отложенной выборке составил: 91.69%\n"
     ]
    }
   ],
   "source": [
    "acc_score = accuracy_score(test_labels, test_preds)\n",
    "print('Процент правильных предсказаний на отложенной выборке составил: {0:.2f}%'.format(\n",
    "    acc_score*100\n",
    "))"
   ]
  },
  {
   "cell_type": "code",
   "execution_count": 39,
   "id": "d82c7af8",
   "metadata": {
    "execution": {
     "iopub.execute_input": "2022-04-26T13:54:44.734262Z",
     "iopub.status.busy": "2022-04-26T13:54:44.733043Z",
     "iopub.status.idle": "2022-04-26T13:54:44.737328Z",
     "shell.execute_reply": "2022-04-26T13:54:44.736715Z",
     "shell.execute_reply.started": "2022-04-26T12:56:32.886867Z"
    },
    "papermill": {
     "duration": 0.188937,
     "end_time": "2022-04-26T13:54:44.737491",
     "exception": false,
     "start_time": "2022-04-26T13:54:44.548554",
     "status": "completed"
    },
    "tags": []
   },
   "outputs": [
    {
     "name": "stdout",
     "output_type": "stream",
     "text": [
      "Неправильных предсказаний: 1246/15000\n"
     ]
    }
   ],
   "source": [
    "print('Неправильных предсказаний: {0}/{1}'.format(\n",
    "    sum(np.array(test_labels) != np.array(test_preds)),\n",
    "    len(test_labels)\n",
    "))"
   ]
  },
  {
   "cell_type": "code",
   "execution_count": null,
   "id": "0aff8cd5",
   "metadata": {
    "papermill": {
     "duration": 0.136926,
     "end_time": "2022-04-26T13:54:45.013190",
     "exception": false,
     "start_time": "2022-04-26T13:54:44.876264",
     "status": "completed"
    },
    "tags": []
   },
   "outputs": [],
   "source": []
  }
 ],
 "metadata": {
  "kernelspec": {
   "display_name": "Python 3",
   "language": "python",
   "name": "python3"
  },
  "language_info": {
   "codemirror_mode": {
    "name": "ipython",
    "version": 3
   },
   "file_extension": ".py",
   "mimetype": "text/x-python",
   "name": "python",
   "nbconvert_exporter": "python",
   "pygments_lexer": "ipython3",
   "version": "3.7.12"
  },
  "papermill": {
   "default_parameters": {},
   "duration": 3258.104338,
   "end_time": "2022-04-26T13:54:48.160373",
   "environment_variables": {},
   "exception": null,
   "input_path": "__notebook__.ipynb",
   "output_path": "__notebook__.ipynb",
   "parameters": {},
   "start_time": "2022-04-26T13:00:30.056035",
   "version": "2.3.3"
  }
 },
 "nbformat": 4,
 "nbformat_minor": 5
}
