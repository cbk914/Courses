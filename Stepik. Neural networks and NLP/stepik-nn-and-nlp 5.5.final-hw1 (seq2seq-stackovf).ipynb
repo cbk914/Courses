{
 "cells": [
  {
   "cell_type": "code",
   "execution_count": 1,
   "id": "b9511b54",
   "metadata": {
    "execution": {
     "iopub.execute_input": "2022-04-07T08:53:05.268864Z",
     "iopub.status.busy": "2022-04-07T08:53:05.267841Z",
     "iopub.status.idle": "2022-04-07T08:53:05.271727Z",
     "shell.execute_reply": "2022-04-07T08:53:05.272220Z"
    },
    "papermill": {
     "duration": 0.069378,
     "end_time": "2022-04-07T08:53:05.272496",
     "exception": false,
     "start_time": "2022-04-07T08:53:05.203118",
     "status": "completed"
    },
    "tags": []
   },
   "outputs": [],
   "source": [
    "# This Python 3 environment comes with many helpful analytics libraries installed\n",
    "# It is defined by the kaggle/python Docker image: https://github.com/kaggle/docker-python\n",
    "# For example, here's several helpful packages to load\n",
    "\n",
    "import numpy as np # linear algebra\n",
    "import pandas as pd # data processing, CSV file I/O (e.g. pd.read_csv)\n",
    "\n",
    "# Input data files are available in the read-only \"../input/\" directory\n",
    "# For example, running this (by clicking run or pressing Shift+Enter) will list all files under the input directory\n",
    "\n",
    "import os\n",
    "for dirname, _, filenames in os.walk('/kaggle/input'):\n",
    "    for filename in filenames:\n",
    "        print(os.path.join(dirname, filename))\n",
    "\n",
    "# You can write up to 20GB to the current directory (/kaggle/working/) that gets preserved as output when you create a version using \"Save & Run All\" \n",
    "# You can also write temporary files to /kaggle/temp/, but they won't be saved outside of the current session"
   ]
  },
  {
   "cell_type": "raw",
   "id": "a3bee4cb",
   "metadata": {
    "papermill": {
     "duration": 0.052544,
     "end_time": "2022-04-07T08:53:05.380273",
     "exception": false,
     "start_time": "2022-04-07T08:53:05.327729",
     "status": "completed"
    },
    "tags": []
   },
   "source": [
    "Домашнее задание №1\n",
    "\n",
    "При обучении seq2seq модели из семинара качество работы модели оказалось не слишком хорошим. У этого есть несколько причин:\n",
    "    - Слишком маленький датасет. На 2000 пар сложно обучить хорошую модель для решения такой сложной задачи.\n",
    "    - Модель очень простая, есть смысл попробовать усложнить ее (использовать другие архитектуры, например, Трансформер, разобранный в предыдущих лекциях и семинарах).\n",
    "    - Стоит более аккуратно подбирать параметры модели. Обратите внимание на:\n",
    "         -- Процесс построения словаря. Может быть, нужно поварьировать параметры min_freq, max_freq.\n",
    "         -- Dropout. Есть ли смысл добавлять еще больше dropout в модель?\n",
    "         -- Стратегия изменения learning rate в процессе обучения.\n",
    "\n",
    "В качестве домашнего задания мы предлагаем Вам поэкспериментировать с кодом этого семинара и улучшить качество работы модели. В репозитории курса выложены два датасета: один из них (conala, 2000 пар на обучение) был разобран видео, второй (StaQC, 50000 пар на обучение) Вам предлагается использовать в домашней работе. Для начала Вы можете проверить, помогает ли улучшить качество работы модели использование большего количества данных без каких-либо дополнительных улучшений."
   ]
  },
  {
   "cell_type": "raw",
   "id": "fca622e1",
   "metadata": {
    "papermill": {
     "duration": 0.052607,
     "end_time": "2022-04-07T08:53:05.485848",
     "exception": false,
     "start_time": "2022-04-07T08:53:05.433241",
     "status": "completed"
    },
    "tags": []
   },
   "source": [
    "Итоговые задания для меня:\n",
    "    + понять код семинара, где нужно, добавить соответсвующие комментарии\n",
    "    + сам код моделей изучить на основе распечаток ноутбуков 3, 4 серии лекций PyTorch Seq2Seq (ссылка ниже)\n",
    "    + сохранить (через Save Version) текущий baseline (на датасете conala, 2000) со всеми его выводами\n",
    "    + запустить baseline на датасете StaQC, 50000, сравить результаты с данными на датасете conala, 2000\n",
    "    + оценить качество данных в датасете, если нужно обработать дополнительно (почистить и т.п.)\n",
    "    + решено было основную часть задач (в ячейке ниже) выпонить в рамках 2-й части ДЗ (машинный перевод), \n",
    "      т.к. текущий код, являющийся косметическим изменением серии статей (ниже ссылка) кода для машинного\n",
    "      перевода, требует намного более серьезных и затратных по времени изменений, для того, что бы получить \n",
    "      хоть какие-то вменяемые результаты в задаче генерации текста по запросу, более того, сама задача \n",
    "      является призрачно выполнимой (для реального применения) текущими методами, т.к. зависимость между\n",
    "      вопросом и кодом очень слабая (как по смысле, так и по объему), целевых реализаций кода, может быть\n",
    "      очень много. Реальные результаты, в целом возможны, если обучаться только на коротких кодах, идеально\n",
    "      однострочных. Если рассматривать семинар seq2sec в качестве получения опыта, то намного более\n",
    "      полезный профит я получу на примере ДЗ №2, углубленному изучению оригинальных статей по машинному \n",
    "      переводу, экспериментам с ними, изучение метрик BLEU, применению кода для задачи перевода EN-RU и т.д.\n",
    "\n",
    "Примечания:\n",
    "- за основу урока взят код урока 4 \"Packed Padded Sequences, Masking, Inference and BLEU\" из серии \n",
    "  https://github.com/bentrevett/pytorch-seq2seq , код постепенно усложняется от урока к уроку для понимания,\n",
    "  лучше всего чиать уроки пошагово (возможно достаточно начать с 3-го урока)"
   ]
  },
  {
   "cell_type": "raw",
   "id": "8dfe9236",
   "metadata": {
    "papermill": {
     "duration": 0.051339,
     "end_time": "2022-04-07T08:53:05.589814",
     "exception": false,
     "start_time": "2022-04-07T08:53:05.538475",
     "status": "completed"
    },
    "tags": []
   },
   "source": [
    "Задания, которые было решено выполнить в рамках 2-й части ДЗ (машинный перевод):\n",
    "    - определиться с метриками и конкретными примерами для дальнейших сравнений результатов экспериментов\n",
    "    - поэкспериментировать с baseline_StaQC (но без излишнего увлечения)\n",
    "         -- Процесс построения словаря. Может быть, нужно поварьировать параметры min_freq, max_freq.\n",
    "         -- Dropout. Есть ли смысл добавлять еще больше dropout в модель?\n",
    "         -- Стратегия изменения learning rate в процессе обучения\n",
    "    - применить для решения задачи другую архитектуру, а именно Трансформер\n",
    "    - поэкспериментировать с Transformer_StaQC\n",
    "         -- ...\n",
    "         -- ...\n",
    "         -- ...\n",
    "    - сравнить результаты baseline_StaQC и Transformer_StaQC"
   ]
  },
  {
   "cell_type": "markdown",
   "id": "49836465",
   "metadata": {
    "papermill": {
     "duration": 0.052665,
     "end_time": "2022-04-07T08:53:05.694073",
     "exception": false,
     "start_time": "2022-04-07T08:53:05.641408",
     "status": "completed"
    },
    "tags": []
   },
   "source": [
    "# Генерация кода по вопросам со StackOverflow\n"
   ]
  },
  {
   "cell_type": "code",
   "execution_count": 2,
   "id": "f87ac90d",
   "metadata": {
    "execution": {
     "iopub.execute_input": "2022-04-07T08:53:05.802222Z",
     "iopub.status.busy": "2022-04-07T08:53:05.801387Z",
     "iopub.status.idle": "2022-04-07T08:53:05.803621Z",
     "shell.execute_reply": "2022-04-07T08:53:05.803051Z"
    },
    "papermill": {
     "duration": 0.057808,
     "end_time": "2022-04-07T08:53:05.803739",
     "exception": false,
     "start_time": "2022-04-07T08:53:05.745931",
     "status": "completed"
    },
    "tags": []
   },
   "outputs": [],
   "source": [
    "# Если Вы запускаете ноутбук на colab или kaggle,\n",
    "# выполните следующие строчки, чтобы подгрузить библиотеку dlnlputils:\n",
    "\n",
    "# !git clone https://github.com/Samsung-IT-Academy/stepik-dl-nlp.git && pip install -r stepik-dl-nlp/requirements.txt\n",
    "# import sys; sys.path.append('./stepik-dl-nlp')"
   ]
  },
  {
   "cell_type": "code",
   "execution_count": 3,
   "id": "e544fe3d",
   "metadata": {
    "execution": {
     "iopub.execute_input": "2022-04-07T08:53:05.914899Z",
     "iopub.status.busy": "2022-04-07T08:53:05.914104Z",
     "iopub.status.idle": "2022-04-07T08:53:17.046576Z",
     "shell.execute_reply": "2022-04-07T08:53:17.046079Z"
    },
    "papermill": {
     "duration": 11.190479,
     "end_time": "2022-04-07T08:53:17.046713",
     "exception": false,
     "start_time": "2022-04-07T08:53:05.856234",
     "status": "completed"
    },
    "tags": []
   },
   "outputs": [],
   "source": [
    "import torch\n",
    "import torch.nn as nn\n",
    "import torch.optim as optim\n",
    "import torch.nn.functional as F\n",
    "\n",
    "#from torchtext.datasets import Multi30k\n",
    "from torchtext.legacy.datasets import TranslationDataset\n",
    "from torchtext.legacy.data import Field, TabularDataset, BucketIterator\n",
    "\n",
    "import matplotlib.pyplot as plt\n",
    "import matplotlib.ticker as ticker\n",
    "\n",
    "import spacy\n",
    "\n",
    "import random\n",
    "import math\n",
    "import time"
   ]
  },
  {
   "cell_type": "code",
   "execution_count": 4,
   "id": "69ff3d7b",
   "metadata": {
    "execution": {
     "iopub.execute_input": "2022-04-07T08:53:17.145192Z",
     "iopub.status.busy": "2022-04-07T08:53:17.144516Z",
     "iopub.status.idle": "2022-04-07T08:53:17.149117Z",
     "shell.execute_reply": "2022-04-07T08:53:17.148674Z"
    },
    "papermill": {
     "duration": 0.055348,
     "end_time": "2022-04-07T08:53:17.149226",
     "exception": false,
     "start_time": "2022-04-07T08:53:17.093878",
     "status": "completed"
    },
    "tags": []
   },
   "outputs": [],
   "source": [
    "SEED = 1234\n",
    "\n",
    "random.seed(SEED)\n",
    "torch.manual_seed(SEED)\n",
    "torch.backends.cudnn.deterministic = True"
   ]
  },
  {
   "cell_type": "code",
   "execution_count": 5,
   "id": "21ca63aa",
   "metadata": {
    "execution": {
     "iopub.execute_input": "2022-04-07T08:53:17.249342Z",
     "iopub.status.busy": "2022-04-07T08:53:17.248425Z",
     "iopub.status.idle": "2022-04-07T08:53:17.250119Z",
     "shell.execute_reply": "2022-04-07T08:53:17.250641Z"
    },
    "papermill": {
     "duration": 0.054887,
     "end_time": "2022-04-07T08:53:17.250777",
     "exception": false,
     "start_time": "2022-04-07T08:53:17.195890",
     "status": "completed"
    },
    "tags": []
   },
   "outputs": [],
   "source": [
    "import re\n",
    "\n",
    "#place of possible hyperparameters (max_len)\n",
    "def tokenize_question(text, max_len = 16):\n",
    "    \"\"\"\n",
    "    Tokenizes question from a string into a list of strings (tokens) and reverses it\n",
    "    tokenize_question('Omg, over_16_symbols_in_word, what does this code do?') -> \n",
    "    ['do', 'code', 'this', 'does', 'what', 'Omg']\n",
    "    \"\"\"\n",
    "    return list(filter(lambda x: len(x) <= max_len, re.findall(r\"[\\w']+\", text)[::-1]))\n",
    "\n",
    "#place of possible hyperparameters (max_len)\n",
    "def tokenize_snippet(text, max_len = 10):\n",
    "    \"\"\"\n",
    "    Tokenizes code snippet into a list of operands\n",
    "    tokenize_snippet(\"device = torch.device('cuda' if torch.cuda.is_available() else 'cpu') #dfgdfgdfgdfgdfgdfgdrg\") ->\n",
    "    ['device', '=', 'torch', '.', 'device', '(', \"'cuda'\", 'if', 'torch', '.', 'cuda', '.', '(', ')', 'else', \"'cpu'\", ')']\n",
    "    \"\"\"\n",
    "    return list(filter(lambda x: len(x) <= max_len, re.findall(r\"[\\w']+|[.,!?;:@~(){}\\[\\]+-/=\\\\\\'\\\"\\`]\", text)))"
   ]
  },
  {
   "cell_type": "code",
   "execution_count": 6,
   "id": "7d702768",
   "metadata": {
    "execution": {
     "iopub.execute_input": "2022-04-07T08:53:17.356112Z",
     "iopub.status.busy": "2022-04-07T08:53:17.346364Z",
     "iopub.status.idle": "2022-04-07T08:53:23.566440Z",
     "shell.execute_reply": "2022-04-07T08:53:23.565812Z"
    },
    "papermill": {
     "duration": 6.269782,
     "end_time": "2022-04-07T08:53:23.566641",
     "exception": false,
     "start_time": "2022-04-07T08:53:17.296859",
     "status": "completed"
    },
    "tags": []
   },
   "outputs": [
    {
     "name": "stdout",
     "output_type": "stream",
     "text": [
      "  % Total    % Received % Xferd  Average Speed   Time    Time     Time  Current\r\n",
      "                                 Dload  Upload   Total   Spent    Left  Speed\r\n",
      "100  176k  100  176k    0     0   421k      0 --:--:-- --:--:-- --:--:--  420k\r\n",
      "  % Total    % Received % Xferd  Average Speed   Time    Time     Time  Current\r\n",
      "                                 Dload  Upload   Total   Spent    Left  Speed\r\n",
      "100 33225  100 33225    0     0   138k      0 --:--:-- --:--:-- --:--:--  138k\r\n",
      "  % Total    % Received % Xferd  Average Speed   Time    Time     Time  Current\r\n",
      "                                 Dload  Upload   Total   Spent    Left  Speed\r\n",
      "100 46790  100 46790    0     0   183k      0 --:--:-- --:--:-- --:--:--  183k\r\n"
     ]
    }
   ],
   "source": [
    "!mkdir ./stepik-dl-nlp/\n",
    "!mkdir ./stepik-dl-nlp/datasets/\n",
    "!mkdir ./stepik-dl-nlp/datasets/stackoverflow_code_generation/\n",
    "!mkdir ./stepik-dl-nlp/datasets/stackoverflow_code_generation/conala/\n",
    "!curl \"https://raw.githubusercontent.com/Samsung-IT-Academy/stepik-dl-nlp/master/datasets/stackoverflow_code_generation/conala/conala-train.csv\" \\\n",
    "    -o ./stepik-dl-nlp/datasets/stackoverflow_code_generation/conala/conala-train.csv\n",
    "!curl \"https://raw.githubusercontent.com/Samsung-IT-Academy/stepik-dl-nlp/master/datasets/stackoverflow_code_generation/conala/conala-valid.csv\" \\\n",
    "    -o ./stepik-dl-nlp/datasets/stackoverflow_code_generation/conala/conala-valid.csv\n",
    "!curl \"https://raw.githubusercontent.com/Samsung-IT-Academy/stepik-dl-nlp/master/datasets/stackoverflow_code_generation/conala/conala-test.csv\" \\\n",
    "    -o ./stepik-dl-nlp/datasets/stackoverflow_code_generation/conala/conala-test.csv"
   ]
  },
  {
   "cell_type": "code",
   "execution_count": 7,
   "id": "1aa4a34f",
   "metadata": {
    "execution": {
     "iopub.execute_input": "2022-04-07T08:53:23.679209Z",
     "iopub.status.busy": "2022-04-07T08:53:23.678379Z",
     "iopub.status.idle": "2022-04-07T08:53:23.705756Z",
     "shell.execute_reply": "2022-04-07T08:53:23.706180Z"
    },
    "papermill": {
     "duration": 0.086457,
     "end_time": "2022-04-07T08:53:23.706325",
     "exception": false,
     "start_time": "2022-04-07T08:53:23.619868",
     "status": "completed"
    },
    "tags": []
   },
   "outputs": [
    {
     "data": {
      "text/html": [
       "<div>\n",
       "<style scoped>\n",
       "    .dataframe tbody tr th:only-of-type {\n",
       "        vertical-align: middle;\n",
       "    }\n",
       "\n",
       "    .dataframe tbody tr th {\n",
       "        vertical-align: top;\n",
       "    }\n",
       "\n",
       "    .dataframe thead th {\n",
       "        text-align: right;\n",
       "    }\n",
       "</style>\n",
       "<table border=\"1\" class=\"dataframe\">\n",
       "  <thead>\n",
       "    <tr style=\"text-align: right;\">\n",
       "      <th></th>\n",
       "      <th>intent</th>\n",
       "      <th>snippet</th>\n",
       "    </tr>\n",
       "  </thead>\n",
       "  <tbody>\n",
       "    <tr>\n",
       "      <th>0</th>\n",
       "      <td>How to convert a list of multiple integers int...</td>\n",
       "      <td>sum(d * 10 ** i for i, d in enumerate(x[::-1]))</td>\n",
       "    </tr>\n",
       "    <tr>\n",
       "      <th>1</th>\n",
       "      <td>How to convert a list of multiple integers int...</td>\n",
       "      <td>r = int(''.join(map(str, x)))</td>\n",
       "    </tr>\n",
       "    <tr>\n",
       "      <th>2</th>\n",
       "      <td>how to convert a datetime string back to datet...</td>\n",
       "      <td>datetime.strptime('2010-11-13 10:33:54.227806'...</td>\n",
       "    </tr>\n",
       "    <tr>\n",
       "      <th>3</th>\n",
       "      <td>Averaging the values in a dictionary based on ...</td>\n",
       "      <td>[(i, sum(j) / len(j)) for i, j in list(d.items...</td>\n",
       "    </tr>\n",
       "    <tr>\n",
       "      <th>4</th>\n",
       "      <td>zip lists in python</td>\n",
       "      <td>zip([1, 2], [3, 4])</td>\n",
       "    </tr>\n",
       "    <tr>\n",
       "      <th>...</th>\n",
       "      <td>...</td>\n",
       "      <td>...</td>\n",
       "    </tr>\n",
       "    <tr>\n",
       "      <th>1995</th>\n",
       "      <td>how to open a url in python</td>\n",
       "      <td>webbrowser.open('http://example.com')</td>\n",
       "    </tr>\n",
       "    <tr>\n",
       "      <th>1996</th>\n",
       "      <td>PyQt QPushButton Background color</td>\n",
       "      <td>self.pushButton.setStyleSheet('background-colo...</td>\n",
       "    </tr>\n",
       "    <tr>\n",
       "      <th>1997</th>\n",
       "      <td>Zip and apply a list of functions over a list ...</td>\n",
       "      <td>[x(y) for x, y in zip(functions, values)]</td>\n",
       "    </tr>\n",
       "    <tr>\n",
       "      <th>1998</th>\n",
       "      <td>How do I modify the width of a TextCtrl in wxP...</td>\n",
       "      <td>wx.TextCtrl(self, -1, size=(300, -1))</td>\n",
       "    </tr>\n",
       "    <tr>\n",
       "      <th>1999</th>\n",
       "      <td>Displaying a grayscale Image</td>\n",
       "      <td>imshow(imageArray, cmap='Greys_r')</td>\n",
       "    </tr>\n",
       "  </tbody>\n",
       "</table>\n",
       "<p>2000 rows × 2 columns</p>\n",
       "</div>"
      ],
      "text/plain": [
       "                                                 intent  \\\n",
       "0     How to convert a list of multiple integers int...   \n",
       "1     How to convert a list of multiple integers int...   \n",
       "2     how to convert a datetime string back to datet...   \n",
       "3     Averaging the values in a dictionary based on ...   \n",
       "4                                   zip lists in python   \n",
       "...                                                 ...   \n",
       "1995                        how to open a url in python   \n",
       "1996                  PyQt QPushButton Background color   \n",
       "1997  Zip and apply a list of functions over a list ...   \n",
       "1998  How do I modify the width of a TextCtrl in wxP...   \n",
       "1999                       Displaying a grayscale Image   \n",
       "\n",
       "                                                snippet  \n",
       "0       sum(d * 10 ** i for i, d in enumerate(x[::-1]))  \n",
       "1                         r = int(''.join(map(str, x)))  \n",
       "2     datetime.strptime('2010-11-13 10:33:54.227806'...  \n",
       "3     [(i, sum(j) / len(j)) for i, j in list(d.items...  \n",
       "4                                   zip([1, 2], [3, 4])  \n",
       "...                                                 ...  \n",
       "1995              webbrowser.open('http://example.com')  \n",
       "1996  self.pushButton.setStyleSheet('background-colo...  \n",
       "1997          [x(y) for x, y in zip(functions, values)]  \n",
       "1998              wx.TextCtrl(self, -1, size=(300, -1))  \n",
       "1999                 imshow(imageArray, cmap='Greys_r')  \n",
       "\n",
       "[2000 rows x 2 columns]"
      ]
     },
     "execution_count": 7,
     "metadata": {},
     "output_type": "execute_result"
    }
   ],
   "source": [
    "import pandas as pd\n",
    "pd.read_csv('./stepik-dl-nlp/datasets/stackoverflow_code_generation/conala/conala-train.csv')"
   ]
  },
  {
   "cell_type": "code",
   "execution_count": 8,
   "id": "c248a103",
   "metadata": {
    "execution": {
     "iopub.execute_input": "2022-04-07T08:53:23.890989Z",
     "iopub.status.busy": "2022-04-07T08:53:23.814906Z",
     "iopub.status.idle": "2022-04-07T08:53:23.927362Z",
     "shell.execute_reply": "2022-04-07T08:53:23.926549Z"
    },
    "papermill": {
     "duration": 0.170522,
     "end_time": "2022-04-07T08:53:23.927535",
     "exception": false,
     "start_time": "2022-04-07T08:53:23.757013",
     "status": "completed"
    },
    "tags": []
   },
   "outputs": [],
   "source": [
    "import torch\n",
    "from torchtext import data, datasets\n",
    "\n",
    "#torchtext.legacy.data.Field - Defines a datatype together with instructions for converting to Tensor.\n",
    "SRC = Field(\n",
    "    tokenize = tokenize_question, #max_len = 16\n",
    "    init_token = '<sos>', \n",
    "    eos_token = '<eos>', \n",
    "    lower = True,\n",
    "    include_lengths = True\n",
    ")\n",
    "\n",
    "TRG = Field(\n",
    "    tokenize = tokenize_snippet, #max_len = 10\n",
    "    init_token = '<sos>', \n",
    "    eos_token = '<eos>', \n",
    "    lower = True\n",
    ")\n",
    "\n",
    "fields = {\n",
    "    'intent': ('src', SRC),\n",
    "    'snippet': ('trg', TRG)\n",
    "}\n",
    "\n",
    "#TabularDataset - Defines a Dataset of columns stored in CSV, TSV, or JSON format\n",
    "#TabularDataset.splits - Create Dataset objects for multiple splits of a dataset.\n",
    "train_data, valid_data, test_data = TabularDataset.splits(\n",
    "                            path = './stepik-dl-nlp/datasets/stackoverflow_code_generation/conala/',\n",
    "                            train = 'conala-train.csv',\n",
    "                            validation = 'conala-valid.csv',\n",
    "                            test = 'conala-test.csv',\n",
    "                            format = 'csv',\n",
    "                            fields = fields\n",
    ")"
   ]
  },
  {
   "cell_type": "code",
   "execution_count": 9,
   "id": "3517704d",
   "metadata": {
    "execution": {
     "iopub.execute_input": "2022-04-07T08:53:24.048625Z",
     "iopub.status.busy": "2022-04-07T08:53:24.046930Z",
     "iopub.status.idle": "2022-04-07T08:53:24.050907Z",
     "shell.execute_reply": "2022-04-07T08:53:24.050460Z"
    },
    "papermill": {
     "duration": 0.072772,
     "end_time": "2022-04-07T08:53:24.051023",
     "exception": false,
     "start_time": "2022-04-07T08:53:23.978251",
     "status": "completed"
    },
    "tags": []
   },
   "outputs": [
    {
     "name": "stdout",
     "output_type": "stream",
     "text": [
      "[('a', 1285), ('in', 949), ('python', 922), ('to', 851), ('how', 633), ('of', 602), ('list', 558), ('string', 397), ('the', 328), ('from', 275), ('with', 228), ('pandas', 192), ('i', 191), ('dictionary', 162), ('get', 151), ('convert', 134), ('values', 131), ('do', 125), ('dataframe', 111), ('into', 110)]\n",
      "[(')', 3480), ('(', 3475), ('.', 2595), (',', 1899), ('[', 1122), (']', 1121), ('=', 927), (\"'\", 885), ('\\\\', 697), (':', 587), ('in', 504), ('x', 498), ('\"', 496), ('for', 450), ('1', 377), ('-', 279), ('a', 265), ('0', 259), ('/', 257), ('df', 234)]\n",
      "Первые 10 токенов: ['<unk>', '<pad>', '<sos>', '<eos>', 'a', 'in', 'python', 'to', 'how', 'of']\n",
      "Уникальные токены в словаре интентов: 613\n",
      "Уникальные токены в словаре сниппетов: 398\n"
     ]
    }
   ],
   "source": [
    "#.build_vocab - Construct the Vocab object for this field from one or more datasets.\n",
    "#place of possible hyperparameters (max_size=25000, min_freq=3)\n",
    "SRC.build_vocab([train_data.src], max_size=25000, min_freq=3)\n",
    "print(SRC.vocab.freqs.most_common(20))\n",
    "\n",
    "\n",
    "#place of possible hyperparameters (max_size=?, min_freq=5)\n",
    "TRG.build_vocab([train_data.trg], min_freq=5)\n",
    "print(TRG.vocab.freqs.most_common(20))\n",
    "\n",
    "print(f\"Первые 10 токенов: {SRC.vocab.itos[:10]}\")\n",
    "\n",
    "print(f\"Уникальные токены в словаре интентов: {len(SRC.vocab)}\")\n",
    "print(f\"Уникальные токены в словаре сниппетов: {len(TRG.vocab)}\")"
   ]
  },
  {
   "cell_type": "code",
   "execution_count": 10,
   "id": "1068d801",
   "metadata": {
    "execution": {
     "iopub.execute_input": "2022-04-07T08:53:24.156510Z",
     "iopub.status.busy": "2022-04-07T08:53:24.155827Z",
     "iopub.status.idle": "2022-04-07T08:53:24.159237Z",
     "shell.execute_reply": "2022-04-07T08:53:24.158738Z"
    },
    "papermill": {
     "duration": 0.058114,
     "end_time": "2022-04-07T08:53:24.159366",
     "exception": false,
     "start_time": "2022-04-07T08:53:24.101252",
     "status": "completed"
    },
    "tags": []
   },
   "outputs": [
    {
     "name": "stdout",
     "output_type": "stream",
     "text": [
      "Размер обучающей выборки: 2000\n",
      "Размер валидационной выборки: 379\n",
      "Размер тестовой выборки: 500\n"
     ]
    }
   ],
   "source": [
    "print(f\"Размер обучающей выборки: {len(train_data.examples)}\")\n",
    "print(f\"Размер валидационной выборки: {len(valid_data.examples)}\")\n",
    "print(f\"Размер тестовой выборки: {len(test_data.examples)}\")"
   ]
  },
  {
   "cell_type": "code",
   "execution_count": 11,
   "id": "3dacc7e6",
   "metadata": {
    "execution": {
     "iopub.execute_input": "2022-04-07T08:53:24.266410Z",
     "iopub.status.busy": "2022-04-07T08:53:24.265629Z",
     "iopub.status.idle": "2022-04-07T08:53:24.268115Z",
     "shell.execute_reply": "2022-04-07T08:53:24.267712Z"
    },
    "papermill": {
     "duration": 0.058646,
     "end_time": "2022-04-07T08:53:24.268226",
     "exception": false,
     "start_time": "2022-04-07T08:53:24.209580",
     "status": "completed"
    },
    "tags": []
   },
   "outputs": [],
   "source": [
    "device = torch.device('cuda' if torch.cuda.is_available() else 'cpu')\n",
    "#torch.cuda.set_device(0)"
   ]
  },
  {
   "cell_type": "code",
   "execution_count": 12,
   "id": "2d9245ee",
   "metadata": {
    "execution": {
     "iopub.execute_input": "2022-04-07T08:53:24.372106Z",
     "iopub.status.busy": "2022-04-07T08:53:24.371310Z",
     "iopub.status.idle": "2022-04-07T08:53:24.377275Z",
     "shell.execute_reply": "2022-04-07T08:53:24.376847Z"
    },
    "papermill": {
     "duration": 0.059097,
     "end_time": "2022-04-07T08:53:24.377382",
     "exception": false,
     "start_time": "2022-04-07T08:53:24.318285",
     "status": "completed"
    },
    "tags": []
   },
   "outputs": [
    {
     "data": {
      "text/plain": [
       "device(type='cuda')"
      ]
     },
     "execution_count": 12,
     "metadata": {},
     "output_type": "execute_result"
    }
   ],
   "source": [
    "device"
   ]
  },
  {
   "cell_type": "code",
   "execution_count": 13,
   "id": "68792d98",
   "metadata": {
    "execution": {
     "iopub.execute_input": "2022-04-07T08:53:24.488023Z",
     "iopub.status.busy": "2022-04-07T08:53:24.487156Z",
     "iopub.status.idle": "2022-04-07T08:53:24.489138Z",
     "shell.execute_reply": "2022-04-07T08:53:24.489588Z"
    },
    "papermill": {
     "duration": 0.061032,
     "end_time": "2022-04-07T08:53:24.489727",
     "exception": false,
     "start_time": "2022-04-07T08:53:24.428695",
     "status": "completed"
    },
    "tags": []
   },
   "outputs": [],
   "source": [
    "BATCH_SIZE = 200\n",
    "\n",
    "'''\n",
    "BucketIterator - Defines an iterator that batches examples of similar lengths together. (т.е. схожей длины, это суть выбора BucketIterator)\n",
    "Minimizes amount of padding needed while producing freshly shuffled batches for each new epoch. See pool for the bucketing procedure used.\n",
    "\n",
    "Итого, генерирует батчи тензоров равной длины (из индексов токенов), длина берется максимальная из примеров попавших в батч \n",
    "(если sort = True и/или sort_within_batch = True, то батчи формируются после предварительной сортировки по размеру), все примеры меньшей длины\n",
    "добиваются до необходимой через токен паддинга (<pad>, id=1)\n",
    "\n",
    "Судя по документации, sort_within_batch - отвечает только за необходимость сортировки внутри батчей, и не должен влиять на суть BucketIterator, \n",
    "а именно объединение в батчи на основе длины, но по факту влияет, если выставить False и не будет параметра sort = True, то примеры будут \n",
    "объединяться в батч рандомно, единственное, что дополнительно будет делать BucketIterator - это добивать до общей максимальной длины паддингами\n",
    "(что бы убрать неоднозначности, явно добавил еще и параметр sort = True)\n",
    "\n",
    "P.S. sort_within_batch нужно для упаковки PackedSequence, если батч не будет отсортирован по убыванию длины, то нужно при упаковке в \n",
    "PackedSequence, использовать параметр enforce_sorted = False (не изучал подробно на что это влияет)\n",
    "'''\n",
    "#place of possible hyperparameters (sort/sort_within_batch = True) - не факт что такое упорядочивание не скажется непонятным образом на обучении\n",
    "train_iterator, valid_iterator, test_iterator = BucketIterator.splits(\n",
    "    (train_data, valid_data, test_data), \n",
    "     batch_size = BATCH_SIZE,\n",
    "     sort = True,\n",
    "     sort_within_batch = True, \n",
    "     sort_key = lambda x : len(x.src),\n",
    "     device = device)"
   ]
  },
  {
   "cell_type": "code",
   "execution_count": 14,
   "id": "6397bdf5",
   "metadata": {
    "execution": {
     "iopub.execute_input": "2022-04-07T08:53:24.596686Z",
     "iopub.status.busy": "2022-04-07T08:53:24.595829Z",
     "iopub.status.idle": "2022-04-07T08:53:24.597779Z",
     "shell.execute_reply": "2022-04-07T08:53:24.598184Z"
    },
    "papermill": {
     "duration": 0.057821,
     "end_time": "2022-04-07T08:53:24.598311",
     "exception": false,
     "start_time": "2022-04-07T08:53:24.540490",
     "status": "completed"
    },
    "tags": []
   },
   "outputs": [],
   "source": [
    "# temp_batch = next(iter(train_iterator))\n",
    "# print(temp_batch)\n",
    "# print('SRC:')\n",
    "# print(temp_batch.src)\n",
    "# print('TRG:')\n",
    "# print(temp_batch.trg)\n",
    "'''\n",
    "Пример вывода:\n",
    "[torchtext.legacy.data.batch.Batch of size 2]\n",
    "\t[.src]:('[torch.LongTensor of size 4x2]', '[torch.LongTensor of size 2]')\n",
    "\t[.trg]:[torch.LongTensor of size 10x2]\n",
    "SRC:\n",
    "(tensor([[  2,   2],\n",
    "        [160, 168],\n",
    "        [582, 399],\n",
    "        [  3,   3]]), tensor([4, 4]))\n",
    "TRG:\n",
    "tensor([[  2,   2],\n",
    "        [ 41,  25],\n",
    "        [  6,   6],\n",
    "        [387, 101],\n",
    "        [  5,   5],\n",
    "        [  0,   4],\n",
    "        [  7,   3],\n",
    "        [  0,   1],\n",
    "        [  4,   1],\n",
    "        [  3,   1]])\n",
    "\n",
    "Итого для одного батча мы получаем:\n",
    "\t[.src]:('[torch.LongTensor of size max_of_SRC-seq_len_in_batch x BATCH_SIZE]', #тензор из индексов токенов для SRC последовательностей \n",
    "            '[torch.LongTensor of size BATCH_SIZE]') #реальная длина SRC последовательностей, без учета <pad>, но с учетом <sos> и <eos>\n",
    "\t[.trg]:[torch.LongTensor of size max_of_TRG-seq_len_in_batch x BATCH_SIZE] #тензор из индексов токенов для соответствующих TRG seq \n",
    "''';"
   ]
  },
  {
   "cell_type": "code",
   "execution_count": 15,
   "id": "0efff1cc",
   "metadata": {
    "execution": {
     "iopub.execute_input": "2022-04-07T08:53:24.719093Z",
     "iopub.status.busy": "2022-04-07T08:53:24.718486Z",
     "iopub.status.idle": "2022-04-07T08:53:24.803042Z",
     "shell.execute_reply": "2022-04-07T08:53:24.803505Z"
    },
    "papermill": {
     "duration": 0.154265,
     "end_time": "2022-04-07T08:53:24.803660",
     "exception": false,
     "start_time": "2022-04-07T08:53:24.649395",
     "status": "completed"
    },
    "tags": []
   },
   "outputs": [
    {
     "name": "stdout",
     "output_type": "stream",
     "text": [
      "tensor([[[0.0290, 0.4019],\n",
      "         [1.2598, 1.3666],\n",
      "         [2.0583, 2.7006]],\n",
      "\n",
      "        [[0.0518, 0.4681],\n",
      "         [1.6738, 1.3315],\n",
      "         [2.7837, 2.5631]],\n",
      "\n",
      "        [[0.7749, 0.8208],\n",
      "         [1.2793, 1.6817],\n",
      "         [2.2837, 2.6567]],\n",
      "\n",
      "        [[0.2388, 0.7313],\n",
      "         [1.6012, 1.3043],\n",
      "         [2.2548, 2.6294]],\n",
      "\n",
      "        [[0.9665, 0.7399],\n",
      "         [1.4517, 1.4757],\n",
      "         [2.7842, 2.1525]]])\n",
      "\n",
      "tensor([5, 4, 3])\n",
      "\n",
      "PackedSequence(data=tensor([[0.0290, 0.4019],\n",
      "        [1.2598, 1.3666],\n",
      "        [2.0583, 2.7006],\n",
      "        [0.0518, 0.4681],\n",
      "        [1.6738, 1.3315],\n",
      "        [2.7837, 2.5631],\n",
      "        [0.7749, 0.8208],\n",
      "        [1.2793, 1.6817],\n",
      "        [2.2837, 2.6567],\n",
      "        [0.2388, 0.7313],\n",
      "        [1.6012, 1.3043],\n",
      "        [0.9665, 0.7399]]), batch_sizes=tensor([3, 3, 3, 2, 1]), sorted_indices=None, unsorted_indices=None)\n"
     ]
    }
   ],
   "source": [
    "#для понимания того, как работет PackedSequence, последовательность упаковывается через аналог concat (с уменьшением размерности на 1,\n",
    "#т.е. если быз тензор с 3 размерностями, станет с 2-мя и т.п.) с выбрасыванием частей тензоров, которые не попадают в передаваемую \n",
    "#вторым параметром длину каждой последовательности, дополнительно к основному тензору, упакованная последовательность содержит \n",
    "#batch_sizes=Tensor(...), в котором идет уже длина батчей, на которые нужно \"порезать\" тензор, что бы его распаковать, именно поэтому\n",
    "#есть требование, что бы исходный тензор, которые передается на упаковку, должен быть упорядочен по уменьшению длины последовательностей,\n",
    "#если же последовательность не упорядочена, нужно использовать параметр enforce_sorted = False (не изучал подробно на что это влияет)\n",
    "embedded = torch.rand(5,3,2)\n",
    "embedded[:,1,:] += 1.\n",
    "embedded[:,2,:] += 2.\n",
    "print(embedded)\n",
    "print()\n",
    "src_len = torch.tensor([5,4,3]).long()\n",
    "print(src_len)\n",
    "print()\n",
    "print(nn.utils.rnn.pack_padded_sequence(embedded, src_len))"
   ]
  },
  {
   "cell_type": "code",
   "execution_count": 16,
   "id": "cc610d3e",
   "metadata": {
    "execution": {
     "iopub.execute_input": "2022-04-07T08:53:24.921178Z",
     "iopub.status.busy": "2022-04-07T08:53:24.920251Z",
     "iopub.status.idle": "2022-04-07T08:53:24.922089Z",
     "shell.execute_reply": "2022-04-07T08:53:24.922506Z"
    },
    "papermill": {
     "duration": 0.066356,
     "end_time": "2022-04-07T08:53:24.922648",
     "exception": false,
     "start_time": "2022-04-07T08:53:24.856292",
     "status": "completed"
    },
    "tags": []
   },
   "outputs": [],
   "source": [
    "class Encoder(nn.Module):\n",
    "    def __init__(self, input_dim, emb_dim, enc_hid_dim, dec_hid_dim, dropout):\n",
    "        super().__init__()\n",
    "        '''\n",
    "        input_dim - размер словаря SRC - len(SRC.vocab)\n",
    "        emb_dim - размер эмбеддигов\n",
    "        enc_hid_dim - размер скрытого состояния энкодера\n",
    "        dec_hid_dim - размер скрытого состояния декодера\n",
    "        dropout - дропаут p\n",
    "        '''\n",
    "        self.input_dim = input_dim\n",
    "        self.emb_dim = emb_dim\n",
    "        self.enc_hid_dim = enc_hid_dim\n",
    "        self.dec_hid_dim = dec_hid_dim\n",
    "        self.dropout = dropout\n",
    "        \n",
    "        self.embedding = nn.Embedding(input_dim, emb_dim)\n",
    "        \n",
    "        #place of possible hyperparameters (попробовать LSTM, + доп. дропаут)\n",
    "        self.rnn = nn.GRU(emb_dim, enc_hid_dim, bidirectional = True)\n",
    "        \n",
    "        self.fc = nn.Linear(enc_hid_dim * 2, dec_hid_dim)\n",
    "        \n",
    "        self.dropout = nn.Dropout(dropout)\n",
    "        \n",
    "    def forward(self, src, src_len):\n",
    "        #src.size = [src sent max batch len, batch size]\n",
    "        #src_len.size = [src sent real len without paddings]\n",
    "        \n",
    "        embedded = self.dropout(self.embedding(src)) #src_sent_max_batch_len x batch_size x emb_dim\n",
    "        \n",
    "        \n",
    "        '''\n",
    "        Packs a Tensor containing padded sequences of variable length.\n",
    "\n",
    "        input can be of size T x B x * where T is the length of the longest sequence (equal to lengths[0]), \n",
    "        B is the batch size, and * is any number of dimensions (including 0). If batch_first is True, \n",
    "        B x T x * input is expected.\n",
    "\n",
    "        For unsorted sequences, use enforce_sorted = False. If enforce_sorted is True, the sequences should \n",
    "        be sorted by length in a decreasing order, i.e. input[:,0] should be the longest sequence, and \n",
    "        input[:,B-1] the shortest one.\n",
    "        \n",
    "        Parameters:\n",
    "        input (Tensor) – padded batch of variable length sequences.\n",
    "        lengths (Tensor or list(int)) – list of sequence lengths of each batch element (must be on the CPU if \n",
    "        provided as a tensor).\n",
    "        \n",
    "        Returns:\n",
    "        a PackedSequence object (holds the data and list of batch_sizes of a packed sequence). All RNN modules \n",
    "        accept packed sequences as inputs.\n",
    "        '''\n",
    "        packed_embedded = nn.utils.rnn.pack_padded_sequence(embedded, src_len)\n",
    "        \n",
    "        packed_outputs, hidden = self.rnn(packed_embedded)\n",
    "        #packed_outputs is a packed sequence containing all hidden states\n",
    "        #hidden is now from the final non-padded element in the batch\n",
    "            \n",
    "        outputs, _ = nn.utils.rnn.pad_packed_sequence(packed_outputs) \n",
    "        #outputs is now a non-packed sequence, all hidden states obtained\n",
    "        #  when the input is a pad token are all zeros\n",
    "            \n",
    "        #outputs = [sent len, batch size, hid dim * num directions]\n",
    "        #hidden = [n layers * num directions, batch size, hid dim]\n",
    "        \n",
    "        #hidden is stacked [forward_1, backward_1, forward_2, backward_2, ...]\n",
    "        #outputs are always from the last layer\n",
    "        \n",
    "        #hidden [-2, :, : ] is the last of the forwards RNN \n",
    "        #hidden [-1, :, : ] is the last of the backwards RNN\n",
    "        \n",
    "        #initial decoder hidden is final hidden state of the forwards and backwards \n",
    "        #  encoder RNNs fed through a linear layer\n",
    "        hidden = torch.tanh(self.fc(torch.cat((hidden[-2,:,:], hidden[-1,:,:]), dim = 1)))\n",
    "        \n",
    "        #outputs = [sent len, batch size, enc hid dim * 2]\n",
    "        #hidden = [batch size, dec hid dim]\n",
    "        \n",
    "        return outputs, hidden"
   ]
  },
  {
   "cell_type": "code",
   "execution_count": 17,
   "id": "ecc9f09b",
   "metadata": {
    "execution": {
     "iopub.execute_input": "2022-04-07T08:53:25.036676Z",
     "iopub.status.busy": "2022-04-07T08:53:25.035811Z",
     "iopub.status.idle": "2022-04-07T08:53:25.037857Z",
     "shell.execute_reply": "2022-04-07T08:53:25.038216Z"
    },
    "papermill": {
     "duration": 0.064103,
     "end_time": "2022-04-07T08:53:25.038352",
     "exception": false,
     "start_time": "2022-04-07T08:53:24.974249",
     "status": "completed"
    },
    "tags": []
   },
   "outputs": [],
   "source": [
    "class Attention(nn.Module):\n",
    "    def __init__(self, enc_hid_dim, dec_hid_dim):\n",
    "        super().__init__()\n",
    "        \n",
    "        self.enc_hid_dim = enc_hid_dim\n",
    "        self.dec_hid_dim = dec_hid_dim\n",
    "        \n",
    "        self.attn = nn.Linear((enc_hid_dim * 2) + dec_hid_dim, dec_hid_dim)\n",
    "        #суть nn.Parameter - это просто тензор с requires_grad=True, которые будет являться \n",
    "        #частью экземпляра модели, т.е. он будет включен в model.parameters()\n",
    "        self.v = nn.Parameter(torch.rand(dec_hid_dim)) \n",
    "        \n",
    "    def forward(self, hidden, encoder_outputs, mask):\n",
    "        \n",
    "        #hidden = [batch size, dec hid dim]\n",
    "        #encoder_outputs = [src sent len, batch size, enc hid dim * 2]\n",
    "        #mask = [batch size, src sent len]\n",
    "        \n",
    "        batch_size = encoder_outputs.shape[1]\n",
    "        src_len = encoder_outputs.shape[0]\n",
    "        \n",
    "        #repeat decoder hidden state src_len times\n",
    "        #т.е. на примере батча=1, мы копируем один и тот же вектор скрытого состояния декодера \n",
    "        #(переданный нам hidden) для каждой позиции src_len\n",
    "        hidden = hidden.unsqueeze(1).repeat(1, src_len, 1)\n",
    "        \n",
    "        encoder_outputs = encoder_outputs.permute(1, 0, 2)\n",
    "        \n",
    "        #hidden = [batch size, src sent len, dec hid dim]\n",
    "        #encoder_outputs = [batch size, src sent len, enc hid dim * 2]\n",
    "        \n",
    "        energy = torch.tanh(self.attn(torch.cat((hidden, encoder_outputs), dim = 2))) \n",
    "        \n",
    "        #energy = [batch size, src sent len, dec hid dim]\n",
    "                \n",
    "        energy = energy.permute(0, 2, 1)\n",
    "        \n",
    "        #energy = [batch size, dec hid dim, src sent len]\n",
    "        \n",
    "        #v = [dec hid dim]\n",
    "        \n",
    "        v = self.v.repeat(batch_size, 1).unsqueeze(1)\n",
    "        \n",
    "        #v = [batch size, 1, dec hid dim]\n",
    "            \n",
    "        attention = torch.bmm(v, energy).squeeze(1)\n",
    "        \n",
    "        #attention = [batch size, src sent len]\n",
    "        \n",
    "        attention = attention.masked_fill(mask == 0, -1e10)\n",
    "        \n",
    "        return F.softmax(attention, dim = 1)"
   ]
  },
  {
   "cell_type": "code",
   "execution_count": 18,
   "id": "c814a37a",
   "metadata": {
    "execution": {
     "iopub.execute_input": "2022-04-07T08:53:25.154679Z",
     "iopub.status.busy": "2022-04-07T08:53:25.150204Z",
     "iopub.status.idle": "2022-04-07T08:53:25.157041Z",
     "shell.execute_reply": "2022-04-07T08:53:25.156601Z"
    },
    "papermill": {
     "duration": 0.067186,
     "end_time": "2022-04-07T08:53:25.157151",
     "exception": false,
     "start_time": "2022-04-07T08:53:25.089965",
     "status": "completed"
    },
    "tags": []
   },
   "outputs": [],
   "source": [
    "class Decoder(nn.Module):\n",
    "    def __init__(self, output_dim, emb_dim, enc_hid_dim, dec_hid_dim, dropout, attention):\n",
    "        super().__init__()\n",
    "\n",
    "        self.emb_dim = emb_dim\n",
    "        self.enc_hid_dim = enc_hid_dim\n",
    "        self.dec_hid_dim = dec_hid_dim\n",
    "        self.output_dim = output_dim #размер словаря TRG - len(TRG.vocab)\n",
    "        self.dropout = dropout\n",
    "        self.attention = attention\n",
    "        \n",
    "        self.embedding = nn.Embedding(output_dim, emb_dim)\n",
    "        \n",
    "        self.rnn = nn.GRU((enc_hid_dim * 2) + emb_dim, dec_hid_dim)\n",
    "        \n",
    "        self.out = nn.Linear((enc_hid_dim * 2) + dec_hid_dim + emb_dim, output_dim)\n",
    "        \n",
    "        self.dropout = nn.Dropout(dropout)\n",
    "        \n",
    "    def forward(self, input, hidden, encoder_outputs, mask):\n",
    "\n",
    "        #input = [batch size]\n",
    "        #hidden = [batch size, dec hid dim]\n",
    "        #encoder_outputs = [src sent len, batch size, enc hid dim * 2]\n",
    "        #mask = [batch size, src sent len]\n",
    "        \n",
    "        input = input.unsqueeze(0)\n",
    "        \n",
    "        #input = [1, batch size]\n",
    "        \n",
    "        embedded = self.dropout(self.embedding(input))\n",
    "        \n",
    "        #embedded = [1, batch size, emb dim]\n",
    "        \n",
    "        a = self.attention(hidden, encoder_outputs, mask)\n",
    "                \n",
    "        #a = [batch size, src sent len]\n",
    "        \n",
    "        a = a.unsqueeze(1)\n",
    "        \n",
    "        #a = [batch size, 1, src sent len]\n",
    "        \n",
    "        encoder_outputs = encoder_outputs.permute(1, 0, 2)\n",
    "        \n",
    "        #encoder_outputs = [batch size, src sent len, enc hid dim * 2]\n",
    "        \n",
    "        weighted = torch.bmm(a, encoder_outputs)\n",
    "        \n",
    "        #weighted = [batch size, 1, enc hid dim * 2]\n",
    "        \n",
    "        weighted = weighted.permute(1, 0, 2)\n",
    "        \n",
    "        #weighted = [1, batch size, enc hid dim * 2]\n",
    "        \n",
    "        rnn_input = torch.cat((embedded, weighted), dim = 2)\n",
    "        \n",
    "        #rnn_input = [1, batch size, (enc hid dim * 2) + emb dim]\n",
    "            \n",
    "        output, hidden = self.rnn(rnn_input, hidden.unsqueeze(0))\n",
    "        \n",
    "        #output = [sent len, batch size, dec hid dim * n directions]\n",
    "        #hidden = [n layers * n directions, batch size, dec hid dim]\n",
    "        \n",
    "        #sent len, n layers and n directions will always be 1 in this decoder, therefore:\n",
    "        #output = [1, batch size, dec hid dim]\n",
    "        #hidden = [1, batch size, dec hid dim]\n",
    "        #this also means that output == hidden\n",
    "        assert (output == hidden).all()\n",
    "        \n",
    "        embedded = embedded.squeeze(0)\n",
    "        output = output.squeeze(0)\n",
    "        weighted = weighted.squeeze(0)\n",
    "        \n",
    "        output = self.out(torch.cat((output, weighted, embedded), dim = 1))\n",
    "        \n",
    "        #output = [bsz, output dim]\n",
    "        \n",
    "        return output, hidden.squeeze(0), a.squeeze(1)"
   ]
  },
  {
   "cell_type": "code",
   "execution_count": 19,
   "id": "c954ade9",
   "metadata": {
    "execution": {
     "iopub.execute_input": "2022-04-07T08:53:25.274640Z",
     "iopub.status.busy": "2022-04-07T08:53:25.273744Z",
     "iopub.status.idle": "2022-04-07T08:53:25.275525Z",
     "shell.execute_reply": "2022-04-07T08:53:25.276009Z"
    },
    "papermill": {
     "duration": 0.06715,
     "end_time": "2022-04-07T08:53:25.276145",
     "exception": false,
     "start_time": "2022-04-07T08:53:25.208995",
     "status": "completed"
    },
    "tags": []
   },
   "outputs": [],
   "source": [
    "class Seq2Seq(nn.Module):\n",
    "    def __init__(self, encoder, decoder, pad_idx, sos_idx, eos_idx, device):\n",
    "        super().__init__()\n",
    "        \n",
    "        self.encoder = encoder\n",
    "        self.decoder = decoder\n",
    "        self.pad_idx = pad_idx\n",
    "        self.sos_idx = sos_idx\n",
    "        self.eos_idx = eos_idx\n",
    "        self.device = device\n",
    "        \n",
    "    def create_mask(self, src):\n",
    "        mask = (src != self.pad_idx).permute(1, 0)\n",
    "        return mask\n",
    "        \n",
    "    def forward(self, src, src_len, trg, teacher_forcing_ratio = 0.5):\n",
    "        \n",
    "        #src = [src sent len, batch size]\n",
    "        #src_len = [batch size]\n",
    "        #trg = [trg sent len, batch size]\n",
    "        #teacher_forcing_ratio is probability to use teacher forcing\n",
    "        #e.g. if teacher_forcing_ratio is 0.75 we use teacher forcing 75% of the time\n",
    "        \n",
    "        if trg is None:\n",
    "            assert teacher_forcing_ratio == 0, \"Must be zero during inference\"\n",
    "            inference = True\n",
    "            trg = torch.zeros((100, src.shape[1])).long().fill_(self.sos_idx).to(src.device)\n",
    "        else:\n",
    "            inference = False\n",
    "            \n",
    "        batch_size = src.shape[1]\n",
    "        max_len = trg.shape[0]\n",
    "        trg_vocab_size = self.decoder.output_dim\n",
    "        \n",
    "        #tensor to store decoder outputs\n",
    "        outputs = torch.zeros(max_len, batch_size, trg_vocab_size).to(self.device)\n",
    "        \n",
    "        #tensor to store attention\n",
    "        attentions = torch.zeros(max_len, batch_size, src.shape[0]).to(self.device)\n",
    "        \n",
    "        #encoder_outputs is all hidden states of the input sequence, back and forwards\n",
    "        #hidden is the final forward and backward hidden states, passed through a linear layer\n",
    "        encoder_outputs, hidden = self.encoder(src, src_len)\n",
    "                \n",
    "        #first input to the decoder is the <sos> tokens\n",
    "        output = trg[0,:]\n",
    "        \n",
    "        mask = self.create_mask(src)\n",
    "                \n",
    "        #mask = [batch size, src sent len]\n",
    "                \n",
    "        for t in range(1, max_len):\n",
    "            output, hidden, attention = self.decoder(output, hidden, encoder_outputs, mask)\n",
    "            outputs[t] = output\n",
    "            attentions[t] = attention\n",
    "            teacher_force = random.random() < teacher_forcing_ratio\n",
    "            top1 = output.max(1)[1]\n",
    "            output = (trg[t] if teacher_force else top1)\n",
    "            if inference and output.item() == self.eos_idx:\n",
    "                return outputs[:t], attentions[:t]\n",
    "            \n",
    "        return outputs, attentions"
   ]
  },
  {
   "cell_type": "raw",
   "id": "62c1cd26",
   "metadata": {
    "papermill": {
     "duration": 0.052097,
     "end_time": "2022-04-07T08:53:25.380498",
     "exception": false,
     "start_time": "2022-04-07T08:53:25.328401",
     "status": "completed"
    },
    "tags": []
   },
   "source": [
    "INPUT_DIM = len(SRC.vocab)\n",
    "OUTPUT_DIM = len(TRG.vocab)\n",
    "ENC_EMB_DIM = 128\n",
    "DEC_EMB_DIM = 128\n",
    "ENC_HID_DIM = 100\n",
    "DEC_HID_DIM = 100\n",
    "ENC_DROPOUT = 0.8\n",
    "DEC_DROPOUT = 0.8\n",
    "PAD_IDX = SRC.vocab.stoi['<pad>']\n",
    "SOS_IDX = TRG.vocab.stoi['<sos>']\n",
    "EOS_IDX = TRG.vocab.stoi['<eos>']\n",
    "\n",
    "attn = Attention(ENC_HID_DIM, DEC_HID_DIM)\n",
    "enc = Encoder(INPUT_DIM, ENC_EMB_DIM, ENC_HID_DIM, DEC_HID_DIM, ENC_DROPOUT)\n",
    "dec = Decoder(OUTPUT_DIM, DEC_EMB_DIM, ENC_HID_DIM, DEC_HID_DIM, DEC_DROPOUT, attn)\n",
    "\n",
    "model = Seq2Seq(enc, dec, PAD_IDX, SOS_IDX, EOS_IDX, device).to(device)"
   ]
  },
  {
   "cell_type": "code",
   "execution_count": 20,
   "id": "00e97cca",
   "metadata": {
    "execution": {
     "iopub.execute_input": "2022-04-07T08:53:25.490288Z",
     "iopub.status.busy": "2022-04-07T08:53:25.489374Z",
     "iopub.status.idle": "2022-04-07T08:53:25.491819Z",
     "shell.execute_reply": "2022-04-07T08:53:25.491373Z"
    },
    "papermill": {
     "duration": 0.058946,
     "end_time": "2022-04-07T08:53:25.491950",
     "exception": false,
     "start_time": "2022-04-07T08:53:25.433004",
     "status": "completed"
    },
    "tags": []
   },
   "outputs": [],
   "source": [
    "def init_weights(m):\n",
    "    for name, param in m.named_parameters():\n",
    "        if 'weight' in name:\n",
    "            nn.init.normal_(param.data, mean=0, std=0.01)\n",
    "        else:\n",
    "            nn.init.constant_(param.data, 0)"
   ]
  },
  {
   "cell_type": "raw",
   "id": "b356cd6e",
   "metadata": {
    "papermill": {
     "duration": 0.051794,
     "end_time": "2022-04-07T08:53:25.595655",
     "exception": false,
     "start_time": "2022-04-07T08:53:25.543861",
     "status": "completed"
    },
    "tags": []
   },
   "source": [
    "model.apply(init_weights)"
   ]
  },
  {
   "cell_type": "code",
   "execution_count": 21,
   "id": "001362bb",
   "metadata": {
    "execution": {
     "iopub.execute_input": "2022-04-07T08:53:25.707770Z",
     "iopub.status.busy": "2022-04-07T08:53:25.706922Z",
     "iopub.status.idle": "2022-04-07T08:53:25.708729Z",
     "shell.execute_reply": "2022-04-07T08:53:25.709208Z"
    },
    "papermill": {
     "duration": 0.062113,
     "end_time": "2022-04-07T08:53:25.709339",
     "exception": false,
     "start_time": "2022-04-07T08:53:25.647226",
     "status": "completed"
    },
    "tags": []
   },
   "outputs": [],
   "source": [
    "def count_parameters(model):\n",
    "    return sum(p.numel() for p in model.parameters() if p.requires_grad)"
   ]
  },
  {
   "cell_type": "raw",
   "id": "4416f578",
   "metadata": {
    "papermill": {
     "duration": 0.05263,
     "end_time": "2022-04-07T08:53:25.814999",
     "exception": false,
     "start_time": "2022-04-07T08:53:25.762369",
     "status": "completed"
    },
    "tags": []
   },
   "source": [
    "print(f'Модель содержит {count_parameters(model):,} параметров')"
   ]
  },
  {
   "cell_type": "raw",
   "id": "1c385f3b",
   "metadata": {
    "papermill": {
     "duration": 0.05226,
     "end_time": "2022-04-07T08:53:25.920093",
     "exception": false,
     "start_time": "2022-04-07T08:53:25.867833",
     "status": "completed"
    },
    "tags": []
   },
   "source": [
    "Then we define our optimizer and criterion. We have already initialized `PAD_IDX` when initializing the model, so we don't need to do it again."
   ]
  },
  {
   "cell_type": "raw",
   "id": "ea659fdc",
   "metadata": {
    "papermill": {
     "duration": 0.051711,
     "end_time": "2022-04-07T08:53:26.023804",
     "exception": false,
     "start_time": "2022-04-07T08:53:25.972093",
     "status": "completed"
    },
    "tags": []
   },
   "source": [
    "optimizer = optim.Adam(model.parameters())"
   ]
  },
  {
   "cell_type": "raw",
   "id": "59d66eae",
   "metadata": {
    "papermill": {
     "duration": 0.052052,
     "end_time": "2022-04-07T08:53:26.127650",
     "exception": false,
     "start_time": "2022-04-07T08:53:26.075598",
     "status": "completed"
    },
    "tags": []
   },
   "source": [
    "criterion = nn.CrossEntropyLoss(ignore_index = PAD_IDX)"
   ]
  },
  {
   "cell_type": "code",
   "execution_count": 22,
   "id": "a1c214cf",
   "metadata": {
    "execution": {
     "iopub.execute_input": "2022-04-07T08:53:26.240840Z",
     "iopub.status.busy": "2022-04-07T08:53:26.239946Z",
     "iopub.status.idle": "2022-04-07T08:53:26.241771Z",
     "shell.execute_reply": "2022-04-07T08:53:26.242200Z"
    },
    "papermill": {
     "duration": 0.061985,
     "end_time": "2022-04-07T08:53:26.242337",
     "exception": false,
     "start_time": "2022-04-07T08:53:26.180352",
     "status": "completed"
    },
    "tags": []
   },
   "outputs": [],
   "source": [
    "def train(model, iterator, optimizer, criterion, clip):\n",
    "    \n",
    "    model.train()\n",
    "    \n",
    "    epoch_loss = 0\n",
    "    \n",
    "    for i, batch in enumerate(iterator):\n",
    "        \n",
    "        src, src_len = batch.src\n",
    "        trg = batch.trg\n",
    "        \n",
    "        optimizer.zero_grad()\n",
    "        \n",
    "        output, attetion = model(src, src_len.cpu(), trg, 0.4)\n",
    "        \n",
    "        #trg = [trg sent len, batch size]\n",
    "        #output = [trg sent len, batch size, output dim]\n",
    "        \n",
    "        output = output[1:].view(-1, output.shape[-1])\n",
    "        trg = trg[1:].view(-1)\n",
    "        \n",
    "        #trg = [(trg sent len - 1) * batch size]\n",
    "        #output = [(trg sent len - 1) * batch size, output dim]\n",
    "        \n",
    "        loss = criterion(output, trg)\n",
    "        \n",
    "        loss.backward()\n",
    "        \n",
    "        torch.nn.utils.clip_grad_norm_(model.parameters(), clip)\n",
    "        \n",
    "        optimizer.step()\n",
    "        \n",
    "        epoch_loss += loss.item()\n",
    "        \n",
    "    return epoch_loss / len(iterator)"
   ]
  },
  {
   "cell_type": "code",
   "execution_count": 23,
   "id": "b9c570e6",
   "metadata": {
    "execution": {
     "iopub.execute_input": "2022-04-07T08:53:26.357157Z",
     "iopub.status.busy": "2022-04-07T08:53:26.356266Z",
     "iopub.status.idle": "2022-04-07T08:53:26.358160Z",
     "shell.execute_reply": "2022-04-07T08:53:26.358620Z"
    },
    "papermill": {
     "duration": 0.063206,
     "end_time": "2022-04-07T08:53:26.358760",
     "exception": false,
     "start_time": "2022-04-07T08:53:26.295554",
     "status": "completed"
    },
    "tags": []
   },
   "outputs": [],
   "source": [
    "def evaluate(model, iterator, criterion):\n",
    "    \n",
    "    model.eval()\n",
    "    \n",
    "    epoch_loss = 0\n",
    "    \n",
    "    with torch.no_grad():\n",
    "    \n",
    "        for i, batch in enumerate(iterator):\n",
    "\n",
    "            src, src_len = batch.src\n",
    "            trg = batch.trg\n",
    "\n",
    "            output, attention = model(src, src_len.cpu(), trg, 0) #turn off teacher forcing\n",
    "\n",
    "            #trg = [trg sent len, batch size]\n",
    "            #output = [trg sent len, batch size, output dim]\n",
    "\n",
    "            output = output[1:].view(-1, output.shape[-1])\n",
    "            trg = trg[1:].view(-1)\n",
    "\n",
    "            #trg = [(trg sent len - 1) * batch size]\n",
    "            #output = [(trg sent len - 1) * batch size, output dim]\n",
    "\n",
    "            loss = criterion(output, trg)\n",
    "\n",
    "            epoch_loss += loss.item()\n",
    "        \n",
    "    return epoch_loss / len(iterator)"
   ]
  },
  {
   "cell_type": "code",
   "execution_count": 24,
   "id": "845f56a8",
   "metadata": {
    "execution": {
     "iopub.execute_input": "2022-04-07T08:53:26.470689Z",
     "iopub.status.busy": "2022-04-07T08:53:26.469992Z",
     "iopub.status.idle": "2022-04-07T08:53:26.472728Z",
     "shell.execute_reply": "2022-04-07T08:53:26.472270Z"
    },
    "papermill": {
     "duration": 0.060121,
     "end_time": "2022-04-07T08:53:26.472848",
     "exception": false,
     "start_time": "2022-04-07T08:53:26.412727",
     "status": "completed"
    },
    "tags": []
   },
   "outputs": [],
   "source": [
    "def epoch_time(start_time, end_time):\n",
    "    elapsed_time = end_time - start_time\n",
    "    elapsed_mins = int(elapsed_time / 60)\n",
    "    elapsed_secs = int(elapsed_time - (elapsed_mins * 60))\n",
    "    return elapsed_mins, elapsed_secs"
   ]
  },
  {
   "cell_type": "raw",
   "id": "d6d3eaa8",
   "metadata": {
    "papermill": {
     "duration": 0.052078,
     "end_time": "2022-04-07T08:53:26.577904",
     "exception": false,
     "start_time": "2022-04-07T08:53:26.525826",
     "status": "completed"
    },
    "tags": []
   },
   "source": [
    "N_EPOCHS = 50\n",
    "CLIP = 1\n",
    "\n",
    "best_valid_loss = float('inf')\n",
    "\n",
    "for epoch in range(N_EPOCHS):\n",
    "    \n",
    "    start_time = time.time()\n",
    "    \n",
    "    train_loss = train(model, train_iterator, optimizer, criterion, CLIP)\n",
    "    valid_loss = evaluate(model, valid_iterator, criterion)\n",
    "    \n",
    "    end_time = time.time()\n",
    "    \n",
    "    epoch_mins, epoch_secs = epoch_time(start_time, end_time)\n",
    "    \n",
    "    if valid_loss < best_valid_loss:\n",
    "        best_valid_loss = valid_loss\n",
    "        torch.save(model.state_dict(), 'conala_model_attention_test.pt')\n",
    "    \n",
    "    print(f'Эпоха: {epoch+1:02} | Время: {epoch_mins}m {epoch_secs}s Перплексия (обучение): \\\n",
    "    {math.exp(train_loss):7.3f} Перплексия (валидация): {math.exp(valid_loss):7.3f}')"
   ]
  },
  {
   "cell_type": "raw",
   "id": "c26cb66f",
   "metadata": {
    "papermill": {
     "duration": 0.053299,
     "end_time": "2022-04-07T08:53:26.683812",
     "exception": false,
     "start_time": "2022-04-07T08:53:26.630513",
     "status": "completed"
    },
    "tags": []
   },
   "source": [
    "#загружаем сохраненную best_model\n",
    "model.load_state_dict(torch.load('conala_model_attention_test.pt'))\n",
    "\n",
    "test_loss = evaluate(model, test_iterator, criterion)\n",
    "\n",
    "print(f'Перплексия (валидация): {math.exp(test_loss):7.3f}')"
   ]
  },
  {
   "cell_type": "markdown",
   "id": "c8c1f090",
   "metadata": {
    "papermill": {
     "duration": 0.052663,
     "end_time": "2022-04-07T08:53:26.788804",
     "exception": false,
     "start_time": "2022-04-07T08:53:26.736141",
     "status": "completed"
    },
    "tags": []
   },
   "source": [
    "## Предсказание кода по вопросу"
   ]
  },
  {
   "cell_type": "code",
   "execution_count": 25,
   "id": "721c9b6e",
   "metadata": {
    "execution": {
     "iopub.execute_input": "2022-04-07T08:53:26.902607Z",
     "iopub.status.busy": "2022-04-07T08:53:26.901726Z",
     "iopub.status.idle": "2022-04-07T08:53:26.903519Z",
     "shell.execute_reply": "2022-04-07T08:53:26.903922Z"
    },
    "papermill": {
     "duration": 0.062339,
     "end_time": "2022-04-07T08:53:26.904054",
     "exception": false,
     "start_time": "2022-04-07T08:53:26.841715",
     "status": "completed"
    },
    "tags": []
   },
   "outputs": [],
   "source": [
    "def translate_sentence(model, sentence):\n",
    "    model.eval()\n",
    "    tokenized = tokenize_question(sentence) \n",
    "    tokenized = ['<sos>'] + [t.lower() for t in tokenized] + ['<eos>']\n",
    "    numericalized = [SRC.vocab.stoi[t] for t in tokenized] \n",
    "    sentence_length = torch.LongTensor([len(numericalized)]).to(device) \n",
    "    tensor = torch.LongTensor(numericalized).unsqueeze(1).to(device) \n",
    "    translation_tensor_logits, attention = model(tensor, sentence_length.cpu(), None, 0) \n",
    "    translation_tensor = torch.argmax(translation_tensor_logits.squeeze(1), 1)\n",
    "    translation = [TRG.vocab.itos[t] for t in translation_tensor]\n",
    "    translation, attention = translation[1:], attention[1:]\n",
    "    return translation, attention"
   ]
  },
  {
   "cell_type": "code",
   "execution_count": 26,
   "id": "8feaebc6",
   "metadata": {
    "execution": {
     "iopub.execute_input": "2022-04-07T08:53:27.018005Z",
     "iopub.status.busy": "2022-04-07T08:53:27.016900Z",
     "iopub.status.idle": "2022-04-07T08:53:27.018957Z",
     "shell.execute_reply": "2022-04-07T08:53:27.019387Z"
    },
    "papermill": {
     "duration": 0.062883,
     "end_time": "2022-04-07T08:53:27.019550",
     "exception": false,
     "start_time": "2022-04-07T08:53:26.956667",
     "status": "completed"
    },
    "tags": []
   },
   "outputs": [],
   "source": [
    "def display_attention(candidate, translation, attention):\n",
    "    \n",
    "    fig = plt.figure(figsize=(10,10))\n",
    "    ax = fig.add_subplot(111)\n",
    "    \n",
    "    attention = attention.squeeze(1).cpu().detach().numpy()\n",
    "    \n",
    "    cax = ax.matshow(attention, cmap='bone')\n",
    "   \n",
    "    ax.tick_params(labelsize=15)\n",
    "    ax.set_xticklabels([''] + ['<sos>'] + [t.lower() for t in tokenize_question(candidate)] + ['<eos>'], \n",
    "                       rotation=45)\n",
    "    ax.set_yticklabels([''] + translation)\n",
    "\n",
    "    ax.xaxis.set_major_locator(ticker.MultipleLocator(1))\n",
    "    ax.yaxis.set_major_locator(ticker.MultipleLocator(1))\n",
    "\n",
    "    plt.show()\n",
    "    plt.close()"
   ]
  },
  {
   "cell_type": "raw",
   "id": "491df7a5",
   "metadata": {
    "papermill": {
     "duration": 0.052178,
     "end_time": "2022-04-07T08:53:27.124594",
     "exception": false,
     "start_time": "2022-04-07T08:53:27.072416",
     "status": "completed"
    },
    "tags": []
   },
   "source": [
    "example_idx = 2\n",
    "\n",
    "src = ' '.join(vars(train_data.examples[example_idx])['src'])\n",
    "trg = ' '.join(vars(train_data.examples[example_idx])['trg'])\n",
    "\n",
    "print(f'src = {src}')\n",
    "print(f'trg = {trg}')"
   ]
  },
  {
   "cell_type": "raw",
   "id": "ff835edb",
   "metadata": {
    "papermill": {
     "duration": 0.052702,
     "end_time": "2022-04-07T08:53:27.230071",
     "exception": false,
     "start_time": "2022-04-07T08:53:27.177369",
     "status": "completed"
    },
    "tags": []
   },
   "source": [
    "translation, attention = translate_sentence(model, src)\n",
    "\n",
    "print('predicted trg = ', ' '.join(translation))\n",
    "\n",
    "display_attention(src, translation, attention)"
   ]
  },
  {
   "cell_type": "raw",
   "id": "27afe07d",
   "metadata": {
    "papermill": {
     "duration": 0.052338,
     "end_time": "2022-04-07T08:53:27.334881",
     "exception": false,
     "start_time": "2022-04-07T08:53:27.282543",
     "status": "completed"
    },
    "tags": []
   },
   "source": [
    "example_idx = 8\n",
    "\n",
    "src = ' '.join(vars(valid_data.examples[example_idx])['src'])\n",
    "trg = ' '.join(vars(valid_data.examples[example_idx])['trg'])\n",
    "\n",
    "print(f'src = {src}')\n",
    "print(f'trg = {trg}')"
   ]
  },
  {
   "cell_type": "raw",
   "id": "db2df6b4",
   "metadata": {
    "papermill": {
     "duration": 0.054478,
     "end_time": "2022-04-07T08:53:27.442083",
     "exception": false,
     "start_time": "2022-04-07T08:53:27.387605",
     "status": "completed"
    },
    "tags": []
   },
   "source": [
    "translation, attention = translate_sentence(model, src)\n",
    "\n",
    "print('predicted trg = ', ' '.join(translation))\n",
    "\n",
    "display_attention(src, translation, attention)"
   ]
  },
  {
   "cell_type": "raw",
   "id": "0fb901ed",
   "metadata": {
    "papermill": {
     "duration": 0.052573,
     "end_time": "2022-04-07T08:53:27.546874",
     "exception": false,
     "start_time": "2022-04-07T08:53:27.494301",
     "status": "completed"
    },
    "tags": []
   },
   "source": [
    "example_idx = 4\n",
    "\n",
    "src = ' '.join(vars(test_data.examples[example_idx])['src'])\n",
    "trg = ' '.join(vars(test_data.examples[example_idx])['trg'])\n",
    "\n",
    "print(f'src = {src}')\n",
    "print(f'trg = {trg}')"
   ]
  },
  {
   "cell_type": "raw",
   "id": "3a094af5",
   "metadata": {
    "papermill": {
     "duration": 0.05242,
     "end_time": "2022-04-07T08:53:27.653349",
     "exception": false,
     "start_time": "2022-04-07T08:53:27.600929",
     "status": "completed"
    },
    "tags": []
   },
   "source": [
    "translation, attention = translate_sentence(model, src)\n",
    "\n",
    "print('predicted trg = ', ''.join(translation))\n",
    "\n",
    "display_attention(src, translation, attention)"
   ]
  },
  {
   "cell_type": "markdown",
   "id": "c8345f03",
   "metadata": {
    "papermill": {
     "duration": 0.053203,
     "end_time": "2022-04-07T08:53:27.762820",
     "exception": false,
     "start_time": "2022-04-07T08:53:27.709617",
     "status": "completed"
    },
    "tags": []
   },
   "source": [
    "## Запустить baseline на датасете StaQC, 50000, сравить результаты с данными на датасете conala, 2000"
   ]
  },
  {
   "cell_type": "code",
   "execution_count": 27,
   "id": "d1c93a0d",
   "metadata": {
    "execution": {
     "iopub.execute_input": "2022-04-07T08:53:27.886492Z",
     "iopub.status.busy": "2022-04-07T08:53:27.885741Z",
     "iopub.status.idle": "2022-04-07T08:53:34.503275Z",
     "shell.execute_reply": "2022-04-07T08:53:34.503721Z"
    },
    "papermill": {
     "duration": 6.687107,
     "end_time": "2022-04-07T08:53:34.503887",
     "exception": false,
     "start_time": "2022-04-07T08:53:27.816780",
     "status": "completed"
    },
    "tags": []
   },
   "outputs": [
    {
     "name": "stdout",
     "output_type": "stream",
     "text": [
      "mkdir: cannot create directory ‘./stepik-dl-nlp/’: File exists\r\n",
      "mkdir: cannot create directory ‘./stepik-dl-nlp/datasets/’: File exists\r\n",
      "mkdir: cannot create directory ‘./stepik-dl-nlp/datasets/stackoverflow_code_generation/’: File exists\r\n",
      "  % Total    % Received % Xferd  Average Speed   Time    Time     Time  Current\r\n",
      "                                 Dload  Upload   Total   Spent    Left  Speed\r\n",
      "100 15.8M  100 15.8M    0     0  16.4M      0 --:--:-- --:--:-- --:--:-- 16.4M\r\n",
      "  % Total    % Received % Xferd  Average Speed   Time    Time     Time  Current\r\n",
      "                                 Dload  Upload   Total   Spent    Left  Speed\r\n",
      "100 1165k  100 1165k    0     0  2245k      0 --:--:-- --:--:-- --:--:-- 2245k\r\n",
      "  % Total    % Received % Xferd  Average Speed   Time    Time     Time  Current\r\n",
      "                                 Dload  Upload   Total   Spent    Left  Speed\r\n",
      "100 1140k  100 1140k    0     0  2953k      0 --:--:-- --:--:-- --:--:-- 2953k\r\n"
     ]
    }
   ],
   "source": [
    "!mkdir ./stepik-dl-nlp/\n",
    "!mkdir ./stepik-dl-nlp/datasets/\n",
    "!mkdir ./stepik-dl-nlp/datasets/stackoverflow_code_generation/\n",
    "!mkdir ./stepik-dl-nlp/datasets/stackoverflow_code_generation/StaQC/\n",
    "!curl \"https://raw.githubusercontent.com/Samsung-IT-Academy/stepik-dl-nlp/master/datasets/stackoverflow_code_generation/homework_data/train.csv\" \\\n",
    "    -o ./stepik-dl-nlp/datasets/stackoverflow_code_generation/StaQC/train.csv\n",
    "!curl \"https://raw.githubusercontent.com/Samsung-IT-Academy/stepik-dl-nlp/master/datasets/stackoverflow_code_generation/homework_data/valid.csv\" \\\n",
    "    -o ./stepik-dl-nlp/datasets/stackoverflow_code_generation/StaQC/valid.csv\n",
    "!curl \"https://raw.githubusercontent.com/Samsung-IT-Academy/stepik-dl-nlp/master/datasets/stackoverflow_code_generation/homework_data/test.csv\" \\\n",
    "    -o ./stepik-dl-nlp/datasets/stackoverflow_code_generation/StaQC/test.csv"
   ]
  },
  {
   "cell_type": "code",
   "execution_count": 28,
   "id": "3e3c9759",
   "metadata": {
    "execution": {
     "iopub.execute_input": "2022-04-07T08:53:34.623184Z",
     "iopub.status.busy": "2022-04-07T08:53:34.622266Z",
     "iopub.status.idle": "2022-04-07T08:53:34.837768Z",
     "shell.execute_reply": "2022-04-07T08:53:34.837090Z"
    },
    "papermill": {
     "duration": 0.277207,
     "end_time": "2022-04-07T08:53:34.837896",
     "exception": false,
     "start_time": "2022-04-07T08:53:34.560689",
     "status": "completed"
    },
    "tags": []
   },
   "outputs": [
    {
     "data": {
      "text/html": [
       "<div>\n",
       "<style scoped>\n",
       "    .dataframe tbody tr th:only-of-type {\n",
       "        vertical-align: middle;\n",
       "    }\n",
       "\n",
       "    .dataframe tbody tr th {\n",
       "        vertical-align: top;\n",
       "    }\n",
       "\n",
       "    .dataframe thead th {\n",
       "        text-align: right;\n",
       "    }\n",
       "</style>\n",
       "<table border=\"1\" class=\"dataframe\">\n",
       "  <thead>\n",
       "    <tr style=\"text-align: right;\">\n",
       "      <th></th>\n",
       "      <th>intent</th>\n",
       "      <th>snippet</th>\n",
       "    </tr>\n",
       "  </thead>\n",
       "  <tbody>\n",
       "    <tr>\n",
       "      <th>0</th>\n",
       "      <td>Use Python social auth to only get tokens</td>\n",
       "      <td>\\n# Create a user account if we haven't found ...</td>\n",
       "    </tr>\n",
       "    <tr>\n",
       "      <th>1</th>\n",
       "      <td>updating matplotlib imshow from within a Tkint...</td>\n",
       "      <td>def rotate(*args):\\n    print 'rotate button p...</td>\n",
       "    </tr>\n",
       "    <tr>\n",
       "      <th>2</th>\n",
       "      <td>How can I verify my selfsigned certificate whe...</td>\n",
       "      <td>import ssl\\nimport os\\n# get the https certifi...</td>\n",
       "    </tr>\n",
       "    <tr>\n",
       "      <th>3</th>\n",
       "      <td>How to do write a Python script that inputs al...</td>\n",
       "      <td>import sys\\nimport os\\nimport glob\\n\\ndef hand...</td>\n",
       "    </tr>\n",
       "    <tr>\n",
       "      <th>4</th>\n",
       "      <td>How to print notification to slack by calling ...</td>\n",
       "      <td>class Report(object):\\n  .\\n  .\\n  def new_hos...</td>\n",
       "    </tr>\n",
       "    <tr>\n",
       "      <th>...</th>\n",
       "      <td>...</td>\n",
       "      <td>...</td>\n",
       "    </tr>\n",
       "    <tr>\n",
       "      <th>49995</th>\n",
       "      <td>Stripping whitespace and joining multiple valu...</td>\n",
       "      <td>d_new = {}\\nfor i,j in d.items():\\n    if j:\\n...</td>\n",
       "    </tr>\n",
       "    <tr>\n",
       "      <th>49996</th>\n",
       "      <td>Split value into bins based on time</td>\n",
       "      <td>from datetime import datetime\\nfrom time impor...</td>\n",
       "    </tr>\n",
       "    <tr>\n",
       "      <th>49997</th>\n",
       "      <td>How to find only the total RAM in Python</td>\n",
       "      <td>echo $(cat /proc/meminfo |grep MemTotal) |grep...</td>\n",
       "    </tr>\n",
       "    <tr>\n",
       "      <th>49998</th>\n",
       "      <td>get most common element but if frequencies mat...</td>\n",
       "      <td>max(Counter(a).iteritems(), key=lambda (k,v): ...</td>\n",
       "    </tr>\n",
       "    <tr>\n",
       "      <th>49999</th>\n",
       "      <td>How to deploy to a new directory structure wit...</td>\n",
       "      <td>stuff = []\\nfor f in glob.glob(\"*/*.py\"):\\n   ...</td>\n",
       "    </tr>\n",
       "  </tbody>\n",
       "</table>\n",
       "<p>50000 rows × 2 columns</p>\n",
       "</div>"
      ],
      "text/plain": [
       "                                                  intent  \\\n",
       "0              Use Python social auth to only get tokens   \n",
       "1      updating matplotlib imshow from within a Tkint...   \n",
       "2      How can I verify my selfsigned certificate whe...   \n",
       "3      How to do write a Python script that inputs al...   \n",
       "4      How to print notification to slack by calling ...   \n",
       "...                                                  ...   \n",
       "49995  Stripping whitespace and joining multiple valu...   \n",
       "49996                Split value into bins based on time   \n",
       "49997           How to find only the total RAM in Python   \n",
       "49998  get most common element but if frequencies mat...   \n",
       "49999  How to deploy to a new directory structure wit...   \n",
       "\n",
       "                                                 snippet  \n",
       "0      \\n# Create a user account if we haven't found ...  \n",
       "1      def rotate(*args):\\n    print 'rotate button p...  \n",
       "2      import ssl\\nimport os\\n# get the https certifi...  \n",
       "3      import sys\\nimport os\\nimport glob\\n\\ndef hand...  \n",
       "4      class Report(object):\\n  .\\n  .\\n  def new_hos...  \n",
       "...                                                  ...  \n",
       "49995  d_new = {}\\nfor i,j in d.items():\\n    if j:\\n...  \n",
       "49996  from datetime import datetime\\nfrom time impor...  \n",
       "49997  echo $(cat /proc/meminfo |grep MemTotal) |grep...  \n",
       "49998  max(Counter(a).iteritems(), key=lambda (k,v): ...  \n",
       "49999  stuff = []\\nfor f in glob.glob(\"*/*.py\"):\\n   ...  \n",
       "\n",
       "[50000 rows x 2 columns]"
      ]
     },
     "execution_count": 28,
     "metadata": {},
     "output_type": "execute_result"
    }
   ],
   "source": [
    "import pandas as pd\n",
    "import numpy as np\n",
    "pd_test = pd.read_csv('./stepik-dl-nlp/datasets/stackoverflow_code_generation/StaQC/train.csv')\n",
    "pd_test"
   ]
  },
  {
   "cell_type": "code",
   "execution_count": 29,
   "id": "04ea5dec",
   "metadata": {
    "execution": {
     "iopub.execute_input": "2022-04-07T08:53:34.965971Z",
     "iopub.status.busy": "2022-04-07T08:53:34.960210Z",
     "iopub.status.idle": "2022-04-07T08:53:35.568564Z",
     "shell.execute_reply": "2022-04-07T08:53:35.568088Z"
    },
    "papermill": {
     "duration": 0.673339,
     "end_time": "2022-04-07T08:53:35.568696",
     "exception": false,
     "start_time": "2022-04-07T08:53:34.895357",
     "status": "completed"
    },
    "tags": []
   },
   "outputs": [
    {
     "data": {
      "image/png": "[encoded data removed]",
      "text/plain": [
       "<Figure size 432x288 with 1 Axes>"
      ]
     },
     "metadata": {
      "needs_background": "light"
     },
     "output_type": "display_data"
    },
    {
     "data": {
      "image/png": "[encoded data removed]",
      "text/plain": [
       "<Figure size 432x288 with 1 Axes>"
      ]
     },
     "metadata": {
      "needs_background": "light"
     },
     "output_type": "display_data"
    }
   ],
   "source": [
    "pd_test.intent.str.len().hist(bins=50)\n",
    "plt.show()\n",
    "mask = pd_test.intent.str.len() > pd_test.intent.str.len().quantile(0.99)\n",
    "pd_test.intent[mask].str.len().hist(bins=50)\n",
    "plt.show()"
   ]
  },
  {
   "cell_type": "code",
   "execution_count": 30,
   "id": "d076ba18",
   "metadata": {
    "execution": {
     "iopub.execute_input": "2022-04-07T08:53:35.697850Z",
     "iopub.status.busy": "2022-04-07T08:53:35.697105Z",
     "iopub.status.idle": "2022-04-07T08:53:36.247008Z",
     "shell.execute_reply": "2022-04-07T08:53:36.247748Z"
    },
    "papermill": {
     "duration": 0.620639,
     "end_time": "2022-04-07T08:53:36.247903",
     "exception": false,
     "start_time": "2022-04-07T08:53:35.627264",
     "status": "completed"
    },
    "tags": []
   },
   "outputs": [
    {
     "data": {
      "image/png": "[encoded data removed]",
      "text/plain": [
       "<Figure size 432x288 with 1 Axes>"
      ]
     },
     "metadata": {
      "needs_background": "light"
     },
     "output_type": "display_data"
    },
    {
     "data": {
      "image/png": "[encoded data removed]",
      "text/plain": [
       "<Figure size 432x288 with 1 Axes>"
      ]
     },
     "metadata": {
      "needs_background": "light"
     },
     "output_type": "display_data"
    }
   ],
   "source": [
    "pd_test.snippet.str.len().hist(bins=50)\n",
    "plt.show()\n",
    "mask = pd_test.snippet.str.len() > pd_test.snippet.str.len().quantile(0.99)\n",
    "pd_test.snippet[mask].str.len().hist(bins=50)\n",
    "plt.show()"
   ]
  },
  {
   "cell_type": "code",
   "execution_count": 31,
   "id": "5c7eb5fe",
   "metadata": {
    "execution": {
     "iopub.execute_input": "2022-04-07T08:53:36.373737Z",
     "iopub.status.busy": "2022-04-07T08:53:36.372838Z",
     "iopub.status.idle": "2022-04-07T08:53:36.380275Z",
     "shell.execute_reply": "2022-04-07T08:53:36.379841Z"
    },
    "papermill": {
     "duration": 0.072372,
     "end_time": "2022-04-07T08:53:36.380396",
     "exception": false,
     "start_time": "2022-04-07T08:53:36.308024",
     "status": "completed"
    },
    "tags": []
   },
   "outputs": [
    {
     "name": "stdout",
     "output_type": "stream",
     "text": [
      "Use Python social auth to only get tokens\n",
      "Snoppet len: 90\n",
      "\n",
      "# Create a user account if we haven't found one yet.\n",
      "'social.pipeline.user.create_user',\n",
      "\n",
      "------------------------------------------\n",
      "updating matplotlib imshow from within a Tkinter gui\n",
      "Snoppet len: 155\n",
      "def rotate(*args):\n",
      "    print 'rotate button press...'\n",
      "    theta = 90\n",
      "    rotated = ndimage.rotate(image, theta)\n",
      "    im.set_data(rotated)\n",
      "    canvas.draw()\n",
      "\n",
      "------------------------------------------\n",
      "How can I verify my selfsigned certificate when using easywebdav?\n",
      "Snoppet len: 242\n",
      "import ssl\n",
      "import os\n",
      "# get the https certificate\n",
      "cert = ssl.get_server_certificate(('example.com', 443))\n",
      "# append it to my personal chain\n",
      "pem_path = os.path.expanduser('~/.pki/CA/cacert.pem')\n",
      "with open(pem_path, 'a+') as f:\n",
      "    f.write(cert)\n",
      "\n",
      "------------------------------------------\n",
      "How to do write a Python script that inputs all files from a certain subdirectory from command line?\n",
      "Snoppet len: 342\n",
      "import sys\n",
      "import os\n",
      "import glob\n",
      "\n",
      "def handle_file(filename):\n",
      "    # whatever you want to do with the file named filename e.g.\n",
      "    print(filename)  \n",
      "\n",
      "for name in sys.argv[1:]:\n",
      "    if name.find('.txt') != -1: \n",
      "        handle_file(name)\n",
      "    else:\n",
      "        for filename in glob.glob(os.path.join(name, '*.txt')): \n",
      "            handle_file(filename)\n",
      "\n",
      "------------------------------------------\n",
      "How to print notification to slack by calling a function via python\n",
      "Snoppet len: 160\n",
      "class Report(object):\n",
      "  .\n",
      "  .\n",
      "  def new_hosts(self):\n",
      "      \"\"\"Return a list of new hosts added in latest scan\"\"\"\n",
      "      return self.curr_hosts - self.prev_hosts\n",
      "\n",
      "------------------------------------------\n"
     ]
    }
   ],
   "source": [
    "for i in range(5):\n",
    "    print(pd_test.intent[i])\n",
    "    print(f\"Snoppet len: {len(pd_test.snippet[i])}\")\n",
    "    print(pd_test.snippet[i])\n",
    "    print('------------------------------------------')"
   ]
  },
  {
   "cell_type": "code",
   "execution_count": 32,
   "id": "0cbc631a",
   "metadata": {
    "execution": {
     "iopub.execute_input": "2022-04-07T08:53:36.508176Z",
     "iopub.status.busy": "2022-04-07T08:53:36.507308Z",
     "iopub.status.idle": "2022-04-07T08:53:36.509948Z",
     "shell.execute_reply": "2022-04-07T08:53:36.509407Z"
    },
    "papermill": {
     "duration": 0.067417,
     "end_time": "2022-04-07T08:53:36.510062",
     "exception": false,
     "start_time": "2022-04-07T08:53:36.442645",
     "status": "completed"
    },
    "tags": []
   },
   "outputs": [],
   "source": [
    "#max_len_index = pd_test.snippet.str.len().argmax()\n",
    "#print(pd_test.intent[max_len_index], pd_test.snippet[max_len_index])"
   ]
  },
  {
   "cell_type": "raw",
   "id": "ca6c2376",
   "metadata": {
    "papermill": {
     "duration": 0.060617,
     "end_time": "2022-04-07T08:53:36.631217",
     "exception": false,
     "start_time": "2022-04-07T08:53:36.570600",
     "status": "completed"
    },
    "tags": []
   },
   "source": [
    "Итого, нужны следующие предобработки:\n",
    "    - выполнить предобработку для train/val/test через пандас, с пересохранением \n",
    "      ..._cleaned_light.csv (для лайтовой) и ..._cleaned_std.csv (для стандартной)\n",
    "    - предобработка должна быть в виде функции\n",
    "    - лайтовая (для целей запустить и посмотреть что получится):\n",
    "        - отсечь примеры с максимальной длиной более X символов\n",
    "    - стандартная:\n",
    "        - отсечь примеры с максимальной длиной более X символов;\n",
    "        - удалить комментарии (# ... и '''...'''\n",
    "        - удалить импорты\n",
    "    - суровая:\n",
    "        - проверить сколько есть примеров с односточным кодом (после итоговой предобработки)"
   ]
  },
  {
   "cell_type": "code",
   "execution_count": 33,
   "id": "285cff8a",
   "metadata": {
    "execution": {
     "iopub.execute_input": "2022-04-07T08:53:36.759982Z",
     "iopub.status.busy": "2022-04-07T08:53:36.759127Z",
     "iopub.status.idle": "2022-04-07T08:53:36.760929Z",
     "shell.execute_reply": "2022-04-07T08:53:36.761364Z"
    },
    "papermill": {
     "duration": 0.069457,
     "end_time": "2022-04-07T08:53:36.761515",
     "exception": false,
     "start_time": "2022-04-07T08:53:36.692058",
     "status": "completed"
    },
    "tags": []
   },
   "outputs": [],
   "source": [
    "def data_cleaner(path_dir, files = ['train.csv', 'valid.csv', 'test.csv'], \n",
    "                 clean_type = 'light', len_quantile = 0.70):\n",
    "    len_threshold = pd.read_csv(path_dir + files[0]).snippet.str.len().quantile(0.70)\n",
    "    print(f\"len_threshold = {int(len_threshold)}\")\n",
    "    for file in files:\n",
    "        pd_data = pd.read_csv(path_dir + file)\n",
    "        len_before = pd_data.shape[0]\n",
    "        pd_data = pd_data[pd_data.snippet.str.len() <= len_threshold]\n",
    "        pd_data.to_csv(path_dir + file[:-4] + f\"_{clean_type}\" + file[-4:])\n",
    "        print(f\"{file}: len_before = {len_before}, len_after = {pd_data.shape[0]}\")"
   ]
  },
  {
   "cell_type": "code",
   "execution_count": 34,
   "id": "5e676d93",
   "metadata": {
    "execution": {
     "iopub.execute_input": "2022-04-07T08:53:36.888181Z",
     "iopub.status.busy": "2022-04-07T08:53:36.887342Z",
     "iopub.status.idle": "2022-04-07T08:53:36.889168Z",
     "shell.execute_reply": "2022-04-07T08:53:36.889613Z"
    },
    "papermill": {
     "duration": 0.067376,
     "end_time": "2022-04-07T08:53:36.889754",
     "exception": false,
     "start_time": "2022-04-07T08:53:36.822378",
     "status": "completed"
    },
    "tags": []
   },
   "outputs": [],
   "source": [
    "path_dir = './stepik-dl-nlp/datasets/stackoverflow_code_generation/StaQC/'\n",
    "files = ['train.csv', 'valid.csv', 'test.csv']"
   ]
  },
  {
   "cell_type": "code",
   "execution_count": 35,
   "id": "beec1675",
   "metadata": {
    "execution": {
     "iopub.execute_input": "2022-04-07T08:53:37.017088Z",
     "iopub.status.busy": "2022-04-07T08:53:37.016052Z",
     "iopub.status.idle": "2022-04-07T08:53:38.485466Z",
     "shell.execute_reply": "2022-04-07T08:53:38.484982Z"
    },
    "papermill": {
     "duration": 1.53504,
     "end_time": "2022-04-07T08:53:38.485607",
     "exception": false,
     "start_time": "2022-04-07T08:53:36.950567",
     "status": "completed"
    },
    "tags": []
   },
   "outputs": [
    {
     "name": "stdout",
     "output_type": "stream",
     "text": [
      "len_threshold = 259\n",
      "train.csv: len_before = 50000, len_after = 35006\n",
      "valid.csv: len_before = 3500, len_after = 2456\n",
      "test.csv: len_before = 3535, len_after = 2477\n",
      "\n",
      "test.csv\ttrain.csv\t valid.csv\r\n",
      "test_light.csv\ttrain_light.csv  valid_light.csv\r\n"
     ]
    }
   ],
   "source": [
    "data_cleaner(path_dir, files, \n",
    "                 clean_type = 'light', len_quantile = 0.70)\n",
    "print()\n",
    "!ls './stepik-dl-nlp/datasets/stackoverflow_code_generation/StaQC/'"
   ]
  },
  {
   "cell_type": "code",
   "execution_count": 36,
   "id": "80628d66",
   "metadata": {
    "execution": {
     "iopub.execute_input": "2022-04-07T08:53:39.692589Z",
     "iopub.status.busy": "2022-04-07T08:53:38.903392Z",
     "iopub.status.idle": "2022-04-07T08:53:41.546999Z",
     "shell.execute_reply": "2022-04-07T08:53:41.547492Z"
    },
    "papermill": {
     "duration": 2.999415,
     "end_time": "2022-04-07T08:53:41.547649",
     "exception": false,
     "start_time": "2022-04-07T08:53:38.548234",
     "status": "completed"
    },
    "tags": []
   },
   "outputs": [],
   "source": [
    "import torch\n",
    "from torchtext import data, datasets\n",
    "\n",
    "#torchtext.legacy.data.Field - Defines a datatype together with instructions for converting to Tensor.\n",
    "SRC = Field(\n",
    "    tokenize = tokenize_question, #max_len = 16\n",
    "    init_token = '<sos>', \n",
    "    eos_token = '<eos>', \n",
    "    lower = True,\n",
    "    include_lengths = True\n",
    ")\n",
    "\n",
    "TRG = Field(\n",
    "    tokenize = tokenize_snippet, #max_len = 10\n",
    "    init_token = '<sos>', \n",
    "    eos_token = '<eos>', \n",
    "    lower = True\n",
    ")\n",
    "\n",
    "fields = {\n",
    "    'intent': ('src', SRC),\n",
    "    'snippet': ('trg', TRG)\n",
    "}\n",
    "\n",
    "#TabularDataset - Defines a Dataset of columns stored in CSV, TSV, or JSON format\n",
    "#TabularDataset.splits - Create Dataset objects for multiple splits of a dataset.\n",
    "train_data, valid_data, test_data = TabularDataset.splits(\n",
    "                            path = './stepik-dl-nlp/datasets/stackoverflow_code_generation/StaQC/',\n",
    "                            train = 'train_light.csv',\n",
    "                            validation = 'valid_light.csv',\n",
    "                            test = 'test_light.csv',\n",
    "                            format = 'csv',\n",
    "                            fields = fields\n",
    ")"
   ]
  },
  {
   "cell_type": "code",
   "execution_count": 37,
   "id": "7c389edb",
   "metadata": {
    "execution": {
     "iopub.execute_input": "2022-04-07T08:53:41.700447Z",
     "iopub.status.busy": "2022-04-07T08:53:41.685089Z",
     "iopub.status.idle": "2022-04-07T08:53:41.986787Z",
     "shell.execute_reply": "2022-04-07T08:53:41.987505Z"
    },
    "papermill": {
     "duration": 0.378291,
     "end_time": "2022-04-07T08:53:41.987697",
     "exception": false,
     "start_time": "2022-04-07T08:53:41.609406",
     "status": "completed"
    },
    "tags": []
   },
   "outputs": [
    {
     "name": "stdout",
     "output_type": "stream",
     "text": [
      "[('python', 15375), ('a', 14229), ('in', 13541), ('to', 12672), ('of', 7688), ('how', 7620), ('the', 5046), ('list', 4718), ('with', 4362), ('and', 3918), ('from', 3839), ('for', 2638), ('using', 2630), ('i', 2400), ('string', 2304), ('file', 2258), ('is', 2014), ('pandas', 1833), ('function', 1814), ('on', 1781)]\n",
      "[(',', 81255), ('.', 79623), ('(', 77857), (')', 77766), ('=', 45936), (':', 39518), ('[', 37438), (']', 37382), ('\"', 28387), ('1', 18340), ('-', 17392), ('0', 15389), ('in', 13345), ('/', 12558), ('2', 10643), (\"'\", 10540), ('for', 9394), ('a', 8100), ('3', 8094), ('x', 8027)]\n",
      "Первые 10 токенов: ['<unk>', '<pad>', '<sos>', '<eos>', 'python', 'a', 'in', 'to', 'of', 'how']\n",
      "Уникальные токены в словаре интентов: 5114\n",
      "Уникальные токены в словаре сниппетов: 6859\n"
     ]
    }
   ],
   "source": [
    "#.build_vocab - Construct the Vocab object for this field from one or more datasets.\n",
    "#place of possible hyperparameters (max_size=25000, min_freq=3)\n",
    "SRC.build_vocab([train_data.src], max_size=25000, min_freq=3)\n",
    "print(SRC.vocab.freqs.most_common(20))\n",
    "\n",
    "\n",
    "#place of possible hyperparameters (max_size=?, min_freq=5)\n",
    "TRG.build_vocab([train_data.trg], min_freq=5)\n",
    "print(TRG.vocab.freqs.most_common(20))\n",
    "\n",
    "print(f\"Первые 10 токенов: {SRC.vocab.itos[:10]}\")\n",
    "\n",
    "print(f\"Уникальные токены в словаре интентов: {len(SRC.vocab)}\")\n",
    "print(f\"Уникальные токены в словаре сниппетов: {len(TRG.vocab)}\")"
   ]
  },
  {
   "cell_type": "code",
   "execution_count": 38,
   "id": "e014d2fd",
   "metadata": {
    "execution": {
     "iopub.execute_input": "2022-04-07T08:53:42.119662Z",
     "iopub.status.busy": "2022-04-07T08:53:42.118983Z",
     "iopub.status.idle": "2022-04-07T08:53:42.122153Z",
     "shell.execute_reply": "2022-04-07T08:53:42.122566Z"
    },
    "papermill": {
     "duration": 0.070533,
     "end_time": "2022-04-07T08:53:42.122706",
     "exception": false,
     "start_time": "2022-04-07T08:53:42.052173",
     "status": "completed"
    },
    "tags": []
   },
   "outputs": [
    {
     "name": "stdout",
     "output_type": "stream",
     "text": [
      "Размер обучающей выборки: 35006\n",
      "Размер валидационной выборки: 2456\n",
      "Размер тестовой выборки: 2477\n"
     ]
    }
   ],
   "source": [
    "print(f\"Размер обучающей выборки: {len(train_data.examples)}\")\n",
    "print(f\"Размер валидационной выборки: {len(valid_data.examples)}\")\n",
    "print(f\"Размер тестовой выборки: {len(test_data.examples)}\")"
   ]
  },
  {
   "cell_type": "code",
   "execution_count": 39,
   "id": "6f983999",
   "metadata": {
    "execution": {
     "iopub.execute_input": "2022-04-07T08:53:42.254983Z",
     "iopub.status.busy": "2022-04-07T08:53:42.253345Z",
     "iopub.status.idle": "2022-04-07T08:53:42.255626Z",
     "shell.execute_reply": "2022-04-07T08:53:42.256041Z"
    },
    "papermill": {
     "duration": 0.070075,
     "end_time": "2022-04-07T08:53:42.256174",
     "exception": false,
     "start_time": "2022-04-07T08:53:42.186099",
     "status": "completed"
    },
    "tags": []
   },
   "outputs": [],
   "source": [
    "device = torch.device('cuda' if torch.cuda.is_available() else 'cpu')\n",
    "#torch.cuda.set_device(0)"
   ]
  },
  {
   "cell_type": "code",
   "execution_count": 40,
   "id": "498094f6",
   "metadata": {
    "execution": {
     "iopub.execute_input": "2022-04-07T08:53:42.389846Z",
     "iopub.status.busy": "2022-04-07T08:53:42.389240Z",
     "iopub.status.idle": "2022-04-07T08:53:42.394694Z",
     "shell.execute_reply": "2022-04-07T08:53:42.394271Z"
    },
    "papermill": {
     "duration": 0.07434,
     "end_time": "2022-04-07T08:53:42.394815",
     "exception": false,
     "start_time": "2022-04-07T08:53:42.320475",
     "status": "completed"
    },
    "tags": []
   },
   "outputs": [
    {
     "data": {
      "text/plain": [
       "device(type='cuda')"
      ]
     },
     "execution_count": 40,
     "metadata": {},
     "output_type": "execute_result"
    }
   ],
   "source": [
    "device"
   ]
  },
  {
   "cell_type": "code",
   "execution_count": 41,
   "id": "bfbf99e9",
   "metadata": {
    "execution": {
     "iopub.execute_input": "2022-04-07T08:53:42.534566Z",
     "iopub.status.busy": "2022-04-07T08:53:42.533732Z",
     "iopub.status.idle": "2022-04-07T08:53:42.536239Z",
     "shell.execute_reply": "2022-04-07T08:53:42.535835Z"
    },
    "papermill": {
     "duration": 0.075483,
     "end_time": "2022-04-07T08:53:42.536365",
     "exception": false,
     "start_time": "2022-04-07T08:53:42.460882",
     "status": "completed"
    },
    "tags": []
   },
   "outputs": [],
   "source": [
    "BATCH_SIZE = 100\n",
    "\n",
    "'''\n",
    "BucketIterator - Defines an iterator that batches examples of similar lengths together. (т.е. схожей длины, это суть выбора BucketIterator)\n",
    "Minimizes amount of padding needed while producing freshly shuffled batches for each new epoch. See pool for the bucketing procedure used.\n",
    "\n",
    "Итого, генерирует батчи тензоров равной длины (из индексов токенов), длина берется максимальная из примеров попавших в батч \n",
    "(если sort = True и/или sort_within_batch = True, то батчи формируются после предварительной сортировки по размеру), все примеры меньшей длины\n",
    "добиваются до необходимой через токен паддинга (<pad>, id=1)\n",
    "\n",
    "Судя по документации, sort_within_batch - отвечает только за необходимость сортировки внутри батчей, и не должен влиять на суть BucketIterator, \n",
    "а именно объединение в батчи на основе длины, но по факту влияет, если выставить False и не будет параметра sort = True, то примеры будут \n",
    "объединяться в батч рандомно, единственное, что дополнительно будет делать BucketIterator - это добивать до общей максимальной длины паддингами\n",
    "(что бы убрать неоднозначности, явно добавил еще и параметр sort = True)\n",
    "\n",
    "P.S. sort_within_batch нужно для упаковки PackedSequence, если батч не будет отсортирован по убыванию длины, то нужно при упаковке в \n",
    "PackedSequence, использовать параметр enforce_sorted = False (не изучал подробно на что это влияет)\n",
    "'''\n",
    "#place of possible hyperparameters (sort/sort_within_batch = True) - не факт что такое упорядочивание не скажется непонятным образом на обучении\n",
    "train_iterator, valid_iterator, test_iterator = BucketIterator.splits(\n",
    "    (train_data, valid_data, test_data), \n",
    "     batch_size = BATCH_SIZE,\n",
    "     sort = True,\n",
    "     sort_within_batch = True, \n",
    "     sort_key = lambda x : len(x.src),\n",
    "     device = device)"
   ]
  },
  {
   "cell_type": "code",
   "execution_count": 42,
   "id": "17ba22e7",
   "metadata": {
    "execution": {
     "iopub.execute_input": "2022-04-07T08:53:42.672993Z",
     "iopub.status.busy": "2022-04-07T08:53:42.672255Z",
     "iopub.status.idle": "2022-04-07T08:53:51.556424Z",
     "shell.execute_reply": "2022-04-07T08:53:51.555754Z"
    },
    "papermill": {
     "duration": 8.956276,
     "end_time": "2022-04-07T08:53:51.556608",
     "exception": false,
     "start_time": "2022-04-07T08:53:42.600332",
     "status": "completed"
    },
    "tags": []
   },
   "outputs": [],
   "source": [
    "INPUT_DIM = len(SRC.vocab)\n",
    "OUTPUT_DIM = len(TRG.vocab)\n",
    "ENC_EMB_DIM = 128\n",
    "DEC_EMB_DIM = 128\n",
    "ENC_HID_DIM = 100\n",
    "DEC_HID_DIM = 100\n",
    "ENC_DROPOUT = 0.2\n",
    "DEC_DROPOUT = 0.2\n",
    "PAD_IDX = SRC.vocab.stoi['<pad>']\n",
    "SOS_IDX = TRG.vocab.stoi['<sos>']\n",
    "EOS_IDX = TRG.vocab.stoi['<eos>']\n",
    "\n",
    "attn = Attention(ENC_HID_DIM, DEC_HID_DIM)\n",
    "enc = Encoder(INPUT_DIM, ENC_EMB_DIM, ENC_HID_DIM, DEC_HID_DIM, ENC_DROPOUT)\n",
    "dec = Decoder(OUTPUT_DIM, DEC_EMB_DIM, ENC_HID_DIM, DEC_HID_DIM, DEC_DROPOUT, attn)\n",
    "\n",
    "model = Seq2Seq(enc, dec, PAD_IDX, SOS_IDX, EOS_IDX, device).to(device)"
   ]
  },
  {
   "cell_type": "code",
   "execution_count": 43,
   "id": "502e1741",
   "metadata": {
    "execution": {
     "iopub.execute_input": "2022-04-07T08:53:51.708683Z",
     "iopub.status.busy": "2022-04-07T08:53:51.707759Z",
     "iopub.status.idle": "2022-04-07T08:53:51.715932Z",
     "shell.execute_reply": "2022-04-07T08:53:51.716394Z"
    },
    "papermill": {
     "duration": 0.0873,
     "end_time": "2022-04-07T08:53:51.716609",
     "exception": false,
     "start_time": "2022-04-07T08:53:51.629309",
     "status": "completed"
    },
    "tags": []
   },
   "outputs": [
    {
     "data": {
      "text/plain": [
       "Seq2Seq(\n",
       "  (encoder): Encoder(\n",
       "    (embedding): Embedding(5114, 128)\n",
       "    (rnn): GRU(128, 100, bidirectional=True)\n",
       "    (fc): Linear(in_features=200, out_features=100, bias=True)\n",
       "    (dropout): Dropout(p=0.2, inplace=False)\n",
       "  )\n",
       "  (decoder): Decoder(\n",
       "    (attention): Attention(\n",
       "      (attn): Linear(in_features=300, out_features=100, bias=True)\n",
       "    )\n",
       "    (embedding): Embedding(6859, 128)\n",
       "    (rnn): GRU(328, 100)\n",
       "    (out): Linear(in_features=428, out_features=6859, bias=True)\n",
       "    (dropout): Dropout(p=0.2, inplace=False)\n",
       "  )\n",
       ")"
      ]
     },
     "execution_count": 43,
     "metadata": {},
     "output_type": "execute_result"
    }
   ],
   "source": [
    "model.apply(init_weights)"
   ]
  },
  {
   "cell_type": "code",
   "execution_count": 44,
   "id": "33b96893",
   "metadata": {
    "execution": {
     "iopub.execute_input": "2022-04-07T08:53:51.873116Z",
     "iopub.status.busy": "2022-04-07T08:53:51.871283Z",
     "iopub.status.idle": "2022-04-07T08:53:51.875886Z",
     "shell.execute_reply": "2022-04-07T08:53:51.875138Z"
    },
    "papermill": {
     "duration": 0.085516,
     "end_time": "2022-04-07T08:53:51.876058",
     "exception": false,
     "start_time": "2022-04-07T08:53:51.790542",
     "status": "completed"
    },
    "tags": []
   },
   "outputs": [
    {
     "name": "stdout",
     "output_type": "stream",
     "text": [
      "Модель содержит 4,792,355 параметров\n"
     ]
    }
   ],
   "source": [
    "print(f'Модель содержит {count_parameters(model):,} параметров')"
   ]
  },
  {
   "cell_type": "markdown",
   "id": "9cb975d1",
   "metadata": {
    "papermill": {
     "duration": 0.077286,
     "end_time": "2022-04-07T08:53:52.030268",
     "exception": false,
     "start_time": "2022-04-07T08:53:51.952982",
     "status": "completed"
    },
    "tags": []
   },
   "source": [
    "Then we define our optimizer and criterion. We have already initialized `PAD_IDX` when initializing the model, so we don't need to do it again."
   ]
  },
  {
   "cell_type": "code",
   "execution_count": 45,
   "id": "e892f35e",
   "metadata": {
    "execution": {
     "iopub.execute_input": "2022-04-07T08:53:52.187951Z",
     "iopub.status.busy": "2022-04-07T08:53:52.187352Z",
     "iopub.status.idle": "2022-04-07T08:53:52.191211Z",
     "shell.execute_reply": "2022-04-07T08:53:52.190736Z"
    },
    "papermill": {
     "duration": 0.084959,
     "end_time": "2022-04-07T08:53:52.191332",
     "exception": false,
     "start_time": "2022-04-07T08:53:52.106373",
     "status": "completed"
    },
    "tags": []
   },
   "outputs": [],
   "source": [
    "optimizer = optim.Adam(model.parameters())"
   ]
  },
  {
   "cell_type": "code",
   "execution_count": 46,
   "id": "838ed45f",
   "metadata": {
    "execution": {
     "iopub.execute_input": "2022-04-07T08:53:52.348696Z",
     "iopub.status.busy": "2022-04-07T08:53:52.346306Z",
     "iopub.status.idle": "2022-04-07T08:53:52.349682Z",
     "shell.execute_reply": "2022-04-07T08:53:52.350221Z"
    },
    "papermill": {
     "duration": 0.084813,
     "end_time": "2022-04-07T08:53:52.350395",
     "exception": false,
     "start_time": "2022-04-07T08:53:52.265582",
     "status": "completed"
    },
    "tags": []
   },
   "outputs": [],
   "source": [
    "criterion = nn.CrossEntropyLoss(ignore_index = PAD_IDX)"
   ]
  },
  {
   "cell_type": "code",
   "execution_count": 47,
   "id": "004e52cf",
   "metadata": {
    "execution": {
     "iopub.execute_input": "2022-04-07T08:53:52.546338Z",
     "iopub.status.busy": "2022-04-07T08:53:52.534558Z",
     "iopub.status.idle": "2022-04-07T10:07:42.973543Z",
     "shell.execute_reply": "2022-04-07T10:07:42.973976Z"
    },
    "papermill": {
     "duration": 4430.544083,
     "end_time": "2022-04-07T10:07:42.974131",
     "exception": false,
     "start_time": "2022-04-07T08:53:52.430048",
     "status": "completed"
    },
    "scrolled": true,
    "tags": []
   },
   "outputs": [
    {
     "name": "stdout",
     "output_type": "stream",
     "text": [
      "Эпоха: 01 | Время: 3m 42s Перплексия (обучение):     163.560 Перплексия (валидация): 132.038\n",
      "Эпоха: 02 | Время: 3m 40s Перплексия (обучение):     102.384 Перплексия (валидация): 126.275\n",
      "Эпоха: 03 | Время: 3m 40s Перплексия (обучение):      92.832 Перплексия (валидация): 121.358\n",
      "Эпоха: 04 | Время: 3m 41s Перплексия (обучение):      85.325 Перплексия (валидация): 122.827\n",
      "Эпоха: 05 | Время: 3m 40s Перплексия (обучение):      78.113 Перплексия (валидация): 123.728\n",
      "Эпоха: 06 | Время: 3m 40s Перплексия (обучение):      72.445 Перплексия (валидация): 122.924\n",
      "Эпоха: 07 | Время: 3m 41s Перплексия (обучение):      66.773 Перплексия (валидация): 121.976\n",
      "Эпоха: 08 | Время: 3m 40s Перплексия (обучение):      62.437 Перплексия (валидация): 123.116\n",
      "Эпоха: 09 | Время: 3m 41s Перплексия (обучение):      58.875 Перплексия (валидация): 123.687\n",
      "Эпоха: 10 | Время: 3m 42s Перплексия (обучение):      56.281 Перплексия (валидация): 121.937\n",
      "Эпоха: 11 | Время: 3m 42s Перплексия (обучение):      52.735 Перплексия (валидация): 124.568\n",
      "Эпоха: 12 | Время: 3m 42s Перплексия (обучение):      50.396 Перплексия (валидация): 124.412\n",
      "Эпоха: 13 | Время: 3m 42s Перплексия (обучение):      48.387 Перплексия (валидация): 124.879\n",
      "Эпоха: 14 | Время: 3m 42s Перплексия (обучение):      45.943 Перплексия (валидация): 129.324\n",
      "Эпоха: 15 | Время: 3m 42s Перплексия (обучение):      44.192 Перплексия (валидация): 129.007\n",
      "Эпоха: 16 | Время: 3m 41s Перплексия (обучение):      42.280 Перплексия (валидация): 130.355\n",
      "Эпоха: 17 | Время: 3m 40s Перплексия (обучение):      40.950 Перплексия (валидация): 130.900\n",
      "Эпоха: 18 | Время: 3m 40s Перплексия (обучение):      39.376 Перплексия (валидация): 130.917\n",
      "Эпоха: 19 | Время: 3m 40s Перплексия (обучение):      37.786 Перплексия (валидация): 135.502\n",
      "Эпоха: 20 | Время: 3m 40s Перплексия (обучение):      37.157 Перплексия (валидация): 133.240\n"
     ]
    }
   ],
   "source": [
    "N_EPOCHS = 20\n",
    "CLIP = 1\n",
    "\n",
    "best_valid_loss = float('inf')\n",
    "\n",
    "for epoch in range(N_EPOCHS):\n",
    "    \n",
    "    start_time = time.time()\n",
    "    \n",
    "    train_loss = train(model, train_iterator, optimizer, criterion, CLIP)\n",
    "    valid_loss = evaluate(model, valid_iterator, criterion)\n",
    "    \n",
    "    end_time = time.time()\n",
    "    \n",
    "    epoch_mins, epoch_secs = epoch_time(start_time, end_time)\n",
    "    \n",
    "    if valid_loss < best_valid_loss:\n",
    "        best_valid_loss = valid_loss\n",
    "        torch.save(model.state_dict(), 'StaQC_model_attention_test.pt')\n",
    "    \n",
    "    print(f'Эпоха: {epoch+1:02} | Время: {epoch_mins}m {epoch_secs}s Перплексия (обучение): \\\n",
    "    {math.exp(train_loss):7.3f} Перплексия (валидация): {math.exp(valid_loss):7.3f}')"
   ]
  },
  {
   "cell_type": "code",
   "execution_count": 48,
   "id": "74c17fdb",
   "metadata": {
    "execution": {
     "iopub.execute_input": "2022-04-07T10:07:43.122011Z",
     "iopub.status.busy": "2022-04-07T10:07:43.120984Z",
     "iopub.status.idle": "2022-04-07T10:07:51.114781Z",
     "shell.execute_reply": "2022-04-07T10:07:51.115186Z"
    },
    "papermill": {
     "duration": 8.069705,
     "end_time": "2022-04-07T10:07:51.115358",
     "exception": false,
     "start_time": "2022-04-07T10:07:43.045653",
     "status": "completed"
    },
    "tags": []
   },
   "outputs": [
    {
     "name": "stdout",
     "output_type": "stream",
     "text": [
      "Перплексия (валидация): 121.267\n"
     ]
    }
   ],
   "source": [
    "#загружаем сохраненную best_model\n",
    "model.load_state_dict(torch.load('StaQC_model_attention_test.pt'))\n",
    "\n",
    "test_loss = evaluate(model, test_iterator, criterion)\n",
    "\n",
    "print(f'Перплексия (валидация): {math.exp(test_loss):7.3f}')"
   ]
  },
  {
   "cell_type": "markdown",
   "id": "3ae21487",
   "metadata": {
    "papermill": {
     "duration": 0.07446,
     "end_time": "2022-04-07T10:07:51.261873",
     "exception": false,
     "start_time": "2022-04-07T10:07:51.187413",
     "status": "completed"
    },
    "tags": []
   },
   "source": [
    "### Предсказание кода по вопросу"
   ]
  },
  {
   "cell_type": "code",
   "execution_count": 49,
   "id": "f001bbc7",
   "metadata": {
    "execution": {
     "iopub.execute_input": "2022-04-07T10:07:51.411373Z",
     "iopub.status.busy": "2022-04-07T10:07:51.410395Z",
     "iopub.status.idle": "2022-04-07T10:07:52.493410Z",
     "shell.execute_reply": "2022-04-07T10:07:52.492998Z"
    },
    "papermill": {
     "duration": 1.159581,
     "end_time": "2022-04-07T10:07:52.493559",
     "exception": false,
     "start_time": "2022-04-07T10:07:51.333978",
     "status": "completed"
    },
    "tags": []
   },
   "outputs": [
    {
     "name": "stdout",
     "output_type": "stream",
     "text": [
      "src = tokens get only to auth social python use\n",
      "true trg = create a user account if we haven't found one yet . 'social . pipeline . user . ,\n",
      "pred trg =  import=<unk>=\"\"\"\"\"\"\"\"\"\"\"\"\"\"\"\"\"\"\"\"\"\"\"\"\"\"\"\"\"\"\"\"\"\"\"\"\"\"\"\"\"\"\"\"\"\"\"\"\"\"\"\"\"\"\"\"\"\"\"\"\"\"\"\"\"\"\"\"\"\"\"\"\"\"\"\"\"\"\"\"\"\"\"\"\"\"\"\"\"\"\"\"\"\"\"\n",
      "---------------------------------------------------------\n",
      "\n",
      "src = python in parameters entering\n",
      "true trg = import random parameters = [ [ 1 , 3 , 2 ] , [ 4 , 5 , 6 ] ] random . triangular ( parameters [ 0 ] ) 1 .\n",
      "pred trg =  <unk>=((())))))))))))))))))))))))))))))))))))))))))))))))))))))))))))))))))))))))))))))))))))))))))))))\n",
      "---------------------------------------------------------\n",
      "\n",
      "src = python in lists unequal two of addition wise element\n",
      "true trg = import itertools map ( sum , itertools . ( a , b , fillvalue = 0 ) )\n",
      "pred trg =  [((((,,,,,,,,,,,,,,,,,,,,,,,,,,,,,,,,,,,,,,,,,,,,,,,,,,,,,,,,,,,,,,,,,,,,,,,,,,,,,,,,,,,,,,,,,,,,,,\n",
      "---------------------------------------------------------\n",
      "\n",
      "src = line no them make and file read then file open\n",
      "true trg = [ 6 , 9 , 10 , 11 , 45 ]\n",
      "pred trg =  import=((())))))))))))))))))))))))))))))))))))))))))))))))))))))))))))))))))))))))))))))))))))))))))))))\n",
      "---------------------------------------------------------\n",
      "\n",
      "src = serializable json not is object django\n",
      "true trg = from django . forms . models import data = self . ( ) for item in data : item [ 'product' ] = ( item [ 'product' ] ) return ( json . simplejson . dumps ( data ) , mimetype = \" / json \" )\n",
      "pred trg =  import=<unk>=\"\"\"\"\"\"\"\"\"\"\"\"\"\"\"\"\"\"\"\"\"\"\"\"\"\"\"\"\"\"\"\"\"\"\"\"\"\"\"\"\"\"\"\"\"\"\"\"\"\"\"\"\"\"\"\"\"\"\"\"\"\"\"\"\"\"\"\"\"\"\"\"\"\"\"\"\"\"\"\"\"\"\"))))))))))))\n",
      "---------------------------------------------------------\n",
      "\n",
      "src = logout login for hooks admin django hacking\n",
      "true trg = def logout ( request , args , kwargs ) : ( ) from django . contrib . auth . views import logout as authlogout return authlogout ( request , args , kwargs )\n",
      "pred trg =  class=\"\"\"\"\"\"\"\"\"\"\"\"\"\"\"\"\"\"\"\"\"\"\"\"\"\"\"\"\"\"\"\"\"\"\"\"\"\"\"\"\"\"\"\"\"\"\"\"\"\"\"\"\"\"\"\"\"\"\"\"\"\"\"\"\"\"\"\"\"\"\"\"\"\"\"\"\"\"\"\"\"\"\"\"\"\"\"\"\"\"\"\"\"\"\"\"\"\n",
      "---------------------------------------------------------\n",
      "\n",
      "src = auth social python with data user get to how\n",
      "true trg = { if request . user . } { { request . user . username } } { { request . user . email } } { etc . . } { endif }\n",
      "pred trg =  import=<unk>=<unk>..............................................................................................\n",
      "---------------------------------------------------------\n",
      "\n",
      "src = names attachment for bodystructure email imap parsing\n",
      "true trg = { 5 } hello\n",
      "pred trg =  import=(()..............................................................................................\n",
      "---------------------------------------------------------\n",
      "\n",
      "src = window the close not does close matplotlib\n",
      "true trg = pl . clf ( )\n",
      "pred trg =  def==<unk>=<unk>=<unk>=<unk>=<unk>=<unk>=<unk>...................................................................................\n",
      "---------------------------------------------------------\n",
      "\n",
      "src = lists of list a in elements of combinations unique finding\n",
      "true trg = from itertools import for group in by_name . items ( ) : for pair in ( group , 2 ) : yield pair list ( pair ) if you need lists\n",
      "pred trg =  [[[[[[[[[[[[[[],,,,,,,,,,,,,,,,,,,,,,,,,,,,,,,,,,,,,,,,,,,,,,,,,,,,,,,,,,,,,,,,,,,,,,,,,,,,,,,,,,,,\n",
      "---------------------------------------------------------\n",
      "\n",
      "src = relationship many to one in query django\n",
      "true trg = for order in order . objects . all ( ) : types = order . details . ( , flat = true )\n",
      "pred trg =  class=<unk>=\"\"\"\"\"\"\"))))))))))))))))))))))))))))))))))))))))))))))))))))))))))))))))))))))))))))))))))))))))\n",
      "---------------------------------------------------------\n",
      "\n",
      "src = interpolator updated constantly my breaks interp1d interpolate scipy linear a changes 0 12 0 to 0 11 0 scipy\n",
      "true trg = @ property def _y ( self ) : return self . ( self . y )\n",
      "pred trg =  df[(((),,,,,,,,,,,,,,,,,,,,,,,,,,,,,,,,,,,,,,,,,,,,,,,,,,,,,,,,,,,,,,,,,,,,,,,,,,,,,,,,,,,,,,,,,,,,,\n",
      "---------------------------------------------------------\n",
      "\n"
     ]
    }
   ],
   "source": [
    "for example in train_data.examples[::3000]:\n",
    "\n",
    "    src = ' '.join(vars(example)['src'])\n",
    "    trg = ' '.join(vars(example)['trg'])\n",
    "\n",
    "    print(f'src = {src}')\n",
    "    print(f'true trg = {trg}')\n",
    "\n",
    "    translation, attention = translate_sentence(model, src)\n",
    "\n",
    "    print('pred trg = ', ''.join(translation))\n",
    "    \n",
    "    print('---------------------------------------------------------')\n",
    "    print()\n",
    "\n",
    "    #display_attention(src, translation, attention)"
   ]
  },
  {
   "cell_type": "code",
   "execution_count": 50,
   "id": "049b254d",
   "metadata": {
    "execution": {
     "iopub.execute_input": "2022-04-07T10:07:52.647263Z",
     "iopub.status.busy": "2022-04-07T10:07:52.646508Z",
     "iopub.status.idle": "2022-04-07T10:07:55.063912Z",
     "shell.execute_reply": "2022-04-07T10:07:55.064913Z"
    },
    "papermill": {
     "duration": 2.497669,
     "end_time": "2022-04-07T10:07:55.065119",
     "exception": false,
     "start_time": "2022-04-07T10:07:52.567450",
     "status": "completed"
    },
    "tags": []
   },
   "outputs": [
    {
     "name": "stdout",
     "output_type": "stream",
     "text": [
      "src = members static 3 python\n",
      "true trg = @ def ( ) : if username is none : . . .\n",
      "pred trg =  def=(()))))))))))))))))))))))))))))))))))))))))))))))))))))))))))))))))))))))))))))))))))))))))))))))\n",
      "---------------------------------------------------------\n",
      "\n",
      "src = lists the in values of mapping of sequence the maintaining by lists two randomize\n",
      "true trg = list1 ( 'item4' , 'item3' , 'item1' , 'item2' ) list2 ( 'label4' , 'label3' , 'label1' , 'label2' )\n",
      "pred trg =  foriin[((),,,,,,,,,,,,,,,,,,,,,,,,,,,,,,,,,,,,,,,,,,,,,,,,,,,,,,,,,,,,,,,,,,,,,,,,,,,,,,,,,,,,,,,,,,,,\n",
      "---------------------------------------------------------\n",
      "\n",
      "src = string revers to php in loop for like python's use i can how\n",
      "true trg = output = c . output ;\n",
      "pred trg =  <unk>=(((()))))))))))))))))))))))))))))))))))))))))))))))))))))))))))))))))))))))))))))))))))))))))))))\n",
      "---------------------------------------------------------\n",
      "\n",
      "src = column another in value by grouped column a in values up sum to need csv python\n",
      "true trg = ( type 'int' , { 217387 : 21 , 216757 : 116 , 218382 : 78 , 216351 : 185 } )\n",
      "pred trg =  <unk>=[((),,,,,,,,,,,,,,,,,,,,,,,,,,,,,,,,,,,,,,,,,,,,,,,,,,,,,,,,,,,,,,,,,,,,,,,,,,,,,,,,,,,,,,,,,,,,,\n",
      "---------------------------------------------------------\n",
      "\n",
      "src = tags within tags unwanted out filter to how\n",
      "true trg = from bs4 import soup = ( requests . get ( 'http : / / bodetree . com / what - is - causing - your - headaches - startup - pain - points / ' , timeout = 7 . 00 ) . text ) bullets = soup . select ( \" div . entry - content ul li \" ) print ( [ bullet . get_text ( ) for bullet in bullets ] )\n",
      "pred trg =  import=((().............................................................................................\n",
      "---------------------------------------------------------\n",
      "\n",
      "src = ast using function a as text compile to how\n",
      "true trg = expression ( body = binop ( left = num ( n = 2 ) , op = add ( ) , right = num ( n = 2 ) ) )\n",
      "pred trg =  import=((())))))))))))))))))))))))))))))))))))))))))))))))))))))))))))))))))))))))))))))))))))))))))))))\n",
      "---------------------------------------------------------\n",
      "\n",
      "src = right it doing classes virtual python\n",
      "true trg = class line ( shape ) : def __init__ ( self , ) : self . desc = def ( self , parameters ) : return 1\n",
      "pred trg =  <unk>=(()))))))))))))))))))))))))))))))))))))))))))))))))))))))))))))))))))))))))))))))))))))))))))))))\n",
      "---------------------------------------------------------\n",
      "\n",
      "src = optimization processing string python\n",
      "true trg = the answer is 42\n",
      "pred trg =  <unk>=((())))))))))))))))))))))))))))))))))))))))))))))))))))))))))))))))))))))))))))))))))))))))))))))\n",
      "---------------------------------------------------------\n",
      "\n",
      "src = gstreamer pocketsphinx cmu with grammar a including\n",
      "true trg = ( g_object ( filter ) , \" lm \" , modeldir \" / lm / en / turtle . dmp \" , null ) ;\n",
      "pred trg =  def=(()))))))))))))))))))))))))))))))))))))))))))))))))))))))))))))))))))))))))))))))))))))))))))))))\n",
      "---------------------------------------------------------\n",
      "\n",
      "src = length fixed a with list a from one remove time same the at and item an add to way efficient most\n",
      "true trg = from import deque activities = deque ( maxlen = 5 ) if len ( activities ) = = 5 then the leftmost item will be removed before the push activities . push ( activity )\n",
      "pred trg =  <unk>=[((),,,,,,,,,,,,,,,,,,,,,,,,,,,,,,,,,,,,,,,,,,,,,,,,,,,,,,,,,,,,,,,,,,,,,,,,,,,,,,,,,,,,,,,,,,,,,\n",
      "---------------------------------------------------------\n",
      "\n",
      "src = python in formatting string number floating\n",
      "true trg = ' 08 . 3f' ( 8 . 8 ) '0008 . 800'\n",
      "pred trg =  foriin[(),,,,,,,,,,,,,,,,,,,,,,,,,,,,,,,,,,,,,,,,,,,,,,,,,,,,,,,,,,,,,,,,,,,,,,,,,,,,,,,,,,,,,,,,,,,,,\n",
      "---------------------------------------------------------\n",
      "\n",
      "src = python and zigbee\n",
      "true trg = ifdef / / ( , msg_ptr , len ) ; / / commented out by jw\n",
      "pred trg =  <unk>=(()))))))))))))))))))))))))))))))))))))))))))))))))))))))))))))))))))))))))))))))))))))))))))))))\n",
      "---------------------------------------------------------\n",
      "\n",
      "src = python from file c a in defines reference i can how\n",
      "true trg = define foo_a 0x3 define foo_b 0x5\n",
      "pred trg =  def=((())))))))))))))))))))))))))))))))))))))))))))))))))))))))))))))))))))))))))))))))))))))))))))))\n",
      "---------------------------------------------------------\n",
      "\n",
      "src = python in object an on called method any catch to how\n",
      "true trg = c = catchall ( ) c 2 hooking into __pow__ traceback ( most recent call last ) : file \" stdin \" , line 1 , in module file \" stdin \" , line 11 , in op_hook : __pow__ c . _function built - in function pow c . _params ( ( 2 , ) , { } )\n",
      "pred trg =  def=(()))))))))))))))))))))))))))))))))))))))))))))))))))))))))))))))))))))))))))))))))))))))))))))))\n",
      "---------------------------------------------------------\n",
      "\n",
      "src = duplicated of list python filtering\n",
      "true trg = { d [ 'url' ] for d in store }\n",
      "pred trg =  <unk>=[((),,,,,,,,,,,,,,,,,,,,,,,,,,,,,,,,,,,,,,,,,,,,,,,,,,,,,,,,,,,,,,,,,,,,,,,,,,,,,,,,,,,,,,,,,,,,,\n",
      "---------------------------------------------------------\n",
      "\n",
      "src = pandas using range date of start as month of day select\n",
      "true trg = df [ ( df [ 'days' ] = from_day ) ( df [ 'days' ] from_day + plus_days ) ] . data\n",
      "pred trg =  df.=df...............................................................................................\n",
      "---------------------------------------------------------\n",
      "\n",
      "src = python reduce map in datewise as well as wise file count\n",
      "true trg = import sys from itertools import groupby for k , g in groupby ( sys . stdin , key = lambda x : x . split ( ) [ 0 ] ) : . . .\n",
      "pred trg =  <unk>=[((),,,,,,,,,,,,,,,,,,,,,,,,,,,,,,,,,,,,,,,,,,,,,,,,,,,,,,,,,,,,,,,,,,,,,,,,,,,,,,,,,,,,,,,,,,,,,\n",
      "---------------------------------------------------------\n",
      "\n",
      "src = variables with numpy in arrays reshaping\n",
      "true trg = in [ 86 ] : a out [ 86 ] : array ( [ [ 0 , 1 , 2 , 3 ] , [ 4 , 5 , 6 , 7 ] , [ 8 , 9 , 10 , 11 ] ] ) in [ 91 ] : a = np . resize ( a , ( 5 , 4 ) ) ; print a [ [ 0 1 2 3 ] [ 4 5 6 7 ] [ 8 9 10 11 ] [ 0 1 2 3 ] [ 4 5 6 7 ] ]\n",
      "pred trg =  [[[[[[[[[[[],,,,,,,,,,,,,,,,,,,,,,,,,,,,,,,,,,,,,,,,,,,,,,,,,,,,,,,,,,,,,,,,,,,,,,,,,,,,,,,,,,,,,,,\n",
      "---------------------------------------------------------\n",
      "\n",
      "src = pyramid with integration turbomail\n",
      "true trg = from pyramid . renderers import render opts = { } a dictionary of globals to send to your template body = render ( 'email . mako' , opts , request )\n",
      "pred trg =  def=((())))))))))))))))))))))))))))))))))))))))))))))))))))))))))))))))))))))))))))))))))))))))))))))\n",
      "---------------------------------------------------------\n",
      "\n",
      "src = python dictionary in key maximum the of value getting\n",
      "true trg = python - m timeit - s 'd = { x : str ( x ) for x in range ( 10000 ) } ' 'max ( d ) ' 1000 loops , best of 3 : 377 usec per loop python - m timeit - s 'd = { x : str ( x ) for x in range ( 10000 ) } ' 'max ( d . keys ( ) ) ' 1000 loops , best of 3 : 476 usec per loop\n",
      "pred trg =  foriin[(),,,,,,,,,,,,,,,,,,,,,,,,,,,,,,,,,,,,,,,,,,,,,,,,,,,,,,,,,,,,,,,,,,,,,,,,,,,,,,,,,,,,,,,,,,,,,\n",
      "---------------------------------------------------------\n",
      "\n",
      "src = connection internet without install get apt sudo run\n",
      "true trg = sudo apt - get clean\n",
      "pred trg =  class<unk>.................................................................................................\n",
      "---------------------------------------------------------\n",
      "\n",
      "src = service caching default a have python does\n",
      "true trg = def foo ( value , arr = [ ] ) : arr . append ( value ) return arr\n",
      "pred trg =  import=<unk>=<unk>..............................................................................................\n",
      "---------------------------------------------------------\n",
      "\n",
      "src = python using file a in line 5 last skip\n",
      "true trg = from __future__ import import sys from itertools import islice filepath = sys . argv [ 1 ] with open ( filepath , 'rb' ) as f : for line in truncate ( islice ( f , 6 , none ) , 5 ) : print ( line , end = '' )\n",
      "pred trg =  <unk>=((())))))))))))))))))))))))))))))))))))))))))))))))))))))))))))))))))))))))))))))))))))))))))))))\n",
      "---------------------------------------------------------\n",
      "\n",
      "src = lists python else without if\n",
      "true trg = @ list = ( 1 , 0 ? 2 : ( ) , 3 )\n",
      "pred trg =  <unk>=[(((),,,,,,,,,,,,,,,,,,,,,,,,,,,,,,,,,,,,,,,,,,,,,,,,,,,,,,,,,,,,,,,,,,,,,,,,,,,,,,,,,,,,,,,,,,,,\n",
      "---------------------------------------------------------\n",
      "\n",
      "src = list empty ignoring lists three in elements same finding python\n",
      "true trg = set . ( map ( set , filter ( none , [ a , b , [ ] ] ) ) )\n",
      "pred trg =  [[[[[[[[[[[[],,,,,,,,,,,,,,,,,,,,,,,,,,,,,,,,,,,,,,,,,,,,,,,,,,,,,,,,,,,,,,,,,,,,,,,,,,,,,,,,,,,,,,\n",
      "---------------------------------------------------------\n",
      "\n"
     ]
    }
   ],
   "source": [
    "for example in valid_data.examples[::100]:\n",
    "\n",
    "    src = ' '.join(vars(example)['src'])\n",
    "    trg = ' '.join(vars(example)['trg'])\n",
    "\n",
    "    print(f'src = {src}')\n",
    "    print(f'true trg = {trg}')\n",
    "\n",
    "    translation, attention = translate_sentence(model, src)\n",
    "\n",
    "    print('pred trg = ', ''.join(translation))\n",
    "    \n",
    "    print('---------------------------------------------------------')\n",
    "    print()\n",
    "\n",
    "    #display_attention(src, translation, attention)"
   ]
  },
  {
   "cell_type": "code",
   "execution_count": 51,
   "id": "b713883d",
   "metadata": {
    "execution": {
     "iopub.execute_input": "2022-04-07T10:07:55.339219Z",
     "iopub.status.busy": "2022-04-07T10:07:55.338422Z",
     "iopub.status.idle": "2022-04-07T10:07:57.609859Z",
     "shell.execute_reply": "2022-04-07T10:07:57.609233Z"
    },
    "papermill": {
     "duration": 2.409309,
     "end_time": "2022-04-07T10:07:57.609993",
     "exception": false,
     "start_time": "2022-04-07T10:07:55.200684",
     "status": "completed"
    },
    "tags": []
   },
   "outputs": [
    {
     "name": "stdout",
     "output_type": "stream",
     "text": [
      "src = case letter ignore python\n",
      "true trg = rules . lower ( ) = = rulesa . lower ( )\n",
      "pred trg =  <unk>=[((((),,,,,,,,,,,,,,,,,,,,,,,,,,,,,,,,,,,,,,,,,,,,,,,,,,,,,,,,,,,,,,,,,,,,,,,,,,,,,,,,,,,,,,,,,,,\n",
      "---------------------------------------------------------\n",
      "\n",
      "src = 7 2 python in object same the to pointing all dictionary level two a of values are why\n",
      "true trg = ( tier1 , tier2 , lambda : \" i am shared but immutable \" )\n",
      "pred trg =  <unk>=[((),,,,,,,,,,,,,,,,,,,,,,,,,,,,,,,,,,,,,,,,,,,,,,,,,,,,,,,,,,,,,,,,,,,,,,,,,,,,,,,,,,,,,,,,,,,,,\n",
      "---------------------------------------------------------\n",
      "\n",
      "src = python in range character unicode detect to how\n",
      "true trg = def ( line ) : maxchar = max ( line ) if u' \\ u0c00' = maxchar = u' \\ u0c7f' : return 'telugu' elif u' \\ u0900' = maxchar = u' \\ u097f' : return 'hindi' return 'english'\n",
      "pred trg =  <unk>=((())))))))))))))))))))))))))))))))))))))))))))))))))))))))))))))))))))))))))))))))))))))))))))))\n",
      "---------------------------------------------------------\n",
      "\n",
      "src = python in delimiters irregular with string a of part extracting\n",
      "true trg = my file name myfilename\n",
      "pred trg =  <unk>=((())))))))))))))))))))))))))))))))))))))))))))))))))))))))))))))))))))))))))))))))))))))))))))))\n",
      "---------------------------------------------------------\n",
      "\n",
      "src = rects of list a in collision point for check to way concise a for looking\n",
      "true trg = rects = [ pygame . rect ( 0 , 0 , 100 , 100 ) , pygame . rect ( 30 , 30 , 30 , 30 ) ] next ( ( r for r in rects if r . ( 10 , 10 ) ) , none ) rect ( 0 , 0 , 100 , 100 ) next ( ( r for r in rects if r . ( 200 , 200 ) ) , none )\n",
      "pred trg =  <unk>=[((),,,,,,,,,,,,,,,,,,,,,,,,,,,,,,,,,,,,,,,,,,,,,,,,,,,,,,,,,,,,,,,,,,,,,,,,,,,,,,,,,,,,,,,,,,,,,\n",
      "---------------------------------------------------------\n",
      "\n",
      "src = click before running event button wxpython\n",
      "true trg = . bind ( wx . evt_button , self . printit )\n",
      "pred trg =  class=<unk>................................................................................................\n",
      "---------------------------------------------------------\n",
      "\n",
      "src = instance ec2 aws on work tkinter make and install\n",
      "true trg = sudo apt - get install python - tk\n",
      "pred trg =  class=<unk>................................................................................................\n",
      "---------------------------------------------------------\n",
      "\n",
      "src = 128 base and ascii with strings obfuscating\n",
      "true trg = total = 0 for c in \" car \" : total = 7 total + = ord ( c ) print total\n",
      "pred trg =  def=(()))))))))))))))))))))))))))))))))))))))))))))))))))))))))))))))))))))))))))))))))))))))))))))))\n",
      "---------------------------------------------------------\n",
      "\n",
      "src = arraycopy system java's like anything have python does\n",
      "true trg = foo [ 0 : 4 ] = [ copy . deepcopy ( x ) for x in baz [ 0 : 4 ] ]\n",
      "pred trg =  <unk>=(()))))))))))))))))))))))))))))))))))))))))))))))))))))))))))))))))))))))))))))))))))))))))))))))\n",
      "---------------------------------------------------------\n",
      "\n",
      "src = subject by parts to in list a breaking\n",
      "true trg = bs = ( d [ 'b' ] for d in lst )\n",
      "pred trg =  <unk>=[((),,,,,,,,,,,,,,,,,,,,,,,,,,,,,,,,,,,,,,,,,,,,,,,,,,,,,,,,,,,,,,,,,,,,,,,,,,,,,,,,,,,,,,,,,,,,,\n",
      "---------------------------------------------------------\n",
      "\n",
      "src = heaps performance python\n",
      "true trg = def ( items , top_k = l ) : lst = [ ] heap_store = items [ : top_k ]\n",
      "pred trg =  <unk>=((())))))))))))))))))))))))))))))))))))))))))))))))))))))))))))))))))))))))))))))))))))))))))))))\n",
      "---------------------------------------------------------\n",
      "\n",
      "src = loops for avoiding size different of vectors of multiplication numpy\n",
      "true trg = arg = kx [ m , n ] u [ i ] + ky [ m , n ] v [ j ]\n",
      "pred trg =  [((((),,,,,,,,,,,,,,,,,,,,,,,,,,,,,,,,,,,,,,,,,,,,,,,,,,,,,,,,,,,,,,,,,,,,,,,,,,,,,,,,,,,,,,,,,,,,,\n",
      "---------------------------------------------------------\n",
      "\n",
      "src = mechanize python results google of pages 5 first follow\n",
      "true trg = / search ? q = site : somedomain . com hl = en ei = nj4huo2ym - start = 10 sa = n\n",
      "pred trg =  import=(................................................................................................\n",
      "---------------------------------------------------------\n",
      "\n",
      "src = problem count word\n",
      "true trg = regexp = re . compile ( r' ( [ \\ s ] + ) / ( \\ ( . ? \\ ) ) ' )\n",
      "pred trg =  <unk>=((())))))))))))))))))))))))))))))))))))))))))))))))))))))))))))))))))))))))))))))))))))))))))))))\n",
      "---------------------------------------------------------\n",
      "\n",
      "src = python in counts access of list sorted a maintain to way efficient\n",
      "true trg = def ( req ) : for h in handlers : if h [ 1 ] . handles ( req ) : h [ 0 ] + = 1 handlers . sort ( reverse = true ) break else : return none return h [ 1 ]\n",
      "pred trg =  <unk>=[(((),,,,,,,,,,,,,,,,,,,,,,,,,,,,,,,,,,,,,,,,,,,,,,,,,,,,,,,,,,,,,,,,,,,,,,,,,,,,,,,,,,,,,,,,,,,,\n",
      "---------------------------------------------------------\n",
      "\n",
      "src = python in matrix distance triangular to distances of csv\n",
      "true trg = id_to_name = dict ( ( id , name ) for name , id in name_to_id . iteritems ( ) )\n",
      "pred trg =  [((((),,,,,,,,,,,,,,,,,,,,,,,,,,,,,,,,,,,,,,,,,,,,,,,,,,,,,,,,,,,,,,,,,,,,,,,,,,,,,,,,,,,,,,,,,,,,,\n",
      "---------------------------------------------------------\n",
      "\n",
      "src = python in loop for in inputs from variables assigning\n",
      "true trg = . . . inputfor [ '5c' ] . . . . . . inputfor [ '10c' ] . . . . . . inputfor [ '20c' ] . . . . . . inputfor [ '50c' ] . . . . . . inputfor [ ' 1' ] . . . . . . inputfor [ ' 2' ] . . .\n",
      "pred trg =  <unk>=[((),,,,,,,,,,,,,,,,,,,,,,,,,,,,,,,,,,,,,,,,,,,,,,,,,,,,,,,,,,,,,,,,,,,,,,,,,,,,,,,,,,,,,,,,,,,,,\n",
      "---------------------------------------------------------\n",
      "\n",
      "src = object element n an on search neighbor nearest using\n",
      "true trg = def metric ( a , b ) : s = 0 for x , y in zip ( a , b ) : s + = abs ( x - y ) return s / len ( a )\n",
      "pred trg =  <unk>=[((),,,,,,,,,,,,,,,,,,,,,,,,,,,,,,,,,,,,,,,,,,,,,,,,,,,,,,,,,,,,,,,,,,,,,,,,,,,,,,,,,,,,,,,,,,,,,\n",
      "---------------------------------------------------------\n",
      "\n",
      "src = python in sublists several to element same the append\n",
      "true trg = type ( l ) type 'numpy . ndarray' type ( l [ 0 , 0 ] ) type 'list'\n",
      "pred trg =  foriin[(),,,,,,,,,,,,,,,,,,,,,,,,,,,,,,,,,,,,,,,,,,,,,,,,,,,,,,,,,,,,,,,,,,,,,,,,,,,,,,,,,,,,,,,,,,,,,\n",
      "---------------------------------------------------------\n",
      "\n",
      "src = why arrays of tuple a but array an not is condition where numpy of output\n",
      "true trg = a [ where ( a 0 ) ] a [ a 0 ]\n",
      "pred trg =  [((((),,,,,,,,,,,,,,,,,,,,,,,,,,,,,,,,,,,,,,,,,,,,,,,,,,,,,,,,,,,,,,,,,,,,,,,,,,,,,,,,,,,,,,,,,,,,,\n",
      "---------------------------------------------------------\n",
      "\n",
      "src = indentation challenge regex python\n",
      "true trg = [ [ none , 11669 ] , [ 11669 , 19807 ] , [ 11669 , 19808 ] , [ 11669 , 18923 ] , [ 11669 , 29411 ] , [ 11669 , 19806 ] , [ 19806 , 29412 ] , [ 11669 , 11665 ] , [ 11665 , 27877 ] , [ 11665 , 50713 ] , [ 11665 , 27879 ] , [ 11665 , 27878 ] , [ 11669 , 11394 ] ]\n",
      "pred trg =  re.compile(?:\\\\\\\\\\\\\\\\\\\\\\\\\\\\\\\\\\\\\\\\\\\\\\\\\\\\\\\\\\\\\\\\\\\\\\\\\\\\\\\\\\\\\\\\\\\\\\\\\\\\\\\\\\\\\\\\\\\\\\\\\\\\\\\\\\\\\\\\\\\\\\\\\\\\\\\\\\\\\\\\\\\\\\\\\\\\\\\\\\\\\\\\\\\n",
      "---------------------------------------------------------\n",
      "\n",
      "src = dumps json via dumped be easily can it that to dict from object the retrieve\n",
      "true trg = json . dumps ( p , default = default ) ' { \" cars \" : [ { \" make \" : \" vw \" , \" model \" : \" jetta \" } , { \" make \" : \" bmw \" , \" model \" : \" x5 \" } ] , \" name \" : \" john smith \" } '\n",
      "pred trg =  <unk>=((...............................................................................................\n",
      "---------------------------------------------------------\n",
      "\n",
      "src = equal with while in pb\n",
      "true trg = a = range ( 10 ) b = a id ( b ) id ( a ) a . remove ( 1 ) b [ 0 , 2 , 3 , 4 , 5 , 6 , 7 , 8 , 9 ] a [ 0 , 2 , 3 , 4 , 5 , 6 , 7 , 8 , 9 ]\n",
      "pred trg =  <unk>=((())))))))))))))))))))))))))))))))))))))))))))))))))))))))))))))))))))))))))))))))))))))))))))))\n",
      "---------------------------------------------------------\n",
      "\n",
      "src = python in regex a using list a sorting\n",
      "true trg = emails = 'john45 @ email . com bob @ email . com joe2 @ email . com' . split ( ) import re print sorted ( emails , key = lambda l : ( map ( int , re . findall ( ' ( \\ d + ) @ ' , l ) ) , l ) ) [ 'bob @ email . com' , 'joe2 @ email . com' , 'john45 @ email . com' ]\n",
      "pred trg =  foriin[((((),,,,,,,,,,,,,,,,,,,,,,,,,,,,,,,,,,,,,,,,,,,,,,,,,,,,,,,,,,,,,,,,,,,,,,,,,,,,,,,,,,,,,,,,,,\n",
      "---------------------------------------------------------\n",
      "\n",
      "src = python with fields inside commas csv keep\n",
      "true trg = with open ( 'file . csv' ) as csvfile : reader = csv . dictreader ( csvfile , delimiter = \" , \" , fieldnames = [ \" id \" , \" movie \" ] , restkey = \" actors \" ) for row in reader : actors = row [ 'actors' ]\n",
      "pred trg =  def=((())))))))))))))))))))))))))))))))))))))))))))))))))))))))))))))))))))))))))))))))))))))))))))))\n",
      "---------------------------------------------------------\n",
      "\n"
     ]
    }
   ],
   "source": [
    "for example in test_data.examples[::100]:\n",
    "\n",
    "    src = ' '.join(vars(example)['src'])\n",
    "    trg = ' '.join(vars(example)['trg'])\n",
    "\n",
    "    print(f'src = {src}')\n",
    "    print(f'true trg = {trg}')\n",
    "\n",
    "    translation, attention = translate_sentence(model, src)\n",
    "\n",
    "    print('pred trg = ', ''.join(translation))\n",
    "    \n",
    "    print('---------------------------------------------------------')\n",
    "    print()\n",
    "\n",
    "    #display_attention(src, translation, attention)"
   ]
  },
  {
   "cell_type": "code",
   "execution_count": null,
   "id": "6e7431aa",
   "metadata": {
    "papermill": {
     "duration": 0.082492,
     "end_time": "2022-04-07T10:07:57.775757",
     "exception": false,
     "start_time": "2022-04-07T10:07:57.693265",
     "status": "completed"
    },
    "tags": []
   },
   "outputs": [],
   "source": []
  }
 ],
 "metadata": {
  "kernelspec": {
   "display_name": "Python 3",
   "language": "python",
   "name": "python3"
  },
  "language_info": {
   "codemirror_mode": {
    "name": "ipython",
    "version": 3
   },
   "file_extension": ".py",
   "mimetype": "text/x-python",
   "name": "python",
   "nbconvert_exporter": "python",
   "pygments_lexer": "ipython3",
   "version": "3.7.12"
  },
  "papermill": {
   "default_parameters": {},
   "duration": 4504.358698,
   "end_time": "2022-04-07T10:08:01.338077",
   "environment_variables": {},
   "exception": null,
   "input_path": "__notebook__.ipynb",
   "output_path": "__notebook__.ipynb",
   "parameters": {},
   "start_time": "2022-04-07T08:52:56.979379",
   "version": "2.3.3"
  }
 },
 "nbformat": 4,
 "nbformat_minor": 5
}
