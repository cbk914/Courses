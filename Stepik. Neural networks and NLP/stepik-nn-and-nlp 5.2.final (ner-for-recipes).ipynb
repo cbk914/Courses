{
 "cells": [
  {
   "cell_type": "code",
   "execution_count": 1,
   "id": "822bb586",
   "metadata": {
    "execution": {
     "iopub.execute_input": "2022-03-24T12:56:35.936825Z",
     "iopub.status.busy": "2022-03-24T12:56:35.935547Z",
     "iopub.status.idle": "2022-03-24T12:56:35.946679Z",
     "shell.execute_reply": "2022-03-24T12:56:35.947257Z"
    },
    "papermill": {
     "duration": 0.063158,
     "end_time": "2022-03-24T12:56:35.947605",
     "exception": false,
     "start_time": "2022-03-24T12:56:35.884447",
     "status": "completed"
    },
    "tags": []
   },
   "outputs": [],
   "source": [
    "# This Python 3 environment comes with many helpful analytics libraries installed\n",
    "# It is defined by the kaggle/python Docker image: https://github.com/kaggle/docker-python\n",
    "# For example, here's several helpful packages to load\n",
    "\n",
    "import numpy as np # linear algebra\n",
    "import pandas as pd # data processing, CSV file I/O (e.g. pd.read_csv)\n",
    "\n",
    "# Input data files are available in the read-only \"../input/\" directory\n",
    "# For example, running this (by clicking run or pressing Shift+Enter) will list all files under the input directory\n",
    "\n",
    "import os\n",
    "for dirname, _, filenames in os.walk('/kaggle/input'):\n",
    "    for filename in filenames:\n",
    "        print(os.path.join(dirname, filename))\n",
    "\n",
    "# You can write up to 20GB to the current directory (/kaggle/working/) that gets preserved as output when you create a version using \"Save & Run All\" \n",
    "# You can also write temporary files to /kaggle/temp/, but they won't be saved outside of the current session"
   ]
  },
  {
   "cell_type": "code",
   "execution_count": 2,
   "id": "3b3082b9",
   "metadata": {
    "execution": {
     "iopub.execute_input": "2022-03-24T12:56:36.040511Z",
     "iopub.status.busy": "2022-03-24T12:56:36.039814Z",
     "iopub.status.idle": "2022-03-24T12:56:36.047431Z",
     "shell.execute_reply": "2022-03-24T12:56:36.047952Z"
    },
    "papermill": {
     "duration": 0.055324,
     "end_time": "2022-03-24T12:56:36.048144",
     "exception": false,
     "start_time": "2022-03-24T12:56:35.992820",
     "status": "completed"
    },
    "tags": []
   },
   "outputs": [
    {
     "data": {
      "text/plain": [
       "'\\nИтоговые задания для меня:\\n    + перенести весь необходимый для запуска семинара код dlnlputils (с учетом моих ранее проиизведенных модификаций)\\n    + проанализировать и понять код семинара (если нужно, добавить развернутые комментарии)\\n'"
      ]
     },
     "execution_count": 2,
     "metadata": {},
     "output_type": "execute_result"
    }
   ],
   "source": [
    "'''\n",
    "Итоговые задания для меня:\n",
    "    + перенести весь необходимый для запуска семинара код dlnlputils (с учетом моих ранее проиизведенных модификаций)\n",
    "    + проанализировать и понять код семинара (если нужно, добавить развернутые комментарии)\n",
    "'''"
   ]
  },
  {
   "cell_type": "code",
   "execution_count": 3,
   "id": "461698bb",
   "metadata": {
    "execution": {
     "iopub.execute_input": "2022-03-24T12:56:36.143982Z",
     "iopub.status.busy": "2022-03-24T12:56:36.143268Z",
     "iopub.status.idle": "2022-03-24T12:59:53.677896Z",
     "shell.execute_reply": "2022-03-24T12:59:53.678521Z"
    },
    "papermill": {
     "duration": 197.585703,
     "end_time": "2022-03-24T12:59:53.678728",
     "exception": false,
     "start_time": "2022-03-24T12:56:36.093025",
     "status": "completed"
    },
    "tags": []
   },
   "outputs": [
    {
     "name": "stdout",
     "output_type": "stream",
     "text": [
      "Collecting spacy_udpipe\r\n",
      "  Downloading spacy_udpipe-1.0.0-py3-none-any.whl (11 kB)\r\n",
      "Collecting ufal.udpipe>=1.2.0\r\n",
      "  Downloading ufal.udpipe-1.2.0.3.tar.gz (304 kB)\r\n",
      "     |████████████████████████████████| 304 kB 291 kB/s            \r\n",
      "\u001b[?25h  Preparing metadata (setup.py) ... \u001b[?25l-\b \b\\\b \bdone\r\n",
      "\u001b[?25hRequirement already satisfied: spacy<4.0.0,>=3.0.0 in /opt/conda/lib/python3.7/site-packages (from spacy_udpipe) (3.2.3)\r\n",
      "Requirement already satisfied: wasabi<1.1.0,>=0.8.1 in /opt/conda/lib/python3.7/site-packages (from spacy<4.0.0,>=3.0.0->spacy_udpipe) (0.9.0)\r\n",
      "Requirement already satisfied: murmurhash<1.1.0,>=0.28.0 in /opt/conda/lib/python3.7/site-packages (from spacy<4.0.0,>=3.0.0->spacy_udpipe) (1.0.6)\r\n",
      "Requirement already satisfied: catalogue<2.1.0,>=2.0.6 in /opt/conda/lib/python3.7/site-packages (from spacy<4.0.0,>=3.0.0->spacy_udpipe) (2.0.6)\r\n",
      "Requirement already satisfied: pydantic!=1.8,!=1.8.1,<1.9.0,>=1.7.4 in /opt/conda/lib/python3.7/site-packages (from spacy<4.0.0,>=3.0.0->spacy_udpipe) (1.8.2)\r\n",
      "Requirement already satisfied: jinja2 in /opt/conda/lib/python3.7/site-packages (from spacy<4.0.0,>=3.0.0->spacy_udpipe) (3.0.3)\r\n",
      "Requirement already satisfied: setuptools in /opt/conda/lib/python3.7/site-packages (from spacy<4.0.0,>=3.0.0->spacy_udpipe) (59.5.0)\r\n",
      "Requirement already satisfied: cymem<2.1.0,>=2.0.2 in /opt/conda/lib/python3.7/site-packages (from spacy<4.0.0,>=3.0.0->spacy_udpipe) (2.0.6)\r\n",
      "Requirement already satisfied: tqdm<5.0.0,>=4.38.0 in /opt/conda/lib/python3.7/site-packages (from spacy<4.0.0,>=3.0.0->spacy_udpipe) (4.62.3)\r\n",
      "Requirement already satisfied: preshed<3.1.0,>=3.0.2 in /opt/conda/lib/python3.7/site-packages (from spacy<4.0.0,>=3.0.0->spacy_udpipe) (3.0.6)\r\n",
      "Requirement already satisfied: spacy-legacy<3.1.0,>=3.0.8 in /opt/conda/lib/python3.7/site-packages (from spacy<4.0.0,>=3.0.0->spacy_udpipe) (3.0.9)\r\n",
      "Requirement already satisfied: packaging>=20.0 in /opt/conda/lib/python3.7/site-packages (from spacy<4.0.0,>=3.0.0->spacy_udpipe) (21.3)\r\n",
      "Collecting typing-extensions<4.0.0.0,>=3.7.4\r\n",
      "  Downloading typing_extensions-3.10.0.2-py3-none-any.whl (26 kB)\r\n",
      "Requirement already satisfied: thinc<8.1.0,>=8.0.12 in /opt/conda/lib/python3.7/site-packages (from spacy<4.0.0,>=3.0.0->spacy_udpipe) (8.0.15)\r\n",
      "Requirement already satisfied: numpy>=1.15.0 in /opt/conda/lib/python3.7/site-packages (from spacy<4.0.0,>=3.0.0->spacy_udpipe) (1.20.3)\r\n",
      "Requirement already satisfied: langcodes<4.0.0,>=3.2.0 in /opt/conda/lib/python3.7/site-packages (from spacy<4.0.0,>=3.0.0->spacy_udpipe) (3.3.0)\r\n",
      "Requirement already satisfied: spacy-loggers<2.0.0,>=1.0.0 in /opt/conda/lib/python3.7/site-packages (from spacy<4.0.0,>=3.0.0->spacy_udpipe) (1.0.1)\r\n",
      "Requirement already satisfied: blis<0.8.0,>=0.4.0 in /opt/conda/lib/python3.7/site-packages (from spacy<4.0.0,>=3.0.0->spacy_udpipe) (0.7.6)\r\n",
      "Requirement already satisfied: pathy>=0.3.5 in /opt/conda/lib/python3.7/site-packages (from spacy<4.0.0,>=3.0.0->spacy_udpipe) (0.6.1)\r\n",
      "Requirement already satisfied: typer<0.5.0,>=0.3.0 in /opt/conda/lib/python3.7/site-packages (from spacy<4.0.0,>=3.0.0->spacy_udpipe) (0.4.0)\r\n",
      "Requirement already satisfied: srsly<3.0.0,>=2.4.1 in /opt/conda/lib/python3.7/site-packages (from spacy<4.0.0,>=3.0.0->spacy_udpipe) (2.4.2)\r\n",
      "Requirement already satisfied: requests<3.0.0,>=2.13.0 in /opt/conda/lib/python3.7/site-packages (from spacy<4.0.0,>=3.0.0->spacy_udpipe) (2.26.0)\r\n",
      "Requirement already satisfied: zipp>=0.5 in /opt/conda/lib/python3.7/site-packages (from catalogue<2.1.0,>=2.0.6->spacy<4.0.0,>=3.0.0->spacy_udpipe) (3.6.0)\r\n",
      "Requirement already satisfied: pyparsing!=3.0.5,>=2.0.2 in /opt/conda/lib/python3.7/site-packages (from packaging>=20.0->spacy<4.0.0,>=3.0.0->spacy_udpipe) (3.0.6)\r\n",
      "Requirement already satisfied: smart-open<6.0.0,>=5.0.0 in /opt/conda/lib/python3.7/site-packages (from pathy>=0.3.5->spacy<4.0.0,>=3.0.0->spacy_udpipe) (5.2.1)\r\n",
      "Requirement already satisfied: charset-normalizer~=2.0.0 in /opt/conda/lib/python3.7/site-packages (from requests<3.0.0,>=2.13.0->spacy<4.0.0,>=3.0.0->spacy_udpipe) (2.0.9)\r\n",
      "Requirement already satisfied: idna<4,>=2.5 in /opt/conda/lib/python3.7/site-packages (from requests<3.0.0,>=2.13.0->spacy<4.0.0,>=3.0.0->spacy_udpipe) (3.1)\r\n",
      "Requirement already satisfied: urllib3<1.27,>=1.21.1 in /opt/conda/lib/python3.7/site-packages (from requests<3.0.0,>=2.13.0->spacy<4.0.0,>=3.0.0->spacy_udpipe) (1.26.7)\r\n",
      "Requirement already satisfied: certifi>=2017.4.17 in /opt/conda/lib/python3.7/site-packages (from requests<3.0.0,>=2.13.0->spacy<4.0.0,>=3.0.0->spacy_udpipe) (2021.10.8)\r\n",
      "Requirement already satisfied: click<9.0.0,>=7.1.1 in /opt/conda/lib/python3.7/site-packages (from typer<0.5.0,>=0.3.0->spacy<4.0.0,>=3.0.0->spacy_udpipe) (8.0.3)\r\n",
      "Requirement already satisfied: MarkupSafe>=2.0 in /opt/conda/lib/python3.7/site-packages (from jinja2->spacy<4.0.0,>=3.0.0->spacy_udpipe) (2.1.1)\r\n",
      "Requirement already satisfied: importlib-metadata in /opt/conda/lib/python3.7/site-packages (from click<9.0.0,>=7.1.1->typer<0.5.0,>=0.3.0->spacy<4.0.0,>=3.0.0->spacy_udpipe) (4.11.3)\r\n",
      "Building wheels for collected packages: ufal.udpipe\r\n",
      "  Building wheel for ufal.udpipe (setup.py) ... \u001b[?25l-\b \b\\\b \b|\b \b/\b \b-\b \b\\\b \b|\b \b/\b \bdone\r\n",
      "\u001b[?25h  Created wheel for ufal.udpipe: filename=ufal.udpipe-1.2.0.3-cp37-cp37m-linux_x86_64.whl size=9643993 sha256=31506ede3a2d1a60bb6b65901d4e5875562a422fa98bd6586b39503a0d20c417\r\n",
      "  Stored in directory: /root/.cache/pip/wheels/b8/b5/8e/3da091629a21ce2d10bf90759d0cb034ba10a5cf7a01e83d64\r\n",
      "Successfully built ufal.udpipe\r\n",
      "Installing collected packages: typing-extensions, ufal.udpipe, spacy-udpipe\r\n",
      "  Attempting uninstall: typing-extensions\r\n",
      "    Found existing installation: typing-extensions 4.1.1\r\n",
      "    Uninstalling typing-extensions-4.1.1:\r\n",
      "      Successfully uninstalled typing-extensions-4.1.1\r\n",
      "\u001b[31mERROR: pip's dependency resolver does not currently take into account all the packages that are installed. This behaviour is the source of the following dependency conflicts.\r\n",
      "tensorflow-io 0.21.0 requires tensorflow-io-gcs-filesystem==0.21.0, which is not installed.\r\n",
      "explainable-ai-sdk 1.3.2 requires xai-image-widget, which is not installed.\r\n",
      "tensorflow 2.6.2 requires numpy~=1.19.2, but you have numpy 1.20.3 which is incompatible.\r\n",
      "tensorflow 2.6.2 requires six~=1.15.0, but you have six 1.16.0 which is incompatible.\r\n",
      "tensorflow 2.6.2 requires typing-extensions~=3.7.4, but you have typing-extensions 3.10.0.2 which is incompatible.\r\n",
      "tensorflow 2.6.2 requires wrapt~=1.12.1, but you have wrapt 1.13.3 which is incompatible.\r\n",
      "tensorflow-transform 1.5.0 requires absl-py<0.13,>=0.9, but you have absl-py 0.15.0 which is incompatible.\r\n",
      "tensorflow-transform 1.5.0 requires numpy<1.20,>=1.16, but you have numpy 1.20.3 which is incompatible.\r\n",
      "tensorflow-transform 1.5.0 requires pyarrow<6,>=1, but you have pyarrow 6.0.1 which is incompatible.\r\n",
      "tensorflow-transform 1.5.0 requires tensorflow!=2.0.*,!=2.1.*,!=2.2.*,!=2.3.*,!=2.4.*,!=2.5.*,!=2.6.*,<2.8,>=1.15.2, but you have tensorflow 2.6.2 which is incompatible.\r\n",
      "tensorflow-serving-api 2.7.0 requires tensorflow<3,>=2.7.0, but you have tensorflow 2.6.2 which is incompatible.\r\n",
      "flake8 4.0.1 requires importlib-metadata<4.3; python_version < \"3.8\", but you have importlib-metadata 4.11.3 which is incompatible.\r\n",
      "apache-beam 2.34.0 requires dill<0.3.2,>=0.3.1.1, but you have dill 0.3.4 which is incompatible.\r\n",
      "apache-beam 2.34.0 requires httplib2<0.20.0,>=0.8, but you have httplib2 0.20.2 which is incompatible.\r\n",
      "apache-beam 2.34.0 requires pyarrow<6.0.0,>=0.15.1, but you have pyarrow 6.0.1 which is incompatible.\r\n",
      "aioitertools 0.10.0 requires typing_extensions>=4.0; python_version < \"3.10\", but you have typing-extensions 3.10.0.2 which is incompatible.\r\n",
      "aiobotocore 2.1.2 requires botocore<1.23.25,>=1.23.24, but you have botocore 1.24.20 which is incompatible.\u001b[0m\r\n",
      "Successfully installed spacy-udpipe-1.0.0 typing-extensions-3.10.0.2 ufal.udpipe-1.2.0.3\r\n",
      "\u001b[33mWARNING: Running pip as the 'root' user can result in broken permissions and conflicting behaviour with the system package manager. It is recommended to use a virtual environment instead: https://pip.pypa.io/warnings/venv\u001b[0m\r\n",
      "Collecting ipymarkup\r\n",
      "  Downloading ipymarkup-0.9.0-py3-none-any.whl (14 kB)\r\n",
      "Collecting intervaltree>=3\r\n",
      "  Downloading intervaltree-3.1.0.tar.gz (32 kB)\r\n",
      "  Preparing metadata (setup.py) ... \u001b[?25l-\b \bdone\r\n",
      "\u001b[?25hRequirement already satisfied: sortedcontainers<3.0,>=2.0 in /opt/conda/lib/python3.7/site-packages (from intervaltree>=3->ipymarkup) (2.4.0)\r\n",
      "Building wheels for collected packages: intervaltree\r\n",
      "  Building wheel for intervaltree (setup.py) ... \u001b[?25l-\b \b\\\b \b|\b \bdone\r\n",
      "\u001b[?25h  Created wheel for intervaltree: filename=intervaltree-3.1.0-py2.py3-none-any.whl size=26119 sha256=e7ba56dc5e28008bc63d9a73d97ec4bb95daca9b3d88f003bc15deb73f6560db\r\n",
      "  Stored in directory: /root/.cache/pip/wheels/16/85/bd/1001cbb46dcfb71c2001cd7401c6fb250392f22a81ce3722f7\r\n",
      "Successfully built intervaltree\r\n",
      "Installing collected packages: intervaltree, ipymarkup\r\n",
      "Successfully installed intervaltree-3.1.0 ipymarkup-0.9.0\r\n",
      "\u001b[33mWARNING: Running pip as the 'root' user can result in broken permissions and conflicting behaviour with the system package manager. It is recommended to use a virtual environment instead: https://pip.pypa.io/warnings/venv\u001b[0m\r\n",
      "Collecting livelossplot\r\n",
      "  Downloading livelossplot-0.5.4-py3-none-any.whl (22 kB)\r\n",
      "Requirement already satisfied: ipython in /opt/conda/lib/python3.7/site-packages (from livelossplot) (7.30.1)\r\n",
      "Requirement already satisfied: bokeh in /opt/conda/lib/python3.7/site-packages (from livelossplot) (2.4.2)\r\n",
      "Requirement already satisfied: matplotlib in /opt/conda/lib/python3.7/site-packages (from livelossplot) (3.5.1)\r\n",
      "Requirement already satisfied: packaging>=16.8 in /opt/conda/lib/python3.7/site-packages (from bokeh->livelossplot) (21.3)\r\n",
      "Requirement already satisfied: PyYAML>=3.10 in /opt/conda/lib/python3.7/site-packages (from bokeh->livelossplot) (6.0)\r\n",
      "Requirement already satisfied: pillow>=7.1.0 in /opt/conda/lib/python3.7/site-packages (from bokeh->livelossplot) (8.2.0)\r\n",
      "Requirement already satisfied: typing-extensions>=3.10.0 in /opt/conda/lib/python3.7/site-packages (from bokeh->livelossplot) (3.10.0.2)\r\n",
      "Requirement already satisfied: tornado>=5.1 in /opt/conda/lib/python3.7/site-packages (from bokeh->livelossplot) (6.1)\r\n",
      "Requirement already satisfied: Jinja2>=2.9 in /opt/conda/lib/python3.7/site-packages (from bokeh->livelossplot) (3.0.3)\r\n",
      "Requirement already satisfied: numpy>=1.11.3 in /opt/conda/lib/python3.7/site-packages (from bokeh->livelossplot) (1.20.3)\r\n",
      "Requirement already satisfied: setuptools>=18.5 in /opt/conda/lib/python3.7/site-packages (from ipython->livelossplot) (59.5.0)\r\n",
      "Requirement already satisfied: pygments in /opt/conda/lib/python3.7/site-packages (from ipython->livelossplot) (2.10.0)\r\n",
      "Requirement already satisfied: prompt-toolkit!=3.0.0,!=3.0.1,<3.1.0,>=2.0.0 in /opt/conda/lib/python3.7/site-packages (from ipython->livelossplot) (3.0.24)\r\n",
      "Requirement already satisfied: backcall in /opt/conda/lib/python3.7/site-packages (from ipython->livelossplot) (0.2.0)\r\n",
      "Requirement already satisfied: matplotlib-inline in /opt/conda/lib/python3.7/site-packages (from ipython->livelossplot) (0.1.3)\r\n",
      "Requirement already satisfied: decorator in /opt/conda/lib/python3.7/site-packages (from ipython->livelossplot) (5.1.0)\r\n",
      "Requirement already satisfied: traitlets>=4.2 in /opt/conda/lib/python3.7/site-packages (from ipython->livelossplot) (5.1.1)\r\n",
      "Requirement already satisfied: pickleshare in /opt/conda/lib/python3.7/site-packages (from ipython->livelossplot) (0.7.5)\r\n",
      "Requirement already satisfied: pexpect>4.3 in /opt/conda/lib/python3.7/site-packages (from ipython->livelossplot) (4.8.0)\r\n",
      "Requirement already satisfied: jedi>=0.16 in /opt/conda/lib/python3.7/site-packages (from ipython->livelossplot) (0.18.1)\r\n",
      "Requirement already satisfied: python-dateutil>=2.7 in /opt/conda/lib/python3.7/site-packages (from matplotlib->livelossplot) (2.8.2)\r\n",
      "Requirement already satisfied: kiwisolver>=1.0.1 in /opt/conda/lib/python3.7/site-packages (from matplotlib->livelossplot) (1.3.2)\r\n",
      "Requirement already satisfied: pyparsing>=2.2.1 in /opt/conda/lib/python3.7/site-packages (from matplotlib->livelossplot) (3.0.6)\r\n",
      "Requirement already satisfied: cycler>=0.10 in /opt/conda/lib/python3.7/site-packages (from matplotlib->livelossplot) (0.11.0)\r\n",
      "Requirement already satisfied: fonttools>=4.22.0 in /opt/conda/lib/python3.7/site-packages (from matplotlib->livelossplot) (4.28.4)\r\n",
      "Requirement already satisfied: parso<0.9.0,>=0.8.0 in /opt/conda/lib/python3.7/site-packages (from jedi>=0.16->ipython->livelossplot) (0.8.3)\r\n",
      "Requirement already satisfied: MarkupSafe>=2.0 in /opt/conda/lib/python3.7/site-packages (from Jinja2>=2.9->bokeh->livelossplot) (2.1.1)\r\n",
      "Requirement already satisfied: ptyprocess>=0.5 in /opt/conda/lib/python3.7/site-packages (from pexpect>4.3->ipython->livelossplot) (0.7.0)\r\n",
      "Requirement already satisfied: wcwidth in /opt/conda/lib/python3.7/site-packages (from prompt-toolkit!=3.0.0,!=3.0.1,<3.1.0,>=2.0.0->ipython->livelossplot) (0.2.5)\r\n",
      "Requirement already satisfied: six>=1.5 in /opt/conda/lib/python3.7/site-packages (from python-dateutil>=2.7->matplotlib->livelossplot) (1.16.0)\r\n",
      "Installing collected packages: livelossplot\r\n",
      "Successfully installed livelossplot-0.5.4\r\n",
      "\u001b[33mWARNING: Running pip as the 'root' user can result in broken permissions and conflicting behaviour with the system package manager. It is recommended to use a virtual environment instead: https://pip.pypa.io/warnings/venv\u001b[0m\r\n"
     ]
    }
   ],
   "source": [
    "# Для выполнения этого задания не забудьте установить:\n",
    "!pip3 install spacy_udpipe\n",
    "!pip3 install ipymarkup\n",
    "!pip3 install livelossplot"
   ]
  },
  {
   "cell_type": "markdown",
   "id": "de10edb7",
   "metadata": {
    "papermill": {
     "duration": 0.066993,
     "end_time": "2022-03-24T12:59:53.813720",
     "exception": false,
     "start_time": "2022-03-24T12:59:53.746727",
     "status": "completed"
    },
    "tags": []
   },
   "source": [
    "### Код из библиотеки dlnlputils репозитория https://github.com/Samsung-IT-Academy/stepik-dl-nlp"
   ]
  },
  {
   "cell_type": "code",
   "execution_count": 4,
   "id": "520f04b0",
   "metadata": {
    "execution": {
     "iopub.execute_input": "2022-03-24T12:59:53.996288Z",
     "iopub.status.busy": "2022-03-24T12:59:53.989348Z",
     "iopub.status.idle": "2022-03-24T12:59:56.782943Z",
     "shell.execute_reply": "2022-03-24T12:59:56.782252Z",
     "shell.execute_reply.started": "2022-03-24T12:23:31.073303Z"
    },
    "papermill": {
     "duration": 2.89914,
     "end_time": "2022-03-24T12:59:56.783093",
     "exception": false,
     "start_time": "2022-03-24T12:59:53.883953",
     "status": "completed"
    },
    "tags": []
   },
   "outputs": [],
   "source": [
    "# stepik-dl-nlp/dlnlputils/data/base.py#########\n",
    "\n",
    "import collections\n",
    "import re\n",
    "\n",
    "import numpy as np\n",
    "\n",
    "TOKEN_RE = re.compile(r'[\\w\\d]+')\n",
    "\n",
    "\n",
    "def tokenize_text_simple_regex(txt, min_token_size=4):\n",
    "    txt = txt.lower()\n",
    "    all_tokens = TOKEN_RE.findall(txt)\n",
    "    return [token for token in all_tokens if len(token) >= min_token_size]\n",
    "\n",
    "def character_tokenize(txt):\n",
    "    return list(txt)\n",
    "\n",
    "def tokenize_corpus(texts, tokenizer=tokenize_text_simple_regex, **tokenizer_kwargs):\n",
    "    return [tokenizer(text, **tokenizer_kwargs) for text in texts]\n",
    "\n",
    "def tokenize_corpus_verbose(texts, tokenizer=tokenize_text_simple_regex, verbose_chunk=1000, **tokenizer_kwargs):\n",
    "    tokenize_texts = []\n",
    "    for i, text in enumerate(texts):\n",
    "        tokenize_texts.append(tokenizer(text, **tokenizer_kwargs))\n",
    "        if i % verbose_chunk == 0:\n",
    "            print('Complete: {}/{}'.format(i,len(texts)))\n",
    "    return tokenize_texts\n",
    "\n",
    "def texts_to_token_ids(tokenized_texts, word2id):\n",
    "    return [[word2id[token] for token in text if token in word2id]\n",
    "            for text in tokenized_texts]\n",
    "\n",
    "\n",
    "def build_vocabulary(tokenized_texts, max_size=1000000, max_doc_freq=0.8, min_count=5, pad_word=None, start_end_tag = False):\n",
    "    #modified add start/end tags of words\n",
    "    word_counts = collections.defaultdict(int)\n",
    "    doc_n = 0\n",
    "\n",
    "    # посчитать количество документов, в которых употребляется каждое слово\n",
    "    # а также общее количество документов\n",
    "    for txt in tokenized_texts:\n",
    "        doc_n += 1\n",
    "        unique_text_tokens = set(txt)\n",
    "        for token in unique_text_tokens:\n",
    "            word_counts[token] += 1\n",
    "\n",
    "    # убрать слишком редкие и слишком частые слова\n",
    "    word_counts = {word: cnt for word, cnt in word_counts.items()\n",
    "                   if cnt >= min_count and cnt / doc_n <= max_doc_freq}\n",
    "\n",
    "    # отсортировать слова по убыванию частоты\n",
    "    sorted_word_counts = sorted(word_counts.items(),\n",
    "                                reverse=True,\n",
    "                                key=lambda pair: pair[1])\n",
    "    \n",
    "    # добавим теги начала и конца слова, для задачи POS-tagging\n",
    "    if start_end_tag and pad_word is not None:\n",
    "        sorted_word_counts = [('<START>', 1)] + [('<END>', 2)] + sorted_word_counts\n",
    "    # добавим несуществующее слово с индексом 0 для удобства пакетной обработки\n",
    "    if pad_word is not None:\n",
    "        sorted_word_counts = [(pad_word, 0)] + sorted_word_counts\n",
    "\n",
    "    # если у нас по прежнему слишком много слов, оставить только max_size самых частотных\n",
    "    if len(word_counts) > max_size:\n",
    "        sorted_word_counts = sorted_word_counts[:max_size]\n",
    "\n",
    "    # нумеруем слова\n",
    "    word2id = {word: i for i, (word, _) in enumerate(sorted_word_counts)}\n",
    "\n",
    "    # нормируем частоты слов\n",
    "    word2freq = np.array([cnt / doc_n for _, cnt in sorted_word_counts], dtype='float32')\n",
    "\n",
    "    return word2id, word2freq\n",
    "\n",
    "\n",
    "#########stepik-dl-nlp/dlnlputils/data/bag_of_words.py#########\n",
    "\n",
    "import numpy as np\n",
    "import scipy.sparse\n",
    "import torch\n",
    "from torch.utils.data import Dataset\n",
    "\n",
    "\n",
    "def vectorize_texts(tokenized_texts, word2id, word2freq, mode='tfidf', scale=True):\n",
    "    #modified by me \n",
    "    #add 'lftidf', 'tflidf', 'ltflidf', 'ltf', 'lidf'\n",
    "    \n",
    "    assert mode in {'tfidf', 'idf', 'tf', 'bin', 'ltfidf', 'tflidf', 'tflidf_v2', 'ltf', 'tfpmi'}\n",
    "\n",
    "    # считаем количество употреблений каждого слова в каждом документе\n",
    "    result = scipy.sparse.dok_matrix((len(tokenized_texts), len(word2id)), dtype='float32')\n",
    "    for text_i, text in enumerate(tokenized_texts):\n",
    "        for token in text:\n",
    "            if token in word2id:\n",
    "                result[text_i, word2id[token]] += 1\n",
    "\n",
    "    # получаем бинарные вектора \"встречается или нет\"\n",
    "    if mode == 'bin':\n",
    "        result = (result > 0).astype('float32')\n",
    "\n",
    "    # получаем вектора относительных частот слова в документе\n",
    "    elif mode == 'tf':\n",
    "        result = result.tocsr()\n",
    "        result = result.multiply(1 / result.sum(1))\n",
    "\n",
    "    # полностью убираем информацию о количестве употреблений слова в данном документе,\n",
    "    # но оставляем информацию о частотности слова в корпусе в целом\n",
    "    elif mode == 'idf':\n",
    "        result = (result > 0).astype('float32').multiply(1 / word2freq)\n",
    "\n",
    "    # учитываем всю информацию, которая у нас есть:\n",
    "    # частоту слова в документе и частоту слова в корпусе\n",
    "    elif mode == 'tfidf':\n",
    "        result = result.tocsr()\n",
    "        result = result.multiply(1 / result.sum(1))  # разделить каждую строку на её длину\n",
    "        result = result.multiply(1 / word2freq)  # разделить каждый столбец на вес слова\n",
    "\n",
    "    elif mode == 'ltf': # lTF=ln⁡(TF+1)\n",
    "        result = result.tocsr()\n",
    "        result = result.multiply(1 / result.sum(1))\n",
    "        result = scipy.sparse.dok_matrix(np.log(result.toarray()+1))\n",
    " \n",
    "    elif mode == 'lidf': # lIDF=ln⁡(n/IDF+1)\n",
    "        result = (result > 0).astype('float32').multiply(len(tokenized_texts) / word2freq)\n",
    "        result = scipy.sparse.dok_matrix(np.log(result.toarray()+1))\n",
    "\n",
    "        \n",
    "    elif mode == 'ltfidf': # lTFIDF=ln⁡(TF+1)⋅IDF\n",
    "        result = result.tocsr() #переводим матрицу в режим быстрой работы со строками (это очень важно!!)\n",
    "        result = result.multiply(1/result.sum(1)) # разделить каждую строку на её длину\n",
    "        result = scipy.sparse.dok_matrix(np.log(result.toarray()+1))\n",
    "        result = result.multiply(1 / word2freq) # разделить каждый столбец на вес слова\n",
    "        \n",
    "\n",
    "    elif mode == 'tflidf': # lTFIDF=TF⋅ln⁡(1/IDF+1)\n",
    "        result = result.tocsr() #переводим матрицу в режим быстрой работы со строками (это очень важно!!)\n",
    "        result = result.multiply(1/result.sum(1)) # разделить каждую строку на её длину\n",
    "        result = result.multiply(np.log(1 / word2freq + 1)) # разделить каждый столбец на вес слова\n",
    "\n",
    "    elif mode == 'tflidf_v2': # lTFIDF=TF⋅ln⁡(n/IDF+1)\n",
    "        result = result.tocsr() #переводим матрицу в режим быстрой работы со строками (это очень важно!!)\n",
    "        result = result.multiply(1/result.sum(1)) # разделить каждую строку на её длину\n",
    "        result = result.multiply(np.log(len(tokenized_texts) / word2freq + 1)) # разделить каждый столбец на вес слова\n",
    "        \n",
    "    elif mode == 'tfpmi': # TFPMI=TF⋅PMI\n",
    "        result = result.tocsr()\n",
    "        result = result.multiply(1 / result.sum(1))  # разделить каждую строку на её длину\n",
    "        result = result.multiply(word2freq)  # домножить каждую строку на word2freq (это массив PMI Scores)\n",
    "\n",
    "    if scale:\n",
    "        result = result.tocsc()\n",
    "        result -= result.min()\n",
    "        result /= (result.max() + 1e-6)\n",
    "\n",
    "    return result.tocsr()\n",
    "\n",
    "\n",
    "class SparseFeaturesDataset(Dataset):\n",
    "    def __init__(self, features, targets):\n",
    "        self.features = features\n",
    "        self.targets = targets\n",
    "\n",
    "    def __len__(self):\n",
    "        return self.features.shape[0]\n",
    "\n",
    "    def __getitem__(self, idx):\n",
    "        cur_features = torch.from_numpy(self.features[idx].toarray()[0]).float()\n",
    "        cur_label = torch.from_numpy(np.asarray(self.targets[idx])).long()\n",
    "        return cur_features, cur_label\n",
    "    \n",
    "    \n",
    "#########stepik-dl-nlp/dlnlputils/pipeline.py#########\n",
    "\n",
    "import copy\n",
    "import datetime\n",
    "import random\n",
    "import traceback\n",
    "\n",
    "import numpy as np\n",
    "import torch\n",
    "from torch.utils.data import DataLoader\n",
    "\n",
    "\n",
    "def init_random_seed(value=0):\n",
    "    random.seed(value)\n",
    "    np.random.seed(value)\n",
    "    torch.manual_seed(value)\n",
    "    torch.cuda.manual_seed(value)\n",
    "    torch.backends.cudnn.deterministic = True\n",
    "\n",
    "\n",
    "def copy_data_to_device(data, device):\n",
    "    if torch.is_tensor(data):\n",
    "        return data.to(device)\n",
    "    elif isinstance(data, (list, tuple)):\n",
    "        return [copy_data_to_device(elem, device) for elem in data]\n",
    "    raise ValueError('Недопустимый тип данных {}'.format(type(data)))\n",
    "\n",
    "\n",
    "def print_grad_stats(model):\n",
    "    mean = 0\n",
    "    std = 0\n",
    "    norm = 1e-5\n",
    "    for param in model.parameters():\n",
    "        grad = getattr(param, 'grad', None)\n",
    "        if grad is not None:\n",
    "            mean += grad.data.abs().mean()\n",
    "            std += grad.data.std()\n",
    "            norm += 1\n",
    "    mean /= norm\n",
    "    std /= norm\n",
    "    print(f'Mean grad {mean}, std {std}, n {norm}')\n",
    "\n",
    "\n",
    "def train_eval_loop(model, train_dataset, val_dataset, criterion,\n",
    "                    lr=1e-4, epoch_n=10, batch_size=32,\n",
    "                    device=None, early_stopping_patience=10, l2_reg_alpha=0,\n",
    "                    max_batches_per_epoch_train=10000,\n",
    "                    max_batches_per_epoch_val=1000,\n",
    "                    data_loader_ctor=DataLoader,\n",
    "                    optimizer_ctor=None,\n",
    "                    lr_scheduler_ctor=None,\n",
    "                    shuffle_train=True,\n",
    "                    dataloader_workers_n=0,\n",
    "                    best_acc_type = 'loss',\n",
    "                    test_dataset = None,\n",
    "                    experiment_name = 'NoName',\n",
    "                    no_calculate_accuracy = False):\n",
    "    \"\"\"\n",
    "    v2.3\n",
    "    Цикл для обучения модели. После каждой эпохи качество модели оценивается по отложенной выборке.\n",
    "    :param model: torch.nn.Module - обучаемая модель\n",
    "    :param train_dataset: torch.utils.data.Dataset - данные для обучения\n",
    "    :param val_dataset: torch.utils.data.Dataset - данные для оценки качества\n",
    "    :param criterion: функция потерь для настройки модели\n",
    "    :param lr: скорость обучения\n",
    "    :param epoch_n: максимальное количество эпох\n",
    "    :param batch_size: количество примеров, обрабатываемых моделью за одну итерацию\n",
    "    :param device: cuda/cpu - устройство, на котором выполнять вычисления\n",
    "    :param early_stopping_patience: наибольшее количество эпох, в течение которых допускается\n",
    "        отсутствие улучшения модели, чтобы обучение продолжалось.\n",
    "    :param l2_reg_alpha: коэффициент L2-регуляризации\n",
    "    :param max_batches_per_epoch_train: максимальное количество итераций на одну эпоху обучения\n",
    "    :param max_batches_per_epoch_val: максимальное количество итераций на одну эпоху валидации\n",
    "    :param data_loader_ctor: функция для создания объекта, преобразующего датасет в батчи\n",
    "        (по умолчанию torch.utils.data.DataLoader)\n",
    "    :return: кортеж из двух элементов:\n",
    "        - среднее значение функции потерь на валидации на лучшей эпохе\n",
    "        - лучшая модель\n",
    "    \"\"\"\n",
    "    \n",
    "    '''\n",
    "    modified by wisoffe\n",
    "    best_acc_type: 'loss' or 'acc'\n",
    "    experiment_name: \n",
    "    '''\n",
    "    assert best_acc_type in {'loss', 'acc'}\n",
    "    \n",
    "    train_start_time = datetime.datetime.now()\n",
    "    print(\"############## Start experiment with name: {} ##############\".format(experiment_name))\n",
    "    \n",
    "    #statistics history\n",
    "    history = {'acc': {'train': [0.0],\n",
    "                       'val': [0.0]},\n",
    "               'loss': {'train': [float('inf')],\n",
    "                       'val': [float('inf')]}}\n",
    "    \n",
    "    if device is None:\n",
    "        device = 'cuda' if torch.cuda.is_available() else 'cpu'\n",
    "    device = torch.device(device)\n",
    "    model.to(device)\n",
    "\n",
    "    if optimizer_ctor is None:\n",
    "        optimizer = torch.optim.Adam(model.parameters(), lr=lr, weight_decay=l2_reg_alpha)\n",
    "    else:\n",
    "        optimizer = optimizer_ctor(model.parameters(), lr=lr)\n",
    "\n",
    "    if lr_scheduler_ctor is not None:\n",
    "        lr_scheduler = lr_scheduler_ctor(optimizer)\n",
    "    else:\n",
    "        lr_scheduler = None\n",
    "\n",
    "    train_dataloader = data_loader_ctor(train_dataset, batch_size=batch_size, shuffle=shuffle_train,\n",
    "                                        num_workers=dataloader_workers_n)\n",
    "    val_dataloader = data_loader_ctor(val_dataset, batch_size=batch_size, shuffle=False,\n",
    "                                      num_workers=dataloader_workers_n)\n",
    "    \n",
    "    if best_acc_type == 'loss': #отбираем модель по минимальному loss\n",
    "        best_val_metric = float('inf')\n",
    "    elif best_acc_type == 'acc': #отбираем модель по максимальному accuracy\n",
    "        best_val_metric = float('-inf')\n",
    "        \n",
    "    best_epoch_i = 0\n",
    "    best_model = copy.deepcopy(model)\n",
    "    \n",
    "    \n",
    "    for epoch_i in range(1, epoch_n + 1):\n",
    "        try:\n",
    "            #####train phase######\n",
    "            epoch_start = datetime.datetime.now()\n",
    "            train_accuracy_epoch = [] #for statistics\n",
    "            train_loss_epoch = [] #for statistics\n",
    "            \n",
    "            model.train()\n",
    "            \n",
    "            for batch_i, (batch_x, batch_y) in enumerate(train_dataloader):\n",
    "                if batch_i > max_batches_per_epoch_train:\n",
    "                    print('Threshold max_batches_per_epoch_train exceeded!')\n",
    "                    break\n",
    "\n",
    "                batch_x = copy_data_to_device(batch_x, device)\n",
    "                batch_y = copy_data_to_device(batch_y, device)\n",
    "\n",
    "                pred = model(batch_x)\n",
    "                loss = criterion(pred, batch_y)\n",
    "\n",
    "                model.zero_grad()\n",
    "                loss.backward()\n",
    "\n",
    "                optimizer.step()\n",
    "\n",
    "                train_loss_epoch.append(float(loss))\n",
    "                \n",
    "                if not no_calculate_accuracy:\n",
    "                    train_accuracy_epoch.append(float((pred.argmax(dim=1) == batch_y.data).float().mean().data))\n",
    "                    #train_accuracy_epoch.append(float((pred.detach().cpu().numpy().argmax(-1) == batch_y.detach().cpu().numpy()).mean()))\n",
    "                else: train_accuracy_epoch.append(0.)\n",
    "                    \n",
    "            train_iters = batch_i\n",
    "            #####validation phase######\n",
    "            model.eval()\n",
    "\n",
    "            val_accuracy_epoch = [] #for statistics\n",
    "            val_loss_epoch = [] #for statistics\n",
    "\n",
    "            with torch.no_grad():\n",
    "                for batch_i, (batch_x, batch_y) in enumerate(val_dataloader):\n",
    "                    if batch_i > max_batches_per_epoch_val:\n",
    "                        print('Threshold max_batches_per_epoch_val exceeded!')\n",
    "                        break\n",
    "\n",
    "                    batch_x = copy_data_to_device(batch_x, device)\n",
    "                    batch_y = copy_data_to_device(batch_y, device)\n",
    "\n",
    "                    pred = model(batch_x)\n",
    "                    loss = criterion(pred, batch_y)\n",
    "                    \n",
    "                    if not no_calculate_accuracy:\n",
    "                        val_accuracy_epoch.append(float((pred.argmax(dim=1) == batch_y.data).float().mean().data))\n",
    "                        #val_accuracy_epoch.append(float((pred.detach().cpu().numpy().argmax(-1) == batch_y.detach().cpu().numpy()).mean()))\n",
    "                    else:\n",
    "                        val_accuracy_epoch.append(0.)\n",
    "                    val_loss_epoch.append(float(loss))\n",
    "\n",
    "            \n",
    "            ########ending of epoch#########\n",
    "            \n",
    "            history['acc']['train'].append(sum(train_accuracy_epoch) / len(train_accuracy_epoch))\n",
    "            history['loss']['train'].append(sum(train_loss_epoch) / len(train_loss_epoch))  \n",
    "\n",
    "            history['acc']['val'].append(sum(val_accuracy_epoch) / len(val_accuracy_epoch))\n",
    "            history['loss']['val'].append(sum(val_loss_epoch) / len(val_loss_epoch))\n",
    "            \n",
    "            \n",
    "            #save best model\n",
    "            best_model_saved = False\n",
    "            if (best_acc_type == 'loss' and history['loss']['val'][-1] < best_val_metric) or \\\n",
    "                    (best_acc_type == 'acc' and history['acc']['val'][-1] > best_val_metric):\n",
    "                #отбираем модель по минимальному loss или максимальному accuracy\n",
    "                best_epoch_i = epoch_i\n",
    "                best_val_metric = history[best_acc_type]['val'][-1]\n",
    "                best_model = copy.deepcopy(model)\n",
    "                best_model_saved = True\n",
    "            #check for break training\n",
    "            elif epoch_i - best_epoch_i > early_stopping_patience:\n",
    "                print('Модель не улучшилась за последние {} эпох, прекращаем обучение'.format(\n",
    "                    early_stopping_patience))\n",
    "                break\n",
    "\n",
    "            if lr_scheduler is not None:\n",
    "                lr_scheduler.step(history['loss']['val'][-1])\n",
    "            \n",
    "            #output statistics\n",
    "            \n",
    "            print('Epoch = {:>3},   ACC: val = {:.4f}, train = {:.4f}    LOSS: val = {:.4f}, train = {:.4f}   SAVE: {}, Iters: {}, Time: {:0.2f}s'\\\n",
    "                  .format(epoch_i,\n",
    "                          history['acc']['val'][-1], \n",
    "                          history['acc']['train'][-1],\n",
    "                          history['loss']['val'][-1],\n",
    "                          history['loss']['train'][-1],\n",
    "                          best_model_saved,\n",
    "                          train_iters,\n",
    "                          (datetime.datetime.now() - epoch_start).total_seconds()),\n",
    "                  flush=True)\n",
    "\n",
    "        except KeyboardInterrupt:\n",
    "            print('Досрочно остановлено пользователем')\n",
    "            break\n",
    "        except Exception as ex:\n",
    "            print('Ошибка при обучении: {}\\n{}'.format(ex, traceback.format_exc()))\n",
    "            break\n",
    "            \n",
    "    print(' ')\n",
    "    print(\"BEST MODEL: ACC: val = {:.4f}, train = {:.4f}, LOSS: val = {:.4f}, train = {:.4f}, on epoch = {}, metric type = {}, Full train time = {:0.2f}s\"\\\n",
    "                  .format(history['acc']['val'][best_epoch_i], \n",
    "                          history['acc']['train'][best_epoch_i],\n",
    "                          history['loss']['val'][best_epoch_i],\n",
    "                          history['loss']['train'][best_epoch_i],\n",
    "                          best_epoch_i,\n",
    "                          best_acc_type,\n",
    "                          (datetime.datetime.now() - train_start_time).total_seconds()))\n",
    "    print(\"************** End experiment with name: {} **************\".format(experiment_name))\n",
    "    print(' ')\n",
    "    history['BEST'] = {}\n",
    "    history['BEST']['epoch'] = best_epoch_i\n",
    "    history['BEST']['dict_size'] = batch_x.shape[-1]\n",
    "    \n",
    "    \n",
    "    #calculate and save final metrics best_model on train/val/test datasets\n",
    "    if test_dataset is not None:\n",
    "        history['BEST']['acc'] = {}\n",
    "        history['BEST']['loss'] = {}\n",
    "        \n",
    "        #save validation metrics (no calculate again)\n",
    "        history['BEST']['acc']['val'] = history['acc']['val'][best_epoch_i]\n",
    "        history['BEST']['loss']['val'] = history['loss']['val'][best_epoch_i]\n",
    "        \n",
    "        #calculate and save train metrics\n",
    "        train_pred = predict_with_model(best_model, train_dataset, return_labels=True)\n",
    "        history['BEST']['loss']['train'] = float(F.cross_entropy(torch.from_numpy(train_pred[0]),\n",
    "                             torch.from_numpy(train_pred[1]).long()))\n",
    "        history['BEST']['acc']['train'] = accuracy_score(train_pred[1], train_pred[0].argmax(-1))\n",
    "        \n",
    "        #calculate and save test metrics\n",
    "        test_pred = predict_with_model(best_model, test_dataset, return_labels=True)\n",
    "        history['BEST']['loss']['test'] = float(F.cross_entropy(torch.from_numpy(test_pred[0]),\n",
    "                             torch.from_numpy(test_pred[1]).long()))\n",
    "        history['BEST']['acc']['test'] = accuracy_score(test_pred[1], test_pred[0].argmax(-1))    \n",
    "    \n",
    "    best_model.eval()\n",
    "    \n",
    "    return history, best_model\n",
    "\n",
    "\n",
    "def predict_with_model(model, dataset, device=None, batch_size=32, num_workers=0, return_labels=False):\n",
    "    \"\"\"\n",
    "    :param model: torch.nn.Module - обученная модель\n",
    "    :param dataset: torch.utils.data.Dataset - данные для применения модели\n",
    "    :param device: cuda/cpu - устройство, на котором выполнять вычисления\n",
    "    :param batch_size: количество примеров, обрабатываемых моделью за одну итерацию\n",
    "    :return: numpy.array размерности len(dataset) x *\n",
    "    \"\"\"\n",
    "    if device is None:\n",
    "        device = 'cuda' if torch.cuda.is_available() else 'cpu'\n",
    "    results_by_batch = []\n",
    "\n",
    "    device = torch.device(device)\n",
    "    model.to(device)\n",
    "    model.eval()\n",
    "\n",
    "    dataloader = DataLoader(dataset, batch_size=batch_size, shuffle=False, num_workers=num_workers)\n",
    "    labels = []\n",
    "    with torch.no_grad():\n",
    "        import tqdm\n",
    "        for batch_x, batch_y in tqdm.tqdm(dataloader, total=len(dataset)/batch_size):\n",
    "            batch_x = copy_data_to_device(batch_x, device)\n",
    "\n",
    "            if return_labels:\n",
    "                labels.append(batch_y.numpy())\n",
    "\n",
    "            batch_pred = model(batch_x)\n",
    "            results_by_batch.append(batch_pred.detach().cpu().numpy())\n",
    "\n",
    "    if return_labels:\n",
    "        return np.concatenate(results_by_batch, 0), np.concatenate(labels, 0)\n",
    "    else:\n",
    "        return np.concatenate(results_by_batch, 0)\n",
    "\n",
    "\n",
    "#########stepik-dl-nlp/dlnlputils/nnets.py#########\n",
    "\n",
    "from torch.utils.data import Dataset\n",
    "\n",
    "\n",
    "def ensure_length(txt, out_len, pad_value):\n",
    "    if len(txt) < out_len:\n",
    "        txt = list(txt) + [pad_value] * (out_len - len(txt))\n",
    "    else:\n",
    "        txt = txt[:out_len]\n",
    "    return txt\n",
    "\n",
    "\n",
    "class PaddedSequenceDataset(Dataset):\n",
    "    def __init__(self, texts, targets, out_len=100, pad_value=0):\n",
    "        self.texts = texts\n",
    "        self.targets = targets\n",
    "        self.out_len = out_len\n",
    "        self.pad_value = pad_value\n",
    "\n",
    "    def __len__(self):\n",
    "        return len(self.texts)\n",
    "\n",
    "    def __getitem__(self, item):\n",
    "        txt = self.texts[item]\n",
    "\n",
    "        txt = ensure_length(txt, self.out_len, self.pad_value)\n",
    "        txt = torch.tensor(txt, dtype=torch.long)\n",
    "\n",
    "        target = torch.tensor(self.targets[item], dtype=torch.long)\n",
    "\n",
    "        return txt, target\n",
    "\n",
    "    \n",
    "def make_mask_from_lengths(lengths, max_length):\n",
    "    result = torch.zeros(len(lengths), max_length, dtype=torch.bool)\n",
    "    for sample_i, cur_len in enumerate(lengths):\n",
    "        result[sample_i, :cur_len] = 1\n",
    "    return result\n",
    "\n",
    "#########stepik-dl-nlp/dlnlputils/embeddings.py#########\n",
    "\n",
    "class Embeddings:\n",
    "    def __init__(self, embeddings, word2id):\n",
    "        self.embeddings = embeddings\n",
    "        self.embeddings /= (np.linalg.norm(self.embeddings, ord=2, axis=-1, keepdims=True) + 1e-4)\n",
    "        self.word2id = word2id\n",
    "        self.id2word = {i: w for w, i in word2id.items()}\n",
    "\n",
    "    def most_similar(self, positive=None, negative=None, topk=10, with_mean = False):\n",
    "        #modified by wis, converted to gensim syntax\n",
    "        \n",
    "        if positive is not None:\n",
    "            if type(positive) != list:\n",
    "                positive = [positive]\n",
    "            pos_vec = [self.get_vector(word) for word in positive]\n",
    "            pos_len = len(positive)\n",
    "        else:\n",
    "            pos_vec = 0\n",
    "            pos_len = 1\n",
    "            \n",
    "        if negative is not None:\n",
    "            if type(negative) != list:\n",
    "                negative = [negative]\n",
    "            neg_vec = [self.get_vector(word) for word in negative]\n",
    "            neg_len = len(negative)\n",
    "        else:\n",
    "            neg_vec = 0\n",
    "            neg_len = 1\n",
    "        \n",
    "        if with_mean:\n",
    "            result_vec = np.array(pos_vec).sum(0) / pos_len - np.array(neg_vec).sum(0) / neg_len\n",
    "        else:\n",
    "            result_vec = np.array(pos_vec).sum(0) - np.array(neg_vec).sum(0)\n",
    "        \n",
    "        return self.most_similar_by_vector(result_vec, topk=topk)\n",
    "    \n",
    "    def most_similar_legacy(self, word, topk=10):\n",
    "        return self.most_similar_by_vector(self.get_vector(word), topk=topk)\n",
    "\n",
    "    def analogy(self, a1, b1, a2, topk=10):\n",
    "        a1_v = self.get_vector(a1)\n",
    "        b1_v = self.get_vector(b1)\n",
    "        a2_v = self.get_vector(a2)\n",
    "        query = b1_v - a1_v + a2_v\n",
    "        return self.most_similar_by_vector(query, topk=topk)\n",
    "\n",
    "    def most_similar_by_vector(self, query_vector, topk=10):\n",
    "        similarities = (self.embeddings * query_vector).sum(-1)\n",
    "        best_indices = np.argpartition(-similarities, topk, axis=0)[:topk]\n",
    "        result = [(self.id2word[i], similarities[i]) for i in best_indices]\n",
    "        result.sort(key=lambda pair: -pair[1])\n",
    "        return result\n",
    "\n",
    "    def get_vector(self, word):\n",
    "        if word not in self.word2id:\n",
    "            raise ValueError('Неизвестное слово \"{}\"'.format(word))\n",
    "        return self.embeddings[self.word2id[word]]\n",
    "\n",
    "    def get_vectors(self, *words):\n",
    "        word_ids = [self.word2id[i] for i in words]\n",
    "        vectors = np.stack([self.embeddings[i] for i in word_ids], axis=0)\n",
    "        return vectors\n",
    "\n",
    "#########stepik-dl-nlp/dlnlputils/visualization.py#########\n",
    "\n",
    "from sklearn.decomposition import TruncatedSVD\n",
    "from sklearn.manifold import TSNE\n",
    "\n",
    "\n",
    "def plot_vectors(vectors, labels, how='tsne', ax=None, xy_lim=None):\n",
    "    if how == 'tsne':\n",
    "        projections = TSNE().fit_transform(vectors)\n",
    "    elif how == 'svd':\n",
    "        projections = TruncatedSVD().fit_transform(vectors)\n",
    "\n",
    "    x = projections[:, 0]\n",
    "    y = projections[:, 1]\n",
    "    if xy_lim is not None:\n",
    "        ax.set_xlim(xy_lim)\n",
    "        ax.set_ylim(xy_lim)\n",
    "    ax.scatter(x, y)\n",
    "    for cur_x, cur_y, cur_label in zip(x, y, labels):\n",
    "        ax.annotate(cur_label, (cur_x, cur_y))\n",
    "        \n",
    "\n",
    "#########stepik-dl-nlp/dlnlputils/data/pos.py#########\n",
    "import torch\n",
    "from torch.utils.data import TensorDataset\n",
    "\n",
    "def pos_corpus_to_tensor(sentences, char2id, label2id, max_sent_len, max_token_len):\n",
    "    #v1.2 add custom start/end tag functionaly\n",
    "    inputs = torch.zeros((len(sentences), max_sent_len, max_token_len + 2), dtype=torch.long)\n",
    "    inputs[:,:,0] = char2id.get('<START>', 0)\n",
    "    targets = torch.zeros((len(sentences), max_sent_len), dtype=torch.long)\n",
    "\n",
    "    for sent_i, sent in enumerate(sentences):\n",
    "        for token_i, token in enumerate(sent):\n",
    "            targets[sent_i, token_i] = label2id.get(token.upos, 0)\n",
    "            if token.form is not None:\n",
    "                for char_i, char in enumerate(token.form):\n",
    "                    inputs[sent_i, token_i, char_i + 1] = char2id.get(char, 0)\n",
    "            else:\n",
    "                for char_i, char in enumerate('-'):\n",
    "                    inputs[sent_i, token_i, char_i + 1] = char2id.get(char, 0)\n",
    "            inputs[sent_i, token_i, char_i + 2] = char2id.get('<END>', 0)\n",
    "\n",
    "    return inputs, targets\n",
    "\n",
    "\n",
    "class POSTagger:\n",
    "    def __init__(self, model, char2id, id2label, max_sent_len, max_token_len):\n",
    "        self.model = model\n",
    "        self.char2id = char2id\n",
    "        self.id2label = id2label\n",
    "        self.max_sent_len = max_sent_len\n",
    "        self.max_token_len = max_token_len\n",
    "\n",
    "    def __call__(self, sentences):\n",
    "        tokenized_corpus = tokenize_corpus(sentences, min_token_size=1)\n",
    "\n",
    "        inputs = torch.zeros((len(sentences), self.max_sent_len, self.max_token_len + 2), dtype=torch.long)\n",
    "        inputs[:,:,0] = self.char2id.get('<START>', 0)\n",
    "\n",
    "        for sent_i, sentence in enumerate(tokenized_corpus):\n",
    "            for token_i, token in enumerate(sentence):\n",
    "                for char_i, char in enumerate(token):\n",
    "                    inputs[sent_i, token_i, char_i + 1] = self.char2id.get(char, 0)\n",
    "                inputs[sent_i, token_i, char_i + 2] = self.char2id.get('<END>', 0)\n",
    "\n",
    "        dataset = TensorDataset(inputs, torch.zeros(len(sentences)))\n",
    "        predicted_probs = predict_with_model(self.model, dataset)  # SentenceN x TagsN x MaxSentLen\n",
    "        predicted_classes = predicted_probs.argmax(1)\n",
    "\n",
    "        result = []\n",
    "        for sent_i, sent in enumerate(tokenized_corpus):\n",
    "            result.append([self.id2label[cls] for cls in predicted_classes[sent_i, :len(sent)]])\n",
    "        return result\n",
    "\n",
    "\n",
    "#########stepik-dl-nlp/dlnlputils/data/poetry.py#########\n",
    "\n",
    "import heapq\n",
    "import random\n",
    "\n",
    "import numpy as np\n",
    "import torch\n",
    "import torch.nn.functional as F\n",
    "from torch.utils.data import Dataset\n",
    "\n",
    "\n",
    "def load_war_and_piece_chunks(fname, chunk_size=200):\n",
    "    #v1.1 fix bugs by wisoffe\n",
    "    with open(fname, 'r') as fin:\n",
    "        full_text = fin.read()\n",
    "    return [full_text[start:start + chunk_size] for start in range(0, len(full_text) - chunk_size, chunk_size // 2)]\n",
    "\n",
    "\n",
    "def save_texts_to_file(texts, out_file):\n",
    "    with open(out_file, 'w') as outf:\n",
    "        outf.write('\\n'.join(texts))\n",
    "\n",
    "\n",
    "class LanguageModelDataset(Dataset):\n",
    "    def __init__(self, token_ids, chunk_length=100, pad_value=0):\n",
    "        self.token_ids = token_ids\n",
    "        self.chunk_length = chunk_length\n",
    "        self.pad_value = pad_value\n",
    "\n",
    "    def __len__(self):\n",
    "        return len(self.token_ids)\n",
    "\n",
    "    def __getitem__(self, item):\n",
    "        text = self.token_ids[item]\n",
    "        start_i = random.randint(0, max(0, len(text) - self.chunk_length - 1))\n",
    "        chunk = text[start_i : start_i + self.chunk_length + 1]\n",
    "\n",
    "        seed_part = chunk[:-1]\n",
    "        target_part = chunk[1:]\n",
    "        \n",
    "        #ensure_length(txt, out_len, pad_value) - на основе txt возвращает последовательность длины \n",
    "        #out_len, если длина txt > out_len, обрезает, если txt < out_len добивает ее символами pad_value\n",
    "        seed_part = ensure_length(seed_part, self.chunk_length, self.pad_value)\n",
    "        target_part = ensure_length(target_part, self.chunk_length, self.pad_value)\n",
    "\n",
    "        seed_part = np.array(seed_part)\n",
    "        target_part = np.array(target_part)\n",
    "\n",
    "        return seed_part, target_part\n",
    "\n",
    "\n",
    "class GreedyGenerator:\n",
    "    def __init__(self, model, tokenizer, device='cuda', eos_token_id=3):\n",
    "        self.model = model\n",
    "        self.tokenizer = tokenizer\n",
    "        self.device = torch.device(device)\n",
    "        self.model.to(self.device)\n",
    "        self.eos_token_id = eos_token_id\n",
    "\n",
    "    def __call__(self, seed_text, max_steps_n=40):\n",
    "        seed_tokens = self.tokenizer.encode([seed_text])[0]\n",
    "        \n",
    "        #начиная с заданной последовательности, через цикл (либо выполняем max_steps_n итераций, \n",
    "        #либо при достижении токена eos_token_id), на каждой итерации передаем в модель текущую \n",
    "        #накопленную последовательность с целью генерации logits следующего токена, далее выбираем \n",
    "        #через [0, -1].argmax() самый вероятный токен, добавляем его к нашей последовательности\n",
    "        #Важно отметить, что по факту при передачи последовательности, происходит вычисление\n",
    "        #logits, для каждой позиции переданной последовательности, что является ненужной \n",
    "        #вычислительной нагрузкой, но в данном случае на это не заморачивается, с целью упрощения\n",
    "        #кода (при этом в рабочей/продакшн системе подобное недопустимо)\n",
    "        for _ in range(max_steps_n):\n",
    "            in_batch = torch.tensor(seed_tokens).unsqueeze(0).to(self.device)\n",
    "            best_next_token = self.model(in_batch)[0, -1].argmax()\n",
    "            if best_next_token == self.eos_token_id:\n",
    "                break\n",
    "\n",
    "            seed_tokens.append(best_next_token)\n",
    "\n",
    "        return self.tokenizer.decode([seed_tokens])[0]\n",
    "\n",
    "\n",
    "class BeamGenerator:\n",
    "    def __init__(self, model, tokenizer, device='cuda', eos_token_id=3):\n",
    "        self.model = model\n",
    "        self.tokenizer = tokenizer\n",
    "        self.device = torch.device(device)\n",
    "        self.model.to(self.device)\n",
    "        self.eos_token_id = eos_token_id\n",
    "\n",
    "    def __call__(self, seed_text, max_steps_n=40, return_hypotheses_n=5, beamsize=5):\n",
    "        seed_tokens = self.tokenizer.encode([seed_text])[0]\n",
    "        initial_length = len(seed_tokens)\n",
    "\n",
    "        #кортежи из:\n",
    "        # - score последовательности, положительный, чем меньше, тем лучше\n",
    "        #   (т.е. последовательность более правдоподобна/вероятна)\n",
    "        # - сама последовательность из token ids\n",
    "        partial_hypotheses = [(0, seed_tokens)]\n",
    "        final_hypotheses = []\n",
    "        \n",
    "        #heapq - алгоритм двоичной кучи (упорядоченное дерево), в которой родитель всегда <= детей\n",
    "        while len(partial_hypotheses) > 0:\n",
    "            #возвращаем, удалив, из списка кортежей самый первый (наименьший=наилучший по скору) элемент,\n",
    "            #в скор (положительный, чем меньше, тем лучше) и саму последовательность (token ids) \n",
    "            cur_partial_score, cur_partial_hypothesis = heapq.heappop(partial_hypotheses)\n",
    "            \n",
    "            #получаем предсказания в виде log-вероятностей для каждого токена из словаря,\n",
    "            #быть на следующем месте после заданной последовательности cur_partial_hypothesis\n",
    "            #важные примечания:\n",
    "            # - логарифмирование вероятностей производится по причине того, что здесь необходимо \n",
    "            #   считать вероятность длинных последовательностей, а именно произведения вероятностей, \n",
    "            #   если их не логарифмировать, то порядок итоговой вероятности будет очень быстро уменьшатся\n",
    "            #   мы бытро столкнемся с практически нулевыми вероятностями, а во в случае логарифмирования, \n",
    "            #   log произведения вероятностей = сумме логарифмов этих вероятностей, как следствие, \n",
    "            #   мы будем работать уже с порядками итоговой вероятности, и не столкнемся с занулением\n",
    "            # - log-вероятностей это отрицательные числа, но упорядоченность и направление сохраняются,\n",
    "            #   т.е. чем больше изначальная вероятность, тем больше и log-вероятности\n",
    "            in_batch = torch.tensor(cur_partial_hypothesis).unsqueeze(0).to(self.device)\n",
    "            next_tokens_logits = self.model(in_batch)[0, -1]\n",
    "            next_tokens_logproba = F.log_softmax(next_tokens_logits)\n",
    "            #.topk возвращает структуру из values и indices, в которых находятся тензоры,\n",
    "            #содержащие в себе указанное кол-во максимальных значений (log вероятностей) и их индексов\n",
    "            topk_continuations = next_tokens_logproba.topk(beamsize)\n",
    "            \n",
    "            #итерируемся по .topk log-вероятностям токенов и их индексам (=ids)\n",
    "            for token_logproba, token_idx in zip(topk_continuations.values, topk_continuations.indices):\n",
    "                #преобразовываем из тензоров в чистые значения\n",
    "                token_logproba = float(token_logproba)\n",
    "                token_idx = int(token_idx)\n",
    "                \n",
    "                #здесь используется подход по нормализации итоговых logit через деление на корень из \n",
    "                #длины самой последовательности, что бы более короткие последовательности не имели \n",
    "                #несравнимо большие logits, чем длинные последовательности; т.к. логиты отрицательны, \n",
    "                #то при делении на бОльшее число (>1), мы получим относительное увеличение итогового \n",
    "                #логита\n",
    "                #например: у нас есть 2 последовательности длиной 4 и 9 символов, если их \n",
    "                #ненормированные логиты = -10, то после нормальзации на корень длины, они будут\n",
    "                #равны -10/2=-5 и -10/3=-3.333, в итоге более длинная последовательность \"выиграет\"\n",
    "                #\n",
    "                #денормализуем и сохраняем исходный score последовательности, \n",
    "                old_denorm_score = cur_partial_score * np.sqrt(len(cur_partial_hypothesis))\n",
    "                \n",
    "                #token_logproba - это log-вероятности (т.е. отрицательное число, причем чем больше, тем \n",
    "                #правдоподеобней/вероятней последовательность), а нашу кучу мы строим на основе скоров \n",
    "                #(т.е. положительных, нормированных величин, чем меньше, тем лучше), здесь преобразовываем \n",
    "                #одно в другое (именно поэтому мы отнимаем, а не прибавляем token_logproba)\n",
    "                new_score = (old_denorm_score - token_logproba) / np.sqrt(len(cur_partial_hypothesis) + 1)\n",
    "\n",
    "                new_hypothesis = cur_partial_hypothesis + [token_idx]\n",
    "                new_item = (new_score, new_hypothesis)\n",
    "                \n",
    "                #либо считаем последовательность оконченой, либо пушим в кучу для дальнейших предсказаний\n",
    "                if token_idx == self.eos_token_id or len(new_hypothesis) - initial_length >= max_steps_n:\n",
    "                    final_hypotheses.append(new_item)\n",
    "                else:\n",
    "                    heapq.heappush(partial_hypotheses, new_item)\n",
    "            \n",
    "            #при таком подходе мне кажется мы сильно полагаемся на верность нашей нормализации, т.к.\n",
    "            #т.к. \"досрочно\" сравниваем наши последовательности разной длины (мощности), более детально\n",
    "            #проанализировать этот момент, придумать альтернативы\n",
    "            if len(partial_hypotheses) > beamsize:\n",
    "                partial_hypotheses = heapq.nsmallest(beamsize, partial_hypotheses)\n",
    "                heapq.heapify(partial_hypotheses)\n",
    "        \n",
    "        #реализовано не слишком эффективно, есть лишние вычисления, особенно когда вариантов на этом этапе\n",
    "        #значительно больше количества, которое нам нужно вернуть\n",
    "        #при анализе не забыть учесть, что в начале цикла мы выбираем элемент с наименьшим логитом\n",
    "        final_scores, final_token_lists = zip(*final_hypotheses)\n",
    "        final_texts = self.tokenizer.decode(list(final_token_lists))\n",
    "\n",
    "        result = list(zip(final_scores, final_texts))\n",
    "        result.sort()\n",
    "        result = result[:return_hypotheses_n]\n",
    "\n",
    "        return result\n",
    "\n",
    "class myBeamGenerator:\n",
    "    '''\n",
    "    Моя реализация классического алгоритма лучевого поиска, разница в том, что перед тем, как оставить \n",
    "    топ beamsize гипотез, мы сначала делаем по одному шагу для всех существующих гипотез (т.е. сравниваем\n",
    "    мы гипотезы и выбираем из них топ, только когда количество токенов в них одинаково)\n",
    "    \n",
    "    '''\n",
    "    def __init__(self, model, tokenizer, device='cuda', eos_token_id=3):\n",
    "        self.model = model\n",
    "        self.tokenizer = tokenizer\n",
    "        self.device = torch.device(device)\n",
    "        self.model.to(self.device)\n",
    "        self.eos_token_id = eos_token_id\n",
    "\n",
    "    def __call__(self, seed_text, max_steps_n=40, return_hypotheses_n=5, beamsize=5, norm='sqrt_len'):\n",
    "        assert norm in {'sqrt_len', 'len', 'nonorm'}\n",
    "        \n",
    "        seed_tokens = self.tokenizer.encode([seed_text])[0]\n",
    "        initial_length = len(seed_tokens)\n",
    "\n",
    "        #кортежи из:\n",
    "        # - score последовательности, положительный, чем меньше, тем лучше\n",
    "        #   (т.е. последовательность более правдоподобна/вероятна)\n",
    "        # - сама последовательность из token ids\n",
    "        partial_hypotheses = [(0, seed_tokens)]\n",
    "        next_step_hypotheses = []\n",
    "        final_hypotheses = []\n",
    "        \n",
    "        #heapq - алгоритм двоичной кучи (упорядоченное дерево), в которой родитель всегда <= детей\n",
    "        while len(partial_hypotheses) > 0:\n",
    "            #возвращаем, удалив, из списка кортежей самый первый (наименьший=наилучший по скору) элемент,\n",
    "            #в скор (положительный, чем меньше, тем лучше) и саму последовательность (token ids) \n",
    "            cur_partial_score, cur_partial_hypothesis = heapq.heappop(partial_hypotheses)\n",
    "            \n",
    "            #получаем предсказания в виде log-вероятностей для каждого токена из словаря,\n",
    "            #быть на следующем месте после заданной последовательности cur_partial_hypothesis\n",
    "            #важные примечания:\n",
    "            # - логарифмирование вероятностей производится по причине того, что здесь необходимо \n",
    "            #   считать вероятность длинных последовательностей, а именно произведения вероятностей, \n",
    "            #   если их не логарифмировать, то порядок итоговой вероятности будет очень быстро уменьшатся\n",
    "            #   мы бытро столкнемся с практически нулевыми вероятностями, а во в случае логарифмирования, \n",
    "            #   log произведения вероятностей = сумме логарифмов этих вероятностей, как следствие, \n",
    "            #   мы будем работать уже с порядками итоговой вероятности, и не столкнемся с занулением\n",
    "            # - log-вероятностей это отрицательные числа, но упорядоченность и направление сохраняются,\n",
    "            #   т.е. чем больше изначальная вероятность, тем больше и log-вероятности\n",
    "            in_batch = torch.tensor(cur_partial_hypothesis).unsqueeze(0).to(self.device)\n",
    "            next_tokens_logits = self.model(in_batch)[0, -1]\n",
    "            next_tokens_logproba = F.log_softmax(next_tokens_logits)\n",
    "            #.topk возвращает структуру из values и indices, в которых находятся тензоры,\n",
    "            #содержащие в себе указанное кол-во максимальных значений (log вероятностей) и их индексов\n",
    "            topk_continuations = next_tokens_logproba.topk(beamsize)\n",
    "            \n",
    "            #итерируемся по .topk log-вероятностям токенов и их индексам (=ids)\n",
    "            for token_logproba, token_idx in zip(topk_continuations.values, topk_continuations.indices):\n",
    "                #преобразовываем из тензоров в чистые значения\n",
    "                token_logproba = float(token_logproba)\n",
    "                token_idx = int(token_idx)\n",
    "                \n",
    "                #выбираем нормализацию\n",
    "                if norm == 'sqrt_len':\n",
    "                    old_norm_value = np.sqrt(len(cur_partial_hypothesis))\n",
    "                    new_norm_value = np.sqrt(len(cur_partial_hypothesis) + 1)\n",
    "                elif norm == 'len':\n",
    "                    old_norm_value = len(cur_partial_hypothesis)\n",
    "                    new_norm_value = len(cur_partial_hypothesis) + 1\n",
    "                elif norm == 'nonorm':\n",
    "                    old_norm_value = 1\n",
    "                    new_norm_value = 1\n",
    "                \n",
    "                #здесь используется подход по нормализации итоговых logit через деление на корень из \n",
    "                #длины самой последовательности, что бы более короткие последовательности не имели \n",
    "                #несравнимо большие logits, чем длинные последовательности; т.к. логиты отрицательны, \n",
    "                #то при делении на бОльшее число (>1), мы получим относительное увеличение итогового \n",
    "                #логита\n",
    "                #например: у нас есть 2 последовательности длиной 4 и 9 символов, если их \n",
    "                #ненормированные логиты = -10, то после нормальзации на корень длины, они будут\n",
    "                #равны -10/2=-5 и -10/3=-3.333, в итоге более длинная последовательность \"выиграет\"\n",
    "                #\n",
    "                #денормализуем и сохраняем исходный score последовательности, \n",
    "                old_denorm_score = cur_partial_score * old_norm_value\n",
    "                \n",
    "                #token_logproba - это log-вероятности (т.е. отрицательное число, причем чем больше, тем \n",
    "                #правдоподеобней/вероятней последовательность), а нашу кучу мы строим на основе скоров \n",
    "                #(т.е. положительных, нормированных величин, чем меньше, тем лучше), здесь преобразовываем \n",
    "                #одно в другое (именно поэтому мы отнимаем, а не прибавляем token_logproba)\n",
    "                new_score = (old_denorm_score - token_logproba) / new_norm_value\n",
    "\n",
    "                new_hypothesis = cur_partial_hypothesis + [token_idx]\n",
    "                new_item = (new_score, new_hypothesis)\n",
    "                \n",
    "                #либо считаем последовательность оконченой, либо пушим в кучу для дальнейших предсказаний\n",
    "                if token_idx == self.eos_token_id or len(new_hypothesis) - initial_length >= max_steps_n:\n",
    "                    final_hypotheses.append(new_item)\n",
    "                else:\n",
    "                    heapq.heappush(next_step_hypotheses, new_item)\n",
    "                    \n",
    "            \n",
    "            if len(partial_hypotheses) == 0 and len(next_step_hypotheses) > 0:\n",
    "                partial_hypotheses = heapq.nsmallest(beamsize, next_step_hypotheses)\n",
    "                heapq.heapify(partial_hypotheses)\n",
    "                next_step_hypotheses = []\n",
    "        \n",
    "        #реализовано не слишком эффективно, есть лишние вычисления, особенно когда вариантов на этом этапе\n",
    "        #значительно больше количества, которое нам нужно вернуть\n",
    "        final_scores, final_token_lists = zip(*final_hypotheses)\n",
    "        final_texts = self.tokenizer.decode(list(final_token_lists))\n",
    "\n",
    "        result = list(zip(final_scores, final_texts))\n",
    "        result.sort()\n",
    "        result = result[:return_hypotheses_n]\n",
    "\n",
    "        return result\n",
    "\n",
    "    \n",
    "#########stepik-dl-nlp/dlnlputils/base.py#########\n",
    "\n",
    "def get_params_number(model):\n",
    "    return sum(t.numel() for t in model.parameters())\n",
    "\n",
    "#########stepik-dl-nlp/dlnlputils/recipe_utils.py#########\n",
    "\n",
    "import numpy as np\n",
    "import matplotlib.pyplot as plt\n",
    "\n",
    "from ipymarkup         import show_box_markup\n",
    "from ipymarkup.palette import palette, PALETTE, BLUE, RED, GREEN, PURPLE, BROWN, ORANGE\n",
    "\n",
    "from sklearn.metrics import confusion_matrix\n",
    "from sklearn.utils.multiclass import unique_labels\n",
    "\n",
    "import torch\n",
    "from collections import Counter\n",
    "\n",
    "PALETTE.set('NAME', BLUE)\n",
    "PALETTE.set('UNIT', RED)\n",
    "PALETTE.set('QTY', GREEN)\n",
    "PALETTE.set('RANGE_END', GREEN)\n",
    "PALETTE.set('INDEX', PURPLE)\n",
    "PALETTE.set('COMMENT', ORANGE)\n",
    "PALETTE.set('OTHER', BROWN)\n",
    "\n",
    "\n",
    "def show_markup(recipe,tags):\n",
    "    mapper = lambda tag: tag[2:] if tag!='OTHER' else tag\n",
    "    \n",
    "    tags  = [mapper(tag) for tag in tags]\n",
    "    text  = ' '.join(recipe)\n",
    "    spans = []\n",
    "        \n",
    "    start,end,tag = 0,len(recipe[0]),tags[0]\n",
    "    \n",
    "    for word, ttag in zip(recipe[1:], tags[1:]): \n",
    "        \n",
    "        if tag == ttag:\n",
    "            end  += 1+len(word)\n",
    "            \n",
    "        else:\n",
    "            span  = (start, end, tag)\n",
    "            spans.append(span)\n",
    "        \n",
    "            start = 1+end\n",
    "            end  += 1+len(word)\n",
    "            tag   = ttag\n",
    "            \n",
    "    span  = (start, end, tag)\n",
    "    spans.append(span)        \n",
    "            \n",
    "    show_box_markup(text, spans, palette=PALETTE)\n",
    "    \n",
    "    \n",
    "def predict_tags(model, converter, recipe):\n",
    "    \n",
    "    encoded_recipe = converter.words_to_index(recipe)        # слово -> его номер в словаре\n",
    "    \n",
    "    encoded_tags   = model.predict_tags(encoded_recipe)      # предсказанные тэги (номера)\n",
    "\n",
    "    decoded_tags   = converter.indices_to_tags(encoded_tags) # номер тэга -> тэг\n",
    "    \n",
    "    return decoded_tags\n",
    "    \n",
    "    \n",
    "def tag_statistics(model, converter, data):\n",
    "\n",
    "    def tag_counter(predicted, ground):\n",
    "        correct_tags = Counter()\n",
    "        ground_tags  = Counter(ground)\n",
    "        \n",
    "        for tag_p, tag_g in zip(predicted, ground):\n",
    "            if tag_p==tag_g:\n",
    "                correct_tags[tag_g]+=1            \n",
    "        return correct_tags, ground_tags\n",
    "    \n",
    "    \n",
    "    total_correct, total_tags = Counter(), Counter()\n",
    "    \n",
    "    for recipe, tags in data:\n",
    "        tags_pred              = predict_tags(model, converter, recipe)\n",
    "        tags_correct, tags_num = tag_counter(tags_pred, tags)\n",
    "\n",
    "        total_correct.update(tags_correct)\n",
    "        total_tags.update(tags_num)\n",
    "\n",
    "    return total_correct, total_tags\n",
    "\n",
    "\n",
    "def recipe_statistics(model, converter,data, limit=None):\n",
    "        \n",
    "    correct_recipes = Counter()\n",
    "    total_recipes   = len(data)\n",
    "\n",
    "    for recipe, tags in data:\n",
    "        tags_pred = predict_tags(model, converter,recipe)\n",
    "        \n",
    "        tags_pred = np.array(tags_pred)\n",
    "        tags      = np.array(tags)\n",
    "        noneq_num = np.sum(tags_pred != tags)\n",
    "        \n",
    "        if limit and noneq_num>limit:\n",
    "            title = 'рецепты, размеченные с >{} ошибками'.format(limit)\n",
    "        elif noneq_num==0:\n",
    "            title = 'рецепты, размеченные без ошибок'\n",
    "        else:\n",
    "            title = 'рецепты, размеченные с {} ошибками:'.format(noneq_num)\n",
    "            \n",
    "        \n",
    "        correct_recipes[title]+=1\n",
    "    \n",
    "    return correct_recipes, total_recipes\n",
    "\n",
    "\n",
    "def plot_recipe_statistics(correct_recipes, total_recipes=None):\n",
    "\n",
    "    plt.rcdefaults()\n",
    "    fig, ax = plt.subplots()\n",
    "\n",
    "    descr,performance = zip(*correct_recipes.most_common())\n",
    "    y_pos             = np.arange(len(descr))\n",
    "    \n",
    "    if total_recipes is not None:\n",
    "        performance = 100 * (np.array(performance) / float(total_recipes))\n",
    "        \n",
    "        ax.set_title('% размеченных рецептов')\n",
    "        ax.set_xlabel('% рецептов')\n",
    "        \n",
    "    else:\n",
    "        ax.set_title('количество размеченных рецептов')\n",
    "        ax.set_xlabel('количество рецептов')\n",
    "\n",
    "    ax.barh(y_pos, performance, align='center')\n",
    "    ax.set_yticks(y_pos)\n",
    "    ax.set_yticklabels(descr)\n",
    "    ax.invert_yaxis()\n",
    "\n",
    "    plt.show()\n",
    "\n",
    "\n",
    "def plot_confusion_matrix(y_true, y_pred, classes, normalize=False, title=None, cmap=plt.cm.Blues):\n",
    "   \n",
    "    cm     = confusion_matrix(y_true, y_pred, labels=classes)\n",
    "    if normalize:\n",
    "        cm = cm.astype('float') / cm.sum(axis=1)[:, np.newaxis]\n",
    "    \n",
    "    fig, ax = plt.subplots(figsize=(10, 10))\n",
    "    im      = ax.imshow(cm, interpolation='nearest', cmap=cmap)\n",
    "   \n",
    "    ax.figure.colorbar(im, ax=ax)\n",
    "    ax.set(xticks=np.arange(cm.shape[1]),\n",
    "           yticks=np.arange(cm.shape[0]),\n",
    "           xticklabels=classes, \n",
    "           yticklabels=classes,\n",
    "           title=title,\n",
    "           ylabel='Истинный тэг',\n",
    "           xlabel='Предсказанный тэг')\n",
    "    \n",
    "    plt.setp(ax.get_xticklabels(), rotation=45, ha=\"right\",rotation_mode=\"anchor\")\n",
    "\n",
    "    fmt = '.2f' if normalize else 'd'\n",
    "    thresh = cm.max() / 2.\n",
    "    for i in range(cm.shape[0]):\n",
    "        for j in range(cm.shape[1]):\n",
    "            ax.text(j, i, format(cm[i, j], fmt), ha=\"center\", va=\"center\", color=\"white\" if cm[i, j] > thresh else \"black\")\n",
    "    fig.tight_layout()\n",
    "    \n",
    "    return ax\n",
    "\n",
    "\n",
    "def form_vocabulary_and_tagset(recipes):\n",
    "    dictionary = set()\n",
    "    labels     = set()\n",
    "    for line in recipes:\n",
    "        if len(line)>0:\n",
    "            word, label = line.split('\\t')\n",
    "            dictionary.add(word)\n",
    "            labels.add(label)\n",
    "            \n",
    "    return dictionary,labels\n",
    "\n",
    "\n",
    "def prepare_data(lines):\n",
    "    recipes_w_tags = []\n",
    "\n",
    "    recipe, tags = [],[]\n",
    "    for line in lines:\n",
    "        if len(line)>0:\n",
    "            word, label = line.split('\\t')\n",
    "            recipe.append(word)\n",
    "            tags.append(label)\n",
    "        else:\n",
    "            if len(recipe)>0:\n",
    "                recipes_w_tags.append((recipe,tags))\n",
    "            recipe, tags = [],[]\n",
    "\n",
    "    return recipes_w_tags\n",
    "\n",
    "\n",
    "class Converter():\n",
    "    def __init__(self,vocabulary, tags):\n",
    "        self.idx_to_word = sorted(vocabulary)\n",
    "        self.idx_to_tag  = sorted(tags)\n",
    "\n",
    "        self.word_to_idx = {word:idx for idx,word in enumerate(self.idx_to_word)}\n",
    "        self.tag_to_idx  = { tag:idx for idx,tag  in enumerate(self.idx_to_tag)}\n",
    "        \n",
    "    def words_to_index(self, words):\n",
    "        return torch.tensor([self.word_to_idx[w] for w in words], dtype=torch.long)\n",
    "    \n",
    "    def tags_to_index(self, words):\n",
    "        return torch.tensor([self.tag_to_idx[w] for w in words], dtype=torch.long)\n",
    "    \n",
    "    def indices_to_words(self, indices):\n",
    "        return [self.idx_to_word[i] for i in indices]\n",
    "    \n",
    "    def indices_to_tags(self, indices):\n",
    "        return [self.idx_to_tag[i] for i in indices]\n",
    "    \n"
   ]
  },
  {
   "cell_type": "markdown",
   "id": "9274758f",
   "metadata": {
    "papermill": {
     "duration": 0.067455,
     "end_time": "2022-03-24T12:59:56.919865",
     "exception": false,
     "start_time": "2022-03-24T12:59:56.852410",
     "status": "completed"
    },
    "tags": []
   },
   "source": [
    "# Определение именованных сущностей в рецептах"
   ]
  },
  {
   "cell_type": "markdown",
   "id": "e65dcba2",
   "metadata": {
    "papermill": {
     "duration": 0.067093,
     "end_time": "2022-03-24T12:59:57.053865",
     "exception": false,
     "start_time": "2022-03-24T12:59:56.986772",
     "status": "completed"
    },
    "tags": []
   },
   "source": [
    "* [1] https://open.blogs.nytimes.com/2015/04/09/extracting-structured-data-from-recipes-using-conditional-random-fields\n",
    "* [2] https://open.blogs.nytimes.com/2016/04/27/structured-ingredients-data-tagging\n",
    "* [3] https://pytorch.org/tutorials/beginner/nlp/sequence_models_tutorial.html#sphx-glr-beginner-nlp-sequence-models-tutorial-py\n",
    "* [4] https://pytorch.org/tutorials/beginner/saving_loading_models.html\n",
    "* [5] https://en.wikipedia.org/wiki/Inside%E2%80%93outside%E2%80%93beginning_(tagging)\n",
    "* [6] https://en.wikipedia.org/wiki/Named-entity_recognition"
   ]
  },
  {
   "cell_type": "code",
   "execution_count": 5,
   "id": "c531d74d",
   "metadata": {
    "execution": {
     "iopub.execute_input": "2022-03-24T12:59:57.201621Z",
     "iopub.status.busy": "2022-03-24T12:59:57.200853Z",
     "iopub.status.idle": "2022-03-24T12:59:57.205252Z",
     "shell.execute_reply": "2022-03-24T12:59:57.204679Z"
    },
    "papermill": {
     "duration": 0.082136,
     "end_time": "2022-03-24T12:59:57.205434",
     "exception": false,
     "start_time": "2022-03-24T12:59:57.123298",
     "status": "completed"
    },
    "tags": []
   },
   "outputs": [],
   "source": [
    "# Если Вы запускаете ноутбук на colab или kaggle,\n",
    "# выполните следующие строчки, чтобы подгрузить библиотеку dlnlputils:\n",
    "\n",
    "# !git clone https://github.com/Samsung-IT-Academy/stepik-dl-nlp.git && pip install -r stepik-dl-nlp/requirements.txt\n",
    "# import sys; sys.path.append('./stepik-dl-nlp')"
   ]
  },
  {
   "cell_type": "code",
   "execution_count": 6,
   "id": "b5d620f4",
   "metadata": {
    "execution": {
     "iopub.execute_input": "2022-03-24T12:59:57.350639Z",
     "iopub.status.busy": "2022-03-24T12:59:57.349928Z",
     "iopub.status.idle": "2022-03-24T12:59:57.352950Z",
     "shell.execute_reply": "2022-03-24T12:59:57.352391Z",
     "shell.execute_reply.started": "2022-03-24T11:40:34.112250Z"
    },
    "papermill": {
     "duration": 0.076947,
     "end_time": "2022-03-24T12:59:57.353111",
     "exception": false,
     "start_time": "2022-03-24T12:59:57.276164",
     "status": "completed"
    },
    "tags": []
   },
   "outputs": [],
   "source": [
    "import warnings\n",
    "warnings.filterwarnings('ignore')"
   ]
  },
  {
   "cell_type": "code",
   "execution_count": 7,
   "id": "a33c1b6c",
   "metadata": {
    "execution": {
     "iopub.execute_input": "2022-03-24T12:59:57.497458Z",
     "iopub.status.busy": "2022-03-24T12:59:57.496736Z",
     "iopub.status.idle": "2022-03-24T12:59:57.501164Z",
     "shell.execute_reply": "2022-03-24T12:59:57.501689Z",
     "shell.execute_reply.started": "2022-03-24T11:40:34.126415Z"
    },
    "papermill": {
     "duration": 0.077138,
     "end_time": "2022-03-24T12:59:57.501889",
     "exception": false,
     "start_time": "2022-03-24T12:59:57.424751",
     "status": "completed"
    },
    "tags": []
   },
   "outputs": [],
   "source": [
    "import pandas as pd"
   ]
  },
  {
   "cell_type": "code",
   "execution_count": 8,
   "id": "a8d69684",
   "metadata": {
    "execution": {
     "iopub.execute_input": "2022-03-24T12:59:57.646767Z",
     "iopub.status.busy": "2022-03-24T12:59:57.645894Z",
     "iopub.status.idle": "2022-03-24T13:00:00.721204Z",
     "shell.execute_reply": "2022-03-24T13:00:00.720434Z",
     "shell.execute_reply.started": "2022-03-24T11:40:34.138906Z"
    },
    "papermill": {
     "duration": 3.148463,
     "end_time": "2022-03-24T13:00:00.721374",
     "exception": false,
     "start_time": "2022-03-24T12:59:57.572911",
     "status": "completed"
    },
    "tags": []
   },
   "outputs": [
    {
     "name": "stdout",
     "output_type": "stream",
     "text": [
      "  % Total    % Received % Xferd  Average Speed   Time    Time     Time  Current\r\n",
      "                                 Dload  Upload   Total   Spent    Left  Speed\r\n",
      "100   933  100   933    0     0   1562      0 --:--:-- --:--:-- --:--:--  1560\r\n"
     ]
    }
   ],
   "source": [
    "# Если Вы запускаете ноутбук на colab или kaggle, добавьте в начало пути ./stepik-dl-nlp\n",
    "!mkdir ./stepik-dl-nlp/\n",
    "!mkdir ./stepik-dl-nlp/datasets/\n",
    "!curl \"https://raw.githubusercontent.com/Samsung-IT-Academy/stepik-dl-nlp/master/datasets/nyt-ingredients-head.csv\" -o ./stepik-dl-nlp/datasets/nyt-ingredients-head.csv\n",
    "df = pd.read_csv('./stepik-dl-nlp/datasets/nyt-ingredients-head.csv')"
   ]
  },
  {
   "cell_type": "code",
   "execution_count": 9,
   "id": "704a2cfd",
   "metadata": {
    "execution": {
     "iopub.execute_input": "2022-03-24T13:00:00.887098Z",
     "iopub.status.busy": "2022-03-24T13:00:00.886362Z",
     "iopub.status.idle": "2022-03-24T13:00:00.906390Z",
     "shell.execute_reply": "2022-03-24T13:00:00.907018Z",
     "shell.execute_reply.started": "2022-03-24T11:40:36.683836Z"
    },
    "papermill": {
     "duration": 0.109816,
     "end_time": "2022-03-24T13:00:00.907227",
     "exception": false,
     "start_time": "2022-03-24T13:00:00.797411",
     "status": "completed"
    },
    "tags": []
   },
   "outputs": [
    {
     "data": {
      "text/html": [
       "<div>\n",
       "<style scoped>\n",
       "    .dataframe tbody tr th:only-of-type {\n",
       "        vertical-align: middle;\n",
       "    }\n",
       "\n",
       "    .dataframe tbody tr th {\n",
       "        vertical-align: top;\n",
       "    }\n",
       "\n",
       "    .dataframe thead th {\n",
       "        text-align: right;\n",
       "    }\n",
       "</style>\n",
       "<table border=\"1\" class=\"dataframe\">\n",
       "  <thead>\n",
       "    <tr style=\"text-align: right;\">\n",
       "      <th></th>\n",
       "      <th>index</th>\n",
       "      <th>input</th>\n",
       "      <th>name</th>\n",
       "      <th>qty</th>\n",
       "      <th>range_end</th>\n",
       "      <th>unit</th>\n",
       "      <th>comment</th>\n",
       "    </tr>\n",
       "  </thead>\n",
       "  <tbody>\n",
       "    <tr>\n",
       "      <th>0</th>\n",
       "      <td>0</td>\n",
       "      <td>1 1/4 cups cooked and pureed fresh butternut s...</td>\n",
       "      <td>butternut squash</td>\n",
       "      <td>1.25</td>\n",
       "      <td>0.0</td>\n",
       "      <td>cup</td>\n",
       "      <td>cooked and pureed fresh, or 1 10-ounce package...</td>\n",
       "    </tr>\n",
       "    <tr>\n",
       "      <th>1</th>\n",
       "      <td>1</td>\n",
       "      <td>1 cup peeled and cooked fresh chestnuts (about...</td>\n",
       "      <td>chestnuts</td>\n",
       "      <td>1.00</td>\n",
       "      <td>0.0</td>\n",
       "      <td>cup</td>\n",
       "      <td>peeled and cooked fresh (about 20), or 1 cup c...</td>\n",
       "    </tr>\n",
       "    <tr>\n",
       "      <th>2</th>\n",
       "      <td>2</td>\n",
       "      <td>1 medium-size onion, peeled and chopped</td>\n",
       "      <td>onion</td>\n",
       "      <td>1.00</td>\n",
       "      <td>0.0</td>\n",
       "      <td>NaN</td>\n",
       "      <td>medium-size, peeled and chopped</td>\n",
       "    </tr>\n",
       "    <tr>\n",
       "      <th>3</th>\n",
       "      <td>3</td>\n",
       "      <td>2 stalks celery, chopped coarse</td>\n",
       "      <td>celery</td>\n",
       "      <td>2.00</td>\n",
       "      <td>0.0</td>\n",
       "      <td>stalk</td>\n",
       "      <td>chopped coarse</td>\n",
       "    </tr>\n",
       "    <tr>\n",
       "      <th>4</th>\n",
       "      <td>4</td>\n",
       "      <td>1 1/2 tablespoons vegetable oil</td>\n",
       "      <td>vegetable oil</td>\n",
       "      <td>1.50</td>\n",
       "      <td>0.0</td>\n",
       "      <td>tablespoon</td>\n",
       "      <td>NaN</td>\n",
       "    </tr>\n",
       "  </tbody>\n",
       "</table>\n",
       "</div>"
      ],
      "text/plain": [
       "   index                                              input              name  \\\n",
       "0      0  1 1/4 cups cooked and pureed fresh butternut s...  butternut squash   \n",
       "1      1  1 cup peeled and cooked fresh chestnuts (about...         chestnuts   \n",
       "2      2            1 medium-size onion, peeled and chopped             onion   \n",
       "3      3                    2 stalks celery, chopped coarse            celery   \n",
       "4      4                    1 1/2 tablespoons vegetable oil     vegetable oil   \n",
       "\n",
       "    qty  range_end        unit  \\\n",
       "0  1.25        0.0         cup   \n",
       "1  1.00        0.0         cup   \n",
       "2  1.00        0.0         NaN   \n",
       "3  2.00        0.0       stalk   \n",
       "4  1.50        0.0  tablespoon   \n",
       "\n",
       "                                             comment  \n",
       "0  cooked and pureed fresh, or 1 10-ounce package...  \n",
       "1  peeled and cooked fresh (about 20), or 1 cup c...  \n",
       "2                    medium-size, peeled and chopped  \n",
       "3                                     chopped coarse  \n",
       "4                                                NaN  "
      ]
     },
     "execution_count": 9,
     "metadata": {},
     "output_type": "execute_result"
    }
   ],
   "source": [
    "df[0:5]"
   ]
  },
  {
   "cell_type": "markdown",
   "id": "0d21a761",
   "metadata": {
    "papermill": {
     "duration": 0.079294,
     "end_time": "2022-03-24T13:00:01.063413",
     "exception": false,
     "start_time": "2022-03-24T13:00:00.984119",
     "status": "completed"
    },
    "tags": []
   },
   "source": [
    "## Аннотированные (BIO) рецепты"
   ]
  },
  {
   "cell_type": "code",
   "execution_count": 10,
   "id": "8b61a477",
   "metadata": {
    "execution": {
     "iopub.execute_input": "2022-03-24T13:00:01.217746Z",
     "iopub.status.busy": "2022-03-24T13:00:01.216443Z",
     "iopub.status.idle": "2022-03-24T13:00:01.230935Z",
     "shell.execute_reply": "2022-03-24T13:00:01.231531Z",
     "shell.execute_reply.started": "2022-03-24T11:40:36.711088Z"
    },
    "papermill": {
     "duration": 0.097328,
     "end_time": "2022-03-24T13:00:01.231724",
     "exception": false,
     "start_time": "2022-03-24T13:00:01.134396",
     "status": "completed"
    },
    "tags": []
   },
   "outputs": [
    {
     "data": {
      "text/plain": [
       "<torch._C.Generator at 0x7ffb095e3b30>"
      ]
     },
     "execution_count": 10,
     "metadata": {},
     "output_type": "execute_result"
    }
   ],
   "source": [
    "import numpy as np\n",
    "import torch\n",
    "import torch.nn as nn\n",
    "import torch.nn.functional as F\n",
    "import torch.optim as optim\n",
    "\n",
    "import numpy as np\n",
    "import matplotlib.pyplot as plt\n",
    "%matplotlib inline\n",
    "\n",
    "torch.manual_seed(1)"
   ]
  },
  {
   "cell_type": "code",
   "execution_count": 11,
   "id": "3119f263",
   "metadata": {
    "execution": {
     "iopub.execute_input": "2022-03-24T13:00:01.402830Z",
     "iopub.status.busy": "2022-03-24T13:00:01.401366Z",
     "iopub.status.idle": "2022-03-24T13:00:03.680304Z",
     "shell.execute_reply": "2022-03-24T13:00:03.678783Z",
     "shell.execute_reply.started": "2022-03-24T11:40:36.727901Z"
    },
    "papermill": {
     "duration": 2.373313,
     "end_time": "2022-03-24T13:00:03.680539",
     "exception": false,
     "start_time": "2022-03-24T13:00:01.307226",
     "status": "completed"
    },
    "tags": []
   },
   "outputs": [
    {
     "name": "stdout",
     "output_type": "stream",
     "text": [
      "  % Total    % Received % Xferd  Average Speed   Time    Time     Time  Current\r\n",
      "                                 Dload  Upload   Total   Spent    Left  Speed\r\n",
      "100 3959k  100 3959k    0     0  2934k      0  0:00:01  0:00:01 --:--:-- 2936k\r\n"
     ]
    }
   ],
   "source": [
    "# Если Вы запускаете ноутбук на colab или kaggle, добавьте в начало пути ./stepik-dl-nlp\n",
    "!curl \"https://raw.githubusercontent.com/Samsung-IT-Academy/stepik-dl-nlp/master/datasets/BIO_recipe_dataset.txt\" -o ./stepik-dl-nlp/datasets/BIO_recipe_dataset.txt\n",
    "datafile = './stepik-dl-nlp/datasets/BIO_recipe_dataset.txt'\n",
    "lines    = open(datafile, encoding='utf-8').read().strip().split('\\n')"
   ]
  },
  {
   "cell_type": "markdown",
   "id": "e1ab60fe",
   "metadata": {
    "papermill": {
     "duration": 0.072411,
     "end_time": "2022-03-24T13:00:03.828348",
     "exception": false,
     "start_time": "2022-03-24T13:00:03.755937",
     "status": "completed"
    },
    "tags": []
   },
   "source": [
    "#### словарь и тэги:"
   ]
  },
  {
   "cell_type": "code",
   "execution_count": 12,
   "id": "2f6eb2c3",
   "metadata": {
    "execution": {
     "iopub.execute_input": "2022-03-24T13:00:03.984416Z",
     "iopub.status.busy": "2022-03-24T13:00:03.983577Z",
     "iopub.status.idle": "2022-03-24T13:00:03.986881Z",
     "shell.execute_reply": "2022-03-24T13:00:03.986232Z"
    },
    "papermill": {
     "duration": 0.081316,
     "end_time": "2022-03-24T13:00:03.987025",
     "exception": false,
     "start_time": "2022-03-24T13:00:03.905709",
     "status": "completed"
    },
    "tags": []
   },
   "outputs": [],
   "source": [
    "# from dlnlputils.recipe_utils import form_vocabulary_and_tagset, prepare_data, show_markup, Converter, tag_statistics, plot_confusion_matrix, recipe_statistics, plot_recipe_statistics"
   ]
  },
  {
   "cell_type": "code",
   "execution_count": 13,
   "id": "5fdd5f11",
   "metadata": {
    "execution": {
     "iopub.execute_input": "2022-03-24T13:00:04.161439Z",
     "iopub.status.busy": "2022-03-24T13:00:04.160492Z",
     "iopub.status.idle": "2022-03-24T13:00:04.165335Z",
     "shell.execute_reply": "2022-03-24T13:00:04.164411Z",
     "shell.execute_reply.started": "2022-03-24T11:45:47.186740Z"
    },
    "papermill": {
     "duration": 0.105292,
     "end_time": "2022-03-24T13:00:04.165504",
     "exception": false,
     "start_time": "2022-03-24T13:00:04.060212",
     "status": "completed"
    },
    "tags": []
   },
   "outputs": [
    {
     "data": {
      "text/plain": [
       "['1$1/4\\tB-QTY',\n",
       " 'cups\\tB-UNIT',\n",
       " 'cooked\\tB-COMMENT',\n",
       " 'and\\tI-COMMENT',\n",
       " 'pureed\\tI-COMMENT',\n",
       " 'fresh\\tI-COMMENT',\n",
       " 'butternut\\tB-NAME',\n",
       " 'squash\\tI-NAME',\n",
       " ',\\tOTHER',\n",
       " 'or\\tI-COMMENT']"
      ]
     },
     "execution_count": 13,
     "metadata": {},
     "output_type": "execute_result"
    }
   ],
   "source": [
    "lines[:10]"
   ]
  },
  {
   "cell_type": "code",
   "execution_count": 14,
   "id": "39f3d942",
   "metadata": {
    "execution": {
     "iopub.execute_input": "2022-03-24T13:00:04.355103Z",
     "iopub.status.busy": "2022-03-24T13:00:04.349516Z",
     "iopub.status.idle": "2022-03-24T13:00:04.554178Z",
     "shell.execute_reply": "2022-03-24T13:00:04.553422Z",
     "shell.execute_reply.started": "2022-03-24T11:44:00.008375Z"
    },
    "papermill": {
     "duration": 0.295005,
     "end_time": "2022-03-24T13:00:04.554362",
     "exception": false,
     "start_time": "2022-03-24T13:00:04.259357",
     "status": "completed"
    },
    "tags": []
   },
   "outputs": [],
   "source": [
    "#возвращает множество из уникальных токенов (слов) и уникальных меток (классов)\n",
    "vocabulary,labels = form_vocabulary_and_tagset(lines)"
   ]
  },
  {
   "cell_type": "markdown",
   "id": "16b2b7dd",
   "metadata": {
    "papermill": {
     "duration": 0.070033,
     "end_time": "2022-03-24T13:00:04.697968",
     "exception": false,
     "start_time": "2022-03-24T13:00:04.627935",
     "status": "completed"
    },
    "tags": []
   },
   "source": [
    "#### рецепты:"
   ]
  },
  {
   "cell_type": "code",
   "execution_count": 15,
   "id": "bc6f26e9",
   "metadata": {
    "execution": {
     "iopub.execute_input": "2022-03-24T13:00:04.859305Z",
     "iopub.status.busy": "2022-03-24T13:00:04.849861Z",
     "iopub.status.idle": "2022-03-24T13:00:05.529148Z",
     "shell.execute_reply": "2022-03-24T13:00:05.528412Z",
     "shell.execute_reply.started": "2022-03-24T11:45:51.699688Z"
    },
    "papermill": {
     "duration": 0.754339,
     "end_time": "2022-03-24T13:00:05.529303",
     "exception": false,
     "start_time": "2022-03-24T13:00:04.774964",
     "status": "completed"
    },
    "tags": []
   },
   "outputs": [
    {
     "data": {
      "text/plain": [
       "49847"
      ]
     },
     "execution_count": 15,
     "metadata": {},
     "output_type": "execute_result"
    }
   ],
   "source": [
    "#возвращает список кортежей, которые состоят из 2-х списков, \n",
    "#1-й - последовательность токенов (слов), \n",
    "#2-й - последовательность соответсвующих им меток\n",
    "recipes_w_tags = prepare_data(lines)\n",
    "\n",
    "len(recipes_w_tags)"
   ]
  },
  {
   "cell_type": "code",
   "execution_count": 16,
   "id": "092f5609",
   "metadata": {
    "execution": {
     "iopub.execute_input": "2022-03-24T13:00:05.691719Z",
     "iopub.status.busy": "2022-03-24T13:00:05.690577Z",
     "iopub.status.idle": "2022-03-24T13:00:05.694272Z",
     "shell.execute_reply": "2022-03-24T13:00:05.695025Z",
     "shell.execute_reply.started": "2022-03-24T11:55:19.501464Z"
    },
    "papermill": {
     "duration": 0.083254,
     "end_time": "2022-03-24T13:00:05.695282",
     "exception": false,
     "start_time": "2022-03-24T13:00:05.612028",
     "status": "completed"
    },
    "tags": []
   },
   "outputs": [
    {
     "name": "stdout",
     "output_type": "stream",
     "text": [
      "(['1$1/4', 'cups', 'cooked', 'and', 'pureed', 'fresh', 'butternut', 'squash', ',', 'or', '1', '10-ounce', 'package', 'frozen', 'squash', ',', 'defrosted'], ['B-QTY', 'B-UNIT', 'B-COMMENT', 'I-COMMENT', 'I-COMMENT', 'I-COMMENT', 'B-NAME', 'I-NAME', 'OTHER', 'I-COMMENT', 'I-COMMENT', 'I-COMMENT', 'I-COMMENT', 'I-COMMENT', 'B-NAME', 'OTHER', 'I-COMMENT'])\n"
     ]
    }
   ],
   "source": [
    "print(recipes_w_tags[0])"
   ]
  },
  {
   "cell_type": "code",
   "execution_count": 17,
   "id": "55456c76",
   "metadata": {
    "execution": {
     "iopub.execute_input": "2022-03-24T13:00:05.852704Z",
     "iopub.status.busy": "2022-03-24T13:00:05.851610Z",
     "iopub.status.idle": "2022-03-24T13:00:05.859536Z",
     "shell.execute_reply": "2022-03-24T13:00:05.860111Z",
     "shell.execute_reply.started": "2022-03-24T11:45:56.069753Z"
    },
    "papermill": {
     "duration": 0.086579,
     "end_time": "2022-03-24T13:00:05.860322",
     "exception": false,
     "start_time": "2022-03-24T13:00:05.773743",
     "status": "completed"
    },
    "tags": []
   },
   "outputs": [
    {
     "data": {
      "text/html": [
       "<div class=\"tex2jax_ignore\" style=\"white-space: pre-wrap\"><span style=\"padding: 2px; border-radius: 4px; border: 1px solid #c8e6c9; background: #e8f5e9\">1$1/4<span style=\"vertical-align: middle; margin-left: 2px; font-size: 0.7em; color: #66bb6a;\">QTY</span></span> <span style=\"padding: 2px; border-radius: 4px; border: 1px solid #ffcdd2; background: #ffebee\">cups<span style=\"vertical-align: middle; margin-left: 2px; font-size: 0.7em; color: #e57373;\">UNIT</span></span> <span style=\"padding: 2px; border-radius: 4px; border: 1px solid #ffe0b2; background: #fff3e0\">cooked and pureed fresh<span style=\"vertical-align: middle; margin-left: 2px; font-size: 0.7em; color: #ffb74d;\">COMMENT</span></span> <span style=\"padding: 2px; border-radius: 4px; border: 1px solid #bbdefb; background: #e3f2fd\">butternut squash<span style=\"vertical-align: middle; margin-left: 2px; font-size: 0.7em; color: #64b5f6;\">NAME</span></span> <span style=\"padding: 2px; border-radius: 4px; border: 1px solid #d7ccc8; background: #efebe9\">,<span style=\"vertical-align: middle; margin-left: 2px; font-size: 0.7em; color: #a1887f;\">OTHER</span></span> <span style=\"padding: 2px; border-radius: 4px; border: 1px solid #ffe0b2; background: #fff3e0\">or 1 10-ounce package frozen<span style=\"vertical-align: middle; margin-left: 2px; font-size: 0.7em; color: #ffb74d;\">COMMENT</span></span> <span style=\"padding: 2px; border-radius: 4px; border: 1px solid #bbdefb; background: #e3f2fd\">squash<span style=\"vertical-align: middle; margin-left: 2px; font-size: 0.7em; color: #64b5f6;\">NAME</span></span> <span style=\"padding: 2px; border-radius: 4px; border: 1px solid #d7ccc8; background: #efebe9\">,<span style=\"vertical-align: middle; margin-left: 2px; font-size: 0.7em; color: #a1887f;\">OTHER</span></span> <span style=\"padding: 2px; border-radius: 4px; border: 1px solid #ffe0b2; background: #fff3e0\">defrosted<span style=\"vertical-align: middle; margin-left: 2px; font-size: 0.7em; color: #ffb74d;\">COMMENT</span></span></div>"
      ],
      "text/plain": [
       "<IPython.core.display.HTML object>"
      ]
     },
     "metadata": {},
     "output_type": "display_data"
    }
   ],
   "source": [
    "test_recipe, test_tags = recipes_w_tags[0]\n",
    "show_markup(test_recipe, test_tags)"
   ]
  },
  {
   "cell_type": "markdown",
   "id": "fe92a8a9",
   "metadata": {
    "papermill": {
     "duration": 0.07452,
     "end_time": "2022-03-24T13:00:06.009037",
     "exception": false,
     "start_time": "2022-03-24T13:00:05.934517",
     "status": "completed"
    },
    "tags": []
   },
   "source": [
    "#### перевод слов и тэгов в индексы - и обратно:"
   ]
  },
  {
   "cell_type": "code",
   "execution_count": 18,
   "id": "ccc8357d",
   "metadata": {
    "execution": {
     "iopub.execute_input": "2022-03-24T13:00:06.160863Z",
     "iopub.status.busy": "2022-03-24T13:00:06.160095Z",
     "iopub.status.idle": "2022-03-24T13:00:06.167793Z",
     "shell.execute_reply": "2022-03-24T13:00:06.168366Z",
     "shell.execute_reply.started": "2022-03-24T11:58:58.892029Z"
    },
    "papermill": {
     "duration": 0.085853,
     "end_time": "2022-03-24T13:00:06.168554",
     "exception": false,
     "start_time": "2022-03-24T13:00:06.082701",
     "status": "completed"
    },
    "tags": []
   },
   "outputs": [],
   "source": [
    "converter = Converter(vocabulary,labels)"
   ]
  },
  {
   "cell_type": "code",
   "execution_count": 19,
   "id": "6522b4f1",
   "metadata": {
    "execution": {
     "iopub.execute_input": "2022-03-24T13:00:06.319936Z",
     "iopub.status.busy": "2022-03-24T13:00:06.319181Z",
     "iopub.status.idle": "2022-03-24T13:00:06.358887Z",
     "shell.execute_reply": "2022-03-24T13:00:06.359401Z",
     "shell.execute_reply.started": "2022-03-24T11:59:15.225373Z"
    },
    "papermill": {
     "duration": 0.115321,
     "end_time": "2022-03-24T13:00:06.359595",
     "exception": false,
     "start_time": "2022-03-24T13:00:06.244274",
     "status": "completed"
    },
    "tags": []
   },
   "outputs": [
    {
     "name": "stdout",
     "output_type": "stream",
     "text": [
      "tensor([  57, 2245, 2133, 1520, 4060, 2650, 1846, 4624,   25, 3729,   42,  125,\n",
      "        3771, 2668, 4624,   25, 2303])\n",
      "tensor([3, 5, 0, 6, 6, 6, 2, 7, 9, 6, 6, 6, 6, 6, 2, 9, 6])\n",
      "\n"
     ]
    },
    {
     "data": {
      "text/html": [
       "<div class=\"tex2jax_ignore\" style=\"white-space: pre-wrap\"><span style=\"padding: 2px; border-radius: 4px; border: 1px solid #c8e6c9; background: #e8f5e9\">1$1/4<span style=\"vertical-align: middle; margin-left: 2px; font-size: 0.7em; color: #66bb6a;\">QTY</span></span> <span style=\"padding: 2px; border-radius: 4px; border: 1px solid #ffcdd2; background: #ffebee\">cups<span style=\"vertical-align: middle; margin-left: 2px; font-size: 0.7em; color: #e57373;\">UNIT</span></span> <span style=\"padding: 2px; border-radius: 4px; border: 1px solid #ffe0b2; background: #fff3e0\">cooked and pureed fresh<span style=\"vertical-align: middle; margin-left: 2px; font-size: 0.7em; color: #ffb74d;\">COMMENT</span></span> <span style=\"padding: 2px; border-radius: 4px; border: 1px solid #bbdefb; background: #e3f2fd\">butternut squash<span style=\"vertical-align: middle; margin-left: 2px; font-size: 0.7em; color: #64b5f6;\">NAME</span></span> <span style=\"padding: 2px; border-radius: 4px; border: 1px solid #d7ccc8; background: #efebe9\">,<span style=\"vertical-align: middle; margin-left: 2px; font-size: 0.7em; color: #a1887f;\">OTHER</span></span> <span style=\"padding: 2px; border-radius: 4px; border: 1px solid #ffe0b2; background: #fff3e0\">or 1 10-ounce package frozen<span style=\"vertical-align: middle; margin-left: 2px; font-size: 0.7em; color: #ffb74d;\">COMMENT</span></span> <span style=\"padding: 2px; border-radius: 4px; border: 1px solid #bbdefb; background: #e3f2fd\">squash<span style=\"vertical-align: middle; margin-left: 2px; font-size: 0.7em; color: #64b5f6;\">NAME</span></span> <span style=\"padding: 2px; border-radius: 4px; border: 1px solid #d7ccc8; background: #efebe9\">,<span style=\"vertical-align: middle; margin-left: 2px; font-size: 0.7em; color: #a1887f;\">OTHER</span></span> <span style=\"padding: 2px; border-radius: 4px; border: 1px solid #ffe0b2; background: #fff3e0\">defrosted<span style=\"vertical-align: middle; margin-left: 2px; font-size: 0.7em; color: #ffb74d;\">COMMENT</span></span></div>"
      ],
      "text/plain": [
       "<IPython.core.display.HTML object>"
      ]
     },
     "metadata": {},
     "output_type": "display_data"
    }
   ],
   "source": [
    "test_recipe, test_tags = recipes_w_tags[0]\n",
    "\n",
    "\n",
    "encoded_recipe = converter.words_to_index(test_recipe)\n",
    "encoded_tags   = converter.tags_to_index(test_tags)\n",
    "\n",
    "print(encoded_recipe)\n",
    "print(encoded_tags)\n",
    "print()\n",
    "\n",
    "\n",
    "decoded_recipe = converter.indices_to_words(encoded_recipe)\n",
    "decoded_tags   = converter.indices_to_tags(encoded_tags)\n",
    "\n",
    "show_markup(decoded_recipe, decoded_tags)"
   ]
  },
  {
   "cell_type": "code",
   "execution_count": 20,
   "id": "64764f4c",
   "metadata": {
    "execution": {
     "iopub.execute_input": "2022-03-24T13:00:06.514280Z",
     "iopub.status.busy": "2022-03-24T13:00:06.513474Z",
     "iopub.status.idle": "2022-03-24T13:00:06.518776Z",
     "shell.execute_reply": "2022-03-24T13:00:06.519336Z",
     "shell.execute_reply.started": "2022-03-24T11:59:20.757450Z"
    },
    "papermill": {
     "duration": 0.083234,
     "end_time": "2022-03-24T13:00:06.519538",
     "exception": false,
     "start_time": "2022-03-24T13:00:06.436304",
     "status": "completed"
    },
    "tags": []
   },
   "outputs": [],
   "source": [
    "training_data = recipes_w_tags[     :40000]\n",
    "test_data     = recipes_w_tags[40000:]"
   ]
  },
  {
   "cell_type": "markdown",
   "id": "a12aa72f",
   "metadata": {
    "papermill": {
     "duration": 0.075372,
     "end_time": "2022-03-24T13:00:06.674102",
     "exception": false,
     "start_time": "2022-03-24T13:00:06.598730",
     "status": "completed"
    },
    "tags": []
   },
   "source": [
    "## LSTM"
   ]
  },
  {
   "cell_type": "code",
   "execution_count": 21,
   "id": "fa347d63",
   "metadata": {
    "execution": {
     "iopub.execute_input": "2022-03-24T13:00:06.828589Z",
     "iopub.status.busy": "2022-03-24T13:00:06.827800Z",
     "iopub.status.idle": "2022-03-24T13:00:06.832658Z",
     "shell.execute_reply": "2022-03-24T13:00:06.833181Z",
     "shell.execute_reply.started": "2022-03-24T12:14:03.326424Z"
    },
    "papermill": {
     "duration": 0.086338,
     "end_time": "2022-03-24T13:00:06.833376",
     "exception": false,
     "start_time": "2022-03-24T13:00:06.747038",
     "status": "completed"
    },
    "tags": []
   },
   "outputs": [],
   "source": [
    "EMBEDDING_DIM = 32\n",
    "HIDDEN_DIM    = 32\n",
    "VOCAB_SIZE    = len(converter.word_to_idx)\n",
    "TAGSET_SIZE   = len(converter.tag_to_idx)"
   ]
  },
  {
   "cell_type": "code",
   "execution_count": 22,
   "id": "11fc2595",
   "metadata": {
    "execution": {
     "iopub.execute_input": "2022-03-24T13:00:06.989989Z",
     "iopub.status.busy": "2022-03-24T13:00:06.989162Z",
     "iopub.status.idle": "2022-03-24T13:00:06.997749Z",
     "shell.execute_reply": "2022-03-24T13:00:06.998299Z",
     "shell.execute_reply.started": "2022-03-24T12:16:39.016931Z"
    },
    "papermill": {
     "duration": 0.087606,
     "end_time": "2022-03-24T13:00:06.998503",
     "exception": false,
     "start_time": "2022-03-24T13:00:06.910897",
     "status": "completed"
    },
    "tags": []
   },
   "outputs": [],
   "source": [
    "class LSTMTagger(nn.Module):\n",
    "\n",
    "    def __init__(self, embedding_dim, hidden_dim, vocab_size, tagset_size):\n",
    "        \n",
    "        super(LSTMTagger, self).__init__()\n",
    "        \n",
    "        self.hidden_dim      = hidden_dim\n",
    "        self.word_embeddings = nn.Embedding(vocab_size, embedding_dim)\n",
    "        self.lstm            = nn.LSTM(embedding_dim, hidden_dim)\n",
    "        self.hidden2tag      = nn.Linear(hidden_dim, tagset_size)\n",
    "\n",
    "    def forward(self, words):\n",
    "        embeds      = self.word_embeddings(words)\n",
    "        lstm_out, _ = self.lstm(embeds.view(len(words), 1, -1))\n",
    "        tag_space   = self.hidden2tag(lstm_out.view(len(words), -1))\n",
    "        tag_scores  = F.log_softmax(tag_space, dim=1)\n",
    "        \n",
    "        return tag_scores\n",
    "    \n",
    "    def predict_tags(self, words):\n",
    "        with torch.no_grad():\n",
    "            tags_pred = model(words).numpy()\n",
    "            tags_pred = np.argmax(tags_pred, axis=1)\n",
    "            \n",
    "        return tags_pred"
   ]
  },
  {
   "cell_type": "code",
   "execution_count": 23,
   "id": "5ccd0938",
   "metadata": {
    "execution": {
     "iopub.execute_input": "2022-03-24T13:00:07.159659Z",
     "iopub.status.busy": "2022-03-24T13:00:07.155773Z",
     "iopub.status.idle": "2022-03-24T13:00:07.185928Z",
     "shell.execute_reply": "2022-03-24T13:00:07.186624Z",
     "shell.execute_reply.started": "2022-03-24T12:16:44.217046Z"
    },
    "papermill": {
     "duration": 0.110264,
     "end_time": "2022-03-24T13:00:07.186822",
     "exception": false,
     "start_time": "2022-03-24T13:00:07.076558",
     "status": "completed"
    },
    "tags": []
   },
   "outputs": [],
   "source": [
    "model         = LSTMTagger(EMBEDDING_DIM, HIDDEN_DIM, VOCAB_SIZE, TAGSET_SIZE)\n",
    "loss_function = nn.NLLLoss() \n",
    "optimizer     = optim.SGD(model.parameters(), lr=0.1)"
   ]
  },
  {
   "cell_type": "code",
   "execution_count": 24,
   "id": "9acfdfc5",
   "metadata": {
    "execution": {
     "iopub.execute_input": "2022-03-24T13:00:07.359245Z",
     "iopub.status.busy": "2022-03-24T13:00:07.349533Z",
     "iopub.status.idle": "2022-03-24T13:00:55.599355Z",
     "shell.execute_reply": "2022-03-24T13:00:55.598655Z",
     "shell.execute_reply.started": "2022-03-24T12:18:31.751496Z"
    },
    "papermill": {
     "duration": 48.331509,
     "end_time": "2022-03-24T13:00:55.599520",
     "exception": false,
     "start_time": "2022-03-24T13:00:07.268011",
     "status": "completed"
    },
    "tags": []
   },
   "outputs": [
    {
     "data": {
      "image/png": "[encoded data removed]",
      "text/plain": [
       "<Figure size 864x576 with 2 Axes>"
      ]
     },
     "metadata": {
      "needs_background": "light"
     },
     "output_type": "display_data"
    },
    {
     "name": "stdout",
     "output_type": "stream",
     "text": [
      "negative log likelihood loss\n",
      "\tnegative log likelihood loss \t (min:    0.007, max:    3.676, cur:    0.117)\n"
     ]
    }
   ],
   "source": [
    "from livelossplot import PlotLosses\n",
    "\n",
    "liveplot = PlotLosses()\n",
    "\n",
    "for epoch in range(1): \n",
    "    for i, (recipe, tags) in enumerate(training_data):\n",
    "        \n",
    "        model.zero_grad()\n",
    "        \n",
    "        encoded_recipe = converter.words_to_index(recipe) # слово -> его номер в словаре \n",
    "        encoded_tags   = converter.tags_to_index(tags)    # тэг   -> его номер в списке тэгов\n",
    "        \n",
    "        tag_scores     = model(encoded_recipe)\n",
    "\n",
    "        loss = loss_function(tag_scores, encoded_tags)\n",
    "        loss.backward()\n",
    "        optimizer.step()\n",
    "        \n",
    "        \n",
    "        if i % 500 == 0:\n",
    "            liveplot.update({'negative log likelihood loss': loss.detach().numpy()})\n",
    "            liveplot.draw()\n",
    "            \n",
    "            \n",
    "        if i == 15000:\n",
    "            break"
   ]
  },
  {
   "cell_type": "code",
   "execution_count": 25,
   "id": "72752b2a",
   "metadata": {
    "execution": {
     "iopub.execute_input": "2022-03-24T13:00:55.768158Z",
     "iopub.status.busy": "2022-03-24T13:00:55.766978Z",
     "iopub.status.idle": "2022-03-24T13:00:55.770411Z",
     "shell.execute_reply": "2022-03-24T13:00:55.770943Z",
     "shell.execute_reply.started": "2022-03-24T12:19:51.947958Z"
    },
    "papermill": {
     "duration": 0.086752,
     "end_time": "2022-03-24T13:00:55.771138",
     "exception": false,
     "start_time": "2022-03-24T13:00:55.684386",
     "status": "completed"
    },
    "tags": []
   },
   "outputs": [],
   "source": [
    "def predict_tags(model, converter, recipe):\n",
    "    \n",
    "    encoded_recipe = converter.words_to_index(recipe)        # слово -> его номер в словаре\n",
    "    \n",
    "    encoded_tags   = model.predict_tags(encoded_recipe)      # предсказанные тэги (номера)\n",
    "\n",
    "    decoded_tags   = converter.indices_to_tags(encoded_tags) # номер тэга -> тэг\n",
    "    \n",
    "    return decoded_tags"
   ]
  },
  {
   "cell_type": "code",
   "execution_count": 26,
   "id": "e856e249",
   "metadata": {
    "execution": {
     "iopub.execute_input": "2022-03-24T13:00:55.931300Z",
     "iopub.status.busy": "2022-03-24T13:00:55.930224Z",
     "iopub.status.idle": "2022-03-24T13:00:56.020237Z",
     "shell.execute_reply": "2022-03-24T13:00:56.020801Z",
     "shell.execute_reply.started": "2022-03-24T12:19:56.873565Z"
    },
    "papermill": {
     "duration": 0.172165,
     "end_time": "2022-03-24T13:00:56.020990",
     "exception": false,
     "start_time": "2022-03-24T13:00:55.848825",
     "status": "completed"
    },
    "tags": []
   },
   "outputs": [
    {
     "name": "stdout",
     "output_type": "stream",
     "text": [
      "истинные тэги:\n"
     ]
    },
    {
     "data": {
      "text/html": [
       "<div class=\"tex2jax_ignore\" style=\"white-space: pre-wrap\"><span style=\"padding: 2px; border-radius: 4px; border: 1px solid #c8e6c9; background: #e8f5e9\">1/4<span style=\"vertical-align: middle; margin-left: 2px; font-size: 0.7em; color: #66bb6a;\">QTY</span></span> <span style=\"padding: 2px; border-radius: 4px; border: 1px solid #ffcdd2; background: #ffebee\">teaspoon<span style=\"vertical-align: middle; margin-left: 2px; font-size: 0.7em; color: #e57373;\">UNIT</span></span> <span style=\"padding: 2px; border-radius: 4px; border: 1px solid #bbdefb; background: #e3f2fd\">salt<span style=\"vertical-align: middle; margin-left: 2px; font-size: 0.7em; color: #64b5f6;\">NAME</span></span></div>"
      ],
      "text/plain": [
       "<IPython.core.display.HTML object>"
      ]
     },
     "metadata": {},
     "output_type": "display_data"
    },
    {
     "name": "stdout",
     "output_type": "stream",
     "text": [
      "предсказанные тэги:\n"
     ]
    },
    {
     "data": {
      "text/html": [
       "<div class=\"tex2jax_ignore\" style=\"white-space: pre-wrap\"><span style=\"padding: 2px; border-radius: 4px; border: 1px solid #c8e6c9; background: #e8f5e9\">1/4<span style=\"vertical-align: middle; margin-left: 2px; font-size: 0.7em; color: #66bb6a;\">QTY</span></span> <span style=\"padding: 2px; border-radius: 4px; border: 1px solid #ffcdd2; background: #ffebee\">teaspoon<span style=\"vertical-align: middle; margin-left: 2px; font-size: 0.7em; color: #e57373;\">UNIT</span></span> <span style=\"padding: 2px; border-radius: 4px; border: 1px solid #bbdefb; background: #e3f2fd\">salt<span style=\"vertical-align: middle; margin-left: 2px; font-size: 0.7em; color: #64b5f6;\">NAME</span></span></div>"
      ],
      "text/plain": [
       "<IPython.core.display.HTML object>"
      ]
     },
     "metadata": {},
     "output_type": "display_data"
    },
    {
     "name": "stdout",
     "output_type": "stream",
     "text": [
      "\n",
      "истинные тэги:\n"
     ]
    },
    {
     "data": {
      "text/html": [
       "<div class=\"tex2jax_ignore\" style=\"white-space: pre-wrap\"><span style=\"padding: 2px; border-radius: 4px; border: 1px solid #ffe0b2; background: #fff3e0\">Freshly ground<span style=\"vertical-align: middle; margin-left: 2px; font-size: 0.7em; color: #ffb74d;\">COMMENT</span></span> <span style=\"padding: 2px; border-radius: 4px; border: 1px solid #bbdefb; background: #e3f2fd\">pepper<span style=\"vertical-align: middle; margin-left: 2px; font-size: 0.7em; color: #64b5f6;\">NAME</span></span></div>"
      ],
      "text/plain": [
       "<IPython.core.display.HTML object>"
      ]
     },
     "metadata": {},
     "output_type": "display_data"
    },
    {
     "name": "stdout",
     "output_type": "stream",
     "text": [
      "предсказанные тэги:\n"
     ]
    },
    {
     "data": {
      "text/html": [
       "<div class=\"tex2jax_ignore\" style=\"white-space: pre-wrap\"><span style=\"padding: 2px; border-radius: 4px; border: 1px solid #ffe0b2; background: #fff3e0\">Freshly ground<span style=\"vertical-align: middle; margin-left: 2px; font-size: 0.7em; color: #ffb74d;\">COMMENT</span></span> <span style=\"padding: 2px; border-radius: 4px; border: 1px solid #bbdefb; background: #e3f2fd\">pepper<span style=\"vertical-align: middle; margin-left: 2px; font-size: 0.7em; color: #64b5f6;\">NAME</span></span></div>"
      ],
      "text/plain": [
       "<IPython.core.display.HTML object>"
      ]
     },
     "metadata": {},
     "output_type": "display_data"
    },
    {
     "name": "stdout",
     "output_type": "stream",
     "text": [
      "\n",
      "истинные тэги:\n"
     ]
    },
    {
     "data": {
      "text/html": [
       "<div class=\"tex2jax_ignore\" style=\"white-space: pre-wrap\"><span style=\"padding: 2px; border-radius: 4px; border: 1px solid #d7ccc8; background: #efebe9\">1/8<span style=\"vertical-align: middle; margin-left: 2px; font-size: 0.7em; color: #a1887f;\">OTHER</span></span> <span style=\"padding: 2px; border-radius: 4px; border: 1px solid #ffcdd2; background: #ffebee\">teaspoon<span style=\"vertical-align: middle; margin-left: 2px; font-size: 0.7em; color: #e57373;\">UNIT</span></span> <span style=\"padding: 2px; border-radius: 4px; border: 1px solid #bbdefb; background: #e3f2fd\">sugar<span style=\"vertical-align: middle; margin-left: 2px; font-size: 0.7em; color: #64b5f6;\">NAME</span></span></div>"
      ],
      "text/plain": [
       "<IPython.core.display.HTML object>"
      ]
     },
     "metadata": {},
     "output_type": "display_data"
    },
    {
     "name": "stdout",
     "output_type": "stream",
     "text": [
      "предсказанные тэги:\n"
     ]
    },
    {
     "data": {
      "text/html": [
       "<div class=\"tex2jax_ignore\" style=\"white-space: pre-wrap\"><span style=\"padding: 2px; border-radius: 4px; border: 1px solid #d7ccc8; background: #efebe9\">1/8<span style=\"vertical-align: middle; margin-left: 2px; font-size: 0.7em; color: #a1887f;\">OTHER</span></span> <span style=\"padding: 2px; border-radius: 4px; border: 1px solid #ffcdd2; background: #ffebee\">teaspoon<span style=\"vertical-align: middle; margin-left: 2px; font-size: 0.7em; color: #e57373;\">UNIT</span></span> <span style=\"padding: 2px; border-radius: 4px; border: 1px solid #bbdefb; background: #e3f2fd\">sugar<span style=\"vertical-align: middle; margin-left: 2px; font-size: 0.7em; color: #64b5f6;\">NAME</span></span></div>"
      ],
      "text/plain": [
       "<IPython.core.display.HTML object>"
      ]
     },
     "metadata": {},
     "output_type": "display_data"
    },
    {
     "name": "stdout",
     "output_type": "stream",
     "text": [
      "\n",
      "истинные тэги:\n"
     ]
    },
    {
     "data": {
      "text/html": [
       "<div class=\"tex2jax_ignore\" style=\"white-space: pre-wrap\"><span style=\"padding: 2px; border-radius: 4px; border: 1px solid #c8e6c9; background: #e8f5e9\">3<span style=\"vertical-align: middle; margin-left: 2px; font-size: 0.7em; color: #66bb6a;\">QTY</span></span> <span style=\"padding: 2px; border-radius: 4px; border: 1px solid #ffcdd2; background: #ffebee\">tablespoons<span style=\"vertical-align: middle; margin-left: 2px; font-size: 0.7em; color: #e57373;\">UNIT</span></span> <span style=\"padding: 2px; border-radius: 4px; border: 1px solid #bbdefb; background: #e3f2fd\">cornstarch<span style=\"vertical-align: middle; margin-left: 2px; font-size: 0.7em; color: #64b5f6;\">NAME</span></span></div>"
      ],
      "text/plain": [
       "<IPython.core.display.HTML object>"
      ]
     },
     "metadata": {},
     "output_type": "display_data"
    },
    {
     "name": "stdout",
     "output_type": "stream",
     "text": [
      "предсказанные тэги:\n"
     ]
    },
    {
     "data": {
      "text/html": [
       "<div class=\"tex2jax_ignore\" style=\"white-space: pre-wrap\"><span style=\"padding: 2px; border-radius: 4px; border: 1px solid #c8e6c9; background: #e8f5e9\">3<span style=\"vertical-align: middle; margin-left: 2px; font-size: 0.7em; color: #66bb6a;\">QTY</span></span> <span style=\"padding: 2px; border-radius: 4px; border: 1px solid #ffcdd2; background: #ffebee\">tablespoons<span style=\"vertical-align: middle; margin-left: 2px; font-size: 0.7em; color: #e57373;\">UNIT</span></span> <span style=\"padding: 2px; border-radius: 4px; border: 1px solid #bbdefb; background: #e3f2fd\">cornstarch<span style=\"vertical-align: middle; margin-left: 2px; font-size: 0.7em; color: #64b5f6;\">NAME</span></span></div>"
      ],
      "text/plain": [
       "<IPython.core.display.HTML object>"
      ]
     },
     "metadata": {},
     "output_type": "display_data"
    },
    {
     "name": "stdout",
     "output_type": "stream",
     "text": [
      "\n",
      "истинные тэги:\n"
     ]
    },
    {
     "data": {
      "text/html": [
       "<div class=\"tex2jax_ignore\" style=\"white-space: pre-wrap\"><span style=\"padding: 2px; border-radius: 4px; border: 1px solid #d7ccc8; background: #efebe9\">Scant<span style=\"vertical-align: middle; margin-left: 2px; font-size: 0.7em; color: #a1887f;\">OTHER</span></span> <span style=\"padding: 2px; border-radius: 4px; border: 1px solid #c8e6c9; background: #e8f5e9\">2<span style=\"vertical-align: middle; margin-left: 2px; font-size: 0.7em; color: #66bb6a;\">QTY</span></span> <span style=\"padding: 2px; border-radius: 4px; border: 1px solid #ffcdd2; background: #ffebee\">pounds<span style=\"vertical-align: middle; margin-left: 2px; font-size: 0.7em; color: #e57373;\">UNIT</span></span> <span style=\"padding: 2px; border-radius: 4px; border: 1px solid #ffe0b2; background: #fff3e0\">peeled<span style=\"vertical-align: middle; margin-left: 2px; font-size: 0.7em; color: #ffb74d;\">COMMENT</span></span> <span style=\"padding: 2px; border-radius: 4px; border: 1px solid #bbdefb; background: #e3f2fd\">pumpkin<span style=\"vertical-align: middle; margin-left: 2px; font-size: 0.7em; color: #64b5f6;\">NAME</span></span> <span style=\"padding: 2px; border-radius: 4px; border: 1px solid #ffe0b2; background: #fff3e0\">, cut into 1$1/2-inch cubes<span style=\"vertical-align: middle; margin-left: 2px; font-size: 0.7em; color: #ffb74d;\">COMMENT</span></span></div>"
      ],
      "text/plain": [
       "<IPython.core.display.HTML object>"
      ]
     },
     "metadata": {},
     "output_type": "display_data"
    },
    {
     "name": "stdout",
     "output_type": "stream",
     "text": [
      "предсказанные тэги:\n"
     ]
    },
    {
     "data": {
      "text/html": [
       "<div class=\"tex2jax_ignore\" style=\"white-space: pre-wrap\"><span style=\"padding: 2px; border-radius: 4px; border: 1px solid #ffe0b2; background: #fff3e0\">Scant<span style=\"vertical-align: middle; margin-left: 2px; font-size: 0.7em; color: #ffb74d;\">COMMENT</span></span> <span style=\"padding: 2px; border-radius: 4px; border: 1px solid #c8e6c9; background: #e8f5e9\">2<span style=\"vertical-align: middle; margin-left: 2px; font-size: 0.7em; color: #66bb6a;\">QTY</span></span> <span style=\"padding: 2px; border-radius: 4px; border: 1px solid #ffcdd2; background: #ffebee\">pounds<span style=\"vertical-align: middle; margin-left: 2px; font-size: 0.7em; color: #e57373;\">UNIT</span></span> <span style=\"padding: 2px; border-radius: 4px; border: 1px solid #ffe0b2; background: #fff3e0\">peeled<span style=\"vertical-align: middle; margin-left: 2px; font-size: 0.7em; color: #ffb74d;\">COMMENT</span></span> <span style=\"padding: 2px; border-radius: 4px; border: 1px solid #bbdefb; background: #e3f2fd\">pumpkin<span style=\"vertical-align: middle; margin-left: 2px; font-size: 0.7em; color: #64b5f6;\">NAME</span></span> <span style=\"padding: 2px; border-radius: 4px; border: 1px solid #ffe0b2; background: #fff3e0\">, cut into 1$1/2-inch cubes<span style=\"vertical-align: middle; margin-left: 2px; font-size: 0.7em; color: #ffb74d;\">COMMENT</span></span></div>"
      ],
      "text/plain": [
       "<IPython.core.display.HTML object>"
      ]
     },
     "metadata": {},
     "output_type": "display_data"
    },
    {
     "name": "stdout",
     "output_type": "stream",
     "text": [
      "\n",
      "истинные тэги:\n"
     ]
    },
    {
     "data": {
      "text/html": [
       "<div class=\"tex2jax_ignore\" style=\"white-space: pre-wrap\"><span style=\"padding: 2px; border-radius: 4px; border: 1px solid #c8e6c9; background: #e8f5e9\">6<span style=\"vertical-align: middle; margin-left: 2px; font-size: 0.7em; color: #66bb6a;\">QTY</span></span> <span style=\"padding: 2px; border-radius: 4px; border: 1px solid #ffcdd2; background: #ffebee\">cups<span style=\"vertical-align: middle; margin-left: 2px; font-size: 0.7em; color: #e57373;\">UNIT</span></span> <span style=\"padding: 2px; border-radius: 4px; border: 1px solid #bbdefb; background: #e3f2fd\">white flour<span style=\"vertical-align: middle; margin-left: 2px; font-size: 0.7em; color: #64b5f6;\">NAME</span></span></div>"
      ],
      "text/plain": [
       "<IPython.core.display.HTML object>"
      ]
     },
     "metadata": {},
     "output_type": "display_data"
    },
    {
     "name": "stdout",
     "output_type": "stream",
     "text": [
      "предсказанные тэги:\n"
     ]
    },
    {
     "data": {
      "text/html": [
       "<div class=\"tex2jax_ignore\" style=\"white-space: pre-wrap\"><span style=\"padding: 2px; border-radius: 4px; border: 1px solid #c8e6c9; background: #e8f5e9\">6<span style=\"vertical-align: middle; margin-left: 2px; font-size: 0.7em; color: #66bb6a;\">QTY</span></span> <span style=\"padding: 2px; border-radius: 4px; border: 1px solid #ffcdd2; background: #ffebee\">cups<span style=\"vertical-align: middle; margin-left: 2px; font-size: 0.7em; color: #e57373;\">UNIT</span></span> <span style=\"padding: 2px; border-radius: 4px; border: 1px solid #bbdefb; background: #e3f2fd\">white flour<span style=\"vertical-align: middle; margin-left: 2px; font-size: 0.7em; color: #64b5f6;\">NAME</span></span></div>"
      ],
      "text/plain": [
       "<IPython.core.display.HTML object>"
      ]
     },
     "metadata": {},
     "output_type": "display_data"
    },
    {
     "name": "stdout",
     "output_type": "stream",
     "text": [
      "\n",
      "истинные тэги:\n"
     ]
    },
    {
     "data": {
      "text/html": [
       "<div class=\"tex2jax_ignore\" style=\"white-space: pre-wrap\"><span style=\"padding: 2px; border-radius: 4px; border: 1px solid #ffe0b2; background: #fff3e0\">Fresh<span style=\"vertical-align: middle; margin-left: 2px; font-size: 0.7em; color: #ffb74d;\">COMMENT</span></span> <span style=\"padding: 2px; border-radius: 4px; border: 1px solid #bbdefb; background: #e3f2fd\">raspberries<span style=\"vertical-align: middle; margin-left: 2px; font-size: 0.7em; color: #64b5f6;\">NAME</span></span> <span style=\"padding: 2px; border-radius: 4px; border: 1px solid #ffe0b2; background: #fff3e0\">, for garnish<span style=\"vertical-align: middle; margin-left: 2px; font-size: 0.7em; color: #ffb74d;\">COMMENT</span></span></div>"
      ],
      "text/plain": [
       "<IPython.core.display.HTML object>"
      ]
     },
     "metadata": {},
     "output_type": "display_data"
    },
    {
     "name": "stdout",
     "output_type": "stream",
     "text": [
      "предсказанные тэги:\n"
     ]
    },
    {
     "data": {
      "text/html": [
       "<div class=\"tex2jax_ignore\" style=\"white-space: pre-wrap\"><span style=\"padding: 2px; border-radius: 4px; border: 1px solid #ffe0b2; background: #fff3e0\">Fresh<span style=\"vertical-align: middle; margin-left: 2px; font-size: 0.7em; color: #ffb74d;\">COMMENT</span></span> <span style=\"padding: 2px; border-radius: 4px; border: 1px solid #bbdefb; background: #e3f2fd\">raspberries<span style=\"vertical-align: middle; margin-left: 2px; font-size: 0.7em; color: #64b5f6;\">NAME</span></span> <span style=\"padding: 2px; border-radius: 4px; border: 1px solid #d7ccc8; background: #efebe9\">,<span style=\"vertical-align: middle; margin-left: 2px; font-size: 0.7em; color: #a1887f;\">OTHER</span></span> <span style=\"padding: 2px; border-radius: 4px; border: 1px solid #ffe0b2; background: #fff3e0\">for garnish<span style=\"vertical-align: middle; margin-left: 2px; font-size: 0.7em; color: #ffb74d;\">COMMENT</span></span></div>"
      ],
      "text/plain": [
       "<IPython.core.display.HTML object>"
      ]
     },
     "metadata": {},
     "output_type": "display_data"
    },
    {
     "name": "stdout",
     "output_type": "stream",
     "text": [
      "\n",
      "истинные тэги:\n"
     ]
    },
    {
     "data": {
      "text/html": [
       "<div class=\"tex2jax_ignore\" style=\"white-space: pre-wrap\"><span style=\"padding: 2px; border-radius: 4px; border: 1px solid #c8e6c9; background: #e8f5e9\">2<span style=\"vertical-align: middle; margin-left: 2px; font-size: 0.7em; color: #66bb6a;\">QTY</span></span> <span style=\"padding: 2px; border-radius: 4px; border: 1px solid #ffcdd2; background: #ffebee\">cups<span style=\"vertical-align: middle; margin-left: 2px; font-size: 0.7em; color: #e57373;\">UNIT</span></span> <span style=\"padding: 2px; border-radius: 4px; border: 1px solid #bbdefb; background: #e3f2fd\">sugar snaps<span style=\"vertical-align: middle; margin-left: 2px; font-size: 0.7em; color: #64b5f6;\">NAME</span></span> <span style=\"padding: 2px; border-radius: 4px; border: 1px solid #d7ccc8; background: #efebe9\">,<span style=\"vertical-align: middle; margin-left: 2px; font-size: 0.7em; color: #a1887f;\">OTHER</span></span> <span style=\"padding: 2px; border-radius: 4px; border: 1px solid #ffe0b2; background: #fff3e0\">topped and tailed<span style=\"vertical-align: middle; margin-left: 2px; font-size: 0.7em; color: #ffb74d;\">COMMENT</span></span></div>"
      ],
      "text/plain": [
       "<IPython.core.display.HTML object>"
      ]
     },
     "metadata": {},
     "output_type": "display_data"
    },
    {
     "name": "stdout",
     "output_type": "stream",
     "text": [
      "предсказанные тэги:\n"
     ]
    },
    {
     "data": {
      "text/html": [
       "<div class=\"tex2jax_ignore\" style=\"white-space: pre-wrap\"><span style=\"padding: 2px; border-radius: 4px; border: 1px solid #c8e6c9; background: #e8f5e9\">2<span style=\"vertical-align: middle; margin-left: 2px; font-size: 0.7em; color: #66bb6a;\">QTY</span></span> <span style=\"padding: 2px; border-radius: 4px; border: 1px solid #ffcdd2; background: #ffebee\">cups<span style=\"vertical-align: middle; margin-left: 2px; font-size: 0.7em; color: #e57373;\">UNIT</span></span> <span style=\"padding: 2px; border-radius: 4px; border: 1px solid #bbdefb; background: #e3f2fd\">sugar snaps<span style=\"vertical-align: middle; margin-left: 2px; font-size: 0.7em; color: #64b5f6;\">NAME</span></span> <span style=\"padding: 2px; border-radius: 4px; border: 1px solid #ffe0b2; background: #fff3e0\">, topped and tailed<span style=\"vertical-align: middle; margin-left: 2px; font-size: 0.7em; color: #ffb74d;\">COMMENT</span></span></div>"
      ],
      "text/plain": [
       "<IPython.core.display.HTML object>"
      ]
     },
     "metadata": {},
     "output_type": "display_data"
    },
    {
     "name": "stdout",
     "output_type": "stream",
     "text": [
      "\n",
      "истинные тэги:\n"
     ]
    },
    {
     "data": {
      "text/html": [
       "<div class=\"tex2jax_ignore\" style=\"white-space: pre-wrap\"><span style=\"padding: 2px; border-radius: 4px; border: 1px solid #c8e6c9; background: #e8f5e9\">2<span style=\"vertical-align: middle; margin-left: 2px; font-size: 0.7em; color: #66bb6a;\">QTY</span></span> <span style=\"padding: 2px; border-radius: 4px; border: 1px solid #ffcdd2; background: #ffebee\">tablespoons<span style=\"vertical-align: middle; margin-left: 2px; font-size: 0.7em; color: #e57373;\">UNIT</span></span> <span style=\"padding: 2px; border-radius: 4px; border: 1px solid #ffe0b2; background: #fff3e0\">finely chopped<span style=\"vertical-align: middle; margin-left: 2px; font-size: 0.7em; color: #ffb74d;\">COMMENT</span></span> <span style=\"padding: 2px; border-radius: 4px; border: 1px solid #bbdefb; background: #e3f2fd\">shallots<span style=\"vertical-align: middle; margin-left: 2px; font-size: 0.7em; color: #64b5f6;\">NAME</span></span></div>"
      ],
      "text/plain": [
       "<IPython.core.display.HTML object>"
      ]
     },
     "metadata": {},
     "output_type": "display_data"
    },
    {
     "name": "stdout",
     "output_type": "stream",
     "text": [
      "предсказанные тэги:\n"
     ]
    },
    {
     "data": {
      "text/html": [
       "<div class=\"tex2jax_ignore\" style=\"white-space: pre-wrap\"><span style=\"padding: 2px; border-radius: 4px; border: 1px solid #c8e6c9; background: #e8f5e9\">2<span style=\"vertical-align: middle; margin-left: 2px; font-size: 0.7em; color: #66bb6a;\">QTY</span></span> <span style=\"padding: 2px; border-radius: 4px; border: 1px solid #ffcdd2; background: #ffebee\">tablespoons<span style=\"vertical-align: middle; margin-left: 2px; font-size: 0.7em; color: #e57373;\">UNIT</span></span> <span style=\"padding: 2px; border-radius: 4px; border: 1px solid #ffe0b2; background: #fff3e0\">finely chopped<span style=\"vertical-align: middle; margin-left: 2px; font-size: 0.7em; color: #ffb74d;\">COMMENT</span></span> <span style=\"padding: 2px; border-radius: 4px; border: 1px solid #bbdefb; background: #e3f2fd\">shallots<span style=\"vertical-align: middle; margin-left: 2px; font-size: 0.7em; color: #64b5f6;\">NAME</span></span></div>"
      ],
      "text/plain": [
       "<IPython.core.display.HTML object>"
      ]
     },
     "metadata": {},
     "output_type": "display_data"
    },
    {
     "name": "stdout",
     "output_type": "stream",
     "text": [
      "\n",
      "истинные тэги:\n"
     ]
    },
    {
     "data": {
      "text/html": [
       "<div class=\"tex2jax_ignore\" style=\"white-space: pre-wrap\"><span style=\"padding: 2px; border-radius: 4px; border: 1px solid #c8e6c9; background: #e8f5e9\">1<span style=\"vertical-align: middle; margin-left: 2px; font-size: 0.7em; color: #66bb6a;\">QTY</span></span> <span style=\"padding: 2px; border-radius: 4px; border: 1px solid #ffcdd2; background: #ffebee\">cup<span style=\"vertical-align: middle; margin-left: 2px; font-size: 0.7em; color: #e57373;\">UNIT</span></span> <span style=\"padding: 2px; border-radius: 4px; border: 1px solid #bbdefb; background: #e3f2fd\">milk<span style=\"vertical-align: middle; margin-left: 2px; font-size: 0.7em; color: #64b5f6;\">NAME</span></span></div>"
      ],
      "text/plain": [
       "<IPython.core.display.HTML object>"
      ]
     },
     "metadata": {},
     "output_type": "display_data"
    },
    {
     "name": "stdout",
     "output_type": "stream",
     "text": [
      "предсказанные тэги:\n"
     ]
    },
    {
     "data": {
      "text/html": [
       "<div class=\"tex2jax_ignore\" style=\"white-space: pre-wrap\"><span style=\"padding: 2px; border-radius: 4px; border: 1px solid #c8e6c9; background: #e8f5e9\">1<span style=\"vertical-align: middle; margin-left: 2px; font-size: 0.7em; color: #66bb6a;\">QTY</span></span> <span style=\"padding: 2px; border-radius: 4px; border: 1px solid #ffcdd2; background: #ffebee\">cup<span style=\"vertical-align: middle; margin-left: 2px; font-size: 0.7em; color: #e57373;\">UNIT</span></span> <span style=\"padding: 2px; border-radius: 4px; border: 1px solid #bbdefb; background: #e3f2fd\">milk<span style=\"vertical-align: middle; margin-left: 2px; font-size: 0.7em; color: #64b5f6;\">NAME</span></span></div>"
      ],
      "text/plain": [
       "<IPython.core.display.HTML object>"
      ]
     },
     "metadata": {},
     "output_type": "display_data"
    },
    {
     "name": "stdout",
     "output_type": "stream",
     "text": [
      "\n"
     ]
    }
   ],
   "source": [
    "for i in range(0,10):\n",
    "\n",
    "    recipe, tags = test_data[np.random.randint(0,7000)]\n",
    "    \n",
    "    tags_pred    = predict_tags(model, converter, recipe)\n",
    "\n",
    "    print('истинные тэги:')\n",
    "    show_markup(recipe, tags)\n",
    "\n",
    "    print('предсказанные тэги:')\n",
    "    show_markup(recipe, tags_pred)\n",
    "    print()"
   ]
  },
  {
   "cell_type": "markdown",
   "id": "5162a1e0",
   "metadata": {
    "papermill": {
     "duration": 0.10876,
     "end_time": "2022-03-24T13:00:56.231443",
     "exception": false,
     "start_time": "2022-03-24T13:00:56.122683",
     "status": "completed"
    },
    "tags": []
   },
   "source": [
    "### Save & Load model"
   ]
  },
  {
   "cell_type": "code",
   "execution_count": 27,
   "id": "9f89178b",
   "metadata": {
    "execution": {
     "iopub.execute_input": "2022-03-24T13:00:56.446039Z",
     "iopub.status.busy": "2022-03-24T13:00:56.445028Z",
     "iopub.status.idle": "2022-03-24T13:00:56.449001Z",
     "shell.execute_reply": "2022-03-24T13:00:56.449596Z"
    },
    "papermill": {
     "duration": 0.10896,
     "end_time": "2022-03-24T13:00:56.449810",
     "exception": false,
     "start_time": "2022-03-24T13:00:56.340850",
     "status": "completed"
    },
    "tags": []
   },
   "outputs": [
    {
     "name": "stdout",
     "output_type": "stream",
     "text": [
      "\n"
     ]
    }
   ],
   "source": [
    "'''\n",
    "torch.save(model.state_dict(), 'models/recipe.pt')\n",
    "model = LSTMTagger(EMBEDDING_DIM, HIDDEN_DIM, VOCAB_SIZE, TAGSET_SIZE)\n",
    "\n",
    "model.load_state_dict(torch.load('models/recipe.pt'))\n",
    "model.eval()\n",
    "\n",
    "\n",
    "recipe, tags = test_data[4444]\n",
    "\n",
    "tags_pred = predict_tags(model, recipe)\n",
    "\n",
    "print('ground truth:')\n",
    "print(list(zip(recipe, tags)))\n",
    "print()\n",
    "\n",
    "print('prediction:')\n",
    "print(list(zip(recipe, tags_pred)))   \n",
    "\n",
    "\n",
    "print('ground truth:')\n",
    "show_markup(recipe, tags)\n",
    "\n",
    "print('prediction:')\n",
    "show_markup(recipe, tags_pred)\n",
    "'''\n",
    "print()"
   ]
  },
  {
   "cell_type": "markdown",
   "id": "da431fc5",
   "metadata": {
    "papermill": {
     "duration": 0.101817,
     "end_time": "2022-03-24T13:00:56.655029",
     "exception": false,
     "start_time": "2022-03-24T13:00:56.553212",
     "status": "completed"
    },
    "tags": []
   },
   "source": [
    "## Проверка возможностей нейросети на тестовых данных:"
   ]
  },
  {
   "cell_type": "markdown",
   "id": "99e26194",
   "metadata": {
    "papermill": {
     "duration": 0.097413,
     "end_time": "2022-03-24T13:00:56.848853",
     "exception": false,
     "start_time": "2022-03-24T13:00:56.751440",
     "status": "completed"
    },
    "tags": []
   },
   "source": [
    "### Количество верно предсказанных тэгов:"
   ]
  },
  {
   "cell_type": "code",
   "execution_count": 28,
   "id": "e152feea",
   "metadata": {
    "execution": {
     "iopub.execute_input": "2022-03-24T13:00:57.052207Z",
     "iopub.status.busy": "2022-03-24T13:00:57.051143Z",
     "iopub.status.idle": "2022-03-24T13:01:01.452471Z",
     "shell.execute_reply": "2022-03-24T13:01:01.451519Z",
     "shell.execute_reply.started": "2022-03-24T12:21:10.761321Z"
    },
    "papermill": {
     "duration": 4.506542,
     "end_time": "2022-03-24T13:01:01.452811",
     "exception": false,
     "start_time": "2022-03-24T13:00:56.946269",
     "status": "completed"
    },
    "tags": []
   },
   "outputs": [
    {
     "name": "stdout",
     "output_type": "stream",
     "text": [
      "Статистика верно предсказанных тэгов:\n",
      "\n",
      "для B-QTY:\n",
      "  корректно:\t 8266\n",
      "      всего:\t 8420\n",
      "% корректно:\t 98.1710213776722\n",
      "\n",
      "для B-COMMENT:\n",
      "  корректно:\t 5366\n",
      "      всего:\t 7823\n",
      "% корректно:\t 68.59261153010354\n",
      "\n",
      "для B-RANGE_END:\n",
      "  корректно:\t 113\n",
      "      всего:\t 156\n",
      "% корректно:\t 72.43589743589743\n",
      "\n",
      "для B-UNIT:\n",
      "  корректно:\t 6787\n",
      "      всего:\t 7074\n",
      "% корректно:\t 95.94288945433985\n",
      "\n",
      "для B-NAME:\n",
      "  корректно:\t 8728\n",
      "      всего:\t 10278\n",
      "% корректно:\t 84.91924498929752\n",
      "\n",
      "для I-NAME:\n",
      "  корректно:\t 4336\n",
      "      всего:\t 5528\n",
      "% корректно:\t 78.43704775687411\n",
      "\n",
      "для I-COMMENT:\n",
      "  корректно:\t 13713\n",
      "      всего:\t 14984\n",
      "% корректно:\t 91.51761879337961\n",
      "\n",
      "для OTHER:\n",
      "  корректно:\t 1964\n",
      "      всего:\t 4101\n",
      "% корректно:\t 47.89075835162156\n",
      "\n",
      "----------\n",
      "в итоге:\n",
      "  корректно:\t 49273\n",
      "      всего:\t 58364\n",
      "% корректно:\t 84.42361729833459\n"
     ]
    }
   ],
   "source": [
    "total_correct, total_tags = tag_statistics(model, converter, test_data)\n",
    "\n",
    "\n",
    "print('Статистика верно предсказанных тэгов:\\n')\n",
    "\n",
    "for tag in total_tags.keys():\n",
    "    print('для {}:'.format(tag))\n",
    "    print('  корректно:\\t', total_correct[tag])\n",
    "    print('      всего:\\t',   total_tags[tag])\n",
    "    print('% корректно:\\t', 100 * (total_correct[tag] / float(total_tags[tag])))\n",
    "    print()\n",
    "\n",
    "print('----------')\n",
    "print('в итоге:')\n",
    "print('  корректно:\\t', sum(total_correct.values()))\n",
    "print('      всего:\\t', sum(total_tags.values()))\n",
    "print('% корректно:\\t', 100 * (sum(total_correct.values()) / sum(total_tags.values())))"
   ]
  },
  {
   "cell_type": "markdown",
   "id": "5a5bb2f9",
   "metadata": {
    "papermill": {
     "duration": 0.114713,
     "end_time": "2022-03-24T13:01:01.677257",
     "exception": false,
     "start_time": "2022-03-24T13:01:01.562544",
     "status": "completed"
    },
    "tags": []
   },
   "source": [
    "### Матрица Ошибок (Confusion Matrix)"
   ]
  },
  {
   "cell_type": "code",
   "execution_count": 29,
   "id": "f9ac3b71",
   "metadata": {
    "execution": {
     "iopub.execute_input": "2022-03-24T13:01:01.897741Z",
     "iopub.status.busy": "2022-03-24T13:01:01.896881Z",
     "iopub.status.idle": "2022-03-24T13:01:05.762796Z",
     "shell.execute_reply": "2022-03-24T13:01:05.761996Z",
     "shell.execute_reply.started": "2022-03-24T12:21:36.583670Z"
    },
    "papermill": {
     "duration": 3.973716,
     "end_time": "2022-03-24T13:01:05.762962",
     "exception": false,
     "start_time": "2022-03-24T13:01:01.789246",
     "status": "completed"
    },
    "tags": []
   },
   "outputs": [],
   "source": [
    "y_pred = []\n",
    "y_true = []\n",
    "\n",
    "for recipe, tags in test_data:\n",
    "    y_pred += predict_tags(model,converter, recipe)\n",
    "    y_true += tags"
   ]
  },
  {
   "cell_type": "code",
   "execution_count": 30,
   "id": "da7954cd",
   "metadata": {
    "execution": {
     "iopub.execute_input": "2022-03-24T13:01:05.964862Z",
     "iopub.status.busy": "2022-03-24T13:01:05.964084Z",
     "iopub.status.idle": "2022-03-24T13:01:06.851697Z",
     "shell.execute_reply": "2022-03-24T13:01:06.852296Z",
     "shell.execute_reply.started": "2022-03-24T12:23:35.977332Z"
    },
    "papermill": {
     "duration": 0.991374,
     "end_time": "2022-03-24T13:01:06.852493",
     "exception": false,
     "start_time": "2022-03-24T13:01:05.861119",
     "status": "completed"
    },
    "tags": []
   },
   "outputs": [
    {
     "data": {
      "image/png": "[encoded data removed]",
      "text/plain": [
       "<Figure size 720x720 with 2 Axes>"
      ]
     },
     "metadata": {
      "needs_background": "light"
     },
     "output_type": "display_data"
    }
   ],
   "source": [
    "plot_confusion_matrix(y_true, y_pred, classes=list(total_tags.keys()), title='Матрица ошибок')\n",
    "\n",
    "plt.show()"
   ]
  },
  {
   "cell_type": "code",
   "execution_count": 31,
   "id": "64f6c9f8",
   "metadata": {
    "execution": {
     "iopub.execute_input": "2022-03-24T13:01:07.065205Z",
     "iopub.status.busy": "2022-03-24T13:01:07.064008Z",
     "iopub.status.idle": "2022-03-24T13:01:07.961532Z",
     "shell.execute_reply": "2022-03-24T13:01:07.962087Z",
     "shell.execute_reply.started": "2022-03-24T12:23:49.846449Z"
    },
    "papermill": {
     "duration": 1.009116,
     "end_time": "2022-03-24T13:01:07.962296",
     "exception": false,
     "start_time": "2022-03-24T13:01:06.953180",
     "status": "completed"
    },
    "tags": []
   },
   "outputs": [
    {
     "data": {
      "image/png": "[encoded data removed]",
      "text/plain": [
       "<Figure size 720x720 with 2 Axes>"
      ]
     },
     "metadata": {
      "needs_background": "light"
     },
     "output_type": "display_data"
    }
   ],
   "source": [
    "plot_confusion_matrix(y_true, y_pred, classes=list(total_tags.keys()), normalize=True, \n",
    "                      title='Нормализованная матрица ошибок')\n",
    "\n",
    "plt.show()"
   ]
  },
  {
   "cell_type": "markdown",
   "id": "97bc574d",
   "metadata": {
    "papermill": {
     "duration": 0.102446,
     "end_time": "2022-03-24T13:01:08.168775",
     "exception": false,
     "start_time": "2022-03-24T13:01:08.066329",
     "status": "completed"
    },
    "tags": []
   },
   "source": [
    "### Количество верно размеченных рецептов:"
   ]
  },
  {
   "cell_type": "code",
   "execution_count": 32,
   "id": "d8b19739",
   "metadata": {
    "execution": {
     "iopub.execute_input": "2022-03-24T13:01:08.384840Z",
     "iopub.status.busy": "2022-03-24T13:01:08.383995Z",
     "iopub.status.idle": "2022-03-24T13:01:12.866249Z",
     "shell.execute_reply": "2022-03-24T13:01:12.866768Z",
     "shell.execute_reply.started": "2022-03-24T12:24:14.108414Z"
    },
    "papermill": {
     "duration": 4.592102,
     "end_time": "2022-03-24T13:01:12.866991",
     "exception": false,
     "start_time": "2022-03-24T13:01:08.274889",
     "status": "completed"
    },
    "tags": []
   },
   "outputs": [],
   "source": [
    "correct_recipes, total_recipes = recipe_statistics(model, converter, test_data, 4)"
   ]
  },
  {
   "cell_type": "code",
   "execution_count": 33,
   "id": "b121c65e",
   "metadata": {
    "execution": {
     "iopub.execute_input": "2022-03-24T13:01:13.089759Z",
     "iopub.status.busy": "2022-03-24T13:01:13.088928Z",
     "iopub.status.idle": "2022-03-24T13:01:13.560104Z",
     "shell.execute_reply": "2022-03-24T13:01:13.560709Z",
     "shell.execute_reply.started": "2022-03-24T12:24:22.381734Z"
    },
    "papermill": {
     "duration": 0.584926,
     "end_time": "2022-03-24T13:01:13.560901",
     "exception": false,
     "start_time": "2022-03-24T13:01:12.975975",
     "status": "completed"
    },
    "tags": []
   },
   "outputs": [
    {
     "data": {
      "image/png": "[encoded data removed]",
      "text/plain": [
       "<Figure size 640x480 with 1 Axes>"
      ]
     },
     "metadata": {},
     "output_type": "display_data"
    },
    {
     "data": {
      "image/png": "[encoded data removed]",
      "text/plain": [
       "<Figure size 640x480 with 1 Axes>"
      ]
     },
     "metadata": {},
     "output_type": "display_data"
    }
   ],
   "source": [
    "plot_recipe_statistics(correct_recipes)\n",
    "plot_recipe_statistics(correct_recipes, total_recipes)"
   ]
  },
  {
   "cell_type": "code",
   "execution_count": null,
   "id": "d233810b",
   "metadata": {
    "papermill": {
     "duration": 0.108227,
     "end_time": "2022-03-24T13:01:13.778268",
     "exception": false,
     "start_time": "2022-03-24T13:01:13.670041",
     "status": "completed"
    },
    "tags": []
   },
   "outputs": [],
   "source": []
  }
 ],
 "metadata": {
  "kernelspec": {
   "display_name": "Python 3",
   "language": "python",
   "name": "python3"
  },
  "language_info": {
   "codemirror_mode": {
    "name": "ipython",
    "version": 3
   },
   "file_extension": ".py",
   "mimetype": "text/x-python",
   "name": "python",
   "nbconvert_exporter": "python",
   "pygments_lexer": "ipython3",
   "version": "3.7.12"
  },
  "papermill": {
   "default_parameters": {},
   "duration": 290.382877,
   "end_time": "2022-03-24T13:01:15.104370",
   "environment_variables": {},
   "exception": null,
   "input_path": "__notebook__.ipynb",
   "output_path": "__notebook__.ipynb",
   "parameters": {},
   "start_time": "2022-03-24T12:56:24.721493",
   "version": "2.3.3"
  }
 },
 "nbformat": 4,
 "nbformat_minor": 5
}
