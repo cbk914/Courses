{
 "cells": [
  {
   "cell_type": "code",
   "execution_count": 1,
   "id": "3c9922ef",
   "metadata": {
    "execution": {
     "iopub.execute_input": "2022-04-15T08:40:17.872197Z",
     "iopub.status.busy": "2022-04-15T08:40:17.871398Z",
     "iopub.status.idle": "2022-04-15T08:40:17.875797Z",
     "shell.execute_reply": "2022-04-15T08:40:17.875311Z",
     "shell.execute_reply.started": "2022-04-15T07:45:08.615951Z"
    },
    "papermill": {
     "duration": 0.095461,
     "end_time": "2022-04-15T08:40:17.875927",
     "exception": false,
     "start_time": "2022-04-15T08:40:17.780466",
     "status": "completed"
    },
    "tags": []
   },
   "outputs": [],
   "source": [
    "# This Python 3 environment comes with many helpful analytics libraries installed\n",
    "# It is defined by the kaggle/python Docker image: https://github.com/kaggle/docker-python\n",
    "# For example, here's several helpful packages to load\n",
    "\n",
    "import numpy as np # linear algebra\n",
    "import pandas as pd # data processing, CSV file I/O (e.g. pd.read_csv)\n",
    "\n",
    "# Input data files are available in the read-only \"../input/\" directory\n",
    "# For example, running this (by clicking run or pressing Shift+Enter) will list all files under the input directory\n",
    "\n",
    "import os\n",
    "for dirname, _, filenames in os.walk('/kaggle/input'):\n",
    "    for filename in filenames:\n",
    "        print(os.path.join(dirname, filename))\n",
    "\n",
    "# You can write up to 20GB to the current directory (/kaggle/working/) that gets preserved as output when you create a version using \"Save & Run All\" \n",
    "# You can also write temporary files to /kaggle/temp/, but they won't be saved outside of the current session"
   ]
  },
  {
   "cell_type": "raw",
   "id": "00237f9e",
   "metadata": {
    "execution": {
     "iopub.execute_input": "2022-04-07T10:55:25.68431Z",
     "iopub.status.busy": "2022-04-07T10:55:25.683762Z",
     "iopub.status.idle": "2022-04-07T10:55:25.702314Z",
     "shell.execute_reply": "2022-04-07T10:55:25.701663Z",
     "shell.execute_reply.started": "2022-04-07T10:55:25.684205Z"
    },
    "papermill": {
     "duration": 0.077797,
     "end_time": "2022-04-15T08:40:18.032317",
     "exception": false,
     "start_time": "2022-04-15T08:40:17.954520",
     "status": "completed"
    },
    "tags": []
   },
   "source": [
    "За основу взят код урока \"6 - Attention is All You Need\" из серии https://github.com/bentrevett/pytorch-seq2seq"
   ]
  },
  {
   "cell_type": "raw",
   "id": "096da86c",
   "metadata": {
    "papermill": {
     "duration": 0.078472,
     "end_time": "2022-04-15T08:40:18.189516",
     "exception": false,
     "start_time": "2022-04-15T08:40:18.111044",
     "status": "completed"
    },
    "tags": []
   },
   "source": [
    "Домашнее задание №2.\n",
    "\n",
    "Итоговые задания для меня:\n",
    "    + дополнить сопроводительные текстовки всем необходимым из предыдущих уроков серии лекций исходника \n",
    "      github.com/bentrevett/pytorch-seq2seq (там код seq2seq описывался и усложнялся поэтапно, от урока к\n",
    "      уроку, описания, которые уже были даны в раних уроках, не дублировались в последующих), кроме того,\n",
    "      добиться отображения изображений, которые были приведены в исходниках статей\n",
    "    + выводить больше примеров после обучения, например train/val/test -> 5/5/10 (сделать до Save Version)\n",
    "    + Save Version текущего baseline со всеми его выводами для исходного датасета Multi30k DE->EN\n",
    "    + найти и подготовить датасет для задачи RU<->EN\n",
    "        + найти подходящий на первый взгляд датасет\n",
    "        + предварительно нормализовать/почистить его\n",
    "            + токенизировать, проанализировать выбросы по длине токенов (обоих язаыков), убрать\n",
    "              явные выбросы (например более 20-30 токенов)\n",
    "            + проаинализировать разныцы в количествах токенов параллельных предложений, убрать явные выбросы\n",
    "              например если разница более чем в 2 раза (порог определить визуально на основе примеров)\n",
    "            + проанализировать на предмет минимального количества токенов, визуально посмотреть примеры, \n",
    "              принять решение об их использовании\n",
    "            + выяснилось, что достаточно много коротких предложений (слов) обернутых в скобки, \n",
    "              проанализировать (лучше на ранней стадии) - принято решение удалить такие строки, т.к. с ними \n",
    "              не все просто, и они как бы вырваны из контекста\n",
    "            + удалить дубликаты (лучше на ранней стадии, после удаления скобок)\n",
    "            + проверить RU предложения на наличие английских символов\n",
    "            + сохранить исходный очищенный датасет с разбивкой на train/val/test в .csv для дальнейшей работы\n",
    "    + детально разобраться и понять код семинара, где нужно, добавить соответсвующие комментарии, в т.ч.:\n",
    "        + понять смысл сlip gradient\n",
    "        + понять смысл метрики BLEU\n",
    "    + запустить baseline на новом датасете RU<->EN (скорей всего в обе стороны), проинализировать результаты\n",
    "    + добавить в итоговый вывод несколько своих собственных примеров (переводов фраз, предложений и т.д.)\n",
    "    + добавить в вывод метрик при обучении норму градиента (до и после clip) = добавил до, после нет смысла\n",
    "      т.к. = clip, если изначально его превышает\n",
    "      превышает его\n",
    "    + для ускорения подсчета bleu, попробовать:\n",
    "         + (проверил, это не дает ускорения) увеличить для него батч (например в 3 раза в сравнении с основным, \n",
    "           или более)\n",
    "         + убрать добавленный доп расчет score через nltk (т.к. по факту я получаю аналогичные значения score)\n",
    "         + если не удастся добиться существенного ускорения, то оставить 5% на\n",
    "    - поэкспериментировать с параметрами, постараться улучшить результаты baseline и в целом, постараться \n",
    "      добиться адекватных результатов, которые хоть как то можно применять на практике:\n",
    "         + множество неверных токенизаций в словах с апострофом (на английском), например 'ca', \"n't\" и т.п\n",
    "           разобраться = как оказалось, так работает spacy токенайзер, т.е. он разбивает подобные сокращения\n",
    "           на 2 токена = проверил на практике изменив токенизацию, оказалось, что модель дает более лучшие \n",
    "           результаты с токенизацией по умолчанию (т.е. с 'ca', \"n't\" и т.п)\n",
    "         + возможно разобраться с преложениями в который используются единичные токены (т.е. встречающиеся \n",
    "           в корпусе единожды), они во превых не попадают в словарь и при их большом количестве, получаем \n",
    "           много <unk>, так же это могут быть слова с опечатками = проанализировал, в целом,  ошибочных\n",
    "           слов не так уж и много, в большинстве случаев это нормальные слова (особенно касается RU \n",
    "           с множеством словоформ), просто встретившиеся единоджы в используемом датасете (с учетом размера\n",
    "           датасета, это вполне нормально); итого, с учетом того, что сейчас я не наблюдаю выраженной \n",
    "           тенденции на предсказывание многих <unk> токенов, решено не убирать из датасета предложения с\n",
    "           такими словами, т.к. их количество ~100 тыс, и на соседних с ними словах, модель вполне учится \n",
    "           чему то полезному (на существенно бОльшем датасете это имело бы смысл);\n",
    "         + процесс построения словаря, может быть, нужно поварьировать параметры min_freq, max_freq = \n",
    "           решено этого не делать, т.к. выставлены значения 2, и результаты модели при них достаточно \n",
    "           вменяемые, снизив показатели, получим опечатки и совсем уникальные токены, повысив, скорей всего\n",
    "           ухудшим показатели, т.к. это бы имело смысл на гораздо больших датасетах (p.s. на практике не \n",
    "           проверял)\n",
    "         o при токенизации попробовать включить в токенизацию пробелы отдельным токеном (как у меня это было \n",
    "           в одной из предыдущих задач, найти в какой) = решил пока этого не делать, т.к. получены вменяемые\n",
    "           результаты\n",
    "         + возможно при обработке датасета ограничить макс длину токенов с 30 до 20 (но предварительно оценить \n",
    "           целесообразность, сколько потеряем и т.п.) = решено что в этом нет необходимости\n",
    "         + очень может быть, что упорядоченность батчей по длине предложений (всегда в начале эпохи длина \n",
    "           наименьшая, а в конце наибольшая), сказывается на итоговых весах, так наблюдается, что модель даже \n",
    "           на для коротких предложений на исходном языке, выдет длинные (часто с повторениями) итоговые = \n",
    "           действительно, предположение оказалось верным, убрал упорядочивание, модель стала работать \n",
    "           существенно лучше, склонность к длинным предложениям ушла (взять на заметку)\n",
    "    o (пока решил не делать) возможно запустить baseline'ы c предыдущих уроков 4 - RNN, 5 - CNN на датасете\n",
    "      RU<->EN, сравнить результаты с полученными бейзлайнами на исходном датасете DE->EN (в плане того, какая \n",
    "      модель лучше)\n",
    "\n",
    "Примечания:\n",
    "- за основу взят код урока \"6 - Attention is All You Need\" из серии https://github.com/bentrevett/pytorch-seq2seq\n",
    "- в качестве идеи (не для текущего урока, а в общем), неплохо было бы каким то образом сформировать эмбеддинг \n",
    "  представление общее, не зависящее от языков (например как то получая их сразу из многих языков), т.е. своего\n",
    "  рода ядро, суть понятий, объектов и т.д., качественно иной уровень, по аналогии с мыслями образами, без слов"
   ]
  },
  {
   "cell_type": "markdown",
   "id": "7d1a3746",
   "metadata": {
    "papermill": {
     "duration": 0.080918,
     "end_time": "2022-04-15T08:40:18.348768",
     "exception": false,
     "start_time": "2022-04-15T08:40:18.267850",
     "status": "completed"
    },
    "tags": []
   },
   "source": [
    "# 6 - Attention is All You Need\n",
    "\n",
    "In this notebook we will be implementing a (slightly modified version) of the Transformer model from the [Attention is All You Need](https://arxiv.org/abs/1706.03762) paper. All images in this notebook will be taken from the Transformer paper. For more information about the Transformer, [see](https://www.mihaileric.com/posts/transformers-attention-in-disguise/) [these](https://jalammar.github.io/illustrated-transformer/) [three](http://nlp.seas.harvard.edu/2018/04/03/attention.html) articles.\n",
    "\n",
    "![](https://github.com/bentrevett/pytorch-seq2seq/raw/49df8404d938a6edbf729876405558cc2c2b3013//assets/transformer1.png)\n",
    "\n",
    "## Introduction\n",
    "\n",
    "Similar to the Convolutional Sequence-to-Sequence model, the Transformer does not use any recurrence. It also does not use any convolutional layers. Instead the model is entirely made up of linear layers, attention mechanisms and normalization. \n",
    "\n",
    "As of January 2020, Transformers are the dominant architecture in NLP and are used to achieve state-of-the-art results for many tasks and it appears as if they will be for the near future. \n",
    "\n",
    "The most popular Transformer variant is [BERT](https://arxiv.org/abs/1810.04805) (**B**idirectional **E**ncoder **R**epresentations from **T**ransformers) and pre-trained versions of BERT are commonly used to replace the embedding layers - if not more - in NLP models. \n",
    "\n",
    "A common library used when dealing with pre-trained transformers is the [Transformers](https://huggingface.co/transformers/) library, see [here](https://huggingface.co/transformers/pretrained_models.html) for a list of all pre-trained models available.\n",
    "\n",
    "The differences between the implementation in this notebook and the paper are:\n",
    "- we use a learned positional encoding instead of a static one\n",
    "- we use the standard Adam optimizer with a static learning rate instead of one with warm-up and cool-down steps\n",
    "- we do not use label smoothing\n",
    "\n",
    "We make all of these changes as they closely follow BERT's set-up and the majority of Transformer variants use a similar set-up."
   ]
  },
  {
   "cell_type": "markdown",
   "id": "ff01e7dd",
   "metadata": {
    "papermill": {
     "duration": 0.077887,
     "end_time": "2022-04-15T08:40:18.505050",
     "exception": false,
     "start_time": "2022-04-15T08:40:18.427163",
     "status": "completed"
    },
    "tags": []
   },
   "source": [
    "## Preparing the Data\n",
    "\n",
    "As always, let's import all the required modules and set the random seeds for reproducability."
   ]
  },
  {
   "cell_type": "code",
   "execution_count": 2,
   "id": "848934f7",
   "metadata": {
    "execution": {
     "iopub.execute_input": "2022-04-15T08:40:18.666870Z",
     "iopub.status.busy": "2022-04-15T08:40:18.666214Z",
     "iopub.status.idle": "2022-04-15T08:40:28.882933Z",
     "shell.execute_reply": "2022-04-15T08:40:28.883669Z",
     "shell.execute_reply.started": "2022-04-15T07:45:08.684449Z"
    },
    "papermill": {
     "duration": 10.300536,
     "end_time": "2022-04-15T08:40:28.883902",
     "exception": false,
     "start_time": "2022-04-15T08:40:18.583366",
     "status": "completed"
    },
    "tags": []
   },
   "outputs": [],
   "source": [
    "import torch\n",
    "import torch.nn as nn\n",
    "import torch.optim as optim\n",
    "\n",
    "import torchtext\n",
    "#from torchtext.legacy.datasets import Multi30k\n",
    "from torchtext.legacy.data import Field, TabularDataset, BucketIterator, Iterator\n",
    "\n",
    "import matplotlib.pyplot as plt\n",
    "import matplotlib.ticker as ticker\n",
    "\n",
    "import spacy\n",
    "import numpy as np\n",
    "\n",
    "import random\n",
    "import math\n",
    "import time"
   ]
  },
  {
   "cell_type": "code",
   "execution_count": 3,
   "id": "eb1ac896",
   "metadata": {
    "execution": {
     "iopub.execute_input": "2022-04-15T08:40:29.156720Z",
     "iopub.status.busy": "2022-04-15T08:40:29.154546Z",
     "iopub.status.idle": "2022-04-15T08:40:29.158919Z",
     "shell.execute_reply": "2022-04-15T08:40:29.159487Z",
     "shell.execute_reply.started": "2022-04-15T07:45:19.035111Z"
    },
    "papermill": {
     "duration": 0.136696,
     "end_time": "2022-04-15T08:40:29.159688",
     "exception": false,
     "start_time": "2022-04-15T08:40:29.022992",
     "status": "completed"
    },
    "tags": []
   },
   "outputs": [],
   "source": [
    "SEED = 1234\n",
    "\n",
    "random.seed(SEED)\n",
    "np.random.seed(SEED)\n",
    "torch.manual_seed(SEED)\n",
    "torch.cuda.manual_seed(SEED)\n",
    "torch.backends.cudnn.deterministic = True"
   ]
  },
  {
   "cell_type": "markdown",
   "id": "99511bde",
   "metadata": {
    "papermill": {
     "duration": 0.13053,
     "end_time": "2022-04-15T08:40:29.419169",
     "exception": false,
     "start_time": "2022-04-15T08:40:29.288639",
     "status": "completed"
    },
    "tags": []
   },
   "source": [
    "We'll then create our tokenizers as before."
   ]
  },
  {
   "cell_type": "code",
   "execution_count": 4,
   "id": "78f6f39d",
   "metadata": {
    "execution": {
     "iopub.execute_input": "2022-04-15T08:40:29.682174Z",
     "iopub.status.busy": "2022-04-15T08:40:29.680717Z",
     "iopub.status.idle": "2022-04-15T08:40:29.682902Z",
     "shell.execute_reply": "2022-04-15T08:40:29.681346Z",
     "shell.execute_reply.started": "2022-04-15T07:45:19.047164Z"
    },
    "papermill": {
     "duration": 0.137153,
     "end_time": "2022-04-15T08:40:29.683072",
     "exception": false,
     "start_time": "2022-04-15T08:40:29.545919",
     "status": "completed"
    },
    "tags": []
   },
   "outputs": [],
   "source": [
    "### Датасет RU<->EN создаем на основе корпуса QED v2.0a с ресурса https://opus.nlpl.eu/"
   ]
  },
  {
   "cell_type": "code",
   "execution_count": 5,
   "id": "ab2fa07b",
   "metadata": {
    "execution": {
     "iopub.execute_input": "2022-04-15T08:40:29.945501Z",
     "iopub.status.busy": "2022-04-15T08:40:29.944785Z",
     "iopub.status.idle": "2022-04-15T08:40:40.492582Z",
     "shell.execute_reply": "2022-04-15T08:40:40.492004Z",
     "shell.execute_reply.started": "2022-04-15T07:45:19.053725Z"
    },
    "papermill": {
     "duration": 10.682209,
     "end_time": "2022-04-15T08:40:40.492733",
     "exception": false,
     "start_time": "2022-04-15T08:40:29.810524",
     "status": "completed"
    },
    "tags": []
   },
   "outputs": [
    {
     "name": "stdout",
     "output_type": "stream",
     "text": [
      "Collecting wget\r\n",
      "  Downloading wget-3.2.zip (10 kB)\r\n",
      "  Preparing metadata (setup.py) ... \u001b[?25l-\b \bdone\r\n",
      "\u001b[?25hBuilding wheels for collected packages: wget\r\n",
      "  Building wheel for wget (setup.py) ... \u001b[?25l-\b \b\\\b \bdone\r\n",
      "\u001b[?25h  Created wheel for wget: filename=wget-3.2-py3-none-any.whl size=9672 sha256=c643cb786f44f813d0803437740e2bae119a689f138c9bd0e0cd46925a18ee9c\r\n",
      "  Stored in directory: /root/.cache/pip/wheels/a1/b6/7c/0e63e34eb06634181c63adacca38b79ff8f35c37e3c13e3c02\r\n",
      "Successfully built wget\r\n",
      "Installing collected packages: wget\r\n",
      "Successfully installed wget-3.2\r\n",
      "\u001b[33mWARNING: Running pip as the 'root' user can result in broken permissions and conflicting behaviour with the system package manager. It is recommended to use a virtual environment instead: https://pip.pypa.io/warnings/venv\u001b[0m\r\n"
     ]
    }
   ],
   "source": [
    "!pip3 install wget"
   ]
  },
  {
   "cell_type": "code",
   "execution_count": 6,
   "id": "719bfdac",
   "metadata": {
    "execution": {
     "iopub.execute_input": "2022-04-15T08:40:40.659365Z",
     "iopub.status.busy": "2022-04-15T08:40:40.658583Z",
     "iopub.status.idle": "2022-04-15T08:40:50.763656Z",
     "shell.execute_reply": "2022-04-15T08:40:50.762897Z",
     "shell.execute_reply.started": "2022-04-15T07:45:31.750548Z"
    },
    "papermill": {
     "duration": 10.188797,
     "end_time": "2022-04-15T08:40:50.763795",
     "exception": false,
     "start_time": "2022-04-15T08:40:40.574998",
     "status": "completed"
    },
    "tags": []
   },
   "outputs": [
    {
     "name": "stdout",
     "output_type": "stream",
     "text": [
      "Archive:  corpus.zip\r\n",
      "  inflating: ./stepik-dl-nlp/datasets/OPUS-QED_RU-EN/README  \r\n",
      "  inflating: ./stepik-dl-nlp/datasets/OPUS-QED_RU-EN/LICENSE  \r\n",
      "  inflating: ./stepik-dl-nlp/datasets/OPUS-QED_RU-EN/QED.en-ru.en  \r\n",
      "  inflating: ./stepik-dl-nlp/datasets/OPUS-QED_RU-EN/QED.en-ru.ru  \r\n",
      "  inflating: ./stepik-dl-nlp/datasets/OPUS-QED_RU-EN/QED.en-ru.xml  \r\n",
      "__notebook__.ipynb  stepik-dl-nlp\r\n"
     ]
    }
   ],
   "source": [
    "import zipfile\n",
    "import gensim\n",
    "import wget\n",
    "\n",
    "!mkdir ./stepik-dl-nlp/\n",
    "!mkdir ./stepik-dl-nlp/datasets/\n",
    "!mkdir ./stepik-dl-nlp/datasets/OPUS-QED_RU-EN\n",
    "\n",
    "corpus_url = 'https://object.pouta.csc.fi/OPUS-QED/v2.0a/moses/en-ru.txt.zip'\n",
    "wget.download(corpus_url, \"corpus.zip\")\n",
    "!unzip corpus.zip -d ./stepik-dl-nlp/datasets/OPUS-QED_RU-EN\n",
    "!rm corpus.zip ./stepik-dl-nlp/datasets/OPUS-QED_RU-EN/QED.en-ru.xml\n",
    "!ls"
   ]
  },
  {
   "cell_type": "code",
   "execution_count": 7,
   "id": "d6d4ca32",
   "metadata": {
    "execution": {
     "iopub.execute_input": "2022-04-15T08:40:50.959297Z",
     "iopub.status.busy": "2022-04-15T08:40:50.949940Z",
     "iopub.status.idle": "2022-04-15T08:40:51.563555Z",
     "shell.execute_reply": "2022-04-15T08:40:51.562857Z",
     "shell.execute_reply.started": "2022-04-15T07:45:42.248342Z"
    },
    "papermill": {
     "duration": 0.71632,
     "end_time": "2022-04-15T08:40:51.563697",
     "exception": false,
     "start_time": "2022-04-15T08:40:50.847377",
     "status": "completed"
    },
    "tags": []
   },
   "outputs": [],
   "source": [
    "import pandas as pd\n",
    "import numpy as np\n",
    "\n",
    "with open(\"./stepik-dl-nlp/datasets/OPUS-QED_RU-EN/QED.en-ru.ru\") as file:\n",
    "    lines_ru = [line.rstrip() for line in file]\n",
    "    \n",
    "with open(\"./stepik-dl-nlp/datasets/OPUS-QED_RU-EN/QED.en-ru.en\") as file:\n",
    "    lines_en = [line.rstrip() for line in file]\n",
    "\n",
    "assert len(lines_ru) == len(lines_en)"
   ]
  },
  {
   "cell_type": "code",
   "execution_count": 8,
   "id": "360fefdc",
   "metadata": {
    "execution": {
     "iopub.execute_input": "2022-04-15T08:40:51.766483Z",
     "iopub.status.busy": "2022-04-15T08:40:51.765714Z",
     "iopub.status.idle": "2022-04-15T08:40:53.777055Z",
     "shell.execute_reply": "2022-04-15T08:40:53.776101Z",
     "shell.execute_reply.started": "2022-04-15T07:45:42.969200Z"
    },
    "papermill": {
     "duration": 2.130071,
     "end_time": "2022-04-15T08:40:53.777211",
     "exception": false,
     "start_time": "2022-04-15T08:40:51.647140",
     "status": "completed"
    },
    "tags": []
   },
   "outputs": [],
   "source": [
    "# выяснилось, что достаточно много коротких предложений (слов) обернутых в скобки, \n",
    "# проанализировать (лучше на ранней стадии) - принято решение удалить такие строки, т.к. с ними \n",
    "# не все просто, и они как бы вырваны из контекста (урезал до того, что убираю все примеры, если \n",
    "# началом фразы на одном из языков выступает \"(\")\n",
    "# заодно удаляем дубликаты через set\n",
    "lines_en, lines_ru = zip(*set([(line_en, line_ru) for line_en, line_ru in zip(lines_en, lines_ru) \\\n",
    "                               if line_en[0] != '(' and line_ru[0] != '(']))"
   ]
  },
  {
   "cell_type": "code",
   "execution_count": 9,
   "id": "ceae3cd4",
   "metadata": {
    "execution": {
     "iopub.execute_input": "2022-04-15T08:40:54.062974Z",
     "iopub.status.busy": "2022-04-15T08:40:54.027352Z",
     "iopub.status.idle": "2022-04-15T08:41:00.279373Z",
     "shell.execute_reply": "2022-04-15T08:41:00.278865Z",
     "shell.execute_reply.started": "2022-04-15T07:45:45.070143Z"
    },
    "papermill": {
     "duration": 6.418428,
     "end_time": "2022-04-15T08:41:00.279513",
     "exception": false,
     "start_time": "2022-04-15T08:40:53.861085",
     "status": "completed"
    },
    "tags": []
   },
   "outputs": [],
   "source": [
    "#проверить RU предложения на наличие английских символов и наоборот\n",
    "import re\n",
    "lines_en, lines_ru = zip(*set([(line_en, line_ru) for line_en, line_ru in zip(lines_en, lines_ru) \\\n",
    "                               if not re.search(r'\\b[a-zA-Z]+\\b', line_ru)]))\n",
    "lines_en, lines_ru = zip(*set([(line_en, line_ru) for line_en, line_ru in zip(lines_en, lines_ru) \\\n",
    "                               if not re.search(r'\\b[а-яА-ЯёЁ]+\\b', line_en)]))"
   ]
  },
  {
   "cell_type": "code",
   "execution_count": 10,
   "id": "e8626cf8",
   "metadata": {
    "execution": {
     "iopub.execute_input": "2022-04-15T08:41:00.458836Z",
     "iopub.status.busy": "2022-04-15T08:41:00.458074Z",
     "iopub.status.idle": "2022-04-15T08:41:04.139001Z",
     "shell.execute_reply": "2022-04-15T08:41:04.138549Z",
     "shell.execute_reply.started": "2022-04-15T07:45:52.323887Z"
    },
    "papermill": {
     "duration": 3.776349,
     "end_time": "2022-04-15T08:41:04.139176",
     "exception": false,
     "start_time": "2022-04-15T08:41:00.362827",
     "status": "completed"
    },
    "tags": []
   },
   "outputs": [],
   "source": [
    "#удаляем строки со всякими странными/пограничными символами (жестко задаем набор символов, которые ожидаем)\n",
    "lines_en, lines_ru = zip(*set([(line_en, line_ru) for line_en, line_ru in zip(lines_en, lines_ru) \\\n",
    "                               if not re.search(r'[^a-zA-Zа-яА-ЯёЁ\\s\\d\\.\\?!\\:\\-—,\"`\\']', line_en + line_ru)]))"
   ]
  },
  {
   "cell_type": "code",
   "execution_count": 11,
   "id": "31b148e4",
   "metadata": {
    "execution": {
     "iopub.execute_input": "2022-04-15T08:41:04.324574Z",
     "iopub.status.busy": "2022-04-15T08:41:04.323793Z",
     "iopub.status.idle": "2022-04-15T08:41:04.545891Z",
     "shell.execute_reply": "2022-04-15T08:41:04.546345Z",
     "shell.execute_reply.started": "2022-04-15T07:45:56.125542Z"
    },
    "papermill": {
     "duration": 0.32432,
     "end_time": "2022-04-15T08:41:04.546499",
     "exception": false,
     "start_time": "2022-04-15T08:41:04.222179",
     "status": "completed"
    },
    "tags": []
   },
   "outputs": [
    {
     "data": {
      "text/html": [
       "<div>\n",
       "<style scoped>\n",
       "    .dataframe tbody tr th:only-of-type {\n",
       "        vertical-align: middle;\n",
       "    }\n",
       "\n",
       "    .dataframe tbody tr th {\n",
       "        vertical-align: top;\n",
       "    }\n",
       "\n",
       "    .dataframe thead th {\n",
       "        text-align: right;\n",
       "    }\n",
       "</style>\n",
       "<table border=\"1\" class=\"dataframe\">\n",
       "  <thead>\n",
       "    <tr style=\"text-align: right;\">\n",
       "      <th></th>\n",
       "      <th>EN</th>\n",
       "      <th>RU</th>\n",
       "    </tr>\n",
       "  </thead>\n",
       "  <tbody>\n",
       "    <tr>\n",
       "      <th>0</th>\n",
       "      <td>Is it still two types of countries?</td>\n",
       "      <td>Правы ли студенты?</td>\n",
       "    </tr>\n",
       "    <tr>\n",
       "      <th>1</th>\n",
       "      <td>Do you call it the bailout of Greece or the ba...</td>\n",
       "      <td>Стоит ли говорить про вывод из кризиса Греции ...</td>\n",
       "    </tr>\n",
       "    <tr>\n",
       "      <th>2</th>\n",
       "      <td>The king cobra is quite remarkable for several...</td>\n",
       "      <td>Королевская кобра является очень удивительным ...</td>\n",
       "    </tr>\n",
       "    <tr>\n",
       "      <th>3</th>\n",
       "      <td>This is Siberian Actinobacteria, which is betw...</td>\n",
       "      <td>Это сибирские актиномицеты, которым от 400 тыс...</td>\n",
       "    </tr>\n",
       "    <tr>\n",
       "      <th>4</th>\n",
       "      <td>You can do something about that too.</td>\n",
       "      <td>В этом случае вы тоже можете помочь.</td>\n",
       "    </tr>\n",
       "    <tr>\n",
       "      <th>...</th>\n",
       "      <td>...</td>\n",
       "      <td>...</td>\n",
       "    </tr>\n",
       "    <tr>\n",
       "      <th>444809</th>\n",
       "      <td>This guy, that looks incredibly formal, in a way.</td>\n",
       "      <td>Этот серьёзный парень куда-то спешит.</td>\n",
       "    </tr>\n",
       "    <tr>\n",
       "      <th>444810</th>\n",
       "      <td>There's a sea change happening in how -- where...</td>\n",
       "      <td>Происходят значительные изменения в способе их...</td>\n",
       "    </tr>\n",
       "    <tr>\n",
       "      <th>444811</th>\n",
       "      <td>These are shrinking even further.</td>\n",
       "      <td>Эти устройства становятся ещё меньше.</td>\n",
       "    </tr>\n",
       "    <tr>\n",
       "      <th>444812</th>\n",
       "      <td>Again, we can make the sails of different shape.</td>\n",
       "      <td>Опять же, мы можем сделать паруса разной формы.</td>\n",
       "    </tr>\n",
       "    <tr>\n",
       "      <th>444813</th>\n",
       "      <td>I've invited you a hundred times.</td>\n",
       "      <td>Сто раз ведь звала.</td>\n",
       "    </tr>\n",
       "  </tbody>\n",
       "</table>\n",
       "<p>444814 rows × 2 columns</p>\n",
       "</div>"
      ],
      "text/plain": [
       "                                                       EN  \\\n",
       "0                     Is it still two types of countries?   \n",
       "1       Do you call it the bailout of Greece or the ba...   \n",
       "2       The king cobra is quite remarkable for several...   \n",
       "3       This is Siberian Actinobacteria, which is betw...   \n",
       "4                    You can do something about that too.   \n",
       "...                                                   ...   \n",
       "444809  This guy, that looks incredibly formal, in a way.   \n",
       "444810  There's a sea change happening in how -- where...   \n",
       "444811                  These are shrinking even further.   \n",
       "444812   Again, we can make the sails of different shape.   \n",
       "444813                  I've invited you a hundred times.   \n",
       "\n",
       "                                                       RU  \n",
       "0                                      Правы ли студенты?  \n",
       "1       Стоит ли говорить про вывод из кризиса Греции ...  \n",
       "2       Королевская кобра является очень удивительным ...  \n",
       "3       Это сибирские актиномицеты, которым от 400 тыс...  \n",
       "4                    В этом случае вы тоже можете помочь.  \n",
       "...                                                   ...  \n",
       "444809              Этот серьёзный парень куда-то спешит.  \n",
       "444810  Происходят значительные изменения в способе их...  \n",
       "444811              Эти устройства становятся ещё меньше.  \n",
       "444812    Опять же, мы можем сделать паруса разной формы.  \n",
       "444813                                Сто раз ведь звала.  \n",
       "\n",
       "[444814 rows x 2 columns]"
      ]
     },
     "execution_count": 11,
     "metadata": {},
     "output_type": "execute_result"
    }
   ],
   "source": [
    "#pd.options.display.max_colwidth = 120\n",
    "df_corpus = pd.DataFrame(data={'EN': lines_en, 'RU': lines_ru})\n",
    "df_corpus"
   ]
  },
  {
   "cell_type": "code",
   "execution_count": 12,
   "id": "eb9695d1",
   "metadata": {
    "execution": {
     "iopub.execute_input": "2022-04-15T08:41:04.716950Z",
     "iopub.status.busy": "2022-04-15T08:41:04.716247Z",
     "iopub.status.idle": "2022-04-15T08:41:46.809039Z",
     "shell.execute_reply": "2022-04-15T08:41:46.808410Z",
     "shell.execute_reply.started": "2022-04-15T07:45:56.501919Z"
    },
    "papermill": {
     "duration": 42.180132,
     "end_time": "2022-04-15T08:41:46.809204",
     "exception": false,
     "start_time": "2022-04-15T08:41:04.629072",
     "status": "completed"
    },
    "tags": []
   },
   "outputs": [
    {
     "name": "stdout",
     "output_type": "stream",
     "text": [
      "Collecting en-core-web-sm==3.2.0\r\n",
      "  Downloading https://github.com/explosion/spacy-models/releases/download/en_core_web_sm-3.2.0/en_core_web_sm-3.2.0-py3-none-any.whl (13.9 MB)\r\n",
      "     |████████████████████████████████| 13.9 MB 7.5 MB/s            \r\n",
      "\u001b[?25hRequirement already satisfied: spacy<3.3.0,>=3.2.0 in /opt/conda/lib/python3.7/site-packages (from en-core-web-sm==3.2.0) (3.2.3)\r\n",
      "Requirement already satisfied: srsly<3.0.0,>=2.4.1 in /opt/conda/lib/python3.7/site-packages (from spacy<3.3.0,>=3.2.0->en-core-web-sm==3.2.0) (2.4.2)\r\n",
      "Requirement already satisfied: setuptools in /opt/conda/lib/python3.7/site-packages (from spacy<3.3.0,>=3.2.0->en-core-web-sm==3.2.0) (59.5.0)\r\n",
      "Requirement already satisfied: spacy-legacy<3.1.0,>=3.0.8 in /opt/conda/lib/python3.7/site-packages (from spacy<3.3.0,>=3.2.0->en-core-web-sm==3.2.0) (3.0.9)\r\n",
      "Requirement already satisfied: numpy>=1.15.0 in /opt/conda/lib/python3.7/site-packages (from spacy<3.3.0,>=3.2.0->en-core-web-sm==3.2.0) (1.20.3)\r\n",
      "Requirement already satisfied: spacy-loggers<2.0.0,>=1.0.0 in /opt/conda/lib/python3.7/site-packages (from spacy<3.3.0,>=3.2.0->en-core-web-sm==3.2.0) (1.0.1)\r\n",
      "Requirement already satisfied: preshed<3.1.0,>=3.0.2 in /opt/conda/lib/python3.7/site-packages (from spacy<3.3.0,>=3.2.0->en-core-web-sm==3.2.0) (3.0.6)\r\n",
      "Requirement already satisfied: requests<3.0.0,>=2.13.0 in /opt/conda/lib/python3.7/site-packages (from spacy<3.3.0,>=3.2.0->en-core-web-sm==3.2.0) (2.26.0)\r\n",
      "Requirement already satisfied: thinc<8.1.0,>=8.0.12 in /opt/conda/lib/python3.7/site-packages (from spacy<3.3.0,>=3.2.0->en-core-web-sm==3.2.0) (8.0.15)\r\n",
      "Requirement already satisfied: jinja2 in /opt/conda/lib/python3.7/site-packages (from spacy<3.3.0,>=3.2.0->en-core-web-sm==3.2.0) (3.0.3)\r\n",
      "Requirement already satisfied: typer<0.5.0,>=0.3.0 in /opt/conda/lib/python3.7/site-packages (from spacy<3.3.0,>=3.2.0->en-core-web-sm==3.2.0) (0.4.0)\r\n",
      "Requirement already satisfied: wasabi<1.1.0,>=0.8.1 in /opt/conda/lib/python3.7/site-packages (from spacy<3.3.0,>=3.2.0->en-core-web-sm==3.2.0) (0.9.0)\r\n",
      "Requirement already satisfied: pathy>=0.3.5 in /opt/conda/lib/python3.7/site-packages (from spacy<3.3.0,>=3.2.0->en-core-web-sm==3.2.0) (0.6.1)\r\n",
      "Requirement already satisfied: catalogue<2.1.0,>=2.0.6 in /opt/conda/lib/python3.7/site-packages (from spacy<3.3.0,>=3.2.0->en-core-web-sm==3.2.0) (2.0.6)\r\n",
      "Requirement already satisfied: cymem<2.1.0,>=2.0.2 in /opt/conda/lib/python3.7/site-packages (from spacy<3.3.0,>=3.2.0->en-core-web-sm==3.2.0) (2.0.6)\r\n",
      "Requirement already satisfied: pydantic!=1.8,!=1.8.1,<1.9.0,>=1.7.4 in /opt/conda/lib/python3.7/site-packages (from spacy<3.3.0,>=3.2.0->en-core-web-sm==3.2.0) (1.8.2)\r\n",
      "Requirement already satisfied: langcodes<4.0.0,>=3.2.0 in /opt/conda/lib/python3.7/site-packages (from spacy<3.3.0,>=3.2.0->en-core-web-sm==3.2.0) (3.3.0)\r\n",
      "Requirement already satisfied: blis<0.8.0,>=0.4.0 in /opt/conda/lib/python3.7/site-packages (from spacy<3.3.0,>=3.2.0->en-core-web-sm==3.2.0) (0.7.6)\r\n",
      "Requirement already satisfied: murmurhash<1.1.0,>=0.28.0 in /opt/conda/lib/python3.7/site-packages (from spacy<3.3.0,>=3.2.0->en-core-web-sm==3.2.0) (1.0.6)\r\n",
      "Requirement already satisfied: tqdm<5.0.0,>=4.38.0 in /opt/conda/lib/python3.7/site-packages (from spacy<3.3.0,>=3.2.0->en-core-web-sm==3.2.0) (4.62.3)\r\n",
      "Requirement already satisfied: packaging>=20.0 in /opt/conda/lib/python3.7/site-packages (from spacy<3.3.0,>=3.2.0->en-core-web-sm==3.2.0) (21.3)\r\n",
      "Collecting typing-extensions<4.0.0.0,>=3.7.4\r\n",
      "  Downloading typing_extensions-3.10.0.2-py3-none-any.whl (26 kB)\r\n",
      "Requirement already satisfied: zipp>=0.5 in /opt/conda/lib/python3.7/site-packages (from catalogue<2.1.0,>=2.0.6->spacy<3.3.0,>=3.2.0->en-core-web-sm==3.2.0) (3.6.0)\r\n",
      "Requirement already satisfied: pyparsing!=3.0.5,>=2.0.2 in /opt/conda/lib/python3.7/site-packages (from packaging>=20.0->spacy<3.3.0,>=3.2.0->en-core-web-sm==3.2.0) (3.0.6)\r\n",
      "Requirement already satisfied: smart-open<6.0.0,>=5.0.0 in /opt/conda/lib/python3.7/site-packages (from pathy>=0.3.5->spacy<3.3.0,>=3.2.0->en-core-web-sm==3.2.0) (5.2.1)\r\n",
      "Requirement already satisfied: charset-normalizer~=2.0.0 in /opt/conda/lib/python3.7/site-packages (from requests<3.0.0,>=2.13.0->spacy<3.3.0,>=3.2.0->en-core-web-sm==3.2.0) (2.0.9)\r\n",
      "Requirement already satisfied: urllib3<1.27,>=1.21.1 in /opt/conda/lib/python3.7/site-packages (from requests<3.0.0,>=2.13.0->spacy<3.3.0,>=3.2.0->en-core-web-sm==3.2.0) (1.26.7)\r\n",
      "Requirement already satisfied: idna<4,>=2.5 in /opt/conda/lib/python3.7/site-packages (from requests<3.0.0,>=2.13.0->spacy<3.3.0,>=3.2.0->en-core-web-sm==3.2.0) (3.1)\r\n",
      "Requirement already satisfied: certifi>=2017.4.17 in /opt/conda/lib/python3.7/site-packages (from requests<3.0.0,>=2.13.0->spacy<3.3.0,>=3.2.0->en-core-web-sm==3.2.0) (2021.10.8)\r\n",
      "Requirement already satisfied: click<9.0.0,>=7.1.1 in /opt/conda/lib/python3.7/site-packages (from typer<0.5.0,>=0.3.0->spacy<3.3.0,>=3.2.0->en-core-web-sm==3.2.0) (8.0.3)\r\n",
      "Requirement already satisfied: MarkupSafe>=2.0 in /opt/conda/lib/python3.7/site-packages (from jinja2->spacy<3.3.0,>=3.2.0->en-core-web-sm==3.2.0) (2.1.1)\r\n",
      "Requirement already satisfied: importlib-metadata in /opt/conda/lib/python3.7/site-packages (from click<9.0.0,>=7.1.1->typer<0.5.0,>=0.3.0->spacy<3.3.0,>=3.2.0->en-core-web-sm==3.2.0) (4.11.3)\r\n",
      "Installing collected packages: typing-extensions\r\n",
      "  Attempting uninstall: typing-extensions\r\n",
      "    Found existing installation: typing-extensions 4.1.1\r\n",
      "    Uninstalling typing-extensions-4.1.1:\r\n",
      "      Successfully uninstalled typing-extensions-4.1.1\r\n",
      "\u001b[31mERROR: pip's dependency resolver does not currently take into account all the packages that are installed. This behaviour is the source of the following dependency conflicts.\r\n",
      "tensorflow-io 0.21.0 requires tensorflow-io-gcs-filesystem==0.21.0, which is not installed.\r\n",
      "explainable-ai-sdk 1.3.2 requires xai-image-widget, which is not installed.\r\n",
      "tensorflow 2.6.2 requires numpy~=1.19.2, but you have numpy 1.20.3 which is incompatible.\r\n",
      "tensorflow 2.6.2 requires six~=1.15.0, but you have six 1.16.0 which is incompatible.\r\n",
      "tensorflow 2.6.2 requires typing-extensions~=3.7.4, but you have typing-extensions 3.10.0.2 which is incompatible.\r\n",
      "tensorflow 2.6.2 requires wrapt~=1.12.1, but you have wrapt 1.13.3 which is incompatible.\r\n",
      "tensorflow-transform 1.5.0 requires absl-py<0.13,>=0.9, but you have absl-py 0.15.0 which is incompatible.\r\n",
      "tensorflow-transform 1.5.0 requires numpy<1.20,>=1.16, but you have numpy 1.20.3 which is incompatible.\r\n",
      "tensorflow-transform 1.5.0 requires pyarrow<6,>=1, but you have pyarrow 6.0.1 which is incompatible.\r\n",
      "tensorflow-transform 1.5.0 requires tensorflow!=2.0.*,!=2.1.*,!=2.2.*,!=2.3.*,!=2.4.*,!=2.5.*,!=2.6.*,<2.8,>=1.15.2, but you have tensorflow 2.6.2 which is incompatible.\r\n",
      "tensorflow-serving-api 2.7.0 requires tensorflow<3,>=2.7.0, but you have tensorflow 2.6.2 which is incompatible.\r\n",
      "flake8 4.0.1 requires importlib-metadata<4.3; python_version < \"3.8\", but you have importlib-metadata 4.11.3 which is incompatible.\r\n",
      "apache-beam 2.34.0 requires dill<0.3.2,>=0.3.1.1, but you have dill 0.3.4 which is incompatible.\r\n",
      "apache-beam 2.34.0 requires httplib2<0.20.0,>=0.8, but you have httplib2 0.20.2 which is incompatible.\r\n",
      "apache-beam 2.34.0 requires pyarrow<6.0.0,>=0.15.1, but you have pyarrow 6.0.1 which is incompatible.\r\n",
      "aioitertools 0.10.0 requires typing_extensions>=4.0; python_version < \"3.10\", but you have typing-extensions 3.10.0.2 which is incompatible.\r\n",
      "aiobotocore 2.1.2 requires botocore<1.23.25,>=1.23.24, but you have botocore 1.24.20 which is incompatible.\u001b[0m\r\n",
      "Successfully installed typing-extensions-3.10.0.2\r\n",
      "\u001b[33mWARNING: Running pip as the 'root' user can result in broken permissions and conflicting behaviour with the system package manager. It is recommended to use a virtual environment instead: https://pip.pypa.io/warnings/venv\u001b[0m\r\n",
      "\u001b[38;5;2m✔ Download and installation successful\u001b[0m\r\n",
      "You can now load the package via spacy.load('en_core_web_sm')\r\n",
      "Collecting ru-core-news-sm==3.2.0\r\n",
      "  Downloading https://github.com/explosion/spacy-models/releases/download/ru_core_news_sm-3.2.0/ru_core_news_sm-3.2.0-py3-none-any.whl (16.4 MB)\r\n",
      "     |████████████████████████████████| 16.4 MB 8.9 MB/s            \r\n",
      "\u001b[?25hRequirement already satisfied: spacy<3.3.0,>=3.2.0 in /opt/conda/lib/python3.7/site-packages (from ru-core-news-sm==3.2.0) (3.2.3)\r\n",
      "Collecting pymorphy2>=0.9\r\n",
      "  Downloading pymorphy2-0.9.1-py3-none-any.whl (55 kB)\r\n",
      "     |████████████████████████████████| 55 kB 748 kB/s            \r\n",
      "\u001b[?25hCollecting pymorphy2-dicts-ru<3.0,>=2.4\r\n",
      "  Downloading pymorphy2_dicts_ru-2.4.417127.4579844-py2.py3-none-any.whl (8.2 MB)\r\n",
      "     |████████████████████████████████| 8.2 MB 1.7 MB/s            \r\n",
      "\u001b[?25hRequirement already satisfied: docopt>=0.6 in /opt/conda/lib/python3.7/site-packages (from pymorphy2>=0.9->ru-core-news-sm==3.2.0) (0.6.2)\r\n",
      "Collecting dawg-python>=0.7.1\r\n",
      "  Downloading DAWG_Python-0.7.2-py2.py3-none-any.whl (11 kB)\r\n",
      "Requirement already satisfied: typer<0.5.0,>=0.3.0 in /opt/conda/lib/python3.7/site-packages (from spacy<3.3.0,>=3.2.0->ru-core-news-sm==3.2.0) (0.4.0)\r\n",
      "Requirement already satisfied: spacy-loggers<2.0.0,>=1.0.0 in /opt/conda/lib/python3.7/site-packages (from spacy<3.3.0,>=3.2.0->ru-core-news-sm==3.2.0) (1.0.1)\r\n",
      "Requirement already satisfied: murmurhash<1.1.0,>=0.28.0 in /opt/conda/lib/python3.7/site-packages (from spacy<3.3.0,>=3.2.0->ru-core-news-sm==3.2.0) (1.0.6)\r\n",
      "Requirement already satisfied: typing-extensions<4.0.0.0,>=3.7.4 in /opt/conda/lib/python3.7/site-packages (from spacy<3.3.0,>=3.2.0->ru-core-news-sm==3.2.0) (3.10.0.2)\r\n",
      "Requirement already satisfied: numpy>=1.15.0 in /opt/conda/lib/python3.7/site-packages (from spacy<3.3.0,>=3.2.0->ru-core-news-sm==3.2.0) (1.20.3)\r\n",
      "Requirement already satisfied: wasabi<1.1.0,>=0.8.1 in /opt/conda/lib/python3.7/site-packages (from spacy<3.3.0,>=3.2.0->ru-core-news-sm==3.2.0) (0.9.0)\r\n",
      "Requirement already satisfied: requests<3.0.0,>=2.13.0 in /opt/conda/lib/python3.7/site-packages (from spacy<3.3.0,>=3.2.0->ru-core-news-sm==3.2.0) (2.26.0)\r\n",
      "Requirement already satisfied: catalogue<2.1.0,>=2.0.6 in /opt/conda/lib/python3.7/site-packages (from spacy<3.3.0,>=3.2.0->ru-core-news-sm==3.2.0) (2.0.6)\r\n",
      "Requirement already satisfied: tqdm<5.0.0,>=4.38.0 in /opt/conda/lib/python3.7/site-packages (from spacy<3.3.0,>=3.2.0->ru-core-news-sm==3.2.0) (4.62.3)\r\n",
      "Requirement already satisfied: blis<0.8.0,>=0.4.0 in /opt/conda/lib/python3.7/site-packages (from spacy<3.3.0,>=3.2.0->ru-core-news-sm==3.2.0) (0.7.6)\r\n",
      "Requirement already satisfied: packaging>=20.0 in /opt/conda/lib/python3.7/site-packages (from spacy<3.3.0,>=3.2.0->ru-core-news-sm==3.2.0) (21.3)\r\n",
      "Requirement already satisfied: srsly<3.0.0,>=2.4.1 in /opt/conda/lib/python3.7/site-packages (from spacy<3.3.0,>=3.2.0->ru-core-news-sm==3.2.0) (2.4.2)\r\n",
      "Requirement already satisfied: pydantic!=1.8,!=1.8.1,<1.9.0,>=1.7.4 in /opt/conda/lib/python3.7/site-packages (from spacy<3.3.0,>=3.2.0->ru-core-news-sm==3.2.0) (1.8.2)\r\n",
      "Requirement already satisfied: pathy>=0.3.5 in /opt/conda/lib/python3.7/site-packages (from spacy<3.3.0,>=3.2.0->ru-core-news-sm==3.2.0) (0.6.1)\r\n",
      "Requirement already satisfied: preshed<3.1.0,>=3.0.2 in /opt/conda/lib/python3.7/site-packages (from spacy<3.3.0,>=3.2.0->ru-core-news-sm==3.2.0) (3.0.6)\r\n",
      "Requirement already satisfied: setuptools in /opt/conda/lib/python3.7/site-packages (from spacy<3.3.0,>=3.2.0->ru-core-news-sm==3.2.0) (59.5.0)\r\n",
      "Requirement already satisfied: thinc<8.1.0,>=8.0.12 in /opt/conda/lib/python3.7/site-packages (from spacy<3.3.0,>=3.2.0->ru-core-news-sm==3.2.0) (8.0.15)\r\n",
      "Requirement already satisfied: jinja2 in /opt/conda/lib/python3.7/site-packages (from spacy<3.3.0,>=3.2.0->ru-core-news-sm==3.2.0) (3.0.3)\r\n",
      "Requirement already satisfied: langcodes<4.0.0,>=3.2.0 in /opt/conda/lib/python3.7/site-packages (from spacy<3.3.0,>=3.2.0->ru-core-news-sm==3.2.0) (3.3.0)\r\n",
      "Requirement already satisfied: spacy-legacy<3.1.0,>=3.0.8 in /opt/conda/lib/python3.7/site-packages (from spacy<3.3.0,>=3.2.0->ru-core-news-sm==3.2.0) (3.0.9)\r\n",
      "Requirement already satisfied: cymem<2.1.0,>=2.0.2 in /opt/conda/lib/python3.7/site-packages (from spacy<3.3.0,>=3.2.0->ru-core-news-sm==3.2.0) (2.0.6)\r\n",
      "Requirement already satisfied: zipp>=0.5 in /opt/conda/lib/python3.7/site-packages (from catalogue<2.1.0,>=2.0.6->spacy<3.3.0,>=3.2.0->ru-core-news-sm==3.2.0) (3.6.0)\r\n",
      "Requirement already satisfied: pyparsing!=3.0.5,>=2.0.2 in /opt/conda/lib/python3.7/site-packages (from packaging>=20.0->spacy<3.3.0,>=3.2.0->ru-core-news-sm==3.2.0) (3.0.6)\r\n",
      "Requirement already satisfied: smart-open<6.0.0,>=5.0.0 in /opt/conda/lib/python3.7/site-packages (from pathy>=0.3.5->spacy<3.3.0,>=3.2.0->ru-core-news-sm==3.2.0) (5.2.1)\r\n",
      "Requirement already satisfied: urllib3<1.27,>=1.21.1 in /opt/conda/lib/python3.7/site-packages (from requests<3.0.0,>=2.13.0->spacy<3.3.0,>=3.2.0->ru-core-news-sm==3.2.0) (1.26.7)\r\n",
      "Requirement already satisfied: charset-normalizer~=2.0.0 in /opt/conda/lib/python3.7/site-packages (from requests<3.0.0,>=2.13.0->spacy<3.3.0,>=3.2.0->ru-core-news-sm==3.2.0) (2.0.9)\r\n",
      "Requirement already satisfied: certifi>=2017.4.17 in /opt/conda/lib/python3.7/site-packages (from requests<3.0.0,>=2.13.0->spacy<3.3.0,>=3.2.0->ru-core-news-sm==3.2.0) (2021.10.8)\r\n",
      "Requirement already satisfied: idna<4,>=2.5 in /opt/conda/lib/python3.7/site-packages (from requests<3.0.0,>=2.13.0->spacy<3.3.0,>=3.2.0->ru-core-news-sm==3.2.0) (3.1)\r\n",
      "Requirement already satisfied: click<9.0.0,>=7.1.1 in /opt/conda/lib/python3.7/site-packages (from typer<0.5.0,>=0.3.0->spacy<3.3.0,>=3.2.0->ru-core-news-sm==3.2.0) (8.0.3)\r\n",
      "Requirement already satisfied: MarkupSafe>=2.0 in /opt/conda/lib/python3.7/site-packages (from jinja2->spacy<3.3.0,>=3.2.0->ru-core-news-sm==3.2.0) (2.1.1)\r\n",
      "Requirement already satisfied: importlib-metadata in /opt/conda/lib/python3.7/site-packages (from click<9.0.0,>=7.1.1->typer<0.5.0,>=0.3.0->spacy<3.3.0,>=3.2.0->ru-core-news-sm==3.2.0) (4.11.3)\r\n",
      "Installing collected packages: pymorphy2-dicts-ru, dawg-python, pymorphy2, ru-core-news-sm\r\n",
      "Successfully installed dawg-python-0.7.2 pymorphy2-0.9.1 pymorphy2-dicts-ru-2.4.417127.4579844 ru-core-news-sm-3.2.0\r\n",
      "\u001b[33mWARNING: Running pip as the 'root' user can result in broken permissions and conflicting behaviour with the system package manager. It is recommended to use a virtual environment instead: https://pip.pypa.io/warnings/venv\u001b[0m\r\n",
      "\u001b[38;5;2m✔ Download and installation successful\u001b[0m\r\n",
      "You can now load the package via spacy.load('ru_core_news_sm')\r\n"
     ]
    }
   ],
   "source": [
    "!python -m spacy download en_core_web_sm\n",
    "!python -m spacy download ru_core_news_sm"
   ]
  },
  {
   "cell_type": "code",
   "execution_count": 13,
   "id": "431b37a0",
   "metadata": {
    "execution": {
     "iopub.execute_input": "2022-04-15T08:41:47.033674Z",
     "iopub.status.busy": "2022-04-15T08:41:47.032848Z",
     "iopub.status.idle": "2022-04-15T08:41:49.502503Z",
     "shell.execute_reply": "2022-04-15T08:41:49.501573Z",
     "shell.execute_reply.started": "2022-04-15T07:46:39.548881Z"
    },
    "papermill": {
     "duration": 2.585666,
     "end_time": "2022-04-15T08:41:49.502654",
     "exception": false,
     "start_time": "2022-04-15T08:41:46.916988",
     "status": "completed"
    },
    "tags": []
   },
   "outputs": [],
   "source": [
    "TRANSLATION_DIRECTION = 'RU->EN' # 'RU->EN' or 'EN->RU'\n",
    "\n",
    "if TRANSLATION_DIRECTION == 'RU->EN':\n",
    "    SPACY_SRC_LOAD = 'ru_core_news_sm'\n",
    "elif TRANSLATION_DIRECTION == 'EN->RU':\n",
    "    SPACY_SRC_LOAD = 'en_core_web_sm'\n",
    "    \n",
    "spacy_ru = spacy.load('ru_core_news_sm')\n",
    "spacy_en = spacy.load('en_core_web_sm')\n",
    "\n",
    "#Изменяем токенизацию слов с апострофами, без этого изменения, spacy будет токенизировать так \"can't\" = [\"ca\", \"n't\"]\n",
    "#к слову, поведение на слова без апострофов (там где они должны быть, но упущены), не измениться и будет \"cant\" = [\"ca\", \"nt\"] \n",
    "#\n",
    "# провел экспеимент, на практике, модель с токенизацией по умолчанию (т.е. can't\" = [\"ca\", \"n't\"]) дает лучшие показатели\n",
    "# spacy_en.tokenizer.rules = {key: value for key, value in spacy_en.tokenizer.rules.items() if \"'\" not in key and \"’\" not in key and \"‘\" not in key}\n",
    "# assert [t.text for t in spacy_en(\"can't\")] == [\"can't\"]"
   ]
  },
  {
   "cell_type": "code",
   "execution_count": 14,
   "id": "697b1567",
   "metadata": {
    "execution": {
     "iopub.execute_input": "2022-04-15T08:41:49.724323Z",
     "iopub.status.busy": "2022-04-15T08:41:49.722720Z",
     "iopub.status.idle": "2022-04-15T08:41:49.724955Z",
     "shell.execute_reply": "2022-04-15T08:41:49.725395Z",
     "shell.execute_reply.started": "2022-04-15T07:46:42.340162Z"
    },
    "papermill": {
     "duration": 0.114969,
     "end_time": "2022-04-15T08:41:49.725531",
     "exception": false,
     "start_time": "2022-04-15T08:41:49.610562",
     "status": "completed"
    },
    "tags": []
   },
   "outputs": [],
   "source": [
    "def tokenize_ru(text):\n",
    "    \"\"\"\n",
    "    Tokenizes Russian text from a string into a list of strings\n",
    "    \"\"\"\n",
    "    return [tok.text for tok in spacy_ru.tokenizer(text)]\n",
    "\n",
    "def tokenize_en(text):\n",
    "    \"\"\"\n",
    "    Tokenizes English text from a string into a list of strings\n",
    "    \"\"\"\n",
    "    return [tok.text for tok in spacy_en.tokenizer(text)]"
   ]
  },
  {
   "cell_type": "code",
   "execution_count": 15,
   "id": "fe5363d9",
   "metadata": {
    "execution": {
     "iopub.execute_input": "2022-04-15T08:41:49.947536Z",
     "iopub.status.busy": "2022-04-15T08:41:49.946731Z",
     "iopub.status.idle": "2022-04-15T08:43:01.882081Z",
     "shell.execute_reply": "2022-04-15T08:43:01.882632Z",
     "shell.execute_reply.started": "2022-04-15T07:46:42.348982Z"
    },
    "papermill": {
     "duration": 72.049799,
     "end_time": "2022-04-15T08:43:01.882844",
     "exception": false,
     "start_time": "2022-04-15T08:41:49.833045",
     "status": "completed"
    },
    "tags": []
   },
   "outputs": [
    {
     "data": {
      "text/html": [
       "<div>\n",
       "<style scoped>\n",
       "    .dataframe tbody tr th:only-of-type {\n",
       "        vertical-align: middle;\n",
       "    }\n",
       "\n",
       "    .dataframe tbody tr th {\n",
       "        vertical-align: top;\n",
       "    }\n",
       "\n",
       "    .dataframe thead th {\n",
       "        text-align: right;\n",
       "    }\n",
       "</style>\n",
       "<table border=\"1\" class=\"dataframe\">\n",
       "  <thead>\n",
       "    <tr style=\"text-align: right;\">\n",
       "      <th></th>\n",
       "      <th>EN</th>\n",
       "      <th>RU</th>\n",
       "      <th>EN_tok</th>\n",
       "      <th>RU_tok</th>\n",
       "      <th>EN_tok_len</th>\n",
       "      <th>RU_tok_len</th>\n",
       "    </tr>\n",
       "  </thead>\n",
       "  <tbody>\n",
       "    <tr>\n",
       "      <th>0</th>\n",
       "      <td>Is it still two types of countries?</td>\n",
       "      <td>Правы ли студенты?</td>\n",
       "      <td>[Is, it, still, two, types, of, countries, ?]</td>\n",
       "      <td>[Правы, ли, студенты, ?]</td>\n",
       "      <td>8</td>\n",
       "      <td>4</td>\n",
       "    </tr>\n",
       "    <tr>\n",
       "      <th>1</th>\n",
       "      <td>Do you call it the bailout of Greece or the ba...</td>\n",
       "      <td>Стоит ли говорить про вывод из кризиса Греции ...</td>\n",
       "      <td>[Do, you, call, it, the, bailout, of, Greece, ...</td>\n",
       "      <td>[Стоит, ли, говорить, про, вывод, из, кризиса,...</td>\n",
       "      <td>22</td>\n",
       "      <td>21</td>\n",
       "    </tr>\n",
       "    <tr>\n",
       "      <th>2</th>\n",
       "      <td>The king cobra is quite remarkable for several...</td>\n",
       "      <td>Королевская кобра является очень удивительным ...</td>\n",
       "      <td>[The, king, cobra, is, quite, remarkable, for,...</td>\n",
       "      <td>[Королевская, кобра, является, очень, удивител...</td>\n",
       "      <td>10</td>\n",
       "      <td>10</td>\n",
       "    </tr>\n",
       "    <tr>\n",
       "      <th>3</th>\n",
       "      <td>This is Siberian Actinobacteria, which is betw...</td>\n",
       "      <td>Это сибирские актиномицеты, которым от 400 тыс...</td>\n",
       "      <td>[This, is, Siberian, Actinobacteria, ,, which,...</td>\n",
       "      <td>[Это, сибирские, актиномицеты, ,, которым, от,...</td>\n",
       "      <td>14</td>\n",
       "      <td>13</td>\n",
       "    </tr>\n",
       "    <tr>\n",
       "      <th>4</th>\n",
       "      <td>You can do something about that too.</td>\n",
       "      <td>В этом случае вы тоже можете помочь.</td>\n",
       "      <td>[You, can, do, something, about, that, too, .]</td>\n",
       "      <td>[В, этом, случае, вы, тоже, можете, помочь, .]</td>\n",
       "      <td>8</td>\n",
       "      <td>8</td>\n",
       "    </tr>\n",
       "    <tr>\n",
       "      <th>...</th>\n",
       "      <td>...</td>\n",
       "      <td>...</td>\n",
       "      <td>...</td>\n",
       "      <td>...</td>\n",
       "      <td>...</td>\n",
       "      <td>...</td>\n",
       "    </tr>\n",
       "    <tr>\n",
       "      <th>444809</th>\n",
       "      <td>This guy, that looks incredibly formal, in a way.</td>\n",
       "      <td>Этот серьёзный парень куда-то спешит.</td>\n",
       "      <td>[This, guy, ,, that, looks, incredibly, formal...</td>\n",
       "      <td>[Этот, серьёзный, парень, куда, -, то, спешит, .]</td>\n",
       "      <td>12</td>\n",
       "      <td>8</td>\n",
       "    </tr>\n",
       "    <tr>\n",
       "      <th>444810</th>\n",
       "      <td>There's a sea change happening in how -- where...</td>\n",
       "      <td>Происходят значительные изменения в способе их...</td>\n",
       "      <td>[There, 's, a, sea, change, happening, in, how...</td>\n",
       "      <td>[Происходят, значительные, изменения, в, спосо...</td>\n",
       "      <td>14</td>\n",
       "      <td>8</td>\n",
       "    </tr>\n",
       "    <tr>\n",
       "      <th>444811</th>\n",
       "      <td>These are shrinking even further.</td>\n",
       "      <td>Эти устройства становятся ещё меньше.</td>\n",
       "      <td>[These, are, shrinking, even, further, .]</td>\n",
       "      <td>[Эти, устройства, становятся, ещё, меньше, .]</td>\n",
       "      <td>6</td>\n",
       "      <td>6</td>\n",
       "    </tr>\n",
       "    <tr>\n",
       "      <th>444812</th>\n",
       "      <td>Again, we can make the sails of different shape.</td>\n",
       "      <td>Опять же, мы можем сделать паруса разной формы.</td>\n",
       "      <td>[Again, ,, we, can, make, the, sails, of, diff...</td>\n",
       "      <td>[Опять, же, ,, мы, можем, сделать, паруса, раз...</td>\n",
       "      <td>11</td>\n",
       "      <td>10</td>\n",
       "    </tr>\n",
       "    <tr>\n",
       "      <th>444813</th>\n",
       "      <td>I've invited you a hundred times.</td>\n",
       "      <td>Сто раз ведь звала.</td>\n",
       "      <td>[I, 've, invited, you, a, hundred, times, .]</td>\n",
       "      <td>[Сто, раз, ведь, звала, .]</td>\n",
       "      <td>8</td>\n",
       "      <td>5</td>\n",
       "    </tr>\n",
       "  </tbody>\n",
       "</table>\n",
       "<p>444814 rows × 6 columns</p>\n",
       "</div>"
      ],
      "text/plain": [
       "                                                       EN  \\\n",
       "0                     Is it still two types of countries?   \n",
       "1       Do you call it the bailout of Greece or the ba...   \n",
       "2       The king cobra is quite remarkable for several...   \n",
       "3       This is Siberian Actinobacteria, which is betw...   \n",
       "4                    You can do something about that too.   \n",
       "...                                                   ...   \n",
       "444809  This guy, that looks incredibly formal, in a way.   \n",
       "444810  There's a sea change happening in how -- where...   \n",
       "444811                  These are shrinking even further.   \n",
       "444812   Again, we can make the sails of different shape.   \n",
       "444813                  I've invited you a hundred times.   \n",
       "\n",
       "                                                       RU  \\\n",
       "0                                      Правы ли студенты?   \n",
       "1       Стоит ли говорить про вывод из кризиса Греции ...   \n",
       "2       Королевская кобра является очень удивительным ...   \n",
       "3       Это сибирские актиномицеты, которым от 400 тыс...   \n",
       "4                    В этом случае вы тоже можете помочь.   \n",
       "...                                                   ...   \n",
       "444809              Этот серьёзный парень куда-то спешит.   \n",
       "444810  Происходят значительные изменения в способе их...   \n",
       "444811              Эти устройства становятся ещё меньше.   \n",
       "444812    Опять же, мы можем сделать паруса разной формы.   \n",
       "444813                                Сто раз ведь звала.   \n",
       "\n",
       "                                                   EN_tok  \\\n",
       "0           [Is, it, still, two, types, of, countries, ?]   \n",
       "1       [Do, you, call, it, the, bailout, of, Greece, ...   \n",
       "2       [The, king, cobra, is, quite, remarkable, for,...   \n",
       "3       [This, is, Siberian, Actinobacteria, ,, which,...   \n",
       "4          [You, can, do, something, about, that, too, .]   \n",
       "...                                                   ...   \n",
       "444809  [This, guy, ,, that, looks, incredibly, formal...   \n",
       "444810  [There, 's, a, sea, change, happening, in, how...   \n",
       "444811          [These, are, shrinking, even, further, .]   \n",
       "444812  [Again, ,, we, can, make, the, sails, of, diff...   \n",
       "444813       [I, 've, invited, you, a, hundred, times, .]   \n",
       "\n",
       "                                                   RU_tok  EN_tok_len  \\\n",
       "0                                [Правы, ли, студенты, ?]           8   \n",
       "1       [Стоит, ли, говорить, про, вывод, из, кризиса,...          22   \n",
       "2       [Королевская, кобра, является, очень, удивител...          10   \n",
       "3       [Это, сибирские, актиномицеты, ,, которым, от,...          14   \n",
       "4          [В, этом, случае, вы, тоже, можете, помочь, .]           8   \n",
       "...                                                   ...         ...   \n",
       "444809  [Этот, серьёзный, парень, куда, -, то, спешит, .]          12   \n",
       "444810  [Происходят, значительные, изменения, в, спосо...          14   \n",
       "444811      [Эти, устройства, становятся, ещё, меньше, .]           6   \n",
       "444812  [Опять, же, ,, мы, можем, сделать, паруса, раз...          11   \n",
       "444813                         [Сто, раз, ведь, звала, .]           8   \n",
       "\n",
       "        RU_tok_len  \n",
       "0                4  \n",
       "1               21  \n",
       "2               10  \n",
       "3               13  \n",
       "4                8  \n",
       "...            ...  \n",
       "444809           8  \n",
       "444810           8  \n",
       "444811           6  \n",
       "444812          10  \n",
       "444813           5  \n",
       "\n",
       "[444814 rows x 6 columns]"
      ]
     },
     "execution_count": 15,
     "metadata": {},
     "output_type": "execute_result"
    }
   ],
   "source": [
    "df_corpus['EN_tok'] = df_corpus.EN.apply(tokenize_en)\n",
    "df_corpus['RU_tok'] = df_corpus.RU.apply(tokenize_ru)\n",
    "df_corpus['EN_tok_len'] = df_corpus.EN_tok.apply(len)\n",
    "df_corpus['RU_tok_len'] = df_corpus.RU_tok.apply(len)\n",
    "df_corpus"
   ]
  },
  {
   "cell_type": "code",
   "execution_count": 16,
   "id": "5dc573e0",
   "metadata": {
    "execution": {
     "iopub.execute_input": "2022-04-15T08:43:02.102602Z",
     "iopub.status.busy": "2022-04-15T08:43:02.101770Z",
     "iopub.status.idle": "2022-04-15T08:43:02.407746Z",
     "shell.execute_reply": "2022-04-15T08:43:02.408192Z",
     "shell.execute_reply.started": "2022-04-15T07:48:04.582969Z"
    },
    "papermill": {
     "duration": 0.418429,
     "end_time": "2022-04-15T08:43:02.408348",
     "exception": false,
     "start_time": "2022-04-15T08:43:01.989919",
     "status": "completed"
    },
    "tags": []
   },
   "outputs": [
    {
     "data": {
      "text/plain": [
       "<AxesSubplot:>"
      ]
     },
     "execution_count": 16,
     "metadata": {},
     "output_type": "execute_result"
    },
    {
     "data": {
      "image/png": "[encoded data removed]",
      "text/plain": [
       "<Figure size 432x288 with 1 Axes>"
      ]
     },
     "metadata": {
      "needs_background": "light"
     },
     "output_type": "display_data"
    }
   ],
   "source": [
    "#проанализировать выбросы по длине токенов (обоих язаыков), убрать явные выбросы (например более 20-30 токенов)\n",
    "#place of possible hyperparameters\n",
    "LEN_THRESHOLD = 30\n",
    "df_corpus.EN_tok_len[df_corpus.EN_tok_len <= LEN_THRESHOLD].hist(bins = 50)"
   ]
  },
  {
   "cell_type": "code",
   "execution_count": 17,
   "id": "e5022e5d",
   "metadata": {
    "execution": {
     "iopub.execute_input": "2022-04-15T08:43:02.631145Z",
     "iopub.status.busy": "2022-04-15T08:43:02.630343Z",
     "iopub.status.idle": "2022-04-15T08:43:02.838352Z",
     "shell.execute_reply": "2022-04-15T08:43:02.837829Z",
     "shell.execute_reply.started": "2022-04-15T07:48:04.956742Z"
    },
    "papermill": {
     "duration": 0.321116,
     "end_time": "2022-04-15T08:43:02.838492",
     "exception": false,
     "start_time": "2022-04-15T08:43:02.517376",
     "status": "completed"
    },
    "tags": []
   },
   "outputs": [],
   "source": [
    "df_corpus = df_corpus[(df_corpus.EN_tok_len <= LEN_THRESHOLD) & (df_corpus.RU_tok_len <= LEN_THRESHOLD)]"
   ]
  },
  {
   "cell_type": "code",
   "execution_count": 18,
   "id": "c48f2c99",
   "metadata": {
    "execution": {
     "iopub.execute_input": "2022-04-15T08:43:03.068930Z",
     "iopub.status.busy": "2022-04-15T08:43:03.068130Z",
     "iopub.status.idle": "2022-04-15T08:43:03.154125Z",
     "shell.execute_reply": "2022-04-15T08:43:03.153634Z",
     "shell.execute_reply.started": "2022-04-15T07:48:05.173564Z"
    },
    "papermill": {
     "duration": 0.206084,
     "end_time": "2022-04-15T08:43:03.154268",
     "exception": false,
     "start_time": "2022-04-15T08:43:02.948184",
     "status": "completed"
    },
    "tags": []
   },
   "outputs": [
    {
     "name": "stderr",
     "output_type": "stream",
     "text": [
      "/opt/conda/lib/python3.7/site-packages/ipykernel_launcher.py:4: SettingWithCopyWarning: \n",
      "A value is trying to be set on a copy of a slice from a DataFrame.\n",
      "Try using .loc[row_indexer,col_indexer] = value instead\n",
      "\n",
      "See the caveats in the documentation: https://pandas.pydata.org/pandas-docs/stable/user_guide/indexing.html#returning-a-view-versus-a-copy\n",
      "  after removing the cwd from sys.path.\n"
     ]
    }
   ],
   "source": [
    "#проаинализировать разницы в количествах токенов параллельных предложений, убрать выбросы (например оставить в пределах mean + std)\n",
    "#не учитывать слишком короткие предложения, <= 4 токена\n",
    "DIFF_NO_DEL_TRESHOLD = 4\n",
    "df_corpus['len_diff_ratio'] = df_corpus[[\"EN_tok_len\", \"RU_tok_len\"]].max(axis=1) / df_corpus[[\"EN_tok_len\", \"RU_tok_len\"]].min(axis=1)\n",
    "df_corpus = df_corpus[(df_corpus['len_diff_ratio'] <= df_corpus['len_diff_ratio'].mean() + df_corpus['len_diff_ratio'].std()) | \\\n",
    "                      (df_corpus[\"EN_tok_len\"] <= DIFF_NO_DEL_TRESHOLD) & (df_corpus[\"RU_tok_len\"] <= DIFF_NO_DEL_TRESHOLD)]"
   ]
  },
  {
   "cell_type": "code",
   "execution_count": 19,
   "id": "bdc98f62",
   "metadata": {
    "execution": {
     "iopub.execute_input": "2022-04-15T08:43:03.388334Z",
     "iopub.status.busy": "2022-04-15T08:43:03.387410Z",
     "iopub.status.idle": "2022-04-15T08:43:03.415139Z",
     "shell.execute_reply": "2022-04-15T08:43:03.414626Z",
     "shell.execute_reply.started": "2022-04-15T07:48:05.284793Z"
    },
    "papermill": {
     "duration": 0.149065,
     "end_time": "2022-04-15T08:43:03.415273",
     "exception": false,
     "start_time": "2022-04-15T08:43:03.266208",
     "status": "completed"
    },
    "tags": []
   },
   "outputs": [
    {
     "data": {
      "text/html": [
       "<div>\n",
       "<style scoped>\n",
       "    .dataframe tbody tr th:only-of-type {\n",
       "        vertical-align: middle;\n",
       "    }\n",
       "\n",
       "    .dataframe tbody tr th {\n",
       "        vertical-align: top;\n",
       "    }\n",
       "\n",
       "    .dataframe thead th {\n",
       "        text-align: right;\n",
       "    }\n",
       "</style>\n",
       "<table border=\"1\" class=\"dataframe\">\n",
       "  <thead>\n",
       "    <tr style=\"text-align: right;\">\n",
       "      <th></th>\n",
       "      <th>EN</th>\n",
       "      <th>RU</th>\n",
       "      <th>EN_tok</th>\n",
       "      <th>RU_tok</th>\n",
       "      <th>EN_tok_len</th>\n",
       "      <th>RU_tok_len</th>\n",
       "      <th>len_diff_ratio</th>\n",
       "    </tr>\n",
       "  </thead>\n",
       "  <tbody>\n",
       "    <tr>\n",
       "      <th>5</th>\n",
       "      <td>What is all this?</td>\n",
       "      <td>Так много?</td>\n",
       "      <td>[What, is, all, this, ?]</td>\n",
       "      <td>[Так, много, ?]</td>\n",
       "      <td>5</td>\n",
       "      <td>3</td>\n",
       "      <td>1.666667</td>\n",
       "    </tr>\n",
       "    <tr>\n",
       "      <th>20</th>\n",
       "      <td>Safflower seeds?</td>\n",
       "      <td>Сафлоровые зерна?</td>\n",
       "      <td>[Safflower, seeds, ?]</td>\n",
       "      <td>[Сафлоровые, зерна, ?]</td>\n",
       "      <td>3</td>\n",
       "      <td>3</td>\n",
       "      <td>1.000000</td>\n",
       "    </tr>\n",
       "    <tr>\n",
       "      <th>41</th>\n",
       "      <td>No</td>\n",
       "      <td>Ничего общего.</td>\n",
       "      <td>[No]</td>\n",
       "      <td>[Ничего, общего, .]</td>\n",
       "      <td>1</td>\n",
       "      <td>3</td>\n",
       "      <td>3.000000</td>\n",
       "    </tr>\n",
       "    <tr>\n",
       "      <th>55</th>\n",
       "      <td>That's too bad.</td>\n",
       "      <td>Это плохо.</td>\n",
       "      <td>[That, 's, too, bad, .]</td>\n",
       "      <td>[Это, плохо, .]</td>\n",
       "      <td>5</td>\n",
       "      <td>3</td>\n",
       "      <td>1.666667</td>\n",
       "    </tr>\n",
       "    <tr>\n",
       "      <th>60</th>\n",
       "      <td>Myfee?</td>\n",
       "      <td>А, гонорар?</td>\n",
       "      <td>[Myfee, ?]</td>\n",
       "      <td>[А, ,, гонорар, ?]</td>\n",
       "      <td>2</td>\n",
       "      <td>4</td>\n",
       "      <td>2.000000</td>\n",
       "    </tr>\n",
       "    <tr>\n",
       "      <th>...</th>\n",
       "      <td>...</td>\n",
       "      <td>...</td>\n",
       "      <td>...</td>\n",
       "      <td>...</td>\n",
       "      <td>...</td>\n",
       "      <td>...</td>\n",
       "      <td>...</td>\n",
       "    </tr>\n",
       "    <tr>\n",
       "      <th>444710</th>\n",
       "      <td>So, Act Il:</td>\n",
       "      <td>Акт второй:</td>\n",
       "      <td>[So, ,, Act, Il, :]</td>\n",
       "      <td>[Акт, второй, :]</td>\n",
       "      <td>5</td>\n",
       "      <td>3</td>\n",
       "      <td>1.666667</td>\n",
       "    </tr>\n",
       "    <tr>\n",
       "      <th>444725</th>\n",
       "      <td>Obstruction?</td>\n",
       "      <td>Помеха?</td>\n",
       "      <td>[Obstruction, ?]</td>\n",
       "      <td>[Помеха, ?]</td>\n",
       "      <td>2</td>\n",
       "      <td>2</td>\n",
       "      <td>1.000000</td>\n",
       "    </tr>\n",
       "    <tr>\n",
       "      <th>444754</th>\n",
       "      <td>It's right here.</td>\n",
       "      <td>Вот он.</td>\n",
       "      <td>[It, 's, right, here, .]</td>\n",
       "      <td>[Вот, он, .]</td>\n",
       "      <td>5</td>\n",
       "      <td>3</td>\n",
       "      <td>1.666667</td>\n",
       "    </tr>\n",
       "    <tr>\n",
       "      <th>444762</th>\n",
       "      <td>Unfair.</td>\n",
       "      <td>Нечестно.</td>\n",
       "      <td>[Unfair, .]</td>\n",
       "      <td>[Нечестно, .]</td>\n",
       "      <td>2</td>\n",
       "      <td>2</td>\n",
       "      <td>1.000000</td>\n",
       "    </tr>\n",
       "    <tr>\n",
       "      <th>444803</th>\n",
       "      <td>-Yeah.</td>\n",
       "      <td>Ага, удачи.</td>\n",
       "      <td>[-Yeah, .]</td>\n",
       "      <td>[Ага, ,, удачи, .]</td>\n",
       "      <td>2</td>\n",
       "      <td>4</td>\n",
       "      <td>2.000000</td>\n",
       "    </tr>\n",
       "  </tbody>\n",
       "</table>\n",
       "<p>26091 rows × 7 columns</p>\n",
       "</div>"
      ],
      "text/plain": [
       "                       EN                 RU                    EN_tok  \\\n",
       "5       What is all this?         Так много?  [What, is, all, this, ?]   \n",
       "20       Safflower seeds?  Сафлоровые зерна?     [Safflower, seeds, ?]   \n",
       "41                     No     Ничего общего.                      [No]   \n",
       "55        That's too bad.         Это плохо.   [That, 's, too, bad, .]   \n",
       "60                 Myfee?        А, гонорар?                [Myfee, ?]   \n",
       "...                   ...                ...                       ...   \n",
       "444710        So, Act Il:        Акт второй:       [So, ,, Act, Il, :]   \n",
       "444725       Obstruction?            Помеха?          [Obstruction, ?]   \n",
       "444754   It's right here.            Вот он.  [It, 's, right, here, .]   \n",
       "444762            Unfair.          Нечестно.               [Unfair, .]   \n",
       "444803             -Yeah.        Ага, удачи.                [-Yeah, .]   \n",
       "\n",
       "                        RU_tok  EN_tok_len  RU_tok_len  len_diff_ratio  \n",
       "5              [Так, много, ?]           5           3        1.666667  \n",
       "20      [Сафлоровые, зерна, ?]           3           3        1.000000  \n",
       "41         [Ничего, общего, .]           1           3        3.000000  \n",
       "55             [Это, плохо, .]           5           3        1.666667  \n",
       "60          [А, ,, гонорар, ?]           2           4        2.000000  \n",
       "...                        ...         ...         ...             ...  \n",
       "444710        [Акт, второй, :]           5           3        1.666667  \n",
       "444725             [Помеха, ?]           2           2        1.000000  \n",
       "444754            [Вот, он, .]           5           3        1.666667  \n",
       "444762           [Нечестно, .]           2           2        1.000000  \n",
       "444803      [Ага, ,, удачи, .]           2           4        2.000000  \n",
       "\n",
       "[26091 rows x 7 columns]"
      ]
     },
     "execution_count": 19,
     "metadata": {},
     "output_type": "execute_result"
    }
   ],
   "source": [
    "# проанализировать на предмет минимального количества токенов, визуально посмотреть примеры, \n",
    "# принять решение об их использовании\n",
    "df_corpus[(df_corpus.EN_tok_len < 4) | (df_corpus.RU_tok_len < 4)]"
   ]
  },
  {
   "cell_type": "code",
   "execution_count": 20,
   "id": "17139859",
   "metadata": {
    "execution": {
     "iopub.execute_input": "2022-04-15T08:43:03.648697Z",
     "iopub.status.busy": "2022-04-15T08:43:03.647828Z",
     "iopub.status.idle": "2022-04-15T08:43:07.904811Z",
     "shell.execute_reply": "2022-04-15T08:43:07.904352Z",
     "shell.execute_reply.started": "2022-04-15T07:48:05.321950Z"
    },
    "papermill": {
     "duration": 4.380349,
     "end_time": "2022-04-15T08:43:07.904940",
     "exception": false,
     "start_time": "2022-04-15T08:43:03.524591",
     "status": "completed"
    },
    "tags": []
   },
   "outputs": [
    {
     "name": "stdout",
     "output_type": "stream",
     "text": [
      "Train: 259396, Val: 92642, Test: 18529\n",
      "total 59320\r\n",
      "drwxr-xr-x 2 root root     4096 Apr 15 08:43 .\r\n",
      "drwxr-xr-x 3 root root     4096 Apr 15 08:40 ..\r\n",
      "-rw-r--r-- 1 root root      391 Jul  5  2019 LICENSE\r\n",
      "-rw-r--r-- 1 root root  3032133 Apr 15 08:43 QED_test.csv\r\n",
      "-rw-r--r-- 1 root root 42487047 Apr 15 08:43 QED_train.csv\r\n",
      "-rw-r--r-- 1 root root 15200449 Apr 15 08:43 QED_val.csv\r\n",
      "-rw-r--r-- 1 root root     1445 Jul  5  2019 README\r\n"
     ]
    }
   ],
   "source": [
    "#разбиваем датасет на 3-шт (train/val/test) и сохраняем в .csv для дальнейшего использования\n",
    "df_corpus = df_corpus[['EN', 'RU']]\n",
    "\n",
    "#train/val/test - 70%/25%/5%\n",
    "TRAIN_VAL_TEST_RATIO = [.70, .25] #TEST = all not include to train/val\n",
    "\n",
    "#.sample(frac=1) - предварительное перемешивание\n",
    "df_train, df_val, df_test = np.split(df_corpus.sample(frac=1, random_state=42).reset_index(drop=True),\n",
    "                                     [int(TRAIN_VAL_TEST_RATIO[0]*len(df_corpus)), \n",
    "                                      int(sum(TRAIN_VAL_TEST_RATIO)*len(df_corpus))])\n",
    "\n",
    "print(f\"Train: {len(df_train)}, Val: {len(df_val)}, Test: {len(df_test)}\")\n",
    "\n",
    "#save\n",
    "df_train.to_csv('./stepik-dl-nlp/datasets/OPUS-QED_RU-EN/QED_train.csv', index=False)\n",
    "df_val.to_csv('./stepik-dl-nlp/datasets/OPUS-QED_RU-EN/QED_val.csv', index=False)\n",
    "df_test.to_csv('./stepik-dl-nlp/datasets/OPUS-QED_RU-EN/QED_test.csv', index=False)\n",
    "\n",
    "#чистим исходные файлы и лишние переменные\n",
    "del df_corpus, df_train, df_val, df_test, lines_en, lines_ru\n",
    "!rm ./stepik-dl-nlp/datasets/OPUS-QED_RU-EN/QED.en-ru.ru ./stepik-dl-nlp/datasets/OPUS-QED_RU-EN/QED.en-ru.en\n",
    "!ls -la ./stepik-dl-nlp/datasets/OPUS-QED_RU-EN/"
   ]
  },
  {
   "cell_type": "code",
   "execution_count": 21,
   "id": "bf2a3c37",
   "metadata": {
    "execution": {
     "iopub.execute_input": "2022-04-15T08:43:08.160058Z",
     "iopub.status.busy": "2022-04-15T08:43:08.134879Z",
     "iopub.status.idle": "2022-04-15T08:43:10.469992Z",
     "shell.execute_reply": "2022-04-15T08:43:10.469513Z",
     "shell.execute_reply.started": "2022-04-15T07:48:10.032949Z"
    },
    "papermill": {
     "duration": 2.453361,
     "end_time": "2022-04-15T08:43:10.470157",
     "exception": false,
     "start_time": "2022-04-15T08:43:08.016796",
     "status": "completed"
    },
    "tags": []
   },
   "outputs": [
    {
     "name": "stdout",
     "output_type": "stream",
     "text": [
      "EN,RU\r\n",
      "How well do you know about me?,Как хорошо ты знаешь обо мне?\r\n",
      "It's not just about politicians and laws.,Это не только политические деятели и законы.\r\n",
      "\"On average, how many years do those transmitters continue to operate?\",В среднем сколько лет такие передатчики будут работать?\r\n",
      "One more wheel we have to attach.,Осталось прикрепить ещё одно колесо.\r\n",
      "And for what reason?,И почему?\r\n",
      "\"Elon, how have you done this?\",\"Элон, как тебе это удалось?\"\r\n",
      "\"There they sit in the audience, and on stage is something they are investigating.\",\"Вот они сидят в зале, а на сцене происходит нечто, что они исследуют. Мамардашвили и Пятигорский говорили:\"\r\n",
      "\"Dan Koditschek put some steel nails -- very simple version -- on the robot, and here's RHex, now, going over those steel -- those rails.\",\"Дэн Кодишек вбил несколько стальных гвоздей — очень простая версия... в робота, и вот он Рекс снова, идёт через металл, через рельсы.\"\r\n",
      "Throw a spear.,Номер три - метание копья.\r\n",
      "EN,RU\r\n",
      "That's exactly what you see here.,Именно это мы тут и наблюдаем.\r\n",
      "\"And I'm obsessed with, like, engineering of paper.\",Мне очень интересна инженерная сторона бумаги.\r\n",
      "Twist the fifth five inch bubble.,Сделайте 5й около 12 см пузырь.\r\n",
      "I'll be going first.,\"Я пойду, пожалуй.\"\r\n",
      "\"Well, this is 56 atomic mass units per atom.\",56 атомных единиц массы в каждом атоме.\r\n",
      "\"And the tone from the email was, you know, it had been a very bad day, obviously.\",\"По тону письма я поняла, что очевидно это был тяжелый день.\"\r\n",
      "\"At the church door, however, they separated, he driving back to the Temple, and she to her own house.\",\"В церковных дверей, однако, они разделены, он возвращался в храм, и она в дом свой.\"\r\n",
      "Play is a sense of free motion within a set of constraints.,Игра является чувство свободного движения в рамках ряда ограничений.\r\n",
      "Sometimes we hold contracts for all kinds of religious families buy the apartment tenth child.,Иногда мы проводим контракты на все виды религиозных семей купить ребенку квартиру десятое.\r\n",
      "EN,RU\r\n",
      "\"It's what they believed, and it wasn't about black versus white:\",\"Это то, во что они верили. И это не было событие \"\"Черные против Белых\"\".\"\r\n",
      "\"Why, are you jealous?\",\"А вы что, завидуете, да? Завидуете?\"\r\n",
      "Hey Mi-ae.,\"Да, Миэ.\"\r\n",
      "We were waiting for you for an year.,Чтобы вас здесь увидеть мы ждали целый год\r\n",
      "But carbon dioxide is carbon dioxide.,Но углекислый газ — это углекислый газ.\r\n",
      "\"You will see you in a mirror, you will be able to speak to people, people could hear you.\",\"Будешь видеть себя в зеркале, сможешь разговаривать с людьми, люди смогут слышать тебя.\"\r\n",
      "\"There were strong players,\",\"Там были сильные игроки, как основ...\"\r\n",
      "- Please.,Давайте помогу.\r\n",
      "I'll let you hear a sample of that voice.,Я дам послушать образец этого голоса.\r\n"
     ]
    }
   ],
   "source": [
    "!head ./stepik-dl-nlp/datasets/OPUS-QED_RU-EN/QED_train.csv\n",
    "!head ./stepik-dl-nlp/datasets/OPUS-QED_RU-EN/QED_val.csv\n",
    "!head ./stepik-dl-nlp/datasets/OPUS-QED_RU-EN/QED_test.csv"
   ]
  },
  {
   "cell_type": "markdown",
   "id": "a1172c2c",
   "metadata": {
    "papermill": {
     "duration": 0.11138,
     "end_time": "2022-04-15T08:43:10.694403",
     "exception": false,
     "start_time": "2022-04-15T08:43:10.583023",
     "status": "completed"
    },
    "tags": []
   },
   "source": [
    "Our fields are the same as the previous notebook. The model expects data to be fed in with the batch dimension first, so we use `batch_first = True`. "
   ]
  },
  {
   "cell_type": "code",
   "execution_count": 22,
   "id": "3c4a540f",
   "metadata": {
    "execution": {
     "iopub.execute_input": "2022-04-15T08:43:10.925759Z",
     "iopub.status.busy": "2022-04-15T08:43:10.924885Z",
     "iopub.status.idle": "2022-04-15T08:43:10.927097Z",
     "shell.execute_reply": "2022-04-15T08:43:10.927476Z",
     "shell.execute_reply.started": "2022-04-15T07:48:12.395319Z"
    },
    "papermill": {
     "duration": 0.121962,
     "end_time": "2022-04-15T08:43:10.927606",
     "exception": false,
     "start_time": "2022-04-15T08:43:10.805644",
     "status": "completed"
    },
    "tags": []
   },
   "outputs": [],
   "source": [
    "if TRANSLATION_DIRECTION == 'RU->EN':\n",
    "    SRC = Field(tokenize = tokenize_ru, \n",
    "                init_token = '<sos>', \n",
    "                eos_token = '<eos>', \n",
    "                lower = True, \n",
    "                batch_first = True)\n",
    "\n",
    "    TRG = Field(tokenize = tokenize_en, \n",
    "                init_token = '<sos>', \n",
    "                eos_token = '<eos>', \n",
    "                lower = True, \n",
    "                batch_first = True)\n",
    "\n",
    "    fields = {\n",
    "        'RU': ('src', SRC),\n",
    "        'EN': ('trg', TRG)\n",
    "    }\n",
    "elif TRANSLATION_DIRECTION == 'EN->RU':\n",
    "    SRC = Field(tokenize = tokenize_en, \n",
    "                init_token = '<sos>', \n",
    "                eos_token = '<eos>', \n",
    "                lower = True, \n",
    "                batch_first = True)\n",
    "\n",
    "    TRG = Field(tokenize = tokenize_ru, \n",
    "                init_token = '<sos>', \n",
    "                eos_token = '<eos>', \n",
    "                lower = True, \n",
    "                batch_first = True)\n",
    "\n",
    "    fields = {\n",
    "        'EN': ('src', SRC),\n",
    "        'RU': ('trg', TRG)\n",
    "    }"
   ]
  },
  {
   "cell_type": "markdown",
   "id": "704d1a5e",
   "metadata": {
    "papermill": {
     "duration": 0.111387,
     "end_time": "2022-04-15T08:43:11.150834",
     "exception": false,
     "start_time": "2022-04-15T08:43:11.039447",
     "status": "completed"
    },
    "tags": []
   },
   "source": [
    "We then load dataset and build the vocabulary."
   ]
  },
  {
   "cell_type": "code",
   "execution_count": 23,
   "id": "92c7dba3",
   "metadata": {
    "execution": {
     "iopub.execute_input": "2022-04-15T08:43:11.433456Z",
     "iopub.status.busy": "2022-04-15T08:43:11.417454Z",
     "iopub.status.idle": "2022-04-15T08:43:53.533537Z",
     "shell.execute_reply": "2022-04-15T08:43:53.532888Z",
     "shell.execute_reply.started": "2022-04-15T07:48:12.405475Z"
    },
    "papermill": {
     "duration": 42.270187,
     "end_time": "2022-04-15T08:43:53.533691",
     "exception": false,
     "start_time": "2022-04-15T08:43:11.263504",
     "status": "completed"
    },
    "tags": []
   },
   "outputs": [],
   "source": [
    "# train_data, valid_data, test_data = Multi30k.splits(exts = ('.de', '.en'), \n",
    "#                                                     fields = (SRC, TRG))\n",
    "#TabularDataset - Defines a Dataset of columns stored in CSV, TSV, or JSON format\n",
    "#TabularDataset.splits - Create Dataset objects for multiple splits of a dataset.\n",
    "train_data, valid_data, test_data = TabularDataset.splits(\n",
    "                            path = './stepik-dl-nlp/datasets/OPUS-QED_RU-EN/',\n",
    "                            train = 'QED_train.csv',\n",
    "                            validation = 'QED_val.csv',\n",
    "                            test = 'QED_test.csv',\n",
    "                            format = 'csv',\n",
    "                            fields = fields\n",
    ")"
   ]
  },
  {
   "cell_type": "code",
   "execution_count": 24,
   "id": "f062ba12",
   "metadata": {
    "execution": {
     "iopub.execute_input": "2022-04-15T08:43:53.767625Z",
     "iopub.status.busy": "2022-04-15T08:43:53.766057Z",
     "iopub.status.idle": "2022-04-15T08:43:53.771091Z",
     "shell.execute_reply": "2022-04-15T08:43:53.771685Z",
     "shell.execute_reply.started": "2022-04-15T07:49:00.490281Z"
    },
    "papermill": {
     "duration": 0.124025,
     "end_time": "2022-04-15T08:43:53.771868",
     "exception": false,
     "start_time": "2022-04-15T08:43:53.647843",
     "status": "completed"
    },
    "tags": []
   },
   "outputs": [
    {
     "name": "stdout",
     "output_type": "stream",
     "text": [
      "как хорошо ты знаешь обо мне ?\n",
      "['как', 'хорошо', 'ты', 'знаешь', 'обо', 'мне', '?']\n",
      "how well do you know about me ?\n",
      "['how', 'well', 'do', 'you', 'know', 'about', 'me', '?']\n",
      "\n",
      "это не только политические деятели и законы .\n",
      "['это', 'не', 'только', 'политические', 'деятели', 'и', 'законы', '.']\n",
      "it 's not just about politicians and laws .\n",
      "['it', \"'s\", 'not', 'just', 'about', 'politicians', 'and', 'laws', '.']\n",
      "\n",
      "в среднем сколько лет такие передатчики будут работать ?\n",
      "['в', 'среднем', 'сколько', 'лет', 'такие', 'передатчики', 'будут', 'работать', '?']\n",
      "on average , how many years do those transmitters continue to operate ?\n",
      "['on', 'average', ',', 'how', 'many', 'years', 'do', 'those', 'transmitters', 'continue', 'to', 'operate', '?']\n",
      "\n"
     ]
    }
   ],
   "source": [
    "for i in range(3):\n",
    "    print(' '.join(train_data.examples[i].src))\n",
    "    print(train_data.examples[i].src)\n",
    "    print(' '.join(train_data.examples[i].trg))\n",
    "    print(train_data.examples[i].trg)\n",
    "    print()"
   ]
  },
  {
   "cell_type": "code",
   "execution_count": 25,
   "id": "9e91d9a0",
   "metadata": {
    "execution": {
     "iopub.execute_input": "2022-04-15T08:43:54.016763Z",
     "iopub.status.busy": "2022-04-15T08:43:54.011324Z",
     "iopub.status.idle": "2022-04-15T08:43:56.630855Z",
     "shell.execute_reply": "2022-04-15T08:43:56.631460Z",
     "shell.execute_reply.started": "2022-04-15T08:03:05.496523Z"
    },
    "papermill": {
     "duration": 2.746367,
     "end_time": "2022-04-15T08:43:56.631661",
     "exception": false,
     "start_time": "2022-04-15T08:43:53.885294",
     "status": "completed"
    },
    "tags": []
   },
   "outputs": [
    {
     "name": "stdout",
     "output_type": "stream",
     "text": [
      "[(',', 227291), ('.', 205459), ('и', 66990), ('в', 58969), ('что', 49171), ('это', 45364), ('я', 44956), ('не', 38882), ('\"', 33051), ('-', 32855), ('?', 29971), ('на', 29610), ('мы', 28282), ('как', 20290), ('вы', 20279), ('с', 19213), ('то', 14843), ('но', 14691), ('!', 14390), ('так', 14091)]\n",
      "[('.', 204696), (',', 155350), ('the', 130278), ('and', 76409), ('to', 75003), ('of', 63371), ('a', 62225), ('i', 58846), ('you', 58470), ('that', 52306), ('it', 52075), ('is', 47206), ('in', 41314), (\"'s\", 40752), ('we', 39402), ('this', 34342), ('?', 29692), ('so', 26214), ('\"', 24163), ('do', 21173)]\n",
      "Первые 10 токенов: ['<unk>', '<pad>', '<sos>', '<eos>', ',', '.', 'и', 'в', 'что', 'это']\n",
      "Уникальные токены в словаре SRC (train): 71536\n",
      "Уникальные токены в словаре TRG (train): 30949\n"
     ]
    }
   ],
   "source": [
    "#.build_vocab - Construct the Vocab object for this field from one or more datasets.\n",
    "\n",
    "SRC.build_vocab(train_data, min_freq = 2)\n",
    "print(SRC.vocab.freqs.most_common(20))\n",
    "\n",
    "TRG.build_vocab(train_data, min_freq = 2)\n",
    "print(TRG.vocab.freqs.most_common(20))\n",
    "\n",
    "print(f\"Первые 10 токенов: {SRC.vocab.itos[:10]}\")\n",
    "\n",
    "print(f\"Уникальные токены в словаре SRC (train): {len(SRC.vocab)}\")\n",
    "print(f\"Уникальные токены в словаре TRG (train): {len(TRG.vocab)}\")"
   ]
  },
  {
   "cell_type": "code",
   "execution_count": 26,
   "id": "32db3397",
   "metadata": {
    "execution": {
     "iopub.execute_input": "2022-04-15T08:43:56.862623Z",
     "iopub.status.busy": "2022-04-15T08:43:56.861960Z",
     "iopub.status.idle": "2022-04-15T08:43:56.864897Z",
     "shell.execute_reply": "2022-04-15T08:43:56.865490Z",
     "shell.execute_reply.started": "2022-04-14T12:05:21.025643Z"
    },
    "papermill": {
     "duration": 0.120759,
     "end_time": "2022-04-15T08:43:56.865665",
     "exception": false,
     "start_time": "2022-04-15T08:43:56.744906",
     "status": "completed"
    },
    "tags": []
   },
   "outputs": [
    {
     "name": "stdout",
     "output_type": "stream",
     "text": [
      "Размер обучающей выборки: 259396\n",
      "Размер валидационной выборки: 92642\n",
      "Размер тестовой выборки: 18529\n"
     ]
    }
   ],
   "source": [
    "print(f\"Размер обучающей выборки: {len(train_data.examples)}\")\n",
    "print(f\"Размер валидационной выборки: {len(valid_data.examples)}\")\n",
    "print(f\"Размер тестовой выборки: {len(test_data.examples)}\")"
   ]
  },
  {
   "cell_type": "code",
   "execution_count": 27,
   "id": "ec1c9e36",
   "metadata": {
    "execution": {
     "iopub.execute_input": "2022-04-15T08:43:57.104450Z",
     "iopub.status.busy": "2022-04-15T08:43:57.103755Z",
     "iopub.status.idle": "2022-04-15T08:43:59.124261Z",
     "shell.execute_reply": "2022-04-15T08:43:59.123791Z",
     "shell.execute_reply.started": "2022-04-14T12:05:21.036515Z"
    },
    "papermill": {
     "duration": 2.144427,
     "end_time": "2022-04-15T08:43:59.124394",
     "exception": false,
     "start_time": "2022-04-15T08:43:56.979967",
     "status": "completed"
    },
    "tags": []
   },
   "outputs": [
    {
     "name": "stdout",
     "output_type": "stream",
     "text": [
      "SRC:\n"
     ]
    },
    {
     "data": {
      "image/png": "[encoded data removed]",
      "text/plain": [
       "<Figure size 432x288 with 1 Axes>"
      ]
     },
     "metadata": {
      "needs_background": "light"
     },
     "output_type": "display_data"
    },
    {
     "name": "stdout",
     "output_type": "stream",
     "text": [
      "TRG:\n"
     ]
    },
    {
     "data": {
      "image/png": "[encoded data removed]",
      "text/plain": [
       "<Figure size 432x288 with 1 Axes>"
      ]
     },
     "metadata": {
      "needs_background": "light"
     },
     "output_type": "display_data"
    },
    {
     "name": "stdout",
     "output_type": "stream",
     "text": [
      "SRC:\n"
     ]
    },
    {
     "data": {
      "image/png": "[encoded data removed]",
      "text/plain": [
       "<Figure size 432x288 with 1 Axes>"
      ]
     },
     "metadata": {
      "needs_background": "light"
     },
     "output_type": "display_data"
    },
    {
     "name": "stdout",
     "output_type": "stream",
     "text": [
      "TRG:\n"
     ]
    },
    {
     "data": {
      "image/png": "[encoded data removed]",
      "text/plain": [
       "<Figure size 432x288 with 1 Axes>"
      ]
     },
     "metadata": {
      "needs_background": "light"
     },
     "output_type": "display_data"
    },
    {
     "name": "stdout",
     "output_type": "stream",
     "text": [
      "SRC:\n"
     ]
    },
    {
     "data": {
      "image/png": "[encoded data removed]",
      "text/plain": [
       "<Figure size 432x288 with 1 Axes>"
      ]
     },
     "metadata": {
      "needs_background": "light"
     },
     "output_type": "display_data"
    },
    {
     "name": "stdout",
     "output_type": "stream",
     "text": [
      "TRG:\n"
     ]
    },
    {
     "data": {
      "image/png": "[encoded data removed]",
      "text/plain": [
       "<Figure size 432x288 with 1 Axes>"
      ]
     },
     "metadata": {
      "needs_background": "light"
     },
     "output_type": "display_data"
    }
   ],
   "source": [
    "import pandas as pd\n",
    "import numpy as np\n",
    "import matplotlib.pyplot as plt\n",
    "\n",
    "for data in [train_data, valid_data, test_data]:\n",
    "    print(\"SRC:\")\n",
    "    pd.Series([len(example.src) for example in data.examples]).hist(bins=50)\n",
    "    plt.show()\n",
    "    print(\"TRG:\")\n",
    "    pd.Series([len(example.trg) for example in data.examples]).hist(bins=50)\n",
    "    plt.show()"
   ]
  },
  {
   "cell_type": "markdown",
   "id": "17914098",
   "metadata": {
    "papermill": {
     "duration": 0.179575,
     "end_time": "2022-04-15T08:43:59.425663",
     "exception": false,
     "start_time": "2022-04-15T08:43:59.246088",
     "status": "completed"
    },
    "tags": []
   },
   "source": [
    "Finally, we define the device and the data iterator."
   ]
  },
  {
   "cell_type": "code",
   "execution_count": 28,
   "id": "daf478fd",
   "metadata": {
    "execution": {
     "iopub.execute_input": "2022-04-15T08:43:59.837966Z",
     "iopub.status.busy": "2022-04-15T08:43:59.837138Z",
     "iopub.status.idle": "2022-04-15T08:43:59.839349Z",
     "shell.execute_reply": "2022-04-15T08:43:59.839911Z",
     "shell.execute_reply.started": "2022-04-14T12:05:23.25668Z"
    },
    "papermill": {
     "duration": 0.205636,
     "end_time": "2022-04-15T08:43:59.840108",
     "exception": false,
     "start_time": "2022-04-15T08:43:59.634472",
     "status": "completed"
    },
    "tags": []
   },
   "outputs": [],
   "source": [
    "device = torch.device('cuda' if torch.cuda.is_available() else 'cpu')"
   ]
  },
  {
   "cell_type": "code",
   "execution_count": 29,
   "id": "6bfce6fd",
   "metadata": {
    "execution": {
     "iopub.execute_input": "2022-04-15T08:44:00.113615Z",
     "iopub.status.busy": "2022-04-15T08:44:00.112792Z",
     "iopub.status.idle": "2022-04-15T08:44:00.115281Z",
     "shell.execute_reply": "2022-04-15T08:44:00.114834Z",
     "shell.execute_reply.started": "2022-04-14T12:05:23.272754Z"
    },
    "papermill": {
     "duration": 0.131231,
     "end_time": "2022-04-15T08:44:00.115401",
     "exception": false,
     "start_time": "2022-04-15T08:43:59.984170",
     "status": "completed"
    },
    "tags": []
   },
   "outputs": [],
   "source": [
    "#place of possible hyperparameters\n",
    "BATCH_SIZE = 128\n",
    "\n",
    "'''\n",
    "BucketIterator - Defines an iterator that batches examples of similar lengths together. (т.е. схожей длины, это суть выбора BucketIterator)\n",
    "Minimizes amount of padding needed while producing freshly shuffled batches for each new epoch. See pool for the bucketing procedure used.\n",
    "\n",
    "Итого, генерирует батчи тензоров равной длины (из индексов токенов), длина берется максимальная из примеров попавших в батч \n",
    "(если sort = True и/или sort_within_batch = True, то батчи формируются после предварительной сортировки по размеру), все примеры меньшей длины\n",
    "добиваются до необходимой через токен паддинга (<pad>, id=1)\n",
    "\n",
    "Судя по документации, sort_within_batch - отвечает только за необходимость сортировки внутри батчей, и не должен влиять на суть BucketIterator, \n",
    "а именно объединение в батчи на основе длины, но по факту влияет, если выставить False и не будет параметра sort = True, то примеры будут \n",
    "объединяться в батч рандомно, единственное, что дополнительно будет делать BucketIterator - это добивать до общей максимальной длины паддингами\n",
    "(что бы убрать неоднозначности, явно добавил еще и параметр sort = True)\n",
    "\n",
    "P.S. sort_within_batch нужно для упаковки PackedSequence, если батч не будет отсортирован по убыванию длины, то нужно при упаковке в \n",
    "PackedSequence, использовать параметр enforce_sorted = False (не изучал подробно на что это влияет)\n",
    "'''\n",
    "SORT_BY_SEQLENGTH = False\n",
    "\n",
    "if SORT_BY_SEQLENGTH:\n",
    "    #параметров sort = True, sort_within_batch = True, sort_key = lambda x : len(x.src), не было в данной реализации (добавил) из (seq2seq StackOvf)\n",
    "    train_iterator, valid_iterator, test_iterator = BucketIterator.splits(\n",
    "        (train_data, valid_data, test_data),\n",
    "         batch_size = BATCH_SIZE,\n",
    "         sort = True,\n",
    "         sort_within_batch = True,\n",
    "         sort_key = lambda x : len(x.src),\n",
    "         device = device)\n",
    "else:\n",
    "#без сортировки\n",
    "    train_iterator, valid_iterator, test_iterator = BucketIterator.splits(\n",
    "        (train_data, valid_data, test_data),\n",
    "         batch_size = BATCH_SIZE,\n",
    "         sort = False,\n",
    "         device = device)\n",
    "\n",
    "# for batch in test_iterator:\n",
    "#     print(batch.src.shape)\n",
    "# batch.src"
   ]
  },
  {
   "cell_type": "markdown",
   "id": "3d9501bd",
   "metadata": {
    "papermill": {
     "duration": 0.12103,
     "end_time": "2022-04-15T08:44:00.361166",
     "exception": false,
     "start_time": "2022-04-15T08:44:00.240136",
     "status": "completed"
    },
    "tags": []
   },
   "source": [
    "## Building the Model\n",
    "\n",
    "Next, we'll build the model. Like previous notebooks it is made up of an *encoder* and a *decoder*, with the encoder *encoding* the input/source sentence (in German) into *context vector* and the decoder then *decoding* this context vector to output our output/target sentence (in English). \n",
    "\n",
    "### Encoder\n",
    "\n",
    "Similar to the ConvSeq2Seq model, the Transformer's encoder does not attempt to compress the entire source sentence, $X = (x_1, ... ,x_n)$, into a single context vector, $z$. Instead it produces a sequence of context vectors, $Z = (z_1, ... , z_n)$. So, if our input sequence was 5 tokens long we would have $Z = (z_1, z_2, z_3, z_4, z_5)$. Why do we call this a sequence of context vectors and not a sequence of hidden states? A hidden state at time $t$ in an RNN has only seen tokens $x_t$ and all the tokens before it. However, each context vector here has seen all tokens at all positions within the input sequence.\n",
    "\n",
    "![](https://github.com/bentrevett/pytorch-seq2seq/raw/49df8404d938a6edbf729876405558cc2c2b3013//assets/transformer-encoder.png)\n",
    "\n",
    "First, the tokens are passed through a standard embedding layer. Next, as the model has no recurrent it has no idea about the order of the tokens within the sequence. We solve this by using a second embedding layer called a *positional embedding layer*. This is a standard embedding layer where the input is not the token itself but the position of the token within the sequence, starting with the first token, the `<sos>` (start of sequence) token, in position 0. The position embedding has a \"vocabulary\" size of 100, which means our model can accept sentences up to 100 tokens long. This can be increased if we want to handle longer sentences.\n",
    "\n",
    "The original Transformer implementation from the Attention is All You Need paper does not learn positional embeddings. Instead it uses a fixed static embedding. Modern Transformer architectures, like BERT, use positional embeddings instead, hence we have decided to use them in these tutorials. Check out [this](http://nlp.seas.harvard.edu/2018/04/03/attention.html#positional-encoding) section to read more about the positional embeddings used in the original Transformer model.\n",
    "\n",
    "Next, the token and positional embeddings are elementwise summed together to get a vector which contains information about the token and also its position with in the sequence. However, before they are summed, the token embeddings are multiplied by a scaling factor which is $\\sqrt{d_{model}}$, where $d_{model}$ is the hidden dimension size, `hid_dim`. This supposedly reduces variance in the embeddings and the model is difficult to train reliably without this scaling factor. Dropout is then applied to the combined embeddings.\n",
    "\n",
    "The combined embeddings are then passed through $N$ *encoder layers* to get $Z$, which is then output and can be used by the decoder.\n",
    "\n",
    "The source mask, `src_mask`, is simply the same shape as the source sentence but has a value of 1 when the token in the source sentence is not a `<pad>` token and 0 when it is a `<pad>` token. This is used in the encoder layers to mask the multi-head attention mechanisms, which are used to calculate and apply attention over the source sentence, so the model does not pay attention to `<pad>` tokens, which contain no useful information."
   ]
  },
  {
   "cell_type": "code",
   "execution_count": 30,
   "id": "3befbfc5",
   "metadata": {
    "execution": {
     "iopub.execute_input": "2022-04-15T08:44:00.609443Z",
     "iopub.status.busy": "2022-04-15T08:44:00.608573Z",
     "iopub.status.idle": "2022-04-15T08:44:00.610768Z",
     "shell.execute_reply": "2022-04-15T08:44:00.611207Z",
     "shell.execute_reply.started": "2022-04-14T12:05:23.29613Z"
    },
    "papermill": {
     "duration": 0.131591,
     "end_time": "2022-04-15T08:44:00.611349",
     "exception": false,
     "start_time": "2022-04-15T08:44:00.479758",
     "status": "completed"
    },
    "tags": []
   },
   "outputs": [],
   "source": [
    "class Encoder(nn.Module):\n",
    "    def __init__(self, \n",
    "                 input_dim, \n",
    "                 hid_dim, \n",
    "                 n_layers, \n",
    "                 n_heads, \n",
    "                 pf_dim,\n",
    "                 dropout, \n",
    "                 device,\n",
    "                 max_length = 100):\n",
    "        super().__init__()\n",
    "\n",
    "        self.device = device\n",
    "        \n",
    "        self.tok_embedding = nn.Embedding(input_dim, hid_dim)\n",
    "        self.pos_embedding = nn.Embedding(max_length, hid_dim)\n",
    "        \n",
    "        self.layers = nn.ModuleList([EncoderLayer(hid_dim, \n",
    "                                                  n_heads, \n",
    "                                                  pf_dim,\n",
    "                                                  dropout, \n",
    "                                                  device) \n",
    "                                     for _ in range(n_layers)])\n",
    "        \n",
    "        self.dropout = nn.Dropout(dropout)\n",
    "        \n",
    "        self.scale = torch.sqrt(torch.FloatTensor([hid_dim])).to(device)\n",
    "        \n",
    "    def forward(self, src, src_mask):\n",
    "        \n",
    "        #src = [batch size, src len]\n",
    "        #src_mask = [batch size, 1, 1, src len]\n",
    "        \n",
    "        batch_size = src.shape[0]\n",
    "        src_len = src.shape[1]\n",
    "        \n",
    "        pos = torch.arange(0, src_len).unsqueeze(0).repeat(batch_size, 1).to(self.device)\n",
    "        \n",
    "        #pos = [batch size, src len]\n",
    "        \n",
    "        src = self.dropout((self.tok_embedding(src) * self.scale) + self.pos_embedding(pos))\n",
    "        \n",
    "        #src = [batch size, src len, hid dim]\n",
    "        \n",
    "        for layer in self.layers:\n",
    "            src = layer(src, src_mask)\n",
    "            \n",
    "        #src = [batch size, src len, hid dim]\n",
    "            \n",
    "        return src"
   ]
  },
  {
   "cell_type": "markdown",
   "id": "7ab5341e",
   "metadata": {
    "papermill": {
     "duration": 0.118141,
     "end_time": "2022-04-15T08:44:00.847915",
     "exception": false,
     "start_time": "2022-04-15T08:44:00.729774",
     "status": "completed"
    },
    "tags": []
   },
   "source": [
    "### Encoder Layer\n",
    "\n",
    "The encoder layers are where all of the \"meat\" of the encoder is contained. We first pass the source sentence and its mask into the *multi-head attention layer*, then perform dropout on it, apply a residual connection and pass it through a [Layer Normalization](https://arxiv.org/abs/1607.06450) layer. We then pass it through a *position-wise feedforward* layer and then, again, apply dropout, a residual connection and then layer normalization to get the output of this layer which is fed into the next layer. The parameters are not shared between layers. \n",
    "\n",
    "The mutli head attention layer is used by the encoder layer to attend to the source sentence, i.e. it is calculating and applying attention over itself instead of another sequence, hence we call it *self attention*.\n",
    "\n",
    "[This](https://mlexplained.com/2018/01/13/weight-normalization-and-layer-normalization-explained-normalization-in-deep-learning-part-2/) article goes into more detail about layer normalization, but the gist is that it normalizes the values of the features, i.e. across the hidden dimension, so each feature has a mean of 0 and a standard deviation of 1. This allows neural networks with a larger number of layers, like the Transformer, to be trained easier."
   ]
  },
  {
   "cell_type": "code",
   "execution_count": 31,
   "id": "8fafe7ca",
   "metadata": {
    "execution": {
     "iopub.execute_input": "2022-04-15T08:44:01.094021Z",
     "iopub.status.busy": "2022-04-15T08:44:01.093360Z",
     "iopub.status.idle": "2022-04-15T08:44:01.095698Z",
     "shell.execute_reply": "2022-04-15T08:44:01.096173Z",
     "shell.execute_reply.started": "2022-04-14T12:05:23.323442Z"
    },
    "papermill": {
     "duration": 0.12959,
     "end_time": "2022-04-15T08:44:01.096306",
     "exception": false,
     "start_time": "2022-04-15T08:44:00.966716",
     "status": "completed"
    },
    "tags": []
   },
   "outputs": [],
   "source": [
    "class EncoderLayer(nn.Module):\n",
    "    def __init__(self, \n",
    "                 hid_dim, \n",
    "                 n_heads, \n",
    "                 pf_dim,  \n",
    "                 dropout, \n",
    "                 device):\n",
    "        super().__init__()\n",
    "        \n",
    "        self.self_attn_layer_norm = nn.LayerNorm(hid_dim)\n",
    "        self.ff_layer_norm = nn.LayerNorm(hid_dim)\n",
    "        self.self_attention = MultiHeadAttentionLayer(hid_dim, n_heads, dropout, device)\n",
    "        self.positionwise_feedforward = PositionwiseFeedforwardLayer(hid_dim, \n",
    "                                                                     pf_dim, \n",
    "                                                                     dropout)\n",
    "        self.dropout = nn.Dropout(dropout)\n",
    "        \n",
    "    def forward(self, src, src_mask):\n",
    "        \n",
    "        #src = [batch size, src len, hid dim]\n",
    "        #src_mask = [batch size, 1, 1, src len] \n",
    "                \n",
    "        #self attention\n",
    "        _src, _ = self.self_attention(src, src, src, src_mask)\n",
    "        \n",
    "        #dropout, residual connection and layer norm\n",
    "        src = self.self_attn_layer_norm(src + self.dropout(_src))\n",
    "        \n",
    "        #src = [batch size, src len, hid dim]\n",
    "        \n",
    "        #positionwise feedforward\n",
    "        _src = self.positionwise_feedforward(src)\n",
    "        \n",
    "        #dropout, residual and layer norm\n",
    "        src = self.ff_layer_norm(src + self.dropout(_src))\n",
    "        \n",
    "        #src = [batch size, src len, hid dim]\n",
    "        \n",
    "        return src"
   ]
  },
  {
   "cell_type": "markdown",
   "id": "6639dd90",
   "metadata": {
    "papermill": {
     "duration": 0.119996,
     "end_time": "2022-04-15T08:44:01.335292",
     "exception": false,
     "start_time": "2022-04-15T08:44:01.215296",
     "status": "completed"
    },
    "tags": []
   },
   "source": [
    "### Mutli Head Attention Layer\n",
    "\n",
    "One of the key, novel concepts introduced by the Transformer paper is the *multi-head attention layer*. \n",
    "\n",
    "![](https://github.com/bentrevett/pytorch-seq2seq/raw/49df8404d938a6edbf729876405558cc2c2b3013//assets/transformer-attention.png)\n",
    "\n",
    "Attention can be though of as *queries*, *keys* and *values* - where the query is used with the key to get an attention vector (usually the output of a *softmax* operation and has all values between 0 and 1 which sum to 1) which is then used to get a weighted sum of the values.\n",
    "\n",
    "The Transformer uses *scaled dot-product attention*, where the query and key are combined by taking the dot product between them, then applying the softmax operation and scaling by $d_k$ before finally then multiplying by the value. $d_k$ is the *head dimension*, `head_dim`, which we will shortly explain further.\n",
    "\n",
    "$$ \\text{Attention}(Q, K, V) = \\text{Softmax} \\big( \\frac{QK^T}{\\sqrt{d_k}} \\big)V $$ \n",
    "\n",
    "This is similar to standard *dot product attention* but is scaled by $d_k$, which the paper states is used to stop the results of the dot products growing large, causing gradients to become too small.\n",
    "\n",
    "However, the scaled dot-product attention isn't simply applied to the queries, keys and values. Instead of doing a single attention application the queries, keys and values have their `hid_dim` split into $h$ *heads* and the scaled dot-product attention is calculated over all heads in parallel. This means instead of paying attention to one concept per attention application, we pay attention to $h$. We then re-combine the heads into their `hid_dim` shape, thus each `hid_dim` is potentially paying attention to $h$ different concepts.\n",
    "\n",
    "$$ \\text{MultiHead}(Q, K, V) = \\text{Concat}(\\text{head}_1,...,\\text{head}_h)W^O $$\n",
    "\n",
    "$$\\text{head}_i = \\text{Attention}(QW_i^Q, KW_i^K, VW_i^V) $$\n",
    "\n",
    "$W^O$ is the linear layer applied at the end of the multi-head attention layer, `fc`. $W^Q, W^K, W^V$ are the linear layers `fc_q`, `fc_k` and `fc_v`.\n",
    "\n",
    "Walking through the module, first we calculate $QW^Q$, $KW^K$ and $VW^V$ with the linear layers, `fc_q`, `fc_k` and `fc_v`, to give us `Q`, `K` and `V`. Next, we split the `hid_dim` of the query, key and value into `n_heads` using `.view` and correctly permute them so they can be multiplied together. We then calculate the `energy` (the un-normalized attention) by multiplying `Q` and `K` together and scaling it by the square root of `head_dim`, which is calulated as `hid_dim // n_heads`. We then mask the energy so we do not pay attention over any elements of the sequeuence we shouldn't, then apply the softmax and dropout. We then apply the attention to the value heads, `V`, before combining the `n_heads` together. Finally, we multiply this $W^O$, represented by `fc_o`. \n",
    "\n",
    "Note that in our implementation the lengths of the keys and values are always the same, thus when matrix multiplying the output of the softmax, `attention`, with `V` we will always have valid dimension sizes for matrix multiplication. This multiplication is carried out using `torch.matmul` which, when both tensors are >2-dimensional, does a batched matrix multiplication over the last two dimensions of each tensor. This will be a **[query len, key len] x [value len, head dim]** batched matrix multiplication over the batch size and each head which provides the **[batch size, n heads, query len, head dim]** result.\n",
    "\n",
    "One thing that looks strange at first is that dropout is applied directly to the attention. This means that our attention vector will most probably not sum to 1 and we may pay full attention to a token but the attention over that token is set to 0 by dropout. This is never explained, or even mentioned, in the paper however is used by the [official implementation](https://github.com/tensorflow/tensor2tensor/) and every Transformer implementation since, [including BERT](https://github.com/google-research/bert/)."
   ]
  },
  {
   "cell_type": "code",
   "execution_count": 32,
   "id": "3fe828b0",
   "metadata": {
    "execution": {
     "iopub.execute_input": "2022-04-15T08:44:01.585728Z",
     "iopub.status.busy": "2022-04-15T08:44:01.584875Z",
     "iopub.status.idle": "2022-04-15T08:44:01.586826Z",
     "shell.execute_reply": "2022-04-15T08:44:01.587237Z",
     "shell.execute_reply.started": "2022-04-14T12:05:23.345607Z"
    },
    "papermill": {
     "duration": 0.133971,
     "end_time": "2022-04-15T08:44:01.587373",
     "exception": false,
     "start_time": "2022-04-15T08:44:01.453402",
     "status": "completed"
    },
    "tags": []
   },
   "outputs": [],
   "source": [
    "class MultiHeadAttentionLayer(nn.Module):\n",
    "    def __init__(self, hid_dim, n_heads, dropout, device):\n",
    "        super().__init__()\n",
    "        \n",
    "        assert hid_dim % n_heads == 0\n",
    "        \n",
    "        self.hid_dim = hid_dim\n",
    "        self.n_heads = n_heads\n",
    "        self.head_dim = hid_dim // n_heads\n",
    "        \n",
    "        self.fc_q = nn.Linear(hid_dim, hid_dim)\n",
    "        self.fc_k = nn.Linear(hid_dim, hid_dim)\n",
    "        self.fc_v = nn.Linear(hid_dim, hid_dim)\n",
    "        \n",
    "        self.fc_o = nn.Linear(hid_dim, hid_dim)\n",
    "        \n",
    "        self.dropout = nn.Dropout(dropout)\n",
    "        \n",
    "        self.scale = torch.sqrt(torch.FloatTensor([self.head_dim])).to(device)\n",
    "        \n",
    "    def forward(self, query, key, value, mask = None):\n",
    "        \n",
    "        batch_size = query.shape[0]\n",
    "        \n",
    "        #query = [batch size, query len, hid dim]\n",
    "        #key = [batch size, key len, hid dim]\n",
    "        #value = [batch size, value len, hid dim]\n",
    "                \n",
    "        Q = self.fc_q(query)\n",
    "        K = self.fc_k(key)\n",
    "        V = self.fc_v(value)\n",
    "        \n",
    "        #Q = [batch size, query len, hid dim]\n",
    "        #K = [batch size, key len, hid dim]\n",
    "        #V = [batch size, value len, hid dim]\n",
    "                \n",
    "        Q = Q.view(batch_size, -1, self.n_heads, self.head_dim).permute(0, 2, 1, 3)\n",
    "        K = K.view(batch_size, -1, self.n_heads, self.head_dim).permute(0, 2, 1, 3)\n",
    "        V = V.view(batch_size, -1, self.n_heads, self.head_dim).permute(0, 2, 1, 3)\n",
    "        \n",
    "        #Q = [batch size, n heads, query len, head dim]\n",
    "        #K = [batch size, n heads, key len, head dim]\n",
    "        #V = [batch size, n heads, value len, head dim]\n",
    "                \n",
    "        energy = torch.matmul(Q, K.permute(0, 1, 3, 2)) / self.scale\n",
    "        \n",
    "        #energy = [batch size, n heads, query len, key len]\n",
    "        \n",
    "        if mask is not None:\n",
    "            energy = energy.masked_fill(mask == 0, -1e10)\n",
    "        \n",
    "        attention = torch.softmax(energy, dim = -1)\n",
    "                \n",
    "        #attention = [batch size, n heads, query len, key len]\n",
    "                \n",
    "        x = torch.matmul(self.dropout(attention), V)\n",
    "        \n",
    "        #x = [batch size, n heads, query len, head dim]\n",
    "        \n",
    "        x = x.permute(0, 2, 1, 3).contiguous()\n",
    "        \n",
    "        #x = [batch size, query len, n heads, head dim]\n",
    "        \n",
    "        x = x.view(batch_size, -1, self.hid_dim)\n",
    "        \n",
    "        #x = [batch size, query len, hid dim]\n",
    "        \n",
    "        x = self.fc_o(x)\n",
    "        \n",
    "        #x = [batch size, query len, hid dim]\n",
    "        \n",
    "        return x, attention"
   ]
  },
  {
   "cell_type": "markdown",
   "id": "d3ffc144",
   "metadata": {
    "papermill": {
     "duration": 0.118438,
     "end_time": "2022-04-15T08:44:01.824562",
     "exception": false,
     "start_time": "2022-04-15T08:44:01.706124",
     "status": "completed"
    },
    "tags": []
   },
   "source": [
    "### Position-wise Feedforward Layer\n",
    "\n",
    "The other main block inside the encoder layer is the *position-wise feedforward layer* This is relatively simple compared to the multi-head attention layer. The input is transformed from `hid_dim` to `pf_dim`, where `pf_dim` is usually a lot larger than `hid_dim`. The original Transformer used a `hid_dim` of 512 and a `pf_dim` of 2048. The ReLU activation function and dropout are applied before it is transformed back into a `hid_dim` representation. \n",
    "\n",
    "Why is this used? Unfortunately, it is never explained in the paper.\n",
    "\n",
    "BERT uses the [GELU](https://arxiv.org/abs/1606.08415) activation function, which can be used by simply switching `torch.relu` for `F.gelu`. Why did they use GELU? Again, it is never explained."
   ]
  },
  {
   "cell_type": "code",
   "execution_count": 33,
   "id": "b5d21139",
   "metadata": {
    "execution": {
     "iopub.execute_input": "2022-04-15T08:44:02.068290Z",
     "iopub.status.busy": "2022-04-15T08:44:02.067464Z",
     "iopub.status.idle": "2022-04-15T08:44:02.069316Z",
     "shell.execute_reply": "2022-04-15T08:44:02.069727Z",
     "shell.execute_reply.started": "2022-04-14T12:05:23.37682Z"
    },
    "papermill": {
     "duration": 0.126862,
     "end_time": "2022-04-15T08:44:02.069857",
     "exception": false,
     "start_time": "2022-04-15T08:44:01.942995",
     "status": "completed"
    },
    "tags": []
   },
   "outputs": [],
   "source": [
    "class PositionwiseFeedforwardLayer(nn.Module):\n",
    "    def __init__(self, hid_dim, pf_dim, dropout):\n",
    "        super().__init__()\n",
    "        \n",
    "        self.fc_1 = nn.Linear(hid_dim, pf_dim)\n",
    "        self.fc_2 = nn.Linear(pf_dim, hid_dim)\n",
    "        \n",
    "        self.dropout = nn.Dropout(dropout)\n",
    "        \n",
    "    def forward(self, x):\n",
    "        \n",
    "        #x = [batch size, seq len, hid dim]\n",
    "        \n",
    "        x = self.dropout(torch.relu(self.fc_1(x)))\n",
    "        \n",
    "        #x = [batch size, seq len, pf dim]\n",
    "        \n",
    "        x = self.fc_2(x)\n",
    "        \n",
    "        #x = [batch size, seq len, hid dim]\n",
    "        \n",
    "        return x"
   ]
  },
  {
   "cell_type": "markdown",
   "id": "c4409523",
   "metadata": {
    "papermill": {
     "duration": 0.120506,
     "end_time": "2022-04-15T08:44:02.309254",
     "exception": false,
     "start_time": "2022-04-15T08:44:02.188748",
     "status": "completed"
    },
    "tags": []
   },
   "source": [
    "### Decoder\n",
    "\n",
    "The objective of the decoder is to take the encoded representation of the source sentence, $Z$, and convert it into predicted tokens in the target sentence, $\\hat{Y}$. We then compare $\\hat{Y}$ with the actual tokens in the target sentence, $Y$, to calculate our loss, which will be used to calculate the gradients of our parameters and then use our optimizer to update our weights in order to improve our predictions. \n",
    "\n",
    "![](https://github.com/bentrevett/pytorch-seq2seq/raw/49df8404d938a6edbf729876405558cc2c2b3013//assets/transformer-decoder.png)\n",
    "\n",
    "The decoder is similar to encoder, however it now has two multi-head attention layers. A *masked multi-head attention layer* over the target sequence, and a multi-head attention layer which uses the decoder representation as the query and the encoder representation as the key and value.\n",
    "\n",
    "The decoder uses positional embeddings and combines - via an elementwise sum - them with the scaled embedded target tokens, followed by dropout. Again, our positional encodings have a \"vocabulary\" of 100, which means they can accept sequences up to 100 tokens long. This can be increased if desired.\n",
    "\n",
    "The combined embeddings are then passed through the $N$ decoder layers, along with the encoded source, `enc_src`, and the source and target masks. Note that the number of layers in the encoder does not have to be equal to the number of layers in the decoder, even though they are both denoted by $N$.\n",
    "\n",
    "The decoder representation after the $N^{th}$ layer is then passed through a linear layer, `fc_out`. In PyTorch, the softmax operation is contained within our loss function, so we do not explicitly need to use a softmax layer here.\n",
    "\n",
    "As well as using the source mask, as we did in the encoder to prevent our model attending to `<pad>` tokens, we also use a target mask. This will be explained further in the `Seq2Seq` model which encapsulates both the encoder and decoder, but the gist of it is that it performs a similar operation as the decoder padding in the convolutional sequence-to-sequence model. As we are processing all of the target tokens at once in parallel we need a method of stopping the decoder from \"cheating\" by simply \"looking\" at what the next token in the target sequence is and outputting it. \n",
    "\n",
    "Our decoder layer also outputs the normalized attention values so we can later plot them to see what our model is actually paying attention to."
   ]
  },
  {
   "cell_type": "code",
   "execution_count": 34,
   "id": "af942f75",
   "metadata": {
    "execution": {
     "iopub.execute_input": "2022-04-15T08:44:02.555077Z",
     "iopub.status.busy": "2022-04-15T08:44:02.554244Z",
     "iopub.status.idle": "2022-04-15T08:44:02.559894Z",
     "shell.execute_reply": "2022-04-15T08:44:02.559474Z",
     "shell.execute_reply.started": "2022-04-14T12:05:23.396323Z"
    },
    "papermill": {
     "duration": 0.132354,
     "end_time": "2022-04-15T08:44:02.560024",
     "exception": false,
     "start_time": "2022-04-15T08:44:02.427670",
     "status": "completed"
    },
    "tags": []
   },
   "outputs": [],
   "source": [
    "class Decoder(nn.Module):\n",
    "    def __init__(self, \n",
    "                 output_dim, \n",
    "                 hid_dim, \n",
    "                 n_layers, \n",
    "                 n_heads, \n",
    "                 pf_dim, \n",
    "                 dropout, \n",
    "                 device,\n",
    "                 max_length = 100):\n",
    "        super().__init__()\n",
    "        \n",
    "        self.device = device\n",
    "        \n",
    "        self.tok_embedding = nn.Embedding(output_dim, hid_dim)\n",
    "        self.pos_embedding = nn.Embedding(max_length, hid_dim)\n",
    "        \n",
    "        self.layers = nn.ModuleList([DecoderLayer(hid_dim, \n",
    "                                                  n_heads, \n",
    "                                                  pf_dim, \n",
    "                                                  dropout, \n",
    "                                                  device)\n",
    "                                     for _ in range(n_layers)])\n",
    "        \n",
    "        self.fc_out = nn.Linear(hid_dim, output_dim)\n",
    "        \n",
    "        self.dropout = nn.Dropout(dropout)\n",
    "        \n",
    "        self.scale = torch.sqrt(torch.FloatTensor([hid_dim])).to(device)\n",
    "        \n",
    "    def forward(self, trg, enc_src, trg_mask, src_mask):\n",
    "        \n",
    "        #trg = [batch size, trg len]\n",
    "        #enc_src = [batch size, src len, hid dim]\n",
    "        #trg_mask = [batch size, 1, trg len, trg len]\n",
    "        #src_mask = [batch size, 1, 1, src len]\n",
    "                \n",
    "        batch_size = trg.shape[0]\n",
    "        trg_len = trg.shape[1]\n",
    "        \n",
    "        pos = torch.arange(0, trg_len).unsqueeze(0).repeat(batch_size, 1).to(self.device)\n",
    "                            \n",
    "        #pos = [batch size, trg len]\n",
    "            \n",
    "        trg = self.dropout((self.tok_embedding(trg) * self.scale) + self.pos_embedding(pos))\n",
    "                \n",
    "        #trg = [batch size, trg len, hid dim]\n",
    "        \n",
    "        for layer in self.layers:\n",
    "            trg, attention = layer(trg, enc_src, trg_mask, src_mask)\n",
    "        \n",
    "        #trg = [batch size, trg len, hid dim]\n",
    "        #attention = [batch size, n heads, trg len, src len]\n",
    "        \n",
    "        output = self.fc_out(trg)\n",
    "        \n",
    "        #output = [batch size, trg len, output dim]\n",
    "            \n",
    "        return output, attention"
   ]
  },
  {
   "cell_type": "markdown",
   "id": "9e6b75fb",
   "metadata": {
    "papermill": {
     "duration": 0.117924,
     "end_time": "2022-04-15T08:44:02.796457",
     "exception": false,
     "start_time": "2022-04-15T08:44:02.678533",
     "status": "completed"
    },
    "tags": []
   },
   "source": [
    "### Decoder Layer\n",
    "\n",
    "As mentioned previously, the decoder layer is similar to the encoder layer except that it now has two multi-head attention layers, `self_attention` and `encoder_attention`. \n",
    "\n",
    "The first performs self-attention, as in the encoder, by using the decoder representation so far as the query, key and value. This is followed by dropout, residual connection and layer normalization. This `self_attention` layer uses the target sequence mask, `trg_mask`, in order to prevent the decoder from \"cheating\" by paying attention to tokens that are \"ahead\" of the one it is currently processing as it processes all tokens in the target sentence in parallel.\n",
    "\n",
    "The second is how we actually feed the encoded source sentence, `enc_src`, into our decoder. In this multi-head attention layer the queries are the decoder representations and the keys and values are the encoder representations. Here, the source mask, `src_mask` is used to prevent the multi-head attention layer from attending to `<pad>` tokens within the source sentence. This is then followed by the dropout, residual connection and layer normalization layers. \n",
    "\n",
    "Finally, we pass this through the position-wise feedforward layer and yet another sequence of dropout, residual connection and layer normalization.\n",
    "\n",
    "The decoder layer isn't introducing any new concepts, just using the same set of layers as the encoder in a slightly different way."
   ]
  },
  {
   "cell_type": "code",
   "execution_count": 35,
   "id": "690f7b93",
   "metadata": {
    "execution": {
     "iopub.execute_input": "2022-04-15T08:44:03.048955Z",
     "iopub.status.busy": "2022-04-15T08:44:03.048110Z",
     "iopub.status.idle": "2022-04-15T08:44:03.050165Z",
     "shell.execute_reply": "2022-04-15T08:44:03.050938Z",
     "shell.execute_reply.started": "2022-04-14T12:05:23.423251Z"
    },
    "papermill": {
     "duration": 0.135498,
     "end_time": "2022-04-15T08:44:03.051099",
     "exception": false,
     "start_time": "2022-04-15T08:44:02.915601",
     "status": "completed"
    },
    "tags": []
   },
   "outputs": [],
   "source": [
    "class DecoderLayer(nn.Module):\n",
    "    def __init__(self, \n",
    "                 hid_dim, \n",
    "                 n_heads, \n",
    "                 pf_dim, \n",
    "                 dropout, \n",
    "                 device):\n",
    "        super().__init__()\n",
    "        \n",
    "        self.self_attn_layer_norm = nn.LayerNorm(hid_dim)\n",
    "        self.enc_attn_layer_norm = nn.LayerNorm(hid_dim)\n",
    "        self.ff_layer_norm = nn.LayerNorm(hid_dim)\n",
    "        self.self_attention = MultiHeadAttentionLayer(hid_dim, n_heads, dropout, device)\n",
    "        self.encoder_attention = MultiHeadAttentionLayer(hid_dim, n_heads, dropout, device)\n",
    "        self.positionwise_feedforward = PositionwiseFeedforwardLayer(hid_dim, \n",
    "                                                                     pf_dim, \n",
    "                                                                     dropout)\n",
    "        self.dropout = nn.Dropout(dropout)\n",
    "        \n",
    "    def forward(self, trg, enc_src, trg_mask, src_mask):\n",
    "        \n",
    "        #trg = [batch size, trg len, hid dim]\n",
    "        #enc_src = [batch size, src len, hid dim]\n",
    "        #trg_mask = [batch size, 1, trg len, trg len]\n",
    "        #src_mask = [batch size, 1, 1, src len]\n",
    "        \n",
    "        #self attention\n",
    "        _trg, _ = self.self_attention(trg, trg, trg, trg_mask)\n",
    "        \n",
    "        #dropout, residual connection and layer norm\n",
    "        trg = self.self_attn_layer_norm(trg + self.dropout(_trg))\n",
    "            \n",
    "        #trg = [batch size, trg len, hid dim]\n",
    "            \n",
    "        #encoder attention\n",
    "        _trg, attention = self.encoder_attention(trg, enc_src, enc_src, src_mask)\n",
    "        \n",
    "        #dropout, residual connection and layer norm\n",
    "        trg = self.enc_attn_layer_norm(trg + self.dropout(_trg))\n",
    "                    \n",
    "        #trg = [batch size, trg len, hid dim]\n",
    "        \n",
    "        #positionwise feedforward\n",
    "        _trg = self.positionwise_feedforward(trg)\n",
    "        \n",
    "        #dropout, residual and layer norm\n",
    "        trg = self.ff_layer_norm(trg + self.dropout(_trg))\n",
    "        \n",
    "        #trg = [batch size, trg len, hid dim]\n",
    "        #attention = [batch size, n heads, trg len, src len]\n",
    "        \n",
    "        return trg, attention"
   ]
  },
  {
   "cell_type": "markdown",
   "id": "c63a0933",
   "metadata": {
    "papermill": {
     "duration": 0.119971,
     "end_time": "2022-04-15T08:44:03.290296",
     "exception": false,
     "start_time": "2022-04-15T08:44:03.170325",
     "status": "completed"
    },
    "tags": []
   },
   "source": [
    "### Seq2Seq\n",
    "\n",
    "Finally, we have the `Seq2Seq` module which encapsulates the encoder and decoder, as well as handling the creation of the masks.\n",
    "\n",
    "The source mask is created by checking where the source sequence is not equal to a `<pad>` token. It is 1 where the token is not a `<pad>` token and 0 when it is. It is then unsqueezed so it can be correctly broadcast when applying the mask to the `energy`, which of shape **_[batch size, n heads, seq len, seq len]_**.\n",
    "\n",
    "The target mask is slightly more complicated. First, we create a mask for the `<pad>` tokens, as we did for the source mask. Next, we create a \"subsequent\" mask, `trg_sub_mask`, using `torch.tril`. This creates a diagonal matrix where the elements above the diagonal will be zero and the elements below the diagonal will be set to whatever the input tensor is. In this case, the input tensor will be a tensor filled with ones. So this means our `trg_sub_mask` will look something like this (for a target with 5 tokens):\n",
    "\n",
    "$$\\begin{matrix}\n",
    "1 & 0 & 0 & 0 & 0\\\\\n",
    "1 & 1 & 0 & 0 & 0\\\\\n",
    "1 & 1 & 1 & 0 & 0\\\\\n",
    "1 & 1 & 1 & 1 & 0\\\\\n",
    "1 & 1 & 1 & 1 & 1\\\\\n",
    "\\end{matrix}$$\n",
    "\n",
    "This shows what each target token (row) is allowed to look at (column). The first target token has a mask of **_[1, 0, 0, 0, 0]_** which means it can only look at the first target token. The second target token has a mask of **_[1, 1, 0, 0, 0]_** which it means it can look at both the first and second target tokens. \n",
    "\n",
    "The \"subsequent\" mask is then logically anded with the padding mask, this combines the two masks ensuring both the subsequent tokens and the padding tokens cannot be attended to. For example if the last two tokens were `<pad>` tokens the mask would look like:\n",
    "\n",
    "$$\\begin{matrix}\n",
    "1 & 0 & 0 & 0 & 0\\\\\n",
    "1 & 1 & 0 & 0 & 0\\\\\n",
    "1 & 1 & 1 & 0 & 0\\\\\n",
    "1 & 1 & 1 & 0 & 0\\\\\n",
    "1 & 1 & 1 & 0 & 0\\\\\n",
    "\\end{matrix}$$\n",
    "\n",
    "After the masks are created, they used with the encoder and decoder along with the source and target sentences to get our predicted target sentence, `output`, along with the decoder's attention over the source sequence."
   ]
  },
  {
   "cell_type": "code",
   "execution_count": 36,
   "id": "326ffc1a",
   "metadata": {
    "execution": {
     "iopub.execute_input": "2022-04-15T08:44:03.538223Z",
     "iopub.status.busy": "2022-04-15T08:44:03.537369Z",
     "iopub.status.idle": "2022-04-15T08:44:03.539253Z",
     "shell.execute_reply": "2022-04-15T08:44:03.539651Z",
     "shell.execute_reply.started": "2022-04-14T12:05:23.448704Z"
    },
    "papermill": {
     "duration": 0.131051,
     "end_time": "2022-04-15T08:44:03.539778",
     "exception": false,
     "start_time": "2022-04-15T08:44:03.408727",
     "status": "completed"
    },
    "tags": []
   },
   "outputs": [],
   "source": [
    "class Seq2Seq(nn.Module):\n",
    "    def __init__(self, \n",
    "                 encoder, \n",
    "                 decoder, \n",
    "                 src_pad_idx, \n",
    "                 trg_pad_idx, \n",
    "                 device):\n",
    "        super().__init__()\n",
    "        \n",
    "        self.encoder = encoder\n",
    "        self.decoder = decoder\n",
    "        self.src_pad_idx = src_pad_idx\n",
    "        self.trg_pad_idx = trg_pad_idx\n",
    "        self.device = device\n",
    "        \n",
    "    def make_src_mask(self, src):\n",
    "        \n",
    "        #src = [batch size, src len]\n",
    "        \n",
    "        src_mask = (src != self.src_pad_idx).unsqueeze(1).unsqueeze(2)\n",
    "\n",
    "        #src_mask = [batch size, 1, 1, src len]\n",
    "\n",
    "        return src_mask\n",
    "    \n",
    "    def make_trg_mask(self, trg):\n",
    "        \n",
    "        #trg = [batch size, trg len]\n",
    "        \n",
    "        trg_pad_mask = (trg != self.trg_pad_idx).unsqueeze(1).unsqueeze(2)\n",
    "        \n",
    "        #trg_pad_mask = [batch size, 1, 1, trg len]\n",
    "        \n",
    "        trg_len = trg.shape[1]\n",
    "        \n",
    "        trg_sub_mask = torch.tril(torch.ones((trg_len, trg_len), device = self.device)).bool()\n",
    "        \n",
    "        #trg_sub_mask = [trg len, trg len]\n",
    "            \n",
    "        trg_mask = trg_pad_mask & trg_sub_mask\n",
    "        \n",
    "        #trg_mask = [batch size, 1, trg len, trg len]\n",
    "        \n",
    "        return trg_mask\n",
    "\n",
    "    def forward(self, src, trg):\n",
    "        \n",
    "        #src = [batch size, src len]\n",
    "        #trg = [batch size, trg len]\n",
    "                \n",
    "        src_mask = self.make_src_mask(src)\n",
    "        trg_mask = self.make_trg_mask(trg)\n",
    "        \n",
    "        #src_mask = [batch size, 1, 1, src len]\n",
    "        #trg_mask = [batch size, 1, trg len, trg len]\n",
    "        \n",
    "        enc_src = self.encoder(src, src_mask)\n",
    "        \n",
    "        #enc_src = [batch size, src len, hid dim]\n",
    "                \n",
    "        output, attention = self.decoder(trg, enc_src, trg_mask, src_mask)\n",
    "        \n",
    "        #output = [batch size, trg len, output dim]\n",
    "        #attention = [batch size, n heads, trg len, src len]\n",
    "        \n",
    "        return output, attention"
   ]
  },
  {
   "cell_type": "markdown",
   "id": "3e453e8c",
   "metadata": {
    "papermill": {
     "duration": 0.123815,
     "end_time": "2022-04-15T08:44:03.781638",
     "exception": false,
     "start_time": "2022-04-15T08:44:03.657823",
     "status": "completed"
    },
    "tags": []
   },
   "source": [
    "## Training the Seq2Seq Model\n",
    "\n",
    "We can now define our encoder and decoders. This model is significantly smaller than Transformers used in research today, but is able to be run on a single GPU quickly."
   ]
  },
  {
   "cell_type": "code",
   "execution_count": 37,
   "id": "2e74a339",
   "metadata": {
    "execution": {
     "iopub.execute_input": "2022-04-15T08:44:04.028107Z",
     "iopub.status.busy": "2022-04-15T08:44:04.027528Z",
     "iopub.status.idle": "2022-04-15T08:44:11.240480Z",
     "shell.execute_reply": "2022-04-15T08:44:11.239446Z",
     "shell.execute_reply.started": "2022-04-14T12:05:23.472454Z"
    },
    "papermill": {
     "duration": 7.339005,
     "end_time": "2022-04-15T08:44:11.240630",
     "exception": false,
     "start_time": "2022-04-15T08:44:03.901625",
     "status": "completed"
    },
    "tags": []
   },
   "outputs": [],
   "source": [
    "INPUT_DIM = len(SRC.vocab)\n",
    "OUTPUT_DIM = len(TRG.vocab)\n",
    "HID_DIM = 256\n",
    "ENC_LAYERS = 3\n",
    "DEC_LAYERS = 3\n",
    "ENC_HEADS = 8\n",
    "DEC_HEADS = 8\n",
    "ENC_PF_DIM = 512\n",
    "DEC_PF_DIM = 512\n",
    "ENC_DROPOUT = 0.1\n",
    "DEC_DROPOUT = 0.1\n",
    "\n",
    "enc = Encoder(INPUT_DIM, \n",
    "              HID_DIM, \n",
    "              ENC_LAYERS, \n",
    "              ENC_HEADS, \n",
    "              ENC_PF_DIM, \n",
    "              ENC_DROPOUT, \n",
    "              device)\n",
    "\n",
    "dec = Decoder(OUTPUT_DIM, \n",
    "              HID_DIM, \n",
    "              DEC_LAYERS, \n",
    "              DEC_HEADS, \n",
    "              DEC_PF_DIM, \n",
    "              DEC_DROPOUT, \n",
    "              device)"
   ]
  },
  {
   "cell_type": "markdown",
   "id": "e93650ad",
   "metadata": {
    "papermill": {
     "duration": 0.118812,
     "end_time": "2022-04-15T08:44:11.482572",
     "exception": false,
     "start_time": "2022-04-15T08:44:11.363760",
     "status": "completed"
    },
    "tags": []
   },
   "source": [
    "Then, use them to define our whole sequence-to-sequence encapsulating model."
   ]
  },
  {
   "cell_type": "code",
   "execution_count": 38,
   "id": "b7b83fc7",
   "metadata": {
    "execution": {
     "iopub.execute_input": "2022-04-15T08:44:11.724524Z",
     "iopub.status.busy": "2022-04-15T08:44:11.723465Z",
     "iopub.status.idle": "2022-04-15T08:44:11.770909Z",
     "shell.execute_reply": "2022-04-15T08:44:11.770449Z",
     "shell.execute_reply.started": "2022-04-14T12:05:31.153863Z"
    },
    "papermill": {
     "duration": 0.170509,
     "end_time": "2022-04-15T08:44:11.771056",
     "exception": false,
     "start_time": "2022-04-15T08:44:11.600547",
     "status": "completed"
    },
    "tags": []
   },
   "outputs": [],
   "source": [
    "SRC_PAD_IDX = SRC.vocab.stoi[SRC.pad_token]\n",
    "TRG_PAD_IDX = TRG.vocab.stoi[TRG.pad_token]\n",
    "\n",
    "model = Seq2Seq(enc, dec, SRC_PAD_IDX, TRG_PAD_IDX, device).to(device)"
   ]
  },
  {
   "cell_type": "markdown",
   "id": "411e330d",
   "metadata": {
    "papermill": {
     "duration": 0.119888,
     "end_time": "2022-04-15T08:44:12.009874",
     "exception": false,
     "start_time": "2022-04-15T08:44:11.889986",
     "status": "completed"
    },
    "tags": []
   },
   "source": [
    "We can check the number of parameters, noticing it is significantly less than the 37M for the convolutional sequence-to-sequence model."
   ]
  },
  {
   "cell_type": "code",
   "execution_count": 39,
   "id": "6329b6f2",
   "metadata": {
    "execution": {
     "iopub.execute_input": "2022-04-15T08:44:12.256543Z",
     "iopub.status.busy": "2022-04-15T08:44:12.255925Z",
     "iopub.status.idle": "2022-04-15T08:44:12.258746Z",
     "shell.execute_reply": "2022-04-15T08:44:12.259149Z",
     "shell.execute_reply.started": "2022-04-14T12:05:31.2059Z"
    },
    "papermill": {
     "duration": 0.127364,
     "end_time": "2022-04-15T08:44:12.259279",
     "exception": false,
     "start_time": "2022-04-15T08:44:12.131915",
     "status": "completed"
    },
    "tags": []
   },
   "outputs": [
    {
     "name": "stdout",
     "output_type": "stream",
     "text": [
      "The model has 38,194,917 trainable parameters\n"
     ]
    }
   ],
   "source": [
    "def count_parameters(model):\n",
    "    return sum(p.numel() for p in model.parameters() if p.requires_grad)\n",
    "\n",
    "print(f'The model has {count_parameters(model):,} trainable parameters')"
   ]
  },
  {
   "cell_type": "markdown",
   "id": "ab2e8801",
   "metadata": {
    "papermill": {
     "duration": 0.118267,
     "end_time": "2022-04-15T08:44:12.498607",
     "exception": false,
     "start_time": "2022-04-15T08:44:12.380340",
     "status": "completed"
    },
    "tags": []
   },
   "source": [
    "The paper does not mention which weight initialization scheme was used, however Xavier uniform seems to be common amongst Transformer models, so we use it here."
   ]
  },
  {
   "cell_type": "code",
   "execution_count": 40,
   "id": "e674d166",
   "metadata": {
    "execution": {
     "iopub.execute_input": "2022-04-15T08:44:12.740046Z",
     "iopub.status.busy": "2022-04-15T08:44:12.739355Z",
     "iopub.status.idle": "2022-04-15T08:44:12.742092Z",
     "shell.execute_reply": "2022-04-15T08:44:12.741604Z",
     "shell.execute_reply.started": "2022-04-14T12:05:31.214019Z"
    },
    "papermill": {
     "duration": 0.12542,
     "end_time": "2022-04-15T08:44:12.742207",
     "exception": false,
     "start_time": "2022-04-15T08:44:12.616787",
     "status": "completed"
    },
    "tags": []
   },
   "outputs": [],
   "source": [
    "def initialize_weights(m):\n",
    "    if hasattr(m, 'weight') and m.weight.dim() > 1:\n",
    "        nn.init.xavier_uniform_(m.weight.data)"
   ]
  },
  {
   "cell_type": "code",
   "execution_count": 41,
   "id": "af185aac",
   "metadata": {
    "execution": {
     "iopub.execute_input": "2022-04-15T08:44:12.983757Z",
     "iopub.status.busy": "2022-04-15T08:44:12.983256Z",
     "iopub.status.idle": "2022-04-15T08:44:12.989067Z",
     "shell.execute_reply": "2022-04-15T08:44:12.988647Z",
     "shell.execute_reply.started": "2022-04-14T12:05:31.222789Z"
    },
    "papermill": {
     "duration": 0.128316,
     "end_time": "2022-04-15T08:44:12.989182",
     "exception": false,
     "start_time": "2022-04-15T08:44:12.860866",
     "status": "completed"
    },
    "tags": []
   },
   "outputs": [],
   "source": [
    "model.apply(initialize_weights);"
   ]
  },
  {
   "cell_type": "markdown",
   "id": "246046a5",
   "metadata": {
    "papermill": {
     "duration": 0.121208,
     "end_time": "2022-04-15T08:44:13.229749",
     "exception": false,
     "start_time": "2022-04-15T08:44:13.108541",
     "status": "completed"
    },
    "tags": []
   },
   "source": [
    "The optimizer used in the original Transformer paper uses Adam with a learning rate that has a \"warm-up\" and then a \"cool-down\" period. BERT and other Transformer models use Adam with a fixed learning rate, so we will implement that. Check [this](http://nlp.seas.harvard.edu/2018/04/03/attention.html#optimizer) link for more details about the original Transformer's learning rate schedule.\n",
    "\n",
    "Note that the learning rate needs to be lower than the default used by Adam or else learning is unstable."
   ]
  },
  {
   "cell_type": "code",
   "execution_count": 42,
   "id": "2956fff0",
   "metadata": {
    "execution": {
     "iopub.execute_input": "2022-04-15T08:44:13.473779Z",
     "iopub.status.busy": "2022-04-15T08:44:13.473083Z",
     "iopub.status.idle": "2022-04-15T08:44:13.475588Z",
     "shell.execute_reply": "2022-04-15T08:44:13.475190Z",
     "shell.execute_reply.started": "2022-04-14T12:05:31.233987Z"
    },
    "papermill": {
     "duration": 0.125512,
     "end_time": "2022-04-15T08:44:13.475695",
     "exception": false,
     "start_time": "2022-04-15T08:44:13.350183",
     "status": "completed"
    },
    "tags": []
   },
   "outputs": [],
   "source": [
    "LEARNING_RATE = 0.0005\n",
    "\n",
    "optimizer = torch.optim.Adam(model.parameters(), lr = LEARNING_RATE)"
   ]
  },
  {
   "cell_type": "markdown",
   "id": "45d24197",
   "metadata": {
    "papermill": {
     "duration": 0.119542,
     "end_time": "2022-04-15T08:44:13.716067",
     "exception": false,
     "start_time": "2022-04-15T08:44:13.596525",
     "status": "completed"
    },
    "tags": []
   },
   "source": [
    "Next, we define our loss function, making sure to ignore losses calculated over `<pad>` tokens."
   ]
  },
  {
   "cell_type": "code",
   "execution_count": 43,
   "id": "02659d9a",
   "metadata": {
    "execution": {
     "iopub.execute_input": "2022-04-15T08:44:13.969305Z",
     "iopub.status.busy": "2022-04-15T08:44:13.968530Z",
     "iopub.status.idle": "2022-04-15T08:44:13.971111Z",
     "shell.execute_reply": "2022-04-15T08:44:13.970654Z",
     "shell.execute_reply.started": "2022-04-14T12:05:31.241152Z"
    },
    "papermill": {
     "duration": 0.132293,
     "end_time": "2022-04-15T08:44:13.971239",
     "exception": false,
     "start_time": "2022-04-15T08:44:13.838946",
     "status": "completed"
    },
    "tags": []
   },
   "outputs": [],
   "source": [
    "criterion = nn.CrossEntropyLoss(ignore_index = TRG_PAD_IDX)"
   ]
  },
  {
   "cell_type": "markdown",
   "id": "a06cc5d3",
   "metadata": {
    "papermill": {
     "duration": 0.187083,
     "end_time": "2022-04-15T08:44:14.280981",
     "exception": false,
     "start_time": "2022-04-15T08:44:14.093898",
     "status": "completed"
    },
    "tags": []
   },
   "source": [
    "Then, we'll define our training loop. This is the exact same as the one used in the previous tutorial.\n",
    "\n",
    "As we want our model to predict the `<eos>` token but not have it be an input into our model we simply slice the `<eos>` token off the end of the sequence. Thus:\n",
    "\n",
    "$$\\begin{align*}\n",
    "\\text{trg} &= [sos, x_1, x_2, x_3, eos]\\\\\n",
    "\\text{trg[:-1]} &= [sos, x_1, x_2, x_3]\n",
    "\\end{align*}$$\n",
    "\n",
    "$x_i$ denotes actual target sequence element. We then feed this into the model to get a predicted sequence that should hopefully predict the `<eos>` token:\n",
    "\n",
    "$$\\begin{align*}\n",
    "\\text{output} &= [y_1, y_2, y_3, eos]\n",
    "\\end{align*}$$\n",
    "\n",
    "$y_i$ denotes predicted target sequence element. We then calculate our loss using the original `trg` tensor with the `<sos>` token sliced off the front, leaving the `<eos>` token:\n",
    "\n",
    "$$\\begin{align*}\n",
    "\\text{output} &= [y_1, y_2, y_3, eos]\\\\\n",
    "\\text{trg[1:]} &= [x_1, x_2, x_3, eos]\n",
    "\\end{align*}$$\n",
    "\n",
    "We then calculate our losses and update our parameters as is standard."
   ]
  },
  {
   "cell_type": "code",
   "execution_count": 44,
   "id": "75d1577a",
   "metadata": {
    "execution": {
     "iopub.execute_input": "2022-04-15T08:44:14.679442Z",
     "iopub.status.busy": "2022-04-15T08:44:14.678584Z",
     "iopub.status.idle": "2022-04-15T08:44:14.682954Z",
     "shell.execute_reply": "2022-04-15T08:44:14.683662Z",
     "shell.execute_reply.started": "2022-04-14T12:05:31.250285Z"
    },
    "papermill": {
     "duration": 0.210604,
     "end_time": "2022-04-15T08:44:14.683846",
     "exception": false,
     "start_time": "2022-04-15T08:44:14.473242",
     "status": "completed"
    },
    "tags": []
   },
   "outputs": [],
   "source": [
    "def train(model, iterator, optimizer, criterion, clip):\n",
    "    '''\n",
    "    Upd:\n",
    "        - add return max norm gradient before clip\n",
    "    '''\n",
    "    \n",
    "    model.train()\n",
    "    \n",
    "    epoch_loss = 0\n",
    "    \n",
    "    max_grad_norm = 0.0\n",
    "    \n",
    "    for i, batch in enumerate(iterator):\n",
    "        \n",
    "        src = batch.src\n",
    "        trg = batch.trg\n",
    "        \n",
    "        optimizer.zero_grad()\n",
    "        \n",
    "        output, _ = model(src, trg[:,:-1])\n",
    "                \n",
    "        #output = [batch size, trg len - 1, output dim]\n",
    "        #trg = [batch size, trg len]\n",
    "            \n",
    "        output_dim = output.shape[-1]\n",
    "            \n",
    "        output = output.contiguous().view(-1, output_dim)\n",
    "        trg = trg[:,1:].contiguous().view(-1)\n",
    "                \n",
    "        #output = [batch size * trg len - 1, output dim]\n",
    "        #trg = [batch size * trg len - 1]\n",
    "            \n",
    "        loss = criterion(output, trg)\n",
    "        \n",
    "        loss.backward()\n",
    "        \n",
    "        curr_grad_norm = torch.nn.utils.clip_grad_norm_(model.parameters(), clip)\n",
    "        \n",
    "        max_grad_norm = max(max_grad_norm, curr_grad_norm)\n",
    "        \n",
    "        optimizer.step()\n",
    "        \n",
    "        epoch_loss += loss.item()\n",
    "        \n",
    "    return epoch_loss / len(iterator), max_grad_norm"
   ]
  },
  {
   "cell_type": "markdown",
   "id": "d6b116fe",
   "metadata": {
    "papermill": {
     "duration": 0.196001,
     "end_time": "2022-04-15T08:44:15.076987",
     "exception": false,
     "start_time": "2022-04-15T08:44:14.880986",
     "status": "completed"
    },
    "tags": []
   },
   "source": [
    "The evaluation loop is the same as the training loop, just without the gradient calculations and parameter updates."
   ]
  },
  {
   "cell_type": "code",
   "execution_count": 45,
   "id": "daa5d5c9",
   "metadata": {
    "execution": {
     "iopub.execute_input": "2022-04-15T08:44:15.466524Z",
     "iopub.status.busy": "2022-04-15T08:44:15.464940Z",
     "iopub.status.idle": "2022-04-15T08:44:15.467123Z",
     "shell.execute_reply": "2022-04-15T08:44:15.467534Z",
     "shell.execute_reply.started": "2022-04-14T12:05:31.262286Z"
    },
    "papermill": {
     "duration": 0.194903,
     "end_time": "2022-04-15T08:44:15.467669",
     "exception": false,
     "start_time": "2022-04-15T08:44:15.272766",
     "status": "completed"
    },
    "tags": []
   },
   "outputs": [],
   "source": [
    "def evaluate(model, iterator, criterion):\n",
    "    \n",
    "    model.eval()\n",
    "    \n",
    "    epoch_loss = 0\n",
    "    \n",
    "    with torch.no_grad():\n",
    "    \n",
    "        for i, batch in enumerate(iterator):\n",
    "\n",
    "            src = batch.src\n",
    "            trg = batch.trg\n",
    "\n",
    "            output, _ = model(src, trg[:,:-1])\n",
    "            \n",
    "            #output = [batch size, trg len - 1, output dim]\n",
    "            #trg = [batch size, trg len]\n",
    "            \n",
    "            output_dim = output.shape[-1]\n",
    "            \n",
    "            output = output.contiguous().view(-1, output_dim)\n",
    "            trg = trg[:,1:].contiguous().view(-1)\n",
    "            \n",
    "            #output = [batch size * trg len - 1, output dim]\n",
    "            #trg = [batch size * trg len - 1]\n",
    "            \n",
    "            loss = criterion(output, trg)\n",
    "\n",
    "            epoch_loss += loss.item()\n",
    "        \n",
    "    return epoch_loss / len(iterator)"
   ]
  },
  {
   "cell_type": "markdown",
   "id": "f190dbe4",
   "metadata": {
    "papermill": {
     "duration": 0.118601,
     "end_time": "2022-04-15T08:44:15.705004",
     "exception": false,
     "start_time": "2022-04-15T08:44:15.586403",
     "status": "completed"
    },
    "tags": []
   },
   "source": [
    "We then define a small function that we can use to tell us how long an epoch takes."
   ]
  },
  {
   "cell_type": "code",
   "execution_count": 46,
   "id": "93b5e902",
   "metadata": {
    "execution": {
     "iopub.execute_input": "2022-04-15T08:44:15.949603Z",
     "iopub.status.busy": "2022-04-15T08:44:15.948805Z",
     "iopub.status.idle": "2022-04-15T08:44:15.950921Z",
     "shell.execute_reply": "2022-04-15T08:44:15.951416Z",
     "shell.execute_reply.started": "2022-04-14T12:05:31.274524Z"
    },
    "papermill": {
     "duration": 0.126084,
     "end_time": "2022-04-15T08:44:15.951567",
     "exception": false,
     "start_time": "2022-04-15T08:44:15.825483",
     "status": "completed"
    },
    "tags": []
   },
   "outputs": [],
   "source": [
    "def epoch_time(start_time, end_time):\n",
    "    elapsed_time = end_time - start_time\n",
    "    elapsed_mins = int(elapsed_time / 60)\n",
    "    elapsed_secs = int(elapsed_time - (elapsed_mins * 60))\n",
    "    return elapsed_mins, elapsed_secs"
   ]
  },
  {
   "cell_type": "markdown",
   "id": "3af26861",
   "metadata": {
    "papermill": {
     "duration": 0.118522,
     "end_time": "2022-04-15T08:44:16.189927",
     "exception": false,
     "start_time": "2022-04-15T08:44:16.071405",
     "status": "completed"
    },
    "tags": []
   },
   "source": [
    "Finally, we train our actual model. This model is almost 3x faster than the convolutional sequence-to-sequence model and also achieves a lower validation perplexity!"
   ]
  },
  {
   "cell_type": "code",
   "execution_count": 47,
   "id": "30866190",
   "metadata": {
    "execution": {
     "iopub.execute_input": "2022-04-15T08:44:16.488306Z",
     "iopub.status.busy": "2022-04-15T08:44:16.483968Z",
     "iopub.status.idle": "2022-04-15T09:22:30.836859Z",
     "shell.execute_reply": "2022-04-15T09:22:30.837566Z",
     "shell.execute_reply.started": "2022-04-14T12:05:31.28285Z"
    },
    "papermill": {
     "duration": 2294.528172,
     "end_time": "2022-04-15T09:22:30.837797",
     "exception": false,
     "start_time": "2022-04-15T08:44:16.309625",
     "status": "completed"
    },
    "tags": []
   },
   "outputs": [
    {
     "name": "stdout",
     "output_type": "stream",
     "text": [
      "Epoch: 01 Time: 3m 49s | Train: Loss = 4.207  PPL =  67.122 | Val: Loss = 3.343  PPL =  28.297 | MaxGradN = 2.062, SAVE = True\n",
      "Epoch: 02 Time: 3m 49s | Train: Loss = 3.078  PPL =  21.718 | Val: Loss = 2.826  PPL =  16.874 | MaxGradN = 1.877, SAVE = True\n",
      "Epoch: 03 Time: 3m 49s | Train: Loss = 2.551  PPL =  12.821 | Val: Loss = 2.627  PPL =  13.832 | MaxGradN = 1.833, SAVE = True\n",
      "Epoch: 04 Time: 3m 49s | Train: Loss = 2.225  PPL =   9.257 | Val: Loss = 2.565  PPL =  12.995 | MaxGradN = 1.640, SAVE = True\n",
      "Epoch: 05 Time: 3m 49s | Train: Loss = 2.000  PPL =   7.390 | Val: Loss = 2.559  PPL =  12.922 | MaxGradN = 1.945, SAVE = True\n",
      "Epoch: 06 Time: 3m 49s | Train: Loss = 1.826  PPL =   6.210 | Val: Loss = 2.585  PPL =  13.267 | MaxGradN = 1.847, SAVE = False\n",
      "Epoch: 07 Time: 3m 49s | Train: Loss = 1.684  PPL =   5.385 | Val: Loss = 2.625  PPL =  13.799 | MaxGradN = 1.859, SAVE = False\n",
      "Epoch: 08 Time: 3m 49s | Train: Loss = 1.564  PPL =   4.778 | Val: Loss = 2.698  PPL =  14.845 | MaxGradN = 1.903, SAVE = False\n",
      "Epoch: 09 Time: 3m 48s | Train: Loss = 1.462  PPL =   4.315 | Val: Loss = 2.747  PPL =  15.596 | MaxGradN = 1.921, SAVE = False\n",
      "Epoch: 10 Time: 3m 49s | Train: Loss = 1.375  PPL =   3.956 | Val: Loss = 2.806  PPL =  16.548 | MaxGradN = 1.818, SAVE = False\n"
     ]
    }
   ],
   "source": [
    "N_EPOCHS = 10\n",
    "CLIP = 1\n",
    "\n",
    "best_valid_loss = float('inf')\n",
    "\n",
    "for epoch in range(N_EPOCHS):\n",
    "    \n",
    "    start_time = time.time()\n",
    "    \n",
    "    train_loss, max_grad_norm = train(model, train_iterator, optimizer, criterion, CLIP)\n",
    "    valid_loss = evaluate(model, valid_iterator, criterion)\n",
    "    \n",
    "    end_time = time.time()\n",
    "    \n",
    "    epoch_mins, epoch_secs = epoch_time(start_time, end_time)\n",
    "    \n",
    "    if valid_loss < best_valid_loss:\n",
    "        best_valid_loss = valid_loss\n",
    "        torch.save(model.state_dict(), 'tut6-model.pt')\n",
    "        saved_best_model = True\n",
    "    else:\n",
    "        saved_best_model = False\n",
    "    \n",
    "    print('Epoch: {:02} Time: {}m {}s | Train: Loss = {:.3f}  PPL = {:7.3f} | Val: Loss = {:.3f}  PPL = {:7.3f} | MaxGradN = {:.3f}, SAVE = {}'.format(\n",
    "         epoch+1,\n",
    "         epoch_mins,\n",
    "         epoch_secs,\n",
    "         train_loss,\n",
    "         math.exp(train_loss),\n",
    "         valid_loss,\n",
    "         math.exp(valid_loss),\n",
    "         max_grad_norm,\n",
    "         saved_best_model))"
   ]
  },
  {
   "cell_type": "markdown",
   "id": "be0459db",
   "metadata": {
    "papermill": {
     "duration": 0.123935,
     "end_time": "2022-04-15T09:22:31.087330",
     "exception": false,
     "start_time": "2022-04-15T09:22:30.963395",
     "status": "completed"
    },
    "tags": []
   },
   "source": [
    "We load our \"best\" parameters and manage to achieve a better test perplexity than all previous models."
   ]
  },
  {
   "cell_type": "code",
   "execution_count": 48,
   "id": "3a9abe4e",
   "metadata": {
    "execution": {
     "iopub.execute_input": "2022-04-15T09:22:31.341681Z",
     "iopub.status.busy": "2022-04-15T09:22:31.340811Z",
     "iopub.status.idle": "2022-04-15T09:22:35.790968Z",
     "shell.execute_reply": "2022-04-15T09:22:35.791417Z",
     "shell.execute_reply.started": "2022-04-14T12:09:03.4813Z"
    },
    "papermill": {
     "duration": 4.580815,
     "end_time": "2022-04-15T09:22:35.791581",
     "exception": false,
     "start_time": "2022-04-15T09:22:31.210766",
     "status": "completed"
    },
    "tags": []
   },
   "outputs": [
    {
     "name": "stdout",
     "output_type": "stream",
     "text": [
      "| Test Loss: 2.571 | Test PPL:  13.077 |\n"
     ]
    }
   ],
   "source": [
    "model.load_state_dict(torch.load('tut6-model.pt'))\n",
    "\n",
    "test_loss = evaluate(model, test_iterator, criterion)\n",
    "\n",
    "print(f'| Test Loss: {test_loss:.3f} | Test PPL: {math.exp(test_loss):7.3f} |')"
   ]
  },
  {
   "cell_type": "markdown",
   "id": "330d11b1",
   "metadata": {
    "papermill": {
     "duration": 0.127334,
     "end_time": "2022-04-15T09:22:36.044005",
     "exception": false,
     "start_time": "2022-04-15T09:22:35.916671",
     "status": "completed"
    },
    "tags": []
   },
   "source": [
    "## Inference\n",
    "\n",
    "Now we can can translations from our model with the `translate_sentence` function below.\n",
    "\n",
    "The steps taken are:\n",
    "- tokenize the source sentence if it has not been tokenized (is a string)\n",
    "- append the `<sos>` and `<eos>` tokens\n",
    "- numericalize the source sentence\n",
    "- convert it to a tensor and add a batch dimension\n",
    "- create the source sentence mask\n",
    "- feed the source sentence and mask into the encoder\n",
    "- create a list to hold the output sentence, initialized with an `<sos>` token\n",
    "- while we have not hit a maximum length\n",
    "  - convert the current output sentence prediction into a tensor with a batch dimension\n",
    "  - create a target sentence mask\n",
    "  - place the current output, encoder output and both masks into the decoder\n",
    "  - get next output token prediction from decoder along with attention\n",
    "  - add prediction to current output sentence prediction\n",
    "  - break if the prediction was an `<eos>` token\n",
    "- convert the output sentence from indexes to tokens\n",
    "- return the output sentence (with the `<sos>` token removed) and the attention from the last layer"
   ]
  },
  {
   "cell_type": "code",
   "execution_count": 49,
   "id": "c6aca48d",
   "metadata": {
    "execution": {
     "iopub.execute_input": "2022-04-15T09:22:36.304172Z",
     "iopub.status.busy": "2022-04-15T09:22:36.300908Z",
     "iopub.status.idle": "2022-04-15T09:22:36.306410Z",
     "shell.execute_reply": "2022-04-15T09:22:36.305946Z",
     "shell.execute_reply.started": "2022-04-14T12:09:11.902275Z"
    },
    "papermill": {
     "duration": 0.13866,
     "end_time": "2022-04-15T09:22:36.306525",
     "exception": false,
     "start_time": "2022-04-15T09:22:36.167865",
     "status": "completed"
    },
    "tags": []
   },
   "outputs": [],
   "source": [
    "def translate_sentence(sentence, src_field, trg_field, model, device, max_len = 50, \n",
    "                       spacy_src_load = 'en_core_web_sm'):\n",
    "    \n",
    "    model.eval()\n",
    "        \n",
    "    if isinstance(sentence, str):\n",
    "        nlp = spacy.load(spacy_src_load)\n",
    "        tokens = [token.text.lower() for token in nlp(sentence)]\n",
    "    else:\n",
    "        tokens = [token.lower() for token in sentence]\n",
    "\n",
    "    tokens = [src_field.init_token] + tokens + [src_field.eos_token]\n",
    "        \n",
    "    src_indexes = [src_field.vocab.stoi[token] for token in tokens]\n",
    "\n",
    "    src_tensor = torch.LongTensor(src_indexes).unsqueeze(0).to(device)\n",
    "    \n",
    "    src_mask = model.make_src_mask(src_tensor)\n",
    "    \n",
    "    with torch.no_grad():\n",
    "        enc_src = model.encoder(src_tensor, src_mask)\n",
    "\n",
    "    trg_indexes = [trg_field.vocab.stoi[trg_field.init_token]]\n",
    "\n",
    "    for i in range(max_len):\n",
    "\n",
    "        trg_tensor = torch.LongTensor(trg_indexes).unsqueeze(0).to(device)\n",
    "\n",
    "        trg_mask = model.make_trg_mask(trg_tensor)\n",
    "        \n",
    "        with torch.no_grad():\n",
    "            output, attention = model.decoder(trg_tensor, enc_src, trg_mask, src_mask)\n",
    "        \n",
    "        pred_token = output.argmax(2)[:,-1].item()\n",
    "        \n",
    "        trg_indexes.append(pred_token)\n",
    "\n",
    "        if pred_token == trg_field.vocab.stoi[trg_field.eos_token]:\n",
    "            break\n",
    "    \n",
    "    trg_tokens = [trg_field.vocab.itos[i] for i in trg_indexes]\n",
    "    \n",
    "    return trg_tokens[1:], attention"
   ]
  },
  {
   "cell_type": "markdown",
   "id": "97471a49",
   "metadata": {
    "papermill": {
     "duration": 0.122937,
     "end_time": "2022-04-15T09:22:36.553645",
     "exception": false,
     "start_time": "2022-04-15T09:22:36.430708",
     "status": "completed"
    },
    "tags": []
   },
   "source": [
    "We'll now define a function that displays the attention over the source sentence for each step of the decoding. As this model has 8 heads our model we can view the attention for each of the heads."
   ]
  },
  {
   "cell_type": "code",
   "execution_count": 50,
   "id": "212f760d",
   "metadata": {
    "execution": {
     "iopub.execute_input": "2022-04-15T09:22:36.810776Z",
     "iopub.status.busy": "2022-04-15T09:22:36.810103Z",
     "iopub.status.idle": "2022-04-15T09:22:36.812487Z",
     "shell.execute_reply": "2022-04-15T09:22:36.812856Z",
     "shell.execute_reply.started": "2022-04-14T12:09:11.915751Z"
    },
    "papermill": {
     "duration": 0.135552,
     "end_time": "2022-04-15T09:22:36.812987",
     "exception": false,
     "start_time": "2022-04-15T09:22:36.677435",
     "status": "completed"
    },
    "tags": []
   },
   "outputs": [],
   "source": [
    "def display_attention(sentence, translation, attention, n_heads = 8, n_rows = 4, n_cols = 2):\n",
    "    \n",
    "    assert n_rows * n_cols == n_heads\n",
    "    \n",
    "    fig = plt.figure(figsize=(15,25))\n",
    "    \n",
    "    for i in range(n_heads):\n",
    "        \n",
    "        ax = fig.add_subplot(n_rows, n_cols, i+1)\n",
    "        \n",
    "        _attention = attention.squeeze(0)[i].cpu().detach().numpy()\n",
    "\n",
    "        cax = ax.matshow(_attention, cmap='bone')\n",
    "\n",
    "        ax.tick_params(labelsize=12)\n",
    "        ax.set_xticklabels(['']+['<sos>']+[t.lower() for t in sentence]+['<eos>'], \n",
    "                           rotation=45)\n",
    "        ax.set_yticklabels(['']+translation)\n",
    "\n",
    "        ax.xaxis.set_major_locator(ticker.MultipleLocator(1))\n",
    "        ax.yaxis.set_major_locator(ticker.MultipleLocator(1))\n",
    "\n",
    "    plt.show()\n",
    "    plt.close()"
   ]
  },
  {
   "cell_type": "markdown",
   "id": "454ee1a3",
   "metadata": {
    "papermill": {
     "duration": 0.124204,
     "end_time": "2022-04-15T09:22:37.062307",
     "exception": false,
     "start_time": "2022-04-15T09:22:36.938103",
     "status": "completed"
    },
    "tags": []
   },
   "source": [
    "First, we'll get an example from the training set."
   ]
  },
  {
   "cell_type": "code",
   "execution_count": 51,
   "id": "e5443867",
   "metadata": {
    "execution": {
     "iopub.execute_input": "2022-04-15T09:22:37.330732Z",
     "iopub.status.busy": "2022-04-15T09:22:37.330061Z",
     "iopub.status.idle": "2022-04-15T09:22:37.332842Z",
     "shell.execute_reply": "2022-04-15T09:22:37.333427Z",
     "shell.execute_reply.started": "2022-04-14T12:09:11.931035Z"
    },
    "papermill": {
     "duration": 0.148083,
     "end_time": "2022-04-15T09:22:37.333600",
     "exception": false,
     "start_time": "2022-04-15T09:22:37.185517",
     "status": "completed"
    },
    "tags": []
   },
   "outputs": [
    {
     "name": "stdout",
     "output_type": "stream",
     "text": [
      "src = ['номер', 'три', '-', 'метание', 'копья', '.']\n",
      "trg = ['throw', 'a', 'spear', '.']\n"
     ]
    }
   ],
   "source": [
    "example_idx = 8\n",
    "\n",
    "src = vars(train_data.examples[example_idx])['src']\n",
    "trg = vars(train_data.examples[example_idx])['trg']\n",
    "\n",
    "print(f'src = {src}')\n",
    "print(f'trg = {trg}')"
   ]
  },
  {
   "cell_type": "markdown",
   "id": "277a5d30",
   "metadata": {
    "papermill": {
     "duration": 0.124254,
     "end_time": "2022-04-15T09:22:37.589118",
     "exception": false,
     "start_time": "2022-04-15T09:22:37.464864",
     "status": "completed"
    },
    "tags": []
   },
   "source": [
    "Our translation looks pretty good, although our model changes *is walking by* to *walks by*. The meaning is still the same."
   ]
  },
  {
   "cell_type": "code",
   "execution_count": 52,
   "id": "9bacc9d1",
   "metadata": {
    "execution": {
     "iopub.execute_input": "2022-04-15T09:22:37.844157Z",
     "iopub.status.busy": "2022-04-15T09:22:37.843378Z",
     "iopub.status.idle": "2022-04-15T09:22:37.882352Z",
     "shell.execute_reply": "2022-04-15T09:22:37.882735Z",
     "shell.execute_reply.started": "2022-04-14T12:09:11.944891Z"
    },
    "papermill": {
     "duration": 0.169623,
     "end_time": "2022-04-15T09:22:37.882868",
     "exception": false,
     "start_time": "2022-04-15T09:22:37.713245",
     "status": "completed"
    },
    "tags": []
   },
   "outputs": [
    {
     "name": "stdout",
     "output_type": "stream",
     "text": [
      "predicted trg = ['number', 'three', '-', 'hand', '-', '<unk>', '.', '<eos>']\n"
     ]
    }
   ],
   "source": [
    "translation, attention = translate_sentence(src, SRC, TRG, model, device)\n",
    "\n",
    "print(f'predicted trg = {translation}')"
   ]
  },
  {
   "cell_type": "markdown",
   "id": "c64b5ced",
   "metadata": {
    "papermill": {
     "duration": 0.124633,
     "end_time": "2022-04-15T09:22:38.132366",
     "exception": false,
     "start_time": "2022-04-15T09:22:38.007733",
     "status": "completed"
    },
    "tags": []
   },
   "source": [
    "We can see the attention from each head below. Each is certainly different, but it's difficult (perhaps impossible) to reason about what head has actually learned to pay attention to. Some heads pay full attention to \"eine\" when translating \"a\", some don't at all, and some do a little. They all seem to follow the similar \"downward staircase\" pattern and the attention when outputting the last two tokens is equally spread over the final two tokens in the input sentence."
   ]
  },
  {
   "cell_type": "code",
   "execution_count": 53,
   "id": "5d0367e0",
   "metadata": {
    "execution": {
     "iopub.execute_input": "2022-04-15T09:22:38.397382Z",
     "iopub.status.busy": "2022-04-15T09:22:38.396484Z",
     "iopub.status.idle": "2022-04-15T09:22:39.765182Z",
     "shell.execute_reply": "2022-04-15T09:22:39.765687Z",
     "shell.execute_reply.started": "2022-04-14T12:09:12.116375Z"
    },
    "papermill": {
     "duration": 1.509413,
     "end_time": "2022-04-15T09:22:39.765856",
     "exception": false,
     "start_time": "2022-04-15T09:22:38.256443",
     "status": "completed"
    },
    "tags": []
   },
   "outputs": [
    {
     "name": "stderr",
     "output_type": "stream",
     "text": [
      "/opt/conda/lib/python3.7/site-packages/ipykernel_launcher.py:17: UserWarning: FixedFormatter should only be used together with FixedLocator\n",
      "/opt/conda/lib/python3.7/site-packages/ipykernel_launcher.py:18: UserWarning: FixedFormatter should only be used together with FixedLocator\n"
     ]
    },
    {
     "data": {
      "image/png": "[encoded data removed]",
      "text/plain": [
       "<Figure size 1080x1800 with 8 Axes>"
      ]
     },
     "metadata": {
      "needs_background": "light"
     },
     "output_type": "display_data"
    }
   ],
   "source": [
    "display_attention(src, translation, attention)"
   ]
  },
  {
   "cell_type": "markdown",
   "id": "9f8ec61c",
   "metadata": {
    "papermill": {
     "duration": 0.125391,
     "end_time": "2022-04-15T09:22:40.018816",
     "exception": false,
     "start_time": "2022-04-15T09:22:39.893425",
     "status": "completed"
    },
    "tags": []
   },
   "source": [
    "Next, let's get an example the model has not been trained on from the validation set."
   ]
  },
  {
   "cell_type": "code",
   "execution_count": 54,
   "id": "020d9a3a",
   "metadata": {
    "execution": {
     "iopub.execute_input": "2022-04-15T09:22:40.275993Z",
     "iopub.status.busy": "2022-04-15T09:22:40.275462Z",
     "iopub.status.idle": "2022-04-15T09:22:40.280204Z",
     "shell.execute_reply": "2022-04-15T09:22:40.281128Z",
     "shell.execute_reply.started": "2022-04-14T12:09:17.67034Z"
    },
    "papermill": {
     "duration": 0.136463,
     "end_time": "2022-04-15T09:22:40.281306",
     "exception": false,
     "start_time": "2022-04-15T09:22:40.144843",
     "status": "completed"
    },
    "tags": []
   },
   "outputs": [
    {
     "name": "stdout",
     "output_type": "stream",
     "text": [
      "src = ['в', 'церковных', 'дверей', ',', 'однако', ',', 'они', 'разделены', ',', 'он', 'возвращался', 'в', 'храм', ',', 'и', 'она', 'в', 'дом', 'свой', '.']\n",
      "trg = ['at', 'the', 'church', 'door', ',', 'however', ',', 'they', 'separated', ',', 'he', 'driving', 'back', 'to', 'the', 'temple', ',', 'and', 'she', 'to', 'her', 'own', 'house', '.']\n"
     ]
    }
   ],
   "source": [
    "example_idx = 6\n",
    "\n",
    "src = vars(valid_data.examples[example_idx])['src']\n",
    "trg = vars(valid_data.examples[example_idx])['trg']\n",
    "\n",
    "print(f'src = {src}')\n",
    "print(f'trg = {trg}')"
   ]
  },
  {
   "cell_type": "markdown",
   "id": "4b2dc3d2",
   "metadata": {
    "papermill": {
     "duration": 0.218128,
     "end_time": "2022-04-15T09:22:40.721830",
     "exception": false,
     "start_time": "2022-04-15T09:22:40.503702",
     "status": "completed"
    },
    "tags": []
   },
   "source": [
    "The model translates it by switching *is running* to just *runs*, but it is an acceptable swap."
   ]
  },
  {
   "cell_type": "code",
   "execution_count": 55,
   "id": "29f67c94",
   "metadata": {
    "execution": {
     "iopub.execute_input": "2022-04-15T09:22:41.075009Z",
     "iopub.status.busy": "2022-04-15T09:22:41.074181Z",
     "iopub.status.idle": "2022-04-15T09:22:41.149141Z",
     "shell.execute_reply": "2022-04-15T09:22:41.148483Z",
     "shell.execute_reply.started": "2022-04-14T12:09:17.678587Z"
    },
    "papermill": {
     "duration": 0.217001,
     "end_time": "2022-04-15T09:22:41.149276",
     "exception": false,
     "start_time": "2022-04-15T09:22:40.932275",
     "status": "completed"
    },
    "tags": []
   },
   "outputs": [
    {
     "name": "stdout",
     "output_type": "stream",
     "text": [
      "predicted trg = ['in', 'the', 'doorway', ',', 'however', ',', 'they', 'divided', ',', 'he', 'returned', 'to', 'the', 'church', ',', 'and', 'she', \"'s\", 'in', 'her', 'house', '.', '<eos>']\n"
     ]
    }
   ],
   "source": [
    "translation, attention = translate_sentence(src, SRC, TRG, model, device)\n",
    "\n",
    "print(f'predicted trg = {translation}')"
   ]
  },
  {
   "cell_type": "markdown",
   "id": "040e4a77",
   "metadata": {
    "papermill": {
     "duration": 0.132211,
     "end_time": "2022-04-15T09:22:41.408504",
     "exception": false,
     "start_time": "2022-04-15T09:22:41.276293",
     "status": "completed"
    },
    "tags": []
   },
   "source": [
    "Again, some heads pay full attention to \"ein\" whilst some pay no attention to it. Again, most of the heads seem to spread their attention over both the period and `<eos>` tokens in the source sentence when outputting the period and `<eos>` sentence in the predicted target sentence, though some seem to pay attention to tokens from near the start of the sentence."
   ]
  },
  {
   "cell_type": "code",
   "execution_count": 56,
   "id": "7dd5c38c",
   "metadata": {
    "execution": {
     "iopub.execute_input": "2022-04-15T09:22:41.680837Z",
     "iopub.status.busy": "2022-04-15T09:22:41.676584Z",
     "iopub.status.idle": "2022-04-15T09:22:44.744187Z",
     "shell.execute_reply": "2022-04-15T09:22:44.743710Z",
     "shell.execute_reply.started": "2022-04-14T12:09:17.732071Z"
    },
    "papermill": {
     "duration": 3.210057,
     "end_time": "2022-04-15T09:22:44.744314",
     "exception": false,
     "start_time": "2022-04-15T09:22:41.534257",
     "status": "completed"
    },
    "tags": []
   },
   "outputs": [
    {
     "name": "stderr",
     "output_type": "stream",
     "text": [
      "/opt/conda/lib/python3.7/site-packages/ipykernel_launcher.py:17: UserWarning: FixedFormatter should only be used together with FixedLocator\n",
      "/opt/conda/lib/python3.7/site-packages/ipykernel_launcher.py:18: UserWarning: FixedFormatter should only be used together with FixedLocator\n"
     ]
    },
    {
     "data": {
      "image/png": "[encoded data removed]",
      "text/plain": [
       "<Figure size 1080x1800 with 8 Axes>"
      ]
     },
     "metadata": {
      "needs_background": "light"
     },
     "output_type": "display_data"
    }
   ],
   "source": [
    "display_attention(src, translation, attention)"
   ]
  },
  {
   "cell_type": "markdown",
   "id": "1ce07172",
   "metadata": {
    "papermill": {
     "duration": 0.129917,
     "end_time": "2022-04-15T09:22:45.005605",
     "exception": false,
     "start_time": "2022-04-15T09:22:44.875688",
     "status": "completed"
    },
    "tags": []
   },
   "source": [
    "Finally, we'll look at an example from the test data."
   ]
  },
  {
   "cell_type": "code",
   "execution_count": 57,
   "id": "7cfc73d2",
   "metadata": {
    "execution": {
     "iopub.execute_input": "2022-04-15T09:22:45.270253Z",
     "iopub.status.busy": "2022-04-15T09:22:45.269405Z",
     "iopub.status.idle": "2022-04-15T09:22:45.272234Z",
     "shell.execute_reply": "2022-04-15T09:22:45.272640Z",
     "shell.execute_reply.started": "2022-04-14T12:09:19.752714Z"
    },
    "papermill": {
     "duration": 0.138106,
     "end_time": "2022-04-15T09:22:45.272772",
     "exception": false,
     "start_time": "2022-04-15T09:22:45.134666",
     "status": "completed"
    },
    "tags": []
   },
   "outputs": [
    {
     "name": "stdout",
     "output_type": "stream",
     "text": [
      "src = ['я', 'не', 'могу', 'ответить', 'на', 'большой', 'вопрос', '—', 'приносит', 'помощь', 'пользу', 'или', 'нет', '—', 'но', 'на', 'три', 'поставленных', 'вопроса', 'я', 'могу', 'дать', 'ответ', '.']\n",
      "trg = ['i', 'can', 'not', 'answer', 'the', 'big', 'question', ',', 'whether', 'aid', 'did', 'any', 'good', 'or', 'not', '.', 'but', 'these', 'three', 'questions', ',', 'i', 'can', 'answer', 'them', '.']\n"
     ]
    }
   ],
   "source": [
    "example_idx = 10\n",
    "\n",
    "src = vars(test_data.examples[example_idx])['src']\n",
    "trg = vars(test_data.examples[example_idx])['trg']\n",
    "\n",
    "print(f'src = {src}')\n",
    "print(f'trg = {trg}')"
   ]
  },
  {
   "cell_type": "markdown",
   "id": "a5bb8c5c",
   "metadata": {
    "papermill": {
     "duration": 0.130089,
     "end_time": "2022-04-15T09:22:45.532692",
     "exception": false,
     "start_time": "2022-04-15T09:22:45.402603",
     "status": "completed"
    },
    "tags": []
   },
   "source": [
    "A perfect translation!"
   ]
  },
  {
   "cell_type": "code",
   "execution_count": 58,
   "id": "b5fe55da",
   "metadata": {
    "execution": {
     "iopub.execute_input": "2022-04-15T09:22:45.797713Z",
     "iopub.status.busy": "2022-04-15T09:22:45.796863Z",
     "iopub.status.idle": "2022-04-15T09:22:45.883593Z",
     "shell.execute_reply": "2022-04-15T09:22:45.883968Z",
     "shell.execute_reply.started": "2022-04-14T12:09:19.760656Z"
    },
    "papermill": {
     "duration": 0.222056,
     "end_time": "2022-04-15T09:22:45.884135",
     "exception": false,
     "start_time": "2022-04-15T09:22:45.662079",
     "status": "completed"
    },
    "tags": []
   },
   "outputs": [
    {
     "name": "stdout",
     "output_type": "stream",
     "text": [
      "predicted trg = ['i', 'ca', \"n't\", 'answer', 'a', 'big', 'question', ',', 'and', 'i', 'can', 'not', 'benefit', 'from', 'a', 'good', 'job', ',', 'but', 'i', 'can', 'offer', 'you', 'three', 'questions', '.', '<eos>']\n"
     ]
    }
   ],
   "source": [
    "translation, attention = translate_sentence(src, SRC, TRG, model, device)\n",
    "\n",
    "print(f'predicted trg = {translation}')"
   ]
  },
  {
   "cell_type": "code",
   "execution_count": 59,
   "id": "10b70776",
   "metadata": {
    "execution": {
     "iopub.execute_input": "2022-04-15T09:22:46.168061Z",
     "iopub.status.busy": "2022-04-15T09:22:46.167188Z",
     "iopub.status.idle": "2022-04-15T09:22:49.930310Z",
     "shell.execute_reply": "2022-04-15T09:22:49.930729Z",
     "shell.execute_reply.started": "2022-04-14T12:09:19.838382Z"
    },
    "papermill": {
     "duration": 3.915113,
     "end_time": "2022-04-15T09:22:49.930877",
     "exception": false,
     "start_time": "2022-04-15T09:22:46.015764",
     "status": "completed"
    },
    "tags": []
   },
   "outputs": [
    {
     "name": "stderr",
     "output_type": "stream",
     "text": [
      "/opt/conda/lib/python3.7/site-packages/ipykernel_launcher.py:17: UserWarning: FixedFormatter should only be used together with FixedLocator\n",
      "/opt/conda/lib/python3.7/site-packages/ipykernel_launcher.py:18: UserWarning: FixedFormatter should only be used together with FixedLocator\n"
     ]
    },
    {
     "data": {
      "image/png": "[encoded data removed]",
      "text/plain": [
       "<Figure size 1080x1800 with 8 Axes>"
      ]
     },
     "metadata": {
      "needs_background": "light"
     },
     "output_type": "display_data"
    }
   ],
   "source": [
    "display_attention(src, translation, attention)"
   ]
  },
  {
   "cell_type": "code",
   "execution_count": 60,
   "id": "f98bbcab",
   "metadata": {
    "execution": {
     "iopub.execute_input": "2022-04-15T09:22:50.224704Z",
     "iopub.status.busy": "2022-04-15T09:22:50.223871Z",
     "iopub.status.idle": "2022-04-15T09:22:54.203733Z",
     "shell.execute_reply": "2022-04-15T09:22:54.203107Z",
     "shell.execute_reply.started": "2022-04-14T12:09:22.269859Z"
    },
    "papermill": {
     "duration": 4.131042,
     "end_time": "2022-04-15T09:22:54.203898",
     "exception": false,
     "start_time": "2022-04-15T09:22:50.072856",
     "status": "completed"
    },
    "tags": []
   },
   "outputs": [
    {
     "name": "stdout",
     "output_type": "stream",
     "text": [
      "src = как хорошо ты знаешь обо мне ?\n",
      "true trg = how well do you know about me ?\n",
      "pred trg = how good do you know about me ? <eos>\n",
      "---------------------------------------------------------\n",
      "\n",
      "src = это была далеко не сенсация .\n",
      "true trg = it was no news .\n",
      "pred trg = it was no news . <eos>\n",
      "---------------------------------------------------------\n",
      "\n",
      "src = он предложил мне повеситься на рождественской гирлянде .\n",
      "true trg = he told me to choke on a string of hot christmas lights .\n",
      "pred trg = he told me to choke on a christmas tree . <eos>\n",
      "---------------------------------------------------------\n",
      "\n",
      "src = и я люблю вас , и я всегда буду с вами .\n",
      "true trg = and i love you , and i 'll always be with you .\n",
      "pred trg = and i love you , and i 'll always be with you . <eos>\n",
      "---------------------------------------------------------\n",
      "\n",
      "src = хорошо , кто может предложить интересный мем ?\n",
      "true trg = all right everyone , who 's got some interesting memes for me ?\n",
      "pred trg = ok , who can offer an interesting meme ? <eos>\n",
      "---------------------------------------------------------\n",
      "\n",
      "src = если им придётся столкнуться лбами , чья возьмёт ? \"\n",
      "true trg = if they went head to head , who would win ? \"\n",
      "pred trg = if they have to face a <unk> , whose score ? \" <eos>\n",
      "---------------------------------------------------------\n",
      "\n"
     ]
    }
   ],
   "source": [
    "for example in train_data.examples[::len(train_data)//5]:\n",
    "\n",
    "    src = ' '.join(vars(example)['src'])\n",
    "    trg = ' '.join(vars(example)['trg'])\n",
    "\n",
    "    print(f'src = {src}')\n",
    "    print(f'true trg = {trg}')\n",
    "\n",
    "    translation, attention = translate_sentence(src, SRC, TRG, model, device)\n",
    "    print(f'pred trg = {\" \".join(translation)}')\n",
    "    \n",
    "    print('---------------------------------------------------------')\n",
    "    print()"
   ]
  },
  {
   "cell_type": "code",
   "execution_count": 61,
   "id": "17b306dd",
   "metadata": {
    "execution": {
     "iopub.execute_input": "2022-04-15T09:22:54.485774Z",
     "iopub.status.busy": "2022-04-15T09:22:54.484956Z",
     "iopub.status.idle": "2022-04-15T09:22:58.275519Z",
     "shell.execute_reply": "2022-04-15T09:22:58.274661Z",
     "shell.execute_reply.started": "2022-04-14T12:09:27.830712Z"
    },
    "papermill": {
     "duration": 3.933737,
     "end_time": "2022-04-15T09:22:58.275657",
     "exception": false,
     "start_time": "2022-04-15T09:22:54.341920",
     "status": "completed"
    },
    "tags": []
   },
   "outputs": [
    {
     "name": "stdout",
     "output_type": "stream",
     "text": [
      "src = именно это мы тут и наблюдаем .\n",
      "true trg = that 's exactly what you see here .\n",
      "pred trg = and that 's what we see here . <eos>\n",
      "---------------------------------------------------------\n",
      "\n",
      "src = у вас бы ничего не получилось .\n",
      "true trg = you really would be kind of out of luck .\n",
      "pred trg = you would n't have anything . <eos>\n",
      "---------------------------------------------------------\n",
      "\n",
      "src = исходное утверждение ничего такого нам не говорит !\n",
      "true trg = well , that does n't tell us that .\n",
      "pred trg = the original statement is not telling us anything else ! <eos>\n",
      "---------------------------------------------------------\n",
      "\n",
      "src = если на это посмотреть в пересчете на юань , несоответствие торгового баланса составит в 500 юаней .\n",
      "true trg = if you think about it in yuan , it would be a trade imbalance of 500 yuan .\n",
      "pred trg = if you look at the yuan in the yuan , the trade imbalance is 500 yuan . <eos>\n",
      "---------------------------------------------------------\n",
      "\n",
      "src = не грусти !\n",
      "true trg = cheer up !\n",
      "pred trg = not sad ! <eos>\n",
      "---------------------------------------------------------\n",
      "\n",
      "src = я ощутил чувство расслабления , закалённого чувством ожидания .\n",
      "true trg = i felt a sense of relaxation tempered with anticipation .\n",
      "pred trg = i felt like i was overwhelmed , i felt like , <unk> , waiting . <eos>\n",
      "---------------------------------------------------------\n",
      "\n"
     ]
    }
   ],
   "source": [
    "for example in valid_data.examples[::len(valid_data)//5]:\n",
    "\n",
    "    src = ' '.join(vars(example)['src'])\n",
    "    trg = ' '.join(vars(example)['trg'])\n",
    "\n",
    "    print(f'src = {src}')\n",
    "    print(f'true trg = {trg}')\n",
    "\n",
    "    translation, attention = translate_sentence(src, SRC, TRG, model, device)\n",
    "    print(f'pred trg = {\" \".join(translation)}')\n",
    "    \n",
    "    print('---------------------------------------------------------')\n",
    "    print()"
   ]
  },
  {
   "cell_type": "code",
   "execution_count": 62,
   "id": "77a313bc",
   "metadata": {
    "execution": {
     "iopub.execute_input": "2022-04-15T09:22:58.564030Z",
     "iopub.status.busy": "2022-04-15T09:22:58.563251Z",
     "iopub.status.idle": "2022-04-15T09:23:07.621294Z",
     "shell.execute_reply": "2022-04-15T09:23:07.620234Z",
     "shell.execute_reply.started": "2022-04-14T12:09:31.918562Z"
    },
    "papermill": {
     "duration": 9.204044,
     "end_time": "2022-04-15T09:23:07.621472",
     "exception": false,
     "start_time": "2022-04-15T09:22:58.417428",
     "status": "completed"
    },
    "tags": []
   },
   "outputs": [
    {
     "name": "stdout",
     "output_type": "stream",
     "text": [
      "src = это то , во что они верили . и это не было событие \" черные против белых \" .\n",
      "true trg = it 's what they believed , and it was n't about black versus white :\n",
      "pred trg = and that was n't the big mistake in the middle of the white . <eos>\n",
      "---------------------------------------------------------\n",
      "\n",
      "src = - но у вас такое лицо ...\n",
      "true trg = ilya semyonovich , these are kids from 1a.\n",
      "pred trg = - but you have a face ... <eos>\n",
      "---------------------------------------------------------\n",
      "\n",
      "src = так что давайте начнем .\n",
      "true trg = so let 's get started .\n",
      "pred trg = so let 's start . <eos>\n",
      "---------------------------------------------------------\n",
      "\n",
      "src = человек вскочил со стула и прошелся и вперед по комнате в неконтролируемых агитации .\n",
      "true trg = the man sprang from his chair and paced up and down the room in uncontrollable agitation .\n",
      "pred trg = man sprang from the chair and <unk> and forth into the room of uncontrollable agitation . <eos>\n",
      "---------------------------------------------------------\n",
      "\n",
      "src = это означает , что вы не копировать .\n",
      "true trg = that means you did n't copy .\n",
      "pred trg = that means you 're not copy . <eos>\n",
      "---------------------------------------------------------\n",
      "\n",
      "src = кто - нибудь видит здесь какой - нибудь предмет ?\n",
      "true trg = anybody see an object there ?\n",
      "pred trg = anyone sees any object here ? <eos>\n",
      "---------------------------------------------------------\n",
      "\n",
      "src = не думаю , что предлагаемые мною решения достаточно правильны или достаточно умны .\n",
      "true trg = i do n't think the solutions that i proposed are good enough or smart enough .\n",
      "pred trg = i do n't think i proposed enough to decide enough or smart enough . <eos>\n",
      "---------------------------------------------------------\n",
      "\n",
      "src = один из моих любимых видов , потому что у неё столько всяких щупалец !\n",
      "true trg = it 's one of my favorites , because it 's got all sorts of working parts .\n",
      "pred trg = one of my favorite species , because she has so much tentacles . <eos>\n",
      "---------------------------------------------------------\n",
      "\n",
      "src = ленин ...\n",
      "true trg = lenin ...\n",
      "pred trg = lenin ... <eos>\n",
      "---------------------------------------------------------\n",
      "\n",
      "src = они должны были распрощаться с кистями своих рук .\n",
      "true trg = they had to give up their wrists .\n",
      "pred trg = they had to pull off hands . <eos>\n",
      "---------------------------------------------------------\n",
      "\n",
      "src = \" я наконец - то доделал всю работу по дому , осталась только ваша комната \" .\n",
      "true trg = \" i 've finally caught up on all the housework and all that 's left is your room . \"\n",
      "pred trg = \" i finally have a whole job full - day job , stayed alone . \" <eos>\n",
      "---------------------------------------------------------\n",
      "\n"
     ]
    }
   ],
   "source": [
    "for example in test_data.examples[::len(test_data)//10]:\n",
    "\n",
    "    src = ' '.join(vars(example)['src'])\n",
    "    trg = ' '.join(vars(example)['trg'])\n",
    "\n",
    "    print(f'src = {src}')\n",
    "    print(f'true trg = {trg}')\n",
    "\n",
    "    translation, attention = translate_sentence(src, SRC, TRG, model, device)\n",
    "    print(f'pred trg = {\" \".join(translation)}')\n",
    "    \n",
    "    print('---------------------------------------------------------')\n",
    "    print()"
   ]
  },
  {
   "cell_type": "markdown",
   "id": "1ab316c3",
   "metadata": {
    "papermill": {
     "duration": 0.143824,
     "end_time": "2022-04-15T09:23:07.912303",
     "exception": false,
     "start_time": "2022-04-15T09:23:07.768479",
     "status": "completed"
    },
    "tags": []
   },
   "source": [
    "### Свои примеры"
   ]
  },
  {
   "cell_type": "code",
   "execution_count": 63,
   "id": "b89fc9f7",
   "metadata": {
    "execution": {
     "iopub.execute_input": "2022-04-15T09:23:08.208153Z",
     "iopub.status.busy": "2022-04-15T09:23:08.207291Z",
     "iopub.status.idle": "2022-04-15T09:23:23.672547Z",
     "shell.execute_reply": "2022-04-15T09:23:23.673023Z",
     "shell.execute_reply.started": "2022-04-14T13:11:30.151337Z"
    },
    "papermill": {
     "duration": 15.616583,
     "end_time": "2022-04-15T09:23:23.673224",
     "exception": false,
     "start_time": "2022-04-15T09:23:08.056641",
     "status": "completed"
    },
    "tags": []
   },
   "outputs": [
    {
     "name": "stdout",
     "output_type": "stream",
     "text": [
      "src = Это было круто!\n",
      "pred trg = it was cool ! <eos>\n",
      "----------------------------------------------------\n",
      "src = Зачем мне это нужно?\n",
      "pred trg = why should i do that ? <eos>\n",
      "----------------------------------------------------\n",
      "src = Ура, переводчик работает!\n",
      "pred trg = hooray , the interpreter works ! <eos>\n",
      "----------------------------------------------------\n",
      "src = Вчера мы ходили в магазин, цены пугают.\n",
      "pred trg = yesterday we went to the store , we 're afraid of prices . <eos>\n",
      "----------------------------------------------------\n",
      "src = Работай больше, получай меньше!\n",
      "pred trg = do more work , get less ! <eos>\n",
      "----------------------------------------------------\n",
      "src = Надеемся на Ваше понимание и приносим извинения за возможные неудобства.\n",
      "pred trg = i hope you give you a sense of your self - free sense of affection for you . <eos>\n",
      "----------------------------------------------------\n",
      "src = Квартира\n",
      "pred trg = apartment <eos>\n",
      "----------------------------------------------------\n",
      "src = Кошка гуляет сама по себе.\n",
      "pred trg = the cat is leaving her . <eos>\n",
      "----------------------------------------------------\n",
      "src = Курс будет полезен разработчикам независимо от уровня подготовки.\n",
      "pred trg = the course will be a good training , whatever . <eos>\n",
      "----------------------------------------------------\n",
      "src = Никогда не сдавайся, всегда есть третья альтернатива.\n",
      "pred trg = never give up , there 's always the third alternative . <eos>\n",
      "----------------------------------------------------\n"
     ]
    }
   ],
   "source": [
    "if TRANSLATION_DIRECTION == 'RU->EN':\n",
    "    custom_samples = ['Это было круто!',\n",
    "                      'Зачем мне это нужно?',\n",
    "                      'Ура, переводчик работает!',\n",
    "                      'Вчера мы ходили в магазин, цены пугают.',\n",
    "                      'Работай больше, получай меньше!',\n",
    "                      'Надеемся на Ваше понимание и приносим извинения за возможные неудобства.',\n",
    "                      'Квартира',\n",
    "                      'Кошка гуляет сама по себе.',\n",
    "                      'Курс будет полезен разработчикам независимо от уровня подготовки.',\n",
    "                      'Никогда не сдавайся, всегда есть третья альтернатива.']\n",
    "elif TRANSLATION_DIRECTION == 'EN->RU':\n",
    "    custom_samples = ['Previously we have only cared about the loss/perplexity of the model.',\n",
    "                      'Congratulations for finishing these tutorials! ',\n",
    "                      \"I hope you've found them useful.\",\n",
    "                      \"In so far as our client's record in boxing is concerned, he is proud of his record in boxing to date.\",\n",
    "                      'A threat to the entire licit economy.',\n",
    "                      'Yes, you may be familiar with how to operate your car.',\n",
    "                      'We just hope you also know how to change the tires on your vehicle.',\n",
    "                      'Cat and dog.',\n",
    "                      'Hello!',\n",
    "                      'Hello world!']\n",
    "\n",
    "\n",
    "for src in custom_samples:\n",
    "    translation, attention = translate_sentence(src, SRC, TRG, model, device, spacy_src_load = SPACY_SRC_LOAD)\n",
    "    print(f'src = {src}')\n",
    "    print(f'pred trg = {\" \".join(translation)}')\n",
    "    print('----------------------------------------------------')"
   ]
  },
  {
   "cell_type": "markdown",
   "id": "5234d936",
   "metadata": {
    "papermill": {
     "duration": 0.146035,
     "end_time": "2022-04-15T09:23:23.969381",
     "exception": false,
     "start_time": "2022-04-15T09:23:23.823346",
     "status": "completed"
    },
    "tags": []
   },
   "source": [
    "## BLEU\n",
    "\n",
    "Previously we have only cared about the loss/perplexity of the model. However there metrics that are specifically designed for measuring the quality of a translation - the most popular is *BLEU*. Without going into too much detail, BLEU looks at the overlap in the predicted and actual target sequences in terms of their n-grams. It will give us a number between 0 and 1 for each sequence, where 1 means there is perfect overlap, i.e. a perfect translation, although is usually shown between 0 and 100. BLEU was designed for multiple candidate translations per source sequence, however in this dataset we only have one candidate per source.\n",
    "\n",
    "We define a `calculate_bleu` function which calculates the BLEU score over a provided TorchText dataset. This function creates a corpus of the actual and predicted translation for each source sentence and then calculates the BLEU score.\n",
    "\n",
    "Finally we calculate the BLEU score for the Transformer."
   ]
  },
  {
   "cell_type": "code",
   "execution_count": 64,
   "id": "00e5030e",
   "metadata": {
    "execution": {
     "iopub.execute_input": "2022-04-15T09:23:24.270327Z",
     "iopub.status.busy": "2022-04-15T09:23:24.269711Z",
     "iopub.status.idle": "2022-04-15T09:23:24.707726Z",
     "shell.execute_reply": "2022-04-15T09:23:24.708418Z",
     "shell.execute_reply.started": "2022-04-14T12:09:39.012686Z"
    },
    "papermill": {
     "duration": 0.592702,
     "end_time": "2022-04-15T09:23:24.708629",
     "exception": false,
     "start_time": "2022-04-15T09:23:24.115927",
     "status": "completed"
    },
    "tags": []
   },
   "outputs": [],
   "source": [
    "from torchtext.data.metrics import bleu_score\n",
    "import nltk\n",
    "\n",
    "def calculate_bleu(data, src_field, trg_field, model, device, max_len = 30):\n",
    "# Добавил дополнительный score, полученный через nltk, т.к. важной особенностью настроек \n",
    "# по умолчанию является то, что в оценке используются 1,2,3,4-граммы, и если в предсказанном \n",
    "# предложении менее 4 токенов, то скоры torch и nltk будут вести себя по разному; torch \n",
    "# вернет 0.0 для такого предсказания, а nltk посчитает реальный скор без учета невозможных \n",
    "# n-грамм (при этом дополнительно выведет warning)\n",
    "\n",
    "    trgs = []\n",
    "    pred_trgs = []\n",
    "    \n",
    "    for datum in data:\n",
    "        \n",
    "        src = vars(datum)['src']\n",
    "        trg = vars(datum)['trg']\n",
    "        \n",
    "        pred_trg, _ = translate_sentence(src, src_field, trg_field, model, device, max_len)\n",
    "        \n",
    "        #cut off <eos> token\n",
    "        pred_trg = pred_trg[:-1]\n",
    "        \n",
    "        pred_trgs.append(pred_trg)\n",
    "        trgs.append([trg])\n",
    "\n",
    "    return bleu_score(pred_trgs, trgs), nltk.translate.bleu_score.corpus_bleu(trgs, pred_trgs)"
   ]
  },
  {
   "cell_type": "markdown",
   "id": "d00c7ae6",
   "metadata": {
    "papermill": {
     "duration": 0.145708,
     "end_time": "2022-04-15T09:23:25.038898",
     "exception": false,
     "start_time": "2022-04-15T09:23:24.893190",
     "status": "completed"
    },
    "tags": []
   },
   "source": [
    "We get a BLEU score of 36.52, which beats the ~34 of the convolutional sequence-to-sequence model and ~28 of the attention based RNN model. All this whilst having the least amount of parameters and the fastest training time!\n",
    "\n",
    "This number isn't really interpretable, we can't really say much about it. The most useful part of a BLEU score is that it can be used to compare different models on the same dataset, where the one with the **higher** BLEU score is \"better\"."
   ]
  },
  {
   "cell_type": "raw",
   "id": "d1df188f",
   "metadata": {
    "papermill": {
     "duration": 0.145861,
     "end_time": "2022-04-15T09:23:25.332705",
     "exception": false,
     "start_time": "2022-04-15T09:23:25.186844",
     "status": "completed"
    },
    "tags": []
   },
   "source": [
    "%%time\n",
    "bleu_score_torch, bleu_score_nltk = calculate_bleu(test_data, SRC, TRG, model, device, with_ntlk = False)\n",
    "\n",
    "print(f'BLEU score (torch) = {bleu_score_torch*100:.2f}, BLEU score (nltk) = {bleu_score_nltk*100:.2f}')"
   ]
  },
  {
   "cell_type": "markdown",
   "id": "70222d32",
   "metadata": {
    "papermill": {
     "duration": 0.145891,
     "end_time": "2022-04-15T09:23:25.626941",
     "exception": false,
     "start_time": "2022-04-15T09:23:25.481050",
     "status": "completed"
    },
    "tags": []
   },
   "source": [
    "Congratulations for finishing these tutorials! I hope you've found them useful.\n",
    "\n",
    "If you find any mistakes or want to ask any questions about any of the code or explanations used, feel free to submit a GitHub issue and I will try to correct it ASAP.\n",
    "\n",
    "## Appendix\n",
    "\n",
    "The `calculate_bleu` function above is unoptimized. Below is a significantly faster, vectorized version of it that should be used if needed. Credit for the implementation goes to [@azadyasar](https://github.com/azadyasar)."
   ]
  },
  {
   "cell_type": "code",
   "execution_count": 65,
   "id": "0a96b919",
   "metadata": {
    "execution": {
     "iopub.execute_input": "2022-04-15T09:23:25.935651Z",
     "iopub.status.busy": "2022-04-15T09:23:25.934075Z",
     "iopub.status.idle": "2022-04-15T09:23:25.936260Z",
     "shell.execute_reply": "2022-04-15T09:23:25.936664Z",
     "shell.execute_reply.started": "2022-04-14T12:09:39.379473Z"
    },
    "papermill": {
     "duration": 0.164217,
     "end_time": "2022-04-15T09:23:25.936799",
     "exception": false,
     "start_time": "2022-04-15T09:23:25.772582",
     "status": "completed"
    },
    "tags": []
   },
   "outputs": [],
   "source": [
    "def translate_sentence_vectorized(src_tensor, src_field, trg_field, model, device, max_len=30):\n",
    "    assert isinstance(src_tensor, torch.Tensor)\n",
    "\n",
    "    model.eval()\n",
    "    src_mask = model.make_src_mask(src_tensor)\n",
    "\n",
    "    with torch.no_grad():\n",
    "        enc_src = model.encoder(src_tensor, src_mask)\n",
    "    # enc_src = [batch_sz, src_len, hid_dim]\n",
    "\n",
    "    trg_indexes = [[trg_field.vocab.stoi[trg_field.init_token]] for _ in range(len(src_tensor))]\n",
    "    # Even though some examples might have been completed by producing a <eos> token\n",
    "    # we still need to feed them through the model because other are not yet finished\n",
    "    # and all examples act as a batch. Once every single sentence prediction encounters\n",
    "    # <eos> token, then we can stop predicting.\n",
    "    translations_done = [0] * len(src_tensor)\n",
    "    for i in range(max_len):\n",
    "        trg_tensor = torch.LongTensor(trg_indexes).to(device)\n",
    "        trg_mask = model.make_trg_mask(trg_tensor)\n",
    "        with torch.no_grad():\n",
    "            output, attention = model.decoder(trg_tensor, enc_src, trg_mask, src_mask)\n",
    "        pred_tokens = output.argmax(2)[:,-1]\n",
    "        for i, pred_token_i in enumerate(pred_tokens):\n",
    "            trg_indexes[i].append(pred_token_i)\n",
    "            if pred_token_i == trg_field.vocab.stoi[trg_field.eos_token]:\n",
    "                translations_done[i] = 1\n",
    "        if all(translations_done):\n",
    "            break\n",
    "\n",
    "    # Iterate through each predicted example one by one;\n",
    "    # Cut-off the portion including the after the <eos> token\n",
    "    pred_sentences = []\n",
    "    for trg_sentence in trg_indexes:\n",
    "        pred_sentence = []\n",
    "        for i in range(1, len(trg_sentence)):\n",
    "            if trg_sentence[i] == trg_field.vocab.stoi[trg_field.eos_token]:\n",
    "                break\n",
    "            pred_sentence.append(trg_field.vocab.itos[trg_sentence[i]])\n",
    "        pred_sentences.append(pred_sentence)\n",
    "\n",
    "    return pred_sentences, attention"
   ]
  },
  {
   "cell_type": "code",
   "execution_count": 66,
   "id": "32306667",
   "metadata": {
    "execution": {
     "iopub.execute_input": "2022-04-15T09:23:26.237443Z",
     "iopub.status.busy": "2022-04-15T09:23:26.236699Z",
     "iopub.status.idle": "2022-04-15T09:23:26.238749Z",
     "shell.execute_reply": "2022-04-15T09:23:26.239150Z",
     "shell.execute_reply.started": "2022-04-14T12:09:39.396478Z"
    },
    "papermill": {
     "duration": 0.155704,
     "end_time": "2022-04-15T09:23:26.239290",
     "exception": false,
     "start_time": "2022-04-15T09:23:26.083586",
     "status": "completed"
    },
    "tags": []
   },
   "outputs": [],
   "source": [
    "from torchtext.data.metrics import bleu_score\n",
    "\n",
    "def calculate_bleu_alt(iterator, src_field, trg_field, model, device, max_len = 30):\n",
    "    trgs = []\n",
    "    pred_trgs = []\n",
    "    with torch.no_grad():\n",
    "        for batch in iterator:\n",
    "            #print('Checkout01')\n",
    "            src = batch.src\n",
    "            trg = batch.trg\n",
    "            _trgs = []\n",
    "            for sentence in trg:\n",
    "                tmp = []\n",
    "                # Start from the first token which skips the <start> token\n",
    "                for i in sentence[1:]:\n",
    "                    # Targets are padded. So stop appending as soon as a padding or eos token is encountered\n",
    "                    if i == trg_field.vocab.stoi[trg_field.eos_token] or i == trg_field.vocab.stoi[trg_field.pad_token]:\n",
    "                        break\n",
    "                    tmp.append(trg_field.vocab.itos[i])\n",
    "                _trgs.append([tmp])\n",
    "            trgs += _trgs\n",
    "            pred_trg, _ = translate_sentence_vectorized(src, src_field, trg_field, model, device)\n",
    "            pred_trgs += pred_trg\n",
    "    #print('Checkout02')\n",
    "    return pred_trgs, trgs, bleu_score(pred_trgs, trgs)"
   ]
  },
  {
   "cell_type": "code",
   "execution_count": 67,
   "id": "399cc6c9",
   "metadata": {
    "execution": {
     "iopub.execute_input": "2022-04-15T09:23:26.550738Z",
     "iopub.status.busy": "2022-04-15T09:23:26.550001Z",
     "iopub.status.idle": "2022-04-15T09:26:31.185521Z",
     "shell.execute_reply": "2022-04-15T09:26:31.185994Z",
     "shell.execute_reply.started": "2022-04-14T12:09:39.409407Z"
    },
    "papermill": {
     "duration": 184.8005,
     "end_time": "2022-04-15T09:26:31.186170",
     "exception": false,
     "start_time": "2022-04-15T09:23:26.385670",
     "status": "completed"
    },
    "tags": []
   },
   "outputs": [
    {
     "name": "stdout",
     "output_type": "stream",
     "text": [
      "BLEU score (torch) = 21.10\n",
      "CPU times: user 3min 3s, sys: 185 ms, total: 3min 3s\n",
      "Wall time: 3min 4s\n"
     ]
    }
   ],
   "source": [
    "%%time\n",
    "_, _, bleu_score_torch = calculate_bleu_alt(test_iterator, SRC, TRG, model, device)\n",
    "\n",
    "print(f'BLEU score (torch) = {bleu_score_torch*100:.2f}')"
   ]
  },
  {
   "cell_type": "code",
   "execution_count": null,
   "id": "43a76f83",
   "metadata": {
    "papermill": {
     "duration": 0.267058,
     "end_time": "2022-04-15T09:26:31.628242",
     "exception": false,
     "start_time": "2022-04-15T09:26:31.361184",
     "status": "completed"
    },
    "tags": []
   },
   "outputs": [],
   "source": []
  }
 ],
 "metadata": {
  "kernelspec": {
   "display_name": "Python 3",
   "language": "python",
   "name": "python3"
  },
  "language_info": {
   "codemirror_mode": {
    "name": "ipython",
    "version": 3
   },
   "file_extension": ".py",
   "mimetype": "text/x-python",
   "name": "python",
   "nbconvert_exporter": "python",
   "pygments_lexer": "ipython3",
   "version": "3.7.12"
  },
  "papermill": {
   "default_parameters": {},
   "duration": 2785.06429,
   "end_time": "2022-04-15T09:26:34.792331",
   "environment_variables": {},
   "exception": null,
   "input_path": "__notebook__.ipynb",
   "output_path": "__notebook__.ipynb",
   "parameters": {},
   "start_time": "2022-04-15T08:40:09.728041",
   "version": "2.3.3"
  }
 },
 "nbformat": 4,
 "nbformat_minor": 5
}
