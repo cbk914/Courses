{
 "cells": [
  {
   "cell_type": "raw",
   "id": "448123bf",
   "metadata": {
    "execution": {
     "iopub.execute_input": "2022-04-07T10:55:25.68431Z",
     "iopub.status.busy": "2022-04-07T10:55:25.683762Z",
     "iopub.status.idle": "2022-04-07T10:55:25.702314Z",
     "shell.execute_reply": "2022-04-07T10:55:25.701663Z",
     "shell.execute_reply.started": "2022-04-07T10:55:25.684205Z"
    },
    "papermill": {
     "duration": 0.102909,
     "end_time": "2022-04-08T10:42:37.030898",
     "exception": false,
     "start_time": "2022-04-08T10:42:36.927989",
     "status": "completed"
    },
    "tags": []
   },
   "source": [
    "За основу взят код урока \"6 - Attention is All You Need\" из серии https://github.com/bentrevett/pytorch-seq2seq"
   ]
  },
  {
   "cell_type": "raw",
   "id": "d87f17ff",
   "metadata": {
    "papermill": {
     "duration": 0.061544,
     "end_time": "2022-04-08T10:42:37.156281",
     "exception": false,
     "start_time": "2022-04-08T10:42:37.094737",
     "status": "completed"
    },
    "tags": []
   },
   "source": [
    "Домашнее задание №2.\n",
    "\n",
    "Итоговые задания для меня:\n",
    "    + дополнить сопроводительные текстовки всем необходимым из предыдущих уроков серии лекций исходника \n",
    "      github.com/bentrevett/pytorch-seq2seq (там код seq2seq описывался и усложнялся поэтапно, от урока к\n",
    "      уроку, описания, которые уже были даны в раних уроках, не дублировались в последующих), кроме того,\n",
    "      добиться отображения изображений, которые были приведены в исходниках статей\n",
    "    + выводить больше примеров после обучения, например train/val/test -> 5/5/10 (сделать до Save Version)\n",
    "    + Save Version текущего baseline со всеми его выводами для исходного датасета Multi30k DE->EN\n",
    "    - найти и подготовить датасет для задачи RU<->EN\n",
    "    - детально разобраться и понять код семинара, где нужно, добавить соответсвующие комментарии, в т.ч.:\n",
    "        + понять смысл сlip gradient\n",
    "        - понять смысл метрики BLEU\n",
    "    - запустить baseline на новом датасете RU<->EN (скорей всего в обе стороны), проинализировать результаты\n",
    "    - запустить baseline'ы c предыдущих уроков 4 - RNN, 5 - CNN на датасете RU<->EN, сравнить результаты\n",
    "      с полученными бейзлайнами на исходном датасете DE->EN (в плане того, какая модель лучше)\n",
    "    - добавить в итоговый вывод несколько своих собственных примеров (переводов фраз, предложений и т.д.)\n",
    "    - добавить в вывод метрик при обучении норму градиента (до и после clip)\n",
    "    - поэкспериментировать с параметрами, постараться улучшить результаты baseline и в целом, постараться \n",
    "      добиться адекватных результатов, которые хоть как то можно применять на практике:\n",
    "         - процесс построения словаря, может быть, нужно поварьировать параметры min_freq, max_freq.\n",
    "         - при токенизации часть пунктуации пристыковывается к токену, например запятые идут вместе со словом\n",
    "           нормально ли это? возможно попробовать иные варианты (в том чмсле например считать пробел тоже \n",
    "           токеном, как у меня это было в одной из предыдущих задачь, найти в какой)\n",
    "         - ...\n",
    "         - ...\n",
    "         - ...\n",
    "\n",
    "Примечания:\n",
    "- за основу взят код урока \"6 - Attention is All You Need\" из серии https://github.com/bentrevett/pytorch-seq2seq\n",
    "- в качестве идеи (не для текущего урока, а в общем), неплохо было бы каким то образом сформировать эмбеддинг \n",
    "  представление общее, не зависящее от языков (например как то получая их сразу из многих языков), т.е. своего\n",
    "  рода ядро, суть понятий, объектов и т.д., качественно иной уровень, по аналогии с мыслями образами, без слов"
   ]
  },
  {
   "cell_type": "markdown",
   "id": "13f1cfc4",
   "metadata": {
    "papermill": {
     "duration": 0.060084,
     "end_time": "2022-04-08T10:42:37.277091",
     "exception": false,
     "start_time": "2022-04-08T10:42:37.217007",
     "status": "completed"
    },
    "tags": []
   },
   "source": [
    "# 6 - Attention is All You Need\n",
    "\n",
    "In this notebook we will be implementing a (slightly modified version) of the Transformer model from the [Attention is All You Need](https://arxiv.org/abs/1706.03762) paper. All images in this notebook will be taken from the Transformer paper. For more information about the Transformer, [see](https://www.mihaileric.com/posts/transformers-attention-in-disguise/) [these](https://jalammar.github.io/illustrated-transformer/) [three](http://nlp.seas.harvard.edu/2018/04/03/attention.html) articles.\n",
    "\n",
    "![](https://github.com/bentrevett/pytorch-seq2seq/raw/49df8404d938a6edbf729876405558cc2c2b3013//assets/transformer1.png)\n",
    "\n",
    "## Introduction\n",
    "\n",
    "Similar to the Convolutional Sequence-to-Sequence model, the Transformer does not use any recurrence. It also does not use any convolutional layers. Instead the model is entirely made up of linear layers, attention mechanisms and normalization. \n",
    "\n",
    "As of January 2020, Transformers are the dominant architecture in NLP and are used to achieve state-of-the-art results for many tasks and it appears as if they will be for the near future. \n",
    "\n",
    "The most popular Transformer variant is [BERT](https://arxiv.org/abs/1810.04805) (**B**idirectional **E**ncoder **R**epresentations from **T**ransformers) and pre-trained versions of BERT are commonly used to replace the embedding layers - if not more - in NLP models. \n",
    "\n",
    "A common library used when dealing with pre-trained transformers is the [Transformers](https://huggingface.co/transformers/) library, see [here](https://huggingface.co/transformers/pretrained_models.html) for a list of all pre-trained models available.\n",
    "\n",
    "The differences between the implementation in this notebook and the paper are:\n",
    "- we use a learned positional encoding instead of a static one\n",
    "- we use the standard Adam optimizer with a static learning rate instead of one with warm-up and cool-down steps\n",
    "- we do not use label smoothing\n",
    "\n",
    "We make all of these changes as they closely follow BERT's set-up and the majority of Transformer variants use a similar set-up."
   ]
  },
  {
   "cell_type": "markdown",
   "id": "65fde3b9",
   "metadata": {
    "papermill": {
     "duration": 0.061607,
     "end_time": "2022-04-08T10:42:37.402134",
     "exception": false,
     "start_time": "2022-04-08T10:42:37.340527",
     "status": "completed"
    },
    "tags": []
   },
   "source": [
    "## Preparing the Data\n",
    "\n",
    "As always, let's import all the required modules and set the random seeds for reproducability."
   ]
  },
  {
   "cell_type": "code",
   "execution_count": 1,
   "id": "c8669e51",
   "metadata": {
    "execution": {
     "iopub.execute_input": "2022-04-08T10:42:37.542518Z",
     "iopub.status.busy": "2022-04-08T10:42:37.541925Z",
     "iopub.status.idle": "2022-04-08T10:42:48.460158Z",
     "shell.execute_reply": "2022-04-08T10:42:48.460594Z",
     "shell.execute_reply.started": "2022-04-08T10:29:32.892104Z"
    },
    "papermill": {
     "duration": 10.997364,
     "end_time": "2022-04-08T10:42:48.460886",
     "exception": false,
     "start_time": "2022-04-08T10:42:37.463522",
     "status": "completed"
    },
    "tags": []
   },
   "outputs": [],
   "source": [
    "import torch\n",
    "import torch.nn as nn\n",
    "import torch.optim as optim\n",
    "\n",
    "import torchtext\n",
    "from torchtext.legacy.datasets import Multi30k\n",
    "from torchtext.legacy.data import Field, BucketIterator\n",
    "\n",
    "import matplotlib.pyplot as plt\n",
    "import matplotlib.ticker as ticker\n",
    "\n",
    "import spacy\n",
    "import numpy as np\n",
    "\n",
    "import random\n",
    "import math\n",
    "import time"
   ]
  },
  {
   "cell_type": "code",
   "execution_count": 2,
   "id": "cee871e1",
   "metadata": {
    "execution": {
     "iopub.execute_input": "2022-04-08T10:42:48.599919Z",
     "iopub.status.busy": "2022-04-08T10:42:48.599232Z",
     "iopub.status.idle": "2022-04-08T10:42:48.604667Z",
     "shell.execute_reply": "2022-04-08T10:42:48.605087Z",
     "shell.execute_reply.started": "2022-04-08T10:29:46.436021Z"
    },
    "papermill": {
     "duration": 0.076815,
     "end_time": "2022-04-08T10:42:48.605249",
     "exception": false,
     "start_time": "2022-04-08T10:42:48.528434",
     "status": "completed"
    },
    "tags": []
   },
   "outputs": [],
   "source": [
    "SEED = 1234\n",
    "\n",
    "random.seed(SEED)\n",
    "np.random.seed(SEED)\n",
    "torch.manual_seed(SEED)\n",
    "torch.cuda.manual_seed(SEED)\n",
    "torch.backends.cudnn.deterministic = True"
   ]
  },
  {
   "cell_type": "markdown",
   "id": "248b9da9",
   "metadata": {
    "papermill": {
     "duration": 0.060596,
     "end_time": "2022-04-08T10:42:48.731442",
     "exception": false,
     "start_time": "2022-04-08T10:42:48.670846",
     "status": "completed"
    },
    "tags": []
   },
   "source": [
    "We'll then create our tokenizers as before."
   ]
  },
  {
   "cell_type": "code",
   "execution_count": 3,
   "id": "c9450769",
   "metadata": {
    "execution": {
     "iopub.execute_input": "2022-04-08T10:42:48.856638Z",
     "iopub.status.busy": "2022-04-08T10:42:48.855834Z",
     "iopub.status.idle": "2022-04-08T10:43:30.845070Z",
     "shell.execute_reply": "2022-04-08T10:43:30.844500Z",
     "shell.execute_reply.started": "2022-04-08T10:29:46.448093Z"
    },
    "papermill": {
     "duration": 42.053282,
     "end_time": "2022-04-08T10:43:30.845203",
     "exception": false,
     "start_time": "2022-04-08T10:42:48.791921",
     "status": "completed"
    },
    "tags": []
   },
   "outputs": [
    {
     "name": "stdout",
     "output_type": "stream",
     "text": [
      "Collecting en-core-web-sm==3.2.0\r\n",
      "  Downloading https://github.com/explosion/spacy-models/releases/download/en_core_web_sm-3.2.0/en_core_web_sm-3.2.0-py3-none-any.whl (13.9 MB)\r\n",
      "     |████████████████████████████████| 13.9 MB 9.5 MB/s            \r\n",
      "\u001b[?25hRequirement already satisfied: spacy<3.3.0,>=3.2.0 in /opt/conda/lib/python3.7/site-packages (from en-core-web-sm==3.2.0) (3.2.3)\r\n",
      "Requirement already satisfied: numpy>=1.15.0 in /opt/conda/lib/python3.7/site-packages (from spacy<3.3.0,>=3.2.0->en-core-web-sm==3.2.0) (1.20.3)\r\n",
      "Requirement already satisfied: langcodes<4.0.0,>=3.2.0 in /opt/conda/lib/python3.7/site-packages (from spacy<3.3.0,>=3.2.0->en-core-web-sm==3.2.0) (3.3.0)\r\n",
      "Requirement already satisfied: catalogue<2.1.0,>=2.0.6 in /opt/conda/lib/python3.7/site-packages (from spacy<3.3.0,>=3.2.0->en-core-web-sm==3.2.0) (2.0.6)\r\n",
      "Requirement already satisfied: murmurhash<1.1.0,>=0.28.0 in /opt/conda/lib/python3.7/site-packages (from spacy<3.3.0,>=3.2.0->en-core-web-sm==3.2.0) (1.0.6)\r\n",
      "Requirement already satisfied: spacy-loggers<2.0.0,>=1.0.0 in /opt/conda/lib/python3.7/site-packages (from spacy<3.3.0,>=3.2.0->en-core-web-sm==3.2.0) (1.0.1)\r\n",
      "Requirement already satisfied: requests<3.0.0,>=2.13.0 in /opt/conda/lib/python3.7/site-packages (from spacy<3.3.0,>=3.2.0->en-core-web-sm==3.2.0) (2.26.0)\r\n",
      "Collecting typing-extensions<4.0.0.0,>=3.7.4\r\n",
      "  Downloading typing_extensions-3.10.0.2-py3-none-any.whl (26 kB)\r\n",
      "Requirement already satisfied: pathy>=0.3.5 in /opt/conda/lib/python3.7/site-packages (from spacy<3.3.0,>=3.2.0->en-core-web-sm==3.2.0) (0.6.1)\r\n",
      "Requirement already satisfied: packaging>=20.0 in /opt/conda/lib/python3.7/site-packages (from spacy<3.3.0,>=3.2.0->en-core-web-sm==3.2.0) (21.3)\r\n",
      "Requirement already satisfied: setuptools in /opt/conda/lib/python3.7/site-packages (from spacy<3.3.0,>=3.2.0->en-core-web-sm==3.2.0) (59.5.0)\r\n",
      "Requirement already satisfied: pydantic!=1.8,!=1.8.1,<1.9.0,>=1.7.4 in /opt/conda/lib/python3.7/site-packages (from spacy<3.3.0,>=3.2.0->en-core-web-sm==3.2.0) (1.8.2)\r\n",
      "Requirement already satisfied: srsly<3.0.0,>=2.4.1 in /opt/conda/lib/python3.7/site-packages (from spacy<3.3.0,>=3.2.0->en-core-web-sm==3.2.0) (2.4.2)\r\n",
      "Requirement already satisfied: cymem<2.1.0,>=2.0.2 in /opt/conda/lib/python3.7/site-packages (from spacy<3.3.0,>=3.2.0->en-core-web-sm==3.2.0) (2.0.6)\r\n",
      "Requirement already satisfied: preshed<3.1.0,>=3.0.2 in /opt/conda/lib/python3.7/site-packages (from spacy<3.3.0,>=3.2.0->en-core-web-sm==3.2.0) (3.0.6)\r\n",
      "Requirement already satisfied: spacy-legacy<3.1.0,>=3.0.8 in /opt/conda/lib/python3.7/site-packages (from spacy<3.3.0,>=3.2.0->en-core-web-sm==3.2.0) (3.0.9)\r\n",
      "Requirement already satisfied: typer<0.5.0,>=0.3.0 in /opt/conda/lib/python3.7/site-packages (from spacy<3.3.0,>=3.2.0->en-core-web-sm==3.2.0) (0.4.0)\r\n",
      "Requirement already satisfied: thinc<8.1.0,>=8.0.12 in /opt/conda/lib/python3.7/site-packages (from spacy<3.3.0,>=3.2.0->en-core-web-sm==3.2.0) (8.0.15)\r\n",
      "Requirement already satisfied: blis<0.8.0,>=0.4.0 in /opt/conda/lib/python3.7/site-packages (from spacy<3.3.0,>=3.2.0->en-core-web-sm==3.2.0) (0.7.6)\r\n",
      "Requirement already satisfied: tqdm<5.0.0,>=4.38.0 in /opt/conda/lib/python3.7/site-packages (from spacy<3.3.0,>=3.2.0->en-core-web-sm==3.2.0) (4.62.3)\r\n",
      "Requirement already satisfied: wasabi<1.1.0,>=0.8.1 in /opt/conda/lib/python3.7/site-packages (from spacy<3.3.0,>=3.2.0->en-core-web-sm==3.2.0) (0.9.0)\r\n",
      "Requirement already satisfied: jinja2 in /opt/conda/lib/python3.7/site-packages (from spacy<3.3.0,>=3.2.0->en-core-web-sm==3.2.0) (3.0.3)\r\n",
      "Requirement already satisfied: zipp>=0.5 in /opt/conda/lib/python3.7/site-packages (from catalogue<2.1.0,>=2.0.6->spacy<3.3.0,>=3.2.0->en-core-web-sm==3.2.0) (3.6.0)\r\n",
      "Requirement already satisfied: pyparsing!=3.0.5,>=2.0.2 in /opt/conda/lib/python3.7/site-packages (from packaging>=20.0->spacy<3.3.0,>=3.2.0->en-core-web-sm==3.2.0) (3.0.6)\r\n",
      "Requirement already satisfied: smart-open<6.0.0,>=5.0.0 in /opt/conda/lib/python3.7/site-packages (from pathy>=0.3.5->spacy<3.3.0,>=3.2.0->en-core-web-sm==3.2.0) (5.2.1)\r\n",
      "Requirement already satisfied: certifi>=2017.4.17 in /opt/conda/lib/python3.7/site-packages (from requests<3.0.0,>=2.13.0->spacy<3.3.0,>=3.2.0->en-core-web-sm==3.2.0) (2021.10.8)\r\n",
      "Requirement already satisfied: urllib3<1.27,>=1.21.1 in /opt/conda/lib/python3.7/site-packages (from requests<3.0.0,>=2.13.0->spacy<3.3.0,>=3.2.0->en-core-web-sm==3.2.0) (1.26.7)\r\n",
      "Requirement already satisfied: charset-normalizer~=2.0.0 in /opt/conda/lib/python3.7/site-packages (from requests<3.0.0,>=2.13.0->spacy<3.3.0,>=3.2.0->en-core-web-sm==3.2.0) (2.0.9)\r\n",
      "Requirement already satisfied: idna<4,>=2.5 in /opt/conda/lib/python3.7/site-packages (from requests<3.0.0,>=2.13.0->spacy<3.3.0,>=3.2.0->en-core-web-sm==3.2.0) (3.1)\r\n",
      "Requirement already satisfied: click<9.0.0,>=7.1.1 in /opt/conda/lib/python3.7/site-packages (from typer<0.5.0,>=0.3.0->spacy<3.3.0,>=3.2.0->en-core-web-sm==3.2.0) (8.0.3)\r\n",
      "Requirement already satisfied: MarkupSafe>=2.0 in /opt/conda/lib/python3.7/site-packages (from jinja2->spacy<3.3.0,>=3.2.0->en-core-web-sm==3.2.0) (2.1.1)\r\n",
      "Requirement already satisfied: importlib-metadata in /opt/conda/lib/python3.7/site-packages (from click<9.0.0,>=7.1.1->typer<0.5.0,>=0.3.0->spacy<3.3.0,>=3.2.0->en-core-web-sm==3.2.0) (4.11.3)\r\n",
      "Installing collected packages: typing-extensions\r\n",
      "  Attempting uninstall: typing-extensions\r\n",
      "    Found existing installation: typing-extensions 4.1.1\r\n",
      "    Uninstalling typing-extensions-4.1.1:\r\n",
      "      Successfully uninstalled typing-extensions-4.1.1\r\n",
      "\u001b[31mERROR: pip's dependency resolver does not currently take into account all the packages that are installed. This behaviour is the source of the following dependency conflicts.\r\n",
      "tensorflow-io 0.21.0 requires tensorflow-io-gcs-filesystem==0.21.0, which is not installed.\r\n",
      "explainable-ai-sdk 1.3.2 requires xai-image-widget, which is not installed.\r\n",
      "tensorflow 2.6.2 requires numpy~=1.19.2, but you have numpy 1.20.3 which is incompatible.\r\n",
      "tensorflow 2.6.2 requires six~=1.15.0, but you have six 1.16.0 which is incompatible.\r\n",
      "tensorflow 2.6.2 requires typing-extensions~=3.7.4, but you have typing-extensions 3.10.0.2 which is incompatible.\r\n",
      "tensorflow 2.6.2 requires wrapt~=1.12.1, but you have wrapt 1.13.3 which is incompatible.\r\n",
      "tensorflow-transform 1.5.0 requires absl-py<0.13,>=0.9, but you have absl-py 0.15.0 which is incompatible.\r\n",
      "tensorflow-transform 1.5.0 requires numpy<1.20,>=1.16, but you have numpy 1.20.3 which is incompatible.\r\n",
      "tensorflow-transform 1.5.0 requires pyarrow<6,>=1, but you have pyarrow 6.0.1 which is incompatible.\r\n",
      "tensorflow-transform 1.5.0 requires tensorflow!=2.0.*,!=2.1.*,!=2.2.*,!=2.3.*,!=2.4.*,!=2.5.*,!=2.6.*,<2.8,>=1.15.2, but you have tensorflow 2.6.2 which is incompatible.\r\n",
      "tensorflow-serving-api 2.7.0 requires tensorflow<3,>=2.7.0, but you have tensorflow 2.6.2 which is incompatible.\r\n",
      "flake8 4.0.1 requires importlib-metadata<4.3; python_version < \"3.8\", but you have importlib-metadata 4.11.3 which is incompatible.\r\n",
      "apache-beam 2.34.0 requires dill<0.3.2,>=0.3.1.1, but you have dill 0.3.4 which is incompatible.\r\n",
      "apache-beam 2.34.0 requires httplib2<0.20.0,>=0.8, but you have httplib2 0.20.2 which is incompatible.\r\n",
      "apache-beam 2.34.0 requires pyarrow<6.0.0,>=0.15.1, but you have pyarrow 6.0.1 which is incompatible.\r\n",
      "aioitertools 0.10.0 requires typing_extensions>=4.0; python_version < \"3.10\", but you have typing-extensions 3.10.0.2 which is incompatible.\r\n",
      "aiobotocore 2.1.2 requires botocore<1.23.25,>=1.23.24, but you have botocore 1.24.20 which is incompatible.\u001b[0m\r\n",
      "Successfully installed typing-extensions-3.10.0.2\r\n",
      "\u001b[33mWARNING: Running pip as the 'root' user can result in broken permissions and conflicting behaviour with the system package manager. It is recommended to use a virtual environment instead: https://pip.pypa.io/warnings/venv\u001b[0m\r\n",
      "\u001b[38;5;2m✔ Download and installation successful\u001b[0m\r\n",
      "You can now load the package via spacy.load('en_core_web_sm')\r\n",
      "Collecting de-core-news-sm==3.2.0\r\n",
      "  Downloading https://github.com/explosion/spacy-models/releases/download/de_core_news_sm-3.2.0/de_core_news_sm-3.2.0-py3-none-any.whl (19.1 MB)\r\n",
      "     |████████████████████████████████| 19.1 MB 7.9 MB/s            \r\n",
      "\u001b[?25hRequirement already satisfied: spacy<3.3.0,>=3.2.0 in /opt/conda/lib/python3.7/site-packages (from de-core-news-sm==3.2.0) (3.2.3)\r\n",
      "Requirement already satisfied: cymem<2.1.0,>=2.0.2 in /opt/conda/lib/python3.7/site-packages (from spacy<3.3.0,>=3.2.0->de-core-news-sm==3.2.0) (2.0.6)\r\n",
      "Requirement already satisfied: requests<3.0.0,>=2.13.0 in /opt/conda/lib/python3.7/site-packages (from spacy<3.3.0,>=3.2.0->de-core-news-sm==3.2.0) (2.26.0)\r\n",
      "Requirement already satisfied: blis<0.8.0,>=0.4.0 in /opt/conda/lib/python3.7/site-packages (from spacy<3.3.0,>=3.2.0->de-core-news-sm==3.2.0) (0.7.6)\r\n",
      "Requirement already satisfied: catalogue<2.1.0,>=2.0.6 in /opt/conda/lib/python3.7/site-packages (from spacy<3.3.0,>=3.2.0->de-core-news-sm==3.2.0) (2.0.6)\r\n",
      "Requirement already satisfied: jinja2 in /opt/conda/lib/python3.7/site-packages (from spacy<3.3.0,>=3.2.0->de-core-news-sm==3.2.0) (3.0.3)\r\n",
      "Requirement already satisfied: spacy-loggers<2.0.0,>=1.0.0 in /opt/conda/lib/python3.7/site-packages (from spacy<3.3.0,>=3.2.0->de-core-news-sm==3.2.0) (1.0.1)\r\n",
      "Requirement already satisfied: spacy-legacy<3.1.0,>=3.0.8 in /opt/conda/lib/python3.7/site-packages (from spacy<3.3.0,>=3.2.0->de-core-news-sm==3.2.0) (3.0.9)\r\n",
      "Requirement already satisfied: wasabi<1.1.0,>=0.8.1 in /opt/conda/lib/python3.7/site-packages (from spacy<3.3.0,>=3.2.0->de-core-news-sm==3.2.0) (0.9.0)\r\n",
      "Requirement already satisfied: typing-extensions<4.0.0.0,>=3.7.4 in /opt/conda/lib/python3.7/site-packages (from spacy<3.3.0,>=3.2.0->de-core-news-sm==3.2.0) (3.10.0.2)\r\n",
      "Requirement already satisfied: srsly<3.0.0,>=2.4.1 in /opt/conda/lib/python3.7/site-packages (from spacy<3.3.0,>=3.2.0->de-core-news-sm==3.2.0) (2.4.2)\r\n",
      "Requirement already satisfied: tqdm<5.0.0,>=4.38.0 in /opt/conda/lib/python3.7/site-packages (from spacy<3.3.0,>=3.2.0->de-core-news-sm==3.2.0) (4.62.3)\r\n",
      "Requirement already satisfied: typer<0.5.0,>=0.3.0 in /opt/conda/lib/python3.7/site-packages (from spacy<3.3.0,>=3.2.0->de-core-news-sm==3.2.0) (0.4.0)\r\n",
      "Requirement already satisfied: langcodes<4.0.0,>=3.2.0 in /opt/conda/lib/python3.7/site-packages (from spacy<3.3.0,>=3.2.0->de-core-news-sm==3.2.0) (3.3.0)\r\n",
      "Requirement already satisfied: numpy>=1.15.0 in /opt/conda/lib/python3.7/site-packages (from spacy<3.3.0,>=3.2.0->de-core-news-sm==3.2.0) (1.20.3)\r\n",
      "Requirement already satisfied: setuptools in /opt/conda/lib/python3.7/site-packages (from spacy<3.3.0,>=3.2.0->de-core-news-sm==3.2.0) (59.5.0)\r\n",
      "Requirement already satisfied: packaging>=20.0 in /opt/conda/lib/python3.7/site-packages (from spacy<3.3.0,>=3.2.0->de-core-news-sm==3.2.0) (21.3)\r\n",
      "Requirement already satisfied: pydantic!=1.8,!=1.8.1,<1.9.0,>=1.7.4 in /opt/conda/lib/python3.7/site-packages (from spacy<3.3.0,>=3.2.0->de-core-news-sm==3.2.0) (1.8.2)\r\n",
      "Requirement already satisfied: preshed<3.1.0,>=3.0.2 in /opt/conda/lib/python3.7/site-packages (from spacy<3.3.0,>=3.2.0->de-core-news-sm==3.2.0) (3.0.6)\r\n",
      "Requirement already satisfied: murmurhash<1.1.0,>=0.28.0 in /opt/conda/lib/python3.7/site-packages (from spacy<3.3.0,>=3.2.0->de-core-news-sm==3.2.0) (1.0.6)\r\n",
      "Requirement already satisfied: pathy>=0.3.5 in /opt/conda/lib/python3.7/site-packages (from spacy<3.3.0,>=3.2.0->de-core-news-sm==3.2.0) (0.6.1)\r\n",
      "Requirement already satisfied: thinc<8.1.0,>=8.0.12 in /opt/conda/lib/python3.7/site-packages (from spacy<3.3.0,>=3.2.0->de-core-news-sm==3.2.0) (8.0.15)\r\n",
      "Requirement already satisfied: zipp>=0.5 in /opt/conda/lib/python3.7/site-packages (from catalogue<2.1.0,>=2.0.6->spacy<3.3.0,>=3.2.0->de-core-news-sm==3.2.0) (3.6.0)\r\n",
      "Requirement already satisfied: pyparsing!=3.0.5,>=2.0.2 in /opt/conda/lib/python3.7/site-packages (from packaging>=20.0->spacy<3.3.0,>=3.2.0->de-core-news-sm==3.2.0) (3.0.6)\r\n",
      "Requirement already satisfied: smart-open<6.0.0,>=5.0.0 in /opt/conda/lib/python3.7/site-packages (from pathy>=0.3.5->spacy<3.3.0,>=3.2.0->de-core-news-sm==3.2.0) (5.2.1)\r\n",
      "Requirement already satisfied: idna<4,>=2.5 in /opt/conda/lib/python3.7/site-packages (from requests<3.0.0,>=2.13.0->spacy<3.3.0,>=3.2.0->de-core-news-sm==3.2.0) (3.1)\r\n",
      "Requirement already satisfied: certifi>=2017.4.17 in /opt/conda/lib/python3.7/site-packages (from requests<3.0.0,>=2.13.0->spacy<3.3.0,>=3.2.0->de-core-news-sm==3.2.0) (2021.10.8)\r\n",
      "Requirement already satisfied: urllib3<1.27,>=1.21.1 in /opt/conda/lib/python3.7/site-packages (from requests<3.0.0,>=2.13.0->spacy<3.3.0,>=3.2.0->de-core-news-sm==3.2.0) (1.26.7)\r\n",
      "Requirement already satisfied: charset-normalizer~=2.0.0 in /opt/conda/lib/python3.7/site-packages (from requests<3.0.0,>=2.13.0->spacy<3.3.0,>=3.2.0->de-core-news-sm==3.2.0) (2.0.9)\r\n",
      "Requirement already satisfied: click<9.0.0,>=7.1.1 in /opt/conda/lib/python3.7/site-packages (from typer<0.5.0,>=0.3.0->spacy<3.3.0,>=3.2.0->de-core-news-sm==3.2.0) (8.0.3)\r\n",
      "Requirement already satisfied: MarkupSafe>=2.0 in /opt/conda/lib/python3.7/site-packages (from jinja2->spacy<3.3.0,>=3.2.0->de-core-news-sm==3.2.0) (2.1.1)\r\n",
      "Requirement already satisfied: importlib-metadata in /opt/conda/lib/python3.7/site-packages (from click<9.0.0,>=7.1.1->typer<0.5.0,>=0.3.0->spacy<3.3.0,>=3.2.0->de-core-news-sm==3.2.0) (4.11.3)\r\n",
      "Installing collected packages: de-core-news-sm\r\n",
      "Successfully installed de-core-news-sm-3.2.0\r\n",
      "\u001b[33mWARNING: Running pip as the 'root' user can result in broken permissions and conflicting behaviour with the system package manager. It is recommended to use a virtual environment instead: https://pip.pypa.io/warnings/venv\u001b[0m\r\n",
      "\u001b[38;5;2m✔ Download and installation successful\u001b[0m\r\n",
      "You can now load the package via spacy.load('de_core_news_sm')\r\n"
     ]
    }
   ],
   "source": [
    "!python -m spacy download en_core_web_sm\n",
    "!python -m spacy download de_core_news_sm"
   ]
  },
  {
   "cell_type": "code",
   "execution_count": 4,
   "id": "d37aee98",
   "metadata": {
    "execution": {
     "iopub.execute_input": "2022-04-08T10:43:31.010318Z",
     "iopub.status.busy": "2022-04-08T10:43:31.009553Z",
     "iopub.status.idle": "2022-04-08T10:43:34.212165Z",
     "shell.execute_reply": "2022-04-08T10:43:34.211673Z",
     "shell.execute_reply.started": "2022-04-08T10:30:34.133215Z"
    },
    "papermill": {
     "duration": 3.286715,
     "end_time": "2022-04-08T10:43:34.212296",
     "exception": false,
     "start_time": "2022-04-08T10:43:30.925581",
     "status": "completed"
    },
    "tags": []
   },
   "outputs": [],
   "source": [
    "spacy_de = spacy.load('de_core_news_sm')\n",
    "spacy_en = spacy.load('en_core_web_sm')"
   ]
  },
  {
   "cell_type": "code",
   "execution_count": 5,
   "id": "ec291cc0",
   "metadata": {
    "execution": {
     "iopub.execute_input": "2022-04-08T10:43:34.376940Z",
     "iopub.status.busy": "2022-04-08T10:43:34.376042Z",
     "iopub.status.idle": "2022-04-08T10:43:34.377881Z",
     "shell.execute_reply": "2022-04-08T10:43:34.378311Z",
     "shell.execute_reply.started": "2022-04-08T10:30:37.776619Z"
    },
    "papermill": {
     "duration": 0.086833,
     "end_time": "2022-04-08T10:43:34.378437",
     "exception": false,
     "start_time": "2022-04-08T10:43:34.291604",
     "status": "completed"
    },
    "tags": []
   },
   "outputs": [],
   "source": [
    "def tokenize_de(text):\n",
    "    \"\"\"\n",
    "    Tokenizes German text from a string into a list of strings\n",
    "    \"\"\"\n",
    "    return [tok.text for tok in spacy_de.tokenizer(text)]\n",
    "\n",
    "def tokenize_en(text):\n",
    "    \"\"\"\n",
    "    Tokenizes English text from a string into a list of strings\n",
    "    \"\"\"\n",
    "    return [tok.text for tok in spacy_en.tokenizer(text)]"
   ]
  },
  {
   "cell_type": "markdown",
   "id": "790a6402",
   "metadata": {
    "papermill": {
     "duration": 0.078363,
     "end_time": "2022-04-08T10:43:34.536166",
     "exception": false,
     "start_time": "2022-04-08T10:43:34.457803",
     "status": "completed"
    },
    "tags": []
   },
   "source": [
    "Our fields are the same as the previous notebook. The model expects data to be fed in with the batch dimension first, so we use `batch_first = True`. "
   ]
  },
  {
   "cell_type": "code",
   "execution_count": 6,
   "id": "2fc9866f",
   "metadata": {
    "execution": {
     "iopub.execute_input": "2022-04-08T10:43:34.702222Z",
     "iopub.status.busy": "2022-04-08T10:43:34.700634Z",
     "iopub.status.idle": "2022-04-08T10:43:34.702871Z",
     "shell.execute_reply": "2022-04-08T10:43:34.703277Z",
     "shell.execute_reply.started": "2022-04-08T10:30:37.783668Z"
    },
    "papermill": {
     "duration": 0.08784,
     "end_time": "2022-04-08T10:43:34.703404",
     "exception": false,
     "start_time": "2022-04-08T10:43:34.615564",
     "status": "completed"
    },
    "tags": []
   },
   "outputs": [],
   "source": [
    "SRC = Field(tokenize = tokenize_de, \n",
    "            init_token = '<sos>', \n",
    "            eos_token = '<eos>', \n",
    "            lower = True, \n",
    "            batch_first = True)\n",
    "\n",
    "TRG = Field(tokenize = tokenize_en, \n",
    "            init_token = '<sos>', \n",
    "            eos_token = '<eos>', \n",
    "            lower = True, \n",
    "            batch_first = True)"
   ]
  },
  {
   "cell_type": "markdown",
   "id": "f9a44ace",
   "metadata": {
    "papermill": {
     "duration": 0.078497,
     "end_time": "2022-04-08T10:43:34.860846",
     "exception": false,
     "start_time": "2022-04-08T10:43:34.782349",
     "status": "completed"
    },
    "tags": []
   },
   "source": [
    "We then load the Multi30k dataset and build the vocabulary."
   ]
  },
  {
   "cell_type": "code",
   "execution_count": 7,
   "id": "d120d595",
   "metadata": {
    "execution": {
     "iopub.execute_input": "2022-04-08T10:43:35.027304Z",
     "iopub.status.busy": "2022-04-08T10:43:35.026434Z",
     "iopub.status.idle": "2022-04-08T10:43:46.856420Z",
     "shell.execute_reply": "2022-04-08T10:43:46.855937Z",
     "shell.execute_reply.started": "2022-04-08T10:30:37.798224Z"
    },
    "papermill": {
     "duration": 11.916515,
     "end_time": "2022-04-08T10:43:46.856554",
     "exception": false,
     "start_time": "2022-04-08T10:43:34.940039",
     "status": "completed"
    },
    "tags": []
   },
   "outputs": [
    {
     "name": "stdout",
     "output_type": "stream",
     "text": [
      "downloading training.tar.gz\n"
     ]
    },
    {
     "name": "stderr",
     "output_type": "stream",
     "text": [
      "training.tar.gz: 100%|██████████| 1.21M/1.21M [00:02<00:00, 567kB/s]\n"
     ]
    },
    {
     "name": "stdout",
     "output_type": "stream",
     "text": [
      "downloading validation.tar.gz\n"
     ]
    },
    {
     "name": "stderr",
     "output_type": "stream",
     "text": [
      "validation.tar.gz: 100%|██████████| 46.3k/46.3k [00:00<00:00, 174kB/s]\n"
     ]
    },
    {
     "name": "stdout",
     "output_type": "stream",
     "text": [
      "downloading mmt_task1_test2016.tar.gz\n"
     ]
    },
    {
     "name": "stderr",
     "output_type": "stream",
     "text": [
      "mmt_task1_test2016.tar.gz: 100%|██████████| 66.2k/66.2k [00:00<00:00, 166kB/s]\n"
     ]
    }
   ],
   "source": [
    "train_data, valid_data, test_data = Multi30k.splits(exts = ('.de', '.en'), \n",
    "                                                    fields = (SRC, TRG))"
   ]
  },
  {
   "cell_type": "code",
   "execution_count": 8,
   "id": "eb74f7fc",
   "metadata": {
    "execution": {
     "iopub.execute_input": "2022-04-08T10:43:47.042279Z",
     "iopub.status.busy": "2022-04-08T10:43:47.041457Z",
     "iopub.status.idle": "2022-04-08T10:43:47.044957Z",
     "shell.execute_reply": "2022-04-08T10:43:47.045384Z",
     "shell.execute_reply.started": "2022-04-08T10:30:46.532791Z"
    },
    "papermill": {
     "duration": 0.098546,
     "end_time": "2022-04-08T10:43:47.045516",
     "exception": false,
     "start_time": "2022-04-08T10:43:46.946970",
     "status": "completed"
    },
    "tags": []
   },
   "outputs": [
    {
     "name": "stdout",
     "output_type": "stream",
     "text": [
      "zwei junge weiße männer sind im freien in der nähe vieler büsche .\n",
      "['zwei', 'junge', 'weiße', 'männer', 'sind', 'im', 'freien', 'in', 'der', 'nähe', 'vieler', 'büsche', '.']\n",
      "two young , white males are outside near many bushes .\n",
      "['two', 'young', ',', 'white', 'males', 'are', 'outside', 'near', 'many', 'bushes', '.']\n",
      "\n",
      "mehrere männer mit schutzhelmen bedienen ein antriebsradsystem .\n",
      "['mehrere', 'männer', 'mit', 'schutzhelmen', 'bedienen', 'ein', 'antriebsradsystem', '.']\n",
      "several men in hard hats are operating a giant pulley system .\n",
      "['several', 'men', 'in', 'hard', 'hats', 'are', 'operating', 'a', 'giant', 'pulley', 'system', '.']\n",
      "\n",
      "ein kleines mädchen klettert in ein spielhaus aus holz .\n",
      "['ein', 'kleines', 'mädchen', 'klettert', 'in', 'ein', 'spielhaus', 'aus', 'holz', '.']\n",
      "a little girl climbing into a wooden playhouse .\n",
      "['a', 'little', 'girl', 'climbing', 'into', 'a', 'wooden', 'playhouse', '.']\n",
      "\n"
     ]
    }
   ],
   "source": [
    "for i in range(3):\n",
    "    print(' '.join(train_data.examples[i].src))\n",
    "    print(train_data.examples[i].src)\n",
    "    print(' '.join(train_data.examples[i].trg))\n",
    "    print(train_data.examples[i].trg)\n",
    "    print()"
   ]
  },
  {
   "cell_type": "code",
   "execution_count": 9,
   "id": "d50d6909",
   "metadata": {
    "execution": {
     "iopub.execute_input": "2022-04-08T10:43:47.256215Z",
     "iopub.status.busy": "2022-04-08T10:43:47.251623Z",
     "iopub.status.idle": "2022-04-08T10:43:47.510410Z",
     "shell.execute_reply": "2022-04-08T10:43:47.511021Z",
     "shell.execute_reply.started": "2022-04-08T10:30:46.545513Z"
    },
    "papermill": {
     "duration": 0.373498,
     "end_time": "2022-04-08T10:43:47.511214",
     "exception": false,
     "start_time": "2022-04-08T10:43:47.137716",
     "status": "completed"
    },
    "tags": []
   },
   "outputs": [
    {
     "name": "stdout",
     "output_type": "stream",
     "text": [
      "[('.', 28809), ('ein', 18851), ('einem', 13711), ('in', 11895), ('eine', 9909), (',', 8938), ('und', 8925), ('mit', 8843), ('auf', 8745), ('mann', 7805), ('einer', 6765), ('der', 4990), ('frau', 4186), ('die', 3949), ('zwei', 3873), ('einen', 3479), ('im', 3107), ('an', 3062), ('von', 2363), ('sich', 2273)]\n",
      "[('a', 49165), ('.', 27623), ('in', 14886), ('the', 10955), ('on', 8035), ('man', 7781), ('is', 7525), ('and', 7379), ('of', 6871), ('with', 6179), ('woman', 3973), (',', 3963), ('two', 3886), ('are', 3717), ('to', 3128), ('people', 3122), ('at', 2927), ('an', 2861), ('wearing', 2623), ('shirt', 2324)]\n",
      "Первые 10 токенов: ['<unk>', '<pad>', '<sos>', '<eos>', '.', 'ein', 'einem', 'in', 'eine', ',']\n",
      "Уникальные токены в словаре SRC (train): 7853\n",
      "Уникальные токены в словаре TRG (train): 5893\n"
     ]
    }
   ],
   "source": [
    "#.build_vocab - Construct the Vocab object for this field from one or more datasets.\n",
    "\n",
    "SRC.build_vocab(train_data, min_freq = 2)\n",
    "print(SRC.vocab.freqs.most_common(20))\n",
    "\n",
    "TRG.build_vocab(train_data, min_freq = 2)\n",
    "print(TRG.vocab.freqs.most_common(20))\n",
    "\n",
    "print(f\"Первые 10 токенов: {SRC.vocab.itos[:10]}\")\n",
    "\n",
    "print(f\"Уникальные токены в словаре SRC (train): {len(SRC.vocab)}\")\n",
    "print(f\"Уникальные токены в словаре TRG (train): {len(TRG.vocab)}\")"
   ]
  },
  {
   "cell_type": "code",
   "execution_count": 10,
   "id": "e6690c83",
   "metadata": {
    "execution": {
     "iopub.execute_input": "2022-04-08T10:43:47.700087Z",
     "iopub.status.busy": "2022-04-08T10:43:47.698425Z",
     "iopub.status.idle": "2022-04-08T10:43:47.702502Z",
     "shell.execute_reply": "2022-04-08T10:43:47.701902Z",
     "shell.execute_reply.started": "2022-04-08T10:30:46.813169Z"
    },
    "papermill": {
     "duration": 0.099742,
     "end_time": "2022-04-08T10:43:47.702664",
     "exception": false,
     "start_time": "2022-04-08T10:43:47.602922",
     "status": "completed"
    },
    "tags": []
   },
   "outputs": [
    {
     "name": "stdout",
     "output_type": "stream",
     "text": [
      "Размер обучающей выборки: 29000\n",
      "Размер валидационной выборки: 1014\n",
      "Размер тестовой выборки: 1000\n"
     ]
    }
   ],
   "source": [
    "print(f\"Размер обучающей выборки: {len(train_data.examples)}\")\n",
    "print(f\"Размер валидационной выборки: {len(valid_data.examples)}\")\n",
    "print(f\"Размер тестовой выборки: {len(test_data.examples)}\")"
   ]
  },
  {
   "cell_type": "code",
   "execution_count": 11,
   "id": "55b02511",
   "metadata": {
    "execution": {
     "iopub.execute_input": "2022-04-08T10:43:47.900650Z",
     "iopub.status.busy": "2022-04-08T10:43:47.899832Z",
     "iopub.status.idle": "2022-04-08T10:43:49.360761Z",
     "shell.execute_reply": "2022-04-08T10:43:49.360227Z",
     "shell.execute_reply.started": "2022-04-08T10:39:19.965656Z"
    },
    "papermill": {
     "duration": 1.567029,
     "end_time": "2022-04-08T10:43:49.360890",
     "exception": false,
     "start_time": "2022-04-08T10:43:47.793861",
     "status": "completed"
    },
    "tags": []
   },
   "outputs": [
    {
     "name": "stdout",
     "output_type": "stream",
     "text": [
      "SRC:\n"
     ]
    },
    {
     "data": {
      "image/png": "[encoded data removed]",
      "text/plain": [
       "<Figure size 432x288 with 1 Axes>"
      ]
     },
     "metadata": {
      "needs_background": "light"
     },
     "output_type": "display_data"
    },
    {
     "name": "stdout",
     "output_type": "stream",
     "text": [
      "TRG:\n"
     ]
    },
    {
     "data": {
      "image/png": "[encoded data removed]",
      "text/plain": [
       "<Figure size 432x288 with 1 Axes>"
      ]
     },
     "metadata": {
      "needs_background": "light"
     },
     "output_type": "display_data"
    },
    {
     "name": "stdout",
     "output_type": "stream",
     "text": [
      "SRC:\n"
     ]
    },
    {
     "data": {
      "image/png": "[encoded data removed]",
      "text/plain": [
       "<Figure size 432x288 with 1 Axes>"
      ]
     },
     "metadata": {
      "needs_background": "light"
     },
     "output_type": "display_data"
    },
    {
     "name": "stdout",
     "output_type": "stream",
     "text": [
      "TRG:\n"
     ]
    },
    {
     "data": {
      "image/png": "[encoded data removed]",
      "text/plain": [
       "<Figure size 432x288 with 1 Axes>"
      ]
     },
     "metadata": {
      "needs_background": "light"
     },
     "output_type": "display_data"
    },
    {
     "name": "stdout",
     "output_type": "stream",
     "text": [
      "SRC:\n"
     ]
    },
    {
     "data": {
      "image/png": "[encoded data removed]",
      "text/plain": [
       "<Figure size 432x288 with 1 Axes>"
      ]
     },
     "metadata": {
      "needs_background": "light"
     },
     "output_type": "display_data"
    },
    {
     "name": "stdout",
     "output_type": "stream",
     "text": [
      "TRG:\n"
     ]
    },
    {
     "data": {
      "image/png": "[encoded data removed]",
      "text/plain": [
       "<Figure size 432x288 with 1 Axes>"
      ]
     },
     "metadata": {
      "needs_background": "light"
     },
     "output_type": "display_data"
    }
   ],
   "source": [
    "import pandas as pd\n",
    "import numpy as np\n",
    "import matplotlib.pyplot as plt\n",
    "\n",
    "for data in [train_data, valid_data, test_data]:\n",
    "    print(\"SRC:\")\n",
    "    pd.Series([len(example.src) for example in data.examples]).hist(bins=50)\n",
    "    plt.show()\n",
    "    print(\"TRG:\")\n",
    "    pd.Series([len(example.trg) for example in data.examples]).hist(bins=50)\n",
    "    plt.show()"
   ]
  },
  {
   "cell_type": "markdown",
   "id": "76ef3890",
   "metadata": {
    "papermill": {
     "duration": 0.09527,
     "end_time": "2022-04-08T10:43:49.552405",
     "exception": false,
     "start_time": "2022-04-08T10:43:49.457135",
     "status": "completed"
    },
    "tags": []
   },
   "source": [
    "Finally, we define the device and the data iterator."
   ]
  },
  {
   "cell_type": "code",
   "execution_count": 12,
   "id": "dc464c55",
   "metadata": {
    "execution": {
     "iopub.execute_input": "2022-04-08T10:43:49.757460Z",
     "iopub.status.busy": "2022-04-08T10:43:49.756576Z",
     "iopub.status.idle": "2022-04-08T10:43:49.758475Z",
     "shell.execute_reply": "2022-04-08T10:43:49.758888Z",
     "shell.execute_reply.started": "2022-04-07T12:47:00.755416Z"
    },
    "papermill": {
     "duration": 0.106122,
     "end_time": "2022-04-08T10:43:49.759031",
     "exception": false,
     "start_time": "2022-04-08T10:43:49.652909",
     "status": "completed"
    },
    "tags": []
   },
   "outputs": [],
   "source": [
    "device = torch.device('cuda' if torch.cuda.is_available() else 'cpu')"
   ]
  },
  {
   "cell_type": "code",
   "execution_count": 13,
   "id": "b2d91b7c",
   "metadata": {
    "execution": {
     "iopub.execute_input": "2022-04-08T10:43:49.957507Z",
     "iopub.status.busy": "2022-04-08T10:43:49.955986Z",
     "iopub.status.idle": "2022-04-08T10:43:49.958101Z",
     "shell.execute_reply": "2022-04-08T10:43:49.958487Z",
     "shell.execute_reply.started": "2022-04-07T12:47:00.767238Z"
    },
    "papermill": {
     "duration": 0.103178,
     "end_time": "2022-04-08T10:43:49.958625",
     "exception": false,
     "start_time": "2022-04-08T10:43:49.855447",
     "status": "completed"
    },
    "tags": []
   },
   "outputs": [],
   "source": [
    "BATCH_SIZE = 128\n",
    "\n",
    "train_iterator, valid_iterator, test_iterator = BucketIterator.splits(\n",
    "    (train_data, valid_data, test_data), \n",
    "     batch_size = BATCH_SIZE,\n",
    "     device = device)"
   ]
  },
  {
   "cell_type": "markdown",
   "id": "1ddf1554",
   "metadata": {
    "papermill": {
     "duration": 0.098445,
     "end_time": "2022-04-08T10:43:50.153226",
     "exception": false,
     "start_time": "2022-04-08T10:43:50.054781",
     "status": "completed"
    },
    "tags": []
   },
   "source": [
    "## Building the Model\n",
    "\n",
    "Next, we'll build the model. Like previous notebooks it is made up of an *encoder* and a *decoder*, with the encoder *encoding* the input/source sentence (in German) into *context vector* and the decoder then *decoding* this context vector to output our output/target sentence (in English). \n",
    "\n",
    "### Encoder\n",
    "\n",
    "Similar to the ConvSeq2Seq model, the Transformer's encoder does not attempt to compress the entire source sentence, $X = (x_1, ... ,x_n)$, into a single context vector, $z$. Instead it produces a sequence of context vectors, $Z = (z_1, ... , z_n)$. So, if our input sequence was 5 tokens long we would have $Z = (z_1, z_2, z_3, z_4, z_5)$. Why do we call this a sequence of context vectors and not a sequence of hidden states? A hidden state at time $t$ in an RNN has only seen tokens $x_t$ and all the tokens before it. However, each context vector here has seen all tokens at all positions within the input sequence.\n",
    "\n",
    "![](https://github.com/bentrevett/pytorch-seq2seq/raw/49df8404d938a6edbf729876405558cc2c2b3013//assets/transformer-encoder.png)\n",
    "\n",
    "First, the tokens are passed through a standard embedding layer. Next, as the model has no recurrent it has no idea about the order of the tokens within the sequence. We solve this by using a second embedding layer called a *positional embedding layer*. This is a standard embedding layer where the input is not the token itself but the position of the token within the sequence, starting with the first token, the `<sos>` (start of sequence) token, in position 0. The position embedding has a \"vocabulary\" size of 100, which means our model can accept sentences up to 100 tokens long. This can be increased if we want to handle longer sentences.\n",
    "\n",
    "The original Transformer implementation from the Attention is All You Need paper does not learn positional embeddings. Instead it uses a fixed static embedding. Modern Transformer architectures, like BERT, use positional embeddings instead, hence we have decided to use them in these tutorials. Check out [this](http://nlp.seas.harvard.edu/2018/04/03/attention.html#positional-encoding) section to read more about the positional embeddings used in the original Transformer model.\n",
    "\n",
    "Next, the token and positional embeddings are elementwise summed together to get a vector which contains information about the token and also its position with in the sequence. However, before they are summed, the token embeddings are multiplied by a scaling factor which is $\\sqrt{d_{model}}$, where $d_{model}$ is the hidden dimension size, `hid_dim`. This supposedly reduces variance in the embeddings and the model is difficult to train reliably without this scaling factor. Dropout is then applied to the combined embeddings.\n",
    "\n",
    "The combined embeddings are then passed through $N$ *encoder layers* to get $Z$, which is then output and can be used by the decoder.\n",
    "\n",
    "The source mask, `src_mask`, is simply the same shape as the source sentence but has a value of 1 when the token in the source sentence is not a `<pad>` token and 0 when it is a `<pad>` token. This is used in the encoder layers to mask the multi-head attention mechanisms, which are used to calculate and apply attention over the source sentence, so the model does not pay attention to `<pad>` tokens, which contain no useful information."
   ]
  },
  {
   "cell_type": "code",
   "execution_count": 14,
   "id": "e25f6798",
   "metadata": {
    "execution": {
     "iopub.execute_input": "2022-04-08T10:43:50.357460Z",
     "iopub.status.busy": "2022-04-08T10:43:50.355838Z",
     "iopub.status.idle": "2022-04-08T10:43:50.358053Z",
     "shell.execute_reply": "2022-04-08T10:43:50.358444Z",
     "shell.execute_reply.started": "2022-04-07T12:47:00.775737Z"
    },
    "papermill": {
     "duration": 0.108675,
     "end_time": "2022-04-08T10:43:50.358581",
     "exception": false,
     "start_time": "2022-04-08T10:43:50.249906",
     "status": "completed"
    },
    "tags": []
   },
   "outputs": [],
   "source": [
    "class Encoder(nn.Module):\n",
    "    def __init__(self, \n",
    "                 input_dim, \n",
    "                 hid_dim, \n",
    "                 n_layers, \n",
    "                 n_heads, \n",
    "                 pf_dim,\n",
    "                 dropout, \n",
    "                 device,\n",
    "                 max_length = 100):\n",
    "        super().__init__()\n",
    "\n",
    "        self.device = device\n",
    "        \n",
    "        self.tok_embedding = nn.Embedding(input_dim, hid_dim)\n",
    "        self.pos_embedding = nn.Embedding(max_length, hid_dim)\n",
    "        \n",
    "        self.layers = nn.ModuleList([EncoderLayer(hid_dim, \n",
    "                                                  n_heads, \n",
    "                                                  pf_dim,\n",
    "                                                  dropout, \n",
    "                                                  device) \n",
    "                                     for _ in range(n_layers)])\n",
    "        \n",
    "        self.dropout = nn.Dropout(dropout)\n",
    "        \n",
    "        self.scale = torch.sqrt(torch.FloatTensor([hid_dim])).to(device)\n",
    "        \n",
    "    def forward(self, src, src_mask):\n",
    "        \n",
    "        #src = [batch size, src len]\n",
    "        #src_mask = [batch size, 1, 1, src len]\n",
    "        \n",
    "        batch_size = src.shape[0]\n",
    "        src_len = src.shape[1]\n",
    "        \n",
    "        pos = torch.arange(0, src_len).unsqueeze(0).repeat(batch_size, 1).to(self.device)\n",
    "        \n",
    "        #pos = [batch size, src len]\n",
    "        \n",
    "        src = self.dropout((self.tok_embedding(src) * self.scale) + self.pos_embedding(pos))\n",
    "        \n",
    "        #src = [batch size, src len, hid dim]\n",
    "        \n",
    "        for layer in self.layers:\n",
    "            src = layer(src, src_mask)\n",
    "            \n",
    "        #src = [batch size, src len, hid dim]\n",
    "            \n",
    "        return src"
   ]
  },
  {
   "cell_type": "markdown",
   "id": "940d878e",
   "metadata": {
    "papermill": {
     "duration": 0.094779,
     "end_time": "2022-04-08T10:43:50.548708",
     "exception": false,
     "start_time": "2022-04-08T10:43:50.453929",
     "status": "completed"
    },
    "tags": []
   },
   "source": [
    "### Encoder Layer\n",
    "\n",
    "The encoder layers are where all of the \"meat\" of the encoder is contained. We first pass the source sentence and its mask into the *multi-head attention layer*, then perform dropout on it, apply a residual connection and pass it through a [Layer Normalization](https://arxiv.org/abs/1607.06450) layer. We then pass it through a *position-wise feedforward* layer and then, again, apply dropout, a residual connection and then layer normalization to get the output of this layer which is fed into the next layer. The parameters are not shared between layers. \n",
    "\n",
    "The mutli head attention layer is used by the encoder layer to attend to the source sentence, i.e. it is calculating and applying attention over itself instead of another sequence, hence we call it *self attention*.\n",
    "\n",
    "[This](https://mlexplained.com/2018/01/13/weight-normalization-and-layer-normalization-explained-normalization-in-deep-learning-part-2/) article goes into more detail about layer normalization, but the gist is that it normalizes the values of the features, i.e. across the hidden dimension, so each feature has a mean of 0 and a standard deviation of 1. This allows neural networks with a larger number of layers, like the Transformer, to be trained easier."
   ]
  },
  {
   "cell_type": "code",
   "execution_count": 15,
   "id": "8d3dbce7",
   "metadata": {
    "execution": {
     "iopub.execute_input": "2022-04-08T10:43:50.750771Z",
     "iopub.status.busy": "2022-04-08T10:43:50.749155Z",
     "iopub.status.idle": "2022-04-08T10:43:50.751322Z",
     "shell.execute_reply": "2022-04-08T10:43:50.751741Z",
     "shell.execute_reply.started": "2022-04-07T12:47:00.788696Z"
    },
    "papermill": {
     "duration": 0.106972,
     "end_time": "2022-04-08T10:43:50.751873",
     "exception": false,
     "start_time": "2022-04-08T10:43:50.644901",
     "status": "completed"
    },
    "tags": []
   },
   "outputs": [],
   "source": [
    "class EncoderLayer(nn.Module):\n",
    "    def __init__(self, \n",
    "                 hid_dim, \n",
    "                 n_heads, \n",
    "                 pf_dim,  \n",
    "                 dropout, \n",
    "                 device):\n",
    "        super().__init__()\n",
    "        \n",
    "        self.self_attn_layer_norm = nn.LayerNorm(hid_dim)\n",
    "        self.ff_layer_norm = nn.LayerNorm(hid_dim)\n",
    "        self.self_attention = MultiHeadAttentionLayer(hid_dim, n_heads, dropout, device)\n",
    "        self.positionwise_feedforward = PositionwiseFeedforwardLayer(hid_dim, \n",
    "                                                                     pf_dim, \n",
    "                                                                     dropout)\n",
    "        self.dropout = nn.Dropout(dropout)\n",
    "        \n",
    "    def forward(self, src, src_mask):\n",
    "        \n",
    "        #src = [batch size, src len, hid dim]\n",
    "        #src_mask = [batch size, 1, 1, src len] \n",
    "                \n",
    "        #self attention\n",
    "        _src, _ = self.self_attention(src, src, src, src_mask)\n",
    "        \n",
    "        #dropout, residual connection and layer norm\n",
    "        src = self.self_attn_layer_norm(src + self.dropout(_src))\n",
    "        \n",
    "        #src = [batch size, src len, hid dim]\n",
    "        \n",
    "        #positionwise feedforward\n",
    "        _src = self.positionwise_feedforward(src)\n",
    "        \n",
    "        #dropout, residual and layer norm\n",
    "        src = self.ff_layer_norm(src + self.dropout(_src))\n",
    "        \n",
    "        #src = [batch size, src len, hid dim]\n",
    "        \n",
    "        return src"
   ]
  },
  {
   "cell_type": "markdown",
   "id": "45964f8e",
   "metadata": {
    "papermill": {
     "duration": 0.09499,
     "end_time": "2022-04-08T10:43:50.942556",
     "exception": false,
     "start_time": "2022-04-08T10:43:50.847566",
     "status": "completed"
    },
    "tags": []
   },
   "source": [
    "### Mutli Head Attention Layer\n",
    "\n",
    "One of the key, novel concepts introduced by the Transformer paper is the *multi-head attention layer*. \n",
    "\n",
    "![](https://github.com/bentrevett/pytorch-seq2seq/raw/49df8404d938a6edbf729876405558cc2c2b3013//assets/transformer-attention.png)\n",
    "\n",
    "Attention can be though of as *queries*, *keys* and *values* - where the query is used with the key to get an attention vector (usually the output of a *softmax* operation and has all values between 0 and 1 which sum to 1) which is then used to get a weighted sum of the values.\n",
    "\n",
    "The Transformer uses *scaled dot-product attention*, where the query and key are combined by taking the dot product between them, then applying the softmax operation and scaling by $d_k$ before finally then multiplying by the value. $d_k$ is the *head dimension*, `head_dim`, which we will shortly explain further.\n",
    "\n",
    "$$ \\text{Attention}(Q, K, V) = \\text{Softmax} \\big( \\frac{QK^T}{\\sqrt{d_k}} \\big)V $$ \n",
    "\n",
    "This is similar to standard *dot product attention* but is scaled by $d_k$, which the paper states is used to stop the results of the dot products growing large, causing gradients to become too small.\n",
    "\n",
    "However, the scaled dot-product attention isn't simply applied to the queries, keys and values. Instead of doing a single attention application the queries, keys and values have their `hid_dim` split into $h$ *heads* and the scaled dot-product attention is calculated over all heads in parallel. This means instead of paying attention to one concept per attention application, we pay attention to $h$. We then re-combine the heads into their `hid_dim` shape, thus each `hid_dim` is potentially paying attention to $h$ different concepts.\n",
    "\n",
    "$$ \\text{MultiHead}(Q, K, V) = \\text{Concat}(\\text{head}_1,...,\\text{head}_h)W^O $$\n",
    "\n",
    "$$\\text{head}_i = \\text{Attention}(QW_i^Q, KW_i^K, VW_i^V) $$\n",
    "\n",
    "$W^O$ is the linear layer applied at the end of the multi-head attention layer, `fc`. $W^Q, W^K, W^V$ are the linear layers `fc_q`, `fc_k` and `fc_v`.\n",
    "\n",
    "Walking through the module, first we calculate $QW^Q$, $KW^K$ and $VW^V$ with the linear layers, `fc_q`, `fc_k` and `fc_v`, to give us `Q`, `K` and `V`. Next, we split the `hid_dim` of the query, key and value into `n_heads` using `.view` and correctly permute them so they can be multiplied together. We then calculate the `energy` (the un-normalized attention) by multiplying `Q` and `K` together and scaling it by the square root of `head_dim`, which is calulated as `hid_dim // n_heads`. We then mask the energy so we do not pay attention over any elements of the sequeuence we shouldn't, then apply the softmax and dropout. We then apply the attention to the value heads, `V`, before combining the `n_heads` together. Finally, we multiply this $W^O$, represented by `fc_o`. \n",
    "\n",
    "Note that in our implementation the lengths of the keys and values are always the same, thus when matrix multiplying the output of the softmax, `attention`, with `V` we will always have valid dimension sizes for matrix multiplication. This multiplication is carried out using `torch.matmul` which, when both tensors are >2-dimensional, does a batched matrix multiplication over the last two dimensions of each tensor. This will be a **[query len, key len] x [value len, head dim]** batched matrix multiplication over the batch size and each head which provides the **[batch size, n heads, query len, head dim]** result.\n",
    "\n",
    "One thing that looks strange at first is that dropout is applied directly to the attention. This means that our attention vector will most probably not sum to 1 and we may pay full attention to a token but the attention over that token is set to 0 by dropout. This is never explained, or even mentioned, in the paper however is used by the [official implementation](https://github.com/tensorflow/tensor2tensor/) and every Transformer implementation since, [including BERT](https://github.com/google-research/bert/)."
   ]
  },
  {
   "cell_type": "code",
   "execution_count": 16,
   "id": "eabfab25",
   "metadata": {
    "execution": {
     "iopub.execute_input": "2022-04-08T10:43:51.148236Z",
     "iopub.status.busy": "2022-04-08T10:43:51.147416Z",
     "iopub.status.idle": "2022-04-08T10:43:51.149431Z",
     "shell.execute_reply": "2022-04-08T10:43:51.149808Z",
     "shell.execute_reply.started": "2022-04-07T12:47:00.803876Z"
    },
    "papermill": {
     "duration": 0.112017,
     "end_time": "2022-04-08T10:43:51.149942",
     "exception": false,
     "start_time": "2022-04-08T10:43:51.037925",
     "status": "completed"
    },
    "tags": []
   },
   "outputs": [],
   "source": [
    "class MultiHeadAttentionLayer(nn.Module):\n",
    "    def __init__(self, hid_dim, n_heads, dropout, device):\n",
    "        super().__init__()\n",
    "        \n",
    "        assert hid_dim % n_heads == 0\n",
    "        \n",
    "        self.hid_dim = hid_dim\n",
    "        self.n_heads = n_heads\n",
    "        self.head_dim = hid_dim // n_heads\n",
    "        \n",
    "        self.fc_q = nn.Linear(hid_dim, hid_dim)\n",
    "        self.fc_k = nn.Linear(hid_dim, hid_dim)\n",
    "        self.fc_v = nn.Linear(hid_dim, hid_dim)\n",
    "        \n",
    "        self.fc_o = nn.Linear(hid_dim, hid_dim)\n",
    "        \n",
    "        self.dropout = nn.Dropout(dropout)\n",
    "        \n",
    "        self.scale = torch.sqrt(torch.FloatTensor([self.head_dim])).to(device)\n",
    "        \n",
    "    def forward(self, query, key, value, mask = None):\n",
    "        \n",
    "        batch_size = query.shape[0]\n",
    "        \n",
    "        #query = [batch size, query len, hid dim]\n",
    "        #key = [batch size, key len, hid dim]\n",
    "        #value = [batch size, value len, hid dim]\n",
    "                \n",
    "        Q = self.fc_q(query)\n",
    "        K = self.fc_k(key)\n",
    "        V = self.fc_v(value)\n",
    "        \n",
    "        #Q = [batch size, query len, hid dim]\n",
    "        #K = [batch size, key len, hid dim]\n",
    "        #V = [batch size, value len, hid dim]\n",
    "                \n",
    "        Q = Q.view(batch_size, -1, self.n_heads, self.head_dim).permute(0, 2, 1, 3)\n",
    "        K = K.view(batch_size, -1, self.n_heads, self.head_dim).permute(0, 2, 1, 3)\n",
    "        V = V.view(batch_size, -1, self.n_heads, self.head_dim).permute(0, 2, 1, 3)\n",
    "        \n",
    "        #Q = [batch size, n heads, query len, head dim]\n",
    "        #K = [batch size, n heads, key len, head dim]\n",
    "        #V = [batch size, n heads, value len, head dim]\n",
    "                \n",
    "        energy = torch.matmul(Q, K.permute(0, 1, 3, 2)) / self.scale\n",
    "        \n",
    "        #energy = [batch size, n heads, query len, key len]\n",
    "        \n",
    "        if mask is not None:\n",
    "            energy = energy.masked_fill(mask == 0, -1e10)\n",
    "        \n",
    "        attention = torch.softmax(energy, dim = -1)\n",
    "                \n",
    "        #attention = [batch size, n heads, query len, key len]\n",
    "                \n",
    "        x = torch.matmul(self.dropout(attention), V)\n",
    "        \n",
    "        #x = [batch size, n heads, query len, head dim]\n",
    "        \n",
    "        x = x.permute(0, 2, 1, 3).contiguous()\n",
    "        \n",
    "        #x = [batch size, query len, n heads, head dim]\n",
    "        \n",
    "        x = x.view(batch_size, -1, self.hid_dim)\n",
    "        \n",
    "        #x = [batch size, query len, hid dim]\n",
    "        \n",
    "        x = self.fc_o(x)\n",
    "        \n",
    "        #x = [batch size, query len, hid dim]\n",
    "        \n",
    "        return x, attention"
   ]
  },
  {
   "cell_type": "markdown",
   "id": "7872c56c",
   "metadata": {
    "papermill": {
     "duration": 0.098785,
     "end_time": "2022-04-08T10:43:51.345598",
     "exception": false,
     "start_time": "2022-04-08T10:43:51.246813",
     "status": "completed"
    },
    "tags": []
   },
   "source": [
    "### Position-wise Feedforward Layer\n",
    "\n",
    "The other main block inside the encoder layer is the *position-wise feedforward layer* This is relatively simple compared to the multi-head attention layer. The input is transformed from `hid_dim` to `pf_dim`, where `pf_dim` is usually a lot larger than `hid_dim`. The original Transformer used a `hid_dim` of 512 and a `pf_dim` of 2048. The ReLU activation function and dropout are applied before it is transformed back into a `hid_dim` representation. \n",
    "\n",
    "Why is this used? Unfortunately, it is never explained in the paper.\n",
    "\n",
    "BERT uses the [GELU](https://arxiv.org/abs/1606.08415) activation function, which can be used by simply switching `torch.relu` for `F.gelu`. Why did they use GELU? Again, it is never explained."
   ]
  },
  {
   "cell_type": "code",
   "execution_count": 17,
   "id": "d5752228",
   "metadata": {
    "execution": {
     "iopub.execute_input": "2022-04-08T10:43:51.547231Z",
     "iopub.status.busy": "2022-04-08T10:43:51.546419Z",
     "iopub.status.idle": "2022-04-08T10:43:51.548441Z",
     "shell.execute_reply": "2022-04-08T10:43:51.548836Z",
     "shell.execute_reply.started": "2022-04-07T12:47:00.821339Z"
    },
    "papermill": {
     "duration": 0.104332,
     "end_time": "2022-04-08T10:43:51.548976",
     "exception": false,
     "start_time": "2022-04-08T10:43:51.444644",
     "status": "completed"
    },
    "tags": []
   },
   "outputs": [],
   "source": [
    "class PositionwiseFeedforwardLayer(nn.Module):\n",
    "    def __init__(self, hid_dim, pf_dim, dropout):\n",
    "        super().__init__()\n",
    "        \n",
    "        self.fc_1 = nn.Linear(hid_dim, pf_dim)\n",
    "        self.fc_2 = nn.Linear(pf_dim, hid_dim)\n",
    "        \n",
    "        self.dropout = nn.Dropout(dropout)\n",
    "        \n",
    "    def forward(self, x):\n",
    "        \n",
    "        #x = [batch size, seq len, hid dim]\n",
    "        \n",
    "        x = self.dropout(torch.relu(self.fc_1(x)))\n",
    "        \n",
    "        #x = [batch size, seq len, pf dim]\n",
    "        \n",
    "        x = self.fc_2(x)\n",
    "        \n",
    "        #x = [batch size, seq len, hid dim]\n",
    "        \n",
    "        return x"
   ]
  },
  {
   "cell_type": "markdown",
   "id": "0187735a",
   "metadata": {
    "papermill": {
     "duration": 0.09676,
     "end_time": "2022-04-08T10:43:51.741585",
     "exception": false,
     "start_time": "2022-04-08T10:43:51.644825",
     "status": "completed"
    },
    "tags": []
   },
   "source": [
    "### Decoder\n",
    "\n",
    "The objective of the decoder is to take the encoded representation of the source sentence, $Z$, and convert it into predicted tokens in the target sentence, $\\hat{Y}$. We then compare $\\hat{Y}$ with the actual tokens in the target sentence, $Y$, to calculate our loss, which will be used to calculate the gradients of our parameters and then use our optimizer to update our weights in order to improve our predictions. \n",
    "\n",
    "![](https://github.com/bentrevett/pytorch-seq2seq/raw/49df8404d938a6edbf729876405558cc2c2b3013//assets/transformer-decoder.png)\n",
    "\n",
    "The decoder is similar to encoder, however it now has two multi-head attention layers. A *masked multi-head attention layer* over the target sequence, and a multi-head attention layer which uses the decoder representation as the query and the encoder representation as the key and value.\n",
    "\n",
    "The decoder uses positional embeddings and combines - via an elementwise sum - them with the scaled embedded target tokens, followed by dropout. Again, our positional encodings have a \"vocabulary\" of 100, which means they can accept sequences up to 100 tokens long. This can be increased if desired.\n",
    "\n",
    "The combined embeddings are then passed through the $N$ decoder layers, along with the encoded source, `enc_src`, and the source and target masks. Note that the number of layers in the encoder does not have to be equal to the number of layers in the decoder, even though they are both denoted by $N$.\n",
    "\n",
    "The decoder representation after the $N^{th}$ layer is then passed through a linear layer, `fc_out`. In PyTorch, the softmax operation is contained within our loss function, so we do not explicitly need to use a softmax layer here.\n",
    "\n",
    "As well as using the source mask, as we did in the encoder to prevent our model attending to `<pad>` tokens, we also use a target mask. This will be explained further in the `Seq2Seq` model which encapsulates both the encoder and decoder, but the gist of it is that it performs a similar operation as the decoder padding in the convolutional sequence-to-sequence model. As we are processing all of the target tokens at once in parallel we need a method of stopping the decoder from \"cheating\" by simply \"looking\" at what the next token in the target sequence is and outputting it. \n",
    "\n",
    "Our decoder layer also outputs the normalized attention values so we can later plot them to see what our model is actually paying attention to."
   ]
  },
  {
   "cell_type": "code",
   "execution_count": 18,
   "id": "cabca1cc",
   "metadata": {
    "execution": {
     "iopub.execute_input": "2022-04-08T10:43:51.944270Z",
     "iopub.status.busy": "2022-04-08T10:43:51.943454Z",
     "iopub.status.idle": "2022-04-08T10:43:51.945918Z",
     "shell.execute_reply": "2022-04-08T10:43:51.945489Z",
     "shell.execute_reply.started": "2022-04-07T12:47:00.834127Z"
    },
    "papermill": {
     "duration": 0.108601,
     "end_time": "2022-04-08T10:43:51.946044",
     "exception": false,
     "start_time": "2022-04-08T10:43:51.837443",
     "status": "completed"
    },
    "tags": []
   },
   "outputs": [],
   "source": [
    "class Decoder(nn.Module):\n",
    "    def __init__(self, \n",
    "                 output_dim, \n",
    "                 hid_dim, \n",
    "                 n_layers, \n",
    "                 n_heads, \n",
    "                 pf_dim, \n",
    "                 dropout, \n",
    "                 device,\n",
    "                 max_length = 100):\n",
    "        super().__init__()\n",
    "        \n",
    "        self.device = device\n",
    "        \n",
    "        self.tok_embedding = nn.Embedding(output_dim, hid_dim)\n",
    "        self.pos_embedding = nn.Embedding(max_length, hid_dim)\n",
    "        \n",
    "        self.layers = nn.ModuleList([DecoderLayer(hid_dim, \n",
    "                                                  n_heads, \n",
    "                                                  pf_dim, \n",
    "                                                  dropout, \n",
    "                                                  device)\n",
    "                                     for _ in range(n_layers)])\n",
    "        \n",
    "        self.fc_out = nn.Linear(hid_dim, output_dim)\n",
    "        \n",
    "        self.dropout = nn.Dropout(dropout)\n",
    "        \n",
    "        self.scale = torch.sqrt(torch.FloatTensor([hid_dim])).to(device)\n",
    "        \n",
    "    def forward(self, trg, enc_src, trg_mask, src_mask):\n",
    "        \n",
    "        #trg = [batch size, trg len]\n",
    "        #enc_src = [batch size, src len, hid dim]\n",
    "        #trg_mask = [batch size, 1, trg len, trg len]\n",
    "        #src_mask = [batch size, 1, 1, src len]\n",
    "                \n",
    "        batch_size = trg.shape[0]\n",
    "        trg_len = trg.shape[1]\n",
    "        \n",
    "        pos = torch.arange(0, trg_len).unsqueeze(0).repeat(batch_size, 1).to(self.device)\n",
    "                            \n",
    "        #pos = [batch size, trg len]\n",
    "            \n",
    "        trg = self.dropout((self.tok_embedding(trg) * self.scale) + self.pos_embedding(pos))\n",
    "                \n",
    "        #trg = [batch size, trg len, hid dim]\n",
    "        \n",
    "        for layer in self.layers:\n",
    "            trg, attention = layer(trg, enc_src, trg_mask, src_mask)\n",
    "        \n",
    "        #trg = [batch size, trg len, hid dim]\n",
    "        #attention = [batch size, n heads, trg len, src len]\n",
    "        \n",
    "        output = self.fc_out(trg)\n",
    "        \n",
    "        #output = [batch size, trg len, output dim]\n",
    "            \n",
    "        return output, attention"
   ]
  },
  {
   "cell_type": "markdown",
   "id": "1d867024",
   "metadata": {
    "papermill": {
     "duration": 0.111271,
     "end_time": "2022-04-08T10:43:52.160818",
     "exception": false,
     "start_time": "2022-04-08T10:43:52.049547",
     "status": "completed"
    },
    "tags": []
   },
   "source": [
    "### Decoder Layer\n",
    "\n",
    "As mentioned previously, the decoder layer is similar to the encoder layer except that it now has two multi-head attention layers, `self_attention` and `encoder_attention`. \n",
    "\n",
    "The first performs self-attention, as in the encoder, by using the decoder representation so far as the query, key and value. This is followed by dropout, residual connection and layer normalization. This `self_attention` layer uses the target sequence mask, `trg_mask`, in order to prevent the decoder from \"cheating\" by paying attention to tokens that are \"ahead\" of the one it is currently processing as it processes all tokens in the target sentence in parallel.\n",
    "\n",
    "The second is how we actually feed the encoded source sentence, `enc_src`, into our decoder. In this multi-head attention layer the queries are the decoder representations and the keys and values are the encoder representations. Here, the source mask, `src_mask` is used to prevent the multi-head attention layer from attending to `<pad>` tokens within the source sentence. This is then followed by the dropout, residual connection and layer normalization layers. \n",
    "\n",
    "Finally, we pass this through the position-wise feedforward layer and yet another sequence of dropout, residual connection and layer normalization.\n",
    "\n",
    "The decoder layer isn't introducing any new concepts, just using the same set of layers as the encoder in a slightly different way."
   ]
  },
  {
   "cell_type": "code",
   "execution_count": 19,
   "id": "e038cd1f",
   "metadata": {
    "execution": {
     "iopub.execute_input": "2022-04-08T10:43:52.362715Z",
     "iopub.status.busy": "2022-04-08T10:43:52.362015Z",
     "iopub.status.idle": "2022-04-08T10:43:52.364727Z",
     "shell.execute_reply": "2022-04-08T10:43:52.364270Z",
     "shell.execute_reply.started": "2022-04-07T12:47:00.848972Z"
    },
    "papermill": {
     "duration": 0.10763,
     "end_time": "2022-04-08T10:43:52.364847",
     "exception": false,
     "start_time": "2022-04-08T10:43:52.257217",
     "status": "completed"
    },
    "tags": []
   },
   "outputs": [],
   "source": [
    "class DecoderLayer(nn.Module):\n",
    "    def __init__(self, \n",
    "                 hid_dim, \n",
    "                 n_heads, \n",
    "                 pf_dim, \n",
    "                 dropout, \n",
    "                 device):\n",
    "        super().__init__()\n",
    "        \n",
    "        self.self_attn_layer_norm = nn.LayerNorm(hid_dim)\n",
    "        self.enc_attn_layer_norm = nn.LayerNorm(hid_dim)\n",
    "        self.ff_layer_norm = nn.LayerNorm(hid_dim)\n",
    "        self.self_attention = MultiHeadAttentionLayer(hid_dim, n_heads, dropout, device)\n",
    "        self.encoder_attention = MultiHeadAttentionLayer(hid_dim, n_heads, dropout, device)\n",
    "        self.positionwise_feedforward = PositionwiseFeedforwardLayer(hid_dim, \n",
    "                                                                     pf_dim, \n",
    "                                                                     dropout)\n",
    "        self.dropout = nn.Dropout(dropout)\n",
    "        \n",
    "    def forward(self, trg, enc_src, trg_mask, src_mask):\n",
    "        \n",
    "        #trg = [batch size, trg len, hid dim]\n",
    "        #enc_src = [batch size, src len, hid dim]\n",
    "        #trg_mask = [batch size, 1, trg len, trg len]\n",
    "        #src_mask = [batch size, 1, 1, src len]\n",
    "        \n",
    "        #self attention\n",
    "        _trg, _ = self.self_attention(trg, trg, trg, trg_mask)\n",
    "        \n",
    "        #dropout, residual connection and layer norm\n",
    "        trg = self.self_attn_layer_norm(trg + self.dropout(_trg))\n",
    "            \n",
    "        #trg = [batch size, trg len, hid dim]\n",
    "            \n",
    "        #encoder attention\n",
    "        _trg, attention = self.encoder_attention(trg, enc_src, enc_src, src_mask)\n",
    "        \n",
    "        #dropout, residual connection and layer norm\n",
    "        trg = self.enc_attn_layer_norm(trg + self.dropout(_trg))\n",
    "                    \n",
    "        #trg = [batch size, trg len, hid dim]\n",
    "        \n",
    "        #positionwise feedforward\n",
    "        _trg = self.positionwise_feedforward(trg)\n",
    "        \n",
    "        #dropout, residual and layer norm\n",
    "        trg = self.ff_layer_norm(trg + self.dropout(_trg))\n",
    "        \n",
    "        #trg = [batch size, trg len, hid dim]\n",
    "        #attention = [batch size, n heads, trg len, src len]\n",
    "        \n",
    "        return trg, attention"
   ]
  },
  {
   "cell_type": "markdown",
   "id": "0d62958a",
   "metadata": {
    "papermill": {
     "duration": 0.094763,
     "end_time": "2022-04-08T10:43:52.555997",
     "exception": false,
     "start_time": "2022-04-08T10:43:52.461234",
     "status": "completed"
    },
    "tags": []
   },
   "source": [
    "### Seq2Seq\n",
    "\n",
    "Finally, we have the `Seq2Seq` module which encapsulates the encoder and decoder, as well as handling the creation of the masks.\n",
    "\n",
    "The source mask is created by checking where the source sequence is not equal to a `<pad>` token. It is 1 where the token is not a `<pad>` token and 0 when it is. It is then unsqueezed so it can be correctly broadcast when applying the mask to the `energy`, which of shape **_[batch size, n heads, seq len, seq len]_**.\n",
    "\n",
    "The target mask is slightly more complicated. First, we create a mask for the `<pad>` tokens, as we did for the source mask. Next, we create a \"subsequent\" mask, `trg_sub_mask`, using `torch.tril`. This creates a diagonal matrix where the elements above the diagonal will be zero and the elements below the diagonal will be set to whatever the input tensor is. In this case, the input tensor will be a tensor filled with ones. So this means our `trg_sub_mask` will look something like this (for a target with 5 tokens):\n",
    "\n",
    "$$\\begin{matrix}\n",
    "1 & 0 & 0 & 0 & 0\\\\\n",
    "1 & 1 & 0 & 0 & 0\\\\\n",
    "1 & 1 & 1 & 0 & 0\\\\\n",
    "1 & 1 & 1 & 1 & 0\\\\\n",
    "1 & 1 & 1 & 1 & 1\\\\\n",
    "\\end{matrix}$$\n",
    "\n",
    "This shows what each target token (row) is allowed to look at (column). The first target token has a mask of **_[1, 0, 0, 0, 0]_** which means it can only look at the first target token. The second target token has a mask of **_[1, 1, 0, 0, 0]_** which it means it can look at both the first and second target tokens. \n",
    "\n",
    "The \"subsequent\" mask is then logically anded with the padding mask, this combines the two masks ensuring both the subsequent tokens and the padding tokens cannot be attended to. For example if the last two tokens were `<pad>` tokens the mask would look like:\n",
    "\n",
    "$$\\begin{matrix}\n",
    "1 & 0 & 0 & 0 & 0\\\\\n",
    "1 & 1 & 0 & 0 & 0\\\\\n",
    "1 & 1 & 1 & 0 & 0\\\\\n",
    "1 & 1 & 1 & 0 & 0\\\\\n",
    "1 & 1 & 1 & 0 & 0\\\\\n",
    "\\end{matrix}$$\n",
    "\n",
    "After the masks are created, they used with the encoder and decoder along with the source and target sentences to get our predicted target sentence, `output`, along with the decoder's attention over the source sequence."
   ]
  },
  {
   "cell_type": "code",
   "execution_count": 20,
   "id": "12f4d2be",
   "metadata": {
    "execution": {
     "iopub.execute_input": "2022-04-08T10:43:52.758575Z",
     "iopub.status.busy": "2022-04-08T10:43:52.757772Z",
     "iopub.status.idle": "2022-04-08T10:43:52.760190Z",
     "shell.execute_reply": "2022-04-08T10:43:52.759789Z",
     "shell.execute_reply.started": "2022-04-07T12:47:00.864302Z"
    },
    "papermill": {
     "duration": 0.108015,
     "end_time": "2022-04-08T10:43:52.760302",
     "exception": false,
     "start_time": "2022-04-08T10:43:52.652287",
     "status": "completed"
    },
    "tags": []
   },
   "outputs": [],
   "source": [
    "class Seq2Seq(nn.Module):\n",
    "    def __init__(self, \n",
    "                 encoder, \n",
    "                 decoder, \n",
    "                 src_pad_idx, \n",
    "                 trg_pad_idx, \n",
    "                 device):\n",
    "        super().__init__()\n",
    "        \n",
    "        self.encoder = encoder\n",
    "        self.decoder = decoder\n",
    "        self.src_pad_idx = src_pad_idx\n",
    "        self.trg_pad_idx = trg_pad_idx\n",
    "        self.device = device\n",
    "        \n",
    "    def make_src_mask(self, src):\n",
    "        \n",
    "        #src = [batch size, src len]\n",
    "        \n",
    "        src_mask = (src != self.src_pad_idx).unsqueeze(1).unsqueeze(2)\n",
    "\n",
    "        #src_mask = [batch size, 1, 1, src len]\n",
    "\n",
    "        return src_mask\n",
    "    \n",
    "    def make_trg_mask(self, trg):\n",
    "        \n",
    "        #trg = [batch size, trg len]\n",
    "        \n",
    "        trg_pad_mask = (trg != self.trg_pad_idx).unsqueeze(1).unsqueeze(2)\n",
    "        \n",
    "        #trg_pad_mask = [batch size, 1, 1, trg len]\n",
    "        \n",
    "        trg_len = trg.shape[1]\n",
    "        \n",
    "        trg_sub_mask = torch.tril(torch.ones((trg_len, trg_len), device = self.device)).bool()\n",
    "        \n",
    "        #trg_sub_mask = [trg len, trg len]\n",
    "            \n",
    "        trg_mask = trg_pad_mask & trg_sub_mask\n",
    "        \n",
    "        #trg_mask = [batch size, 1, trg len, trg len]\n",
    "        \n",
    "        return trg_mask\n",
    "\n",
    "    def forward(self, src, trg):\n",
    "        \n",
    "        #src = [batch size, src len]\n",
    "        #trg = [batch size, trg len]\n",
    "                \n",
    "        src_mask = self.make_src_mask(src)\n",
    "        trg_mask = self.make_trg_mask(trg)\n",
    "        \n",
    "        #src_mask = [batch size, 1, 1, src len]\n",
    "        #trg_mask = [batch size, 1, trg len, trg len]\n",
    "        \n",
    "        enc_src = self.encoder(src, src_mask)\n",
    "        \n",
    "        #enc_src = [batch size, src len, hid dim]\n",
    "                \n",
    "        output, attention = self.decoder(trg, enc_src, trg_mask, src_mask)\n",
    "        \n",
    "        #output = [batch size, trg len, output dim]\n",
    "        #attention = [batch size, n heads, trg len, src len]\n",
    "        \n",
    "        return output, attention"
   ]
  },
  {
   "cell_type": "markdown",
   "id": "6e7397e3",
   "metadata": {
    "papermill": {
     "duration": 0.095273,
     "end_time": "2022-04-08T10:43:52.952588",
     "exception": false,
     "start_time": "2022-04-08T10:43:52.857315",
     "status": "completed"
    },
    "tags": []
   },
   "source": [
    "## Training the Seq2Seq Model\n",
    "\n",
    "We can now define our encoder and decoders. This model is significantly smaller than Transformers used in research today, but is able to be run on a single GPU quickly."
   ]
  },
  {
   "cell_type": "code",
   "execution_count": 21,
   "id": "5ecdf668",
   "metadata": {
    "execution": {
     "iopub.execute_input": "2022-04-08T10:43:53.152116Z",
     "iopub.status.busy": "2022-04-08T10:43:53.151528Z",
     "iopub.status.idle": "2022-04-08T10:44:00.943403Z",
     "shell.execute_reply": "2022-04-08T10:44:00.942909Z",
     "shell.execute_reply.started": "2022-04-07T12:47:00.877417Z"
    },
    "papermill": {
     "duration": 7.895643,
     "end_time": "2022-04-08T10:44:00.943539",
     "exception": false,
     "start_time": "2022-04-08T10:43:53.047896",
     "status": "completed"
    },
    "tags": []
   },
   "outputs": [],
   "source": [
    "INPUT_DIM = len(SRC.vocab)\n",
    "OUTPUT_DIM = len(TRG.vocab)\n",
    "HID_DIM = 256\n",
    "ENC_LAYERS = 3\n",
    "DEC_LAYERS = 3\n",
    "ENC_HEADS = 8\n",
    "DEC_HEADS = 8\n",
    "ENC_PF_DIM = 512\n",
    "DEC_PF_DIM = 512\n",
    "ENC_DROPOUT = 0.1\n",
    "DEC_DROPOUT = 0.1\n",
    "\n",
    "enc = Encoder(INPUT_DIM, \n",
    "              HID_DIM, \n",
    "              ENC_LAYERS, \n",
    "              ENC_HEADS, \n",
    "              ENC_PF_DIM, \n",
    "              ENC_DROPOUT, \n",
    "              device)\n",
    "\n",
    "dec = Decoder(OUTPUT_DIM, \n",
    "              HID_DIM, \n",
    "              DEC_LAYERS, \n",
    "              DEC_HEADS, \n",
    "              DEC_PF_DIM, \n",
    "              DEC_DROPOUT, \n",
    "              device)"
   ]
  },
  {
   "cell_type": "markdown",
   "id": "603bd583",
   "metadata": {
    "papermill": {
     "duration": 0.095727,
     "end_time": "2022-04-08T10:44:01.135779",
     "exception": false,
     "start_time": "2022-04-08T10:44:01.040052",
     "status": "completed"
    },
    "tags": []
   },
   "source": [
    "Then, use them to define our whole sequence-to-sequence encapsulating model."
   ]
  },
  {
   "cell_type": "code",
   "execution_count": 22,
   "id": "1e9dc64d",
   "metadata": {
    "execution": {
     "iopub.execute_input": "2022-04-08T10:44:01.334601Z",
     "iopub.status.busy": "2022-04-08T10:44:01.333978Z",
     "iopub.status.idle": "2022-04-08T10:44:01.353946Z",
     "shell.execute_reply": "2022-04-08T10:44:01.353468Z",
     "shell.execute_reply.started": "2022-04-07T12:47:08.444704Z"
    },
    "papermill": {
     "duration": 0.122583,
     "end_time": "2022-04-08T10:44:01.354082",
     "exception": false,
     "start_time": "2022-04-08T10:44:01.231499",
     "status": "completed"
    },
    "tags": []
   },
   "outputs": [],
   "source": [
    "SRC_PAD_IDX = SRC.vocab.stoi[SRC.pad_token]\n",
    "TRG_PAD_IDX = TRG.vocab.stoi[TRG.pad_token]\n",
    "\n",
    "model = Seq2Seq(enc, dec, SRC_PAD_IDX, TRG_PAD_IDX, device).to(device)"
   ]
  },
  {
   "cell_type": "markdown",
   "id": "dee86ac9",
   "metadata": {
    "papermill": {
     "duration": 0.094534,
     "end_time": "2022-04-08T10:44:01.543918",
     "exception": false,
     "start_time": "2022-04-08T10:44:01.449384",
     "status": "completed"
    },
    "tags": []
   },
   "source": [
    "We can check the number of parameters, noticing it is significantly less than the 37M for the convolutional sequence-to-sequence model."
   ]
  },
  {
   "cell_type": "code",
   "execution_count": 23,
   "id": "ec4957a6",
   "metadata": {
    "execution": {
     "iopub.execute_input": "2022-04-08T10:44:01.741125Z",
     "iopub.status.busy": "2022-04-08T10:44:01.740559Z",
     "iopub.status.idle": "2022-04-08T10:44:01.745297Z",
     "shell.execute_reply": "2022-04-08T10:44:01.745898Z",
     "shell.execute_reply.started": "2022-04-07T12:47:08.469621Z"
    },
    "papermill": {
     "duration": 0.107564,
     "end_time": "2022-04-08T10:44:01.746090",
     "exception": false,
     "start_time": "2022-04-08T10:44:01.638526",
     "status": "completed"
    },
    "tags": []
   },
   "outputs": [
    {
     "name": "stdout",
     "output_type": "stream",
     "text": [
      "The model has 9,038,341 trainable parameters\n"
     ]
    }
   ],
   "source": [
    "def count_parameters(model):\n",
    "    return sum(p.numel() for p in model.parameters() if p.requires_grad)\n",
    "\n",
    "print(f'The model has {count_parameters(model):,} trainable parameters')"
   ]
  },
  {
   "cell_type": "markdown",
   "id": "28b77b73",
   "metadata": {
    "papermill": {
     "duration": 0.095469,
     "end_time": "2022-04-08T10:44:01.939517",
     "exception": false,
     "start_time": "2022-04-08T10:44:01.844048",
     "status": "completed"
    },
    "tags": []
   },
   "source": [
    "The paper does not mention which weight initialization scheme was used, however Xavier uniform seems to be common amongst Transformer models, so we use it here."
   ]
  },
  {
   "cell_type": "code",
   "execution_count": 24,
   "id": "0d2bb206",
   "metadata": {
    "execution": {
     "iopub.execute_input": "2022-04-08T10:44:02.137404Z",
     "iopub.status.busy": "2022-04-08T10:44:02.136358Z",
     "iopub.status.idle": "2022-04-08T10:44:02.138235Z",
     "shell.execute_reply": "2022-04-08T10:44:02.138761Z",
     "shell.execute_reply.started": "2022-04-07T12:47:08.477232Z"
    },
    "papermill": {
     "duration": 0.102603,
     "end_time": "2022-04-08T10:44:02.138898",
     "exception": false,
     "start_time": "2022-04-08T10:44:02.036295",
     "status": "completed"
    },
    "tags": []
   },
   "outputs": [],
   "source": [
    "def initialize_weights(m):\n",
    "    if hasattr(m, 'weight') and m.weight.dim() > 1:\n",
    "        nn.init.xavier_uniform_(m.weight.data)"
   ]
  },
  {
   "cell_type": "code",
   "execution_count": 25,
   "id": "5458fcd1",
   "metadata": {
    "execution": {
     "iopub.execute_input": "2022-04-08T10:44:02.336050Z",
     "iopub.status.busy": "2022-04-08T10:44:02.335377Z",
     "iopub.status.idle": "2022-04-08T10:44:02.341044Z",
     "shell.execute_reply": "2022-04-08T10:44:02.340580Z",
     "shell.execute_reply.started": "2022-04-07T12:47:08.486077Z"
    },
    "papermill": {
     "duration": 0.106252,
     "end_time": "2022-04-08T10:44:02.341157",
     "exception": false,
     "start_time": "2022-04-08T10:44:02.234905",
     "status": "completed"
    },
    "tags": []
   },
   "outputs": [],
   "source": [
    "model.apply(initialize_weights);"
   ]
  },
  {
   "cell_type": "markdown",
   "id": "62a1f215",
   "metadata": {
    "papermill": {
     "duration": 0.095213,
     "end_time": "2022-04-08T10:44:02.532057",
     "exception": false,
     "start_time": "2022-04-08T10:44:02.436844",
     "status": "completed"
    },
    "tags": []
   },
   "source": [
    "The optimizer used in the original Transformer paper uses Adam with a learning rate that has a \"warm-up\" and then a \"cool-down\" period. BERT and other Transformer models use Adam with a fixed learning rate, so we will implement that. Check [this](http://nlp.seas.harvard.edu/2018/04/03/attention.html#optimizer) link for more details about the original Transformer's learning rate schedule.\n",
    "\n",
    "Note that the learning rate needs to be lower than the default used by Adam or else learning is unstable."
   ]
  },
  {
   "cell_type": "code",
   "execution_count": 26,
   "id": "eaaf837c",
   "metadata": {
    "execution": {
     "iopub.execute_input": "2022-04-08T10:44:02.729558Z",
     "iopub.status.busy": "2022-04-08T10:44:02.728743Z",
     "iopub.status.idle": "2022-04-08T10:44:02.730484Z",
     "shell.execute_reply": "2022-04-08T10:44:02.730957Z",
     "shell.execute_reply.started": "2022-04-07T12:47:08.499423Z"
    },
    "papermill": {
     "duration": 0.103051,
     "end_time": "2022-04-08T10:44:02.731090",
     "exception": false,
     "start_time": "2022-04-08T10:44:02.628039",
     "status": "completed"
    },
    "tags": []
   },
   "outputs": [],
   "source": [
    "LEARNING_RATE = 0.0005\n",
    "\n",
    "optimizer = torch.optim.Adam(model.parameters(), lr = LEARNING_RATE)"
   ]
  },
  {
   "cell_type": "markdown",
   "id": "7ec63806",
   "metadata": {
    "papermill": {
     "duration": 0.095605,
     "end_time": "2022-04-08T10:44:02.923561",
     "exception": false,
     "start_time": "2022-04-08T10:44:02.827956",
     "status": "completed"
    },
    "tags": []
   },
   "source": [
    "Next, we define our loss function, making sure to ignore losses calculated over `<pad>` tokens."
   ]
  },
  {
   "cell_type": "code",
   "execution_count": 27,
   "id": "5b551cb9",
   "metadata": {
    "execution": {
     "iopub.execute_input": "2022-04-08T10:44:03.119724Z",
     "iopub.status.busy": "2022-04-08T10:44:03.118915Z",
     "iopub.status.idle": "2022-04-08T10:44:03.123121Z",
     "shell.execute_reply": "2022-04-08T10:44:03.122705Z",
     "shell.execute_reply.started": "2022-04-07T12:47:08.506785Z"
    },
    "papermill": {
     "duration": 0.103255,
     "end_time": "2022-04-08T10:44:03.123233",
     "exception": false,
     "start_time": "2022-04-08T10:44:03.019978",
     "status": "completed"
    },
    "tags": []
   },
   "outputs": [],
   "source": [
    "criterion = nn.CrossEntropyLoss(ignore_index = TRG_PAD_IDX)"
   ]
  },
  {
   "cell_type": "markdown",
   "id": "a0f8af34",
   "metadata": {
    "papermill": {
     "duration": 0.09678,
     "end_time": "2022-04-08T10:44:03.316195",
     "exception": false,
     "start_time": "2022-04-08T10:44:03.219415",
     "status": "completed"
    },
    "tags": []
   },
   "source": [
    "Then, we'll define our training loop. This is the exact same as the one used in the previous tutorial.\n",
    "\n",
    "As we want our model to predict the `<eos>` token but not have it be an input into our model we simply slice the `<eos>` token off the end of the sequence. Thus:\n",
    "\n",
    "$$\\begin{align*}\n",
    "\\text{trg} &= [sos, x_1, x_2, x_3, eos]\\\\\n",
    "\\text{trg[:-1]} &= [sos, x_1, x_2, x_3]\n",
    "\\end{align*}$$\n",
    "\n",
    "$x_i$ denotes actual target sequence element. We then feed this into the model to get a predicted sequence that should hopefully predict the `<eos>` token:\n",
    "\n",
    "$$\\begin{align*}\n",
    "\\text{output} &= [y_1, y_2, y_3, eos]\n",
    "\\end{align*}$$\n",
    "\n",
    "$y_i$ denotes predicted target sequence element. We then calculate our loss using the original `trg` tensor with the `<sos>` token sliced off the front, leaving the `<eos>` token:\n",
    "\n",
    "$$\\begin{align*}\n",
    "\\text{output} &= [y_1, y_2, y_3, eos]\\\\\n",
    "\\text{trg[1:]} &= [x_1, x_2, x_3, eos]\n",
    "\\end{align*}$$\n",
    "\n",
    "We then calculate our losses and update our parameters as is standard."
   ]
  },
  {
   "cell_type": "code",
   "execution_count": 28,
   "id": "529dabf6",
   "metadata": {
    "execution": {
     "iopub.execute_input": "2022-04-08T10:44:03.516526Z",
     "iopub.status.busy": "2022-04-08T10:44:03.515640Z",
     "iopub.status.idle": "2022-04-08T10:44:03.517409Z",
     "shell.execute_reply": "2022-04-08T10:44:03.517872Z",
     "shell.execute_reply.started": "2022-04-07T12:47:08.515663Z"
    },
    "papermill": {
     "duration": 0.105857,
     "end_time": "2022-04-08T10:44:03.518001",
     "exception": false,
     "start_time": "2022-04-08T10:44:03.412144",
     "status": "completed"
    },
    "tags": []
   },
   "outputs": [],
   "source": [
    "def train(model, iterator, optimizer, criterion, clip):\n",
    "    \n",
    "    model.train()\n",
    "    \n",
    "    epoch_loss = 0\n",
    "    \n",
    "    for i, batch in enumerate(iterator):\n",
    "        \n",
    "        src = batch.src\n",
    "        trg = batch.trg\n",
    "        \n",
    "        optimizer.zero_grad()\n",
    "        \n",
    "        output, _ = model(src, trg[:,:-1])\n",
    "                \n",
    "        #output = [batch size, trg len - 1, output dim]\n",
    "        #trg = [batch size, trg len]\n",
    "            \n",
    "        output_dim = output.shape[-1]\n",
    "            \n",
    "        output = output.contiguous().view(-1, output_dim)\n",
    "        trg = trg[:,1:].contiguous().view(-1)\n",
    "                \n",
    "        #output = [batch size * trg len - 1, output dim]\n",
    "        #trg = [batch size * trg len - 1]\n",
    "            \n",
    "        loss = criterion(output, trg)\n",
    "        \n",
    "        loss.backward()\n",
    "        \n",
    "        torch.nn.utils.clip_grad_norm_(model.parameters(), clip)\n",
    "        \n",
    "        optimizer.step()\n",
    "        \n",
    "        epoch_loss += loss.item()\n",
    "        \n",
    "    return epoch_loss / len(iterator)"
   ]
  },
  {
   "cell_type": "markdown",
   "id": "e34b15dc",
   "metadata": {
    "papermill": {
     "duration": 0.09547,
     "end_time": "2022-04-08T10:44:03.708909",
     "exception": false,
     "start_time": "2022-04-08T10:44:03.613439",
     "status": "completed"
    },
    "tags": []
   },
   "source": [
    "The evaluation loop is the same as the training loop, just without the gradient calculations and parameter updates."
   ]
  },
  {
   "cell_type": "code",
   "execution_count": 29,
   "id": "6a7e5e80",
   "metadata": {
    "execution": {
     "iopub.execute_input": "2022-04-08T10:44:03.920047Z",
     "iopub.status.busy": "2022-04-08T10:44:03.919106Z",
     "iopub.status.idle": "2022-04-08T10:44:03.921011Z",
     "shell.execute_reply": "2022-04-08T10:44:03.921427Z",
     "shell.execute_reply.started": "2022-04-07T12:47:08.530105Z"
    },
    "papermill": {
     "duration": 0.113805,
     "end_time": "2022-04-08T10:44:03.921573",
     "exception": false,
     "start_time": "2022-04-08T10:44:03.807768",
     "status": "completed"
    },
    "tags": []
   },
   "outputs": [],
   "source": [
    "def evaluate(model, iterator, criterion):\n",
    "    \n",
    "    model.eval()\n",
    "    \n",
    "    epoch_loss = 0\n",
    "    \n",
    "    with torch.no_grad():\n",
    "    \n",
    "        for i, batch in enumerate(iterator):\n",
    "\n",
    "            src = batch.src\n",
    "            trg = batch.trg\n",
    "\n",
    "            output, _ = model(src, trg[:,:-1])\n",
    "            \n",
    "            #output = [batch size, trg len - 1, output dim]\n",
    "            #trg = [batch size, trg len]\n",
    "            \n",
    "            output_dim = output.shape[-1]\n",
    "            \n",
    "            output = output.contiguous().view(-1, output_dim)\n",
    "            trg = trg[:,1:].contiguous().view(-1)\n",
    "            \n",
    "            #output = [batch size * trg len - 1, output dim]\n",
    "            #trg = [batch size * trg len - 1]\n",
    "            \n",
    "            loss = criterion(output, trg)\n",
    "\n",
    "            epoch_loss += loss.item()\n",
    "        \n",
    "    return epoch_loss / len(iterator)"
   ]
  },
  {
   "cell_type": "markdown",
   "id": "bba57b43",
   "metadata": {
    "papermill": {
     "duration": 0.096713,
     "end_time": "2022-04-08T10:44:04.119217",
     "exception": false,
     "start_time": "2022-04-08T10:44:04.022504",
     "status": "completed"
    },
    "tags": []
   },
   "source": [
    "We then define a small function that we can use to tell us how long an epoch takes."
   ]
  },
  {
   "cell_type": "code",
   "execution_count": 30,
   "id": "a92918de",
   "metadata": {
    "execution": {
     "iopub.execute_input": "2022-04-08T10:44:04.317117Z",
     "iopub.status.busy": "2022-04-08T10:44:04.316349Z",
     "iopub.status.idle": "2022-04-08T10:44:04.318356Z",
     "shell.execute_reply": "2022-04-08T10:44:04.318751Z",
     "shell.execute_reply.started": "2022-04-07T12:47:08.542176Z"
    },
    "papermill": {
     "duration": 0.103319,
     "end_time": "2022-04-08T10:44:04.318892",
     "exception": false,
     "start_time": "2022-04-08T10:44:04.215573",
     "status": "completed"
    },
    "tags": []
   },
   "outputs": [],
   "source": [
    "def epoch_time(start_time, end_time):\n",
    "    elapsed_time = end_time - start_time\n",
    "    elapsed_mins = int(elapsed_time / 60)\n",
    "    elapsed_secs = int(elapsed_time - (elapsed_mins * 60))\n",
    "    return elapsed_mins, elapsed_secs"
   ]
  },
  {
   "cell_type": "markdown",
   "id": "d9a952c6",
   "metadata": {
    "papermill": {
     "duration": 0.095466,
     "end_time": "2022-04-08T10:44:04.510241",
     "exception": false,
     "start_time": "2022-04-08T10:44:04.414775",
     "status": "completed"
    },
    "tags": []
   },
   "source": [
    "Finally, we train our actual model. This model is almost 3x faster than the convolutional sequence-to-sequence model and also achieves a lower validation perplexity!"
   ]
  },
  {
   "cell_type": "code",
   "execution_count": 31,
   "id": "e9e03eb7",
   "metadata": {
    "execution": {
     "iopub.execute_input": "2022-04-08T10:44:04.740301Z",
     "iopub.status.busy": "2022-04-08T10:44:04.730148Z",
     "iopub.status.idle": "2022-04-08T10:46:42.552501Z",
     "shell.execute_reply": "2022-04-08T10:46:42.552991Z",
     "shell.execute_reply.started": "2022-04-07T12:47:08.555312Z"
    },
    "papermill": {
     "duration": 157.947097,
     "end_time": "2022-04-08T10:46:42.553153",
     "exception": false,
     "start_time": "2022-04-08T10:44:04.606056",
     "status": "completed"
    },
    "tags": []
   },
   "outputs": [
    {
     "name": "stdout",
     "output_type": "stream",
     "text": [
      "Epoch: 01 | Time: 0m 16s\n",
      "\tTrain Loss: 4.221 | Train PPL:  68.072\n",
      "\t Val. Loss: 3.018 |  Val. PPL:  20.442\n",
      "Epoch: 02 | Time: 0m 15s\n",
      "\tTrain Loss: 2.811 | Train PPL:  16.630\n",
      "\t Val. Loss: 2.295 |  Val. PPL:   9.929\n",
      "Epoch: 03 | Time: 0m 15s\n",
      "\tTrain Loss: 2.235 | Train PPL:   9.351\n",
      "\t Val. Loss: 1.979 |  Val. PPL:   7.234\n",
      "Epoch: 04 | Time: 0m 15s\n",
      "\tTrain Loss: 1.884 | Train PPL:   6.582\n",
      "\t Val. Loss: 1.804 |  Val. PPL:   6.076\n",
      "Epoch: 05 | Time: 0m 15s\n",
      "\tTrain Loss: 1.636 | Train PPL:   5.135\n",
      "\t Val. Loss: 1.708 |  Val. PPL:   5.516\n",
      "Epoch: 06 | Time: 0m 15s\n",
      "\tTrain Loss: 1.448 | Train PPL:   4.253\n",
      "\t Val. Loss: 1.668 |  Val. PPL:   5.303\n",
      "Epoch: 07 | Time: 0m 15s\n",
      "\tTrain Loss: 1.295 | Train PPL:   3.651\n",
      "\t Val. Loss: 1.630 |  Val. PPL:   5.102\n",
      "Epoch: 08 | Time: 0m 15s\n",
      "\tTrain Loss: 1.169 | Train PPL:   3.218\n",
      "\t Val. Loss: 1.622 |  Val. PPL:   5.062\n",
      "Epoch: 09 | Time: 0m 15s\n",
      "\tTrain Loss: 1.059 | Train PPL:   2.882\n",
      "\t Val. Loss: 1.634 |  Val. PPL:   5.126\n",
      "Epoch: 10 | Time: 0m 15s\n",
      "\tTrain Loss: 0.965 | Train PPL:   2.624\n",
      "\t Val. Loss: 1.648 |  Val. PPL:   5.195\n"
     ]
    }
   ],
   "source": [
    "N_EPOCHS = 10\n",
    "CLIP = 1\n",
    "\n",
    "best_valid_loss = float('inf')\n",
    "\n",
    "for epoch in range(N_EPOCHS):\n",
    "    \n",
    "    start_time = time.time()\n",
    "    \n",
    "    train_loss = train(model, train_iterator, optimizer, criterion, CLIP)\n",
    "    valid_loss = evaluate(model, valid_iterator, criterion)\n",
    "    \n",
    "    end_time = time.time()\n",
    "    \n",
    "    epoch_mins, epoch_secs = epoch_time(start_time, end_time)\n",
    "    \n",
    "    if valid_loss < best_valid_loss:\n",
    "        best_valid_loss = valid_loss\n",
    "        torch.save(model.state_dict(), 'tut6-model.pt')\n",
    "    \n",
    "    print(f'Epoch: {epoch+1:02} | Time: {epoch_mins}m {epoch_secs}s')\n",
    "    print(f'\\tTrain Loss: {train_loss:.3f} | Train PPL: {math.exp(train_loss):7.3f}')\n",
    "    print(f'\\t Val. Loss: {valid_loss:.3f} |  Val. PPL: {math.exp(valid_loss):7.3f}')"
   ]
  },
  {
   "cell_type": "markdown",
   "id": "e0578071",
   "metadata": {
    "papermill": {
     "duration": 0.09906,
     "end_time": "2022-04-08T10:46:42.751168",
     "exception": false,
     "start_time": "2022-04-08T10:46:42.652108",
     "status": "completed"
    },
    "tags": []
   },
   "source": [
    "We load our \"best\" parameters and manage to achieve a better test perplexity than all previous models."
   ]
  },
  {
   "cell_type": "code",
   "execution_count": 32,
   "id": "2a68cf87",
   "metadata": {
    "execution": {
     "iopub.execute_input": "2022-04-08T10:46:42.954368Z",
     "iopub.status.busy": "2022-04-08T10:46:42.953210Z",
     "iopub.status.idle": "2022-04-08T10:46:43.092969Z",
     "shell.execute_reply": "2022-04-08T10:46:43.092485Z",
     "shell.execute_reply.started": "2022-04-07T12:47:40.598651Z"
    },
    "papermill": {
     "duration": 0.243086,
     "end_time": "2022-04-08T10:46:43.093104",
     "exception": false,
     "start_time": "2022-04-08T10:46:42.850018",
     "status": "completed"
    },
    "tags": []
   },
   "outputs": [
    {
     "name": "stdout",
     "output_type": "stream",
     "text": [
      "| Test Loss: 1.676 | Test PPL:   5.342 |\n"
     ]
    }
   ],
   "source": [
    "model.load_state_dict(torch.load('tut6-model.pt'))\n",
    "\n",
    "test_loss = evaluate(model, test_iterator, criterion)\n",
    "\n",
    "print(f'| Test Loss: {test_loss:.3f} | Test PPL: {math.exp(test_loss):7.3f} |')"
   ]
  },
  {
   "cell_type": "markdown",
   "id": "cf657e43",
   "metadata": {
    "papermill": {
     "duration": 0.102381,
     "end_time": "2022-04-08T10:46:43.299633",
     "exception": false,
     "start_time": "2022-04-08T10:46:43.197252",
     "status": "completed"
    },
    "tags": []
   },
   "source": [
    "## Inference\n",
    "\n",
    "Now we can can translations from our model with the `translate_sentence` function below.\n",
    "\n",
    "The steps taken are:\n",
    "- tokenize the source sentence if it has not been tokenized (is a string)\n",
    "- append the `<sos>` and `<eos>` tokens\n",
    "- numericalize the source sentence\n",
    "- convert it to a tensor and add a batch dimension\n",
    "- create the source sentence mask\n",
    "- feed the source sentence and mask into the encoder\n",
    "- create a list to hold the output sentence, initialized with an `<sos>` token\n",
    "- while we have not hit a maximum length\n",
    "  - convert the current output sentence prediction into a tensor with a batch dimension\n",
    "  - create a target sentence mask\n",
    "  - place the current output, encoder output and both masks into the decoder\n",
    "  - get next output token prediction from decoder along with attention\n",
    "  - add prediction to current output sentence prediction\n",
    "  - break if the prediction was an `<eos>` token\n",
    "- convert the output sentence from indexes to tokens\n",
    "- return the output sentence (with the `<sos>` token removed) and the attention from the last layer"
   ]
  },
  {
   "cell_type": "code",
   "execution_count": 33,
   "id": "95baf249",
   "metadata": {
    "execution": {
     "iopub.execute_input": "2022-04-08T10:46:43.511368Z",
     "iopub.status.busy": "2022-04-08T10:46:43.510413Z",
     "iopub.status.idle": "2022-04-08T10:46:43.516941Z",
     "shell.execute_reply": "2022-04-08T10:46:43.516482Z",
     "shell.execute_reply.started": "2022-04-07T12:47:40.741832Z"
    },
    "papermill": {
     "duration": 0.115125,
     "end_time": "2022-04-08T10:46:43.517055",
     "exception": false,
     "start_time": "2022-04-08T10:46:43.401930",
     "status": "completed"
    },
    "tags": []
   },
   "outputs": [],
   "source": [
    "def translate_sentence(sentence, src_field, trg_field, model, device, max_len = 50):\n",
    "    \n",
    "    model.eval()\n",
    "        \n",
    "    if isinstance(sentence, str):\n",
    "        nlp = spacy.load('de_core_news_sm')\n",
    "        tokens = [token.text.lower() for token in nlp(sentence)]\n",
    "    else:\n",
    "        tokens = [token.lower() for token in sentence]\n",
    "\n",
    "    tokens = [src_field.init_token] + tokens + [src_field.eos_token]\n",
    "        \n",
    "    src_indexes = [src_field.vocab.stoi[token] for token in tokens]\n",
    "\n",
    "    src_tensor = torch.LongTensor(src_indexes).unsqueeze(0).to(device)\n",
    "    \n",
    "    src_mask = model.make_src_mask(src_tensor)\n",
    "    \n",
    "    with torch.no_grad():\n",
    "        enc_src = model.encoder(src_tensor, src_mask)\n",
    "\n",
    "    trg_indexes = [trg_field.vocab.stoi[trg_field.init_token]]\n",
    "\n",
    "    for i in range(max_len):\n",
    "\n",
    "        trg_tensor = torch.LongTensor(trg_indexes).unsqueeze(0).to(device)\n",
    "\n",
    "        trg_mask = model.make_trg_mask(trg_tensor)\n",
    "        \n",
    "        with torch.no_grad():\n",
    "            output, attention = model.decoder(trg_tensor, enc_src, trg_mask, src_mask)\n",
    "        \n",
    "        pred_token = output.argmax(2)[:,-1].item()\n",
    "        \n",
    "        trg_indexes.append(pred_token)\n",
    "\n",
    "        if pred_token == trg_field.vocab.stoi[trg_field.eos_token]:\n",
    "            break\n",
    "    \n",
    "    trg_tokens = [trg_field.vocab.itos[i] for i in trg_indexes]\n",
    "    \n",
    "    return trg_tokens[1:], attention"
   ]
  },
  {
   "cell_type": "markdown",
   "id": "fe880f7e",
   "metadata": {
    "papermill": {
     "duration": 0.100752,
     "end_time": "2022-04-08T10:46:43.716652",
     "exception": false,
     "start_time": "2022-04-08T10:46:43.615900",
     "status": "completed"
    },
    "tags": []
   },
   "source": [
    "We'll now define a function that displays the attention over the source sentence for each step of the decoding. As this model has 8 heads our model we can view the attention for each of the heads."
   ]
  },
  {
   "cell_type": "code",
   "execution_count": 34,
   "id": "035ab427",
   "metadata": {
    "execution": {
     "iopub.execute_input": "2022-04-08T10:46:43.925007Z",
     "iopub.status.busy": "2022-04-08T10:46:43.924213Z",
     "iopub.status.idle": "2022-04-08T10:46:43.926779Z",
     "shell.execute_reply": "2022-04-08T10:46:43.926299Z",
     "shell.execute_reply.started": "2022-04-07T12:47:40.754629Z"
    },
    "papermill": {
     "duration": 0.109837,
     "end_time": "2022-04-08T10:46:43.926904",
     "exception": false,
     "start_time": "2022-04-08T10:46:43.817067",
     "status": "completed"
    },
    "tags": []
   },
   "outputs": [],
   "source": [
    "def display_attention(sentence, translation, attention, n_heads = 8, n_rows = 4, n_cols = 2):\n",
    "    \n",
    "    assert n_rows * n_cols == n_heads\n",
    "    \n",
    "    fig = plt.figure(figsize=(15,25))\n",
    "    \n",
    "    for i in range(n_heads):\n",
    "        \n",
    "        ax = fig.add_subplot(n_rows, n_cols, i+1)\n",
    "        \n",
    "        _attention = attention.squeeze(0)[i].cpu().detach().numpy()\n",
    "\n",
    "        cax = ax.matshow(_attention, cmap='bone')\n",
    "\n",
    "        ax.tick_params(labelsize=12)\n",
    "        ax.set_xticklabels(['']+['<sos>']+[t.lower() for t in sentence]+['<eos>'], \n",
    "                           rotation=45)\n",
    "        ax.set_yticklabels(['']+translation)\n",
    "\n",
    "        ax.xaxis.set_major_locator(ticker.MultipleLocator(1))\n",
    "        ax.yaxis.set_major_locator(ticker.MultipleLocator(1))\n",
    "\n",
    "    plt.show()\n",
    "    plt.close()"
   ]
  },
  {
   "cell_type": "markdown",
   "id": "e0cb1813",
   "metadata": {
    "papermill": {
     "duration": 0.10047,
     "end_time": "2022-04-08T10:46:44.127047",
     "exception": false,
     "start_time": "2022-04-08T10:46:44.026577",
     "status": "completed"
    },
    "tags": []
   },
   "source": [
    "First, we'll get an example from the training set."
   ]
  },
  {
   "cell_type": "code",
   "execution_count": 35,
   "id": "c86c8c5b",
   "metadata": {
    "execution": {
     "iopub.execute_input": "2022-04-08T10:46:44.328882Z",
     "iopub.status.busy": "2022-04-08T10:46:44.328071Z",
     "iopub.status.idle": "2022-04-08T10:46:44.334982Z",
     "shell.execute_reply": "2022-04-08T10:46:44.334357Z",
     "shell.execute_reply.started": "2022-04-07T12:47:40.768171Z"
    },
    "papermill": {
     "duration": 0.108301,
     "end_time": "2022-04-08T10:46:44.335131",
     "exception": false,
     "start_time": "2022-04-08T10:46:44.226830",
     "status": "completed"
    },
    "tags": []
   },
   "outputs": [
    {
     "name": "stdout",
     "output_type": "stream",
     "text": [
      "src = ['eine', 'frau', 'mit', 'einer', 'großen', 'geldbörse', 'geht', 'an', 'einem', 'tor', 'vorbei', '.']\n",
      "trg = ['a', 'woman', 'with', 'a', 'large', 'purse', 'is', 'walking', 'by', 'a', 'gate', '.']\n"
     ]
    }
   ],
   "source": [
    "example_idx = 8\n",
    "\n",
    "src = vars(train_data.examples[example_idx])['src']\n",
    "trg = vars(train_data.examples[example_idx])['trg']\n",
    "\n",
    "print(f'src = {src}')\n",
    "print(f'trg = {trg}')"
   ]
  },
  {
   "cell_type": "markdown",
   "id": "3474f3b9",
   "metadata": {
    "papermill": {
     "duration": 0.099222,
     "end_time": "2022-04-08T10:46:44.534961",
     "exception": false,
     "start_time": "2022-04-08T10:46:44.435739",
     "status": "completed"
    },
    "tags": []
   },
   "source": [
    "Our translation looks pretty good, although our model changes *is walking by* to *walks by*. The meaning is still the same."
   ]
  },
  {
   "cell_type": "code",
   "execution_count": 36,
   "id": "11975cc7",
   "metadata": {
    "execution": {
     "iopub.execute_input": "2022-04-08T10:46:44.740932Z",
     "iopub.status.busy": "2022-04-08T10:46:44.740093Z",
     "iopub.status.idle": "2022-04-08T10:46:44.788677Z",
     "shell.execute_reply": "2022-04-08T10:46:44.789138Z",
     "shell.execute_reply.started": "2022-04-07T12:47:40.781065Z"
    },
    "papermill": {
     "duration": 0.154817,
     "end_time": "2022-04-08T10:46:44.789284",
     "exception": false,
     "start_time": "2022-04-08T10:46:44.634467",
     "status": "completed"
    },
    "tags": []
   },
   "outputs": [
    {
     "name": "stdout",
     "output_type": "stream",
     "text": [
      "predicted trg = ['a', 'woman', 'with', 'a', 'large', 'purse', 'walks', 'by', 'a', 'gate', '.', '<eos>']\n"
     ]
    }
   ],
   "source": [
    "translation, attention = translate_sentence(src, SRC, TRG, model, device)\n",
    "\n",
    "print(f'predicted trg = {translation}')"
   ]
  },
  {
   "cell_type": "markdown",
   "id": "1baec603",
   "metadata": {
    "papermill": {
     "duration": 0.100235,
     "end_time": "2022-04-08T10:46:44.990044",
     "exception": false,
     "start_time": "2022-04-08T10:46:44.889809",
     "status": "completed"
    },
    "tags": []
   },
   "source": [
    "We can see the attention from each head below. Each is certainly different, but it's difficult (perhaps impossible) to reason about what head has actually learned to pay attention to. Some heads pay full attention to \"eine\" when translating \"a\", some don't at all, and some do a little. They all seem to follow the similar \"downward staircase\" pattern and the attention when outputting the last two tokens is equally spread over the final two tokens in the input sentence."
   ]
  },
  {
   "cell_type": "code",
   "execution_count": 37,
   "id": "1ffb3b0a",
   "metadata": {
    "execution": {
     "iopub.execute_input": "2022-04-08T10:46:45.212403Z",
     "iopub.status.busy": "2022-04-08T10:46:45.209786Z",
     "iopub.status.idle": "2022-04-08T10:46:47.078793Z",
     "shell.execute_reply": "2022-04-08T10:46:47.079265Z",
     "shell.execute_reply.started": "2022-04-07T12:47:40.837977Z"
    },
    "papermill": {
     "duration": 1.988395,
     "end_time": "2022-04-08T10:46:47.079700",
     "exception": false,
     "start_time": "2022-04-08T10:46:45.091305",
     "status": "completed"
    },
    "tags": []
   },
   "outputs": [
    {
     "name": "stderr",
     "output_type": "stream",
     "text": [
      "/opt/conda/lib/python3.7/site-packages/ipykernel_launcher.py:17: UserWarning: FixedFormatter should only be used together with FixedLocator\n",
      "/opt/conda/lib/python3.7/site-packages/ipykernel_launcher.py:18: UserWarning: FixedFormatter should only be used together with FixedLocator\n"
     ]
    },
    {
     "data": {
      "image/png": "[encoded data removed]",
      "text/plain": [
       "<Figure size 1080x1800 with 8 Axes>"
      ]
     },
     "metadata": {
      "needs_background": "light"
     },
     "output_type": "display_data"
    }
   ],
   "source": [
    "display_attention(src, translation, attention)"
   ]
  },
  {
   "cell_type": "markdown",
   "id": "96e00be6",
   "metadata": {
    "papermill": {
     "duration": 0.103338,
     "end_time": "2022-04-08T10:46:47.286672",
     "exception": false,
     "start_time": "2022-04-08T10:46:47.183334",
     "status": "completed"
    },
    "tags": []
   },
   "source": [
    "Next, let's get an example the model has not been trained on from the validation set."
   ]
  },
  {
   "cell_type": "code",
   "execution_count": 38,
   "id": "a8dd2e99",
   "metadata": {
    "execution": {
     "iopub.execute_input": "2022-04-08T10:46:47.498764Z",
     "iopub.status.busy": "2022-04-08T10:46:47.498015Z",
     "iopub.status.idle": "2022-04-08T10:46:47.501028Z",
     "shell.execute_reply": "2022-04-08T10:46:47.501434Z",
     "shell.execute_reply.started": "2022-04-07T12:47:43.010589Z"
    },
    "papermill": {
     "duration": 0.111956,
     "end_time": "2022-04-08T10:46:47.501575",
     "exception": false,
     "start_time": "2022-04-08T10:46:47.389619",
     "status": "completed"
    },
    "tags": []
   },
   "outputs": [
    {
     "name": "stdout",
     "output_type": "stream",
     "text": [
      "src = ['ein', 'brauner', 'hund', 'rennt', 'dem', 'schwarzen', 'hund', 'hinterher', '.']\n",
      "trg = ['a', 'brown', 'dog', 'is', 'running', 'after', 'the', 'black', 'dog', '.']\n"
     ]
    }
   ],
   "source": [
    "example_idx = 6\n",
    "\n",
    "src = vars(valid_data.examples[example_idx])['src']\n",
    "trg = vars(valid_data.examples[example_idx])['trg']\n",
    "\n",
    "print(f'src = {src}')\n",
    "print(f'trg = {trg}')"
   ]
  },
  {
   "cell_type": "markdown",
   "id": "e41d894a",
   "metadata": {
    "papermill": {
     "duration": 0.108595,
     "end_time": "2022-04-08T10:46:47.714009",
     "exception": false,
     "start_time": "2022-04-08T10:46:47.605414",
     "status": "completed"
    },
    "tags": []
   },
   "source": [
    "The model translates it by switching *is running* to just *runs*, but it is an acceptable swap."
   ]
  },
  {
   "cell_type": "code",
   "execution_count": 39,
   "id": "914f54cb",
   "metadata": {
    "execution": {
     "iopub.execute_input": "2022-04-08T10:46:47.926664Z",
     "iopub.status.busy": "2022-04-08T10:46:47.925858Z",
     "iopub.status.idle": "2022-04-08T10:46:47.962418Z",
     "shell.execute_reply": "2022-04-08T10:46:47.962974Z",
     "shell.execute_reply.started": "2022-04-07T12:47:43.018388Z"
    },
    "papermill": {
     "duration": 0.145313,
     "end_time": "2022-04-08T10:46:47.963165",
     "exception": false,
     "start_time": "2022-04-08T10:46:47.817852",
     "status": "completed"
    },
    "tags": []
   },
   "outputs": [
    {
     "name": "stdout",
     "output_type": "stream",
     "text": [
      "predicted trg = ['a', 'brown', 'dog', 'running', 'after', 'the', 'black', 'dog', '.', '<eos>']\n"
     ]
    }
   ],
   "source": [
    "translation, attention = translate_sentence(src, SRC, TRG, model, device)\n",
    "\n",
    "print(f'predicted trg = {translation}')"
   ]
  },
  {
   "cell_type": "markdown",
   "id": "b1c7ded0",
   "metadata": {
    "papermill": {
     "duration": 0.104866,
     "end_time": "2022-04-08T10:46:48.175051",
     "exception": false,
     "start_time": "2022-04-08T10:46:48.070185",
     "status": "completed"
    },
    "tags": []
   },
   "source": [
    "Again, some heads pay full attention to \"ein\" whilst some pay no attention to it. Again, most of the heads seem to spread their attention over both the period and `<eos>` tokens in the source sentence when outputting the period and `<eos>` sentence in the predicted target sentence, though some seem to pay attention to tokens from near the start of the sentence."
   ]
  },
  {
   "cell_type": "code",
   "execution_count": 40,
   "id": "c6af8aaf",
   "metadata": {
    "execution": {
     "iopub.execute_input": "2022-04-08T10:46:48.399555Z",
     "iopub.status.busy": "2022-04-08T10:46:48.399030Z",
     "iopub.status.idle": "2022-04-08T10:46:50.021753Z",
     "shell.execute_reply": "2022-04-08T10:46:50.022167Z",
     "shell.execute_reply.started": "2022-04-07T12:47:43.064612Z"
    },
    "papermill": {
     "duration": 1.743871,
     "end_time": "2022-04-08T10:46:50.022309",
     "exception": false,
     "start_time": "2022-04-08T10:46:48.278438",
     "status": "completed"
    },
    "tags": []
   },
   "outputs": [
    {
     "name": "stderr",
     "output_type": "stream",
     "text": [
      "/opt/conda/lib/python3.7/site-packages/ipykernel_launcher.py:17: UserWarning: FixedFormatter should only be used together with FixedLocator\n",
      "/opt/conda/lib/python3.7/site-packages/ipykernel_launcher.py:18: UserWarning: FixedFormatter should only be used together with FixedLocator\n"
     ]
    },
    {
     "data": {
      "image/png": "[encoded data removed]",
      "text/plain": [
       "<Figure size 1080x1800 with 8 Axes>"
      ]
     },
     "metadata": {
      "needs_background": "light"
     },
     "output_type": "display_data"
    }
   ],
   "source": [
    "display_attention(src, translation, attention)"
   ]
  },
  {
   "cell_type": "markdown",
   "id": "e321a597",
   "metadata": {
    "papermill": {
     "duration": 0.105702,
     "end_time": "2022-04-08T10:46:50.234347",
     "exception": false,
     "start_time": "2022-04-08T10:46:50.128645",
     "status": "completed"
    },
    "tags": []
   },
   "source": [
    "Finally, we'll look at an example from the test data."
   ]
  },
  {
   "cell_type": "code",
   "execution_count": 41,
   "id": "01ad0bf5",
   "metadata": {
    "execution": {
     "iopub.execute_input": "2022-04-08T10:46:50.452380Z",
     "iopub.status.busy": "2022-04-08T10:46:50.451734Z",
     "iopub.status.idle": "2022-04-08T10:46:50.454719Z",
     "shell.execute_reply": "2022-04-08T10:46:50.455140Z",
     "shell.execute_reply.started": "2022-04-07T12:47:44.971449Z"
    },
    "papermill": {
     "duration": 0.115051,
     "end_time": "2022-04-08T10:46:50.455272",
     "exception": false,
     "start_time": "2022-04-08T10:46:50.340221",
     "status": "completed"
    },
    "tags": []
   },
   "outputs": [
    {
     "name": "stdout",
     "output_type": "stream",
     "text": [
      "src = ['eine', 'mutter', 'und', 'ihr', 'kleiner', 'sohn', 'genießen', 'einen', 'schönen', 'tag', 'im', 'freien', '.']\n",
      "trg = ['a', 'mother', 'and', 'her', 'young', 'song', 'enjoying', 'a', 'beautiful', 'day', 'outside', '.']\n"
     ]
    }
   ],
   "source": [
    "example_idx = 10\n",
    "\n",
    "src = vars(test_data.examples[example_idx])['src']\n",
    "trg = vars(test_data.examples[example_idx])['trg']\n",
    "\n",
    "print(f'src = {src}')\n",
    "print(f'trg = {trg}')"
   ]
  },
  {
   "cell_type": "markdown",
   "id": "97ccdd0a",
   "metadata": {
    "papermill": {
     "duration": 0.107628,
     "end_time": "2022-04-08T10:46:50.678451",
     "exception": false,
     "start_time": "2022-04-08T10:46:50.570823",
     "status": "completed"
    },
    "tags": []
   },
   "source": [
    "A perfect translation!"
   ]
  },
  {
   "cell_type": "code",
   "execution_count": 42,
   "id": "aa602e71",
   "metadata": {
    "execution": {
     "iopub.execute_input": "2022-04-08T10:46:50.897604Z",
     "iopub.status.busy": "2022-04-08T10:46:50.896749Z",
     "iopub.status.idle": "2022-04-08T10:46:50.942637Z",
     "shell.execute_reply": "2022-04-08T10:46:50.943190Z",
     "shell.execute_reply.started": "2022-04-07T12:47:44.979584Z"
    },
    "papermill": {
     "duration": 0.158374,
     "end_time": "2022-04-08T10:46:50.943382",
     "exception": false,
     "start_time": "2022-04-08T10:46:50.785008",
     "status": "completed"
    },
    "tags": []
   },
   "outputs": [
    {
     "name": "stdout",
     "output_type": "stream",
     "text": [
      "predicted trg = ['a', 'mother', 'and', 'her', 'small', 'son', 'enjoying', 'a', 'nice', 'day', 'outside', '.', '<eos>']\n"
     ]
    }
   ],
   "source": [
    "translation, attention = translate_sentence(src, SRC, TRG, model, device)\n",
    "\n",
    "print(f'predicted trg = {translation}')"
   ]
  },
  {
   "cell_type": "code",
   "execution_count": 43,
   "id": "acfcea38",
   "metadata": {
    "execution": {
     "iopub.execute_input": "2022-04-08T10:46:51.178672Z",
     "iopub.status.busy": "2022-04-08T10:46:51.178102Z",
     "iopub.status.idle": "2022-04-08T10:46:53.513668Z",
     "shell.execute_reply": "2022-04-08T10:46:53.514182Z",
     "shell.execute_reply.started": "2022-04-07T12:47:45.044992Z"
    },
    "papermill": {
     "duration": 2.462193,
     "end_time": "2022-04-08T10:46:53.514362",
     "exception": false,
     "start_time": "2022-04-08T10:46:51.052169",
     "status": "completed"
    },
    "tags": []
   },
   "outputs": [
    {
     "name": "stderr",
     "output_type": "stream",
     "text": [
      "/opt/conda/lib/python3.7/site-packages/ipykernel_launcher.py:17: UserWarning: FixedFormatter should only be used together with FixedLocator\n",
      "/opt/conda/lib/python3.7/site-packages/ipykernel_launcher.py:18: UserWarning: FixedFormatter should only be used together with FixedLocator\n"
     ]
    },
    {
     "data": {
      "image/png": "[encoded data removed]",
      "text/plain": [
       "<Figure size 1080x1800 with 8 Axes>"
      ]
     },
     "metadata": {
      "needs_background": "light"
     },
     "output_type": "display_data"
    }
   ],
   "source": [
    "display_attention(src, translation, attention)"
   ]
  },
  {
   "cell_type": "code",
   "execution_count": 44,
   "id": "a2ab7e34",
   "metadata": {
    "execution": {
     "iopub.execute_input": "2022-04-08T10:46:53.755845Z",
     "iopub.status.busy": "2022-04-08T10:46:53.754865Z",
     "iopub.status.idle": "2022-04-08T10:47:04.949883Z",
     "shell.execute_reply": "2022-04-08T10:47:04.950485Z"
    },
    "papermill": {
     "duration": 11.323836,
     "end_time": "2022-04-08T10:47:04.950696",
     "exception": false,
     "start_time": "2022-04-08T10:46:53.626860",
     "status": "completed"
    },
    "tags": []
   },
   "outputs": [
    {
     "name": "stdout",
     "output_type": "stream",
     "text": [
      "src = zwei junge weiße männer sind im freien in der nähe vieler büsche .\n",
      "true trg = two young , white males are outside near many bushes .\n",
      "pred trg = two young white men are outside near many bushes . <eos>\n",
      "---------------------------------------------------------\n",
      "\n",
      "src = ein mann springt in einem belebten park mit dem skateboard von einer rampe .\n",
      "true trg = a man jumping off a ramp on a skateboard in a crowded park .\n",
      "pred trg = a man jumping off a skateboard into a crowded park with a skateboard . <eos>\n",
      "---------------------------------------------------------\n",
      "\n",
      "src = zwei frauen posieren in einem schlafzimmer für ein foto .\n",
      "true trg = two women pose for a picture in a bedroom .\n",
      "pred trg = two women are posing for a picture in a bedroom . <eos>\n",
      "---------------------------------------------------------\n",
      "\n",
      "src = schüler in einem klassenzimmer lesen etwas auf einem blatt papier .\n",
      "true trg = students are in a classroom , reading something off a paper .\n",
      "pred trg = students in a classroom reading something from a paper . <eos>\n",
      "---------------------------------------------------------\n",
      "\n",
      "src = zwei kleine jungen reparieren ein kleines fahrrad .\n",
      "true trg = two little boys are fixing a little bike .\n",
      "pred trg = two young boys are fixing a small bicycle . <eos>\n",
      "---------------------------------------------------------\n",
      "\n"
     ]
    }
   ],
   "source": [
    "for example in train_data.examples[::len(train_data)//5]:\n",
    "\n",
    "    src = ' '.join(vars(example)['src'])\n",
    "    trg = ' '.join(vars(example)['trg'])\n",
    "\n",
    "    print(f'src = {src}')\n",
    "    print(f'true trg = {trg}')\n",
    "\n",
    "    translation, attention = translate_sentence(src, SRC, TRG, model, device)\n",
    "    print(f'pred trg = {\" \".join(translation)}')\n",
    "    \n",
    "    print('---------------------------------------------------------')\n",
    "    print()"
   ]
  },
  {
   "cell_type": "code",
   "execution_count": 45,
   "id": "8eba2344",
   "metadata": {
    "execution": {
     "iopub.execute_input": "2022-04-08T10:47:05.184171Z",
     "iopub.status.busy": "2022-04-08T10:47:05.183365Z",
     "iopub.status.idle": "2022-04-08T10:47:17.822920Z",
     "shell.execute_reply": "2022-04-08T10:47:17.823354Z",
     "shell.execute_reply.started": "2022-04-07T13:11:48.588571Z"
    },
    "papermill": {
     "duration": 12.759471,
     "end_time": "2022-04-08T10:47:17.823520",
     "exception": false,
     "start_time": "2022-04-08T10:47:05.064049",
     "status": "completed"
    },
    "tags": []
   },
   "outputs": [
    {
     "name": "stdout",
     "output_type": "stream",
     "text": [
      "src = eine gruppe von männern lädt baumwolle auf einen lastwagen\n",
      "true trg = a group of men are loading cotton onto a truck\n",
      "pred trg = a group of men loading <unk> a truck . <eos>\n",
      "---------------------------------------------------------\n",
      "\n",
      "src = mann und junge spielen bei sonnenuntergang mit einem hund am strand .\n",
      "true trg = man and boy play with dog at sunset on a beach .\n",
      "pred trg = man and boy playing with a dog on beach at the beach . <eos>\n",
      "---------------------------------------------------------\n",
      "\n",
      "src = ein junger skifahrer blickt in die kamera .\n",
      "true trg = a young skier looks at the camera .\n",
      "pred trg = a young skier looks at the camera . <eos>\n",
      "---------------------------------------------------------\n",
      "\n",
      "src = ein mann spielt mike tyson's punch-out auf seinem computer .\n",
      "true trg = a man playing mike tyson 's punchout on his computer .\n",
      "pred trg = a man is playing a <unk> video game on his computer . <eos>\n",
      "---------------------------------------------------------\n",
      "\n",
      "src = ein mann in einem weißen t-shirt sitzt auf einer kiste .\n",
      "true trg = a man in a white shirt is sitting on a crate .\n",
      "pred trg = a man in a white t - shirt is sitting on a box . <eos>\n",
      "---------------------------------------------------------\n",
      "\n",
      "src = eine gruppe von polizisten steht vor einem bus .\n",
      "true trg = a bunch of police officers are standing outside a bus .\n",
      "pred trg = a group of police officers standing in front of a bus . <eos>\n",
      "---------------------------------------------------------\n",
      "\n"
     ]
    }
   ],
   "source": [
    "for example in valid_data.examples[::len(valid_data)//5]:\n",
    "\n",
    "    src = ' '.join(vars(example)['src'])\n",
    "    trg = ' '.join(vars(example)['trg'])\n",
    "\n",
    "    print(f'src = {src}')\n",
    "    print(f'true trg = {trg}')\n",
    "\n",
    "    translation, attention = translate_sentence(src, SRC, TRG, model, device)\n",
    "    print(f'pred trg = {\" \".join(translation)}')\n",
    "    \n",
    "    print('---------------------------------------------------------')\n",
    "    print()"
   ]
  },
  {
   "cell_type": "code",
   "execution_count": 46,
   "id": "f956bf15",
   "metadata": {
    "execution": {
     "iopub.execute_input": "2022-04-08T10:47:18.060856Z",
     "iopub.status.busy": "2022-04-08T10:47:18.059578Z",
     "iopub.status.idle": "2022-04-08T10:47:39.183092Z",
     "shell.execute_reply": "2022-04-08T10:47:39.183615Z",
     "shell.execute_reply.started": "2022-04-07T13:09:57.153262Z"
    },
    "papermill": {
     "duration": 21.244111,
     "end_time": "2022-04-08T10:47:39.183815",
     "exception": false,
     "start_time": "2022-04-08T10:47:17.939704",
     "status": "completed"
    },
    "tags": []
   },
   "outputs": [
    {
     "name": "stdout",
     "output_type": "stream",
     "text": [
      "src = ein mann mit einem orangefarbenen hut , der etwas anstarrt .\n",
      "true trg = a man in an orange hat starring at something .\n",
      "pred trg = a man in an orange hat <unk> something . <eos>\n",
      "---------------------------------------------------------\n",
      "\n",
      "src = eine glückliche frau bereitet in einem coffee-shop eine erfrischung zu .\n",
      "true trg = a happy woman is preparing a refreshment at a coffee shop .\n",
      "pred trg = a happy woman prepares to throw a clay pot . <eos>\n",
      "---------------------------------------------------------\n",
      "\n",
      "src = ein mann wirft einen ast in einen kanal während zwei hunde zusehen .\n",
      "true trg = a man is throwing a log into a waterway while two dogs watch .\n",
      "pred trg = a man is throwing a bit in a tree branch in a canal . <eos>\n",
      "---------------------------------------------------------\n",
      "\n",
      "src = ein junger mann rutscht mit dem skateboard über ein rosa geländer .\n",
      "true trg = a young man skateboards off a pink railing .\n",
      "pred trg = a young man sliding across a rail in a pink railing . <eos>\n",
      "---------------------------------------------------------\n",
      "\n",
      "src = diese vier personen stehen mit 3 hunden im freien .\n",
      "true trg = these four people are standing outdoors , with 3 dogs .\n",
      "pred trg = four people are standing outside with 3 dogs . <eos>\n",
      "---------------------------------------------------------\n",
      "\n",
      "src = ein tisch voller gerahmter bilder , ein freiluftmarkt .\n",
      "true trg = a table full of pictures in frames , at an outdoor market .\n",
      "pred trg = a table full of art <unk> outdoors . <eos>\n",
      "---------------------------------------------------------\n",
      "\n",
      "src = ein brauner hund mit einem lilafarbenen frisbee im mund .\n",
      "true trg = a brown dog with a purple frisbee in its mouth .\n",
      "pred trg = a brown dog with a purple frisbee in his mouth . <eos>\n",
      "---------------------------------------------------------\n",
      "\n",
      "src = mehrere männer in orange versammeln sich im freien für ein gesellschaftliches ereignis .\n",
      "true trg = several men dressed in orange gather for an outdoor social event .\n",
      "pred trg = several men in orange gather for an outdoor event for an outdoor event . <eos>\n",
      "---------------------------------------------------------\n",
      "\n",
      "src = ein mann fährt auf einem fahrrad durch einen torbogen .\n",
      "true trg = a man on a bicycle pedals through an archway .\n",
      "pred trg = a man is riding a bicycle through an arch . <eos>\n",
      "---------------------------------------------------------\n",
      "\n",
      "src = mehrere fußballer auf einem feld in aktion .\n",
      "true trg = several football players on a field in action .\n",
      "pred trg = several soccer players on a field in a game . <eos>\n",
      "---------------------------------------------------------\n",
      "\n"
     ]
    }
   ],
   "source": [
    "for example in test_data.examples[::len(test_data)//10]:\n",
    "\n",
    "    src = ' '.join(vars(example)['src'])\n",
    "    trg = ' '.join(vars(example)['trg'])\n",
    "\n",
    "    print(f'src = {src}')\n",
    "    print(f'true trg = {trg}')\n",
    "\n",
    "    translation, attention = translate_sentence(src, SRC, TRG, model, device)\n",
    "    print(f'pred trg = {\" \".join(translation)}')\n",
    "    \n",
    "    print('---------------------------------------------------------')\n",
    "    print()"
   ]
  },
  {
   "cell_type": "markdown",
   "id": "b67995e0",
   "metadata": {
    "papermill": {
     "duration": 0.116749,
     "end_time": "2022-04-08T10:47:39.417746",
     "exception": false,
     "start_time": "2022-04-08T10:47:39.300997",
     "status": "completed"
    },
    "tags": []
   },
   "source": [
    "## BLEU\n",
    "\n",
    "Previously we have only cared about the loss/perplexity of the model. However there metrics that are specifically designed for measuring the quality of a translation - the most popular is *BLEU*. Without going into too much detail, BLEU looks at the overlap in the predicted and actual target sequences in terms of their n-grams. It will give us a number between 0 and 1 for each sequence, where 1 means there is perfect overlap, i.e. a perfect translation, although is usually shown between 0 and 100. BLEU was designed for multiple candidate translations per source sequence, however in this dataset we only have one candidate per source.\n",
    "\n",
    "We define a `calculate_bleu` function which calculates the BLEU score over a provided TorchText dataset. This function creates a corpus of the actual and predicted translation for each source sentence and then calculates the BLEU score.\n",
    "\n",
    "Finally we calculate the BLEU score for the Transformer."
   ]
  },
  {
   "cell_type": "code",
   "execution_count": 47,
   "id": "ac9f3ed9",
   "metadata": {
    "execution": {
     "iopub.execute_input": "2022-04-08T10:47:39.661075Z",
     "iopub.status.busy": "2022-04-08T10:47:39.660277Z",
     "iopub.status.idle": "2022-04-08T10:47:39.662257Z",
     "shell.execute_reply": "2022-04-08T10:47:39.662684Z",
     "shell.execute_reply.started": "2022-04-07T12:47:47.0933Z"
    },
    "papermill": {
     "duration": 0.127521,
     "end_time": "2022-04-08T10:47:39.662839",
     "exception": false,
     "start_time": "2022-04-08T10:47:39.535318",
     "status": "completed"
    },
    "tags": []
   },
   "outputs": [],
   "source": [
    "from torchtext.data.metrics import bleu_score\n",
    "\n",
    "def calculate_bleu(data, src_field, trg_field, model, device, max_len = 50):\n",
    "    \n",
    "    trgs = []\n",
    "    pred_trgs = []\n",
    "    \n",
    "    for datum in data:\n",
    "        \n",
    "        src = vars(datum)['src']\n",
    "        trg = vars(datum)['trg']\n",
    "        \n",
    "        pred_trg, _ = translate_sentence(src, src_field, trg_field, model, device, max_len)\n",
    "        \n",
    "        #cut off <eos> token\n",
    "        pred_trg = pred_trg[:-1]\n",
    "        \n",
    "        pred_trgs.append(pred_trg)\n",
    "        trgs.append([trg])\n",
    "        \n",
    "    return bleu_score(pred_trgs, trgs)"
   ]
  },
  {
   "cell_type": "markdown",
   "id": "ca1f8d14",
   "metadata": {
    "papermill": {
     "duration": 0.120257,
     "end_time": "2022-04-08T10:47:39.904224",
     "exception": false,
     "start_time": "2022-04-08T10:47:39.783967",
     "status": "completed"
    },
    "tags": []
   },
   "source": [
    "We get a BLEU score of 36.52, which beats the ~34 of the convolutional sequence-to-sequence model and ~28 of the attention based RNN model. All this whilst having the least amount of parameters and the fastest training time!\n",
    "\n",
    "This number isn't really interpretable, we can't really say much about it. The most useful part of a BLEU score is that it can be used to compare different models on the same dataset, where the one with the **higher** BLEU score is \"better\"."
   ]
  },
  {
   "cell_type": "code",
   "execution_count": 48,
   "id": "01c1c735",
   "metadata": {
    "execution": {
     "iopub.execute_input": "2022-04-08T10:47:40.151596Z",
     "iopub.status.busy": "2022-04-08T10:47:40.150589Z",
     "iopub.status.idle": "2022-04-08T10:48:24.936753Z",
     "shell.execute_reply": "2022-04-08T10:48:24.937385Z",
     "shell.execute_reply.started": "2022-04-07T12:47:47.101929Z"
    },
    "papermill": {
     "duration": 44.911795,
     "end_time": "2022-04-08T10:48:24.937589",
     "exception": false,
     "start_time": "2022-04-08T10:47:40.025794",
     "status": "completed"
    },
    "tags": []
   },
   "outputs": [
    {
     "name": "stdout",
     "output_type": "stream",
     "text": [
      "BLEU score = 35.85\n"
     ]
    }
   ],
   "source": [
    "bleu_score = calculate_bleu(test_data, SRC, TRG, model, device)\n",
    "\n",
    "print(f'BLEU score = {bleu_score*100:.2f}')"
   ]
  },
  {
   "cell_type": "markdown",
   "id": "d7c34529",
   "metadata": {
    "papermill": {
     "duration": 0.123235,
     "end_time": "2022-04-08T10:48:25.179434",
     "exception": false,
     "start_time": "2022-04-08T10:48:25.056199",
     "status": "completed"
    },
    "tags": []
   },
   "source": [
    "Congratulations for finishing these tutorials! I hope you've found them useful.\n",
    "\n",
    "If you find any mistakes or want to ask any questions about any of the code or explanations used, feel free to submit a GitHub issue and I will try to correct it ASAP.\n",
    "\n",
    "## Appendix\n",
    "\n",
    "The `calculate_bleu` function above is unoptimized. Below is a significantly faster, vectorized version of it that should be used if needed. Credit for the implementation goes to [@azadyasar](https://github.com/azadyasar)."
   ]
  },
  {
   "cell_type": "code",
   "execution_count": 49,
   "id": "89b526e5",
   "metadata": {
    "execution": {
     "iopub.execute_input": "2022-04-08T10:48:25.422670Z",
     "iopub.status.busy": "2022-04-08T10:48:25.421804Z",
     "iopub.status.idle": "2022-04-08T10:48:25.432892Z",
     "shell.execute_reply": "2022-04-08T10:48:25.432457Z",
     "shell.execute_reply.started": "2022-04-07T12:48:31.101981Z"
    },
    "papermill": {
     "duration": 0.133597,
     "end_time": "2022-04-08T10:48:25.433015",
     "exception": false,
     "start_time": "2022-04-08T10:48:25.299418",
     "status": "completed"
    },
    "tags": []
   },
   "outputs": [],
   "source": [
    "def translate_sentence_vectorized(src_tensor, src_field, trg_field, model, device, max_len=50):\n",
    "    assert isinstance(src_tensor, torch.Tensor)\n",
    "\n",
    "    model.eval()\n",
    "    src_mask = model.make_src_mask(src_tensor)\n",
    "\n",
    "    with torch.no_grad():\n",
    "        enc_src = model.encoder(src_tensor, src_mask)\n",
    "    # enc_src = [batch_sz, src_len, hid_dim]\n",
    "\n",
    "    trg_indexes = [[trg_field.vocab.stoi[trg_field.init_token]] for _ in range(len(src_tensor))]\n",
    "    # Even though some examples might have been completed by producing a <eos> token\n",
    "    # we still need to feed them through the model because other are not yet finished\n",
    "    # and all examples act as a batch. Once every single sentence prediction encounters\n",
    "    # <eos> token, then we can stop predicting.\n",
    "    translations_done = [0] * len(src_tensor)\n",
    "    for i in range(max_len):\n",
    "        trg_tensor = torch.LongTensor(trg_indexes).to(device)\n",
    "        trg_mask = model.make_trg_mask(trg_tensor)\n",
    "        with torch.no_grad():\n",
    "            output, attention = model.decoder(trg_tensor, enc_src, trg_mask, src_mask)\n",
    "        pred_tokens = output.argmax(2)[:,-1]\n",
    "        for i, pred_token_i in enumerate(pred_tokens):\n",
    "            trg_indexes[i].append(pred_token_i)\n",
    "            if pred_token_i == trg_field.vocab.stoi[trg_field.eos_token]:\n",
    "                translations_done[i] = 1\n",
    "        if all(translations_done):\n",
    "            break\n",
    "\n",
    "    # Iterate through each predicted example one by one;\n",
    "    # Cut-off the portion including the after the <eos> token\n",
    "    pred_sentences = []\n",
    "    for trg_sentence in trg_indexes:\n",
    "        pred_sentence = []\n",
    "        for i in range(1, len(trg_sentence)):\n",
    "            if trg_sentence[i] == trg_field.vocab.stoi[trg_field.eos_token]:\n",
    "                break\n",
    "            pred_sentence.append(trg_field.vocab.itos[trg_sentence[i]])\n",
    "        pred_sentences.append(pred_sentence)\n",
    "\n",
    "    return pred_sentences, attention"
   ]
  },
  {
   "cell_type": "code",
   "execution_count": 50,
   "id": "5c2a6678",
   "metadata": {
    "execution": {
     "iopub.execute_input": "2022-04-08T10:48:25.679058Z",
     "iopub.status.busy": "2022-04-08T10:48:25.678294Z",
     "iopub.status.idle": "2022-04-08T10:48:25.680219Z",
     "shell.execute_reply": "2022-04-08T10:48:25.680726Z",
     "shell.execute_reply.started": "2022-04-07T12:48:31.118373Z"
    },
    "papermill": {
     "duration": 0.127393,
     "end_time": "2022-04-08T10:48:25.680864",
     "exception": false,
     "start_time": "2022-04-08T10:48:25.553471",
     "status": "completed"
    },
    "tags": []
   },
   "outputs": [],
   "source": [
    "from torchtext.data.metrics import bleu_score\n",
    "\n",
    "def calculate_bleu_alt(iterator, src_field, trg_field, model, device, max_len = 50):\n",
    "    trgs = []\n",
    "    pred_trgs = []\n",
    "    with torch.no_grad():\n",
    "        for batch in iterator:\n",
    "            src = batch.src\n",
    "            trg = batch.trg\n",
    "            _trgs = []\n",
    "            for sentence in trg:\n",
    "                tmp = []\n",
    "                # Start from the first token which skips the <start> token\n",
    "                for i in sentence[1:]:\n",
    "                    # Targets are padded. So stop appending as soon as a padding or eos token is encountered\n",
    "                    if i == trg_field.vocab.stoi[trg_field.eos_token] or i == trg_field.vocab.stoi[trg_field.pad_token]:\n",
    "                        break\n",
    "                    tmp.append(trg_field.vocab.itos[i])\n",
    "                _trgs.append([tmp])\n",
    "            trgs += _trgs\n",
    "            pred_trg, _ = translate_sentence_vectorized(src, src_field, trg_field, model, device)\n",
    "            pred_trgs += pred_trg\n",
    "    return pred_trgs, trgs, bleu_score(pred_trgs, trgs)"
   ]
  }
 ],
 "metadata": {
  "kernelspec": {
   "display_name": "Python 3",
   "language": "python",
   "name": "python3"
  },
  "language_info": {
   "codemirror_mode": {
    "name": "ipython",
    "version": 3
   },
   "file_extension": ".py",
   "mimetype": "text/x-python",
   "name": "python",
   "nbconvert_exporter": "python",
   "pygments_lexer": "ipython3",
   "version": "3.7.12"
  },
  "papermill": {
   "default_parameters": {},
   "duration": 360.713174,
   "end_time": "2022-04-08T10:48:29.494937",
   "environment_variables": {},
   "exception": null,
   "input_path": "__notebook__.ipynb",
   "output_path": "__notebook__.ipynb",
   "parameters": {},
   "start_time": "2022-04-08T10:42:28.781763",
   "version": "2.3.3"
  }
 },
 "nbformat": 4,
 "nbformat_minor": 5
}
