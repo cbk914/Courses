{
 "cells": [
  {
   "cell_type": "code",
   "execution_count": 1,
   "id": "fb79c449",
   "metadata": {
    "execution": {
     "iopub.execute_input": "2022-04-15T08:40:58.866154Z",
     "iopub.status.busy": "2022-04-15T08:40:58.865335Z",
     "iopub.status.idle": "2022-04-15T08:40:58.868983Z",
     "shell.execute_reply": "2022-04-15T08:40:58.869565Z",
     "shell.execute_reply.started": "2022-04-15T07:45:08.615951Z"
    },
    "papermill": {
     "duration": 0.098124,
     "end_time": "2022-04-15T08:40:58.869801",
     "exception": false,
     "start_time": "2022-04-15T08:40:58.771677",
     "status": "completed"
    },
    "tags": []
   },
   "outputs": [],
   "source": [
    "# This Python 3 environment comes with many helpful analytics libraries installed\n",
    "# It is defined by the kaggle/python Docker image: https://github.com/kaggle/docker-python\n",
    "# For example, here's several helpful packages to load\n",
    "\n",
    "import numpy as np # linear algebra\n",
    "import pandas as pd # data processing, CSV file I/O (e.g. pd.read_csv)\n",
    "\n",
    "# Input data files are available in the read-only \"../input/\" directory\n",
    "# For example, running this (by clicking run or pressing Shift+Enter) will list all files under the input directory\n",
    "\n",
    "import os\n",
    "for dirname, _, filenames in os.walk('/kaggle/input'):\n",
    "    for filename in filenames:\n",
    "        print(os.path.join(dirname, filename))\n",
    "\n",
    "# You can write up to 20GB to the current directory (/kaggle/working/) that gets preserved as output when you create a version using \"Save & Run All\" \n",
    "# You can also write temporary files to /kaggle/temp/, but they won't be saved outside of the current session"
   ]
  },
  {
   "cell_type": "raw",
   "id": "5099d395",
   "metadata": {
    "execution": {
     "iopub.execute_input": "2022-04-07T10:55:25.68431Z",
     "iopub.status.busy": "2022-04-07T10:55:25.683762Z",
     "iopub.status.idle": "2022-04-07T10:55:25.702314Z",
     "shell.execute_reply": "2022-04-07T10:55:25.701663Z",
     "shell.execute_reply.started": "2022-04-07T10:55:25.684205Z"
    },
    "papermill": {
     "duration": 0.078119,
     "end_time": "2022-04-15T08:40:59.027914",
     "exception": false,
     "start_time": "2022-04-15T08:40:58.949795",
     "status": "completed"
    },
    "tags": []
   },
   "source": [
    "За основу взят код урока \"6 - Attention is All You Need\" из серии https://github.com/bentrevett/pytorch-seq2seq"
   ]
  },
  {
   "cell_type": "raw",
   "id": "b5e794e2",
   "metadata": {
    "papermill": {
     "duration": 0.078288,
     "end_time": "2022-04-15T08:40:59.187152",
     "exception": false,
     "start_time": "2022-04-15T08:40:59.108864",
     "status": "completed"
    },
    "tags": []
   },
   "source": [
    "Домашнее задание №2.\n",
    "\n",
    "Итоговые задания для меня:\n",
    "    + дополнить сопроводительные текстовки всем необходимым из предыдущих уроков серии лекций исходника \n",
    "      github.com/bentrevett/pytorch-seq2seq (там код seq2seq описывался и усложнялся поэтапно, от урока к\n",
    "      уроку, описания, которые уже были даны в раних уроках, не дублировались в последующих), кроме того,\n",
    "      добиться отображения изображений, которые были приведены в исходниках статей\n",
    "    + выводить больше примеров после обучения, например train/val/test -> 5/5/10 (сделать до Save Version)\n",
    "    + Save Version текущего baseline со всеми его выводами для исходного датасета Multi30k DE->EN\n",
    "    + найти и подготовить датасет для задачи RU<->EN\n",
    "        + найти подходящий на первый взгляд датасет\n",
    "        + предварительно нормализовать/почистить его\n",
    "            + токенизировать, проанализировать выбросы по длине токенов (обоих язаыков), убрать\n",
    "              явные выбросы (например более 20-30 токенов)\n",
    "            + проаинализировать разныцы в количествах токенов параллельных предложений, убрать явные выбросы\n",
    "              например если разница более чем в 2 раза (порог определить визуально на основе примеров)\n",
    "            + проанализировать на предмет минимального количества токенов, визуально посмотреть примеры, \n",
    "              принять решение об их использовании\n",
    "            + выяснилось, что достаточно много коротких предложений (слов) обернутых в скобки, \n",
    "              проанализировать (лучше на ранней стадии) - принято решение удалить такие строки, т.к. с ними \n",
    "              не все просто, и они как бы вырваны из контекста\n",
    "            + удалить дубликаты (лучше на ранней стадии, после удаления скобок)\n",
    "            + проверить RU предложения на наличие английских символов\n",
    "            + сохранить исходный очищенный датасет с разбивкой на train/val/test в .csv для дальнейшей работы\n",
    "    + детально разобраться и понять код семинара, где нужно, добавить соответсвующие комментарии, в т.ч.:\n",
    "        + понять смысл сlip gradient\n",
    "        + понять смысл метрики BLEU\n",
    "    + запустить baseline на новом датасете RU<->EN (скорей всего в обе стороны), проинализировать результаты\n",
    "    + добавить в итоговый вывод несколько своих собственных примеров (переводов фраз, предложений и т.д.)\n",
    "    + добавить в вывод метрик при обучении норму градиента (до и после clip) = добавил до, после нет смысла\n",
    "      т.к. = clip, если изначально его превышает\n",
    "      превышает его\n",
    "    + для ускорения подсчета bleu, попробовать:\n",
    "         + (проверил, это не дает ускорения) увеличить для него батч (например в 3 раза в сравнении с основным, \n",
    "           или более)\n",
    "         + убрать добавленный доп расчет score через nltk (т.к. по факту я получаю аналогичные значения score)\n",
    "         + если не удастся добиться существенного ускорения, то оставить 5% на\n",
    "    - поэкспериментировать с параметрами, постараться улучшить результаты baseline и в целом, постараться \n",
    "      добиться адекватных результатов, которые хоть как то можно применять на практике:\n",
    "         + множество неверных токенизаций в словах с апострофом (на английском), например 'ca', \"n't\" и т.п\n",
    "           разобраться = как оказалось, так работает spacy токенайзер, т.е. он разбивает подобные сокращения\n",
    "           на 2 токена = проверил на практике изменив токенизацию, оказалось, что модель дает более лучшие \n",
    "           результаты с токенизацией по умолчанию (т.е. с 'ca', \"n't\" и т.п)\n",
    "         + возможно разобраться с преложениями в который используются единичные токены (т.е. встречающиеся \n",
    "           в корпусе единожды), они во превых не попадают в словарь и при их большом количестве, получаем \n",
    "           много <unk>, так же это могут быть слова с опечатками = проанализировал, в целом,  ошибочных\n",
    "           слов не так уж и много, в большинстве случаев это нормальные слова (особенно касается RU \n",
    "           с множеством словоформ), просто встретившиеся единоджы в используемом датасете (с учетом размера\n",
    "           датасета, это вполне нормально); итого, с учетом того, что сейчас я не наблюдаю выраженной \n",
    "           тенденции на предсказывание многих <unk> токенов, решено не убирать из датасета предложения с\n",
    "           такими словами, т.к. их количество ~100 тыс, и на соседних с ними словах, модель вполне учится \n",
    "           чему то полезному (на существенно бОльшем датасете это имело бы смысл);\n",
    "         + процесс построения словаря, может быть, нужно поварьировать параметры min_freq, max_freq = \n",
    "           решено этого не делать, т.к. выставлены значения 2, и результаты модели при них достаточно \n",
    "           вменяемые, снизив показатели, получим опечатки и совсем уникальные токены, повысив, скорей всего\n",
    "           ухудшим показатели, т.к. это бы имело смысл на гораздо больших датасетах (p.s. на практике не \n",
    "           проверял)\n",
    "         o при токенизации попробовать включить в токенизацию пробелы отдельным токеном (как у меня это было \n",
    "           в одной из предыдущих задач, найти в какой) = решил пока этого не делать, т.к. получены вменяемые\n",
    "           результаты\n",
    "         + возможно при обработке датасета ограничить макс длину токенов с 30 до 20 (но предварительно оценить \n",
    "           целесообразность, сколько потеряем и т.п.) = решено что в этом нет необходимости\n",
    "         + очень может быть, что упорядоченность батчей по длине предложений (всегда в начале эпохи длина \n",
    "           наименьшая, а в конце наибольшая), сказывается на итоговых весах, так наблюдается, что модель даже \n",
    "           на для коротких предложений на исходном языке, выдет длинные (часто с повторениями) итоговые = \n",
    "           действительно, предположение оказалось верным, убрал упорядочивание, модель стала работать \n",
    "           существенно лучше, склонность к длинным предложениям ушла (взять на заметку)\n",
    "    o (пока решил не делать) возможно запустить baseline'ы c предыдущих уроков 4 - RNN, 5 - CNN на датасете\n",
    "      RU<->EN, сравнить результаты с полученными бейзлайнами на исходном датасете DE->EN (в плане того, какая \n",
    "      модель лучше)\n",
    "\n",
    "Примечания:\n",
    "- за основу взят код урока \"6 - Attention is All You Need\" из серии https://github.com/bentrevett/pytorch-seq2seq\n",
    "- в качестве идеи (не для текущего урока, а в общем), неплохо было бы каким то образом сформировать эмбеддинг \n",
    "  представление общее, не зависящее от языков (например как то получая их сразу из многих языков), т.е. своего\n",
    "  рода ядро, суть понятий, объектов и т.д., качественно иной уровень, по аналогии с мыслями образами, без слов"
   ]
  },
  {
   "cell_type": "markdown",
   "id": "493251ca",
   "metadata": {
    "papermill": {
     "duration": 0.078814,
     "end_time": "2022-04-15T08:40:59.344469",
     "exception": false,
     "start_time": "2022-04-15T08:40:59.265655",
     "status": "completed"
    },
    "tags": []
   },
   "source": [
    "# 6 - Attention is All You Need\n",
    "\n",
    "In this notebook we will be implementing a (slightly modified version) of the Transformer model from the [Attention is All You Need](https://arxiv.org/abs/1706.03762) paper. All images in this notebook will be taken from the Transformer paper. For more information about the Transformer, [see](https://www.mihaileric.com/posts/transformers-attention-in-disguise/) [these](https://jalammar.github.io/illustrated-transformer/) [three](http://nlp.seas.harvard.edu/2018/04/03/attention.html) articles.\n",
    "\n",
    "![](https://github.com/bentrevett/pytorch-seq2seq/raw/49df8404d938a6edbf729876405558cc2c2b3013//assets/transformer1.png)\n",
    "\n",
    "## Introduction\n",
    "\n",
    "Similar to the Convolutional Sequence-to-Sequence model, the Transformer does not use any recurrence. It also does not use any convolutional layers. Instead the model is entirely made up of linear layers, attention mechanisms and normalization. \n",
    "\n",
    "As of January 2020, Transformers are the dominant architecture in NLP and are used to achieve state-of-the-art results for many tasks and it appears as if they will be for the near future. \n",
    "\n",
    "The most popular Transformer variant is [BERT](https://arxiv.org/abs/1810.04805) (**B**idirectional **E**ncoder **R**epresentations from **T**ransformers) and pre-trained versions of BERT are commonly used to replace the embedding layers - if not more - in NLP models. \n",
    "\n",
    "A common library used when dealing with pre-trained transformers is the [Transformers](https://huggingface.co/transformers/) library, see [here](https://huggingface.co/transformers/pretrained_models.html) for a list of all pre-trained models available.\n",
    "\n",
    "The differences between the implementation in this notebook and the paper are:\n",
    "- we use a learned positional encoding instead of a static one\n",
    "- we use the standard Adam optimizer with a static learning rate instead of one with warm-up and cool-down steps\n",
    "- we do not use label smoothing\n",
    "\n",
    "We make all of these changes as they closely follow BERT's set-up and the majority of Transformer variants use a similar set-up."
   ]
  },
  {
   "cell_type": "markdown",
   "id": "73d7e0e4",
   "metadata": {
    "papermill": {
     "duration": 0.077141,
     "end_time": "2022-04-15T08:40:59.499021",
     "exception": false,
     "start_time": "2022-04-15T08:40:59.421880",
     "status": "completed"
    },
    "tags": []
   },
   "source": [
    "## Preparing the Data\n",
    "\n",
    "As always, let's import all the required modules and set the random seeds for reproducability."
   ]
  },
  {
   "cell_type": "code",
   "execution_count": 2,
   "id": "35dda9c9",
   "metadata": {
    "execution": {
     "iopub.execute_input": "2022-04-15T08:40:59.657814Z",
     "iopub.status.busy": "2022-04-15T08:40:59.657157Z",
     "iopub.status.idle": "2022-04-15T08:41:08.863546Z",
     "shell.execute_reply": "2022-04-15T08:41:08.863057Z",
     "shell.execute_reply.started": "2022-04-15T07:45:08.684449Z"
    },
    "papermill": {
     "duration": 9.28816,
     "end_time": "2022-04-15T08:41:08.863677",
     "exception": false,
     "start_time": "2022-04-15T08:40:59.575517",
     "status": "completed"
    },
    "tags": []
   },
   "outputs": [],
   "source": [
    "import torch\n",
    "import torch.nn as nn\n",
    "import torch.optim as optim\n",
    "\n",
    "import torchtext\n",
    "#from torchtext.legacy.datasets import Multi30k\n",
    "from torchtext.legacy.data import Field, TabularDataset, BucketIterator, Iterator\n",
    "\n",
    "import matplotlib.pyplot as plt\n",
    "import matplotlib.ticker as ticker\n",
    "\n",
    "import spacy\n",
    "import numpy as np\n",
    "\n",
    "import random\n",
    "import math\n",
    "import time"
   ]
  },
  {
   "cell_type": "code",
   "execution_count": 3,
   "id": "9a7605fe",
   "metadata": {
    "execution": {
     "iopub.execute_input": "2022-04-15T08:41:09.024460Z",
     "iopub.status.busy": "2022-04-15T08:41:09.023742Z",
     "iopub.status.idle": "2022-04-15T08:41:09.028506Z",
     "shell.execute_reply": "2022-04-15T08:41:09.028097Z",
     "shell.execute_reply.started": "2022-04-15T07:45:19.035111Z"
    },
    "papermill": {
     "duration": 0.086772,
     "end_time": "2022-04-15T08:41:09.028620",
     "exception": false,
     "start_time": "2022-04-15T08:41:08.941848",
     "status": "completed"
    },
    "tags": []
   },
   "outputs": [],
   "source": [
    "SEED = 1234\n",
    "\n",
    "random.seed(SEED)\n",
    "np.random.seed(SEED)\n",
    "torch.manual_seed(SEED)\n",
    "torch.cuda.manual_seed(SEED)\n",
    "torch.backends.cudnn.deterministic = True"
   ]
  },
  {
   "cell_type": "markdown",
   "id": "a90f8fef",
   "metadata": {
    "papermill": {
     "duration": 0.077706,
     "end_time": "2022-04-15T08:41:09.183225",
     "exception": false,
     "start_time": "2022-04-15T08:41:09.105519",
     "status": "completed"
    },
    "tags": []
   },
   "source": [
    "We'll then create our tokenizers as before."
   ]
  },
  {
   "cell_type": "code",
   "execution_count": 4,
   "id": "5ac6c66d",
   "metadata": {
    "execution": {
     "iopub.execute_input": "2022-04-15T08:41:09.345444Z",
     "iopub.status.busy": "2022-04-15T08:41:09.344628Z",
     "iopub.status.idle": "2022-04-15T08:41:09.347004Z",
     "shell.execute_reply": "2022-04-15T08:41:09.346570Z",
     "shell.execute_reply.started": "2022-04-15T07:45:19.047164Z"
    },
    "papermill": {
     "duration": 0.086679,
     "end_time": "2022-04-15T08:41:09.347123",
     "exception": false,
     "start_time": "2022-04-15T08:41:09.260444",
     "status": "completed"
    },
    "tags": []
   },
   "outputs": [],
   "source": [
    "### Датасет RU<->EN создаем на основе корпуса QED v2.0a с ресурса https://opus.nlpl.eu/"
   ]
  },
  {
   "cell_type": "code",
   "execution_count": 5,
   "id": "487f0e3b",
   "metadata": {
    "execution": {
     "iopub.execute_input": "2022-04-15T08:41:09.513313Z",
     "iopub.status.busy": "2022-04-15T08:41:09.512458Z",
     "iopub.status.idle": "2022-04-15T08:41:21.186522Z",
     "shell.execute_reply": "2022-04-15T08:41:21.186974Z",
     "shell.execute_reply.started": "2022-04-15T07:45:19.053725Z"
    },
    "papermill": {
     "duration": 11.754714,
     "end_time": "2022-04-15T08:41:21.187151",
     "exception": false,
     "start_time": "2022-04-15T08:41:09.432437",
     "status": "completed"
    },
    "tags": []
   },
   "outputs": [
    {
     "name": "stdout",
     "output_type": "stream",
     "text": [
      "Collecting wget\r\n",
      "  Downloading wget-3.2.zip (10 kB)\r\n",
      "  Preparing metadata (setup.py) ... \u001b[?25l-\b \bdone\r\n",
      "\u001b[?25hBuilding wheels for collected packages: wget\r\n",
      "  Building wheel for wget (setup.py) ... \u001b[?25l-\b \bdone\r\n",
      "\u001b[?25h  Created wheel for wget: filename=wget-3.2-py3-none-any.whl size=9672 sha256=8f1bc523bf461b3b0297911c6d98864a7a3d762944166dd966824b8c055ab201\r\n",
      "  Stored in directory: /root/.cache/pip/wheels/a1/b6/7c/0e63e34eb06634181c63adacca38b79ff8f35c37e3c13e3c02\r\n",
      "Successfully built wget\r\n",
      "Installing collected packages: wget\r\n",
      "Successfully installed wget-3.2\r\n",
      "\u001b[33mWARNING: Running pip as the 'root' user can result in broken permissions and conflicting behaviour with the system package manager. It is recommended to use a virtual environment instead: https://pip.pypa.io/warnings/venv\u001b[0m\r\n"
     ]
    }
   ],
   "source": [
    "!pip3 install wget"
   ]
  },
  {
   "cell_type": "code",
   "execution_count": 6,
   "id": "5e8ab64f",
   "metadata": {
    "execution": {
     "iopub.execute_input": "2022-04-15T08:41:21.366315Z",
     "iopub.status.busy": "2022-04-15T08:41:21.365436Z",
     "iopub.status.idle": "2022-04-15T08:41:34.105687Z",
     "shell.execute_reply": "2022-04-15T08:41:34.104913Z",
     "shell.execute_reply.started": "2022-04-15T07:45:31.750548Z"
    },
    "papermill": {
     "duration": 12.837038,
     "end_time": "2022-04-15T08:41:34.105814",
     "exception": false,
     "start_time": "2022-04-15T08:41:21.268776",
     "status": "completed"
    },
    "tags": []
   },
   "outputs": [
    {
     "name": "stdout",
     "output_type": "stream",
     "text": [
      "Archive:  corpus.zip\r\n",
      "  inflating: ./stepik-dl-nlp/datasets/OPUS-QED_RU-EN/README  \r\n",
      "  inflating: ./stepik-dl-nlp/datasets/OPUS-QED_RU-EN/LICENSE  \r\n",
      "  inflating: ./stepik-dl-nlp/datasets/OPUS-QED_RU-EN/QED.en-ru.en  \r\n",
      "  inflating: ./stepik-dl-nlp/datasets/OPUS-QED_RU-EN/QED.en-ru.ru  \r\n",
      "  inflating: ./stepik-dl-nlp/datasets/OPUS-QED_RU-EN/QED.en-ru.xml  \r\n",
      "__notebook__.ipynb  stepik-dl-nlp\r\n"
     ]
    }
   ],
   "source": [
    "import zipfile\n",
    "import gensim\n",
    "import wget\n",
    "\n",
    "!mkdir ./stepik-dl-nlp/\n",
    "!mkdir ./stepik-dl-nlp/datasets/\n",
    "!mkdir ./stepik-dl-nlp/datasets/OPUS-QED_RU-EN\n",
    "\n",
    "corpus_url = 'https://object.pouta.csc.fi/OPUS-QED/v2.0a/moses/en-ru.txt.zip'\n",
    "wget.download(corpus_url, \"corpus.zip\")\n",
    "!unzip corpus.zip -d ./stepik-dl-nlp/datasets/OPUS-QED_RU-EN\n",
    "!rm corpus.zip ./stepik-dl-nlp/datasets/OPUS-QED_RU-EN/QED.en-ru.xml\n",
    "!ls"
   ]
  },
  {
   "cell_type": "code",
   "execution_count": 7,
   "id": "0b8d44c0",
   "metadata": {
    "execution": {
     "iopub.execute_input": "2022-04-15T08:41:34.279171Z",
     "iopub.status.busy": "2022-04-15T08:41:34.276736Z",
     "iopub.status.idle": "2022-04-15T08:41:34.869034Z",
     "shell.execute_reply": "2022-04-15T08:41:34.868422Z",
     "shell.execute_reply.started": "2022-04-15T07:45:42.248342Z"
    },
    "papermill": {
     "duration": 0.681361,
     "end_time": "2022-04-15T08:41:34.869178",
     "exception": false,
     "start_time": "2022-04-15T08:41:34.187817",
     "status": "completed"
    },
    "tags": []
   },
   "outputs": [],
   "source": [
    "import pandas as pd\n",
    "import numpy as np\n",
    "\n",
    "with open(\"./stepik-dl-nlp/datasets/OPUS-QED_RU-EN/QED.en-ru.ru\") as file:\n",
    "    lines_ru = [line.rstrip() for line in file]\n",
    "    \n",
    "with open(\"./stepik-dl-nlp/datasets/OPUS-QED_RU-EN/QED.en-ru.en\") as file:\n",
    "    lines_en = [line.rstrip() for line in file]\n",
    "\n",
    "assert len(lines_ru) == len(lines_en)"
   ]
  },
  {
   "cell_type": "code",
   "execution_count": 8,
   "id": "edab3250",
   "metadata": {
    "execution": {
     "iopub.execute_input": "2022-04-15T08:41:35.127734Z",
     "iopub.status.busy": "2022-04-15T08:41:35.037843Z",
     "iopub.status.idle": "2022-04-15T08:41:37.070732Z",
     "shell.execute_reply": "2022-04-15T08:41:37.069788Z",
     "shell.execute_reply.started": "2022-04-15T07:45:42.969200Z"
    },
    "papermill": {
     "duration": 2.119863,
     "end_time": "2022-04-15T08:41:37.070884",
     "exception": false,
     "start_time": "2022-04-15T08:41:34.951021",
     "status": "completed"
    },
    "tags": []
   },
   "outputs": [],
   "source": [
    "# выяснилось, что достаточно много коротких предложений (слов) обернутых в скобки, \n",
    "# проанализировать (лучше на ранней стадии) - принято решение удалить такие строки, т.к. с ними \n",
    "# не все просто, и они как бы вырваны из контекста (урезал до того, что убираю все примеры, если \n",
    "# началом фразы на одном из языков выступает \"(\")\n",
    "# заодно удаляем дубликаты через set\n",
    "lines_en, lines_ru = zip(*set([(line_en, line_ru) for line_en, line_ru in zip(lines_en, lines_ru) \\\n",
    "                               if line_en[0] != '(' and line_ru[0] != '(']))"
   ]
  },
  {
   "cell_type": "code",
   "execution_count": 9,
   "id": "13aafcdf",
   "metadata": {
    "execution": {
     "iopub.execute_input": "2022-04-15T08:41:37.336171Z",
     "iopub.status.busy": "2022-04-15T08:41:37.331206Z",
     "iopub.status.idle": "2022-04-15T08:41:43.561872Z",
     "shell.execute_reply": "2022-04-15T08:41:43.560865Z",
     "shell.execute_reply.started": "2022-04-15T07:45:45.070143Z"
    },
    "papermill": {
     "duration": 6.406617,
     "end_time": "2022-04-15T08:41:43.562056",
     "exception": false,
     "start_time": "2022-04-15T08:41:37.155439",
     "status": "completed"
    },
    "tags": []
   },
   "outputs": [],
   "source": [
    "#проверить RU предложения на наличие английских символов и наоборот\n",
    "import re\n",
    "lines_en, lines_ru = zip(*set([(line_en, line_ru) for line_en, line_ru in zip(lines_en, lines_ru) \\\n",
    "                               if not re.search(r'\\b[a-zA-Z]+\\b', line_ru)]))\n",
    "lines_en, lines_ru = zip(*set([(line_en, line_ru) for line_en, line_ru in zip(lines_en, lines_ru) \\\n",
    "                               if not re.search(r'\\b[а-яА-ЯёЁ]+\\b', line_en)]))"
   ]
  },
  {
   "cell_type": "code",
   "execution_count": 10,
   "id": "b83d6732",
   "metadata": {
    "execution": {
     "iopub.execute_input": "2022-04-15T08:41:43.805162Z",
     "iopub.status.busy": "2022-04-15T08:41:43.799836Z",
     "iopub.status.idle": "2022-04-15T08:41:46.848879Z",
     "shell.execute_reply": "2022-04-15T08:41:46.849378Z",
     "shell.execute_reply.started": "2022-04-15T07:45:52.323887Z"
    },
    "papermill": {
     "duration": 3.203125,
     "end_time": "2022-04-15T08:41:46.849549",
     "exception": false,
     "start_time": "2022-04-15T08:41:43.646424",
     "status": "completed"
    },
    "tags": []
   },
   "outputs": [],
   "source": [
    "#удаляем строки со всякими странными/пограничными символами (жестко задаем набор символов, которые ожидаем)\n",
    "lines_en, lines_ru = zip(*set([(line_en, line_ru) for line_en, line_ru in zip(lines_en, lines_ru) \\\n",
    "                               if not re.search(r'[^a-zA-Zа-яА-ЯёЁ\\s\\d\\.\\?!\\:\\-—,\"`\\']', line_en + line_ru)]))"
   ]
  },
  {
   "cell_type": "code",
   "execution_count": 11,
   "id": "8a0f6659",
   "metadata": {
    "execution": {
     "iopub.execute_input": "2022-04-15T08:41:47.031392Z",
     "iopub.status.busy": "2022-04-15T08:41:47.030679Z",
     "iopub.status.idle": "2022-04-15T08:41:47.320725Z",
     "shell.execute_reply": "2022-04-15T08:41:47.321723Z",
     "shell.execute_reply.started": "2022-04-15T07:45:56.125542Z"
    },
    "papermill": {
     "duration": 0.391171,
     "end_time": "2022-04-15T08:41:47.321942",
     "exception": false,
     "start_time": "2022-04-15T08:41:46.930771",
     "status": "completed"
    },
    "tags": []
   },
   "outputs": [
    {
     "data": {
      "text/html": [
       "<div>\n",
       "<style scoped>\n",
       "    .dataframe tbody tr th:only-of-type {\n",
       "        vertical-align: middle;\n",
       "    }\n",
       "\n",
       "    .dataframe tbody tr th {\n",
       "        vertical-align: top;\n",
       "    }\n",
       "\n",
       "    .dataframe thead th {\n",
       "        text-align: right;\n",
       "    }\n",
       "</style>\n",
       "<table border=\"1\" class=\"dataframe\">\n",
       "  <thead>\n",
       "    <tr style=\"text-align: right;\">\n",
       "      <th></th>\n",
       "      <th>EN</th>\n",
       "      <th>RU</th>\n",
       "    </tr>\n",
       "  </thead>\n",
       "  <tbody>\n",
       "    <tr>\n",
       "      <th>0</th>\n",
       "      <td>We know that you will buy more if you're depre...</td>\n",
       "      <td>Вы больше покупаете, когда у вас депрессия.</td>\n",
       "    </tr>\n",
       "    <tr>\n",
       "      <th>1</th>\n",
       "      <td>There is many different aspects to free-diving.</td>\n",
       "      <td>У фридайвинга есть много разных вариантов.</td>\n",
       "    </tr>\n",
       "    <tr>\n",
       "      <th>2</th>\n",
       "      <td>Very good is average.</td>\n",
       "      <td>Очень хорошее средне.</td>\n",
       "    </tr>\n",
       "    <tr>\n",
       "      <th>3</th>\n",
       "      <td>Let's at least eat a hamburger somewhere.</td>\n",
       "      <td>Давай хотя бы гамбургер где-нибудь съедим.</td>\n",
       "    </tr>\n",
       "    <tr>\n",
       "      <th>4</th>\n",
       "      <td>One of the things we realized was how importan...</td>\n",
       "      <td>К примеру, мы вдруг осознали, насколько важным...</td>\n",
       "    </tr>\n",
       "    <tr>\n",
       "      <th>...</th>\n",
       "      <td>...</td>\n",
       "      <td>...</td>\n",
       "    </tr>\n",
       "    <tr>\n",
       "      <th>444809</th>\n",
       "      <td>And how are we going to assign what the respon...</td>\n",
       "      <td>И как мы можем определить ответственность и пр...</td>\n",
       "    </tr>\n",
       "    <tr>\n",
       "      <th>444810</th>\n",
       "      <td>In India, sometimes, when it's intense, intens...</td>\n",
       "      <td>В Индии говорят, \"интенсивное\", \"интенсивно ли...</td>\n",
       "    </tr>\n",
       "    <tr>\n",
       "      <th>444811</th>\n",
       "      <td>If we know that we're going to get extra bang ...</td>\n",
       "      <td>Если бы мы знали, что получим дополнительные с...</td>\n",
       "    </tr>\n",
       "    <tr>\n",
       "      <th>444812</th>\n",
       "      <td>Ultimately the true legacy that we can leave b...</td>\n",
       "      <td>В конце концов, настоящее наше наследие, то, ч...</td>\n",
       "    </tr>\n",
       "    <tr>\n",
       "      <th>444813</th>\n",
       "      <td>Tens?</td>\n",
       "      <td>Десятками?</td>\n",
       "    </tr>\n",
       "  </tbody>\n",
       "</table>\n",
       "<p>444814 rows × 2 columns</p>\n",
       "</div>"
      ],
      "text/plain": [
       "                                                       EN  \\\n",
       "0       We know that you will buy more if you're depre...   \n",
       "1         There is many different aspects to free-diving.   \n",
       "2                                   Very good is average.   \n",
       "3               Let's at least eat a hamburger somewhere.   \n",
       "4       One of the things we realized was how importan...   \n",
       "...                                                   ...   \n",
       "444809  And how are we going to assign what the respon...   \n",
       "444810  In India, sometimes, when it's intense, intens...   \n",
       "444811  If we know that we're going to get extra bang ...   \n",
       "444812  Ultimately the true legacy that we can leave b...   \n",
       "444813                                              Tens?   \n",
       "\n",
       "                                                       RU  \n",
       "0             Вы больше покупаете, когда у вас депрессия.  \n",
       "1              У фридайвинга есть много разных вариантов.  \n",
       "2                                   Очень хорошее средне.  \n",
       "3              Давай хотя бы гамбургер где-нибудь съедим.  \n",
       "4       К примеру, мы вдруг осознали, насколько важным...  \n",
       "...                                                   ...  \n",
       "444809  И как мы можем определить ответственность и пр...  \n",
       "444810  В Индии говорят, \"интенсивное\", \"интенсивно ли...  \n",
       "444811  Если бы мы знали, что получим дополнительные с...  \n",
       "444812  В конце концов, настоящее наше наследие, то, ч...  \n",
       "444813                                         Десятками?  \n",
       "\n",
       "[444814 rows x 2 columns]"
      ]
     },
     "execution_count": 11,
     "metadata": {},
     "output_type": "execute_result"
    }
   ],
   "source": [
    "#pd.options.display.max_colwidth = 120\n",
    "df_corpus = pd.DataFrame(data={'EN': lines_en, 'RU': lines_ru})\n",
    "df_corpus"
   ]
  },
  {
   "cell_type": "code",
   "execution_count": 12,
   "id": "9f33e226",
   "metadata": {
    "execution": {
     "iopub.execute_input": "2022-04-15T08:41:47.596676Z",
     "iopub.status.busy": "2022-04-15T08:41:47.595765Z",
     "iopub.status.idle": "2022-04-15T08:42:51.175933Z",
     "shell.execute_reply": "2022-04-15T08:42:51.176784Z",
     "shell.execute_reply.started": "2022-04-15T07:45:56.501919Z"
    },
    "papermill": {
     "duration": 63.720063,
     "end_time": "2022-04-15T08:42:51.177013",
     "exception": false,
     "start_time": "2022-04-15T08:41:47.456950",
     "status": "completed"
    },
    "tags": []
   },
   "outputs": [
    {
     "name": "stdout",
     "output_type": "stream",
     "text": [
      "Collecting en-core-web-sm==3.2.0\r\n",
      "  Downloading https://github.com/explosion/spacy-models/releases/download/en_core_web_sm-3.2.0/en_core_web_sm-3.2.0-py3-none-any.whl (13.9 MB)\r\n",
      "     |████████████████████████████████| 13.9 MB 522 kB/s            \r\n",
      "\u001b[?25hRequirement already satisfied: spacy<3.3.0,>=3.2.0 in /opt/conda/lib/python3.7/site-packages (from en-core-web-sm==3.2.0) (3.2.3)\r\n",
      "Collecting typing-extensions<4.0.0.0,>=3.7.4\r\n",
      "  Downloading typing_extensions-3.10.0.2-py3-none-any.whl (26 kB)\r\n",
      "Requirement already satisfied: spacy-loggers<2.0.0,>=1.0.0 in /opt/conda/lib/python3.7/site-packages (from spacy<3.3.0,>=3.2.0->en-core-web-sm==3.2.0) (1.0.1)\r\n",
      "Requirement already satisfied: numpy>=1.15.0 in /opt/conda/lib/python3.7/site-packages (from spacy<3.3.0,>=3.2.0->en-core-web-sm==3.2.0) (1.20.3)\r\n",
      "Requirement already satisfied: murmurhash<1.1.0,>=0.28.0 in /opt/conda/lib/python3.7/site-packages (from spacy<3.3.0,>=3.2.0->en-core-web-sm==3.2.0) (1.0.6)\r\n",
      "Requirement already satisfied: catalogue<2.1.0,>=2.0.6 in /opt/conda/lib/python3.7/site-packages (from spacy<3.3.0,>=3.2.0->en-core-web-sm==3.2.0) (2.0.6)\r\n",
      "Requirement already satisfied: thinc<8.1.0,>=8.0.12 in /opt/conda/lib/python3.7/site-packages (from spacy<3.3.0,>=3.2.0->en-core-web-sm==3.2.0) (8.0.15)\r\n",
      "Requirement already satisfied: pathy>=0.3.5 in /opt/conda/lib/python3.7/site-packages (from spacy<3.3.0,>=3.2.0->en-core-web-sm==3.2.0) (0.6.1)\r\n",
      "Requirement already satisfied: tqdm<5.0.0,>=4.38.0 in /opt/conda/lib/python3.7/site-packages (from spacy<3.3.0,>=3.2.0->en-core-web-sm==3.2.0) (4.62.3)\r\n",
      "Requirement already satisfied: packaging>=20.0 in /opt/conda/lib/python3.7/site-packages (from spacy<3.3.0,>=3.2.0->en-core-web-sm==3.2.0) (21.3)\r\n",
      "Requirement already satisfied: cymem<2.1.0,>=2.0.2 in /opt/conda/lib/python3.7/site-packages (from spacy<3.3.0,>=3.2.0->en-core-web-sm==3.2.0) (2.0.6)\r\n",
      "Requirement already satisfied: preshed<3.1.0,>=3.0.2 in /opt/conda/lib/python3.7/site-packages (from spacy<3.3.0,>=3.2.0->en-core-web-sm==3.2.0) (3.0.6)\r\n",
      "Requirement already satisfied: setuptools in /opt/conda/lib/python3.7/site-packages (from spacy<3.3.0,>=3.2.0->en-core-web-sm==3.2.0) (59.5.0)\r\n",
      "Requirement already satisfied: blis<0.8.0,>=0.4.0 in /opt/conda/lib/python3.7/site-packages (from spacy<3.3.0,>=3.2.0->en-core-web-sm==3.2.0) (0.7.6)\r\n",
      "Requirement already satisfied: typer<0.5.0,>=0.3.0 in /opt/conda/lib/python3.7/site-packages (from spacy<3.3.0,>=3.2.0->en-core-web-sm==3.2.0) (0.4.0)\r\n",
      "Requirement already satisfied: srsly<3.0.0,>=2.4.1 in /opt/conda/lib/python3.7/site-packages (from spacy<3.3.0,>=3.2.0->en-core-web-sm==3.2.0) (2.4.2)\r\n",
      "Requirement already satisfied: langcodes<4.0.0,>=3.2.0 in /opt/conda/lib/python3.7/site-packages (from spacy<3.3.0,>=3.2.0->en-core-web-sm==3.2.0) (3.3.0)\r\n",
      "Requirement already satisfied: spacy-legacy<3.1.0,>=3.0.8 in /opt/conda/lib/python3.7/site-packages (from spacy<3.3.0,>=3.2.0->en-core-web-sm==3.2.0) (3.0.9)\r\n",
      "Requirement already satisfied: wasabi<1.1.0,>=0.8.1 in /opt/conda/lib/python3.7/site-packages (from spacy<3.3.0,>=3.2.0->en-core-web-sm==3.2.0) (0.9.0)\r\n",
      "Requirement already satisfied: pydantic!=1.8,!=1.8.1,<1.9.0,>=1.7.4 in /opt/conda/lib/python3.7/site-packages (from spacy<3.3.0,>=3.2.0->en-core-web-sm==3.2.0) (1.8.2)\r\n",
      "Requirement already satisfied: requests<3.0.0,>=2.13.0 in /opt/conda/lib/python3.7/site-packages (from spacy<3.3.0,>=3.2.0->en-core-web-sm==3.2.0) (2.26.0)\r\n",
      "Requirement already satisfied: jinja2 in /opt/conda/lib/python3.7/site-packages (from spacy<3.3.0,>=3.2.0->en-core-web-sm==3.2.0) (3.0.3)\r\n",
      "Requirement already satisfied: zipp>=0.5 in /opt/conda/lib/python3.7/site-packages (from catalogue<2.1.0,>=2.0.6->spacy<3.3.0,>=3.2.0->en-core-web-sm==3.2.0) (3.6.0)\r\n",
      "Requirement already satisfied: pyparsing!=3.0.5,>=2.0.2 in /opt/conda/lib/python3.7/site-packages (from packaging>=20.0->spacy<3.3.0,>=3.2.0->en-core-web-sm==3.2.0) (3.0.6)\r\n",
      "Requirement already satisfied: smart-open<6.0.0,>=5.0.0 in /opt/conda/lib/python3.7/site-packages (from pathy>=0.3.5->spacy<3.3.0,>=3.2.0->en-core-web-sm==3.2.0) (5.2.1)\r\n",
      "Requirement already satisfied: certifi>=2017.4.17 in /opt/conda/lib/python3.7/site-packages (from requests<3.0.0,>=2.13.0->spacy<3.3.0,>=3.2.0->en-core-web-sm==3.2.0) (2021.10.8)\r\n",
      "Requirement already satisfied: idna<4,>=2.5 in /opt/conda/lib/python3.7/site-packages (from requests<3.0.0,>=2.13.0->spacy<3.3.0,>=3.2.0->en-core-web-sm==3.2.0) (3.1)\r\n",
      "Requirement already satisfied: charset-normalizer~=2.0.0 in /opt/conda/lib/python3.7/site-packages (from requests<3.0.0,>=2.13.0->spacy<3.3.0,>=3.2.0->en-core-web-sm==3.2.0) (2.0.9)\r\n",
      "Requirement already satisfied: urllib3<1.27,>=1.21.1 in /opt/conda/lib/python3.7/site-packages (from requests<3.0.0,>=2.13.0->spacy<3.3.0,>=3.2.0->en-core-web-sm==3.2.0) (1.26.7)\r\n",
      "Requirement already satisfied: click<9.0.0,>=7.1.1 in /opt/conda/lib/python3.7/site-packages (from typer<0.5.0,>=0.3.0->spacy<3.3.0,>=3.2.0->en-core-web-sm==3.2.0) (8.0.3)\r\n",
      "Requirement already satisfied: MarkupSafe>=2.0 in /opt/conda/lib/python3.7/site-packages (from jinja2->spacy<3.3.0,>=3.2.0->en-core-web-sm==3.2.0) (2.1.1)\r\n",
      "Requirement already satisfied: importlib-metadata in /opt/conda/lib/python3.7/site-packages (from click<9.0.0,>=7.1.1->typer<0.5.0,>=0.3.0->spacy<3.3.0,>=3.2.0->en-core-web-sm==3.2.0) (4.11.3)\r\n",
      "Installing collected packages: typing-extensions\r\n",
      "  Attempting uninstall: typing-extensions\r\n",
      "    Found existing installation: typing-extensions 4.1.1\r\n",
      "    Uninstalling typing-extensions-4.1.1:\r\n",
      "      Successfully uninstalled typing-extensions-4.1.1\r\n",
      "\u001b[31mERROR: pip's dependency resolver does not currently take into account all the packages that are installed. This behaviour is the source of the following dependency conflicts.\r\n",
      "tensorflow-io 0.21.0 requires tensorflow-io-gcs-filesystem==0.21.0, which is not installed.\r\n",
      "explainable-ai-sdk 1.3.2 requires xai-image-widget, which is not installed.\r\n",
      "tensorflow 2.6.2 requires numpy~=1.19.2, but you have numpy 1.20.3 which is incompatible.\r\n",
      "tensorflow 2.6.2 requires six~=1.15.0, but you have six 1.16.0 which is incompatible.\r\n",
      "tensorflow 2.6.2 requires typing-extensions~=3.7.4, but you have typing-extensions 3.10.0.2 which is incompatible.\r\n",
      "tensorflow 2.6.2 requires wrapt~=1.12.1, but you have wrapt 1.13.3 which is incompatible.\r\n",
      "tensorflow-transform 1.5.0 requires absl-py<0.13,>=0.9, but you have absl-py 0.15.0 which is incompatible.\r\n",
      "tensorflow-transform 1.5.0 requires numpy<1.20,>=1.16, but you have numpy 1.20.3 which is incompatible.\r\n",
      "tensorflow-transform 1.5.0 requires pyarrow<6,>=1, but you have pyarrow 6.0.1 which is incompatible.\r\n",
      "tensorflow-transform 1.5.0 requires tensorflow!=2.0.*,!=2.1.*,!=2.2.*,!=2.3.*,!=2.4.*,!=2.5.*,!=2.6.*,<2.8,>=1.15.2, but you have tensorflow 2.6.2 which is incompatible.\r\n",
      "tensorflow-serving-api 2.7.0 requires tensorflow<3,>=2.7.0, but you have tensorflow 2.6.2 which is incompatible.\r\n",
      "flake8 4.0.1 requires importlib-metadata<4.3; python_version < \"3.8\", but you have importlib-metadata 4.11.3 which is incompatible.\r\n",
      "apache-beam 2.34.0 requires dill<0.3.2,>=0.3.1.1, but you have dill 0.3.4 which is incompatible.\r\n",
      "apache-beam 2.34.0 requires httplib2<0.20.0,>=0.8, but you have httplib2 0.20.2 which is incompatible.\r\n",
      "apache-beam 2.34.0 requires pyarrow<6.0.0,>=0.15.1, but you have pyarrow 6.0.1 which is incompatible.\r\n",
      "aioitertools 0.10.0 requires typing_extensions>=4.0; python_version < \"3.10\", but you have typing-extensions 3.10.0.2 which is incompatible.\r\n",
      "aiobotocore 2.1.2 requires botocore<1.23.25,>=1.23.24, but you have botocore 1.24.20 which is incompatible.\u001b[0m\r\n",
      "Successfully installed typing-extensions-3.10.0.2\r\n",
      "\u001b[33mWARNING: Running pip as the 'root' user can result in broken permissions and conflicting behaviour with the system package manager. It is recommended to use a virtual environment instead: https://pip.pypa.io/warnings/venv\u001b[0m\r\n",
      "\u001b[38;5;2m✔ Download and installation successful\u001b[0m\r\n",
      "You can now load the package via spacy.load('en_core_web_sm')\r\n",
      "Collecting ru-core-news-sm==3.2.0\r\n",
      "  Downloading https://github.com/explosion/spacy-models/releases/download/ru_core_news_sm-3.2.0/ru_core_news_sm-3.2.0-py3-none-any.whl (16.4 MB)\r\n",
      "     |████████████████████████████████| 16.4 MB 520 kB/s            \r\n",
      "\u001b[?25hRequirement already satisfied: spacy<3.3.0,>=3.2.0 in /opt/conda/lib/python3.7/site-packages (from ru-core-news-sm==3.2.0) (3.2.3)\r\n",
      "Collecting pymorphy2>=0.9\r\n",
      "  Downloading pymorphy2-0.9.1-py3-none-any.whl (55 kB)\r\n",
      "     |████████████████████████████████| 55 kB 264 kB/s            \r\n",
      "\u001b[?25hCollecting pymorphy2-dicts-ru<3.0,>=2.4\r\n",
      "  Downloading pymorphy2_dicts_ru-2.4.417127.4579844-py2.py3-none-any.whl (8.2 MB)\r\n",
      "     |████████████████████████████████| 8.2 MB 18.2 MB/s            \r\n",
      "\u001b[?25hCollecting dawg-python>=0.7.1\r\n",
      "  Downloading DAWG_Python-0.7.2-py2.py3-none-any.whl (11 kB)\r\n",
      "Requirement already satisfied: docopt>=0.6 in /opt/conda/lib/python3.7/site-packages (from pymorphy2>=0.9->ru-core-news-sm==3.2.0) (0.6.2)\r\n",
      "Requirement already satisfied: pathy>=0.3.5 in /opt/conda/lib/python3.7/site-packages (from spacy<3.3.0,>=3.2.0->ru-core-news-sm==3.2.0) (0.6.1)\r\n",
      "Requirement already satisfied: wasabi<1.1.0,>=0.8.1 in /opt/conda/lib/python3.7/site-packages (from spacy<3.3.0,>=3.2.0->ru-core-news-sm==3.2.0) (0.9.0)\r\n",
      "Requirement already satisfied: jinja2 in /opt/conda/lib/python3.7/site-packages (from spacy<3.3.0,>=3.2.0->ru-core-news-sm==3.2.0) (3.0.3)\r\n",
      "Requirement already satisfied: thinc<8.1.0,>=8.0.12 in /opt/conda/lib/python3.7/site-packages (from spacy<3.3.0,>=3.2.0->ru-core-news-sm==3.2.0) (8.0.15)\r\n",
      "Requirement already satisfied: requests<3.0.0,>=2.13.0 in /opt/conda/lib/python3.7/site-packages (from spacy<3.3.0,>=3.2.0->ru-core-news-sm==3.2.0) (2.26.0)\r\n",
      "Requirement already satisfied: langcodes<4.0.0,>=3.2.0 in /opt/conda/lib/python3.7/site-packages (from spacy<3.3.0,>=3.2.0->ru-core-news-sm==3.2.0) (3.3.0)\r\n",
      "Requirement already satisfied: catalogue<2.1.0,>=2.0.6 in /opt/conda/lib/python3.7/site-packages (from spacy<3.3.0,>=3.2.0->ru-core-news-sm==3.2.0) (2.0.6)\r\n",
      "Requirement already satisfied: setuptools in /opt/conda/lib/python3.7/site-packages (from spacy<3.3.0,>=3.2.0->ru-core-news-sm==3.2.0) (59.5.0)\r\n",
      "Requirement already satisfied: spacy-legacy<3.1.0,>=3.0.8 in /opt/conda/lib/python3.7/site-packages (from spacy<3.3.0,>=3.2.0->ru-core-news-sm==3.2.0) (3.0.9)\r\n",
      "Requirement already satisfied: numpy>=1.15.0 in /opt/conda/lib/python3.7/site-packages (from spacy<3.3.0,>=3.2.0->ru-core-news-sm==3.2.0) (1.20.3)\r\n",
      "Requirement already satisfied: blis<0.8.0,>=0.4.0 in /opt/conda/lib/python3.7/site-packages (from spacy<3.3.0,>=3.2.0->ru-core-news-sm==3.2.0) (0.7.6)\r\n",
      "Requirement already satisfied: typing-extensions<4.0.0.0,>=3.7.4 in /opt/conda/lib/python3.7/site-packages (from spacy<3.3.0,>=3.2.0->ru-core-news-sm==3.2.0) (3.10.0.2)\r\n",
      "Requirement already satisfied: preshed<3.1.0,>=3.0.2 in /opt/conda/lib/python3.7/site-packages (from spacy<3.3.0,>=3.2.0->ru-core-news-sm==3.2.0) (3.0.6)\r\n",
      "Requirement already satisfied: murmurhash<1.1.0,>=0.28.0 in /opt/conda/lib/python3.7/site-packages (from spacy<3.3.0,>=3.2.0->ru-core-news-sm==3.2.0) (1.0.6)\r\n",
      "Requirement already satisfied: srsly<3.0.0,>=2.4.1 in /opt/conda/lib/python3.7/site-packages (from spacy<3.3.0,>=3.2.0->ru-core-news-sm==3.2.0) (2.4.2)\r\n",
      "Requirement already satisfied: cymem<2.1.0,>=2.0.2 in /opt/conda/lib/python3.7/site-packages (from spacy<3.3.0,>=3.2.0->ru-core-news-sm==3.2.0) (2.0.6)\r\n",
      "Requirement already satisfied: tqdm<5.0.0,>=4.38.0 in /opt/conda/lib/python3.7/site-packages (from spacy<3.3.0,>=3.2.0->ru-core-news-sm==3.2.0) (4.62.3)\r\n",
      "Requirement already satisfied: packaging>=20.0 in /opt/conda/lib/python3.7/site-packages (from spacy<3.3.0,>=3.2.0->ru-core-news-sm==3.2.0) (21.3)\r\n",
      "Requirement already satisfied: typer<0.5.0,>=0.3.0 in /opt/conda/lib/python3.7/site-packages (from spacy<3.3.0,>=3.2.0->ru-core-news-sm==3.2.0) (0.4.0)\r\n",
      "Requirement already satisfied: spacy-loggers<2.0.0,>=1.0.0 in /opt/conda/lib/python3.7/site-packages (from spacy<3.3.0,>=3.2.0->ru-core-news-sm==3.2.0) (1.0.1)\r\n",
      "Requirement already satisfied: pydantic!=1.8,!=1.8.1,<1.9.0,>=1.7.4 in /opt/conda/lib/python3.7/site-packages (from spacy<3.3.0,>=3.2.0->ru-core-news-sm==3.2.0) (1.8.2)\r\n",
      "Requirement already satisfied: zipp>=0.5 in /opt/conda/lib/python3.7/site-packages (from catalogue<2.1.0,>=2.0.6->spacy<3.3.0,>=3.2.0->ru-core-news-sm==3.2.0) (3.6.0)\r\n",
      "Requirement already satisfied: pyparsing!=3.0.5,>=2.0.2 in /opt/conda/lib/python3.7/site-packages (from packaging>=20.0->spacy<3.3.0,>=3.2.0->ru-core-news-sm==3.2.0) (3.0.6)\r\n",
      "Requirement already satisfied: smart-open<6.0.0,>=5.0.0 in /opt/conda/lib/python3.7/site-packages (from pathy>=0.3.5->spacy<3.3.0,>=3.2.0->ru-core-news-sm==3.2.0) (5.2.1)\r\n",
      "Requirement already satisfied: urllib3<1.27,>=1.21.1 in /opt/conda/lib/python3.7/site-packages (from requests<3.0.0,>=2.13.0->spacy<3.3.0,>=3.2.0->ru-core-news-sm==3.2.0) (1.26.7)\r\n",
      "Requirement already satisfied: certifi>=2017.4.17 in /opt/conda/lib/python3.7/site-packages (from requests<3.0.0,>=2.13.0->spacy<3.3.0,>=3.2.0->ru-core-news-sm==3.2.0) (2021.10.8)\r\n",
      "Requirement already satisfied: charset-normalizer~=2.0.0 in /opt/conda/lib/python3.7/site-packages (from requests<3.0.0,>=2.13.0->spacy<3.3.0,>=3.2.0->ru-core-news-sm==3.2.0) (2.0.9)\r\n",
      "Requirement already satisfied: idna<4,>=2.5 in /opt/conda/lib/python3.7/site-packages (from requests<3.0.0,>=2.13.0->spacy<3.3.0,>=3.2.0->ru-core-news-sm==3.2.0) (3.1)\r\n",
      "Requirement already satisfied: click<9.0.0,>=7.1.1 in /opt/conda/lib/python3.7/site-packages (from typer<0.5.0,>=0.3.0->spacy<3.3.0,>=3.2.0->ru-core-news-sm==3.2.0) (8.0.3)\r\n",
      "Requirement already satisfied: MarkupSafe>=2.0 in /opt/conda/lib/python3.7/site-packages (from jinja2->spacy<3.3.0,>=3.2.0->ru-core-news-sm==3.2.0) (2.1.1)\r\n",
      "Requirement already satisfied: importlib-metadata in /opt/conda/lib/python3.7/site-packages (from click<9.0.0,>=7.1.1->typer<0.5.0,>=0.3.0->spacy<3.3.0,>=3.2.0->ru-core-news-sm==3.2.0) (4.11.3)\r\n",
      "Installing collected packages: pymorphy2-dicts-ru, dawg-python, pymorphy2, ru-core-news-sm\r\n",
      "Successfully installed dawg-python-0.7.2 pymorphy2-0.9.1 pymorphy2-dicts-ru-2.4.417127.4579844 ru-core-news-sm-3.2.0\r\n",
      "\u001b[33mWARNING: Running pip as the 'root' user can result in broken permissions and conflicting behaviour with the system package manager. It is recommended to use a virtual environment instead: https://pip.pypa.io/warnings/venv\u001b[0m\r\n",
      "\u001b[38;5;2m✔ Download and installation successful\u001b[0m\r\n",
      "You can now load the package via spacy.load('ru_core_news_sm')\r\n"
     ]
    }
   ],
   "source": [
    "!python -m spacy download en_core_web_sm\n",
    "!python -m spacy download ru_core_news_sm"
   ]
  },
  {
   "cell_type": "code",
   "execution_count": 13,
   "id": "4c4db30d",
   "metadata": {
    "execution": {
     "iopub.execute_input": "2022-04-15T08:42:51.453995Z",
     "iopub.status.busy": "2022-04-15T08:42:51.453138Z",
     "iopub.status.idle": "2022-04-15T08:42:53.900919Z",
     "shell.execute_reply": "2022-04-15T08:42:53.900451Z",
     "shell.execute_reply.started": "2022-04-15T07:46:39.548881Z"
    },
    "papermill": {
     "duration": 2.587549,
     "end_time": "2022-04-15T08:42:53.901064",
     "exception": false,
     "start_time": "2022-04-15T08:42:51.313515",
     "status": "completed"
    },
    "tags": []
   },
   "outputs": [],
   "source": [
    "TRANSLATION_DIRECTION = 'EN->RU' # 'RU->EN' or 'EN->RU'\n",
    "\n",
    "if TRANSLATION_DIRECTION == 'RU->EN':\n",
    "    SPACY_SRC_LOAD = 'ru_core_news_sm'\n",
    "elif TRANSLATION_DIRECTION == 'EN->RU':\n",
    "    SPACY_SRC_LOAD = 'en_core_web_sm'\n",
    "    \n",
    "spacy_ru = spacy.load('ru_core_news_sm')\n",
    "spacy_en = spacy.load('en_core_web_sm')\n",
    "\n",
    "#Изменяем токенизацию слов с апострофами, без этого изменения, spacy будет токенизировать так \"can't\" = [\"ca\", \"n't\"]\n",
    "#к слову, поведение на слова без апострофов (там где они должны быть, но упущены), не измениться и будет \"cant\" = [\"ca\", \"nt\"] \n",
    "#\n",
    "# провел экспеимент, на практике, модель с токенизацией по умолчанию (т.е. can't\" = [\"ca\", \"n't\"]) дает лучшие показатели\n",
    "# spacy_en.tokenizer.rules = {key: value for key, value in spacy_en.tokenizer.rules.items() if \"'\" not in key and \"’\" not in key and \"‘\" not in key}\n",
    "# assert [t.text for t in spacy_en(\"can't\")] == [\"can't\"]"
   ]
  },
  {
   "cell_type": "code",
   "execution_count": 14,
   "id": "65f48a1e",
   "metadata": {
    "execution": {
     "iopub.execute_input": "2022-04-15T08:42:54.175363Z",
     "iopub.status.busy": "2022-04-15T08:42:54.173750Z",
     "iopub.status.idle": "2022-04-15T08:42:54.176005Z",
     "shell.execute_reply": "2022-04-15T08:42:54.176430Z",
     "shell.execute_reply.started": "2022-04-15T07:46:42.340162Z"
    },
    "papermill": {
     "duration": 0.141501,
     "end_time": "2022-04-15T08:42:54.176561",
     "exception": false,
     "start_time": "2022-04-15T08:42:54.035060",
     "status": "completed"
    },
    "tags": []
   },
   "outputs": [],
   "source": [
    "def tokenize_ru(text):\n",
    "    \"\"\"\n",
    "    Tokenizes Russian text from a string into a list of strings\n",
    "    \"\"\"\n",
    "    return [tok.text for tok in spacy_ru.tokenizer(text)]\n",
    "\n",
    "def tokenize_en(text):\n",
    "    \"\"\"\n",
    "    Tokenizes English text from a string into a list of strings\n",
    "    \"\"\"\n",
    "    return [tok.text for tok in spacy_en.tokenizer(text)]"
   ]
  },
  {
   "cell_type": "code",
   "execution_count": 15,
   "id": "58cd2a76",
   "metadata": {
    "execution": {
     "iopub.execute_input": "2022-04-15T08:42:54.471639Z",
     "iopub.status.busy": "2022-04-15T08:42:54.470813Z",
     "iopub.status.idle": "2022-04-15T08:44:05.641036Z",
     "shell.execute_reply": "2022-04-15T08:44:05.641506Z",
     "shell.execute_reply.started": "2022-04-15T07:46:42.348982Z"
    },
    "papermill": {
     "duration": 71.331903,
     "end_time": "2022-04-15T08:44:05.641648",
     "exception": false,
     "start_time": "2022-04-15T08:42:54.309745",
     "status": "completed"
    },
    "tags": []
   },
   "outputs": [
    {
     "data": {
      "text/html": [
       "<div>\n",
       "<style scoped>\n",
       "    .dataframe tbody tr th:only-of-type {\n",
       "        vertical-align: middle;\n",
       "    }\n",
       "\n",
       "    .dataframe tbody tr th {\n",
       "        vertical-align: top;\n",
       "    }\n",
       "\n",
       "    .dataframe thead th {\n",
       "        text-align: right;\n",
       "    }\n",
       "</style>\n",
       "<table border=\"1\" class=\"dataframe\">\n",
       "  <thead>\n",
       "    <tr style=\"text-align: right;\">\n",
       "      <th></th>\n",
       "      <th>EN</th>\n",
       "      <th>RU</th>\n",
       "      <th>EN_tok</th>\n",
       "      <th>RU_tok</th>\n",
       "      <th>EN_tok_len</th>\n",
       "      <th>RU_tok_len</th>\n",
       "    </tr>\n",
       "  </thead>\n",
       "  <tbody>\n",
       "    <tr>\n",
       "      <th>0</th>\n",
       "      <td>We know that you will buy more if you're depre...</td>\n",
       "      <td>Вы больше покупаете, когда у вас депрессия.</td>\n",
       "      <td>[We, know, that, you, will, buy, more, if, you...</td>\n",
       "      <td>[Вы, больше, покупаете, ,, когда, у, вас, депр...</td>\n",
       "      <td>12</td>\n",
       "      <td>9</td>\n",
       "    </tr>\n",
       "    <tr>\n",
       "      <th>1</th>\n",
       "      <td>There is many different aspects to free-diving.</td>\n",
       "      <td>У фридайвинга есть много разных вариантов.</td>\n",
       "      <td>[There, is, many, different, aspects, to, free...</td>\n",
       "      <td>[У, фридайвинга, есть, много, разных, варианто...</td>\n",
       "      <td>10</td>\n",
       "      <td>7</td>\n",
       "    </tr>\n",
       "    <tr>\n",
       "      <th>2</th>\n",
       "      <td>Very good is average.</td>\n",
       "      <td>Очень хорошее средне.</td>\n",
       "      <td>[Very, good, is, average, .]</td>\n",
       "      <td>[Очень, хорошее, средне, .]</td>\n",
       "      <td>5</td>\n",
       "      <td>4</td>\n",
       "    </tr>\n",
       "    <tr>\n",
       "      <th>3</th>\n",
       "      <td>Let's at least eat a hamburger somewhere.</td>\n",
       "      <td>Давай хотя бы гамбургер где-нибудь съедим.</td>\n",
       "      <td>[Let, 's, at, least, eat, a, hamburger, somewh...</td>\n",
       "      <td>[Давай, хотя, бы, гамбургер, где, -, нибудь, с...</td>\n",
       "      <td>9</td>\n",
       "      <td>9</td>\n",
       "    </tr>\n",
       "    <tr>\n",
       "      <th>4</th>\n",
       "      <td>One of the things we realized was how importan...</td>\n",
       "      <td>К примеру, мы вдруг осознали, насколько важным...</td>\n",
       "      <td>[One, of, the, things, we, realized, was, how,...</td>\n",
       "      <td>[К, примеру, ,, мы, вдруг, осознали, ,, наскол...</td>\n",
       "      <td>18</td>\n",
       "      <td>17</td>\n",
       "    </tr>\n",
       "    <tr>\n",
       "      <th>...</th>\n",
       "      <td>...</td>\n",
       "      <td>...</td>\n",
       "      <td>...</td>\n",
       "      <td>...</td>\n",
       "      <td>...</td>\n",
       "      <td>...</td>\n",
       "    </tr>\n",
       "    <tr>\n",
       "      <th>444809</th>\n",
       "      <td>And how are we going to assign what the respon...</td>\n",
       "      <td>И как мы можем определить ответственность и пр...</td>\n",
       "      <td>[And, how, are, we, going, to, assign, what, t...</td>\n",
       "      <td>[И, как, мы, можем, определить, ответственност...</td>\n",
       "      <td>22</td>\n",
       "      <td>14</td>\n",
       "    </tr>\n",
       "    <tr>\n",
       "      <th>444810</th>\n",
       "      <td>In India, sometimes, when it's intense, intens...</td>\n",
       "      <td>В Индии говорят, \"интенсивное\", \"интенсивно ли...</td>\n",
       "      <td>[In, India, ,, sometimes, ,, when, it, 's, int...</td>\n",
       "      <td>[В, Индии, говорят, ,, \", интенсивное, \", ,, \"...</td>\n",
       "      <td>13</td>\n",
       "      <td>12</td>\n",
       "    </tr>\n",
       "    <tr>\n",
       "      <th>444811</th>\n",
       "      <td>If we know that we're going to get extra bang ...</td>\n",
       "      <td>Если бы мы знали, что получим дополнительные с...</td>\n",
       "      <td>[If, we, know, that, we, 're, going, to, get, ...</td>\n",
       "      <td>[Если, бы, мы, знали, ,, что, получим, дополни...</td>\n",
       "      <td>80</td>\n",
       "      <td>66</td>\n",
       "    </tr>\n",
       "    <tr>\n",
       "      <th>444812</th>\n",
       "      <td>Ultimately the true legacy that we can leave b...</td>\n",
       "      <td>В конце концов, настоящее наше наследие, то, ч...</td>\n",
       "      <td>[Ultimately, the, true, legacy, that, we, can,...</td>\n",
       "      <td>[В, конце, концов, ,, настоящее, наше, наследи...</td>\n",
       "      <td>20</td>\n",
       "      <td>27</td>\n",
       "    </tr>\n",
       "    <tr>\n",
       "      <th>444813</th>\n",
       "      <td>Tens?</td>\n",
       "      <td>Десятками?</td>\n",
       "      <td>[Tens, ?]</td>\n",
       "      <td>[Десятками, ?]</td>\n",
       "      <td>2</td>\n",
       "      <td>2</td>\n",
       "    </tr>\n",
       "  </tbody>\n",
       "</table>\n",
       "<p>444814 rows × 6 columns</p>\n",
       "</div>"
      ],
      "text/plain": [
       "                                                       EN  \\\n",
       "0       We know that you will buy more if you're depre...   \n",
       "1         There is many different aspects to free-diving.   \n",
       "2                                   Very good is average.   \n",
       "3               Let's at least eat a hamburger somewhere.   \n",
       "4       One of the things we realized was how importan...   \n",
       "...                                                   ...   \n",
       "444809  And how are we going to assign what the respon...   \n",
       "444810  In India, sometimes, when it's intense, intens...   \n",
       "444811  If we know that we're going to get extra bang ...   \n",
       "444812  Ultimately the true legacy that we can leave b...   \n",
       "444813                                              Tens?   \n",
       "\n",
       "                                                       RU  \\\n",
       "0             Вы больше покупаете, когда у вас депрессия.   \n",
       "1              У фридайвинга есть много разных вариантов.   \n",
       "2                                   Очень хорошее средне.   \n",
       "3              Давай хотя бы гамбургер где-нибудь съедим.   \n",
       "4       К примеру, мы вдруг осознали, насколько важным...   \n",
       "...                                                   ...   \n",
       "444809  И как мы можем определить ответственность и пр...   \n",
       "444810  В Индии говорят, \"интенсивное\", \"интенсивно ли...   \n",
       "444811  Если бы мы знали, что получим дополнительные с...   \n",
       "444812  В конце концов, настоящее наше наследие, то, ч...   \n",
       "444813                                         Десятками?   \n",
       "\n",
       "                                                   EN_tok  \\\n",
       "0       [We, know, that, you, will, buy, more, if, you...   \n",
       "1       [There, is, many, different, aspects, to, free...   \n",
       "2                            [Very, good, is, average, .]   \n",
       "3       [Let, 's, at, least, eat, a, hamburger, somewh...   \n",
       "4       [One, of, the, things, we, realized, was, how,...   \n",
       "...                                                   ...   \n",
       "444809  [And, how, are, we, going, to, assign, what, t...   \n",
       "444810  [In, India, ,, sometimes, ,, when, it, 's, int...   \n",
       "444811  [If, we, know, that, we, 're, going, to, get, ...   \n",
       "444812  [Ultimately, the, true, legacy, that, we, can,...   \n",
       "444813                                          [Tens, ?]   \n",
       "\n",
       "                                                   RU_tok  EN_tok_len  \\\n",
       "0       [Вы, больше, покупаете, ,, когда, у, вас, депр...          12   \n",
       "1       [У, фридайвинга, есть, много, разных, варианто...          10   \n",
       "2                             [Очень, хорошее, средне, .]           5   \n",
       "3       [Давай, хотя, бы, гамбургер, где, -, нибудь, с...           9   \n",
       "4       [К, примеру, ,, мы, вдруг, осознали, ,, наскол...          18   \n",
       "...                                                   ...         ...   \n",
       "444809  [И, как, мы, можем, определить, ответственност...          22   \n",
       "444810  [В, Индии, говорят, ,, \", интенсивное, \", ,, \"...          13   \n",
       "444811  [Если, бы, мы, знали, ,, что, получим, дополни...          80   \n",
       "444812  [В, конце, концов, ,, настоящее, наше, наследи...          20   \n",
       "444813                                     [Десятками, ?]           2   \n",
       "\n",
       "        RU_tok_len  \n",
       "0                9  \n",
       "1                7  \n",
       "2                4  \n",
       "3                9  \n",
       "4               17  \n",
       "...            ...  \n",
       "444809          14  \n",
       "444810          12  \n",
       "444811          66  \n",
       "444812          27  \n",
       "444813           2  \n",
       "\n",
       "[444814 rows x 6 columns]"
      ]
     },
     "execution_count": 15,
     "metadata": {},
     "output_type": "execute_result"
    }
   ],
   "source": [
    "df_corpus['EN_tok'] = df_corpus.EN.apply(tokenize_en)\n",
    "df_corpus['RU_tok'] = df_corpus.RU.apply(tokenize_ru)\n",
    "df_corpus['EN_tok_len'] = df_corpus.EN_tok.apply(len)\n",
    "df_corpus['RU_tok_len'] = df_corpus.RU_tok.apply(len)\n",
    "df_corpus"
   ]
  },
  {
   "cell_type": "code",
   "execution_count": 16,
   "id": "aca75715",
   "metadata": {
    "execution": {
     "iopub.execute_input": "2022-04-15T08:44:05.912613Z",
     "iopub.status.busy": "2022-04-15T08:44:05.911739Z",
     "iopub.status.idle": "2022-04-15T08:44:06.218877Z",
     "shell.execute_reply": "2022-04-15T08:44:06.218190Z",
     "shell.execute_reply.started": "2022-04-15T07:48:04.582969Z"
    },
    "papermill": {
     "duration": 0.444365,
     "end_time": "2022-04-15T08:44:06.219026",
     "exception": false,
     "start_time": "2022-04-15T08:44:05.774661",
     "status": "completed"
    },
    "tags": []
   },
   "outputs": [
    {
     "data": {
      "text/plain": [
       "<AxesSubplot:>"
      ]
     },
     "execution_count": 16,
     "metadata": {},
     "output_type": "execute_result"
    },
    {
     "data": {
      "image/png": "[encoded data removed]",
      "text/plain": [
       "<Figure size 432x288 with 1 Axes>"
      ]
     },
     "metadata": {
      "needs_background": "light"
     },
     "output_type": "display_data"
    }
   ],
   "source": [
    "#проанализировать выбросы по длине токенов (обоих язаыков), убрать явные выбросы (например более 20-30 токенов)\n",
    "#place of possible hyperparameters\n",
    "LEN_THRESHOLD = 30\n",
    "df_corpus.EN_tok_len[df_corpus.EN_tok_len <= LEN_THRESHOLD].hist(bins = 50)"
   ]
  },
  {
   "cell_type": "code",
   "execution_count": 17,
   "id": "362ff9d7",
   "metadata": {
    "execution": {
     "iopub.execute_input": "2022-04-15T08:44:06.531074Z",
     "iopub.status.busy": "2022-04-15T08:44:06.530164Z",
     "iopub.status.idle": "2022-04-15T08:44:06.747246Z",
     "shell.execute_reply": "2022-04-15T08:44:06.746547Z",
     "shell.execute_reply.started": "2022-04-15T07:48:04.956742Z"
    },
    "papermill": {
     "duration": 0.375789,
     "end_time": "2022-04-15T08:44:06.747428",
     "exception": false,
     "start_time": "2022-04-15T08:44:06.371639",
     "status": "completed"
    },
    "tags": []
   },
   "outputs": [],
   "source": [
    "df_corpus = df_corpus[(df_corpus.EN_tok_len <= LEN_THRESHOLD) & (df_corpus.RU_tok_len <= LEN_THRESHOLD)]"
   ]
  },
  {
   "cell_type": "code",
   "execution_count": 18,
   "id": "fe443a50",
   "metadata": {
    "execution": {
     "iopub.execute_input": "2022-04-15T08:44:07.060158Z",
     "iopub.status.busy": "2022-04-15T08:44:07.059491Z",
     "iopub.status.idle": "2022-04-15T08:44:07.154004Z",
     "shell.execute_reply": "2022-04-15T08:44:07.154604Z",
     "shell.execute_reply.started": "2022-04-15T07:48:05.173564Z"
    },
    "papermill": {
     "duration": 0.256754,
     "end_time": "2022-04-15T08:44:07.154783",
     "exception": false,
     "start_time": "2022-04-15T08:44:06.898029",
     "status": "completed"
    },
    "tags": []
   },
   "outputs": [
    {
     "name": "stderr",
     "output_type": "stream",
     "text": [
      "/opt/conda/lib/python3.7/site-packages/ipykernel_launcher.py:4: SettingWithCopyWarning: \n",
      "A value is trying to be set on a copy of a slice from a DataFrame.\n",
      "Try using .loc[row_indexer,col_indexer] = value instead\n",
      "\n",
      "See the caveats in the documentation: https://pandas.pydata.org/pandas-docs/stable/user_guide/indexing.html#returning-a-view-versus-a-copy\n",
      "  after removing the cwd from sys.path.\n"
     ]
    }
   ],
   "source": [
    "#проаинализировать разницы в количествах токенов параллельных предложений, убрать выбросы (например оставить в пределах mean + std)\n",
    "#не учитывать слишком короткие предложения, <= 4 токена\n",
    "DIFF_NO_DEL_TRESHOLD = 4\n",
    "df_corpus['len_diff_ratio'] = df_corpus[[\"EN_tok_len\", \"RU_tok_len\"]].max(axis=1) / df_corpus[[\"EN_tok_len\", \"RU_tok_len\"]].min(axis=1)\n",
    "df_corpus = df_corpus[(df_corpus['len_diff_ratio'] <= df_corpus['len_diff_ratio'].mean() + df_corpus['len_diff_ratio'].std()) | \\\n",
    "                      (df_corpus[\"EN_tok_len\"] <= DIFF_NO_DEL_TRESHOLD) & (df_corpus[\"RU_tok_len\"] <= DIFF_NO_DEL_TRESHOLD)]"
   ]
  },
  {
   "cell_type": "code",
   "execution_count": 19,
   "id": "b1eb9ad2",
   "metadata": {
    "execution": {
     "iopub.execute_input": "2022-04-15T08:44:07.479438Z",
     "iopub.status.busy": "2022-04-15T08:44:07.478611Z",
     "iopub.status.idle": "2022-04-15T08:44:07.511635Z",
     "shell.execute_reply": "2022-04-15T08:44:07.512254Z",
     "shell.execute_reply.started": "2022-04-15T07:48:05.284793Z"
    },
    "papermill": {
     "duration": 0.195304,
     "end_time": "2022-04-15T08:44:07.512440",
     "exception": false,
     "start_time": "2022-04-15T08:44:07.317136",
     "status": "completed"
    },
    "tags": []
   },
   "outputs": [
    {
     "data": {
      "text/html": [
       "<div>\n",
       "<style scoped>\n",
       "    .dataframe tbody tr th:only-of-type {\n",
       "        vertical-align: middle;\n",
       "    }\n",
       "\n",
       "    .dataframe tbody tr th {\n",
       "        vertical-align: top;\n",
       "    }\n",
       "\n",
       "    .dataframe thead th {\n",
       "        text-align: right;\n",
       "    }\n",
       "</style>\n",
       "<table border=\"1\" class=\"dataframe\">\n",
       "  <thead>\n",
       "    <tr style=\"text-align: right;\">\n",
       "      <th></th>\n",
       "      <th>EN</th>\n",
       "      <th>RU</th>\n",
       "      <th>EN_tok</th>\n",
       "      <th>RU_tok</th>\n",
       "      <th>EN_tok_len</th>\n",
       "      <th>RU_tok_len</th>\n",
       "      <th>len_diff_ratio</th>\n",
       "    </tr>\n",
       "  </thead>\n",
       "  <tbody>\n",
       "    <tr>\n",
       "      <th>31</th>\n",
       "      <td>Stand up</td>\n",
       "      <td>Что вы скажете?</td>\n",
       "      <td>[Stand, up]</td>\n",
       "      <td>[Что, вы, скажете, ?]</td>\n",
       "      <td>2</td>\n",
       "      <td>4</td>\n",
       "      <td>2.000000</td>\n",
       "    </tr>\n",
       "    <tr>\n",
       "      <th>54</th>\n",
       "      <td>Feeling ill?</td>\n",
       "      <td>Ты не заболел?</td>\n",
       "      <td>[Feeling, ill, ?]</td>\n",
       "      <td>[Ты, не, заболел, ?]</td>\n",
       "      <td>3</td>\n",
       "      <td>4</td>\n",
       "      <td>1.333333</td>\n",
       "    </tr>\n",
       "    <tr>\n",
       "      <th>84</th>\n",
       "      <td>Oops.</td>\n",
       "      <td>Ой...</td>\n",
       "      <td>[Oops, .]</td>\n",
       "      <td>[Ой, ...]</td>\n",
       "      <td>2</td>\n",
       "      <td>2</td>\n",
       "      <td>1.000000</td>\n",
       "    </tr>\n",
       "    <tr>\n",
       "      <th>91</th>\n",
       "      <td>- Thank you.</td>\n",
       "      <td>-Спасибо.</td>\n",
       "      <td>[-, Thank, you, .]</td>\n",
       "      <td>[-Спасибо, .]</td>\n",
       "      <td>4</td>\n",
       "      <td>2</td>\n",
       "      <td>2.000000</td>\n",
       "    </tr>\n",
       "    <tr>\n",
       "      <th>102</th>\n",
       "      <td>Eat a lot.</td>\n",
       "      <td>Ешь побольше.</td>\n",
       "      <td>[Eat, a, lot, .]</td>\n",
       "      <td>[Ешь, побольше, .]</td>\n",
       "      <td>4</td>\n",
       "      <td>3</td>\n",
       "      <td>1.333333</td>\n",
       "    </tr>\n",
       "    <tr>\n",
       "      <th>...</th>\n",
       "      <td>...</td>\n",
       "      <td>...</td>\n",
       "      <td>...</td>\n",
       "      <td>...</td>\n",
       "      <td>...</td>\n",
       "      <td>...</td>\n",
       "      <td>...</td>\n",
       "    </tr>\n",
       "    <tr>\n",
       "      <th>444674</th>\n",
       "      <td>Please!</td>\n",
       "      <td>Брось!</td>\n",
       "      <td>[Please, !]</td>\n",
       "      <td>[Брось, !]</td>\n",
       "      <td>2</td>\n",
       "      <td>2</td>\n",
       "      <td>1.000000</td>\n",
       "    </tr>\n",
       "    <tr>\n",
       "      <th>444699</th>\n",
       "      <td>- Very!</td>\n",
       "      <td>- Очень!</td>\n",
       "      <td>[-, Very, !]</td>\n",
       "      <td>[-, Очень, !]</td>\n",
       "      <td>3</td>\n",
       "      <td>3</td>\n",
       "      <td>1.000000</td>\n",
       "    </tr>\n",
       "    <tr>\n",
       "      <th>444722</th>\n",
       "      <td>Gone.</td>\n",
       "      <td>Стиралось.</td>\n",
       "      <td>[Gone, .]</td>\n",
       "      <td>[Стиралось, .]</td>\n",
       "      <td>2</td>\n",
       "      <td>2</td>\n",
       "      <td>1.000000</td>\n",
       "    </tr>\n",
       "    <tr>\n",
       "      <th>444744</th>\n",
       "      <td>They're the people.</td>\n",
       "      <td>Это люди.</td>\n",
       "      <td>[They, 're, the, people, .]</td>\n",
       "      <td>[Это, люди, .]</td>\n",
       "      <td>5</td>\n",
       "      <td>3</td>\n",
       "      <td>1.666667</td>\n",
       "    </tr>\n",
       "    <tr>\n",
       "      <th>444813</th>\n",
       "      <td>Tens?</td>\n",
       "      <td>Десятками?</td>\n",
       "      <td>[Tens, ?]</td>\n",
       "      <td>[Десятками, ?]</td>\n",
       "      <td>2</td>\n",
       "      <td>2</td>\n",
       "      <td>1.000000</td>\n",
       "    </tr>\n",
       "  </tbody>\n",
       "</table>\n",
       "<p>26091 rows × 7 columns</p>\n",
       "</div>"
      ],
      "text/plain": [
       "                         EN               RU                       EN_tok  \\\n",
       "31                 Stand up  Что вы скажете?                  [Stand, up]   \n",
       "54             Feeling ill?   Ты не заболел?            [Feeling, ill, ?]   \n",
       "84                    Oops.            Ой...                    [Oops, .]   \n",
       "91             - Thank you.        -Спасибо.           [-, Thank, you, .]   \n",
       "102              Eat a lot.    Ешь побольше.             [Eat, a, lot, .]   \n",
       "...                     ...              ...                          ...   \n",
       "444674              Please!           Брось!                  [Please, !]   \n",
       "444699              - Very!         - Очень!                 [-, Very, !]   \n",
       "444722                Gone.       Стиралось.                    [Gone, .]   \n",
       "444744  They're the people.        Это люди.  [They, 're, the, people, .]   \n",
       "444813                Tens?       Десятками?                    [Tens, ?]   \n",
       "\n",
       "                       RU_tok  EN_tok_len  RU_tok_len  len_diff_ratio  \n",
       "31      [Что, вы, скажете, ?]           2           4        2.000000  \n",
       "54       [Ты, не, заболел, ?]           3           4        1.333333  \n",
       "84                  [Ой, ...]           2           2        1.000000  \n",
       "91              [-Спасибо, .]           4           2        2.000000  \n",
       "102        [Ешь, побольше, .]           4           3        1.333333  \n",
       "...                       ...         ...         ...             ...  \n",
       "444674             [Брось, !]           2           2        1.000000  \n",
       "444699          [-, Очень, !]           3           3        1.000000  \n",
       "444722         [Стиралось, .]           2           2        1.000000  \n",
       "444744         [Это, люди, .]           5           3        1.666667  \n",
       "444813         [Десятками, ?]           2           2        1.000000  \n",
       "\n",
       "[26091 rows x 7 columns]"
      ]
     },
     "execution_count": 19,
     "metadata": {},
     "output_type": "execute_result"
    }
   ],
   "source": [
    "# проанализировать на предмет минимального количества токенов, визуально посмотреть примеры, \n",
    "# принять решение об их использовании\n",
    "df_corpus[(df_corpus.EN_tok_len < 4) | (df_corpus.RU_tok_len < 4)]"
   ]
  },
  {
   "cell_type": "code",
   "execution_count": 20,
   "id": "c607fc60",
   "metadata": {
    "execution": {
     "iopub.execute_input": "2022-04-15T08:44:07.829224Z",
     "iopub.status.busy": "2022-04-15T08:44:07.816820Z",
     "iopub.status.idle": "2022-04-15T08:44:12.170881Z",
     "shell.execute_reply": "2022-04-15T08:44:12.170403Z",
     "shell.execute_reply.started": "2022-04-15T07:48:05.321950Z"
    },
    "papermill": {
     "duration": 4.507725,
     "end_time": "2022-04-15T08:44:12.171035",
     "exception": false,
     "start_time": "2022-04-15T08:44:07.663310",
     "status": "completed"
    },
    "tags": []
   },
   "outputs": [
    {
     "name": "stdout",
     "output_type": "stream",
     "text": [
      "Train: 259396, Val: 92642, Test: 18529\n",
      "total 59320\r\n",
      "drwxr-xr-x 2 root root     4096 Apr 15 08:44 .\r\n",
      "drwxr-xr-x 3 root root     4096 Apr 15 08:41 ..\r\n",
      "-rw-r--r-- 1 root root      391 Jul  5  2019 LICENSE\r\n",
      "-rw-r--r-- 1 root root  3033859 Apr 15 08:44 QED_test.csv\r\n",
      "-rw-r--r-- 1 root root 42480690 Apr 15 08:44 QED_train.csv\r\n",
      "-rw-r--r-- 1 root root 15205080 Apr 15 08:44 QED_val.csv\r\n",
      "-rw-r--r-- 1 root root     1445 Jul  5  2019 README\r\n"
     ]
    }
   ],
   "source": [
    "#разбиваем датасет на 3-шт (train/val/test) и сохраняем в .csv для дальнейшего использования\n",
    "df_corpus = df_corpus[['EN', 'RU']]\n",
    "\n",
    "#train/val/test - 70%/25%/5%\n",
    "TRAIN_VAL_TEST_RATIO = [.70, .25] #TEST = all not include to train/val\n",
    "\n",
    "#.sample(frac=1) - предварительное перемешивание\n",
    "df_train, df_val, df_test = np.split(df_corpus.sample(frac=1, random_state=42).reset_index(drop=True),\n",
    "                                     [int(TRAIN_VAL_TEST_RATIO[0]*len(df_corpus)), \n",
    "                                      int(sum(TRAIN_VAL_TEST_RATIO)*len(df_corpus))])\n",
    "\n",
    "print(f\"Train: {len(df_train)}, Val: {len(df_val)}, Test: {len(df_test)}\")\n",
    "\n",
    "#save\n",
    "df_train.to_csv('./stepik-dl-nlp/datasets/OPUS-QED_RU-EN/QED_train.csv', index=False)\n",
    "df_val.to_csv('./stepik-dl-nlp/datasets/OPUS-QED_RU-EN/QED_val.csv', index=False)\n",
    "df_test.to_csv('./stepik-dl-nlp/datasets/OPUS-QED_RU-EN/QED_test.csv', index=False)\n",
    "\n",
    "#чистим исходные файлы и лишние переменные\n",
    "del df_corpus, df_train, df_val, df_test, lines_en, lines_ru\n",
    "!rm ./stepik-dl-nlp/datasets/OPUS-QED_RU-EN/QED.en-ru.ru ./stepik-dl-nlp/datasets/OPUS-QED_RU-EN/QED.en-ru.en\n",
    "!ls -la ./stepik-dl-nlp/datasets/OPUS-QED_RU-EN/"
   ]
  },
  {
   "cell_type": "code",
   "execution_count": 21,
   "id": "779063f5",
   "metadata": {
    "execution": {
     "iopub.execute_input": "2022-04-15T08:44:12.459528Z",
     "iopub.status.busy": "2022-04-15T08:44:12.458748Z",
     "iopub.status.idle": "2022-04-15T08:44:14.533694Z",
     "shell.execute_reply": "2022-04-15T08:44:14.534153Z",
     "shell.execute_reply.started": "2022-04-15T07:48:10.032949Z"
    },
    "papermill": {
     "duration": 2.2221,
     "end_time": "2022-04-15T08:44:14.534325",
     "exception": false,
     "start_time": "2022-04-15T08:44:12.312225",
     "status": "completed"
    },
    "tags": []
   },
   "outputs": [
    {
     "name": "stdout",
     "output_type": "stream",
     "text": [
      "EN,RU\r\n",
      "Secret sports event.,Секретное спортивное мероприятие.\r\n",
      "Smart tunnelling to get around anti-neutrality activity by upstream ISPs and other network providers.,\"Смарт туннелирование, чтобы обойти анти-нейтральности деятельности вверх по течению интернет-провайдеров и других поставщиков сети.\"\r\n",
      "\"So, there's three main types of guitar.\",\"Итак, три основных вида гитар.\"\r\n",
      "What the hell is going on?,Какого хрена тут происходит?\r\n",
      "I was as smelly and as depressed as anyone in line.,\"И я была так же подавлена и так же воняла, как все в очереди.\"\r\n",
      "\"We have trained, hired and rewarded people to be cowboys.\",\"Мы обучаем, нанимаем и поощряем людей быть ковбоями.\"\r\n",
      "Maybe I'll skip this lecture.,\"Может, я пропущу эту лекцию.\"\r\n",
      "Just wait over there.,Подождите здесь.\r\n",
      "Sumitra's son was Laxman Kaikeyi's son was Bharat I'm so impressed!,\"Сыном Сумитры был Лакшман, и у Кейкейи был сын Бхарат. и Шатрунгхан кажется был братом Лахмана, значит он был сыном Сумитры.\"\r\n",
      "EN,RU\r\n",
      "It's about the end of an old and corrupt order in the world,\"Это только конец старого, коррумпированного мира.\"\r\n",
      "So I've studied a lot about stem cells -- embryonic stem cells are particularly powerful.,Я серьёзно занимался изучением стволовых клеток. Эмбриональные стволовые клетки особенно значимы.\r\n",
      "Now I want to pop the element with the smallest number.,Теперь я хочу засунуть элемент с наименьшим номером.\r\n",
      "\"Then this is a fairly talkative, verbose kind of chair.\",\"Это довольно многословное, болтливое кресло.\"\r\n",
      "And this is very difficult to do because of our structures.,И это очень трудно сделать из-за нашей структуры.\r\n",
      "\"If a building is built even in paper, if people love it, it becomes permanent.\",\"Даже если здание бумажное, если люди любят его, оно становится постоянным.\"\r\n",
      "I told the warden that I wanted to start a mountain biking club in this place and that basically I wanted to take the kids from here to there.,\"Я предложил ему организовать клуб горного велосипедизма для заключенных и сказал, что я буду брать их с собой в горные поездки.\"\r\n",
      "\"At the moment, I'm doing TV advertising in New York.\",\"Нью Йорка, последнее время для ТВ-рекламы.\"\r\n",
      "Strings. So most programming languages have strings.,Поэтому наиболее программирования языки имеют строки.\r\n",
      "EN,RU\r\n",
      "How do we tackle things like mobility?,Как мы справимся с такими вещами как мобильность?\r\n",
      "\"Something comes to complete rest, you know\",\"Что-то приходит к полному покою, знаешь\"\r\n",
      "I will give you a surprise with a lot of tinsel paper rolled up with it.,\"Я дам тебе подарок, завёрнутый в большое количество мишуры.\"\r\n",
      "\"It's in between, and we think it changes the way information can be used.\",\"Это нечто посередине, и нам кажется, что это изменяет то, как можно использовать информацию.\"\r\n",
      "But we closed it! Because...,И ты - тоже не оправдал моего доверия!\r\n",
      "There are many reasons for this attitude,И для этого есть много причин много причин для такого отношения\r\n",
      "\"So, we were shameless.\",Поэтому мы потеряли всякий стыд.\r\n",
      "They are live and reacting to me in real time.,\"Они живые, и будут реагировать на меня в реальном времени.\"\r\n",
      "\"But in here, it's always the same.\",Но здесь всё по-прежнему.\r\n"
     ]
    }
   ],
   "source": [
    "!head ./stepik-dl-nlp/datasets/OPUS-QED_RU-EN/QED_train.csv\n",
    "!head ./stepik-dl-nlp/datasets/OPUS-QED_RU-EN/QED_val.csv\n",
    "!head ./stepik-dl-nlp/datasets/OPUS-QED_RU-EN/QED_test.csv"
   ]
  },
  {
   "cell_type": "markdown",
   "id": "913fdaae",
   "metadata": {
    "papermill": {
     "duration": 0.137047,
     "end_time": "2022-04-15T08:44:14.807835",
     "exception": false,
     "start_time": "2022-04-15T08:44:14.670788",
     "status": "completed"
    },
    "tags": []
   },
   "source": [
    "Our fields are the same as the previous notebook. The model expects data to be fed in with the batch dimension first, so we use `batch_first = True`. "
   ]
  },
  {
   "cell_type": "code",
   "execution_count": 22,
   "id": "1b17de12",
   "metadata": {
    "execution": {
     "iopub.execute_input": "2022-04-15T08:44:15.096539Z",
     "iopub.status.busy": "2022-04-15T08:44:15.091913Z",
     "iopub.status.idle": "2022-04-15T08:44:15.099060Z",
     "shell.execute_reply": "2022-04-15T08:44:15.098542Z",
     "shell.execute_reply.started": "2022-04-15T07:48:12.395319Z"
    },
    "papermill": {
     "duration": 0.151247,
     "end_time": "2022-04-15T08:44:15.099179",
     "exception": false,
     "start_time": "2022-04-15T08:44:14.947932",
     "status": "completed"
    },
    "tags": []
   },
   "outputs": [],
   "source": [
    "if TRANSLATION_DIRECTION == 'RU->EN':\n",
    "    SRC = Field(tokenize = tokenize_ru, \n",
    "                init_token = '<sos>', \n",
    "                eos_token = '<eos>', \n",
    "                lower = True, \n",
    "                batch_first = True)\n",
    "\n",
    "    TRG = Field(tokenize = tokenize_en, \n",
    "                init_token = '<sos>', \n",
    "                eos_token = '<eos>', \n",
    "                lower = True, \n",
    "                batch_first = True)\n",
    "\n",
    "    fields = {\n",
    "        'RU': ('src', SRC),\n",
    "        'EN': ('trg', TRG)\n",
    "    }\n",
    "elif TRANSLATION_DIRECTION == 'EN->RU':\n",
    "    SRC = Field(tokenize = tokenize_en, \n",
    "                init_token = '<sos>', \n",
    "                eos_token = '<eos>', \n",
    "                lower = True, \n",
    "                batch_first = True)\n",
    "\n",
    "    TRG = Field(tokenize = tokenize_ru, \n",
    "                init_token = '<sos>', \n",
    "                eos_token = '<eos>', \n",
    "                lower = True, \n",
    "                batch_first = True)\n",
    "\n",
    "    fields = {\n",
    "        'EN': ('src', SRC),\n",
    "        'RU': ('trg', TRG)\n",
    "    }"
   ]
  },
  {
   "cell_type": "markdown",
   "id": "4a2fc2a3",
   "metadata": {
    "papermill": {
     "duration": 0.150599,
     "end_time": "2022-04-15T08:44:15.392406",
     "exception": false,
     "start_time": "2022-04-15T08:44:15.241807",
     "status": "completed"
    },
    "tags": []
   },
   "source": [
    "We then load dataset and build the vocabulary."
   ]
  },
  {
   "cell_type": "code",
   "execution_count": 23,
   "id": "8a5ad482",
   "metadata": {
    "execution": {
     "iopub.execute_input": "2022-04-15T08:44:15.671210Z",
     "iopub.status.busy": "2022-04-15T08:44:15.670365Z",
     "iopub.status.idle": "2022-04-15T08:44:57.090810Z",
     "shell.execute_reply": "2022-04-15T08:44:57.090314Z",
     "shell.execute_reply.started": "2022-04-15T07:48:12.405475Z"
    },
    "papermill": {
     "duration": 41.561686,
     "end_time": "2022-04-15T08:44:57.090953",
     "exception": false,
     "start_time": "2022-04-15T08:44:15.529267",
     "status": "completed"
    },
    "tags": []
   },
   "outputs": [],
   "source": [
    "# train_data, valid_data, test_data = Multi30k.splits(exts = ('.de', '.en'), \n",
    "#                                                     fields = (SRC, TRG))\n",
    "#TabularDataset - Defines a Dataset of columns stored in CSV, TSV, or JSON format\n",
    "#TabularDataset.splits - Create Dataset objects for multiple splits of a dataset.\n",
    "train_data, valid_data, test_data = TabularDataset.splits(\n",
    "                            path = './stepik-dl-nlp/datasets/OPUS-QED_RU-EN/',\n",
    "                            train = 'QED_train.csv',\n",
    "                            validation = 'QED_val.csv',\n",
    "                            test = 'QED_test.csv',\n",
    "                            format = 'csv',\n",
    "                            fields = fields\n",
    ")"
   ]
  },
  {
   "cell_type": "code",
   "execution_count": 24,
   "id": "f6d52796",
   "metadata": {
    "execution": {
     "iopub.execute_input": "2022-04-15T08:44:57.374515Z",
     "iopub.status.busy": "2022-04-15T08:44:57.373658Z",
     "iopub.status.idle": "2022-04-15T08:44:57.377740Z",
     "shell.execute_reply": "2022-04-15T08:44:57.378157Z",
     "shell.execute_reply.started": "2022-04-15T07:49:00.490281Z"
    },
    "papermill": {
     "duration": 0.149942,
     "end_time": "2022-04-15T08:44:57.378303",
     "exception": false,
     "start_time": "2022-04-15T08:44:57.228361",
     "status": "completed"
    },
    "tags": []
   },
   "outputs": [
    {
     "name": "stdout",
     "output_type": "stream",
     "text": [
      "secret sports event .\n",
      "['secret', 'sports', 'event', '.']\n",
      "секретное спортивное мероприятие .\n",
      "['секретное', 'спортивное', 'мероприятие', '.']\n",
      "\n",
      "smart tunnelling to get around anti - neutrality activity by upstream isps and other network providers .\n",
      "['smart', 'tunnelling', 'to', 'get', 'around', 'anti', '-', 'neutrality', 'activity', 'by', 'upstream', 'isps', 'and', 'other', 'network', 'providers', '.']\n",
      "смарт туннелирование , чтобы обойти анти - нейтральности деятельности вверх по течению интернет - провайдеров и других поставщиков сети .\n",
      "['смарт', 'туннелирование', ',', 'чтобы', 'обойти', 'анти', '-', 'нейтральности', 'деятельности', 'вверх', 'по', 'течению', 'интернет', '-', 'провайдеров', 'и', 'других', 'поставщиков', 'сети', '.']\n",
      "\n",
      "so , there 's three main types of guitar .\n",
      "['so', ',', 'there', \"'s\", 'three', 'main', 'types', 'of', 'guitar', '.']\n",
      "итак , три основных вида гитар .\n",
      "['итак', ',', 'три', 'основных', 'вида', 'гитар', '.']\n",
      "\n"
     ]
    }
   ],
   "source": [
    "for i in range(3):\n",
    "    print(' '.join(train_data.examples[i].src))\n",
    "    print(train_data.examples[i].src)\n",
    "    print(' '.join(train_data.examples[i].trg))\n",
    "    print(train_data.examples[i].trg)\n",
    "    print()"
   ]
  },
  {
   "cell_type": "code",
   "execution_count": 25,
   "id": "356ba728",
   "metadata": {
    "execution": {
     "iopub.execute_input": "2022-04-15T08:44:57.694382Z",
     "iopub.status.busy": "2022-04-15T08:44:57.689382Z",
     "iopub.status.idle": "2022-04-15T08:45:00.290071Z",
     "shell.execute_reply": "2022-04-15T08:45:00.290658Z",
     "shell.execute_reply.started": "2022-04-15T08:03:05.496523Z"
    },
    "papermill": {
     "duration": 2.776225,
     "end_time": "2022-04-15T08:45:00.290870",
     "exception": false,
     "start_time": "2022-04-15T08:44:57.514645",
     "status": "completed"
    },
    "tags": []
   },
   "outputs": [
    {
     "name": "stdout",
     "output_type": "stream",
     "text": [
      "[('.', 204409), (',', 154737), ('the', 129751), ('and', 76528), ('to', 75095), ('of', 63377), ('a', 62329), ('i', 58706), ('you', 58073), ('that', 52193), ('it', 52148), ('is', 47532), ('in', 41463), (\"'s\", 40810), ('we', 39627), ('this', 34432), ('?', 29799), ('so', 26296), ('\"', 24318), ('do', 21085)]\n",
      "[(',', 226815), ('.', 205165), ('и', 67366), ('в', 59013), ('что', 49049), ('это', 45373), ('я', 44871), ('не', 38640), ('\"', 32921), ('-', 32753), ('?', 30073), ('на', 29555), ('мы', 28423), ('как', 20353), ('вы', 20210), ('с', 19256), ('то', 14914), ('но', 14691), ('!', 14394), ('так', 13998)]\n",
      "Первые 10 токенов: ['<unk>', '<pad>', '<sos>', '<eos>', '.', ',', 'the', 'and', 'to', 'of']\n",
      "Уникальные токены в словаре SRC (train): 31027\n",
      "Уникальные токены в словаре TRG (train): 71604\n"
     ]
    }
   ],
   "source": [
    "#.build_vocab - Construct the Vocab object for this field from one or more datasets.\n",
    "\n",
    "SRC.build_vocab(train_data, min_freq = 2)\n",
    "print(SRC.vocab.freqs.most_common(20))\n",
    "\n",
    "TRG.build_vocab(train_data, min_freq = 2)\n",
    "print(TRG.vocab.freqs.most_common(20))\n",
    "\n",
    "print(f\"Первые 10 токенов: {SRC.vocab.itos[:10]}\")\n",
    "\n",
    "print(f\"Уникальные токены в словаре SRC (train): {len(SRC.vocab)}\")\n",
    "print(f\"Уникальные токены в словаре TRG (train): {len(TRG.vocab)}\")"
   ]
  },
  {
   "cell_type": "code",
   "execution_count": 26,
   "id": "8e934a50",
   "metadata": {
    "execution": {
     "iopub.execute_input": "2022-04-15T08:45:00.576332Z",
     "iopub.status.busy": "2022-04-15T08:45:00.575623Z",
     "iopub.status.idle": "2022-04-15T08:45:00.578450Z",
     "shell.execute_reply": "2022-04-15T08:45:00.579027Z",
     "shell.execute_reply.started": "2022-04-14T12:05:21.025643Z"
    },
    "papermill": {
     "duration": 0.147577,
     "end_time": "2022-04-15T08:45:00.579201",
     "exception": false,
     "start_time": "2022-04-15T08:45:00.431624",
     "status": "completed"
    },
    "tags": []
   },
   "outputs": [
    {
     "name": "stdout",
     "output_type": "stream",
     "text": [
      "Размер обучающей выборки: 259396\n",
      "Размер валидационной выборки: 92642\n",
      "Размер тестовой выборки: 18529\n"
     ]
    }
   ],
   "source": [
    "print(f\"Размер обучающей выборки: {len(train_data.examples)}\")\n",
    "print(f\"Размер валидационной выборки: {len(valid_data.examples)}\")\n",
    "print(f\"Размер тестовой выборки: {len(test_data.examples)}\")"
   ]
  },
  {
   "cell_type": "code",
   "execution_count": 27,
   "id": "14f27bee",
   "metadata": {
    "execution": {
     "iopub.execute_input": "2022-04-15T08:45:00.915438Z",
     "iopub.status.busy": "2022-04-15T08:45:00.905836Z",
     "iopub.status.idle": "2022-04-15T08:45:02.876134Z",
     "shell.execute_reply": "2022-04-15T08:45:02.876543Z",
     "shell.execute_reply.started": "2022-04-14T12:05:21.036515Z"
    },
    "papermill": {
     "duration": 2.157254,
     "end_time": "2022-04-15T08:45:02.876695",
     "exception": false,
     "start_time": "2022-04-15T08:45:00.719441",
     "status": "completed"
    },
    "tags": []
   },
   "outputs": [
    {
     "name": "stdout",
     "output_type": "stream",
     "text": [
      "SRC:\n"
     ]
    },
    {
     "data": {
      "image/png": "[encoded data removed]",
      "text/plain": [
       "<Figure size 432x288 with 1 Axes>"
      ]
     },
     "metadata": {
      "needs_background": "light"
     },
     "output_type": "display_data"
    },
    {
     "name": "stdout",
     "output_type": "stream",
     "text": [
      "TRG:\n"
     ]
    },
    {
     "data": {
      "image/png": "[encoded data removed]",
      "text/plain": [
       "<Figure size 432x288 with 1 Axes>"
      ]
     },
     "metadata": {
      "needs_background": "light"
     },
     "output_type": "display_data"
    },
    {
     "name": "stdout",
     "output_type": "stream",
     "text": [
      "SRC:\n"
     ]
    },
    {
     "data": {
      "image/png": "[encoded data removed]",
      "text/plain": [
       "<Figure size 432x288 with 1 Axes>"
      ]
     },
     "metadata": {
      "needs_background": "light"
     },
     "output_type": "display_data"
    },
    {
     "name": "stdout",
     "output_type": "stream",
     "text": [
      "TRG:\n"
     ]
    },
    {
     "data": {
      "image/png": "[encoded data removed]",
      "text/plain": [
       "<Figure size 432x288 with 1 Axes>"
      ]
     },
     "metadata": {
      "needs_background": "light"
     },
     "output_type": "display_data"
    },
    {
     "name": "stdout",
     "output_type": "stream",
     "text": [
      "SRC:\n"
     ]
    },
    {
     "data": {
      "image/png": "[encoded data removed]",
      "text/plain": [
       "<Figure size 432x288 with 1 Axes>"
      ]
     },
     "metadata": {
      "needs_background": "light"
     },
     "output_type": "display_data"
    },
    {
     "name": "stdout",
     "output_type": "stream",
     "text": [
      "TRG:\n"
     ]
    },
    {
     "data": {
      "image/png": "[encoded data removed]",
      "text/plain": [
       "<Figure size 432x288 with 1 Axes>"
      ]
     },
     "metadata": {
      "needs_background": "light"
     },
     "output_type": "display_data"
    }
   ],
   "source": [
    "import pandas as pd\n",
    "import numpy as np\n",
    "import matplotlib.pyplot as plt\n",
    "\n",
    "for data in [train_data, valid_data, test_data]:\n",
    "    print(\"SRC:\")\n",
    "    pd.Series([len(example.src) for example in data.examples]).hist(bins=50)\n",
    "    plt.show()\n",
    "    print(\"TRG:\")\n",
    "    pd.Series([len(example.trg) for example in data.examples]).hist(bins=50)\n",
    "    plt.show()"
   ]
  },
  {
   "cell_type": "markdown",
   "id": "26c32700",
   "metadata": {
    "papermill": {
     "duration": 0.142621,
     "end_time": "2022-04-15T08:45:03.162203",
     "exception": false,
     "start_time": "2022-04-15T08:45:03.019582",
     "status": "completed"
    },
    "tags": []
   },
   "source": [
    "Finally, we define the device and the data iterator."
   ]
  },
  {
   "cell_type": "code",
   "execution_count": 28,
   "id": "90284032",
   "metadata": {
    "execution": {
     "iopub.execute_input": "2022-04-15T08:45:03.463538Z",
     "iopub.status.busy": "2022-04-15T08:45:03.462693Z",
     "iopub.status.idle": "2022-04-15T08:45:03.464590Z",
     "shell.execute_reply": "2022-04-15T08:45:03.465047Z",
     "shell.execute_reply.started": "2022-04-14T12:05:23.25668Z"
    },
    "papermill": {
     "duration": 0.154097,
     "end_time": "2022-04-15T08:45:03.465206",
     "exception": false,
     "start_time": "2022-04-15T08:45:03.311109",
     "status": "completed"
    },
    "tags": []
   },
   "outputs": [],
   "source": [
    "device = torch.device('cuda' if torch.cuda.is_available() else 'cpu')"
   ]
  },
  {
   "cell_type": "code",
   "execution_count": 29,
   "id": "01b42893",
   "metadata": {
    "execution": {
     "iopub.execute_input": "2022-04-15T08:45:03.762455Z",
     "iopub.status.busy": "2022-04-15T08:45:03.761556Z",
     "iopub.status.idle": "2022-04-15T08:45:03.763594Z",
     "shell.execute_reply": "2022-04-15T08:45:03.763974Z",
     "shell.execute_reply.started": "2022-04-14T12:05:23.272754Z"
    },
    "papermill": {
     "duration": 0.154482,
     "end_time": "2022-04-15T08:45:03.764113",
     "exception": false,
     "start_time": "2022-04-15T08:45:03.609631",
     "status": "completed"
    },
    "tags": []
   },
   "outputs": [],
   "source": [
    "#place of possible hyperparameters\n",
    "BATCH_SIZE = 128\n",
    "\n",
    "'''\n",
    "BucketIterator - Defines an iterator that batches examples of similar lengths together. (т.е. схожей длины, это суть выбора BucketIterator)\n",
    "Minimizes amount of padding needed while producing freshly shuffled batches for each new epoch. See pool for the bucketing procedure used.\n",
    "\n",
    "Итого, генерирует батчи тензоров равной длины (из индексов токенов), длина берется максимальная из примеров попавших в батч \n",
    "(если sort = True и/или sort_within_batch = True, то батчи формируются после предварительной сортировки по размеру), все примеры меньшей длины\n",
    "добиваются до необходимой через токен паддинга (<pad>, id=1)\n",
    "\n",
    "Судя по документации, sort_within_batch - отвечает только за необходимость сортировки внутри батчей, и не должен влиять на суть BucketIterator, \n",
    "а именно объединение в батчи на основе длины, но по факту влияет, если выставить False и не будет параметра sort = True, то примеры будут \n",
    "объединяться в батч рандомно, единственное, что дополнительно будет делать BucketIterator - это добивать до общей максимальной длины паддингами\n",
    "(что бы убрать неоднозначности, явно добавил еще и параметр sort = True)\n",
    "\n",
    "P.S. sort_within_batch нужно для упаковки PackedSequence, если батч не будет отсортирован по убыванию длины, то нужно при упаковке в \n",
    "PackedSequence, использовать параметр enforce_sorted = False (не изучал подробно на что это влияет)\n",
    "'''\n",
    "SORT_BY_SEQLENGTH = False\n",
    "\n",
    "if SORT_BY_SEQLENGTH:\n",
    "    #параметров sort = True, sort_within_batch = True, sort_key = lambda x : len(x.src), не было в данной реализации (добавил) из (seq2seq StackOvf)\n",
    "    train_iterator, valid_iterator, test_iterator = BucketIterator.splits(\n",
    "        (train_data, valid_data, test_data),\n",
    "         batch_size = BATCH_SIZE,\n",
    "         sort = True,\n",
    "         sort_within_batch = True,\n",
    "         sort_key = lambda x : len(x.src),\n",
    "         device = device)\n",
    "else:\n",
    "#без сортировки\n",
    "    train_iterator, valid_iterator, test_iterator = BucketIterator.splits(\n",
    "        (train_data, valid_data, test_data),\n",
    "         batch_size = BATCH_SIZE,\n",
    "         sort = False,\n",
    "         device = device)\n",
    "\n",
    "# for batch in test_iterator:\n",
    "#     print(batch.src.shape)\n",
    "# batch.src"
   ]
  },
  {
   "cell_type": "markdown",
   "id": "46d7b27d",
   "metadata": {
    "papermill": {
     "duration": 0.14619,
     "end_time": "2022-04-15T08:45:04.053968",
     "exception": false,
     "start_time": "2022-04-15T08:45:03.907778",
     "status": "completed"
    },
    "tags": []
   },
   "source": [
    "## Building the Model\n",
    "\n",
    "Next, we'll build the model. Like previous notebooks it is made up of an *encoder* and a *decoder*, with the encoder *encoding* the input/source sentence (in German) into *context vector* and the decoder then *decoding* this context vector to output our output/target sentence (in English). \n",
    "\n",
    "### Encoder\n",
    "\n",
    "Similar to the ConvSeq2Seq model, the Transformer's encoder does not attempt to compress the entire source sentence, $X = (x_1, ... ,x_n)$, into a single context vector, $z$. Instead it produces a sequence of context vectors, $Z = (z_1, ... , z_n)$. So, if our input sequence was 5 tokens long we would have $Z = (z_1, z_2, z_3, z_4, z_5)$. Why do we call this a sequence of context vectors and not a sequence of hidden states? A hidden state at time $t$ in an RNN has only seen tokens $x_t$ and all the tokens before it. However, each context vector here has seen all tokens at all positions within the input sequence.\n",
    "\n",
    "![](https://github.com/bentrevett/pytorch-seq2seq/raw/49df8404d938a6edbf729876405558cc2c2b3013//assets/transformer-encoder.png)\n",
    "\n",
    "First, the tokens are passed through a standard embedding layer. Next, as the model has no recurrent it has no idea about the order of the tokens within the sequence. We solve this by using a second embedding layer called a *positional embedding layer*. This is a standard embedding layer where the input is not the token itself but the position of the token within the sequence, starting with the first token, the `<sos>` (start of sequence) token, in position 0. The position embedding has a \"vocabulary\" size of 100, which means our model can accept sentences up to 100 tokens long. This can be increased if we want to handle longer sentences.\n",
    "\n",
    "The original Transformer implementation from the Attention is All You Need paper does not learn positional embeddings. Instead it uses a fixed static embedding. Modern Transformer architectures, like BERT, use positional embeddings instead, hence we have decided to use them in these tutorials. Check out [this](http://nlp.seas.harvard.edu/2018/04/03/attention.html#positional-encoding) section to read more about the positional embeddings used in the original Transformer model.\n",
    "\n",
    "Next, the token and positional embeddings are elementwise summed together to get a vector which contains information about the token and also its position with in the sequence. However, before they are summed, the token embeddings are multiplied by a scaling factor which is $\\sqrt{d_{model}}$, where $d_{model}$ is the hidden dimension size, `hid_dim`. This supposedly reduces variance in the embeddings and the model is difficult to train reliably without this scaling factor. Dropout is then applied to the combined embeddings.\n",
    "\n",
    "The combined embeddings are then passed through $N$ *encoder layers* to get $Z$, which is then output and can be used by the decoder.\n",
    "\n",
    "The source mask, `src_mask`, is simply the same shape as the source sentence but has a value of 1 when the token in the source sentence is not a `<pad>` token and 0 when it is a `<pad>` token. This is used in the encoder layers to mask the multi-head attention mechanisms, which are used to calculate and apply attention over the source sentence, so the model does not pay attention to `<pad>` tokens, which contain no useful information."
   ]
  },
  {
   "cell_type": "code",
   "execution_count": 30,
   "id": "24c1b466",
   "metadata": {
    "execution": {
     "iopub.execute_input": "2022-04-15T08:45:04.358407Z",
     "iopub.status.busy": "2022-04-15T08:45:04.357455Z",
     "iopub.status.idle": "2022-04-15T08:45:04.359194Z",
     "shell.execute_reply": "2022-04-15T08:45:04.360098Z",
     "shell.execute_reply.started": "2022-04-14T12:05:23.29613Z"
    },
    "papermill": {
     "duration": 0.161126,
     "end_time": "2022-04-15T08:45:04.360282",
     "exception": false,
     "start_time": "2022-04-15T08:45:04.199156",
     "status": "completed"
    },
    "tags": []
   },
   "outputs": [],
   "source": [
    "class Encoder(nn.Module):\n",
    "    def __init__(self, \n",
    "                 input_dim, \n",
    "                 hid_dim, \n",
    "                 n_layers, \n",
    "                 n_heads, \n",
    "                 pf_dim,\n",
    "                 dropout, \n",
    "                 device,\n",
    "                 max_length = 100):\n",
    "        super().__init__()\n",
    "\n",
    "        self.device = device\n",
    "        \n",
    "        self.tok_embedding = nn.Embedding(input_dim, hid_dim)\n",
    "        self.pos_embedding = nn.Embedding(max_length, hid_dim)\n",
    "        \n",
    "        self.layers = nn.ModuleList([EncoderLayer(hid_dim, \n",
    "                                                  n_heads, \n",
    "                                                  pf_dim,\n",
    "                                                  dropout, \n",
    "                                                  device) \n",
    "                                     for _ in range(n_layers)])\n",
    "        \n",
    "        self.dropout = nn.Dropout(dropout)\n",
    "        \n",
    "        self.scale = torch.sqrt(torch.FloatTensor([hid_dim])).to(device)\n",
    "        \n",
    "    def forward(self, src, src_mask):\n",
    "        \n",
    "        #src = [batch size, src len]\n",
    "        #src_mask = [batch size, 1, 1, src len]\n",
    "        \n",
    "        batch_size = src.shape[0]\n",
    "        src_len = src.shape[1]\n",
    "        \n",
    "        pos = torch.arange(0, src_len).unsqueeze(0).repeat(batch_size, 1).to(self.device)\n",
    "        \n",
    "        #pos = [batch size, src len]\n",
    "        \n",
    "        src = self.dropout((self.tok_embedding(src) * self.scale) + self.pos_embedding(pos))\n",
    "        \n",
    "        #src = [batch size, src len, hid dim]\n",
    "        \n",
    "        for layer in self.layers:\n",
    "            src = layer(src, src_mask)\n",
    "            \n",
    "        #src = [batch size, src len, hid dim]\n",
    "            \n",
    "        return src"
   ]
  },
  {
   "cell_type": "markdown",
   "id": "1095bd0b",
   "metadata": {
    "papermill": {
     "duration": 0.143579,
     "end_time": "2022-04-15T08:45:04.647157",
     "exception": false,
     "start_time": "2022-04-15T08:45:04.503578",
     "status": "completed"
    },
    "tags": []
   },
   "source": [
    "### Encoder Layer\n",
    "\n",
    "The encoder layers are where all of the \"meat\" of the encoder is contained. We first pass the source sentence and its mask into the *multi-head attention layer*, then perform dropout on it, apply a residual connection and pass it through a [Layer Normalization](https://arxiv.org/abs/1607.06450) layer. We then pass it through a *position-wise feedforward* layer and then, again, apply dropout, a residual connection and then layer normalization to get the output of this layer which is fed into the next layer. The parameters are not shared between layers. \n",
    "\n",
    "The mutli head attention layer is used by the encoder layer to attend to the source sentence, i.e. it is calculating and applying attention over itself instead of another sequence, hence we call it *self attention*.\n",
    "\n",
    "[This](https://mlexplained.com/2018/01/13/weight-normalization-and-layer-normalization-explained-normalization-in-deep-learning-part-2/) article goes into more detail about layer normalization, but the gist is that it normalizes the values of the features, i.e. across the hidden dimension, so each feature has a mean of 0 and a standard deviation of 1. This allows neural networks with a larger number of layers, like the Transformer, to be trained easier."
   ]
  },
  {
   "cell_type": "code",
   "execution_count": 31,
   "id": "5f2d5278",
   "metadata": {
    "execution": {
     "iopub.execute_input": "2022-04-15T08:45:04.946163Z",
     "iopub.status.busy": "2022-04-15T08:45:04.945236Z",
     "iopub.status.idle": "2022-04-15T08:45:04.947046Z",
     "shell.execute_reply": "2022-04-15T08:45:04.947549Z",
     "shell.execute_reply.started": "2022-04-14T12:05:23.323442Z"
    },
    "papermill": {
     "duration": 0.155323,
     "end_time": "2022-04-15T08:45:04.947683",
     "exception": false,
     "start_time": "2022-04-15T08:45:04.792360",
     "status": "completed"
    },
    "tags": []
   },
   "outputs": [],
   "source": [
    "class EncoderLayer(nn.Module):\n",
    "    def __init__(self, \n",
    "                 hid_dim, \n",
    "                 n_heads, \n",
    "                 pf_dim,  \n",
    "                 dropout, \n",
    "                 device):\n",
    "        super().__init__()\n",
    "        \n",
    "        self.self_attn_layer_norm = nn.LayerNorm(hid_dim)\n",
    "        self.ff_layer_norm = nn.LayerNorm(hid_dim)\n",
    "        self.self_attention = MultiHeadAttentionLayer(hid_dim, n_heads, dropout, device)\n",
    "        self.positionwise_feedforward = PositionwiseFeedforwardLayer(hid_dim, \n",
    "                                                                     pf_dim, \n",
    "                                                                     dropout)\n",
    "        self.dropout = nn.Dropout(dropout)\n",
    "        \n",
    "    def forward(self, src, src_mask):\n",
    "        \n",
    "        #src = [batch size, src len, hid dim]\n",
    "        #src_mask = [batch size, 1, 1, src len] \n",
    "                \n",
    "        #self attention\n",
    "        _src, _ = self.self_attention(src, src, src, src_mask)\n",
    "        \n",
    "        #dropout, residual connection and layer norm\n",
    "        src = self.self_attn_layer_norm(src + self.dropout(_src))\n",
    "        \n",
    "        #src = [batch size, src len, hid dim]\n",
    "        \n",
    "        #positionwise feedforward\n",
    "        _src = self.positionwise_feedforward(src)\n",
    "        \n",
    "        #dropout, residual and layer norm\n",
    "        src = self.ff_layer_norm(src + self.dropout(_src))\n",
    "        \n",
    "        #src = [batch size, src len, hid dim]\n",
    "        \n",
    "        return src"
   ]
  },
  {
   "cell_type": "markdown",
   "id": "80780cec",
   "metadata": {
    "papermill": {
     "duration": 0.233608,
     "end_time": "2022-04-15T08:45:05.325389",
     "exception": false,
     "start_time": "2022-04-15T08:45:05.091781",
     "status": "completed"
    },
    "tags": []
   },
   "source": [
    "### Mutli Head Attention Layer\n",
    "\n",
    "One of the key, novel concepts introduced by the Transformer paper is the *multi-head attention layer*. \n",
    "\n",
    "![](https://github.com/bentrevett/pytorch-seq2seq/raw/49df8404d938a6edbf729876405558cc2c2b3013//assets/transformer-attention.png)\n",
    "\n",
    "Attention can be though of as *queries*, *keys* and *values* - where the query is used with the key to get an attention vector (usually the output of a *softmax* operation and has all values between 0 and 1 which sum to 1) which is then used to get a weighted sum of the values.\n",
    "\n",
    "The Transformer uses *scaled dot-product attention*, where the query and key are combined by taking the dot product between them, then applying the softmax operation and scaling by $d_k$ before finally then multiplying by the value. $d_k$ is the *head dimension*, `head_dim`, which we will shortly explain further.\n",
    "\n",
    "$$ \\text{Attention}(Q, K, V) = \\text{Softmax} \\big( \\frac{QK^T}{\\sqrt{d_k}} \\big)V $$ \n",
    "\n",
    "This is similar to standard *dot product attention* but is scaled by $d_k$, which the paper states is used to stop the results of the dot products growing large, causing gradients to become too small.\n",
    "\n",
    "However, the scaled dot-product attention isn't simply applied to the queries, keys and values. Instead of doing a single attention application the queries, keys and values have their `hid_dim` split into $h$ *heads* and the scaled dot-product attention is calculated over all heads in parallel. This means instead of paying attention to one concept per attention application, we pay attention to $h$. We then re-combine the heads into their `hid_dim` shape, thus each `hid_dim` is potentially paying attention to $h$ different concepts.\n",
    "\n",
    "$$ \\text{MultiHead}(Q, K, V) = \\text{Concat}(\\text{head}_1,...,\\text{head}_h)W^O $$\n",
    "\n",
    "$$\\text{head}_i = \\text{Attention}(QW_i^Q, KW_i^K, VW_i^V) $$\n",
    "\n",
    "$W^O$ is the linear layer applied at the end of the multi-head attention layer, `fc`. $W^Q, W^K, W^V$ are the linear layers `fc_q`, `fc_k` and `fc_v`.\n",
    "\n",
    "Walking through the module, first we calculate $QW^Q$, $KW^K$ and $VW^V$ with the linear layers, `fc_q`, `fc_k` and `fc_v`, to give us `Q`, `K` and `V`. Next, we split the `hid_dim` of the query, key and value into `n_heads` using `.view` and correctly permute them so they can be multiplied together. We then calculate the `energy` (the un-normalized attention) by multiplying `Q` and `K` together and scaling it by the square root of `head_dim`, which is calulated as `hid_dim // n_heads`. We then mask the energy so we do not pay attention over any elements of the sequeuence we shouldn't, then apply the softmax and dropout. We then apply the attention to the value heads, `V`, before combining the `n_heads` together. Finally, we multiply this $W^O$, represented by `fc_o`. \n",
    "\n",
    "Note that in our implementation the lengths of the keys and values are always the same, thus when matrix multiplying the output of the softmax, `attention`, with `V` we will always have valid dimension sizes for matrix multiplication. This multiplication is carried out using `torch.matmul` which, when both tensors are >2-dimensional, does a batched matrix multiplication over the last two dimensions of each tensor. This will be a **[query len, key len] x [value len, head dim]** batched matrix multiplication over the batch size and each head which provides the **[batch size, n heads, query len, head dim]** result.\n",
    "\n",
    "One thing that looks strange at first is that dropout is applied directly to the attention. This means that our attention vector will most probably not sum to 1 and we may pay full attention to a token but the attention over that token is set to 0 by dropout. This is never explained, or even mentioned, in the paper however is used by the [official implementation](https://github.com/tensorflow/tensor2tensor/) and every Transformer implementation since, [including BERT](https://github.com/google-research/bert/)."
   ]
  },
  {
   "cell_type": "code",
   "execution_count": 32,
   "id": "1eeee198",
   "metadata": {
    "execution": {
     "iopub.execute_input": "2022-04-15T08:45:05.809782Z",
     "iopub.status.busy": "2022-04-15T08:45:05.808503Z",
     "iopub.status.idle": "2022-04-15T08:45:05.818132Z",
     "shell.execute_reply": "2022-04-15T08:45:05.817635Z",
     "shell.execute_reply.started": "2022-04-14T12:05:23.345607Z"
    },
    "papermill": {
     "duration": 0.252705,
     "end_time": "2022-04-15T08:45:05.818251",
     "exception": false,
     "start_time": "2022-04-15T08:45:05.565546",
     "status": "completed"
    },
    "tags": []
   },
   "outputs": [],
   "source": [
    "class MultiHeadAttentionLayer(nn.Module):\n",
    "    def __init__(self, hid_dim, n_heads, dropout, device):\n",
    "        super().__init__()\n",
    "        \n",
    "        assert hid_dim % n_heads == 0\n",
    "        \n",
    "        self.hid_dim = hid_dim\n",
    "        self.n_heads = n_heads\n",
    "        self.head_dim = hid_dim // n_heads\n",
    "        \n",
    "        self.fc_q = nn.Linear(hid_dim, hid_dim)\n",
    "        self.fc_k = nn.Linear(hid_dim, hid_dim)\n",
    "        self.fc_v = nn.Linear(hid_dim, hid_dim)\n",
    "        \n",
    "        self.fc_o = nn.Linear(hid_dim, hid_dim)\n",
    "        \n",
    "        self.dropout = nn.Dropout(dropout)\n",
    "        \n",
    "        self.scale = torch.sqrt(torch.FloatTensor([self.head_dim])).to(device)\n",
    "        \n",
    "    def forward(self, query, key, value, mask = None):\n",
    "        \n",
    "        batch_size = query.shape[0]\n",
    "        \n",
    "        #query = [batch size, query len, hid dim]\n",
    "        #key = [batch size, key len, hid dim]\n",
    "        #value = [batch size, value len, hid dim]\n",
    "                \n",
    "        Q = self.fc_q(query)\n",
    "        K = self.fc_k(key)\n",
    "        V = self.fc_v(value)\n",
    "        \n",
    "        #Q = [batch size, query len, hid dim]\n",
    "        #K = [batch size, key len, hid dim]\n",
    "        #V = [batch size, value len, hid dim]\n",
    "                \n",
    "        Q = Q.view(batch_size, -1, self.n_heads, self.head_dim).permute(0, 2, 1, 3)\n",
    "        K = K.view(batch_size, -1, self.n_heads, self.head_dim).permute(0, 2, 1, 3)\n",
    "        V = V.view(batch_size, -1, self.n_heads, self.head_dim).permute(0, 2, 1, 3)\n",
    "        \n",
    "        #Q = [batch size, n heads, query len, head dim]\n",
    "        #K = [batch size, n heads, key len, head dim]\n",
    "        #V = [batch size, n heads, value len, head dim]\n",
    "                \n",
    "        energy = torch.matmul(Q, K.permute(0, 1, 3, 2)) / self.scale\n",
    "        \n",
    "        #energy = [batch size, n heads, query len, key len]\n",
    "        \n",
    "        if mask is not None:\n",
    "            energy = energy.masked_fill(mask == 0, -1e10)\n",
    "        \n",
    "        attention = torch.softmax(energy, dim = -1)\n",
    "                \n",
    "        #attention = [batch size, n heads, query len, key len]\n",
    "                \n",
    "        x = torch.matmul(self.dropout(attention), V)\n",
    "        \n",
    "        #x = [batch size, n heads, query len, head dim]\n",
    "        \n",
    "        x = x.permute(0, 2, 1, 3).contiguous()\n",
    "        \n",
    "        #x = [batch size, query len, n heads, head dim]\n",
    "        \n",
    "        x = x.view(batch_size, -1, self.hid_dim)\n",
    "        \n",
    "        #x = [batch size, query len, hid dim]\n",
    "        \n",
    "        x = self.fc_o(x)\n",
    "        \n",
    "        #x = [batch size, query len, hid dim]\n",
    "        \n",
    "        return x, attention"
   ]
  },
  {
   "cell_type": "markdown",
   "id": "c7eafcf5",
   "metadata": {
    "papermill": {
     "duration": 0.159532,
     "end_time": "2022-04-15T08:45:06.137263",
     "exception": false,
     "start_time": "2022-04-15T08:45:05.977731",
     "status": "completed"
    },
    "tags": []
   },
   "source": [
    "### Position-wise Feedforward Layer\n",
    "\n",
    "The other main block inside the encoder layer is the *position-wise feedforward layer* This is relatively simple compared to the multi-head attention layer. The input is transformed from `hid_dim` to `pf_dim`, where `pf_dim` is usually a lot larger than `hid_dim`. The original Transformer used a `hid_dim` of 512 and a `pf_dim` of 2048. The ReLU activation function and dropout are applied before it is transformed back into a `hid_dim` representation. \n",
    "\n",
    "Why is this used? Unfortunately, it is never explained in the paper.\n",
    "\n",
    "BERT uses the [GELU](https://arxiv.org/abs/1606.08415) activation function, which can be used by simply switching `torch.relu` for `F.gelu`. Why did they use GELU? Again, it is never explained."
   ]
  },
  {
   "cell_type": "code",
   "execution_count": 33,
   "id": "da4face5",
   "metadata": {
    "execution": {
     "iopub.execute_input": "2022-04-15T08:45:06.470390Z",
     "iopub.status.busy": "2022-04-15T08:45:06.469471Z",
     "iopub.status.idle": "2022-04-15T08:45:06.471271Z",
     "shell.execute_reply": "2022-04-15T08:45:06.471723Z",
     "shell.execute_reply.started": "2022-04-14T12:05:23.37682Z"
    },
    "papermill": {
     "duration": 0.171157,
     "end_time": "2022-04-15T08:45:06.471859",
     "exception": false,
     "start_time": "2022-04-15T08:45:06.300702",
     "status": "completed"
    },
    "tags": []
   },
   "outputs": [],
   "source": [
    "class PositionwiseFeedforwardLayer(nn.Module):\n",
    "    def __init__(self, hid_dim, pf_dim, dropout):\n",
    "        super().__init__()\n",
    "        \n",
    "        self.fc_1 = nn.Linear(hid_dim, pf_dim)\n",
    "        self.fc_2 = nn.Linear(pf_dim, hid_dim)\n",
    "        \n",
    "        self.dropout = nn.Dropout(dropout)\n",
    "        \n",
    "    def forward(self, x):\n",
    "        \n",
    "        #x = [batch size, seq len, hid dim]\n",
    "        \n",
    "        x = self.dropout(torch.relu(self.fc_1(x)))\n",
    "        \n",
    "        #x = [batch size, seq len, pf dim]\n",
    "        \n",
    "        x = self.fc_2(x)\n",
    "        \n",
    "        #x = [batch size, seq len, hid dim]\n",
    "        \n",
    "        return x"
   ]
  },
  {
   "cell_type": "markdown",
   "id": "52a4cae3",
   "metadata": {
    "papermill": {
     "duration": 0.160328,
     "end_time": "2022-04-15T08:45:06.792744",
     "exception": false,
     "start_time": "2022-04-15T08:45:06.632416",
     "status": "completed"
    },
    "tags": []
   },
   "source": [
    "### Decoder\n",
    "\n",
    "The objective of the decoder is to take the encoded representation of the source sentence, $Z$, and convert it into predicted tokens in the target sentence, $\\hat{Y}$. We then compare $\\hat{Y}$ with the actual tokens in the target sentence, $Y$, to calculate our loss, which will be used to calculate the gradients of our parameters and then use our optimizer to update our weights in order to improve our predictions. \n",
    "\n",
    "![](https://github.com/bentrevett/pytorch-seq2seq/raw/49df8404d938a6edbf729876405558cc2c2b3013//assets/transformer-decoder.png)\n",
    "\n",
    "The decoder is similar to encoder, however it now has two multi-head attention layers. A *masked multi-head attention layer* over the target sequence, and a multi-head attention layer which uses the decoder representation as the query and the encoder representation as the key and value.\n",
    "\n",
    "The decoder uses positional embeddings and combines - via an elementwise sum - them with the scaled embedded target tokens, followed by dropout. Again, our positional encodings have a \"vocabulary\" of 100, which means they can accept sequences up to 100 tokens long. This can be increased if desired.\n",
    "\n",
    "The combined embeddings are then passed through the $N$ decoder layers, along with the encoded source, `enc_src`, and the source and target masks. Note that the number of layers in the encoder does not have to be equal to the number of layers in the decoder, even though they are both denoted by $N$.\n",
    "\n",
    "The decoder representation after the $N^{th}$ layer is then passed through a linear layer, `fc_out`. In PyTorch, the softmax operation is contained within our loss function, so we do not explicitly need to use a softmax layer here.\n",
    "\n",
    "As well as using the source mask, as we did in the encoder to prevent our model attending to `<pad>` tokens, we also use a target mask. This will be explained further in the `Seq2Seq` model which encapsulates both the encoder and decoder, but the gist of it is that it performs a similar operation as the decoder padding in the convolutional sequence-to-sequence model. As we are processing all of the target tokens at once in parallel we need a method of stopping the decoder from \"cheating\" by simply \"looking\" at what the next token in the target sequence is and outputting it. \n",
    "\n",
    "Our decoder layer also outputs the normalized attention values so we can later plot them to see what our model is actually paying attention to."
   ]
  },
  {
   "cell_type": "code",
   "execution_count": 34,
   "id": "65133179",
   "metadata": {
    "execution": {
     "iopub.execute_input": "2022-04-15T08:45:07.109794Z",
     "iopub.status.busy": "2022-04-15T08:45:07.108937Z",
     "iopub.status.idle": "2022-04-15T08:45:07.119631Z",
     "shell.execute_reply": "2022-04-15T08:45:07.120136Z",
     "shell.execute_reply.started": "2022-04-14T12:05:23.396323Z"
    },
    "papermill": {
     "duration": 0.167115,
     "end_time": "2022-04-15T08:45:07.120294",
     "exception": false,
     "start_time": "2022-04-15T08:45:06.953179",
     "status": "completed"
    },
    "tags": []
   },
   "outputs": [],
   "source": [
    "class Decoder(nn.Module):\n",
    "    def __init__(self, \n",
    "                 output_dim, \n",
    "                 hid_dim, \n",
    "                 n_layers, \n",
    "                 n_heads, \n",
    "                 pf_dim, \n",
    "                 dropout, \n",
    "                 device,\n",
    "                 max_length = 100):\n",
    "        super().__init__()\n",
    "        \n",
    "        self.device = device\n",
    "        \n",
    "        self.tok_embedding = nn.Embedding(output_dim, hid_dim)\n",
    "        self.pos_embedding = nn.Embedding(max_length, hid_dim)\n",
    "        \n",
    "        self.layers = nn.ModuleList([DecoderLayer(hid_dim, \n",
    "                                                  n_heads, \n",
    "                                                  pf_dim, \n",
    "                                                  dropout, \n",
    "                                                  device)\n",
    "                                     for _ in range(n_layers)])\n",
    "        \n",
    "        self.fc_out = nn.Linear(hid_dim, output_dim)\n",
    "        \n",
    "        self.dropout = nn.Dropout(dropout)\n",
    "        \n",
    "        self.scale = torch.sqrt(torch.FloatTensor([hid_dim])).to(device)\n",
    "        \n",
    "    def forward(self, trg, enc_src, trg_mask, src_mask):\n",
    "        \n",
    "        #trg = [batch size, trg len]\n",
    "        #enc_src = [batch size, src len, hid dim]\n",
    "        #trg_mask = [batch size, 1, trg len, trg len]\n",
    "        #src_mask = [batch size, 1, 1, src len]\n",
    "                \n",
    "        batch_size = trg.shape[0]\n",
    "        trg_len = trg.shape[1]\n",
    "        \n",
    "        pos = torch.arange(0, trg_len).unsqueeze(0).repeat(batch_size, 1).to(self.device)\n",
    "                            \n",
    "        #pos = [batch size, trg len]\n",
    "            \n",
    "        trg = self.dropout((self.tok_embedding(trg) * self.scale) + self.pos_embedding(pos))\n",
    "                \n",
    "        #trg = [batch size, trg len, hid dim]\n",
    "        \n",
    "        for layer in self.layers:\n",
    "            trg, attention = layer(trg, enc_src, trg_mask, src_mask)\n",
    "        \n",
    "        #trg = [batch size, trg len, hid dim]\n",
    "        #attention = [batch size, n heads, trg len, src len]\n",
    "        \n",
    "        output = self.fc_out(trg)\n",
    "        \n",
    "        #output = [batch size, trg len, output dim]\n",
    "            \n",
    "        return output, attention"
   ]
  },
  {
   "cell_type": "markdown",
   "id": "7d37fe72",
   "metadata": {
    "papermill": {
     "duration": 0.150253,
     "end_time": "2022-04-15T08:45:07.422517",
     "exception": false,
     "start_time": "2022-04-15T08:45:07.272264",
     "status": "completed"
    },
    "tags": []
   },
   "source": [
    "### Decoder Layer\n",
    "\n",
    "As mentioned previously, the decoder layer is similar to the encoder layer except that it now has two multi-head attention layers, `self_attention` and `encoder_attention`. \n",
    "\n",
    "The first performs self-attention, as in the encoder, by using the decoder representation so far as the query, key and value. This is followed by dropout, residual connection and layer normalization. This `self_attention` layer uses the target sequence mask, `trg_mask`, in order to prevent the decoder from \"cheating\" by paying attention to tokens that are \"ahead\" of the one it is currently processing as it processes all tokens in the target sentence in parallel.\n",
    "\n",
    "The second is how we actually feed the encoded source sentence, `enc_src`, into our decoder. In this multi-head attention layer the queries are the decoder representations and the keys and values are the encoder representations. Here, the source mask, `src_mask` is used to prevent the multi-head attention layer from attending to `<pad>` tokens within the source sentence. This is then followed by the dropout, residual connection and layer normalization layers. \n",
    "\n",
    "Finally, we pass this through the position-wise feedforward layer and yet another sequence of dropout, residual connection and layer normalization.\n",
    "\n",
    "The decoder layer isn't introducing any new concepts, just using the same set of layers as the encoder in a slightly different way."
   ]
  },
  {
   "cell_type": "code",
   "execution_count": 35,
   "id": "e73d1e40",
   "metadata": {
    "execution": {
     "iopub.execute_input": "2022-04-15T08:45:07.722276Z",
     "iopub.status.busy": "2022-04-15T08:45:07.721360Z",
     "iopub.status.idle": "2022-04-15T08:45:07.723154Z",
     "shell.execute_reply": "2022-04-15T08:45:07.723650Z",
     "shell.execute_reply.started": "2022-04-14T12:05:23.423251Z"
    },
    "papermill": {
     "duration": 0.155666,
     "end_time": "2022-04-15T08:45:07.723782",
     "exception": false,
     "start_time": "2022-04-15T08:45:07.568116",
     "status": "completed"
    },
    "tags": []
   },
   "outputs": [],
   "source": [
    "class DecoderLayer(nn.Module):\n",
    "    def __init__(self, \n",
    "                 hid_dim, \n",
    "                 n_heads, \n",
    "                 pf_dim, \n",
    "                 dropout, \n",
    "                 device):\n",
    "        super().__init__()\n",
    "        \n",
    "        self.self_attn_layer_norm = nn.LayerNorm(hid_dim)\n",
    "        self.enc_attn_layer_norm = nn.LayerNorm(hid_dim)\n",
    "        self.ff_layer_norm = nn.LayerNorm(hid_dim)\n",
    "        self.self_attention = MultiHeadAttentionLayer(hid_dim, n_heads, dropout, device)\n",
    "        self.encoder_attention = MultiHeadAttentionLayer(hid_dim, n_heads, dropout, device)\n",
    "        self.positionwise_feedforward = PositionwiseFeedforwardLayer(hid_dim, \n",
    "                                                                     pf_dim, \n",
    "                                                                     dropout)\n",
    "        self.dropout = nn.Dropout(dropout)\n",
    "        \n",
    "    def forward(self, trg, enc_src, trg_mask, src_mask):\n",
    "        \n",
    "        #trg = [batch size, trg len, hid dim]\n",
    "        #enc_src = [batch size, src len, hid dim]\n",
    "        #trg_mask = [batch size, 1, trg len, trg len]\n",
    "        #src_mask = [batch size, 1, 1, src len]\n",
    "        \n",
    "        #self attention\n",
    "        _trg, _ = self.self_attention(trg, trg, trg, trg_mask)\n",
    "        \n",
    "        #dropout, residual connection and layer norm\n",
    "        trg = self.self_attn_layer_norm(trg + self.dropout(_trg))\n",
    "            \n",
    "        #trg = [batch size, trg len, hid dim]\n",
    "            \n",
    "        #encoder attention\n",
    "        _trg, attention = self.encoder_attention(trg, enc_src, enc_src, src_mask)\n",
    "        \n",
    "        #dropout, residual connection and layer norm\n",
    "        trg = self.enc_attn_layer_norm(trg + self.dropout(_trg))\n",
    "                    \n",
    "        #trg = [batch size, trg len, hid dim]\n",
    "        \n",
    "        #positionwise feedforward\n",
    "        _trg = self.positionwise_feedforward(trg)\n",
    "        \n",
    "        #dropout, residual and layer norm\n",
    "        trg = self.ff_layer_norm(trg + self.dropout(_trg))\n",
    "        \n",
    "        #trg = [batch size, trg len, hid dim]\n",
    "        #attention = [batch size, n heads, trg len, src len]\n",
    "        \n",
    "        return trg, attention"
   ]
  },
  {
   "cell_type": "markdown",
   "id": "2b3c01d9",
   "metadata": {
    "papermill": {
     "duration": 0.14291,
     "end_time": "2022-04-15T08:45:08.010266",
     "exception": false,
     "start_time": "2022-04-15T08:45:07.867356",
     "status": "completed"
    },
    "tags": []
   },
   "source": [
    "### Seq2Seq\n",
    "\n",
    "Finally, we have the `Seq2Seq` module which encapsulates the encoder and decoder, as well as handling the creation of the masks.\n",
    "\n",
    "The source mask is created by checking where the source sequence is not equal to a `<pad>` token. It is 1 where the token is not a `<pad>` token and 0 when it is. It is then unsqueezed so it can be correctly broadcast when applying the mask to the `energy`, which of shape **_[batch size, n heads, seq len, seq len]_**.\n",
    "\n",
    "The target mask is slightly more complicated. First, we create a mask for the `<pad>` tokens, as we did for the source mask. Next, we create a \"subsequent\" mask, `trg_sub_mask`, using `torch.tril`. This creates a diagonal matrix where the elements above the diagonal will be zero and the elements below the diagonal will be set to whatever the input tensor is. In this case, the input tensor will be a tensor filled with ones. So this means our `trg_sub_mask` will look something like this (for a target with 5 tokens):\n",
    "\n",
    "$$\\begin{matrix}\n",
    "1 & 0 & 0 & 0 & 0\\\\\n",
    "1 & 1 & 0 & 0 & 0\\\\\n",
    "1 & 1 & 1 & 0 & 0\\\\\n",
    "1 & 1 & 1 & 1 & 0\\\\\n",
    "1 & 1 & 1 & 1 & 1\\\\\n",
    "\\end{matrix}$$\n",
    "\n",
    "This shows what each target token (row) is allowed to look at (column). The first target token has a mask of **_[1, 0, 0, 0, 0]_** which means it can only look at the first target token. The second target token has a mask of **_[1, 1, 0, 0, 0]_** which it means it can look at both the first and second target tokens. \n",
    "\n",
    "The \"subsequent\" mask is then logically anded with the padding mask, this combines the two masks ensuring both the subsequent tokens and the padding tokens cannot be attended to. For example if the last two tokens were `<pad>` tokens the mask would look like:\n",
    "\n",
    "$$\\begin{matrix}\n",
    "1 & 0 & 0 & 0 & 0\\\\\n",
    "1 & 1 & 0 & 0 & 0\\\\\n",
    "1 & 1 & 1 & 0 & 0\\\\\n",
    "1 & 1 & 1 & 0 & 0\\\\\n",
    "1 & 1 & 1 & 0 & 0\\\\\n",
    "\\end{matrix}$$\n",
    "\n",
    "After the masks are created, they used with the encoder and decoder along with the source and target sentences to get our predicted target sentence, `output`, along with the decoder's attention over the source sequence."
   ]
  },
  {
   "cell_type": "code",
   "execution_count": 36,
   "id": "e40ee05a",
   "metadata": {
    "execution": {
     "iopub.execute_input": "2022-04-15T08:45:08.314820Z",
     "iopub.status.busy": "2022-04-15T08:45:08.313864Z",
     "iopub.status.idle": "2022-04-15T08:45:08.316190Z",
     "shell.execute_reply": "2022-04-15T08:45:08.316637Z",
     "shell.execute_reply.started": "2022-04-14T12:05:23.448704Z"
    },
    "papermill": {
     "duration": 0.163047,
     "end_time": "2022-04-15T08:45:08.316776",
     "exception": false,
     "start_time": "2022-04-15T08:45:08.153729",
     "status": "completed"
    },
    "tags": []
   },
   "outputs": [],
   "source": [
    "class Seq2Seq(nn.Module):\n",
    "    def __init__(self, \n",
    "                 encoder, \n",
    "                 decoder, \n",
    "                 src_pad_idx, \n",
    "                 trg_pad_idx, \n",
    "                 device):\n",
    "        super().__init__()\n",
    "        \n",
    "        self.encoder = encoder\n",
    "        self.decoder = decoder\n",
    "        self.src_pad_idx = src_pad_idx\n",
    "        self.trg_pad_idx = trg_pad_idx\n",
    "        self.device = device\n",
    "        \n",
    "    def make_src_mask(self, src):\n",
    "        \n",
    "        #src = [batch size, src len]\n",
    "        \n",
    "        src_mask = (src != self.src_pad_idx).unsqueeze(1).unsqueeze(2)\n",
    "\n",
    "        #src_mask = [batch size, 1, 1, src len]\n",
    "\n",
    "        return src_mask\n",
    "    \n",
    "    def make_trg_mask(self, trg):\n",
    "        \n",
    "        #trg = [batch size, trg len]\n",
    "        \n",
    "        trg_pad_mask = (trg != self.trg_pad_idx).unsqueeze(1).unsqueeze(2)\n",
    "        \n",
    "        #trg_pad_mask = [batch size, 1, 1, trg len]\n",
    "        \n",
    "        trg_len = trg.shape[1]\n",
    "        \n",
    "        trg_sub_mask = torch.tril(torch.ones((trg_len, trg_len), device = self.device)).bool()\n",
    "        \n",
    "        #trg_sub_mask = [trg len, trg len]\n",
    "            \n",
    "        trg_mask = trg_pad_mask & trg_sub_mask\n",
    "        \n",
    "        #trg_mask = [batch size, 1, trg len, trg len]\n",
    "        \n",
    "        return trg_mask\n",
    "\n",
    "    def forward(self, src, trg):\n",
    "        \n",
    "        #src = [batch size, src len]\n",
    "        #trg = [batch size, trg len]\n",
    "                \n",
    "        src_mask = self.make_src_mask(src)\n",
    "        trg_mask = self.make_trg_mask(trg)\n",
    "        \n",
    "        #src_mask = [batch size, 1, 1, src len]\n",
    "        #trg_mask = [batch size, 1, trg len, trg len]\n",
    "        \n",
    "        enc_src = self.encoder(src, src_mask)\n",
    "        \n",
    "        #enc_src = [batch size, src len, hid dim]\n",
    "                \n",
    "        output, attention = self.decoder(trg, enc_src, trg_mask, src_mask)\n",
    "        \n",
    "        #output = [batch size, trg len, output dim]\n",
    "        #attention = [batch size, n heads, trg len, src len]\n",
    "        \n",
    "        return output, attention"
   ]
  },
  {
   "cell_type": "markdown",
   "id": "cd1bb2d2",
   "metadata": {
    "papermill": {
     "duration": 0.144734,
     "end_time": "2022-04-15T08:45:08.606866",
     "exception": false,
     "start_time": "2022-04-15T08:45:08.462132",
     "status": "completed"
    },
    "tags": []
   },
   "source": [
    "## Training the Seq2Seq Model\n",
    "\n",
    "We can now define our encoder and decoders. This model is significantly smaller than Transformers used in research today, but is able to be run on a single GPU quickly."
   ]
  },
  {
   "cell_type": "code",
   "execution_count": 37,
   "id": "6ce37129",
   "metadata": {
    "execution": {
     "iopub.execute_input": "2022-04-15T08:45:08.903073Z",
     "iopub.status.busy": "2022-04-15T08:45:08.902412Z",
     "iopub.status.idle": "2022-04-15T08:45:15.883650Z",
     "shell.execute_reply": "2022-04-15T08:45:15.882734Z",
     "shell.execute_reply.started": "2022-04-14T12:05:23.472454Z"
    },
    "papermill": {
     "duration": 7.133694,
     "end_time": "2022-04-15T08:45:15.883791",
     "exception": false,
     "start_time": "2022-04-15T08:45:08.750097",
     "status": "completed"
    },
    "tags": []
   },
   "outputs": [],
   "source": [
    "INPUT_DIM = len(SRC.vocab)\n",
    "OUTPUT_DIM = len(TRG.vocab)\n",
    "HID_DIM = 256\n",
    "ENC_LAYERS = 3\n",
    "DEC_LAYERS = 3\n",
    "ENC_HEADS = 8\n",
    "DEC_HEADS = 8\n",
    "ENC_PF_DIM = 512\n",
    "DEC_PF_DIM = 512\n",
    "ENC_DROPOUT = 0.1\n",
    "DEC_DROPOUT = 0.1\n",
    "\n",
    "enc = Encoder(INPUT_DIM, \n",
    "              HID_DIM, \n",
    "              ENC_LAYERS, \n",
    "              ENC_HEADS, \n",
    "              ENC_PF_DIM, \n",
    "              ENC_DROPOUT, \n",
    "              device)\n",
    "\n",
    "dec = Decoder(OUTPUT_DIM, \n",
    "              HID_DIM, \n",
    "              DEC_LAYERS, \n",
    "              DEC_HEADS, \n",
    "              DEC_PF_DIM, \n",
    "              DEC_DROPOUT, \n",
    "              device)"
   ]
  },
  {
   "cell_type": "markdown",
   "id": "069f706a",
   "metadata": {
    "papermill": {
     "duration": 0.175649,
     "end_time": "2022-04-15T08:45:16.207313",
     "exception": false,
     "start_time": "2022-04-15T08:45:16.031664",
     "status": "completed"
    },
    "tags": []
   },
   "source": [
    "Then, use them to define our whole sequence-to-sequence encapsulating model."
   ]
  },
  {
   "cell_type": "code",
   "execution_count": 38,
   "id": "8c6433eb",
   "metadata": {
    "execution": {
     "iopub.execute_input": "2022-04-15T08:45:16.759450Z",
     "iopub.status.busy": "2022-04-15T08:45:16.758185Z",
     "iopub.status.idle": "2022-04-15T08:45:16.819954Z",
     "shell.execute_reply": "2022-04-15T08:45:16.819417Z",
     "shell.execute_reply.started": "2022-04-14T12:05:31.153863Z"
    },
    "papermill": {
     "duration": 0.329224,
     "end_time": "2022-04-15T08:45:16.820101",
     "exception": false,
     "start_time": "2022-04-15T08:45:16.490877",
     "status": "completed"
    },
    "tags": []
   },
   "outputs": [],
   "source": [
    "SRC_PAD_IDX = SRC.vocab.stoi[SRC.pad_token]\n",
    "TRG_PAD_IDX = TRG.vocab.stoi[TRG.pad_token]\n",
    "\n",
    "model = Seq2Seq(enc, dec, SRC_PAD_IDX, TRG_PAD_IDX, device).to(device)"
   ]
  },
  {
   "cell_type": "markdown",
   "id": "58ab7c37",
   "metadata": {
    "papermill": {
     "duration": 0.14622,
     "end_time": "2022-04-15T08:45:17.118115",
     "exception": false,
     "start_time": "2022-04-15T08:45:16.971895",
     "status": "completed"
    },
    "tags": []
   },
   "source": [
    "We can check the number of parameters, noticing it is significantly less than the 37M for the convolutional sequence-to-sequence model."
   ]
  },
  {
   "cell_type": "code",
   "execution_count": 39,
   "id": "e7f81f18",
   "metadata": {
    "execution": {
     "iopub.execute_input": "2022-04-15T08:45:17.414003Z",
     "iopub.status.busy": "2022-04-15T08:45:17.413372Z",
     "iopub.status.idle": "2022-04-15T08:45:17.416114Z",
     "shell.execute_reply": "2022-04-15T08:45:17.416542Z",
     "shell.execute_reply.started": "2022-04-14T12:05:31.2059Z"
    },
    "papermill": {
     "duration": 0.15333,
     "end_time": "2022-04-15T08:45:17.416674",
     "exception": false,
     "start_time": "2022-04-15T08:45:17.263344",
     "status": "completed"
    },
    "tags": []
   },
   "outputs": [
    {
     "name": "stdout",
     "output_type": "stream",
     "text": [
      "The model has 48,680,628 trainable parameters\n"
     ]
    }
   ],
   "source": [
    "def count_parameters(model):\n",
    "    return sum(p.numel() for p in model.parameters() if p.requires_grad)\n",
    "\n",
    "print(f'The model has {count_parameters(model):,} trainable parameters')"
   ]
  },
  {
   "cell_type": "markdown",
   "id": "8f2e1f1d",
   "metadata": {
    "papermill": {
     "duration": 0.143124,
     "end_time": "2022-04-15T08:45:17.702078",
     "exception": false,
     "start_time": "2022-04-15T08:45:17.558954",
     "status": "completed"
    },
    "tags": []
   },
   "source": [
    "The paper does not mention which weight initialization scheme was used, however Xavier uniform seems to be common amongst Transformer models, so we use it here."
   ]
  },
  {
   "cell_type": "code",
   "execution_count": 40,
   "id": "64e2c516",
   "metadata": {
    "execution": {
     "iopub.execute_input": "2022-04-15T08:45:17.995363Z",
     "iopub.status.busy": "2022-04-15T08:45:17.994648Z",
     "iopub.status.idle": "2022-04-15T08:45:17.997240Z",
     "shell.execute_reply": "2022-04-15T08:45:17.996801Z",
     "shell.execute_reply.started": "2022-04-14T12:05:31.214019Z"
    },
    "papermill": {
     "duration": 0.152709,
     "end_time": "2022-04-15T08:45:17.997360",
     "exception": false,
     "start_time": "2022-04-15T08:45:17.844651",
     "status": "completed"
    },
    "tags": []
   },
   "outputs": [],
   "source": [
    "def initialize_weights(m):\n",
    "    if hasattr(m, 'weight') and m.weight.dim() > 1:\n",
    "        nn.init.xavier_uniform_(m.weight.data)"
   ]
  },
  {
   "cell_type": "code",
   "execution_count": 41,
   "id": "49c0d575",
   "metadata": {
    "execution": {
     "iopub.execute_input": "2022-04-15T08:45:18.290734Z",
     "iopub.status.busy": "2022-04-15T08:45:18.289896Z",
     "iopub.status.idle": "2022-04-15T08:45:18.294849Z",
     "shell.execute_reply": "2022-04-15T08:45:18.295331Z",
     "shell.execute_reply.started": "2022-04-14T12:05:31.222789Z"
    },
    "papermill": {
     "duration": 0.154195,
     "end_time": "2022-04-15T08:45:18.295470",
     "exception": false,
     "start_time": "2022-04-15T08:45:18.141275",
     "status": "completed"
    },
    "tags": []
   },
   "outputs": [],
   "source": [
    "model.apply(initialize_weights);"
   ]
  },
  {
   "cell_type": "markdown",
   "id": "9088fc94",
   "metadata": {
    "papermill": {
     "duration": 0.145361,
     "end_time": "2022-04-15T08:45:18.584393",
     "exception": false,
     "start_time": "2022-04-15T08:45:18.439032",
     "status": "completed"
    },
    "tags": []
   },
   "source": [
    "The optimizer used in the original Transformer paper uses Adam with a learning rate that has a \"warm-up\" and then a \"cool-down\" period. BERT and other Transformer models use Adam with a fixed learning rate, so we will implement that. Check [this](http://nlp.seas.harvard.edu/2018/04/03/attention.html#optimizer) link for more details about the original Transformer's learning rate schedule.\n",
    "\n",
    "Note that the learning rate needs to be lower than the default used by Adam or else learning is unstable."
   ]
  },
  {
   "cell_type": "code",
   "execution_count": 42,
   "id": "e1d45ca7",
   "metadata": {
    "execution": {
     "iopub.execute_input": "2022-04-15T08:45:18.879086Z",
     "iopub.status.busy": "2022-04-15T08:45:18.878207Z",
     "iopub.status.idle": "2022-04-15T08:45:18.880002Z",
     "shell.execute_reply": "2022-04-15T08:45:18.880509Z",
     "shell.execute_reply.started": "2022-04-14T12:05:31.233987Z"
    },
    "papermill": {
     "duration": 0.151798,
     "end_time": "2022-04-15T08:45:18.880669",
     "exception": false,
     "start_time": "2022-04-15T08:45:18.728871",
     "status": "completed"
    },
    "tags": []
   },
   "outputs": [],
   "source": [
    "LEARNING_RATE = 0.0005\n",
    "\n",
    "optimizer = torch.optim.Adam(model.parameters(), lr = LEARNING_RATE)"
   ]
  },
  {
   "cell_type": "markdown",
   "id": "5ec6edd3",
   "metadata": {
    "papermill": {
     "duration": 0.143949,
     "end_time": "2022-04-15T08:45:19.170922",
     "exception": false,
     "start_time": "2022-04-15T08:45:19.026973",
     "status": "completed"
    },
    "tags": []
   },
   "source": [
    "Next, we define our loss function, making sure to ignore losses calculated over `<pad>` tokens."
   ]
  },
  {
   "cell_type": "code",
   "execution_count": 43,
   "id": "1270b30f",
   "metadata": {
    "execution": {
     "iopub.execute_input": "2022-04-15T08:45:19.462556Z",
     "iopub.status.busy": "2022-04-15T08:45:19.461723Z",
     "iopub.status.idle": "2022-04-15T08:45:19.463559Z",
     "shell.execute_reply": "2022-04-15T08:45:19.463973Z",
     "shell.execute_reply.started": "2022-04-14T12:05:31.241152Z"
    },
    "papermill": {
     "duration": 0.149955,
     "end_time": "2022-04-15T08:45:19.464104",
     "exception": false,
     "start_time": "2022-04-15T08:45:19.314149",
     "status": "completed"
    },
    "tags": []
   },
   "outputs": [],
   "source": [
    "criterion = nn.CrossEntropyLoss(ignore_index = TRG_PAD_IDX)"
   ]
  },
  {
   "cell_type": "markdown",
   "id": "2de22116",
   "metadata": {
    "papermill": {
     "duration": 0.143118,
     "end_time": "2022-04-15T08:45:19.750343",
     "exception": false,
     "start_time": "2022-04-15T08:45:19.607225",
     "status": "completed"
    },
    "tags": []
   },
   "source": [
    "Then, we'll define our training loop. This is the exact same as the one used in the previous tutorial.\n",
    "\n",
    "As we want our model to predict the `<eos>` token but not have it be an input into our model we simply slice the `<eos>` token off the end of the sequence. Thus:\n",
    "\n",
    "$$\\begin{align*}\n",
    "\\text{trg} &= [sos, x_1, x_2, x_3, eos]\\\\\n",
    "\\text{trg[:-1]} &= [sos, x_1, x_2, x_3]\n",
    "\\end{align*}$$\n",
    "\n",
    "$x_i$ denotes actual target sequence element. We then feed this into the model to get a predicted sequence that should hopefully predict the `<eos>` token:\n",
    "\n",
    "$$\\begin{align*}\n",
    "\\text{output} &= [y_1, y_2, y_3, eos]\n",
    "\\end{align*}$$\n",
    "\n",
    "$y_i$ denotes predicted target sequence element. We then calculate our loss using the original `trg` tensor with the `<sos>` token sliced off the front, leaving the `<eos>` token:\n",
    "\n",
    "$$\\begin{align*}\n",
    "\\text{output} &= [y_1, y_2, y_3, eos]\\\\\n",
    "\\text{trg[1:]} &= [x_1, x_2, x_3, eos]\n",
    "\\end{align*}$$\n",
    "\n",
    "We then calculate our losses and update our parameters as is standard."
   ]
  },
  {
   "cell_type": "code",
   "execution_count": 44,
   "id": "5c17870c",
   "metadata": {
    "execution": {
     "iopub.execute_input": "2022-04-15T08:45:20.047298Z",
     "iopub.status.busy": "2022-04-15T08:45:20.046429Z",
     "iopub.status.idle": "2022-04-15T08:45:20.048217Z",
     "shell.execute_reply": "2022-04-15T08:45:20.048713Z",
     "shell.execute_reply.started": "2022-04-14T12:05:31.250285Z"
    },
    "papermill": {
     "duration": 0.155158,
     "end_time": "2022-04-15T08:45:20.048844",
     "exception": false,
     "start_time": "2022-04-15T08:45:19.893686",
     "status": "completed"
    },
    "tags": []
   },
   "outputs": [],
   "source": [
    "def train(model, iterator, optimizer, criterion, clip):\n",
    "    '''\n",
    "    Upd:\n",
    "        - add return max norm gradient before clip\n",
    "    '''\n",
    "    \n",
    "    model.train()\n",
    "    \n",
    "    epoch_loss = 0\n",
    "    \n",
    "    max_grad_norm = 0.0\n",
    "    \n",
    "    for i, batch in enumerate(iterator):\n",
    "        \n",
    "        src = batch.src\n",
    "        trg = batch.trg\n",
    "        \n",
    "        optimizer.zero_grad()\n",
    "        \n",
    "        output, _ = model(src, trg[:,:-1])\n",
    "                \n",
    "        #output = [batch size, trg len - 1, output dim]\n",
    "        #trg = [batch size, trg len]\n",
    "            \n",
    "        output_dim = output.shape[-1]\n",
    "            \n",
    "        output = output.contiguous().view(-1, output_dim)\n",
    "        trg = trg[:,1:].contiguous().view(-1)\n",
    "                \n",
    "        #output = [batch size * trg len - 1, output dim]\n",
    "        #trg = [batch size * trg len - 1]\n",
    "            \n",
    "        loss = criterion(output, trg)\n",
    "        \n",
    "        loss.backward()\n",
    "        \n",
    "        curr_grad_norm = torch.nn.utils.clip_grad_norm_(model.parameters(), clip)\n",
    "        \n",
    "        max_grad_norm = max(max_grad_norm, curr_grad_norm)\n",
    "        \n",
    "        optimizer.step()\n",
    "        \n",
    "        epoch_loss += loss.item()\n",
    "        \n",
    "    return epoch_loss / len(iterator), max_grad_norm"
   ]
  },
  {
   "cell_type": "markdown",
   "id": "893a7413",
   "metadata": {
    "papermill": {
     "duration": 0.143132,
     "end_time": "2022-04-15T08:45:20.334767",
     "exception": false,
     "start_time": "2022-04-15T08:45:20.191635",
     "status": "completed"
    },
    "tags": []
   },
   "source": [
    "The evaluation loop is the same as the training loop, just without the gradient calculations and parameter updates."
   ]
  },
  {
   "cell_type": "code",
   "execution_count": 45,
   "id": "116adaea",
   "metadata": {
    "execution": {
     "iopub.execute_input": "2022-04-15T08:45:20.634282Z",
     "iopub.status.busy": "2022-04-15T08:45:20.633413Z",
     "iopub.status.idle": "2022-04-15T08:45:20.635205Z",
     "shell.execute_reply": "2022-04-15T08:45:20.635650Z",
     "shell.execute_reply.started": "2022-04-14T12:05:31.262286Z"
    },
    "papermill": {
     "duration": 0.154872,
     "end_time": "2022-04-15T08:45:20.635782",
     "exception": false,
     "start_time": "2022-04-15T08:45:20.480910",
     "status": "completed"
    },
    "tags": []
   },
   "outputs": [],
   "source": [
    "def evaluate(model, iterator, criterion):\n",
    "    \n",
    "    model.eval()\n",
    "    \n",
    "    epoch_loss = 0\n",
    "    \n",
    "    with torch.no_grad():\n",
    "    \n",
    "        for i, batch in enumerate(iterator):\n",
    "\n",
    "            src = batch.src\n",
    "            trg = batch.trg\n",
    "\n",
    "            output, _ = model(src, trg[:,:-1])\n",
    "            \n",
    "            #output = [batch size, trg len - 1, output dim]\n",
    "            #trg = [batch size, trg len]\n",
    "            \n",
    "            output_dim = output.shape[-1]\n",
    "            \n",
    "            output = output.contiguous().view(-1, output_dim)\n",
    "            trg = trg[:,1:].contiguous().view(-1)\n",
    "            \n",
    "            #output = [batch size * trg len - 1, output dim]\n",
    "            #trg = [batch size * trg len - 1]\n",
    "            \n",
    "            loss = criterion(output, trg)\n",
    "\n",
    "            epoch_loss += loss.item()\n",
    "        \n",
    "    return epoch_loss / len(iterator)"
   ]
  },
  {
   "cell_type": "markdown",
   "id": "2da000dc",
   "metadata": {
    "papermill": {
     "duration": 0.143809,
     "end_time": "2022-04-15T08:45:20.925233",
     "exception": false,
     "start_time": "2022-04-15T08:45:20.781424",
     "status": "completed"
    },
    "tags": []
   },
   "source": [
    "We then define a small function that we can use to tell us how long an epoch takes."
   ]
  },
  {
   "cell_type": "code",
   "execution_count": 46,
   "id": "f55ca598",
   "metadata": {
    "execution": {
     "iopub.execute_input": "2022-04-15T08:45:21.253568Z",
     "iopub.status.busy": "2022-04-15T08:45:21.252737Z",
     "iopub.status.idle": "2022-04-15T08:45:21.255303Z",
     "shell.execute_reply": "2022-04-15T08:45:21.254797Z",
     "shell.execute_reply.started": "2022-04-14T12:05:31.274524Z"
    },
    "papermill": {
     "duration": 0.174347,
     "end_time": "2022-04-15T08:45:21.255420",
     "exception": false,
     "start_time": "2022-04-15T08:45:21.081073",
     "status": "completed"
    },
    "tags": []
   },
   "outputs": [],
   "source": [
    "def epoch_time(start_time, end_time):\n",
    "    elapsed_time = end_time - start_time\n",
    "    elapsed_mins = int(elapsed_time / 60)\n",
    "    elapsed_secs = int(elapsed_time - (elapsed_mins * 60))\n",
    "    return elapsed_mins, elapsed_secs"
   ]
  },
  {
   "cell_type": "markdown",
   "id": "448da231",
   "metadata": {
    "papermill": {
     "duration": 0.143067,
     "end_time": "2022-04-15T08:45:21.542591",
     "exception": false,
     "start_time": "2022-04-15T08:45:21.399524",
     "status": "completed"
    },
    "tags": []
   },
   "source": [
    "Finally, we train our actual model. This model is almost 3x faster than the convolutional sequence-to-sequence model and also achieves a lower validation perplexity!"
   ]
  },
  {
   "cell_type": "code",
   "execution_count": 47,
   "id": "47f406cd",
   "metadata": {
    "execution": {
     "iopub.execute_input": "2022-04-15T08:45:21.912830Z",
     "iopub.status.busy": "2022-04-15T08:45:21.877109Z",
     "iopub.status.idle": "2022-04-15T09:40:11.305128Z",
     "shell.execute_reply": "2022-04-15T09:40:11.305740Z",
     "shell.execute_reply.started": "2022-04-14T12:05:31.28285Z"
    },
    "papermill": {
     "duration": 3289.619968,
     "end_time": "2022-04-15T09:40:11.305940",
     "exception": false,
     "start_time": "2022-04-15T08:45:21.685972",
     "status": "completed"
    },
    "tags": []
   },
   "outputs": [
    {
     "name": "stdout",
     "output_type": "stream",
     "text": [
      "Epoch: 01 Time: 5m 29s | Train: Loss = 5.058  PPL = 157.260 | Val: Loss = 3.927  PPL =  50.767 | MaxGradN = 2.793, SAVE = True\n",
      "Epoch: 02 Time: 5m 29s | Train: Loss = 3.649  PPL =  38.427 | Val: Loss = 3.271  PPL =  26.335 | MaxGradN = 1.991, SAVE = True\n",
      "Epoch: 03 Time: 5m 28s | Train: Loss = 2.948  PPL =  19.076 | Val: Loss = 3.018  PPL =  20.443 | MaxGradN = 2.082, SAVE = True\n",
      "Epoch: 04 Time: 5m 28s | Train: Loss = 2.491  PPL =  12.071 | Val: Loss = 2.922  PPL =  18.585 | MaxGradN = 1.991, SAVE = True\n",
      "Epoch: 05 Time: 5m 28s | Train: Loss = 2.164  PPL =   8.706 | Val: Loss = 2.935  PPL =  18.827 | MaxGradN = 2.196, SAVE = False\n",
      "Epoch: 06 Time: 5m 28s | Train: Loss = 1.920  PPL =   6.822 | Val: Loss = 2.973  PPL =  19.558 | MaxGradN = 2.070, SAVE = False\n",
      "Epoch: 07 Time: 5m 28s | Train: Loss = 1.736  PPL =   5.676 | Val: Loss = 3.036  PPL =  20.814 | MaxGradN = 2.166, SAVE = False\n",
      "Epoch: 08 Time: 5m 28s | Train: Loss = 1.593  PPL =   4.919 | Val: Loss = 3.105  PPL =  22.316 | MaxGradN = 2.137, SAVE = False\n",
      "Epoch: 09 Time: 5m 28s | Train: Loss = 1.478  PPL =   4.385 | Val: Loss = 3.185  PPL =  24.166 | MaxGradN = 2.086, SAVE = False\n",
      "Epoch: 10 Time: 5m 28s | Train: Loss = 1.384  PPL =   3.989 | Val: Loss = 3.250  PPL =  25.795 | MaxGradN = 2.057, SAVE = False\n"
     ]
    }
   ],
   "source": [
    "N_EPOCHS = 10\n",
    "CLIP = 1\n",
    "\n",
    "best_valid_loss = float('inf')\n",
    "\n",
    "for epoch in range(N_EPOCHS):\n",
    "    \n",
    "    start_time = time.time()\n",
    "    \n",
    "    train_loss, max_grad_norm = train(model, train_iterator, optimizer, criterion, CLIP)\n",
    "    valid_loss = evaluate(model, valid_iterator, criterion)\n",
    "    \n",
    "    end_time = time.time()\n",
    "    \n",
    "    epoch_mins, epoch_secs = epoch_time(start_time, end_time)\n",
    "    \n",
    "    if valid_loss < best_valid_loss:\n",
    "        best_valid_loss = valid_loss\n",
    "        torch.save(model.state_dict(), 'tut6-model.pt')\n",
    "        saved_best_model = True\n",
    "    else:\n",
    "        saved_best_model = False\n",
    "    \n",
    "    print('Epoch: {:02} Time: {}m {}s | Train: Loss = {:.3f}  PPL = {:7.3f} | Val: Loss = {:.3f}  PPL = {:7.3f} | MaxGradN = {:.3f}, SAVE = {}'.format(\n",
    "         epoch+1,\n",
    "         epoch_mins,\n",
    "         epoch_secs,\n",
    "         train_loss,\n",
    "         math.exp(train_loss),\n",
    "         valid_loss,\n",
    "         math.exp(valid_loss),\n",
    "         max_grad_norm,\n",
    "         saved_best_model))"
   ]
  },
  {
   "cell_type": "markdown",
   "id": "74bb4ae7",
   "metadata": {
    "papermill": {
     "duration": 0.145883,
     "end_time": "2022-04-15T09:40:11.600724",
     "exception": false,
     "start_time": "2022-04-15T09:40:11.454841",
     "status": "completed"
    },
    "tags": []
   },
   "source": [
    "We load our \"best\" parameters and manage to achieve a better test perplexity than all previous models."
   ]
  },
  {
   "cell_type": "code",
   "execution_count": 48,
   "id": "a77cfbfc",
   "metadata": {
    "execution": {
     "iopub.execute_input": "2022-04-15T09:40:11.904642Z",
     "iopub.status.busy": "2022-04-15T09:40:11.903508Z",
     "iopub.status.idle": "2022-04-15T09:40:18.934948Z",
     "shell.execute_reply": "2022-04-15T09:40:18.935402Z",
     "shell.execute_reply.started": "2022-04-14T12:09:03.4813Z"
    },
    "papermill": {
     "duration": 7.187379,
     "end_time": "2022-04-15T09:40:18.935558",
     "exception": false,
     "start_time": "2022-04-15T09:40:11.748179",
     "status": "completed"
    },
    "tags": []
   },
   "outputs": [
    {
     "name": "stdout",
     "output_type": "stream",
     "text": [
      "| Test Loss: 2.917 | Test PPL:  18.485 |\n"
     ]
    }
   ],
   "source": [
    "model.load_state_dict(torch.load('tut6-model.pt'))\n",
    "\n",
    "test_loss = evaluate(model, test_iterator, criterion)\n",
    "\n",
    "print(f'| Test Loss: {test_loss:.3f} | Test PPL: {math.exp(test_loss):7.3f} |')"
   ]
  },
  {
   "cell_type": "markdown",
   "id": "827cc296",
   "metadata": {
    "papermill": {
     "duration": 0.160177,
     "end_time": "2022-04-15T09:40:19.255943",
     "exception": false,
     "start_time": "2022-04-15T09:40:19.095766",
     "status": "completed"
    },
    "tags": []
   },
   "source": [
    "## Inference\n",
    "\n",
    "Now we can can translations from our model with the `translate_sentence` function below.\n",
    "\n",
    "The steps taken are:\n",
    "- tokenize the source sentence if it has not been tokenized (is a string)\n",
    "- append the `<sos>` and `<eos>` tokens\n",
    "- numericalize the source sentence\n",
    "- convert it to a tensor and add a batch dimension\n",
    "- create the source sentence mask\n",
    "- feed the source sentence and mask into the encoder\n",
    "- create a list to hold the output sentence, initialized with an `<sos>` token\n",
    "- while we have not hit a maximum length\n",
    "  - convert the current output sentence prediction into a tensor with a batch dimension\n",
    "  - create a target sentence mask\n",
    "  - place the current output, encoder output and both masks into the decoder\n",
    "  - get next output token prediction from decoder along with attention\n",
    "  - add prediction to current output sentence prediction\n",
    "  - break if the prediction was an `<eos>` token\n",
    "- convert the output sentence from indexes to tokens\n",
    "- return the output sentence (with the `<sos>` token removed) and the attention from the last layer"
   ]
  },
  {
   "cell_type": "code",
   "execution_count": 49,
   "id": "008f55c0",
   "metadata": {
    "execution": {
     "iopub.execute_input": "2022-04-15T09:40:19.583482Z",
     "iopub.status.busy": "2022-04-15T09:40:19.581850Z",
     "iopub.status.idle": "2022-04-15T09:40:19.584083Z",
     "shell.execute_reply": "2022-04-15T09:40:19.584545Z",
     "shell.execute_reply.started": "2022-04-14T12:09:11.902275Z"
    },
    "papermill": {
     "duration": 0.16923,
     "end_time": "2022-04-15T09:40:19.584686",
     "exception": false,
     "start_time": "2022-04-15T09:40:19.415456",
     "status": "completed"
    },
    "tags": []
   },
   "outputs": [],
   "source": [
    "def translate_sentence(sentence, src_field, trg_field, model, device, max_len = 50, \n",
    "                       spacy_src_load = 'en_core_web_sm'):\n",
    "    \n",
    "    model.eval()\n",
    "        \n",
    "    if isinstance(sentence, str):\n",
    "        nlp = spacy.load(spacy_src_load)\n",
    "        tokens = [token.text.lower() for token in nlp(sentence)]\n",
    "    else:\n",
    "        tokens = [token.lower() for token in sentence]\n",
    "\n",
    "    tokens = [src_field.init_token] + tokens + [src_field.eos_token]\n",
    "        \n",
    "    src_indexes = [src_field.vocab.stoi[token] for token in tokens]\n",
    "\n",
    "    src_tensor = torch.LongTensor(src_indexes).unsqueeze(0).to(device)\n",
    "    \n",
    "    src_mask = model.make_src_mask(src_tensor)\n",
    "    \n",
    "    with torch.no_grad():\n",
    "        enc_src = model.encoder(src_tensor, src_mask)\n",
    "\n",
    "    trg_indexes = [trg_field.vocab.stoi[trg_field.init_token]]\n",
    "\n",
    "    for i in range(max_len):\n",
    "\n",
    "        trg_tensor = torch.LongTensor(trg_indexes).unsqueeze(0).to(device)\n",
    "\n",
    "        trg_mask = model.make_trg_mask(trg_tensor)\n",
    "        \n",
    "        with torch.no_grad():\n",
    "            output, attention = model.decoder(trg_tensor, enc_src, trg_mask, src_mask)\n",
    "        \n",
    "        pred_token = output.argmax(2)[:,-1].item()\n",
    "        \n",
    "        trg_indexes.append(pred_token)\n",
    "\n",
    "        if pred_token == trg_field.vocab.stoi[trg_field.eos_token]:\n",
    "            break\n",
    "    \n",
    "    trg_tokens = [trg_field.vocab.itos[i] for i in trg_indexes]\n",
    "    \n",
    "    return trg_tokens[1:], attention"
   ]
  },
  {
   "cell_type": "markdown",
   "id": "32826fc0",
   "metadata": {
    "papermill": {
     "duration": 0.147235,
     "end_time": "2022-04-15T09:40:19.881095",
     "exception": false,
     "start_time": "2022-04-15T09:40:19.733860",
     "status": "completed"
    },
    "tags": []
   },
   "source": [
    "We'll now define a function that displays the attention over the source sentence for each step of the decoding. As this model has 8 heads our model we can view the attention for each of the heads."
   ]
  },
  {
   "cell_type": "code",
   "execution_count": 50,
   "id": "beeaf3a7",
   "metadata": {
    "execution": {
     "iopub.execute_input": "2022-04-15T09:40:20.183171Z",
     "iopub.status.busy": "2022-04-15T09:40:20.182598Z",
     "iopub.status.idle": "2022-04-15T09:40:20.186249Z",
     "shell.execute_reply": "2022-04-15T09:40:20.185815Z",
     "shell.execute_reply.started": "2022-04-14T12:09:11.915751Z"
    },
    "papermill": {
     "duration": 0.157352,
     "end_time": "2022-04-15T09:40:20.186363",
     "exception": false,
     "start_time": "2022-04-15T09:40:20.029011",
     "status": "completed"
    },
    "tags": []
   },
   "outputs": [],
   "source": [
    "def display_attention(sentence, translation, attention, n_heads = 8, n_rows = 4, n_cols = 2):\n",
    "    \n",
    "    assert n_rows * n_cols == n_heads\n",
    "    \n",
    "    fig = plt.figure(figsize=(15,25))\n",
    "    \n",
    "    for i in range(n_heads):\n",
    "        \n",
    "        ax = fig.add_subplot(n_rows, n_cols, i+1)\n",
    "        \n",
    "        _attention = attention.squeeze(0)[i].cpu().detach().numpy()\n",
    "\n",
    "        cax = ax.matshow(_attention, cmap='bone')\n",
    "\n",
    "        ax.tick_params(labelsize=12)\n",
    "        ax.set_xticklabels(['']+['<sos>']+[t.lower() for t in sentence]+['<eos>'], \n",
    "                           rotation=45)\n",
    "        ax.set_yticklabels(['']+translation)\n",
    "\n",
    "        ax.xaxis.set_major_locator(ticker.MultipleLocator(1))\n",
    "        ax.yaxis.set_major_locator(ticker.MultipleLocator(1))\n",
    "\n",
    "    plt.show()\n",
    "    plt.close()"
   ]
  },
  {
   "cell_type": "markdown",
   "id": "5af3c706",
   "metadata": {
    "papermill": {
     "duration": 0.157477,
     "end_time": "2022-04-15T09:40:20.502278",
     "exception": false,
     "start_time": "2022-04-15T09:40:20.344801",
     "status": "completed"
    },
    "tags": []
   },
   "source": [
    "First, we'll get an example from the training set."
   ]
  },
  {
   "cell_type": "code",
   "execution_count": 51,
   "id": "d1e0e141",
   "metadata": {
    "execution": {
     "iopub.execute_input": "2022-04-15T09:40:20.814861Z",
     "iopub.status.busy": "2022-04-15T09:40:20.814159Z",
     "iopub.status.idle": "2022-04-15T09:40:20.817036Z",
     "shell.execute_reply": "2022-04-15T09:40:20.817450Z",
     "shell.execute_reply.started": "2022-04-14T12:09:11.931035Z"
    },
    "papermill": {
     "duration": 0.156798,
     "end_time": "2022-04-15T09:40:20.817575",
     "exception": false,
     "start_time": "2022-04-15T09:40:20.660777",
     "status": "completed"
    },
    "tags": []
   },
   "outputs": [
    {
     "name": "stdout",
     "output_type": "stream",
     "text": [
      "src = ['sumitra', \"'s\", 'son', 'was', 'laxman', 'kaikeyi', \"'s\", 'son', 'was', 'bharat', 'i', \"'m\", 'so', 'impressed', '!']\n",
      "trg = ['сыном', 'сумитры', 'был', 'лакшман', ',', 'и', 'у', 'кейкейи', 'был', 'сын', 'бхарат', '.', 'и', 'шатрунгхан', 'кажется', 'был', 'братом', 'лахмана', ',', 'значит', 'он', 'был', 'сыном', 'сумитры', '.']\n"
     ]
    }
   ],
   "source": [
    "example_idx = 8\n",
    "\n",
    "src = vars(train_data.examples[example_idx])['src']\n",
    "trg = vars(train_data.examples[example_idx])['trg']\n",
    "\n",
    "print(f'src = {src}')\n",
    "print(f'trg = {trg}')"
   ]
  },
  {
   "cell_type": "markdown",
   "id": "a627c935",
   "metadata": {
    "papermill": {
     "duration": 0.147358,
     "end_time": "2022-04-15T09:40:21.112429",
     "exception": false,
     "start_time": "2022-04-15T09:40:20.965071",
     "status": "completed"
    },
    "tags": []
   },
   "source": [
    "Our translation looks pretty good, although our model changes *is walking by* to *walks by*. The meaning is still the same."
   ]
  },
  {
   "cell_type": "code",
   "execution_count": 52,
   "id": "d9d7a8b9",
   "metadata": {
    "execution": {
     "iopub.execute_input": "2022-04-15T09:40:21.424527Z",
     "iopub.status.busy": "2022-04-15T09:40:21.423730Z",
     "iopub.status.idle": "2022-04-15T09:40:21.477905Z",
     "shell.execute_reply": "2022-04-15T09:40:21.477345Z",
     "shell.execute_reply.started": "2022-04-14T12:09:11.944891Z"
    },
    "papermill": {
     "duration": 0.2062,
     "end_time": "2022-04-15T09:40:21.478066",
     "exception": false,
     "start_time": "2022-04-15T09:40:21.271866",
     "status": "completed"
    },
    "tags": []
   },
   "outputs": [
    {
     "name": "stdout",
     "output_type": "stream",
     "text": [
      "predicted trg = ['сын', 'был', 'сыном', '<unk>', '<unk>', ',', 'я', 'так', 'сильно', '<unk>', '!', '<eos>']\n"
     ]
    }
   ],
   "source": [
    "translation, attention = translate_sentence(src, SRC, TRG, model, device)\n",
    "\n",
    "print(f'predicted trg = {translation}')"
   ]
  },
  {
   "cell_type": "markdown",
   "id": "99847592",
   "metadata": {
    "papermill": {
     "duration": 0.150566,
     "end_time": "2022-04-15T09:40:21.777390",
     "exception": false,
     "start_time": "2022-04-15T09:40:21.626824",
     "status": "completed"
    },
    "tags": []
   },
   "source": [
    "We can see the attention from each head below. Each is certainly different, but it's difficult (perhaps impossible) to reason about what head has actually learned to pay attention to. Some heads pay full attention to \"eine\" when translating \"a\", some don't at all, and some do a little. They all seem to follow the similar \"downward staircase\" pattern and the attention when outputting the last two tokens is equally spread over the final two tokens in the input sentence."
   ]
  },
  {
   "cell_type": "code",
   "execution_count": 53,
   "id": "38fa97c9",
   "metadata": {
    "execution": {
     "iopub.execute_input": "2022-04-15T09:40:22.081997Z",
     "iopub.status.busy": "2022-04-15T09:40:22.081152Z",
     "iopub.status.idle": "2022-04-15T09:40:24.109862Z",
     "shell.execute_reply": "2022-04-15T09:40:24.110426Z",
     "shell.execute_reply.started": "2022-04-14T12:09:12.116375Z"
    },
    "papermill": {
     "duration": 2.183408,
     "end_time": "2022-04-15T09:40:24.110599",
     "exception": false,
     "start_time": "2022-04-15T09:40:21.927191",
     "status": "completed"
    },
    "tags": []
   },
   "outputs": [
    {
     "name": "stderr",
     "output_type": "stream",
     "text": [
      "/opt/conda/lib/python3.7/site-packages/ipykernel_launcher.py:17: UserWarning: FixedFormatter should only be used together with FixedLocator\n",
      "/opt/conda/lib/python3.7/site-packages/ipykernel_launcher.py:18: UserWarning: FixedFormatter should only be used together with FixedLocator\n"
     ]
    },
    {
     "data": {
      "image/png": "[encoded data removed]",
      "text/plain": [
       "<Figure size 1080x1800 with 8 Axes>"
      ]
     },
     "metadata": {
      "needs_background": "light"
     },
     "output_type": "display_data"
    }
   ],
   "source": [
    "display_attention(src, translation, attention)"
   ]
  },
  {
   "cell_type": "markdown",
   "id": "9f13427d",
   "metadata": {
    "papermill": {
     "duration": 0.176506,
     "end_time": "2022-04-15T09:40:24.443292",
     "exception": false,
     "start_time": "2022-04-15T09:40:24.266786",
     "status": "completed"
    },
    "tags": []
   },
   "source": [
    "Next, let's get an example the model has not been trained on from the validation set."
   ]
  },
  {
   "cell_type": "code",
   "execution_count": 54,
   "id": "c41d4f1f",
   "metadata": {
    "execution": {
     "iopub.execute_input": "2022-04-15T09:40:24.773856Z",
     "iopub.status.busy": "2022-04-15T09:40:24.773144Z",
     "iopub.status.idle": "2022-04-15T09:40:24.776174Z",
     "shell.execute_reply": "2022-04-15T09:40:24.776643Z",
     "shell.execute_reply.started": "2022-04-14T12:09:17.67034Z"
    },
    "papermill": {
     "duration": 0.163352,
     "end_time": "2022-04-15T09:40:24.776781",
     "exception": false,
     "start_time": "2022-04-15T09:40:24.613429",
     "status": "completed"
    },
    "tags": []
   },
   "outputs": [
    {
     "name": "stdout",
     "output_type": "stream",
     "text": [
      "src = ['i', 'told', 'the', 'warden', 'that', 'i', 'wanted', 'to', 'start', 'a', 'mountain', 'biking', 'club', 'in', 'this', 'place', 'and', 'that', 'basically', 'i', 'wanted', 'to', 'take', 'the', 'kids', 'from', 'here', 'to', 'there', '.']\n",
      "trg = ['я', 'предложил', 'ему', 'организовать', 'клуб', 'горного', 'велосипедизма', 'для', 'заключенных', 'и', 'сказал', ',', 'что', 'я', 'буду', 'брать', 'их', 'с', 'собой', 'в', 'горные', 'поездки', '.']\n"
     ]
    }
   ],
   "source": [
    "example_idx = 6\n",
    "\n",
    "src = vars(valid_data.examples[example_idx])['src']\n",
    "trg = vars(valid_data.examples[example_idx])['trg']\n",
    "\n",
    "print(f'src = {src}')\n",
    "print(f'trg = {trg}')"
   ]
  },
  {
   "cell_type": "markdown",
   "id": "21a9432d",
   "metadata": {
    "papermill": {
     "duration": 0.160261,
     "end_time": "2022-04-15T09:40:25.098389",
     "exception": false,
     "start_time": "2022-04-15T09:40:24.938128",
     "status": "completed"
    },
    "tags": []
   },
   "source": [
    "The model translates it by switching *is running* to just *runs*, but it is an acceptable swap."
   ]
  },
  {
   "cell_type": "code",
   "execution_count": 55,
   "id": "cf26f2d1",
   "metadata": {
    "execution": {
     "iopub.execute_input": "2022-04-15T09:40:25.438612Z",
     "iopub.status.busy": "2022-04-15T09:40:25.437746Z",
     "iopub.status.idle": "2022-04-15T09:40:25.513442Z",
     "shell.execute_reply": "2022-04-15T09:40:25.513884Z",
     "shell.execute_reply.started": "2022-04-14T12:09:17.678587Z"
    },
    "papermill": {
     "duration": 0.251729,
     "end_time": "2022-04-15T09:40:25.514058",
     "exception": false,
     "start_time": "2022-04-15T09:40:25.262329",
     "status": "completed"
    },
    "tags": []
   },
   "outputs": [
    {
     "name": "stdout",
     "output_type": "stream",
     "text": [
      "predicted trg = ['я', 'сказал', ',', 'что', 'хочу', 'начать', 'с', '<unk>', '<unk>', 'на', 'этом', 'месте', ',', 'и', 'я', 'хочу', 'взять', 'детей', 'отсюда', '.', '<eos>']\n"
     ]
    }
   ],
   "source": [
    "translation, attention = translate_sentence(src, SRC, TRG, model, device)\n",
    "\n",
    "print(f'predicted trg = {translation}')"
   ]
  },
  {
   "cell_type": "markdown",
   "id": "6d8fa7cd",
   "metadata": {
    "papermill": {
     "duration": 0.151043,
     "end_time": "2022-04-15T09:40:25.822377",
     "exception": false,
     "start_time": "2022-04-15T09:40:25.671334",
     "status": "completed"
    },
    "tags": []
   },
   "source": [
    "Again, some heads pay full attention to \"ein\" whilst some pay no attention to it. Again, most of the heads seem to spread their attention over both the period and `<eos>` tokens in the source sentence when outputting the period and `<eos>` sentence in the predicted target sentence, though some seem to pay attention to tokens from near the start of the sentence."
   ]
  },
  {
   "cell_type": "code",
   "execution_count": 56,
   "id": "81fe4bde",
   "metadata": {
    "execution": {
     "iopub.execute_input": "2022-04-15T09:40:26.135804Z",
     "iopub.status.busy": "2022-04-15T09:40:26.134901Z",
     "iopub.status.idle": "2022-04-15T09:40:30.371325Z",
     "shell.execute_reply": "2022-04-15T09:40:30.371784Z",
     "shell.execute_reply.started": "2022-04-14T12:09:17.732071Z"
    },
    "papermill": {
     "duration": 4.397854,
     "end_time": "2022-04-15T09:40:30.371940",
     "exception": false,
     "start_time": "2022-04-15T09:40:25.974086",
     "status": "completed"
    },
    "tags": []
   },
   "outputs": [
    {
     "name": "stderr",
     "output_type": "stream",
     "text": [
      "/opt/conda/lib/python3.7/site-packages/ipykernel_launcher.py:17: UserWarning: FixedFormatter should only be used together with FixedLocator\n",
      "/opt/conda/lib/python3.7/site-packages/ipykernel_launcher.py:18: UserWarning: FixedFormatter should only be used together with FixedLocator\n"
     ]
    },
    {
     "data": {
      "image/png": "[encoded data removed]",
      "text/plain": [
       "<Figure size 1080x1800 with 8 Axes>"
      ]
     },
     "metadata": {
      "needs_background": "light"
     },
     "output_type": "display_data"
    }
   ],
   "source": [
    "display_attention(src, translation, attention)"
   ]
  },
  {
   "cell_type": "markdown",
   "id": "d2ae9211",
   "metadata": {
    "papermill": {
     "duration": 0.165476,
     "end_time": "2022-04-15T09:40:30.710010",
     "exception": false,
     "start_time": "2022-04-15T09:40:30.544534",
     "status": "completed"
    },
    "tags": []
   },
   "source": [
    "Finally, we'll look at an example from the test data."
   ]
  },
  {
   "cell_type": "code",
   "execution_count": 57,
   "id": "9e6dc7e6",
   "metadata": {
    "execution": {
     "iopub.execute_input": "2022-04-15T09:40:31.029523Z",
     "iopub.status.busy": "2022-04-15T09:40:31.028793Z",
     "iopub.status.idle": "2022-04-15T09:40:31.031561Z",
     "shell.execute_reply": "2022-04-15T09:40:31.031982Z",
     "shell.execute_reply.started": "2022-04-14T12:09:19.752714Z"
    },
    "papermill": {
     "duration": 0.163904,
     "end_time": "2022-04-15T09:40:31.032113",
     "exception": false,
     "start_time": "2022-04-15T09:40:30.868209",
     "status": "completed"
    },
    "tags": []
   },
   "outputs": [
    {
     "name": "stdout",
     "output_type": "stream",
     "text": [
      "src = ['i', 'will', 'do', 'it', '.']\n",
      "trg = ['я', 'сделаю', 'это', '.']\n"
     ]
    }
   ],
   "source": [
    "example_idx = 10\n",
    "\n",
    "src = vars(test_data.examples[example_idx])['src']\n",
    "trg = vars(test_data.examples[example_idx])['trg']\n",
    "\n",
    "print(f'src = {src}')\n",
    "print(f'trg = {trg}')"
   ]
  },
  {
   "cell_type": "markdown",
   "id": "a112c46f",
   "metadata": {
    "papermill": {
     "duration": 0.154947,
     "end_time": "2022-04-15T09:40:31.349828",
     "exception": false,
     "start_time": "2022-04-15T09:40:31.194881",
     "status": "completed"
    },
    "tags": []
   },
   "source": [
    "A perfect translation!"
   ]
  },
  {
   "cell_type": "code",
   "execution_count": 58,
   "id": "ab967a9e",
   "metadata": {
    "execution": {
     "iopub.execute_input": "2022-04-15T09:40:31.663534Z",
     "iopub.status.busy": "2022-04-15T09:40:31.662931Z",
     "iopub.status.idle": "2022-04-15T09:40:31.685302Z",
     "shell.execute_reply": "2022-04-15T09:40:31.685678Z",
     "shell.execute_reply.started": "2022-04-14T12:09:19.760656Z"
    },
    "papermill": {
     "duration": 0.181975,
     "end_time": "2022-04-15T09:40:31.685809",
     "exception": false,
     "start_time": "2022-04-15T09:40:31.503834",
     "status": "completed"
    },
    "tags": []
   },
   "outputs": [
    {
     "name": "stdout",
     "output_type": "stream",
     "text": [
      "predicted trg = ['я', 'сделаю', 'это', '.', '<eos>']\n"
     ]
    }
   ],
   "source": [
    "translation, attention = translate_sentence(src, SRC, TRG, model, device)\n",
    "\n",
    "print(f'predicted trg = {translation}')"
   ]
  },
  {
   "cell_type": "code",
   "execution_count": 59,
   "id": "189c7f03",
   "metadata": {
    "execution": {
     "iopub.execute_input": "2022-04-15T09:40:32.002036Z",
     "iopub.status.busy": "2022-04-15T09:40:32.001240Z",
     "iopub.status.idle": "2022-04-15T09:40:33.277886Z",
     "shell.execute_reply": "2022-04-15T09:40:33.278314Z",
     "shell.execute_reply.started": "2022-04-14T12:09:19.838382Z"
    },
    "papermill": {
     "duration": 1.437361,
     "end_time": "2022-04-15T09:40:33.278460",
     "exception": false,
     "start_time": "2022-04-15T09:40:31.841099",
     "status": "completed"
    },
    "tags": []
   },
   "outputs": [
    {
     "name": "stderr",
     "output_type": "stream",
     "text": [
      "/opt/conda/lib/python3.7/site-packages/ipykernel_launcher.py:17: UserWarning: FixedFormatter should only be used together with FixedLocator\n",
      "/opt/conda/lib/python3.7/site-packages/ipykernel_launcher.py:18: UserWarning: FixedFormatter should only be used together with FixedLocator\n"
     ]
    },
    {
     "data": {
      "image/png": "[encoded data removed]",
      "text/plain": [
       "<Figure size 1080x1800 with 8 Axes>"
      ]
     },
     "metadata": {
      "needs_background": "light"
     },
     "output_type": "display_data"
    }
   ],
   "source": [
    "display_attention(src, translation, attention)"
   ]
  },
  {
   "cell_type": "code",
   "execution_count": 60,
   "id": "64998665",
   "metadata": {
    "execution": {
     "iopub.execute_input": "2022-04-15T09:40:33.607074Z",
     "iopub.status.busy": "2022-04-15T09:40:33.606517Z",
     "iopub.status.idle": "2022-04-15T09:40:37.476893Z",
     "shell.execute_reply": "2022-04-15T09:40:37.476300Z",
     "shell.execute_reply.started": "2022-04-14T12:09:22.269859Z"
    },
    "papermill": {
     "duration": 4.033929,
     "end_time": "2022-04-15T09:40:37.477072",
     "exception": false,
     "start_time": "2022-04-15T09:40:33.443143",
     "status": "completed"
    },
    "tags": []
   },
   "outputs": [
    {
     "name": "stdout",
     "output_type": "stream",
     "text": [
      "src = secret sports event .\n",
      "true trg = секретное спортивное мероприятие .\n",
      "pred trg = секрет спорта . <eos>\n",
      "---------------------------------------------------------\n",
      "\n",
      "src = and it does that with a certain probability .\n",
      "true trg = и он делает это с некоторой вероятностью .\n",
      "pred trg = и это делает с определенного результата . <eos>\n",
      "---------------------------------------------------------\n",
      "\n",
      "src = now let 's see if you will be faithful to that , to honor that .\n",
      "true trg = теперь посмотрим , будешь ли ты верна этому , будешь ли относиться с почтением к этому .\n",
      "pred trg = теперь давайте посмотрим , если вы будете верным этому , для этого . <eos>\n",
      "---------------------------------------------------------\n",
      "\n",
      "src = answer me . do you regret it ?\n",
      "true trg = скажи , не жалеешь ?\n",
      "pred trg = я хочу , чтобы вы <unk> его ? <eos>\n",
      "---------------------------------------------------------\n",
      "\n",
      "src = now , we can use the tools of the 21st century to try and observe what is , rather than ask what should be , believed .\n",
      "true trg = сейчас , мы можем использовать инструменты 21 века для исследований , а не спрашивать о том , во что нужно верить .\n",
      "pred trg = теперь мы можем использовать инструменты 21-го века , попытаться наблюдать то , что может быть , а не задавать , что должно быть , верить . <eos>\n",
      "---------------------------------------------------------\n",
      "\n",
      "src = second , based on these insights , can people make the necessary changes in their diets in a way that 's safe and practical to implement ?\n",
      "true trg = второй вопрос , связанный с этим : можно ли скорректировать диету так , чтобы это было безопасно и практически осуществимо ?\n",
      "pred trg = во - вторых , основываясь на этих идеях , можно ли сделать изменения в их <unk> , так как это безопасно и осуществимо ? <eos>\n",
      "---------------------------------------------------------\n",
      "\n"
     ]
    }
   ],
   "source": [
    "for example in train_data.examples[::len(train_data)//5]:\n",
    "\n",
    "    src = ' '.join(vars(example)['src'])\n",
    "    trg = ' '.join(vars(example)['trg'])\n",
    "\n",
    "    print(f'src = {src}')\n",
    "    print(f'true trg = {trg}')\n",
    "\n",
    "    translation, attention = translate_sentence(src, SRC, TRG, model, device)\n",
    "    print(f'pred trg = {\" \".join(translation)}')\n",
    "    \n",
    "    print('---------------------------------------------------------')\n",
    "    print()"
   ]
  },
  {
   "cell_type": "code",
   "execution_count": 61,
   "id": "5bc30374",
   "metadata": {
    "execution": {
     "iopub.execute_input": "2022-04-15T09:40:37.803515Z",
     "iopub.status.busy": "2022-04-15T09:40:37.802712Z",
     "iopub.status.idle": "2022-04-15T09:40:41.911474Z",
     "shell.execute_reply": "2022-04-15T09:40:41.912077Z",
     "shell.execute_reply.started": "2022-04-14T12:09:27.830712Z"
    },
    "papermill": {
     "duration": 4.2748,
     "end_time": "2022-04-15T09:40:41.912302",
     "exception": false,
     "start_time": "2022-04-15T09:40:37.637502",
     "status": "completed"
    },
    "tags": []
   },
   "outputs": [
    {
     "name": "stdout",
     "output_type": "stream",
     "text": [
      "src = it 's about the end of an old and corrupt order in the world\n",
      "true trg = это только конец старого , коррумпированного мира .\n",
      "pred trg = это примерно конец старого и <unk> порядок в мире <eos>\n",
      "---------------------------------------------------------\n",
      "\n",
      "src = have you thought about your subtext , your hopes , your wishes , your family history , anything ?\n",
      "true trg = ты думал о своей предыстории , о своих мечтах и желаниях ? ты думал хоть о чём - то ?\n",
      "pred trg = вы думали о ваших <unk> , ваши надежды , ваши желания , ваша семья , ваша история , что - то ? <eos>\n",
      "---------------------------------------------------------\n",
      "\n",
      "src = -exactly ..\n",
      "true trg = -точно ..\n",
      "pred trg = <unk> .. <eos>\n",
      "---------------------------------------------------------\n",
      "\n",
      "src = image removed at request of owner .\n",
      "true trg = изображение удалено по просьбе владельца .\n",
      "pred trg = изображение олова для помощника . <eos>\n",
      "---------------------------------------------------------\n",
      "\n",
      "src = in some old cartoons from the 50s , i remember , where — interesting as a side point — the devil always looks like lenin .\n",
      "true trg = я помню , в некоторых мультфильмах 50-х годов была такая забавная деталь — дьявол всегда был похож на ленина .\n",
      "pred trg = в некоторых старых карикатур , я помню , где я помню , как интересный вид , как дьявол всегда выглядит как ленин . <eos>\n",
      "---------------------------------------------------------\n",
      "\n",
      "src = or like kant , did i use reason to figure out what was intrinsically right ? \"\n",
      "true trg = или как кант , я использовал разум , чтобы понять , что было в сущности правильным ? \"\n",
      "pred trg = или как <unk> , я использовал идею , что было правильно ? \" <eos>\n",
      "---------------------------------------------------------\n",
      "\n"
     ]
    }
   ],
   "source": [
    "for example in valid_data.examples[::len(valid_data)//5]:\n",
    "\n",
    "    src = ' '.join(vars(example)['src'])\n",
    "    trg = ' '.join(vars(example)['trg'])\n",
    "\n",
    "    print(f'src = {src}')\n",
    "    print(f'true trg = {trg}')\n",
    "\n",
    "    translation, attention = translate_sentence(src, SRC, TRG, model, device)\n",
    "    print(f'pred trg = {\" \".join(translation)}')\n",
    "    \n",
    "    print('---------------------------------------------------------')\n",
    "    print()"
   ]
  },
  {
   "cell_type": "code",
   "execution_count": 62,
   "id": "c975302d",
   "metadata": {
    "execution": {
     "iopub.execute_input": "2022-04-15T09:40:42.247385Z",
     "iopub.status.busy": "2022-04-15T09:40:42.245827Z",
     "iopub.status.idle": "2022-04-15T09:40:51.831623Z",
     "shell.execute_reply": "2022-04-15T09:40:51.832037Z",
     "shell.execute_reply.started": "2022-04-14T12:09:31.918562Z"
    },
    "papermill": {
     "duration": 9.754369,
     "end_time": "2022-04-15T09:40:51.832214",
     "exception": false,
     "start_time": "2022-04-15T09:40:42.077845",
     "status": "completed"
    },
    "tags": []
   },
   "outputs": [
    {
     "name": "stdout",
     "output_type": "stream",
     "text": [
      "src = how do we tackle things like mobility ?\n",
      "true trg = как мы справимся с такими вещами как мобильность ?\n",
      "pred trg = как мы будем делать вещи как мобильность , как транспорт ? <eos>\n",
      "---------------------------------------------------------\n",
      "\n",
      "src = romeo my dear ?\n",
      "true trg = ромео мой дорогой ?\n",
      "pred trg = ромео мой дорогой ? <eos>\n",
      "---------------------------------------------------------\n",
      "\n",
      "src = in order to really understand how they do that , you have to look underneath the hood and see what 's going on .\n",
      "true trg = чтобы действительно понять , как все это работает , нам нужно заглянуть под капот и посмотреть , что там происходит .\n",
      "pred trg = для того , чтобы понять , как они делают это , вы должны смотреть под <unk> и увидеть , что происходит . <eos>\n",
      "---------------------------------------------------------\n",
      "\n",
      "src = everyone in your country has been touched by the violence , the bloodshed , the pain , the horror , everybody .\n",
      "true trg = насилие коснулось каждого человека в вашей стране , кровопролития , боли , и ужаса не избежал никто .\n",
      "pred trg = все в вашей стране были покрыты <unk> насилие , блеск , боль , боль , боль , ужас . <eos>\n",
      "---------------------------------------------------------\n",
      "\n",
      "src = what we believe , obviously -- and you know this -- determines our behavior , and our behavior determines what we become in life .\n",
      "true trg = очевидно , что всё , во что мы верим -- и вы знаете это -- определяет наше поведение , и наше поведение определяет , кем мы станем в жизни .\n",
      "pred trg = мы считаем , что это — и вы знаете , определяет наше поведение , поведение и определяет наше поведение , которое мы становимся в жизни . <eos>\n",
      "---------------------------------------------------------\n",
      "\n",
      "src = - stop torturing me .\n",
      "true trg = - я требую прекратить издевательство !\n",
      "pred trg = - перестань , убей меня . <eos>\n",
      "---------------------------------------------------------\n",
      "\n",
      "src = once the child discovers he is important to his family , he begins to seek new ways of improving himself and hopes better for himself and his community .\n",
      "true trg = как только ребёнок осознает , что он важен для своей семьи , он начинает искать новые способы самосовершенствования и надеется на лучшее для себя и своей общины .\n",
      "pred trg = однажды ребенок подсказывает ему , что он важен для своей семьи , он начинает искать новые возможности и лучшую жизнь для себя и его сообщества . <eos>\n",
      "---------------------------------------------------------\n",
      "\n",
      "src = the hardest barrier really is around stigma reduction .\n",
      "true trg = самое сложное препятствие - это стигма .\n",
      "pred trg = самая сложная барьер вокруг <unk> . <eos>\n",
      "---------------------------------------------------------\n",
      "\n",
      "src = so the key is to choose the right rituals , the ones that are not harmful -- but rituals by themselves are not to be dismissed .\n",
      "true trg = дело в том , чтобы выбрать правильные ритуалы , те , которые не будут вредны -- но ритуалами в целом нельзя пренебрегать .\n",
      "pred trg = ключ к <unk> , а те , кто не <unk> , но ритуалы не являются <unk> , но ритуалы не <unk> . <eos>\n",
      "---------------------------------------------------------\n",
      "\n",
      "src = hello ladies and gentlemen .\n",
      "true trg = добрый день , дамы и господа !\n",
      "pred trg = здравствуйте , дамы и господа . <eos>\n",
      "---------------------------------------------------------\n",
      "\n",
      "src = want me to look for her inside ?\n",
      "true trg = мне в доме поискать ?\n",
      "pred trg = хочешь , чтобы она попала в глаза ? <eos>\n",
      "---------------------------------------------------------\n",
      "\n"
     ]
    }
   ],
   "source": [
    "for example in test_data.examples[::len(test_data)//10]:\n",
    "\n",
    "    src = ' '.join(vars(example)['src'])\n",
    "    trg = ' '.join(vars(example)['trg'])\n",
    "\n",
    "    print(f'src = {src}')\n",
    "    print(f'true trg = {trg}')\n",
    "\n",
    "    translation, attention = translate_sentence(src, SRC, TRG, model, device)\n",
    "    print(f'pred trg = {\" \".join(translation)}')\n",
    "    \n",
    "    print('---------------------------------------------------------')\n",
    "    print()"
   ]
  },
  {
   "cell_type": "markdown",
   "id": "49afc294",
   "metadata": {
    "papermill": {
     "duration": 0.168828,
     "end_time": "2022-04-15T09:40:52.169702",
     "exception": false,
     "start_time": "2022-04-15T09:40:52.000874",
     "status": "completed"
    },
    "tags": []
   },
   "source": [
    "### Свои примеры"
   ]
  },
  {
   "cell_type": "code",
   "execution_count": 63,
   "id": "0b5b6493",
   "metadata": {
    "execution": {
     "iopub.execute_input": "2022-04-15T09:40:52.512385Z",
     "iopub.status.busy": "2022-04-15T09:40:52.511551Z",
     "iopub.status.idle": "2022-04-15T09:40:58.761181Z",
     "shell.execute_reply": "2022-04-15T09:40:58.761841Z",
     "shell.execute_reply.started": "2022-04-14T13:11:30.151337Z"
    },
    "papermill": {
     "duration": 6.425204,
     "end_time": "2022-04-15T09:40:58.762085",
     "exception": false,
     "start_time": "2022-04-15T09:40:52.336881",
     "status": "completed"
    },
    "tags": []
   },
   "outputs": [
    {
     "name": "stdout",
     "output_type": "stream",
     "text": [
      "src = Previously we have only cared about the loss/perplexity of the model.\n",
      "pred trg = ранее мы были только о <unk> <unk> <unk> <unk> модели . <eos>\n",
      "----------------------------------------------------\n",
      "src = Congratulations for finishing these tutorials! \n",
      "pred trg = поздравляю , что эти уроки ! <eos>\n",
      "----------------------------------------------------\n",
      "src = I hope you've found them useful.\n",
      "pred trg = я надеюсь , что вы нашли их полезной . <eos>\n",
      "----------------------------------------------------\n",
      "src = In so far as our client's record in boxing is concerned, he is proud of his record in boxing to date.\n",
      "pred trg = в то время как наш клиент <unk> <unk> , он горжусь своим <unk> в течение встречи . <eos>\n",
      "----------------------------------------------------\n",
      "src = A threat to the entire licit economy.\n",
      "pred trg = угроза всей экономики <unk> . <eos>\n",
      "----------------------------------------------------\n",
      "src = Yes, you may be familiar with how to operate your car.\n",
      "pred trg = да , вы можете быть знакомы с тем , как управлять вашей машине . <eos>\n",
      "----------------------------------------------------\n",
      "src = We just hope you also know how to change the tires on your vehicle.\n",
      "pred trg = мы просто надеемся , что вы также знаете , как изменить <unk> на вашем автомобиле . <eos>\n",
      "----------------------------------------------------\n",
      "src = Cat and dog.\n",
      "pred trg = кошка и собака . <eos>\n",
      "----------------------------------------------------\n",
      "src = Hello!\n",
      "pred trg = здравствуйте ! <eos>\n",
      "----------------------------------------------------\n",
      "src = Hello world!\n",
      "pred trg = здравствуйте ! <eos>\n",
      "----------------------------------------------------\n"
     ]
    }
   ],
   "source": [
    "if TRANSLATION_DIRECTION == 'RU->EN':\n",
    "    custom_samples = ['Это было круто!',\n",
    "                      'Зачем мне это нужно?',\n",
    "                      'Ура, переводчик работает!',\n",
    "                      'Вчера мы ходили в магазин, цены пугают.',\n",
    "                      'Работай больше, получай меньше!',\n",
    "                      'Надеемся на Ваше понимание и приносим извинения за возможные неудобства.',\n",
    "                      'Квартира',\n",
    "                      'Кошка гуляет сама по себе.',\n",
    "                      'Курс будет полезен разработчикам независимо от уровня подготовки.',\n",
    "                      'Никогда не сдавайся, всегда есть третья альтернатива.']\n",
    "elif TRANSLATION_DIRECTION == 'EN->RU':\n",
    "    custom_samples = ['Previously we have only cared about the loss/perplexity of the model.',\n",
    "                      'Congratulations for finishing these tutorials! ',\n",
    "                      \"I hope you've found them useful.\",\n",
    "                      \"In so far as our client's record in boxing is concerned, he is proud of his record in boxing to date.\",\n",
    "                      'A threat to the entire licit economy.',\n",
    "                      'Yes, you may be familiar with how to operate your car.',\n",
    "                      'We just hope you also know how to change the tires on your vehicle.',\n",
    "                      'Cat and dog.',\n",
    "                      'Hello!',\n",
    "                      'Hello world!']\n",
    "\n",
    "\n",
    "for src in custom_samples:\n",
    "    translation, attention = translate_sentence(src, SRC, TRG, model, device, spacy_src_load = SPACY_SRC_LOAD)\n",
    "    print(f'src = {src}')\n",
    "    print(f'pred trg = {\" \".join(translation)}')\n",
    "    print('----------------------------------------------------')"
   ]
  },
  {
   "cell_type": "markdown",
   "id": "d8d99515",
   "metadata": {
    "papermill": {
     "duration": 0.171861,
     "end_time": "2022-04-15T09:40:59.106610",
     "exception": false,
     "start_time": "2022-04-15T09:40:58.934749",
     "status": "completed"
    },
    "tags": []
   },
   "source": [
    "## BLEU\n",
    "\n",
    "Previously we have only cared about the loss/perplexity of the model. However there metrics that are specifically designed for measuring the quality of a translation - the most popular is *BLEU*. Without going into too much detail, BLEU looks at the overlap in the predicted and actual target sequences in terms of their n-grams. It will give us a number between 0 and 1 for each sequence, where 1 means there is perfect overlap, i.e. a perfect translation, although is usually shown between 0 and 100. BLEU was designed for multiple candidate translations per source sequence, however in this dataset we only have one candidate per source.\n",
    "\n",
    "We define a `calculate_bleu` function which calculates the BLEU score over a provided TorchText dataset. This function creates a corpus of the actual and predicted translation for each source sentence and then calculates the BLEU score.\n",
    "\n",
    "Finally we calculate the BLEU score for the Transformer."
   ]
  },
  {
   "cell_type": "code",
   "execution_count": 64,
   "id": "d2087706",
   "metadata": {
    "execution": {
     "iopub.execute_input": "2022-04-15T09:40:59.461864Z",
     "iopub.status.busy": "2022-04-15T09:40:59.461079Z",
     "iopub.status.idle": "2022-04-15T09:40:59.795808Z",
     "shell.execute_reply": "2022-04-15T09:40:59.795283Z",
     "shell.execute_reply.started": "2022-04-14T12:09:39.012686Z"
    },
    "papermill": {
     "duration": 0.511242,
     "end_time": "2022-04-15T09:40:59.795931",
     "exception": false,
     "start_time": "2022-04-15T09:40:59.284689",
     "status": "completed"
    },
    "tags": []
   },
   "outputs": [],
   "source": [
    "from torchtext.data.metrics import bleu_score\n",
    "import nltk\n",
    "\n",
    "def calculate_bleu(data, src_field, trg_field, model, device, max_len = 30):\n",
    "# Добавил дополнительный score, полученный через nltk, т.к. важной особенностью настроек \n",
    "# по умолчанию является то, что в оценке используются 1,2,3,4-граммы, и если в предсказанном \n",
    "# предложении менее 4 токенов, то скоры torch и nltk будут вести себя по разному; torch \n",
    "# вернет 0.0 для такого предсказания, а nltk посчитает реальный скор без учета невозможных \n",
    "# n-грамм (при этом дополнительно выведет warning)\n",
    "\n",
    "    trgs = []\n",
    "    pred_trgs = []\n",
    "    \n",
    "    for datum in data:\n",
    "        \n",
    "        src = vars(datum)['src']\n",
    "        trg = vars(datum)['trg']\n",
    "        \n",
    "        pred_trg, _ = translate_sentence(src, src_field, trg_field, model, device, max_len)\n",
    "        \n",
    "        #cut off <eos> token\n",
    "        pred_trg = pred_trg[:-1]\n",
    "        \n",
    "        pred_trgs.append(pred_trg)\n",
    "        trgs.append([trg])\n",
    "\n",
    "    return bleu_score(pred_trgs, trgs), nltk.translate.bleu_score.corpus_bleu(trgs, pred_trgs)"
   ]
  },
  {
   "cell_type": "markdown",
   "id": "7e1f0511",
   "metadata": {
    "papermill": {
     "duration": 0.173371,
     "end_time": "2022-04-15T09:41:00.140492",
     "exception": false,
     "start_time": "2022-04-15T09:40:59.967121",
     "status": "completed"
    },
    "tags": []
   },
   "source": [
    "We get a BLEU score of 36.52, which beats the ~34 of the convolutional sequence-to-sequence model and ~28 of the attention based RNN model. All this whilst having the least amount of parameters and the fastest training time!\n",
    "\n",
    "This number isn't really interpretable, we can't really say much about it. The most useful part of a BLEU score is that it can be used to compare different models on the same dataset, where the one with the **higher** BLEU score is \"better\"."
   ]
  },
  {
   "cell_type": "raw",
   "id": "17a72c94",
   "metadata": {
    "papermill": {
     "duration": 0.275081,
     "end_time": "2022-04-15T09:41:00.732543",
     "exception": false,
     "start_time": "2022-04-15T09:41:00.457462",
     "status": "completed"
    },
    "tags": []
   },
   "source": [
    "%%time\n",
    "bleu_score_torch, bleu_score_nltk = calculate_bleu(test_data, SRC, TRG, model, device, with_ntlk = False)\n",
    "\n",
    "print(f'BLEU score (torch) = {bleu_score_torch*100:.2f}, BLEU score (nltk) = {bleu_score_nltk*100:.2f}')"
   ]
  },
  {
   "cell_type": "markdown",
   "id": "d49b25bb",
   "metadata": {
    "papermill": {
     "duration": 0.170839,
     "end_time": "2022-04-15T09:41:01.074280",
     "exception": false,
     "start_time": "2022-04-15T09:41:00.903441",
     "status": "completed"
    },
    "tags": []
   },
   "source": [
    "Congratulations for finishing these tutorials! I hope you've found them useful.\n",
    "\n",
    "If you find any mistakes or want to ask any questions about any of the code or explanations used, feel free to submit a GitHub issue and I will try to correct it ASAP.\n",
    "\n",
    "## Appendix\n",
    "\n",
    "The `calculate_bleu` function above is unoptimized. Below is a significantly faster, vectorized version of it that should be used if needed. Credit for the implementation goes to [@azadyasar](https://github.com/azadyasar)."
   ]
  },
  {
   "cell_type": "code",
   "execution_count": 65,
   "id": "de634361",
   "metadata": {
    "execution": {
     "iopub.execute_input": "2022-04-15T09:41:01.447535Z",
     "iopub.status.busy": "2022-04-15T09:41:01.446672Z",
     "iopub.status.idle": "2022-04-15T09:41:01.448538Z",
     "shell.execute_reply": "2022-04-15T09:41:01.448933Z",
     "shell.execute_reply.started": "2022-04-14T12:09:39.379473Z"
    },
    "papermill": {
     "duration": 0.187649,
     "end_time": "2022-04-15T09:41:01.449079",
     "exception": false,
     "start_time": "2022-04-15T09:41:01.261430",
     "status": "completed"
    },
    "tags": []
   },
   "outputs": [],
   "source": [
    "def translate_sentence_vectorized(src_tensor, src_field, trg_field, model, device, max_len=30):\n",
    "    assert isinstance(src_tensor, torch.Tensor)\n",
    "\n",
    "    model.eval()\n",
    "    src_mask = model.make_src_mask(src_tensor)\n",
    "\n",
    "    with torch.no_grad():\n",
    "        enc_src = model.encoder(src_tensor, src_mask)\n",
    "    # enc_src = [batch_sz, src_len, hid_dim]\n",
    "\n",
    "    trg_indexes = [[trg_field.vocab.stoi[trg_field.init_token]] for _ in range(len(src_tensor))]\n",
    "    # Even though some examples might have been completed by producing a <eos> token\n",
    "    # we still need to feed them through the model because other are not yet finished\n",
    "    # and all examples act as a batch. Once every single sentence prediction encounters\n",
    "    # <eos> token, then we can stop predicting.\n",
    "    translations_done = [0] * len(src_tensor)\n",
    "    for i in range(max_len):\n",
    "        trg_tensor = torch.LongTensor(trg_indexes).to(device)\n",
    "        trg_mask = model.make_trg_mask(trg_tensor)\n",
    "        with torch.no_grad():\n",
    "            output, attention = model.decoder(trg_tensor, enc_src, trg_mask, src_mask)\n",
    "        pred_tokens = output.argmax(2)[:,-1]\n",
    "        for i, pred_token_i in enumerate(pred_tokens):\n",
    "            trg_indexes[i].append(pred_token_i)\n",
    "            if pred_token_i == trg_field.vocab.stoi[trg_field.eos_token]:\n",
    "                translations_done[i] = 1\n",
    "        if all(translations_done):\n",
    "            break\n",
    "\n",
    "    # Iterate through each predicted example one by one;\n",
    "    # Cut-off the portion including the after the <eos> token\n",
    "    pred_sentences = []\n",
    "    for trg_sentence in trg_indexes:\n",
    "        pred_sentence = []\n",
    "        for i in range(1, len(trg_sentence)):\n",
    "            if trg_sentence[i] == trg_field.vocab.stoi[trg_field.eos_token]:\n",
    "                break\n",
    "            pred_sentence.append(trg_field.vocab.itos[trg_sentence[i]])\n",
    "        pred_sentences.append(pred_sentence)\n",
    "\n",
    "    return pred_sentences, attention"
   ]
  },
  {
   "cell_type": "code",
   "execution_count": 66,
   "id": "1b133db3",
   "metadata": {
    "execution": {
     "iopub.execute_input": "2022-04-15T09:41:01.808147Z",
     "iopub.status.busy": "2022-04-15T09:41:01.807578Z",
     "iopub.status.idle": "2022-04-15T09:41:01.810800Z",
     "shell.execute_reply": "2022-04-15T09:41:01.810372Z",
     "shell.execute_reply.started": "2022-04-14T12:09:39.396478Z"
    },
    "papermill": {
     "duration": 0.191421,
     "end_time": "2022-04-15T09:41:01.810907",
     "exception": false,
     "start_time": "2022-04-15T09:41:01.619486",
     "status": "completed"
    },
    "tags": []
   },
   "outputs": [],
   "source": [
    "from torchtext.data.metrics import bleu_score\n",
    "\n",
    "def calculate_bleu_alt(iterator, src_field, trg_field, model, device, max_len = 30):\n",
    "    trgs = []\n",
    "    pred_trgs = []\n",
    "    with torch.no_grad():\n",
    "        for batch in iterator:\n",
    "            #print('Checkout01')\n",
    "            src = batch.src\n",
    "            trg = batch.trg\n",
    "            _trgs = []\n",
    "            for sentence in trg:\n",
    "                tmp = []\n",
    "                # Start from the first token which skips the <start> token\n",
    "                for i in sentence[1:]:\n",
    "                    # Targets are padded. So stop appending as soon as a padding or eos token is encountered\n",
    "                    if i == trg_field.vocab.stoi[trg_field.eos_token] or i == trg_field.vocab.stoi[trg_field.pad_token]:\n",
    "                        break\n",
    "                    tmp.append(trg_field.vocab.itos[i])\n",
    "                _trgs.append([tmp])\n",
    "            trgs += _trgs\n",
    "            pred_trg, _ = translate_sentence_vectorized(src, src_field, trg_field, model, device)\n",
    "            pred_trgs += pred_trg\n",
    "    #print('Checkout02')\n",
    "    return pred_trgs, trgs, bleu_score(pred_trgs, trgs)"
   ]
  },
  {
   "cell_type": "code",
   "execution_count": 67,
   "id": "3afe89f4",
   "metadata": {
    "execution": {
     "iopub.execute_input": "2022-04-15T09:41:02.172016Z",
     "iopub.status.busy": "2022-04-15T09:41:02.171171Z",
     "iopub.status.idle": "2022-04-15T09:44:36.009371Z",
     "shell.execute_reply": "2022-04-15T09:44:36.009818Z",
     "shell.execute_reply.started": "2022-04-14T12:09:39.409407Z"
    },
    "papermill": {
     "duration": 214.028574,
     "end_time": "2022-04-15T09:44:36.009992",
     "exception": false,
     "start_time": "2022-04-15T09:41:01.981418",
     "status": "completed"
    },
    "tags": []
   },
   "outputs": [
    {
     "name": "stdout",
     "output_type": "stream",
     "text": [
      "BLEU score (torch) = 17.26\n",
      "CPU times: user 3min 32s, sys: 144 ms, total: 3min 32s\n",
      "Wall time: 3min 33s\n"
     ]
    }
   ],
   "source": [
    "%%time\n",
    "_, _, bleu_score_torch = calculate_bleu_alt(test_iterator, SRC, TRG, model, device)\n",
    "\n",
    "print(f'BLEU score (torch) = {bleu_score_torch*100:.2f}')"
   ]
  },
  {
   "cell_type": "code",
   "execution_count": null,
   "id": "6046dec6",
   "metadata": {
    "papermill": {
     "duration": 0.168165,
     "end_time": "2022-04-15T09:44:36.352436",
     "exception": false,
     "start_time": "2022-04-15T09:44:36.184271",
     "status": "completed"
    },
    "tags": []
   },
   "outputs": [],
   "source": []
  }
 ],
 "metadata": {
  "kernelspec": {
   "display_name": "Python 3",
   "language": "python",
   "name": "python3"
  },
  "language_info": {
   "codemirror_mode": {
    "name": "ipython",
    "version": 3
   },
   "file_extension": ".py",
   "mimetype": "text/x-python",
   "name": "python",
   "nbconvert_exporter": "python",
   "pygments_lexer": "ipython3",
   "version": "3.7.12"
  },
  "papermill": {
   "default_parameters": {},
   "duration": 3828.462122,
   "end_time": "2022-04-15T09:44:39.441538",
   "environment_variables": {},
   "exception": null,
   "input_path": "__notebook__.ipynb",
   "output_path": "__notebook__.ipynb",
   "parameters": {},
   "start_time": "2022-04-15T08:40:50.979416",
   "version": "2.3.3"
  }
 },
 "nbformat": 4,
 "nbformat_minor": 5
}
