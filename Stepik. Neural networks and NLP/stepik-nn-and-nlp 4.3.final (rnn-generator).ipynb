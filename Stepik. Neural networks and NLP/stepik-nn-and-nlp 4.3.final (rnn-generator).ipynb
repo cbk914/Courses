{
 "cells": [
  {
   "cell_type": "code",
   "execution_count": 1,
   "id": "7ff19788",
   "metadata": {
    "execution": {
     "iopub.execute_input": "2022-03-09T17:08:47.327387Z",
     "iopub.status.busy": "2022-03-09T17:08:47.325879Z",
     "iopub.status.idle": "2022-03-09T17:08:47.361822Z",
     "shell.execute_reply": "2022-03-09T17:08:47.362390Z",
     "shell.execute_reply.started": "2022-03-09T15:40:43.064205Z"
    },
    "papermill": {
     "duration": 0.110116,
     "end_time": "2022-03-09T17:08:47.362701",
     "exception": false,
     "start_time": "2022-03-09T17:08:47.252585",
     "status": "completed"
    },
    "tags": []
   },
   "outputs": [
    {
     "name": "stdout",
     "output_type": "stream",
     "text": [
      "/kaggle/input/my-private-datasets/quotes_rus/quotes_pattern01.txt\n",
      "/kaggle/input/my-private-datasets/quotes_rus/quotes_pattern04.txt\n",
      "/kaggle/input/my-private-datasets/quotes_rus/quotes_pattern03.txt\n",
      "/kaggle/input/my-private-datasets/quotes_rus/quotes_pattern06.txt\n",
      "/kaggle/input/my-private-datasets/quotes_rus/quotes_pattern05.txt\n",
      "/kaggle/input/my-private-datasets/quotes_rus/quotes_pattern07.txt\n",
      "/kaggle/input/my-private-datasets/quotes_rus/quotes_pattern02.txt\n",
      "/kaggle/input/my-private-datasets/CVBooks/SoT_CV-Jr_2018_rus.txt\n",
      "/kaggle/input/my-private-datasets/CVBooks/ollection_of_quotes_2015_rus.txt\n",
      "/kaggle/input/my-private-datasets/CVBooks/rus/3rdAlt_2017.txt\n",
      "/kaggle/input/my-private-datasets/CVBooks/rus/7h_1998.txt\n",
      "/kaggle/input/my-private-datasets/CVBooks/rus/LonP_2008.txt\n",
      "/kaggle/input/my-private-datasets/CVBooks/rus/7h_fam_2007.txt\n",
      "/kaggle/input/my-private-datasets/CVBooks/rus/PredRes_2010.txt\n",
      "/kaggle/input/my-private-datasets/CVBooks/rus/8h_2017.txt\n",
      "/kaggle/input/my-private-datasets/CVBooks/rus/EiW_2014.txt\n",
      "/kaggle/input/my-private-datasets/CVBooks/rus/ST_2013.txt\n",
      "/kaggle/input/my-private-datasets/CVBooks/rus/PG_2016.txt\n",
      "/kaggle/input/my-private-datasets/CVBooks/rus/7h_2006.txt\n",
      "/kaggle/input/my-private-datasets/CVBooks/rus/LiM_2012.txt\n",
      "/kaggle/input/my-private-datasets/CVBooks/rus/Foc_2011.txt\n",
      "/kaggle/input/my-private-datasets/CVBooks/rus/FTF_2011.txt\n",
      "/kaggle/input/my-private-datasets/CVBooks/rus/PY_2014.txt\n",
      "/kaggle/input/my-private-datasets/CVBooks/en/7h_en.txt\n"
     ]
    }
   ],
   "source": [
    "# This Python 3 environment comes with many helpful analytics libraries installed\n",
    "# It is defined by the kaggle/python Docker image: https://github.com/kaggle/docker-python\n",
    "# For example, here's several helpful packages to load\n",
    "\n",
    "import numpy as np # linear algebra\n",
    "import pandas as pd # data processing, CSV file I/O (e.g. pd.read_csv)\n",
    "\n",
    "# Input data files are available in the read-only \"../input/\" directory\n",
    "# For example, running this (by clicking run or pressing Shift+Enter) will list all files under the input directory\n",
    "\n",
    "import os\n",
    "for dirname, _, filenames in os.walk('/kaggle/input'):\n",
    "    for filename in filenames:\n",
    "        print(os.path.join(dirname, filename))\n",
    "\n",
    "# You can write up to 20GB to the current directory (/kaggle/working/) that gets preserved as output when you create a version using \"Save & Run All\" \n",
    "# You can also write temporary files to /kaggle/temp/, but they won't be saved outside of the current session"
   ]
  },
  {
   "cell_type": "markdown",
   "id": "090fa0ca",
   "metadata": {
    "papermill": {
     "duration": 0.067131,
     "end_time": "2022-03-09T17:08:47.499265",
     "exception": false,
     "start_time": "2022-03-09T17:08:47.432134",
     "status": "completed"
    },
    "tags": []
   },
   "source": [
    "# Генерация текста с помощью RNN\n"
   ]
  },
  {
   "cell_type": "markdown",
   "id": "e58a50c9",
   "metadata": {
    "papermill": {
     "duration": 0.067202,
     "end_time": "2022-03-09T17:08:47.634301",
     "exception": false,
     "start_time": "2022-03-09T17:08:47.567099",
     "status": "completed"
    },
    "tags": []
   },
   "source": [
    "(по мотивам [семинара](https://github.com/neychev/harbour_dlia2019/blob/master/day02_Simple_RNN/Day_2_Simple_RNN_pytorch.ipynb)\n",
    " [курса \"Deep Learning in Applications\"](https://in.harbour.space/data-science/deep-learning-in-applications-radoslav-neychev-anastasia-ianina/))"
   ]
  },
  {
   "cell_type": "code",
   "execution_count": 2,
   "id": "0c424599",
   "metadata": {
    "execution": {
     "iopub.execute_input": "2022-03-09T17:08:47.814021Z",
     "iopub.status.busy": "2022-03-09T17:08:47.813150Z",
     "iopub.status.idle": "2022-03-09T17:08:47.815385Z",
     "shell.execute_reply": "2022-03-09T17:08:47.814891Z",
     "shell.execute_reply.started": "2022-03-09T15:40:43.085056Z"
    },
    "papermill": {
     "duration": 0.076665,
     "end_time": "2022-03-09T17:08:47.815491",
     "exception": false,
     "start_time": "2022-03-09T17:08:47.738826",
     "status": "completed"
    },
    "tags": []
   },
   "outputs": [],
   "source": [
    "# Если Вы запускаете ноутбук на colab или kaggle,\n",
    "# выполните следующие строчки, чтобы подгрузить библиотеку dlnlputils:\n",
    "\n",
    "# !git clone https://github.com/Samsung-IT-Academy/stepik-dl-nlp.git && pip install -r stepik-dl-nlp/requirements.txt\n",
    "# import sys; sys.path.append('./stepik-dl-nlp')"
   ]
  },
  {
   "cell_type": "code",
   "execution_count": 3,
   "id": "a06aff3b",
   "metadata": {
    "ExecuteTime": {
     "end_time": "2019-11-05T18:20:34.854793Z",
     "start_time": "2019-11-05T18:20:34.372865Z"
    },
    "execution": {
     "iopub.execute_input": "2022-03-09T17:08:47.954961Z",
     "iopub.status.busy": "2022-03-09T17:08:47.954315Z",
     "iopub.status.idle": "2022-03-09T17:08:47.956930Z",
     "shell.execute_reply": "2022-03-09T17:08:47.956456Z",
     "shell.execute_reply.started": "2022-03-09T15:40:43.107817Z"
    },
    "papermill": {
     "duration": 0.07462,
     "end_time": "2022-03-09T17:08:47.957036",
     "exception": false,
     "start_time": "2022-03-09T17:08:47.882416",
     "status": "completed"
    },
    "tags": []
   },
   "outputs": [],
   "source": [
    "import os\n",
    "import datetime\n",
    "import numpy as np\n",
    "import matplotlib.pyplot as plt\n",
    "%matplotlib inline"
   ]
  },
  {
   "cell_type": "markdown",
   "id": "a01bb894",
   "metadata": {
    "papermill": {
     "duration": 0.08704,
     "end_time": "2022-03-09T17:08:48.130306",
     "exception": false,
     "start_time": "2022-03-09T17:08:48.043266",
     "status": "completed"
    },
    "tags": []
   },
   "source": [
    "# Данные\n",
    "Датасет содержит ~9k имен, все написаны латиницей."
   ]
  },
  {
   "cell_type": "code",
   "execution_count": 4,
   "id": "32aaa9de",
   "metadata": {
    "ExecuteTime": {
     "end_time": "2019-11-05T18:21:03.509714Z",
     "start_time": "2019-11-05T18:21:03.491489Z"
    },
    "execution": {
     "iopub.execute_input": "2022-03-09T17:08:48.269069Z",
     "iopub.status.busy": "2022-03-09T17:08:48.268286Z",
     "iopub.status.idle": "2022-03-09T17:08:48.270612Z",
     "shell.execute_reply": "2022-03-09T17:08:48.270230Z",
     "shell.execute_reply.started": "2022-03-09T15:40:43.117383Z"
    },
    "papermill": {
     "duration": 0.073266,
     "end_time": "2022-03-09T17:08:48.270741",
     "exception": false,
     "start_time": "2022-03-09T17:08:48.197475",
     "status": "completed"
    },
    "tags": []
   },
   "outputs": [],
   "source": [
    "# # Если Вы запускаете ноутбук на colab или kaggle, добавьте в начало пути ./stepik-dl-nlp\n",
    "# !mkdir ./stepik-dl-nlp\n",
    "# !mkdir ./stepik-dl-nlp/datasets\n",
    "# !curl \"https://raw.githubusercontent.com/Samsung-IT-Academy/stepik-dl-nlp/master/datasets/russian_names.txt\" -o ./stepik-dl-nlp/datasets/russian_names.txt\n",
    "# with open('./stepik-dl-nlp/datasets/russian_names.txt') as input_file:\n",
    "#     names = input_file.read()[:-1].split('\\n')\n",
    "#     names = [' ' + line for line in names]"
   ]
  },
  {
   "cell_type": "code",
   "execution_count": 5,
   "id": "74bc7dba",
   "metadata": {
    "ExecuteTime": {
     "end_time": "2019-11-05T18:21:03.946758Z",
     "start_time": "2019-11-05T18:21:03.938432Z"
    },
    "execution": {
     "iopub.execute_input": "2022-03-09T17:08:48.409902Z",
     "iopub.status.busy": "2022-03-09T17:08:48.408055Z",
     "iopub.status.idle": "2022-03-09T17:08:48.414598Z",
     "shell.execute_reply": "2022-03-09T17:08:48.415264Z",
     "shell.execute_reply.started": "2022-03-09T15:40:43.125586Z"
    },
    "papermill": {
     "duration": 0.078071,
     "end_time": "2022-03-09T17:08:48.415456",
     "exception": false,
     "start_time": "2022-03-09T17:08:48.337385",
     "status": "completed"
    },
    "tags": []
   },
   "outputs": [],
   "source": [
    "# names[:5]"
   ]
  },
  {
   "cell_type": "markdown",
   "id": "f8bac788",
   "metadata": {
    "papermill": {
     "duration": 0.06676,
     "end_time": "2022-03-09T17:08:48.582014",
     "exception": false,
     "start_time": "2022-03-09T17:08:48.515254",
     "status": "completed"
    },
    "tags": []
   },
   "source": [
    "Посмотрим на распределение длин имен:"
   ]
  },
  {
   "cell_type": "code",
   "execution_count": 6,
   "id": "7cf265e3",
   "metadata": {
    "ExecuteTime": {
     "end_time": "2019-11-05T18:21:05.42006Z",
     "start_time": "2019-11-05T18:21:05.179513Z"
    },
    "execution": {
     "iopub.execute_input": "2022-03-09T17:08:48.722178Z",
     "iopub.status.busy": "2022-03-09T17:08:48.721224Z",
     "iopub.status.idle": "2022-03-09T17:08:48.723562Z",
     "shell.execute_reply": "2022-03-09T17:08:48.723065Z",
     "shell.execute_reply.started": "2022-03-09T15:40:43.135515Z"
    },
    "papermill": {
     "duration": 0.073384,
     "end_time": "2022-03-09T17:08:48.723694",
     "exception": false,
     "start_time": "2022-03-09T17:08:48.650310",
     "status": "completed"
    },
    "tags": []
   },
   "outputs": [],
   "source": [
    "# plt.title('Name length distribution')\n",
    "# plt.hist(list(map(len, names)), bins=25);"
   ]
  },
  {
   "cell_type": "markdown",
   "id": "90913f70",
   "metadata": {
    "papermill": {
     "duration": 0.067197,
     "end_time": "2022-03-09T17:08:48.858283",
     "exception": false,
     "start_time": "2022-03-09T17:08:48.791086",
     "status": "completed"
    },
    "tags": []
   },
   "source": [
    "# Препроцессинг"
   ]
  },
  {
   "cell_type": "code",
   "execution_count": 7,
   "id": "e36455e6",
   "metadata": {
    "ExecuteTime": {
     "end_time": "2019-11-05T18:21:07.335188Z",
     "start_time": "2019-11-05T18:21:07.320148Z"
    },
    "execution": {
     "iopub.execute_input": "2022-03-09T17:08:48.997371Z",
     "iopub.status.busy": "2022-03-09T17:08:48.996528Z",
     "iopub.status.idle": "2022-03-09T17:08:48.998621Z",
     "shell.execute_reply": "2022-03-09T17:08:48.999028Z",
     "shell.execute_reply.started": "2022-03-09T15:40:43.144637Z"
    },
    "papermill": {
     "duration": 0.073369,
     "end_time": "2022-03-09T17:08:48.999160",
     "exception": false,
     "start_time": "2022-03-09T17:08:48.925791",
     "status": "completed"
    },
    "tags": []
   },
   "outputs": [],
   "source": [
    "# #all unique characters go here\n",
    "# tokens = list(set(''.join(names)))\n",
    "\n",
    "# num_tokens = len(tokens)\n",
    "# print ('num_tokens = ', num_tokens)"
   ]
  },
  {
   "cell_type": "markdown",
   "id": "34c001ec",
   "metadata": {
    "papermill": {
     "duration": 0.06807,
     "end_time": "2022-03-09T17:08:49.137125",
     "exception": false,
     "start_time": "2022-03-09T17:08:49.069055",
     "status": "completed"
    },
    "tags": []
   },
   "source": [
    "### Символы -> id\n",
    "\n",
    "Создадим словарь < символ > -> < id >"
   ]
  },
  {
   "cell_type": "code",
   "execution_count": 8,
   "id": "edf7a227",
   "metadata": {
    "ExecuteTime": {
     "end_time": "2019-11-05T18:21:07.674548Z",
     "start_time": "2019-11-05T18:21:07.671129Z"
    },
    "execution": {
     "iopub.execute_input": "2022-03-09T17:08:49.275463Z",
     "iopub.status.busy": "2022-03-09T17:08:49.274599Z",
     "iopub.status.idle": "2022-03-09T17:08:49.277095Z",
     "shell.execute_reply": "2022-03-09T17:08:49.276649Z",
     "shell.execute_reply.started": "2022-03-09T15:40:43.152712Z"
    },
    "papermill": {
     "duration": 0.072661,
     "end_time": "2022-03-09T17:08:49.277206",
     "exception": false,
     "start_time": "2022-03-09T17:08:49.204545",
     "status": "completed"
    },
    "tags": []
   },
   "outputs": [],
   "source": [
    "# token_to_id = {token: idx for idx, token in enumerate(tokens)}"
   ]
  },
  {
   "cell_type": "code",
   "execution_count": 9,
   "id": "a83424d7",
   "metadata": {
    "ExecuteTime": {
     "end_time": "2019-11-05T18:21:07.838814Z",
     "start_time": "2019-11-05T18:21:07.833611Z"
    },
    "execution": {
     "iopub.execute_input": "2022-03-09T17:08:49.414607Z",
     "iopub.status.busy": "2022-03-09T17:08:49.413869Z",
     "iopub.status.idle": "2022-03-09T17:08:49.416226Z",
     "shell.execute_reply": "2022-03-09T17:08:49.415812Z",
     "shell.execute_reply.started": "2022-03-09T15:40:43.161018Z"
    },
    "papermill": {
     "duration": 0.072223,
     "end_time": "2022-03-09T17:08:49.416362",
     "exception": false,
     "start_time": "2022-03-09T17:08:49.344139",
     "status": "completed"
    },
    "tags": []
   },
   "outputs": [],
   "source": [
    "# assert len(tokens) == len(token_to_id), \"dictionaries must have same size\"\n",
    "\n",
    "# for i in range(num_tokens):\n",
    "#     assert token_to_id[tokens[i]] == i, \"token identifier must be it's position in tokens list\"\n",
    "\n",
    "# print(\"Seems alright!\")"
   ]
  },
  {
   "cell_type": "code",
   "execution_count": 10,
   "id": "bc146bc2",
   "metadata": {
    "ExecuteTime": {
     "end_time": "2019-11-05T18:21:07.988093Z",
     "start_time": "2019-11-05T18:21:07.977722Z"
    },
    "execution": {
     "iopub.execute_input": "2022-03-09T17:08:49.556987Z",
     "iopub.status.busy": "2022-03-09T17:08:49.556323Z",
     "iopub.status.idle": "2022-03-09T17:08:49.558897Z",
     "shell.execute_reply": "2022-03-09T17:08:49.558417Z",
     "shell.execute_reply.started": "2022-03-09T15:40:43.166859Z"
    },
    "papermill": {
     "duration": 0.075721,
     "end_time": "2022-03-09T17:08:49.559003",
     "exception": false,
     "start_time": "2022-03-09T17:08:49.483282",
     "status": "completed"
    },
    "tags": []
   },
   "outputs": [],
   "source": [
    "def to_matrix(data, token_to_id, max_len=None, dtype='int32', batch_first = True):\n",
    "    \"\"\"Casts a list of names into rnn-digestable matrix\"\"\"\n",
    "    \n",
    "    max_len = max_len or max(map(len, data))\n",
    "    data_ix = np.zeros([len(data), max_len], dtype) + token_to_id[' ']\n",
    "\n",
    "    for i in range(len(data)):\n",
    "        line_ix = [token_to_id[c] for c in data[i]]\n",
    "        data_ix[i, :len(line_ix)] = line_ix\n",
    "        \n",
    "    if not batch_first: # convert [batch, time] into [time, batch]\n",
    "        data_ix = np.transpose(data_ix)\n",
    "\n",
    "    return data_ix"
   ]
  },
  {
   "cell_type": "code",
   "execution_count": 11,
   "id": "6854c590",
   "metadata": {
    "ExecuteTime": {
     "end_time": "2019-11-05T18:21:08.136936Z",
     "start_time": "2019-11-05T18:21:08.131609Z"
    },
    "execution": {
     "iopub.execute_input": "2022-03-09T17:08:49.739813Z",
     "iopub.status.busy": "2022-03-09T17:08:49.738910Z",
     "iopub.status.idle": "2022-03-09T17:08:49.741038Z",
     "shell.execute_reply": "2022-03-09T17:08:49.741484Z",
     "shell.execute_reply.started": "2022-03-09T15:40:43.176057Z"
    },
    "papermill": {
     "duration": 0.11567,
     "end_time": "2022-03-09T17:08:49.741619",
     "exception": false,
     "start_time": "2022-03-09T17:08:49.625949",
     "status": "completed"
    },
    "tags": []
   },
   "outputs": [],
   "source": [
    "# #Example: cast 4 names to matrices, pad with zeros\n",
    "# print('\\n'.join(names[::2000]))\n",
    "# print(to_matrix(names[::2000], token_to_id))"
   ]
  },
  {
   "cell_type": "markdown",
   "id": "2237f090",
   "metadata": {
    "papermill": {
     "duration": 0.113738,
     "end_time": "2022-03-09T17:08:49.985065",
     "exception": false,
     "start_time": "2022-03-09T17:08:49.871327",
     "status": "completed"
    },
    "tags": []
   },
   "source": [
    "# Рекуррентные нейронные сети\n",
    "\n",
    "<img src=\"https://raw.githubusercontent.com/Samsung-IT-Academy/stepik-dl-nlp/master/img/rnn.png\" width=480>"
   ]
  },
  {
   "cell_type": "code",
   "execution_count": 12,
   "id": "138a2c9b",
   "metadata": {
    "ExecuteTime": {
     "end_time": "2019-11-05T18:21:10.739438Z",
     "start_time": "2019-11-05T18:21:09.661222Z"
    },
    "execution": {
     "iopub.execute_input": "2022-03-09T17:08:50.215937Z",
     "iopub.status.busy": "2022-03-09T17:08:50.215062Z",
     "iopub.status.idle": "2022-03-09T17:08:51.552597Z",
     "shell.execute_reply": "2022-03-09T17:08:51.552101Z",
     "shell.execute_reply.started": "2022-03-09T15:40:43.183084Z"
    },
    "papermill": {
     "duration": 1.45427,
     "end_time": "2022-03-09T17:08:51.552754",
     "exception": false,
     "start_time": "2022-03-09T17:08:50.098484",
     "status": "completed"
    },
    "tags": []
   },
   "outputs": [],
   "source": [
    "import torch, torch.nn as nn\n",
    "import torch.nn.functional as F\n",
    "from torch.autograd import Variable\n",
    "device = 'cuda' if torch.cuda.is_available() else 'cpu'"
   ]
  },
  {
   "cell_type": "code",
   "execution_count": 13,
   "id": "47bbcaeb",
   "metadata": {
    "ExecuteTime": {
     "end_time": "2019-11-05T18:21:10.751862Z",
     "start_time": "2019-11-05T18:21:10.741772Z"
    },
    "execution": {
     "iopub.execute_input": "2022-03-09T17:08:51.702611Z",
     "iopub.status.busy": "2022-03-09T17:08:51.701660Z",
     "iopub.status.idle": "2022-03-09T17:08:51.703661Z",
     "shell.execute_reply": "2022-03-09T17:08:51.704333Z",
     "shell.execute_reply.started": "2022-03-09T15:40:43.203355Z"
    },
    "papermill": {
     "duration": 0.081616,
     "end_time": "2022-03-09T17:08:51.704504",
     "exception": false,
     "start_time": "2022-03-09T17:08:51.622888",
     "status": "completed"
    },
    "tags": []
   },
   "outputs": [],
   "source": [
    "# class CharRNNCell(nn.Module):\n",
    "#     \"\"\"\n",
    "#     Implement the scheme above as torch module\n",
    "#     \"\"\"\n",
    "#     #в baseline num_tokens=52 (это размер словаря), embedding_size=16, rnn_num_units=64\n",
    "#     def __init__(self, num_tokens=len(tokens), embedding_size=16, rnn_num_units=64):\n",
    "#         super(self.__class__,self).__init__()\n",
    "#         #по сути длина вектора скрытого состояния для каждого символа,\n",
    "#         #в процессе forward эти вектора конкатинируются сразу за эмбеддингом символа\n",
    "#         #итого, вектор каждого символа состоит из склеенных: вектора эмбеддинга соответсвующего символа и \n",
    "#         #вектора скрытого состояния, с предыдущего шага, причем это скрытое состояние накапливается в процессе\n",
    "#         #итераций перехода от предыдущего символа к следующему символу, т.е. получается, что вектор скрытого\n",
    "#         #состояния не привязывается к каждому символу (токену) а изменяется/обучается на основе последовательностей\n",
    "#         #этих символов (токенов)\n",
    "#         self.num_units = rnn_num_units\n",
    "        \n",
    "#         self.embedding = nn.Embedding(num_tokens, embedding_size) #размер словаря x размер эмбеддинга\n",
    "        \n",
    "#         #линейный слой, состоящий из rnn_num_units нейронов, принимающий на вход emb_size + rnn_num_units значений\n",
    "#         #линейная часть переходного состояния из предыдущего скрытого состояния к следующему\n",
    "#         #т.е. на вход для каждого текущего i-го символа последовательности подаем вектора\n",
    "#         #состоящие из склеенных эмбеддингов и вектора предыдущего скрытого состояния,\n",
    "#         #на выходе получаем линейно преобразованные вектора следующего скрытого состояния\n",
    "#         #итого, на последующее скрытое состояние влияет как вектор эмбеддинга текущего символа, так и предыдущее \n",
    "#         #скрытое состояние для текущего слова (или предложения) по которому происходит последовательное итерирование\n",
    "#         #\n",
    "#         #Важно! Глубоко задумался чем отличается RNN от обычного перцептрона, если здесь так же используются обычные \n",
    "#         #линейные слои. Так вот обучение этого линейного слоя (еще эмбеддингов и вероятностей ниже) выпонляется на \n",
    "#         #основе некоторого состояния (\"скрытого состояния\" по сути некоторого состояния памяти о предыдущих \n",
    "#         #                             событиях=символах/токенах, которые уже встретились), причем само это состояние \n",
    "#         #или память нигде не сохраняется, не обучается и т.д., т.е. в начале обработки или построения каждой \n",
    "#         #последовательности (слова или предложения) это скрытое состояние просто равно нулям, далее, исходя их \n",
    "#         #эмбеддингов и предыдущих состояний оно обновляется изменяется с переходом от одной позиции к следующей, и \n",
    "#         #именно на основе него и текущего эмбеддинга символа мы обучаем наши слои нейронов, после окончания текущей \n",
    "#         #последовательности, скрытое состояние нам боле не нужно, оно будет опять строиться заново в последующиех \n",
    "#         #итерациях (обучения или предсказания после полного обучения сети). Именно в этом главное отличие, которое не \n",
    "#         #может быть покрыто обычным перцептроном, в котором непонятно как подобную \"память\" или принятие решения на \n",
    "#         #основе уже сложившейся ситуации учитывать, например подавая на вход сразу все развернутые эмбеддинги всех \n",
    "#         #позиций в текущей последовательности + последовательность из нескольких линейных слоев, все же не будет \n",
    "#         #работать аналогичным образом, если еще учесть что на выходе мы должны получать вероятности для каждого \n",
    "#         #токена из словаря и для каждой позиции и с учетом предыдущих состояний, то это просто на выходе должно \n",
    "#         #было бы быть \"космическое\" число классов, растущее экспотенциально с ростом последовательности \n",
    "#         #и размером словаря. \n",
    "#         self.rnn_update = nn.Linear(embedding_size + rnn_num_units, rnn_num_units)\n",
    "        \n",
    "#         #линейный слой для вычисления вероятности для следующего символа, вероятность вычисляется \n",
    "#         #для каждого символа из словаря, на вход поступают вектора вычисленных следующих скрытых состояний,\n",
    "#         #далее они линейно преобразуются через нейроны, каждый из которых соответствует id символа из словаря\n",
    "#         #на вход подается тензор .shape = batch_size x rnn_num_units (для baseline [32, 64])\n",
    "#         #на выходе получаем тензор .shape = batch_size x num_tokens=размер_словаря (для baseline [32, 52])\n",
    "#         self.rnn_to_logits = nn.Linear(rnn_num_units, num_tokens)\n",
    "        \n",
    "#     def forward(self, x, h_prev):\n",
    "#         \"\"\"\n",
    "#         This method computes h_next(x, h_prev) and log P(x_next | h_next)\n",
    "#         We'll call it repeatedly to produce the whole sequence.\n",
    "        \n",
    "#         :param x: batch of character ids, variable containing vector of int64\n",
    "#                   т.е. это одномерный тензор длины batch_size, содержащий в себе id i-го символа \n",
    "#                   в исходной последовательности, т.е. в цикле подаются 0, 1, 2 символы и т.д. до MAX_LENGTH\n",
    "#         :param h_prev: previous rnn hidden states, variable containing matrix [batch, rnn_num_units] of float32\n",
    "#                   в baseline h_prev.shape = [32, 64]\n",
    "#         \"\"\"\n",
    "#         # get vector embedding of x\n",
    "#         # преобразуем нашу строку i-х символов в эмбеддинги, \n",
    "#         # итого получаем тензор batch_size x embedding_size (для baseline x_emb.shape = [32, 16])\n",
    "#         x_emb = self.embedding(x)\n",
    "        \n",
    "#         # compute next hidden state using self.rnn_update\n",
    "#         #конкатенируем текущий входной тензор и скрытое состояние из предыдущего шага\n",
    "#         #по итогу получаем тензор размера batch_size x (embedding_size + rnn_num_units)\n",
    "#         #для нашего baseline x_and_h.shape = [32, 16+64] = [32, 80]\n",
    "#         x_and_h = torch.cat([x_emb, h_prev], dim=1) #YOUR CODE HERE\n",
    "        \n",
    "#         #подробное описание дано в конструкторе перед инициализацией self.rnn_update\n",
    "#         # для baseline h_next.shape = [32, 64]\n",
    "#         h_next = self.rnn_update(x_and_h) #YOUR CODE HERE\n",
    "        \n",
    "#         #последующее нелинейное преобразование для нового скрытого состояния, по сути\n",
    "#         #применение функции активации к линейному слою\n",
    "#         h_next = F.tanh(h_next)\n",
    "        \n",
    "#         #просто проверяем, что все прошло как нужно и размеры предыдущего и следующего скрытого состояния равны\n",
    "#         #если это не так, вызывается исключение assert\n",
    "#         assert h_next.size() == h_prev.size()\n",
    "                \n",
    "#         #compute logits for next character probs\n",
    "#         #подробное описание дано в конструкторе перед инициализацией self.rnn_to_logits\n",
    "#         # для baseline logits..shape = batch_size x размер_словаря (для baseline [32, 52])\n",
    "#         logits = self.rnn_to_logits(h_next)\n",
    "        \n",
    "#         #на выход мы передаём следующее скрытое состояние и log вероятностей для следующего символа,\n",
    "#         #а именно, мы получим 52 log вероятности по каждому символу из нашего словаря.\n",
    "#         # F.log_softmax(logits, -1) выполняется по последнему измерению и в итоге .shape \n",
    "#         #не изменяется, т.е.  F.log_softmax(logits, -1).shape = batch_size x размер_словаря\n",
    "#         return h_next, F.log_softmax(logits, -1)\n",
    "    \n",
    "#     def initial_state(self, batch_size):\n",
    "#         \"\"\" return rnn state before it processes first input (aka h0) \"\"\"\n",
    "#         #\n",
    "#         #Variable - deprecated, как я понял, сейчас эта обертка ничего не делает\n",
    "#         #т.е. это аналогично записи torch.zeros(batch_size, self.num_units)\n",
    "#         return Variable(torch.zeros(batch_size, self.num_units))"
   ]
  },
  {
   "cell_type": "code",
   "execution_count": 14,
   "id": "7c7249a6",
   "metadata": {
    "ExecuteTime": {
     "end_time": "2019-11-05T18:21:11.071002Z",
     "start_time": "2019-11-05T18:21:11.052377Z"
    },
    "execution": {
     "iopub.execute_input": "2022-03-09T17:08:51.842818Z",
     "iopub.status.busy": "2022-03-09T17:08:51.842123Z",
     "iopub.status.idle": "2022-03-09T17:08:51.844270Z",
     "shell.execute_reply": "2022-03-09T17:08:51.844664Z",
     "shell.execute_reply.started": "2022-03-09T15:40:43.217638Z"
    },
    "papermill": {
     "duration": 0.072507,
     "end_time": "2022-03-09T17:08:51.844826",
     "exception": false,
     "start_time": "2022-03-09T17:08:51.772319",
     "status": "completed"
    },
    "tags": []
   },
   "outputs": [],
   "source": [
    "#char_rnn = CharRNNCell()"
   ]
  },
  {
   "cell_type": "markdown",
   "id": "362f2b25",
   "metadata": {
    "papermill": {
     "duration": 0.066659,
     "end_time": "2022-03-09T17:08:51.978458",
     "exception": false,
     "start_time": "2022-03-09T17:08:51.911799",
     "status": "completed"
    },
    "tags": []
   },
   "source": [
    "### Тренировка сети, RNN loop"
   ]
  },
  {
   "cell_type": "code",
   "execution_count": 15,
   "id": "6cc6d81a",
   "metadata": {
    "ExecuteTime": {
     "end_time": "2019-11-05T18:21:11.521078Z",
     "start_time": "2019-11-05T18:21:11.510175Z"
    },
    "execution": {
     "iopub.execute_input": "2022-03-09T17:08:52.119517Z",
     "iopub.status.busy": "2022-03-09T17:08:52.118684Z",
     "iopub.status.idle": "2022-03-09T17:08:52.120638Z",
     "shell.execute_reply": "2022-03-09T17:08:52.121048Z",
     "shell.execute_reply.started": "2022-03-09T15:40:43.226539Z"
    },
    "papermill": {
     "duration": 0.075107,
     "end_time": "2022-03-09T17:08:52.121169",
     "exception": false,
     "start_time": "2022-03-09T17:08:52.046062",
     "status": "completed"
    },
    "tags": []
   },
   "outputs": [],
   "source": [
    "# #В ходе тренировки сети в цикле (в baseline - 1000 вызовов, т.е. 1000 эпох) выполняется \n",
    "# # logp_seq = rnn_loop(char_rnn, batch_ix), на вход подается (для baseline):\n",
    "# # - модель (CharRNNCell)\n",
    "# # - батч в виде рандомной выборки из списка имен (выбирается 32 имени), пропущенную через to_matrix \n",
    "# #   с параметром max_len=MAX_LENGTH (равен максимальной длине имени во всем датасете), итого, \n",
    "# #   получем тензор .shape=[32, 21] ([batch_size, MAX_LENGTH])\n",
    "\n",
    "# def rnn_loop(rnn, batch_index):\n",
    "#     \"\"\"\n",
    "#     Computes log P(next_character) for all time-steps in names_ix\n",
    "#     :param names_ix: an int32 matrix of shape [batch, time], output of to_matrix(names)\n",
    "#     \"\"\"\n",
    "#     batch_size, max_length = batch_index.size() #32, 21\n",
    "#     #return rnn state before it processes first input (aka h0)\n",
    "#     #по факту возвращает тензор из 0. размера batch_size=32 x rnn_num_units=64\n",
    "#     #выход функции \"initial state\" соответствует переменной \"h0\", \n",
    "#     #или нулевому скрытому состоянию нашей нейронной сети. \n",
    "#     #стоит отметить, что подобная инициализация проиходит в начале каждой мини-эпохи\n",
    "#     hid_state = rnn.initial_state(batch_size)\n",
    "#     logprobs = []\n",
    "\n",
    "#     #после транспонирования, получаем тензор [MAX_LENGTH=21, batch_size=32]\n",
    "#     #итерируемся по строкам, т.е. x_t = одномерному тензору длиной batch_size, \n",
    "#     #в котором мы последовательно продвигаемся по символам из последовательности\n",
    "#     #в нашем случае, на первой итерации это 0 символ каждого стова из батча, \n",
    "#     #далее 1, 2 и т.д. до MAX_LENGTH\n",
    "#     for x_t in batch_index.transpose(0,1): \n",
    "#         #hid_state.shape = [32, 64]\n",
    "#         #logp_next.shape = [32, 52]\n",
    "#         hid_state, logp_next = rnn(x_t, hid_state)\n",
    "#         #накапливаем log вероятности для каждой позиции в последовательности\n",
    "#         #в нашем случае для каждой позиции от 1 до MAX_LENGTH (от 1 до 21)\n",
    "#         logprobs.append(logp_next)\n",
    "    \n",
    "#     #строим тензор из накопленных log вероятностей по dim=1, итого, размерность\n",
    "#     #выходного тензора =  batch_size x MAX_LENGTH x размер_словаря\n",
    "#     #return tensor.shape = [32, 21, 52]\n",
    "#     return torch.stack(logprobs, dim=1)"
   ]
  },
  {
   "cell_type": "markdown",
   "id": "f7879196",
   "metadata": {
    "papermill": {
     "duration": 0.066472,
     "end_time": "2022-03-09T17:08:52.254964",
     "exception": false,
     "start_time": "2022-03-09T17:08:52.188492",
     "status": "completed"
    },
    "tags": []
   },
   "source": [
    "### Тренировка сети"
   ]
  },
  {
   "cell_type": "code",
   "execution_count": 16,
   "id": "5b6e826b",
   "metadata": {
    "ExecuteTime": {
     "end_time": "2019-11-05T18:21:12.120106Z",
     "start_time": "2019-11-05T18:21:12.109585Z"
    },
    "execution": {
     "iopub.execute_input": "2022-03-09T17:08:52.396370Z",
     "iopub.status.busy": "2022-03-09T17:08:52.395751Z",
     "iopub.status.idle": "2022-03-09T17:08:52.398733Z",
     "shell.execute_reply": "2022-03-09T17:08:52.398289Z",
     "shell.execute_reply.started": "2022-03-09T15:40:43.235549Z"
    },
    "papermill": {
     "duration": 0.076642,
     "end_time": "2022-03-09T17:08:52.398845",
     "exception": false,
     "start_time": "2022-03-09T17:08:52.322203",
     "status": "completed"
    },
    "tags": []
   },
   "outputs": [],
   "source": [
    "# from IPython.display import clear_output\n",
    "# from random import sample\n",
    "\n",
    "# char_rnn = CharRNNCell()\n",
    "# opt = torch.optim.Adam(char_rnn.parameters())\n",
    "# history = []"
   ]
  },
  {
   "cell_type": "code",
   "execution_count": 17,
   "id": "6a1fd13c",
   "metadata": {
    "ExecuteTime": {
     "end_time": "2019-11-05T18:21:23.521061Z",
     "start_time": "2019-11-05T18:21:12.302892Z"
    },
    "execution": {
     "iopub.execute_input": "2022-03-09T17:08:52.540032Z",
     "iopub.status.busy": "2022-03-09T17:08:52.539287Z",
     "iopub.status.idle": "2022-03-09T17:08:52.541685Z",
     "shell.execute_reply": "2022-03-09T17:08:52.541287Z",
     "shell.execute_reply.started": "2022-03-09T15:40:43.253438Z"
    },
    "papermill": {
     "duration": 0.075459,
     "end_time": "2022-03-09T17:08:52.541800",
     "exception": false,
     "start_time": "2022-03-09T17:08:52.466341",
     "status": "completed"
    },
    "tags": []
   },
   "outputs": [],
   "source": [
    "# MAX_LENGTH = max(map(len, names))\n",
    "\n",
    "# #к слову, можно запускать этот цикл много раз, сеть будет дообучаться\n",
    "# for i in range(1000): #1000\n",
    "#     #батч в виде рандомной выборки из списка имен (выбирается 32 имени), пропущенную через to_matrix \n",
    "#     #с параметром max_len=MAX_LENGTH (равен максимальной длине имени во всем датасете), итого, \n",
    "#     #получем тензор .shape=[32, 21] ([batch_size, MAX_LENGTH])\n",
    "#     batch_ix = to_matrix(sample(names, 32), token_to_id, max_len=MAX_LENGTH)\n",
    "#     batch_ix = torch.tensor(batch_ix, dtype=torch.int64)\n",
    "    \n",
    "#     #прогоняем один цикл по батчу, в ходе которого вычисляются/возвращаются вероятности\n",
    "#     #встретить каждый символ/токен на следующей позиции, с учетом информации о всех предыдущих символах\n",
    "#     #а именно, мы получим 52 вероятности по каждому символу из нашего словаря для каждой из 21 позиции\n",
    "#     #logp_seq.shape = [32, 21, 52] (batch_size x MAX_LENGTH x Размер_словаря)\n",
    "#     logp_seq = rnn_loop(char_rnn, batch_ix)\n",
    "    \n",
    "#     # for compute loss\n",
    "#     #отбираем тензор предсказанных вероятностей для следующей позиции (т.е. без самого последнего предсказания,\n",
    "#     #т.к. оно не имеет смысла), для каждого символа из словаря, итого имеем:\n",
    "#     #predictions_logp.shape = batch_size x MAX_LENGTH - 1 x Размер_словаря (для baseline [32, 20, 52])\n",
    "#     predictions_logp = logp_seq[:, :-1]\n",
    "#     #отбираем тензор реальных id символов/токенов, которые находятся на соответсвующих позициях в нашем датасете\n",
    "#     #нас интересуют символы/токены, только со 2-й позиции\n",
    "#     #actual_next_tokens.shape = batch_size x MAX_LENGTH - 1 (для baseline [32, 20])\n",
    "#     actual_next_tokens = batch_ix[:, 1:]\n",
    "\n",
    "#     #суть кода ниже (loss), это выбор из тензора предсказанных log вероятностей для следующей позиции для каждого\n",
    "#     #символа/тензора из словаря, т.е. только log-вероятностей, которые соответсвуют реальным символам/токенам, которые\n",
    "#     #нашем датасете, далее берем среднее по всем этим вероятностям и инвертируем полученное значение, все это\n",
    "#     #работает, т.к. ВСЕ выбранные log-вероятности должны в стремиться к максимуму (в данном конкретном случае, исходя из\n",
    "#     #отдельно взятого конкретного слова/последовательности), т.к. мы видим, что именно этот символ/токен \n",
    "#     #встретился в нашем примере, как следствие, после инвертирования, чем больше будут все предсказанные\n",
    "#     #вероятности на выбранных позициях (и среднее из них), тем меньше будет loss, что нам и нужно, причем, с учетом того,\n",
    "#     #что это именно log-вероятности, до инвертирования, каждая отдельно взятая log вероятность будет в диапазоне (-inf, 0],\n",
    "#     #после инвертирования, loss будет в диапазоне [0, +inf], минимум в 0, что нам и нужно для номального loss\n",
    "#     #Более конкретно:\n",
    "#     #actual_next_tokens[:,:,None] - добавляет еще одно измерение, в итоге .shape = [32, 20, 1], и в последнем \n",
    "#     #измерении мы получаем по одному id, которое по сути равно индексу (позиции) символа/токена в нашем словаре,\n",
    "#     #добавление измерения и \"перемещение\" всех id в 3-е измерение необходимо для применения в torch.gather\n",
    "#     #torch.gather здесь выбирает из последнего измерения тензора predictions_logp (предсказанные log-вероятности \n",
    "#     #для каждой позиции словаря) только позиции с индексами из actual_next_tokens, т.е. позиции соответсвующие\n",
    "#     #реально увиденным в примере символам/токенам, итого получаем тензор .shape = [32, 20, 1], с предсказанными log-\n",
    "#     #вероятностями только для таких реально увиденных символом/токенов, далее берем среднее и инвертируем результат\n",
    "#     loss = -torch.mean(torch.gather(predictions_logp, dim=2, index=actual_next_tokens[:,:,None])) ###YOUR CODE\n",
    "    \n",
    "#     # train with backprop\n",
    "#     loss.backward()\n",
    "#     opt.step()\n",
    "#     opt.zero_grad()\n",
    "    \n",
    "#     # visualizing training process\n",
    "#     history.append(loss.data.numpy())\n",
    "#     if (i + 1) % 100 == 0:\n",
    "#         clear_output(True)\n",
    "#         plt.plot(history,label='loss')\n",
    "#         plt.legend()\n",
    "#         plt.show()\n",
    "    \n",
    "#     #проверяем что наша сеть хоть немного обучилась - среднее из loss последних 10 циклов < среднего loss первых 10\n",
    "# assert np.mean(history[:10]) > np.mean(history[-10:]), \"RNN didn't converge.\""
   ]
  },
  {
   "cell_type": "markdown",
   "id": "5b6ab028",
   "metadata": {
    "papermill": {
     "duration": 0.066665,
     "end_time": "2022-03-09T17:08:52.675665",
     "exception": false,
     "start_time": "2022-03-09T17:08:52.609000",
     "status": "completed"
    },
    "tags": []
   },
   "source": [
    "### RNN: генерация имен"
   ]
  },
  {
   "cell_type": "code",
   "execution_count": 18,
   "id": "5964c3b3",
   "metadata": {
    "ExecuteTime": {
     "end_time": "2019-11-05T18:21:23.540765Z",
     "start_time": "2019-11-05T18:21:23.524503Z"
    },
    "execution": {
     "iopub.execute_input": "2022-03-09T17:08:52.818110Z",
     "iopub.status.busy": "2022-03-09T17:08:52.817245Z",
     "iopub.status.idle": "2022-03-09T17:08:52.819122Z",
     "shell.execute_reply": "2022-03-09T17:08:52.819508Z",
     "shell.execute_reply.started": "2022-03-09T15:40:43.298714Z"
    },
    "papermill": {
     "duration": 0.076395,
     "end_time": "2022-03-09T17:08:52.819628",
     "exception": false,
     "start_time": "2022-03-09T17:08:52.743233",
     "status": "completed"
    },
    "tags": []
   },
   "outputs": [],
   "source": [
    "# #странно что мы не переводим сеть в обученный режим, думаю стоит добавить char_rnn.eval()\n",
    "# def generate_sample(char_rnn, seed_phrase=' ', max_length=MAX_LENGTH, temperature=1.0):\n",
    "#     '''\n",
    "#     The function generates text given a phrase of length at least SEQ_LENGTH.\n",
    "#     :param seed_phrase: prefix characters. The RNN is asked to continue the phrase\n",
    "#     :param max_length: maximum output length, including seed_phrase\n",
    "#     :param temperature: coefficient for sampling.  higher temperature produces more chaotic outputs,\n",
    "#                         smaller temperature converges to the single most likely output\n",
    "#     Примечание: функция генерирует только один пример, если нам нужно n-примеров, запускаем ее в цикле\n",
    "#     '''\n",
    "    \n",
    "#     #переводим начальную фразу из токенов в тензор из соответсвующих токенам id\n",
    "#     x_sequence = [token_to_id[token] for token in seed_phrase]\n",
    "#     x_sequence = torch.tensor([x_sequence], dtype=torch.int64)\n",
    "#     #инициализируем нулевое скрытое состояние (получаем тензор из 0 размера 1 x rnn_num_units=64)\n",
    "#     hid_state = char_rnn.initial_state(batch_size=1)\n",
    "    \n",
    "#     #feed the seed phrase, if any\n",
    "#     #прогоняем сеть по заданной начальной последовательности, с целью получения текущего скрытого состояния\n",
    "#     for i in range(len(seed_phrase) - 1):\n",
    "#         hid_state, _ = char_rnn(x_sequence[:, i], hid_state)\n",
    "    \n",
    "#     #start generating\n",
    "#     for _ in range(max_length - len(seed_phrase)):\n",
    "#         #получаем следующее скрытое состояние и log-вероятности для каждого символа/токена из словаря\n",
    "#         hid_state, logp_next = char_rnn(x_sequence[:, -1], hid_state)\n",
    "        \n",
    "#         #переводим log-вероятности, деленные на температуру, в вероятности для каждого символа/токена из словаря\n",
    "#         #что бы понять смысл деления на температуру, нужно представить себе график прологарифмированных \n",
    "#         #вероятностей, это только так его часть, где по x значения от 0 до 1 (соответсвенно по y = (-inf, 0]), \n",
    "#         #так вот в случае температуры = 1 мы ничего не меняем и получаем исходные вероятности, те, которые были \n",
    "#         #до логарифмирования (далее по коду с этими вероятностями мы будем выбирать следующий символ/токен), если \n",
    "#         #температура > 1, мы деля на нее как бы сжимаем график по оси y, как следствие нивелируем разницу в \n",
    "#         #вероятностях для каждого символа быть следующим(в итоге вероятности будут более близки друг к другу и при \n",
    "#         #выборе следующего символа, мы получим более рандомный выбор), если температура < 1, то деля на нее, мы \n",
    "#         #растягиваем график по оси y, как следствие получим более выраженную разницу между вероятностями (итого \n",
    "#         #будет значительно больше вероятность выбрать символ, который на самом деле более часто встречается, при \n",
    "#         #температуре близкой к 0, мы почти всегда будет выбирать наиболее встречаемый символ/токен)\n",
    "#         #смысл [0] - убрать лишнюю разменость, итого получаем одномерный тензор вероятностей для словаря\n",
    "#         p_next = F.softmax(logp_next / temperature, dim=-1).data.numpy()[0]\n",
    "        \n",
    "#         #sample next token and push it back into x_sequence\n",
    "#         #выбираем следующий символ исходя из полученных на шаге выше вероятностей, стоит отметить, что мы по сути,\n",
    "#         #ничем не ограничивая данный выбор, можем выбрать даже самый не встречаемый символ, если его вероятность \n",
    "#         #будет хоть как то отличаться от 0\n",
    "#         next_ix = np.random.choice(len(tokens), p=p_next)\n",
    "#         next_ix = torch.tensor([[next_ix]], dtype=torch.int64)\n",
    "#         x_sequence = torch.cat([x_sequence, next_ix], dim=1)\n",
    "        \n",
    "#     return ''.join([tokens[ix] for ix in x_sequence.data.numpy()[0]])"
   ]
  },
  {
   "cell_type": "code",
   "execution_count": 19,
   "id": "bfacec56",
   "metadata": {
    "ExecuteTime": {
     "end_time": "2019-11-05T18:21:23.625562Z",
     "start_time": "2019-11-05T18:21:23.544968Z"
    },
    "execution": {
     "iopub.execute_input": "2022-03-09T17:08:52.956824Z",
     "iopub.status.busy": "2022-03-09T17:08:52.956087Z",
     "iopub.status.idle": "2022-03-09T17:08:52.958074Z",
     "shell.execute_reply": "2022-03-09T17:08:52.958432Z",
     "shell.execute_reply.started": "2022-03-09T15:40:43.307901Z"
    },
    "papermill": {
     "duration": 0.072117,
     "end_time": "2022-03-09T17:08:52.958552",
     "exception": false,
     "start_time": "2022-03-09T17:08:52.886435",
     "status": "completed"
    },
    "tags": []
   },
   "outputs": [],
   "source": [
    "# for _ in range(10):\n",
    "#     print(generate_sample(char_rnn))"
   ]
  },
  {
   "cell_type": "code",
   "execution_count": 20,
   "id": "408bcff8",
   "metadata": {
    "ExecuteTime": {
     "end_time": "2019-11-05T18:21:23.702249Z",
     "start_time": "2019-11-05T18:21:23.629226Z"
    },
    "execution": {
     "iopub.execute_input": "2022-03-09T17:08:53.096810Z",
     "iopub.status.busy": "2022-03-09T17:08:53.096055Z",
     "iopub.status.idle": "2022-03-09T17:08:53.098456Z",
     "shell.execute_reply": "2022-03-09T17:08:53.098063Z",
     "shell.execute_reply.started": "2022-03-09T15:40:43.318462Z"
    },
    "papermill": {
     "duration": 0.073269,
     "end_time": "2022-03-09T17:08:53.098559",
     "exception": false,
     "start_time": "2022-03-09T17:08:53.025290",
     "status": "completed"
    },
    "tags": []
   },
   "outputs": [],
   "source": [
    "# for _ in range(10):\n",
    "#     print(generate_sample(char_rnn, seed_phrase=' Ar'))"
   ]
  },
  {
   "cell_type": "code",
   "execution_count": 21,
   "id": "3de7e4d2",
   "metadata": {
    "execution": {
     "iopub.execute_input": "2022-03-09T17:08:53.235341Z",
     "iopub.status.busy": "2022-03-09T17:08:53.234543Z",
     "iopub.status.idle": "2022-03-09T17:08:53.237813Z",
     "shell.execute_reply": "2022-03-09T17:08:53.237368Z",
     "shell.execute_reply.started": "2022-03-09T15:40:43.325928Z"
    },
    "papermill": {
     "duration": 0.072503,
     "end_time": "2022-03-09T17:08:53.237917",
     "exception": false,
     "start_time": "2022-03-09T17:08:53.165414",
     "status": "completed"
    },
    "tags": []
   },
   "outputs": [],
   "source": [
    "# for _ in range(10):\n",
    "#     print(generate_sample(char_rnn, seed_phrase=' Ar', temperature=0.01))"
   ]
  },
  {
   "cell_type": "code",
   "execution_count": 22,
   "id": "e6d2c565",
   "metadata": {
    "execution": {
     "iopub.execute_input": "2022-03-09T17:08:53.375445Z",
     "iopub.status.busy": "2022-03-09T17:08:53.374520Z",
     "iopub.status.idle": "2022-03-09T17:08:53.376980Z",
     "shell.execute_reply": "2022-03-09T17:08:53.376428Z",
     "shell.execute_reply.started": "2022-03-09T15:40:43.332325Z"
    },
    "papermill": {
     "duration": 0.072233,
     "end_time": "2022-03-09T17:08:53.377085",
     "exception": false,
     "start_time": "2022-03-09T17:08:53.304852",
     "status": "completed"
    },
    "tags": []
   },
   "outputs": [],
   "source": [
    "# for _ in range(10):\n",
    "#     print(generate_sample(char_rnn, seed_phrase=' Ar', temperature=2))"
   ]
  },
  {
   "cell_type": "markdown",
   "id": "b2f84f3c",
   "metadata": {
    "papermill": {
     "duration": 0.0667,
     "end_time": "2022-03-09T17:08:53.511250",
     "exception": false,
     "start_time": "2022-03-09T17:08:53.444550",
     "status": "completed"
    },
    "tags": []
   },
   "source": [
    "### Более простое решение\n",
    "\n",
    "* `nn.RNNCell(emb_size, rnn_num_units)` - шаг RNN. Алгоритм: concat-linear-tanh\n",
    "* `nn.RNN(emb_size, rnn_num_units` - весь rnn_loop.\n",
    "\n",
    "Кроме того, в PyTorch есть `nn.LSTMCell`, `nn.LSTM`, `nn.GRUCell`, `nn.GRU`, etc. etc.\n",
    "\n",
    "Перепишем наш пример с генерацией имен с помощью средств PyTorch."
   ]
  },
  {
   "cell_type": "code",
   "execution_count": 23,
   "id": "c305b967",
   "metadata": {
    "execution": {
     "iopub.execute_input": "2022-03-09T17:08:53.649270Z",
     "iopub.status.busy": "2022-03-09T17:08:53.648496Z",
     "iopub.status.idle": "2022-03-09T17:08:53.650894Z",
     "shell.execute_reply": "2022-03-09T17:08:53.650365Z",
     "shell.execute_reply.started": "2022-03-09T15:40:43.338599Z"
    },
    "papermill": {
     "duration": 0.072774,
     "end_time": "2022-03-09T17:08:53.651000",
     "exception": false,
     "start_time": "2022-03-09T17:08:53.578226",
     "status": "completed"
    },
    "tags": []
   },
   "outputs": [],
   "source": [
    "from IPython.display import clear_output\n",
    "from random import sample"
   ]
  },
  {
   "cell_type": "code",
   "execution_count": 24,
   "id": "bd22ba1b",
   "metadata": {
    "ExecuteTime": {
     "end_time": "2019-11-05T18:21:23.713285Z",
     "start_time": "2019-11-05T18:21:23.704755Z"
    },
    "execution": {
     "iopub.execute_input": "2022-03-09T17:08:53.796547Z",
     "iopub.status.busy": "2022-03-09T17:08:53.795654Z",
     "iopub.status.idle": "2022-03-09T17:08:53.797443Z",
     "shell.execute_reply": "2022-03-09T17:08:53.797888Z",
     "shell.execute_reply.started": "2022-03-09T15:40:43.346307Z"
    },
    "papermill": {
     "duration": 0.080124,
     "end_time": "2022-03-09T17:08:53.798009",
     "exception": false,
     "start_time": "2022-03-09T17:08:53.717885",
     "status": "completed"
    },
    "tags": []
   },
   "outputs": [],
   "source": [
    "class RNNLoop(nn.Module):\n",
    "    '''\n",
    "    v1.2 changes:\n",
    "         - add various RNN_class (nn.RNN, nn.GRU, or nn.LSTM)\n",
    "    v1.1 changes:\n",
    "         - added possibility to continue forward from custom initial hidden state\n",
    "         - add rnn_num_layers\n",
    "    '''\n",
    "    def __init__(self, num_tokens, emb_size=16, RNN_class = nn.RNN, rnn_num_units=64, rnn_num_layers=1):\n",
    "        super(self.__class__, self).__init__()\n",
    "        self.emb = nn.Embedding(num_tokens, emb_size)\n",
    "        self.rnn = RNN_class(emb_size, rnn_num_units, rnn_num_layers, batch_first=True)\n",
    "        self.hid_to_logits = nn.Linear(rnn_num_units, num_tokens)\n",
    "\n",
    "    def forward(self, x):\n",
    "        #batch_size x MAX_LENGTH\n",
    "        #assert isinstance(x, Variable) and isinstance(x.data, torch.LongTensor)\n",
    "        \n",
    "        #self.emb(x).shape = batch_size x MAX_LENGTH x emb_size = [32, 21, 16]\n",
    "        #h_seq.shape = batch_size x MAX_LENGTH x rnn_num_units = [32, 21, 64]\n",
    "        h_seq, (_) = self.rnn(self.emb(x))\n",
    "        \n",
    "        #next_logits.shape = batch_size x MAX_LENGTH x Размер словаря = [32, 21, 52]\n",
    "        next_logits = self.hid_to_logits(h_seq)\n",
    "        \n",
    "        #next_logp.shape = batch_size x MAX_LENGTH x Размер словаря = [32, 21, 52]\n",
    "        next_logp = F.log_softmax(next_logits, dim=-1)\n",
    "        return next_logp\n",
    "    \n",
    "    def forward_generate(self, x,  init_states=None):\n",
    "        #batch_size x MAX_LENGTH\n",
    "        assert isinstance(x, Variable) and isinstance(x.data, torch.LongTensor)\n",
    "        \n",
    "        if init_states is None:\n",
    "            #self.emb(x).shape = batch_size x MAX_LENGTH x emb_size = [32, 21, 16]\n",
    "            #h_seq.shape = batch_size x MAX_LENGTH x rnn_num_units = [32, 21, 64]\n",
    "            h_seq, *final_states = self.rnn(self.emb(x))\n",
    "        else:\n",
    "            h_seq, *final_states = self.rnn(self.emb(x), *init_states)\n",
    "        \n",
    "        #next_logits.shape = batch_size x MAX_LENGTH x Размер словаря = [32, 21, 52]\n",
    "        next_logits = self.hid_to_logits(h_seq)\n",
    "        \n",
    "        #next_logp.shape = batch_size x MAX_LENGTH x Размер словаря = [32, 21, 52]\n",
    "        next_logp = F.log_softmax(next_logits, dim=-1)\n",
    "        return next_logp, final_states"
   ]
  },
  {
   "cell_type": "code",
   "execution_count": 25,
   "id": "a797f1a7",
   "metadata": {
    "ExecuteTime": {
     "end_time": "2019-11-05T18:21:31.468107Z",
     "start_time": "2019-11-05T18:21:23.792092Z"
    },
    "execution": {
     "iopub.execute_input": "2022-03-09T17:08:53.941801Z",
     "iopub.status.busy": "2022-03-09T17:08:53.941019Z",
     "iopub.status.idle": "2022-03-09T17:08:53.942955Z",
     "shell.execute_reply": "2022-03-09T17:08:53.943382Z",
     "shell.execute_reply.started": "2022-03-09T15:40:43.360849Z"
    },
    "papermill": {
     "duration": 0.078418,
     "end_time": "2022-03-09T17:08:53.943499",
     "exception": false,
     "start_time": "2022-03-09T17:08:53.865081",
     "status": "completed"
    },
    "tags": []
   },
   "outputs": [],
   "source": [
    "def train_model(model, opt, dataset, token_to_id, history, num_loop=1000, batch_size=32, device='cpu'):\n",
    "    train_start_time = datetime.datetime.now()\n",
    "    if device == 'cuda':\n",
    "        model.to(device)\n",
    "    model.train()\n",
    "    max_len = max(map(len, dataset))\n",
    "    for i in range(num_loop):\n",
    "        batch_ix = to_matrix(sample(dataset, batch_size), token_to_id, max_len=max_len)\n",
    "        batch_ix = torch.tensor(batch_ix, dtype=torch.int64)\n",
    "        if device == 'cuda':\n",
    "            batch_ix = batch_ix.to(device)\n",
    "            \n",
    "        logp_seq = model(batch_ix)\n",
    "\n",
    "        # compute loss\n",
    "        predictions_logp = logp_seq[:, :-1]\n",
    "        actual_next_tokens = batch_ix[:, 1:]\n",
    "\n",
    "        loss = -torch.mean(torch.gather(predictions_logp, dim=2, index=actual_next_tokens[:,:,None]))\n",
    "\n",
    "        # train with backprop\n",
    "        loss.backward()\n",
    "        opt.step()\n",
    "        opt.zero_grad()\n",
    "\n",
    "        history.append(loss.data.detach().cpu().numpy())\n",
    "        if (i + 1) % 100 == 0:\n",
    "            clear_output(True)\n",
    "            plt.plot(history, label='loss')\n",
    "            plt.legend()\n",
    "            plt.show()\n",
    "    \n",
    "    print(\"Full train time = {:0.2f}s\".format((datetime.datetime.now() - train_start_time).total_seconds()))\n",
    "    assert np.mean(history[:25]) > np.mean(history[-25:]), \"RNN didn't converge.\"\n",
    "    \n",
    "    if device == 'cuda':\n",
    "        model.to('cpu')\n",
    "        \n",
    "    return model, history"
   ]
  },
  {
   "cell_type": "code",
   "execution_count": 26,
   "id": "763e32f7",
   "metadata": {
    "ExecuteTime": {
     "end_time": "2019-11-05T18:21:23.540765Z",
     "start_time": "2019-11-05T18:21:23.524503Z"
    },
    "execution": {
     "iopub.execute_input": "2022-03-09T17:08:54.089131Z",
     "iopub.status.busy": "2022-03-09T17:08:54.085194Z",
     "iopub.status.idle": "2022-03-09T17:08:54.091240Z",
     "shell.execute_reply": "2022-03-09T17:08:54.090825Z",
     "shell.execute_reply.started": "2022-03-09T15:40:43.376394Z"
    },
    "papermill": {
     "duration": 0.081089,
     "end_time": "2022-03-09T17:08:54.091338",
     "exception": false,
     "start_time": "2022-03-09T17:08:54.010249",
     "status": "completed"
    },
    "tags": []
   },
   "outputs": [],
   "source": [
    "#странно что мы не переводим сеть в обученный режим, думаю стоит добавить char_rnn.eval()\n",
    "def generate_sample_loop(model, max_length, seed_phrase='_', temperature=1.0, word_tokenize=False):\n",
    "    '''\n",
    "    The function generates text given a phrase of length at least SEQ_LENGTH.\n",
    "    :param seed_phrase: prefix characters. The RNN is asked to continue the phrase\n",
    "    :param max_length: maximum output length, including seed_phrase\n",
    "    :param temperature: coefficient for sampling.  higher temperature produces more chaotic outputs,\n",
    "                        smaller temperature converges to the single most likely output\n",
    "    Примечание: функция генерирует только один пример, если нам нужно n-примеров, запускаем ее в цикле\n",
    "    '''\n",
    "    model.eval()\n",
    "    \n",
    "    if word_tokenize:\n",
    "        seed_phrase = tokenizer.tokenize(seed_phrase)\n",
    "    \n",
    "    #переводим начальную фразу из токенов в тензор из соответсвующих токенам id\n",
    "    x_sequence = [token_to_id[token] for token in seed_phrase]\n",
    "    x_sequence = torch.tensor([x_sequence], dtype=torch.int64)\n",
    "    \n",
    "    if (len(seed_phrase) > 1):\n",
    "        _, init_states = model.forward_generate(x_sequence[:,:-1])\n",
    "        \n",
    "    else:\n",
    "        init_states = None\n",
    "        \n",
    "    \n",
    "    #start generating\n",
    "    for _ in range(max_length - len(seed_phrase)):\n",
    "        #получаем следующее скрытое состояние и log-вероятности для каждого символа/токена из словаря\n",
    "        logp_next, init_states  = model.forward_generate(x_sequence[:, -1:], init_states)\n",
    "        \n",
    "        #переводим log-вероятности, деленные на температуру, в вероятности для каждого символа/токена из словаря\n",
    "        #что бы понять смысл деления на температуру, нужно представить себе график прологарифмированных \n",
    "        #вероятностей, это только так его часть, где по x значения от 0 до 1 (соответсвенно по y = (-inf, 0]), \n",
    "        #так вот в случае температуры = 1 мы ничего не меняем и получаем исходные вероятности, те, которые были \n",
    "        #до логарифмирования (далее по коду с этими вероятностями мы будем выбирать следующий символ/токен), если \n",
    "        #температура > 1, мы деля на нее как бы сжимаем график по оси y, как следствие нивелируем разницу в \n",
    "        #вероятностях для каждого символа быть следующим(в итоге вероятности будут более близки друг к другу и при \n",
    "        #выборе следующего символа, мы получим более рандомный выбор), если температура < 1, то деля на нее, мы \n",
    "        #растягиваем график по оси y, как следствие получим более выраженную разницу между вероятностями (итого \n",
    "        #будет значительно больше вероятность выбрать символ, который на самом деле более часто встречается, при \n",
    "        #температуре близкой к 0, мы почти всегда будет выбирать наиболее встречаемый символ/токен)\n",
    "        #смысл [0] - убрать лишнюю разменость, итого получаем одномерный тензор вероятностей для словаря\n",
    "        p_next = F.softmax(logp_next[0] / temperature, dim=-1).data.numpy()[0]\n",
    "        \n",
    "        #sample next token and push it back into x_sequence\n",
    "        #выбираем следующий символ исходя из полученных на шаге выше вероятностей, стоит отметить, что мы по сути,\n",
    "        #ничем не ограничивая данный выбор, можем выбрать даже самый не встречаемый символ, если его вероятность \n",
    "        #будет хоть как то отличаться от 0\n",
    "        next_ix = np.random.choice(len(tokens), p=p_next)\n",
    "        next_ix = torch.tensor([[next_ix]], dtype=torch.int64)\n",
    "        x_sequence = torch.cat([x_sequence, next_ix], dim=1)\n",
    "        \n",
    "    return ''.join([tokens[ix] for ix in x_sequence.data.numpy()[0]])"
   ]
  },
  {
   "cell_type": "markdown",
   "id": "58ecdbae",
   "metadata": {
    "papermill": {
     "duration": 0.066649,
     "end_time": "2022-03-09T17:08:54.224633",
     "exception": false,
     "start_time": "2022-03-09T17:08:54.157984",
     "status": "completed"
    },
    "tags": []
   },
   "source": [
    "### Что еще можно генерировать?\n",
    "С помощью кода из этого семинара можно генерировать не только имена, но и:\n",
    "\n",
    "* Повести/романы/поэзию/песни любимого автора\n",
    "* Новостные заголовки\n",
    "* Программный код\n",
    "* Молекулы в формате [smiles](https://en.wikipedia.org/wiki/Simplified_molecular-input_line-entry_system)\n",
    "* Музыку\n",
    "* Названия мебели из ИКЕА\n",
    "* Мотивационные лозунги\n",
    "* etc.\n",
    "\n",
    "__Удачи!__"
   ]
  },
  {
   "cell_type": "markdown",
   "id": "a03dfbbc",
   "metadata": {
    "papermill": {
     "duration": 0.066533,
     "end_time": "2022-03-09T17:08:54.357975",
     "exception": false,
     "start_time": "2022-03-09T17:08:54.291442",
     "status": "completed"
    },
    "tags": []
   },
   "source": [
    "# Итоговое задание семинара 4.3.Final"
   ]
  },
  {
   "cell_type": "raw",
   "id": "e5d5a60e",
   "metadata": {
    "papermill": {
     "duration": 0.067264,
     "end_time": "2022-03-09T17:08:54.491819",
     "exception": false,
     "start_time": "2022-03-09T17:08:54.424555",
     "status": "completed"
    },
    "tags": []
   },
   "source": [
    "В качестве домашнего задания мы предлагаем Вам запустить код семинара для решения другой задачи: генерации цитат известных людей. Данные для решения этой задачи Вы можете найти в файле author_quotes.txt (https://github.com/Samsung-IT-Academy/stepik-dl-nlp/blob/master/datasets/author_quotes.txt)\n",
    "\n",
    "Опишите то, что у Вас получилось, в ответе к этому шагу.\n",
    "\n",
    "Балл за этот шаг зачитывается автоматически, вне зависимости от текста, который Вы впишете в поле ответа :). Но то, насколько этот семинар и это задание будет полезным для Вас, вполне зависит - так что мы предлагаем Вам поисследовать возможности линейных моделей и подробно описать свой опыт. К тому же, после нажатия кнопки \"Отправить\" Вы получите доступ к ответам других участников и сможете обменяться своими находками.\n",
    "\n",
    "Успехов! :)"
   ]
  },
  {
   "cell_type": "raw",
   "id": "f6c83bba",
   "metadata": {
    "papermill": {
     "duration": 0.067692,
     "end_time": "2022-03-09T17:08:54.626615",
     "exception": false,
     "start_time": "2022-03-09T17:08:54.558923",
     "status": "completed"
    },
    "tags": []
   },
   "source": [
    "Итоговые пунткты для меня:\n",
    "    + Проанализировать и понять код семинара, принципы генерации текстов с помощью RNN (если нужно, добавить развернутые комментарии);\n",
    "    + Определиться с русскоязычным источником текстов или цитат для формирования датасета (это либо цитаты известных людей на русском, либо опять же, книги Кови для генерации предложений), объем источников должен быть соизмерим с предложенным в задании примером author_quotes.txt, в котором 36 тыс. цитат и высказываний;\n",
    "    + Обработать и сформировать датасет из наденных источников;\n",
    "    - Использовать код семинара для решения задачи генерации русскоязычных текстов (цитат известных людей или иных предложений) (на уровне символов и на уровне слов)"
   ]
  },
  {
   "cell_type": "markdown",
   "id": "622f7f3b",
   "metadata": {
    "papermill": {
     "duration": 0.067875,
     "end_time": "2022-03-09T17:08:54.763218",
     "exception": false,
     "start_time": "2022-03-09T17:08:54.695343",
     "status": "completed"
    },
    "tags": []
   },
   "source": [
    "## Использовать код семинара для решения задачи генерации русскоязычных текстов (цитат известных людей или иных предложений)"
   ]
  },
  {
   "cell_type": "markdown",
   "id": "ddca2a31",
   "metadata": {
    "execution": {
     "iopub.execute_input": "2022-03-07T15:44:42.652006Z",
     "iopub.status.busy": "2022-03-07T15:44:42.651662Z",
     "iopub.status.idle": "2022-03-07T15:44:42.655554Z",
     "shell.execute_reply": "2022-03-07T15:44:42.654768Z",
     "shell.execute_reply.started": "2022-03-07T15:44:42.651972Z"
    },
    "papermill": {
     "duration": 0.068104,
     "end_time": "2022-03-09T17:08:54.899144",
     "exception": false,
     "start_time": "2022-03-09T17:08:54.831040",
     "status": "completed"
    },
    "tags": []
   },
   "source": [
    "### Подготовка датасета"
   ]
  },
  {
   "cell_type": "code",
   "execution_count": 27,
   "id": "5c1e520b",
   "metadata": {
    "execution": {
     "iopub.execute_input": "2022-03-09T17:08:55.040125Z",
     "iopub.status.busy": "2022-03-09T17:08:55.039356Z",
     "iopub.status.idle": "2022-03-09T17:08:55.044243Z",
     "shell.execute_reply": "2022-03-09T17:08:55.044636Z",
     "shell.execute_reply.started": "2022-03-09T15:40:43.395856Z"
    },
    "papermill": {
     "duration": 0.078515,
     "end_time": "2022-03-09T17:08:55.044809",
     "exception": false,
     "start_time": "2022-03-09T17:08:54.966294",
     "status": "completed"
    },
    "tags": []
   },
   "outputs": [
    {
     "name": "stdout",
     "output_type": "stream",
     "text": [
      "/kaggle/input/my-private-datasets/quotes_rus/quotes_pattern01.txt\n",
      "/kaggle/input/my-private-datasets/quotes_rus/quotes_pattern02.txt\n",
      "/kaggle/input/my-private-datasets/quotes_rus/quotes_pattern03.txt\n",
      "/kaggle/input/my-private-datasets/quotes_rus/quotes_pattern04.txt\n",
      "/kaggle/input/my-private-datasets/quotes_rus/quotes_pattern05.txt\n",
      "/kaggle/input/my-private-datasets/quotes_rus/quotes_pattern06.txt\n",
      "/kaggle/input/my-private-datasets/quotes_rus/quotes_pattern07.txt\n"
     ]
    }
   ],
   "source": [
    "import re\n",
    "\n",
    "def has_numbers(string):\n",
    "    return bool(re.search(r'\\d', string))\n",
    "\n",
    "def rem_start_number(string):\n",
    "    for i in range(len(string)):\n",
    "        if not string[i].isdigit():\n",
    "            break\n",
    "    return string[i:]\n",
    "\n",
    "quotes_rus = []\n",
    "quotes_rus_dir = '/kaggle/input/my-private-datasets/quotes_rus/'\n",
    "quotes_rus_filenames = []\n",
    "for dirname, _, filenames in os.walk(quotes_rus_dir):\n",
    "    for filename in filenames:\n",
    "        quotes_rus_filenames.append(os.path.join(dirname, filename))\n",
    "quotes_rus_filenames = sorted(quotes_rus_filenames)\n",
    "print(\"\\n\".join(quotes_rus_filenames))"
   ]
  },
  {
   "cell_type": "code",
   "execution_count": 28,
   "id": "32edd168",
   "metadata": {
    "execution": {
     "iopub.execute_input": "2022-03-09T17:08:55.186469Z",
     "iopub.status.busy": "2022-03-09T17:08:55.185646Z",
     "iopub.status.idle": "2022-03-09T17:08:55.195164Z",
     "shell.execute_reply": "2022-03-09T17:08:55.195774Z",
     "shell.execute_reply.started": "2022-03-09T15:40:43.408743Z"
    },
    "papermill": {
     "duration": 0.082957,
     "end_time": "2022-03-09T17:08:55.195934",
     "exception": false,
     "start_time": "2022-03-09T17:08:55.112977",
     "status": "completed"
    },
    "tags": []
   },
   "outputs": [
    {
     "name": "stdout",
     "output_type": "stream",
     "text": [
      "Сопроводительные комментарии к /kaggle/input/my-private-datasets/quotes_rus/quotes_pattern01.txt\n",
      "#Готовые фразы, нужно только удалить пустые строки\n",
      "\n",
      "Количество: 234\n",
      "Абсолютная власть развращает абсолютно\n",
      "Велик русский бог\n",
      "Германия превыше всего\n",
      "Еще не вечер\n",
      "История повторяется дважды…\n",
      "Маленькая победоносная война\n",
      "Не ошибается тот, кто ничего не делает\n",
      "Оттепель\n",
      "Пятая колонна\n",
      "Так жить нельзя\n",
      "Я готов целовать песок…\n"
     ]
    }
   ],
   "source": [
    "###quotes_pattern01.txt\n",
    "num = 0\n",
    "with open(quotes_rus_filenames[num]) as file:\n",
    "    lines = [line.rstrip() for line in file]\n",
    "lines = list(filter(None, lines)) #remove empty strings\n",
    "print('Сопроводительные комментарии к {}'.format(quotes_rus_filenames[num]))\n",
    "print(\"\\n\".join([line for line in lines if line[0] == '#']))\n",
    "print()\n",
    "\n",
    "###Обработка\n",
    "lines = [line.strip() for line in lines if line[0] != '#']\n",
    "\n",
    "###Итоги и добавление в общий список\n",
    "print(\"Количество: {}\".format(len(lines)))\n",
    "print(\"\\n\".join(lines[::len(lines)//10]))\n",
    "quotes_rus.extend(lines)"
   ]
  },
  {
   "cell_type": "code",
   "execution_count": 29,
   "id": "1485d9e5",
   "metadata": {
    "execution": {
     "iopub.execute_input": "2022-03-09T17:08:55.341246Z",
     "iopub.status.busy": "2022-03-09T17:08:55.340620Z",
     "iopub.status.idle": "2022-03-09T17:08:55.409015Z",
     "shell.execute_reply": "2022-03-09T17:08:55.409626Z",
     "shell.execute_reply.started": "2022-03-09T15:40:43.42587Z"
    },
    "papermill": {
     "duration": 0.145444,
     "end_time": "2022-03-09T17:08:55.409810",
     "exception": false,
     "start_time": "2022-03-09T17:08:55.264366",
     "status": "completed"
    },
    "tags": []
   },
   "outputs": [
    {
     "name": "stdout",
     "output_type": "stream",
     "text": [
      "Сопроводительные комментарии к /kaggle/input/my-private-datasets/quotes_rus/quotes_pattern02.txt\n",
      "#Действия следующие:\n",
      "#- удалить пустые строки\n",
      "#- оставить только строки которые следуют сразу за строкой, являющейся числом\n",
      "#- из этих строк удалить все, после символа // и (\n",
      "#- удалить в начале строк \"* \"\n",
      "#- финально удалить первоначальные и завершающие пробелы\n",
      "#ДАРИЙ I\n",
      "#ДАРНЕЛЛ, Билл\n",
      "#ДАРРЕ, Вальтер\n",
      "\n",
      "Количество: 2446\n",
      "Измена мне мила, а изменники противны.\n",
      "Организатор победы.\n",
      "Создание Берлинской республики.\n",
      "Вижу, все пташки улетели.\n",
      "Так это вы – та маленькая женщина, которая написала книгу, вызвавшую такую большую войну?\n",
      "Европа – кротовая нора; великие империи и великие перевороты были возможны лишь на Востоке.\n",
      "Все, что происходит сегодня в мире, <…> это следствие попыток внедрения <…> концепции однополярного мира. <…> Система права одного государства, прежде всего, конечно, Соединенных Штатов, перешагнула свои национальные границы во всех сферах <…>.\n",
      "Прежде всего – не быть бедным.\n",
      "Открытое письмо.\n",
      "Куба – да, янки – нет!\n",
      "Эскадрон смерти.\n"
     ]
    }
   ],
   "source": [
    "###quotes_pattern02.txt\n",
    "num = 1\n",
    "with open(quotes_rus_filenames[num]) as file:\n",
    "    lines = [line.rstrip() for line in file]\n",
    "lines = list(filter(None, lines)) #remove empty strings\n",
    "print('Сопроводительные комментарии к {}'.format(quotes_rus_filenames[num]))\n",
    "print(\"\\n\".join([line for line in lines if line[0] == '#']))\n",
    "print()\n",
    "\n",
    "###Обработка\n",
    "lines = [line for line in lines if line[0] != '#']\n",
    "\n",
    "#- оставить только строки которые следуют сразу за строкой, которая есть число \n",
    "lines = [line for line, prev_line in zip(lines[1:], lines[:-1]) if prev_line.isdigit()]\n",
    "\n",
    "#- из этих строк удалить все, после символа // \n",
    "lines = [line.split('//')[0] for line in lines]\n",
    "\n",
    "#-удалить все в скобках (), [], и убрать возникшие посторяющиеся пробелы\n",
    "lines = [' '.join(re.sub(\"[\\(\\[].*?[\\)\\]]\", \"\", line).split()) for line in lines]\n",
    "\n",
    "#- удалить в начале строк \"* \" и \"…\"\n",
    "lines = [line.lstrip('* ').lstrip('…') for line in lines]\n",
    "\n",
    "#- удаляем строки в которых содержатся числа, т.к. во многих случаях такие строки \n",
    "#  содержат какие то пояснения, а не чистые цитата (их совсем немного, так что проще удалить)\n",
    "#- финально удалить первоначальные и завершающие пробелы\n",
    "lines = [line.strip() for line in lines if not has_numbers(line)]\n",
    "\n",
    "#-удалить все сиволы '/ '\n",
    "lines = [' '.join(line.split('/ ')) for line in lines]\n",
    "\n",
    "###Итоги и добавление в общий список\n",
    "print(\"Количество: {}\".format(len(lines)))\n",
    "print(\"\\n\".join(lines[::len(lines)//10]))\n",
    "quotes_rus.extend(lines)"
   ]
  },
  {
   "cell_type": "code",
   "execution_count": 30,
   "id": "3e1e9908",
   "metadata": {
    "execution": {
     "iopub.execute_input": "2022-03-09T17:08:55.558901Z",
     "iopub.status.busy": "2022-03-09T17:08:55.558198Z",
     "iopub.status.idle": "2022-03-09T17:08:55.837914Z",
     "shell.execute_reply": "2022-03-09T17:08:55.838303Z",
     "shell.execute_reply.started": "2022-03-09T15:40:43.480859Z"
    },
    "papermill": {
     "duration": 0.358547,
     "end_time": "2022-03-09T17:08:55.838460",
     "exception": false,
     "start_time": "2022-03-09T17:08:55.479913",
     "status": "completed"
    },
    "tags": []
   },
   "outputs": [
    {
     "name": "stdout",
     "output_type": "stream",
     "text": [
      "Сопроводительные комментарии к /kaggle/input/my-private-datasets/quotes_rus/quotes_pattern03.txt\n",
      "#Действия следующие:\n",
      "#- взять только строки, начинающиеся с цифры\n",
      "#- удалить вначале каждой строки \"число\"\n",
      "#- из этих строк удалить все, после символа //\n",
      "#- финально удалить первоначальные и завершающие пробелы\n",
      "#- оставить только строки завершающиеся на . или ! или ?\n",
      "#- удалить в начале строк \"* \"\n",
      "\n",
      "Количество: 13860\n",
      "Язык порождается мышлением и порождает мышление.\n",
      "Она была народной принцессой, и останется ею в наших сердцах и нашей памяти навсегда.\n",
      "Способность краснеть – самое характерное и самое человеческое из всех человеческих свойств.\n",
      "У нее <…> черный ребенок! <…> У белой женщины черный ребенок!\n",
      "Ограниченная война.\n",
      "Если бы цивилизация оставалась в руках женщин, мы все еще жили бы в соломенных хижинах.\n",
      "Господа офицеры! Какой восторг!\n",
      "Где Жизнь, которую мы потеряли в жизни?\n",
      "Не заграждай рта у вола молотящего.\n",
      "Константинопольский епископ да имеет преимущества чести по римском епископе, потому что град оный есть Новый Рим.\n"
     ]
    }
   ],
   "source": [
    "###quotes_pattern03.txt\n",
    "num = 2\n",
    "with open(quotes_rus_filenames[num]) as file:\n",
    "    lines = [line.rstrip() for line in file]\n",
    "lines = list(filter(None, lines)) #remove empty strings\n",
    "print('Сопроводительные комментарии к {}'.format(quotes_rus_filenames[num]))\n",
    "print(\"\\n\".join([line for line in lines if line[0] == '#']))\n",
    "print()\n",
    "\n",
    "###Обработка\n",
    "lines = [line for line in lines if line[0] != '#']\n",
    "\n",
    "#- взять только строки, начинающиеся с цифры\n",
    "lines = [line for line in lines if line[0].isdigit()]\n",
    "\n",
    "#- удалить вначале каждой строки \"число\"\n",
    "lines = [rem_start_number(line).strip() for line in lines]\n",
    "\n",
    "#- из этих строк удалить все, после символа // или '▪ '\n",
    "#- финально удалить первоначальные и завершающие пробелы\n",
    "lines = [line.split('//')[0].split('▪ ')[0].strip() for line in lines]\n",
    "\n",
    "#-удалить все в скобках (), [], и убрать возникшие посторяющиеся пробелы\n",
    "lines = [' '.join(re.sub(\"[\\(\\[].*?[\\)\\]]\", \"\", line).split()) for line in lines]\n",
    "\n",
    "#- оставить только строки завершающиеся на . или ! или ?\n",
    "lines = [line for line in lines if line[-1] in ['.', '!', '?']]\n",
    "\n",
    "#- удалить в начале строк \"* \" и \"…\"\n",
    "lines = [line.lstrip('* ').lstrip('…') for line in lines]\n",
    "\n",
    "#-убрать строки, содержащие ')'\n",
    "lines = [line for line in lines if ')' not in line]\n",
    "\n",
    "#- удаляем строки в которых содержатся числа, т.к. во многих случаях такие строки \n",
    "#  содержат какие то пояснения, а не чистые цитата (их совсем немного, так что проще удалить)\n",
    "lines = [line.strip() for line in lines if not has_numbers(line)]\n",
    "\n",
    "#-удалить все сиволы '/ '\n",
    "lines = [' '.join(line.split('/ ')) for line in lines]\n",
    "\n",
    "###Итоги и добавление в общий список\n",
    "print(\"Количество: {}\".format(len(lines)))\n",
    "print(\"\\n\".join(lines[::len(lines)//10]))\n",
    "quotes_rus.extend(lines)"
   ]
  },
  {
   "cell_type": "code",
   "execution_count": 31,
   "id": "c2b3edc0",
   "metadata": {
    "execution": {
     "iopub.execute_input": "2022-03-09T17:08:55.985173Z",
     "iopub.status.busy": "2022-03-09T17:08:55.984452Z",
     "iopub.status.idle": "2022-03-09T17:08:56.066763Z",
     "shell.execute_reply": "2022-03-09T17:08:56.067351Z",
     "shell.execute_reply.started": "2022-03-09T15:40:43.720463Z"
    },
    "papermill": {
     "duration": 0.159605,
     "end_time": "2022-03-09T17:08:56.067528",
     "exception": false,
     "start_time": "2022-03-09T17:08:55.907923",
     "status": "completed"
    },
    "tags": []
   },
   "outputs": [
    {
     "name": "stdout",
     "output_type": "stream",
     "text": [
      "Сопроводительные комментарии к /kaggle/input/my-private-datasets/quotes_rus/quotes_pattern04.txt\n",
      "#Действия следующие:\n",
      "#- удалить пустые строки\n",
      "#- финально удалить первоначальные и завершающие пробелы\n",
      "#- оставить только строки завершающиеся на . или ! или ?\n",
      "\n",
      "Количество: 11915\n",
      "Собственность есть священное и неприкосновенное право.\n",
      "80 % значимости чего бы то ни было приходится на 20 % «чего бы то ни было». Другими словами, 80 % стоимости торговых сделок приходится на 20 % клиентов; 20 % людей выпивают 80 % пива; 80 % грязи скопляется на 20 % площади пола и т. д.\n",
      "Трудно не перезабыть сведений, которым нет применения.\n",
      "Невозможное не может вменяться в обязанность.\n",
      "Дорога к успеху переполнена женщинами, которые толкают перед собой мужей.\n",
      "Революция – это война свободы против ее врагов; конституция – это режим победоносной и мирной свободы.\n",
      "Когда страна летит под откос, за рулем должен быть человек, который вовремя нажмет на газ.\n",
      "Чтобы переговоры состоялись, нужны два условия: общность интересов и расхождение интересов. Без общности интересов ни о чем договориться нельзя; без расхождения интересов договариваться не о чем.\n",
      "Момент, когда колешься не для того, чтобы тебе стало хорошо, а чтобы не было плохо, наступает очень быстро.\n",
      "Будьте терпимы к моей нетерпимости.\n",
      "Из трех ходячих поговорок последнего времени: «дальше идти некуда», «так жить дольше нельзя» и «к прошлому возврата нет» – безусловно справедлива только последняя. Дальше идти можно довольно далеко вправо и очень далеко влево; так мы жили и раньше и не так будем жить дольше только потому, что верно третье – к прошлому возврата нет.\n"
     ]
    }
   ],
   "source": [
    "###quotes_pattern04.txt\n",
    "num = 3\n",
    "with open(quotes_rus_filenames[num]) as file:\n",
    "    lines = [line.rstrip() for line in file]\n",
    "lines = list(filter(None, lines)) #remove empty strings\n",
    "print('Сопроводительные комментарии к {}'.format(quotes_rus_filenames[num]))\n",
    "print(\"\\n\".join([line for line in lines if line[0] == '#']))\n",
    "print()\n",
    "\n",
    "###Обработка\n",
    "lines = [line for line in lines if line[0] != '#']\n",
    "\n",
    "#- финально удалить первоначальные и завершающие пробелы\n",
    "lines = [line.strip() for line in lines]\n",
    "\n",
    "#- оставить только строки завершающиеся на . или ! или ?\n",
    "lines = [line for line in lines if line[-1] in ['.', '!', '?']]\n",
    "\n",
    "#- удалить в начале строк \"* \" и \"…\"\n",
    "lines = [line.lstrip('* ').lstrip('…').strip() for line in lines]\n",
    "\n",
    "###Итоги и добавление в общий список\n",
    "print(\"Количество: {}\".format(len(lines)))\n",
    "print(\"\\n\".join(lines[::len(lines)//10]))\n",
    "quotes_rus.extend(lines)"
   ]
  },
  {
   "cell_type": "code",
   "execution_count": 32,
   "id": "0d0078ba",
   "metadata": {
    "execution": {
     "iopub.execute_input": "2022-03-09T17:08:56.217472Z",
     "iopub.status.busy": "2022-03-09T17:08:56.216957Z",
     "iopub.status.idle": "2022-03-09T17:08:56.230661Z",
     "shell.execute_reply": "2022-03-09T17:08:56.230067Z",
     "shell.execute_reply.started": "2022-03-09T15:40:43.776692Z"
    },
    "papermill": {
     "duration": 0.091368,
     "end_time": "2022-03-09T17:08:56.230825",
     "exception": false,
     "start_time": "2022-03-09T17:08:56.139457",
     "status": "completed"
    },
    "tags": []
   },
   "outputs": [
    {
     "name": "stdout",
     "output_type": "stream",
     "text": [
      "Сопроводительные комментарии к /kaggle/input/my-private-datasets/quotes_rus/quotes_pattern05.txt\n",
      "#Действия следующие:\n",
      "#- удалить пустые строки\n",
      "#- финально удалить первоначальные и завершающие пробелы\n",
      "#- оставить только те цитаты, которые состоят из 1 строки, а именно, если между строками * * * и * * * есть только одна строка, остальные удаляем\n",
      "\n",
      "Количество: 421\n",
      "Говори правду, и тогда не придется ничего запоминать.\n",
      "Один раз в жизни счастье стучит в дверь каждого, но часто этот каждый сидит в соседнем кабачке и не слышит стука.\n",
      "Нет большей вульгарности, чем чрезмерная утонченность.\n",
      "Сначала Бог создал идиотов – просто для практики. Потом он создал школьных наставников.\n",
      "В наше время в психиатрические лечебницы можно упрятать лишь здоровых людей. Если вы попытаетесь разместить там психов, вам не хватит стройматериалов. Все люди по-своему безумны. Здравых умов нет, и спасает человека лишь случай – когда болезнь его по чистой случайности не подвергается большему испытанию.\n",
      "Я заметил, что на столах его гостиной собраны всевозможные комнатные игры. Я подумал, что это признак серой и скучной жизни. И оказался прав.\n",
      "Наберите команду плыть в рай и попробуйте сделать стоянку в аду на какие-нибудь два с половиной часа, просто чтобы взять угля, и будь я проклят, если какой-нибудь сукин сын не останется на берегу.\n",
      "Слухи о моей смерти сильно преувеличены.\n",
      "В этой жизни вам нужны только невежество и уверенность в себе – и успех вам обеспечен.\n",
      "Нельзя круглого человека просунуть в квадратный зазор. Только через время он трансформируется под отверстие.\n",
      "Человек не может быть доволен жизнью, если он недоволен собой.\n"
     ]
    }
   ],
   "source": [
    "###quotes_pattern05.txt\n",
    "num = 4\n",
    "with open(quotes_rus_filenames[num]) as file:\n",
    "    lines = [line.rstrip() for line in file]\n",
    "lines = list(filter(None, lines)) #remove empty strings\n",
    "print('Сопроводительные комментарии к {}'.format(quotes_rus_filenames[num]))\n",
    "print(\"\\n\".join([line for line in lines if line[0] == '#']))\n",
    "print()\n",
    "\n",
    "###Обработка\n",
    "lines = [line for line in lines if line[0] != '#']\n",
    "\n",
    "#- финально удалить первоначальные и завершающие пробелы\n",
    "lines = [line.strip() for line in lines]\n",
    "\n",
    "#- оставить только те цитаты, которые состоят из 1 строки, а именно, если между строками * * * и * * * есть только одна строка, остальные удаляем\n",
    "lines = [line for prev_line, line, next_line in zip(lines[:-2], lines[1:-1], lines[2:]) if prev_line == '* * *' and next_line == '* * *']\n",
    "\n",
    "###Итоги и добавление в общий список\n",
    "print(\"Количество: {}\".format(len(lines)))\n",
    "print(\"\\n\".join(lines[::len(lines)//10]))\n",
    "quotes_rus.extend(lines)"
   ]
  },
  {
   "cell_type": "code",
   "execution_count": 33,
   "id": "36a41dc4",
   "metadata": {
    "execution": {
     "iopub.execute_input": "2022-03-09T17:08:56.380377Z",
     "iopub.status.busy": "2022-03-09T17:08:56.379738Z",
     "iopub.status.idle": "2022-03-09T17:08:56.435057Z",
     "shell.execute_reply": "2022-03-09T17:08:56.434471Z",
     "shell.execute_reply.started": "2022-03-09T15:40:43.794698Z"
    },
    "papermill": {
     "duration": 0.13245,
     "end_time": "2022-03-09T17:08:56.435211",
     "exception": false,
     "start_time": "2022-03-09T17:08:56.302761",
     "status": "completed"
    },
    "tags": []
   },
   "outputs": [
    {
     "name": "stdout",
     "output_type": "stream",
     "text": [
      "Сопроводительные комментарии к /kaggle/input/my-private-datasets/quotes_rus/quotes_pattern06.txt\n",
      "#Действия следующие:\n",
      "#- удалить пустые строки\n",
      "#- финально удалить первоначальные и завершающие пробелы\n",
      "#- удалить строки, длиной менее 5 символов\n",
      "#- удалить строки, в которых встречается хоть одна цифра\n",
      "#- у оставшихся строк, удалить все после \"♦ \"\n",
      "#- финально удалить первоначальные и завершающие пробелы\n",
      "\n",
      "Количество: 3813\n",
      "А был ли мальчик?\n",
      "Веселое имя: Пушкин.\n",
      "Да он властей не признает!\n",
      "Запрещено запрещать!\n",
      "Кролики – это не только ценный мех, но и три-четыре килограмма легкоусвояемого мяса.\n",
      "Мышиный жеребчик.\n",
      "Овес нынче дорог.\n",
      "Призрак бродит по Европе – призрак коммунизма.\n",
      "Социализм не строят в белых перчатках.\n",
      "Фабрика смерти.\n",
      "Ярче тысячи солнц.\n"
     ]
    }
   ],
   "source": [
    "###quotes_pattern06.txt\n",
    "num = 5\n",
    "with open(quotes_rus_filenames[num]) as file:\n",
    "    lines = [line.rstrip() for line in file]\n",
    "lines = list(filter(None, lines)) #remove empty strings\n",
    "print('Сопроводительные комментарии к {}'.format(quotes_rus_filenames[num]))\n",
    "print(\"\\n\".join([line for line in lines if line[0] == '#']))\n",
    "print()\n",
    "\n",
    "###Обработка\n",
    "lines = [line for line in lines if line[0] != '#']\n",
    "\n",
    "#- финально удалить первоначальные и завершающие пробелы\n",
    "#- удалить строки, длиной менее 5 символов\n",
    "lines = [line.strip() for line in lines if len(line.strip()) >= 5]\n",
    "\n",
    "#- удалить строки, в которых встречается хоть одна цифра\n",
    "lines = [line.strip() for line in lines if not has_numbers(line)]\n",
    "\n",
    "#- у оставшихся строк, удалить все после \"♦ \"\n",
    "#- финально удалить первоначальные и завершающие пробелы\n",
    "lines = [line.split('♦ ')[0].strip() for line in lines]\n",
    "\n",
    "###Итоги и добавление в общий список\n",
    "print(\"Количество: {}\".format(len(lines)))\n",
    "print(\"\\n\".join(lines[::len(lines)//10]))\n",
    "quotes_rus.extend(lines)"
   ]
  },
  {
   "cell_type": "code",
   "execution_count": 34,
   "id": "9eb96a63",
   "metadata": {
    "execution": {
     "iopub.execute_input": "2022-03-09T17:08:56.584797Z",
     "iopub.status.busy": "2022-03-09T17:08:56.584171Z",
     "iopub.status.idle": "2022-03-09T17:08:56.598501Z",
     "shell.execute_reply": "2022-03-09T17:08:56.598033Z",
     "shell.execute_reply.started": "2022-03-09T15:40:43.839499Z"
    },
    "papermill": {
     "duration": 0.091232,
     "end_time": "2022-03-09T17:08:56.598612",
     "exception": false,
     "start_time": "2022-03-09T17:08:56.507380",
     "status": "completed"
    },
    "tags": []
   },
   "outputs": [
    {
     "name": "stdout",
     "output_type": "stream",
     "text": [
      "Сопроводительные комментарии к /kaggle/input/my-private-datasets/quotes_rus/quotes_pattern07.txt\n",
      "#Действия следующие:\n",
      "#- удалить пустые строки\n",
      "#- оставить только строки, в которых отсутсвуют цифры\n",
      "#- из этих строк удалить все, после символа // и (\n",
      "#- удалить в начале строк \"* \"\n",
      "#- финально удалить первоначальные и завершающие пробелы\n",
      "\n",
      "Количество: 356\n",
      "Если человек выколол глаз человеку, то должны выколоть ему глаз. Если человек выбил зуб человеку, то должны ему выбить зуб.\n",
      "Император должен умереть стоя.\n",
      "Овцы пожирают людей.\n",
      "Пусть будут такими, каковы они есть, или пусть вовсе не будут.\n",
      "Англия ожидает, что каждый исполнит свой долг.\n",
      "Я здесь, и здесь останусь.\n",
      "Наше будущее лежит на морях.\n",
      "Мы потерпели поражение без войны.\n",
      "Алжирский мятеж может закончиться только войной. Алжир – это Франция.\n",
      "Да – реформам, нет – бардаку!\n",
      "Францию наказать, Германию игнорировать, а Россию простить.\n"
     ]
    }
   ],
   "source": [
    "###quotes_pattern07.txt\n",
    "num = 6\n",
    "with open(quotes_rus_filenames[num]) as file:\n",
    "    lines = [line.rstrip() for line in file]\n",
    "lines = list(filter(None, lines)) #remove empty strings\n",
    "print('Сопроводительные комментарии к {}'.format(quotes_rus_filenames[num]))\n",
    "print(\"\\n\".join([line for line in lines if line[0] == '#']))\n",
    "print()\n",
    "\n",
    "###Обработка\n",
    "lines = [line for line in lines if line[0] != '#']\n",
    "\n",
    "#- оставить только строки, в которых отсутсвуют цифры\n",
    "lines = [line.strip() for line in lines if not has_numbers(line)]\n",
    "\n",
    "#- из этих строк удалить все, после символа // и (\n",
    "lines = [line.split('//')[0].split('(')[0].strip() for line in lines]\n",
    "\n",
    "#- удалить в начале строк \"* \"\n",
    "#- финально удалить первоначальные и завершающие пробелы\n",
    "lines = [line.lstrip('* ').strip() for line in lines]\n",
    "\n",
    "###Итоги и добавление в общий список\n",
    "print(\"Количество: {}\".format(len(lines)))\n",
    "print(\"\\n\".join(lines[::len(lines)//10]))\n",
    "quotes_rus.extend(lines)"
   ]
  },
  {
   "cell_type": "code",
   "execution_count": 35,
   "id": "5120411b",
   "metadata": {
    "execution": {
     "iopub.execute_input": "2022-03-09T17:08:56.757617Z",
     "iopub.status.busy": "2022-03-09T17:08:56.756875Z",
     "iopub.status.idle": "2022-03-09T17:08:56.761922Z",
     "shell.execute_reply": "2022-03-09T17:08:56.762500Z",
     "shell.execute_reply.started": "2022-03-09T15:40:43.8625Z"
    },
    "papermill": {
     "duration": 0.09132,
     "end_time": "2022-03-09T17:08:56.762660",
     "exception": false,
     "start_time": "2022-03-09T17:08:56.671340",
     "status": "completed"
    },
    "tags": []
   },
   "outputs": [
    {
     "name": "stdout",
     "output_type": "stream",
     "text": [
      "Количество: 33045\n"
     ]
    },
    {
     "data": {
      "text/plain": [
       "['Абсолютная власть развращает абсолютно.',\n",
       " 'Мы здесь для того, чтобы представлять интересы народа, но не для того, чтобы подчиняться воле народа, если мы искренне убеждены, что его воля противоречит его интересам.Речь в Палате общин.',\n",
       " 'А козла, на которого вышел жребий для отпущения, поставит живого пред Господом, чтобы совершить над ним очищение и отослать его в пустыню для отпущения. И приведет Аарон тельца в жертву за грех за себя <…>.',\n",
       " 'Нет уз святее товарищества!',\n",
       " 'Кушать подано, садитесь жрать!',\n",
       " 'Приди в чертог ко мне златой.',\n",
       " 'Об искренности в литературе.',\n",
       " 'Эй, моряк, ты слишком долго плавал.',\n",
       " 'Политика открытых дверей.',\n",
       " 'Сколько шума из-за яичницы !',\n",
       " 'Только верой, только благодатью, только через Писание.',\n",
       " 'Продавцы обычно стараются привести лошадь к водопою и заставить ее пить. Ваша задача – заставить лошадь почувствовать жажду.',\n",
       " 'Из каждых ста вновь созданных фирм семьдесят пять исчезают, не просуществовав и пяти лет, и главной причиной смерти является неудачное управление.',\n",
       " 'Алчность к богатству – мать несчастий всех без изъятья.',\n",
       " 'Политическая кампания – это искусство слушать пульс нации открытым ртом.',\n",
       " 'Все искусство дипломатии состоит в том, чтобы давать обеды.',\n",
       " 'Кровью можно смыть все, но кровь нельзя смыть ничем.',\n",
       " 'Всякий человек, родившийся в нашей стране, получает неотчуждаемое право на жизнь, свободу и свою часть государственного долга.',\n",
       " 'Добро пожаловать в ад!',\n",
       " 'Погибшее, но милое созданье.',\n",
       " 'Европа – не христианский клуб.']"
      ]
     },
     "execution_count": 35,
     "metadata": {},
     "output_type": "execute_result"
    }
   ],
   "source": [
    "#Общие итоги\n",
    "#ставим '.' в конце, если ее нет\n",
    "quotes_rus = [line if line[-1] in ['.', '!', '?'] else line + '.' for line in quotes_rus]\n",
    "print(\"Количество: {}\".format(len(quotes_rus)))\n",
    "quotes_rus[::len(quotes_rus)//20]"
   ]
  },
  {
   "cell_type": "code",
   "execution_count": 36,
   "id": "c1051829",
   "metadata": {
    "execution": {
     "iopub.execute_input": "2022-03-09T17:08:56.915866Z",
     "iopub.status.busy": "2022-03-09T17:08:56.915225Z",
     "iopub.status.idle": "2022-03-09T17:08:57.370356Z",
     "shell.execute_reply": "2022-03-09T17:08:57.370763Z",
     "shell.execute_reply.started": "2022-03-09T15:40:43.876824Z"
    },
    "papermill": {
     "duration": 0.535907,
     "end_time": "2022-03-09T17:08:57.370919",
     "exception": false,
     "start_time": "2022-03-09T17:08:56.835012",
     "status": "completed"
    },
    "tags": []
   },
   "outputs": [
    {
     "data": {
      "image/png": "[encoded data removed]",
      "text/plain": [
       "<Figure size 432x288 with 1 Axes>"
      ]
     },
     "metadata": {
      "needs_background": "light"
     },
     "output_type": "display_data"
    }
   ],
   "source": [
    "plt.title('Name length distribution (before len threshold)')\n",
    "plt.hist(list(map(len, quotes_rus)), bins=50);"
   ]
  },
  {
   "cell_type": "code",
   "execution_count": 37,
   "id": "4046dac5",
   "metadata": {
    "execution": {
     "iopub.execute_input": "2022-03-09T17:08:57.531852Z",
     "iopub.status.busy": "2022-03-09T17:08:57.531161Z",
     "iopub.status.idle": "2022-03-09T17:08:57.545938Z",
     "shell.execute_reply": "2022-03-09T17:08:57.545457Z",
     "shell.execute_reply.started": "2022-03-09T15:40:44.326639Z"
    },
    "papermill": {
     "duration": 0.102338,
     "end_time": "2022-03-09T17:08:57.546052",
     "exception": false,
     "start_time": "2022-03-09T17:08:57.443714",
     "status": "completed"
    },
    "tags": []
   },
   "outputs": [],
   "source": [
    "#set len threshold and add padding\n",
    "QUANTILE_THRESHOLD = 0.75\n",
    "len_treshold = int(np.quantile(np.array(list(map(len, quotes_rus))), QUANTILE_THRESHOLD))\n",
    "quotes_rus = ['_' + line for line in quotes_rus if len(line) <= len_treshold]"
   ]
  },
  {
   "cell_type": "code",
   "execution_count": 38,
   "id": "b828fd03",
   "metadata": {
    "execution": {
     "iopub.execute_input": "2022-03-09T17:08:57.746529Z",
     "iopub.status.busy": "2022-03-09T17:08:57.713612Z",
     "iopub.status.idle": "2022-03-09T17:08:58.087541Z",
     "shell.execute_reply": "2022-03-09T17:08:58.087967Z",
     "shell.execute_reply.started": "2022-03-09T15:40:44.352104Z"
    },
    "papermill": {
     "duration": 0.469173,
     "end_time": "2022-03-09T17:08:58.088124",
     "exception": false,
     "start_time": "2022-03-09T17:08:57.618951",
     "status": "completed"
    },
    "tags": []
   },
   "outputs": [
    {
     "data": {
      "image/png": "[encoded data removed]",
      "text/plain": [
       "<Figure size 432x288 with 1 Axes>"
      ]
     },
     "metadata": {
      "needs_background": "light"
     },
     "output_type": "display_data"
    }
   ],
   "source": [
    "plt.title('Name length distribution (after len threshold)')\n",
    "plt.hist(list(map(len, quotes_rus)), bins=50);"
   ]
  },
  {
   "cell_type": "code",
   "execution_count": 39,
   "id": "b55a50a7",
   "metadata": {
    "execution": {
     "iopub.execute_input": "2022-03-09T17:08:58.240251Z",
     "iopub.status.busy": "2022-03-09T17:08:58.239457Z",
     "iopub.status.idle": "2022-03-09T17:08:58.241871Z",
     "shell.execute_reply": "2022-03-09T17:08:58.241417Z",
     "shell.execute_reply.started": "2022-03-09T15:40:44.770712Z"
    },
    "papermill": {
     "duration": 0.079162,
     "end_time": "2022-03-09T17:08:58.241981",
     "exception": false,
     "start_time": "2022-03-09T17:08:58.162819",
     "status": "completed"
    },
    "tags": []
   },
   "outputs": [],
   "source": [
    "# #for test\n",
    "# quote = '_Кушать подано, садитесь жрать!'\n",
    "# quotes_rus = [quote] * 1000"
   ]
  },
  {
   "cell_type": "code",
   "execution_count": 40,
   "id": "618d04cf",
   "metadata": {
    "ExecuteTime": {
     "end_time": "2019-11-05T18:21:31.653673Z",
     "start_time": "2019-11-05T18:21:31.578424Z"
    },
    "execution": {
     "iopub.execute_input": "2022-03-09T17:08:58.455742Z",
     "iopub.status.busy": "2022-03-09T17:08:58.455053Z",
     "iopub.status.idle": "2022-03-09T17:08:58.457631Z",
     "shell.execute_reply": "2022-03-09T17:08:58.458048Z",
     "shell.execute_reply.started": "2022-03-09T15:40:44.775995Z"
    },
    "papermill": {
     "duration": 0.143221,
     "end_time": "2022-03-09T17:08:58.458171",
     "exception": false,
     "start_time": "2022-03-09T17:08:58.314950",
     "status": "completed"
    },
    "tags": []
   },
   "outputs": [
    {
     "data": {
      "text/plain": [
       "(162, 24815)"
      ]
     },
     "execution_count": 40,
     "metadata": {},
     "output_type": "execute_result"
    }
   ],
   "source": [
    "tokens = list(set(''.join(quotes_rus)))\n",
    "token_to_id = {token: idx for idx, token in enumerate(tokens)}\n",
    "num_tokens = len(tokens)\n",
    "num_tokens, len(quotes_rus)"
   ]
  },
  {
   "cell_type": "code",
   "execution_count": 41,
   "id": "404e5f6f",
   "metadata": {
    "ExecuteTime": {
     "end_time": "2019-11-05T18:21:07.838814Z",
     "start_time": "2019-11-05T18:21:07.833611Z"
    },
    "execution": {
     "iopub.execute_input": "2022-03-09T17:08:58.610640Z",
     "iopub.status.busy": "2022-03-09T17:08:58.609997Z",
     "iopub.status.idle": "2022-03-09T17:08:58.612773Z",
     "shell.execute_reply": "2022-03-09T17:08:58.613339Z",
     "shell.execute_reply.started": "2022-03-09T15:40:44.849721Z"
    },
    "papermill": {
     "duration": 0.081386,
     "end_time": "2022-03-09T17:08:58.613498",
     "exception": false,
     "start_time": "2022-03-09T17:08:58.532112",
     "status": "completed"
    },
    "tags": []
   },
   "outputs": [
    {
     "name": "stdout",
     "output_type": "stream",
     "text": [
      "Seems alright!\n"
     ]
    }
   ],
   "source": [
    "assert len(tokens) == len(token_to_id), \"dictionaries must have same size\"\n",
    "\n",
    "for i in range(num_tokens):\n",
    "    assert token_to_id[tokens[i]] == i, \"token identifier must be it's position in tokens list\"\n",
    "\n",
    "print(\"Seems alright!\")"
   ]
  },
  {
   "cell_type": "code",
   "execution_count": 42,
   "id": "14c2260d",
   "metadata": {
    "execution": {
     "iopub.execute_input": "2022-03-09T17:08:58.769430Z",
     "iopub.status.busy": "2022-03-09T17:08:58.768848Z",
     "iopub.status.idle": "2022-03-09T17:08:58.771731Z",
     "shell.execute_reply": "2022-03-09T17:08:58.772299Z",
     "shell.execute_reply.started": "2022-03-09T15:40:44.862024Z"
    },
    "papermill": {
     "duration": 0.083407,
     "end_time": "2022-03-09T17:08:58.772465",
     "exception": false,
     "start_time": "2022-03-09T17:08:58.689058",
     "status": "completed"
    },
    "tags": []
   },
   "outputs": [
    {
     "name": "stdout",
     "output_type": "stream",
     "text": [
      "_Абсолютная власть развращает абсолютно.\n",
      "_Он умер <…> оттого, что не мог больше жить. Он умер от смерти.\n",
      "_Нами правит правительство и утренние газеты.\n",
      "[[ 30  64 150 127 104  23 160  10 158  58  75  19 146  23  58 127  10   1\n",
      "   19  57  58  66 146  57  58   9  58  47  10  19  58 150 127 104  23 160\n",
      "   10 158 104 130  19  19  19  19  19  19  19  19  19  19  19  19  19  19\n",
      "   19  19  19  19  19  19  19  19  19]\n",
      " [ 30  55 158  19 122 138  47  57  19  89  73  97  19 104  10  10 104  59\n",
      "  104  87  19 161  10 104  19 158  47  19 138 104  59  19 150 104  23   1\n",
      "  126  47  19  60  31  10   1 130  19  55 158  19 122 138  47  57  19 104\n",
      "   10  19 127 138  47  57  10  31 130]\n",
      " [ 30  88  58 138  31  19  21  57  58 146  31  10  19  21  57  58 146  31\n",
      "   10  47  23   1 127  10 146 104  19  31  19 122  10  57  47 158 158  31\n",
      "   47  19  59  58  66  47  10 128 130  19  19  19  19  19  19  19  19  19\n",
      "   19  19  19  19  19  19  19  19  19]]\n"
     ]
    }
   ],
   "source": [
    "#Example: cast 4 names to matrices, pad with zeros\n",
    "print('\\n'.join(quotes_rus[::10000]))\n",
    "print(to_matrix(quotes_rus[::10000], token_to_id))"
   ]
  },
  {
   "cell_type": "markdown",
   "id": "337803bb",
   "metadata": {
    "execution": {
     "iopub.execute_input": "2022-03-07T15:44:42.652006Z",
     "iopub.status.busy": "2022-03-07T15:44:42.651662Z",
     "iopub.status.idle": "2022-03-07T15:44:42.655554Z",
     "shell.execute_reply": "2022-03-07T15:44:42.654768Z",
     "shell.execute_reply.started": "2022-03-07T15:44:42.651972Z"
    },
    "papermill": {
     "duration": 0.073305,
     "end_time": "2022-03-09T17:08:58.921352",
     "exception": false,
     "start_time": "2022-03-09T17:08:58.848047",
     "status": "completed"
    },
    "tags": []
   },
   "source": [
    "### Работа с моделями (на основе символов)"
   ]
  },
  {
   "cell_type": "raw",
   "id": "0ccdd1ba",
   "metadata": {
    "execution": {
     "iopub.execute_input": "2022-03-09T13:17:48.197474Z",
     "iopub.status.busy": "2022-03-09T13:17:48.197038Z",
     "iopub.status.idle": "2022-03-09T13:19:18.300809Z",
     "shell.execute_reply": "2022-03-09T13:19:18.299742Z",
     "shell.execute_reply.started": "2022-03-09T13:17:48.197437Z"
    },
    "papermill": {
     "duration": 0.073307,
     "end_time": "2022-03-09T17:08:59.068468",
     "exception": false,
     "start_time": "2022-03-09T17:08:58.995161",
     "status": "completed"
    },
    "tags": []
   },
   "source": [
    "#hyperparameters\n",
    "name='charRNN_emb_size=100_rnn_num_units_512_rnn_num_layers=1_num_loop=3000'\n",
    "emb_size=100\n",
    "RNN_class=nn.RNN #nn.RNN, nn.GRU, or nn.LSTM\n",
    "rnn_num_units=512\n",
    "rnn_num_layers=1\n",
    "batch_size=32\n",
    "num_loop=3000\n",
    "dataset=quotes_rus\n",
    "\n",
    "\n",
    "MAX_LENGTH = max(map(len, dataset))\n",
    "model = RNNLoop(num_tokens=num_tokens, emb_size=emb_size, RNN_class=RNN_class,\n",
    "                rnn_num_units=rnn_num_units, rnn_num_layers=rnn_num_layers)\n",
    "opt = torch.optim.Adam(model.parameters())\n",
    "history = []\n",
    "\n",
    "model, history = train_model(model, opt, dataset, token_to_id, history, num_loop=num_loop, batch_size=batch_size, device=device)"
   ]
  },
  {
   "cell_type": "raw",
   "id": "92124d64",
   "metadata": {
    "ExecuteTime": {
     "end_time": "2019-11-05T18:21:23.702249Z",
     "start_time": "2019-11-05T18:21:23.629226Z"
    },
    "execution": {
     "iopub.status.busy": "2022-03-09T13:19:18.301718Z",
     "iopub.status.idle": "2022-03-09T13:19:18.302044Z",
     "shell.execute_reply": "2022-03-09T13:19:18.301899Z",
     "shell.execute_reply.started": "2022-03-09T13:19:18.301865Z"
    },
    "papermill": {
     "duration": 0.07646,
     "end_time": "2022-03-09T17:08:59.219832",
     "exception": false,
     "start_time": "2022-03-09T17:08:59.143372",
     "status": "completed"
    },
    "tags": []
   },
   "source": [
    "for _ in range(10):\n",
    "    print(generate_sample_loop(model, max_length=MAX_LENGTH, temperature=1))\n",
    "print()\n",
    "print()\n",
    "for seed_phrase in ['_Если', '_Пусть']:\n",
    "    print(\"#{} ##################################\".format(seed_phrase))\n",
    "    for t in [1, 0.1, 1.2]:\n",
    "        print(\"Temparature = {}:\".format(t))\n",
    "        for _ in range(10):\n",
    "            print(generate_sample_loop(model, seed_phrase=seed_phrase, max_length=MAX_LENGTH, temperature=t))\n",
    "        print()\n",
    "    print()"
   ]
  },
  {
   "cell_type": "raw",
   "id": "2aea379a",
   "metadata": {
    "execution": {
     "iopub.status.busy": "2022-03-09T13:19:18.303203Z",
     "iopub.status.idle": "2022-03-09T13:19:18.303672Z",
     "shell.execute_reply": "2022-03-09T13:19:18.30352Z",
     "shell.execute_reply.started": "2022-03-09T13:19:18.3035Z"
    },
    "papermill": {
     "duration": 0.073701,
     "end_time": "2022-03-09T17:08:59.367775",
     "exception": false,
     "start_time": "2022-03-09T17:08:59.294074",
     "status": "completed"
    },
    "tags": []
   },
   "source": [
    "#hyperparameters\n",
    "name='charRNN_emb_size=100_rnn_num_units_512_rnn_num_layers=3_num_loop=5000'\n",
    "emb_size=100\n",
    "RNN_class=nn.RNN #nn.RNN, nn.GRU, or nn.LSTM\n",
    "rnn_num_units=512\n",
    "rnn_num_layers=3\n",
    "batch_size=32\n",
    "num_loop=5000\n",
    "dataset=quotes_rus\n",
    "\n",
    "\n",
    "MAX_LENGTH = max(map(len, dataset))\n",
    "model = RNNLoop(num_tokens=num_tokens, emb_size=emb_size,  RNN_class=RNN_class, \n",
    "                rnn_num_units=rnn_num_units, rnn_num_layers=rnn_num_layers)\n",
    "opt = torch.optim.Adam(model.parameters())\n",
    "history = []\n",
    "\n",
    "model, history = train_model(model, opt, dataset, token_to_id, history, num_loop=num_loop, batch_size=batch_size, device=device)"
   ]
  },
  {
   "cell_type": "raw",
   "id": "a6fff97b",
   "metadata": {
    "ExecuteTime": {
     "end_time": "2019-11-05T18:21:23.702249Z",
     "start_time": "2019-11-05T18:21:23.629226Z"
    },
    "execution": {
     "iopub.status.busy": "2022-03-09T13:19:18.304848Z",
     "iopub.status.idle": "2022-03-09T13:19:18.305215Z",
     "shell.execute_reply": "2022-03-09T13:19:18.305068Z",
     "shell.execute_reply.started": "2022-03-09T13:19:18.30505Z"
    },
    "papermill": {
     "duration": 0.073324,
     "end_time": "2022-03-09T17:08:59.514553",
     "exception": false,
     "start_time": "2022-03-09T17:08:59.441229",
     "status": "completed"
    },
    "tags": []
   },
   "source": [
    "for _ in range(10):\n",
    "    print(generate_sample_loop(model, max_length=MAX_LENGTH, temperature=1))\n",
    "print()\n",
    "print()\n",
    "for seed_phrase in ['_Если', '_Пусть']:\n",
    "    print(\"#{} ##################################\".format(seed_phrase))\n",
    "    for t in [1, 0.1, 1.2]:\n",
    "        print(\"Temparature = {}:\".format(t))\n",
    "        for _ in range(10):\n",
    "            print(generate_sample_loop(model, seed_phrase=seed_phrase, max_length=MAX_LENGTH, temperature=t))\n",
    "        print()\n",
    "    print()"
   ]
  },
  {
   "cell_type": "code",
   "execution_count": 43,
   "id": "04f37959",
   "metadata": {
    "execution": {
     "iopub.execute_input": "2022-03-09T17:08:59.675434Z",
     "iopub.status.busy": "2022-03-09T17:08:59.674791Z",
     "iopub.status.idle": "2022-03-09T17:13:14.117068Z",
     "shell.execute_reply": "2022-03-09T17:13:14.118045Z",
     "shell.execute_reply.started": "2022-03-09T13:19:18.306734Z"
    },
    "papermill": {
     "duration": 254.529495,
     "end_time": "2022-03-09T17:13:14.118254",
     "exception": false,
     "start_time": "2022-03-09T17:08:59.588759",
     "status": "completed"
    },
    "tags": []
   },
   "outputs": [
    {
     "data": {
      "image/png": "[encoded data removed]",
      "text/plain": [
       "<Figure size 432x288 with 1 Axes>"
      ]
     },
     "metadata": {
      "needs_background": "light"
     },
     "output_type": "display_data"
    },
    {
     "name": "stdout",
     "output_type": "stream",
     "text": [
      "Full train time = 254.35s\n"
     ]
    }
   ],
   "source": [
    "#hyperparameters\n",
    "name='charGRU_emb_size=256_rnn_num_units=1024_rnn_num_layers=1_num_loop=10000'\n",
    "emb_size=256\n",
    "RNN_class=nn.GRU #nn.RNN, nn.GRU, or nn.LSTM\n",
    "rnn_num_units=1024\n",
    "rnn_num_layers=1\n",
    "batch_size=32\n",
    "num_loop=10000\n",
    "dataset=quotes_rus\n",
    "\n",
    "\n",
    "MAX_LENGTH = max(map(len, dataset))\n",
    "model = RNNLoop(num_tokens=num_tokens, emb_size=emb_size, RNN_class=RNN_class,\n",
    "                rnn_num_units=rnn_num_units, rnn_num_layers=rnn_num_layers)\n",
    "opt = torch.optim.Adam(model.parameters())\n",
    "history = []\n",
    "\n",
    "model, history = train_model(model, opt, dataset, token_to_id, history, num_loop=num_loop, batch_size=batch_size, device=device)"
   ]
  },
  {
   "cell_type": "code",
   "execution_count": 44,
   "id": "d1b44f7b",
   "metadata": {
    "ExecuteTime": {
     "end_time": "2019-11-05T18:21:23.702249Z",
     "start_time": "2019-11-05T18:21:23.629226Z"
    },
    "execution": {
     "iopub.execute_input": "2022-03-09T17:13:14.358105Z",
     "iopub.status.busy": "2022-03-09T17:13:14.357521Z",
     "iopub.status.idle": "2022-03-09T17:13:20.665385Z",
     "shell.execute_reply": "2022-03-09T17:13:20.664605Z",
     "shell.execute_reply.started": "2022-03-09T13:19:18.307942Z"
    },
    "papermill": {
     "duration": 6.423232,
     "end_time": "2022-03-09T17:13:20.665512",
     "exception": false,
     "start_time": "2022-03-09T17:13:14.242280",
     "status": "completed"
    },
    "tags": []
   },
   "outputs": [
    {
     "name": "stdout",
     "output_type": "stream",
     "text": [
      "_Зеленый друг.                                                                       \n",
      "_Убей – не больше, чем люблю. Оная будь и прекрасно.                                 \n",
      "_сатиры и понаждыт.                                                                  \n",
      "_Правители – это ядики.                                                              \n",
      "_Утро нашей Родины.                                                                  \n",
      "_А новые идею – это не люблю.                                                        \n",
      "_Люди могут пожаром без Итаков.                                                      \n",
      "_Все, что может грезит, натисят, но надо просить за чтонинг.                         \n",
      "_По мне же нам чужую пипу.                                                           \n",
      "_Я дал буду свойственно с неба, по которому что лишь один из тоже он.                \n",
      "\n",
      "\n",
      "#_Если ##################################\n",
      "Temparature = 1:\n",
      "_Если хочешь быть здоровым, но борьба за двободы.                                    \n",
      "_Если вам нечего значит, за кого хочет быть хорошим коммунистом.                     \n",
      "_Если в ничтожатся высши чаго неоврепать мечтое рубачего.                            \n",
      "_Если обе только почести не говорить.                                                \n",
      "_Если уже ничего не делает усилое, туфлине войнуем.                                  \n",
      "_Если уже не отчавшие совету, значит, у ничаем животное заведи.                      \n",
      "_Если у нигагу – где, Господин разменье: / Франции буря: спасибо.                    \n",
      "_Если можешь одоти-мери, чтобы ты никогда пришеловеческие права.                     \n",
      "_Если вы не теряли это спор, то или небо — попа?                                     \n",
      "_Если друг работать на Правител, сколько бы присему оправдании.                      \n",
      "\n",
      "Temparature = 0.1:\n",
      "_Если вы просите меня того, что он уже у вас две молитвы.                            \n",
      "_Если вы просите меня того, что он уже у вас две молчать.                            \n",
      "_Если вы пожалуйте меня, то такому вы требуем и отечество.                           \n",
      "_Если вы меня заметили, затем мне вы не больше не существовало принято на крехо, кто-\n",
      "_Если вы просите меня того, что он уже пролетаривать, наговору ценную землю на забыто\n",
      "_Если вы пожалуйте меня, то такому вам обещать вам свободны.                         \n",
      "_Если не можешь один деньги – теперь попробуйте с думать о женщиной, но не должен кож\n",
      "_Если вы просите меня повести в голову Израильного человека с мелоднюю не существует.\n",
      "_Если вы понесе – и не буду красноретивными и не принимательное права.               \n",
      "_Если вы просите меня того, что он уже у вас две молитвы.                            \n",
      "\n",
      "Temparature = 1.2:\n",
      "_Если важная видна мне никогда сегодняшние пигам, будно цепа моя Меня в рук человека.\n",
      "_Если вам сдалью отыщесть, то по-наслогом денежные знание — свое берите.             \n",
      "_Если вы мне приниматели грехи в ногу, теперь переправили ее примет.                 \n",
      "_Если ваше бурел и за нее неприродным, сделано меньше; / Но зла, он начинают завое!  \n",
      "_Если речьто атомнитушка денег Генералы.                                             \n",
      "_Если я с нами вечения противоречивать, то и к яму стоит.                            \n",
      "_Если убьять у Исааками чувство ужасает человека, мы человека облипкация что-нибудь н\n",
      "_Если паспри Авгавию должно протинство, а с теоратии.                                \n",
      "_Если верующий же человек обень иде земли он АльТии, фактии против своих летарь.     \n",
      "_Если хочешь наши членые, — это не сложные дело – они снизоваться не будут лижданного\n",
      "\n",
      "\n",
      "#_Пусть ##################################\n",
      "Temparature = 1:\n",
      "_Пусть решают что хочет, у кебя буду не хотят тратили, чтобы они не перестается.     \n",
      "_Пусть расцпешних против трубавшихся о себе.                                         \n",
      "_Пусть будете ненавижу всех напад.                                                   \n",
      "_Пусть это безумие только циников, афинян и сод мной плаками.                        \n",
      "_Пусть это будете неизбежно, если он не оружили справедления.                        \n",
      "_Пусть рынко правителейская.                                                         \n",
      "_Пусть эта рабство хорошего ди, а сегодняшних предсказывает только смертный.         \n",
      "_Пусть боги платят готовы сокрывается.                                               \n",
      "_Пусть рассчитывай женить значат о бедностью!                                        \n",
      "_Пусть будущее не забыть.                                                            \n",
      "\n",
      "Temparature = 0.1:\n",
      "_Пусть не приятная политика.                                                         \n",
      "_Пусть нации сознать, но не принять решения.                                         \n",
      "_Пусть не приятная политика.                                                         \n",
      "_Пусть не приятник на свете благодеяние без противника есть против ребенка.          \n",
      "_Пусть не приятник на свете благодеяние зла.                                         \n",
      "_Пусть не приятная политика.                                                         \n",
      "_Пусть не приятная политика.                                                         \n",
      "_Пусть не понимают по половину прошлого, – не услышу, что и меня. Она занятого лишь о\n",
      "_Пусть не приятник по прияте у вас не подняться с полет от не по прияте.             \n",
      "_Пусть не приятник на свете больше, чем не принимать.                                \n",
      "\n",
      "Temparature = 1.2:\n",
      "_Пусть развядает всё.                                                                \n",
      "_Пусть будущее у кого-ближе всегда счастливые, а не требуем!                         \n",
      "_Пусть разривают не читают, а поэтому муже учится.                                   \n",
      "_Пусть будня и писатели.                                                             \n",
      "_Пусть ненавидят, либо решиться; я не услышу что-то благода?  Тех любви и легче нрави\n",
      "_Пусть оказывается гнизованное чувство умереть!                                      \n",
      "_Пусть эпохи – всего человея, премьернуть и будтичность мух, росподня какдов-коллетко\n",
      "_Пусть непонятная впрачь никогда не прохважает ввину капкатин. Веони рассчитать.     \n",
      "_Пусть не целая и планается.                                                         \n",
      "_Пусть гнут, я буризус!                                                              \n",
      "\n",
      "\n"
     ]
    }
   ],
   "source": [
    "for _ in range(10):\n",
    "    print(generate_sample_loop(model, max_length=MAX_LENGTH, temperature=1))\n",
    "print()\n",
    "print()\n",
    "for seed_phrase in ['_Если', '_Пусть']:\n",
    "    print(\"#{} ##################################\".format(seed_phrase))\n",
    "    for t in [1, 0.1, 1.2]:\n",
    "        print(\"Temparature = {}:\".format(t))\n",
    "        for _ in range(10):\n",
    "            print(generate_sample_loop(model, seed_phrase=seed_phrase, max_length=MAX_LENGTH, temperature=t))\n",
    "        print()\n",
    "    print()"
   ]
  },
  {
   "cell_type": "code",
   "execution_count": 45,
   "id": "76fbeed8",
   "metadata": {
    "execution": {
     "iopub.execute_input": "2022-03-09T17:13:20.842170Z",
     "iopub.status.busy": "2022-03-09T17:13:20.841380Z",
     "iopub.status.idle": "2022-03-09T17:21:59.136887Z",
     "shell.execute_reply": "2022-03-09T17:21:59.137329Z",
     "shell.execute_reply.started": "2022-03-09T13:19:18.309181Z"
    },
    "papermill": {
     "duration": 518.387088,
     "end_time": "2022-03-09T17:21:59.137499",
     "exception": false,
     "start_time": "2022-03-09T17:13:20.750411",
     "status": "completed"
    },
    "tags": []
   },
   "outputs": [
    {
     "data": {
      "image/png": "[encoded data removed]",
      "text/plain": [
       "<Figure size 432x288 with 1 Axes>"
      ]
     },
     "metadata": {
      "needs_background": "light"
     },
     "output_type": "display_data"
    },
    {
     "name": "stdout",
     "output_type": "stream",
     "text": [
      "Full train time = 518.07s\n"
     ]
    }
   ],
   "source": [
    "#hyperparameters\n",
    "name='charGRU_emb_size=256_rnn_num_units=1024_rnn_num_layers=3_num_loop=10000'\n",
    "emb_size=256\n",
    "RNN_class=nn.GRU #nn.RNN, nn.GRU, or nn.LSTM\n",
    "rnn_num_units=1024\n",
    "rnn_num_layers=3\n",
    "batch_size=32\n",
    "num_loop=10000\n",
    "dataset=quotes_rus\n",
    "\n",
    "\n",
    "MAX_LENGTH = max(map(len, dataset))\n",
    "model = RNNLoop(num_tokens=num_tokens, emb_size=emb_size,  RNN_class=RNN_class, \n",
    "                rnn_num_units=rnn_num_units, rnn_num_layers=rnn_num_layers)\n",
    "opt = torch.optim.Adam(model.parameters())\n",
    "history = []\n",
    "\n",
    "model, history = train_model(model, opt, dataset, token_to_id, history, num_loop=num_loop, batch_size=batch_size, device=device)"
   ]
  },
  {
   "cell_type": "code",
   "execution_count": 46,
   "id": "d34bb9d0",
   "metadata": {
    "ExecuteTime": {
     "end_time": "2019-11-05T18:21:23.702249Z",
     "start_time": "2019-11-05T18:21:23.629226Z"
    },
    "execution": {
     "iopub.execute_input": "2022-03-09T17:21:59.313425Z",
     "iopub.status.busy": "2022-03-09T17:21:59.312268Z",
     "iopub.status.idle": "2022-03-09T17:22:31.381530Z",
     "shell.execute_reply": "2022-03-09T17:22:31.380899Z",
     "shell.execute_reply.started": "2022-03-09T13:19:18.310526Z"
    },
    "papermill": {
     "duration": 32.158897,
     "end_time": "2022-03-09T17:22:31.381729",
     "exception": false,
     "start_time": "2022-03-09T17:21:59.222832",
     "status": "completed"
    },
    "tags": []
   },
   "outputs": [
    {
     "name": "stdout",
     "output_type": "stream",
     "text": [
      "_Мать — это тот, как только вы слышите, как моя флетичная.                           \n",
      "_Отсут их суд появится – ты рановитерия я терпение одного оказание за осожайся.      \n",
      "_В ваше вческие дву – / Это такая проблемы / Велезна / Только во умели, жите – / Это \n",
      "_Друг давно вымерства – тожит.                                                       \n",
      "_Хазен ты – не знаете ей минит судеб.                                                \n",
      "_Социализм – это не призрак комментарином.                                           \n",
      "_Вы делаеше, как деревнее, каковы ведетеры.                                          \n",
      "_Да изобрества никогда не бывает.  Никого за бедным другом.                          \n",
      "_Мужчины несобчитыство.                                                              \n",
      "_В большим кратках мянеты врагители правление мужа, они были взойным.                \n",
      "\n",
      "\n",
      "#_Если ##################################\n",
      "Temparature = 1:\n",
      "_Если готовите свой хорош, но не с ней, / я бы осталось никого не мог.               \n",
      "_Если жг бедного, ты даром вашей благовонянет.                                       \n",
      "_Если вы заведел, то им играличь декандари.                                          \n",
      "_Если пребывать хорошим людям друг других, то конфируйшего не по-франг.              \n",
      "_Если слома позднимает больше друг, как он дышит, как пруссил себя, как живы.        \n",
      "_Если бы неважно, какого бы было своя.                                               \n",
      "_Если вы грехи не содерить человека, только народы невинного.                        \n",
      "_Если в помилливете случаще мошался не зарастьеть, тогда на прочни и бы с ним невросл\n",
      "_Если продек есть есть дуя прянций, друг – это борется.                              \n",
      "_Если вы рису на тебе свободу, а в нерестив – потом в раф.                           \n",
      "\n",
      "Temparature = 0.1:\n",
      "_Если вы не знаете, вы умираете на висках.                                           \n",
      "_Если бы вы умирает быть бы передали человека не сознаны, что знает эту старые 3алкав\n",
      "_Если бы выборы были вы умирать, как день мира умеет за них.                         \n",
      "_Если бы вы умирает быть бы передали в обедней каменных, пока не понимает ничего не м\n",
      "_Если бы вы умирает быть бы не понимались, что ты смотришь на вискались.             \n",
      "_Если бы выборы были вы умирать, как день мира умеет за них.                         \n",
      "_Если бы выборы молчали, так бы не были бы так выдумки.                              \n",
      "_Если бы вы умирает быть бы передали человека не сознаны, что не может быть великим. \n",
      "_Если бы выборы были вы умирать, как мы на него завтра и быть свободными.            \n",
      "_Если бы выборы молчали, так бы не были бы другими других бы других враги.           \n",
      "\n",
      "Temparature = 1.2:\n",
      "_Если нуть то, кам будто угадит; теперь проби или по-наступить, боление как остановит\n",
      "_Если держава я превысшего в него, как кто делает ум цены быть первым.               \n",
      "_Если бы афицифизм не бог, то я — это было Оя любви надут любите анция; патрит мышее \n",
      "_Если вызыпаетельникоповки, друзей нет.                                              \n",
      "_Если бы легче бы ему вваливать, то, что ды хорелого загулили.                       \n",
      "_Если привел друг к собаку, это прогассик – огия.                                    \n",
      "_Если бы она не может быть бы другом, дыматай кажется и небыли!                      \n",
      "_Если б Гизеты Цепи,  ахотели похож.                                                 \n",
      "_Если сын Божие с меня, зулость привыцались.                                         \n",
      "_Если бы вы не из афора наши на улицей Титарый незаменитым; я на них этот пустынь то,\n",
      "\n",
      "\n",
      "#_Пусть ##################################\n",
      "Temparature = 1:\n",
      "_Пусть государственный век мнения, товарищ нуждает смерть.                           \n",
      "_Пусть этого них не удается служба, когда ты с вами.                                 \n",
      "_Пусть огоня без веры.                                                               \n",
      "_Пусть неважды слабых прямой тайный долг готов.                                      \n",
      "_Пусть будет человек, который не ждет считать для войски.                            \n",
      "_Пусть бит – война, партий – победителя.                                             \n",
      "_Пусть всегда был коммунизме.                                                        \n",
      "_Пусть видящих совет друг друга отдайте толпа.                                       \n",
      "_Пусть погибнет их свадений, сидящего к юрию, обращение опасно помочно стропов.      \n",
      "_Пусть лицер друг друга, и возможно, если порагает даже будне.                       \n",
      "\n",
      "Temparature = 0.1:\n",
      "_Пусть ненавидят, лишь бы были бы хорошим быть добродетелям.                         \n",
      "_Пусть ненавидят, лишь бы лучше забыть.                                              \n",
      "_Пусть ненавидят, лишь бы боялись.                                                   \n",
      "_Пусть ненавидят, лишь бы боялись.                                                   \n",
      "_Пусть ненавидят, лишь бы лучше потому бы зарабатывать.                              \n",
      "_Пусть ненавидят, лишь бы боялись.                                                   \n",
      "_Пусть ненавидят, лишь бы боялись.                                                   \n",
      "_Пусть ненавидят, лишь бы боялись.                                                   \n",
      "_Пусть ненавидят, лишь бы боялись.                                                   \n",
      "_Пусть ненавидят, лишь бы боялись.                                                   \n",
      "\n",
      "Temparature = 1.2:\n",
      "_Пусть лучше писям говоров, то же е. деялиноват выдляв.                              \n",
      "_Пусть будет бить три вида или на какой векна?В. Враг нельзя хуже сделать нов?       \n",
      "_Пусть бог – это плохая дьявля над нацияй, а не ль мне безучных.                     \n",
      "_Пусть боги других – брат-усы.                                                       \n",
      "_Пусть бог — деятемство, болтаещь, человек, который звезда делается.                 \n",
      "_Пусть бЮг не убил.                                                                  \n",
      "_Пусть оплакивают от ума полноткровенных вней взявыми.                               \n",
      "_Пусть где ты слышит легче, чем Своего схвазает!                                     \n",
      "_Пусть лиции хворят экспертами; и нечтра жила их труп.                               \n",
      "_Пусть благовонане должно быть эконой, им домимою и ничего не смеет.                 \n",
      "\n",
      "\n"
     ]
    }
   ],
   "source": [
    "for _ in range(10):\n",
    "    print(generate_sample_loop(model, max_length=MAX_LENGTH, temperature=1))\n",
    "print()\n",
    "print()\n",
    "for seed_phrase in ['_Если', '_Пусть']:\n",
    "    print(\"#{} ##################################\".format(seed_phrase))\n",
    "    for t in [1, 0.1, 1.2]:\n",
    "        print(\"Temparature = {}:\".format(t))\n",
    "        for _ in range(10):\n",
    "            print(generate_sample_loop(model, seed_phrase=seed_phrase, max_length=MAX_LENGTH, temperature=t))\n",
    "        print()\n",
    "    print()"
   ]
  },
  {
   "cell_type": "code",
   "execution_count": 47,
   "id": "f0b13651",
   "metadata": {
    "execution": {
     "iopub.execute_input": "2022-03-09T17:22:31.606211Z",
     "iopub.status.busy": "2022-03-09T17:22:31.605393Z",
     "iopub.status.idle": "2022-03-09T17:38:32.206693Z",
     "shell.execute_reply": "2022-03-09T17:38:32.207613Z",
     "shell.execute_reply.started": "2022-03-09T13:19:18.309181Z"
    },
    "papermill": {
     "duration": 960.718394,
     "end_time": "2022-03-09T17:38:32.207831",
     "exception": false,
     "start_time": "2022-03-09T17:22:31.489437",
     "status": "completed"
    },
    "tags": []
   },
   "outputs": [
    {
     "data": {
      "image/png": "[encoded data removed]",
      "text/plain": [
       "<Figure size 432x288 with 1 Axes>"
      ]
     },
     "metadata": {
      "needs_background": "light"
     },
     "output_type": "display_data"
    },
    {
     "name": "stdout",
     "output_type": "stream",
     "text": [
      "Full train time = 960.06s\n"
     ]
    }
   ],
   "source": [
    "#hyperparameters\n",
    "name='charGRU_emb_size=256_rnn_num_units=1024_rnn_num_layers=6_num_loop=10000'\n",
    "emb_size=256\n",
    "RNN_class=nn.GRU #nn.RNN, nn.GRU, or nn.LSTM\n",
    "rnn_num_units=1024\n",
    "rnn_num_layers=6\n",
    "batch_size=32\n",
    "num_loop=10000\n",
    "dataset=quotes_rus\n",
    "\n",
    "\n",
    "MAX_LENGTH = max(map(len, dataset))\n",
    "model = RNNLoop(num_tokens=num_tokens, emb_size=emb_size,  RNN_class=RNN_class, \n",
    "                rnn_num_units=rnn_num_units, rnn_num_layers=rnn_num_layers)\n",
    "opt = torch.optim.Adam(model.parameters())\n",
    "history = []\n",
    "\n",
    "model, history = train_model(model, opt, dataset, token_to_id, history, num_loop=num_loop, batch_size=batch_size, device=device)"
   ]
  },
  {
   "cell_type": "code",
   "execution_count": 48,
   "id": "812d40d7",
   "metadata": {
    "ExecuteTime": {
     "end_time": "2019-11-05T18:21:23.702249Z",
     "start_time": "2019-11-05T18:21:23.629226Z"
    },
    "execution": {
     "iopub.execute_input": "2022-03-09T17:38:32.508265Z",
     "iopub.status.busy": "2022-03-09T17:38:32.507046Z",
     "iopub.status.idle": "2022-03-09T17:39:44.862421Z",
     "shell.execute_reply": "2022-03-09T17:39:44.861726Z",
     "shell.execute_reply.started": "2022-03-09T13:19:18.310526Z"
    },
    "papermill": {
     "duration": 72.478115,
     "end_time": "2022-03-09T17:39:44.862621",
     "exception": false,
     "start_time": "2022-03-09T17:38:32.384506",
     "status": "completed"
    },
    "tags": []
   },
   "outputs": [
    {
     "name": "stdout",
     "output_type": "stream",
     "text": [
      "_Вперед, повтори, лишь мертвый двигнодрившая моя.                                    \n",
      "_Железала мавателей – на не сказать «РII, Э не верь, не бежитцу.                     \n",
      "_Бывали свою сомертна, пластер на войну.                                             \n",
      "_Усерженна есть Барабор вагона.                                                      \n",
      "_Запрещено правители: поэтом на посулесе с верь.                                     \n",
      "_Ипотуция дураками.                                                                  \n",
      "_1. Ведь полечательствут получивать не убилеюва, когдефеет и тогда.                  \n",
      "_Если мы видили поображим нас на народочей в искейников, повдуж действие законов не б\n",
      "_Наше памдает нам Рим и победить смерти, я колима и бог.                             \n",
      "_Больше знает за дело без победному, что <…> заве любит <…>.                         \n",
      "\n",
      "\n",
      "#_Если ##################################\n",
      "Temparature = 1:\n",
      "_Если на все можно платить против того, что нас или попрожи.                         \n",
      "_Если у внебное хороших датели сохождает делать уж предвидели, бритой – всяких чернил\n",
      "_Если об один издается вам переводится, / То в себь двух на то и плетного ошибки.    \n",
      "_Если человек выповести одно человечества в этом бога, будешь немуматено самым подмед\n",
      "_Если за то-то остаконие о кого-либо для него-то это почти проник?                   \n",
      "_Если будет армия платения, ни — его моя мончину.                                    \n",
      "_Если форма любовь в Европе циви, это депортильнее в прошедленное жить.              \n",
      "_Если ты забольшин разума на речи бы у меня народговолого, лишь молодое – / Чудого и \n",
      "_Если я не хофя гражданином хуже, оно выслушает.                                     \n",
      "_Если я нет никогда, но можно лишолсто;  В одной нашей модрец.                       \n",
      "\n",
      "Temparature = 0.1:\n",
      "_Если вы не знаете ничего не делать, это не делать ничего не делаешь.                \n",
      "_Если вы не знаете ничего не делать, – не делать и ничего не делать.                 \n",
      "_Если вы не подписали в тебя и политики, поэты и политики и привыкай и против поэта. \n",
      "_Если вы не помнительно подписать в политике, это политика и не понимает стоит поэтов\n",
      "_Если вы не знаешь из нас одного полезного поднимается, то и не делаем на стоится под\n",
      "_Если вы не подписали в тебя ничего не поднимаешь, – ничего не придется и не поднимае\n",
      "_Если вы не знаете ничего не делать, потом и не подписай.                            \n",
      "_Если вы не знаете ничего не делать, это не делать ничего не делаешь.                \n",
      "_Если вы не знаете ничего не делать, это не делать ничего не делаешь.                \n",
      "_Если вы полного не подписали в держите в политике, то и подписательное и не подписат\n",
      "\n",
      "Temparature = 1.2:\n",
      "_Если говори и я пойцу раньбствовах с нату, могу парриму «лицу мянец во выборах тяжел\n",
      "_Если унистей и у всех, зведут на каптенсчевоватый .                                 \n",
      "_Если бы ли скромнотическим остается, то чтобы жить.                                 \n",
      "_Если мы все, весь же калоны, тазчими менять, это реиспоем будем собратами выпортили.\n",
      "_Если сегодня во ввеум, разбогатение, рекольнуете мысли, нагрущенные Рим мободу.     \n",
      "_Если хочешь проему бы менеджерами вице – если все политикой, кроме святый эйцгранрак\n",
      "_Если коротко-за втоды в королям, у целы была в эта; честно рай.                     \n",
      "_Если должен знать, что, хопощет нистожения, нудли всегда ему наполично.             \n",
      "_Если наиболей свитений, значит, то и хяда искусствовать, сам для еса.               \n",
      "_Если ты комечти не входится как будущему, нато покузи будьте лыстно Ли играет.      \n",
      "\n",
      "\n",
      "#_Пусть ##################################\n",
      "Temparature = 1:\n",
      "_Пусть левая любить видеть.                                                          \n",
      "_Пусть божество,  Вень! чтобы был бы полнодерспоть.                                  \n",
      "_Пусть распучить дуфоцентов.                                                         \n",
      "_Пусть приди героицов умны есть спитастей.                                           \n",
      "_Пусть пвизите все: не наши исчереть, но взвывать в одни балканья.                   \n",
      "_Пусть будут тебе басстрелять бурь.                                                  \n",
      "_Пусть людяй и не сметь ни мошен спасно?                                             \n",
      "_Пусть все остается, чем питьсь.                                                     \n",
      "_Пусть лишь неудат, когда он пом, читает неприимен.                                  \n",
      "_Пусть покупается.                                                                   \n",
      "\n",
      "Temparature = 0.1:\n",
      "_Пусть будет верить в политике в политике всегда и побежденный в политике.           \n",
      "_Пусть политические пропит – прости побежденный способ!                              \n",
      "_Пусть политический политический политический экономический в порядок порядок порядок\n",
      "_Пусть помогает солдат в этом политических стороне победителей.                      \n",
      "_Пусть будет верить в политике всегда поводки всегда и побежденный войну.            \n",
      "_Пусть будет все помощи все!                                                         \n",
      "_Пусть политический политический политический политический экономический эмистов поли\n",
      "_Пусть помогает солдат войны, но побеждились.                                        \n",
      "_Пусть будет справедливость поверь.                                                  \n",
      "_Пусть помогает собственного правительство, но есть проблема.                        \n",
      "\n",
      "Temparature = 1.2:\n",
      "_Пусть продучившись беззафацным, пока взголять.                                      \n",
      "_Пусть кольчие это доров, доцент взмести лишь серии.                                 \n",
      "_Пусть щеломет! !                                                                    \n",
      "_Пусть плефа для Мое зная достиженей мама!                                           \n",
      "_Пусть нет, но все-тво! Критика – книжеди. И от пусью.                               \n",
      "_Пусть верей-тво интерес!                                                            \n",
      "_Пусть должен бястителяйщего справедет, где оставитеть Непобедить.                   \n",
      "_Пусть останет Ею братость;».                                                        \n",
      "_Пусть вечный войт, лишится – нословие.                                              \n",
      "_Пусть лишь пповодить цены, я ничего логичия.                                        \n",
      "\n",
      "\n"
     ]
    }
   ],
   "source": [
    "for _ in range(10):\n",
    "    print(generate_sample_loop(model, max_length=MAX_LENGTH, temperature=1))\n",
    "print()\n",
    "print()\n",
    "for seed_phrase in ['_Если', '_Пусть']:\n",
    "    print(\"#{} ##################################\".format(seed_phrase))\n",
    "    for t in [1, 0.1, 1.2]:\n",
    "        print(\"Temparature = {}:\".format(t))\n",
    "        for _ in range(10):\n",
    "            print(generate_sample_loop(model, seed_phrase=seed_phrase, max_length=MAX_LENGTH, temperature=t))\n",
    "        print()\n",
    "    print()"
   ]
  },
  {
   "cell_type": "code",
   "execution_count": 49,
   "id": "5ebb86b5",
   "metadata": {
    "execution": {
     "iopub.execute_input": "2022-03-09T17:39:45.129327Z",
     "iopub.status.busy": "2022-03-09T17:39:45.128564Z",
     "iopub.status.idle": "2022-03-09T17:44:52.577045Z",
     "shell.execute_reply": "2022-03-09T17:44:52.575688Z",
     "shell.execute_reply.started": "2022-03-09T13:19:18.312535Z"
    },
    "papermill": {
     "duration": 307.585028,
     "end_time": "2022-03-09T17:44:52.577172",
     "exception": false,
     "start_time": "2022-03-09T17:39:44.992144",
     "status": "completed"
    },
    "tags": []
   },
   "outputs": [
    {
     "data": {
      "image/png": "[encoded data removed]",
      "text/plain": [
       "<Figure size 432x288 with 1 Axes>"
      ]
     },
     "metadata": {
      "needs_background": "light"
     },
     "output_type": "display_data"
    },
    {
     "name": "stdout",
     "output_type": "stream",
     "text": [
      "Full train time = 307.31s\n"
     ]
    }
   ],
   "source": [
    "#hyperparameters\n",
    "name='charLSTM_emb_size=256_rnn_num_units=1024_rnn_num_layers=1_num_loop=10000'\n",
    "emb_size=256\n",
    "RNN_class=nn.LSTM #nn.RNN, nn.GRU, or nn.LSTM\n",
    "rnn_num_units=1024\n",
    "rnn_num_layers=1\n",
    "batch_size=32\n",
    "num_loop=10000\n",
    "dataset=quotes_rus\n",
    "\n",
    "\n",
    "MAX_LENGTH = max(map(len, dataset))\n",
    "model = RNNLoop(num_tokens=num_tokens, emb_size=emb_size, RNN_class=RNN_class,\n",
    "                rnn_num_units=rnn_num_units, rnn_num_layers=rnn_num_layers)\n",
    "opt = torch.optim.Adam(model.parameters())\n",
    "history = []\n",
    "\n",
    "model, history = train_model(model, opt, dataset, token_to_id, history, num_loop=num_loop, batch_size=batch_size, device=device)"
   ]
  },
  {
   "cell_type": "code",
   "execution_count": 50,
   "id": "354d3f5a",
   "metadata": {
    "ExecuteTime": {
     "end_time": "2019-11-05T18:21:23.702249Z",
     "start_time": "2019-11-05T18:21:23.629226Z"
    },
    "execution": {
     "iopub.execute_input": "2022-03-09T17:44:52.843032Z",
     "iopub.status.busy": "2022-03-09T17:44:52.842328Z",
     "iopub.status.idle": "2022-03-09T17:45:01.429013Z",
     "shell.execute_reply": "2022-03-09T17:45:01.429447Z",
     "shell.execute_reply.started": "2022-03-09T13:19:18.314661Z"
    },
    "papermill": {
     "duration": 8.723289,
     "end_time": "2022-03-09T17:45:01.429600",
     "exception": false,
     "start_time": "2022-03-09T17:44:52.706311",
     "status": "completed"
    },
    "tags": []
   },
   "outputs": [
    {
     "name": "stdout",
     "output_type": "stream",
     "text": [
      "_Вовремя управляет себя работу, не имеет право на нас.                               \n",
      "_Еще не принятая рука телефона.                                                      \n",
      "_Лохи, глупость обращаться к пользую.                                                \n",
      "_Аристократия денежного мешка.                                                       \n",
      "_Проклятая до фиска — самый советский надеют обстоятельствовать только тогда, когда п\n",
      "_О чем и вечный поля родил Бог, что вам не хочу  Товарищу».                          \n",
      "_На челесо личного ненависти <…> 93i века!                                           \n",
      "_Земля наша велика одушевления в святая твариата.                                    \n",
      "_Побеждающий не потерпит пред обманунии.                                             \n",
      "_Генерал, далеко дойти не было, – можно разговорование.                              \n",
      "\n",
      "\n",
      "#_Если ##################################\n",
      "Temparature = 1:\n",
      "_Если бы Бога не думал, если бы Роган-одно.                                          \n",
      "_Если каждому вы то же, что каждый поверит во тьме? Он любите свой повесить.         \n",
      "_Если жена тебя знака, там мы написалось Церквинформа?                               \n",
      "_Если него виноват, мое дановые мягучина в систему.                                  \n",
      "_Если принимать решего вкуса идем на блевен, а не ведом, ни красавцем.               \n",
      "_Если б Юпитер вторжеству оконстрокупоку».                                           \n",
      "_Если завтю ваши предкования, как обычно, пьяно – даже не все возносит.              \n",
      "_Если хотите, победили правду!                                                       \n",
      "_Если вы не веришь, пилом должен пусть взять награды.                                \n",
      "_Если человек прав, оптом со своих порокам.                                          \n",
      "\n",
      "Temparature = 0.1:\n",
      "_Если бы я не был Александром, я хотел бы быть Диогеном.                             \n",
      "_Если бы я не был Александром, я хотел бы быть Диогеном.                             \n",
      "_Если бы я опасно заболел, то вы умерли бы до вас.                                   \n",
      "_Если бы я не был Александром, я хотел бы быть Диогеном.                             \n",
      "_Если вы не занимаетесь сознание против трезвого.                                    \n",
      "_Если бы я опасно заболел, то вы умерли бы до вас.                                   \n",
      "_Если бы я опасно заболел, то вы умерли бы до меня.                                  \n",
      "_Если бы я не был Александром, я хотел бы быть Диогеном.                             \n",
      "_Если бы я не был Александром, я хотел бы быть Диогеном.                             \n",
      "_Если бы я опасно заболел, то вы умерли бы до вас.                                   \n",
      "\n",
      "Temparature = 1.2:\n",
      "_Если жена моего дана? А сказал я свои ужас. Тоннец, Сатанизов!                      \n",
      "_Если человек прюобил свою газету, того и безуряда.                                  \n",
      "_Если каждый земле, огладевшие себя власти.                                          \n",
      "_Если сомневаться – значит быть однажды коллебок.                                    \n",
      "_Если мы умолку богатыри, а достаться сделать дурного сто и друзей.                  \n",
      "_Если бы Бог есть масло дум.                                                         \n",
      "_Если не можешь, пойдить, прекрасно.                                                 \n",
      "_Если не знают – отдайте, где закопали товар.                                        \n",
      "_Если не знаешь, страдала хочется, переменила того, что я не могу повтора.           \n",
      "_Если гадава правлением маленье, чем кажется, чтобы просто ты знает.                 \n",
      "\n",
      "\n",
      "#_Пусть ##################################\n",
      "Temparature = 1:\n",
      "_Пусть льванили добра.                                                               \n",
      "_Пусть погибнет при наличии, и поваливайте на злополете и только одной, а деньги – ка\n",
      "_Пусть погибает богатыри, мы победим!                                                \n",
      "_Пусть сильнее грядущая рука в бизнесе.                                              \n",
      "_Пусть ль такой хороший новый? Лень – это наша!                                      \n",
      "_Пусть расцветают сто школа, дураков левился на две типорионек.                      \n",
      "_Пусть Аради дадится самимологом получает друзьями, чтобы у него стать хозяиной.     \n",
      "_Пусть погибнет мир, но восторжествует справедливость.                               \n",
      "_Пусть левая ильщита, вам надо проходит через меня два летит.                        \n",
      "_Пусть расцветают сто же, но вечно места делает блаженство.                          \n",
      "\n",
      "Temparature = 0.1:\n",
      "_Пусть погибнет мир, но восторжествует справедливость.                               \n",
      "_Пусть погибнет мир, но восторжествует справедливость.                               \n",
      "_Пусть погибнет первого мало из кандартов.                                           \n",
      "_Пусть погибнет первого к вам по крови национальной политика.                        \n",
      "_Пусть погибнет первого мало.                                                        \n",
      "_Пусть погибнет мир, но восторжествует справедливость.                               \n",
      "_Пусть погибнет мир, но восторжествует справедливость.                               \n",
      "_Пусть погибнет мир, но восторжествует справедливость.                               \n",
      "_Пусть погибнет первого мало из победы.                                              \n",
      "_Пусть погибнет мир, но восторжествует справедливость.                               \n",
      "\n",
      "Temparature = 1.2:\n",
      "_Пусть ваши деву войны, и в смехах мушанию усилия.                                   \n",
      "_Пусть левая, / Нам все остальное!                                                   \n",
      "_Пусть погибнет мир, но въялсы на Сионе.                                             \n",
      "_Пусть лучше хорошего забывать, чем выше и нужно ошибаться.                          \n",
      "_Пусть повиновать суóбражению и наглая война винт.                                   \n",
      "_Пусть патриотизм с тостах созидает, а не который видит прошло.                      \n",
      "_Пусть ненавидят, лишь отец, а нее примусь отместных детей Таут.                     \n",
      "_Пусть расцветают сто цветов, необязательно уже родиться.                            \n",
      "_Пусть спит, бряни меня? <…> Свячают молчавшие друзья.                               \n",
      "_Пусть сильнее гряненая программа заканным.                                          \n",
      "\n",
      "\n"
     ]
    }
   ],
   "source": [
    "for _ in range(10):\n",
    "    print(generate_sample_loop(model, max_length=MAX_LENGTH, temperature=1))\n",
    "print()\n",
    "print()\n",
    "for seed_phrase in ['_Если', '_Пусть']:\n",
    "    print(\"#{} ##################################\".format(seed_phrase))\n",
    "    for t in [1, 0.1, 1.2]:\n",
    "        print(\"Temparature = {}:\".format(t))\n",
    "        for _ in range(10):\n",
    "            print(generate_sample_loop(model, seed_phrase=seed_phrase, max_length=MAX_LENGTH, temperature=t))\n",
    "        print()\n",
    "    print()"
   ]
  },
  {
   "cell_type": "code",
   "execution_count": 51,
   "id": "c31aca33",
   "metadata": {
    "execution": {
     "iopub.execute_input": "2022-03-09T17:45:01.723335Z",
     "iopub.status.busy": "2022-03-09T17:45:01.722515Z",
     "iopub.status.idle": "2022-03-09T17:55:57.695927Z",
     "shell.execute_reply": "2022-03-09T17:55:57.694405Z",
     "shell.execute_reply.started": "2022-03-09T13:19:18.316745Z"
    },
    "papermill": {
     "duration": 656.121019,
     "end_time": "2022-03-09T17:55:57.696061",
     "exception": false,
     "start_time": "2022-03-09T17:45:01.575042",
     "status": "completed"
    },
    "tags": []
   },
   "outputs": [
    {
     "data": {
      "image/png": "[encoded data removed]",
      "text/plain": [
       "<Figure size 432x288 with 1 Axes>"
      ]
     },
     "metadata": {
      "needs_background": "light"
     },
     "output_type": "display_data"
    },
    {
     "name": "stdout",
     "output_type": "stream",
     "text": [
      "Full train time = 655.71s\n"
     ]
    }
   ],
   "source": [
    "#hyperparameters\n",
    "name='charLSTM_emb_size=256_rnn_num_units=1024_rnn_num_layers=3_num_loop=10000'\n",
    "emb_size=256\n",
    "RNN_class=nn.LSTM #nn.RNN, nn.GRU, or nn.LSTM\n",
    "rnn_num_units=1024\n",
    "rnn_num_layers=3\n",
    "batch_size=32\n",
    "num_loop=10000\n",
    "dataset=quotes_rus\n",
    "\n",
    "\n",
    "MAX_LENGTH = max(map(len, dataset))\n",
    "model = RNNLoop(num_tokens=num_tokens, emb_size=emb_size,  RNN_class=RNN_class, \n",
    "                rnn_num_units=rnn_num_units, rnn_num_layers=rnn_num_layers)\n",
    "opt = torch.optim.Adam(model.parameters())\n",
    "history = []\n",
    "\n",
    "model, history = train_model(model, opt, dataset, token_to_id, history, num_loop=num_loop, batch_size=batch_size, device=device)"
   ]
  },
  {
   "cell_type": "code",
   "execution_count": 52,
   "id": "2e91af00",
   "metadata": {
    "ExecuteTime": {
     "end_time": "2019-11-05T18:21:23.702249Z",
     "start_time": "2019-11-05T18:21:23.629226Z"
    },
    "execution": {
     "iopub.execute_input": "2022-03-09T17:55:58.023008Z",
     "iopub.status.busy": "2022-03-09T17:55:58.022416Z",
     "iopub.status.idle": "2022-03-09T17:56:40.980412Z",
     "shell.execute_reply": "2022-03-09T17:56:40.981408Z",
     "shell.execute_reply.started": "2022-03-09T13:19:18.318819Z"
    },
    "papermill": {
     "duration": 43.127287,
     "end_time": "2022-03-09T17:56:40.981615",
     "exception": false,
     "start_time": "2022-03-09T17:55:57.854328",
     "status": "completed"
    },
    "tags": []
   },
   "outputs": [
    {
     "name": "stdout",
     "output_type": "stream",
     "text": [
      "_Свежело в первом ряду прекраснеет.                                                  \n",
      "_Антиквариат – это политик с новой Богом.                                            \n",
      "_Хоть ты и сейчас,  Ты не сбит с концами.                                            \n",
      "_Благочестивый обман .                                                               \n",
      "_Остановит русских вождь н. Завтра! <…> Ты не были так увиду между собой.            \n",
      "_Семибанкиры емутна карты, читатель таксовки. А комиссионер в 1963 г.                \n",
      "_Если итки умрут, маки, знающий, ведь о нем режимени.                                \n",
      "_Наши за границе.                                                                    \n",
      "_Народ – себе.                                                                       \n",
      "_Смерть – через Еву, жизнь держис.                                                   \n",
      "\n",
      "\n",
      "#_Если ##################################\n",
      "Temparature = 1:\n",
      "_Если у тебя есть фуниц, язык.                                                       \n",
      "_Если все богачи в мире, то сделали Барберини.                                       \n",
      "_Если читовые рабочие начинается с согласие да без данной народов, чем в одной боль в\n",
      "_Если б врата восприятия быстро добродетелью ее выгодно больше, чем богатые только бе\n",
      "_Если бы я не был Александром, я хотел бы быть Диогеном.                             \n",
      "_Если будет Господь с Богом в самом глупом понесах.                                  \n",
      "_Если ты существуешь, спаси мою родину, / Я целовал писать книги? А если его нет, зач\n",
      "_Если постоять считать занятий, ни забытых предков.                                  \n",
      "_Если собака кусает человека, это не новость; новость – если человек в праве не вижу.\n",
      "_Если вас слушает жена, значит, вы работаете диктор с условиной рекламой.            \n",
      "\n",
      "Temparature = 0.1:\n",
      "_Если бы я не был Александром, я хотел бы быть Диогеном.                             \n",
      "_Если бы я не был Александром, я хотел бы быть Диогеном.                             \n",
      "_Если бы я не был Александром, я хотел бы быть Диогеном.                             \n",
      "_Если бы человек больше думал, он меньше бы действовал.                              \n",
      "_Если бы я не был Александром, я хотел бы быть Диогеном.                             \n",
      "_Если бы я не был Александром, я хотел бы быть Диогеном.                             \n",
      "_Если бы я не был Александром, я хотел бы быть Диогеном.                             \n",
      "_Если бы я не был Александром, я хотел бы быть Диогеном.                             \n",
      "_Если бы я не был Александром, я хотел бы быть Диогеном.                             \n",
      "_Если бы не богатые природные ископаемые могут быть не быть принятым все о пределожен\n",
      "\n",
      "Temparature = 1.2:\n",
      "_Если будет вы забывать с человеком, чтобы быть многословей?                         \n",
      "_Если гибнет между него на земле, и дни его не то же ли.                             \n",
      "_Если кто-то крещено, конечко решителя? Покой в запасе в грозу.                      \n",
      "_Если малее он делается, тем больше экономии всегда говорят на чтут.                 \n",
      "_Если убьют – считай лучше, чем богатый весь мир — тяглистический.                   \n",
      "_Если вас сказал и страдание там, где несчастливы хороши, но не больше, чем меня.    \n",
      "_Если бы молодость знала, если становится полезнейшего.                              \n",
      "_Если все хорошо предавается в грампах и трагеде; вне ширецид всеъье заключается в ва\n",
      "_Если завтратив военных отвечут культуры устранения совершается переварить.          \n",
      "_Если бы я не богатые письма, значит, она и вчера.                                   \n",
      "\n",
      "\n",
      "#_Пусть ##################################\n",
      "Temparature = 1:\n",
      "_Пусть будет забыто мое имя, лишь бы Франция на свете мас.                           \n",
      "_Пусть полюбит нелюбивший; кто любил партии!                                         \n",
      "_Пусть будут чресла ваши преступления предвидеть людей вода.                         \n",
      "_Пусть будут чресла ваши препоясаны.                                                 \n",
      "_Пусть полюбит нелюбивший войны, чье их не против вас.                               \n",
      "_Пусть это будет мир без победы.                                                     \n",
      "_Пусть без бумажки – то же головой, который проводит Богу, и все остальное — тяжелый \n",
      "_Пусть ненавидят, лишь бы соглашались.                                               \n",
      "_Пусть плывет галерия, миллион мешал: мир без всех людей!                            \n",
      "_Пусть существует Бога таки и гурпки превращаются… преступление безнаказанным.       \n",
      "\n",
      "Temparature = 0.1:\n",
      "_Пусть будет забыто мое имя, лишь бы Франция была свободна!                          \n",
      "_Пусть будет забыто мое имя, лишь бы Франция была свободна!                          \n",
      "_Пусть будет забыто мое имя, лишь бы Франция была свободна!                          \n",
      "_Пусть будет забыто мое имя, лишь бы Франция была свободна!                          \n",
      "_Пусть будет забыто мое имя, лишь бы Франция была свободна!                          \n",
      "_Пусть будет забыто мое имя, лишь бы Франция была свободна!                          \n",
      "_Пусть будет забыто мое имя, лишь бы Франция была свободна!                          \n",
      "_Пусть будет забыто мое имя, лишь бы Франция была свободна!                          \n",
      "_Пусть будет забыто мое имя, лишь бы Франция была свободна!                          \n",
      "_Пусть будет забыто мое имя, лишь бы Франция была свободна!                          \n",
      "\n",
      "Temparature = 1.2:\n",
      "_Пусть погибнет мир, но вот обязан тем, что ты услышишь.                             \n",
      "_Пусть погибнет мир, но восторжествует справедливость .                              \n",
      "_Пусть пять собак – в бедности – морально.                                           \n",
      "_Пусть лета у того, чтобы править с наркотиками зла, будущая чувствовать начальства и\n",
      "_Пусть погибнет мир, возможно ли утверждать что-либо денег.                          \n",
      "_Пусть будет заботь к человечеству, которые мне ничего не было.                      \n",
      "_Пусть нации сольются в единую нацию!                                                \n",
      "_Пусть левая невинная города с цепиггером Опечалу Он погар, ай-да сухи в походе.     \n",
      "_Пусть исцет тупые. Любая из бараба доведены.                                        \n",
      "_Пусть полюбил,  Ум богатого не все услождению.                                      \n",
      "\n",
      "\n"
     ]
    }
   ],
   "source": [
    "for _ in range(10):\n",
    "    print(generate_sample_loop(model, max_length=MAX_LENGTH, temperature=1))\n",
    "print()\n",
    "print()\n",
    "for seed_phrase in ['_Если', '_Пусть']:\n",
    "    print(\"#{} ##################################\".format(seed_phrase))\n",
    "    for t in [1, 0.1, 1.2]:\n",
    "        print(\"Temparature = {}:\".format(t))\n",
    "        for _ in range(10):\n",
    "            print(generate_sample_loop(model, seed_phrase=seed_phrase, max_length=MAX_LENGTH, temperature=t))\n",
    "        print()\n",
    "    print()"
   ]
  },
  {
   "cell_type": "code",
   "execution_count": 53,
   "id": "36ccedc7",
   "metadata": {
    "execution": {
     "iopub.execute_input": "2022-03-09T17:56:41.450233Z",
     "iopub.status.busy": "2022-03-09T17:56:41.449406Z",
     "iopub.status.idle": "2022-03-09T18:17:20.011548Z",
     "shell.execute_reply": "2022-03-09T18:17:20.012015Z",
     "shell.execute_reply.started": "2022-03-09T13:19:18.316745Z"
    },
    "papermill": {
     "duration": 1238.756971,
     "end_time": "2022-03-09T18:17:20.012188",
     "exception": false,
     "start_time": "2022-03-09T17:56:41.255217",
     "status": "completed"
    },
    "tags": []
   },
   "outputs": [
    {
     "data": {
      "image/png": "[encoded data removed]",
      "text/plain": [
       "<Figure size 432x288 with 1 Axes>"
      ]
     },
     "metadata": {
      "needs_background": "light"
     },
     "output_type": "display_data"
    },
    {
     "name": "stdout",
     "output_type": "stream",
     "text": [
      "Full train time = 1238.10s\n"
     ]
    }
   ],
   "source": [
    "#hyperparameters\n",
    "name='charLSTM_emb_size=256_rnn_num_units=1024_rnn_num_layers=6_num_loop=10000'\n",
    "emb_size=256\n",
    "RNN_class=nn.LSTM #nn.RNN, nn.GRU, or nn.LSTM\n",
    "rnn_num_units=1024\n",
    "rnn_num_layers=6\n",
    "batch_size=32\n",
    "num_loop=10000\n",
    "dataset=quotes_rus\n",
    "\n",
    "\n",
    "MAX_LENGTH = max(map(len, dataset))\n",
    "model = RNNLoop(num_tokens=num_tokens, emb_size=emb_size,  RNN_class=RNN_class, \n",
    "                rnn_num_units=rnn_num_units, rnn_num_layers=rnn_num_layers)\n",
    "opt = torch.optim.Adam(model.parameters())\n",
    "history = []\n",
    "\n",
    "model, history = train_model(model, opt, dataset, token_to_id, history, num_loop=num_loop, batch_size=batch_size, device=device)"
   ]
  },
  {
   "cell_type": "code",
   "execution_count": 54,
   "id": "9065547a",
   "metadata": {
    "ExecuteTime": {
     "end_time": "2019-11-05T18:21:23.702249Z",
     "start_time": "2019-11-05T18:21:23.629226Z"
    },
    "execution": {
     "iopub.execute_input": "2022-03-09T18:17:20.346336Z",
     "iopub.status.busy": "2022-03-09T18:17:20.345530Z",
     "iopub.status.idle": "2022-03-09T18:18:54.329335Z",
     "shell.execute_reply": "2022-03-09T18:18:54.328839Z",
     "shell.execute_reply.started": "2022-03-09T13:19:18.318819Z"
    },
    "papermill": {
     "duration": 94.153866,
     "end_time": "2022-03-09T18:18:54.329476",
     "exception": false,
     "start_time": "2022-03-09T18:17:20.175610",
     "status": "completed"
    },
    "tags": []
   },
   "outputs": [
    {
     "name": "stdout",
     "output_type": "stream",
     "text": [
      "_Мира дорога, Рожденные – тоже не побело.                                            \n",
      "_Не отрекаться не из тех, что в Гимне дорогу.                                        \n",
      "_Все промолы не торгарут в ууак.                                                     \n",
      "_Король – башня прошлого.                                                            \n",
      "_Мир есть Но.                                                                        \n",
      "_Соражение <…> совершил императора.                                                  \n",
      "_Птичку жалко.                                                                       \n",
      "_Данбанкь не нужен к славе.                                                          \n",
      "_Дипломат сонравиков.                                                                \n",
      "_Авторитет, а не роман, упвайте на силы.                                             \n",
      "\n",
      "\n",
      "#_Если ##################################\n",
      "Temparature = 1:\n",
      "_Если ради просветки святости, тем легче ее править.                                 \n",
      "_Если ты не мог бы устраивать в государственную казне, тем лучше мое справедливой.   \n",
      "_Если благословим каждый человек имеет своих поко машины, кроме и табуры.            \n",
      "_Если вы хотите озищать очень обои, как можно повержать?                             \n",
      "_Если общество образования – родное изобретение, предупреждение, обратно освободителя\n",
      "_Если все побеждала, то основание есть помочь собственной.                           \n",
      "_Если что-либо стоит делать, познавая ужына, не по или победить.                     \n",
      "_Если две не держатся, мы замиловали по абрису!..                                    \n",
      "_Если мы предки называете хорошее место?                                             \n",
      "_Если бы молодость, то есть просто виновных.                                         \n",
      "\n",
      "Temparature = 0.1:\n",
      "_Если вы не зачесть на компании перестанет от детях, то в начале мира.               \n",
      "_Если вы не заплатите обе человеческой тяжестью.                                     \n",
      "_Если бы я победил, я себе – тебя по существу из-за двигущей стороны.                \n",
      "_Если бы я победил, я себе – тебя по существу из-за двигущей стороны.                \n",
      "_Если бы я победил, я себе – тебя по себе.                                           \n",
      "_Если бы я победил, я себе – тебя по существу из-за двигущей стороны.                \n",
      "_Если бы я победил, я себе – тебя по существу из-за двигущей стороны.                \n",
      "_Если вы не зачесть на компании перестанет от детях, то вы и приказываем.            \n",
      "_Если бы я победил, я себе – тебя по себе.                                           \n",
      "_Если бы я победил, я себе – тебя по существу из-за двигущей стороны.                \n",
      "\n",
      "Temparature = 1.2:\n",
      "_Если власть в чужих отношениях, цен отца препытных.                                 \n",
      "_Если бы я для тебя, а на род я участер никогди.                                     \n",
      "_Если б ты знала,  Так золотые?                                                      \n",
      "_Если наказывается с выраженными, если их вышны дети, когда они не делают.           \n",
      "_Если твоя вина, война, если поручите несправедливой? Юфоуввата и убьтка!            \n",
      "_Если ты такой власти я высший бор правд сам, треб и счастливо, как расход и возрожде\n",
      "_Если собака пдинпурдован, то я вздоровлю как лошадь, и вы могут наказаться, гто не б\n",
      "_Если не умрете – мешается.                                                          \n",
      "_Если уйти, вытивная вина, кто-то задала одинаково чпе.                              \n",
      "_Если два разва  живых». Что вы? Давайте следует само хороший», и отрешись с ними.   \n",
      "\n",
      "\n",
      "#_Пусть ##################################\n",
      "Temparature = 1:\n",
      "_Пусть будут такими правильными на самых рубеем, даже богатым умирать; еще не оправды\n",
      "_Пусть исправил нас, тот не может продвониться с тюрьзой.                            \n",
      "_Пусть начинается мода годяща!                                                       \n",
      "_Пусть расцветают воли на победу в купке.                                            \n",
      "_Пусть бухнт в большом авцигланы.                                                    \n",
      "_Пусть горит земля подтверждает правильно, тем лучше восхиблять в объезьерах.        \n",
      "_Пусть ненавидят, лишь бы боялись!                                                   \n",
      "_Пусть нации сольются в едятся,  Следовательное вопрос работающих на свете.          \n",
      "_Пусть ненавидит тот уфкуневательств, тот учит жена.                                 \n",
      "_Пусть нет воинствен. Господни. Вы позволяют закон всех против колхозов, которые могн\n",
      "\n",
      "Temparature = 0.1:\n",
      "_Пусть ненавидят, лишь бы боялись!                                                   \n",
      "_Пусть ненавидят, лишь бы боялись!                                                   \n",
      "_Пусть ненавидят, лишь бы боялись!                                                   \n",
      "_Пусть ненавидят, лишь бы боялись!                                                   \n",
      "_Пусть ненавидят, лишь бы боялись!                                                   \n",
      "_Пусть ненавидят, лишь бы боялись!                                                   \n",
      "_Пусть ненавидят, лишь бы боялись!                                                   \n",
      "_Пусть ненавидят, лишь бы боялись!                                                   \n",
      "_Пусть ненавидят, лишь бы боялись!                                                   \n",
      "_Пусть ненавидят, лишь бы боялись!                                                   \n",
      "\n",
      "Temparature = 1.2:\n",
      "_Пусть веселые законы, сколько денег без него опасны.                                \n",
      "_Пусть ненавидят, лишь бы божества вернулом.                                         \n",
      "_Пусть это будет мир велик, пообладить это демократией.                              \n",
      "_Пусть будут обстоить святов,  идец, их не миллионух!                                \n",
      "_Пусть чудесная вещь (…) ными… Господня.                                             \n",
      "_Пусть будут уста, на этом семне!                                                    \n",
      "_Пусть будет все. Но Гебь не терпит женщинцев, – цена дела!                          \n",
      "_Пусть на небы свободы, если их нет, то все мы народ и все.                          \n",
      "_Пусть хвалит тот, что ненужное, форочи драконовские.                                \n",
      "_Пусть члена времени интерес, тем больше сказать и тюрьму.                           \n",
      "\n",
      "\n"
     ]
    }
   ],
   "source": [
    "for _ in range(10):\n",
    "    print(generate_sample_loop(model, max_length=MAX_LENGTH, temperature=1))\n",
    "print()\n",
    "print()\n",
    "for seed_phrase in ['_Если', '_Пусть']:\n",
    "    print(\"#{} ##################################\".format(seed_phrase))\n",
    "    for t in [1, 0.1, 1.2]:\n",
    "        print(\"Temparature = {}:\".format(t))\n",
    "        for _ in range(10):\n",
    "            print(generate_sample_loop(model, seed_phrase=seed_phrase, max_length=MAX_LENGTH, temperature=t))\n",
    "        print()\n",
    "    print()"
   ]
  },
  {
   "cell_type": "markdown",
   "id": "f54d4ed1",
   "metadata": {
    "papermill": {
     "duration": 0.185697,
     "end_time": "2022-03-09T18:18:54.719142",
     "exception": false,
     "start_time": "2022-03-09T18:18:54.533445",
     "status": "completed"
    },
    "tags": []
   },
   "source": [
    "### Работа с моделями (на основе токенов-слов/знаков)"
   ]
  },
  {
   "cell_type": "raw",
   "id": "72f85906",
   "metadata": {
    "execution": {
     "iopub.execute_input": "2022-03-09T15:40:44.872194Z",
     "iopub.status.busy": "2022-03-09T15:40:44.871925Z",
     "iopub.status.idle": "2022-03-09T15:40:44.879986Z",
     "shell.execute_reply": "2022-03-09T15:40:44.879123Z",
     "shell.execute_reply.started": "2022-03-09T15:40:44.872158Z"
    },
    "papermill": {
     "duration": 0.183514,
     "end_time": "2022-03-09T18:18:55.087314",
     "exception": false,
     "start_time": "2022-03-09T18:18:54.903800",
     "status": "completed"
    },
    "tags": []
   },
   "source": [
    "quotes_rus[:5]"
   ]
  },
  {
   "cell_type": "raw",
   "id": "059cfa40",
   "metadata": {
    "execution": {
     "iopub.execute_input": "2022-03-09T15:40:44.881913Z",
     "iopub.status.busy": "2022-03-09T15:40:44.881411Z",
     "iopub.status.idle": "2022-03-09T15:40:45.060786Z",
     "shell.execute_reply": "2022-03-09T15:40:45.059961Z",
     "shell.execute_reply.started": "2022-03-09T15:40:44.881874Z"
    },
    "papermill": {
     "duration": 0.183472,
     "end_time": "2022-03-09T18:18:55.457335",
     "exception": false,
     "start_time": "2022-03-09T18:18:55.273863",
     "status": "completed"
    },
    "tags": []
   },
   "source": [
    "from nltk.tokenize import RegexpTokenizer\n",
    "tokenizer = RegexpTokenizer(r\"[_]|[\\w']+|[\\s]|[\\W]\")\n",
    "quotes_rus_tok = [tokenizer.tokenize(line) for line in quotes_rus]\n",
    "quotes_rus_tok[:5]"
   ]
  },
  {
   "cell_type": "raw",
   "id": "f42668ff",
   "metadata": {
    "execution": {
     "iopub.execute_input": "2022-03-09T15:40:45.062485Z",
     "iopub.status.busy": "2022-03-09T15:40:45.062205Z",
     "iopub.status.idle": "2022-03-09T15:40:45.466961Z",
     "shell.execute_reply": "2022-03-09T15:40:45.466267Z",
     "shell.execute_reply.started": "2022-03-09T15:40:45.062448Z"
    },
    "papermill": {
     "duration": 0.287132,
     "end_time": "2022-03-09T18:18:56.020985",
     "exception": false,
     "start_time": "2022-03-09T18:18:55.733853",
     "status": "completed"
    },
    "tags": []
   },
   "source": [
    "plt.title('Name length distribution (after len threshold)')\n",
    "plt.hist(list(map(len, quotes_rus_tok)), bins=50);"
   ]
  },
  {
   "cell_type": "raw",
   "id": "98f2065c",
   "metadata": {
    "execution": {
     "iopub.execute_input": "2022-03-09T15:40:45.468342Z",
     "iopub.status.busy": "2022-03-09T15:40:45.468101Z",
     "iopub.status.idle": "2022-03-09T15:40:45.475561Z",
     "shell.execute_reply": "2022-03-09T15:40:45.474609Z",
     "shell.execute_reply.started": "2022-03-09T15:40:45.468309Z"
    },
    "papermill": {
     "duration": 0.300649,
     "end_time": "2022-03-09T18:18:56.633053",
     "exception": false,
     "start_time": "2022-03-09T18:18:56.332404",
     "status": "completed"
    },
    "tags": []
   },
   "source": [
    "quotes_rus_tok[:5]"
   ]
  },
  {
   "cell_type": "raw",
   "id": "110a8fbe",
   "metadata": {
    "execution": {
     "iopub.execute_input": "2022-03-09T15:40:45.477794Z",
     "iopub.status.busy": "2022-03-09T15:40:45.47717Z",
     "iopub.status.idle": "2022-03-09T15:40:45.489641Z",
     "shell.execute_reply": "2022-03-09T15:40:45.488954Z",
     "shell.execute_reply.started": "2022-03-09T15:40:45.477746Z"
    },
    "papermill": {
     "duration": 0.184725,
     "end_time": "2022-03-09T18:18:57.019099",
     "exception": false,
     "start_time": "2022-03-09T18:18:56.834374",
     "status": "completed"
    },
    "tags": []
   },
   "source": [
    "[type(line) for line in quotes_rus_tok if type(line)!=list]"
   ]
  },
  {
   "cell_type": "raw",
   "id": "9389ed11",
   "metadata": {
    "ExecuteTime": {
     "end_time": "2019-11-05T18:21:31.653673Z",
     "start_time": "2019-11-05T18:21:31.578424Z"
    },
    "execution": {
     "iopub.execute_input": "2022-03-09T15:40:45.492039Z",
     "iopub.status.busy": "2022-03-09T15:40:45.491852Z",
     "iopub.status.idle": "2022-03-09T15:40:45.529015Z",
     "shell.execute_reply": "2022-03-09T15:40:45.528341Z",
     "shell.execute_reply.started": "2022-03-09T15:40:45.492012Z"
    },
    "papermill": {
     "duration": 0.183844,
     "end_time": "2022-03-09T18:18:57.387134",
     "exception": false,
     "start_time": "2022-03-09T18:18:57.203290",
     "status": "completed"
    },
    "tags": []
   },
   "source": [
    "from itertools import chain\n",
    "tokens = list(set(chain(*quotes_rus_tok)))\n",
    "token_to_id = {token: idx for idx, token in enumerate(tokens)}\n",
    "num_tokens = len(tokens)\n",
    "num_tokens, len(quotes_rus_tok)"
   ]
  },
  {
   "cell_type": "raw",
   "id": "f6f37b4a",
   "metadata": {
    "ExecuteTime": {
     "end_time": "2019-11-05T18:21:07.838814Z",
     "start_time": "2019-11-05T18:21:07.833611Z"
    },
    "execution": {
     "iopub.execute_input": "2022-03-09T15:40:45.533498Z",
     "iopub.status.busy": "2022-03-09T15:40:45.533302Z",
     "iopub.status.idle": "2022-03-09T15:40:45.548248Z",
     "shell.execute_reply": "2022-03-09T15:40:45.547251Z",
     "shell.execute_reply.started": "2022-03-09T15:40:45.533475Z"
    },
    "papermill": {
     "duration": 0.192085,
     "end_time": "2022-03-09T18:18:57.762650",
     "exception": false,
     "start_time": "2022-03-09T18:18:57.570565",
     "status": "completed"
    },
    "tags": []
   },
   "source": [
    "assert len(tokens) == len(token_to_id), \"dictionaries must have same size\"\n",
    "\n",
    "for i in range(num_tokens):\n",
    "    assert token_to_id[tokens[i]] == i, \"token identifier must be it's position in tokens list\"\n",
    "\n",
    "print(\"Seems alright!\")"
   ]
  },
  {
   "cell_type": "raw",
   "id": "9d2e223b",
   "metadata": {
    "execution": {
     "iopub.execute_input": "2022-03-09T15:40:45.549809Z",
     "iopub.status.busy": "2022-03-09T15:40:45.549548Z",
     "iopub.status.idle": "2022-03-09T15:40:45.555155Z",
     "shell.execute_reply": "2022-03-09T15:40:45.55428Z",
     "shell.execute_reply.started": "2022-03-09T15:40:45.549775Z"
    },
    "papermill": {
     "duration": 0.1838,
     "end_time": "2022-03-09T18:18:58.130685",
     "exception": false,
     "start_time": "2022-03-09T18:18:57.946885",
     "status": "completed"
    },
    "tags": []
   },
   "source": [
    "#Example: cast 4 names to matrices, pad with zeros\n",
    "print('\\n'.join(map(str,quotes_rus_tok[::10000])))\n",
    "print(to_matrix(quotes_rus_tok[::10000], token_to_id))"
   ]
  },
  {
   "cell_type": "raw",
   "id": "1af8d484",
   "metadata": {
    "execution": {
     "iopub.execute_input": "2022-03-09T15:41:56.967441Z",
     "iopub.status.busy": "2022-03-09T15:41:56.966987Z",
     "iopub.status.idle": "2022-03-09T15:42:32.455384Z",
     "shell.execute_reply": "2022-03-09T15:42:32.454223Z",
     "shell.execute_reply.started": "2022-03-09T15:41:56.967389Z"
    },
    "papermill": {
     "duration": 0.230111,
     "end_time": "2022-03-09T18:18:58.550835",
     "exception": false,
     "start_time": "2022-03-09T18:18:58.320724",
     "status": "completed"
    },
    "tags": []
   },
   "source": [
    "#hyperparameters\n",
    "name='wordRNN_emb_size=100_rnn_num_units_512_rnn_num_layers=1_num_loop=3000'\n",
    "emb_size=100\n",
    "RNN_class=nn.RNN #nn.RNN, nn.GRU, or nn.LSTM\n",
    "rnn_num_units=512\n",
    "rnn_num_layers=1\n",
    "batch_size=32\n",
    "num_loop=3000\n",
    "word_tokenize=True\n",
    "dataset=quotes_rus_tok\n",
    "\n",
    "\n",
    "MAX_LENGTH = max(map(len, dataset))\n",
    "model = RNNLoop(num_tokens=num_tokens, emb_size=emb_size, RNN_class=RNN_class,\n",
    "                rnn_num_units=rnn_num_units, rnn_num_layers=rnn_num_layers)\n",
    "opt = torch.optim.Adam(model.parameters())\n",
    "history = []\n",
    "\n",
    "model, history = train_model(model, opt, dataset, token_to_id, history, num_loop=num_loop, batch_size=batch_size, device=device)"
   ]
  },
  {
   "cell_type": "raw",
   "id": "19a9aee6",
   "metadata": {
    "ExecuteTime": {
     "end_time": "2019-11-05T18:21:23.702249Z",
     "start_time": "2019-11-05T18:21:23.629226Z"
    },
    "execution": {
     "iopub.execute_input": "2022-03-09T15:42:37.073911Z",
     "iopub.status.busy": "2022-03-09T15:42:37.073655Z",
     "iopub.status.idle": "2022-03-09T15:42:58.524708Z",
     "shell.execute_reply": "2022-03-09T15:42:58.523994Z",
     "shell.execute_reply.started": "2022-03-09T15:42:37.073882Z"
    },
    "papermill": {
     "duration": 0.188223,
     "end_time": "2022-03-09T18:18:58.923550",
     "exception": false,
     "start_time": "2022-03-09T18:18:58.735327",
     "status": "completed"
    },
    "tags": []
   },
   "source": [
    "for _ in range(10):\n",
    "    print(generate_sample_loop(model, max_length=MAX_LENGTH, temperature=1, word_tokenize=word_tokenize))\n",
    "print()\n",
    "print()\n",
    "for seed_phrase in ['_Если', '_Пусть']:\n",
    "    print(\"#{} ##################################\".format(seed_phrase))\n",
    "    for t in [1, 0.1, 1.2]:\n",
    "        print(\"Temparature = {}:\".format(t))\n",
    "        for _ in range(10):\n",
    "            print(generate_sample_loop(model, seed_phrase=seed_phrase, max_length=MAX_LENGTH, \n",
    "                                           temperature=t, word_tokenize=word_tokenize))\n",
    "        print()\n",
    "    print()"
   ]
  },
  {
   "cell_type": "raw",
   "id": "c2344837",
   "metadata": {
    "execution": {
     "iopub.execute_input": "2022-03-09T15:43:59.422384Z",
     "iopub.status.busy": "2022-03-09T15:43:59.422114Z",
     "iopub.status.idle": "2022-03-09T15:44:39.342615Z",
     "shell.execute_reply": "2022-03-09T15:44:39.341787Z",
     "shell.execute_reply.started": "2022-03-09T15:43:59.422353Z"
    },
    "papermill": {
     "duration": 0.191361,
     "end_time": "2022-03-09T18:18:59.300798",
     "exception": false,
     "start_time": "2022-03-09T18:18:59.109437",
     "status": "completed"
    },
    "tags": []
   },
   "source": [
    "#hyperparameters\n",
    "name='wordRNN_emb_size=100_rnn_num_units_512_rnn_num_layers=3_num_loop=5000'\n",
    "emb_size=100\n",
    "RNN_class=nn.RNN #nn.RNN, nn.GRU, or nn.LSTM\n",
    "rnn_num_units=512\n",
    "rnn_num_layers=3\n",
    "batch_size=32\n",
    "num_loop=5000\n",
    "word_tokenize=True\n",
    "dataset=quotes_rus_tok\n",
    "\n",
    "\n",
    "MAX_LENGTH = max(map(len, dataset))\n",
    "model = RNNLoop(num_tokens=num_tokens, emb_size=emb_size, RNN_class=RNN_class,\n",
    "                rnn_num_units=rnn_num_units, rnn_num_layers=rnn_num_layers)\n",
    "opt = torch.optim.Adam(model.parameters())\n",
    "history = []\n",
    "\n",
    "model, history = train_model(model, opt, dataset, token_to_id, history, num_loop=num_loop, batch_size=batch_size, device=device)"
   ]
  },
  {
   "cell_type": "raw",
   "id": "5535d85c",
   "metadata": {
    "ExecuteTime": {
     "end_time": "2019-11-05T18:21:23.702249Z",
     "start_time": "2019-11-05T18:21:23.629226Z"
    },
    "execution": {
     "iopub.execute_input": "2022-03-09T15:42:37.073911Z",
     "iopub.status.busy": "2022-03-09T15:42:37.073655Z",
     "iopub.status.idle": "2022-03-09T15:42:58.524708Z",
     "shell.execute_reply": "2022-03-09T15:42:58.523994Z",
     "shell.execute_reply.started": "2022-03-09T15:42:37.073882Z"
    },
    "papermill": {
     "duration": 0.184202,
     "end_time": "2022-03-09T18:18:59.671598",
     "exception": false,
     "start_time": "2022-03-09T18:18:59.487396",
     "status": "completed"
    },
    "tags": []
   },
   "source": [
    "for _ in range(10):\n",
    "    print(generate_sample_loop(model, max_length=MAX_LENGTH, temperature=1, word_tokenize=word_tokenize))\n",
    "print()\n",
    "print()\n",
    "for seed_phrase in ['_Если', '_Пусть']:\n",
    "    print(\"#{} ##################################\".format(seed_phrase))\n",
    "    for t in [1, 0.1, 1.2]:\n",
    "        print(\"Temparature = {}:\".format(t))\n",
    "        for _ in range(10):\n",
    "            print(generate_sample_loop(model, seed_phrase=seed_phrase, max_length=MAX_LENGTH, \n",
    "                                           temperature=t, word_tokenize=word_tokenize))\n",
    "        print()\n",
    "    print()"
   ]
  },
  {
   "cell_type": "raw",
   "id": "572feb12",
   "metadata": {
    "papermill": {
     "duration": 0.186881,
     "end_time": "2022-03-09T18:19:00.044253",
     "exception": false,
     "start_time": "2022-03-09T18:18:59.857372",
     "status": "completed"
    },
    "tags": []
   },
   "source": []
  },
  {
   "cell_type": "raw",
   "id": "f37bfa07",
   "metadata": {
    "execution": {
     "iopub.execute_input": "2022-03-09T15:41:56.967441Z",
     "iopub.status.busy": "2022-03-09T15:41:56.966987Z",
     "iopub.status.idle": "2022-03-09T15:42:32.455384Z",
     "shell.execute_reply": "2022-03-09T15:42:32.454223Z",
     "shell.execute_reply.started": "2022-03-09T15:41:56.967389Z"
    },
    "papermill": {
     "duration": 0.183964,
     "end_time": "2022-03-09T18:19:00.413684",
     "exception": false,
     "start_time": "2022-03-09T18:19:00.229720",
     "status": "completed"
    },
    "tags": []
   },
   "source": [
    "#hyperparameters\n",
    "name='wordGRU_emb_size=100_rnn_num_units_512_rnn_num_layers=1_num_loop=3000'\n",
    "emb_size=100\n",
    "RNN_class=nn.GRU #nn.RNN, nn.GRU, or nn.LSTM\n",
    "rnn_num_units=512\n",
    "rnn_num_layers=1\n",
    "batch_size=32\n",
    "num_loop=3000\n",
    "word_tokenize=True\n",
    "dataset=quotes_rus_tok\n",
    "\n",
    "\n",
    "MAX_LENGTH = max(map(len, dataset))\n",
    "model = RNNLoop(num_tokens=num_tokens, emb_size=emb_size, RNN_class=RNN_class,\n",
    "                rnn_num_units=rnn_num_units, rnn_num_layers=rnn_num_layers)\n",
    "opt = torch.optim.Adam(model.parameters())\n",
    "history = []\n",
    "\n",
    "model, history = train_model(model, opt, dataset, token_to_id, history, num_loop=num_loop, batch_size=batch_size, device=device)"
   ]
  },
  {
   "cell_type": "raw",
   "id": "8d794fbc",
   "metadata": {
    "ExecuteTime": {
     "end_time": "2019-11-05T18:21:23.702249Z",
     "start_time": "2019-11-05T18:21:23.629226Z"
    },
    "execution": {
     "iopub.execute_input": "2022-03-09T15:42:37.073911Z",
     "iopub.status.busy": "2022-03-09T15:42:37.073655Z",
     "iopub.status.idle": "2022-03-09T15:42:58.524708Z",
     "shell.execute_reply": "2022-03-09T15:42:58.523994Z",
     "shell.execute_reply.started": "2022-03-09T15:42:37.073882Z"
    },
    "papermill": {
     "duration": 0.187312,
     "end_time": "2022-03-09T18:19:00.785333",
     "exception": false,
     "start_time": "2022-03-09T18:19:00.598021",
     "status": "completed"
    },
    "tags": []
   },
   "source": [
    "for _ in range(10):\n",
    "    print(generate_sample_loop(model, max_length=MAX_LENGTH, temperature=1, word_tokenize=word_tokenize))\n",
    "print()\n",
    "print()\n",
    "for seed_phrase in ['_Если', '_Пусть']:\n",
    "    print(\"#{} ##################################\".format(seed_phrase))\n",
    "    for t in [1, 0.1, 1.2]:\n",
    "        print(\"Temparature = {}:\".format(t))\n",
    "        for _ in range(10):\n",
    "            print(generate_sample_loop(model, seed_phrase=seed_phrase, max_length=MAX_LENGTH, \n",
    "                                           temperature=t, word_tokenize=word_tokenize))\n",
    "        print()\n",
    "    print()"
   ]
  },
  {
   "cell_type": "raw",
   "id": "39f47a88",
   "metadata": {
    "execution": {
     "iopub.execute_input": "2022-03-09T15:43:59.422384Z",
     "iopub.status.busy": "2022-03-09T15:43:59.422114Z",
     "iopub.status.idle": "2022-03-09T15:44:39.342615Z",
     "shell.execute_reply": "2022-03-09T15:44:39.341787Z",
     "shell.execute_reply.started": "2022-03-09T15:43:59.422353Z"
    },
    "papermill": {
     "duration": 0.184417,
     "end_time": "2022-03-09T18:19:01.155565",
     "exception": false,
     "start_time": "2022-03-09T18:19:00.971148",
     "status": "completed"
    },
    "tags": []
   },
   "source": [
    "#hyperparameters\n",
    "name='wordGRU_emb_size=100_rnn_num_units_512_rnn_num_layers=3_num_loop=5000'\n",
    "emb_size=100\n",
    "RNN_class=nn.GRU #nn.RNN, nn.GRU, or nn.LSTM\n",
    "rnn_num_units=512\n",
    "rnn_num_layers=3\n",
    "batch_size=32\n",
    "num_loop=5000\n",
    "word_tokenize=True\n",
    "dataset=quotes_rus_tok\n",
    "\n",
    "\n",
    "MAX_LENGTH = max(map(len, dataset))\n",
    "model = RNNLoop(num_tokens=num_tokens, emb_size=emb_size, RNN_class=RNN_class,\n",
    "                rnn_num_units=rnn_num_units, rnn_num_layers=rnn_num_layers)\n",
    "opt = torch.optim.Adam(model.parameters())\n",
    "history = []\n",
    "\n",
    "model, history = train_model(model, opt, dataset, token_to_id, history, num_loop=num_loop, batch_size=batch_size, device=device)"
   ]
  },
  {
   "cell_type": "raw",
   "id": "b82b6056",
   "metadata": {
    "ExecuteTime": {
     "end_time": "2019-11-05T18:21:23.702249Z",
     "start_time": "2019-11-05T18:21:23.629226Z"
    },
    "execution": {
     "iopub.execute_input": "2022-03-09T15:42:37.073911Z",
     "iopub.status.busy": "2022-03-09T15:42:37.073655Z",
     "iopub.status.idle": "2022-03-09T15:42:58.524708Z",
     "shell.execute_reply": "2022-03-09T15:42:58.523994Z",
     "shell.execute_reply.started": "2022-03-09T15:42:37.073882Z"
    },
    "papermill": {
     "duration": 0.186921,
     "end_time": "2022-03-09T18:19:01.527058",
     "exception": false,
     "start_time": "2022-03-09T18:19:01.340137",
     "status": "completed"
    },
    "tags": []
   },
   "source": [
    "for _ in range(10):\n",
    "    print(generate_sample_loop(model, max_length=MAX_LENGTH, temperature=1, word_tokenize=word_tokenize))\n",
    "print()\n",
    "print()\n",
    "for seed_phrase in ['_Если', '_Пусть']:\n",
    "    print(\"#{} ##################################\".format(seed_phrase))\n",
    "    for t in [1, 0.1, 1.2]:\n",
    "        print(\"Temparature = {}:\".format(t))\n",
    "        for _ in range(10):\n",
    "            print(generate_sample_loop(model, seed_phrase=seed_phrase, max_length=MAX_LENGTH, \n",
    "                                           temperature=t, word_tokenize=word_tokenize))\n",
    "        print()\n",
    "    print()"
   ]
  },
  {
   "cell_type": "raw",
   "id": "8cc78b33",
   "metadata": {
    "execution": {
     "iopub.execute_input": "2022-03-09T15:41:56.967441Z",
     "iopub.status.busy": "2022-03-09T15:41:56.966987Z",
     "iopub.status.idle": "2022-03-09T15:42:32.455384Z",
     "shell.execute_reply": "2022-03-09T15:42:32.454223Z",
     "shell.execute_reply.started": "2022-03-09T15:41:56.967389Z"
    },
    "papermill": {
     "duration": 0.184198,
     "end_time": "2022-03-09T18:19:01.902242",
     "exception": false,
     "start_time": "2022-03-09T18:19:01.718044",
     "status": "completed"
    },
    "tags": []
   },
   "source": [
    "#hyperparameters\n",
    "name='wordLSTM_emb_size=100_rnn_num_units_512_rnn_num_layers=1_num_loop=3000'\n",
    "emb_size=100\n",
    "RNN_class=nn.LSTM #nn.RNN, nn.GRU, or nn.LSTM\n",
    "rnn_num_units=512\n",
    "rnn_num_layers=1\n",
    "batch_size=32\n",
    "num_loop=3000\n",
    "word_tokenize=True\n",
    "dataset=quotes_rus_tok\n",
    "\n",
    "\n",
    "MAX_LENGTH = max(map(len, dataset))\n",
    "model = RNNLoop(num_tokens=num_tokens, emb_size=emb_size, RNN_class=RNN_class,\n",
    "                rnn_num_units=rnn_num_units, rnn_num_layers=rnn_num_layers)\n",
    "opt = torch.optim.Adam(model.parameters())\n",
    "history = []\n",
    "\n",
    "model, history = train_model(model, opt, dataset, token_to_id, history, num_loop=num_loop, batch_size=batch_size, device=device)"
   ]
  },
  {
   "cell_type": "raw",
   "id": "4eb412bc",
   "metadata": {
    "ExecuteTime": {
     "end_time": "2019-11-05T18:21:23.702249Z",
     "start_time": "2019-11-05T18:21:23.629226Z"
    },
    "execution": {
     "iopub.execute_input": "2022-03-09T15:42:37.073911Z",
     "iopub.status.busy": "2022-03-09T15:42:37.073655Z",
     "iopub.status.idle": "2022-03-09T15:42:58.524708Z",
     "shell.execute_reply": "2022-03-09T15:42:58.523994Z",
     "shell.execute_reply.started": "2022-03-09T15:42:37.073882Z"
    },
    "papermill": {
     "duration": 0.185031,
     "end_time": "2022-03-09T18:19:02.272062",
     "exception": false,
     "start_time": "2022-03-09T18:19:02.087031",
     "status": "completed"
    },
    "tags": []
   },
   "source": [
    "for _ in range(10):\n",
    "    print(generate_sample_loop(model, max_length=MAX_LENGTH, temperature=1, word_tokenize=word_tokenize))\n",
    "print()\n",
    "print()\n",
    "for seed_phrase in ['_Если', '_Пусть']:\n",
    "    print(\"#{} ##################################\".format(seed_phrase))\n",
    "    for t in [1, 0.1, 1.2]:\n",
    "        print(\"Temparature = {}:\".format(t))\n",
    "        for _ in range(10):\n",
    "            print(generate_sample_loop(model, seed_phrase=seed_phrase, max_length=MAX_LENGTH, \n",
    "                                           temperature=t, word_tokenize=word_tokenize))\n",
    "        print()\n",
    "    print()"
   ]
  },
  {
   "cell_type": "raw",
   "id": "08eb496b",
   "metadata": {
    "execution": {
     "iopub.execute_input": "2022-03-09T15:43:59.422384Z",
     "iopub.status.busy": "2022-03-09T15:43:59.422114Z",
     "iopub.status.idle": "2022-03-09T15:44:39.342615Z",
     "shell.execute_reply": "2022-03-09T15:44:39.341787Z",
     "shell.execute_reply.started": "2022-03-09T15:43:59.422353Z"
    },
    "papermill": {
     "duration": 0.183258,
     "end_time": "2022-03-09T18:19:02.639776",
     "exception": false,
     "start_time": "2022-03-09T18:19:02.456518",
     "status": "completed"
    },
    "tags": []
   },
   "source": [
    "#hyperparameters\n",
    "name='wordLSTM_emb_size=100_rnn_num_units_512_rnn_num_layers=3_num_loop=5000'\n",
    "emb_size=100\n",
    "RNN_class=nn.LSTM #nn.RNN, nn.GRU, or nn.LSTM\n",
    "rnn_num_units=512\n",
    "rnn_num_layers=3\n",
    "batch_size=32\n",
    "num_loop=5000\n",
    "word_tokenize=True\n",
    "dataset=quotes_rus_tok\n",
    "\n",
    "\n",
    "MAX_LENGTH = max(map(len, dataset))\n",
    "model = RNNLoop(num_tokens=num_tokens, emb_size=emb_size, RNN_class=RNN_class,\n",
    "                rnn_num_units=rnn_num_units, rnn_num_layers=rnn_num_layers)\n",
    "opt = torch.optim.Adam(model.parameters())\n",
    "history = []\n",
    "\n",
    "model, history = train_model(model, opt, dataset, token_to_id, history, num_loop=num_loop, batch_size=batch_size, device=device)"
   ]
  },
  {
   "cell_type": "raw",
   "id": "aa0397f5",
   "metadata": {
    "ExecuteTime": {
     "end_time": "2019-11-05T18:21:23.702249Z",
     "start_time": "2019-11-05T18:21:23.629226Z"
    },
    "execution": {
     "iopub.execute_input": "2022-03-09T15:42:37.073911Z",
     "iopub.status.busy": "2022-03-09T15:42:37.073655Z",
     "iopub.status.idle": "2022-03-09T15:42:58.524708Z",
     "shell.execute_reply": "2022-03-09T15:42:58.523994Z",
     "shell.execute_reply.started": "2022-03-09T15:42:37.073882Z"
    },
    "papermill": {
     "duration": 0.304622,
     "end_time": "2022-03-09T18:19:03.250603",
     "exception": false,
     "start_time": "2022-03-09T18:19:02.945981",
     "status": "completed"
    },
    "tags": []
   },
   "source": [
    "for _ in range(10):\n",
    "    print(generate_sample_loop(model, max_length=MAX_LENGTH, temperature=1, word_tokenize=word_tokenize))\n",
    "print()\n",
    "print()\n",
    "for seed_phrase in ['_Если', '_Пусть']:\n",
    "    print(\"#{} ##################################\".format(seed_phrase))\n",
    "    for t in [1, 0.1, 1.2]:\n",
    "        print(\"Temparature = {}:\".format(t))\n",
    "        for _ in range(10):\n",
    "            print(generate_sample_loop(model, seed_phrase=seed_phrase, max_length=MAX_LENGTH, \n",
    "                                           temperature=t, word_tokenize=word_tokenize))\n",
    "        print()\n",
    "    print()"
   ]
  }
 ],
 "metadata": {
  "kernelspec": {
   "display_name": "Python 3",
   "language": "python",
   "name": "python3"
  },
  "language_info": {
   "codemirror_mode": {
    "name": "ipython",
    "version": 3
   },
   "file_extension": ".py",
   "mimetype": "text/x-python",
   "name": "python",
   "nbconvert_exporter": "python",
   "pygments_lexer": "ipython3",
   "version": "3.7.12"
  },
  "papermill": {
   "default_parameters": {},
   "duration": 4225.675595,
   "end_time": "2022-03-09T18:19:04.655894",
   "environment_variables": {},
   "exception": null,
   "input_path": "__notebook__.ipynb",
   "output_path": "__notebook__.ipynb",
   "parameters": {},
   "start_time": "2022-03-09T17:08:38.980299",
   "version": "2.3.3"
  }
 },
 "nbformat": 4,
 "nbformat_minor": 5
}
