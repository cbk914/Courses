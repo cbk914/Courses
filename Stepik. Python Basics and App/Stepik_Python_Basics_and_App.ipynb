{
 "cells": [
  {
   "cell_type": "code",
   "execution_count": 1,
   "id": "685f14a8-2b56-442c-acc0-b08449e4788b",
   "metadata": {},
   "outputs": [
    {
     "data": {
      "text/plain": [
       "1346269"
      ]
     },
     "execution_count": 1,
     "metadata": {},
     "output_type": "execute_result"
    }
   ],
   "source": [
    "#1.1 Введение\n",
    "fib = lambda x : 1 if x <= 2 else fib(x - 1) + fib(x - 2)\n",
    "fib(31)"
   ]
  },
  {
   "cell_type": "code",
   "execution_count": 2,
   "id": "25c10212-5a5c-4c16-8a95-c2d9aa1e56c3",
   "metadata": {},
   "outputs": [],
   "source": [
    "# Вашей программе на вход подается последовательность строк.\n",
    "# Первая строка содержит число n (1 ≤ n ≤ 100).\n",
    "# В следующих n строках содержится по одному целому числу.\n",
    "\n",
    "# Выведите одно число – сумму данных n чисел."
   ]
  },
  {
   "cell_type": "code",
   "execution_count": 7,
   "id": "54ae7678-81de-4349-a704-7cb05a7bfcf5",
   "metadata": {},
   "outputs": [
    {
     "name": "stdout",
     "output_type": "stream",
     "text": [
      "Введите число 1 ≤ n ≤ 100\n"
     ]
    },
    {
     "name": "stdin",
     "output_type": "stream",
     "text": [
      " 3\n",
      " 4\n",
      " 5\n",
      " 6\n"
     ]
    },
    {
     "name": "stdout",
     "output_type": "stream",
     "text": [
      "15\n"
     ]
    }
   ],
   "source": [
    "print('Введите число 1 ≤ n ≤ 100')\n",
    "n = int(input())\n",
    "numbers = []\n",
    "for _ in range(n):\n",
    "    numbers.append(int(input()))\n",
    "print(sum(numbers))"
   ]
  },
  {
   "cell_type": "code",
   "execution_count": 8,
   "id": "825e0d00-19f8-4933-9f1b-1ff0a2722967",
   "metadata": {},
   "outputs": [
    {
     "name": "stdin",
     "output_type": "stream",
     "text": [
      " 4\n",
      " 3\n",
      " 3\n",
      " 3\n",
      " 3\n"
     ]
    },
    {
     "name": "stdout",
     "output_type": "stream",
     "text": [
      "12\n"
     ]
    }
   ],
   "source": [
    "print(sum([int(input()) for i in range(int(input()))]))"
   ]
  },
  {
   "cell_type": "code",
   "execution_count": 10,
   "id": "8cbfd215-84b6-4708-9093-a3925ea30aa4",
   "metadata": {},
   "outputs": [
    {
     "name": "stdout",
     "output_type": "stream",
     "text": [
      "2241445514496\n",
      "2241428711232\n"
     ]
    }
   ],
   "source": [
    "x = [1,2,3]\n",
    "print(id(x))\n",
    "print(id([1,2,3]))"
   ]
  },
  {
   "cell_type": "code",
   "execution_count": 14,
   "id": "fad01265-7060-4fe9-a8ea-64b965122164",
   "metadata": {},
   "outputs": [
    {
     "name": "stdout",
     "output_type": "stream",
     "text": [
      "True\n",
      "False\n"
     ]
    }
   ],
   "source": [
    "x = [1,2,3]\n",
    "y = x\n",
    "print(y is x)\n",
    "print(y is [1,2,3])"
   ]
  },
  {
   "cell_type": "code",
   "execution_count": 15,
   "id": "795c9a09-cdb9-444c-aa5b-75d2209d67d2",
   "metadata": {},
   "outputs": [
    {
     "data": {
      "text/plain": [
       "[1, 2, 3, 4]"
      ]
     },
     "execution_count": 15,
     "metadata": {},
     "output_type": "execute_result"
    }
   ],
   "source": [
    "x.append(4)\n",
    "y"
   ]
  },
  {
   "cell_type": "code",
   "execution_count": null,
   "id": "687332f0-fc43-439a-9df9-261ca20d956d",
   "metadata": {},
   "outputs": [],
   "source": [
    "#immutable\n",
    "int\n",
    "float\n",
    "complex\n",
    "bool\n",
    "tuple\n",
    "str"
   ]
  },
  {
   "cell_type": "code",
   "execution_count": null,
   "id": "e2e178b0-5d68-4095-87f1-4f31b1679d63",
   "metadata": {},
   "outputs": [],
   "source": [
    "#mutable\n",
    "list\n",
    "dict\n",
    "set"
   ]
  },
  {
   "cell_type": "raw",
   "id": "f4741904-f0d9-4c6c-8e13-d64fd381a45c",
   "metadata": {},
   "source": [
    "Реализуйте программу, которая будет вычислять количество различных объектов в списке.\n",
    "Два объекта a и b считаются различными, если a is b равно False.\n",
    "\n",
    "Вашей программе доступна переменная с названием objects, которая ссылается на список, содержащий не более 100 объектов. Выведите количество различных объектов в этом списке.\n",
    "\n",
    "Формат ожидаемой программы:\n",
    "\n",
    "ans = 0\n",
    "for obj in objects: # доступная переменная objects\n",
    "    ans += 1\n",
    "\n",
    "print(ans)"
   ]
  },
  {
   "cell_type": "code",
   "execution_count": 41,
   "id": "67c5cd46-dcee-4d94-bc27-d2fec74e0740",
   "metadata": {},
   "outputs": [],
   "source": [
    "objects = [1,2,3,3,54645647]\n",
    "objects.append(54645647)"
   ]
  },
  {
   "cell_type": "code",
   "execution_count": 42,
   "id": "72270fa9-e4db-4124-8d34-f8bb654f1fb3",
   "metadata": {},
   "outputs": [
    {
     "name": "stdout",
     "output_type": "stream",
     "text": [
      "5\n"
     ]
    }
   ],
   "source": [
    "ans = len(set(map(lambda x: id(x), objects)))\n",
    "print(ans)"
   ]
  },
  {
   "cell_type": "code",
   "execution_count": 43,
   "id": "b01701a6-77bc-4645-99e2-21060f61e271",
   "metadata": {},
   "outputs": [
    {
     "name": "stdout",
     "output_type": "stream",
     "text": [
      "5\n"
     ]
    }
   ],
   "source": [
    "ans = len(set(map(id, objects)))\n",
    "print(ans)"
   ]
  },
  {
   "cell_type": "code",
   "execution_count": null,
   "id": "3cad19cb-1602-42e4-9763-e602f46450b7",
   "metadata": {},
   "outputs": [],
   "source": []
  }
 ],
 "metadata": {
  "kernelspec": {
   "display_name": "Python 3",
   "language": "python",
   "name": "python3"
  },
  "language_info": {
   "codemirror_mode": {
    "name": "ipython",
    "version": 3
   },
   "file_extension": ".py",
   "mimetype": "text/x-python",
   "name": "python",
   "nbconvert_exporter": "python",
   "pygments_lexer": "ipython3",
   "version": "3.9.5"
  }
 },
 "nbformat": 4,
 "nbformat_minor": 5
}
