{
 "cells": [
  {
   "cell_type": "code",
   "execution_count": 177,
   "id": "0d10fef1-a0e4-453e-8307-f7d0fdb199f5",
   "metadata": {},
   "outputs": [],
   "source": [
    "import pandas as pd\n",
    "import numpy as np\n",
    "%matplotlib inline\n",
    "import matplotlib.pyplot as plt\n",
    "import matplotlib\n",
    "import seaborn as sns\n",
    "from sklearn.ensemble import RandomForestClassifier\n",
    "from sklearn.model_selection import GridSearchCV\n",
    "from sklearn.model_selection import RandomizedSearchCV"
   ]
  },
  {
   "cell_type": "code",
   "execution_count": 21,
   "id": "98daa666-26d4-4509-951b-ca9882a050ba",
   "metadata": {},
   "outputs": [],
   "source": [
    "from sklearn.model_selection import GridSearchCV\n",
    "from sklearn.model_selection import train_test_split"
   ]
  },
  {
   "cell_type": "code",
   "execution_count": 31,
   "id": "5d4ded41-5c4f-4f83-858a-62e6738f42ea",
   "metadata": {},
   "outputs": [],
   "source": [
    "from sklearn.metrics import accuracy_score\n",
    "from sklearn.metrics import precision_score\n",
    "from sklearn.metrics import recall_score\n",
    "from sklearn.metrics import f1_score\n",
    "from sklearn.metrics import balanced_accuracy_score\n",
    "from sklearn.metrics import roc_auc_score\n",
    "\n",
    "def print_all_metrics(y_true, y_pred, binary=True, _round_=4):\n",
    "    '''Print metrics'''\n",
    "    print(\"Accuracy = {}, Balanced accuracy = {}\".format(accuracy_score(y_true, y_pred).round(_round_),\n",
    "                                                        balanced_accuracy_score(y_true, y_pred).round(_round_)))\n",
    "    \n",
    "    if binary:\n",
    "        average_list = ['binary', 'micro', 'macro', 'weighted']\n",
    "        print('In y_true, Pos = {}, Neg = {}, Pos/(Pos+Neg) = {}'.format(y_true[y_true == 1].count(), y_true[y_true == 0].count(),\n",
    "                                                                   (y_true[y_true == 1].count() /  y_true[(y_true == 1) | (y_true == 0)].count()).round(_round_)))\n",
    "    else:\n",
    "        average_list = ['micro', 'macro', 'weighted', 'samples']\n",
    "    metrics_list_of_dict = []\n",
    "    for average in average_list:\n",
    "        metrics_list_of_dict.append({'Average': average, \n",
    "                                     'Precision': precision_score(y_true, y_pred, average=average).round(_round_), \n",
    "                                     'Recall': recall_score(y_true, y_pred, average=average).round(_round_),\n",
    "                                     'F1': f1_score(y_true, y_pred, average=average).round(_round_)})\n",
    "        if average == 'binary':\n",
    "            metrics_list_of_dict.append({'Average': average+\"_pos_label=0\", \n",
    "                                     'Precision': precision_score(y_true, y_pred, average=average, pos_label=0).round(_round_), \n",
    "                                     'Recall': recall_score(y_true, y_pred, average=average, pos_label=0).round(_round_),\n",
    "                                     'F1': f1_score(y_true, y_pred, average=average, pos_label=0).round(_round_)})\n",
    "    df_metrics = pd.DataFrame(metrics_list_of_dict)\n",
    "    print(df_metrics)"
   ]
  },
  {
   "cell_type": "code",
   "execution_count": 23,
   "id": "36c3e7bd-897c-4fba-81a3-5f0f55d16b4d",
   "metadata": {},
   "outputs": [],
   "source": [
    "titanic_data = pd.read_csv(r'data/titanic/train.csv')\n",
    "X = titanic_data.drop(['PassengerId', 'Survived', 'Name', 'Ticket', 'Cabin'], axis=1)\n",
    "X = pd.get_dummies(X)\n",
    "X.Age.fillna(X.Age.median(), inplace=True)\n",
    "y = titanic_data.Survived\n",
    "\n",
    "X_train, X_test, y_train, y_test = train_test_split(X, y, test_size=0.33, random_state=42)"
   ]
  },
  {
   "cell_type": "code",
   "execution_count": 24,
   "id": "e933837a-2729-42fe-aca3-af61d2f8aa7f",
   "metadata": {},
   "outputs": [],
   "source": [
    "parameters = {'n_estimators': [100], \n",
    "              'max_depth': range(3, 20, 1), \n",
    "              'min_samples_leaf': [1, 4, 8, 15, 30, 50],\n",
    "              'min_samples_split': [2, 10, 20, 40, 100]}"
   ]
  },
  {
   "cell_type": "code",
   "execution_count": 27,
   "id": "2012e036-3381-4c0d-af8b-6d8db7662d9a",
   "metadata": {},
   "outputs": [],
   "source": [
    "grid_search_cf_clf = GridSearchCV(RandomForestClassifier(), parameters, \n",
    "                                  cv=5, n_jobs=-1, verbose=1, scoring='roc_auc') #n_jobs=-1 использовать все процессоры"
   ]
  },
  {
   "cell_type": "code",
   "execution_count": 28,
   "id": "cc89622b-1aa1-46e7-89ff-d78757bf2b5c",
   "metadata": {},
   "outputs": [
    {
     "name": "stdout",
     "output_type": "stream",
     "text": [
      "Fitting 5 folds for each of 510 candidates, totalling 2550 fits\n"
     ]
    },
    {
     "data": {
      "text/plain": [
       "GridSearchCV(cv=5, estimator=RandomForestClassifier(), n_jobs=-1,\n",
       "             param_grid={'max_depth': range(3, 20),\n",
       "                         'min_samples_leaf': [1, 4, 8, 15, 30, 50],\n",
       "                         'min_samples_split': [2, 10, 20, 40, 100],\n",
       "                         'n_estimators': [100]},\n",
       "             scoring='roc_auc', verbose=1)"
      ]
     },
     "execution_count": 28,
     "metadata": {},
     "output_type": "execute_result"
    }
   ],
   "source": [
    "grid_search_cf_clf.fit(X_train, y_train)"
   ]
  },
  {
   "cell_type": "code",
   "execution_count": 29,
   "id": "b5c50102-3ac8-4256-ad2f-156701b199b5",
   "metadata": {},
   "outputs": [
    {
     "data": {
      "text/plain": [
       "{'max_depth': 15,\n",
       " 'min_samples_leaf': 4,\n",
       " 'min_samples_split': 10,\n",
       " 'n_estimators': 100}"
      ]
     },
     "execution_count": 29,
     "metadata": {},
     "output_type": "execute_result"
    }
   ],
   "source": [
    "grid_search_cf_clf.best_params_"
   ]
  },
  {
   "cell_type": "code",
   "execution_count": 30,
   "id": "3f26a2e7-9cb8-4455-940f-9895aa2e8ce2",
   "metadata": {},
   "outputs": [],
   "source": [
    "best_clf_rf = grid_search_cf_clf.best_estimator_"
   ]
  },
  {
   "cell_type": "code",
   "execution_count": 32,
   "id": "fcdf2ca2-3142-46bb-a9f8-a69dc93d8b5b",
   "metadata": {},
   "outputs": [
    {
     "name": "stdout",
     "output_type": "stream",
     "text": [
      "Accuracy = 0.8034, Balanced accuracy = 0.7832\n",
      "In y_true, Pos = 120, Neg = 175, Pos/(Pos+Neg) = 0.4068\n",
      "              Average  Precision  Recall      F1\n",
      "0              binary     0.8100  0.6750  0.7364\n",
      "1  binary_pos_label=0     0.8000  0.8914  0.8432\n",
      "2               micro     0.8034  0.8034  0.8034\n",
      "3               macro     0.8050  0.7832  0.7898\n",
      "4            weighted     0.8041  0.8034  0.7998\n"
     ]
    }
   ],
   "source": [
    "print_all_metrics(y_test, best_clf_rf.predict(X_test))"
   ]
  },
  {
   "cell_type": "code",
   "execution_count": 33,
   "id": "84772a39-bb92-4388-b145-da1f60b0bbd5",
   "metadata": {},
   "outputs": [
    {
     "data": {
      "text/plain": [
       "0.8843809523809525"
      ]
     },
     "execution_count": 33,
     "metadata": {},
     "output_type": "execute_result"
    }
   ],
   "source": [
    "roc_auc_score(y_test, best_clf_rf.predict_proba(X_test)[:, 1])"
   ]
  },
  {
   "cell_type": "code",
   "execution_count": 34,
   "id": "2663611c-961a-4de7-85dd-03f3f53da225",
   "metadata": {},
   "outputs": [
    {
     "data": {
      "text/plain": [
       "<AxesSubplot:>"
      ]
     },
     "execution_count": 34,
     "metadata": {},
     "output_type": "execute_result"
    },
    {
     "data": {
      "image/png": "[encoded data removed]",
      "text/plain": [
       "<Figure size 864x576 with 1 Axes>"
      ]
     },
     "metadata": {
      "needs_background": "light"
     },
     "output_type": "display_data"
    }
   ],
   "source": [
    "pd.DataFrame(best_clf_rf.feature_importances_, index=X_train.columns, columns=['importance'])\\\n",
    "    .sort_values('importance').plot(kind='barh', figsize=(12, 8))"
   ]
  },
  {
   "cell_type": "code",
   "execution_count": 36,
   "id": "4e57a6c6-365b-4a28-9f4e-0d65afab9d0e",
   "metadata": {},
   "outputs": [
    {
     "data": {
      "image/png": "[encoded data removed]",
      "text/plain": [
       "<Figure size 432x288 with 1 Axes>"
      ]
     },
     "metadata": {
      "needs_background": "light"
     },
     "output_type": "display_data"
    }
   ],
   "source": [
    "from sklearn.metrics import roc_curve, auc\n",
    "fpr, tpr, thresholds = roc_curve(y_test, best_clf_rf.predict_proba(X_test)[:, 1])\n",
    "roc_auc= auc(fpr, tpr)\n",
    "lw = 2\n",
    "plt.figure()\n",
    "plt.plot(fpr, tpr, color='darkorange',\n",
    "         lw=lw, label='ROC curve (area = %0.2f)' % roc_auc)\n",
    "plt.plot([0, 1], [0, 1], color='navy', lw=lw, linestyle='--')\n",
    "plt.xlim([0.0, 1.0])\n",
    "plt.ylim([0.0, 1.05])\n",
    "plt.xlabel('False Positive Rate')\n",
    "plt.ylabel('True Positive Rate')\n",
    "plt.title('Receiver operating characteristic example')\n",
    "plt.legend(loc=\"lower right\")\n",
    "plt.show()"
   ]
  },
  {
   "cell_type": "code",
   "execution_count": null,
   "id": "7b48dc7b-9035-4470-929b-aae71380a916",
   "metadata": {},
   "outputs": [],
   "source": []
  },
  {
   "cell_type": "markdown",
   "id": "eb42b2d8-0d89-4cdb-a42c-b22bd522469e",
   "metadata": {},
   "source": [
    "**Пробую применить для решения задачи нейронную сеть**"
   ]
  },
  {
   "cell_type": "code",
   "execution_count": 178,
   "id": "9f4b1480-4219-49a5-b2bb-0d480d42e1d3",
   "metadata": {},
   "outputs": [],
   "source": [
    "import torch\n",
    "import random\n",
    "from sklearn.metrics import roc_auc_score\n",
    "\n",
    "rs = 42\n",
    "random.seed(rs)\n",
    "np.random.seed(rs)\n",
    "torch.manual_seed(rs)\n",
    "torch.cuda.manual_seed(rs)\n",
    "torch.backends.cudnn.deterministic = True"
   ]
  },
  {
   "cell_type": "code",
   "execution_count": 179,
   "id": "655b9183-d0b4-4214-bdcd-7a3787a8c3d0",
   "metadata": {},
   "outputs": [],
   "source": [
    "tsr_X_train = torch.FloatTensor(np.array(X_train))\n",
    "tsr_X_test = torch.FloatTensor(np.array(X_test))\n",
    "tsr_y_train = torch.LongTensor(np.array(y_train))\n",
    "tsr_y_test = torch.LongTensor(np.array(y_test))"
   ]
  },
  {
   "cell_type": "code",
   "execution_count": 180,
   "id": "3bd33950-1a88-4a6a-b0a9-de7d575e9f16",
   "metadata": {
    "id": "UtKzUXp1eOrN"
   },
   "outputs": [],
   "source": [
    "class StepNet(torch.nn.Module):\n",
    "    def __init__(self, n_inputs, n_hidden_neurons):\n",
    "        super(StepNet, self).__init__()\n",
    "        self.fc1 = torch.nn.Linear(n_inputs, n_hidden_neurons)\n",
    "        self.activ1 = torch.nn.ReLU()\n",
    "        self.fc2 = torch.nn.Linear(n_hidden_neurons, n_hidden_neurons)\n",
    "        self.activ2 = torch.nn.ReLU()\n",
    "        self.fc3 = torch.nn.Linear(n_hidden_neurons, 1)\n",
    "        self.activ3 = torch.nn.Sigmoid()\n",
    "        \n",
    "    def forward(self, x):\n",
    "        x = self.fc1(x)\n",
    "        x = self.activ1(x)\n",
    "        x = self.fc2(x)\n",
    "        x = self.activ2(x)\n",
    "        x = self.fc3(x)\n",
    "        x = self.activ3(x).reshape(-1)\n",
    "        return x\n",
    "\n",
    "    # def inference(self, x):\n",
    "    #     x = self.forward(x)\n",
    "    #     x = self.sm(x)\n",
    "    #     return x\n",
    "    \n",
    "step_net = StepNet(tsr_X_train.shape[1], 5)"
   ]
  },
  {
   "cell_type": "code",
   "execution_count": 181,
   "id": "94e2918b-b7a6-4dda-92fd-f2e4183280d5",
   "metadata": {},
   "outputs": [],
   "source": [
    "loss = torch.nn.BCELoss()\n",
    "\n",
    "optimizer = torch.optim.Adam(step_net.parameters(), lr=1.0e-2)"
   ]
  },
  {
   "cell_type": "code",
   "execution_count": 182,
   "id": "fb2e3174-5e8b-4663-8192-4fbedc353064",
   "metadata": {},
   "outputs": [
    {
     "name": "stdout",
     "output_type": "stream",
     "text": [
      "Epoch = 1 - Accuracy_Test = 0.644, ROC_AUC: Test = 0.744, Train = 0.654, diff = -0.090\n",
      "Epoch = 101 - Accuracy_Test = 0.807, ROC_AUC: Test = 0.892, Train = 0.869, diff = -0.022\n",
      "Epoch = 201 - Accuracy_Test = 0.800, ROC_AUC: Test = 0.877, Train = 0.866, diff = -0.011\n",
      "Epoch = 301 - Accuracy_Test = 0.807, ROC_AUC: Test = 0.867, Train = 0.871, diff = 0.003\n",
      "Epoch = 401 - Accuracy_Test = 0.820, ROC_AUC: Test = 0.862, Train = 0.875, diff = 0.012\n",
      "Epoch = 501 - Accuracy_Test = 0.814, ROC_AUC: Test = 0.866, Train = 0.885, diff = 0.019\n",
      "Epoch = 601 - Accuracy_Test = 0.810, ROC_AUC: Test = 0.863, Train = 0.885, diff = 0.022\n",
      "Epoch = 701 - Accuracy_Test = 0.803, ROC_AUC: Test = 0.860, Train = 0.885, diff = 0.025\n",
      "Epoch = 801 - Accuracy_Test = 0.810, ROC_AUC: Test = 0.859, Train = 0.886, diff = 0.027\n",
      "Epoch = 901 - Accuracy_Test = 0.814, ROC_AUC: Test = 0.861, Train = 0.887, diff = 0.026\n",
      "Epoch = 1001 - Accuracy_Test = 0.797, ROC_AUC: Test = 0.858, Train = 0.886, diff = 0.028\n",
      "Epoch = 1101 - Accuracy_Test = 0.786, ROC_AUC: Test = 0.860, Train = 0.886, diff = 0.026\n",
      "Epoch = 1201 - Accuracy_Test = 0.807, ROC_AUC: Test = 0.861, Train = 0.888, diff = 0.026\n",
      "Epoch = 1301 - Accuracy_Test = 0.803, ROC_AUC: Test = 0.857, Train = 0.888, diff = 0.030\n",
      "Epoch = 1401 - Accuracy_Test = 0.807, ROC_AUC: Test = 0.858, Train = 0.889, diff = 0.031\n",
      "Epoch = 1501 - Accuracy_Test = 0.803, ROC_AUC: Test = 0.857, Train = 0.892, diff = 0.035\n",
      "Epoch = 1601 - Accuracy_Test = 0.800, ROC_AUC: Test = 0.860, Train = 0.891, diff = 0.031\n",
      "Epoch = 1701 - Accuracy_Test = 0.797, ROC_AUC: Test = 0.860, Train = 0.891, diff = 0.031\n",
      "Epoch = 1801 - Accuracy_Test = 0.810, ROC_AUC: Test = 0.864, Train = 0.892, diff = 0.028\n",
      "Epoch = 1901 - Accuracy_Test = 0.790, ROC_AUC: Test = 0.862, Train = 0.890, diff = 0.028\n"
     ]
    }
   ],
   "source": [
    "learn_history = {}\n",
    "learn_history['Epoch'] = []\n",
    "learn_history['Accuracy_Test'] = []\n",
    "learn_history['ROC_AUC_Test'] = []\n",
    "learn_history['ROC_AUC_Train'] = []\n",
    "learn_history['ROC_AUC_Diff'] = []\n",
    "\n",
    "for epoch in range(2000):\n",
    "    optimizer.zero_grad()\n",
    "    preds = step_net.forward(tsr_X_train) \n",
    "        \n",
    "    loss_value = loss(preds, tsr_y_train.float())\n",
    "    loss_value.backward()\n",
    "    \n",
    "    optimizer.step()\n",
    "    \n",
    "    #Metrics\n",
    "    test_preds = step_net.forward(tsr_X_test)\n",
    "    train_preds = step_net.forward(tsr_X_train)\n",
    "    learn_history['Epoch'].append(epoch+1)\n",
    "    learn_history['Accuracy_Test'].append(float((tsr_y_test == (test_preds >= 0.5).int()).float().mean()))\n",
    "    learn_history['ROC_AUC_Test'].append(roc_auc_score(np.array(tsr_y_test.data), np.array(test_preds.data)))\n",
    "    learn_history['ROC_AUC_Train'].append(roc_auc_score(y_train, np.array(train_preds.data)))\n",
    "    learn_history['ROC_AUC_Diff'].append(float(learn_history['ROC_AUC_Train'][-1] - learn_history['ROC_AUC_Test'][-1]))\n",
    "    if epoch % 100 == 0:\n",
    "        print(\"Epoch = {} - Accuracy_Test = {:.3f}, ROC_AUC: Test = {:.3f}, Train = {:.3f}, diff = {:.3f}\".format(learn_history['Epoch'][-1], \n",
    "                                                                                          learn_history['Accuracy_Test'][-1],\n",
    "                                                                                          learn_history['ROC_AUC_Test'][-1], \n",
    "                                                                                          learn_history['ROC_AUC_Train'][-1], \n",
    "                                                                                          learn_history['ROC_AUC_Diff'][-1]))"
   ]
  },
  {
   "cell_type": "code",
   "execution_count": 183,
   "id": "27c06f5f-d44a-4dfb-b61e-268ec54dc477",
   "metadata": {},
   "outputs": [
    {
     "data": {
      "text/plain": [
       "(97, 0.8926190476190476, 0.8271186351776123)"
      ]
     },
     "execution_count": 183,
     "metadata": {},
     "output_type": "execute_result"
    }
   ],
   "source": [
    "np.argmax(learn_history['ROC_AUC_Test']), max(learn_history['ROC_AUC_Test']), max(learn_history['Accuracy_Test'])"
   ]
  },
  {
   "cell_type": "code",
   "execution_count": 184,
   "id": "38d27ac2-105a-4380-b154-c55f017c29ce",
   "metadata": {},
   "outputs": [
    {
     "data": {
      "text/plain": [
       "[<matplotlib.lines.Line2D at 0x28df47f1b50>]"
      ]
     },
     "execution_count": 184,
     "metadata": {},
     "output_type": "execute_result"
    },
    {
     "data": {
      "image/png": "[encoded data removed]",
      "text/plain": [
       "<Figure size 1080x360 with 1 Axes>"
      ]
     },
     "metadata": {
      "needs_background": "light"
     },
     "output_type": "display_data"
    }
   ],
   "source": [
    "matplotlib.rcParams['figure.figsize'] = (15.0, 5.0)\n",
    "plt.plot(learn_history['ROC_AUC_Test'], c='r')\n",
    "plt.plot(learn_history['ROC_AUC_Train'], c='b')"
   ]
  },
  {
   "cell_type": "code",
   "execution_count": null,
   "id": "95c29cdd-0757-4b88-9141-b05fa94a42b1",
   "metadata": {},
   "outputs": [],
   "source": []
  }
 ],
 "metadata": {
  "kernelspec": {
   "display_name": "Python 3",
   "language": "python",
   "name": "python3"
  },
  "language_info": {
   "codemirror_mode": {
    "name": "ipython",
    "version": 3
   },
   "file_extension": ".py",
   "mimetype": "text/x-python",
   "name": "python",
   "nbconvert_exporter": "python",
   "pygments_lexer": "ipython3",
   "version": "3.9.5"
  }
 },
 "nbformat": 4,
 "nbformat_minor": 5
}
