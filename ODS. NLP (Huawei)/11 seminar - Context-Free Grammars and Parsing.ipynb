{
 "cells": [
  {
   "cell_type": "markdown",
   "id": "7dcd28cd",
   "metadata": {},
   "source": [
    "*Материалы предоставлены авторами курсов Высшей Школы Экономики*\n",
    "\n",
    "## Парсинг зависимостей\n",
    "(Depencency parsing)\n",
    "\n",
    "### Что это?\n",
    "\n",
    "* наша цель -- представить предложение естественного языка в виде дерева\n",
    "* слова предложения -- вершины; *зависимости (dependencies)* между ними -- рёбра\n",
    "* зависимости могут быть разными: например, субъект глагола, объект глагола, прилагательное-модификатор, и так далее\n",
    "\n",
    "### Формат\n",
    "\n",
    "Существует несколько форматов записи деревьев зависимостей, но самый популярный и общеиспользуемый -- [CoNLL-U](http://universaldependencies.org/format.html).<br/>\n",
    "Как это выглядит (пример из [русского Universal Dependency трибанка](https://github.com/UniversalDependencies/UD_Russian-SynTagRus)):"
   ]
  },
  {
   "cell_type": "code",
   "execution_count": 1,
   "id": "aef7333b",
   "metadata": {},
   "outputs": [],
   "source": [
    "my_example = \"\"\"\n",
    "# sent_id = 2003Armeniya.xml_138\n",
    "# text = Перспективы развития сферы высоких технологий.\n",
    "1\tПерспективы\tперспектива\tNOUN\t_\tAnimacy=Inan|Case=Nom|Gender=Fem|Number=Plur\t0\tROOT\t0:root\t_\n",
    "2\tразвития\tразвитие\tNOUN\t_\tAnimacy=Inan|Case=Gen|Gender=Neut|Number=Sing\t1\tnmod\t1:nmod\t_\n",
    "3\tсферы\tсфера\tNOUN\t_\tAnimacy=Inan|Case=Gen|Gender=Fem|Number=Sing\t2\tnmod\t2:nmod\t_\n",
    "4\tвысоких\tвысокий\tADJ\t_\tCase=Gen|Degree=Pos|Number=Plur\t5\tamod\t5:amod\t_\n",
    "5\tтехнологий\tтехнология\tNOUN\t_\tAnimacy=Inan|Case=Gen|Gender=Fem|Number=Plur\t3\tnmod\t3:nmod\tSpaceAfter=No\n",
    "6\t.\t.\tPUNCT\t_\t_\t1\tpunct\t1:punct\t_\n",
    "\"\"\""
   ]
  },
  {
   "cell_type": "markdown",
   "id": "1f50d49d",
   "metadata": {},
   "source": [
    "Комментарии + таблица c 9 колонками (разделены табуляцией):\n",
    "* ID\n",
    "* FORM: токен\n",
    "* LEMMA: начальная форма\n",
    "* UPOS: универсальная часть речи\n",
    "* XPOS: лингво-специфичная часть речи\n",
    "* FEATS: морфологическая информация: падеж, род, число etc\n",
    "* HEAD: id ролителя\n",
    "* DEPREL: тип зависимости, то есть отношение к токену-родителю\n",
    "* DEPS: альтернативный подграф \n",
    "* MISC: всё остальное\n",
    "\n",
    "Отсутствующие данные представляются с помощью `_`. Больше подробностей про формат -- в [официальной документации](http://universaldependencies.org/format.html).<br>\n",
    "\n",
    "Отрытый инструмент для визуализации, ручной разметки и конвертации в другие форматы: UD Annotatrix. [Online-интерфейс](https://maryszmary.github.io/ud-annotatrix/standalone/annotator.html), [репозиторий](https://github.com/jonorthwash/ud-annotatrix).\n",
    "\n",
    "Трибанк - размеченный набор данных, содержит предложения, разделенные пустой строкой.\n",
    "### Как считывать данные в питоне\n",
    "\n",
    "Используем библиотеку [conllu](https://github.com/EmilStenstrom/conllu)."
   ]
  },
  {
   "cell_type": "code",
   "execution_count": 2,
   "id": "f79ef0b3",
   "metadata": {},
   "outputs": [
    {
     "name": "stdout",
     "output_type": "stream",
     "text": [
      "Requirement already satisfied: conllu in /opt/homebrew/anaconda3/lib/python3.9/site-packages (4.4.2)\n",
      "Note: you may need to restart the kernel to use updated packages.\n"
     ]
    }
   ],
   "source": [
    "%pip install conllu"
   ]
  },
  {
   "cell_type": "code",
   "execution_count": 3,
   "id": "d1b4eaf6",
   "metadata": {},
   "outputs": [
    {
     "data": {
      "text/plain": [
       "{'id': 1,\n",
       " 'form': 'Перспективы',\n",
       " 'lemma': 'перспектива',\n",
       " 'upos': 'NOUN',\n",
       " 'xpos': None,\n",
       " 'feats': {'Animacy': 'Inan',\n",
       "  'Case': 'Nom',\n",
       "  'Gender': 'Fem',\n",
       "  'Number': 'Plur'},\n",
       " 'head': 0,\n",
       " 'deprel': 'ROOT',\n",
       " 'deps': [('root', 0)],\n",
       " 'misc': None}"
      ]
     },
     "execution_count": 3,
     "metadata": {},
     "output_type": "execute_result"
    }
   ],
   "source": [
    "from conllu import parse\n",
    "\n",
    "sentences = parse(my_example)\n",
    "sentence = sentences[0]\n",
    "sentence[0]"
   ]
  },
  {
   "cell_type": "code",
   "execution_count": 4,
   "id": "943f7154",
   "metadata": {},
   "outputs": [
    {
     "data": {
      "text/plain": [
       "{'id': 6,\n",
       " 'form': '.',\n",
       " 'lemma': '.',\n",
       " 'upos': 'PUNCT',\n",
       " 'xpos': None,\n",
       " 'feats': None,\n",
       " 'head': 1,\n",
       " 'deprel': 'punct',\n",
       " 'deps': [('punct', 1)],\n",
       " 'misc': None}"
      ]
     },
     "execution_count": 4,
     "metadata": {},
     "output_type": "execute_result"
    }
   ],
   "source": [
    "sentence[-1]"
   ]
  },
  {
   "cell_type": "markdown",
   "id": "2dae771c",
   "metadata": {},
   "source": [
    "## Визуализация\n",
    "\n",
    "В nltk есть DependencyGraph, который умеет рисовать деревья (и ещё многое другое). Для того, чтобы визуализация работала корректно, ему нужна зависимость: graphviz.\n",
    "\n",
    "При установке graphviz через pip можно столкнуться с трудностями, большая их часть описана в [официальной документации](https://graphviz.org/download/).<br>\n",
    "\n",
    "В отличие от `conllu`, `DependencyGraph` не справляется с комментариями, поэтому придётся их убрать. Кроме того, ему обязательно нужен `deprel` *ROOT* в верхнем регистре, иначе он не находит корень."
   ]
  },
  {
   "cell_type": "code",
   "execution_count": 5,
   "id": "e820c467",
   "metadata": {},
   "outputs": [],
   "source": [
    "from nltk import DependencyGraph\n",
    "\n",
    "sents = []\n",
    "for sent in my_example.split('\\n\\n'):\n",
    "    # убираем комментарии\n",
    "    sent = '\\n'.join([line for line in sent.split('\\n') if not line.startswith('#')])\n",
    "    # заменяем deprel для root\n",
    "    sent = sent.replace('\\troot\\t', '\\tROOT\\t')\n",
    "    sents.append(sent)"
   ]
  },
  {
   "cell_type": "code",
   "execution_count": 6,
   "id": "34e578ef",
   "metadata": {},
   "outputs": [
    {
     "data": {
      "image/png": "[encoded data removed]",
      "text/plain": [
       "Tree('Перспективы', [Tree('развития', [Tree('сферы', [Tree('технологий', ['высоких'])])]), '.'])"
      ]
     },
     "execution_count": 6,
     "metadata": {},
     "output_type": "execute_result"
    }
   ],
   "source": [
    "graph = DependencyGraph(tree_str=sents[0])\n",
    "graph.tree()"
   ]
  },
  {
   "cell_type": "code",
   "execution_count": 7,
   "id": "a9720433",
   "metadata": {},
   "outputs": [
    {
     "name": "stdout",
     "output_type": "stream",
     "text": [
      "    Перспективы           \n",
      "  _______|__________       \n",
      " |               развития \n",
      " |                  |      \n",
      " |                сферы   \n",
      " |                  |      \n",
      " |              технологий\n",
      " |                  |      \n",
      " .               высоких  \n",
      "\n",
      "None\n"
     ]
    }
   ],
   "source": [
    "tree = graph.tree()\n",
    "print(tree.pretty_print())"
   ]
  },
  {
   "cell_type": "markdown",
   "id": "f7f2720a",
   "metadata": {},
   "source": [
    "## UDPipe\n",
    "\n",
    "Есть разные инструменты для парсинга зависимостей. Сегодня мы посмотрим на [UDPipe](http://ufal.mff.cuni.cz/udpipe). UDPipe умеет парсить текст с помощью готовых моделей (которые можно скачать [здесь](https://github.com/jwijffels/udpipe.models.ud.2.0/tree/master/inst/udpipe-ud-2.0-170801)) и обучать модели на своих трибанках.\n",
    "\n",
    "В UDPipe есть три вида моделей:\n",
    "* токенизатор (разделить текст на предложения, предложения на токены, сделать заготовку для CoNLL-U)\n",
    "* тэггер (лемматизировать, разметить части речи)\n",
    "* парсер (проставить каждому токену `head` и `deprel`)\n",
    "\n",
    "Мы сегодня не будем обучать новых моделей (это слишком долго), а используем готовую модель для русского.\n",
    "\n",
    "### The Python binding\n",
    "\n",
    "У udpipe есть питон интерфейс. Библиотека довольно [плохо задокументирована](https://pypi.org/project/ufal.udpipe/), но зато можно использовать прямо в питоне :)"
   ]
  },
  {
   "cell_type": "code",
   "execution_count": null,
   "id": "14cdf5ee",
   "metadata": {},
   "outputs": [],
   "source": [
    "!pip install ufal.udpipe"
   ]
  },
  {
   "cell_type": "code",
   "execution_count": null,
   "id": "dad63cb6",
   "metadata": {},
   "outputs": [],
   "source": [
    "!wget https://github.com/jwijffels/udpipe.models.ud.2.0/raw/master/inst/udpipe-ud-2.0-170801/russian-ud-2.0-170801.udpipe"
   ]
  },
  {
   "cell_type": "code",
   "execution_count": 8,
   "id": "fcfa1fe8",
   "metadata": {},
   "outputs": [
    {
     "data": {
      "text/plain": [
       "<Swig Object of type 'model *' at 0x7fd0e9459a70>"
      ]
     },
     "execution_count": 8,
     "metadata": {},
     "output_type": "execute_result"
    }
   ],
   "source": [
    "from ufal.udpipe import Model, Pipeline\n",
    "model = Model.load(\"russian-ud-2.0-170801.udpipe\") \n",
    "model # None в случае неуспешной загрузки"
   ]
  },
  {
   "cell_type": "markdown",
   "id": "349add77",
   "metadata": {},
   "source": [
    "С помощью UDPipe токенизируем, лематизируем текст, сделаем POS-tagging и синтаксический парсинг."
   ]
  },
  {
   "cell_type": "code",
   "execution_count": 9,
   "id": "688b8fd2",
   "metadata": {},
   "outputs": [
    {
     "name": "stdout",
     "output_type": "stream",
     "text": [
      "# newdoc\n",
      "# newpar\n",
      "# sent_id = 1\n",
      "# text = Я смотрел, как Си-лучи мерцают во тьме близ врат Тангейзера.\n",
      "1\tЯ\tЯ\tPRON\tPRP\tCase=Nom|Number=Sing|Person=1\t2\tnsubj\t_\t_\n",
      "2\tсмотрел\tсмотрел\tVERB\tVBC\tAspect=Imp|Gender=Masc|Mood=Ind|Number=Sing|Tense=Past|VerbForm=Fin\t0\troot\t_\tSpaceAfter=No\n",
      "3\t,\t,\tPUNCT\t,\t_\t2\tpunct\t_\t_\n",
      "4\tкак\tКАК\tADP\tIN\t_\t5\tcase\t_\t_\n",
      "5\tСи\tСИ\tPROPN\tNNP\tAnimacy=Anim|Case=Nom|Gender=Masc|Number=Sing\t8\tnsubj\t_\tSpaceAfter=No\n",
      "6\t-\t-\tPUNCT\t-\t_\t5\tgoeswith\t_\tSpaceAfter=No\n",
      "7\tлучи\tЛУЧ\tNOUN\tNN\tAnimacy=Inan|Case=Acc|Gender=Masc|Number=Plur\t5\tgoeswith\t_\t_\n",
      "8\tмерцают\tмерцают\tVERB\tVBC\tAspect=Imp|Mood=Ind|Number=Plur|Person=3|Tense=Pres|VerbForm=Fin\t2\tparataxis\t_\t_\n",
      "9\tво\tВО\tADP\tIN\t_\t10\tcase\t_\t_\n",
      "10\tтьме\tтьме\tNOUN\tNN\tAnimacy=Inan|Case=Loc|Gender=Neut|Number=Sing\t8\tobl\t_\t_\n",
      "11\tблиз\tБЛИЗ\tADP\tIN\t_\t12\tcase\t_\t_\n",
      "12\tврат\tврат\tNOUN\tNN\tAnimacy=Inan|Case=Acc|Gender=Masc|Number=Plur\t10\tnmod\t_\t_\n",
      "13\tТангейзера\tтангейзера\tPROPN\tNNP\tAnimacy=Inan|Case=Gen|Gender=Masc|Number=Sing\t12\tnmod\t_\tSpaceAfter=No\n",
      "14\t.\t.\tPUNCT\t.\t_\t2\tpunct\t_\t_\n",
      "\n",
      "# sent_id = 2\n",
      "# text = Все эти мгновения исчезнут во времени, как слёзы под дождём.\n",
      "1\tВсе\tВЕСЬ\tDET\tDT\tAnimacy=Inan|Case=Nom|Number=Plur\t3\tdet\t_\t_\n",
      "2\tэти\tЭТОТ\tDET\tDT\tAnimacy=Inan|Case=Nom|Number=Plur\t3\tdet\t_\t_\n",
      "3\tмгновения\tмгновения\tNOUN\tNN\tAnimacy=Inan|Case=Gen|Gender=Neut|Number=Sing\t4\tnsubj\t_\t_\n",
      "4\tисчезнут\tисчезнут\tVERB\tVBC\tAspect=Imp|Mood=Ind|Number=Plur|Person=3|Tense=Pres|VerbForm=Fin\t0\troot\t_\t_\n",
      "5\tво\tВО\tADP\tIN\t_\t6\tcase\t_\t_\n",
      "6\tвремени\tВРЕМЯ\tNOUN\tNN\tAnimacy=Inan|Case=Gen|Gender=Neut|Number=Sing\t4\tobl\t_\tSpaceAfter=No\n",
      "7\t,\t,\tPUNCT\t,\t_\t4\tpunct\t_\t_\n",
      "8\tкак\tКАК\tADP\tIN\t_\t9\tcase\t_\t_\n",
      "9\tслёзы\tслёзы\tNOUN\tNN\tAnimacy=Inan|Case=Acc|Gender=Masc|Number=Plur\t4\tobl\t_\t_\n",
      "10\tпод\tПОД\tADP\tIN\t_\t11\tcase\t_\t_\n",
      "11\tдождём\tдождём\tNOUN\tNN\tAnimacy=Inan|Case=Ins|Gender=Masc|Number=Sing\t9\tnmod\t_\tSpaceAfter=No\n",
      "12\t.\t.\tPUNCT\t.\t_\t4\tpunct\t_\tSpacesAfter=\\n\n",
      "\n",
      "\n"
     ]
    }
   ],
   "source": [
    "# использование Pipeline - Pipeline(MODEL, TOKENIZER, TAGGER, PARSER, 'conllu')\n",
    "pipeline = Pipeline(model, 'generic_tokenizer', '', '', '')\n",
    "example = \"Я смотрел, как Си-лучи мерцают во тьме близ врат Тангейзера. Все эти мгновения исчезнут во времени, как слёзы под дождём.\"\n",
    "parsed = pipeline.process(example)\n",
    "print(parsed)"
   ]
  },
  {
   "cell_type": "code",
   "execution_count": 10,
   "id": "7eeec0e1",
   "metadata": {},
   "outputs": [
    {
     "name": "stdout",
     "output_type": "stream",
     "text": [
      "# newdoc\n",
      "# newpar\n",
      "# sent_id = 1\n",
      "# text = Сократ родился в 469 году до н. э. в семье скульптора Софрониска из Алопек.\n",
      "1\tСократ\tСократ\tPROPN\tNNP\tAnimacy=Anim|Case=Nom|Gender=Masc|Number=Sing\t2\tnsubj\t_\t_\n",
      "2\tродился\tРОДИТЬСЯ\tVERB\tVBC\tAspect=Perf|Gender=Masc|Mood=Ind|Number=Sing|Tense=Past|VerbForm=Fin|Voice=Mid\t0\troot\t_\t_\n",
      "3\tв\tВ\tADP\tIN\t_\t5\tcase\t_\t_\n",
      "4\t469\t469\tNUM\tCD\tCase=Nom|NumType=Card\t5\tnummod:gov\t_\t_\n",
      "5\tгоду\tГОД\tNOUN\tNN\tAnimacy=Inan|Case=Dat|Gender=Masc|Number=Sing\t2\tobl\t_\t_\n",
      "6\tдо\tДО\tADP\tIN\t_\t7\tcase\t_\t_\n",
      "7\tн\tн\tNOUN\tNN\tAnimacy=Inan|Case=Acc|Gender=Masc|Number=Sing\t2\tobl\t_\tSpaceAfter=No\n",
      "8\t.\t.\tPUNCT\t.\t_\t9\tpunct\t_\t_\n",
      "9\tэ\tЭ\tNOUN\tNN\tAnimacy=Inan|Case=Gen|Gender=Fem|Number=Sing\t7\tnmod\t_\tSpaceAfter=No\n",
      "10\t.\t.\tPUNCT\t.\t_\t9\tpunct\t_\t_\n",
      "11\tв\tВ\tADP\tIN\t_\t12\tcase\t_\t_\n",
      "12\tсемье\tСЕМЬЯ\tNOUN\tNN\tAnimacy=Inan|Case=Loc|Gender=Fem|Number=Sing\t2\tobl\t_\t_\n",
      "13\tскульптора\tСКУЛЬПТОР\tNOUN\tNN\tAnimacy=Anim|Case=Gen|Gender=Masc|Number=Sing\t12\tnmod\t_\t_\n",
      "14\tСофрониска\tСофрониска\tPROPN\tNNP\tAnimacy=Anim|Case=Gen|Gender=Masc|Number=Sing\t13\tappos\t_\t_\n",
      "15\tиз\tИЗ\tADP\tIN\t_\t16\tcase\t_\t_\n",
      "16\tАлопек\tАлопек\tNOUN\tNN\tAnimacy=Anim|Case=Gen|Gender=Fem|Number=Plur\t13\tnmod\t_\tSpaceAfter=No\n",
      "17\t.\t.\tPUNCT\t.\t_\t2\tpunct\t_\t_\n",
      "\n",
      "# sent_id = 2\n",
      "# text = В молодости Сократ участвовал в нескольких сражениях.\n",
      "1\tВ\tВ\tADP\tIN\t_\t2\tcase\t_\t_\n",
      "2\tмолодости\tмолодости\tNOUN\tNN\tAnimacy=Inan|Case=Loc|Gender=Fem|Number=Sing\t4\tobl\t_\t_\n",
      "3\tСократ\tСократ\tPROPN\tNNP\tAnimacy=Anim|Case=Nom|Gender=Masc|Number=Sing\t4\tnsubj\t_\t_\n",
      "4\tучаствовал\tУЧАСТВОВАТЬ\tVERB\tVBC\tAspect=Imp|Gender=Masc|Mood=Ind|Number=Sing|Tense=Past|VerbForm=Fin\t0\troot\t_\t_\n",
      "5\tв\tВ\tADP\tIN\t_\t7\tcase\t_\t_\n",
      "6\tнескольких\tНЕСКОЛЬКО\tNUM\tRB\tAnimacy=Inan|Case=Loc|NumType=Card\t7\tnummod\t_\t_\n",
      "7\tсражениях\tСРАЖЕНИЕ\tNOUN\tNN\tAnimacy=Inan|Case=Loc|Gender=Neut|Number=Plur\t4\tobl\t_\tSpaceAfter=No\n",
      "8\t.\t.\tPUNCT\t.\t_\t4\tpunct\t_\t_\n",
      "\n",
      "# sent_id = 3\n",
      "# text = В одной из битв Сократ даже спас от смерти своего молодого сослуживца.\n",
      "1\tВ\tВ\tADP\tIN\t_\t2\tcase\t_\t_\n",
      "2\tодной\tОДИН\tNUM\tCD\tAnimacy=Inan|Case=Loc|Gender=Fem|Number=Sing|NumType=Card\t5\tobl\t_\t_\n",
      "3\tиз\tИЗ\tADP\tIN\t_\t4\tcase\t_\t_\n",
      "4\tбитв\tБИТВА\tNOUN\tNN\tAnimacy=Inan|Case=Gen|Gender=Fem|Number=Plur\t2\tnmod\t_\t_\n",
      "5\tСократ\tСократ\tVERB\tVBC\tAspect=Imp|Mood=Ind|Number=Plur|Person=3|Tense=Pres|VerbForm=Fin\t0\troot\t_\t_\n",
      "6\tдаже\tДАЖЕ\tPART\tUH\t_\t7\tdiscourse\t_\t_\n",
      "7\tспас\tспас\tNOUN\tNN\tAnimacy=Inan|Case=Acc|Gender=Masc|Number=Sing\t5\tobj\t_\t_\n",
      "8\tот\tОТ\tADP\tIN\t_\t9\tcase\t_\t_\n",
      "9\tсмерти\tСМЕРТЬ\tNOUN\tNN\tAnimacy=Inan|Case=Gen|Gender=Fem|Number=Sing\t5\tobl\t_\t_\n",
      "10\tсвоего\tСВОЙ\tDET\tPRP$\tAnimacy=Anim|Case=Gen|Gender=Masc|Number=Sing|Reflex=Yes\t12\tdet\t_\t_\n",
      "11\tмолодого\tМОЛОДОЙ\tADJ\tJJL\tAnimacy=Inan|Case=Gen|Gender=Masc|Number=Sing\t12\tamod\t_\t_\n",
      "12\tсослуживца\tсослуживца\tNOUN\tNN\tAnimacy=Inan|Case=Gen|Gender=Masc|Number=Sing\t9\tnmod\t_\tSpaceAfter=No\n",
      "13\t.\t.\tPUNCT\t.\t_\t5\tpunct\t_\tSpacesAfter=\\n\n",
      "\n",
      "\n"
     ]
    }
   ],
   "source": [
    "example = \"Сократ родился в 469 году до н. э. в семье скульптора Софрониска из Алопек. В молодости Сократ участвовал в нескольких сражениях. В одной из битв Сократ даже спас от смерти своего молодого сослуживца.\"\n",
    "\n",
    "parsed = pipeline.process(example)\n",
    "print(parsed)"
   ]
  },
  {
   "cell_type": "markdown",
   "id": "368466d8",
   "metadata": {},
   "source": [
    "## SVO-тройки\n",
    "\n",
    "С помощью синтаксического парсинга можно извлекать из предложений тройки субъект-объект-глагол (SVO, subject-verb-object), которые можно использовать для извлечения информации из текста. "
   ]
  },
  {
   "cell_type": "code",
   "execution_count": 11,
   "id": "fcc8b52a",
   "metadata": {},
   "outputs": [
    {
     "name": "stdout",
     "output_type": "stream",
     "text": [
      "# newdoc\n",
      "# newpar\n",
      "# sent_id = 1\n",
      "# text = Я обожаю запах напалма по утрам!\n",
      "1\tЯ\tЯ\tPRON\tPRP\tCase=Nom|Number=Sing|Person=1\t2\tnsubj\t_\t_\n",
      "2\tобожаю\tобожаю\tVERB\tVBC\tAspect=Imp|Mood=Ind|Number=Sing|Person=1|Tense=Pres|VerbForm=Fin\t0\troot\t_\t_\n",
      "3\tзапах\tЗАПАХ\tNOUN\tNN\tAnimacy=Inan|Case=Acc|Gender=Masc|Number=Sing\t2\tobj\t_\t_\n",
      "4\tнапалма\tАЛМнапа\tNOUN\tNN\tAnimacy=Inan|Case=Gen|Gender=Masc|Number=Sing\t3\tnmod\t_\t_\n",
      "5\tпо\tПО\tADP\tIN\t_\t6\tcase\t_\t_\n",
      "6\tутрам\tутрам\tNOUN\tNN\tAnimacy=Inan|Case=Dat|Gender=Masc|Number=Plur\t3\tnmod\t_\tSpaceAfter=No\n",
      "7\t!\t!\tPUNCT\t.\t_\t2\tpunct\t_\tSpacesAfter=\\n\n",
      "\n",
      "\n"
     ]
    }
   ],
   "source": [
    "pipeline = Pipeline(model, 'generic_tokenizer', '', '', '')\n",
    "example = \"Я обожаю запах напалма по утрам!\"\n",
    "sent = pipeline.process(example)\n",
    "print(sent)"
   ]
  },
  {
   "cell_type": "code",
   "execution_count": 12,
   "id": "cbcb5c1c",
   "metadata": {},
   "outputs": [
    {
     "name": "stdout",
     "output_type": "stream",
     "text": [
      "1\tЯ\tЯ\tPRON\tPRP\tCase=Nom|Number=Sing|Person=1\t2\tnsubj\t_\t_\n",
      "2\tобожаю\tобожаю\tVERB\tVBC\tAspect=Imp|Mood=Ind|Number=Sing|Person=1|Tense=Pres|VerbForm=Fin\t0\tROOT\t_\t_\n",
      "3\tзапах\tЗАПАХ\tNOUN\tNN\tAnimacy=Inan|Case=Acc|Gender=Masc|Number=Sing\t2\tobj\t_\t_\n",
      "4\tнапалма\tАЛМнапа\tNOUN\tNN\tAnimacy=Inan|Case=Gen|Gender=Masc|Number=Sing\t3\tnmod\t_\t_\n",
      "5\tпо\tПО\tADP\tIN\t_\t6\tcase\t_\t_\n",
      "6\tутрам\tутрам\tNOUN\tNN\tAnimacy=Inan|Case=Dat|Gender=Masc|Number=Plur\t3\tnmod\t_\tSpaceAfter=No\n",
      "7\t!\t!\tPUNCT\t.\t_\t2\tpunct\t_\tSpacesAfter=\\n\n"
     ]
    }
   ],
   "source": [
    "sent = '\\n'.join([line for line in sent.split('\\n') if not line.startswith('#')])\n",
    "sent = sent.replace('\\troot\\t', '\\tROOT\\t').strip()\n",
    "print(sent)"
   ]
  },
  {
   "cell_type": "code",
   "execution_count": 13,
   "id": "a69c72ce",
   "metadata": {},
   "outputs": [
    {
     "data": {
      "text/plain": [
       "[(('обожаю', 'VERB'), 'nsubj', ('Я', 'PRON')),\n",
       " (('обожаю', 'VERB'), 'obj', ('запах', 'NOUN')),\n",
       " (('запах', 'NOUN'), 'nmod', ('напалма', 'NOUN')),\n",
       " (('запах', 'NOUN'), 'nmod', ('утрам', 'NOUN')),\n",
       " (('утрам', 'NOUN'), 'case', ('по', 'ADP')),\n",
       " (('обожаю', 'VERB'), 'punct', ('!', 'PUNCT'))]"
      ]
     },
     "execution_count": 13,
     "metadata": {},
     "output_type": "execute_result"
    }
   ],
   "source": [
    "graph = DependencyGraph(tree_str=sent)\n",
    "list(graph.triples())"
   ]
  },
  {
   "cell_type": "code",
   "execution_count": 14,
   "id": "3050072b",
   "metadata": {},
   "outputs": [
    {
     "name": "stdout",
     "output_type": "stream",
     "text": [
      "{'обожаю': {'subj': 'Я', 'obj': 'запах'}}\n"
     ]
    }
   ],
   "source": [
    "def get_sov(sent):\n",
    "    graph = DependencyGraph(tree_str=sent)\n",
    "    sov = {}\n",
    "    for triple in graph.triples():\n",
    "        if triple:\n",
    "            if triple[0][1] == 'VERB':\n",
    "                sov[triple[0][0]] = {'subj':'','obj':''}\n",
    "    for triple in graph.triples():\n",
    "        if triple:\n",
    "            if triple[1] == 'nsubj':\n",
    "                if triple[0][1] == 'VERB':\n",
    "                    sov[triple[0][0]]['subj'] = triple[2][0]\n",
    "            if triple[1] == 'obj':\n",
    "                if triple[0][1] == 'VERB':\n",
    "                    sov[triple[0][0]]['obj'] = triple[2][0]\n",
    "    return sov\n",
    "\n",
    "sov = get_sov(sent)\n",
    "print(sov)"
   ]
  },
  {
   "cell_type": "markdown",
   "id": "152c6f68",
   "metadata": {},
   "source": [
    "### Natasha\n",
    "\n",
    "Natasha так же умеет делать синтаксический парсинг для русского языка:"
   ]
  },
  {
   "cell_type": "code",
   "execution_count": null,
   "id": "8ad99220",
   "metadata": {},
   "outputs": [],
   "source": [
    "!pip install natasha"
   ]
  },
  {
   "cell_type": "code",
   "execution_count": 15,
   "id": "2ea86611",
   "metadata": {},
   "outputs": [
    {
     "data": {
      "text/plain": [
       "Doc(text='Я смотрел, как Си-лучи мерцают во тьме близ врат ...)"
      ]
     },
     "execution_count": 15,
     "metadata": {},
     "output_type": "execute_result"
    }
   ],
   "source": [
    "from natasha import Doc, NewsEmbedding, NewsSyntaxParser, Segmenter\n",
    "\n",
    "example = \"Я смотрел, как Си-лучи мерцают во тьме близ врат Тангейзера. Все эти мгновения исчезнут во времени, как слёзы под дождём. \"\n",
    "doc = Doc(example)\n",
    "doc"
   ]
  },
  {
   "cell_type": "code",
   "execution_count": 16,
   "id": "e3612e67",
   "metadata": {},
   "outputs": [
    {
     "data": {
      "text/plain": [
       "[DocSent(stop=60, text='Я смотрел, как Си-лучи мерцают во тьме близ врат ..., tokens=[...]),\n",
       " DocSent(start=61, stop=121, text='Все эти мгновения исчезнут во времени, как слёзы ..., tokens=[...])]"
      ]
     },
     "execution_count": 16,
     "metadata": {},
     "output_type": "execute_result"
    }
   ],
   "source": [
    "segmenter = Segmenter()\n",
    "\n",
    "doc.segment(segmenter)\n",
    "doc.sents"
   ]
  },
  {
   "cell_type": "code",
   "execution_count": 17,
   "id": "9233e176",
   "metadata": {},
   "outputs": [
    {
     "data": {
      "text/plain": [
       "[DocToken(stop=1, text='Я', id='1_1', head_id='1_2', rel='nsubj'),\n",
       " DocToken(start=2, stop=9, text='смотрел', id='1_2', head_id='1_0', rel='root'),\n",
       " DocToken(start=9, stop=10, text=',', id='1_3', head_id='1_6', rel='punct'),\n",
       " DocToken(start=11, stop=14, text='как', id='1_4', head_id='1_6', rel='mark'),\n",
       " DocToken(start=15, stop=22, text='Си-лучи', id='1_5', head_id='1_6', rel='obj'),\n",
       " DocToken(start=23, stop=30, text='мерцают', id='1_6', head_id='1_2', rel='ccomp'),\n",
       " DocToken(start=31, stop=33, text='во', id='1_7', head_id='1_10', rel='case'),\n",
       " DocToken(start=34, stop=38, text='тьме', id='1_8', head_id='1_6', rel='obl'),\n",
       " DocToken(start=39, stop=43, text='близ', id='1_9', head_id='1_10', rel='case'),\n",
       " DocToken(start=44, stop=48, text='врат', id='1_10', head_id='1_11', rel='amod'),\n",
       " DocToken(start=49, stop=59, text='Тангейзера', id='1_11', head_id='1_10', rel='nmod'),\n",
       " DocToken(start=59, stop=60, text='.', id='1_12', head_id='1_2', rel='punct'),\n",
       " DocToken(start=61, stop=64, text='Все', id='2_1', head_id='2_3', rel='det'),\n",
       " DocToken(start=65, stop=68, text='эти', id='2_2', head_id='2_3', rel='det'),\n",
       " DocToken(start=69, stop=78, text='мгновения', id='2_3', head_id='2_4', rel='nsubj'),\n",
       " DocToken(start=79, stop=87, text='исчезнут', id='2_4', head_id='2_0', rel='root'),\n",
       " DocToken(start=88, stop=90, text='во', id='2_5', head_id='2_6', rel='case'),\n",
       " DocToken(start=91, stop=98, text='времени', id='2_6', head_id='2_4', rel='obl'),\n",
       " DocToken(start=98, stop=99, text=',', id='2_7', head_id='2_9', rel='punct'),\n",
       " DocToken(start=100, stop=103, text='как', id='2_8', head_id='2_9', rel='case'),\n",
       " DocToken(start=104, stop=109, text='слёзы', id='2_9', head_id='2_6', rel='acl'),\n",
       " DocToken(start=110, stop=113, text='под', id='2_10', head_id='2_11', rel='case'),\n",
       " DocToken(start=114, stop=120, text='дождём', id='2_11', head_id='2_9', rel='nmod'),\n",
       " DocToken(start=120, stop=121, text='.', id='2_12', head_id='2_4', rel='punct')]"
      ]
     },
     "metadata": {},
     "output_type": "display_data"
    }
   ],
   "source": [
    "emb = NewsEmbedding()\n",
    "syntax_parser = NewsSyntaxParser(emb)\n",
    "\n",
    "doc.parse_syntax(syntax_parser)\n",
    "display(doc.tokens)"
   ]
  },
  {
   "cell_type": "markdown",
   "id": "a1aa9f57",
   "metadata": {},
   "source": [
    "Natasha предоставляет удобный инструмент визуализации"
   ]
  },
  {
   "cell_type": "code",
   "execution_count": 18,
   "id": "9ca75297",
   "metadata": {},
   "outputs": [
    {
     "name": "stdout",
     "output_type": "stream",
     "text": [
      "        ┌► Я          nsubj\n",
      "┌─┌─────└─ смотрел    \n",
      "│ │ ┌────► ,          punct\n",
      "│ │ │ ┌──► как        mark\n",
      "│ │ │ │ ┌► Си-лучи    obj\n",
      "│ └►└─└─└─ мерцают    ccomp\n",
      "│ ┌►│      во         case\n",
      "│ │ └────► тьме       obl\n",
      "│ │     ┌► близ       case\n",
      "│ └─┌─┌►└─ врат       amod\n",
      "│   └►└─── Тангейзера nmod\n",
      "└────────► .          punct\n"
     ]
    }
   ],
   "source": [
    "doc.sents[0].syntax.print()"
   ]
  },
  {
   "cell_type": "code",
   "execution_count": 19,
   "id": "49b43ffb",
   "metadata": {},
   "outputs": [
    {
     "data": {
      "text/plain": [
       "SyntaxMarkup(\n",
       "    tokens=[SyntaxToken(\n",
       "         id='1_1',\n",
       "         text='Я',\n",
       "         head_id='1_2',\n",
       "         rel='nsubj'\n",
       "     ),\n",
       "     SyntaxToken(\n",
       "         id='1_2',\n",
       "         text='смотрел',\n",
       "         head_id='1_0',\n",
       "         rel='root'\n",
       "     ),\n",
       "     SyntaxToken(\n",
       "         id='1_3',\n",
       "         text=',',\n",
       "         head_id='1_6',\n",
       "         rel='punct'\n",
       "     ),\n",
       "     SyntaxToken(\n",
       "         id='1_4',\n",
       "         text='как',\n",
       "         head_id='1_6',\n",
       "         rel='mark'\n",
       "     ),\n",
       "     SyntaxToken(\n",
       "         id='1_5',\n",
       "         text='Си-лучи',\n",
       "         head_id='1_6',\n",
       "         rel='obj'\n",
       "     ),\n",
       "     SyntaxToken(\n",
       "         id='1_6',\n",
       "         text='мерцают',\n",
       "         head_id='1_2',\n",
       "         rel='ccomp'\n",
       "     ),\n",
       "     SyntaxToken(\n",
       "         id='1_7',\n",
       "         text='во',\n",
       "         head_id='1_10',\n",
       "         rel='case'\n",
       "     ),\n",
       "     SyntaxToken(\n",
       "         id='1_8',\n",
       "         text='тьме',\n",
       "         head_id='1_6',\n",
       "         rel='obl'\n",
       "     ),\n",
       "     SyntaxToken(\n",
       "         id='1_9',\n",
       "         text='близ',\n",
       "         head_id='1_10',\n",
       "         rel='case'\n",
       "     ),\n",
       "     SyntaxToken(\n",
       "         id='1_10',\n",
       "         text='врат',\n",
       "         head_id='1_11',\n",
       "         rel='amod'\n",
       "     ),\n",
       "     SyntaxToken(\n",
       "         id='1_11',\n",
       "         text='Тангейзера',\n",
       "         head_id='1_10',\n",
       "         rel='nmod'\n",
       "     ),\n",
       "     SyntaxToken(\n",
       "         id='1_12',\n",
       "         text='.',\n",
       "         head_id='1_2',\n",
       "         rel='punct'\n",
       "     )]\n",
       ")"
      ]
     },
     "execution_count": 19,
     "metadata": {},
     "output_type": "execute_result"
    }
   ],
   "source": [
    "doc.sents[0].syntax"
   ]
  },
  {
   "cell_type": "code",
   "execution_count": 20,
   "id": "2c7596eb",
   "metadata": {},
   "outputs": [
    {
     "data": {
      "text/plain": [
       "{'verb': {'text': 'смотрел', 'id': '1_2'}, 'subj': {'text': 'Я', 'id': '1_1'}}"
      ]
     },
     "execution_count": 20,
     "metadata": {},
     "output_type": "execute_result"
    }
   ],
   "source": [
    "svo = {}\n",
    "\n",
    "for t in list(doc.sents[0].syntax)[0]:\n",
    "    tok = list(t)\n",
    "    if tok[-1] == 'root':\n",
    "        svo['verb'] = {'text': tok[1], 'id': tok[0]}\n",
    "\n",
    "verb_id = svo.get('verb', {}).get('id', None)\n",
    "if verb_id:\n",
    "    for t in list(doc.sents[0].syntax)[0]:\n",
    "        tok = list(t)\n",
    "        if tok[2] == verb_id:\n",
    "            if tok[-1] == 'nsubj':\n",
    "                svo['subj'] = {'text': tok[1], 'id': tok[0]}\n",
    "            if tok[-1] == 'obj':\n",
    "                svo['obj'] = {'text': tok[1], 'id': tok[0]}\n",
    "\n",
    "\n",
    "svo"
   ]
  },
  {
   "cell_type": "code",
   "execution_count": 21,
   "id": "4334360d",
   "metadata": {},
   "outputs": [
    {
     "name": "stdout",
     "output_type": "stream",
     "text": [
      "  ┌────► Котёнка      nsubj\n",
      "  │ ┌──► с            case\n",
      "  │ │ ┌► таким        det\n",
      "  │ └─└─ именем       \n",
      "  │   ┌► во           case\n",
      "  │ ┌►└─ дворе        obl\n",
      "┌─└─└─── ждут         \n",
      "│ │   ┌► одни         amod\n",
      "│ └──►└─ неприятности obj\n",
      "└──────► .            punct\n",
      "['1_1', 'Котёнка', '1_7', 'nsubj']\n",
      "['1_2', 'с', '1_4', 'case']\n",
      "['1_3', 'таким', '1_4', 'det']\n",
      "['1_4', 'именем', '1_1', 'nmod']\n",
      "['1_5', 'во', '1_6', 'case']\n",
      "['1_6', 'дворе', '1_7', 'obl']\n",
      "['1_7', 'ждут', '1_0', 'root']\n",
      "['1_8', 'одни', '1_9', 'amod']\n",
      "['1_9', 'неприятности', '1_7', 'obj']\n",
      "['1_10', '.', '1_7', 'punct']\n"
     ]
    },
    {
     "data": {
      "text/plain": [
       "{'verb': {'text': 'ждут', 'id': '1_7'},\n",
       " 'subj': {'text': 'Котёнка', 'id': '1_1'},\n",
       " 'obj': {'text': 'неприятности', 'id': '1_9'}}"
      ]
     },
     "execution_count": 21,
     "metadata": {},
     "output_type": "execute_result"
    }
   ],
   "source": [
    "example = \"Котёнка с таким именем во дворе ждут одни неприятности.\"\n",
    "doc = Doc(example)\n",
    "doc.segment(segmenter)\n",
    "doc.parse_syntax(syntax_parser)\n",
    "doc.sents[0].syntax.print()\n",
    "svo = {}\n",
    "\n",
    "for t in list(doc.sents[0].syntax)[0]:\n",
    "    tok = list(t)\n",
    "    print(tok)\n",
    "    if tok[-1] == 'root':\n",
    "        svo['verb'] = {'text': tok[1], 'id': tok[0]}\n",
    "\n",
    "verb_id = svo.get('verb', {}).get('id', None)\n",
    "if verb_id:\n",
    "    for t in list(doc.sents[0].syntax)[0]:\n",
    "        tok = list(t)\n",
    "        if tok[2] == verb_id:\n",
    "            if tok[-1] == 'nsubj':\n",
    "                svo['subj'] = {'text': tok[1], 'id': tok[0]}\n",
    "            if tok[-1] == 'obj':\n",
    "                svo['obj'] = {'text': tok[1], 'id': tok[0]}\n",
    "\n",
    "\n",
    "svo"
   ]
  },
  {
   "cell_type": "markdown",
   "id": "e10c5e8e",
   "metadata": {},
   "source": [
    "### Попробуем с помощью синтаксических шаблонов сделать простую суммаризацию текстов.\n",
    "\n",
    "Возьмем данные Lenta.ru и попробуем извлекать из поля \"текст\" (text) что-то похожее на поле \"заголовок\" (title)."
   ]
  },
  {
   "cell_type": "code",
   "execution_count": null,
   "id": "f4dc6e02",
   "metadata": {},
   "outputs": [],
   "source": [
    "!wget https://github.com/yutkin/Lenta.Ru-News-Dataset/releases/download/v1.0/lenta-ru-news.csv.gz"
   ]
  },
  {
   "cell_type": "code",
   "execution_count": null,
   "id": "00ce39fe",
   "metadata": {},
   "outputs": [],
   "source": [
    "!gzip -d lenta-ru-news.csv.gz"
   ]
  },
  {
   "cell_type": "code",
   "execution_count": 22,
   "id": "ae537146",
   "metadata": {},
   "outputs": [
    {
     "data": {
      "text/html": [
       "<div>\n",
       "<style scoped>\n",
       "    .dataframe tbody tr th:only-of-type {\n",
       "        vertical-align: middle;\n",
       "    }\n",
       "\n",
       "    .dataframe tbody tr th {\n",
       "        vertical-align: top;\n",
       "    }\n",
       "\n",
       "    .dataframe thead th {\n",
       "        text-align: right;\n",
       "    }\n",
       "</style>\n",
       "<table border=\"1\" class=\"dataframe\">\n",
       "  <thead>\n",
       "    <tr style=\"text-align: right;\">\n",
       "      <th></th>\n",
       "      <th>url</th>\n",
       "      <th>title</th>\n",
       "      <th>text</th>\n",
       "      <th>topic</th>\n",
       "      <th>tags</th>\n",
       "    </tr>\n",
       "  </thead>\n",
       "  <tbody>\n",
       "    <tr>\n",
       "      <th>152267</th>\n",
       "      <td>https://lenta.ru/news/2016/03/21/ushakov/</td>\n",
       "      <td>Ушаков упрекнул депутата-националиста в плохом знании латышского языка</td>\n",
       "      <td>Мэр Риги Нил Ушаков на своей странице в Facebook отчитал за плохое знание латышского языка депутата Сейма от националистического объединения «Все для Латвии!» Яниса Домбраву. Ушаков прокомментировал отказ Домбравы дать интервью Первому балтийскому каналу в Риге на марше в День легионеров СС, 16 марта. Депутат тогда назвал журналистов пропагандистами. Первый балтийский канал формирует вещание на основе российского Первого канала. «Янис Домбрава борется с \"пропогандистами\". Зачем депутату националисту знать правописание иностранных слов? Кстати, ни один из тех, кто прокомментировал или зашерил (разместил на своей странице — прим. «Ленты.ру») пост Домбравы, похоже, тоже не знает, как надо писать \"пропогандист\" или \"пропагандист\"», — отметил в своем посте Ушаков. 16 марта Ушаков поблагодар...</td>\n",
       "      <td>Бывший СССР</td>\n",
       "      <td>Прибалтика</td>\n",
       "    </tr>\n",
       "    <tr>\n",
       "      <th>184883</th>\n",
       "      <td>https://lenta.ru/news/2015/07/22/heartache/</td>\n",
       "      <td>CocoRosie назвали дату выхода нового альбома</td>\n",
       "      <td>Сестры Бьянка «Коко» и Сьерра «Рози» Кэседи из американской группы CocoRosie поделились деталями выхода своей новой пластинки, сообщает Pitchfork. Альбом будет называться Heartache City и поступит в продажу 18 сентября. Предыдущий диск под названием Tales Of A GrassWidow вышел в 2013 году. Девушки рассказали, что альбом был записан и скомпонован на их студии на юге Франции с использованием минимума оборудования. Смикшированы композиции были в Аргентине. Также CocoRosie выложили в сеть новый трек Un Beso в живом исполнении.  Ранее в июне дуэт опубликовал живую запись заглавной песни нового альбома. В видеоролике, снятом во время работы над пластинкой, слышны отрывки еще двух новых композиций. CocoRosie — американский дуэт, состоящий из сестер Бьянки «Коко» Кэседи и Сьерры «Рози» Кэседи....</td>\n",
       "      <td>Культура</td>\n",
       "      <td>Музыка</td>\n",
       "    </tr>\n",
       "    <tr>\n",
       "      <th>145368</th>\n",
       "      <td>https://lenta.ru/news/2016/04/27/seidu/</td>\n",
       "      <td>Леа Сейду и лошадь снялись в рекламе Louis Vuitton</td>\n",
       "      <td>Французская актриса Леа Сейду, лицо Louis Vuitton, снялась в рекламе новой коллекции модного дома — Pre-Fall 2016. Фоном для съемки стало мексиканское ранчо с розовыми стенами, построенное по проекту архитектора Луиса Баррагана. В одном из кадров фотограф Патрик Демаршелье запечатлел вместе с актрисой обитательницу ранчо — породистую лошадь, сообщается в пресс-релизе, поступившем в редакцию «Ленты.ру» в среду, 27 апреля. Сейду позирует с новыми сумками из современной линии Capucines и из исторической линейки City Steamer, впервые запущенной в 1901 году. Леа Сейду — номинантка премии «Сезар» за фильм «Прекрасная смоковница». Снималась у Ридли Скотта («Робин Гуд»), Вуди Аллена («Полночь в Париже»), Брэда Берда («Миссия невыполнима: Протокол Фантом»). Прославилась главной ролью в фильме А...</td>\n",
       "      <td>Ценности</td>\n",
       "      <td>Явления</td>\n",
       "    </tr>\n",
       "  </tbody>\n",
       "</table>\n",
       "</div>"
      ],
      "text/plain": [
       "                                                url                                                                   title                                                                                                                                                                                                                                                                                                                                                                                                                                                                                                                                                                                                                                                                                                                                                                                                                             text        topic        tags\n",
       "152267    https://lenta.ru/news/2016/03/21/ushakov/  Ушаков упрекнул депутата-националиста в плохом знании латышского языка  Мэр Риги Нил Ушаков на своей странице в Facebook отчитал за плохое знание латышского языка депутата Сейма от националистического объединения «Все для Латвии!» Яниса Домбраву. Ушаков прокомментировал отказ Домбравы дать интервью Первому балтийскому каналу в Риге на марше в День легионеров СС, 16 марта. Депутат тогда назвал журналистов пропагандистами. Первый балтийский канал формирует вещание на основе российского Первого канала. «Янис Домбрава борется с \"пропогандистами\". Зачем депутату националисту знать правописание иностранных слов? Кстати, ни один из тех, кто прокомментировал или зашерил (разместил на своей странице — прим. «Ленты.ру») пост Домбравы, похоже, тоже не знает, как надо писать \"пропогандист\" или \"пропагандист\"», — отметил в своем посте Ушаков. 16 марта Ушаков поблагодар...  Бывший СССР  Прибалтика\n",
       "184883  https://lenta.ru/news/2015/07/22/heartache/                            CocoRosie назвали дату выхода нового альбома  Сестры Бьянка «Коко» и Сьерра «Рози» Кэседи из американской группы CocoRosie поделились деталями выхода своей новой пластинки, сообщает Pitchfork. Альбом будет называться Heartache City и поступит в продажу 18 сентября. Предыдущий диск под названием Tales Of A GrassWidow вышел в 2013 году. Девушки рассказали, что альбом был записан и скомпонован на их студии на юге Франции с использованием минимума оборудования. Смикшированы композиции были в Аргентине. Также CocoRosie выложили в сеть новый трек Un Beso в живом исполнении.  Ранее в июне дуэт опубликовал живую запись заглавной песни нового альбома. В видеоролике, снятом во время работы над пластинкой, слышны отрывки еще двух новых композиций. CocoRosie — американский дуэт, состоящий из сестер Бьянки «Коко» Кэседи и Сьерры «Рози» Кэседи....     Культура      Музыка\n",
       "145368      https://lenta.ru/news/2016/04/27/seidu/                      Леа Сейду и лошадь снялись в рекламе Louis Vuitton  Французская актриса Леа Сейду, лицо Louis Vuitton, снялась в рекламе новой коллекции модного дома — Pre-Fall 2016. Фоном для съемки стало мексиканское ранчо с розовыми стенами, построенное по проекту архитектора Луиса Баррагана. В одном из кадров фотограф Патрик Демаршелье запечатлел вместе с актрисой обитательницу ранчо — породистую лошадь, сообщается в пресс-релизе, поступившем в редакцию «Ленты.ру» в среду, 27 апреля. Сейду позирует с новыми сумками из современной линии Capucines и из исторической линейки City Steamer, впервые запущенной в 1901 году. Леа Сейду — номинантка премии «Сезар» за фильм «Прекрасная смоковница». Снималась у Ридли Скотта («Робин Гуд»), Вуди Аллена («Полночь в Париже»), Брэда Берда («Миссия невыполнима: Протокол Фантом»). Прославилась главной ролью в фильме А...     Ценности     Явления"
      ]
     },
     "execution_count": 22,
     "metadata": {},
     "output_type": "execute_result"
    }
   ],
   "source": [
    "import pandas as pd\n",
    "pd.set_option('display.max_columns', None)  \n",
    "pd.set_option('display.expand_frame_repr', False)\n",
    "pd.set_option('max_colwidth', 800)\n",
    "\n",
    "data = pd.read_csv('lenta-ru-news.csv')\n",
    "data.sample(3)"
   ]
  },
  {
   "cell_type": "markdown",
   "id": "ba67dc73",
   "metadata": {},
   "source": [
    "Немного модифицируем функцию, извлекающую svo-тройки:\n",
    "1. Добавим обработку сложных предложений (с более чем одним глаголом)\n",
    "2. Добавим к тройке дополнения, связанные с субъектом и объектом, например: \"директор школы\" или \"полиция Москвы\"."
   ]
  },
  {
   "cell_type": "code",
   "execution_count": 23,
   "id": "6450aad5",
   "metadata": {},
   "outputs": [],
   "source": [
    "def extract_svo(sent):\n",
    " \n",
    "    svo = {}\n",
    "    verb_index = 1\n",
    "    for t in list(sent.syntax)[0]:\n",
    "        tok = list(t)\n",
    "        if tok[-1] == 'root':\n",
    "            svo[verb_index] = {'verb': {'text': tok[1], 'id': tok[0]}}\n",
    "            verb_index += 1\n",
    "\n",
    "    for v in range (1, verb_index+1):\n",
    "        obj_id, subj_id = None, None\n",
    "        verb_id = svo[v]['verb'].get('id', None)\n",
    "\n",
    "        if verb_id:\n",
    "                for t in list(sent.syntax)[0]:\n",
    "                    tok = list(t)\n",
    "                    if tok[2] == verb_id:\n",
    "                        if 'nsubj' in tok[-1]:\n",
    "                            svo[v]['subj'] = tok[1]\n",
    "                            subj_id = tok[0]\n",
    "                        if 'obj' in tok[-1] or 'xcomp' in tok[-1]:\n",
    "                            svo[v]['obj'] = tok[1]\n",
    "                            obj_id = tok[0]\n",
    "\n",
    "        if obj_id or subj_id:\n",
    "                for t in list(sent.syntax)[0]:\n",
    "                    tok = list(t)\n",
    "                    if tok[2] == obj_id:\n",
    "                        if tok[-1] in ['nmod', 'amod']:\n",
    "                            svo[v]['obj_mod'] = tok[1]     \n",
    "                    elif tok[2] == subj_id:\n",
    "                        if tok[-1] in ['nmod', 'amod']:\n",
    "                            svo[v]['subj_mod'] = tok[1]\n",
    "\n",
    "        res = {}\n",
    "        for tr in svo:\n",
    "            if 'obj' in svo[tr].keys() or 'subj' in svo[tr].keys():\n",
    "                res[tr] = svo[tr]\n",
    "\n",
    "        return res"
   ]
  },
  {
   "cell_type": "code",
   "execution_count": 24,
   "id": "975cfd2f",
   "metadata": {},
   "outputs": [],
   "source": [
    "# для упрощения будем искать только в первом предложении\n",
    "def extract_title(text, segmenter = segmenter, syntax_parser = syntax_parser):\n",
    "    doc = Doc(text)\n",
    "    doc.segment(segmenter)\n",
    "    doc.parse_syntax(syntax_parser)\n",
    "    first_sentence_svo = extract_svo(doc.sents[0])\n",
    "    \n",
    "    return first_sentence_svo"
   ]
  },
  {
   "cell_type": "code",
   "execution_count": 25,
   "id": "2cab34c4",
   "metadata": {},
   "outputs": [],
   "source": [
    "# функция для красивой отрисовки результата\n",
    "def pretty_svo_print(svo):\n",
    "    print(svo.get('subj', ''), end = ' ')\n",
    "    print(svo.get('subj_mod', ''), end = ' ')\n",
    "    print(svo.get('verb', {}).get('text', ''), end = ' ')\n",
    "    print(svo.get('obj', ''), end=' ')\n",
    "    print(svo.get('obj_mod', ''))"
   ]
  },
  {
   "cell_type": "code",
   "execution_count": 28,
   "id": "2e7e3c66",
   "metadata": {},
   "outputs": [
    {
     "name": "stdout",
     "output_type": "stream",
     "text": [
      "\n",
      "title: Стало известно официальное название новой церкви на Украине\n",
      "text: Новая неканоническая церковь, созданная в Киеве на объединительном соборе, будет называться Православной церковью Украины\n",
      "> церковь неканоническая называться церковью Украины\n",
      "\n",
      "title: В неудачах российской ядерной «Булавы» обвинили Украину\n",
      "text: Большое число опытных пусков ракеты Р-30 «Булава» объясняется несовершенством российских средств траекторных измерений, оборудование для которых производилось Украиной\n",
      "> число пусков объясняется  \n",
      "\n",
      "title: Зинчук рассказал подробности аварии и призвал водителей к бдительности\n",
      "text: Гитарист-виртуоз и композитор Виктор Зинчук, госпитализированный после ДТП, рассказал о своем самочувствии\n",
      "> Гитарист-виртуоз  рассказал  \n",
      "\n",
      "title: Крещение ребенка грубой силой попало на видео\n",
      "text: Иерей Свято-Георгиевского женского монастыря в Ессентуках Илия Семилетов отстранен от должности и уволен из Пятигорской епархии за грубо проведенный обряд крещения ребенка\n",
      "> Иерей монастыря отстранен  \n",
      "\n",
      "title: Бразильского целителя обвинили в насилии над сотнями женщин\n",
      "text: Прокуратура бразильского штата Гояс запросила арест известного бразильского медиума из-за обвинений в сексуальных домогательствах\n",
      "> Прокуратура штата запросила арест медиума\n",
      "\n",
      "title: Охранника магазина зарезали из-за трех бутылок водки\n",
      "text: В Москве мужчина нанес ножевые ранения охраннику при попытке украсть три бутылки водки\n",
      "> мужчина  нанес охраннику \n",
      "\n",
      "title: Иглесиас и Курникова оставят родственников без особняка\n",
      "text: Певец Энрике Иглесиас и его жена, российская теннисистка Анна Курникова, выставили на продажу особняк в Майами\n",
      "> Певец  выставили особняк Майами\n",
      "\n",
      "title: Стали известны все участники плей-офф Лиги Европы\n",
      "text: После завершения группового этапа Лиги Европы стали известны все участники плей-офф турнира\n",
      "> участники плей-офф стали известны \n",
      "\n",
      "title: За сравнившего с быдлом зрителей актера «Универа» заступились\n",
      "text: Коллеги актера Андрея Гайдуляна, известного по сериалам «Универ» и «СашаТаня», встали на его сторону в конфликте со зрителями театра в Петропавловске-Камчатском, которых он назвал быдлом\n",
      "> Коллеги актера встали  \n",
      "\n",
      "title: Финансовой мощи США предсказали ослабление\n",
      "text: С 2019 года федеральный долг США и бремя его обслуживания достигнут исторически рекордных уровней\n",
      "> уровней рекордных достигнут  \n"
     ]
    }
   ],
   "source": [
    "for i in range(55, 65):\n",
    "    print('\\ntitle:', data.title[i])\n",
    "    print('text:',data.text[i].split('.')[0])\n",
    "    svo = extract_title(data.text[i])\n",
    "    print('> ', end='')\n",
    "    for i in svo:\n",
    "        pretty_svo_print(svo[i])"
   ]
  },
  {
   "cell_type": "markdown",
   "id": "d35d057e",
   "metadata": {},
   "source": [
    "## SyntaxGym\n",
    "\n",
    "[SyntaxGym](https://syntaxgym.org/) - инструмент для оценки языковых моделей с точки зрения синтаксиса.\n",
    "\n",
    "* [Пример](https://cpllab.github.io/syntaxgym-core/index.html) оценки модели на своем тестовом кейсе.\n",
    "* [Коллекция](https://syntaxgym.org/test_suite/) кейсов для оценки моделей на примере различных грамматических явлений.\n",
    "* [Визуализации](https://syntaxgym.org/viz/) (например, [сравнение моделей](https://syntaxgym.org/viz/compare)\\)."
   ]
  },
  {
   "cell_type": "markdown",
   "id": "6d010265",
   "metadata": {},
   "source": [
    "# Анализ тональности с рекурсивными нейросетями\n",
    "\n",
    "* [Пост на медиуме](https://medium.com/@keisukeumezawa/chainer-tutorial-sentiment-analysis-with-recursive-neural-network-180ddde892a2)\n",
    "* [Статья](https://nlp.stanford.edu/~socherr/EMNLP2013_RNTN.pdf) (архитектура описана в 4 секции)\n",
    "* Код: [notebook](https://colab.research.google.com/github/chainer-community/chainer-colab-notebook/blob/master/official_example_en/sentiment.ipynb), [репозиторий](https://github.com/chainer/chainer/tree/master/examples/sentiment).\n",
    "\n",
    "\n",
    "В этой модели используется идея *парсинга составляющих*, или *constituency parsing*. \n",
    "![Constituancy parsing](https://github.com/PragmaticsLab/NLP-course-AMI/raw/dev/seminars/sem5_syntax/constituency_parsing.png)\n",
    "\n",
    "Суть подхода к анализу тональности -- тональность предложения складывается из тональности его составляющих, их тональность тоже определяется по входящим в них составляющим (и не всегда конечный результат -- это простая сумма тональности частей, как в модели мешка слов).\n",
    "\n",
    "![Sentiment recursive nn](https://github.com/PragmaticsLab/NLP-course-AMI/raw/dev/seminars/sem5_syntax/sentiment_recursiveNN.png)\n"
   ]
  },
  {
   "cell_type": "code",
   "execution_count": null,
   "id": "e3980594",
   "metadata": {},
   "outputs": [],
   "source": []
  }
 ],
 "metadata": {
  "kernelspec": {
   "display_name": "Python 3 (ipykernel)",
   "language": "python",
   "name": "python3"
  },
  "language_info": {
   "codemirror_mode": {
    "name": "ipython",
    "version": 3
   },
   "file_extension": ".py",
   "mimetype": "text/x-python",
   "name": "python",
   "nbconvert_exporter": "python",
   "pygments_lexer": "ipython3",
   "version": "3.9.7"
  }
 },
 "nbformat": 4,
 "nbformat_minor": 5
}
