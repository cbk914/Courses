{
 "cells": [
  {
   "cell_type": "code",
   "execution_count": null,
   "metadata": {
    "id": "5d1bbe7b-1773-4c53-8ae2-81b8842696ad"
   },
   "outputs": [],
   "source": [
    "import torch"
   ]
  },
  {
   "cell_type": "raw",
   "metadata": {
    "id": "39c099c7-b6a1-4736-88f8-6f087fd8dc83"
   },
   "source": [
    "Реализуйте при помощи pyTorch функцию, которая возвращает сумму (x.sum()) элементов тензора X, строго превышающих значение limit, которое является входным значением алгоритма.\n",
    "\n",
    "Входная матрица: X = torch.tensor([[1, 2, 3], [4, 5, 6], [7, 8, 9]])"
   ]
  },
  {
   "cell_type": "code",
   "execution_count": null,
   "metadata": {
    "id": "16ac1f55-3163-4023-8d11-76ab99d99cc1",
    "outputId": "1ac87447-676c-46ae-a66c-20e24b3bca52"
   },
   "outputs": [],
   "source": [
    "X = torch.tensor([[1, 2, 3], [4, 5, 6], [7, 8, 9]])\n",
    "limit = int(input())\n",
    "\n",
    "larger_than_limit_sum = (X[X > limit]).sum()\n",
    "\n",
    "print(larger_than_limit_sum)"
   ]
  },
  {
   "cell_type": "markdown",
   "metadata": {
    "id": "sRVurRpho41A"
   },
   "source": [
    "# Неделя 2. Строим первую нейронную сеть"
   ]
  },
  {
   "cell_type": "markdown",
   "metadata": {
    "id": "nr1AD9_ipLvS"
   },
   "source": [
    "2.6 Семинар: Реализация градиентного спуска (часть 1)"
   ]
  },
  {
   "cell_type": "code",
   "execution_count": null,
   "metadata": {
    "id": "3yDtjFC9t4zZ"
   },
   "outputs": [],
   "source": [
    "import torch"
   ]
  },
  {
   "cell_type": "markdown",
   "metadata": {
    "id": "pg34YJN7pUar"
   },
   "source": [
    "Допустим, у нас есть функция f(x)=loge(x +3)f(x) = log_{e}(x + 3)f(x)=loge​(x +3). Мы выбрали начальное приближение xt=0 =7x^{t=0} = 7xt=0 =7 . И шаг градиентного спуска α=10\\alpha=10α=10\n",
    "\n",
    "Чему будет равен xt=1x^{t=1}xt=1? "
   ]
  },
  {
   "cell_type": "code",
   "execution_count": null,
   "metadata": {
    "id": "tyN-GjZBoP4y",
    "outputId": "4e2486bb-eb16-4dd0-9167-18f4c608612c"
   },
   "outputs": [],
   "source": [
    "x = torch.tensor(7.0, requires_grad=True)\n",
    "f = torch.log(x + 3)\n",
    "f.backward()\n",
    "lr = 10\n",
    "x.data = x.data - lr * x.grad.data\n",
    "print(x.data)"
   ]
  },
  {
   "cell_type": "markdown",
   "metadata": {
    "id": "-aK8kii25EUh"
   },
   "source": [
    "Допустим, у нас есть функция f(X)=∑loge(xij+1)f(X) = \\sum{log_{e}(x_{ij} + 1)}f(X)=∑loge​(xij​+1), где XXX - тензор размера 2x2. Мы выбрали начальное приближение Xt=0 =[[1,2],[4,5]]X^{t=0} = [[1, 2], [4, 5]]Xt=0 =[[1,2],[4,5]] . И шаг градиентного спуска α=10\\alpha=10α=10\n",
    "\n",
    "Чему будет равен Xt=1X^{t=1}Xt=1? "
   ]
  },
  {
   "cell_type": "code",
   "execution_count": null,
   "metadata": {
    "id": "MLGRmDtD5JOp",
    "outputId": "a9756524-7d0e-46d4-95d9-372b649a13ac"
   },
   "outputs": [],
   "source": [
    "X = torch.tensor([[1.0, 2.0], [4.0, 5.0]], requires_grad=True)\n",
    "f = torch.log(X + 1).sum()\n",
    "f.backward()\n",
    "lr = 10\n",
    "X.data = X.data - lr * X.grad.data\n",
    "print(X.data)"
   ]
  },
  {
   "cell_type": "markdown",
   "metadata": {
    "id": "g46Ogfd-Ieqw"
   },
   "source": [
    "Реализуйте расчет градиента для функции f(w)=∏i,jloge(loge(wi,j +7))f(w) = \\prod\\limits_{i,j}{log_{e}(log_{e}({w_{i,j} + 7}}))f(w)=i,j∏​loge​(loge​(wi,j​ +7)) в точке w =[[5,10],[1,2]]w = [[5, 10], [1, 2]]w =[[5,10],[1,2]]\n",
    "\n",
    "Подсказка: перемножить все значения функции можно с помощью метода .prod()"
   ]
  },
  {
   "cell_type": "code",
   "execution_count": null,
   "metadata": {
    "id": "6Et8Zc8F6295",
    "outputId": "4aece58a-0d78-436c-d28b-35d47d76abdb"
   },
   "outputs": [],
   "source": [
    "w = torch.tensor([[5.,10.],\n",
    "                  [1.,2.]], requires_grad=True)\n",
    "\n",
    "#######\n",
    "device = torch.device('cuda:0' \n",
    "                      if torch.cuda.is_available() \n",
    "                      else 'cpu')\n",
    "w = w.to(device)\n",
    "#######\n",
    "\n",
    "function = torch.log(torch.log(w + 7)).prod()\n",
    "#function = (w+7).log().log().prod()\n",
    "\n",
    "function.backward()\n",
    "\n",
    "print(w.grad, '<- gradient')"
   ]
  },
  {
   "cell_type": "markdown",
   "metadata": {
    "id": "exhMKEUm4bSz"
   },
   "source": [
    "# Неделя 3. Задачи решаемые при помощи нейронных сетей"
   ]
  },
  {
   "cell_type": "markdown",
   "metadata": {
    "id": "23GpcpHHh3A_"
   },
   "source": [
    "**3.4 Теоретические задачи: Функции потерь**"
   ]
  },
  {
   "cell_type": "markdown",
   "metadata": {
    "id": "-kVmn-BOG6Gv"
   },
   "source": [
    "Пусть имеется монетка, которую мы подбрасывали NNN раз, и MMM раз монетка выпала орлом вверх. Мы будем восстанавливать вероятность выпадения орла ppp при помощи минимизации бинарной кросс-энтропии:\n",
    "\n",
    "p~=arg⁡min⁡p∑i=1N(−tilog⁡p−(1−ti)log⁡(1−p)),\\tilde{p} = \\arg\\min_p \\sum_{i=1}^N \\left( - t_i \\log p - (1 - t_i) \\log(1 - p) \\right),\n",
    "p~​=argpmin​i=1∑N​(−ti​logp−(1−ti​)log(1−p)),где arg⁡min⁡xf(x)\\arg\\min_x f(x)argminx​f(x) -- значение xxx, при котором fff минимальна, ti=1t_i = 1ti​=1 в том случае, когда выпал орел и ti=0t_i = 0ti​=0 в том случае, когда выпала решка."
   ]
  },
  {
   "cell_type": "code",
   "execution_count": null,
   "metadata": {
    "id": "ueRLZZqAKkdT",
    "outputId": "c38567f2-5b17-43b6-b8a6-e54c133a7817"
   },
   "outputs": [],
   "source": [
    "import sympy as sp\n",
    "\n",
    "p, n, m = sp.symbols(\"p n m\")\n",
    "expr = -(m * sp.log(p) + (n-m) * sp.log(1-p)) # расписали сумму\n",
    "diff_expr = expr.diff(p) # производная\n",
    "sp.solve(diff_expr, 0, p) # решение"
   ]
  },
  {
   "cell_type": "markdown",
   "metadata": {
    "id": "ThF6JqiJu2mo"
   },
   "source": [
    "**3.5 Семинар: Строим первую нейронную сеть**"
   ]
  },
  {
   "cell_type": "markdown",
   "metadata": {
    "id": "jdQFQio-vBc5"
   },
   "source": [
    "Давайте попрактикуемся с SineNet:\n",
    "\n",
    "1) Добавим еще один fc-слой\n",
    "\n",
    "2) Заменим активацию между слоями на гиперболический тангенс"
   ]
  },
  {
   "cell_type": "code",
   "execution_count": null,
   "metadata": {
    "id": "DBEcj-uTHE_l",
    "outputId": "ad642f0d-1260-4629-f1c5-59605235a2a8"
   },
   "outputs": [],
   "source": [
    "#было\n",
    "class SineNet(torch.nn.Module):\n",
    "    def __init__(self, n_hidden_neurons):\n",
    "        super(SineNet, self).__init__()\n",
    "        self.fc1 = torch.nn.Linear(1, n_hidden_neurons)\n",
    "        self.act1 = torch.nn.Sigmoid()\n",
    "        self.fc2 = torch.nn.Linear(n_hidden_neurons, 1)\n",
    "\n",
    "    def forward(self, x):\n",
    "        x = self.fc1(x)\n",
    "        x = self.act1(x)\n",
    "        x = self.fc2(x)\n",
    "        return x\n",
    "\n",
    "sine_net = SineNet(50)"
   ]
  },
  {
   "cell_type": "code",
   "execution_count": null,
   "metadata": {
    "id": "202YwM5iu_yJ",
    "outputId": "e59bf899-0b3d-4dab-9be1-b6e2ece3dfeb"
   },
   "outputs": [],
   "source": [
    "#Решение\n",
    "import torch\n",
    "\n",
    "class SineNet(torch.nn.Module):\n",
    "    def __init__(self, n_hidden_neurons):\n",
    "        super(SineNet, self).__init__()\n",
    "        self.fc1 = torch.nn.Linear(1, n_hidden_neurons)\n",
    "        self.act1 = torch.nn.Tanh()\n",
    "        self.fc2 = torch.nn.Linear(n_hidden_neurons, n_hidden_neurons)\n",
    "        self.act2 = torch.nn.Tanh()\n",
    "        self.fc3 = torch.nn.Linear(n_hidden_neurons, 1)\n",
    "\n",
    "    def forward(self, x):\n",
    "        x = self.fc1(x)\n",
    "        x = self.act1(x)\n",
    "        x = self.fc2(x)\n",
    "        x = self.act2(x)\n",
    "        x = self.fc3(x)\n",
    "        return x\n",
    "\n",
    "sine_net = SineNet(int(input()))\n",
    "sine_net.forward(torch.Tensor([1.]))\n",
    "\n",
    "print(sine_net)"
   ]
  },
  {
   "cell_type": "markdown",
   "metadata": {
    "id": "9eyOrdOe8Ttl"
   },
   "source": [
    "3.5.6 Семинар: Строим первую нейронную сеть"
   ]
  },
  {
   "cell_type": "markdown",
   "metadata": {
    "id": "Yt1F47w88Qz-"
   },
   "source": [
    "Обучим нейронную сеть для задачи регрессии:\n",
    "\n",
    "Возьмем более сложную функцию в качестве таргета: y=2xsin(2−x)y=2^x sin(2^{-x})y=2xsin(2−x).\n",
    "\n",
    "Кроме того, мы хотим получить хорошую метрику MAE на валидации: MAE=1l∑i=1l∣y_predi−y_targeti∣{MAE} = {\\frac {1}{l}}\\sum _{i=1}^{l}{|y\\_pred_{i}-{y\\_target_{i}}|}MAE=l1​∑i=1l​∣y_predi​−y_targeti​∣, тогда как знакомая нам MSE выглядит как MSE=1l∑i=1l(y_predi−y_targeti)2{MSE} = {\\frac {1}{l}}\\sum _{i=1}^{l}(y\\_pred_{i}-{y\\_target_{i}})^{2} MSE=l1​∑i=1l​(y_predi​−y_targeti​)2\n",
    "\n",
    "Вот пример того, как нейросеть может отрабатывать на данной функции:\n",
    "\n",
    "Данный пример показывает MAE на валидации ~0.021 . Получите метрику не хуже 0.03"
   ]
  },
  {
   "cell_type": "code",
   "execution_count": null,
   "metadata": {
    "id": "59z7cwx7v4XE",
    "outputId": "29c46e2c-0f55-4093-e294-ae72eee1b82a"
   },
   "outputs": [],
   "source": [
    "import torch\n",
    "import matplotlib.pyplot as plt\n",
    "import matplotlib\n",
    "matplotlib.rcParams['figure.figsize'] = (13.0, 5.0)\n",
    "\n",
    "def target_function(x):\n",
    "    return 2**x * torch.sin(2**-x)\n",
    "\n",
    "class RegressionNet(torch.nn.Module):\n",
    "    def __init__(self, n_hidden_neurons):\n",
    "        super(RegressionNet, self).__init__()\n",
    "        self.fc1 = torch.nn.Linear(1, n_hidden_neurons)\n",
    "        self.act1 = torch.nn.Sigmoid()\n",
    "        self.fc2 = torch.nn.Linear(n_hidden_neurons, 1)\n",
    "\n",
    "    def forward(self, x):\n",
    "        x = self.fc1(x)\n",
    "        x = self.act1(x)\n",
    "        x = self.fc2(x)\n",
    "        return x\n",
    "\n",
    "net = RegressionNet(100)\n",
    "\n",
    "# ------Dataset preparation start--------:\n",
    "x_train =  torch.linspace(-10, 5, 100)\n",
    "y_train = target_function(x_train)\n",
    "noise = torch.randn(y_train.shape) / 20.\n",
    "y_train = y_train + noise\n",
    "x_train.unsqueeze_(1)\n",
    "y_train.unsqueeze_(1)\n",
    "\n",
    "x_validation = torch.linspace(-10, 5, 100)\n",
    "y_validation = target_function(x_validation)\n",
    "x_validation.unsqueeze_(1)\n",
    "y_validation.unsqueeze_(1)\n",
    "# ------Dataset preparation end--------:\n",
    "\n",
    "\n",
    "optimizer = torch.optim.Adam(net.parameters(), lr=0.01)\n",
    "\n",
    "def loss(pred, target):\n",
    "    return ((pred - target) ** 2).mean()\n",
    "\n",
    "for epoch_index in range(2000):\n",
    "    optimizer.zero_grad()\n",
    "\n",
    "    y_pred = net.forward(x_train)\n",
    "    loss_value = loss(y_pred, y_train)\n",
    "    loss_value.backward()\n",
    "    optimizer.step()\n",
    "\n",
    "#Проверка осуществляется вызовом кода:\n",
    "def metric(pred, target):\n",
    "    return (pred - target).abs().mean()\n",
    "\n",
    "print(metric(net.forward(x_validation), y_validation).item())\n",
    "# (раскомментируйте, если решаете задание локально)"
   ]
  },
  {
   "cell_type": "code",
   "execution_count": null,
   "metadata": {
    "id": "pXxiggUhZMG0",
    "outputId": "35de0280-c9f9-47c0-ea7b-f43b823ae6f1"
   },
   "outputs": [],
   "source": [
    "def predict(net, x, y):\n",
    "    y_pred = net.forward(x)\n",
    "\n",
    "    plt.plot(x.numpy(), y.numpy(), 'o', label='Groud truth')\n",
    "    plt.plot(x.numpy(), y_pred.data.numpy(), 'o', c='r', label='Prediction');\n",
    "    plt.legend(loc='upper left')\n",
    "    plt.xlabel('$x$')\n",
    "    plt.ylabel('$y$')\n",
    "\n",
    "predict(net, x_validation, y_validation)"
   ]
  },
  {
   "cell_type": "code",
   "execution_count": null,
   "metadata": {
    "id": "xSv0Eua2aSbk",
    "outputId": "dcf178e2-914e-4271-e07a-42baf230af00"
   },
   "outputs": [],
   "source": [
    "#решение от https://stepik.org/lesson/236236/step/15?discussion=1641231&thread=solutions&unit=208641\n",
    "import torch\n",
    "import matplotlib\n",
    "import matplotlib.pyplot as plt\n",
    "matplotlib.rcParams['figure.figsize'] = (15.0, 5.0)\n",
    "\n",
    "# Создание набора тренировочных и тестовых данных\n",
    "def target_function(x):\n",
    "    return 2**x * torch.sin(2**-x)\n",
    "\n",
    "# ------Dataset preparation start--------:\n",
    "x_train =  torch.linspace(-10, 5, 100)\n",
    "y_train = target_function(x_train)\n",
    "noise = torch.randn(y_train.shape) / 20.\n",
    "y_train = y_train + noise\n",
    "x_train.unsqueeze_(1)\n",
    "y_train.unsqueeze_(1)\n",
    "\n",
    "x_validation = torch.linspace(-10, 5, 100)\n",
    "y_validation = target_function(x_validation)\n",
    "x_validation.unsqueeze_(1)\n",
    "y_validation.unsqueeze_(1)\n",
    "# ------Dataset preparation end--------:\n",
    "\n",
    "# Визуализация подготовленных данных\n",
    "plt.plot(x_train.numpy(), y_train.numpy(), 'o', label='train dataset')\n",
    "# Визуализация тестовых данных\n",
    "plt.plot(x_validation.numpy(), y_validation.numpy(), '-', label='validation dataset')\n",
    "# Визуализация валидационных данных\n",
    "plt.title('2**x * torch.sin(2**-x)')\n",
    "plt.legend(loc='upper left')\n",
    "plt.xlabel('x_validation')\n",
    "plt.ylabel('y_validation')\n",
    "plt.show()"
   ]
  },
  {
   "cell_type": "code",
   "execution_count": null,
   "metadata": {
    "id": "k0j79MifbgFE"
   },
   "outputs": [],
   "source": [
    "# Функция оценки качества работы неросейти\n",
    "def metric(pred, target):\n",
    "    return (pred - target).abs().mean()\n",
    "\n",
    "# Создание класса нейросети L-S-L-S-L (два скрытых слоя нейронов)\n",
    "class RegressionNet(torch.nn.Module):\n",
    "  def __init__(self, n_hidden_neurons):\n",
    "    super(RegressionNet, self).__init__()\n",
    "    self.fc1 = torch.nn.Linear(1, n_hidden_neurons)\n",
    "    self.act1 = torch.nn.Sigmoid()\n",
    "    self.fc2 = torch.nn.Linear(n_hidden_neurons, n_hidden_neurons)\n",
    "    self.act2 = torch.nn.Sigmoid()\n",
    "    self.fc3 = torch.nn.Linear(n_hidden_neurons, 1)\n",
    "\n",
    "  # Функция определяющая последовательность применения слоев. x - это входное значение.\n",
    "  # значение x последовательно обрабатывается слоями и активационными функциями.\n",
    "  def forward(self, x):                               \n",
    "    x = self.fc1(x)                                   \n",
    "    x = self.act1(x)\n",
    "    x = self.fc2(x)\n",
    "    x = self.act2(x)\n",
    "    x = self.fc3(x)\n",
    "    return x\n",
    "\n",
    "# Создаем экземпляр класса нейросети\n",
    "net = RegressionNet(5)\n",
    "\n",
    "# Задаем оптимизатор для нейросети\n",
    "optimizer = torch.optim.Adam(net.parameters(), lr=0.01)\n",
    "\n",
    "# Задаем фенкцию потерь\n",
    "def loss(pred, target):\n",
    "  # mae = abs(pred - target)\n",
    "  # return mae.mean()\n",
    "  squares = (pred - target) ** 2\n",
    "  return squares.mean()"
   ]
  },
  {
   "cell_type": "markdown",
   "metadata": {
    "id": "ifF7IYC7cAA_"
   },
   "source": [
    "При обучении нейросети записывается история изменения функции потерь (loss функции)\n",
    "и при завершении обучения сети выводиться график это функции.\n",
    "Таким образом можно визуализировать процесс обучения сети, наблюдать как меняется ошибка в процессе обучения."
   ]
  },
  {
   "cell_type": "code",
   "execution_count": null,
   "metadata": {
    "id": "Ohf6z2gjbjD7",
    "outputId": "b793f67e-a130-4d5a-92f0-134899c962f4"
   },
   "outputs": [],
   "source": [
    "epoch_num = 2000\n",
    "loss_history = [[0,0] for i in range(epoch_num)]\n",
    "\n",
    "for epoch_index in range(epoch_num):\n",
    "  optimizer.zero_grad()\n",
    "\n",
    "  y_pred = net.forward(x_train)\n",
    "  loss_value = loss(y_pred, y_train)\n",
    "  \n",
    "  loss_history[epoch_index][0] = epoch_index\n",
    "  loss_history[epoch_index][1] = loss_value.data.numpy().tolist()\n",
    "\n",
    "  loss_value.backward()\n",
    "  optimizer.step()\n",
    "\n",
    "# При построении отсекается первые 100 значений,\n",
    "# так как функция сначала имеет большие значения и начинает резко сходиться\n",
    "plt.plot([row[0] for row in loss_history][100:], [row[1] for row in loss_history][100:], '.')\n",
    "plt.title(label='Loss function')\n",
    "plt.xlabel('Epoch_index')\n",
    "plt.ylabel('Error');\n",
    "plt.show()"
   ]
  },
  {
   "cell_type": "markdown",
   "metadata": {
    "id": "nYSnPhYbcUzg"
   },
   "source": [
    "Теперь смотрим на результат работы нейросети"
   ]
  },
  {
   "cell_type": "code",
   "execution_count": null,
   "metadata": {
    "id": "hUWxKlnvcCU9",
    "outputId": "ad505237-9775-4d97-f380-9a16111ef101"
   },
   "outputs": [],
   "source": [
    "def predict(net, x, y):\n",
    "  y_pred = net.forward(x)\n",
    "  \n",
    "  # Визуализация тестовых данных\n",
    "  plt.plot(x.numpy(), y.numpy(), '-', label='Ground trurh')                     \n",
    "  # Визуализация предсказания нейросети данных\n",
    "  plt.plot(x.numpy(), y_pred.data.numpy(), 'x', c='g', label='Prediction')      \n",
    "  plt.title('2**x * torch.sin(2**-x)')\n",
    "  plt.legend(loc='upper left')\n",
    "  plt.xlabel('x')\n",
    "  plt.ylabel('y')                                                             \n",
    "  plt.show()\n",
    "\n",
    "# Визуализация работы нейросети\n",
    "predict(net, x_validation, y_validation)\n",
    "\n",
    "# Проверка качества нейросети (погрешность)\n",
    "print(metric(net.forward(x_validation), y_validation).item())"
   ]
  },
  {
   "cell_type": "code",
   "execution_count": null,
   "metadata": {
    "id": "gfq4PZ8gcXEu"
   },
   "outputs": [],
   "source": [
    "import random\n",
    "random.seed(464466656562)"
   ]
  },
  {
   "cell_type": "code",
   "execution_count": null,
   "metadata": {
    "id": "Ppj4NApvjPUX",
    "outputId": "7f152480-e94f-4d46-e2e3-3516d098c2e3"
   },
   "outputs": [],
   "source": [
    "random.randint(0, 100)"
   ]
  },
  {
   "cell_type": "markdown",
   "metadata": {
    "id": "MI1ezK-KVna2"
   },
   "source": [
    "**3.6 Семинар: Классификация в PyTorch**"
   ]
  },
  {
   "cell_type": "markdown",
   "metadata": {
    "id": "ovkfKNWKVs4_"
   },
   "source": [
    "Давайте попрактикуемся с WineNet. Измените архитектуру так, чтобы на вход принимались все 13 признаков и проведите следующие эксперименты:\n",
    "\n",
    "1. Поэкспериментируйте с количеством нейронов в скрытых слоях. Попробуйте поставить очень маленькое число. Существует ли пороговое значение количества скрытых нейронов, при котором обучение становится невозможным?\n",
    "\n",
    "2. Попробуйте передавать различные значения test_size в функцию train_test_split. При каком значении test_size сеть предсказывает хуже чем Base Rate*? И какой Base Rate у датасета вин?\n",
    "\n",
    "3. Зависит ли время обучения на одной эпохе от размера батча? Исследуйте эту зависимость.\n",
    "\n",
    "Поделитесь своими выводами в комментариях :)\n",
    "\n",
    "*Base Rate - значение accuracy для случая, когда модель для всех объектов предсказывает самый частотный класс в датасете"
   ]
  },
  {
   "cell_type": "code",
   "execution_count": 9,
   "metadata": {
    "id": "VhgKEB2SeOrG"
   },
   "outputs": [],
   "source": [
    "import torch\n",
    "import random\n",
    "import numpy as np\n",
    "import pandas as pd\n",
    "\n",
    "random.seed(0)\n",
    "np.random.seed(0)\n",
    "torch.manual_seed(0)\n",
    "torch.cuda.manual_seed(0)\n",
    "torch.backends.cudnn.deterministic = True"
   ]
  },
  {
   "cell_type": "code",
   "execution_count": 10,
   "metadata": {
    "id": "KrqdNkF0eOrK",
    "outputId": "dde7bbaf-2445-4aac-8af7-b5740fc149ff"
   },
   "outputs": [
    {
     "data": {
      "text/plain": [
       "(178, 13)"
      ]
     },
     "execution_count": 10,
     "metadata": {},
     "output_type": "execute_result"
    }
   ],
   "source": [
    "import sklearn.datasets\n",
    "wine = sklearn.datasets.load_wine()\n",
    "wine.data.shape"
   ]
  },
  {
   "cell_type": "code",
   "execution_count": 11,
   "metadata": {},
   "outputs": [
    {
     "data": {
      "text/plain": [
       "array([[1.423e+01, 1.710e+00, 2.430e+00, ..., 1.040e+00, 3.920e+00,\n",
       "        1.065e+03],\n",
       "       [1.320e+01, 1.780e+00, 2.140e+00, ..., 1.050e+00, 3.400e+00,\n",
       "        1.050e+03],\n",
       "       [1.316e+01, 2.360e+00, 2.670e+00, ..., 1.030e+00, 3.170e+00,\n",
       "        1.185e+03],\n",
       "       ...,\n",
       "       [1.327e+01, 4.280e+00, 2.260e+00, ..., 5.900e-01, 1.560e+00,\n",
       "        8.350e+02],\n",
       "       [1.317e+01, 2.590e+00, 2.370e+00, ..., 6.000e-01, 1.620e+00,\n",
       "        8.400e+02],\n",
       "       [1.413e+01, 4.100e+00, 2.740e+00, ..., 6.100e-01, 1.600e+00,\n",
       "        5.600e+02]])"
      ]
     },
     "execution_count": 11,
     "metadata": {},
     "output_type": "execute_result"
    }
   ],
   "source": [
    "wine.data"
   ]
  },
  {
   "cell_type": "code",
   "execution_count": 12,
   "metadata": {},
   "outputs": [
    {
     "data": {
      "text/plain": [
       "array([0, 0, 0, 0, 0, 0, 0, 0, 0, 0, 0, 0, 0, 0, 0, 0, 0, 0, 0, 0, 0, 0,\n",
       "       0, 0, 0, 0, 0, 0, 0, 0, 0, 0, 0, 0, 0, 0, 0, 0, 0, 0, 0, 0, 0, 0,\n",
       "       0, 0, 0, 0, 0, 0, 0, 0, 0, 0, 0, 0, 0, 0, 0, 1, 1, 1, 1, 1, 1, 1,\n",
       "       1, 1, 1, 1, 1, 1, 1, 1, 1, 1, 1, 1, 1, 1, 1, 1, 1, 1, 1, 1, 1, 1,\n",
       "       1, 1, 1, 1, 1, 1, 1, 1, 1, 1, 1, 1, 1, 1, 1, 1, 1, 1, 1, 1, 1, 1,\n",
       "       1, 1, 1, 1, 1, 1, 1, 1, 1, 1, 1, 1, 1, 1, 1, 1, 1, 1, 1, 1, 2, 2,\n",
       "       2, 2, 2, 2, 2, 2, 2, 2, 2, 2, 2, 2, 2, 2, 2, 2, 2, 2, 2, 2, 2, 2,\n",
       "       2, 2, 2, 2, 2, 2, 2, 2, 2, 2, 2, 2, 2, 2, 2, 2, 2, 2, 2, 2, 2, 2,\n",
       "       2, 2])"
      ]
     },
     "execution_count": 12,
     "metadata": {},
     "output_type": "execute_result"
    }
   ],
   "source": [
    "wine.target"
   ]
  },
  {
   "cell_type": "code",
   "execution_count": 13,
   "metadata": {
    "id": "RQmOAsuPXEk7",
    "outputId": "24bdb32c-05fb-403e-bf66-9504b28a72c9"
   },
   "outputs": [
    {
     "data": {
      "text/plain": [
       "13"
      ]
     },
     "execution_count": 13,
     "metadata": {},
     "output_type": "execute_result"
    }
   ],
   "source": [
    "wine.data.shape[1]"
   ]
  },
  {
   "cell_type": "code",
   "execution_count": 14,
   "metadata": {
    "id": "wl6gB6PgWbPD",
    "outputId": "802c4720-c07b-4653-fd4d-0085ff27b34b"
   },
   "outputs": [
    {
     "data": {
      "text/html": [
       "<div>\n",
       "<style scoped>\n",
       "    .dataframe tbody tr th:only-of-type {\n",
       "        vertical-align: middle;\n",
       "    }\n",
       "\n",
       "    .dataframe tbody tr th {\n",
       "        vertical-align: top;\n",
       "    }\n",
       "\n",
       "    .dataframe thead th {\n",
       "        text-align: right;\n",
       "    }\n",
       "</style>\n",
       "<table border=\"1\" class=\"dataframe\">\n",
       "  <thead>\n",
       "    <tr style=\"text-align: right;\">\n",
       "      <th></th>\n",
       "      <th>0</th>\n",
       "      <th>1</th>\n",
       "      <th>2</th>\n",
       "      <th>3</th>\n",
       "      <th>4</th>\n",
       "      <th>5</th>\n",
       "      <th>6</th>\n",
       "      <th>7</th>\n",
       "      <th>8</th>\n",
       "      <th>9</th>\n",
       "      <th>10</th>\n",
       "      <th>11</th>\n",
       "      <th>12</th>\n",
       "    </tr>\n",
       "  </thead>\n",
       "  <tbody>\n",
       "    <tr>\n",
       "      <th>0</th>\n",
       "      <td>14.23</td>\n",
       "      <td>1.71</td>\n",
       "      <td>2.43</td>\n",
       "      <td>15.6</td>\n",
       "      <td>127.0</td>\n",
       "      <td>2.80</td>\n",
       "      <td>3.06</td>\n",
       "      <td>0.28</td>\n",
       "      <td>2.29</td>\n",
       "      <td>5.64</td>\n",
       "      <td>1.04</td>\n",
       "      <td>3.92</td>\n",
       "      <td>1065.0</td>\n",
       "    </tr>\n",
       "    <tr>\n",
       "      <th>1</th>\n",
       "      <td>13.20</td>\n",
       "      <td>1.78</td>\n",
       "      <td>2.14</td>\n",
       "      <td>11.2</td>\n",
       "      <td>100.0</td>\n",
       "      <td>2.65</td>\n",
       "      <td>2.76</td>\n",
       "      <td>0.26</td>\n",
       "      <td>1.28</td>\n",
       "      <td>4.38</td>\n",
       "      <td>1.05</td>\n",
       "      <td>3.40</td>\n",
       "      <td>1050.0</td>\n",
       "    </tr>\n",
       "    <tr>\n",
       "      <th>2</th>\n",
       "      <td>13.16</td>\n",
       "      <td>2.36</td>\n",
       "      <td>2.67</td>\n",
       "      <td>18.6</td>\n",
       "      <td>101.0</td>\n",
       "      <td>2.80</td>\n",
       "      <td>3.24</td>\n",
       "      <td>0.30</td>\n",
       "      <td>2.81</td>\n",
       "      <td>5.68</td>\n",
       "      <td>1.03</td>\n",
       "      <td>3.17</td>\n",
       "      <td>1185.0</td>\n",
       "    </tr>\n",
       "    <tr>\n",
       "      <th>3</th>\n",
       "      <td>14.37</td>\n",
       "      <td>1.95</td>\n",
       "      <td>2.50</td>\n",
       "      <td>16.8</td>\n",
       "      <td>113.0</td>\n",
       "      <td>3.85</td>\n",
       "      <td>3.49</td>\n",
       "      <td>0.24</td>\n",
       "      <td>2.18</td>\n",
       "      <td>7.80</td>\n",
       "      <td>0.86</td>\n",
       "      <td>3.45</td>\n",
       "      <td>1480.0</td>\n",
       "    </tr>\n",
       "    <tr>\n",
       "      <th>4</th>\n",
       "      <td>13.24</td>\n",
       "      <td>2.59</td>\n",
       "      <td>2.87</td>\n",
       "      <td>21.0</td>\n",
       "      <td>118.0</td>\n",
       "      <td>2.80</td>\n",
       "      <td>2.69</td>\n",
       "      <td>0.39</td>\n",
       "      <td>1.82</td>\n",
       "      <td>4.32</td>\n",
       "      <td>1.04</td>\n",
       "      <td>2.93</td>\n",
       "      <td>735.0</td>\n",
       "    </tr>\n",
       "    <tr>\n",
       "      <th>...</th>\n",
       "      <td>...</td>\n",
       "      <td>...</td>\n",
       "      <td>...</td>\n",
       "      <td>...</td>\n",
       "      <td>...</td>\n",
       "      <td>...</td>\n",
       "      <td>...</td>\n",
       "      <td>...</td>\n",
       "      <td>...</td>\n",
       "      <td>...</td>\n",
       "      <td>...</td>\n",
       "      <td>...</td>\n",
       "      <td>...</td>\n",
       "    </tr>\n",
       "    <tr>\n",
       "      <th>173</th>\n",
       "      <td>13.71</td>\n",
       "      <td>5.65</td>\n",
       "      <td>2.45</td>\n",
       "      <td>20.5</td>\n",
       "      <td>95.0</td>\n",
       "      <td>1.68</td>\n",
       "      <td>0.61</td>\n",
       "      <td>0.52</td>\n",
       "      <td>1.06</td>\n",
       "      <td>7.70</td>\n",
       "      <td>0.64</td>\n",
       "      <td>1.74</td>\n",
       "      <td>740.0</td>\n",
       "    </tr>\n",
       "    <tr>\n",
       "      <th>174</th>\n",
       "      <td>13.40</td>\n",
       "      <td>3.91</td>\n",
       "      <td>2.48</td>\n",
       "      <td>23.0</td>\n",
       "      <td>102.0</td>\n",
       "      <td>1.80</td>\n",
       "      <td>0.75</td>\n",
       "      <td>0.43</td>\n",
       "      <td>1.41</td>\n",
       "      <td>7.30</td>\n",
       "      <td>0.70</td>\n",
       "      <td>1.56</td>\n",
       "      <td>750.0</td>\n",
       "    </tr>\n",
       "    <tr>\n",
       "      <th>175</th>\n",
       "      <td>13.27</td>\n",
       "      <td>4.28</td>\n",
       "      <td>2.26</td>\n",
       "      <td>20.0</td>\n",
       "      <td>120.0</td>\n",
       "      <td>1.59</td>\n",
       "      <td>0.69</td>\n",
       "      <td>0.43</td>\n",
       "      <td>1.35</td>\n",
       "      <td>10.20</td>\n",
       "      <td>0.59</td>\n",
       "      <td>1.56</td>\n",
       "      <td>835.0</td>\n",
       "    </tr>\n",
       "    <tr>\n",
       "      <th>176</th>\n",
       "      <td>13.17</td>\n",
       "      <td>2.59</td>\n",
       "      <td>2.37</td>\n",
       "      <td>20.0</td>\n",
       "      <td>120.0</td>\n",
       "      <td>1.65</td>\n",
       "      <td>0.68</td>\n",
       "      <td>0.53</td>\n",
       "      <td>1.46</td>\n",
       "      <td>9.30</td>\n",
       "      <td>0.60</td>\n",
       "      <td>1.62</td>\n",
       "      <td>840.0</td>\n",
       "    </tr>\n",
       "    <tr>\n",
       "      <th>177</th>\n",
       "      <td>14.13</td>\n",
       "      <td>4.10</td>\n",
       "      <td>2.74</td>\n",
       "      <td>24.5</td>\n",
       "      <td>96.0</td>\n",
       "      <td>2.05</td>\n",
       "      <td>0.76</td>\n",
       "      <td>0.56</td>\n",
       "      <td>1.35</td>\n",
       "      <td>9.20</td>\n",
       "      <td>0.61</td>\n",
       "      <td>1.60</td>\n",
       "      <td>560.0</td>\n",
       "    </tr>\n",
       "  </tbody>\n",
       "</table>\n",
       "<p>178 rows × 13 columns</p>\n",
       "</div>"
      ],
      "text/plain": [
       "        0     1     2     3      4     5     6     7     8      9     10  \\\n",
       "0    14.23  1.71  2.43  15.6  127.0  2.80  3.06  0.28  2.29   5.64  1.04   \n",
       "1    13.20  1.78  2.14  11.2  100.0  2.65  2.76  0.26  1.28   4.38  1.05   \n",
       "2    13.16  2.36  2.67  18.6  101.0  2.80  3.24  0.30  2.81   5.68  1.03   \n",
       "3    14.37  1.95  2.50  16.8  113.0  3.85  3.49  0.24  2.18   7.80  0.86   \n",
       "4    13.24  2.59  2.87  21.0  118.0  2.80  2.69  0.39  1.82   4.32  1.04   \n",
       "..     ...   ...   ...   ...    ...   ...   ...   ...   ...    ...   ...   \n",
       "173  13.71  5.65  2.45  20.5   95.0  1.68  0.61  0.52  1.06   7.70  0.64   \n",
       "174  13.40  3.91  2.48  23.0  102.0  1.80  0.75  0.43  1.41   7.30  0.70   \n",
       "175  13.27  4.28  2.26  20.0  120.0  1.59  0.69  0.43  1.35  10.20  0.59   \n",
       "176  13.17  2.59  2.37  20.0  120.0  1.65  0.68  0.53  1.46   9.30  0.60   \n",
       "177  14.13  4.10  2.74  24.5   96.0  2.05  0.76  0.56  1.35   9.20  0.61   \n",
       "\n",
       "       11      12  \n",
       "0    3.92  1065.0  \n",
       "1    3.40  1050.0  \n",
       "2    3.17  1185.0  \n",
       "3    3.45  1480.0  \n",
       "4    2.93   735.0  \n",
       "..    ...     ...  \n",
       "173  1.74   740.0  \n",
       "174  1.56   750.0  \n",
       "175  1.56   835.0  \n",
       "176  1.62   840.0  \n",
       "177  1.60   560.0  \n",
       "\n",
       "[178 rows x 13 columns]"
      ]
     },
     "execution_count": 14,
     "metadata": {},
     "output_type": "execute_result"
    }
   ],
   "source": [
    "pd.DataFrame(wine.data)"
   ]
  },
  {
   "cell_type": "code",
   "execution_count": 15,
   "metadata": {
    "id": "3jGrkARCWvhb",
    "outputId": "2d86ea18-1a6d-4dca-df71-76f1aa17eae0"
   },
   "outputs": [
    {
     "data": {
      "text/plain": [
       "1    71\n",
       "0    59\n",
       "2    48\n",
       "dtype: int64"
      ]
     },
     "execution_count": 15,
     "metadata": {},
     "output_type": "execute_result"
    }
   ],
   "source": [
    "pd.DataFrame(wine.target).value_counts()"
   ]
  },
  {
   "cell_type": "code",
   "execution_count": 16,
   "metadata": {},
   "outputs": [
    {
     "data": {
      "text/plain": [
       "0    0.398876\n",
       "dtype: float64"
      ]
     },
     "execution_count": 16,
     "metadata": {},
     "output_type": "execute_result"
    }
   ],
   "source": [
    "base_rate = pd.DataFrame(wine.target).value_counts().max()/pd.DataFrame(wine.target).count()\n",
    "base_rate"
   ]
  },
  {
   "cell_type": "code",
   "execution_count": 17,
   "metadata": {
    "id": "UH2lA6bfeOrM"
   },
   "outputs": [],
   "source": [
    "from sklearn.model_selection import train_test_split\n",
    "\n",
    "X_train, X_test, y_train, y_test = train_test_split(\n",
    "    wine.data, \n",
    "    wine.target, \n",
    "    test_size=0.3, \n",
    "    shuffle=True)\n",
    "\n",
    "X_train = torch.FloatTensor(X_train)\n",
    "X_test = torch.FloatTensor(X_test)\n",
    "y_train = torch.LongTensor(y_train)\n",
    "y_test = torch.LongTensor(y_test)"
   ]
  },
  {
   "cell_type": "code",
   "execution_count": 19,
   "metadata": {},
   "outputs": [
    {
     "data": {
      "text/plain": [
       "tensor([[1.3710e+01, 1.8600e+00, 2.3600e+00,  ..., 1.1100e+00, 4.0000e+00,\n",
       "         1.0350e+03],\n",
       "        [1.2220e+01, 1.2900e+00, 1.9400e+00,  ..., 8.6000e-01, 3.0200e+00,\n",
       "         3.1200e+02],\n",
       "        [1.3270e+01, 4.2800e+00, 2.2600e+00,  ..., 5.9000e-01, 1.5600e+00,\n",
       "         8.3500e+02],\n",
       "        ...,\n",
       "        [1.2420e+01, 1.6100e+00, 2.1900e+00,  ..., 1.0600e+00, 2.9600e+00,\n",
       "         3.4500e+02],\n",
       "        [1.3900e+01, 1.6800e+00, 2.1200e+00,  ..., 9.1000e-01, 3.3300e+00,\n",
       "         9.8500e+02],\n",
       "        [1.4160e+01, 2.5100e+00, 2.4800e+00,  ..., 6.2000e-01, 1.7100e+00,\n",
       "         6.6000e+02]])"
      ]
     },
     "execution_count": 19,
     "metadata": {},
     "output_type": "execute_result"
    }
   ],
   "source": [
    "X_train"
   ]
  },
  {
   "cell_type": "code",
   "execution_count": 18,
   "metadata": {},
   "outputs": [
    {
     "data": {
      "text/plain": [
       "torch.Size([124, 13])"
      ]
     },
     "execution_count": 18,
     "metadata": {},
     "output_type": "execute_result"
    }
   ],
   "source": [
    "X_train.shape"
   ]
  },
  {
   "cell_type": "code",
   "execution_count": 20,
   "metadata": {},
   "outputs": [
    {
     "data": {
      "text/plain": [
       "torch.Size([124])"
      ]
     },
     "execution_count": 20,
     "metadata": {},
     "output_type": "execute_result"
    }
   ],
   "source": [
    "y_train.shape"
   ]
  },
  {
   "cell_type": "code",
   "execution_count": 21,
   "metadata": {},
   "outputs": [
    {
     "data": {
      "text/plain": [
       "tensor([0, 1, 2, 2, 1, 2, 2, 0, 1, 2, 1, 1, 2, 1, 0, 1, 1, 1, 0, 0, 1, 1, 2, 2,\n",
       "        1, 1, 1, 2, 2, 0, 2, 1, 1, 1, 1, 1, 0, 0, 1, 0, 2, 0, 2, 0, 0, 1, 0, 1,\n",
       "        1, 0, 2, 1, 0, 1, 1, 1, 2, 0, 2, 2, 0, 0, 1, 2, 0, 0, 1, 1, 0, 0, 0, 2,\n",
       "        1, 0, 1, 2, 0, 1, 2, 2, 0, 0, 2, 0, 2, 1, 0, 0, 1, 0, 2, 1, 2, 0, 2, 2,\n",
       "        2, 0, 1, 1, 1, 1, 2, 2, 1, 1, 0, 1, 2, 2, 0, 0, 2, 1, 1, 1, 0, 0, 0, 1,\n",
       "        1, 1, 0, 2])"
      ]
     },
     "execution_count": 21,
     "metadata": {},
     "output_type": "execute_result"
    }
   ],
   "source": [
    "y_train"
   ]
  },
  {
   "cell_type": "code",
   "execution_count": null,
   "metadata": {
    "id": "UtKzUXp1eOrN"
   },
   "outputs": [],
   "source": [
    "class WineNet(torch.nn.Module):\n",
    "    def __init__(self, n_hidden_neurons):\n",
    "        super(WineNet, self).__init__()\n",
    "        \n",
    "        self.fc1 = torch.nn.Linear(13, n_hidden_neurons)\n",
    "        self.activ1 = torch.nn.Sigmoid()\n",
    "        # self.fc2 = torch.nn.Linear(n_hidden_neurons, n_hidden_neurons)\n",
    "        # self.activ2 = torch.nn.Sigmoid()\n",
    "        self.fc3 = torch.nn.Linear(n_hidden_neurons, 3)\n",
    "        self.sm = torch.nn.Softmax(dim=1)\n",
    "        \n",
    "    def forward(self, x):\n",
    "        x = self.fc1(x)\n",
    "        x = self.activ1(x)\n",
    "        # x = self.fc2(x)\n",
    "        # x = self.activ2(x)\n",
    "        x = self.fc3(x)\n",
    "        return x\n",
    "\n",
    "    def inference(self, x):\n",
    "        x = self.forward(x)\n",
    "        x = self.sm(x)\n",
    "        return x\n",
    "    \n",
    "wine_net = WineNet(30)"
   ]
  },
  {
   "cell_type": "code",
   "execution_count": null,
   "metadata": {
    "id": "WYfQoRIWeOrO"
   },
   "outputs": [],
   "source": [
    "loss = torch.nn.CrossEntropyLoss()\n",
    "\n",
    "optimizer = torch.optim.Adam(wine_net.parameters(), \n",
    "                             lr=1.0e-3)"
   ]
  },
  {
   "cell_type": "code",
   "execution_count": null,
   "metadata": {
    "id": "nF7ewzm-eOrR"
   },
   "outputs": [],
   "source": [
    "batch_size = 1000\n",
    "\n",
    "for epoch in range(5000):\n",
    "    order = np.random.permutation(len(X_train))\n",
    "    for start_index in range(0, len(X_train), batch_size):\n",
    "        optimizer.zero_grad()\n",
    "        \n",
    "        batch_indexes = order[start_index:start_index+batch_size]\n",
    "        \n",
    "        x_batch = X_train[batch_indexes]\n",
    "        y_batch = y_train[batch_indexes]\n",
    "        \n",
    "        preds = wine_net.forward(x_batch) \n",
    "        \n",
    "        loss_value = loss(preds, y_batch)\n",
    "        loss_value.backward()\n",
    "        \n",
    "        optimizer.step()\n",
    "        \n",
    "    if epoch % 100 == 0:\n",
    "        test_preds = wine_net.forward(X_test)\n",
    "        test_preds = test_preds.argmax(dim=1)\n",
    "        print((test_preds == y_test).float().mean())"
   ]
  },
  {
   "cell_type": "markdown",
   "metadata": {
    "id": "maM6ncsPe3ld"
   },
   "source": [
    "#4 Неделя. Методы оптимизации."
   ]
  },
  {
   "cell_type": "markdown",
   "metadata": {
    "id": "Zg7BoV0q3BE7"
   },
   "source": [
    "**4.4.1 Семинар: Классификация рукописных чисел полносвязанной сетью**"
   ]
  },
  {
   "cell_type": "markdown",
   "metadata": {
    "id": "vGKn91Ek3LO5"
   },
   "source": [
    "Попрактикуемся с методом reshape. У нас есть трехмерный тензор размерности (6000, 28, 28) . Сопоставьте операцию над этим тензором и её результатат:"
   ]
  },
  {
   "cell_type": "code",
   "execution_count": null,
   "metadata": {
    "id": "75CMBjOSXSAU"
   },
   "outputs": [],
   "source": [
    "import torch\n",
    "import random\n",
    "import numpy as np"
   ]
  },
  {
   "cell_type": "code",
   "execution_count": null,
   "metadata": {
    "id": "FhjRg9FM3KFA",
    "outputId": "da5196eb-f3ca-4a54-fb22-668f4ae9cc9f"
   },
   "outputs": [],
   "source": [
    "x = torch.tensor(np.random.default_rng(42).random((6000,28,28)))\n",
    "x.shape"
   ]
  },
  {
   "cell_type": "code",
   "execution_count": null,
   "metadata": {
    "id": "RSpX5daq4SP0",
    "outputId": "37073c03-4d76-458f-bf10-3177498d2014"
   },
   "outputs": [],
   "source": [
    "x.reshape(-1).shape"
   ]
  },
  {
   "cell_type": "code",
   "execution_count": null,
   "metadata": {
    "id": "_UW_e9pb6TV7",
    "outputId": "9e164986-d0fa-4f11-f786-36647c6d4245"
   },
   "outputs": [],
   "source": [
    "x.reshape(-1,1,1).shape"
   ]
  },
  {
   "cell_type": "code",
   "execution_count": null,
   "metadata": {
    "id": "P9ryDUyJ7QZy",
    "outputId": "8b35a869-379c-4f75-e171-faa9ab995133"
   },
   "outputs": [],
   "source": [
    "x.reshape(len(x[1]), len(x), len(x[2])).shape"
   ]
  },
  {
   "cell_type": "code",
   "execution_count": null,
   "metadata": {
    "id": "RzFA-_S37a6N",
    "outputId": "9e663ffa-6d32-4f11-9d6b-919517b5d925"
   },
   "outputs": [],
   "source": [
    "x.reshape(-1,14,32,7).shape"
   ]
  },
  {
   "cell_type": "code",
   "execution_count": null,
   "metadata": {
    "id": "_8QwUWyM7e-l",
    "outputId": "cc8dad63-0924-4e56-d4f7-48c4e85576b0"
   },
   "outputs": [],
   "source": [
    "x.reshape(-1,9).shape"
   ]
  },
  {
   "cell_type": "code",
   "execution_count": null,
   "metadata": {
    "id": "w6h9BD4y7lv8",
    "outputId": "37f3f3f7-29f0-435f-8730-1759393393b6"
   },
   "outputs": [],
   "source": [
    "x.reshape(-1,6000).shape"
   ]
  },
  {
   "cell_type": "markdown",
   "metadata": {
    "id": "g5CDJnup-2Nq"
   },
   "source": [
    "Проверяем доступность GPU"
   ]
  },
  {
   "cell_type": "code",
   "execution_count": null,
   "metadata": {
    "id": "9YmHLly27seG",
    "outputId": "2447913f-ada1-4863-e32d-19962841cf58"
   },
   "outputs": [],
   "source": [
    "torch.cuda.is_available()"
   ]
  },
  {
   "cell_type": "code",
   "execution_count": null,
   "metadata": {
    "id": "CYUTfi7x_Aox",
    "outputId": "50f32a7a-d8ba-4998-b893-e046a243b15d"
   },
   "outputs": [],
   "source": [
    "!nvidia-smi"
   ]
  },
  {
   "cell_type": "code",
   "execution_count": null,
   "metadata": {
    "id": "M9S_Swd-_GmZ"
   },
   "outputs": [],
   "source": [
    "device = torch.device('cuda:0' if torch.cuda.is_available() else 'cpu')"
   ]
  },
  {
   "cell_type": "markdown",
   "metadata": {
    "id": "wsX1Ikhb3uiK"
   },
   "source": [
    "**4.4.5 Семинар: Классификация рукописных чисел полносвязанной сетью**"
   ]
  },
  {
   "cell_type": "markdown",
   "metadata": {
    "id": "8BzYa5sQ3y7y"
   },
   "source": [
    "Запустите код из видео на GPU. В последнем шаге мы рисовали график accuracy и loss на валидации. А что с ними происходит на train'е?\n",
    "\n",
    "    Постройте на одном графике loss для train и validation.\n",
    "    Правда ли, что loss на train и validation падает одинаково быстро и выходит на одинаковое значение, или же у нас есть переобучение?\n",
    "    Ведет ли увеличение количества эпох (40 эпох -> 200 эпох) к улучшению метрик на валидации?\n",
    "    Замерьте время вычисления 100 эпох на CPU и на GPU. Какое ускорение вы наблюдаете?\n",
    "    Замедляет ли torch.backends.cudnn.deterministic = True обучение на практике? Если да, то насколько?\n",
    "    Попробуйте разные методы градиентного спуска, которые были в лекции. Как выбор градиентного спуска влияет на accuracy? Для уверенности лучше проводить один эксперимент 3-5 раз на разных random seed: так вы поймете, действительно ли сказывается влияние метода или дело в случайности.\n"
   ]
  },
  {
   "cell_type": "code",
   "execution_count": null,
   "metadata": {
    "id": "nkZNu2muAzxy"
   },
   "outputs": [],
   "source": [
    "import torch\n",
    "import random\n",
    "import numpy as np\n",
    "\n",
    "random.seed(0)\n",
    "np.random.seed(0)\n",
    "torch.manual_seed(0)\n",
    "torch.cuda.manual_seed(0)\n",
    "torch.backends.cudnn.deterministic = True"
   ]
  },
  {
   "cell_type": "code",
   "execution_count": null,
   "metadata": {
    "id": "-4eIRW9q4W_C",
    "outputId": "cf224a3e-51af-4507-f0dc-668272f1868f"
   },
   "outputs": [],
   "source": [
    "import torchvision.datasets\n",
    "MNIST_train = torchvision.datasets.MNIST('./', download=True, train=True)\n",
    "MNIST_test = torchvision.datasets.MNIST('./', download=True, train=False)"
   ]
  },
  {
   "cell_type": "code",
   "execution_count": null,
   "metadata": {
    "execution": {
     "iopub.execute_input": "2021-11-26T05:56:37.649925Z",
     "iopub.status.busy": "2021-11-26T05:56:37.649647Z",
     "iopub.status.idle": "2021-11-26T05:56:37.657039Z",
     "shell.execute_reply": "2021-11-26T05:56:37.656229Z",
     "shell.execute_reply.started": "2021-11-26T05:56:37.649895Z"
    },
    "id": "7Gn04nUt4YjM",
    "outputId": "4c5e4759-63d0-4a1f-a45b-02c6273de4b2"
   },
   "outputs": [],
   "source": [
    "X_train = MNIST_train.train_data\n",
    "y_train = MNIST_train.train_labels\n",
    "X_test = MNIST_test.test_data\n",
    "y_test = MNIST_test.test_labels"
   ]
  },
  {
   "cell_type": "code",
   "execution_count": null,
   "metadata": {
    "id": "8Rs237qF4fJr",
    "outputId": "6ee24b96-35ba-4dcb-e1c5-7a375f052bce"
   },
   "outputs": [],
   "source": [
    "X_train.dtype, y_train.dtype"
   ]
  },
  {
   "cell_type": "code",
   "execution_count": null,
   "metadata": {
    "id": "sHQlmMjs4i6b"
   },
   "outputs": [],
   "source": [
    "X_train = X_train.float()\n",
    "X_test = X_test.float()"
   ]
  },
  {
   "cell_type": "code",
   "execution_count": null,
   "metadata": {
    "id": "wLmrvicO4kbz",
    "outputId": "62498217-4c39-4365-b00c-2fb7cd36bac6"
   },
   "outputs": [],
   "source": [
    "X_train.shape, X_test.shape"
   ]
  },
  {
   "cell_type": "code",
   "execution_count": null,
   "metadata": {
    "id": "BL5rC7ev4qbN",
    "outputId": "0787ee20-33d0-4b80-f064-da2f7476d58b"
   },
   "outputs": [],
   "source": [
    "y_train.shape, y_test.shape"
   ]
  },
  {
   "cell_type": "code",
   "execution_count": null,
   "metadata": {
    "id": "bqqEvJP54sn8",
    "outputId": "2c14953f-10f1-4fc3-93f2-b617eabb3af7"
   },
   "outputs": [],
   "source": [
    "import matplotlib.pyplot as plt\n",
    "plt.imshow(X_train[0, :, :])\n",
    "plt.show()\n",
    "print(y_train[0])"
   ]
  },
  {
   "cell_type": "code",
   "execution_count": null,
   "metadata": {
    "id": "peAFZJL-4xUV"
   },
   "outputs": [],
   "source": [
    "X_train = X_train.reshape([-1, 28 * 28])\n",
    "X_test = X_test.reshape([-1, 28 * 28])"
   ]
  },
  {
   "cell_type": "code",
   "execution_count": null,
   "metadata": {
    "id": "RMAiVlBT40j1"
   },
   "outputs": [],
   "source": [
    "class MNISTNet(torch.nn.Module):\n",
    "\n",
    "    def __init__(self, n_hidden_neurons):\n",
    "        super(MNISTNet, self).__init__()\n",
    "        self.fc1 = torch.nn.Linear(28 * 28, n_hidden_neurons)\n",
    "        self.ac1 = torch.nn.Sigmoid()\n",
    "        self.fc2 = torch.nn.Linear(n_hidden_neurons, 10)\n",
    "    \n",
    "    def forward(self, x):\n",
    "        x = self.fc1(x)\n",
    "        x = self.ac1(x)\n",
    "        x = self.fc2(x)\n",
    "        return x\n",
    "\n",
    "mnist_net = MNISTNet(100)\n"
   ]
  },
  {
   "cell_type": "code",
   "execution_count": null,
   "metadata": {
    "execution": {
     "iopub.execute_input": "2021-11-26T05:57:06.074948Z",
     "iopub.status.busy": "2021-11-26T05:57:06.074663Z",
     "iopub.status.idle": "2021-11-26T05:57:06.091978Z",
     "shell.execute_reply": "2021-11-26T05:57:06.090866Z",
     "shell.execute_reply.started": "2021-11-26T05:57:06.074916Z"
    },
    "id": "4ZAGUg1H444X"
   },
   "outputs": [],
   "source": [
    "device = torch.device('cuda:0' if torch.cuda.is_available() else 'cpu')\n",
    "mnist_net = mnist_net.to(device)\n",
    "#list(mnist_net.parameters())"
   ]
  },
  {
   "cell_type": "code",
   "execution_count": null,
   "metadata": {
    "id": "Vy_UcIEc5BsZ"
   },
   "outputs": [],
   "source": [
    "loss = torch.nn.CrossEntropyLoss()\n",
    "optimizer = torch.optim.Adam(mnist_net.parameters(), lr=1.0e-3)"
   ]
  },
  {
   "cell_type": "code",
   "execution_count": null,
   "metadata": {
    "execution": {
     "iopub.execute_input": "2021-11-26T05:57:11.93738Z",
     "iopub.status.busy": "2021-11-26T05:57:11.936577Z",
     "iopub.status.idle": "2021-11-26T05:57:11.943628Z",
     "shell.execute_reply": "2021-11-26T05:57:11.942797Z",
     "shell.execute_reply.started": "2021-11-26T05:57:11.937341Z"
    }
   },
   "outputs": [],
   "source": [
    "X_test = X_test.to(device)\n",
    "y_test = y_test.to(device)"
   ]
  },
  {
   "cell_type": "code",
   "execution_count": null,
   "metadata": {
    "execution": {
     "iopub.execute_input": "2021-11-26T05:57:17.329344Z",
     "iopub.status.busy": "2021-11-26T05:57:17.328641Z",
     "iopub.status.idle": "2021-11-26T05:57:17.338954Z",
     "shell.execute_reply": "2021-11-26T05:57:17.338087Z",
     "shell.execute_reply.started": "2021-11-26T05:57:17.329302Z"
    }
   },
   "outputs": [],
   "source": [
    "y_test"
   ]
  },
  {
   "cell_type": "code",
   "execution_count": null,
   "metadata": {
    "id": "Z8VnaNTk4_Yq"
   },
   "outputs": [],
   "source": [
    "batch_size = 100\n",
    "\n",
    "test_accuracy_history = []\n",
    "test_loss_history = []\n",
    "train_accuracy_history = []\n",
    "train_loss_history = []\n",
    "\n",
    "X_test = X_test.to(device)\n",
    "y_test = y_test.to(device)\n",
    "\n",
    "for epoch in range(100):\n",
    "    order = np.random.permutation(len(X_train))\n",
    "\n",
    "    train_accuracy_epoch = []\n",
    "    train_loss_epoch = []\n",
    "    \n",
    "    for start_index in range(0, len(X_train), batch_size):\n",
    "        optimizer.zero_grad()\n",
    "        \n",
    "        batch_indexes = order[start_index:start_index+batch_size]\n",
    "        \n",
    "        X_batch = X_train[batch_indexes].to(device)\n",
    "        y_batch = y_train[batch_indexes].to(device)\n",
    "        \n",
    "        preds = mnist_net.forward(X_batch)\n",
    "        \n",
    "        loss_value = loss(preds, y_batch)\n",
    "        train_loss_epoch.append(loss_value)\n",
    "\n",
    "        loss_value.backward()\n",
    "        \n",
    "        train_accuracy_epoch.append((preds.argmax(dim=1) == y_batch).float().mean())\n",
    "\n",
    "        optimizer.step()\n",
    "\n",
    "    test_preds = mnist_net.forward(X_test)\n",
    "    test_loss_history.append(loss(test_preds, y_test))\n",
    "    train_loss_history.append(torch.stack(train_loss_epoch).float().mean())\n",
    "\n",
    "    accuracy_test = (test_preds.argmax(dim=1) == y_test).float().mean()\n",
    "    accuracy_train = torch.stack(train_accuracy_epoch).float().mean()\n",
    "    test_accuracy_history.append(accuracy_test)\n",
    "    train_accuracy_history.append(accuracy_train)\n",
    "    print('epoch = {}, accuracy_test = {}, accuracy_train = {}'.format(epoch, accuracy_test, accuracy_train))"
   ]
  },
  {
   "cell_type": "code",
   "execution_count": null,
   "metadata": {
    "id": "W_20Y92A5FU3",
    "outputId": "4259ce9b-da07-42bd-c79a-d1452388ceb2"
   },
   "outputs": [],
   "source": [
    "plt.plot(test_accuracy_history) #blue\n",
    "plt.plot(train_accuracy_history) #orange"
   ]
  },
  {
   "cell_type": "code",
   "execution_count": null,
   "metadata": {
    "id": "lpTrk0gfGSDB",
    "outputId": "5d59060c-4c31-493a-9df2-3279391aab6e"
   },
   "outputs": [],
   "source": [
    "plt.plot(test_loss_history)  #blue\n",
    "plt.plot(train_loss_history) #orange"
   ]
  },
  {
   "cell_type": "code",
   "execution_count": null,
   "metadata": {
    "id": "TL0mkzVv1YWS"
   },
   "outputs": [],
   "source": []
  },
  {
   "cell_type": "markdown",
   "metadata": {
    "id": "gDmPZXSI1ZPD"
   },
   "source": [
    "Решение с функцией, для гибкой настройки параметров и профилирования"
   ]
  },
  {
   "cell_type": "code",
   "execution_count": null,
   "metadata": {
    "execution": {
     "iopub.execute_input": "2021-11-26T06:06:11.902092Z",
     "iopub.status.busy": "2021-11-26T06:06:11.90151Z",
     "iopub.status.idle": "2021-11-26T06:06:13.148896Z",
     "shell.execute_reply": "2021-11-26T06:06:13.148068Z",
     "shell.execute_reply.started": "2021-11-26T06:06:11.902051Z"
    },
    "id": "ELdpzZNx10Qd"
   },
   "outputs": [],
   "source": [
    "import torch\n",
    "import random\n",
    "import numpy as np\n",
    "\n",
    "import matplotlib\n",
    "matplotlib.rcParams['figure.figsize'] = (15.0, 5.0)\n",
    "\n",
    "random.seed(0)\n",
    "np.random.seed(0)\n",
    "torch.manual_seed(0)\n",
    "torch.cuda.manual_seed(0)\n",
    "torch.backends.cudnn.deterministic = True"
   ]
  },
  {
   "cell_type": "code",
   "execution_count": null,
   "metadata": {
    "execution": {
     "iopub.execute_input": "2021-11-26T06:06:13.150908Z",
     "iopub.status.busy": "2021-11-26T06:06:13.150651Z",
     "iopub.status.idle": "2021-11-26T06:06:14.839426Z",
     "shell.execute_reply": "2021-11-26T06:06:14.838729Z",
     "shell.execute_reply.started": "2021-11-26T06:06:13.150872Z"
    },
    "id": "dTxq1vz010Qd",
    "outputId": "bde8a042-84bc-45cb-e574-95f999a09c9d"
   },
   "outputs": [],
   "source": [
    "import torchvision.datasets\n",
    "MNIST_train = torchvision.datasets.MNIST('./', download=True, train=True)\n",
    "MNIST_test = torchvision.datasets.MNIST('./', download=True, train=False)"
   ]
  },
  {
   "cell_type": "code",
   "execution_count": null,
   "metadata": {
    "execution": {
     "iopub.execute_input": "2021-11-26T06:06:23.641156Z",
     "iopub.status.busy": "2021-11-26T06:06:23.640828Z",
     "iopub.status.idle": "2021-11-26T06:06:23.658295Z",
     "shell.execute_reply": "2021-11-26T06:06:23.657507Z",
     "shell.execute_reply.started": "2021-11-26T06:06:23.641124Z"
    },
    "id": "WZneYGGJNyBM"
   },
   "outputs": [],
   "source": [
    "class MNISTNet(torch.nn.Module):\n",
    "\n",
    "    def __init__(self, n_hidden_neurons):\n",
    "        super(MNISTNet, self).__init__()\n",
    "        self.fc1 = torch.nn.Linear(28 * 28, n_hidden_neurons)\n",
    "        self.ac1 = torch.nn.Sigmoid()\n",
    "        self.fc2 = torch.nn.Linear(n_hidden_neurons, 10)\n",
    "    \n",
    "    def forward(self, x):\n",
    "        x = self.fc1(x)\n",
    "        x = self.ac1(x)\n",
    "        x = self.fc2(x)\n",
    "        return x\n",
    "\n",
    "#Create function\n",
    "def learn_MNISTNet(mnist_net, loss, optimizer, epoch_num=100, batch_size=100, device='cpu', verbose=True):\n",
    "    learn_history = {}\n",
    "    learn_history['accuracy_test'] = []\n",
    "    learn_history['accuracy_train'] = []\n",
    "    learn_history['loss_test'] = []\n",
    "    learn_history['loss_train'] = []\n",
    "    X_train = MNIST_train.data\n",
    "    y_train = MNIST_train.targets\n",
    "    X_test = MNIST_test.data\n",
    "    y_test = MNIST_test.targets\n",
    "\n",
    "    X_train = X_train.float()\n",
    "    X_test = X_test.float()\n",
    "    X_train = X_train.reshape([-1, 28 * 28])\n",
    "    X_test = X_test.reshape([-1, 28 * 28])  \n",
    "\n",
    "    X_test = X_test.to(device)\n",
    "    y_test = y_test.to(device)\n",
    "\n",
    "    for epoch in range(epoch_num):\n",
    "        order = np.random.permutation(len(X_train))\n",
    "\n",
    "        train_accuracy_epoch = []\n",
    "        train_loss_epoch = []\n",
    "        \n",
    "        for start_index in range(0, len(X_train), batch_size):\n",
    "            optimizer.zero_grad()\n",
    "            \n",
    "            batch_indexes = order[start_index:start_index+batch_size]\n",
    "            \n",
    "            X_batch = X_train[batch_indexes].to(device)\n",
    "            y_batch = y_train[batch_indexes].to(device)\n",
    "            \n",
    "            preds = mnist_net.forward(X_batch)\n",
    "            \n",
    "            loss_value = loss(preds, y_batch)\n",
    "            train_loss_epoch.append(loss_value)\n",
    "\n",
    "            loss_value.backward()\n",
    "            \n",
    "            train_accuracy_epoch.append((preds.argmax(dim=1) == y_batch).float().mean())\n",
    "\n",
    "            optimizer.step()\n",
    "\n",
    "        test_preds = mnist_net.forward(X_test)\n",
    "        learn_history['loss_test'].append(loss(test_preds, y_test))\n",
    "        learn_history['loss_train'].append(torch.stack(train_loss_epoch).float().mean())\n",
    "\n",
    "        accuracy_test = (test_preds.argmax(dim=1) == y_test).float().mean()\n",
    "        accuracy_train = torch.stack(train_accuracy_epoch).float().mean()\n",
    "        learn_history['accuracy_test'].append(accuracy_test)\n",
    "        learn_history['accuracy_train'].append(accuracy_train)\n",
    "        if verbose:\n",
    "            print('epoch = {}, accuracy_test = {:.3f}, accuracy_train = {:.3f}'.format(epoch, accuracy_test, accuracy_train))\n",
    "\n",
    "    return learn_history"
   ]
  },
  {
   "cell_type": "code",
   "execution_count": null,
   "metadata": {
    "execution": {
     "iopub.execute_input": "2021-11-26T06:06:25.493297Z",
     "iopub.status.busy": "2021-11-26T06:06:25.493049Z",
     "iopub.status.idle": "2021-11-26T06:06:25.499374Z",
     "shell.execute_reply": "2021-11-26T06:06:25.49844Z",
     "shell.execute_reply.started": "2021-11-26T06:06:25.493269Z"
    },
    "id": "VgaIUIHj8oSg"
   },
   "outputs": [],
   "source": [
    "rs=42\n",
    "random.seed(rs)\n",
    "np.random.seed(rs)\n",
    "torch.manual_seed(rs)\n",
    "torch.cuda.manual_seed(rs)\n",
    "torch.backends.cudnn.deterministic = True"
   ]
  },
  {
   "cell_type": "code",
   "execution_count": null,
   "metadata": {
    "execution": {
     "iopub.execute_input": "2021-11-26T06:08:46.029111Z",
     "iopub.status.busy": "2021-11-26T06:08:46.028345Z",
     "iopub.status.idle": "2021-11-26T06:09:43.120738Z",
     "shell.execute_reply": "2021-11-26T06:09:43.120003Z",
     "shell.execute_reply.started": "2021-11-26T06:08:46.029071Z"
    },
    "id": "w5doBdTB1PMq",
    "outputId": "c4413d4a-9a3c-4a06-b8ab-8849059fab37"
   },
   "outputs": [],
   "source": [
    "%%timeit\n",
    "device = 'cuda:0'\n",
    "\n",
    "mnist_net = MNISTNet(100)\n",
    "mnist_net = mnist_net.to(device)\n",
    "\n",
    "loss = torch.nn.CrossEntropyLoss()\n",
    "optimizer = torch.optim.Adam(mnist_net.parameters(), lr=1.0e-3)\n",
    "#optimizer = torch.optim.SGD(mnist_net.parameters(), lr=1.0e-2)\n",
    "#optimizer = torch.optim.SGD(mnist_net.parameters(), lr=1.0e-2, momentum=0.9)\n",
    "\n",
    "learn_history = learn_MNISTNet(mnist_net, loss, optimizer, epoch_num=40, batch_size=1000, device=device, verbose=False)\n",
    "\n",
    "print('Accuracy: test = {:.3f}, train = {:.3f}; Loss: test = {:.3f}, train = {:.3f};'.format(learn_history['accuracy_test'][-5].mean(), \n",
    "                                                       learn_history['accuracy_train'][-5].mean(),\n",
    "                                                       learn_history['loss_test'][-5].mean(), \n",
    "                                                       learn_history['loss_train'][-5].mean()))"
   ]
  },
  {
   "cell_type": "code",
   "execution_count": null,
   "metadata": {
    "id": "RANZGNih731V",
    "outputId": "7b72943a-6736-499f-aa46-aea4a0f60595"
   },
   "outputs": [],
   "source": [
    "plt.plot(learn_history['accuracy_test']) #blue\n",
    "plt.plot(learn_history['accuracy_train']) #orange"
   ]
  },
  {
   "cell_type": "code",
   "execution_count": null,
   "metadata": {
    "id": "N-_uoKbr731W",
    "outputId": "5512634d-9a9b-43e5-936e-d822d87183de"
   },
   "outputs": [],
   "source": [
    "plt.plot(learn_history['loss_test'])  #blue\n",
    "plt.plot(learn_history['loss_train']) #orange"
   ]
  },
  {
   "cell_type": "code",
   "execution_count": null,
   "metadata": {
    "id": "7xjeStoL73OF"
   },
   "outputs": [],
   "source": [
    "# Постройте на одном графике loss для train и validation. \n",
    "# - построил\n",
    "\n",
    "\n",
    "# Правда ли, что loss на train и validation падает одинаково быстро и выходит на одинаковое значение, или же у нас есть переобучение? \n",
    "# - нет, переобучения не замечено, падает одинаково\n",
    "\n",
    "\n",
    "# Ведет ли увеличение количества эпох (40 эпох -> 200 эпох) к улучшению метрик на валидации?\n",
    "# - да, ведет, до 100 однозначно видно улучшение метрик, со 100 до 200 рост значительно замедляется, но все же еще есть (сотые)\n",
    "\n",
    "# Замерьте время вычисления 100 эпох на CPU и на GPU. Какое ускорение вы наблюдаете?\n",
    "# - learn_MNISTNet(mnist_net, loss, optimizer, epoch_num=10, batch_size=100, device='cuda:0', verbose=True) - 1 loop, best of 5: 12.7 s per loop\n",
    "# - learn_MNISTNet(mnist_net, loss, optimizer, epoch_num=10, batch_size=100, device='cpu', verbose=True) - 1 loop, best of 5: 20.5 s per loop\n",
    "# - learn_MNISTNet(mnist_net, loss, optimizer, epoch_num=10, batch_size=1000, device='cuda:0', verbose=True) - 1 loop, best of 5: 2.1 s per loop\n",
    "# - learn_MNISTNet(mnist_net, loss, optimizer, epoch_num=10, batch_size=1000, device='cpu', verbose=True) - 1 loop, best of 5: 11.3 s per loop\n",
    "# Вывод: очень существенно сказывается на выигрыше по скорости размер батча, при батче 100 выигрыш GPU в 2 раза, при батче 1000 выигрыш GPU в 5 раз\n",
    "#        еще более сущетсвенная (на порядки) разница, наблюдается разница при увеличении кол-ва нейронов скрытых слоев, например до 1000\n",
    "\n",
    "\n",
    "# Замедляет ли torch.backends.cudnn.deterministic = True обучение на практике? Если да, то насколько?\n",
    "# - deterministic=True (neurons = 1000, batch = 1000, epoch = 10): 1 loop, best of 5: 2.58 s per loop\n",
    "# - deterministic=False (neurons = 1000, batch = 1000, epoch = 10): 1 loop, best of 5: 2.59 s per loop\n",
    "# Вывод, разницы не замечено\n",
    "\n",
    "# Попробуйте разные методы градиентного спуска, которые были в лекции. Как выбор градиентного спуска влияет на accuracy? Для уверенности лучше \n",
    "# проводить один эксперимент 3-5 раз на разных random seed: так вы поймете, действительно ли сказывается влияние метода или дело в случайности.\n",
    "# neurons = 100, batch = 1000, epoch=100, Adam(lr = 0.001) ----> Accuracy: test = 0.966, train = 0.978; Loss: test = 0.112, train = 0.072;\n",
    "# neurons = 100, batch = 1000, epoch=100, SGD(lr = 0.001) ----> Accuracy: test = 0.902, train = 0.902; Loss: test = 0.484, train = 0.484;\n",
    "# neurons = 100, batch = 1000, epoch=100, SGD(lr = 0.01) ----> Accuracy: test = 0.936, train = 0.957; Loss: test = 0.219, train = 0.163;\n",
    "# neurons = 100, batch = 1000, epoch=100, SGD(lr = 0.01, momentum=0.9) ---> Accuracy: test = 0.965, train = 0.985; Loss: test = 0.111, train = 0.061;\n",
    "# neurons = 100, batch = 1000, epoch=100, SGD(lr = 0.01, momentum=0.1) ---> Accuracy: test = 0.938, train = 0.959; Loss: test = 0.214, train = 0.156;"
   ]
  },
  {
   "cell_type": "markdown",
   "metadata": {},
   "source": [
    "**Пробую определить проблему из видео про нейронные сети, когда на примере рандомного изображения, показывается, что нейронная сеть работает не совсем так, как мы думали (в ролике) и она не строит никаких предположений по наличию колец, элементов и т.п.**"
   ]
  },
  {
   "cell_type": "code",
   "execution_count": 18,
   "metadata": {
    "execution": {
     "iopub.execute_input": "2021-11-26T06:37:42.386255Z",
     "iopub.status.busy": "2021-11-26T06:37:42.385723Z",
     "iopub.status.idle": "2021-11-26T06:37:42.392275Z",
     "shell.execute_reply": "2021-11-26T06:37:42.391524Z",
     "shell.execute_reply.started": "2021-11-26T06:37:42.386217Z"
    },
    "id": "ELdpzZNx10Qd"
   },
   "outputs": [],
   "source": [
    "import torch\n",
    "import random\n",
    "import numpy as np\n",
    "import matplotlib.pyplot as plt\n",
    "import matplotlib\n",
    "matplotlib.rcParams['figure.figsize'] = (15.0, 5.0)\n",
    "\n",
    "rs=42\n",
    "random.seed(rs)\n",
    "np.random.seed(rs)\n",
    "torch.manual_seed(rs)\n",
    "torch.cuda.manual_seed(rs)\n",
    "torch.backends.cudnn.deterministic = True"
   ]
  },
  {
   "cell_type": "code",
   "execution_count": 13,
   "metadata": {
    "execution": {
     "iopub.execute_input": "2021-11-26T06:34:54.837437Z",
     "iopub.status.busy": "2021-11-26T06:34:54.837057Z",
     "iopub.status.idle": "2021-11-26T06:34:54.880344Z",
     "shell.execute_reply": "2021-11-26T06:34:54.879588Z",
     "shell.execute_reply.started": "2021-11-26T06:34:54.837393Z"
    },
    "id": "dTxq1vz010Qd",
    "outputId": "bde8a042-84bc-45cb-e574-95f999a09c9d"
   },
   "outputs": [],
   "source": [
    "import torchvision.datasets\n",
    "MNIST_train = torchvision.datasets.MNIST('./', download=True, train=True)\n",
    "MNIST_test = torchvision.datasets.MNIST('./', download=True, train=False)"
   ]
  },
  {
   "cell_type": "code",
   "execution_count": 14,
   "metadata": {
    "execution": {
     "iopub.execute_input": "2021-11-26T06:34:54.883005Z",
     "iopub.status.busy": "2021-11-26T06:34:54.882593Z",
     "iopub.status.idle": "2021-11-26T06:34:54.900864Z",
     "shell.execute_reply": "2021-11-26T06:34:54.900072Z",
     "shell.execute_reply.started": "2021-11-26T06:34:54.882968Z"
    },
    "id": "WZneYGGJNyBM"
   },
   "outputs": [],
   "source": [
    "class MNISTNet(torch.nn.Module):\n",
    "\n",
    "    def __init__(self, n_hidden_neurons):\n",
    "        super(MNISTNet, self).__init__()\n",
    "        self.fc1 = torch.nn.Linear(28 * 28, n_hidden_neurons)\n",
    "        self.ac1 = torch.nn.Sigmoid()\n",
    "        self.fc2 = torch.nn.Linear(n_hidden_neurons, 10)\n",
    "    \n",
    "    def forward(self, x):\n",
    "        x = self.fc1(x)\n",
    "        x = self.ac1(x)\n",
    "        x = self.fc2(x)\n",
    "        return x\n",
    "\n",
    "#Create function\n",
    "def learn_MNISTNet(mnist_net, loss, optimizer, epoch_num=100, batch_size=100, device='cpu', verbose=True):\n",
    "    learn_history = {}\n",
    "    learn_history['accuracy_test'] = []\n",
    "    learn_history['accuracy_train'] = []\n",
    "    learn_history['loss_test'] = []\n",
    "    learn_history['loss_train'] = []\n",
    "\n",
    "    X_train = X_train.float()\n",
    "    X_test = X_test.float()\n",
    "    X_train = X_train.reshape([-1, 28 * 28])\n",
    "    X_test = X_test.reshape([-1, 28 * 28])\n",
    "\n",
    "    X_test = X_test.to(device)\n",
    "    y_test = y_test.to(device)\n",
    "\n",
    "    for epoch in range(epoch_num):\n",
    "        order = np.random.permutation(len(X_train))\n",
    "\n",
    "        train_accuracy_epoch = []\n",
    "        train_loss_epoch = []\n",
    "        \n",
    "        for start_index in range(0, len(X_train), batch_size):\n",
    "            optimizer.zero_grad()\n",
    "            \n",
    "            batch_indexes = order[start_index:start_index+batch_size]\n",
    "            \n",
    "            X_batch = X_train[batch_indexes].to(device)\n",
    "            y_batch = y_train[batch_indexes].to(device)\n",
    "            \n",
    "            preds = mnist_net.forward(X_batch)\n",
    "            \n",
    "            loss_value = loss(preds, y_batch)\n",
    "            train_loss_epoch.append(loss_value)\n",
    "\n",
    "            loss_value.backward()\n",
    "            \n",
    "            train_accuracy_epoch.append((preds.argmax(dim=1) == y_batch).float().mean())\n",
    "\n",
    "            optimizer.step()\n",
    "\n",
    "        test_preds = mnist_net.forward(X_test)\n",
    "        learn_history['loss_test'].append(loss(test_preds, y_test))\n",
    "        learn_history['loss_train'].append(torch.stack(train_loss_epoch).float().mean())\n",
    "\n",
    "        accuracy_test = (test_preds.argmax(dim=1) == y_test).float().mean()\n",
    "        accuracy_train = torch.stack(train_accuracy_epoch).float().mean()\n",
    "        learn_history['accuracy_test'].append(accuracy_test)\n",
    "        learn_history['accuracy_train'].append(accuracy_train)\n",
    "        if verbose:\n",
    "            print('epoch = {}, accuracy_test = {:.3f}, accuracy_train = {:.3f}'.format(epoch, accuracy_test, accuracy_train))\n",
    "\n",
    "    return learn_history"
   ]
  },
  {
   "cell_type": "code",
   "execution_count": 28,
   "metadata": {
    "execution": {
     "iopub.execute_input": "2021-11-26T07:08:52.100898Z",
     "iopub.status.busy": "2021-11-26T07:08:52.100323Z",
     "iopub.status.idle": "2021-11-26T07:08:52.106492Z",
     "shell.execute_reply": "2021-11-26T07:08:52.105253Z",
     "shell.execute_reply.started": "2021-11-26T07:08:52.100848Z"
    }
   },
   "outputs": [],
   "source": [
    "X_train = MNIST_train.data\n",
    "y_train = MNIST_train.targets\n",
    "X_test = MNIST_test.data\n",
    "y_test = MNIST_test.targets"
   ]
  },
  {
   "cell_type": "code",
   "execution_count": 42,
   "metadata": {
    "execution": {
     "iopub.execute_input": "2021-11-26T07:20:47.904300Z",
     "iopub.status.busy": "2021-11-26T07:20:47.903905Z",
     "iopub.status.idle": "2021-11-26T07:20:47.908858Z",
     "shell.execute_reply": "2021-11-26T07:20:47.908063Z",
     "shell.execute_reply.started": "2021-11-26T07:20:47.904254Z"
    }
   },
   "outputs": [],
   "source": [
    "# X_train[0, :, :]"
   ]
  },
  {
   "cell_type": "code",
   "execution_count": 33,
   "metadata": {
    "execution": {
     "iopub.execute_input": "2021-11-26T07:13:53.961393Z",
     "iopub.status.busy": "2021-11-26T07:13:53.961108Z",
     "iopub.status.idle": "2021-11-26T07:13:54.147497Z",
     "shell.execute_reply": "2021-11-26T07:13:54.146782Z",
     "shell.execute_reply.started": "2021-11-26T07:13:53.961356Z"
    }
   },
   "outputs": [],
   "source": [
    "plt.imshow(X_train[0, :, :], cmap='gray', vmin=0, vmax=255)\n",
    "plt.show()\n",
    "print(y_train[0])"
   ]
  },
  {
   "cell_type": "code",
   "execution_count": 26,
   "metadata": {
    "execution": {
     "iopub.execute_input": "2021-11-26T06:56:02.750477Z",
     "iopub.status.busy": "2021-11-26T06:56:02.750062Z",
     "iopub.status.idle": "2021-11-26T06:56:02.767223Z",
     "shell.execute_reply": "2021-11-26T06:56:02.766629Z",
     "shell.execute_reply.started": "2021-11-26T06:56:02.750431Z"
    }
   },
   "outputs": [],
   "source": [
    "torch.randint(0, 2, (20, 20))"
   ]
  },
  {
   "cell_type": "code",
   "execution_count": 32,
   "metadata": {
    "execution": {
     "iopub.execute_input": "2021-11-26T07:13:45.280388Z",
     "iopub.status.busy": "2021-11-26T07:13:45.280134Z",
     "iopub.status.idle": "2021-11-26T07:13:45.465023Z",
     "shell.execute_reply": "2021-11-26T07:13:45.464343Z",
     "shell.execute_reply.started": "2021-11-26T07:13:45.280357Z"
    }
   },
   "outputs": [],
   "source": [
    "plt.imshow(torch.randint(0, 256, (1, 28, 28))[0, :, :], cmap='gray', vmin=0, vmax=255)\n",
    "plt.show()"
   ]
  },
  {
   "cell_type": "code",
   "execution_count": 29,
   "metadata": {
    "execution": {
     "iopub.execute_input": "2021-11-26T07:08:59.047463Z",
     "iopub.status.busy": "2021-11-26T07:08:59.047206Z",
     "iopub.status.idle": "2021-11-26T07:09:16.470199Z",
     "shell.execute_reply": "2021-11-26T07:09:16.469466Z",
     "shell.execute_reply.started": "2021-11-26T07:08:59.047432Z"
    },
    "id": "w5doBdTB1PMq",
    "outputId": "c4413d4a-9a3c-4a06-b8ab-8849059fab37"
   },
   "outputs": [],
   "source": [
    "#%%timeit\n",
    "device = 'cuda:0'\n",
    "\n",
    "mnist_net = MNISTNet(32)\n",
    "mnist_net = mnist_net.to(device)\n",
    "\n",
    "loss = torch.nn.CrossEntropyLoss()\n",
    "optimizer = torch.optim.Adam(mnist_net.parameters(), lr=1.0e-3)\n",
    "#optimizer = torch.optim.SGD(mnist_net.parameters(), lr=1.0e-2)\n",
    "#optimizer = torch.optim.SGD(mnist_net.parameters(), lr=1.0e-2, momentum=0.9)\n",
    "\n",
    "learn_history = learn_MNISTNet(mnist_net, loss, optimizer, epoch_num=100, batch_size=1000, device=device, verbose=False)\n",
    "\n",
    "print('Accuracy: test = {:.3f}, train = {:.3f}; Loss: test = {:.3f}, train = {:.3f};'.format(learn_history['accuracy_test'][-5].mean(), \n",
    "                                                       learn_history['accuracy_train'][-5].mean(),\n",
    "                                                       learn_history['loss_test'][-5].mean(), \n",
    "                                                       learn_history['loss_train'][-5].mean()))"
   ]
  },
  {
   "cell_type": "code",
   "execution_count": 45,
   "metadata": {
    "execution": {
     "iopub.execute_input": "2021-11-26T07:21:41.705512Z",
     "iopub.status.busy": "2021-11-26T07:21:41.705254Z",
     "iopub.status.idle": "2021-11-26T07:21:41.714588Z",
     "shell.execute_reply": "2021-11-26T07:21:41.713484Z",
     "shell.execute_reply.started": "2021-11-26T07:21:41.705482Z"
    }
   },
   "outputs": [],
   "source": [
    "preds = mnist_net.forward(X_train[0, :, :].float().reshape([-1, 28 * 28]).to(device))\n",
    "print(preds)\n",
    "print(preds.argmax(dim=1))"
   ]
  },
  {
   "cell_type": "code",
   "execution_count": 49,
   "metadata": {
    "execution": {
     "iopub.execute_input": "2021-11-26T07:23:56.517539Z",
     "iopub.status.busy": "2021-11-26T07:23:56.517163Z",
     "iopub.status.idle": "2021-11-26T07:23:56.704064Z",
     "shell.execute_reply": "2021-11-26T07:23:56.703383Z",
     "shell.execute_reply.started": "2021-11-26T07:23:56.517487Z"
    }
   },
   "outputs": [],
   "source": [
    "random_img = torch.randint(0, 256, (1, 28, 28))\n",
    "plt.imshow(random_img[0, :, :], cmap='gray', vmin=0, vmax=255)\n",
    "plt.show()"
   ]
  },
  {
   "cell_type": "code",
   "execution_count": 54,
   "metadata": {
    "execution": {
     "iopub.execute_input": "2021-11-26T07:30:40.513956Z",
     "iopub.status.busy": "2021-11-26T07:30:40.513487Z",
     "iopub.status.idle": "2021-11-26T07:30:40.527513Z",
     "shell.execute_reply": "2021-11-26T07:30:40.526209Z",
     "shell.execute_reply.started": "2021-11-26T07:30:40.513909Z"
    }
   },
   "outputs": [],
   "source": [
    "preds = mnist_net.forward(random_img[0, :, :].float().reshape([-1, 28 * 28]).to(device))\n",
    "print(preds)\n",
    "print(preds.argmax(dim=1))"
   ]
  },
  {
   "cell_type": "code",
   "execution_count": 52,
   "metadata": {
    "execution": {
     "iopub.execute_input": "2021-11-26T07:29:11.026544Z",
     "iopub.status.busy": "2021-11-26T07:29:11.026014Z",
     "iopub.status.idle": "2021-11-26T07:29:11.207064Z",
     "shell.execute_reply": "2021-11-26T07:29:11.206424Z",
     "shell.execute_reply.started": "2021-11-26T07:29:11.026505Z"
    }
   },
   "outputs": [],
   "source": [
    "white_img = torch.randint(255, 256, (1, 28, 28))\n",
    "plt.imshow(white_img[0, :, :], cmap='gray', vmin=0, vmax=255)\n",
    "plt.show()"
   ]
  },
  {
   "cell_type": "code",
   "execution_count": 55,
   "metadata": {
    "execution": {
     "iopub.execute_input": "2021-11-26T07:30:52.249288Z",
     "iopub.status.busy": "2021-11-26T07:30:52.248654Z",
     "iopub.status.idle": "2021-11-26T07:30:52.258888Z",
     "shell.execute_reply": "2021-11-26T07:30:52.257937Z",
     "shell.execute_reply.started": "2021-11-26T07:30:52.249250Z"
    }
   },
   "outputs": [],
   "source": [
    "preds = mnist_net.forward(white_img[0, :, :].float().reshape([-1, 28 * 28]).to(device))\n",
    "print(preds)\n",
    "print(preds.argmax(dim=1))"
   ]
  },
  {
   "cell_type": "code",
   "execution_count": 56,
   "metadata": {
    "execution": {
     "iopub.execute_input": "2021-11-26T07:31:51.729762Z",
     "iopub.status.busy": "2021-11-26T07:31:51.729483Z",
     "iopub.status.idle": "2021-11-26T07:31:51.911168Z",
     "shell.execute_reply": "2021-11-26T07:31:51.910392Z",
     "shell.execute_reply.started": "2021-11-26T07:31:51.729732Z"
    }
   },
   "outputs": [],
   "source": [
    "black_img = torch.randint(0, 1, (1, 28, 28))\n",
    "plt.imshow(black_img[0, :, :], cmap='gray', vmin=0, vmax=255)\n",
    "plt.show()"
   ]
  },
  {
   "cell_type": "code",
   "execution_count": 57,
   "metadata": {
    "execution": {
     "iopub.execute_input": "2021-11-26T07:31:53.136903Z",
     "iopub.status.busy": "2021-11-26T07:31:53.136617Z",
     "iopub.status.idle": "2021-11-26T07:31:53.147164Z",
     "shell.execute_reply": "2021-11-26T07:31:53.146064Z",
     "shell.execute_reply.started": "2021-11-26T07:31:53.136869Z"
    }
   },
   "outputs": [],
   "source": [
    "preds = mnist_net.forward(black_img[0, :, :].float().reshape([-1, 28 * 28]).to(device))\n",
    "print(preds)\n",
    "print(preds.argmax(dim=1))"
   ]
  },
  {
   "cell_type": "code",
   "execution_count": 62,
   "metadata": {
    "execution": {
     "iopub.execute_input": "2021-11-26T07:34:16.077985Z",
     "iopub.status.busy": "2021-11-26T07:34:16.077422Z",
     "iopub.status.idle": "2021-11-26T07:34:16.261003Z",
     "shell.execute_reply": "2021-11-26T07:34:16.260376Z",
     "shell.execute_reply.started": "2021-11-26T07:34:16.077948Z"
    }
   },
   "outputs": [],
   "source": [
    "random_low_img = torch.randint(220, 256, (1, 28, 28))\n",
    "plt.imshow(random_low_img[0, :, :], cmap='gray', vmin=0, vmax=255)\n",
    "plt.show()"
   ]
  },
  {
   "cell_type": "code",
   "execution_count": 60,
   "metadata": {
    "execution": {
     "iopub.execute_input": "2021-11-26T07:33:42.229925Z",
     "iopub.status.busy": "2021-11-26T07:33:42.229254Z",
     "iopub.status.idle": "2021-11-26T07:33:42.241451Z",
     "shell.execute_reply": "2021-11-26T07:33:42.240320Z",
     "shell.execute_reply.started": "2021-11-26T07:33:42.229881Z"
    }
   },
   "outputs": [],
   "source": [
    "preds = mnist_net.forward(random_low_img[0, :, :].float().reshape([-1, 28 * 28]).to(device))\n",
    "print(preds)\n",
    "print(preds.argmax(dim=1))"
   ]
  },
  {
   "cell_type": "code",
   "execution_count": 20,
   "metadata": {
    "execution": {
     "iopub.execute_input": "2021-11-26T06:47:56.193611Z",
     "iopub.status.busy": "2021-11-26T06:47:56.192811Z",
     "iopub.status.idle": "2021-11-26T06:47:56.454166Z",
     "shell.execute_reply": "2021-11-26T06:47:56.453502Z",
     "shell.execute_reply.started": "2021-11-26T06:47:56.193550Z"
    },
    "id": "RANZGNih731V",
    "outputId": "7b72943a-6736-499f-aa46-aea4a0f60595"
   },
   "outputs": [],
   "source": [
    "plt.plot(learn_history['accuracy_test']) #blue\n",
    "plt.plot(learn_history['accuracy_train']) #orange"
   ]
  },
  {
   "cell_type": "code",
   "execution_count": 63,
   "metadata": {
    "execution": {
     "iopub.execute_input": "2021-11-26T07:37:55.138705Z",
     "iopub.status.busy": "2021-11-26T07:37:55.138429Z",
     "iopub.status.idle": "2021-11-26T07:37:55.142087Z",
     "shell.execute_reply": "2021-11-26T07:37:55.141418Z",
     "shell.execute_reply.started": "2021-11-26T07:37:55.138674Z"
    }
   },
   "outputs": [],
   "source": [
    "# Модифицируем нейронную сеть и тестовые/трейновые датасеты, добавляем еще один класс 10, к которому относим все картинки без цифр (рандомный шум от 0 до 255, рандомный шум от 220 до 255, белый фон, черный фон)"
   ]
  },
  {
   "cell_type": "code",
   "execution_count": 5,
   "metadata": {
    "execution": {
     "iopub.execute_input": "2021-11-26T09:58:18.914328Z",
     "iopub.status.busy": "2021-11-26T09:58:18.914055Z",
     "iopub.status.idle": "2021-11-26T09:58:18.922509Z",
     "shell.execute_reply": "2021-11-26T09:58:18.921821Z",
     "shell.execute_reply.started": "2021-11-26T09:58:18.914297Z"
    },
    "id": "ELdpzZNx10Qd"
   },
   "outputs": [],
   "source": [
    "import torch\n",
    "import random\n",
    "import numpy as np\n",
    "import matplotlib.pyplot as plt\n",
    "import matplotlib\n",
    "matplotlib.rcParams['figure.figsize'] = (15.0, 5.0)\n",
    "\n",
    "rs=42\n",
    "random.seed(rs)\n",
    "np.random.seed(rs)\n",
    "torch.manual_seed(rs)\n",
    "torch.cuda.manual_seed(rs)\n",
    "torch.backends.cudnn.deterministic = True"
   ]
  },
  {
   "cell_type": "code",
   "execution_count": 6,
   "metadata": {
    "execution": {
     "iopub.execute_input": "2021-11-26T09:58:18.925055Z",
     "iopub.status.busy": "2021-11-26T09:58:18.924395Z",
     "iopub.status.idle": "2021-11-26T09:58:21.102063Z",
     "shell.execute_reply": "2021-11-26T09:58:21.101352Z",
     "shell.execute_reply.started": "2021-11-26T09:58:18.925021Z"
    },
    "id": "dTxq1vz010Qd",
    "outputId": "bde8a042-84bc-45cb-e574-95f999a09c9d"
   },
   "outputs": [],
   "source": [
    "import torchvision.datasets\n",
    "MNIST_train = torchvision.datasets.MNIST('./', download=True, train=True)\n",
    "MNIST_test = torchvision.datasets.MNIST('./', download=True, train=False)"
   ]
  },
  {
   "cell_type": "code",
   "execution_count": 7,
   "metadata": {
    "execution": {
     "iopub.execute_input": "2021-11-26T09:58:21.103873Z",
     "iopub.status.busy": "2021-11-26T09:58:21.103220Z",
     "iopub.status.idle": "2021-11-26T09:58:21.108707Z",
     "shell.execute_reply": "2021-11-26T09:58:21.107410Z",
     "shell.execute_reply.started": "2021-11-26T09:58:21.103833Z"
    }
   },
   "outputs": [],
   "source": [
    "X_train = MNIST_train.data\n",
    "y_train = MNIST_train.targets\n",
    "X_test = MNIST_test.data\n",
    "y_test = MNIST_test.targets"
   ]
  },
  {
   "cell_type": "code",
   "execution_count": 8,
   "metadata": {
    "execution": {
     "iopub.execute_input": "2021-11-26T09:58:21.110435Z",
     "iopub.status.busy": "2021-11-26T09:58:21.109824Z",
     "iopub.status.idle": "2021-11-26T09:58:21.119774Z",
     "shell.execute_reply": "2021-11-26T09:58:21.118969Z",
     "shell.execute_reply.started": "2021-11-26T09:58:21.110401Z"
    }
   },
   "outputs": [],
   "source": [
    "print(X_train.shape[0]/10) # на это количество добавляем картинок с 10 категорией (отсутсвие цифр)\n",
    "print(X_test.shape[0]/10) # на это количество добавляем картинок с 10 категорией (отсутсвие цифр)"
   ]
  },
  {
   "cell_type": "code",
   "execution_count": 9,
   "metadata": {
    "execution": {
     "iopub.execute_input": "2021-11-26T09:58:21.122338Z",
     "iopub.status.busy": "2021-11-26T09:58:21.121673Z",
     "iopub.status.idle": "2021-11-26T09:58:21.142168Z",
     "shell.execute_reply": "2021-11-26T09:58:21.141565Z",
     "shell.execute_reply.started": "2021-11-26T09:58:21.122278Z"
    }
   },
   "outputs": [],
   "source": [
    "X_train_no_numbers = []\n",
    "X_test_no_numbers = []\n",
    "X_train_no_numbers.append(torch.randint(0, 1, (300, 28, 28))) #6000/10/2 = 300, черных картинок\n",
    "X_test_no_numbers.append(torch.randint(0, 1, (50, 28, 28))) #1000/10/2 = 50, черных картинок"
   ]
  },
  {
   "cell_type": "code",
   "execution_count": 10,
   "metadata": {
    "execution": {
     "iopub.execute_input": "2021-11-26T09:58:21.143769Z",
     "iopub.status.busy": "2021-11-26T09:58:21.143203Z",
     "iopub.status.idle": "2021-11-26T09:58:21.153131Z",
     "shell.execute_reply": "2021-11-26T09:58:21.152424Z",
     "shell.execute_reply.started": "2021-11-26T09:58:21.143733Z"
    }
   },
   "outputs": [],
   "source": [
    "X_train_no_numbers.append(torch.randint(255, 256, (300, 28, 28))) # + 6000/10/2 = 300, белых картинок\n",
    "X_test_no_numbers.append(torch.randint(255, 256, (50, 28, 28))) # + 1000/10/2 = 50, белых картинок"
   ]
  },
  {
   "cell_type": "code",
   "execution_count": 11,
   "metadata": {
    "execution": {
     "iopub.execute_input": "2021-11-26T09:58:21.155490Z",
     "iopub.status.busy": "2021-11-26T09:58:21.154760Z",
     "iopub.status.idle": "2021-11-26T09:58:21.347298Z",
     "shell.execute_reply": "2021-11-26T09:58:21.346571Z",
     "shell.execute_reply.started": "2021-11-26T09:58:21.155435Z"
    }
   },
   "outputs": [],
   "source": [
    "# + 6000/10*9 = 5400 с рандомным диапазоном шума\n",
    "temp = []\n",
    "for _ in range(5400):\n",
    "    low_rand = np.random.randint(0,256)\n",
    "    high_rand = np.random.randint(low_rand+1,256+1)\n",
    "    temp.append(torch.randint(low_rand, high_rand, (1, 28, 28)))\n",
    "X_train_no_numbers.append(torch.cat(temp))"
   ]
  },
  {
   "cell_type": "code",
   "execution_count": 12,
   "metadata": {
    "execution": {
     "iopub.execute_input": "2021-11-26T09:58:21.348750Z",
     "iopub.status.busy": "2021-11-26T09:58:21.348425Z",
     "iopub.status.idle": "2021-11-26T09:58:21.383116Z",
     "shell.execute_reply": "2021-11-26T09:58:21.382493Z",
     "shell.execute_reply.started": "2021-11-26T09:58:21.348709Z"
    }
   },
   "outputs": [],
   "source": [
    "# + 100/10*9 = 900 с рандомным диапазоном шума\n",
    "temp = []\n",
    "for _ in range(900):\n",
    "    low_rand = np.random.randint(0,256)\n",
    "    high_rand = np.random.randint(low_rand+1,256+1)\n",
    "    temp.append(torch.randint(low_rand, high_rand, (1, 28, 28)))\n",
    "X_test_no_numbers.append(torch.cat(temp))"
   ]
  },
  {
   "cell_type": "code",
   "execution_count": 13,
   "metadata": {
    "execution": {
     "iopub.execute_input": "2021-11-26T09:58:21.384420Z",
     "iopub.status.busy": "2021-11-26T09:58:21.384155Z",
     "iopub.status.idle": "2021-11-26T09:58:21.586968Z",
     "shell.execute_reply": "2021-11-26T09:58:21.586301Z",
     "shell.execute_reply.started": "2021-11-26T09:58:21.384386Z"
    }
   },
   "outputs": [],
   "source": [
    "plt.imshow(X_train_no_numbers[2][31, :, :], cmap='gray', vmin=0, vmax=255)\n",
    "plt.show()"
   ]
  },
  {
   "cell_type": "code",
   "execution_count": 14,
   "metadata": {
    "execution": {
     "iopub.execute_input": "2021-11-26T09:58:21.588537Z",
     "iopub.status.busy": "2021-11-26T09:58:21.588267Z",
     "iopub.status.idle": "2021-11-26T09:58:21.906622Z",
     "shell.execute_reply": "2021-11-26T09:58:21.905875Z",
     "shell.execute_reply.started": "2021-11-26T09:58:21.588502Z"
    }
   },
   "outputs": [],
   "source": [
    "# Добавляем в наши обучающие и тестовые выборки данные по классу 10 (без цифр)\n",
    "X_train = torch.cat((X_train, torch.cat(X_train_no_numbers)))\n",
    "y_train = torch.cat((y_train, torch.full((6000,), 10)))\n",
    "X_test = torch.cat((X_test, torch.cat(X_test_no_numbers)))\n",
    "y_test = torch.cat((y_test, torch.full((1000,), 10)))"
   ]
  },
  {
   "cell_type": "code",
   "execution_count": 15,
   "metadata": {
    "execution": {
     "iopub.execute_input": "2021-11-26T09:58:21.908270Z",
     "iopub.status.busy": "2021-11-26T09:58:21.908011Z",
     "iopub.status.idle": "2021-11-26T09:58:21.914438Z",
     "shell.execute_reply": "2021-11-26T09:58:21.913521Z",
     "shell.execute_reply.started": "2021-11-26T09:58:21.908237Z"
    }
   },
   "outputs": [],
   "source": [
    "X_train.shape, y_train.shape, X_test.shape, y_test.shape"
   ]
  },
  {
   "cell_type": "code",
   "execution_count": 16,
   "metadata": {
    "execution": {
     "iopub.execute_input": "2021-11-26T09:58:21.916363Z",
     "iopub.status.busy": "2021-11-26T09:58:21.916099Z",
     "iopub.status.idle": "2021-11-26T09:58:21.934238Z",
     "shell.execute_reply": "2021-11-26T09:58:21.933379Z",
     "shell.execute_reply.started": "2021-11-26T09:58:21.916330Z"
    }
   },
   "outputs": [],
   "source": [
    "class MNISTNet(torch.nn.Module):\n",
    "\n",
    "    def __init__(self, n_hidden_neurons):\n",
    "        super(MNISTNet, self).__init__()\n",
    "        self.fc1 = torch.nn.Linear(28 * 28, n_hidden_neurons)\n",
    "        self.ac1 = torch.nn.Sigmoid()\n",
    "        self.fc2 = torch.nn.Linear(n_hidden_neurons, 11)\n",
    "    \n",
    "    def forward(self, x):\n",
    "        x = self.fc1(x)\n",
    "        x = self.ac1(x)\n",
    "        x = self.fc2(x)\n",
    "        return x\n",
    "\n",
    "#Create function\n",
    "def learn_MNISTNet(mnist_net, X_train, X_test, y_train, y_test, loss, optimizer, epoch_num=100, batch_size=100, device='cpu', verbose=True):\n",
    "    learn_history = {}\n",
    "    learn_history['accuracy_test'] = []\n",
    "    learn_history['accuracy_train'] = []\n",
    "    learn_history['loss_test'] = []\n",
    "    learn_history['loss_train'] = []\n",
    "\n",
    "    X_train = X_train.float()\n",
    "    X_test = X_test.float()\n",
    "    X_train = X_train.reshape([-1, 28 * 28])\n",
    "    X_test = X_test.reshape([-1, 28 * 28])\n",
    "\n",
    "    X_test = X_test.to(device)\n",
    "    y_test = y_test.to(device)\n",
    "\n",
    "    for epoch in range(epoch_num):\n",
    "        order = np.random.permutation(len(X_train))\n",
    "\n",
    "        train_accuracy_epoch = []\n",
    "        train_loss_epoch = []\n",
    "        \n",
    "        for start_index in range(0, len(X_train), batch_size):\n",
    "            optimizer.zero_grad()\n",
    "            \n",
    "            batch_indexes = order[start_index:start_index+batch_size]\n",
    "            \n",
    "            X_batch = X_train[batch_indexes].to(device)\n",
    "            y_batch = y_train[batch_indexes].to(device)\n",
    "            \n",
    "            preds = mnist_net.forward(X_batch)\n",
    "            \n",
    "            loss_value = loss(preds, y_batch)\n",
    "            train_loss_epoch.append(loss_value)\n",
    "\n",
    "            loss_value.backward()\n",
    "            \n",
    "            train_accuracy_epoch.append((preds.argmax(dim=1) == y_batch).float().mean())\n",
    "\n",
    "            optimizer.step()\n",
    "\n",
    "        test_preds = mnist_net.forward(X_test)\n",
    "        learn_history['loss_test'].append(loss(test_preds, y_test))\n",
    "        learn_history['loss_train'].append(torch.stack(train_loss_epoch).float().mean())\n",
    "\n",
    "        accuracy_test = (test_preds.argmax(dim=1) == y_test).float().mean()\n",
    "        accuracy_train = torch.stack(train_accuracy_epoch).float().mean()\n",
    "        learn_history['accuracy_test'].append(accuracy_test)\n",
    "        learn_history['accuracy_train'].append(accuracy_train)\n",
    "        if verbose:\n",
    "            print('epoch = {}, accuracy_test = {:.3f}, accuracy_train = {:.3f}'.format(epoch, accuracy_test, accuracy_train))\n",
    "\n",
    "    return learn_history"
   ]
  },
  {
   "cell_type": "code",
   "execution_count": 17,
   "metadata": {
    "execution": {
     "iopub.execute_input": "2021-11-26T09:58:21.936261Z",
     "iopub.status.busy": "2021-11-26T09:58:21.935771Z",
     "iopub.status.idle": "2021-11-26T09:58:44.131123Z",
     "shell.execute_reply": "2021-11-26T09:58:44.130351Z",
     "shell.execute_reply.started": "2021-11-26T09:58:21.936225Z"
    }
   },
   "outputs": [],
   "source": [
    "#%%timeit\n",
    "#device = 'cuda:0'\n",
    "device = torch.device('cuda:0' if torch.cuda.is_available() else 'cpu')\n",
    "\n",
    "mnist_net = MNISTNet(100)\n",
    "mnist_net = mnist_net.to(device)\n",
    "\n",
    "loss = torch.nn.CrossEntropyLoss()\n",
    "optimizer = torch.optim.Adam(mnist_net.parameters(), lr=1.0e-3)\n",
    "#optimizer = torch.optim.SGD(mnist_net.parameters(), lr=1.0e-2)\n",
    "#optimizer = torch.optim.SGD(mnist_net.parameters(), lr=1.0e-2, momentum=0.9)\n",
    "\n",
    "learn_history = learn_MNISTNet(mnist_net, X_train, X_test, y_train, y_test, loss, optimizer, epoch_num=100, batch_size=1000, device=device, verbose=False)\n",
    "\n",
    "print('Accuracy: test = {:.3f}, train = {:.3f}; Loss: test = {:.3f}, train = {:.3f};'.format(learn_history['accuracy_test'][-5].mean(), \n",
    "                                                       learn_history['accuracy_train'][-5].mean(),\n",
    "                                                       learn_history['loss_test'][-5].mean(), \n",
    "                                                       learn_history['loss_train'][-5].mean()))"
   ]
  },
  {
   "cell_type": "code",
   "execution_count": 18,
   "metadata": {
    "execution": {
     "iopub.execute_input": "2021-11-26T09:58:44.134227Z",
     "iopub.status.busy": "2021-11-26T09:58:44.133714Z",
     "iopub.status.idle": "2021-11-26T09:58:44.321119Z",
     "shell.execute_reply": "2021-11-26T09:58:44.320415Z",
     "shell.execute_reply.started": "2021-11-26T09:58:44.134187Z"
    }
   },
   "outputs": [],
   "source": [
    "random_img = torch.randint(200, 256, (1, 28, 28))\n",
    "plt.imshow(random_img[0, :, :], cmap='gray', vmin=0, vmax=255)\n",
    "plt.show()"
   ]
  },
  {
   "cell_type": "code",
   "execution_count": 19,
   "metadata": {
    "execution": {
     "iopub.execute_input": "2021-11-26T09:58:44.323137Z",
     "iopub.status.busy": "2021-11-26T09:58:44.322257Z",
     "iopub.status.idle": "2021-11-26T09:58:44.362966Z",
     "shell.execute_reply": "2021-11-26T09:58:44.362145Z",
     "shell.execute_reply.started": "2021-11-26T09:58:44.323096Z"
    }
   },
   "outputs": [],
   "source": [
    "preds = mnist_net.forward(random_img[0, :, :].float().reshape([-1, 28 * 28]).to(device))\n",
    "print(preds)\n",
    "print(preds.argmax(dim=1))"
   ]
  },
  {
   "cell_type": "code",
   "execution_count": 28,
   "metadata": {
    "execution": {
     "iopub.execute_input": "2021-11-26T10:16:17.207247Z",
     "iopub.status.busy": "2021-11-26T10:16:17.206997Z",
     "iopub.status.idle": "2021-11-26T10:16:17.249676Z",
     "shell.execute_reply": "2021-11-26T10:16:17.248955Z",
     "shell.execute_reply.started": "2021-11-26T10:16:17.207219Z"
    }
   },
   "outputs": [],
   "source": [
    "#смотрим на чем сеть ошибается.\n",
    "test_preds = mnist_net.forward(X_test.float().reshape([-1, 28 * 28]).to(device))\n",
    "X_errors = X_test[test_preds.argmax(dim=1) != y_test.to(device)]"
   ]
  },
  {
   "cell_type": "code",
   "execution_count": 34,
   "metadata": {
    "execution": {
     "iopub.execute_input": "2021-11-26T10:17:07.416310Z",
     "iopub.status.busy": "2021-11-26T10:17:07.416060Z",
     "iopub.status.idle": "2021-11-26T10:17:07.588018Z",
     "shell.execute_reply": "2021-11-26T10:17:07.587303Z",
     "shell.execute_reply.started": "2021-11-26T10:17:07.416281Z"
    }
   },
   "outputs": [],
   "source": [
    "\n",
    "plt.imshow(X_errors[0, :, :], cmap='gray', vmin=0, vmax=255)\n",
    "plt.show()"
   ]
  },
  {
   "cell_type": "code",
   "execution_count": 26,
   "metadata": {
    "execution": {
     "iopub.execute_input": "2021-11-26T10:14:18.411542Z",
     "iopub.status.busy": "2021-11-26T10:14:18.411270Z",
     "iopub.status.idle": "2021-11-26T10:14:18.420671Z",
     "shell.execute_reply": "2021-11-26T10:14:18.419798Z",
     "shell.execute_reply.started": "2021-11-26T10:14:18.411512Z"
    }
   },
   "outputs": [],
   "source": [
    "X_test"
   ]
  },
  {
   "cell_type": "markdown",
   "metadata": {
    "id": "kL_NNsIvSu4_"
   },
   "source": [
    "**4.4.6 Семинар: Классификация рукописных чисел полносвязанной сетью**"
   ]
  },
  {
   "cell_type": "markdown",
   "metadata": {
    "id": "hpMONSJNS77x"
   },
   "source": [
    "Как было сказано в предыдущем уроке, полносвязный слой может быть представлен как матричное умножение матрицы входов (X) и матрицы весов нейронов слоя (W), плюс вектор bias'ов слоя (b). \n",
    "\n",
    "В документации к классу torch.nn.Linear (полносвязному слою) написано следующее: Applies a linear transformation to the incoming data: y=xAT+by = xA^T + by=xAT+b . А здесь – это то, как PyTorch хранит веса слоя. Но чтобы эта матрица совпала с W из предыдущего урока, нужно её сперва транспонировать.\n",
    "\n",
    "Давайте реализуем функциональность torch.nn.Linear и сверим с оригиналом!\n",
    "\n",
    "Пусть у нас будет 1 объект x на входе с двумя компонентами. Его мы передадим в полносвязный слой с 3-мя нейронами и получим, соотсветственно, 3 выхода. После напишем эту же функциональность с помощью матричного умножения. "
   ]
  },
  {
   "cell_type": "code",
   "execution_count": null,
   "metadata": {
    "execution": {
     "iopub.status.busy": "2021-11-26T09:57:28.772105Z",
     "iopub.status.idle": "2021-11-26T09:57:28.772532Z",
     "shell.execute_reply": "2021-11-26T09:57:28.772309Z",
     "shell.execute_reply.started": "2021-11-26T09:57:28.772287Z"
    },
    "id": "fSTBSEdeS650",
    "outputId": "8d75195a-e20a-488c-8bcb-e83cbfeb7b72"
   },
   "outputs": [],
   "source": [
    "import torch\n",
    "\n",
    "# Сперва создадим тензор x:\n",
    "x = torch.tensor([[10., 20.]])\n",
    "\n",
    "# Оригинальный полносвязный слой с 2-мя входами и 3-мя нейронами (выходами):\n",
    "fc = torch.nn.Linear(2, 3)\n",
    "\n",
    "# Веса fc-слоя хранятся в fc.weight, а bias'ы соответственно в fc.bias\n",
    "# fc.weight и fc.bias по умолчанию инициализируются случайными числами\n",
    "\n",
    "# Давайте проставим свои значения в веса и bias'ы:\n",
    "w = torch.tensor([[11., 12.], [21., 22.], [31., 32]])\n",
    "fc.weight.data = w\n",
    "fc.weight.data"
   ]
  },
  {
   "cell_type": "code",
   "execution_count": null,
   "metadata": {
    "execution": {
     "iopub.status.busy": "2021-11-26T09:57:28.863180Z",
     "iopub.status.idle": "2021-11-26T09:57:28.863595Z",
     "shell.execute_reply": "2021-11-26T09:57:28.863402Z",
     "shell.execute_reply.started": "2021-11-26T09:57:28.863383Z"
    },
    "id": "EKDP3Bf5VHUJ",
    "outputId": "3886e775-79f0-4ea1-f6fa-845c3b3ec177"
   },
   "outputs": [],
   "source": [
    "fc.weight.data.transpose(0,1)"
   ]
  },
  {
   "cell_type": "code",
   "execution_count": null,
   "metadata": {
    "execution": {
     "iopub.status.busy": "2021-11-26T09:57:28.864713Z",
     "iopub.status.idle": "2021-11-26T09:57:28.865011Z",
     "shell.execute_reply": "2021-11-26T09:57:28.864872Z",
     "shell.execute_reply.started": "2021-11-26T09:57:28.864855Z"
    },
    "id": "V6ttweW1S9qk",
    "outputId": "5d4def41-6e8d-48dd-fec2-787caa51e100"
   },
   "outputs": [],
   "source": [
    "b = torch.tensor([[31., 32., 33.]])\n",
    "fc.bias.data = b\n",
    "fc.bias.data"
   ]
  },
  {
   "cell_type": "code",
   "execution_count": null,
   "metadata": {
    "execution": {
     "iopub.status.busy": "2021-11-26T09:57:28.866273Z",
     "iopub.status.idle": "2021-11-26T09:57:28.866759Z",
     "shell.execute_reply": "2021-11-26T09:57:28.866619Z",
     "shell.execute_reply.started": "2021-11-26T09:57:28.866600Z"
    },
    "id": "KkD3o2v6UWNB",
    "outputId": "5173adb3-34f9-4418-f6e1-6ac594839a58"
   },
   "outputs": [],
   "source": [
    "# Получим выход fc-слоя:\n",
    "fc_out = fc(x)\n",
    "fc_out"
   ]
  },
  {
   "cell_type": "code",
   "execution_count": null,
   "metadata": {
    "execution": {
     "iopub.status.busy": "2021-11-26T09:57:28.867843Z",
     "iopub.status.idle": "2021-11-26T09:57:28.868409Z",
     "shell.execute_reply": "2021-11-26T09:57:28.868201Z",
     "shell.execute_reply.started": "2021-11-26T09:57:28.868173Z"
    },
    "id": "b88u0etbUaSc",
    "outputId": "fd852f20-1f68-4767-82d5-e66a00799ec3"
   },
   "outputs": [],
   "source": [
    "# Попробуем теперь получить аналогичные выходы с помощью матричного перемножения:\n",
    "fc_out_alternative =  x @ w.t() + b\n",
    "fc_out_alternative\n",
    "\n",
    "# Проверка осуществляется автоматически вызовом функции\n",
    "# print(fc_out == fc_out_alternative)\n",
    "# (раскомментируйте, если решаете задачу локально)"
   ]
  },
  {
   "cell_type": "markdown",
   "metadata": {
    "id": "DaiqrxVHmCHk"
   },
   "source": [
    "В предыдущем шаге мы написали функцию, эмулирующую fc-слой. Проверим, что по ней правильно считается градиент. \n",
    "\n",
    "Функцию backward() в PyTorch можно посчитать только от скалярной функции (выход из такой функции – одно число). Это логично, так как loss-функция выдает всегда одно число. Но fc-слой, который мы проэмулировали, имел 3 выхода. Предлагаем их просуммировать, чтобы получить в итоге скалярную функцию. Заметим, впрочем, что можно было бы выбрать любую агрегирующую операцию, например умножение.\n",
    "\n",
    "Дополните код так, чтобы градиент по весам и смещениям (bias) совпадал с аналогичным градиентом в вашей фунции.\n",
    "\n",
    "Чем обусловлен полученный градиент? Изменится ли он, если мы подадим другие входы или другую инициализацию весов?"
   ]
  },
  {
   "cell_type": "code",
   "execution_count": null,
   "metadata": {
    "execution": {
     "iopub.status.busy": "2021-11-26T09:57:28.869453Z",
     "iopub.status.idle": "2021-11-26T09:57:28.870009Z",
     "shell.execute_reply": "2021-11-26T09:57:28.869797Z",
     "shell.execute_reply.started": "2021-11-26T09:57:28.869770Z"
    },
    "id": "_ln7NUnDVeAZ",
    "outputId": "14e794b4-af7f-4de4-a817-3f357e0d635a"
   },
   "outputs": [],
   "source": [
    "import torch\n",
    "\n",
    "# Сперва создадим тензор x:\n",
    "x = torch.tensor([[10., 20.]])\n",
    "\n",
    "# Оригинальный полносвязный слой с 2-мя входами и 3-мя нейронами (выходами):\n",
    "fc = torch.nn.Linear(2, 3)\n",
    "\n",
    "# Веса fc-слоя хранятся в fc.weight, а bias'ы соответственно в fc.bias\n",
    "# fc.weight и fc.bias по умолчанию инициализируются случайными числами\n",
    "\n",
    "# Давайте проставим свои значения в веса и bias'ы:\n",
    "w = torch.tensor([[11., 12.], [21., 22.], [31., 32]])\n",
    "fc.weight.data = w\n",
    "\n",
    "b = torch.tensor([[31., 32., 33.]])\n",
    "fc.bias.data = b\n",
    "\n",
    "# Получим выход fc-слоя:\n",
    "fc_out = fc(x)\n",
    "# Просуммируем выход fc-слоя, чтобы получить скаляр:\n",
    "fc_out_summed = fc_out.sum()\n",
    "\n",
    "# Посчитаем градиенты формулы fc_out_summed:\n",
    "fc_out_summed.backward()\n",
    "weight_grad = fc.weight.grad\n",
    "bias_grad = fc.bias.grad\n",
    "\n",
    "# Ok, теперь воспроизведем вычисления выше но без fc-слоя:\n",
    "# Проставим, что у \"w\" и \"b\" нужно вычислять градиенты (для fc-слоя это произошло автоматически):\n",
    "w.requires_grad_(True)\n",
    "b.requires_grad_(True)\n",
    "\n",
    "# Получим выход нашей формулы:\n",
    "our_formula = (x @ w.t() + b).sum() # SUM{x * w^T + b}\n",
    "\n",
    "# Сделайте backward для нашей формулы:\n",
    "our_formula.backward()\n",
    "\n",
    "# Проверка осуществляется автоматически, вызовом функций:\n",
    "print('fc_weight_grad:', weight_grad)\n",
    "print('our_weight_grad:', w.grad)\n",
    "print('fc_bias_grad:', bias_grad)\n",
    "print('out_bias_grad:', b.grad)\n",
    "# (раскомментируйте, если работаете над задачей локально)"
   ]
  },
  {
   "cell_type": "markdown",
   "metadata": {
    "id": "5fkeBgKmoc18"
   },
   "source": [
    "# Неделя 5. Сверточные нейронные сети"
   ]
  },
  {
   "cell_type": "markdown",
   "metadata": {
    "id": "jLM9iSqQmg-p"
   },
   "source": [
    "5.1 Свёртка, каскад свёрток"
   ]
  },
  {
   "cell_type": "markdown",
   "metadata": {},
   "source": [
    "Пусть матрица признаков равна [[4, 2, -1],[-6, 0, 5],[3, 2, 2]], а ядро свертки -- [[0, 1, 2],[1, -1, 0],[1, 0, -2]]\n",
    "\n",
    "Каков будет результат применения свертки со stride=2, padding=1?\n",
    "\n",
    "Запишите значения матрицы в одну строчку в порядке сверху вниз, слева направо, разделяя числа одной строки пробелами, а сами строки -- запятыми (например, запись \"1 2 3, -4 -5 -6\" соответствует матрице [[1, 2, 3], [-4, -5, -6]], осторожно, скобки писать не нужно)."
   ]
  },
  {
   "cell_type": "code",
   "execution_count": 1,
   "metadata": {
    "execution": {
     "iopub.execute_input": "2021-11-26T11:19:38.083735Z",
     "iopub.status.busy": "2021-11-26T11:19:38.083393Z",
     "iopub.status.idle": "2021-11-26T11:19:39.325325Z",
     "shell.execute_reply": "2021-11-26T11:19:39.324440Z",
     "shell.execute_reply.started": "2021-11-26T11:19:38.083646Z"
    }
   },
   "outputs": [],
   "source": [
    "import torch"
   ]
  },
  {
   "cell_type": "code",
   "execution_count": 7,
   "metadata": {
    "execution": {
     "iopub.execute_input": "2021-11-26T11:26:19.028959Z",
     "iopub.status.busy": "2021-11-26T11:26:19.028209Z",
     "iopub.status.idle": "2021-11-26T11:26:19.037867Z",
     "shell.execute_reply": "2021-11-26T11:26:19.036971Z",
     "shell.execute_reply.started": "2021-11-26T11:26:19.028912Z"
    }
   },
   "outputs": [],
   "source": [
    "source = torch.tensor([[4, 2, -1],[-6, 0, 5],[3, 2, 2]])\n",
    "kernel = torch.tensor([[0, 1, 2],[1, -1, 0],[1, 0, -2]])\n",
    "source = torch.nn.functional.pad(input=source, pad=(1, 1, 1, 1), mode='constant', value=0) #add padding"
   ]
  },
  {
   "cell_type": "code",
   "execution_count": null,
   "metadata": {},
   "outputs": [],
   "source": [
    "import torch\n",
    "conv = torch.nn.Conv2d(1,1,kernel_size=3, padding=1, stride=2, bias=False)\n",
    "X = torch.FloatTensor([[[\n",
    "    [4, 2, -1],\n",
    "    [-6, 0, 5],\n",
    "    [3, 2, 2]]]])\n",
    "conv.weight.data = torch.FloatTensor([[[\n",
    "    [0, 1, 2],\n",
    "    [1, -1, 0],\n",
    "    [1, 0, -2]]]])\n",
    "res = conv(X).data[0,0]\n",
    "print(res)"
   ]
  },
  {
   "cell_type": "code",
   "execution_count": 10,
   "metadata": {
    "execution": {
     "iopub.execute_input": "2021-11-26T11:33:38.382099Z",
     "iopub.status.busy": "2021-11-26T11:33:38.381279Z",
     "iopub.status.idle": "2021-11-26T11:33:38.396120Z",
     "shell.execute_reply": "2021-11-26T11:33:38.395359Z",
     "shell.execute_reply.started": "2021-11-26T11:33:38.382057Z"
    }
   },
   "outputs": [],
   "source": [
    "import torch\n",
    "x = torch.tensor([[4, 2, -1],[-6, 0, 5],[3, 2, 2]], dtype=torch.float64).reshape(1,1,3,3)\n",
    "k = torch.tensor([[0, 1, 2],[1, -1, 0],[1, 0, -2]], dtype=torch.float64).reshape(1,1,3,3)\n",
    "conv = torch.nn.functional.conv2d(x, k, stride=2, padding=1).numpy()\n",
    "print(*conv.reshape(-1).astype(int))"
   ]
  },
  {
   "cell_type": "markdown",
   "metadata": {},
   "source": [
    "Пусть размер матрицы признаков = 4(высота)х5(ширина)x2(кол-во каналов), размеры ядра свертки = 3x3, stride=2, padding=1, количество выходных фильтров = 8.\n",
    "\n",
    "Сколько элементов будет в матрице, полученной в результате применения свёртки? В качестве ответа введите одно число."
   ]
  },
  {
   "cell_type": "code",
   "execution_count": 1,
   "metadata": {
    "execution": {
     "iopub.execute_input": "2021-11-26T12:09:42.249848Z",
     "iopub.status.busy": "2021-11-26T12:09:42.249518Z",
     "iopub.status.idle": "2021-11-26T12:09:43.481892Z",
     "shell.execute_reply": "2021-11-26T12:09:43.481040Z",
     "shell.execute_reply.started": "2021-11-26T12:09:42.249766Z"
    }
   },
   "outputs": [],
   "source": [
    "import torch\n",
    "from torch import nn\n",
    "\n",
    "x = torch.ones(1,2,4,5)\n",
    "conv = nn.Conv2d(2, 8, kernel_size=3, stride=2, padding=1, bias=False)\n",
    "res = conv(x)\n",
    "res.view(-1).shape"
   ]
  },
  {
   "cell_type": "code",
   "execution_count": null,
   "metadata": {},
   "outputs": [],
   "source": []
  }
 ],
 "metadata": {
  "kernelspec": {
   "display_name": "Python 3",
   "language": "python",
   "name": "python3"
  },
  "language_info": {
   "codemirror_mode": {
    "name": "ipython",
    "version": 3
   },
   "file_extension": ".py",
   "mimetype": "text/x-python",
   "name": "python",
   "nbconvert_exporter": "python",
   "pygments_lexer": "ipython3",
   "version": "3.9.5"
  }
 },
 "nbformat": 4,
 "nbformat_minor": 4
}
