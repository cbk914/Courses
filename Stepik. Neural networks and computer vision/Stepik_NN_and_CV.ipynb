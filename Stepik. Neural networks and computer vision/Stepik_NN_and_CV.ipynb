{
  "nbformat": 4,
  "nbformat_minor": 5,
  "metadata": {
    "kernelspec": {
      "display_name": "Python 3",
      "language": "python",
      "name": "python3"
    },
    "language_info": {
      "codemirror_mode": {
        "name": "ipython",
        "version": 3
      },
      "file_extension": ".py",
      "mimetype": "text/x-python",
      "name": "python",
      "nbconvert_exporter": "python",
      "pygments_lexer": "ipython3",
      "version": "3.9.5"
    },
    "colab": {
      "name": "Stepik. NN and CV.ipynb",
      "provenance": []
    }
  },
  "cells": [
    {
      "cell_type": "code",
      "metadata": {
        "id": "5d1bbe7b-1773-4c53-8ae2-81b8842696ad"
      },
      "source": [
        "import torch"
      ],
      "id": "5d1bbe7b-1773-4c53-8ae2-81b8842696ad",
      "execution_count": null,
      "outputs": []
    },
    {
      "cell_type": "raw",
      "metadata": {
        "id": "39c099c7-b6a1-4736-88f8-6f087fd8dc83"
      },
      "source": [
        "Реализуйте при помощи pyTorch функцию, которая возвращает сумму (x.sum()) элементов тензора X, строго превышающих значение limit, которое является входным значением алгоритма.\n",
        "\n",
        "Входная матрица: X = torch.tensor([[1, 2, 3], [4, 5, 6], [7, 8, 9]])"
      ],
      "id": "39c099c7-b6a1-4736-88f8-6f087fd8dc83"
    },
    {
      "cell_type": "code",
      "metadata": {
        "id": "16ac1f55-3163-4023-8d11-76ab99d99cc1",
        "outputId": "1ac87447-676c-46ae-a66c-20e24b3bca52"
      },
      "source": [
        "X = torch.tensor([[1, 2, 3], [4, 5, 6], [7, 8, 9]])\n",
        "limit = int(input())\n",
        "\n",
        "larger_than_limit_sum = (X[X > limit]).sum()\n",
        "\n",
        "print(larger_than_limit_sum)"
      ],
      "id": "16ac1f55-3163-4023-8d11-76ab99d99cc1",
      "execution_count": null,
      "outputs": [
        {
          "name": "stdin",
          "output_type": "stream",
          "text": [
            " 8\n"
          ]
        },
        {
          "name": "stdout",
          "output_type": "stream",
          "text": [
            "tensor(9)\n"
          ]
        }
      ]
    },
    {
      "cell_type": "markdown",
      "metadata": {
        "id": "sRVurRpho41A"
      },
      "source": [
        "# Неделя 2. Строим первую нейронную сеть"
      ],
      "id": "sRVurRpho41A"
    },
    {
      "cell_type": "markdown",
      "metadata": {
        "id": "nr1AD9_ipLvS"
      },
      "source": [
        "2.6 Семинар: Реализация градиентного спуска (часть 1)"
      ],
      "id": "nr1AD9_ipLvS"
    },
    {
      "cell_type": "code",
      "metadata": {
        "id": "3yDtjFC9t4zZ"
      },
      "source": [
        "import torch"
      ],
      "id": "3yDtjFC9t4zZ",
      "execution_count": 7,
      "outputs": []
    },
    {
      "cell_type": "markdown",
      "metadata": {
        "id": "pg34YJN7pUar"
      },
      "source": [
        "Допустим, у нас есть функция f(x)=loge(x +3)f(x) = log_{e}(x + 3)f(x)=loge​(x +3). Мы выбрали начальное приближение xt=0 =7x^{t=0} = 7xt=0 =7 . И шаг градиентного спуска α=10\\alpha=10α=10\n",
        "\n",
        "Чему будет равен xt=1x^{t=1}xt=1? "
      ],
      "id": "pg34YJN7pUar"
    },
    {
      "cell_type": "code",
      "metadata": {
        "id": "tyN-GjZBoP4y",
        "outputId": "4e2486bb-eb16-4dd0-9167-18f4c608612c",
        "colab": {
          "base_uri": "https://localhost:8080/"
        }
      },
      "source": [
        "x = torch.tensor(7.0, requires_grad=True)\n",
        "f = torch.log(x + 3)\n",
        "f.backward()\n",
        "lr = 10\n",
        "x.data = x.data - lr * x.grad.data\n",
        "print(x.data)"
      ],
      "id": "tyN-GjZBoP4y",
      "execution_count": 6,
      "outputs": [
        {
          "output_type": "stream",
          "name": "stdout",
          "text": [
            "tensor(6.)\n"
          ]
        }
      ]
    },
    {
      "cell_type": "markdown",
      "metadata": {
        "id": "-aK8kii25EUh"
      },
      "source": [
        "Допустим, у нас есть функция f(X)=∑loge(xij+1)f(X) = \\sum{log_{e}(x_{ij} + 1)}f(X)=∑loge​(xij​+1), где XXX - тензор размера 2x2. Мы выбрали начальное приближение Xt=0 =[[1,2],[4,5]]X^{t=0} = [[1, 2], [4, 5]]Xt=0 =[[1,2],[4,5]] . И шаг градиентного спуска α=10\\alpha=10α=10\n",
        "\n",
        "Чему будет равен Xt=1X^{t=1}Xt=1? "
      ],
      "id": "-aK8kii25EUh"
    },
    {
      "cell_type": "code",
      "metadata": {
        "id": "MLGRmDtD5JOp",
        "outputId": "a9756524-7d0e-46d4-95d9-372b649a13ac",
        "colab": {
          "base_uri": "https://localhost:8080/"
        }
      },
      "source": [
        "X = torch.tensor([[1.0, 2.0], [4.0, 5.0]], requires_grad=True)\n",
        "f = torch.log(X + 1).sum()\n",
        "f.backward()\n",
        "lr = 10\n",
        "X.data = X.data - lr * X.grad.data\n",
        "print(X.data)"
      ],
      "id": "MLGRmDtD5JOp",
      "execution_count": 11,
      "outputs": [
        {
          "output_type": "stream",
          "name": "stdout",
          "text": [
            "tensor([[-4.0000, -1.3333],\n",
            "        [ 2.0000,  3.3333]])\n"
          ]
        }
      ]
    },
    {
      "cell_type": "markdown",
      "metadata": {
        "id": "g46Ogfd-Ieqw"
      },
      "source": [
        "Реализуйте расчет градиента для функции f(w)=∏i,jloge(loge(wi,j +7))f(w) = \\prod\\limits_{i,j}{log_{e}(log_{e}({w_{i,j} + 7}}))f(w)=i,j∏​loge​(loge​(wi,j​ +7)) в точке w =[[5,10],[1,2]]w = [[5, 10], [1, 2]]w =[[5,10],[1,2]]\n",
        "\n",
        "Подсказка: перемножить все значения функции можно с помощью метода .prod()"
      ],
      "id": "g46Ogfd-Ieqw"
    },
    {
      "cell_type": "code",
      "metadata": {
        "id": "6Et8Zc8F6295",
        "outputId": "4aece58a-0d78-436c-d28b-35d47d76abdb",
        "colab": {
          "base_uri": "https://localhost:8080/"
        }
      },
      "source": [
        "w = torch.tensor([[5.,10.],\n",
        "                  [1.,2.]], requires_grad=True)\n",
        "\n",
        "#######\n",
        "device = torch.device('cuda:0' \n",
        "                      if torch.cuda.is_available() \n",
        "                      else 'cpu')\n",
        "w = w.to(device)\n",
        "#######\n",
        "\n",
        "function = torch.log(torch.log(w + 7)).prod()\n",
        "#function = (w+7).log().log().prod()\n",
        "\n",
        "function.backward()\n",
        "\n",
        "print(w.grad, '<- gradient')"
      ],
      "id": "6Et8Zc8F6295",
      "execution_count": 14,
      "outputs": [
        {
          "output_type": "stream",
          "name": "stdout",
          "text": [
            "tensor([[0.0201, 0.0109],\n",
            "        [0.0449, 0.0351]]) <- gradient\n"
          ]
        }
      ]
    },
    {
      "cell_type": "code",
      "metadata": {
        "id": "ueRLZZqAKkdT"
      },
      "source": [
        ""
      ],
      "id": "ueRLZZqAKkdT",
      "execution_count": null,
      "outputs": []
    }
  ]
}