{
 "cells": [
  {
   "cell_type": "code",
   "execution_count": 9,
   "id": "58d11f99-5c70-458e-a583-e1a03f30b5c5",
   "metadata": {},
   "outputs": [
    {
     "name": "stdout",
     "output_type": "stream",
     "text": [
      "2 0.6931470952764585 1.35914 0.7357593772532631\n",
      "3 1.0986123122336267 0.9060933333333333 1.1036390658798947\n",
      "4 1.3862944125975218 0.67957 1.4715187545065262\n",
      "5 1.6094379162723271 0.543656 1.8393984431331578\n",
      "6 1.791759407510085 0.45304666666666665 2.2072781317597894\n",
      "7 1.9459100997210041 0.3883257142857143 2.575157820386421\n",
      "8 2.0794415078739803 0.339785 2.9430375090130525\n",
      "9 2.1972246244672533 0.30203111111111114 3.310917197639684\n"
     ]
    }
   ],
   "source": [
    "l = []\n",
    "for t in range(2, 10):\n",
    "    l = (t**0.000000001 - 1)/0.000000001\n",
    "    print(t, l, 2.71828/t, t/2.71828)"
   ]
  },
  {
   "cell_type": "code",
   "execution_count": 4,
   "id": "cf3bc249-dbdc-4647-a467-c1fa644ffcbe",
   "metadata": {},
   "outputs": [
    {
     "data": {
      "text/plain": [
       "0.9999998273890753"
      ]
     },
     "execution_count": 4,
     "metadata": {},
     "output_type": "execute_result"
    }
   ],
   "source": [
    "(**0.000001 - 1)/0.000001"
   ]
  },
  {
   "cell_type": "code",
   "execution_count": null,
   "id": "8d6a7260-e2a3-470f-8fb1-737de52f2953",
   "metadata": {},
   "outputs": [],
   "source": [
    "2.71828"
   ]
  },
  {
   "cell_type": "code",
   "execution_count": 1,
   "id": "1805f032-9795-4c3e-a401-9b894926ece1",
   "metadata": {},
   "outputs": [],
   "source": [
    "import random\n",
    "random.seed(0)"
   ]
  },
  {
   "cell_type": "code",
   "execution_count": 2,
   "id": "afd5fde4-c139-4697-84e7-e9ea43f31cdd",
   "metadata": {},
   "outputs": [
    {
     "data": {
      "text/plain": [
       "6"
      ]
     },
     "execution_count": 2,
     "metadata": {},
     "output_type": "execute_result"
    }
   ],
   "source": [
    "random.randint(0, 10)"
   ]
  },
  {
   "cell_type": "code",
   "execution_count": null,
   "id": "be3ac56e-5c0c-4623-b9e4-9259eb481f12",
   "metadata": {},
   "outputs": [],
   "source": []
  }
 ],
 "metadata": {
  "kernelspec": {
   "display_name": "Python 3",
   "language": "python",
   "name": "python3"
  },
  "language_info": {
   "codemirror_mode": {
    "name": "ipython",
    "version": 3
   },
   "file_extension": ".py",
   "mimetype": "text/x-python",
   "name": "python",
   "nbconvert_exporter": "python",
   "pygments_lexer": "ipython3",
   "version": "3.9.5"
  }
 },
 "nbformat": 4,
 "nbformat_minor": 5
}
