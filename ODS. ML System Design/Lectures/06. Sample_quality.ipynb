{
 "cells": [
  {
   "cell_type": "code",
   "execution_count": 1,
   "id": "157dc163",
   "metadata": {},
   "outputs": [],
   "source": [
    "%matplotlib inline"
   ]
  },
  {
   "cell_type": "code",
   "execution_count": 2,
   "id": "d0060015",
   "metadata": {},
   "outputs": [
    {
     "name": "stdout",
     "output_type": "stream",
     "text": [
      "3.5.3\n"
     ]
    }
   ],
   "source": [
    "import matplotlib \n",
    "from matplotlib import pyplot as plt\n",
    "print(matplotlib.__version__)"
   ]
  },
  {
   "cell_type": "code",
   "execution_count": 3,
   "id": "a4ab14b0",
   "metadata": {},
   "outputs": [
    {
     "name": "stdout",
     "output_type": "stream",
     "text": [
      "1.4.3\n"
     ]
    }
   ],
   "source": [
    "import pandas as pd\n",
    "print(pd.__version__)"
   ]
  },
  {
   "cell_type": "code",
   "execution_count": 4,
   "id": "d5c432c1",
   "metadata": {},
   "outputs": [
    {
     "data": {
      "text/plain": [
       "'1.22.4'"
      ]
     },
     "execution_count": 4,
     "metadata": {},
     "output_type": "execute_result"
    }
   ],
   "source": [
    "import numpy as np\n",
    "np.__version__"
   ]
  },
  {
   "cell_type": "code",
   "execution_count": 5,
   "id": "cf435aba",
   "metadata": {},
   "outputs": [
    {
     "name": "stdout",
     "output_type": "stream",
     "text": [
      "1.1.2\n"
     ]
    }
   ],
   "source": [
    "import sklearn\n",
    "from sklearn.model_selection import train_test_split\n",
    "from sklearn.ensemble import RandomForestClassifier\n",
    "from sklearn.dummy import DummyClassifier\n",
    "from sklearn import preprocessing\n",
    "from sklearn.cluster import KMeans\n",
    "print(sklearn.__version__)"
   ]
  },
  {
   "cell_type": "code",
   "execution_count": 6,
   "id": "53bc48ee",
   "metadata": {},
   "outputs": [
    {
     "name": "stdout",
     "output_type": "stream",
     "text": [
      "1.0.6\n"
     ]
    }
   ],
   "source": [
    "import catboost\n",
    "from catboost import CatBoostClassifier\n",
    "print(catboost.__version__)"
   ]
  },
  {
   "cell_type": "code",
   "execution_count": 7,
   "id": "0ce858ae",
   "metadata": {},
   "outputs": [
    {
     "data": {
      "text/html": [
       "<div>\n",
       "<style scoped>\n",
       "    .dataframe tbody tr th:only-of-type {\n",
       "        vertical-align: middle;\n",
       "    }\n",
       "\n",
       "    .dataframe tbody tr th {\n",
       "        vertical-align: top;\n",
       "    }\n",
       "\n",
       "    .dataframe thead th {\n",
       "        text-align: right;\n",
       "    }\n",
       "</style>\n",
       "<table border=\"1\" class=\"dataframe\">\n",
       "  <thead>\n",
       "    <tr style=\"text-align: right;\">\n",
       "      <th></th>\n",
       "      <th>id</th>\n",
       "      <th>age</th>\n",
       "      <th>gender</th>\n",
       "      <th>height</th>\n",
       "      <th>weight</th>\n",
       "      <th>ap_hi</th>\n",
       "      <th>ap_lo</th>\n",
       "      <th>cholesterol</th>\n",
       "      <th>gluc</th>\n",
       "      <th>smoke</th>\n",
       "      <th>alco</th>\n",
       "      <th>active</th>\n",
       "      <th>cardio</th>\n",
       "    </tr>\n",
       "  </thead>\n",
       "  <tbody>\n",
       "    <tr>\n",
       "      <th>0</th>\n",
       "      <td>0</td>\n",
       "      <td>18393</td>\n",
       "      <td>2</td>\n",
       "      <td>168</td>\n",
       "      <td>62.0</td>\n",
       "      <td>110</td>\n",
       "      <td>80</td>\n",
       "      <td>1</td>\n",
       "      <td>1</td>\n",
       "      <td>0</td>\n",
       "      <td>0</td>\n",
       "      <td>1</td>\n",
       "      <td>0</td>\n",
       "    </tr>\n",
       "    <tr>\n",
       "      <th>1</th>\n",
       "      <td>1</td>\n",
       "      <td>20228</td>\n",
       "      <td>1</td>\n",
       "      <td>156</td>\n",
       "      <td>85.0</td>\n",
       "      <td>140</td>\n",
       "      <td>90</td>\n",
       "      <td>3</td>\n",
       "      <td>1</td>\n",
       "      <td>0</td>\n",
       "      <td>0</td>\n",
       "      <td>1</td>\n",
       "      <td>1</td>\n",
       "    </tr>\n",
       "    <tr>\n",
       "      <th>2</th>\n",
       "      <td>2</td>\n",
       "      <td>18857</td>\n",
       "      <td>1</td>\n",
       "      <td>165</td>\n",
       "      <td>64.0</td>\n",
       "      <td>130</td>\n",
       "      <td>70</td>\n",
       "      <td>3</td>\n",
       "      <td>1</td>\n",
       "      <td>0</td>\n",
       "      <td>0</td>\n",
       "      <td>0</td>\n",
       "      <td>1</td>\n",
       "    </tr>\n",
       "    <tr>\n",
       "      <th>3</th>\n",
       "      <td>3</td>\n",
       "      <td>17623</td>\n",
       "      <td>2</td>\n",
       "      <td>169</td>\n",
       "      <td>82.0</td>\n",
       "      <td>150</td>\n",
       "      <td>100</td>\n",
       "      <td>1</td>\n",
       "      <td>1</td>\n",
       "      <td>0</td>\n",
       "      <td>0</td>\n",
       "      <td>1</td>\n",
       "      <td>1</td>\n",
       "    </tr>\n",
       "    <tr>\n",
       "      <th>4</th>\n",
       "      <td>4</td>\n",
       "      <td>17474</td>\n",
       "      <td>1</td>\n",
       "      <td>156</td>\n",
       "      <td>56.0</td>\n",
       "      <td>100</td>\n",
       "      <td>60</td>\n",
       "      <td>1</td>\n",
       "      <td>1</td>\n",
       "      <td>0</td>\n",
       "      <td>0</td>\n",
       "      <td>0</td>\n",
       "      <td>0</td>\n",
       "    </tr>\n",
       "  </tbody>\n",
       "</table>\n",
       "</div>"
      ],
      "text/plain": [
       "   id    age  gender  height  weight  ap_hi  ap_lo  cholesterol  gluc  smoke  \\\n",
       "0   0  18393       2     168    62.0    110     80            1     1      0   \n",
       "1   1  20228       1     156    85.0    140     90            3     1      0   \n",
       "2   2  18857       1     165    64.0    130     70            3     1      0   \n",
       "3   3  17623       2     169    82.0    150    100            1     1      0   \n",
       "4   4  17474       1     156    56.0    100     60            1     1      0   \n",
       "\n",
       "   alco  active  cardio  \n",
       "0     0       1       0  \n",
       "1     0       1       1  \n",
       "2     0       0       1  \n",
       "3     0       1       1  \n",
       "4     0       0       0  "
      ]
     },
     "execution_count": 7,
     "metadata": {},
     "output_type": "execute_result"
    }
   ],
   "source": [
    "url = \"https://raw.githubusercontent.com/caravanuden/cardio/master/cardio_train.csv\"\n",
    "df = pd.read_csv(url, sep=';')\n",
    "df.head()"
   ]
  },
  {
   "cell_type": "code",
   "execution_count": 8,
   "id": "ae4fa04e",
   "metadata": {},
   "outputs": [
    {
     "data": {
      "text/plain": [
       "(52500, 17500)"
      ]
     },
     "execution_count": 8,
     "metadata": {},
     "output_type": "execute_result"
    }
   ],
   "source": [
    "X = df.drop('cardio', axis=1)\n",
    "y = df.cardio\n",
    "X_train, X_test, y_train, y_test = train_test_split(X, y, random_state=20221013, test_size=0.25)\n",
    "X_train.shape[0], X_test.shape[0]"
   ]
  },
  {
   "cell_type": "code",
   "execution_count": 9,
   "id": "e24814ce",
   "metadata": {},
   "outputs": [],
   "source": [
    "model = RandomForestClassifier(n_estimators=15, random_state=20221013)\n",
    "model.fit(X_train, y_train);"
   ]
  },
  {
   "cell_type": "code",
   "execution_count": 10,
   "id": "96d4a76f",
   "metadata": {},
   "outputs": [
    {
     "name": "stdout",
     "output_type": "stream",
     "text": [
      "RF Accuracy: 0.7070857142857143\n"
     ]
    }
   ],
   "source": [
    "h = model.predict(X_test)\n",
    "print(f\"RF Accuracy: {(h == y_test).mean()}\")"
   ]
  },
  {
   "cell_type": "code",
   "execution_count": 11,
   "id": "9c862e24",
   "metadata": {},
   "outputs": [
    {
     "name": "stdout",
     "output_type": "stream",
     "text": [
      "Constant Accuracy: 0.5010857142857142\n"
     ]
    }
   ],
   "source": [
    "# https://scikit-learn.org/stable/modules/generated/sklearn.dummy.DummyClassifier.html\n",
    "model_dummy = DummyClassifier(strategy=\"constant\", constant=1)\n",
    "model_dummy.fit(X_train, y_train)\n",
    "h_dummy = model_dummy.predict(X_test)\n",
    "print(f\"Constant Accuracy: {(h_dummy == y_test).mean()}\")"
   ]
  },
  {
   "cell_type": "code",
   "execution_count": 12,
   "id": "86892cfd",
   "metadata": {},
   "outputs": [
    {
     "name": "stdout",
     "output_type": "stream",
     "text": [
      "Random Accuracy: 0.5130285714285714\n"
     ]
    }
   ],
   "source": [
    "model_random = DummyClassifier(strategy=\"uniform\", random_state=78)\n",
    "model_random.fit(X_train, y_train)\n",
    "h_random = model_random.predict(X_test)\n",
    "print(f\"Random Accuracy: {(h_random == y_test).mean()}\")"
   ]
  },
  {
   "cell_type": "code",
   "execution_count": 13,
   "id": "7ab5bd20",
   "metadata": {},
   "outputs": [],
   "source": [
    "def simple_rule(d):\n",
    "    return (d.age >= 365*55)"
   ]
  },
  {
   "cell_type": "code",
   "execution_count": 14,
   "id": "3b91fe75",
   "metadata": {},
   "outputs": [
    {
     "name": "stdout",
     "output_type": "stream",
     "text": [
      "Simple Rule Accuracy: 0.5958857142857142\n"
     ]
    }
   ],
   "source": [
    "h_simple = simple_rule(X_test)\n",
    "print(f\"Simple Rule Accuracy: {(h_simple == y_test).mean()}\")"
   ]
  },
  {
   "cell_type": "code",
   "execution_count": 15,
   "id": "be1394fe",
   "metadata": {},
   "outputs": [],
   "source": [
    "model2 = CatBoostClassifier(random_state=20221013, verbose = 0)\n",
    "model2.fit(X_train, y_train);"
   ]
  },
  {
   "cell_type": "code",
   "execution_count": 16,
   "id": "00d90e16",
   "metadata": {},
   "outputs": [
    {
     "name": "stdout",
     "output_type": "stream",
     "text": [
      "CatBoost Accuracy: 0.7346285714285714\n"
     ]
    }
   ],
   "source": [
    "h_catboost = model2.predict(X_test)\n",
    "print(f\"CatBoost Accuracy: {(h_catboost == y_test).mean()}\")"
   ]
  },
  {
   "cell_type": "code",
   "execution_count": 17,
   "id": "450ec505",
   "metadata": {},
   "outputs": [
    {
     "name": "stdout",
     "output_type": "stream",
     "text": [
      "RF_Target drift: 0.07754285714285719\n"
     ]
    }
   ],
   "source": [
    "# Давайте сделаем всех старше на 5 лет\n",
    "X_aged = X_test.assign(age = lambda x: x.age + 365*5)\n",
    "h_aged = model.predict(X_aged)\n",
    "print(f\"RF_Target drift: {h_aged.mean() - h.mean()}\")"
   ]
  },
  {
   "cell_type": "code",
   "execution_count": 18,
   "id": "1edcfc47",
   "metadata": {},
   "outputs": [
    {
     "name": "stdout",
     "output_type": "stream",
     "text": [
      "CB_Target drift: 0.07211428571428574\n"
     ]
    }
   ],
   "source": [
    "h_aged2 = model2.predict(X_aged)\n",
    "print(f\"CB_Target drift: {h_aged2.mean() - h.mean()}\")"
   ]
  },
  {
   "cell_type": "code",
   "execution_count": 19,
   "id": "50da3e7d",
   "metadata": {},
   "outputs": [
    {
     "name": "stdout",
     "output_type": "stream",
     "text": [
      "Simple Rule Target Drift: 0.2503428571428571\n"
     ]
    }
   ],
   "source": [
    "h_simple_aged = simple_rule(X_aged)\n",
    "print(f\"Simple Rule Target Drift: {h_simple_aged.mean() - h_simple.mean()}\")"
   ]
  },
  {
   "cell_type": "code",
   "execution_count": 20,
   "id": "4a7050e1",
   "metadata": {},
   "outputs": [
    {
     "name": "stdout",
     "output_type": "stream",
     "text": [
      "Dummy Target Drift: 0.0\n"
     ]
    }
   ],
   "source": [
    "h_dummy_aged = model_dummy.predict(X_aged)\n",
    "print(f\"Dummy Target Drift: {h_dummy_aged.mean() - h_dummy.mean()}\")"
   ]
  },
  {
   "cell_type": "code",
   "execution_count": 21,
   "id": "c432da1b",
   "metadata": {},
   "outputs": [],
   "source": [
    "idx_man = (X_test.gender == 2)"
   ]
  },
  {
   "cell_type": "code",
   "execution_count": 22,
   "id": "1112ba93",
   "metadata": {},
   "outputs": [],
   "source": [
    "def slice_accuracy(h, y, idx):\n",
    "    acc = dict()\n",
    "    for lbl in np.unique(idx):\n",
    "        acc[lbl] =  (h[idx == lbl] == y[idx == lbl]).mean() - (h[idx != lbl] == y[idx != lbl]).mean()\n",
    "    return acc\n",
    "    "
   ]
  },
  {
   "cell_type": "code",
   "execution_count": 23,
   "id": "9f34f74d",
   "metadata": {},
   "outputs": [
    {
     "data": {
      "text/plain": [
       "{False: 0.0017739203519019364, True: -0.0017739203519019364}"
      ]
     },
     "execution_count": 23,
     "metadata": {},
     "output_type": "execute_result"
    }
   ],
   "source": [
    "# Точность RF модели для женщин выше на 0,17%\n",
    "slice_accuracy(h, y_test, idx_man)"
   ]
  },
  {
   "cell_type": "code",
   "execution_count": 24,
   "id": "a74c63bc",
   "metadata": {},
   "outputs": [
    {
     "data": {
      "text/plain": [
       "{False: 0.005326591335765629, True: -0.005326591335765629}"
      ]
     },
     "execution_count": 24,
     "metadata": {},
     "output_type": "execute_result"
    }
   ],
   "source": [
    "# Точность CB модели для женщин выше на 0,53%\n",
    "slice_accuracy(h_catboost, y_test, idx_man)"
   ]
  },
  {
   "cell_type": "code",
   "execution_count": 25,
   "id": "6e5288d3",
   "metadata": {},
   "outputs": [],
   "source": [
    "scaled_X_test = preprocessing.StandardScaler().fit_transform(X_test)"
   ]
  },
  {
   "cell_type": "code",
   "execution_count": 26,
   "id": "29e269fa",
   "metadata": {},
   "outputs": [],
   "source": [
    "kmeans = KMeans(n_clusters=4, random_state=20221013).fit(scaled_X_test)"
   ]
  },
  {
   "cell_type": "code",
   "execution_count": 27,
   "id": "7b001cda",
   "metadata": {},
   "outputs": [
    {
     "data": {
      "text/plain": [
       "{0: 0.008310089084933359,\n",
       " 1: -0.010667841868729488,\n",
       " 2: 0.07161491099566786,\n",
       " 3: -0.00942936433783892}"
      ]
     },
     "execution_count": 27,
     "metadata": {},
     "output_type": "execute_result"
    }
   ],
   "source": [
    "# Для uheggs 2 RF-модель работает хуже на 7%\n",
    "slice_accuracy(h, y_test, kmeans.labels_)"
   ]
  },
  {
   "cell_type": "code",
   "execution_count": 28,
   "id": "6d5e50b1",
   "metadata": {},
   "outputs": [
    {
     "data": {
      "text/html": [
       "<div>\n",
       "<style scoped>\n",
       "    .dataframe tbody tr th:only-of-type {\n",
       "        vertical-align: middle;\n",
       "    }\n",
       "\n",
       "    .dataframe tbody tr th {\n",
       "        vertical-align: top;\n",
       "    }\n",
       "\n",
       "    .dataframe thead th {\n",
       "        text-align: right;\n",
       "    }\n",
       "</style>\n",
       "<table border=\"1\" class=\"dataframe\">\n",
       "  <thead>\n",
       "    <tr style=\"text-align: right;\">\n",
       "      <th></th>\n",
       "      <th>id</th>\n",
       "      <th>age</th>\n",
       "      <th>gender</th>\n",
       "      <th>height</th>\n",
       "      <th>weight</th>\n",
       "      <th>ap_hi</th>\n",
       "      <th>ap_lo</th>\n",
       "      <th>cholesterol</th>\n",
       "      <th>gluc</th>\n",
       "      <th>smoke</th>\n",
       "      <th>alco</th>\n",
       "      <th>active</th>\n",
       "    </tr>\n",
       "  </thead>\n",
       "  <tbody>\n",
       "    <tr>\n",
       "      <th>17587</th>\n",
       "      <td>25120</td>\n",
       "      <td>19030</td>\n",
       "      <td>2</td>\n",
       "      <td>170</td>\n",
       "      <td>76.0</td>\n",
       "      <td>120</td>\n",
       "      <td>70</td>\n",
       "      <td>1</td>\n",
       "      <td>1</td>\n",
       "      <td>1</td>\n",
       "      <td>1</td>\n",
       "      <td>1</td>\n",
       "    </tr>\n",
       "    <tr>\n",
       "      <th>7197</th>\n",
       "      <td>10253</td>\n",
       "      <td>18253</td>\n",
       "      <td>2</td>\n",
       "      <td>175</td>\n",
       "      <td>71.0</td>\n",
       "      <td>130</td>\n",
       "      <td>80</td>\n",
       "      <td>1</td>\n",
       "      <td>1</td>\n",
       "      <td>0</td>\n",
       "      <td>1</td>\n",
       "      <td>1</td>\n",
       "    </tr>\n",
       "    <tr>\n",
       "      <th>15540</th>\n",
       "      <td>22207</td>\n",
       "      <td>23356</td>\n",
       "      <td>2</td>\n",
       "      <td>179</td>\n",
       "      <td>63.0</td>\n",
       "      <td>110</td>\n",
       "      <td>80</td>\n",
       "      <td>2</td>\n",
       "      <td>2</td>\n",
       "      <td>1</td>\n",
       "      <td>1</td>\n",
       "      <td>1</td>\n",
       "    </tr>\n",
       "    <tr>\n",
       "      <th>158</th>\n",
       "      <td>213</td>\n",
       "      <td>16028</td>\n",
       "      <td>1</td>\n",
       "      <td>157</td>\n",
       "      <td>69.0</td>\n",
       "      <td>120</td>\n",
       "      <td>80</td>\n",
       "      <td>1</td>\n",
       "      <td>1</td>\n",
       "      <td>0</td>\n",
       "      <td>1</td>\n",
       "      <td>1</td>\n",
       "    </tr>\n",
       "    <tr>\n",
       "      <th>38430</th>\n",
       "      <td>54868</td>\n",
       "      <td>19137</td>\n",
       "      <td>1</td>\n",
       "      <td>160</td>\n",
       "      <td>70.0</td>\n",
       "      <td>130</td>\n",
       "      <td>90</td>\n",
       "      <td>1</td>\n",
       "      <td>1</td>\n",
       "      <td>1</td>\n",
       "      <td>1</td>\n",
       "      <td>1</td>\n",
       "    </tr>\n",
       "    <tr>\n",
       "      <th>...</th>\n",
       "      <td>...</td>\n",
       "      <td>...</td>\n",
       "      <td>...</td>\n",
       "      <td>...</td>\n",
       "      <td>...</td>\n",
       "      <td>...</td>\n",
       "      <td>...</td>\n",
       "      <td>...</td>\n",
       "      <td>...</td>\n",
       "      <td>...</td>\n",
       "      <td>...</td>\n",
       "      <td>...</td>\n",
       "    </tr>\n",
       "    <tr>\n",
       "      <th>56100</th>\n",
       "      <td>80040</td>\n",
       "      <td>21979</td>\n",
       "      <td>2</td>\n",
       "      <td>169</td>\n",
       "      <td>68.0</td>\n",
       "      <td>120</td>\n",
       "      <td>80</td>\n",
       "      <td>1</td>\n",
       "      <td>3</td>\n",
       "      <td>0</td>\n",
       "      <td>1</td>\n",
       "      <td>1</td>\n",
       "    </tr>\n",
       "    <tr>\n",
       "      <th>28183</th>\n",
       "      <td>40288</td>\n",
       "      <td>21628</td>\n",
       "      <td>2</td>\n",
       "      <td>181</td>\n",
       "      <td>100.0</td>\n",
       "      <td>125</td>\n",
       "      <td>70</td>\n",
       "      <td>1</td>\n",
       "      <td>1</td>\n",
       "      <td>0</td>\n",
       "      <td>1</td>\n",
       "      <td>1</td>\n",
       "    </tr>\n",
       "    <tr>\n",
       "      <th>22359</th>\n",
       "      <td>31939</td>\n",
       "      <td>20547</td>\n",
       "      <td>2</td>\n",
       "      <td>170</td>\n",
       "      <td>86.0</td>\n",
       "      <td>120</td>\n",
       "      <td>80</td>\n",
       "      <td>1</td>\n",
       "      <td>1</td>\n",
       "      <td>0</td>\n",
       "      <td>1</td>\n",
       "      <td>1</td>\n",
       "    </tr>\n",
       "    <tr>\n",
       "      <th>40784</th>\n",
       "      <td>58279</td>\n",
       "      <td>16721</td>\n",
       "      <td>1</td>\n",
       "      <td>165</td>\n",
       "      <td>94.0</td>\n",
       "      <td>120</td>\n",
       "      <td>60</td>\n",
       "      <td>1</td>\n",
       "      <td>1</td>\n",
       "      <td>0</td>\n",
       "      <td>1</td>\n",
       "      <td>1</td>\n",
       "    </tr>\n",
       "    <tr>\n",
       "      <th>58293</th>\n",
       "      <td>83179</td>\n",
       "      <td>20426</td>\n",
       "      <td>2</td>\n",
       "      <td>160</td>\n",
       "      <td>62.0</td>\n",
       "      <td>120</td>\n",
       "      <td>80</td>\n",
       "      <td>1</td>\n",
       "      <td>1</td>\n",
       "      <td>1</td>\n",
       "      <td>1</td>\n",
       "      <td>1</td>\n",
       "    </tr>\n",
       "  </tbody>\n",
       "</table>\n",
       "<p>911 rows × 12 columns</p>\n",
       "</div>"
      ],
      "text/plain": [
       "          id    age  gender  height  weight  ap_hi  ap_lo  cholesterol  gluc  \\\n",
       "17587  25120  19030       2     170    76.0    120     70            1     1   \n",
       "7197   10253  18253       2     175    71.0    130     80            1     1   \n",
       "15540  22207  23356       2     179    63.0    110     80            2     2   \n",
       "158      213  16028       1     157    69.0    120     80            1     1   \n",
       "38430  54868  19137       1     160    70.0    130     90            1     1   \n",
       "...      ...    ...     ...     ...     ...    ...    ...          ...   ...   \n",
       "56100  80040  21979       2     169    68.0    120     80            1     3   \n",
       "28183  40288  21628       2     181   100.0    125     70            1     1   \n",
       "22359  31939  20547       2     170    86.0    120     80            1     1   \n",
       "40784  58279  16721       1     165    94.0    120     60            1     1   \n",
       "58293  83179  20426       2     160    62.0    120     80            1     1   \n",
       "\n",
       "       smoke  alco  active  \n",
       "17587      1     1       1  \n",
       "7197       0     1       1  \n",
       "15540      1     1       1  \n",
       "158        0     1       1  \n",
       "38430      1     1       1  \n",
       "...      ...   ...     ...  \n",
       "56100      0     1       1  \n",
       "28183      0     1       1  \n",
       "22359      0     1       1  \n",
       "40784      0     1       1  \n",
       "58293      1     1       1  \n",
       "\n",
       "[911 rows x 12 columns]"
      ]
     },
     "execution_count": 28,
     "metadata": {},
     "output_type": "execute_result"
    }
   ],
   "source": [
    "# Похоже, это те, кто пьет алкоголь\n",
    "X_test.loc[kmeans.labels_ == 2]"
   ]
  },
  {
   "cell_type": "code",
   "execution_count": 29,
   "id": "3d15450f",
   "metadata": {},
   "outputs": [
    {
     "data": {
      "text/plain": [
       "{0: 0.008898763189759573,\n",
       " 1: -0.011082390186475943,\n",
       " 2: 0.04834939158961549,\n",
       " 3: -0.004774455087559137}"
      ]
     },
     "execution_count": 29,
     "metadata": {},
     "output_type": "execute_result"
    }
   ],
   "source": [
    "# Для тех, кто пьет алкоголь, CB-модель работает хуже на 4.8%\n",
    "slice_accuracy(h_catboost, y_test, kmeans.labels_)"
   ]
  },
  {
   "cell_type": "code",
   "execution_count": null,
   "id": "378c1c13",
   "metadata": {},
   "outputs": [],
   "source": []
  }
 ],
 "metadata": {
  "kernelspec": {
   "display_name": "kernell39",
   "language": "python",
   "name": "kernell39"
  },
  "language_info": {
   "codemirror_mode": {
    "name": "ipython",
    "version": 3
   },
   "file_extension": ".py",
   "mimetype": "text/x-python",
   "name": "python",
   "nbconvert_exporter": "python",
   "pygments_lexer": "ipython3",
   "version": "3.9.6"
  },
  "varInspector": {
   "cols": {
    "lenName": 16,
    "lenType": 16,
    "lenVar": 40
   },
   "kernels_config": {
    "python": {
     "delete_cmd_postfix": "",
     "delete_cmd_prefix": "del ",
     "library": "var_list.py",
     "varRefreshCmd": "print(var_dic_list())"
    },
    "r": {
     "delete_cmd_postfix": ") ",
     "delete_cmd_prefix": "rm(",
     "library": "var_list.r",
     "varRefreshCmd": "cat(var_dic_list()) "
    }
   },
   "types_to_exclude": [
    "module",
    "function",
    "builtin_function_or_method",
    "instance",
    "_Feature"
   ],
   "window_display": false
  }
 },
 "nbformat": 4,
 "nbformat_minor": 5
}
